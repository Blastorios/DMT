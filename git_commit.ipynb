{
  "cells": [
    {
      "cell_type": "markdown",
      "source": "## Commit Our Work Externally",
      "metadata": {
        "tags": [],
        "cell_id": "00000-6c7b9654-8416-4911-a841-0d870329db6b",
        "deepnote_cell_type": "markdown"
      }
    },
    {
      "cell_type": "code",
      "metadata": {
        "tags": [],
        "cell_id": "00000-fd6ca216-0557-426a-a9ac-2eabb951c48f",
        "deepnote_to_be_reexecuted": true,
        "source_hash": "f959fda0",
        "execution_millis": 2886,
        "deepnote_cell_type": "code"
      },
      "source": "!git add .",
      "execution_count": null,
      "outputs": []
    },
    {
      "cell_type": "code",
      "metadata": {
        "tags": [],
        "cell_id": "00002-5b0f7dce-0e21-42bd-8638-d2274818ba9f",
        "deepnote_to_be_reexecuted": true,
        "source_hash": "58e79ca",
        "execution_millis": 2177,
        "deepnote_cell_type": "code"
      },
      "source": "# This is not mandatory to run but a simple sanity check :)\n\n# (p.s. MAKE SURE YOU DO NOT STAGE ANY FILES OVER 100MB :))))\n\n!git status",
      "execution_count": null,
      "outputs": [
        {
          "name": "stdout",
          "text": "On branch main\r\nYour branch is up to date with 'origin/main'.\r\n\r\nChanges to be committed:\r\n  (use \"git reset HEAD <file>...\" to unstage)\r\n\r\n\t\u001b[32mmodified:   git_commit.ipynb\u001b[m\r\n\t\u001b[32mmodified:   src/ARIMA.ipynb\u001b[m\r\n\t\u001b[32mmodified:   src/GradientBoosting.ipynb\u001b[m\r\n\t\u001b[32mmodified:   src/SupportVectorRegressor.ipynb\u001b[m\r\n\t\u001b[32mmodified:   src/catboost_info/catboost_training.json\u001b[m\r\n\t\u001b[32mmodified:   src/catboost_info/learn/events.out.tfevents\u001b[m\r\n\t\u001b[32mmodified:   src/catboost_info/learn_error.tsv\u001b[m\r\n\t\u001b[32mmodified:   src/catboost_info/test/events.out.tfevents\u001b[m\r\n\t\u001b[32mmodified:   src/catboost_info/test_error.tsv\u001b[m\r\n\t\u001b[32mmodified:   src/catboost_info/time_left.tsv\u001b[m\r\n\t\u001b[32mnew file:   src/catboost_info/tmp/cat_feature_index.ddde938b-54892242-685ea4fb-88fbf473.tmp\u001b[m\r\n\r\nChanges not staged for commit:\r\n  (use \"git add <file>...\" to update what will be committed)\r\n  (use \"git checkout -- <file>...\" to discard changes in working directory)\r\n\r\n\t\u001b[31mmodified:   git_commit.ipynb\u001b[m\r\n\r\n",
          "output_type": "stream"
        }
      ]
    },
    {
      "cell_type": "code",
      "metadata": {
        "tags": [],
        "cell_id": "00003-4ac48191-36bd-4d79-8230-3285a39eb7ee",
        "deepnote_to_be_reexecuted": true,
        "source_hash": "a145ae5c",
        "execution_millis": 8631,
        "deepnote_cell_type": "code"
      },
      "source": "# Required after the Hardware has been shut-down by DeepNote (aka after every session of coding)\n!git config --global user.email \"jordi.zwiggelaar@hotmail.com\"\n!git config --global user.name \"Blastorios\"",
      "execution_count": null,
      "outputs": []
    },
    {
      "cell_type": "code",
      "metadata": {
        "tags": [],
        "cell_id": "00004-ffc7fb60-72d0-4130-bc84-61791c180862",
        "deepnote_to_be_reexecuted": true,
        "source_hash": "1dc0500a",
        "execution_millis": 4911,
        "deepnote_cell_type": "code"
      },
      "source": "# The actual commitment of your changes! Ensure you run this cell after \"git add .\"\n# You can change this message to whatever you like! \n# (for as long as you remember what change it represents :3)\n\n!git commit -m \"Performed ARIMA and CatBoost\" ",
      "execution_count": null,
      "outputs": [
        {
          "name": "stdout",
          "text": "[main 37faee6] Updated Model Target\n 11 files changed, 6147 insertions(+), 9660 deletions(-)\n rewrite src/ARIMA.ipynb (82%)\n rewrite src/catboost_info/catboost_training.json (99%)\n rewrite src/catboost_info/learn/events.out.tfevents (100%)\n rewrite src/catboost_info/learn_error.tsv (100%)\n rewrite src/catboost_info/test/events.out.tfevents (100%)\n rewrite src/catboost_info/test_error.tsv (100%)\n rewrite src/catboost_info/time_left.tsv (99%)\n create mode 100644 src/catboost_info/tmp/cat_feature_index.ddde938b-54892242-685ea4fb-88fbf473.tmp\n",
          "output_type": "stream"
        }
      ]
    },
    {
      "cell_type": "code",
      "metadata": {
        "tags": [],
        "cell_id": "00005-b1ae6037-7a20-4cb4-ada5-b09886596a24",
        "deepnote_to_be_reexecuted": true,
        "source_hash": "f1cccf1d",
        "execution_millis": 10121,
        "deepnote_cell_type": "code"
      },
      "source": "# \"Push\" the changes to an external repo where the code will live... forever... :D\n!git push",
      "execution_count": null,
      "outputs": [
        {
          "name": "stdout",
          "text": "Enumerating objects: 32, done.\nCounting objects: 100% (32/32), done.\nDelta compression using up to 4 threads\nCompressing objects: 100% (12/12), done.\nWriting objects: 100% (18/18), 632.78 KiB | 811.00 KiB/s, done.\nTotal 18 (delta 5), reused 0 (delta 0)\nremote: Resolving deltas: 100% (5/5), completed with 5 local objects.\u001b[K\nTo https://github.com/Blastorios/DMT.git\n   8b725b4..37faee6  main -> main\n",
          "output_type": "stream"
        }
      ]
    },
    {
      "cell_type": "code",
      "metadata": {
        "tags": [],
        "cell_id": "00006-a8a8210d-2a01-4172-ae6c-ef3879f27360",
        "deepnote_to_be_reexecuted": true,
        "source_hash": "d42bce8c",
        "execution_millis": 6,
        "deepnote_cell_type": "code"
      },
      "source": "# If something fails:\n# !git reset <file name>",
      "execution_count": null,
      "outputs": []
    },
    {
      "cell_type": "markdown",
      "source": "<a style='text-decoration:none;line-height:16px;display:flex;color:#5B5B62;padding:10px;justify-content:end;' href='https://deepnote.com?utm_source=created-in-deepnote-cell&projectId=d79defa5-2359-4699-82dc-d6bf5eddd7a7' target=\"_blank\">\n<img alt='Created in deepnote.com' style='display:inline;max-height:16px;margin:0px;margin-right:7.5px;' src='data:image/svg+xml;base64,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' > </img>\nCreated in <span style='font-weight:600;margin-left:4px;'>Deepnote</span></a>",
      "metadata": {
        "tags": [],
        "created_in_deepnote_cell": true,
        "deepnote_cell_type": "markdown"
      }
    }
  ],
  "nbformat": 4,
  "nbformat_minor": 2,
  "metadata": {
    "orig_nbformat": 2,
    "deepnote": {
      "is_reactive": false
    },
    "deepnote_notebook_id": "9c6635f3-96b8-4998-8727-9d87da466d0e",
    "deepnote_execution_queue": [
      {
        "cellId": "00000-fd6ca216-0557-426a-a9ac-2eabb951c48f",
        "sessionId": "7f6255d6-e1e3-4591-bf6b-c089bfbf71e0",
        "msgId": "0261ed5d-3403-4f8a-bb11-724711b4638e"
      },
      {
        "cellId": "00002-5b0f7dce-0e21-42bd-8638-d2274818ba9f",
        "sessionId": "7f6255d6-e1e3-4591-bf6b-c089bfbf71e0",
        "msgId": "86a302fa-020e-4a78-ab7f-e03f479d0f76"
      },
      {
        "cellId": "00003-4ac48191-36bd-4d79-8230-3285a39eb7ee",
        "sessionId": "7f6255d6-e1e3-4591-bf6b-c089bfbf71e0",
        "msgId": "b677a90d-b26c-4697-828e-df5bcf8ff008"
      },
      {
        "cellId": "00004-ffc7fb60-72d0-4130-bc84-61791c180862",
        "sessionId": "7f6255d6-e1e3-4591-bf6b-c089bfbf71e0",
        "msgId": "b7477772-a643-44cc-a288-70c792517d8a"
      },
      {
        "cellId": "00005-b1ae6037-7a20-4cb4-ada5-b09886596a24",
        "sessionId": "7f6255d6-e1e3-4591-bf6b-c089bfbf71e0",
        "msgId": "f78111e5-d32d-4824-9a43-1a4e317c805e"
      },
      {
        "cellId": "00006-a8a8210d-2a01-4172-ae6c-ef3879f27360",
        "sessionId": "7f6255d6-e1e3-4591-bf6b-c089bfbf71e0",
        "msgId": "fb15d9be-5fc8-46cf-b70e-57d2a55039c6"
      }
    ]
  }
}