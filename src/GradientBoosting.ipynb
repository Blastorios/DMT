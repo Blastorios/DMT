{
  "cells": [
    {
      "cell_type": "markdown",
      "source": "# Gradient Boosting using CatBoost",
      "metadata": {
        "tags": [],
        "cell_id": "00000-4b490f8d-14f9-47e5-a436-f0c0650caeb3",
        "deepnote_cell_type": "markdown"
      }
    },
    {
      "cell_type": "markdown",
      "source": "This is a propriatory setup for the coming gradient boosting. After we finished the preprocessing, this might be a very powerfull step to create a predictor!",
      "metadata": {
        "tags": [],
        "cell_id": "00001-987c6ec3-39a1-4091-a626-b046f72bc47b",
        "deepnote_cell_type": "markdown"
      }
    },
    {
      "cell_type": "code",
      "metadata": {
        "tags": [],
        "cell_id": "00002-c4191785-1a15-4cb9-bb35-cfe5b009b712",
        "deepnote_to_be_reexecuted": false,
        "source_hash": "82ae9310",
        "execution_millis": 0,
        "execution_start": 1618223113066,
        "deepnote_cell_type": "code"
      },
      "source": "from typing import (\n    List,\n    Dict,\n    Any,\n    Union,\n)",
      "execution_count": 25,
      "outputs": []
    },
    {
      "cell_type": "code",
      "metadata": {
        "tags": [],
        "cell_id": "00003-b32d46cc-df3f-4f77-90b1-f1b2c2f123be",
        "deepnote_to_be_reexecuted": false,
        "source_hash": "9f793134",
        "execution_millis": 3,
        "execution_start": 1618223114523,
        "deepnote_cell_type": "code"
      },
      "source": "import numpy as np\nimport pandas as pd\nimport sklearn as sk\nimport catboost as cb",
      "execution_count": 26,
      "outputs": []
    },
    {
      "cell_type": "markdown",
      "source": "### Get Data Ready for the Model",
      "metadata": {
        "tags": [],
        "cell_id": "00004-7092f7f7-c44f-4187-8d7d-0d2ca3b16ffa",
        "deepnote_cell_type": "markdown"
      }
    },
    {
      "cell_type": "code",
      "metadata": {
        "tags": [],
        "cell_id": "00004-e053bf70-be5f-4079-bc5b-df3c7249ef71",
        "deepnote_to_be_reexecuted": false,
        "source_hash": "ed5fa0b5",
        "execution_millis": 22,
        "execution_start": 1618223193921,
        "deepnote_cell_type": "code"
      },
      "source": "df = (pd\n    .read_csv(\"./data/new_data_no_missingvalues.csv\")\n    .drop(columns=[\"Unnamed: 0\", \"id\", \"unique_id\", \"date\"])\n    .drop(columns=[\"total_calls\", \"total_sms\", \"average_com\", \"average_soc\", \"average_finance\", \"average_entertainment\"]) # Might change overtime\n)",
      "execution_count": 32,
      "outputs": []
    },
    {
      "cell_type": "code",
      "metadata": {
        "tags": [],
        "cell_id": "00004-7db5f456-96b1-4df1-9834-faa9b45c1218",
        "deepnote_to_be_reexecuted": false,
        "source_hash": "f804c160",
        "execution_millis": 211,
        "execution_start": 1618223195324,
        "deepnote_cell_type": "code"
      },
      "source": "df",
      "execution_count": 33,
      "outputs": [
        {
          "output_type": "execute_result",
          "execution_count": 33,
          "data": {
            "application/vnd.deepnote.dataframe.v2+json": {
              "row_count": 1215,
              "column_count": 6,
              "columns": [
                {
                  "name": "average_mood",
                  "dtype": "float64",
                  "stats": {
                    "unique_count": 71,
                    "nan_count": 0,
                    "min": 3,
                    "max": 9.333333333333334,
                    "histogram": [
                      {
                        "bin_start": 3,
                        "bin_end": 3.6333333333333333,
                        "count": 4
                      },
                      {
                        "bin_start": 3.6333333333333333,
                        "bin_end": 4.266666666666667,
                        "count": 3
                      },
                      {
                        "bin_start": 4.266666666666667,
                        "bin_end": 4.9,
                        "count": 6
                      },
                      {
                        "bin_start": 4.9,
                        "bin_end": 5.533333333333333,
                        "count": 26
                      },
                      {
                        "bin_start": 5.533333333333333,
                        "bin_end": 6.166666666666667,
                        "count": 83
                      },
                      {
                        "bin_start": 6.166666666666667,
                        "bin_end": 6.800000000000001,
                        "count": 349
                      },
                      {
                        "bin_start": 6.800000000000001,
                        "bin_end": 7.433333333333334,
                        "count": 432
                      },
                      {
                        "bin_start": 7.433333333333334,
                        "bin_end": 8.066666666666666,
                        "count": 269
                      },
                      {
                        "bin_start": 8.066666666666666,
                        "bin_end": 8.700000000000001,
                        "count": 38
                      },
                      {
                        "bin_start": 8.700000000000001,
                        "bin_end": 9.333333333333334,
                        "count": 5
                      }
                    ]
                  }
                },
                {
                  "name": "mood_next_day",
                  "dtype": "float64",
                  "stats": {
                    "unique_count": 71,
                    "nan_count": 0,
                    "min": 3,
                    "max": 9.333333333333334,
                    "histogram": [
                      {
                        "bin_start": 3,
                        "bin_end": 3.6333333333333333,
                        "count": 4
                      },
                      {
                        "bin_start": 3.6333333333333333,
                        "bin_end": 4.266666666666667,
                        "count": 3
                      },
                      {
                        "bin_start": 4.266666666666667,
                        "bin_end": 4.9,
                        "count": 6
                      },
                      {
                        "bin_start": 4.9,
                        "bin_end": 5.533333333333333,
                        "count": 26
                      },
                      {
                        "bin_start": 5.533333333333333,
                        "bin_end": 6.166666666666667,
                        "count": 83
                      },
                      {
                        "bin_start": 6.166666666666667,
                        "bin_end": 6.800000000000001,
                        "count": 349
                      },
                      {
                        "bin_start": 6.800000000000001,
                        "bin_end": 7.433333333333334,
                        "count": 432
                      },
                      {
                        "bin_start": 7.433333333333334,
                        "bin_end": 8.066666666666666,
                        "count": 269
                      },
                      {
                        "bin_start": 8.066666666666666,
                        "bin_end": 8.700000000000001,
                        "count": 38
                      },
                      {
                        "bin_start": 8.700000000000001,
                        "bin_end": 9.333333333333334,
                        "count": 5
                      }
                    ]
                  }
                },
                {
                  "name": "average_valence",
                  "dtype": "float64",
                  "stats": {
                    "unique_count": 44,
                    "nan_count": 0,
                    "min": -1.25,
                    "max": 2,
                    "histogram": [
                      {
                        "bin_start": -1.25,
                        "bin_end": -0.925,
                        "count": 8
                      },
                      {
                        "bin_start": -0.925,
                        "bin_end": -0.6,
                        "count": 1
                      },
                      {
                        "bin_start": -0.6,
                        "bin_end": -0.2749999999999999,
                        "count": 21
                      },
                      {
                        "bin_start": -0.2749999999999999,
                        "bin_end": 0.050000000000000044,
                        "count": 100
                      },
                      {
                        "bin_start": 0.050000000000000044,
                        "bin_end": 0.375,
                        "count": 85
                      },
                      {
                        "bin_start": 0.375,
                        "bin_end": 0.7000000000000002,
                        "count": 302
                      },
                      {
                        "bin_start": 0.7000000000000002,
                        "bin_end": 1.025,
                        "count": 609
                      },
                      {
                        "bin_start": 1.025,
                        "bin_end": 1.35,
                        "count": 51
                      },
                      {
                        "bin_start": 1.35,
                        "bin_end": 1.6750000000000003,
                        "count": 32
                      },
                      {
                        "bin_start": 1.6750000000000003,
                        "bin_end": 2,
                        "count": 6
                      }
                    ]
                  }
                },
                {
                  "name": "average_arousal",
                  "dtype": "float64",
                  "stats": {
                    "unique_count": 55,
                    "nan_count": 0,
                    "min": -2,
                    "max": 2,
                    "histogram": [
                      {
                        "bin_start": -2,
                        "bin_end": -1.6,
                        "count": 12
                      },
                      {
                        "bin_start": -1.6,
                        "bin_end": -1.2,
                        "count": 36
                      },
                      {
                        "bin_start": -1.2,
                        "bin_end": -0.7999999999999998,
                        "count": 149
                      },
                      {
                        "bin_start": -0.7999999999999998,
                        "bin_end": -0.3999999999999999,
                        "count": 206
                      },
                      {
                        "bin_start": -0.3999999999999999,
                        "bin_end": 0,
                        "count": 182
                      },
                      {
                        "bin_start": 0,
                        "bin_end": 0.40000000000000036,
                        "count": 402
                      },
                      {
                        "bin_start": 0.40000000000000036,
                        "bin_end": 0.8000000000000003,
                        "count": 145
                      },
                      {
                        "bin_start": 0.8000000000000003,
                        "bin_end": 1.2000000000000002,
                        "count": 69
                      },
                      {
                        "bin_start": 1.2000000000000002,
                        "bin_end": 1.6,
                        "count": 10
                      },
                      {
                        "bin_start": 1.6,
                        "bin_end": 2,
                        "count": 4
                      }
                    ]
                  }
                },
                {
                  "name": "average_office",
                  "dtype": "float64",
                  "stats": {
                    "unique_count": 257,
                    "nan_count": 0,
                    "min": 0,
                    "max": 1494.864,
                    "histogram": [
                      {
                        "bin_start": 0,
                        "bin_end": 149.4864,
                        "count": 1201
                      },
                      {
                        "bin_start": 149.4864,
                        "bin_end": 298.9728,
                        "count": 10
                      },
                      {
                        "bin_start": 298.9728,
                        "bin_end": 448.4592,
                        "count": 2
                      },
                      {
                        "bin_start": 448.4592,
                        "bin_end": 597.9456,
                        "count": 1
                      },
                      {
                        "bin_start": 597.9456,
                        "bin_end": 747.432,
                        "count": 0
                      },
                      {
                        "bin_start": 747.432,
                        "bin_end": 896.9184,
                        "count": 0
                      },
                      {
                        "bin_start": 896.9184,
                        "bin_end": 1046.4048,
                        "count": 0
                      },
                      {
                        "bin_start": 1046.4048,
                        "bin_end": 1195.8912,
                        "count": 0
                      },
                      {
                        "bin_start": 1195.8912,
                        "bin_end": 1345.3776,
                        "count": 0
                      },
                      {
                        "bin_start": 1345.3776,
                        "bin_end": 1494.864,
                        "count": 1
                      }
                    ]
                  }
                },
                {
                  "name": "average_game",
                  "dtype": "float64",
                  "stats": {
                    "unique_count": 178,
                    "nan_count": 0,
                    "min": 0,
                    "max": 2562.907,
                    "histogram": [
                      {
                        "bin_start": 0,
                        "bin_end": 256.2907,
                        "count": 1183
                      },
                      {
                        "bin_start": 256.2907,
                        "bin_end": 512.5814,
                        "count": 17
                      },
                      {
                        "bin_start": 512.5814,
                        "bin_end": 768.8721,
                        "count": 10
                      },
                      {
                        "bin_start": 768.8721,
                        "bin_end": 1025.1628,
                        "count": 4
                      },
                      {
                        "bin_start": 1025.1628,
                        "bin_end": 1281.4535,
                        "count": 0
                      },
                      {
                        "bin_start": 1281.4535,
                        "bin_end": 1537.7442,
                        "count": 0
                      },
                      {
                        "bin_start": 1537.7442,
                        "bin_end": 1794.0349,
                        "count": 0
                      },
                      {
                        "bin_start": 1794.0349,
                        "bin_end": 2050.3256,
                        "count": 0
                      },
                      {
                        "bin_start": 2050.3256,
                        "bin_end": 2306.6163,
                        "count": 0
                      },
                      {
                        "bin_start": 2306.6163,
                        "bin_end": 2562.907,
                        "count": 1
                      }
                    ]
                  }
                },
                {
                  "name": "_deepnote_index_column",
                  "dtype": "int64"
                }
              ],
              "rows_top": [
                {
                  "average_mood": 6.25,
                  "mood_next_day": 6.25,
                  "average_valence": 0.75,
                  "average_arousal": -0.25,
                  "average_office": 0,
                  "average_game": 0,
                  "_deepnote_index_column": 0
                },
                {
                  "average_mood": 6.25,
                  "mood_next_day": 6.4,
                  "average_valence": 0.2,
                  "average_arousal": 0.2,
                  "average_office": 57.40200000000001,
                  "average_game": 0,
                  "_deepnote_index_column": 1
                },
                {
                  "average_mood": 6.4,
                  "mood_next_day": 6.8,
                  "average_valence": 0.6986486486486487,
                  "average_arousal": 0.6,
                  "average_office": 0,
                  "average_game": 0,
                  "_deepnote_index_column": 2
                },
                {
                  "average_mood": 6.8,
                  "mood_next_day": 6,
                  "average_valence": 0.8,
                  "average_arousal": 0.2,
                  "average_office": 0,
                  "average_game": 0,
                  "_deepnote_index_column": 3
                },
                {
                  "average_mood": 6,
                  "mood_next_day": 6.75,
                  "average_valence": 0,
                  "average_arousal": 0.8,
                  "average_office": 3.01,
                  "average_game": 0,
                  "_deepnote_index_column": 4
                },
                {
                  "average_mood": 6.75,
                  "mood_next_day": 6.6,
                  "average_valence": 0.5,
                  "average_arousal": 0.5,
                  "average_office": 0,
                  "average_game": 0,
                  "_deepnote_index_column": 5
                },
                {
                  "average_mood": 6.6,
                  "mood_next_day": 7,
                  "average_valence": 0.6,
                  "average_arousal": -0.2,
                  "average_office": 0,
                  "average_game": 0,
                  "_deepnote_index_column": 6
                },
                {
                  "average_mood": 7,
                  "mood_next_day": 6.4,
                  "average_valence": 0.8,
                  "average_arousal": 0.2,
                  "average_office": 15.20425,
                  "average_game": 0,
                  "_deepnote_index_column": 7
                },
                {
                  "average_mood": 6.4,
                  "mood_next_day": 8,
                  "average_valence": 0.6,
                  "average_arousal": -0.6,
                  "average_office": 0,
                  "average_game": 116.518,
                  "_deepnote_index_column": 8
                },
                {
                  "average_mood": 8,
                  "mood_next_day": 7.5,
                  "average_valence": 1,
                  "average_arousal": 0.2,
                  "average_office": 0,
                  "average_game": 0,
                  "_deepnote_index_column": 9
                },
                {
                  "average_mood": 7.5,
                  "mood_next_day": 7.4,
                  "average_valence": 0.75,
                  "average_arousal": -0.5,
                  "average_office": 0,
                  "average_game": 0,
                  "_deepnote_index_column": 10
                },
                {
                  "average_mood": 7.4,
                  "mood_next_day": 6,
                  "average_valence": 0.6,
                  "average_arousal": 0,
                  "average_office": 0,
                  "average_game": 51.176,
                  "_deepnote_index_column": 11
                },
                {
                  "average_mood": 6,
                  "mood_next_day": 6.5,
                  "average_valence": 0,
                  "average_arousal": 0.2,
                  "average_office": 30.796000000000003,
                  "average_game": 78.247,
                  "_deepnote_index_column": 12
                },
                {
                  "average_mood": 6.5,
                  "mood_next_day": 6.4,
                  "average_valence": 0.6986486486486487,
                  "average_arousal": -0.27125,
                  "average_office": 90.481,
                  "average_game": 0,
                  "_deepnote_index_column": 13
                },
                {
                  "average_mood": 6.4,
                  "mood_next_day": 6.2,
                  "average_valence": 0,
                  "average_arousal": -1.2,
                  "average_office": 0,
                  "average_game": 0,
                  "_deepnote_index_column": 14
                },
                {
                  "average_mood": 6.2,
                  "mood_next_day": 6.8,
                  "average_valence": 0.4,
                  "average_arousal": 0.2,
                  "average_office": 0,
                  "average_game": 0,
                  "_deepnote_index_column": 15
                },
                {
                  "average_mood": 6.8,
                  "mood_next_day": 6.5,
                  "average_valence": 0.6,
                  "average_arousal": -0.4,
                  "average_office": 0,
                  "average_game": 0,
                  "_deepnote_index_column": 16
                },
                {
                  "average_mood": 6.5,
                  "mood_next_day": 6.5,
                  "average_valence": 0.5,
                  "average_arousal": -0.75,
                  "average_office": 0,
                  "average_game": 57.203,
                  "_deepnote_index_column": 17
                },
                {
                  "average_mood": 6.5,
                  "mood_next_day": 6.6,
                  "average_valence": 0.25,
                  "average_arousal": -0.27125,
                  "average_office": 17.107,
                  "average_game": 0,
                  "_deepnote_index_column": 18
                },
                {
                  "average_mood": 6.6,
                  "mood_next_day": 7.4,
                  "average_valence": 0.6986486486486487,
                  "average_arousal": -0.4,
                  "average_office": 0,
                  "average_game": 0,
                  "_deepnote_index_column": 19
                },
                {
                  "average_mood": 7.4,
                  "mood_next_day": 7.4,
                  "average_valence": 0.6986486486486487,
                  "average_arousal": -0.8,
                  "average_office": 0,
                  "average_game": 0,
                  "_deepnote_index_column": 20
                },
                {
                  "average_mood": 7.4,
                  "mood_next_day": 7,
                  "average_valence": 0.8,
                  "average_arousal": -0.4,
                  "average_office": 23.195,
                  "average_game": 1.059,
                  "_deepnote_index_column": 21
                },
                {
                  "average_mood": 7,
                  "mood_next_day": 7.25,
                  "average_valence": 0.8,
                  "average_arousal": -1.2,
                  "average_office": 0,
                  "average_game": 0,
                  "_deepnote_index_column": 22
                },
                {
                  "average_mood": 7.25,
                  "mood_next_day": 8,
                  "average_valence": 0.75,
                  "average_arousal": -0.75,
                  "average_office": 0,
                  "average_game": 0,
                  "_deepnote_index_column": 23
                },
                {
                  "average_mood": 8,
                  "mood_next_day": 7.2,
                  "average_valence": 1,
                  "average_arousal": -1.25,
                  "average_office": 0,
                  "average_game": 0,
                  "_deepnote_index_column": 24
                },
                {
                  "average_mood": 7.2,
                  "mood_next_day": 6.4,
                  "average_valence": 0.6,
                  "average_arousal": -1.2,
                  "average_office": 0,
                  "average_game": 0,
                  "_deepnote_index_column": 25
                },
                {
                  "average_mood": 6.4,
                  "mood_next_day": 7.2,
                  "average_valence": 0.8,
                  "average_arousal": 0,
                  "average_office": 0,
                  "average_game": 0,
                  "_deepnote_index_column": 26
                },
                {
                  "average_mood": 7.2,
                  "mood_next_day": 6.6,
                  "average_valence": 0.6986486486486487,
                  "average_arousal": -0.27125,
                  "average_office": 0,
                  "average_game": 0,
                  "_deepnote_index_column": 27
                },
                {
                  "average_mood": 6.6,
                  "mood_next_day": 6.8,
                  "average_valence": 0.6,
                  "average_arousal": -0.4,
                  "average_office": 0,
                  "average_game": 0,
                  "_deepnote_index_column": 28
                },
                {
                  "average_mood": 6.8,
                  "mood_next_day": 7.8,
                  "average_valence": 0.8,
                  "average_arousal": -0.8,
                  "average_office": 0,
                  "average_game": 0,
                  "_deepnote_index_column": 29
                },
                {
                  "average_mood": 7.8,
                  "mood_next_day": 7.25,
                  "average_valence": 1,
                  "average_arousal": -0.2,
                  "average_office": 0,
                  "average_game": 29.084,
                  "_deepnote_index_column": 30
                },
                {
                  "average_mood": 7.25,
                  "mood_next_day": 7.6,
                  "average_valence": 0.75,
                  "average_arousal": -0.25,
                  "average_office": 0,
                  "average_game": 0,
                  "_deepnote_index_column": 31
                },
                {
                  "average_mood": 7.6,
                  "mood_next_day": 7.4,
                  "average_valence": 1,
                  "average_arousal": -0.27125,
                  "average_office": 0,
                  "average_game": 0,
                  "_deepnote_index_column": 32
                },
                {
                  "average_mood": 7.4,
                  "mood_next_day": 7.6,
                  "average_valence": 1,
                  "average_arousal": 0.2,
                  "average_office": 0,
                  "average_game": 0,
                  "_deepnote_index_column": 33
                },
                {
                  "average_mood": 7.6,
                  "mood_next_day": 7.6,
                  "average_valence": 1,
                  "average_arousal": 0.2,
                  "average_office": 0,
                  "average_game": 0,
                  "_deepnote_index_column": 34
                },
                {
                  "average_mood": 7.6,
                  "mood_next_day": 7.2,
                  "average_valence": 1,
                  "average_arousal": -0.4,
                  "average_office": 0,
                  "average_game": 0,
                  "_deepnote_index_column": 35
                },
                {
                  "average_mood": 7.2,
                  "mood_next_day": 7.6,
                  "average_valence": 0.8,
                  "average_arousal": -0.2,
                  "average_office": 0,
                  "average_game": 0,
                  "_deepnote_index_column": 36
                },
                {
                  "average_mood": 7.6,
                  "mood_next_day": 7.5,
                  "average_valence": 1,
                  "average_arousal": -0.2,
                  "average_office": 0,
                  "average_game": 0,
                  "_deepnote_index_column": 37
                },
                {
                  "average_mood": 7.5,
                  "mood_next_day": 7.6,
                  "average_valence": 1,
                  "average_arousal": 0,
                  "average_office": 0,
                  "average_game": 0,
                  "_deepnote_index_column": 38
                },
                {
                  "average_mood": 7.6,
                  "mood_next_day": 7,
                  "average_valence": 0.8,
                  "average_arousal": -0.8,
                  "average_office": 0,
                  "average_game": 0,
                  "_deepnote_index_column": 39
                },
                {
                  "average_mood": 7,
                  "mood_next_day": 7.8,
                  "average_valence": 0.6986486486486487,
                  "average_arousal": -0.27125,
                  "average_office": 0,
                  "average_game": 0,
                  "_deepnote_index_column": 40
                },
                {
                  "average_mood": 7.8,
                  "mood_next_day": 8,
                  "average_valence": 0.6986486486486487,
                  "average_arousal": -0.4,
                  "average_office": 0,
                  "average_game": 0,
                  "_deepnote_index_column": 41
                },
                {
                  "average_mood": 8,
                  "mood_next_day": 7.6,
                  "average_valence": 1,
                  "average_arousal": -0.4,
                  "average_office": 0,
                  "average_game": 0,
                  "_deepnote_index_column": 42
                },
                {
                  "average_mood": 7.6,
                  "mood_next_day": 8,
                  "average_valence": 0.6986486486486487,
                  "average_arousal": -0.2,
                  "average_office": 0,
                  "average_game": 0,
                  "_deepnote_index_column": 43
                },
                {
                  "average_mood": 8,
                  "mood_next_day": 7.285714285714286,
                  "average_valence": 1,
                  "average_arousal": -0.2,
                  "average_office": 0,
                  "average_game": 0,
                  "_deepnote_index_column": 44
                },
                {
                  "average_mood": 7.285714285714286,
                  "mood_next_day": 6.75,
                  "average_valence": 0,
                  "average_arousal": 0,
                  "average_office": 0,
                  "average_game": 0,
                  "_deepnote_index_column": 45
                },
                {
                  "average_mood": 6.75,
                  "mood_next_day": 8.2,
                  "average_valence": 0.5,
                  "average_arousal": 0.5,
                  "average_office": 0,
                  "average_game": 0,
                  "_deepnote_index_column": 46
                },
                {
                  "average_mood": 8.2,
                  "mood_next_day": 6.8,
                  "average_valence": 0.8,
                  "average_arousal": 0.6,
                  "average_office": 0,
                  "average_game": 0,
                  "_deepnote_index_column": 47
                },
                {
                  "average_mood": 6.8,
                  "mood_next_day": 7.25,
                  "average_valence": 0.4,
                  "average_arousal": 0.4,
                  "average_office": 0,
                  "average_game": 0,
                  "_deepnote_index_column": 48
                },
                {
                  "average_mood": 7.25,
                  "mood_next_day": 7.5,
                  "average_valence": 0.75,
                  "average_arousal": -0.5,
                  "average_office": 0,
                  "average_game": 0,
                  "_deepnote_index_column": 49
                },
                {
                  "average_mood": 7.5,
                  "mood_next_day": 6.5,
                  "average_valence": 0.75,
                  "average_arousal": -0.75,
                  "average_office": 0,
                  "average_game": 0,
                  "_deepnote_index_column": 50
                },
                {
                  "average_mood": 6.5,
                  "mood_next_day": 6.25,
                  "average_valence": -0.5,
                  "average_arousal": -1,
                  "average_office": 0,
                  "average_game": 0,
                  "_deepnote_index_column": 51
                },
                {
                  "average_mood": 6.25,
                  "mood_next_day": 6.4,
                  "average_valence": 0,
                  "average_arousal": -1,
                  "average_office": 0,
                  "average_game": 0,
                  "_deepnote_index_column": 52
                },
                {
                  "average_mood": 6.4,
                  "mood_next_day": 7.75,
                  "average_valence": -0.2,
                  "average_arousal": 0.2,
                  "average_office": 0,
                  "average_game": 0,
                  "_deepnote_index_column": 53
                },
                {
                  "average_mood": 7.75,
                  "mood_next_day": 7.2,
                  "average_valence": 0.75,
                  "average_arousal": -1.25,
                  "average_office": 0,
                  "average_game": 0,
                  "_deepnote_index_column": 54
                },
                {
                  "average_mood": 7.2,
                  "mood_next_day": 7.25,
                  "average_valence": 0.4,
                  "average_arousal": -1.2,
                  "average_office": 0,
                  "average_game": 0,
                  "_deepnote_index_column": 55
                },
                {
                  "average_mood": 7.25,
                  "mood_next_day": 6.8,
                  "average_valence": 0.5,
                  "average_arousal": 0,
                  "average_office": 0,
                  "average_game": 0,
                  "_deepnote_index_column": 56
                },
                {
                  "average_mood": 6.8,
                  "mood_next_day": 7.25,
                  "average_valence": 0.6,
                  "average_arousal": -0.6,
                  "average_office": 0,
                  "average_game": 0,
                  "_deepnote_index_column": 57
                },
                {
                  "average_mood": 7.25,
                  "mood_next_day": 7,
                  "average_valence": 0.25,
                  "average_arousal": -0.75,
                  "average_office": 0,
                  "average_game": 0,
                  "_deepnote_index_column": 58
                },
                {
                  "average_mood": 7,
                  "mood_next_day": 7.2,
                  "average_valence": 0.75,
                  "average_arousal": -1,
                  "average_office": 0,
                  "average_game": 0,
                  "_deepnote_index_column": 59
                },
                {
                  "average_mood": 7.2,
                  "mood_next_day": 7.4,
                  "average_valence": 0.4,
                  "average_arousal": -0.8,
                  "average_office": 0,
                  "average_game": 0,
                  "_deepnote_index_column": 60
                },
                {
                  "average_mood": 7.4,
                  "mood_next_day": 6.4,
                  "average_valence": 0.8,
                  "average_arousal": -0.2,
                  "average_office": 0,
                  "average_game": 0,
                  "_deepnote_index_column": 61
                },
                {
                  "average_mood": 6.4,
                  "mood_next_day": 5.75,
                  "average_valence": -0.2,
                  "average_arousal": -0.6,
                  "average_office": 0,
                  "average_game": 0,
                  "_deepnote_index_column": 62
                },
                {
                  "average_mood": 5.75,
                  "mood_next_day": 6.4,
                  "average_valence": 0,
                  "average_arousal": -0.25,
                  "average_office": 0,
                  "average_game": 0,
                  "_deepnote_index_column": 63
                },
                {
                  "average_mood": 6.4,
                  "mood_next_day": 7.4,
                  "average_valence": 0.2,
                  "average_arousal": -1.2,
                  "average_office": 0,
                  "average_game": 0,
                  "_deepnote_index_column": 64
                },
                {
                  "average_mood": 7.4,
                  "mood_next_day": 4.5,
                  "average_valence": 0.6,
                  "average_arousal": 0,
                  "average_office": 0,
                  "average_game": 0,
                  "_deepnote_index_column": 65
                },
                {
                  "average_mood": 4.5,
                  "mood_next_day": 6.8,
                  "average_valence": -1.25,
                  "average_arousal": -1,
                  "average_office": 0,
                  "average_game": 0,
                  "_deepnote_index_column": 66
                },
                {
                  "average_mood": 6.8,
                  "mood_next_day": 6.25,
                  "average_valence": 0.6,
                  "average_arousal": 0,
                  "average_office": 0,
                  "average_game": 0,
                  "_deepnote_index_column": 67
                },
                {
                  "average_mood": 6.25,
                  "mood_next_day": 7.25,
                  "average_valence": 0.5,
                  "average_arousal": -0.25,
                  "average_office": 0,
                  "average_game": 0,
                  "_deepnote_index_column": 68
                },
                {
                  "average_mood": 7.25,
                  "mood_next_day": 7.25,
                  "average_valence": 0.25,
                  "average_arousal": -0.5,
                  "average_office": 0,
                  "average_game": 0,
                  "_deepnote_index_column": 69
                },
                {
                  "average_mood": 7.25,
                  "mood_next_day": 6.5,
                  "average_valence": 0.75,
                  "average_arousal": 0.25,
                  "average_office": 0,
                  "average_game": 0,
                  "_deepnote_index_column": 70
                },
                {
                  "average_mood": 6.5,
                  "mood_next_day": 6,
                  "average_valence": 0.5,
                  "average_arousal": -0.5,
                  "average_office": 0,
                  "average_game": 0,
                  "_deepnote_index_column": 71
                },
                {
                  "average_mood": 6,
                  "mood_next_day": 7.2,
                  "average_valence": -1,
                  "average_arousal": -2,
                  "average_office": 0,
                  "average_game": 0,
                  "_deepnote_index_column": 72
                },
                {
                  "average_mood": 7.2,
                  "mood_next_day": 8,
                  "average_valence": 0.4,
                  "average_arousal": -0.6,
                  "average_office": 0,
                  "average_game": 0,
                  "_deepnote_index_column": 73
                },
                {
                  "average_mood": 8,
                  "mood_next_day": 7.25,
                  "average_valence": 1,
                  "average_arousal": 0.75,
                  "average_office": 0,
                  "average_game": 0,
                  "_deepnote_index_column": 74
                },
                {
                  "average_mood": 7.25,
                  "mood_next_day": 6.666666666666667,
                  "average_valence": 0.5,
                  "average_arousal": -0.5,
                  "average_office": 0,
                  "average_game": 0,
                  "_deepnote_index_column": 75
                },
                {
                  "average_mood": 6.666666666666667,
                  "mood_next_day": 6.5,
                  "average_valence": 0.3333333333333333,
                  "average_arousal": -0.3333333333333333,
                  "average_office": 0,
                  "average_game": 0,
                  "_deepnote_index_column": 76
                },
                {
                  "average_mood": 6.5,
                  "mood_next_day": 6.5,
                  "average_valence": 0,
                  "average_arousal": 0.25,
                  "average_office": 0,
                  "average_game": 0,
                  "_deepnote_index_column": 77
                },
                {
                  "average_mood": 6.5,
                  "mood_next_day": 5.666666666666667,
                  "average_valence": 0,
                  "average_arousal": 0,
                  "average_office": 0,
                  "average_game": 0,
                  "_deepnote_index_column": 78
                },
                {
                  "average_mood": 5.666666666666667,
                  "mood_next_day": 5,
                  "average_valence": -0.3333333333333333,
                  "average_arousal": -0.6666666666666666,
                  "average_office": 0,
                  "average_game": 0,
                  "_deepnote_index_column": 79
                },
                {
                  "average_mood": 5,
                  "mood_next_day": 5.5,
                  "average_valence": 0,
                  "average_arousal": -0.6666666666666666,
                  "average_office": 0,
                  "average_game": 0,
                  "_deepnote_index_column": 80
                },
                {
                  "average_mood": 5.5,
                  "mood_next_day": 5.666666666666667,
                  "average_valence": -0.5,
                  "average_arousal": -0.5,
                  "average_office": 0,
                  "average_game": 0,
                  "_deepnote_index_column": 81
                },
                {
                  "average_mood": 5.666666666666667,
                  "mood_next_day": 5.5,
                  "average_valence": -0.3333333333333333,
                  "average_arousal": -1.3333333333333333,
                  "average_office": 0,
                  "average_game": 0,
                  "_deepnote_index_column": 82
                }
              ],
              "rows_bottom": [
                {
                  "average_mood": 7,
                  "mood_next_day": 7,
                  "average_valence": 1,
                  "average_arousal": 0.8,
                  "average_office": 6.447,
                  "average_game": 0,
                  "_deepnote_index_column": 1132
                },
                {
                  "average_mood": 7,
                  "mood_next_day": 7.4,
                  "average_valence": 1,
                  "average_arousal": 1,
                  "average_office": 12.067999999999998,
                  "average_game": 0,
                  "_deepnote_index_column": 1133
                },
                {
                  "average_mood": 7.4,
                  "mood_next_day": 7.2,
                  "average_valence": 1.2,
                  "average_arousal": 1,
                  "average_office": 0,
                  "average_game": 0,
                  "_deepnote_index_column": 1134
                },
                {
                  "average_mood": 7.2,
                  "mood_next_day": 6.875,
                  "average_valence": 1,
                  "average_arousal": 0.8,
                  "average_office": 0,
                  "average_game": 0,
                  "_deepnote_index_column": 1135
                },
                {
                  "average_mood": 6.875,
                  "mood_next_day": 7,
                  "average_valence": 1,
                  "average_arousal": 0.5,
                  "average_office": 0,
                  "average_game": 0,
                  "_deepnote_index_column": 1136
                },
                {
                  "average_mood": 7,
                  "mood_next_day": 7,
                  "average_valence": 1,
                  "average_arousal": 1,
                  "average_office": 0,
                  "average_game": 0,
                  "_deepnote_index_column": 1137
                },
                {
                  "average_mood": 7,
                  "mood_next_day": 7.333333333333333,
                  "average_valence": 1,
                  "average_arousal": 0.6666666666666666,
                  "average_office": 0,
                  "average_game": 0,
                  "_deepnote_index_column": 1138
                },
                {
                  "average_mood": 7.333333333333333,
                  "mood_next_day": 7,
                  "average_valence": 1,
                  "average_arousal": 1,
                  "average_office": 0,
                  "average_game": 0,
                  "_deepnote_index_column": 1139
                },
                {
                  "average_mood": 7,
                  "mood_next_day": 7,
                  "average_valence": 1,
                  "average_arousal": 0.4,
                  "average_office": 0,
                  "average_game": 0,
                  "_deepnote_index_column": 1140
                },
                {
                  "average_mood": 7,
                  "mood_next_day": 7,
                  "average_valence": 1,
                  "average_arousal": 1,
                  "average_office": 0,
                  "average_game": 0,
                  "_deepnote_index_column": 1141
                },
                {
                  "average_mood": 7,
                  "mood_next_day": 7,
                  "average_valence": 1,
                  "average_arousal": 1,
                  "average_office": 0,
                  "average_game": 0,
                  "_deepnote_index_column": 1142
                },
                {
                  "average_mood": 7,
                  "mood_next_day": 7.5,
                  "average_valence": 1,
                  "average_arousal": 1,
                  "average_office": 0,
                  "average_game": 0,
                  "_deepnote_index_column": 1143
                },
                {
                  "average_mood": 7.5,
                  "mood_next_day": 7,
                  "average_valence": 1.5,
                  "average_arousal": -1,
                  "average_office": 31.127,
                  "average_game": 0,
                  "_deepnote_index_column": 1144
                },
                {
                  "average_mood": 7,
                  "mood_next_day": 8,
                  "average_valence": 0,
                  "average_arousal": 0,
                  "average_office": 54.259,
                  "average_game": 0,
                  "_deepnote_index_column": 1145
                },
                {
                  "average_mood": 8,
                  "mood_next_day": 8,
                  "average_valence": 0.5,
                  "average_arousal": -0.25,
                  "average_office": 58.17,
                  "average_game": 0,
                  "_deepnote_index_column": 1146
                },
                {
                  "average_mood": 8,
                  "mood_next_day": 8.4,
                  "average_valence": 0.5,
                  "average_arousal": -0.5,
                  "average_office": 0,
                  "average_game": 0,
                  "_deepnote_index_column": 1147
                },
                {
                  "average_mood": 8.4,
                  "mood_next_day": 7.6,
                  "average_valence": 1.4,
                  "average_arousal": 1.4,
                  "average_office": 0,
                  "average_game": 0,
                  "_deepnote_index_column": 1148
                },
                {
                  "average_mood": 7.6,
                  "mood_next_day": 7,
                  "average_valence": 0,
                  "average_arousal": -1.4,
                  "average_office": 0,
                  "average_game": 0,
                  "_deepnote_index_column": 1149
                },
                {
                  "average_mood": 7,
                  "mood_next_day": 7.8,
                  "average_valence": -0.5,
                  "average_arousal": -0.5,
                  "average_office": 0,
                  "average_game": 0,
                  "_deepnote_index_column": 1150
                },
                {
                  "average_mood": 7.8,
                  "mood_next_day": 7.333333333333333,
                  "average_valence": 0.2,
                  "average_arousal": 0.4,
                  "average_office": 0,
                  "average_game": 0,
                  "_deepnote_index_column": 1151
                },
                {
                  "average_mood": 7.333333333333333,
                  "mood_next_day": 8.25,
                  "average_valence": 0,
                  "average_arousal": 0.3333333333333333,
                  "average_office": 0,
                  "average_game": 0,
                  "_deepnote_index_column": 1152
                },
                {
                  "average_mood": 8.25,
                  "mood_next_day": 7.666666666666667,
                  "average_valence": 0.75,
                  "average_arousal": 0.25,
                  "average_office": 0,
                  "average_game": 0,
                  "_deepnote_index_column": 1153
                },
                {
                  "average_mood": 7.666666666666667,
                  "mood_next_day": 8.6,
                  "average_valence": 0.3333333333333333,
                  "average_arousal": 0.3333333333333333,
                  "average_office": 0,
                  "average_game": 0,
                  "_deepnote_index_column": 1154
                },
                {
                  "average_mood": 8.6,
                  "mood_next_day": 8,
                  "average_valence": 0.8,
                  "average_arousal": 0.2,
                  "average_office": 0,
                  "average_game": 0,
                  "_deepnote_index_column": 1155
                },
                {
                  "average_mood": 8,
                  "mood_next_day": 7.5,
                  "average_valence": 0.6,
                  "average_arousal": -1.8,
                  "average_office": 0,
                  "average_game": 0,
                  "_deepnote_index_column": 1156
                },
                {
                  "average_mood": 7.5,
                  "mood_next_day": 8,
                  "average_valence": 0.5,
                  "average_arousal": 0.5,
                  "average_office": 0,
                  "average_game": 0,
                  "_deepnote_index_column": 1157
                },
                {
                  "average_mood": 8,
                  "mood_next_day": 8.5,
                  "average_valence": 0.5,
                  "average_arousal": 0,
                  "average_office": 0,
                  "average_game": 0,
                  "_deepnote_index_column": 1158
                },
                {
                  "average_mood": 8.5,
                  "mood_next_day": 8.5,
                  "average_valence": 0.75,
                  "average_arousal": 0.75,
                  "average_office": 0,
                  "average_game": 0,
                  "_deepnote_index_column": 1159
                },
                {
                  "average_mood": 8.5,
                  "mood_next_day": 7,
                  "average_valence": 0.5,
                  "average_arousal": 0.5,
                  "average_office": 0,
                  "average_game": 0,
                  "_deepnote_index_column": 1160
                },
                {
                  "average_mood": 7,
                  "mood_next_day": 8,
                  "average_valence": 0,
                  "average_arousal": -0.2,
                  "average_office": 0,
                  "average_game": 0,
                  "_deepnote_index_column": 1161
                },
                {
                  "average_mood": 8,
                  "mood_next_day": 7.333333333333333,
                  "average_valence": 0.5,
                  "average_arousal": 0,
                  "average_office": 0,
                  "average_game": 0,
                  "_deepnote_index_column": 1162
                },
                {
                  "average_mood": 7.333333333333333,
                  "mood_next_day": 7.5,
                  "average_valence": 0,
                  "average_arousal": -0.5,
                  "average_office": 0,
                  "average_game": 0,
                  "_deepnote_index_column": 1163
                },
                {
                  "average_mood": 7.5,
                  "mood_next_day": 8,
                  "average_valence": 0.25,
                  "average_arousal": 0.25,
                  "average_office": 0,
                  "average_game": 0,
                  "_deepnote_index_column": 1164
                },
                {
                  "average_mood": 8,
                  "mood_next_day": 7,
                  "average_valence": 0.6666666666666666,
                  "average_arousal": 1,
                  "average_office": 0,
                  "average_game": 0,
                  "_deepnote_index_column": 1165
                },
                {
                  "average_mood": 7,
                  "mood_next_day": 7,
                  "average_valence": 0.6666666666666666,
                  "average_arousal": 0,
                  "average_office": 0,
                  "average_game": 0,
                  "_deepnote_index_column": 1166
                },
                {
                  "average_mood": 7,
                  "mood_next_day": 7.25,
                  "average_valence": 0,
                  "average_arousal": -1,
                  "average_office": 0,
                  "average_game": 0,
                  "_deepnote_index_column": 1167
                },
                {
                  "average_mood": 7.25,
                  "mood_next_day": 7.5,
                  "average_valence": 0,
                  "average_arousal": -0.25,
                  "average_office": 0,
                  "average_game": 0,
                  "_deepnote_index_column": 1168
                },
                {
                  "average_mood": 7.5,
                  "mood_next_day": 8.666666666666666,
                  "average_valence": 0.5,
                  "average_arousal": -1,
                  "average_office": 2.112,
                  "average_game": 0,
                  "_deepnote_index_column": 1169
                },
                {
                  "average_mood": 8.666666666666666,
                  "mood_next_day": 6.5,
                  "average_valence": 1,
                  "average_arousal": 0.3333333333333333,
                  "average_office": 0,
                  "average_game": 0,
                  "_deepnote_index_column": 1170
                },
                {
                  "average_mood": 6.5,
                  "mood_next_day": 6,
                  "average_valence": -0.25,
                  "average_arousal": -1,
                  "average_office": 0,
                  "average_game": 0,
                  "_deepnote_index_column": 1171
                },
                {
                  "average_mood": 6,
                  "mood_next_day": 7.75,
                  "average_valence": -0.25,
                  "average_arousal": -1,
                  "average_office": 0,
                  "average_game": 0,
                  "_deepnote_index_column": 1172
                },
                {
                  "average_mood": 7.75,
                  "mood_next_day": 7.25,
                  "average_valence": 0.75,
                  "average_arousal": -0.25,
                  "average_office": 0,
                  "average_game": 0,
                  "_deepnote_index_column": 1173
                },
                {
                  "average_mood": 7.25,
                  "mood_next_day": 7.2,
                  "average_valence": 0.5,
                  "average_arousal": -0.75,
                  "average_office": 0,
                  "average_game": 0,
                  "_deepnote_index_column": 1174
                },
                {
                  "average_mood": 7.2,
                  "mood_next_day": 7.125,
                  "average_valence": 0.2,
                  "average_arousal": -1.4,
                  "average_office": 0,
                  "average_game": 0,
                  "_deepnote_index_column": 1175
                },
                {
                  "average_mood": 7.125,
                  "mood_next_day": 7.2,
                  "average_valence": 0.3333333333333333,
                  "average_arousal": 0.3333333333333333,
                  "average_office": 0,
                  "average_game": 0,
                  "_deepnote_index_column": 1176
                },
                {
                  "average_mood": 7.2,
                  "mood_next_day": 7.4,
                  "average_valence": 1.4,
                  "average_arousal": -0.6,
                  "average_office": 0,
                  "average_game": 0,
                  "_deepnote_index_column": 1177
                },
                {
                  "average_mood": 7.4,
                  "mood_next_day": 7.666666666666667,
                  "average_valence": 0.8,
                  "average_arousal": -0.8,
                  "average_office": 0,
                  "average_game": 0,
                  "_deepnote_index_column": 1178
                },
                {
                  "average_mood": 7.666666666666667,
                  "mood_next_day": 7.4,
                  "average_valence": 1,
                  "average_arousal": 0,
                  "average_office": 0,
                  "average_game": 0,
                  "_deepnote_index_column": 1179
                },
                {
                  "average_mood": 7.4,
                  "mood_next_day": 7.2,
                  "average_valence": 1.2,
                  "average_arousal": 0,
                  "average_office": 0,
                  "average_game": 0,
                  "_deepnote_index_column": 1180
                },
                {
                  "average_mood": 7.2,
                  "mood_next_day": 6.2,
                  "average_valence": 0.6,
                  "average_arousal": 0,
                  "average_office": 0,
                  "average_game": 0,
                  "_deepnote_index_column": 1181
                },
                {
                  "average_mood": 6.2,
                  "mood_next_day": 5.2,
                  "average_valence": -0.2,
                  "average_arousal": -0.6,
                  "average_office": 0,
                  "average_game": 0,
                  "_deepnote_index_column": 1182
                },
                {
                  "average_mood": 5.2,
                  "mood_next_day": 7,
                  "average_valence": -0.6,
                  "average_arousal": -0.2,
                  "average_office": 0,
                  "average_game": 0,
                  "_deepnote_index_column": 1183
                },
                {
                  "average_mood": 7,
                  "mood_next_day": 8.4,
                  "average_valence": 1,
                  "average_arousal": -0.25,
                  "average_office": 0,
                  "average_game": 0,
                  "_deepnote_index_column": 1184
                },
                {
                  "average_mood": 8.4,
                  "mood_next_day": 7.6,
                  "average_valence": 0.4811111111111111,
                  "average_arousal": 0.8,
                  "average_office": 0,
                  "average_game": 0,
                  "_deepnote_index_column": 1185
                },
                {
                  "average_mood": 7.6,
                  "mood_next_day": 6.2,
                  "average_valence": 1,
                  "average_arousal": 0.4,
                  "average_office": 0,
                  "average_game": 0,
                  "_deepnote_index_column": 1186
                },
                {
                  "average_mood": 6.2,
                  "mood_next_day": 6.75,
                  "average_valence": 0.4,
                  "average_arousal": -1.2,
                  "average_office": 0,
                  "average_game": 0,
                  "_deepnote_index_column": 1187
                },
                {
                  "average_mood": 6.75,
                  "mood_next_day": 6.2,
                  "average_valence": 0.75,
                  "average_arousal": -1.25,
                  "average_office": 0,
                  "average_game": 0,
                  "_deepnote_index_column": 1188
                },
                {
                  "average_mood": 6.2,
                  "mood_next_day": 6.4,
                  "average_valence": 0.4,
                  "average_arousal": -0.4,
                  "average_office": 0,
                  "average_game": 0,
                  "_deepnote_index_column": 1189
                },
                {
                  "average_mood": 6.4,
                  "mood_next_day": 7.5,
                  "average_valence": 0.4811111111111111,
                  "average_arousal": -1,
                  "average_office": 0,
                  "average_game": 0,
                  "_deepnote_index_column": 1190
                },
                {
                  "average_mood": 7.5,
                  "mood_next_day": 6.125,
                  "average_valence": 1,
                  "average_arousal": 0,
                  "average_office": 0,
                  "average_game": 0,
                  "_deepnote_index_column": 1191
                },
                {
                  "average_mood": 6.125,
                  "mood_next_day": 6.6,
                  "average_valence": -0.5,
                  "average_arousal": -0.25,
                  "average_office": 0,
                  "average_game": 0,
                  "_deepnote_index_column": 1192
                },
                {
                  "average_mood": 6.6,
                  "mood_next_day": 4.8,
                  "average_valence": 0.4,
                  "average_arousal": -0.8,
                  "average_office": 0,
                  "average_game": 0,
                  "_deepnote_index_column": 1193
                },
                {
                  "average_mood": 4.8,
                  "mood_next_day": 7.6,
                  "average_valence": -0.2,
                  "average_arousal": 0.2,
                  "average_office": 0,
                  "average_game": 0,
                  "_deepnote_index_column": 1194
                },
                {
                  "average_mood": 7.6,
                  "mood_next_day": 6,
                  "average_valence": 1,
                  "average_arousal": -0.4,
                  "average_office": 0,
                  "average_game": 0,
                  "_deepnote_index_column": 1195
                },
                {
                  "average_mood": 6,
                  "mood_next_day": 6,
                  "average_valence": 0.4,
                  "average_arousal": 0,
                  "average_office": 6.036,
                  "average_game": 0,
                  "_deepnote_index_column": 1196
                },
                {
                  "average_mood": 6,
                  "mood_next_day": 5,
                  "average_valence": 0.5,
                  "average_arousal": -0.75,
                  "average_office": 0,
                  "average_game": 0,
                  "_deepnote_index_column": 1197
                },
                {
                  "average_mood": 5,
                  "mood_next_day": 6.833333333333333,
                  "average_valence": 0,
                  "average_arousal": 0.5,
                  "average_office": 0,
                  "average_game": 0,
                  "_deepnote_index_column": 1198
                },
                {
                  "average_mood": 6.833333333333333,
                  "mood_next_day": 6,
                  "average_valence": 0.4811111111111111,
                  "average_arousal": -0.3333333333333333,
                  "average_office": 0,
                  "average_game": 0,
                  "_deepnote_index_column": 1199
                },
                {
                  "average_mood": 6,
                  "mood_next_day": 7,
                  "average_valence": 0.4811111111111111,
                  "average_arousal": 0,
                  "average_office": 0,
                  "average_game": 0,
                  "_deepnote_index_column": 1200
                },
                {
                  "average_mood": 7,
                  "mood_next_day": 6,
                  "average_valence": 0.4811111111111111,
                  "average_arousal": 0.4,
                  "average_office": 0,
                  "average_game": 0,
                  "_deepnote_index_column": 1201
                },
                {
                  "average_mood": 6,
                  "mood_next_day": 6,
                  "average_valence": 0.4811111111111111,
                  "average_arousal": 0.25,
                  "average_office": 0,
                  "average_game": 0,
                  "_deepnote_index_column": 1202
                },
                {
                  "average_mood": 6,
                  "mood_next_day": 6.2,
                  "average_valence": 0.2,
                  "average_arousal": -0.6,
                  "average_office": 0,
                  "average_game": 0,
                  "_deepnote_index_column": 1203
                },
                {
                  "average_mood": 6.2,
                  "mood_next_day": 6.25,
                  "average_valence": 0.2,
                  "average_arousal": -0.2,
                  "average_office": 0,
                  "average_game": 0,
                  "_deepnote_index_column": 1204
                },
                {
                  "average_mood": 6.25,
                  "mood_next_day": 6,
                  "average_valence": 0.5,
                  "average_arousal": -0.5,
                  "average_office": 0,
                  "average_game": 0,
                  "_deepnote_index_column": 1205
                },
                {
                  "average_mood": 6,
                  "mood_next_day": 5.75,
                  "average_valence": 0.4811111111111111,
                  "average_arousal": -0.6666666666666666,
                  "average_office": 0,
                  "average_game": 0,
                  "_deepnote_index_column": 1206
                },
                {
                  "average_mood": 5.75,
                  "mood_next_day": 5.833333333333333,
                  "average_valence": 0.25,
                  "average_arousal": 0.5,
                  "average_office": 0,
                  "average_game": 0,
                  "_deepnote_index_column": 1207
                },
                {
                  "average_mood": 5.833333333333333,
                  "mood_next_day": 6.4,
                  "average_valence": 0,
                  "average_arousal": -0.8333333333333334,
                  "average_office": 0,
                  "average_game": 0,
                  "_deepnote_index_column": 1208
                },
                {
                  "average_mood": 6.4,
                  "mood_next_day": 6.25,
                  "average_valence": 0.4811111111111111,
                  "average_arousal": -0.2982456140350877,
                  "average_office": 0,
                  "average_game": 0,
                  "_deepnote_index_column": 1209
                },
                {
                  "average_mood": 6.25,
                  "mood_next_day": 5.4,
                  "average_valence": 0.4811111111111111,
                  "average_arousal": -0.75,
                  "average_office": 0,
                  "average_game": 0,
                  "_deepnote_index_column": 1210
                },
                {
                  "average_mood": 5.4,
                  "mood_next_day": 6.2,
                  "average_valence": 0,
                  "average_arousal": -0.4,
                  "average_office": 130.53,
                  "average_game": 0,
                  "_deepnote_index_column": 1211
                },
                {
                  "average_mood": 6.2,
                  "mood_next_day": 8.2,
                  "average_valence": 0.4,
                  "average_arousal": -0.6,
                  "average_office": 0,
                  "average_game": 0,
                  "_deepnote_index_column": 1212
                },
                {
                  "average_mood": 8.2,
                  "mood_next_day": 7,
                  "average_valence": 1.2,
                  "average_arousal": 0,
                  "average_office": 0,
                  "average_game": 0,
                  "_deepnote_index_column": 1213
                },
                {
                  "average_mood": 7,
                  "mood_next_day": 6.8,
                  "average_valence": 1,
                  "average_arousal": -1.3333333333333333,
                  "average_office": 0,
                  "average_game": 0,
                  "_deepnote_index_column": 1214
                }
              ]
            },
            "text/plain": "      average_mood  mood_next_day  average_valence  average_arousal  \\\n0             6.25           6.25         0.750000        -0.250000   \n1             6.25           6.40         0.200000         0.200000   \n2             6.40           6.80         0.698649         0.600000   \n3             6.80           6.00         0.800000         0.200000   \n4             6.00           6.75         0.000000         0.800000   \n...            ...            ...              ...              ...   \n1210          6.25           5.40         0.481111        -0.750000   \n1211          5.40           6.20         0.000000        -0.400000   \n1212          6.20           8.20         0.400000        -0.600000   \n1213          8.20           7.00         1.200000         0.000000   \n1214          7.00           6.80         1.000000        -1.333333   \n\n      average_office  average_game  \n0              0.000           0.0  \n1             57.402           0.0  \n2              0.000           0.0  \n3              0.000           0.0  \n4              3.010           0.0  \n...              ...           ...  \n1210           0.000           0.0  \n1211         130.530           0.0  \n1212           0.000           0.0  \n1213           0.000           0.0  \n1214           0.000           0.0  \n\n[1215 rows x 6 columns]",
            "text/html": "<div>\n<style scoped>\n    .dataframe tbody tr th:only-of-type {\n        vertical-align: middle;\n    }\n\n    .dataframe tbody tr th {\n        vertical-align: top;\n    }\n\n    .dataframe thead th {\n        text-align: right;\n    }\n</style>\n<table border=\"1\" class=\"dataframe\">\n  <thead>\n    <tr style=\"text-align: right;\">\n      <th></th>\n      <th>average_mood</th>\n      <th>mood_next_day</th>\n      <th>average_valence</th>\n      <th>average_arousal</th>\n      <th>average_office</th>\n      <th>average_game</th>\n    </tr>\n  </thead>\n  <tbody>\n    <tr>\n      <th>0</th>\n      <td>6.25</td>\n      <td>6.25</td>\n      <td>0.750000</td>\n      <td>-0.250000</td>\n      <td>0.000</td>\n      <td>0.0</td>\n    </tr>\n    <tr>\n      <th>1</th>\n      <td>6.25</td>\n      <td>6.40</td>\n      <td>0.200000</td>\n      <td>0.200000</td>\n      <td>57.402</td>\n      <td>0.0</td>\n    </tr>\n    <tr>\n      <th>2</th>\n      <td>6.40</td>\n      <td>6.80</td>\n      <td>0.698649</td>\n      <td>0.600000</td>\n      <td>0.000</td>\n      <td>0.0</td>\n    </tr>\n    <tr>\n      <th>3</th>\n      <td>6.80</td>\n      <td>6.00</td>\n      <td>0.800000</td>\n      <td>0.200000</td>\n      <td>0.000</td>\n      <td>0.0</td>\n    </tr>\n    <tr>\n      <th>4</th>\n      <td>6.00</td>\n      <td>6.75</td>\n      <td>0.000000</td>\n      <td>0.800000</td>\n      <td>3.010</td>\n      <td>0.0</td>\n    </tr>\n    <tr>\n      <th>...</th>\n      <td>...</td>\n      <td>...</td>\n      <td>...</td>\n      <td>...</td>\n      <td>...</td>\n      <td>...</td>\n    </tr>\n    <tr>\n      <th>1210</th>\n      <td>6.25</td>\n      <td>5.40</td>\n      <td>0.481111</td>\n      <td>-0.750000</td>\n      <td>0.000</td>\n      <td>0.0</td>\n    </tr>\n    <tr>\n      <th>1211</th>\n      <td>5.40</td>\n      <td>6.20</td>\n      <td>0.000000</td>\n      <td>-0.400000</td>\n      <td>130.530</td>\n      <td>0.0</td>\n    </tr>\n    <tr>\n      <th>1212</th>\n      <td>6.20</td>\n      <td>8.20</td>\n      <td>0.400000</td>\n      <td>-0.600000</td>\n      <td>0.000</td>\n      <td>0.0</td>\n    </tr>\n    <tr>\n      <th>1213</th>\n      <td>8.20</td>\n      <td>7.00</td>\n      <td>1.200000</td>\n      <td>0.000000</td>\n      <td>0.000</td>\n      <td>0.0</td>\n    </tr>\n    <tr>\n      <th>1214</th>\n      <td>7.00</td>\n      <td>6.80</td>\n      <td>1.000000</td>\n      <td>-1.333333</td>\n      <td>0.000</td>\n      <td>0.0</td>\n    </tr>\n  </tbody>\n</table>\n<p>1215 rows × 6 columns</p>\n</div>"
          },
          "metadata": {}
        }
      ]
    },
    {
      "cell_type": "code",
      "metadata": {
        "tags": [],
        "cell_id": "00005-226cfaeb-329a-4625-adb5-0af5da50c04a",
        "deepnote_to_be_reexecuted": false,
        "source_hash": "281346b3",
        "execution_millis": 1,
        "execution_start": 1618223206126,
        "deepnote_cell_type": "code"
      },
      "source": "def prep_data(raw_df: pd.DataFrame, target_columns: List, drop_first: bool = True, make_na_col: bool = True) -> pd.DataFrame:\n    \"\"\"Dummify a pandas dataframe programmatically\n    \"\"\"\n    dataframe_dummy = pd.get_dummies(raw_df, columns=target_columns, \n                                        drop_first=drop_first, \n                                        dummy_na=make_na_col)\n    return (dataframe_dummy)",
      "execution_count": 34,
      "outputs": []
    },
    {
      "cell_type": "markdown",
      "source": "### Splitting the Data",
      "metadata": {
        "tags": [],
        "cell_id": "00009-64708f07-a82a-491c-b5a1-85e1d38b3fef",
        "deepnote_cell_type": "markdown"
      }
    },
    {
      "cell_type": "code",
      "metadata": {
        "tags": [],
        "cell_id": "00010-f805b4c9-8cf1-4323-81eb-3fc22a5a9c25",
        "deepnote_to_be_reexecuted": false,
        "source_hash": "746a4dbc",
        "execution_millis": 51,
        "execution_start": 1618223210170,
        "deepnote_cell_type": "code"
      },
      "source": "from sklearn.model_selection import train_test_split",
      "execution_count": 35,
      "outputs": []
    },
    {
      "cell_type": "code",
      "metadata": {
        "tags": [],
        "cell_id": "00010-7cecb5e8-abfc-4475-9281-865a7cbc69fd",
        "deepnote_to_be_reexecuted": false,
        "source_hash": "3f96d457",
        "execution_millis": 5,
        "execution_start": 1618223219948,
        "deepnote_cell_type": "code"
      },
      "source": "X_train, X_test, y_train, y_test = train_test_split(\n    dfp.drop(columns=[\"mood_next_day\"]), \n    dfp.mood_next_day, \n    test_size=0.35, random_state=58)",
      "execution_count": 36,
      "outputs": []
    },
    {
      "cell_type": "code",
      "metadata": {
        "tags": [],
        "cell_id": "00011-5ffe0f02-4718-47a7-a6af-eeae456df468",
        "deepnote_to_be_reexecuted": false,
        "source_hash": "6285a964",
        "execution_millis": 7,
        "execution_start": 1618223227135,
        "deepnote_cell_type": "code"
      },
      "source": "# Validation data so we can keep the test data untouched\nX_tset, X_val, y_tset, y_val = train_test_split(\n    X_train, \n    y_train, \n    test_size=0.35, random_state=58)",
      "execution_count": 37,
      "outputs": []
    },
    {
      "cell_type": "markdown",
      "source": "### Apply the Model",
      "metadata": {
        "tags": [],
        "cell_id": "00013-618f490c-423a-427c-90f7-472c1daec905",
        "deepnote_cell_type": "markdown"
      }
    },
    {
      "cell_type": "code",
      "metadata": {
        "tags": [],
        "cell_id": "00013-058c5c96-c66c-4120-a822-40b6b4fa376c",
        "deepnote_to_be_reexecuted": false,
        "source_hash": "136dbd51",
        "execution_millis": 25,
        "execution_start": 1618223329434,
        "deepnote_cell_type": "code"
      },
      "source": "# CatBoost Specific Optimization\ntrain_dataset = cb.Pool(X_tset, y_tset) \ntest_dataset = cb.Pool(X_val, y_val)\n\nentire_train = cb.Pool(X_train, y_train)",
      "execution_count": 38,
      "outputs": []
    },
    {
      "cell_type": "code",
      "metadata": {
        "tags": [],
        "cell_id": "00015-beffb070-8f8b-471d-a86d-035bb12f6782",
        "deepnote_to_be_reexecuted": false,
        "source_hash": "b5139ab1",
        "execution_millis": 2,
        "execution_start": 1618223366390,
        "deepnote_cell_type": "code"
      },
      "source": "# Set grid search params\ncbc_params = {\n    'random_seed': 88,\n    'verbose': 10,\n    'loss_function': 'MultiClass'}\n\nCBC = cb.CatBoostRegressor(**cbc_params)\n\ngrid_params ={\n    'iterations': [100,500,1000],\n    'learning_rate': [0.01,0.05,0.1],\n    'l2_leaf_reg': [1,3,5,7,9,11,20],\n    'depth': [6, 8, 10],\n    'random_strength': [0.01, 0.05, 0.1]}\n\n# Grid Search Uses CV internally, allowing me to parse the entire training set more effectively\nCBC_grid = CBC.grid_search(grid_params, X=entire_train, partition_random_seed=42)",
      "execution_count": 11,
      "outputs": [
        {
          "name": "stdout",
          "text": "0:\tlearn: 4.0777937\ttest: 4.0864269\tbest: 4.0864269 (0)\ttotal: 377ms\tremaining: 37.3s\n",
          "output_type": "stream"
        }
      ]
    },
    {
      "cell_type": "code",
      "metadata": {
        "tags": [],
        "cell_id": "00016-40d11dfc-c352-4f3f-aaaa-95faf1d8d867",
        "deepnote_to_be_reexecuted": false,
        "source_hash": "2bc8f127",
        "execution_millis": 2950,
        "execution_start": 1618212133508,
        "deepnote_cell_type": "code"
      },
      "source": "CBR.fit(train_dataset, \neval_set=test_dataset,\nuse_best_model=True,\n# plot=True # One of CatBoost's most powerfull features but isnt supported in DeepNote\n)",
      "execution_count": 12,
      "outputs": [
        {
          "name": "stdout",
          "text": "Learning rate set to 0.040601\n0:\tlearn: 0.7001830\ttest: 0.7003748\tbest: 0.7003748 (0)\ttotal: 48.5ms\tremaining: 48.5s\n100:\tlearn: 0.5265611\ttest: 0.6197855\tbest: 0.6197855 (100)\ttotal: 336ms\tremaining: 2.99s\n200:\tlearn: 0.4716525\ttest: 0.6182995\tbest: 0.6172107 (140)\ttotal: 600ms\tremaining: 2.38s\n300:\tlearn: 0.4159971\ttest: 0.6211584\tbest: 0.6172107 (140)\ttotal: 948ms\tremaining: 2.2s\n400:\tlearn: 0.3719100\ttest: 0.6244920\tbest: 0.6172107 (140)\ttotal: 1.3s\tremaining: 1.94s\n500:\tlearn: 0.3337030\ttest: 0.6280538\tbest: 0.6172107 (140)\ttotal: 1.52s\tremaining: 1.51s\n600:\tlearn: 0.3002727\ttest: 0.6328362\tbest: 0.6172107 (140)\ttotal: 1.75s\tremaining: 1.16s\n700:\tlearn: 0.2737452\ttest: 0.6385015\tbest: 0.6172107 (140)\ttotal: 1.97s\tremaining: 841ms\n800:\tlearn: 0.2514705\ttest: 0.6437407\tbest: 0.6172107 (140)\ttotal: 2.3s\tremaining: 571ms\n900:\tlearn: 0.2287498\ttest: 0.6485190\tbest: 0.6172107 (140)\ttotal: 2.58s\tremaining: 284ms\n999:\tlearn: 0.2104614\ttest: 0.6525608\tbest: 0.6172107 (140)\ttotal: 2.81s\tremaining: 0us\n\nbestTest = 0.6172107296\nbestIteration = 140\n\nShrink model to first 141 iterations.\n",
          "output_type": "stream"
        },
        {
          "output_type": "execute_result",
          "execution_count": 12,
          "data": {
            "text/plain": "<catboost.core.CatBoostRegressor at 0x7fb87094a890>"
          },
          "metadata": {}
        }
      ]
    },
    {
      "cell_type": "code",
      "metadata": {
        "tags": [],
        "cell_id": "00017-ae52ff28-e6d8-4ead-9666-3e0169390a94",
        "deepnote_to_be_reexecuted": false,
        "source_hash": "e443e218",
        "execution_millis": 50,
        "execution_start": 1618212141836,
        "deepnote_cell_type": "code"
      },
      "source": "feature_df = CBR.get_feature_importance(prettified=True)\nfeature_df = feature_df[feature_df[\"Importances\"] > 1]\nfeature_df",
      "execution_count": 13,
      "outputs": [
        {
          "output_type": "execute_result",
          "execution_count": 13,
          "data": {
            "application/vnd.deepnote.dataframe.v2+json": {
              "row_count": 12,
              "column_count": 2,
              "columns": [
                {
                  "name": "Feature Id",
                  "dtype": "object",
                  "stats": {
                    "unique_count": 12,
                    "nan_count": 0,
                    "categories": [
                      {
                        "name": "average_mood",
                        "count": 1
                      },
                      {
                        "name": "average_arousal",
                        "count": 1
                      },
                      {
                        "name": "10 others",
                        "count": 10
                      }
                    ]
                  }
                },
                {
                  "name": "Importances",
                  "dtype": "float64",
                  "stats": {
                    "unique_count": 12,
                    "nan_count": 0,
                    "min": 1.191830836319479,
                    "max": 37.553715816633556,
                    "histogram": [
                      {
                        "bin_start": 1.191830836319479,
                        "bin_end": 4.828019334350886,
                        "count": 5
                      },
                      {
                        "bin_start": 4.828019334350886,
                        "bin_end": 8.464207832382293,
                        "count": 4
                      },
                      {
                        "bin_start": 8.464207832382293,
                        "bin_end": 12.100396330413702,
                        "count": 1
                      },
                      {
                        "bin_start": 12.100396330413702,
                        "bin_end": 15.736584828445109,
                        "count": 1
                      },
                      {
                        "bin_start": 15.736584828445109,
                        "bin_end": 19.372773326476516,
                        "count": 0
                      },
                      {
                        "bin_start": 19.372773326476516,
                        "bin_end": 23.008961824507924,
                        "count": 0
                      },
                      {
                        "bin_start": 23.008961824507924,
                        "bin_end": 26.64515032253933,
                        "count": 0
                      },
                      {
                        "bin_start": 26.64515032253933,
                        "bin_end": 30.28133882057074,
                        "count": 0
                      },
                      {
                        "bin_start": 30.28133882057074,
                        "bin_end": 33.91752731860214,
                        "count": 0
                      },
                      {
                        "bin_start": 33.91752731860214,
                        "bin_end": 37.553715816633556,
                        "count": 1
                      }
                    ]
                  }
                },
                {
                  "name": "_deepnote_index_column",
                  "dtype": "int64"
                }
              ],
              "rows_top": [
                {
                  "Feature Id": "average_mood",
                  "Importances": 37.553715816633556,
                  "_deepnote_index_column": 0
                },
                {
                  "Feature Id": "average_arousal",
                  "Importances": 12.705544361237402,
                  "_deepnote_index_column": 1
                },
                {
                  "Feature Id": "average_com",
                  "Importances": 10.155628243634094,
                  "_deepnote_index_column": 2
                },
                {
                  "Feature Id": "average_entertainment",
                  "Importances": 6.976369841289567,
                  "_deepnote_index_column": 3
                },
                {
                  "Feature Id": "average_valence",
                  "Importances": 6.532299619786089,
                  "_deepnote_index_column": 4
                },
                {
                  "Feature Id": "average_office",
                  "Importances": 5.906203913404193,
                  "_deepnote_index_column": 5
                },
                {
                  "Feature Id": "average_soc",
                  "Importances": 5.729529644919992,
                  "_deepnote_index_column": 6
                },
                {
                  "Feature Id": "total_calls",
                  "Importances": 4.159409599799539,
                  "_deepnote_index_column": 7
                },
                {
                  "Feature Id": "average_finance",
                  "Importances": 3.2157049564364257,
                  "_deepnote_index_column": 8
                },
                {
                  "Feature Id": "average_game",
                  "Importances": 2.3283085161840287,
                  "_deepnote_index_column": 9
                },
                {
                  "Feature Id": "total_sms",
                  "Importances": 1.303183492493964,
                  "_deepnote_index_column": 10
                },
                {
                  "Feature Id": "date_2014-04-25",
                  "Importances": 1.191830836319479,
                  "_deepnote_index_column": 11
                }
              ],
              "rows_bottom": null
            },
            "text/plain": "               Feature Id  Importances\n0            average_mood    37.553716\n1         average_arousal    12.705544\n2             average_com    10.155628\n3   average_entertainment     6.976370\n4         average_valence     6.532300\n5          average_office     5.906204\n6             average_soc     5.729530\n7             total_calls     4.159410\n8         average_finance     3.215705\n9            average_game     2.328309\n10              total_sms     1.303183\n11        date_2014-04-25     1.191831",
            "text/html": "<div>\n<style scoped>\n    .dataframe tbody tr th:only-of-type {\n        vertical-align: middle;\n    }\n\n    .dataframe tbody tr th {\n        vertical-align: top;\n    }\n\n    .dataframe thead th {\n        text-align: right;\n    }\n</style>\n<table border=\"1\" class=\"dataframe\">\n  <thead>\n    <tr style=\"text-align: right;\">\n      <th></th>\n      <th>Feature Id</th>\n      <th>Importances</th>\n    </tr>\n  </thead>\n  <tbody>\n    <tr>\n      <th>0</th>\n      <td>average_mood</td>\n      <td>37.553716</td>\n    </tr>\n    <tr>\n      <th>1</th>\n      <td>average_arousal</td>\n      <td>12.705544</td>\n    </tr>\n    <tr>\n      <th>2</th>\n      <td>average_com</td>\n      <td>10.155628</td>\n    </tr>\n    <tr>\n      <th>3</th>\n      <td>average_entertainment</td>\n      <td>6.976370</td>\n    </tr>\n    <tr>\n      <th>4</th>\n      <td>average_valence</td>\n      <td>6.532300</td>\n    </tr>\n    <tr>\n      <th>5</th>\n      <td>average_office</td>\n      <td>5.906204</td>\n    </tr>\n    <tr>\n      <th>6</th>\n      <td>average_soc</td>\n      <td>5.729530</td>\n    </tr>\n    <tr>\n      <th>7</th>\n      <td>total_calls</td>\n      <td>4.159410</td>\n    </tr>\n    <tr>\n      <th>8</th>\n      <td>average_finance</td>\n      <td>3.215705</td>\n    </tr>\n    <tr>\n      <th>9</th>\n      <td>average_game</td>\n      <td>2.328309</td>\n    </tr>\n    <tr>\n      <th>10</th>\n      <td>total_sms</td>\n      <td>1.303183</td>\n    </tr>\n    <tr>\n      <th>11</th>\n      <td>date_2014-04-25</td>\n      <td>1.191831</td>\n    </tr>\n  </tbody>\n</table>\n</div>"
          },
          "metadata": {}
        }
      ]
    },
    {
      "cell_type": "markdown",
      "source": "This shows we do not actually need the date's to determine any type of mood.",
      "metadata": {
        "tags": [],
        "cell_id": "00018-b54b1513-b628-4b80-8048-5df8d925ef48",
        "deepnote_cell_type": "markdown"
      }
    },
    {
      "cell_type": "code",
      "metadata": {
        "tags": [],
        "cell_id": "00018-677812c0-c571-4bf7-8f0c-6afdba63994c",
        "deepnote_to_be_reexecuted": false,
        "source_hash": "c433bcad",
        "execution_millis": 8,
        "execution_start": 1618212161682,
        "deepnote_cell_type": "code"
      },
      "source": "y_pred = CBR.predict(X_val)",
      "execution_count": 14,
      "outputs": []
    },
    {
      "cell_type": "code",
      "metadata": {
        "tags": [],
        "cell_id": "00020-5b0559e0-d932-4af6-ab68-f05c7709bb65",
        "deepnote_cell_type": "code"
      },
      "source": "# CatBoost Specific Optimization\n# train_dataset = cb.Pool(X_tset, y_tset) \n# test_dataset = cb.Pool(X_val, y_val)",
      "execution_count": null,
      "outputs": []
    },
    {
      "cell_type": "code",
      "metadata": {
        "tags": [],
        "cell_id": "00020-62138561-0077-4e22-a85e-9cdf6b6de25a",
        "deepnote_to_be_reexecuted": false,
        "source_hash": "8c0229b",
        "execution_millis": 0,
        "execution_start": 1618212164082,
        "deepnote_cell_type": "code"
      },
      "source": "CBR_percentage = 0 \nfor x, y in zip(y_pred, y_val): \n    difference = x - y\n    if difference < 0.5 and difference > -0.5:\n        CBR_percentage += 1",
      "execution_count": 15,
      "outputs": []
    },
    {
      "cell_type": "code",
      "metadata": {
        "tags": [],
        "cell_id": "00022-6b3437dc-4be9-4005-8486-f31d82504825",
        "deepnote_to_be_reexecuted": false,
        "source_hash": "59660f00",
        "execution_millis": 9,
        "execution_start": 1618212164811,
        "deepnote_cell_type": "code"
      },
      "source": "CBR_percentage/len(y_val) *100",
      "execution_count": 16,
      "outputs": [
        {
          "output_type": "execute_result",
          "execution_count": 16,
          "data": {
            "text/plain": "67.14801444043322"
          },
          "metadata": {}
        }
      ]
    },
    {
      "cell_type": "markdown",
      "source": "Sadly it's quite low atm. This is most likely due to the limited dataset.",
      "metadata": {
        "tags": [],
        "cell_id": "00020-4513a744-1f21-445f-b551-a455d82b6630",
        "deepnote_cell_type": "markdown"
      }
    },
    {
      "cell_type": "markdown",
      "source": "### Cheating to Check how the Model Improves",
      "metadata": {
        "tags": [],
        "cell_id": "00021-fecd1193-e369-411b-8edf-255af721f9c0",
        "deepnote_cell_type": "markdown"
      }
    },
    {
      "cell_type": "code",
      "metadata": {
        "tags": [],
        "cell_id": "00020-0f92c742-dde7-4b60-aed4-689f6f591cb9",
        "deepnote_to_be_reexecuted": false,
        "source_hash": "1f168f6f",
        "execution_millis": 4,
        "execution_start": 1618145297761,
        "deepnote_cell_type": "code"
      },
      "source": "# CatBoost Specific Optimization\ntrainset = cb.Pool(X_train, y_train) \ntestset = cb.Pool(X_test, y_test)",
      "execution_count": null,
      "outputs": []
    },
    {
      "cell_type": "code",
      "metadata": {
        "tags": [],
        "cell_id": "00023-c492a267-2115-4487-847f-508178f9749c",
        "deepnote_to_be_reexecuted": false,
        "source_hash": "a07f8089",
        "execution_millis": 5,
        "execution_start": 1618145298329,
        "deepnote_cell_type": "code"
      },
      "source": "CBRC = cb.CatBoostRegressor(**params)",
      "execution_count": null,
      "outputs": []
    },
    {
      "cell_type": "code",
      "metadata": {
        "tags": [],
        "cell_id": "00024-00a5e3fd-856e-49d4-80d9-7dab35f8e07e",
        "deepnote_to_be_reexecuted": false,
        "source_hash": "d3e0022e",
        "execution_millis": 2457,
        "execution_start": 1618145299721,
        "deepnote_cell_type": "code"
      },
      "source": "CBRC.fit(trainset, \neval_set=testset,\nuse_best_model=True,\n# plot=True # One of CatBoost's most powerfull features but isnt supported in DeepNote\n)",
      "execution_count": null,
      "outputs": [
        {
          "name": "stdout",
          "text": "Learning rate set to 0.044059\n0:\tlearn: 0.7172516\ttest: 0.7178727\tbest: 0.7178727 (0)\ttotal: 2.05ms\tremaining: 2.05s\n100:\tlearn: 0.4217718\ttest: 0.5143571\tbest: 0.5143571 (100)\ttotal: 216ms\tremaining: 1.93s\n200:\tlearn: 0.3728832\ttest: 0.5100793\tbest: 0.5096232 (189)\ttotal: 434ms\tremaining: 1.72s\n300:\tlearn: 0.3262427\ttest: 0.5125615\tbest: 0.5096232 (189)\ttotal: 684ms\tremaining: 1.59s\n400:\tlearn: 0.2964895\ttest: 0.5157831\tbest: 0.5096232 (189)\ttotal: 902ms\tremaining: 1.35s\n500:\tlearn: 0.2685912\ttest: 0.5185992\tbest: 0.5096232 (189)\ttotal: 1.19s\tremaining: 1.18s\n600:\tlearn: 0.2432462\ttest: 0.5220345\tbest: 0.5096232 (189)\ttotal: 1.4s\tremaining: 931ms\n700:\tlearn: 0.2230288\ttest: 0.5249131\tbest: 0.5096232 (189)\ttotal: 1.65s\tremaining: 706ms\n800:\tlearn: 0.2053769\ttest: 0.5268063\tbest: 0.5096232 (189)\ttotal: 1.85s\tremaining: 461ms\n900:\tlearn: 0.1902339\ttest: 0.5282712\tbest: 0.5096232 (189)\ttotal: 2.11s\tremaining: 232ms\n999:\tlearn: 0.1769719\ttest: 0.5302190\tbest: 0.5096232 (189)\ttotal: 2.34s\tremaining: 0us\n\nbestTest = 0.5096231957\nbestIteration = 189\n\nShrink model to first 190 iterations.\n",
          "output_type": "stream"
        },
        {
          "output_type": "execute_result",
          "execution_count": 48,
          "data": {
            "text/plain": "<catboost.core.CatBoostRegressor at 0x7f2c9928fc50>"
          },
          "metadata": {}
        }
      ]
    },
    {
      "cell_type": "markdown",
      "source": "Still very Poor...",
      "metadata": {
        "tags": [],
        "cell_id": "00025-f2b665a5-475f-4da6-a15d-74db273cc544",
        "deepnote_cell_type": "markdown"
      }
    },
    {
      "cell_type": "markdown",
      "source": "# Gradient Boosting using SKlearn",
      "metadata": {
        "tags": [],
        "cell_id": "00026-74017f13-71eb-4e9f-989f-5f1f6163c4d5",
        "deepnote_cell_type": "markdown"
      }
    },
    {
      "cell_type": "code",
      "metadata": {
        "tags": [],
        "cell_id": "00026-c4301e34-ef17-4cf9-ae29-d5a1359435c9",
        "deepnote_to_be_reexecuted": false,
        "source_hash": "fced106c",
        "execution_millis": 129,
        "execution_start": 1618212333702,
        "deepnote_cell_type": "code"
      },
      "source": "from sklearn.ensemble import GradientBoostingRegressor",
      "execution_count": 19,
      "outputs": []
    },
    {
      "cell_type": "code",
      "metadata": {
        "tags": [],
        "cell_id": "00028-3294772a-745b-4b20-8ac9-8cb18d3b0976",
        "deepnote_cell_type": "code"
      },
      "source": "# hard_params = {'n_estimators': 1000, 'max_leaf_nodes': 4, 'max_depth': None, 'random_state': 2,\n#                 'min_samples_split': 5}\n\n# # intermediate params\n\n# params = dict(hard_params)\n# # params.update(inter_params)",
      "execution_count": null,
      "outputs": []
    },
    {
      "cell_type": "code",
      "metadata": {
        "tags": [],
        "cell_id": "00025-9a675c3e-a92c-49cc-8927-a55a5d6fc2a6",
        "deepnote_to_be_reexecuted": false,
        "source_hash": "d9609e59",
        "execution_millis": 144,
        "execution_start": 1618212335592,
        "deepnote_cell_type": "code"
      },
      "source": "# X_tset, X_val, y_tset, y_val\nGBC = GradientBoostingRegressor(\n    # **params\n    )\nGBC.fit(X_tset, y_tset)",
      "execution_count": 20,
      "outputs": [
        {
          "output_type": "execute_result",
          "execution_count": 20,
          "data": {
            "text/plain": "GradientBoostingRegressor()"
          },
          "metadata": {}
        }
      ]
    },
    {
      "cell_type": "code",
      "metadata": {
        "tags": [],
        "cell_id": "00030-89ed5a34-5acb-400c-b892-239bd8e6fb8b",
        "deepnote_to_be_reexecuted": false,
        "source_hash": "88a3b6ef",
        "execution_millis": 8,
        "execution_start": 1618212337527,
        "deepnote_cell_type": "code"
      },
      "source": "GBC.score(X_val, y_val)",
      "execution_count": 21,
      "outputs": [
        {
          "output_type": "execute_result",
          "execution_count": 21,
          "data": {
            "text/plain": "0.1491325422363745"
          },
          "metadata": {}
        }
      ]
    },
    {
      "cell_type": "markdown",
      "source": "Rippppp",
      "metadata": {
        "tags": [],
        "cell_id": "00031-acac2f3d-2e2c-49f2-9e26-17b2607586e5",
        "deepnote_cell_type": "markdown"
      }
    },
    {
      "cell_type": "code",
      "metadata": {
        "tags": [],
        "cell_id": "00031-b04ab997-7250-4a3c-8166-c60291b84155",
        "deepnote_to_be_reexecuted": false,
        "source_hash": "d44fa987",
        "execution_millis": 3,
        "execution_start": 1618212340686,
        "deepnote_cell_type": "code"
      },
      "source": "ynew = GBC.predict(X_val)",
      "execution_count": 22,
      "outputs": []
    },
    {
      "cell_type": "code",
      "metadata": {
        "tags": [],
        "cell_id": "00033-d2435032-7177-4500-898f-3e0f69bcc27d",
        "deepnote_to_be_reexecuted": false,
        "source_hash": "94aba1c9",
        "execution_millis": 2,
        "execution_start": 1618212341410,
        "deepnote_cell_type": "code"
      },
      "source": "percentage = 0 \nfor x, y in zip(ynew, y_val): \n    difference = x - y\n    if difference < 0.5 and difference > -0.5:\n        percentage += 1",
      "execution_count": 23,
      "outputs": []
    },
    {
      "cell_type": "code",
      "metadata": {
        "tags": [],
        "cell_id": "00034-5d69d2c9-56b4-4c82-bfce-cba5c037be7f",
        "deepnote_to_be_reexecuted": false,
        "source_hash": "407094a4",
        "execution_millis": 8,
        "execution_start": 1618212342052,
        "deepnote_cell_type": "code"
      },
      "source": "percentage/len(y_val) *100",
      "execution_count": 24,
      "outputs": [
        {
          "output_type": "execute_result",
          "execution_count": 24,
          "data": {
            "text/plain": "63.898916967509024"
          },
          "metadata": {}
        }
      ]
    },
    {
      "cell_type": "code",
      "metadata": {
        "tags": [],
        "cell_id": "00035-ab4ec844-13e8-4da4-97ca-e1e200db734b",
        "deepnote_cell_type": "code"
      },
      "source": "",
      "execution_count": null,
      "outputs": []
    },
    {
      "cell_type": "markdown",
      "source": "<a style='text-decoration:none;line-height:16px;display:flex;color:#5B5B62;padding:10px;justify-content:end;' href='https://deepnote.com?utm_source=created-in-deepnote-cell&projectId=d79defa5-2359-4699-82dc-d6bf5eddd7a7' target=\"_blank\">\n<img alt='Created in deepnote.com' style='display:inline;max-height:16px;margin:0px;margin-right:7.5px;' src='data:image/svg+xml;base64,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' > </img>\nCreated in <span style='font-weight:600;margin-left:4px;'>Deepnote</span></a>",
      "metadata": {
        "tags": [],
        "created_in_deepnote_cell": true,
        "deepnote_cell_type": "markdown"
      }
    }
  ],
  "nbformat": 4,
  "nbformat_minor": 2,
  "metadata": {
    "orig_nbformat": 2,
    "deepnote": {
      "is_reactive": false
    },
    "deepnote_notebook_id": "f0ce1e94-52fb-4ad0-81f1-0ec0de339dfb",
    "deepnote_execution_queue": [
      {
        "cellId": "00015-beffb070-8f8b-471d-a86d-035bb12f6782",
        "sessionId": "57e286ce-cd5d-4aca-837a-ad7944769b73",
        "msgId": "9073f311-4aea-4a87-9855-041a8f7d0c8e"
      }
    ]
  }
}