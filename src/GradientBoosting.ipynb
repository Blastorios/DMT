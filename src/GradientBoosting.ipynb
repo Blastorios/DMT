{
  "cells": [
    {
      "cell_type": "markdown",
      "source": "# Gradient Boosting Setup and Appliance",
      "metadata": {
        "tags": [],
        "cell_id": "00000-4b490f8d-14f9-47e5-a436-f0c0650caeb3",
        "deepnote_cell_type": "markdown"
      }
    },
    {
      "cell_type": "markdown",
      "source": "We will apply both the CatBoost GB and XGBoost!",
      "metadata": {
        "tags": [],
        "cell_id": "00001-1be52f1d-05f6-4b17-857a-bb2c3914afb7",
        "deepnote_cell_type": "markdown"
      }
    },
    {
      "cell_type": "markdown",
      "source": "## Imports",
      "metadata": {
        "tags": [],
        "cell_id": "00002-6d199887-f444-441d-b90c-e003f43fa23d",
        "deepnote_cell_type": "markdown"
      }
    },
    {
      "cell_type": "code",
      "metadata": {
        "tags": [],
        "cell_id": "00003-b32d46cc-df3f-4f77-90b1-f1b2c2f123be",
        "deepnote_to_be_reexecuted": true,
        "source_hash": "276bda98",
        "execution_millis": 9,
        "deepnote_cell_type": "code"
      },
      "source": "import json\nfrom typing import (\n    List,\n    Dict,\n    Any,\n    Union,\n)\n\nimport numpy as np\nimport pandas as pd\nimport sklearn as sk\nimport catboost as cb\nimport xgboost as xgb\n\nfrom custom_functions import (\n    store_json,\n    load_json,\n)",
      "execution_count": 24,
      "outputs": []
    },
    {
      "cell_type": "markdown",
      "source": "### Get Data Ready for the Model",
      "metadata": {
        "tags": [],
        "cell_id": "00004-7092f7f7-c44f-4187-8d7d-0d2ca3b16ffa",
        "deepnote_cell_type": "markdown"
      }
    },
    {
      "cell_type": "code",
      "metadata": {
        "tags": [],
        "cell_id": "00004-e053bf70-be5f-4079-bc5b-df3c7249ef71",
        "deepnote_to_be_reexecuted": false,
        "source_hash": "ed5fa0b5",
        "execution_millis": 9,
        "execution_start": 1618317998286,
        "deepnote_cell_type": "code"
      },
      "source": "df = (pd\n    .read_csv(\"./data/new_data_no_missingvalues.csv\")\n    .drop(columns=[\"Unnamed: 0\", \"id\", \"unique_id\", \"date\"])\n    .drop(columns=[\"total_calls\", \"total_sms\", \"average_com\", \"average_soc\", \"average_finance\", \"average_entertainment\"]) # Might change overtime\n)",
      "execution_count": 2,
      "outputs": []
    },
    {
      "cell_type": "code",
      "metadata": {
        "tags": [],
        "cell_id": "00004-7db5f456-96b1-4df1-9834-faa9b45c1218",
        "deepnote_to_be_reexecuted": false,
        "source_hash": "f804c160",
        "execution_millis": 52,
        "execution_start": 1618318000250,
        "deepnote_cell_type": "code"
      },
      "source": "df",
      "execution_count": 3,
      "outputs": [
        {
          "output_type": "execute_result",
          "execution_count": 3,
          "data": {
            "application/vnd.deepnote.dataframe.v2+json": {
              "row_count": 1215,
              "column_count": 6,
              "columns": [
                {
                  "name": "average_mood",
                  "dtype": "float64",
                  "stats": {
                    "unique_count": 71,
                    "nan_count": 0,
                    "min": "3.0",
                    "max": "9.333333333333334",
                    "histogram": [
                      {
                        "bin_start": 3,
                        "bin_end": 3.6333333333333333,
                        "count": 4
                      },
                      {
                        "bin_start": 3.6333333333333333,
                        "bin_end": 4.266666666666667,
                        "count": 3
                      },
                      {
                        "bin_start": 4.266666666666667,
                        "bin_end": 4.9,
                        "count": 6
                      },
                      {
                        "bin_start": 4.9,
                        "bin_end": 5.533333333333333,
                        "count": 26
                      },
                      {
                        "bin_start": 5.533333333333333,
                        "bin_end": 6.166666666666667,
                        "count": 83
                      },
                      {
                        "bin_start": 6.166666666666667,
                        "bin_end": 6.800000000000001,
                        "count": 349
                      },
                      {
                        "bin_start": 6.800000000000001,
                        "bin_end": 7.433333333333334,
                        "count": 432
                      },
                      {
                        "bin_start": 7.433333333333334,
                        "bin_end": 8.066666666666666,
                        "count": 269
                      },
                      {
                        "bin_start": 8.066666666666666,
                        "bin_end": 8.700000000000001,
                        "count": 38
                      },
                      {
                        "bin_start": 8.700000000000001,
                        "bin_end": 9.333333333333334,
                        "count": 5
                      }
                    ]
                  }
                },
                {
                  "name": "mood_next_day",
                  "dtype": "float64",
                  "stats": {
                    "unique_count": 71,
                    "nan_count": 0,
                    "min": "3.0",
                    "max": "9.333333333333334",
                    "histogram": [
                      {
                        "bin_start": 3,
                        "bin_end": 3.6333333333333333,
                        "count": 4
                      },
                      {
                        "bin_start": 3.6333333333333333,
                        "bin_end": 4.266666666666667,
                        "count": 3
                      },
                      {
                        "bin_start": 4.266666666666667,
                        "bin_end": 4.9,
                        "count": 6
                      },
                      {
                        "bin_start": 4.9,
                        "bin_end": 5.533333333333333,
                        "count": 26
                      },
                      {
                        "bin_start": 5.533333333333333,
                        "bin_end": 6.166666666666667,
                        "count": 83
                      },
                      {
                        "bin_start": 6.166666666666667,
                        "bin_end": 6.800000000000001,
                        "count": 349
                      },
                      {
                        "bin_start": 6.800000000000001,
                        "bin_end": 7.433333333333334,
                        "count": 432
                      },
                      {
                        "bin_start": 7.433333333333334,
                        "bin_end": 8.066666666666666,
                        "count": 269
                      },
                      {
                        "bin_start": 8.066666666666666,
                        "bin_end": 8.700000000000001,
                        "count": 38
                      },
                      {
                        "bin_start": 8.700000000000001,
                        "bin_end": 9.333333333333334,
                        "count": 5
                      }
                    ]
                  }
                },
                {
                  "name": "average_valence",
                  "dtype": "float64",
                  "stats": {
                    "unique_count": 44,
                    "nan_count": 0,
                    "min": "-1.25",
                    "max": "2.0",
                    "histogram": [
                      {
                        "bin_start": -1.25,
                        "bin_end": -0.925,
                        "count": 8
                      },
                      {
                        "bin_start": -0.925,
                        "bin_end": -0.6,
                        "count": 1
                      },
                      {
                        "bin_start": -0.6,
                        "bin_end": -0.2749999999999999,
                        "count": 21
                      },
                      {
                        "bin_start": -0.2749999999999999,
                        "bin_end": 0.050000000000000044,
                        "count": 100
                      },
                      {
                        "bin_start": 0.050000000000000044,
                        "bin_end": 0.375,
                        "count": 85
                      },
                      {
                        "bin_start": 0.375,
                        "bin_end": 0.7000000000000002,
                        "count": 302
                      },
                      {
                        "bin_start": 0.7000000000000002,
                        "bin_end": 1.025,
                        "count": 609
                      },
                      {
                        "bin_start": 1.025,
                        "bin_end": 1.35,
                        "count": 51
                      },
                      {
                        "bin_start": 1.35,
                        "bin_end": 1.6750000000000003,
                        "count": 32
                      },
                      {
                        "bin_start": 1.6750000000000003,
                        "bin_end": 2,
                        "count": 6
                      }
                    ]
                  }
                },
                {
                  "name": "average_arousal",
                  "dtype": "float64",
                  "stats": {
                    "unique_count": 55,
                    "nan_count": 0,
                    "min": "-2.0",
                    "max": "2.0",
                    "histogram": [
                      {
                        "bin_start": -2,
                        "bin_end": -1.6,
                        "count": 12
                      },
                      {
                        "bin_start": -1.6,
                        "bin_end": -1.2,
                        "count": 36
                      },
                      {
                        "bin_start": -1.2,
                        "bin_end": -0.7999999999999998,
                        "count": 149
                      },
                      {
                        "bin_start": -0.7999999999999998,
                        "bin_end": -0.3999999999999999,
                        "count": 206
                      },
                      {
                        "bin_start": -0.3999999999999999,
                        "bin_end": 0,
                        "count": 182
                      },
                      {
                        "bin_start": 0,
                        "bin_end": 0.40000000000000036,
                        "count": 402
                      },
                      {
                        "bin_start": 0.40000000000000036,
                        "bin_end": 0.8000000000000003,
                        "count": 145
                      },
                      {
                        "bin_start": 0.8000000000000003,
                        "bin_end": 1.2000000000000002,
                        "count": 69
                      },
                      {
                        "bin_start": 1.2000000000000002,
                        "bin_end": 1.6,
                        "count": 10
                      },
                      {
                        "bin_start": 1.6,
                        "bin_end": 2,
                        "count": 4
                      }
                    ]
                  }
                },
                {
                  "name": "average_office",
                  "dtype": "float64",
                  "stats": {
                    "unique_count": 257,
                    "nan_count": 0,
                    "min": "0.0",
                    "max": "1494.864",
                    "histogram": [
                      {
                        "bin_start": 0,
                        "bin_end": 149.4864,
                        "count": 1201
                      },
                      {
                        "bin_start": 149.4864,
                        "bin_end": 298.9728,
                        "count": 10
                      },
                      {
                        "bin_start": 298.9728,
                        "bin_end": 448.4592,
                        "count": 2
                      },
                      {
                        "bin_start": 448.4592,
                        "bin_end": 597.9456,
                        "count": 1
                      },
                      {
                        "bin_start": 597.9456,
                        "bin_end": 747.432,
                        "count": 0
                      },
                      {
                        "bin_start": 747.432,
                        "bin_end": 896.9184,
                        "count": 0
                      },
                      {
                        "bin_start": 896.9184,
                        "bin_end": 1046.4048,
                        "count": 0
                      },
                      {
                        "bin_start": 1046.4048,
                        "bin_end": 1195.8912,
                        "count": 0
                      },
                      {
                        "bin_start": 1195.8912,
                        "bin_end": 1345.3776,
                        "count": 0
                      },
                      {
                        "bin_start": 1345.3776,
                        "bin_end": 1494.864,
                        "count": 1
                      }
                    ]
                  }
                },
                {
                  "name": "average_game",
                  "dtype": "float64",
                  "stats": {
                    "unique_count": 178,
                    "nan_count": 0,
                    "min": "0.0",
                    "max": "2562.907",
                    "histogram": [
                      {
                        "bin_start": 0,
                        "bin_end": 256.2907,
                        "count": 1183
                      },
                      {
                        "bin_start": 256.2907,
                        "bin_end": 512.5814,
                        "count": 17
                      },
                      {
                        "bin_start": 512.5814,
                        "bin_end": 768.8721,
                        "count": 10
                      },
                      {
                        "bin_start": 768.8721,
                        "bin_end": 1025.1628,
                        "count": 4
                      },
                      {
                        "bin_start": 1025.1628,
                        "bin_end": 1281.4535,
                        "count": 0
                      },
                      {
                        "bin_start": 1281.4535,
                        "bin_end": 1537.7442,
                        "count": 0
                      },
                      {
                        "bin_start": 1537.7442,
                        "bin_end": 1794.0349,
                        "count": 0
                      },
                      {
                        "bin_start": 1794.0349,
                        "bin_end": 2050.3256,
                        "count": 0
                      },
                      {
                        "bin_start": 2050.3256,
                        "bin_end": 2306.6163,
                        "count": 0
                      },
                      {
                        "bin_start": 2306.6163,
                        "bin_end": 2562.907,
                        "count": 1
                      }
                    ]
                  }
                },
                {
                  "name": "_deepnote_index_column",
                  "dtype": "int64"
                }
              ],
              "rows_top": [
                {
                  "average_mood": 6.25,
                  "mood_next_day": 6.25,
                  "average_valence": 0.75,
                  "average_arousal": -0.25,
                  "average_office": 0,
                  "average_game": 0,
                  "_deepnote_index_column": 0
                },
                {
                  "average_mood": 6.25,
                  "mood_next_day": 6.4,
                  "average_valence": 0.2,
                  "average_arousal": 0.2,
                  "average_office": 57.40200000000001,
                  "average_game": 0,
                  "_deepnote_index_column": 1
                },
                {
                  "average_mood": 6.4,
                  "mood_next_day": 6.8,
                  "average_valence": 0.6986486486486487,
                  "average_arousal": 0.6,
                  "average_office": 0,
                  "average_game": 0,
                  "_deepnote_index_column": 2
                },
                {
                  "average_mood": 6.8,
                  "mood_next_day": 6,
                  "average_valence": 0.8,
                  "average_arousal": 0.2,
                  "average_office": 0,
                  "average_game": 0,
                  "_deepnote_index_column": 3
                },
                {
                  "average_mood": 6,
                  "mood_next_day": 6.75,
                  "average_valence": 0,
                  "average_arousal": 0.8,
                  "average_office": 3.01,
                  "average_game": 0,
                  "_deepnote_index_column": 4
                },
                {
                  "average_mood": 6.75,
                  "mood_next_day": 6.6,
                  "average_valence": 0.5,
                  "average_arousal": 0.5,
                  "average_office": 0,
                  "average_game": 0,
                  "_deepnote_index_column": 5
                },
                {
                  "average_mood": 6.6,
                  "mood_next_day": 7,
                  "average_valence": 0.6,
                  "average_arousal": -0.2,
                  "average_office": 0,
                  "average_game": 0,
                  "_deepnote_index_column": 6
                },
                {
                  "average_mood": 7,
                  "mood_next_day": 6.4,
                  "average_valence": 0.8,
                  "average_arousal": 0.2,
                  "average_office": 15.20425,
                  "average_game": 0,
                  "_deepnote_index_column": 7
                },
                {
                  "average_mood": 6.4,
                  "mood_next_day": 8,
                  "average_valence": 0.6,
                  "average_arousal": -0.6,
                  "average_office": 0,
                  "average_game": 116.518,
                  "_deepnote_index_column": 8
                },
                {
                  "average_mood": 8,
                  "mood_next_day": 7.5,
                  "average_valence": 1,
                  "average_arousal": 0.2,
                  "average_office": 0,
                  "average_game": 0,
                  "_deepnote_index_column": 9
                },
                {
                  "average_mood": 7.5,
                  "mood_next_day": 7.4,
                  "average_valence": 0.75,
                  "average_arousal": -0.5,
                  "average_office": 0,
                  "average_game": 0,
                  "_deepnote_index_column": 10
                },
                {
                  "average_mood": 7.4,
                  "mood_next_day": 6,
                  "average_valence": 0.6,
                  "average_arousal": 0,
                  "average_office": 0,
                  "average_game": 51.176,
                  "_deepnote_index_column": 11
                },
                {
                  "average_mood": 6,
                  "mood_next_day": 6.5,
                  "average_valence": 0,
                  "average_arousal": 0.2,
                  "average_office": 30.796000000000003,
                  "average_game": 78.247,
                  "_deepnote_index_column": 12
                },
                {
                  "average_mood": 6.5,
                  "mood_next_day": 6.4,
                  "average_valence": 0.6986486486486487,
                  "average_arousal": -0.27125,
                  "average_office": 90.481,
                  "average_game": 0,
                  "_deepnote_index_column": 13
                },
                {
                  "average_mood": 6.4,
                  "mood_next_day": 6.2,
                  "average_valence": 0,
                  "average_arousal": -1.2,
                  "average_office": 0,
                  "average_game": 0,
                  "_deepnote_index_column": 14
                },
                {
                  "average_mood": 6.2,
                  "mood_next_day": 6.8,
                  "average_valence": 0.4,
                  "average_arousal": 0.2,
                  "average_office": 0,
                  "average_game": 0,
                  "_deepnote_index_column": 15
                },
                {
                  "average_mood": 6.8,
                  "mood_next_day": 6.5,
                  "average_valence": 0.6,
                  "average_arousal": -0.4,
                  "average_office": 0,
                  "average_game": 0,
                  "_deepnote_index_column": 16
                },
                {
                  "average_mood": 6.5,
                  "mood_next_day": 6.5,
                  "average_valence": 0.5,
                  "average_arousal": -0.75,
                  "average_office": 0,
                  "average_game": 57.203,
                  "_deepnote_index_column": 17
                },
                {
                  "average_mood": 6.5,
                  "mood_next_day": 6.6,
                  "average_valence": 0.25,
                  "average_arousal": -0.27125,
                  "average_office": 17.107,
                  "average_game": 0,
                  "_deepnote_index_column": 18
                },
                {
                  "average_mood": 6.6,
                  "mood_next_day": 7.4,
                  "average_valence": 0.6986486486486487,
                  "average_arousal": -0.4,
                  "average_office": 0,
                  "average_game": 0,
                  "_deepnote_index_column": 19
                },
                {
                  "average_mood": 7.4,
                  "mood_next_day": 7.4,
                  "average_valence": 0.6986486486486487,
                  "average_arousal": -0.8,
                  "average_office": 0,
                  "average_game": 0,
                  "_deepnote_index_column": 20
                },
                {
                  "average_mood": 7.4,
                  "mood_next_day": 7,
                  "average_valence": 0.8,
                  "average_arousal": -0.4,
                  "average_office": 23.195,
                  "average_game": 1.059,
                  "_deepnote_index_column": 21
                },
                {
                  "average_mood": 7,
                  "mood_next_day": 7.25,
                  "average_valence": 0.8,
                  "average_arousal": -1.2,
                  "average_office": 0,
                  "average_game": 0,
                  "_deepnote_index_column": 22
                },
                {
                  "average_mood": 7.25,
                  "mood_next_day": 8,
                  "average_valence": 0.75,
                  "average_arousal": -0.75,
                  "average_office": 0,
                  "average_game": 0,
                  "_deepnote_index_column": 23
                },
                {
                  "average_mood": 8,
                  "mood_next_day": 7.2,
                  "average_valence": 1,
                  "average_arousal": -1.25,
                  "average_office": 0,
                  "average_game": 0,
                  "_deepnote_index_column": 24
                },
                {
                  "average_mood": 7.2,
                  "mood_next_day": 6.4,
                  "average_valence": 0.6,
                  "average_arousal": -1.2,
                  "average_office": 0,
                  "average_game": 0,
                  "_deepnote_index_column": 25
                },
                {
                  "average_mood": 6.4,
                  "mood_next_day": 7.2,
                  "average_valence": 0.8,
                  "average_arousal": 0,
                  "average_office": 0,
                  "average_game": 0,
                  "_deepnote_index_column": 26
                },
                {
                  "average_mood": 7.2,
                  "mood_next_day": 6.6,
                  "average_valence": 0.6986486486486487,
                  "average_arousal": -0.27125,
                  "average_office": 0,
                  "average_game": 0,
                  "_deepnote_index_column": 27
                },
                {
                  "average_mood": 6.6,
                  "mood_next_day": 6.8,
                  "average_valence": 0.6,
                  "average_arousal": -0.4,
                  "average_office": 0,
                  "average_game": 0,
                  "_deepnote_index_column": 28
                },
                {
                  "average_mood": 6.8,
                  "mood_next_day": 7.8,
                  "average_valence": 0.8,
                  "average_arousal": -0.8,
                  "average_office": 0,
                  "average_game": 0,
                  "_deepnote_index_column": 29
                },
                {
                  "average_mood": 7.8,
                  "mood_next_day": 7.25,
                  "average_valence": 1,
                  "average_arousal": -0.2,
                  "average_office": 0,
                  "average_game": 29.084,
                  "_deepnote_index_column": 30
                },
                {
                  "average_mood": 7.25,
                  "mood_next_day": 7.6,
                  "average_valence": 0.75,
                  "average_arousal": -0.25,
                  "average_office": 0,
                  "average_game": 0,
                  "_deepnote_index_column": 31
                },
                {
                  "average_mood": 7.6,
                  "mood_next_day": 7.4,
                  "average_valence": 1,
                  "average_arousal": -0.27125,
                  "average_office": 0,
                  "average_game": 0,
                  "_deepnote_index_column": 32
                },
                {
                  "average_mood": 7.4,
                  "mood_next_day": 7.6,
                  "average_valence": 1,
                  "average_arousal": 0.2,
                  "average_office": 0,
                  "average_game": 0,
                  "_deepnote_index_column": 33
                },
                {
                  "average_mood": 7.6,
                  "mood_next_day": 7.6,
                  "average_valence": 1,
                  "average_arousal": 0.2,
                  "average_office": 0,
                  "average_game": 0,
                  "_deepnote_index_column": 34
                },
                {
                  "average_mood": 7.6,
                  "mood_next_day": 7.2,
                  "average_valence": 1,
                  "average_arousal": -0.4,
                  "average_office": 0,
                  "average_game": 0,
                  "_deepnote_index_column": 35
                },
                {
                  "average_mood": 7.2,
                  "mood_next_day": 7.6,
                  "average_valence": 0.8,
                  "average_arousal": -0.2,
                  "average_office": 0,
                  "average_game": 0,
                  "_deepnote_index_column": 36
                },
                {
                  "average_mood": 7.6,
                  "mood_next_day": 7.5,
                  "average_valence": 1,
                  "average_arousal": -0.2,
                  "average_office": 0,
                  "average_game": 0,
                  "_deepnote_index_column": 37
                },
                {
                  "average_mood": 7.5,
                  "mood_next_day": 7.6,
                  "average_valence": 1,
                  "average_arousal": 0,
                  "average_office": 0,
                  "average_game": 0,
                  "_deepnote_index_column": 38
                },
                {
                  "average_mood": 7.6,
                  "mood_next_day": 7,
                  "average_valence": 0.8,
                  "average_arousal": -0.8,
                  "average_office": 0,
                  "average_game": 0,
                  "_deepnote_index_column": 39
                },
                {
                  "average_mood": 7,
                  "mood_next_day": 7.8,
                  "average_valence": 0.6986486486486487,
                  "average_arousal": -0.27125,
                  "average_office": 0,
                  "average_game": 0,
                  "_deepnote_index_column": 40
                },
                {
                  "average_mood": 7.8,
                  "mood_next_day": 8,
                  "average_valence": 0.6986486486486487,
                  "average_arousal": -0.4,
                  "average_office": 0,
                  "average_game": 0,
                  "_deepnote_index_column": 41
                },
                {
                  "average_mood": 8,
                  "mood_next_day": 7.6,
                  "average_valence": 1,
                  "average_arousal": -0.4,
                  "average_office": 0,
                  "average_game": 0,
                  "_deepnote_index_column": 42
                },
                {
                  "average_mood": 7.6,
                  "mood_next_day": 8,
                  "average_valence": 0.6986486486486487,
                  "average_arousal": -0.2,
                  "average_office": 0,
                  "average_game": 0,
                  "_deepnote_index_column": 43
                },
                {
                  "average_mood": 8,
                  "mood_next_day": 7.285714285714286,
                  "average_valence": 1,
                  "average_arousal": -0.2,
                  "average_office": 0,
                  "average_game": 0,
                  "_deepnote_index_column": 44
                },
                {
                  "average_mood": 7.285714285714286,
                  "mood_next_day": 6.75,
                  "average_valence": 0,
                  "average_arousal": 0,
                  "average_office": 0,
                  "average_game": 0,
                  "_deepnote_index_column": 45
                },
                {
                  "average_mood": 6.75,
                  "mood_next_day": 8.2,
                  "average_valence": 0.5,
                  "average_arousal": 0.5,
                  "average_office": 0,
                  "average_game": 0,
                  "_deepnote_index_column": 46
                },
                {
                  "average_mood": 8.2,
                  "mood_next_day": 6.8,
                  "average_valence": 0.8,
                  "average_arousal": 0.6,
                  "average_office": 0,
                  "average_game": 0,
                  "_deepnote_index_column": 47
                },
                {
                  "average_mood": 6.8,
                  "mood_next_day": 7.25,
                  "average_valence": 0.4,
                  "average_arousal": 0.4,
                  "average_office": 0,
                  "average_game": 0,
                  "_deepnote_index_column": 48
                },
                {
                  "average_mood": 7.25,
                  "mood_next_day": 7.5,
                  "average_valence": 0.75,
                  "average_arousal": -0.5,
                  "average_office": 0,
                  "average_game": 0,
                  "_deepnote_index_column": 49
                },
                {
                  "average_mood": 7.5,
                  "mood_next_day": 6.5,
                  "average_valence": 0.75,
                  "average_arousal": -0.75,
                  "average_office": 0,
                  "average_game": 0,
                  "_deepnote_index_column": 50
                },
                {
                  "average_mood": 6.5,
                  "mood_next_day": 6.25,
                  "average_valence": -0.5,
                  "average_arousal": -1,
                  "average_office": 0,
                  "average_game": 0,
                  "_deepnote_index_column": 51
                },
                {
                  "average_mood": 6.25,
                  "mood_next_day": 6.4,
                  "average_valence": 0,
                  "average_arousal": -1,
                  "average_office": 0,
                  "average_game": 0,
                  "_deepnote_index_column": 52
                },
                {
                  "average_mood": 6.4,
                  "mood_next_day": 7.75,
                  "average_valence": -0.2,
                  "average_arousal": 0.2,
                  "average_office": 0,
                  "average_game": 0,
                  "_deepnote_index_column": 53
                },
                {
                  "average_mood": 7.75,
                  "mood_next_day": 7.2,
                  "average_valence": 0.75,
                  "average_arousal": -1.25,
                  "average_office": 0,
                  "average_game": 0,
                  "_deepnote_index_column": 54
                },
                {
                  "average_mood": 7.2,
                  "mood_next_day": 7.25,
                  "average_valence": 0.4,
                  "average_arousal": -1.2,
                  "average_office": 0,
                  "average_game": 0,
                  "_deepnote_index_column": 55
                },
                {
                  "average_mood": 7.25,
                  "mood_next_day": 6.8,
                  "average_valence": 0.5,
                  "average_arousal": 0,
                  "average_office": 0,
                  "average_game": 0,
                  "_deepnote_index_column": 56
                },
                {
                  "average_mood": 6.8,
                  "mood_next_day": 7.25,
                  "average_valence": 0.6,
                  "average_arousal": -0.6,
                  "average_office": 0,
                  "average_game": 0,
                  "_deepnote_index_column": 57
                },
                {
                  "average_mood": 7.25,
                  "mood_next_day": 7,
                  "average_valence": 0.25,
                  "average_arousal": -0.75,
                  "average_office": 0,
                  "average_game": 0,
                  "_deepnote_index_column": 58
                },
                {
                  "average_mood": 7,
                  "mood_next_day": 7.2,
                  "average_valence": 0.75,
                  "average_arousal": -1,
                  "average_office": 0,
                  "average_game": 0,
                  "_deepnote_index_column": 59
                },
                {
                  "average_mood": 7.2,
                  "mood_next_day": 7.4,
                  "average_valence": 0.4,
                  "average_arousal": -0.8,
                  "average_office": 0,
                  "average_game": 0,
                  "_deepnote_index_column": 60
                },
                {
                  "average_mood": 7.4,
                  "mood_next_day": 6.4,
                  "average_valence": 0.8,
                  "average_arousal": -0.2,
                  "average_office": 0,
                  "average_game": 0,
                  "_deepnote_index_column": 61
                },
                {
                  "average_mood": 6.4,
                  "mood_next_day": 5.75,
                  "average_valence": -0.2,
                  "average_arousal": -0.6,
                  "average_office": 0,
                  "average_game": 0,
                  "_deepnote_index_column": 62
                },
                {
                  "average_mood": 5.75,
                  "mood_next_day": 6.4,
                  "average_valence": 0,
                  "average_arousal": -0.25,
                  "average_office": 0,
                  "average_game": 0,
                  "_deepnote_index_column": 63
                },
                {
                  "average_mood": 6.4,
                  "mood_next_day": 7.4,
                  "average_valence": 0.2,
                  "average_arousal": -1.2,
                  "average_office": 0,
                  "average_game": 0,
                  "_deepnote_index_column": 64
                },
                {
                  "average_mood": 7.4,
                  "mood_next_day": 4.5,
                  "average_valence": 0.6,
                  "average_arousal": 0,
                  "average_office": 0,
                  "average_game": 0,
                  "_deepnote_index_column": 65
                },
                {
                  "average_mood": 4.5,
                  "mood_next_day": 6.8,
                  "average_valence": -1.25,
                  "average_arousal": -1,
                  "average_office": 0,
                  "average_game": 0,
                  "_deepnote_index_column": 66
                },
                {
                  "average_mood": 6.8,
                  "mood_next_day": 6.25,
                  "average_valence": 0.6,
                  "average_arousal": 0,
                  "average_office": 0,
                  "average_game": 0,
                  "_deepnote_index_column": 67
                },
                {
                  "average_mood": 6.25,
                  "mood_next_day": 7.25,
                  "average_valence": 0.5,
                  "average_arousal": -0.25,
                  "average_office": 0,
                  "average_game": 0,
                  "_deepnote_index_column": 68
                },
                {
                  "average_mood": 7.25,
                  "mood_next_day": 7.25,
                  "average_valence": 0.25,
                  "average_arousal": -0.5,
                  "average_office": 0,
                  "average_game": 0,
                  "_deepnote_index_column": 69
                },
                {
                  "average_mood": 7.25,
                  "mood_next_day": 6.5,
                  "average_valence": 0.75,
                  "average_arousal": 0.25,
                  "average_office": 0,
                  "average_game": 0,
                  "_deepnote_index_column": 70
                },
                {
                  "average_mood": 6.5,
                  "mood_next_day": 6,
                  "average_valence": 0.5,
                  "average_arousal": -0.5,
                  "average_office": 0,
                  "average_game": 0,
                  "_deepnote_index_column": 71
                },
                {
                  "average_mood": 6,
                  "mood_next_day": 7.2,
                  "average_valence": -1,
                  "average_arousal": -2,
                  "average_office": 0,
                  "average_game": 0,
                  "_deepnote_index_column": 72
                },
                {
                  "average_mood": 7.2,
                  "mood_next_day": 8,
                  "average_valence": 0.4,
                  "average_arousal": -0.6,
                  "average_office": 0,
                  "average_game": 0,
                  "_deepnote_index_column": 73
                },
                {
                  "average_mood": 8,
                  "mood_next_day": 7.25,
                  "average_valence": 1,
                  "average_arousal": 0.75,
                  "average_office": 0,
                  "average_game": 0,
                  "_deepnote_index_column": 74
                },
                {
                  "average_mood": 7.25,
                  "mood_next_day": 6.666666666666667,
                  "average_valence": 0.5,
                  "average_arousal": -0.5,
                  "average_office": 0,
                  "average_game": 0,
                  "_deepnote_index_column": 75
                },
                {
                  "average_mood": 6.666666666666667,
                  "mood_next_day": 6.5,
                  "average_valence": 0.3333333333333333,
                  "average_arousal": -0.3333333333333333,
                  "average_office": 0,
                  "average_game": 0,
                  "_deepnote_index_column": 76
                },
                {
                  "average_mood": 6.5,
                  "mood_next_day": 6.5,
                  "average_valence": 0,
                  "average_arousal": 0.25,
                  "average_office": 0,
                  "average_game": 0,
                  "_deepnote_index_column": 77
                },
                {
                  "average_mood": 6.5,
                  "mood_next_day": 5.666666666666667,
                  "average_valence": 0,
                  "average_arousal": 0,
                  "average_office": 0,
                  "average_game": 0,
                  "_deepnote_index_column": 78
                },
                {
                  "average_mood": 5.666666666666667,
                  "mood_next_day": 5,
                  "average_valence": -0.3333333333333333,
                  "average_arousal": -0.6666666666666666,
                  "average_office": 0,
                  "average_game": 0,
                  "_deepnote_index_column": 79
                },
                {
                  "average_mood": 5,
                  "mood_next_day": 5.5,
                  "average_valence": 0,
                  "average_arousal": -0.6666666666666666,
                  "average_office": 0,
                  "average_game": 0,
                  "_deepnote_index_column": 80
                },
                {
                  "average_mood": 5.5,
                  "mood_next_day": 5.666666666666667,
                  "average_valence": -0.5,
                  "average_arousal": -0.5,
                  "average_office": 0,
                  "average_game": 0,
                  "_deepnote_index_column": 81
                },
                {
                  "average_mood": 5.666666666666667,
                  "mood_next_day": 5.5,
                  "average_valence": -0.3333333333333333,
                  "average_arousal": -1.3333333333333333,
                  "average_office": 0,
                  "average_game": 0,
                  "_deepnote_index_column": 82
                }
              ],
              "rows_bottom": [
                {
                  "average_mood": 7,
                  "mood_next_day": 7,
                  "average_valence": 1,
                  "average_arousal": 0.8,
                  "average_office": 6.447,
                  "average_game": 0,
                  "_deepnote_index_column": 1132
                },
                {
                  "average_mood": 7,
                  "mood_next_day": 7.4,
                  "average_valence": 1,
                  "average_arousal": 1,
                  "average_office": 12.067999999999998,
                  "average_game": 0,
                  "_deepnote_index_column": 1133
                },
                {
                  "average_mood": 7.4,
                  "mood_next_day": 7.2,
                  "average_valence": 1.2,
                  "average_arousal": 1,
                  "average_office": 0,
                  "average_game": 0,
                  "_deepnote_index_column": 1134
                },
                {
                  "average_mood": 7.2,
                  "mood_next_day": 6.875,
                  "average_valence": 1,
                  "average_arousal": 0.8,
                  "average_office": 0,
                  "average_game": 0,
                  "_deepnote_index_column": 1135
                },
                {
                  "average_mood": 6.875,
                  "mood_next_day": 7,
                  "average_valence": 1,
                  "average_arousal": 0.5,
                  "average_office": 0,
                  "average_game": 0,
                  "_deepnote_index_column": 1136
                },
                {
                  "average_mood": 7,
                  "mood_next_day": 7,
                  "average_valence": 1,
                  "average_arousal": 1,
                  "average_office": 0,
                  "average_game": 0,
                  "_deepnote_index_column": 1137
                },
                {
                  "average_mood": 7,
                  "mood_next_day": 7.333333333333333,
                  "average_valence": 1,
                  "average_arousal": 0.6666666666666666,
                  "average_office": 0,
                  "average_game": 0,
                  "_deepnote_index_column": 1138
                },
                {
                  "average_mood": 7.333333333333333,
                  "mood_next_day": 7,
                  "average_valence": 1,
                  "average_arousal": 1,
                  "average_office": 0,
                  "average_game": 0,
                  "_deepnote_index_column": 1139
                },
                {
                  "average_mood": 7,
                  "mood_next_day": 7,
                  "average_valence": 1,
                  "average_arousal": 0.4,
                  "average_office": 0,
                  "average_game": 0,
                  "_deepnote_index_column": 1140
                },
                {
                  "average_mood": 7,
                  "mood_next_day": 7,
                  "average_valence": 1,
                  "average_arousal": 1,
                  "average_office": 0,
                  "average_game": 0,
                  "_deepnote_index_column": 1141
                },
                {
                  "average_mood": 7,
                  "mood_next_day": 7,
                  "average_valence": 1,
                  "average_arousal": 1,
                  "average_office": 0,
                  "average_game": 0,
                  "_deepnote_index_column": 1142
                },
                {
                  "average_mood": 7,
                  "mood_next_day": 7.5,
                  "average_valence": 1,
                  "average_arousal": 1,
                  "average_office": 0,
                  "average_game": 0,
                  "_deepnote_index_column": 1143
                },
                {
                  "average_mood": 7.5,
                  "mood_next_day": 7,
                  "average_valence": 1.5,
                  "average_arousal": -1,
                  "average_office": 31.127,
                  "average_game": 0,
                  "_deepnote_index_column": 1144
                },
                {
                  "average_mood": 7,
                  "mood_next_day": 8,
                  "average_valence": 0,
                  "average_arousal": 0,
                  "average_office": 54.259,
                  "average_game": 0,
                  "_deepnote_index_column": 1145
                },
                {
                  "average_mood": 8,
                  "mood_next_day": 8,
                  "average_valence": 0.5,
                  "average_arousal": -0.25,
                  "average_office": 58.17,
                  "average_game": 0,
                  "_deepnote_index_column": 1146
                },
                {
                  "average_mood": 8,
                  "mood_next_day": 8.4,
                  "average_valence": 0.5,
                  "average_arousal": -0.5,
                  "average_office": 0,
                  "average_game": 0,
                  "_deepnote_index_column": 1147
                },
                {
                  "average_mood": 8.4,
                  "mood_next_day": 7.6,
                  "average_valence": 1.4,
                  "average_arousal": 1.4,
                  "average_office": 0,
                  "average_game": 0,
                  "_deepnote_index_column": 1148
                },
                {
                  "average_mood": 7.6,
                  "mood_next_day": 7,
                  "average_valence": 0,
                  "average_arousal": -1.4,
                  "average_office": 0,
                  "average_game": 0,
                  "_deepnote_index_column": 1149
                },
                {
                  "average_mood": 7,
                  "mood_next_day": 7.8,
                  "average_valence": -0.5,
                  "average_arousal": -0.5,
                  "average_office": 0,
                  "average_game": 0,
                  "_deepnote_index_column": 1150
                },
                {
                  "average_mood": 7.8,
                  "mood_next_day": 7.333333333333333,
                  "average_valence": 0.2,
                  "average_arousal": 0.4,
                  "average_office": 0,
                  "average_game": 0,
                  "_deepnote_index_column": 1151
                },
                {
                  "average_mood": 7.333333333333333,
                  "mood_next_day": 8.25,
                  "average_valence": 0,
                  "average_arousal": 0.3333333333333333,
                  "average_office": 0,
                  "average_game": 0,
                  "_deepnote_index_column": 1152
                },
                {
                  "average_mood": 8.25,
                  "mood_next_day": 7.666666666666667,
                  "average_valence": 0.75,
                  "average_arousal": 0.25,
                  "average_office": 0,
                  "average_game": 0,
                  "_deepnote_index_column": 1153
                },
                {
                  "average_mood": 7.666666666666667,
                  "mood_next_day": 8.6,
                  "average_valence": 0.3333333333333333,
                  "average_arousal": 0.3333333333333333,
                  "average_office": 0,
                  "average_game": 0,
                  "_deepnote_index_column": 1154
                },
                {
                  "average_mood": 8.6,
                  "mood_next_day": 8,
                  "average_valence": 0.8,
                  "average_arousal": 0.2,
                  "average_office": 0,
                  "average_game": 0,
                  "_deepnote_index_column": 1155
                },
                {
                  "average_mood": 8,
                  "mood_next_day": 7.5,
                  "average_valence": 0.6,
                  "average_arousal": -1.8,
                  "average_office": 0,
                  "average_game": 0,
                  "_deepnote_index_column": 1156
                },
                {
                  "average_mood": 7.5,
                  "mood_next_day": 8,
                  "average_valence": 0.5,
                  "average_arousal": 0.5,
                  "average_office": 0,
                  "average_game": 0,
                  "_deepnote_index_column": 1157
                },
                {
                  "average_mood": 8,
                  "mood_next_day": 8.5,
                  "average_valence": 0.5,
                  "average_arousal": 0,
                  "average_office": 0,
                  "average_game": 0,
                  "_deepnote_index_column": 1158
                },
                {
                  "average_mood": 8.5,
                  "mood_next_day": 8.5,
                  "average_valence": 0.75,
                  "average_arousal": 0.75,
                  "average_office": 0,
                  "average_game": 0,
                  "_deepnote_index_column": 1159
                },
                {
                  "average_mood": 8.5,
                  "mood_next_day": 7,
                  "average_valence": 0.5,
                  "average_arousal": 0.5,
                  "average_office": 0,
                  "average_game": 0,
                  "_deepnote_index_column": 1160
                },
                {
                  "average_mood": 7,
                  "mood_next_day": 8,
                  "average_valence": 0,
                  "average_arousal": -0.2,
                  "average_office": 0,
                  "average_game": 0,
                  "_deepnote_index_column": 1161
                },
                {
                  "average_mood": 8,
                  "mood_next_day": 7.333333333333333,
                  "average_valence": 0.5,
                  "average_arousal": 0,
                  "average_office": 0,
                  "average_game": 0,
                  "_deepnote_index_column": 1162
                },
                {
                  "average_mood": 7.333333333333333,
                  "mood_next_day": 7.5,
                  "average_valence": 0,
                  "average_arousal": -0.5,
                  "average_office": 0,
                  "average_game": 0,
                  "_deepnote_index_column": 1163
                },
                {
                  "average_mood": 7.5,
                  "mood_next_day": 8,
                  "average_valence": 0.25,
                  "average_arousal": 0.25,
                  "average_office": 0,
                  "average_game": 0,
                  "_deepnote_index_column": 1164
                },
                {
                  "average_mood": 8,
                  "mood_next_day": 7,
                  "average_valence": 0.6666666666666666,
                  "average_arousal": 1,
                  "average_office": 0,
                  "average_game": 0,
                  "_deepnote_index_column": 1165
                },
                {
                  "average_mood": 7,
                  "mood_next_day": 7,
                  "average_valence": 0.6666666666666666,
                  "average_arousal": 0,
                  "average_office": 0,
                  "average_game": 0,
                  "_deepnote_index_column": 1166
                },
                {
                  "average_mood": 7,
                  "mood_next_day": 7.25,
                  "average_valence": 0,
                  "average_arousal": -1,
                  "average_office": 0,
                  "average_game": 0,
                  "_deepnote_index_column": 1167
                },
                {
                  "average_mood": 7.25,
                  "mood_next_day": 7.5,
                  "average_valence": 0,
                  "average_arousal": -0.25,
                  "average_office": 0,
                  "average_game": 0,
                  "_deepnote_index_column": 1168
                },
                {
                  "average_mood": 7.5,
                  "mood_next_day": 8.666666666666666,
                  "average_valence": 0.5,
                  "average_arousal": -1,
                  "average_office": 2.112,
                  "average_game": 0,
                  "_deepnote_index_column": 1169
                },
                {
                  "average_mood": 8.666666666666666,
                  "mood_next_day": 6.5,
                  "average_valence": 1,
                  "average_arousal": 0.3333333333333333,
                  "average_office": 0,
                  "average_game": 0,
                  "_deepnote_index_column": 1170
                },
                {
                  "average_mood": 6.5,
                  "mood_next_day": 6,
                  "average_valence": -0.25,
                  "average_arousal": -1,
                  "average_office": 0,
                  "average_game": 0,
                  "_deepnote_index_column": 1171
                },
                {
                  "average_mood": 6,
                  "mood_next_day": 7.75,
                  "average_valence": -0.25,
                  "average_arousal": -1,
                  "average_office": 0,
                  "average_game": 0,
                  "_deepnote_index_column": 1172
                },
                {
                  "average_mood": 7.75,
                  "mood_next_day": 7.25,
                  "average_valence": 0.75,
                  "average_arousal": -0.25,
                  "average_office": 0,
                  "average_game": 0,
                  "_deepnote_index_column": 1173
                },
                {
                  "average_mood": 7.25,
                  "mood_next_day": 7.2,
                  "average_valence": 0.5,
                  "average_arousal": -0.75,
                  "average_office": 0,
                  "average_game": 0,
                  "_deepnote_index_column": 1174
                },
                {
                  "average_mood": 7.2,
                  "mood_next_day": 7.125,
                  "average_valence": 0.2,
                  "average_arousal": -1.4,
                  "average_office": 0,
                  "average_game": 0,
                  "_deepnote_index_column": 1175
                },
                {
                  "average_mood": 7.125,
                  "mood_next_day": 7.2,
                  "average_valence": 0.3333333333333333,
                  "average_arousal": 0.3333333333333333,
                  "average_office": 0,
                  "average_game": 0,
                  "_deepnote_index_column": 1176
                },
                {
                  "average_mood": 7.2,
                  "mood_next_day": 7.4,
                  "average_valence": 1.4,
                  "average_arousal": -0.6,
                  "average_office": 0,
                  "average_game": 0,
                  "_deepnote_index_column": 1177
                },
                {
                  "average_mood": 7.4,
                  "mood_next_day": 7.666666666666667,
                  "average_valence": 0.8,
                  "average_arousal": -0.8,
                  "average_office": 0,
                  "average_game": 0,
                  "_deepnote_index_column": 1178
                },
                {
                  "average_mood": 7.666666666666667,
                  "mood_next_day": 7.4,
                  "average_valence": 1,
                  "average_arousal": 0,
                  "average_office": 0,
                  "average_game": 0,
                  "_deepnote_index_column": 1179
                },
                {
                  "average_mood": 7.4,
                  "mood_next_day": 7.2,
                  "average_valence": 1.2,
                  "average_arousal": 0,
                  "average_office": 0,
                  "average_game": 0,
                  "_deepnote_index_column": 1180
                },
                {
                  "average_mood": 7.2,
                  "mood_next_day": 6.2,
                  "average_valence": 0.6,
                  "average_arousal": 0,
                  "average_office": 0,
                  "average_game": 0,
                  "_deepnote_index_column": 1181
                },
                {
                  "average_mood": 6.2,
                  "mood_next_day": 5.2,
                  "average_valence": -0.2,
                  "average_arousal": -0.6,
                  "average_office": 0,
                  "average_game": 0,
                  "_deepnote_index_column": 1182
                },
                {
                  "average_mood": 5.2,
                  "mood_next_day": 7,
                  "average_valence": -0.6,
                  "average_arousal": -0.2,
                  "average_office": 0,
                  "average_game": 0,
                  "_deepnote_index_column": 1183
                },
                {
                  "average_mood": 7,
                  "mood_next_day": 8.4,
                  "average_valence": 1,
                  "average_arousal": -0.25,
                  "average_office": 0,
                  "average_game": 0,
                  "_deepnote_index_column": 1184
                },
                {
                  "average_mood": 8.4,
                  "mood_next_day": 7.6,
                  "average_valence": 0.4811111111111111,
                  "average_arousal": 0.8,
                  "average_office": 0,
                  "average_game": 0,
                  "_deepnote_index_column": 1185
                },
                {
                  "average_mood": 7.6,
                  "mood_next_day": 6.2,
                  "average_valence": 1,
                  "average_arousal": 0.4,
                  "average_office": 0,
                  "average_game": 0,
                  "_deepnote_index_column": 1186
                },
                {
                  "average_mood": 6.2,
                  "mood_next_day": 6.75,
                  "average_valence": 0.4,
                  "average_arousal": -1.2,
                  "average_office": 0,
                  "average_game": 0,
                  "_deepnote_index_column": 1187
                },
                {
                  "average_mood": 6.75,
                  "mood_next_day": 6.2,
                  "average_valence": 0.75,
                  "average_arousal": -1.25,
                  "average_office": 0,
                  "average_game": 0,
                  "_deepnote_index_column": 1188
                },
                {
                  "average_mood": 6.2,
                  "mood_next_day": 6.4,
                  "average_valence": 0.4,
                  "average_arousal": -0.4,
                  "average_office": 0,
                  "average_game": 0,
                  "_deepnote_index_column": 1189
                },
                {
                  "average_mood": 6.4,
                  "mood_next_day": 7.5,
                  "average_valence": 0.4811111111111111,
                  "average_arousal": -1,
                  "average_office": 0,
                  "average_game": 0,
                  "_deepnote_index_column": 1190
                },
                {
                  "average_mood": 7.5,
                  "mood_next_day": 6.125,
                  "average_valence": 1,
                  "average_arousal": 0,
                  "average_office": 0,
                  "average_game": 0,
                  "_deepnote_index_column": 1191
                },
                {
                  "average_mood": 6.125,
                  "mood_next_day": 6.6,
                  "average_valence": -0.5,
                  "average_arousal": -0.25,
                  "average_office": 0,
                  "average_game": 0,
                  "_deepnote_index_column": 1192
                },
                {
                  "average_mood": 6.6,
                  "mood_next_day": 4.8,
                  "average_valence": 0.4,
                  "average_arousal": -0.8,
                  "average_office": 0,
                  "average_game": 0,
                  "_deepnote_index_column": 1193
                },
                {
                  "average_mood": 4.8,
                  "mood_next_day": 7.6,
                  "average_valence": -0.2,
                  "average_arousal": 0.2,
                  "average_office": 0,
                  "average_game": 0,
                  "_deepnote_index_column": 1194
                },
                {
                  "average_mood": 7.6,
                  "mood_next_day": 6,
                  "average_valence": 1,
                  "average_arousal": -0.4,
                  "average_office": 0,
                  "average_game": 0,
                  "_deepnote_index_column": 1195
                },
                {
                  "average_mood": 6,
                  "mood_next_day": 6,
                  "average_valence": 0.4,
                  "average_arousal": 0,
                  "average_office": 6.036,
                  "average_game": 0,
                  "_deepnote_index_column": 1196
                },
                {
                  "average_mood": 6,
                  "mood_next_day": 5,
                  "average_valence": 0.5,
                  "average_arousal": -0.75,
                  "average_office": 0,
                  "average_game": 0,
                  "_deepnote_index_column": 1197
                },
                {
                  "average_mood": 5,
                  "mood_next_day": 6.833333333333333,
                  "average_valence": 0,
                  "average_arousal": 0.5,
                  "average_office": 0,
                  "average_game": 0,
                  "_deepnote_index_column": 1198
                },
                {
                  "average_mood": 6.833333333333333,
                  "mood_next_day": 6,
                  "average_valence": 0.4811111111111111,
                  "average_arousal": -0.3333333333333333,
                  "average_office": 0,
                  "average_game": 0,
                  "_deepnote_index_column": 1199
                },
                {
                  "average_mood": 6,
                  "mood_next_day": 7,
                  "average_valence": 0.4811111111111111,
                  "average_arousal": 0,
                  "average_office": 0,
                  "average_game": 0,
                  "_deepnote_index_column": 1200
                },
                {
                  "average_mood": 7,
                  "mood_next_day": 6,
                  "average_valence": 0.4811111111111111,
                  "average_arousal": 0.4,
                  "average_office": 0,
                  "average_game": 0,
                  "_deepnote_index_column": 1201
                },
                {
                  "average_mood": 6,
                  "mood_next_day": 6,
                  "average_valence": 0.4811111111111111,
                  "average_arousal": 0.25,
                  "average_office": 0,
                  "average_game": 0,
                  "_deepnote_index_column": 1202
                },
                {
                  "average_mood": 6,
                  "mood_next_day": 6.2,
                  "average_valence": 0.2,
                  "average_arousal": -0.6,
                  "average_office": 0,
                  "average_game": 0,
                  "_deepnote_index_column": 1203
                },
                {
                  "average_mood": 6.2,
                  "mood_next_day": 6.25,
                  "average_valence": 0.2,
                  "average_arousal": -0.2,
                  "average_office": 0,
                  "average_game": 0,
                  "_deepnote_index_column": 1204
                },
                {
                  "average_mood": 6.25,
                  "mood_next_day": 6,
                  "average_valence": 0.5,
                  "average_arousal": -0.5,
                  "average_office": 0,
                  "average_game": 0,
                  "_deepnote_index_column": 1205
                },
                {
                  "average_mood": 6,
                  "mood_next_day": 5.75,
                  "average_valence": 0.4811111111111111,
                  "average_arousal": -0.6666666666666666,
                  "average_office": 0,
                  "average_game": 0,
                  "_deepnote_index_column": 1206
                },
                {
                  "average_mood": 5.75,
                  "mood_next_day": 5.833333333333333,
                  "average_valence": 0.25,
                  "average_arousal": 0.5,
                  "average_office": 0,
                  "average_game": 0,
                  "_deepnote_index_column": 1207
                },
                {
                  "average_mood": 5.833333333333333,
                  "mood_next_day": 6.4,
                  "average_valence": 0,
                  "average_arousal": -0.8333333333333334,
                  "average_office": 0,
                  "average_game": 0,
                  "_deepnote_index_column": 1208
                },
                {
                  "average_mood": 6.4,
                  "mood_next_day": 6.25,
                  "average_valence": 0.4811111111111111,
                  "average_arousal": -0.2982456140350877,
                  "average_office": 0,
                  "average_game": 0,
                  "_deepnote_index_column": 1209
                },
                {
                  "average_mood": 6.25,
                  "mood_next_day": 5.4,
                  "average_valence": 0.4811111111111111,
                  "average_arousal": -0.75,
                  "average_office": 0,
                  "average_game": 0,
                  "_deepnote_index_column": 1210
                },
                {
                  "average_mood": 5.4,
                  "mood_next_day": 6.2,
                  "average_valence": 0,
                  "average_arousal": -0.4,
                  "average_office": 130.53,
                  "average_game": 0,
                  "_deepnote_index_column": 1211
                },
                {
                  "average_mood": 6.2,
                  "mood_next_day": 8.2,
                  "average_valence": 0.4,
                  "average_arousal": -0.6,
                  "average_office": 0,
                  "average_game": 0,
                  "_deepnote_index_column": 1212
                },
                {
                  "average_mood": 8.2,
                  "mood_next_day": 7,
                  "average_valence": 1.2,
                  "average_arousal": 0,
                  "average_office": 0,
                  "average_game": 0,
                  "_deepnote_index_column": 1213
                },
                {
                  "average_mood": 7,
                  "mood_next_day": 6.8,
                  "average_valence": 1,
                  "average_arousal": -1.3333333333333333,
                  "average_office": 0,
                  "average_game": 0,
                  "_deepnote_index_column": 1214
                }
              ]
            },
            "text/plain": "      average_mood  mood_next_day  average_valence  average_arousal  \\\n0             6.25           6.25         0.750000        -0.250000   \n1             6.25           6.40         0.200000         0.200000   \n2             6.40           6.80         0.698649         0.600000   \n3             6.80           6.00         0.800000         0.200000   \n4             6.00           6.75         0.000000         0.800000   \n...            ...            ...              ...              ...   \n1210          6.25           5.40         0.481111        -0.750000   \n1211          5.40           6.20         0.000000        -0.400000   \n1212          6.20           8.20         0.400000        -0.600000   \n1213          8.20           7.00         1.200000         0.000000   \n1214          7.00           6.80         1.000000        -1.333333   \n\n      average_office  average_game  \n0              0.000           0.0  \n1             57.402           0.0  \n2              0.000           0.0  \n3              0.000           0.0  \n4              3.010           0.0  \n...              ...           ...  \n1210           0.000           0.0  \n1211         130.530           0.0  \n1212           0.000           0.0  \n1213           0.000           0.0  \n1214           0.000           0.0  \n\n[1215 rows x 6 columns]",
            "text/html": "<div>\n<style scoped>\n    .dataframe tbody tr th:only-of-type {\n        vertical-align: middle;\n    }\n\n    .dataframe tbody tr th {\n        vertical-align: top;\n    }\n\n    .dataframe thead th {\n        text-align: right;\n    }\n</style>\n<table border=\"1\" class=\"dataframe\">\n  <thead>\n    <tr style=\"text-align: right;\">\n      <th></th>\n      <th>average_mood</th>\n      <th>mood_next_day</th>\n      <th>average_valence</th>\n      <th>average_arousal</th>\n      <th>average_office</th>\n      <th>average_game</th>\n    </tr>\n  </thead>\n  <tbody>\n    <tr>\n      <th>0</th>\n      <td>6.25</td>\n      <td>6.25</td>\n      <td>0.750000</td>\n      <td>-0.250000</td>\n      <td>0.000</td>\n      <td>0.0</td>\n    </tr>\n    <tr>\n      <th>1</th>\n      <td>6.25</td>\n      <td>6.40</td>\n      <td>0.200000</td>\n      <td>0.200000</td>\n      <td>57.402</td>\n      <td>0.0</td>\n    </tr>\n    <tr>\n      <th>2</th>\n      <td>6.40</td>\n      <td>6.80</td>\n      <td>0.698649</td>\n      <td>0.600000</td>\n      <td>0.000</td>\n      <td>0.0</td>\n    </tr>\n    <tr>\n      <th>3</th>\n      <td>6.80</td>\n      <td>6.00</td>\n      <td>0.800000</td>\n      <td>0.200000</td>\n      <td>0.000</td>\n      <td>0.0</td>\n    </tr>\n    <tr>\n      <th>4</th>\n      <td>6.00</td>\n      <td>6.75</td>\n      <td>0.000000</td>\n      <td>0.800000</td>\n      <td>3.010</td>\n      <td>0.0</td>\n    </tr>\n    <tr>\n      <th>...</th>\n      <td>...</td>\n      <td>...</td>\n      <td>...</td>\n      <td>...</td>\n      <td>...</td>\n      <td>...</td>\n    </tr>\n    <tr>\n      <th>1210</th>\n      <td>6.25</td>\n      <td>5.40</td>\n      <td>0.481111</td>\n      <td>-0.750000</td>\n      <td>0.000</td>\n      <td>0.0</td>\n    </tr>\n    <tr>\n      <th>1211</th>\n      <td>5.40</td>\n      <td>6.20</td>\n      <td>0.000000</td>\n      <td>-0.400000</td>\n      <td>130.530</td>\n      <td>0.0</td>\n    </tr>\n    <tr>\n      <th>1212</th>\n      <td>6.20</td>\n      <td>8.20</td>\n      <td>0.400000</td>\n      <td>-0.600000</td>\n      <td>0.000</td>\n      <td>0.0</td>\n    </tr>\n    <tr>\n      <th>1213</th>\n      <td>8.20</td>\n      <td>7.00</td>\n      <td>1.200000</td>\n      <td>0.000000</td>\n      <td>0.000</td>\n      <td>0.0</td>\n    </tr>\n    <tr>\n      <th>1214</th>\n      <td>7.00</td>\n      <td>6.80</td>\n      <td>1.000000</td>\n      <td>-1.333333</td>\n      <td>0.000</td>\n      <td>0.0</td>\n    </tr>\n  </tbody>\n</table>\n<p>1215 rows × 6 columns</p>\n</div>"
          },
          "metadata": {}
        }
      ]
    },
    {
      "cell_type": "code",
      "metadata": {
        "tags": [],
        "cell_id": "00005-226cfaeb-329a-4625-adb5-0af5da50c04a",
        "deepnote_to_be_reexecuted": true,
        "source_hash": "5f6c9491",
        "execution_millis": 6,
        "deepnote_cell_type": "code"
      },
      "source": "def prep_data(raw_df: pd.DataFrame, target_columns: List, drop_first: bool = True, make_na_col: bool = True) -> pd.DataFrame:\n    \"\"\"Dummify a pandas dataframe\n    \"\"\"\n    dataframe_dummy = pd.get_dummies(raw_df, columns=target_columns, \n                                        drop_first=drop_first, \n                                        dummy_na=make_na_col)\n    return (dataframe_dummy)",
      "execution_count": 4,
      "outputs": []
    },
    {
      "cell_type": "markdown",
      "source": "### Splitting the Data",
      "metadata": {
        "tags": [],
        "cell_id": "00009-64708f07-a82a-491c-b5a1-85e1d38b3fef",
        "deepnote_cell_type": "markdown"
      }
    },
    {
      "cell_type": "code",
      "metadata": {
        "tags": [],
        "cell_id": "00010-f805b4c9-8cf1-4323-81eb-3fc22a5a9c25",
        "deepnote_to_be_reexecuted": false,
        "source_hash": "746a4dbc",
        "execution_millis": 147,
        "execution_start": 1618318005203,
        "deepnote_cell_type": "code"
      },
      "source": "from sklearn.model_selection import train_test_split",
      "execution_count": 5,
      "outputs": []
    },
    {
      "cell_type": "code",
      "metadata": {
        "tags": [],
        "cell_id": "00010-7cecb5e8-abfc-4475-9281-865a7cbc69fd",
        "deepnote_to_be_reexecuted": false,
        "source_hash": "71c9afd7",
        "execution_millis": 2,
        "execution_start": 1618318015744,
        "deepnote_cell_type": "code"
      },
      "source": "X_train, X_test, y_train, y_test = train_test_split(\n    df.drop(columns=[\"mood_next_day\"]), \n    df.mood_next_day, \n    test_size=0.35, random_state=58)",
      "execution_count": 7,
      "outputs": []
    },
    {
      "cell_type": "code",
      "metadata": {
        "tags": [],
        "cell_id": "00011-5ffe0f02-4718-47a7-a6af-eeae456df468",
        "deepnote_to_be_reexecuted": false,
        "source_hash": "6285a964",
        "execution_millis": 2,
        "execution_start": 1618318017776,
        "deepnote_cell_type": "code"
      },
      "source": "# Validation data so we can keep the test data untouched\nX_tset, X_val, y_tset, y_val = train_test_split(\n    X_train, \n    y_train, \n    test_size=0.35, random_state=58)",
      "execution_count": 8,
      "outputs": []
    },
    {
      "cell_type": "markdown",
      "source": "### Apply the Model",
      "metadata": {
        "tags": [],
        "cell_id": "00013-618f490c-423a-427c-90f7-472c1daec905",
        "deepnote_cell_type": "markdown"
      }
    },
    {
      "cell_type": "code",
      "metadata": {
        "tags": [],
        "cell_id": "00013-058c5c96-c66c-4120-a822-40b6b4fa376c",
        "deepnote_to_be_reexecuted": false,
        "source_hash": "136dbd51",
        "execution_millis": 0,
        "execution_start": 1618318019553,
        "deepnote_cell_type": "code"
      },
      "source": "# CatBoost Specific Optimization\ntrain_dataset = cb.Pool(X_tset, y_tset) \ntest_dataset = cb.Pool(X_val, y_val)\n\nentire_train = cb.Pool(X_train, y_train)",
      "execution_count": 9,
      "outputs": []
    },
    {
      "cell_type": "code",
      "source": "grid_params ={ # New Grid search setup so it doesn't take 48 hrs...\n    'one': {\n        'l2_leaf_reg': [1,3,5,7,9,11,20],\n        'depth': [6, 8, 10],\n        'random_strength': [0.01, 0.05, 0.1]},\n    'two': {\n        'l2_leaf_reg': [1,3,5,7,9,11,20],\n        'depth': [6, 8, 10],\n        'random_strength': [0.01, 0.05, 0.1]},\n    'three': {\n        'l2_leaf_reg': [1,3,5,7,9,11,20],\n        'depth': [6, 8, 10],\n        'random_strength': [0.01, 0.05, 0.1]},\n}",
      "metadata": {
        "tags": [],
        "cell_id": "00013-2bb0696f-4037-4b39-a83c-59de7a388e5d",
        "deepnote_to_be_reexecuted": false,
        "source_hash": "256af73c",
        "execution_millis": 8,
        "execution_start": 1618324354713,
        "deepnote_cell_type": "code"
      },
      "outputs": [],
      "execution_count": 25
    },
    {
      "cell_type": "code",
      "metadata": {
        "tags": [],
        "cell_id": "00015-beffb070-8f8b-471d-a86d-035bb12f6782",
        "deepnote_to_be_reexecuted": false,
        "source_hash": "e7790093",
        "execution_millis": 1188910,
        "output_cleared": false,
        "execution_start": 1618324359397,
        "deepnote_cell_type": "code"
      },
      "source": "searched_cat_objects = dict()\n\nfor grid_selection in grid_params:\n    \n    learning_rate = 0.1 if grid_selection == 'one' else 0.05\n    \n    if grid_selection == 'three': # Small clausule to prevent a learning rate of 0.01 when we see a convergence between 0.05 and 0.1\n        learning_rate = 0.01\n        if searched_cat_objects['one']['params'] == searched_cat_objects['two']['params']:\n            break\n        else:\n            print(f\"Did not find similar parameters, trying a learning rate of 0.01...\")\n\n    # Set general object params\n    cbc_params = {\n        'iterations': 1000,\n        'learning_rate': learning_rate,\n        'random_seed': np.random.randint(low=1, high=100),\n        'verbose': 100,\n        'loss_function': 'RMSE'}\n\n    CBC = cb.CatBoostRegressor(**cbc_params)\n\n    # Grid Search Uses CV internally, allowing me to parse the entire training set more effectively\n    CBC_grid = CBC.grid_search(grid_params[grid_selection], X=entire_train, partition_random_seed=np.random.randint(low=1, high=100))\n\n    searched_cat_objects[grid_selection] = CBC_grid",
      "execution_count": 16,
      "outputs": [
        {
          "name": "stdout",
          "text": "0:\tlearn: 6.3669580\ttest: 6.4124144\tbest: 6.4124144 (0)\ttotal: 1.38ms\tremaining: 1.38s\n100:\tlearn: 0.4628282\ttest: 0.7255587\tbest: 0.7239214 (69)\ttotal: 137ms\tremaining: 1.22s\n200:\tlearn: 0.4066202\ttest: 0.7340570\tbest: 0.7239214 (69)\ttotal: 293ms\tremaining: 1.17s\n300:\tlearn: 0.3623531\ttest: 0.7454386\tbest: 0.7239214 (69)\ttotal: 428ms\tremaining: 994ms\n400:\tlearn: 0.3342876\ttest: 0.7471520\tbest: 0.7239214 (69)\ttotal: 565ms\tremaining: 844ms\n500:\tlearn: 0.3133881\ttest: 0.7546182\tbest: 0.7239214 (69)\ttotal: 698ms\tremaining: 695ms\n600:\tlearn: 0.2974735\ttest: 0.7605364\tbest: 0.7239214 (69)\ttotal: 833ms\tremaining: 553ms\n700:\tlearn: 0.2833934\ttest: 0.7654172\tbest: 0.7239214 (69)\ttotal: 971ms\tremaining: 414ms\n800:\tlearn: 0.2725558\ttest: 0.7700281\tbest: 0.7239214 (69)\ttotal: 1.11s\tremaining: 275ms\n900:\tlearn: 0.2630875\ttest: 0.7741288\tbest: 0.7239214 (69)\ttotal: 1.25s\tremaining: 138ms\n999:\tlearn: 0.2552534\ttest: 0.7786442\tbest: 0.7239214 (69)\ttotal: 1.4s\tremaining: 0us\n\nbestTest = 0.72392141\nbestIteration = 69\n\n0:\tloss: 0.7239214\tbest: 0.7239214 (0)\ttotal: 1.48s\tremaining: 1m 31s\n0:\tlearn: 6.3625117\ttest: 6.4013447\tbest: 6.4013447 (0)\ttotal: 3.74ms\tremaining: 3.74s\n100:\tlearn: 0.4885615\ttest: 0.7080267\tbest: 0.7076752 (99)\ttotal: 179ms\tremaining: 1.59s\n200:\tlearn: 0.4413567\ttest: 0.7157693\tbest: 0.7076752 (99)\ttotal: 314ms\tremaining: 1.25s\n300:\tlearn: 0.4065676\ttest: 0.7297825\tbest: 0.7076752 (99)\ttotal: 452ms\tremaining: 1.05s\n400:\tlearn: 0.3784170\ttest: 0.7373036\tbest: 0.7076752 (99)\ttotal: 600ms\tremaining: 896ms\n500:\tlearn: 0.3549286\ttest: 0.7455199\tbest: 0.7076752 (99)\ttotal: 752ms\tremaining: 749ms\n600:\tlearn: 0.3364754\ttest: 0.7531176\tbest: 0.7076752 (99)\ttotal: 912ms\tremaining: 606ms\n700:\tlearn: 0.3215547\ttest: 0.7577610\tbest: 0.7076752 (99)\ttotal: 1.05s\tremaining: 449ms\n800:\tlearn: 0.3088811\ttest: 0.7611500\tbest: 0.7076752 (99)\ttotal: 1.2s\tremaining: 298ms\n900:\tlearn: 0.2976309\ttest: 0.7638085\tbest: 0.7076752 (99)\ttotal: 1.33s\tremaining: 147ms\n999:\tlearn: 0.2859941\ttest: 0.7676763\tbest: 0.7076752 (99)\ttotal: 1.48s\tremaining: 0us\n\nbestTest = 0.7076752219\nbestIteration = 99\n\n1:\tloss: 0.7076752\tbest: 0.7076752 (1)\ttotal: 2.99s\tremaining: 1m 31s\n0:\tlearn: 6.3632172\ttest: 6.4043119\tbest: 6.4043119 (0)\ttotal: 1.85ms\tremaining: 1.85s\n100:\tlearn: 0.5045353\ttest: 0.7156725\tbest: 0.7156141 (88)\ttotal: 130ms\tremaining: 1.16s\n200:\tlearn: 0.4635908\ttest: 0.7216117\tbest: 0.7144879 (130)\ttotal: 281ms\tremaining: 1.12s\n300:\tlearn: 0.4312751\ttest: 0.7257152\tbest: 0.7144879 (130)\ttotal: 451ms\tremaining: 1.05s\n400:\tlearn: 0.4010220\ttest: 0.7305602\tbest: 0.7144879 (130)\ttotal: 589ms\tremaining: 879ms\n500:\tlearn: 0.3805030\ttest: 0.7371740\tbest: 0.7144879 (130)\ttotal: 729ms\tremaining: 727ms\n600:\tlearn: 0.3623816\ttest: 0.7427333\tbest: 0.7144879 (130)\ttotal: 883ms\tremaining: 586ms\n700:\tlearn: 0.3463399\ttest: 0.7477248\tbest: 0.7144879 (130)\ttotal: 1.02s\tremaining: 435ms\n800:\tlearn: 0.3318927\ttest: 0.7511430\tbest: 0.7144879 (130)\ttotal: 1.15s\tremaining: 285ms\n900:\tlearn: 0.3211207\ttest: 0.7538018\tbest: 0.7144879 (130)\ttotal: 1.29s\tremaining: 142ms\n999:\tlearn: 0.3107956\ttest: 0.7559289\tbest: 0.7144879 (130)\ttotal: 1.44s\tremaining: 0us\n\nbestTest = 0.7144879241\nbestIteration = 130\n\n2:\tloss: 0.7144879\tbest: 0.7076752 (1)\ttotal: 4.45s\tremaining: 1m 29s\n0:\tlearn: 6.3683427\ttest: 6.4084530\tbest: 6.4084530 (0)\ttotal: 1.39ms\tremaining: 1.39s\n100:\tlearn: 0.5112790\ttest: 0.7015696\tbest: 0.7015696 (100)\ttotal: 134ms\tremaining: 1.19s\n200:\tlearn: 0.4780487\ttest: 0.7029574\tbest: 0.7006900 (128)\ttotal: 279ms\tremaining: 1.11s\n300:\tlearn: 0.4462241\ttest: 0.7079878\tbest: 0.7006900 (128)\ttotal: 417ms\tremaining: 968ms\n400:\tlearn: 0.4214694\ttest: 0.7114654\tbest: 0.7006900 (128)\ttotal: 552ms\tremaining: 824ms\n500:\tlearn: 0.4037356\ttest: 0.7168343\tbest: 0.7006900 (128)\ttotal: 690ms\tremaining: 687ms\n600:\tlearn: 0.3871676\ttest: 0.7236688\tbest: 0.7006900 (128)\ttotal: 833ms\tremaining: 553ms\n700:\tlearn: 0.3712293\ttest: 0.7279646\tbest: 0.7006900 (128)\ttotal: 968ms\tremaining: 413ms\n800:\tlearn: 0.3571306\ttest: 0.7321069\tbest: 0.7006900 (128)\ttotal: 1.1s\tremaining: 274ms\n900:\tlearn: 0.3422416\ttest: 0.7392980\tbest: 0.7006900 (128)\ttotal: 1.24s\tremaining: 137ms\n999:\tlearn: 0.3319288\ttest: 0.7445071\tbest: 0.7006900 (128)\ttotal: 1.38s\tremaining: 0us\n\nbestTest = 0.7006899837\nbestIteration = 128\n\n3:\tloss: 0.7006900\tbest: 0.7006900 (3)\ttotal: 5.87s\tremaining: 1m 26s\n0:\tlearn: 6.3756898\ttest: 6.4150777\tbest: 6.4150777 (0)\ttotal: 1.57ms\tremaining: 1.57s\n100:\tlearn: 0.5112640\ttest: 0.7044574\tbest: 0.7034498 (74)\ttotal: 177ms\tremaining: 1.57s\n200:\tlearn: 0.4826518\ttest: 0.7016975\tbest: 0.6998265 (177)\ttotal: 313ms\tremaining: 1.25s\n300:\tlearn: 0.4564927\ttest: 0.7055209\tbest: 0.6998265 (177)\ttotal: 453ms\tremaining: 1.05s\n400:\tlearn: 0.4332656\ttest: 0.7099532\tbest: 0.6998265 (177)\ttotal: 609ms\tremaining: 910ms\n500:\tlearn: 0.4120825\ttest: 0.7159238\tbest: 0.6998265 (177)\ttotal: 750ms\tremaining: 747ms\n600:\tlearn: 0.3928117\ttest: 0.7206347\tbest: 0.6998265 (177)\ttotal: 893ms\tremaining: 593ms\n700:\tlearn: 0.3788240\ttest: 0.7286483\tbest: 0.6998265 (177)\ttotal: 1.04s\tremaining: 443ms\n800:\tlearn: 0.3666428\ttest: 0.7351105\tbest: 0.6998265 (177)\ttotal: 1.17s\tremaining: 291ms\n900:\tlearn: 0.3543160\ttest: 0.7378116\tbest: 0.6998265 (177)\ttotal: 1.33s\tremaining: 146ms\n999:\tlearn: 0.3428534\ttest: 0.7420900\tbest: 0.6998265 (177)\ttotal: 1.47s\tremaining: 0us\n\nbestTest = 0.6998264517\nbestIteration = 177\n\n4:\tloss: 0.6998265\tbest: 0.6998265 (4)\ttotal: 7.37s\tremaining: 1m 25s\n0:\tlearn: 6.3817656\ttest: 6.4210631\tbest: 6.4210631 (0)\ttotal: 1.71ms\tremaining: 1.7s\n100:\tlearn: 0.5173034\ttest: 0.7117840\tbest: 0.7109775 (85)\ttotal: 143ms\tremaining: 1.27s\n200:\tlearn: 0.4935827\ttest: 0.7114270\tbest: 0.7107307 (108)\ttotal: 287ms\tremaining: 1.14s\n300:\tlearn: 0.4691221\ttest: 0.7137558\tbest: 0.7107307 (108)\ttotal: 447ms\tremaining: 1.04s\n400:\tlearn: 0.4484832\ttest: 0.7192010\tbest: 0.7107307 (108)\ttotal: 602ms\tremaining: 899ms\n500:\tlearn: 0.4290439\ttest: 0.7247742\tbest: 0.7107307 (108)\ttotal: 738ms\tremaining: 735ms\n600:\tlearn: 0.4091160\ttest: 0.7266466\tbest: 0.7107307 (108)\ttotal: 886ms\tremaining: 588ms\n700:\tlearn: 0.3946305\ttest: 0.7291855\tbest: 0.7107307 (108)\ttotal: 1.08s\tremaining: 459ms\n800:\tlearn: 0.3811052\ttest: 0.7319300\tbest: 0.7107307 (108)\ttotal: 1.31s\tremaining: 325ms\n900:\tlearn: 0.3679506\ttest: 0.7364273\tbest: 0.7107307 (108)\ttotal: 1.53s\tremaining: 169ms\n999:\tlearn: 0.3567119\ttest: 0.7395156\tbest: 0.7107307 (108)\ttotal: 1.71s\tremaining: 0us\n\nbestTest = 0.7107307226\nbestIteration = 108\n\n5:\tloss: 0.7107307\tbest: 0.6998265 (4)\ttotal: 9.11s\tremaining: 1m 26s\n0:\tlearn: 6.4073547\ttest: 6.4497844\tbest: 6.4497844 (0)\ttotal: 1.38ms\tremaining: 1.38s\n100:\tlearn: 0.5304148\ttest: 0.6955795\tbest: 0.6955795 (100)\ttotal: 128ms\tremaining: 1.14s\n200:\tlearn: 0.5149125\ttest: 0.6935156\tbest: 0.6932810 (185)\ttotal: 266ms\tremaining: 1.06s\n300:\tlearn: 0.4960408\ttest: 0.6953343\tbest: 0.6932810 (185)\ttotal: 453ms\tremaining: 1.05s\n400:\tlearn: 0.4790950\ttest: 0.6968425\tbest: 0.6932810 (185)\ttotal: 586ms\tremaining: 876ms\n500:\tlearn: 0.4640941\ttest: 0.6989782\tbest: 0.6932810 (185)\ttotal: 719ms\tremaining: 716ms\n600:\tlearn: 0.4489959\ttest: 0.7014087\tbest: 0.6932810 (185)\ttotal: 871ms\tremaining: 578ms\n700:\tlearn: 0.4385268\ttest: 0.7024538\tbest: 0.6932810 (185)\ttotal: 1.01s\tremaining: 431ms\n800:\tlearn: 0.4282615\ttest: 0.7040425\tbest: 0.6932810 (185)\ttotal: 1.14s\tremaining: 284ms\n900:\tlearn: 0.4167824\ttest: 0.7059217\tbest: 0.6932810 (185)\ttotal: 1.28s\tremaining: 141ms\n999:\tlearn: 0.4066545\ttest: 0.7075547\tbest: 0.6932810 (185)\ttotal: 1.44s\tremaining: 0us\n\nbestTest = 0.6932809715\nbestIteration = 185\n\n6:\tloss: 0.6932810\tbest: 0.6932810 (6)\ttotal: 10.6s\tremaining: 1m 24s\n0:\tlearn: 6.3572408\ttest: 6.4081974\tbest: 6.4081974 (0)\ttotal: 1.68ms\tremaining: 1.68s\n100:\tlearn: 0.4610963\ttest: 0.7325961\tbest: 0.7296775 (92)\ttotal: 138ms\tremaining: 1.23s\n200:\tlearn: 0.4021525\ttest: 0.7403000\tbest: 0.7296775 (92)\ttotal: 271ms\tremaining: 1.08s\n300:\tlearn: 0.3631326\ttest: 0.7509433\tbest: 0.7296775 (92)\ttotal: 410ms\tremaining: 953ms\n400:\tlearn: 0.3362016\ttest: 0.7567905\tbest: 0.7296775 (92)\ttotal: 547ms\tremaining: 818ms\n500:\tlearn: 0.3171243\ttest: 0.7647018\tbest: 0.7296775 (92)\ttotal: 683ms\tremaining: 680ms\n600:\tlearn: 0.2994892\ttest: 0.7709198\tbest: 0.7296775 (92)\ttotal: 816ms\tremaining: 542ms\n700:\tlearn: 0.2852595\ttest: 0.7762133\tbest: 0.7296775 (92)\ttotal: 982ms\tremaining: 419ms\n800:\tlearn: 0.2719982\ttest: 0.7796308\tbest: 0.7296775 (92)\ttotal: 1.11s\tremaining: 276ms\n900:\tlearn: 0.2605662\ttest: 0.7841469\tbest: 0.7296775 (92)\ttotal: 1.25s\tremaining: 137ms\n999:\tlearn: 0.2530904\ttest: 0.7852716\tbest: 0.7296775 (92)\ttotal: 1.38s\tremaining: 0us\n\nbestTest = 0.7296774554\nbestIteration = 92\n\n7:\tloss: 0.7296775\tbest: 0.6932810 (6)\ttotal: 12s\tremaining: 1m 22s\n0:\tlearn: 6.3754880\ttest: 6.4285757\tbest: 6.4285757 (0)\ttotal: 1.57ms\tremaining: 1.56s\n100:\tlearn: 0.5071135\ttest: 0.7495989\tbest: 0.7495989 (100)\ttotal: 139ms\tremaining: 1.23s\n200:\tlearn: 0.4488886\ttest: 0.7534949\tbest: 0.7490437 (151)\ttotal: 271ms\tremaining: 1.08s\n300:\tlearn: 0.4075748\ttest: 0.7624317\tbest: 0.7490437 (151)\ttotal: 408ms\tremaining: 947ms\n400:\tlearn: 0.3802224\ttest: 0.7700533\tbest: 0.7490437 (151)\ttotal: 542ms\tremaining: 809ms\n500:\tlearn: 0.3550803\ttest: 0.7792997\tbest: 0.7490437 (151)\ttotal: 683ms\tremaining: 681ms\n600:\tlearn: 0.3380071\ttest: 0.7840945\tbest: 0.7490437 (151)\ttotal: 821ms\tremaining: 545ms\n700:\tlearn: 0.3225088\ttest: 0.7873171\tbest: 0.7490437 (151)\ttotal: 961ms\tremaining: 410ms\n800:\tlearn: 0.3081431\ttest: 0.7918455\tbest: 0.7490437 (151)\ttotal: 1.1s\tremaining: 273ms\n900:\tlearn: 0.2988345\ttest: 0.7934859\tbest: 0.7490437 (151)\ttotal: 1.24s\tremaining: 136ms\n999:\tlearn: 0.2903045\ttest: 0.7981590\tbest: 0.7490437 (151)\ttotal: 1.37s\tremaining: 0us\n\nbestTest = 0.7490437032\nbestIteration = 151\n\n8:\tloss: 0.7490437\tbest: 0.6932810 (6)\ttotal: 13.4s\tremaining: 1m 20s\n0:\tlearn: 6.3927010\ttest: 6.4281711\tbest: 6.4281711 (0)\ttotal: 1.61ms\tremaining: 1.61s\n100:\tlearn: 0.5103228\ttest: 0.7246689\tbest: 0.7244042 (93)\ttotal: 162ms\tremaining: 1.44s\n200:\tlearn: 0.4671042\ttest: 0.7248489\tbest: 0.7232030 (149)\ttotal: 288ms\tremaining: 1.14s\n300:\tlearn: 0.4351162\ttest: 0.7285404\tbest: 0.7232030 (149)\ttotal: 440ms\tremaining: 1.02s\n400:\tlearn: 0.4084641\ttest: 0.7341741\tbest: 0.7232030 (149)\ttotal: 605ms\tremaining: 904ms\n500:\tlearn: 0.3830600\ttest: 0.7443440\tbest: 0.7232030 (149)\ttotal: 751ms\tremaining: 748ms\n600:\tlearn: 0.3655819\ttest: 0.7498678\tbest: 0.7232030 (149)\ttotal: 889ms\tremaining: 590ms\n700:\tlearn: 0.3489802\ttest: 0.7578569\tbest: 0.7232030 (149)\ttotal: 1.03s\tremaining: 439ms\n800:\tlearn: 0.3369109\ttest: 0.7601835\tbest: 0.7232030 (149)\ttotal: 1.18s\tremaining: 294ms\n900:\tlearn: 0.3254336\ttest: 0.7654311\tbest: 0.7232030 (149)\ttotal: 1.32s\tremaining: 145ms\n999:\tlearn: 0.3148575\ttest: 0.7691924\tbest: 0.7232030 (149)\ttotal: 1.52s\tremaining: 0us\n\nbestTest = 0.7232029661\nbestIteration = 149\n\n9:\tloss: 0.7232030\tbest: 0.6932810 (6)\ttotal: 14.9s\tremaining: 1m 19s\n0:\tlearn: 6.3793880\ttest: 6.4195422\tbest: 6.4195422 (0)\ttotal: 1.38ms\tremaining: 1.38s\n100:\tlearn: 0.5188888\ttest: 0.7106584\tbest: 0.7106584 (100)\ttotal: 139ms\tremaining: 1.24s\n200:\tlearn: 0.4836006\ttest: 0.7075534\tbest: 0.7073884 (195)\ttotal: 300ms\tremaining: 1.19s\n300:\tlearn: 0.4537892\ttest: 0.7113096\tbest: 0.7073884 (195)\ttotal: 441ms\tremaining: 1.02s\n400:\tlearn: 0.4314619\ttest: 0.7147793\tbest: 0.7073884 (195)\ttotal: 593ms\tremaining: 886ms\n500:\tlearn: 0.4084448\ttest: 0.7200228\tbest: 0.7073884 (195)\ttotal: 764ms\tremaining: 761ms\n600:\tlearn: 0.3904127\ttest: 0.7242856\tbest: 0.7073884 (195)\ttotal: 1.05s\tremaining: 696ms\n700:\tlearn: 0.3747194\ttest: 0.7296039\tbest: 0.7073884 (195)\ttotal: 1.25s\tremaining: 533ms\n800:\tlearn: 0.3611195\ttest: 0.7343801\tbest: 0.7073884 (195)\ttotal: 1.39s\tremaining: 345ms\n900:\tlearn: 0.3492171\ttest: 0.7397477\tbest: 0.7073884 (195)\ttotal: 1.54s\tremaining: 169ms\n999:\tlearn: 0.3377648\ttest: 0.7433585\tbest: 0.7073884 (195)\ttotal: 1.67s\tremaining: 0us\n\nbestTest = 0.7073883627\nbestIteration = 195\n\n10:\tloss: 0.7073884\tbest: 0.6932810 (6)\ttotal: 16.6s\tremaining: 1m 18s\n0:\tlearn: 6.3914307\ttest: 6.4281846\tbest: 6.4281846 (0)\ttotal: 2.19ms\tremaining: 2.18s\n100:\tlearn: 0.5325940\ttest: 0.7096303\tbest: 0.7092783 (97)\ttotal: 157ms\tremaining: 1.4s\n200:\tlearn: 0.4907870\ttest: 0.7039075\tbest: 0.7038623 (199)\ttotal: 293ms\tremaining: 1.16s\n300:\tlearn: 0.4603166\ttest: 0.7043737\tbest: 0.7018652 (258)\ttotal: 431ms\tremaining: 1s\n400:\tlearn: 0.4365886\ttest: 0.7097470\tbest: 0.7018652 (258)\ttotal: 590ms\tremaining: 882ms\n500:\tlearn: 0.4164251\ttest: 0.7153422\tbest: 0.7018652 (258)\ttotal: 745ms\tremaining: 742ms\n600:\tlearn: 0.3989566\ttest: 0.7236326\tbest: 0.7018652 (258)\ttotal: 893ms\tremaining: 593ms\n700:\tlearn: 0.3842098\ttest: 0.7291505\tbest: 0.7018652 (258)\ttotal: 1.03s\tremaining: 440ms\n800:\tlearn: 0.3698825\ttest: 0.7336084\tbest: 0.7018652 (258)\ttotal: 1.24s\tremaining: 308ms\n900:\tlearn: 0.3581401\ttest: 0.7379176\tbest: 0.7018652 (258)\ttotal: 1.37s\tremaining: 151ms\n999:\tlearn: 0.3475001\ttest: 0.7427731\tbest: 0.7018652 (258)\ttotal: 1.51s\tremaining: 0us\n\nbestTest = 0.7018651538\nbestIteration = 258\n\n11:\tloss: 0.7018652\tbest: 0.6932810 (6)\ttotal: 18.2s\tremaining: 1m 17s\n0:\tlearn: 6.3995656\ttest: 6.4361401\tbest: 6.4361401 (0)\ttotal: 1.7ms\tremaining: 1.7s\n100:\tlearn: 0.5323754\ttest: 0.7140403\tbest: 0.7136080 (98)\ttotal: 144ms\tremaining: 1.28s\n200:\tlearn: 0.4943269\ttest: 0.7053339\tbest: 0.7048161 (183)\ttotal: 281ms\tremaining: 1.12s\n300:\tlearn: 0.4658436\ttest: 0.7038417\tbest: 0.7038414 (299)\ttotal: 414ms\tremaining: 962ms\n400:\tlearn: 0.4432510\ttest: 0.7072470\tbest: 0.7036726 (302)\ttotal: 575ms\tremaining: 859ms\n500:\tlearn: 0.4210072\ttest: 0.7123478\tbest: 0.7036726 (302)\ttotal: 710ms\tremaining: 707ms\n600:\tlearn: 0.4040471\ttest: 0.7185722\tbest: 0.7036726 (302)\ttotal: 847ms\tremaining: 562ms\n700:\tlearn: 0.3890129\ttest: 0.7247493\tbest: 0.7036726 (302)\ttotal: 985ms\tremaining: 420ms\n800:\tlearn: 0.3769553\ttest: 0.7311118\tbest: 0.7036726 (302)\ttotal: 1.12s\tremaining: 278ms\n900:\tlearn: 0.3652019\ttest: 0.7349691\tbest: 0.7036726 (302)\ttotal: 1.26s\tremaining: 139ms\n999:\tlearn: 0.3560749\ttest: 0.7381124\tbest: 0.7036726 (302)\ttotal: 1.42s\tremaining: 0us\n\nbestTest = 0.7036726102\nbestIteration = 302\n\n12:\tloss: 0.7036726\tbest: 0.6932810 (6)\ttotal: 19.6s\tremaining: 1m 15s\n0:\tlearn: 6.4094794\ttest: 6.4431953\tbest: 6.4431953 (0)\ttotal: 1.66ms\tremaining: 1.66s\n100:\tlearn: 0.5720025\ttest: 0.6943153\tbest: 0.6943153 (100)\ttotal: 151ms\tremaining: 1.35s\n200:\tlearn: 0.5414342\ttest: 0.6956238\tbest: 0.6939050 (136)\ttotal: 289ms\tremaining: 1.15s\n300:\tlearn: 0.5192959\ttest: 0.6984499\tbest: 0.6939050 (136)\ttotal: 426ms\tremaining: 989ms\n400:\tlearn: 0.5026548\ttest: 0.6996356\tbest: 0.6939050 (136)\ttotal: 569ms\tremaining: 851ms\n500:\tlearn: 0.4878429\ttest: 0.7003139\tbest: 0.6939050 (136)\ttotal: 702ms\tremaining: 700ms\n600:\tlearn: 0.4714898\ttest: 0.7018324\tbest: 0.6939050 (136)\ttotal: 868ms\tremaining: 576ms\n700:\tlearn: 0.4546117\ttest: 0.7061209\tbest: 0.6939050 (136)\ttotal: 1.01s\tremaining: 433ms\n800:\tlearn: 0.4403022\ttest: 0.7080142\tbest: 0.6939050 (136)\ttotal: 1.18s\tremaining: 292ms\n900:\tlearn: 0.4276660\ttest: 0.7135132\tbest: 0.6939050 (136)\ttotal: 1.32s\tremaining: 145ms\n999:\tlearn: 0.4160647\ttest: 0.7166159\tbest: 0.6939050 (136)\ttotal: 1.47s\tremaining: 0us\n\nbestTest = 0.6939050282\nbestIteration = 136\n\n13:\tloss: 0.6939050\tbest: 0.6932810 (6)\ttotal: 21.1s\tremaining: 1m 13s\n0:\tlearn: 6.3585994\ttest: 6.4154808\tbest: 6.4154808 (0)\ttotal: 1.8ms\tremaining: 1.8s\n100:\tlearn: 0.4693728\ttest: 0.7398702\tbest: 0.7387791 (94)\ttotal: 135ms\tremaining: 1.2s\n200:\tlearn: 0.4085475\ttest: 0.7464814\tbest: 0.7387791 (94)\ttotal: 269ms\tremaining: 1.07s\n300:\tlearn: 0.3679273\ttest: 0.7529563\tbest: 0.7387791 (94)\ttotal: 409ms\tremaining: 950ms\n400:\tlearn: 0.3423331\ttest: 0.7573095\tbest: 0.7387791 (94)\ttotal: 544ms\tremaining: 813ms\n500:\tlearn: 0.3176384\ttest: 0.7654736\tbest: 0.7387791 (94)\ttotal: 685ms\tremaining: 683ms\n600:\tlearn: 0.3014347\ttest: 0.7718615\tbest: 0.7387791 (94)\ttotal: 821ms\tremaining: 545ms\n700:\tlearn: 0.2862595\ttest: 0.7788603\tbest: 0.7387791 (94)\ttotal: 954ms\tremaining: 407ms\n800:\tlearn: 0.2727164\ttest: 0.7819750\tbest: 0.7387791 (94)\ttotal: 1.1s\tremaining: 274ms\n900:\tlearn: 0.2635789\ttest: 0.7833763\tbest: 0.7387791 (94)\ttotal: 1.24s\tremaining: 136ms\n999:\tlearn: 0.2548430\ttest: 0.7858756\tbest: 0.7387791 (94)\ttotal: 1.37s\tremaining: 0us\n\nbestTest = 0.738779079\nbestIteration = 94\n\n14:\tloss: 0.7387791\tbest: 0.6932810 (6)\ttotal: 22.5s\tremaining: 1m 12s\n0:\tlearn: 6.3754880\ttest: 6.4285757\tbest: 6.4285757 (0)\ttotal: 1.64ms\tremaining: 1.64s\n100:\tlearn: 0.5033401\ttest: 0.7426770\tbest: 0.7415313 (94)\ttotal: 135ms\tremaining: 1.2s\n200:\tlearn: 0.4466260\ttest: 0.7444330\tbest: 0.7389764 (129)\ttotal: 304ms\tremaining: 1.21s\n300:\tlearn: 0.4124389\ttest: 0.7505927\tbest: 0.7389764 (129)\ttotal: 441ms\tremaining: 1.02s\n400:\tlearn: 0.3834780\ttest: 0.7553191\tbest: 0.7389764 (129)\ttotal: 580ms\tremaining: 866ms\n500:\tlearn: 0.3585930\ttest: 0.7642673\tbest: 0.7389764 (129)\ttotal: 713ms\tremaining: 711ms\n600:\tlearn: 0.3410681\ttest: 0.7697085\tbest: 0.7389764 (129)\ttotal: 852ms\tremaining: 566ms\n700:\tlearn: 0.3250681\ttest: 0.7726039\tbest: 0.7389764 (129)\ttotal: 1.01s\tremaining: 430ms\n800:\tlearn: 0.3102580\ttest: 0.7782776\tbest: 0.7389764 (129)\ttotal: 1.15s\tremaining: 286ms\n900:\tlearn: 0.2994014\ttest: 0.7834084\tbest: 0.7389764 (129)\ttotal: 1.32s\tremaining: 145ms\n999:\tlearn: 0.2898041\ttest: 0.7849728\tbest: 0.7389764 (129)\ttotal: 1.48s\tremaining: 0us\n\nbestTest = 0.7389764394\nbestIteration = 129\n\n15:\tloss: 0.7389764\tbest: 0.6932810 (6)\ttotal: 24.1s\tremaining: 1m 10s\n0:\tlearn: 6.3903324\ttest: 6.4455739\tbest: 6.4455739 (0)\ttotal: 1.74ms\tremaining: 1.74s\n100:\tlearn: 0.5215161\ttest: 0.7312158\tbest: 0.7312144 (99)\ttotal: 135ms\tremaining: 1.2s\n200:\tlearn: 0.4733071\ttest: 0.7279177\tbest: 0.7267655 (146)\ttotal: 271ms\tremaining: 1.08s\n300:\tlearn: 0.4366938\ttest: 0.7325503\tbest: 0.7267655 (146)\ttotal: 409ms\tremaining: 950ms\n400:\tlearn: 0.4078359\ttest: 0.7399378\tbest: 0.7267655 (146)\ttotal: 545ms\tremaining: 815ms\n500:\tlearn: 0.3863844\ttest: 0.7490114\tbest: 0.7267655 (146)\ttotal: 684ms\tremaining: 681ms\n600:\tlearn: 0.3690450\ttest: 0.7571607\tbest: 0.7267655 (146)\ttotal: 832ms\tremaining: 552ms\n700:\tlearn: 0.3518962\ttest: 0.7636506\tbest: 0.7267655 (146)\ttotal: 965ms\tremaining: 412ms\n800:\tlearn: 0.3373592\ttest: 0.7673122\tbest: 0.7267655 (146)\ttotal: 1.1s\tremaining: 274ms\n900:\tlearn: 0.3256085\ttest: 0.7740722\tbest: 0.7267655 (146)\ttotal: 1.24s\tremaining: 136ms\n999:\tlearn: 0.3165408\ttest: 0.7788398\tbest: 0.7267655 (146)\ttotal: 1.38s\tremaining: 0us\n\nbestTest = 0.7267655439\nbestIteration = 146\n\n16:\tloss: 0.7267655\tbest: 0.6932810 (6)\ttotal: 25.5s\tremaining: 1m 8s\n0:\tlearn: 6.4142608\ttest: 6.4499414\tbest: 6.4499414 (0)\ttotal: 1.68ms\tremaining: 1.68s\n100:\tlearn: 0.5268715\ttest: 0.7251239\tbest: 0.7251239 (100)\ttotal: 153ms\tremaining: 1.36s\n200:\tlearn: 0.4836981\ttest: 0.7165600\tbest: 0.7165600 (200)\ttotal: 289ms\tremaining: 1.15s\n300:\tlearn: 0.4505950\ttest: 0.7181683\tbest: 0.7148481 (239)\ttotal: 526ms\tremaining: 1.22s\n400:\tlearn: 0.4274276\ttest: 0.7251327\tbest: 0.7148481 (239)\ttotal: 737ms\tremaining: 1.1s\n500:\tlearn: 0.4067726\ttest: 0.7359140\tbest: 0.7148481 (239)\ttotal: 907ms\tremaining: 904ms\n600:\tlearn: 0.3888395\ttest: 0.7404235\tbest: 0.7148481 (239)\ttotal: 1.05s\tremaining: 696ms\n700:\tlearn: 0.3746135\ttest: 0.7455476\tbest: 0.7148481 (239)\ttotal: 1.19s\tremaining: 508ms\n800:\tlearn: 0.3597720\ttest: 0.7551883\tbest: 0.7148481 (239)\ttotal: 1.35s\tremaining: 335ms\n900:\tlearn: 0.3476326\ttest: 0.7615020\tbest: 0.7148481 (239)\ttotal: 1.49s\tremaining: 163ms\n999:\tlearn: 0.3377301\ttest: 0.7662586\tbest: 0.7148481 (239)\ttotal: 1.62s\tremaining: 0us\n\nbestTest = 0.7148480974\nbestIteration = 239\n\n17:\tloss: 0.7148481\tbest: 0.6932810 (6)\ttotal: 27.1s\tremaining: 1m 7s\n0:\tlearn: 6.4182283\ttest: 6.4562841\tbest: 6.4562841 (0)\ttotal: 1.23ms\tremaining: 1.22s\n100:\tlearn: 0.5328764\ttest: 0.7375568\tbest: 0.7371082 (94)\ttotal: 133ms\tremaining: 1.18s\n200:\tlearn: 0.4948804\ttest: 0.7344024\tbest: 0.7343076 (173)\ttotal: 275ms\tremaining: 1.09s\n300:\tlearn: 0.4653270\ttest: 0.7357521\tbest: 0.7332812 (226)\ttotal: 424ms\tremaining: 985ms\n400:\tlearn: 0.4409910\ttest: 0.7363830\tbest: 0.7332812 (226)\ttotal: 562ms\tremaining: 840ms\n500:\tlearn: 0.4179739\ttest: 0.7422595\tbest: 0.7332812 (226)\ttotal: 704ms\tremaining: 701ms\n600:\tlearn: 0.4008509\ttest: 0.7488144\tbest: 0.7332812 (226)\ttotal: 849ms\tremaining: 564ms\n700:\tlearn: 0.3867986\ttest: 0.7518725\tbest: 0.7332812 (226)\ttotal: 1s\tremaining: 427ms\n800:\tlearn: 0.3740763\ttest: 0.7567344\tbest: 0.7332812 (226)\ttotal: 1.14s\tremaining: 282ms\n900:\tlearn: 0.3603566\ttest: 0.7618193\tbest: 0.7332812 (226)\ttotal: 1.29s\tremaining: 142ms\n999:\tlearn: 0.3504416\ttest: 0.7645489\tbest: 0.7332812 (226)\ttotal: 1.43s\tremaining: 0us\n\nbestTest = 0.7332812439\nbestIteration = 226\n\n18:\tloss: 0.7332812\tbest: 0.6932810 (6)\ttotal: 28.6s\tremaining: 1m 6s\n0:\tlearn: 6.3958729\ttest: 6.4356876\tbest: 6.4356876 (0)\ttotal: 1.31ms\tremaining: 1.31s\n100:\tlearn: 0.5431962\ttest: 0.7182802\tbest: 0.7182802 (100)\ttotal: 132ms\tremaining: 1.18s\n200:\tlearn: 0.5024950\ttest: 0.7135917\tbest: 0.7135736 (198)\ttotal: 272ms\tremaining: 1.08s\n300:\tlearn: 0.4752790\ttest: 0.7135563\tbest: 0.7124927 (280)\ttotal: 405ms\tremaining: 941ms\n400:\tlearn: 0.4516270\ttest: 0.7181958\tbest: 0.7117701 (327)\ttotal: 552ms\tremaining: 825ms\n500:\tlearn: 0.4303386\ttest: 0.7220538\tbest: 0.7117701 (327)\ttotal: 689ms\tremaining: 686ms\n600:\tlearn: 0.4133155\ttest: 0.7263841\tbest: 0.7117701 (327)\ttotal: 824ms\tremaining: 547ms\n700:\tlearn: 0.4008240\ttest: 0.7297467\tbest: 0.7117701 (327)\ttotal: 981ms\tremaining: 418ms\n800:\tlearn: 0.3844519\ttest: 0.7338803\tbest: 0.7117701 (327)\ttotal: 1.14s\tremaining: 283ms\n900:\tlearn: 0.3721734\ttest: 0.7350379\tbest: 0.7117701 (327)\ttotal: 1.27s\tremaining: 140ms\n999:\tlearn: 0.3601372\ttest: 0.7396025\tbest: 0.7117701 (327)\ttotal: 1.41s\tremaining: 0us\n\nbestTest = 0.7117700848\nbestIteration = 327\n\n19:\tloss: 0.7117701\tbest: 0.6932810 (6)\ttotal: 30s\tremaining: 1m 4s\n0:\tlearn: 6.4328892\ttest: 6.4690336\tbest: 6.4690336 (0)\ttotal: 1.78ms\tremaining: 1.78s\n100:\tlearn: 0.5796364\ttest: 0.7218163\tbest: 0.7218163 (100)\ttotal: 154ms\tremaining: 1.37s\n200:\tlearn: 0.5443833\ttest: 0.7143081\tbest: 0.7138710 (190)\ttotal: 288ms\tremaining: 1.14s\n300:\tlearn: 0.5235886\ttest: 0.7131762\tbest: 0.7125918 (293)\ttotal: 424ms\tremaining: 984ms\n400:\tlearn: 0.5049449\ttest: 0.7124646\tbest: 0.7124646 (400)\ttotal: 579ms\tremaining: 865ms\n500:\tlearn: 0.4837732\ttest: 0.7108333\tbest: 0.7107557 (497)\ttotal: 715ms\tremaining: 713ms\n600:\tlearn: 0.4670973\ttest: 0.7128760\tbest: 0.7107030 (503)\ttotal: 879ms\tremaining: 584ms\n700:\tlearn: 0.4534336\ttest: 0.7156272\tbest: 0.7107030 (503)\ttotal: 1.04s\tremaining: 445ms\n800:\tlearn: 0.4387521\ttest: 0.7186041\tbest: 0.7107030 (503)\ttotal: 1.19s\tremaining: 295ms\n900:\tlearn: 0.4249120\ttest: 0.7214670\tbest: 0.7107030 (503)\ttotal: 1.34s\tremaining: 148ms\n999:\tlearn: 0.4129927\ttest: 0.7249168\tbest: 0.7107030 (503)\ttotal: 1.53s\tremaining: 0us\n\nbestTest = 0.7107030239\nbestIteration = 503\n\n20:\tloss: 0.7107030\tbest: 0.6932810 (6)\ttotal: 31.6s\tremaining: 1m 3s\n0:\tlearn: 6.3685284\ttest: 6.4120261\tbest: 6.4120261 (0)\ttotal: 3.49ms\tremaining: 3.48s\n100:\tlearn: 0.4123523\ttest: 0.7583498\tbest: 0.7534866 (58)\ttotal: 297ms\tremaining: 2.64s\n200:\tlearn: 0.3370115\ttest: 0.7699839\tbest: 0.7534866 (58)\ttotal: 628ms\tremaining: 2.5s\n300:\tlearn: 0.2975878\ttest: 0.7794804\tbest: 0.7534866 (58)\ttotal: 924ms\tremaining: 2.14s\n400:\tlearn: 0.2695319\ttest: 0.7868256\tbest: 0.7534866 (58)\ttotal: 1.23s\tremaining: 1.84s\n500:\tlearn: 0.2507704\ttest: 0.7940920\tbest: 0.7534866 (58)\ttotal: 1.54s\tremaining: 1.54s\n600:\tlearn: 0.2362265\ttest: 0.7990024\tbest: 0.7534866 (58)\ttotal: 1.87s\tremaining: 1.24s\n700:\tlearn: 0.2261599\ttest: 0.8006481\tbest: 0.7534866 (58)\ttotal: 2.19s\tremaining: 935ms\n800:\tlearn: 0.2194957\ttest: 0.8035557\tbest: 0.7534866 (58)\ttotal: 2.51s\tremaining: 624ms\n900:\tlearn: 0.2131981\ttest: 0.8056795\tbest: 0.7534866 (58)\ttotal: 2.82s\tremaining: 310ms\n999:\tlearn: 0.2090227\ttest: 0.8086542\tbest: 0.7534866 (58)\ttotal: 3.12s\tremaining: 0us\n\nbestTest = 0.7534865856\nbestIteration = 58\n\n21:\tloss: 0.7534866\tbest: 0.6932810 (6)\ttotal: 34.8s\tremaining: 1m 4s\n0:\tlearn: 6.3625117\ttest: 6.4013447\tbest: 6.4013447 (0)\ttotal: 2.06ms\tremaining: 2.06s\n100:\tlearn: 0.4512596\ttest: 0.7335313\tbest: 0.7320556 (60)\ttotal: 288ms\tremaining: 2.56s\n200:\tlearn: 0.3928434\ttest: 0.7396842\tbest: 0.7320556 (60)\ttotal: 630ms\tremaining: 2.5s\n300:\tlearn: 0.3511797\ttest: 0.7528441\tbest: 0.7320556 (60)\ttotal: 1s\tremaining: 2.33s\n400:\tlearn: 0.3192457\ttest: 0.7593518\tbest: 0.7320556 (60)\ttotal: 1.33s\tremaining: 1.99s\n500:\tlearn: 0.2962007\ttest: 0.7684696\tbest: 0.7320556 (60)\ttotal: 1.66s\tremaining: 1.65s\n600:\tlearn: 0.2769418\ttest: 0.7746571\tbest: 0.7320556 (60)\ttotal: 1.98s\tremaining: 1.31s\n700:\tlearn: 0.2621011\ttest: 0.7795191\tbest: 0.7320556 (60)\ttotal: 2.28s\tremaining: 971ms\n800:\tlearn: 0.2485617\ttest: 0.7815588\tbest: 0.7320556 (60)\ttotal: 2.57s\tremaining: 639ms\n900:\tlearn: 0.2396433\ttest: 0.7860644\tbest: 0.7320556 (60)\ttotal: 2.9s\tremaining: 318ms\n999:\tlearn: 0.2323074\ttest: 0.7888714\tbest: 0.7320556 (60)\ttotal: 3.23s\tremaining: 0us\n\nbestTest = 0.732055572\nbestIteration = 60\n\n22:\tloss: 0.7320556\tbest: 0.6932810 (6)\ttotal: 38s\tremaining: 1m 6s\n0:\tlearn: 6.3696442\ttest: 6.4082694\tbest: 6.4082694 (0)\ttotal: 3.28ms\tremaining: 3.28s\n100:\tlearn: 0.4735219\ttest: 0.7360690\tbest: 0.7355416 (74)\ttotal: 275ms\tremaining: 2.44s\n200:\tlearn: 0.4226416\ttest: 0.7420719\tbest: 0.7354554 (108)\ttotal: 576ms\tremaining: 2.29s\n300:\tlearn: 0.3837382\ttest: 0.7488333\tbest: 0.7354554 (108)\ttotal: 882ms\tremaining: 2.05s\n400:\tlearn: 0.3549564\ttest: 0.7513511\tbest: 0.7354554 (108)\ttotal: 1.18s\tremaining: 1.76s\n500:\tlearn: 0.3306797\ttest: 0.7577823\tbest: 0.7354554 (108)\ttotal: 1.5s\tremaining: 1.49s\n600:\tlearn: 0.3106915\ttest: 0.7642943\tbest: 0.7354554 (108)\ttotal: 1.79s\tremaining: 1.19s\n700:\tlearn: 0.2961129\ttest: 0.7679267\tbest: 0.7354554 (108)\ttotal: 2.11s\tremaining: 901ms\n800:\tlearn: 0.2814444\ttest: 0.7710077\tbest: 0.7354554 (108)\ttotal: 2.43s\tremaining: 605ms\n900:\tlearn: 0.2710551\ttest: 0.7740687\tbest: 0.7354554 (108)\ttotal: 2.73s\tremaining: 300ms\n999:\tlearn: 0.2609806\ttest: 0.7759153\tbest: 0.7354554 (108)\ttotal: 3.03s\tremaining: 0us\n\nbestTest = 0.7354553795\nbestIteration = 108\n\n23:\tloss: 0.7354554\tbest: 0.6932810 (6)\ttotal: 41.1s\tremaining: 1m 6s\n0:\tlearn: 6.3683427\ttest: 6.4084530\tbest: 6.4084530 (0)\ttotal: 1.31ms\tremaining: 1.31s\n100:\tlearn: 0.4848870\ttest: 0.7034168\tbest: 0.7034038 (96)\ttotal: 285ms\tremaining: 2.53s\n200:\tlearn: 0.4412442\ttest: 0.7053932\tbest: 0.7031910 (113)\ttotal: 664ms\tremaining: 2.64s\n300:\tlearn: 0.4093071\ttest: 0.7102949\tbest: 0.7031910 (113)\ttotal: 967ms\tremaining: 2.25s\n400:\tlearn: 0.3787874\ttest: 0.7187447\tbest: 0.7031910 (113)\ttotal: 1.31s\tremaining: 1.96s\n500:\tlearn: 0.3537625\ttest: 0.7272615\tbest: 0.7031910 (113)\ttotal: 1.61s\tremaining: 1.6s\n600:\tlearn: 0.3349817\ttest: 0.7303205\tbest: 0.7031910 (113)\ttotal: 1.91s\tremaining: 1.27s\n700:\tlearn: 0.3196889\ttest: 0.7353985\tbest: 0.7031910 (113)\ttotal: 2.21s\tremaining: 941ms\n800:\tlearn: 0.3058380\ttest: 0.7393413\tbest: 0.7031910 (113)\ttotal: 2.52s\tremaining: 626ms\n900:\tlearn: 0.2936858\ttest: 0.7430600\tbest: 0.7031910 (113)\ttotal: 2.86s\tremaining: 315ms\n999:\tlearn: 0.2831508\ttest: 0.7469920\tbest: 0.7031910 (113)\ttotal: 3.16s\tremaining: 0us\n\nbestTest = 0.7031909685\nbestIteration = 113\n\n24:\tloss: 0.7031910\tbest: 0.6932810 (6)\ttotal: 44.3s\tremaining: 1m 7s\n0:\tlearn: 6.3756898\ttest: 6.4150777\tbest: 6.4150777 (0)\ttotal: 1.59ms\tremaining: 1.59s\n100:\tlearn: 0.4841231\ttest: 0.7078192\tbest: 0.7078192 (100)\ttotal: 284ms\tremaining: 2.53s\n200:\tlearn: 0.4506746\ttest: 0.7116173\tbest: 0.7078192 (100)\ttotal: 584ms\tremaining: 2.32s\n300:\tlearn: 0.4180543\ttest: 0.7163022\tbest: 0.7078192 (100)\ttotal: 917ms\tremaining: 2.13s\n400:\tlearn: 0.3909137\ttest: 0.7228049\tbest: 0.7078192 (100)\ttotal: 1.23s\tremaining: 1.84s\n500:\tlearn: 0.3708234\ttest: 0.7281868\tbest: 0.7078192 (100)\ttotal: 1.75s\tremaining: 1.74s\n600:\tlearn: 0.3499957\ttest: 0.7350030\tbest: 0.7078192 (100)\ttotal: 2.04s\tremaining: 1.36s\n700:\tlearn: 0.3355026\ttest: 0.7369179\tbest: 0.7078192 (100)\ttotal: 2.39s\tremaining: 1.02s\n800:\tlearn: 0.3190740\ttest: 0.7411726\tbest: 0.7078192 (100)\ttotal: 2.7s\tremaining: 672ms\n900:\tlearn: 0.3052133\ttest: 0.7453405\tbest: 0.7078192 (100)\ttotal: 3s\tremaining: 330ms\n999:\tlearn: 0.2949532\ttest: 0.7463115\tbest: 0.7078192 (100)\ttotal: 3.31s\tremaining: 0us\n\nbestTest = 0.7078192034\nbestIteration = 100\n\n25:\tloss: 0.7078192\tbest: 0.6932810 (6)\ttotal: 47.7s\tremaining: 1m 7s\n0:\tlearn: 6.3817656\ttest: 6.4210631\tbest: 6.4210631 (0)\ttotal: 1.7ms\tremaining: 1.69s\n100:\tlearn: 0.4900864\ttest: 0.7170996\tbest: 0.7170996 (100)\ttotal: 259ms\tremaining: 2.31s\n200:\tlearn: 0.4653374\ttest: 0.7175559\tbest: 0.7156427 (139)\ttotal: 570ms\tremaining: 2.27s\n300:\tlearn: 0.4380728\ttest: 0.7169545\tbest: 0.7156427 (139)\ttotal: 883ms\tremaining: 2.05s\n400:\tlearn: 0.4109034\ttest: 0.7209151\tbest: 0.7156427 (139)\ttotal: 1.21s\tremaining: 1.8s\n500:\tlearn: 0.3890200\ttest: 0.7236077\tbest: 0.7156427 (139)\ttotal: 1.51s\tremaining: 1.51s\n600:\tlearn: 0.3710145\ttest: 0.7306980\tbest: 0.7156427 (139)\ttotal: 1.83s\tremaining: 1.21s\n700:\tlearn: 0.3548719\ttest: 0.7341363\tbest: 0.7156427 (139)\ttotal: 2.13s\tremaining: 909ms\n800:\tlearn: 0.3410843\ttest: 0.7393219\tbest: 0.7156427 (139)\ttotal: 2.43s\tremaining: 605ms\n900:\tlearn: 0.3286790\ttest: 0.7427296\tbest: 0.7156427 (139)\ttotal: 2.73s\tremaining: 300ms\n999:\tlearn: 0.3144963\ttest: 0.7460512\tbest: 0.7156427 (139)\ttotal: 3.03s\tremaining: 0us\n\nbestTest = 0.7156427171\nbestIteration = 139\n\n26:\tloss: 0.7156427\tbest: 0.6932810 (6)\ttotal: 50.7s\tremaining: 1m 7s\n0:\tlearn: 6.4073547\ttest: 6.4497844\tbest: 6.4497844 (0)\ttotal: 1.2ms\tremaining: 1.2s\n100:\tlearn: 0.5196645\ttest: 0.7089488\tbest: 0.7083139 (94)\ttotal: 257ms\tremaining: 2.29s\n200:\tlearn: 0.4857988\ttest: 0.7086265\tbest: 0.7070805 (152)\ttotal: 581ms\tremaining: 2.31s\n300:\tlearn: 0.4709694\ttest: 0.7111558\tbest: 0.7070805 (152)\ttotal: 867ms\tremaining: 2.01s\n400:\tlearn: 0.4544639\ttest: 0.7121576\tbest: 0.7070805 (152)\ttotal: 1.17s\tremaining: 1.75s\n500:\tlearn: 0.4322524\ttest: 0.7148118\tbest: 0.7070805 (152)\ttotal: 1.47s\tremaining: 1.47s\n600:\tlearn: 0.4171626\ttest: 0.7151470\tbest: 0.7070805 (152)\ttotal: 1.8s\tremaining: 1.19s\n700:\tlearn: 0.4014377\ttest: 0.7196064\tbest: 0.7070805 (152)\ttotal: 2.1s\tremaining: 898ms\n800:\tlearn: 0.3875860\ttest: 0.7225056\tbest: 0.7070805 (152)\ttotal: 2.4s\tremaining: 597ms\n900:\tlearn: 0.3737641\ttest: 0.7262035\tbest: 0.7070805 (152)\ttotal: 2.72s\tremaining: 299ms\n999:\tlearn: 0.3626928\ttest: 0.7289073\tbest: 0.7070805 (152)\ttotal: 3.06s\tremaining: 0us\n\nbestTest = 0.7070804736\nbestIteration = 152\n\n27:\tloss: 0.7070805\tbest: 0.6932810 (6)\ttotal: 53.8s\tremaining: 1m 7s\n0:\tlearn: 6.3651287\ttest: 6.4202860\tbest: 6.4202860 (0)\ttotal: 4.29ms\tremaining: 4.29s\n100:\tlearn: 0.4210272\ttest: 0.8287892\tbest: 0.8257774 (68)\ttotal: 306ms\tremaining: 2.73s\n200:\tlearn: 0.3448330\ttest: 0.8457015\tbest: 0.8257774 (68)\ttotal: 603ms\tremaining: 2.4s\n300:\tlearn: 0.3009938\ttest: 0.8531067\tbest: 0.8257774 (68)\ttotal: 952ms\tremaining: 2.21s\n400:\tlearn: 0.2739565\ttest: 0.8585095\tbest: 0.8257774 (68)\ttotal: 1.24s\tremaining: 1.85s\n500:\tlearn: 0.2529039\ttest: 0.8636027\tbest: 0.8257774 (68)\ttotal: 1.53s\tremaining: 1.53s\n600:\tlearn: 0.2373732\ttest: 0.8694487\tbest: 0.8257774 (68)\ttotal: 1.85s\tremaining: 1.23s\n700:\tlearn: 0.2277982\ttest: 0.8743927\tbest: 0.8257774 (68)\ttotal: 2.2s\tremaining: 937ms\n800:\tlearn: 0.2214272\ttest: 0.8779259\tbest: 0.8257774 (68)\ttotal: 2.49s\tremaining: 619ms\n900:\tlearn: 0.2155524\ttest: 0.8808326\tbest: 0.8257774 (68)\ttotal: 2.78s\tremaining: 306ms\n999:\tlearn: 0.2104076\ttest: 0.8831500\tbest: 0.8257774 (68)\ttotal: 3.1s\tremaining: 0us\n\nbestTest = 0.8257773786\nbestIteration = 68\n\n28:\tloss: 0.8257774\tbest: 0.6932810 (6)\ttotal: 57s\tremaining: 1m 6s\n0:\tlearn: 6.3894584\ttest: 6.4464201\tbest: 6.4464201 (0)\ttotal: 3.13ms\tremaining: 3.13s\n100:\tlearn: 0.4590142\ttest: 0.7500430\tbest: 0.7498409 (97)\ttotal: 287ms\tremaining: 2.56s\n200:\tlearn: 0.3960276\ttest: 0.7573321\tbest: 0.7487627 (102)\ttotal: 593ms\tremaining: 2.36s\n300:\tlearn: 0.3531862\ttest: 0.7688681\tbest: 0.7487627 (102)\ttotal: 896ms\tremaining: 2.08s\n400:\tlearn: 0.3190915\ttest: 0.7749875\tbest: 0.7487627 (102)\ttotal: 1.22s\tremaining: 1.81s\n500:\tlearn: 0.2969443\ttest: 0.7785230\tbest: 0.7487627 (102)\ttotal: 1.52s\tremaining: 1.51s\n600:\tlearn: 0.2796827\ttest: 0.7874109\tbest: 0.7487627 (102)\ttotal: 1.82s\tremaining: 1.21s\n700:\tlearn: 0.2645796\ttest: 0.7935231\tbest: 0.7487627 (102)\ttotal: 2.17s\tremaining: 927ms\n800:\tlearn: 0.2533796\ttest: 0.7964247\tbest: 0.7487627 (102)\ttotal: 2.53s\tremaining: 629ms\n900:\tlearn: 0.2427710\ttest: 0.7992062\tbest: 0.7487627 (102)\ttotal: 2.83s\tremaining: 311ms\n999:\tlearn: 0.2351066\ttest: 0.8019087\tbest: 0.7487627 (102)\ttotal: 3.15s\tremaining: 0us\n\nbestTest = 0.748762657\nbestIteration = 102\n\n29:\tloss: 0.7487627\tbest: 0.6932810 (6)\ttotal: 1m\tremaining: 1m 6s\n0:\tlearn: 6.3927010\ttest: 6.4281711\tbest: 6.4281711 (0)\ttotal: 7.74ms\tremaining: 7.73s\n100:\tlearn: 0.4872310\ttest: 0.7062027\tbest: 0.7059442 (93)\ttotal: 317ms\tremaining: 2.82s\n200:\tlearn: 0.4419695\ttest: 0.7028474\tbest: 0.7007999 (167)\ttotal: 619ms\tremaining: 2.46s\n300:\tlearn: 0.4008425\ttest: 0.7091900\tbest: 0.7007999 (167)\ttotal: 935ms\tremaining: 2.17s\n400:\tlearn: 0.3651346\ttest: 0.7159556\tbest: 0.7007999 (167)\ttotal: 1.25s\tremaining: 1.86s\n500:\tlearn: 0.3364585\ttest: 0.7265108\tbest: 0.7007999 (167)\ttotal: 1.55s\tremaining: 1.55s\n600:\tlearn: 0.3161634\ttest: 0.7303868\tbest: 0.7007999 (167)\ttotal: 1.87s\tremaining: 1.24s\n700:\tlearn: 0.2976036\ttest: 0.7366611\tbest: 0.7007999 (167)\ttotal: 2.17s\tremaining: 926ms\n800:\tlearn: 0.2837634\ttest: 0.7421986\tbest: 0.7007999 (167)\ttotal: 2.54s\tremaining: 632ms\n900:\tlearn: 0.2708408\ttest: 0.7475189\tbest: 0.7007999 (167)\ttotal: 2.85s\tremaining: 313ms\n999:\tlearn: 0.2612989\ttest: 0.7488103\tbest: 0.7007999 (167)\ttotal: 3.17s\tremaining: 0us\n\nbestTest = 0.7007999347\nbestIteration = 167\n\n30:\tloss: 0.7007999\tbest: 0.6932810 (6)\ttotal: 1m 3s\tremaining: 1m 5s\n0:\tlearn: 6.3793880\ttest: 6.4195422\tbest: 6.4195422 (0)\ttotal: 1.31ms\tremaining: 1.31s\n100:\tlearn: 0.4992260\ttest: 0.7226740\tbest: 0.7226506 (86)\ttotal: 306ms\tremaining: 2.73s\n200:\tlearn: 0.4481524\ttest: 0.7180741\tbest: 0.7179475 (199)\ttotal: 715ms\tremaining: 2.84s\n300:\tlearn: 0.4060060\ttest: 0.7221213\tbest: 0.7169931 (256)\ttotal: 1.04s\tremaining: 2.42s\n400:\tlearn: 0.3746055\ttest: 0.7287628\tbest: 0.7169931 (256)\ttotal: 1.34s\tremaining: 2.01s\n500:\tlearn: 0.3494710\ttest: 0.7357734\tbest: 0.7169931 (256)\ttotal: 1.67s\tremaining: 1.66s\n600:\tlearn: 0.3304793\ttest: 0.7397929\tbest: 0.7169931 (256)\ttotal: 1.97s\tremaining: 1.3s\n700:\tlearn: 0.3157129\ttest: 0.7446222\tbest: 0.7169931 (256)\ttotal: 2.29s\tremaining: 976ms\n800:\tlearn: 0.3015778\ttest: 0.7485548\tbest: 0.7169931 (256)\ttotal: 2.68s\tremaining: 666ms\n900:\tlearn: 0.2902133\ttest: 0.7521019\tbest: 0.7169931 (256)\ttotal: 3s\tremaining: 329ms\n999:\tlearn: 0.2788832\ttest: 0.7548796\tbest: 0.7169931 (256)\ttotal: 3.3s\tremaining: 0us\n\nbestTest = 0.7169931008\nbestIteration = 256\n\n31:\tloss: 0.7169931\tbest: 0.6932810 (6)\ttotal: 1m 6s\tremaining: 1m 4s\n0:\tlearn: 6.3914307\ttest: 6.4281846\tbest: 6.4281846 (0)\ttotal: 1.66ms\tremaining: 1.66s\n100:\tlearn: 0.5245111\ttest: 0.7338071\tbest: 0.7338071 (100)\ttotal: 316ms\tremaining: 2.81s\n200:\tlearn: 0.4798663\ttest: 0.7302843\tbest: 0.7291335 (175)\ttotal: 630ms\tremaining: 2.5s\n300:\tlearn: 0.4331865\ttest: 0.7380317\tbest: 0.7291335 (175)\ttotal: 956ms\tremaining: 2.22s\n400:\tlearn: 0.4006092\ttest: 0.7420634\tbest: 0.7291335 (175)\ttotal: 1.28s\tremaining: 1.91s\n500:\tlearn: 0.3766212\ttest: 0.7468324\tbest: 0.7291335 (175)\ttotal: 1.62s\tremaining: 1.62s\n600:\tlearn: 0.3550559\ttest: 0.7514733\tbest: 0.7291335 (175)\ttotal: 1.98s\tremaining: 1.31s\n700:\tlearn: 0.3396432\ttest: 0.7556622\tbest: 0.7291335 (175)\ttotal: 2.29s\tremaining: 979ms\n800:\tlearn: 0.3229634\ttest: 0.7579371\tbest: 0.7291335 (175)\ttotal: 2.62s\tremaining: 650ms\n900:\tlearn: 0.3097783\ttest: 0.7604724\tbest: 0.7291335 (175)\ttotal: 2.92s\tremaining: 321ms\n999:\tlearn: 0.2990594\ttest: 0.7634190\tbest: 0.7291335 (175)\ttotal: 3.21s\tremaining: 0us\n\nbestTest = 0.7291335398\nbestIteration = 175\n\n32:\tloss: 0.7291335\tbest: 0.6932810 (6)\ttotal: 1m 9s\tremaining: 1m 3s\n0:\tlearn: 6.3995656\ttest: 6.4361401\tbest: 6.4361401 (0)\ttotal: 1.58ms\tremaining: 1.58s\n100:\tlearn: 0.5248831\ttest: 0.7231795\tbest: 0.7231795 (100)\ttotal: 274ms\tremaining: 2.44s\n200:\tlearn: 0.4807609\ttest: 0.7214910\tbest: 0.7210361 (176)\ttotal: 554ms\tremaining: 2.2s\n300:\tlearn: 0.4495787\ttest: 0.7265897\tbest: 0.7210361 (176)\ttotal: 849ms\tremaining: 1.97s\n400:\tlearn: 0.4185815\ttest: 0.7310701\tbest: 0.7210361 (176)\ttotal: 1.15s\tremaining: 1.71s\n500:\tlearn: 0.3943037\ttest: 0.7353443\tbest: 0.7210361 (176)\ttotal: 1.48s\tremaining: 1.48s\n600:\tlearn: 0.3762568\ttest: 0.7406858\tbest: 0.7210361 (176)\ttotal: 1.77s\tremaining: 1.18s\n700:\tlearn: 0.3566791\ttest: 0.7445392\tbest: 0.7210361 (176)\ttotal: 2.09s\tremaining: 891ms\n800:\tlearn: 0.3419413\ttest: 0.7498892\tbest: 0.7210361 (176)\ttotal: 2.43s\tremaining: 603ms\n900:\tlearn: 0.3283086\ttest: 0.7539838\tbest: 0.7210361 (176)\ttotal: 2.79s\tremaining: 306ms\n999:\tlearn: 0.3152098\ttest: 0.7582653\tbest: 0.7210361 (176)\ttotal: 3.08s\tremaining: 0us\n\nbestTest = 0.721036059\nbestIteration = 176\n\n33:\tloss: 0.7210361\tbest: 0.6932810 (6)\ttotal: 1m 13s\tremaining: 1m 2s\n0:\tlearn: 6.4094794\ttest: 6.4431953\tbest: 6.4431953 (0)\ttotal: 1.67ms\tremaining: 1.67s\n100:\tlearn: 0.5543581\ttest: 0.7189594\tbest: 0.7189594 (100)\ttotal: 269ms\tremaining: 2.39s\n200:\tlearn: 0.5200582\ttest: 0.7142314\tbest: 0.7140749 (194)\ttotal: 560ms\tremaining: 2.23s\n300:\tlearn: 0.4936701\ttest: 0.7140874\tbest: 0.7130872 (236)\ttotal: 887ms\tremaining: 2.06s\n400:\tlearn: 0.4690110\ttest: 0.7151356\tbest: 0.7130872 (236)\ttotal: 1.21s\tremaining: 1.81s\n500:\tlearn: 0.4429065\ttest: 0.7192124\tbest: 0.7130872 (236)\ttotal: 1.5s\tremaining: 1.5s\n600:\tlearn: 0.4245395\ttest: 0.7219369\tbest: 0.7130872 (236)\ttotal: 1.8s\tremaining: 1.19s\n700:\tlearn: 0.4076844\ttest: 0.7246786\tbest: 0.7130872 (236)\ttotal: 2.1s\tremaining: 894ms\n800:\tlearn: 0.3927862\ttest: 0.7283276\tbest: 0.7130872 (236)\ttotal: 2.42s\tremaining: 601ms\n900:\tlearn: 0.3791175\ttest: 0.7314964\tbest: 0.7130872 (236)\ttotal: 2.83s\tremaining: 311ms\n999:\tlearn: 0.3674117\ttest: 0.7316797\tbest: 0.7130872 (236)\ttotal: 3.13s\tremaining: 0us\n\nbestTest = 0.7130871839\nbestIteration = 236\n\n34:\tloss: 0.7130872\tbest: 0.6932810 (6)\ttotal: 1m 16s\tremaining: 1m 1s\n0:\tlearn: 6.3665252\ttest: 6.4271372\tbest: 6.4271372 (0)\ttotal: 3.14ms\tremaining: 3.14s\n100:\tlearn: 0.4232782\ttest: 0.8276864\tbest: 0.8268827 (78)\ttotal: 310ms\tremaining: 2.76s\n200:\tlearn: 0.3457849\ttest: 0.8419925\tbest: 0.8268827 (78)\ttotal: 637ms\tremaining: 2.53s\n300:\tlearn: 0.3010032\ttest: 0.8501381\tbest: 0.8268827 (78)\ttotal: 942ms\tremaining: 2.19s\n400:\tlearn: 0.2707809\ttest: 0.8563257\tbest: 0.8268827 (78)\ttotal: 1.27s\tremaining: 1.89s\n500:\tlearn: 0.2496553\ttest: 0.8616636\tbest: 0.8268827 (78)\ttotal: 1.59s\tremaining: 1.58s\n600:\tlearn: 0.2339732\ttest: 0.8684762\tbest: 0.8268827 (78)\ttotal: 1.89s\tremaining: 1.26s\n700:\tlearn: 0.2234210\ttest: 0.8755387\tbest: 0.8268827 (78)\ttotal: 2.23s\tremaining: 951ms\n800:\tlearn: 0.2167821\ttest: 0.8786098\tbest: 0.8268827 (78)\ttotal: 2.52s\tremaining: 627ms\n900:\tlearn: 0.2120298\ttest: 0.8818460\tbest: 0.8268827 (78)\ttotal: 2.83s\tremaining: 311ms\n999:\tlearn: 0.2087331\ttest: 0.8836376\tbest: 0.8268827 (78)\ttotal: 3.12s\tremaining: 0us\n\nbestTest = 0.8268826869\nbestIteration = 78\n\n35:\tloss: 0.8268827\tbest: 0.6932810 (6)\ttotal: 1m 19s\tremaining: 59.6s\n0:\tlearn: 6.3936985\ttest: 6.4552797\tbest: 6.4552797 (0)\ttotal: 3.25ms\tremaining: 3.24s\n100:\tlearn: 0.4720091\ttest: 0.7900442\tbest: 0.7887986 (95)\ttotal: 363ms\tremaining: 3.23s\n200:\tlearn: 0.4041425\ttest: 0.7940740\tbest: 0.7865390 (117)\ttotal: 664ms\tremaining: 2.64s\n300:\tlearn: 0.3545612\ttest: 0.8019217\tbest: 0.7865390 (117)\ttotal: 969ms\tremaining: 2.25s\n400:\tlearn: 0.3241484\ttest: 0.8058915\tbest: 0.7865390 (117)\ttotal: 1.29s\tremaining: 1.93s\n500:\tlearn: 0.3004374\ttest: 0.8135152\tbest: 0.7865390 (117)\ttotal: 1.6s\tremaining: 1.6s\n600:\tlearn: 0.2802617\ttest: 0.8134455\tbest: 0.7865390 (117)\ttotal: 1.91s\tremaining: 1.26s\n700:\tlearn: 0.2643544\ttest: 0.8206963\tbest: 0.7865390 (117)\ttotal: 2.23s\tremaining: 950ms\n800:\tlearn: 0.2528736\ttest: 0.8254445\tbest: 0.7865390 (117)\ttotal: 2.53s\tremaining: 628ms\n900:\tlearn: 0.2424613\ttest: 0.8285081\tbest: 0.7865390 (117)\ttotal: 2.83s\tremaining: 311ms\n999:\tlearn: 0.2336659\ttest: 0.8315103\tbest: 0.7865390 (117)\ttotal: 3.17s\tremaining: 0us\n\nbestTest = 0.7865390434\nbestIteration = 117\n\n36:\tloss: 0.7865390\tbest: 0.6932810 (6)\ttotal: 1m 22s\tremaining: 58.1s\n0:\tlearn: 6.4100362\ttest: 6.4694510\tbest: 6.4694510 (0)\ttotal: 8.83ms\tremaining: 8.82s\n100:\tlearn: 0.4936107\ttest: 0.7839230\tbest: 0.7839230 (100)\ttotal: 361ms\tremaining: 3.21s\n200:\tlearn: 0.4322229\ttest: 0.7856042\tbest: 0.7803697 (139)\ttotal: 666ms\tremaining: 2.65s\n300:\tlearn: 0.3899466\ttest: 0.7982254\tbest: 0.7803697 (139)\ttotal: 989ms\tremaining: 2.3s\n400:\tlearn: 0.3600470\ttest: 0.8005295\tbest: 0.7803697 (139)\ttotal: 1.34s\tremaining: 2s\n500:\tlearn: 0.3344300\ttest: 0.8061801\tbest: 0.7803697 (139)\ttotal: 1.66s\tremaining: 1.65s\n600:\tlearn: 0.3129983\ttest: 0.8139812\tbest: 0.7803697 (139)\ttotal: 1.95s\tremaining: 1.3s\n700:\tlearn: 0.2978481\ttest: 0.8174849\tbest: 0.7803697 (139)\ttotal: 2.28s\tremaining: 971ms\n800:\tlearn: 0.2836720\ttest: 0.8203972\tbest: 0.7803697 (139)\ttotal: 2.6s\tremaining: 647ms\n900:\tlearn: 0.2711121\ttest: 0.8234609\tbest: 0.7803697 (139)\ttotal: 2.91s\tremaining: 320ms\n999:\tlearn: 0.2606072\ttest: 0.8260685\tbest: 0.7803697 (139)\ttotal: 3.25s\tremaining: 0us\n\nbestTest = 0.7803696757\nbestIteration = 139\n\n37:\tloss: 0.7803697\tbest: 0.6932810 (6)\ttotal: 1m 25s\tremaining: 56.5s\n0:\tlearn: 6.4344575\ttest: 6.4693472\tbest: 6.4693472 (0)\ttotal: 3.18ms\tremaining: 3.18s\n100:\tlearn: 0.5009851\ttest: 0.7735522\tbest: 0.7732328 (93)\ttotal: 289ms\tremaining: 2.57s\n200:\tlearn: 0.4515646\ttest: 0.7770665\tbest: 0.7718571 (147)\ttotal: 582ms\tremaining: 2.31s\n300:\tlearn: 0.4086285\ttest: 0.7843533\tbest: 0.7718571 (147)\ttotal: 899ms\tremaining: 2.09s\n400:\tlearn: 0.3787224\ttest: 0.7900411\tbest: 0.7718571 (147)\ttotal: 1.19s\tremaining: 1.78s\n500:\tlearn: 0.3550037\ttest: 0.7949422\tbest: 0.7718571 (147)\ttotal: 1.48s\tremaining: 1.48s\n600:\tlearn: 0.3333804\ttest: 0.8003777\tbest: 0.7718571 (147)\ttotal: 1.81s\tremaining: 1.2s\n700:\tlearn: 0.3154646\ttest: 0.8063575\tbest: 0.7718571 (147)\ttotal: 2.13s\tremaining: 908ms\n800:\tlearn: 0.3010908\ttest: 0.8135662\tbest: 0.7718571 (147)\ttotal: 2.45s\tremaining: 608ms\n900:\tlearn: 0.2881292\ttest: 0.8181300\tbest: 0.7718571 (147)\ttotal: 2.78s\tremaining: 306ms\n999:\tlearn: 0.2774114\ttest: 0.8216131\tbest: 0.7718571 (147)\ttotal: 3.12s\tremaining: 0us\n\nbestTest = 0.7718570635\nbestIteration = 147\n\n38:\tloss: 0.7718571\tbest: 0.6932810 (6)\ttotal: 1m 29s\tremaining: 54.8s\n0:\tlearn: 6.4182283\ttest: 6.4562841\tbest: 6.4562841 (0)\ttotal: 1.26ms\tremaining: 1.26s\n100:\tlearn: 0.5133889\ttest: 0.7380903\tbest: 0.7380903 (100)\ttotal: 278ms\tremaining: 2.47s\n200:\tlearn: 0.4716193\ttest: 0.7343050\tbest: 0.7334529 (173)\ttotal: 576ms\tremaining: 2.29s\n300:\tlearn: 0.4251125\ttest: 0.7370673\tbest: 0.7334529 (173)\ttotal: 877ms\tremaining: 2.04s\n400:\tlearn: 0.3979248\ttest: 0.7430372\tbest: 0.7334529 (173)\ttotal: 1.4s\tremaining: 2.08s\n500:\tlearn: 0.3714987\ttest: 0.7472501\tbest: 0.7334529 (173)\ttotal: 1.77s\tremaining: 1.77s\n600:\tlearn: 0.3525856\ttest: 0.7513512\tbest: 0.7334529 (173)\ttotal: 2.1s\tremaining: 1.39s\n700:\tlearn: 0.3372515\ttest: 0.7538874\tbest: 0.7334529 (173)\ttotal: 2.43s\tremaining: 1.04s\n800:\tlearn: 0.3221178\ttest: 0.7576430\tbest: 0.7334529 (173)\ttotal: 2.76s\tremaining: 686ms\n900:\tlearn: 0.3094787\ttest: 0.7600504\tbest: 0.7334529 (173)\ttotal: 3.07s\tremaining: 338ms\n999:\tlearn: 0.2994674\ttest: 0.7620757\tbest: 0.7334529 (173)\ttotal: 3.37s\tremaining: 0us\n\nbestTest = 0.7334529325\nbestIteration = 173\n\n39:\tloss: 0.7334529\tbest: 0.6932810 (6)\ttotal: 1m 32s\tremaining: 53.2s\n0:\tlearn: 6.3958729\ttest: 6.4356876\tbest: 6.4356876 (0)\ttotal: 1.37ms\tremaining: 1.37s\n100:\tlearn: 0.5170161\ttest: 0.7242278\tbest: 0.7242278 (100)\ttotal: 325ms\tremaining: 2.9s\n200:\tlearn: 0.4711841\ttest: 0.7226167\tbest: 0.7224170 (198)\ttotal: 627ms\tremaining: 2.49s\n300:\tlearn: 0.4347319\ttest: 0.7298765\tbest: 0.7224170 (198)\ttotal: 1.01s\tremaining: 2.36s\n400:\tlearn: 0.4066906\ttest: 0.7368919\tbest: 0.7224170 (198)\ttotal: 1.34s\tremaining: 2s\n500:\tlearn: 0.3822440\ttest: 0.7414393\tbest: 0.7224170 (198)\ttotal: 1.64s\tremaining: 1.64s\n600:\tlearn: 0.3632332\ttest: 0.7475567\tbest: 0.7224170 (198)\ttotal: 1.95s\tremaining: 1.29s\n700:\tlearn: 0.3487743\ttest: 0.7523212\tbest: 0.7224170 (198)\ttotal: 2.25s\tremaining: 961ms\n800:\tlearn: 0.3325407\ttest: 0.7565860\tbest: 0.7224170 (198)\ttotal: 2.56s\tremaining: 636ms\n900:\tlearn: 0.3199659\ttest: 0.7609146\tbest: 0.7224170 (198)\ttotal: 2.87s\tremaining: 315ms\n999:\tlearn: 0.3090202\ttest: 0.7646600\tbest: 0.7224170 (198)\ttotal: 3.18s\tremaining: 0us\n\nbestTest = 0.7224170303\nbestIteration = 198\n\n40:\tloss: 0.7224170\tbest: 0.6932810 (6)\ttotal: 1m 35s\tremaining: 51.4s\n0:\tlearn: 6.4328892\ttest: 6.4690336\tbest: 6.4690336 (0)\ttotal: 1.74ms\tremaining: 1.74s\n100:\tlearn: 0.5624882\ttest: 0.7534848\tbest: 0.7534848 (100)\ttotal: 294ms\tremaining: 2.61s\n200:\tlearn: 0.5137433\ttest: 0.7399887\tbest: 0.7399887 (200)\ttotal: 649ms\tremaining: 2.58s\n300:\tlearn: 0.4801950\ttest: 0.7356422\tbest: 0.7356422 (300)\ttotal: 946ms\tremaining: 2.19s\n400:\tlearn: 0.4602964\ttest: 0.7333949\tbest: 0.7333949 (400)\ttotal: 1.5s\tremaining: 2.24s\n500:\tlearn: 0.4372321\ttest: 0.7318925\tbest: 0.7315532 (486)\ttotal: 1.85s\tremaining: 1.84s\n600:\tlearn: 0.4191205\ttest: 0.7336841\tbest: 0.7315378 (517)\ttotal: 2.18s\tremaining: 1.44s\n700:\tlearn: 0.4016703\ttest: 0.7365882\tbest: 0.7315378 (517)\ttotal: 2.47s\tremaining: 1.05s\n800:\tlearn: 0.3880565\ttest: 0.7384177\tbest: 0.7315378 (517)\ttotal: 2.76s\tremaining: 686ms\n900:\tlearn: 0.3756863\ttest: 0.7409437\tbest: 0.7315378 (517)\ttotal: 3.11s\tremaining: 342ms\n999:\tlearn: 0.3625772\ttest: 0.7429133\tbest: 0.7315378 (517)\ttotal: 3.43s\tremaining: 0us\n\nbestTest = 0.731537761\nbestIteration = 517\n\n41:\tloss: 0.7315378\tbest: 0.6932810 (6)\ttotal: 1m 39s\tremaining: 49.6s\n0:\tlearn: 6.3690133\ttest: 6.4119883\tbest: 6.4119883 (0)\ttotal: 9.53ms\tremaining: 9.52s\n100:\tlearn: 0.3655166\ttest: 0.7487610\tbest: 0.7434545 (66)\ttotal: 816ms\tremaining: 7.26s\n200:\tlearn: 0.2899704\ttest: 0.7662645\tbest: 0.7434545 (66)\ttotal: 1.68s\tremaining: 6.67s\n300:\tlearn: 0.2514251\ttest: 0.7737264\tbest: 0.7434545 (66)\ttotal: 2.56s\tremaining: 5.95s\n400:\tlearn: 0.2282933\ttest: 0.7808605\tbest: 0.7434545 (66)\ttotal: 3.47s\tremaining: 5.18s\n500:\tlearn: 0.2160053\ttest: 0.7850078\tbest: 0.7434545 (66)\ttotal: 4.36s\tremaining: 4.34s\n600:\tlearn: 0.2076483\ttest: 0.7894097\tbest: 0.7434545 (66)\ttotal: 5.32s\tremaining: 3.53s\n700:\tlearn: 0.2029937\ttest: 0.7928987\tbest: 0.7434545 (66)\ttotal: 6.19s\tremaining: 2.64s\n800:\tlearn: 0.1999155\ttest: 0.7954692\tbest: 0.7434545 (66)\ttotal: 7.12s\tremaining: 1.77s\n900:\tlearn: 0.1981871\ttest: 0.7969791\tbest: 0.7434545 (66)\ttotal: 8.01s\tremaining: 880ms\n999:\tlearn: 0.1969204\ttest: 0.7980373\tbest: 0.7434545 (66)\ttotal: 8.84s\tremaining: 0us\n\nbestTest = 0.7434545087\nbestIteration = 66\n\n42:\tloss: 0.7434545\tbest: 0.6932810 (6)\ttotal: 1m 48s\tremaining: 50.3s\n0:\tlearn: 6.3625117\ttest: 6.4013447\tbest: 6.4013447 (0)\ttotal: 1.24ms\tremaining: 1.24s\n100:\tlearn: 0.4152632\ttest: 0.7292232\tbest: 0.7259628 (65)\ttotal: 771ms\tremaining: 6.87s\n200:\tlearn: 0.3483955\ttest: 0.7397784\tbest: 0.7259628 (65)\ttotal: 1.65s\tremaining: 6.55s\n300:\tlearn: 0.3060583\ttest: 0.7454953\tbest: 0.7259628 (65)\ttotal: 2.53s\tremaining: 5.88s\n400:\tlearn: 0.2744391\ttest: 0.7545624\tbest: 0.7259628 (65)\ttotal: 3.46s\tremaining: 5.17s\n500:\tlearn: 0.2547456\ttest: 0.7607838\tbest: 0.7259628 (65)\ttotal: 4.34s\tremaining: 4.32s\n600:\tlearn: 0.2385084\ttest: 0.7651679\tbest: 0.7259628 (65)\ttotal: 5.23s\tremaining: 3.47s\n700:\tlearn: 0.2275870\ttest: 0.7701957\tbest: 0.7259628 (65)\ttotal: 6.25s\tremaining: 2.67s\n800:\tlearn: 0.2198623\ttest: 0.7727130\tbest: 0.7259628 (65)\ttotal: 7.25s\tremaining: 1.8s\n900:\tlearn: 0.2134502\ttest: 0.7753273\tbest: 0.7259628 (65)\ttotal: 8.22s\tremaining: 903ms\n999:\tlearn: 0.2090608\ttest: 0.7774077\tbest: 0.7259628 (65)\ttotal: 9.14s\tremaining: 0us\n\nbestTest = 0.7259627732\nbestIteration = 65\n\n43:\tloss: 0.7259628\tbest: 0.6932810 (6)\ttotal: 1m 57s\tremaining: 50.6s\n0:\tlearn: 6.3696442\ttest: 6.4082694\tbest: 6.4082694 (0)\ttotal: 3.64ms\tremaining: 3.63s\n100:\tlearn: 0.4384478\ttest: 0.7408692\tbest: 0.7397886 (83)\ttotal: 772ms\tremaining: 6.87s\n200:\tlearn: 0.3847480\ttest: 0.7437845\tbest: 0.7394511 (121)\ttotal: 1.65s\tremaining: 6.57s\n300:\tlearn: 0.3460968\ttest: 0.7525326\tbest: 0.7394511 (121)\ttotal: 2.54s\tremaining: 5.9s\n400:\tlearn: 0.3189754\ttest: 0.7593426\tbest: 0.7394511 (121)\ttotal: 3.47s\tremaining: 5.18s\n500:\tlearn: 0.2906708\ttest: 0.7641575\tbest: 0.7394511 (121)\ttotal: 4.34s\tremaining: 4.32s\n600:\tlearn: 0.2702406\ttest: 0.7690544\tbest: 0.7394511 (121)\ttotal: 5.24s\tremaining: 3.48s\n700:\tlearn: 0.2564097\ttest: 0.7730229\tbest: 0.7394511 (121)\ttotal: 6.13s\tremaining: 2.61s\n800:\tlearn: 0.2443951\ttest: 0.7754051\tbest: 0.7394511 (121)\ttotal: 7.12s\tremaining: 1.77s\n900:\tlearn: 0.2351691\ttest: 0.7776311\tbest: 0.7394511 (121)\ttotal: 8.03s\tremaining: 882ms\n999:\tlearn: 0.2277694\ttest: 0.7799900\tbest: 0.7394511 (121)\ttotal: 8.99s\tremaining: 0us\n\nbestTest = 0.7394511438\nbestIteration = 121\n\n44:\tloss: 0.7394511\tbest: 0.6932810 (6)\ttotal: 2m 6s\tremaining: 50.5s\n0:\tlearn: 6.3683427\ttest: 6.4084530\tbest: 6.4084530 (0)\ttotal: 4.64ms\tremaining: 4.64s\n100:\tlearn: 0.4527570\ttest: 0.7160891\tbest: 0.7140033 (74)\ttotal: 780ms\tremaining: 6.94s\n200:\tlearn: 0.4103171\ttest: 0.7176052\tbest: 0.7140033 (74)\ttotal: 1.66s\tremaining: 6.62s\n300:\tlearn: 0.3730228\ttest: 0.7259688\tbest: 0.7140033 (74)\ttotal: 2.57s\tremaining: 5.96s\n400:\tlearn: 0.3410207\ttest: 0.7322813\tbest: 0.7140033 (74)\ttotal: 3.48s\tremaining: 5.2s\n500:\tlearn: 0.3156546\ttest: 0.7393499\tbest: 0.7140033 (74)\ttotal: 4.4s\tremaining: 4.39s\n600:\tlearn: 0.2965913\ttest: 0.7452783\tbest: 0.7140033 (74)\ttotal: 5.27s\tremaining: 3.5s\n700:\tlearn: 0.2762592\ttest: 0.7488432\tbest: 0.7140033 (74)\ttotal: 6.17s\tremaining: 2.63s\n800:\tlearn: 0.2613628\ttest: 0.7528046\tbest: 0.7140033 (74)\ttotal: 7.1s\tremaining: 1.76s\n900:\tlearn: 0.2492799\ttest: 0.7555675\tbest: 0.7140033 (74)\ttotal: 8.26s\tremaining: 908ms\n999:\tlearn: 0.2409216\ttest: 0.7577348\tbest: 0.7140033 (74)\ttotal: 9.22s\tremaining: 0us\n\nbestTest = 0.7140033074\nbestIteration = 74\n\n45:\tloss: 0.7140033\tbest: 0.6932810 (6)\ttotal: 2m 15s\tremaining: 50.1s\n0:\tlearn: 6.3756898\ttest: 6.4150777\tbest: 6.4150777 (0)\ttotal: 2.02ms\tremaining: 2.02s\n100:\tlearn: 0.4553623\ttest: 0.7190066\tbest: 0.7171220 (85)\ttotal: 873ms\tremaining: 7.77s\n200:\tlearn: 0.4168359\ttest: 0.7196704\tbest: 0.7171220 (85)\ttotal: 1.78s\tremaining: 7.06s\n300:\tlearn: 0.3826905\ttest: 0.7254984\tbest: 0.7171220 (85)\ttotal: 2.69s\tremaining: 6.24s\n400:\tlearn: 0.3540959\ttest: 0.7324966\tbest: 0.7171220 (85)\ttotal: 3.68s\tremaining: 5.5s\n500:\tlearn: 0.3348638\ttest: 0.7361474\tbest: 0.7171220 (85)\ttotal: 4.65s\tremaining: 4.63s\n600:\tlearn: 0.3136953\ttest: 0.7409528\tbest: 0.7171220 (85)\ttotal: 5.58s\tremaining: 3.7s\n700:\tlearn: 0.2974621\ttest: 0.7442106\tbest: 0.7171220 (85)\ttotal: 6.54s\tremaining: 2.79s\n800:\tlearn: 0.2810436\ttest: 0.7503542\tbest: 0.7171220 (85)\ttotal: 7.51s\tremaining: 1.87s\n900:\tlearn: 0.2696364\ttest: 0.7549447\tbest: 0.7171220 (85)\ttotal: 8.53s\tremaining: 938ms\n999:\tlearn: 0.2594602\ttest: 0.7565808\tbest: 0.7171220 (85)\ttotal: 9.51s\tremaining: 0us\n\nbestTest = 0.7171220013\nbestIteration = 85\n\n46:\tloss: 0.7171220\tbest: 0.6932810 (6)\ttotal: 2m 25s\tremaining: 49.4s\n0:\tlearn: 6.3817656\ttest: 6.4210631\tbest: 6.4210631 (0)\ttotal: 1.63ms\tremaining: 1.63s\n100:\tlearn: 0.4657783\ttest: 0.7124231\tbest: 0.7115779 (92)\ttotal: 795ms\tremaining: 7.08s\n200:\tlearn: 0.4254478\ttest: 0.7169172\tbest: 0.7115779 (92)\ttotal: 1.7s\tremaining: 6.75s\n300:\tlearn: 0.4019502\ttest: 0.7205476\tbest: 0.7115779 (92)\ttotal: 2.59s\tremaining: 6.02s\n400:\tlearn: 0.3708721\ttest: 0.7256570\tbest: 0.7115779 (92)\ttotal: 3.5s\tremaining: 5.23s\n500:\tlearn: 0.3497485\ttest: 0.7301059\tbest: 0.7115779 (92)\ttotal: 4.57s\tremaining: 4.55s\n600:\tlearn: 0.3298343\ttest: 0.7353842\tbest: 0.7115779 (92)\ttotal: 5.47s\tremaining: 3.63s\n700:\tlearn: 0.3144708\ttest: 0.7418246\tbest: 0.7115779 (92)\ttotal: 6.4s\tremaining: 2.73s\n800:\tlearn: 0.2972364\ttest: 0.7457084\tbest: 0.7115779 (92)\ttotal: 7.31s\tremaining: 1.81s\n900:\tlearn: 0.2835170\ttest: 0.7494549\tbest: 0.7115779 (92)\ttotal: 8.23s\tremaining: 904ms\n999:\tlearn: 0.2715533\ttest: 0.7517046\tbest: 0.7115779 (92)\ttotal: 9.18s\tremaining: 0us\n\nbestTest = 0.7115779359\nbestIteration = 92\n\n47:\tloss: 0.7115779\tbest: 0.6932810 (6)\ttotal: 2m 34s\tremaining: 48.3s\n0:\tlearn: 6.4073547\ttest: 6.4497844\tbest: 6.4497844 (0)\ttotal: 1.46ms\tremaining: 1.46s\n100:\tlearn: 0.5039019\ttest: 0.7064487\tbest: 0.7059308 (88)\ttotal: 773ms\tremaining: 6.88s\n200:\tlearn: 0.4606358\ttest: 0.7089652\tbest: 0.7059308 (88)\ttotal: 1.74s\tremaining: 6.92s\n300:\tlearn: 0.4430738\ttest: 0.7107855\tbest: 0.7059308 (88)\ttotal: 2.54s\tremaining: 5.91s\n400:\tlearn: 0.4203546\ttest: 0.7152025\tbest: 0.7059308 (88)\ttotal: 3.47s\tremaining: 5.18s\n500:\tlearn: 0.4017093\ttest: 0.7189306\tbest: 0.7059308 (88)\ttotal: 4.32s\tremaining: 4.3s\n600:\tlearn: 0.3860108\ttest: 0.7220087\tbest: 0.7059308 (88)\ttotal: 5.31s\tremaining: 3.53s\n700:\tlearn: 0.3703175\ttest: 0.7240584\tbest: 0.7059308 (88)\ttotal: 6.26s\tremaining: 2.67s\n800:\tlearn: 0.3561464\ttest: 0.7281825\tbest: 0.7059308 (88)\ttotal: 7.19s\tremaining: 1.78s\n900:\tlearn: 0.3443676\ttest: 0.7311034\tbest: 0.7059308 (88)\ttotal: 8.11s\tremaining: 891ms\n999:\tlearn: 0.3319400\ttest: 0.7341092\tbest: 0.7059308 (88)\ttotal: 9.07s\tremaining: 0us\n\nbestTest = 0.7059308416\nbestIteration = 88\n\n48:\tloss: 0.7059308\tbest: 0.6932810 (6)\ttotal: 2m 43s\tremaining: 46.8s\n0:\tlearn: 6.3705920\ttest: 6.4316518\tbest: 6.4316518 (0)\ttotal: 9.3ms\tremaining: 9.29s\n100:\tlearn: 0.3706695\ttest: 0.8479059\tbest: 0.8472469 (92)\ttotal: 1.06s\tremaining: 9.44s\n200:\tlearn: 0.2898981\ttest: 0.8625772\tbest: 0.8472469 (92)\ttotal: 1.96s\tremaining: 7.79s\n300:\tlearn: 0.2502512\ttest: 0.8742876\tbest: 0.8472469 (92)\ttotal: 2.96s\tremaining: 6.88s\n400:\tlearn: 0.2271780\ttest: 0.8827553\tbest: 0.8472469 (92)\ttotal: 4s\tremaining: 5.98s\n500:\tlearn: 0.2154448\ttest: 0.8879423\tbest: 0.8472469 (92)\ttotal: 4.9s\tremaining: 4.88s\n600:\tlearn: 0.2079782\ttest: 0.8918369\tbest: 0.8472469 (92)\ttotal: 5.85s\tremaining: 3.88s\n700:\tlearn: 0.2029168\ttest: 0.8958924\tbest: 0.8472469 (92)\ttotal: 6.78s\tremaining: 2.89s\n800:\tlearn: 0.1999136\ttest: 0.8984388\tbest: 0.8472469 (92)\ttotal: 7.73s\tremaining: 1.92s\n900:\tlearn: 0.1975845\ttest: 0.8998397\tbest: 0.8472469 (92)\ttotal: 8.68s\tremaining: 954ms\n999:\tlearn: 0.1963144\ttest: 0.9015865\tbest: 0.8472469 (92)\ttotal: 9.59s\tremaining: 0us\n\nbestTest = 0.8472468588\nbestIteration = 92\n\n49:\tloss: 0.8472469\tbest: 0.6932810 (6)\ttotal: 2m 53s\tremaining: 45.1s\n0:\tlearn: 6.3931403\ttest: 6.4540744\tbest: 6.4540744 (0)\ttotal: 9.39ms\tremaining: 9.38s\n100:\tlearn: 0.4234329\ttest: 0.7957570\tbest: 0.7957570 (100)\ttotal: 914ms\tremaining: 8.13s\n200:\tlearn: 0.3546204\ttest: 0.7954450\tbest: 0.7924166 (145)\ttotal: 1.9s\tremaining: 7.54s\n300:\tlearn: 0.3068294\ttest: 0.8053815\tbest: 0.7924166 (145)\ttotal: 2.87s\tremaining: 6.66s\n400:\tlearn: 0.2735359\ttest: 0.8106964\tbest: 0.7924166 (145)\ttotal: 3.81s\tremaining: 5.69s\n500:\tlearn: 0.2525250\ttest: 0.8162153\tbest: 0.7924166 (145)\ttotal: 4.74s\tremaining: 4.72s\n600:\tlearn: 0.2378453\ttest: 0.8191523\tbest: 0.7924166 (145)\ttotal: 5.65s\tremaining: 3.75s\n700:\tlearn: 0.2285080\ttest: 0.8222771\tbest: 0.7924166 (145)\ttotal: 6.62s\tremaining: 2.83s\n800:\tlearn: 0.2197022\ttest: 0.8257809\tbest: 0.7924166 (145)\ttotal: 7.53s\tremaining: 1.87s\n900:\tlearn: 0.2138068\ttest: 0.8277591\tbest: 0.7924166 (145)\ttotal: 8.42s\tremaining: 925ms\n999:\tlearn: 0.2093810\ttest: 0.8300104\tbest: 0.7924166 (145)\ttotal: 9.3s\tremaining: 0us\n\nbestTest = 0.7924166346\nbestIteration = 145\n\n50:\tloss: 0.7924166\tbest: 0.6932810 (6)\ttotal: 3m 2s\tremaining: 43s\n0:\tlearn: 6.3927010\ttest: 6.4281711\tbest: 6.4281711 (0)\ttotal: 1.63ms\tremaining: 1.63s\n100:\tlearn: 0.4557549\ttest: 0.7473164\tbest: 0.7473164 (100)\ttotal: 764ms\tremaining: 6.8s\n200:\tlearn: 0.3925894\ttest: 0.7470564\tbest: 0.7447809 (133)\ttotal: 1.72s\tremaining: 6.86s\n300:\tlearn: 0.3514663\ttest: 0.7568994\tbest: 0.7447809 (133)\ttotal: 2.64s\tremaining: 6.13s\n400:\tlearn: 0.3175396\ttest: 0.7605123\tbest: 0.7447809 (133)\ttotal: 3.85s\tremaining: 5.76s\n500:\tlearn: 0.2909651\ttest: 0.7634625\tbest: 0.7447809 (133)\ttotal: 5.97s\tremaining: 5.95s\n600:\tlearn: 0.2706335\ttest: 0.7683558\tbest: 0.7447809 (133)\ttotal: 7.89s\tremaining: 5.24s\n700:\tlearn: 0.2561349\ttest: 0.7730423\tbest: 0.7447809 (133)\ttotal: 8.94s\tremaining: 3.81s\n800:\tlearn: 0.2422105\ttest: 0.7786300\tbest: 0.7447809 (133)\ttotal: 9.9s\tremaining: 2.46s\n900:\tlearn: 0.2334418\ttest: 0.7818071\tbest: 0.7447809 (133)\ttotal: 10.8s\tremaining: 1.19s\n999:\tlearn: 0.2264945\ttest: 0.7832862\tbest: 0.7447809 (133)\ttotal: 11.8s\tremaining: 0us\n\nbestTest = 0.7447809386\nbestIteration = 133\n\n51:\tloss: 0.7447809\tbest: 0.6932810 (6)\ttotal: 3m 14s\tremaining: 41.1s\n0:\tlearn: 6.3793880\ttest: 6.4195422\tbest: 6.4195422 (0)\ttotal: 2.55ms\tremaining: 2.54s\n100:\tlearn: 0.4753881\ttest: 0.7312553\tbest: 0.7312447 (99)\ttotal: 869ms\tremaining: 7.73s\n200:\tlearn: 0.4207566\ttest: 0.7306028\tbest: 0.7274147 (139)\ttotal: 1.86s\tremaining: 7.38s\n300:\tlearn: 0.3756559\ttest: 0.7365876\tbest: 0.7274147 (139)\ttotal: 2.82s\tremaining: 6.56s\n400:\tlearn: 0.3437820\ttest: 0.7423910\tbest: 0.7274147 (139)\ttotal: 3.73s\tremaining: 5.57s\n500:\tlearn: 0.3162597\ttest: 0.7481509\tbest: 0.7274147 (139)\ttotal: 4.62s\tremaining: 4.6s\n600:\tlearn: 0.2957728\ttest: 0.7534712\tbest: 0.7274147 (139)\ttotal: 5.75s\tremaining: 3.82s\n700:\tlearn: 0.2785445\ttest: 0.7578250\tbest: 0.7274147 (139)\ttotal: 6.73s\tremaining: 2.87s\n800:\tlearn: 0.2640660\ttest: 0.7610243\tbest: 0.7274147 (139)\ttotal: 7.73s\tremaining: 1.92s\n900:\tlearn: 0.2523832\ttest: 0.7640721\tbest: 0.7274147 (139)\ttotal: 8.65s\tremaining: 950ms\n999:\tlearn: 0.2432641\ttest: 0.7672625\tbest: 0.7274147 (139)\ttotal: 9.61s\tremaining: 0us\n\nbestTest = 0.727414746\nbestIteration = 139\n\n52:\tloss: 0.7274147\tbest: 0.6932810 (6)\ttotal: 3m 24s\tremaining: 38.5s\n0:\tlearn: 6.3914307\ttest: 6.4281846\tbest: 6.4281846 (0)\ttotal: 1.72ms\tremaining: 1.72s\n100:\tlearn: 0.4880290\ttest: 0.7173089\tbest: 0.7170188 (95)\ttotal: 793ms\tremaining: 7.05s\n200:\tlearn: 0.4405008\ttest: 0.7193163\tbest: 0.7170188 (95)\ttotal: 1.74s\tremaining: 6.9s\n300:\tlearn: 0.4014703\ttest: 0.7231400\tbest: 0.7170188 (95)\ttotal: 3.11s\tremaining: 7.22s\n400:\tlearn: 0.3679236\ttest: 0.7308022\tbest: 0.7170188 (95)\ttotal: 4.07s\tremaining: 6.08s\n500:\tlearn: 0.3423554\ttest: 0.7345187\tbest: 0.7170188 (95)\ttotal: 4.93s\tremaining: 4.91s\n600:\tlearn: 0.3196770\ttest: 0.7378310\tbest: 0.7170188 (95)\ttotal: 6.06s\tremaining: 4.02s\n700:\tlearn: 0.3013948\ttest: 0.7431447\tbest: 0.7170188 (95)\ttotal: 7.1s\tremaining: 3.03s\n800:\tlearn: 0.2853083\ttest: 0.7466304\tbest: 0.7170188 (95)\ttotal: 8.18s\tremaining: 2.03s\n900:\tlearn: 0.2719858\ttest: 0.7510024\tbest: 0.7170188 (95)\ttotal: 9.14s\tremaining: 1s\n999:\tlearn: 0.2622891\ttest: 0.7530774\tbest: 0.7170188 (95)\ttotal: 10.1s\tremaining: 0us\n\nbestTest = 0.7170188177\nbestIteration = 95\n\n53:\tloss: 0.7170188\tbest: 0.6932810 (6)\ttotal: 3m 34s\tremaining: 35.7s\n0:\tlearn: 6.3995656\ttest: 6.4361401\tbest: 6.4361401 (0)\ttotal: 3.5ms\tremaining: 3.5s\n100:\tlearn: 0.5001359\ttest: 0.7195389\tbest: 0.7195389 (100)\ttotal: 739ms\tremaining: 6.58s\n200:\tlearn: 0.4535734\ttest: 0.7166425\tbest: 0.7156220 (173)\ttotal: 1.72s\tremaining: 6.85s\n300:\tlearn: 0.4170302\ttest: 0.7196538\tbest: 0.7156220 (173)\ttotal: 2.69s\tremaining: 6.24s\n400:\tlearn: 0.3852790\ttest: 0.7231998\tbest: 0.7156220 (173)\ttotal: 3.67s\tremaining: 5.48s\n500:\tlearn: 0.3574751\ttest: 0.7258877\tbest: 0.7156220 (173)\ttotal: 4.6s\tremaining: 4.58s\n600:\tlearn: 0.3357355\ttest: 0.7293415\tbest: 0.7156220 (173)\ttotal: 5.54s\tremaining: 3.68s\n700:\tlearn: 0.3183130\ttest: 0.7351497\tbest: 0.7156220 (173)\ttotal: 6.49s\tremaining: 2.77s\n800:\tlearn: 0.3030246\ttest: 0.7375581\tbest: 0.7156220 (173)\ttotal: 7.51s\tremaining: 1.87s\n900:\tlearn: 0.2886629\ttest: 0.7428009\tbest: 0.7156220 (173)\ttotal: 8.66s\tremaining: 952ms\n999:\tlearn: 0.2765348\ttest: 0.7472191\tbest: 0.7156220 (173)\ttotal: 9.71s\tremaining: 0us\n\nbestTest = 0.71562199\nbestIteration = 173\n\n54:\tloss: 0.7156220\tbest: 0.6932810 (6)\ttotal: 3m 44s\tremaining: 32.6s\n0:\tlearn: 6.4094794\ttest: 6.4431953\tbest: 6.4431953 (0)\ttotal: 1.67ms\tremaining: 1.67s\n100:\tlearn: 0.5350183\ttest: 0.7203206\tbest: 0.7202184 (99)\ttotal: 745ms\tremaining: 6.63s\n",
          "output_type": "stream"
        }
      ]
    },
    {
      "cell_type": "code",
      "source": "if isinstance(searched_cat_objects, dict): store_json(searched_cat_objects, \"./data/new_stored_cat_hyper\")",
      "metadata": {
        "tags": [],
        "cell_id": "00017-3eac7e4d-b5c1-45a3-9e29-8dcb6131ac36",
        "deepnote_to_be_reexecuted": false,
        "source_hash": "6c070515",
        "execution_millis": 62,
        "execution_start": 1618323780254,
        "deepnote_cell_type": "code"
      },
      "outputs": [],
      "execution_count": 23
    },
    {
      "cell_type": "code",
      "metadata": {
        "tags": [],
        "cell_id": "00017-ae52ff28-e6d8-4ead-9666-3e0169390a94",
        "deepnote_to_be_reexecuted": false,
        "source_hash": "e443e218",
        "execution_millis": 50,
        "execution_start": 1618212141836,
        "deepnote_cell_type": "code"
      },
      "source": "feature_df = CBR.get_feature_importance(prettified=True)\nfeature_df = feature_df[feature_df[\"Importances\"] > 1]\nfeature_df",
      "execution_count": null,
      "outputs": [
        {
          "output_type": "execute_result",
          "execution_count": 13,
          "data": {
            "application/vnd.deepnote.dataframe.v2+json": {
              "row_count": 12,
              "column_count": 2,
              "columns": [
                {
                  "name": "Feature Id",
                  "dtype": "object",
                  "stats": {
                    "unique_count": 12,
                    "nan_count": 0,
                    "categories": [
                      {
                        "name": "average_mood",
                        "count": 1
                      },
                      {
                        "name": "average_arousal",
                        "count": 1
                      },
                      {
                        "name": "10 others",
                        "count": 10
                      }
                    ]
                  }
                },
                {
                  "name": "Importances",
                  "dtype": "float64",
                  "stats": {
                    "unique_count": 12,
                    "nan_count": 0,
                    "min": 1.191830836319479,
                    "max": 37.553715816633556,
                    "histogram": [
                      {
                        "bin_start": 1.191830836319479,
                        "bin_end": 4.828019334350886,
                        "count": 5
                      },
                      {
                        "bin_start": 4.828019334350886,
                        "bin_end": 8.464207832382293,
                        "count": 4
                      },
                      {
                        "bin_start": 8.464207832382293,
                        "bin_end": 12.100396330413702,
                        "count": 1
                      },
                      {
                        "bin_start": 12.100396330413702,
                        "bin_end": 15.736584828445109,
                        "count": 1
                      },
                      {
                        "bin_start": 15.736584828445109,
                        "bin_end": 19.372773326476516,
                        "count": 0
                      },
                      {
                        "bin_start": 19.372773326476516,
                        "bin_end": 23.008961824507924,
                        "count": 0
                      },
                      {
                        "bin_start": 23.008961824507924,
                        "bin_end": 26.64515032253933,
                        "count": 0
                      },
                      {
                        "bin_start": 26.64515032253933,
                        "bin_end": 30.28133882057074,
                        "count": 0
                      },
                      {
                        "bin_start": 30.28133882057074,
                        "bin_end": 33.91752731860214,
                        "count": 0
                      },
                      {
                        "bin_start": 33.91752731860214,
                        "bin_end": 37.553715816633556,
                        "count": 1
                      }
                    ]
                  }
                },
                {
                  "name": "_deepnote_index_column",
                  "dtype": "int64"
                }
              ],
              "rows_top": [
                {
                  "Feature Id": "average_mood",
                  "Importances": 37.553715816633556,
                  "_deepnote_index_column": 0
                },
                {
                  "Feature Id": "average_arousal",
                  "Importances": 12.705544361237402,
                  "_deepnote_index_column": 1
                },
                {
                  "Feature Id": "average_com",
                  "Importances": 10.155628243634094,
                  "_deepnote_index_column": 2
                },
                {
                  "Feature Id": "average_entertainment",
                  "Importances": 6.976369841289567,
                  "_deepnote_index_column": 3
                },
                {
                  "Feature Id": "average_valence",
                  "Importances": 6.532299619786089,
                  "_deepnote_index_column": 4
                },
                {
                  "Feature Id": "average_office",
                  "Importances": 5.906203913404193,
                  "_deepnote_index_column": 5
                },
                {
                  "Feature Id": "average_soc",
                  "Importances": 5.729529644919992,
                  "_deepnote_index_column": 6
                },
                {
                  "Feature Id": "total_calls",
                  "Importances": 4.159409599799539,
                  "_deepnote_index_column": 7
                },
                {
                  "Feature Id": "average_finance",
                  "Importances": 3.2157049564364257,
                  "_deepnote_index_column": 8
                },
                {
                  "Feature Id": "average_game",
                  "Importances": 2.3283085161840287,
                  "_deepnote_index_column": 9
                },
                {
                  "Feature Id": "total_sms",
                  "Importances": 1.303183492493964,
                  "_deepnote_index_column": 10
                },
                {
                  "Feature Id": "date_2014-04-25",
                  "Importances": 1.191830836319479,
                  "_deepnote_index_column": 11
                }
              ],
              "rows_bottom": null
            },
            "text/plain": "               Feature Id  Importances\n0            average_mood    37.553716\n1         average_arousal    12.705544\n2             average_com    10.155628\n3   average_entertainment     6.976370\n4         average_valence     6.532300\n5          average_office     5.906204\n6             average_soc     5.729530\n7             total_calls     4.159410\n8         average_finance     3.215705\n9            average_game     2.328309\n10              total_sms     1.303183\n11        date_2014-04-25     1.191831",
            "text/html": "<div>\n<style scoped>\n    .dataframe tbody tr th:only-of-type {\n        vertical-align: middle;\n    }\n\n    .dataframe tbody tr th {\n        vertical-align: top;\n    }\n\n    .dataframe thead th {\n        text-align: right;\n    }\n</style>\n<table border=\"1\" class=\"dataframe\">\n  <thead>\n    <tr style=\"text-align: right;\">\n      <th></th>\n      <th>Feature Id</th>\n      <th>Importances</th>\n    </tr>\n  </thead>\n  <tbody>\n    <tr>\n      <th>0</th>\n      <td>average_mood</td>\n      <td>37.553716</td>\n    </tr>\n    <tr>\n      <th>1</th>\n      <td>average_arousal</td>\n      <td>12.705544</td>\n    </tr>\n    <tr>\n      <th>2</th>\n      <td>average_com</td>\n      <td>10.155628</td>\n    </tr>\n    <tr>\n      <th>3</th>\n      <td>average_entertainment</td>\n      <td>6.976370</td>\n    </tr>\n    <tr>\n      <th>4</th>\n      <td>average_valence</td>\n      <td>6.532300</td>\n    </tr>\n    <tr>\n      <th>5</th>\n      <td>average_office</td>\n      <td>5.906204</td>\n    </tr>\n    <tr>\n      <th>6</th>\n      <td>average_soc</td>\n      <td>5.729530</td>\n    </tr>\n    <tr>\n      <th>7</th>\n      <td>total_calls</td>\n      <td>4.159410</td>\n    </tr>\n    <tr>\n      <th>8</th>\n      <td>average_finance</td>\n      <td>3.215705</td>\n    </tr>\n    <tr>\n      <th>9</th>\n      <td>average_game</td>\n      <td>2.328309</td>\n    </tr>\n    <tr>\n      <th>10</th>\n      <td>total_sms</td>\n      <td>1.303183</td>\n    </tr>\n    <tr>\n      <th>11</th>\n      <td>date_2014-04-25</td>\n      <td>1.191831</td>\n    </tr>\n  </tbody>\n</table>\n</div>"
          },
          "metadata": {}
        }
      ]
    },
    {
      "cell_type": "markdown",
      "source": "This shows we do not actually need the date's to determine any type of mood.",
      "metadata": {
        "tags": [],
        "cell_id": "00018-b54b1513-b628-4b80-8048-5df8d925ef48",
        "deepnote_cell_type": "markdown"
      }
    },
    {
      "cell_type": "code",
      "metadata": {
        "tags": [],
        "cell_id": "00018-677812c0-c571-4bf7-8f0c-6afdba63994c",
        "deepnote_to_be_reexecuted": false,
        "source_hash": "c433bcad",
        "execution_millis": 8,
        "execution_start": 1618212161682,
        "deepnote_cell_type": "code"
      },
      "source": "y_pred = CBR.predict(X_val)",
      "execution_count": null,
      "outputs": []
    },
    {
      "cell_type": "code",
      "metadata": {
        "tags": [],
        "cell_id": "00020-5b0559e0-d932-4af6-ab68-f05c7709bb65",
        "deepnote_cell_type": "code"
      },
      "source": "# CatBoost Specific Optimization\n# train_dataset = cb.Pool(X_tset, y_tset) \n# test_dataset = cb.Pool(X_val, y_val)",
      "execution_count": null,
      "outputs": []
    },
    {
      "cell_type": "code",
      "metadata": {
        "tags": [],
        "cell_id": "00020-62138561-0077-4e22-a85e-9cdf6b6de25a",
        "deepnote_to_be_reexecuted": false,
        "source_hash": "8c0229b",
        "execution_millis": 0,
        "execution_start": 1618212164082,
        "deepnote_cell_type": "code"
      },
      "source": "CBR_percentage = 0 \nfor x, y in zip(y_pred, y_val): \n    difference = x - y\n    if difference < 0.5 and difference > -0.5:\n        CBR_percentage += 1",
      "execution_count": null,
      "outputs": []
    },
    {
      "cell_type": "code",
      "metadata": {
        "tags": [],
        "cell_id": "00022-6b3437dc-4be9-4005-8486-f31d82504825",
        "deepnote_to_be_reexecuted": false,
        "source_hash": "59660f00",
        "execution_millis": 9,
        "execution_start": 1618212164811,
        "deepnote_cell_type": "code"
      },
      "source": "CBR_percentage/len(y_val) *100",
      "execution_count": null,
      "outputs": [
        {
          "output_type": "execute_result",
          "execution_count": 16,
          "data": {
            "text/plain": "67.14801444043322"
          },
          "metadata": {}
        }
      ]
    },
    {
      "cell_type": "markdown",
      "source": "Sadly it's quite low atm. This is most likely due to the limited dataset.",
      "metadata": {
        "tags": [],
        "cell_id": "00020-4513a744-1f21-445f-b551-a455d82b6630",
        "deepnote_cell_type": "markdown"
      }
    },
    {
      "cell_type": "markdown",
      "source": "### Cheating to Check how the Model Improves",
      "metadata": {
        "tags": [],
        "cell_id": "00021-fecd1193-e369-411b-8edf-255af721f9c0",
        "deepnote_cell_type": "markdown"
      }
    },
    {
      "cell_type": "code",
      "metadata": {
        "tags": [],
        "cell_id": "00020-0f92c742-dde7-4b60-aed4-689f6f591cb9",
        "deepnote_to_be_reexecuted": false,
        "source_hash": "1f168f6f",
        "execution_millis": 4,
        "execution_start": 1618145297761,
        "deepnote_cell_type": "code"
      },
      "source": "# CatBoost Specific Optimization\ntrainset = cb.Pool(X_train, y_train) \ntestset = cb.Pool(X_test, y_test)",
      "execution_count": null,
      "outputs": []
    },
    {
      "cell_type": "code",
      "metadata": {
        "tags": [],
        "cell_id": "00023-c492a267-2115-4487-847f-508178f9749c",
        "deepnote_to_be_reexecuted": false,
        "source_hash": "a07f8089",
        "execution_millis": 5,
        "execution_start": 1618145298329,
        "deepnote_cell_type": "code"
      },
      "source": "CBRC = cb.CatBoostRegressor(**params)",
      "execution_count": null,
      "outputs": []
    },
    {
      "cell_type": "code",
      "metadata": {
        "tags": [],
        "cell_id": "00024-00a5e3fd-856e-49d4-80d9-7dab35f8e07e",
        "deepnote_to_be_reexecuted": false,
        "source_hash": "d3e0022e",
        "execution_millis": 2457,
        "execution_start": 1618145299721,
        "deepnote_cell_type": "code"
      },
      "source": "CBRC.fit(trainset, \neval_set=testset,\nuse_best_model=True,\n# plot=True # One of CatBoost's most powerfull features but isnt supported in DeepNote\n)",
      "execution_count": null,
      "outputs": [
        {
          "name": "stdout",
          "text": "Learning rate set to 0.044059\n0:\tlearn: 0.7172516\ttest: 0.7178727\tbest: 0.7178727 (0)\ttotal: 2.05ms\tremaining: 2.05s\n100:\tlearn: 0.4217718\ttest: 0.5143571\tbest: 0.5143571 (100)\ttotal: 216ms\tremaining: 1.93s\n200:\tlearn: 0.3728832\ttest: 0.5100793\tbest: 0.5096232 (189)\ttotal: 434ms\tremaining: 1.72s\n300:\tlearn: 0.3262427\ttest: 0.5125615\tbest: 0.5096232 (189)\ttotal: 684ms\tremaining: 1.59s\n400:\tlearn: 0.2964895\ttest: 0.5157831\tbest: 0.5096232 (189)\ttotal: 902ms\tremaining: 1.35s\n500:\tlearn: 0.2685912\ttest: 0.5185992\tbest: 0.5096232 (189)\ttotal: 1.19s\tremaining: 1.18s\n600:\tlearn: 0.2432462\ttest: 0.5220345\tbest: 0.5096232 (189)\ttotal: 1.4s\tremaining: 931ms\n700:\tlearn: 0.2230288\ttest: 0.5249131\tbest: 0.5096232 (189)\ttotal: 1.65s\tremaining: 706ms\n800:\tlearn: 0.2053769\ttest: 0.5268063\tbest: 0.5096232 (189)\ttotal: 1.85s\tremaining: 461ms\n900:\tlearn: 0.1902339\ttest: 0.5282712\tbest: 0.5096232 (189)\ttotal: 2.11s\tremaining: 232ms\n999:\tlearn: 0.1769719\ttest: 0.5302190\tbest: 0.5096232 (189)\ttotal: 2.34s\tremaining: 0us\n\nbestTest = 0.5096231957\nbestIteration = 189\n\nShrink model to first 190 iterations.\n",
          "output_type": "stream"
        },
        {
          "output_type": "execute_result",
          "execution_count": 48,
          "data": {
            "text/plain": "<catboost.core.CatBoostRegressor at 0x7f2c9928fc50>"
          },
          "metadata": {}
        }
      ]
    },
    {
      "cell_type": "markdown",
      "source": "Still very Poor...",
      "metadata": {
        "tags": [],
        "cell_id": "00025-f2b665a5-475f-4da6-a15d-74db273cc544",
        "deepnote_cell_type": "markdown"
      }
    },
    {
      "cell_type": "markdown",
      "source": "# Gradient Boosting using SKlearn",
      "metadata": {
        "tags": [],
        "cell_id": "00026-74017f13-71eb-4e9f-989f-5f1f6163c4d5",
        "deepnote_cell_type": "markdown"
      }
    },
    {
      "cell_type": "code",
      "metadata": {
        "tags": [],
        "cell_id": "00026-c4301e34-ef17-4cf9-ae29-d5a1359435c9",
        "deepnote_to_be_reexecuted": false,
        "source_hash": "fced106c",
        "execution_millis": 129,
        "execution_start": 1618212333702,
        "deepnote_cell_type": "code"
      },
      "source": "from sklearn.ensemble import GradientBoostingRegressor",
      "execution_count": null,
      "outputs": []
    },
    {
      "cell_type": "code",
      "metadata": {
        "tags": [],
        "cell_id": "00028-3294772a-745b-4b20-8ac9-8cb18d3b0976",
        "deepnote_cell_type": "code"
      },
      "source": "# hard_params = {'n_estimators': 1000, 'max_leaf_nodes': 4, 'max_depth': None, 'random_state': 2,\n#                 'min_samples_split': 5}\n\n# # intermediate params\n\n# params = dict(hard_params)\n# # params.update(inter_params)",
      "execution_count": null,
      "outputs": []
    },
    {
      "cell_type": "code",
      "metadata": {
        "tags": [],
        "cell_id": "00025-9a675c3e-a92c-49cc-8927-a55a5d6fc2a6",
        "deepnote_to_be_reexecuted": false,
        "source_hash": "d9609e59",
        "execution_millis": 144,
        "execution_start": 1618212335592,
        "deepnote_cell_type": "code"
      },
      "source": "# X_tset, X_val, y_tset, y_val\nGBC = GradientBoostingRegressor(\n    # **params\n    )\nGBC.fit(X_tset, y_tset)",
      "execution_count": null,
      "outputs": [
        {
          "output_type": "execute_result",
          "execution_count": 20,
          "data": {
            "text/plain": "GradientBoostingRegressor()"
          },
          "metadata": {}
        }
      ]
    },
    {
      "cell_type": "code",
      "metadata": {
        "tags": [],
        "cell_id": "00030-89ed5a34-5acb-400c-b892-239bd8e6fb8b",
        "deepnote_to_be_reexecuted": false,
        "source_hash": "88a3b6ef",
        "execution_millis": 8,
        "execution_start": 1618212337527,
        "deepnote_cell_type": "code"
      },
      "source": "GBC.score(X_val, y_val)",
      "execution_count": null,
      "outputs": [
        {
          "output_type": "execute_result",
          "execution_count": 21,
          "data": {
            "text/plain": "0.1491325422363745"
          },
          "metadata": {}
        }
      ]
    },
    {
      "cell_type": "markdown",
      "source": "Rippppp",
      "metadata": {
        "tags": [],
        "cell_id": "00031-acac2f3d-2e2c-49f2-9e26-17b2607586e5",
        "deepnote_cell_type": "markdown"
      }
    },
    {
      "cell_type": "code",
      "metadata": {
        "tags": [],
        "cell_id": "00031-b04ab997-7250-4a3c-8166-c60291b84155",
        "deepnote_to_be_reexecuted": false,
        "source_hash": "d44fa987",
        "execution_millis": 3,
        "execution_start": 1618212340686,
        "deepnote_cell_type": "code"
      },
      "source": "ynew = GBC.predict(X_val)",
      "execution_count": null,
      "outputs": []
    },
    {
      "cell_type": "code",
      "metadata": {
        "tags": [],
        "cell_id": "00033-d2435032-7177-4500-898f-3e0f69bcc27d",
        "deepnote_to_be_reexecuted": false,
        "source_hash": "94aba1c9",
        "execution_millis": 2,
        "execution_start": 1618212341410,
        "deepnote_cell_type": "code"
      },
      "source": "percentage = 0 \nfor x, y in zip(ynew, y_val): \n    difference = x - y\n    if difference < 0.5 and difference > -0.5:\n        percentage += 1",
      "execution_count": null,
      "outputs": []
    },
    {
      "cell_type": "code",
      "metadata": {
        "tags": [],
        "cell_id": "00034-5d69d2c9-56b4-4c82-bfce-cba5c037be7f",
        "deepnote_to_be_reexecuted": false,
        "source_hash": "407094a4",
        "execution_millis": 8,
        "execution_start": 1618212342052,
        "deepnote_cell_type": "code"
      },
      "source": "percentage/len(y_val) *100",
      "execution_count": null,
      "outputs": [
        {
          "output_type": "execute_result",
          "execution_count": 24,
          "data": {
            "text/plain": "63.898916967509024"
          },
          "metadata": {}
        }
      ]
    },
    {
      "cell_type": "code",
      "metadata": {
        "tags": [],
        "cell_id": "00035-ab4ec844-13e8-4da4-97ca-e1e200db734b",
        "deepnote_cell_type": "code"
      },
      "source": "",
      "execution_count": null,
      "outputs": []
    },
    {
      "cell_type": "markdown",
      "source": "<a style='text-decoration:none;line-height:16px;display:flex;color:#5B5B62;padding:10px;justify-content:end;' href='https://deepnote.com?utm_source=created-in-deepnote-cell&projectId=d79defa5-2359-4699-82dc-d6bf5eddd7a7' target=\"_blank\">\n<img alt='Created in deepnote.com' style='display:inline;max-height:16px;margin:0px;margin-right:7.5px;' src='data:image/svg+xml;base64,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' > </img>\nCreated in <span style='font-weight:600;margin-left:4px;'>Deepnote</span></a>",
      "metadata": {
        "tags": [],
        "created_in_deepnote_cell": true,
        "deepnote_cell_type": "markdown"
      }
    }
  ],
  "nbformat": 4,
  "nbformat_minor": 2,
  "metadata": {
    "orig_nbformat": 2,
    "deepnote": {
      "is_reactive": false
    },
    "deepnote_notebook_id": "f0ce1e94-52fb-4ad0-81f1-0ec0de339dfb",
    "deepnote_execution_queue": [
      {
        "cellId": "00015-beffb070-8f8b-471d-a86d-035bb12f6782",
        "sessionId": "7f6255d6-e1e3-4591-bf6b-c089bfbf71e0",
        "msgId": "81f97c47-c6c1-42c7-8c1b-8fd0441bf66c"
      },
      {
        "cellId": "00005-226cfaeb-329a-4625-adb5-0af5da50c04a",
        "sessionId": "7f6255d6-e1e3-4591-bf6b-c089bfbf71e0",
        "msgId": "b08814f0-73aa-442d-b08b-651ddc96f2c2"
      },
      {
        "cellId": "00003-b32d46cc-df3f-4f77-90b1-f1b2c2f123be",
        "sessionId": "7f6255d6-e1e3-4591-bf6b-c089bfbf71e0",
        "msgId": "98de5fae-fb5d-4733-ad55-262346d4575f"
      }
    ]
  }
}