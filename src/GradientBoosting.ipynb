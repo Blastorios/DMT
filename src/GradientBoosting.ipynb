{
  "cells": [
    {
      "cell_type": "markdown",
      "source": "# Gradient Boosting using CatBoost",
      "metadata": {
        "tags": [],
        "cell_id": "00000-4b490f8d-14f9-47e5-a436-f0c0650caeb3",
        "deepnote_cell_type": "markdown"
      }
    },
    {
      "cell_type": "markdown",
      "source": "This is a propriatory setup for the coming gradient boosting. After we finished the preprocessing, this might be a very powerfull step to create a predictor!",
      "metadata": {
        "tags": [],
        "cell_id": "00001-987c6ec3-39a1-4091-a626-b046f72bc47b",
        "deepnote_cell_type": "markdown"
      }
    },
    {
      "cell_type": "code",
      "source": "from typing import (\n    List,\n    Dict,\n    Any,\n    Union,\n    \n)",
      "metadata": {
        "tags": [],
        "cell_id": "00002-c4191785-1a15-4cb9-bb35-cfe5b009b712",
        "deepnote_to_be_reexecuted": false,
        "source_hash": "aee6c0a4",
        "execution_start": 1618143907896,
        "execution_millis": 1,
        "deepnote_cell_type": "code"
      },
      "outputs": [],
      "execution_count": 8
    },
    {
      "cell_type": "code",
      "metadata": {
        "tags": [],
        "cell_id": "00003-b32d46cc-df3f-4f77-90b1-f1b2c2f123be",
        "deepnote_to_be_reexecuted": false,
        "source_hash": "9f793134",
        "execution_millis": 743,
        "execution_start": 1618138428035,
        "deepnote_cell_type": "code"
      },
      "source": "import numpy as np\nimport pandas as pd\nimport sklearn as sk\nimport catboost as cb",
      "execution_count": 1,
      "outputs": []
    },
    {
      "cell_type": "markdown",
      "source": "### Get Data Ready for the Model",
      "metadata": {
        "tags": [],
        "cell_id": "00004-7092f7f7-c44f-4187-8d7d-0d2ca3b16ffa",
        "deepnote_cell_type": "markdown"
      }
    },
    {
      "cell_type": "code",
      "metadata": {
        "tags": [],
        "cell_id": "00004-e053bf70-be5f-4079-bc5b-df3c7249ef71",
        "deepnote_to_be_reexecuted": false,
        "source_hash": "b1cf0ac7",
        "execution_millis": 8,
        "execution_start": 1618144172362,
        "deepnote_cell_type": "code"
      },
      "source": "df = (pd\n    .read_csv(\"./data/new_data_no_missingvalues.csv\")\n    .drop(columns=[\"Unnamed: 0\", \"id\", \"unique_id\"])\n)",
      "execution_count": 12,
      "outputs": []
    },
    {
      "cell_type": "code",
      "source": "df",
      "metadata": {
        "tags": [],
        "cell_id": "00004-7db5f456-96b1-4df1-9834-faa9b45c1218",
        "deepnote_to_be_reexecuted": false,
        "source_hash": "f804c160",
        "execution_millis": 62,
        "execution_start": 1618144173220,
        "deepnote_cell_type": "code"
      },
      "outputs": [
        {
          "output_type": "execute_result",
          "execution_count": 13,
          "data": {
            "application/vnd.deepnote.dataframe.v2+json": {
              "row_count": 1215,
              "column_count": 13,
              "columns": [
                {
                  "name": "date",
                  "dtype": "object",
                  "stats": {
                    "unique_count": 95,
                    "nan_count": 0,
                    "categories": [
                      {
                        "name": "2014-04-16",
                        "count": 27
                      },
                      {
                        "name": "2014-04-17",
                        "count": 27
                      },
                      {
                        "name": "93 others",
                        "count": 1161
                      }
                    ]
                  }
                },
                {
                  "name": "average_mood",
                  "dtype": "float64",
                  "stats": {
                    "unique_count": 71,
                    "nan_count": 0,
                    "min": 3,
                    "max": 9.333333333333334,
                    "histogram": [
                      {
                        "bin_start": 3,
                        "bin_end": 3.6333333333333333,
                        "count": 4
                      },
                      {
                        "bin_start": 3.6333333333333333,
                        "bin_end": 4.266666666666667,
                        "count": 3
                      },
                      {
                        "bin_start": 4.266666666666667,
                        "bin_end": 4.9,
                        "count": 6
                      },
                      {
                        "bin_start": 4.9,
                        "bin_end": 5.533333333333333,
                        "count": 26
                      },
                      {
                        "bin_start": 5.533333333333333,
                        "bin_end": 6.166666666666667,
                        "count": 83
                      },
                      {
                        "bin_start": 6.166666666666667,
                        "bin_end": 6.800000000000001,
                        "count": 349
                      },
                      {
                        "bin_start": 6.800000000000001,
                        "bin_end": 7.433333333333334,
                        "count": 432
                      },
                      {
                        "bin_start": 7.433333333333334,
                        "bin_end": 8.066666666666666,
                        "count": 269
                      },
                      {
                        "bin_start": 8.066666666666666,
                        "bin_end": 8.700000000000001,
                        "count": 38
                      },
                      {
                        "bin_start": 8.700000000000001,
                        "bin_end": 9.333333333333334,
                        "count": 5
                      }
                    ]
                  }
                },
                {
                  "name": "total_calls",
                  "dtype": "float64",
                  "stats": {
                    "unique_count": 23,
                    "nan_count": 0,
                    "min": 0,
                    "max": 31,
                    "histogram": [
                      {
                        "bin_start": 0,
                        "bin_end": 3.1,
                        "count": 909
                      },
                      {
                        "bin_start": 3.1,
                        "bin_end": 6.2,
                        "count": 151
                      },
                      {
                        "bin_start": 6.2,
                        "bin_end": 9.3,
                        "count": 83
                      },
                      {
                        "bin_start": 9.3,
                        "bin_end": 12.4,
                        "count": 43
                      },
                      {
                        "bin_start": 12.4,
                        "bin_end": 15.5,
                        "count": 16
                      },
                      {
                        "bin_start": 15.5,
                        "bin_end": 18.6,
                        "count": 7
                      },
                      {
                        "bin_start": 18.6,
                        "bin_end": 21.7,
                        "count": 3
                      },
                      {
                        "bin_start": 21.7,
                        "bin_end": 24.8,
                        "count": 0
                      },
                      {
                        "bin_start": 24.8,
                        "bin_end": 27.900000000000002,
                        "count": 2
                      },
                      {
                        "bin_start": 27.900000000000002,
                        "bin_end": 31,
                        "count": 1
                      }
                    ]
                  }
                },
                {
                  "name": "total_sms",
                  "dtype": "float64",
                  "stats": {
                    "unique_count": 22,
                    "nan_count": 0,
                    "min": 0,
                    "max": 35,
                    "histogram": [
                      {
                        "bin_start": 0,
                        "bin_end": 3.5,
                        "count": 1125
                      },
                      {
                        "bin_start": 3.5,
                        "bin_end": 7,
                        "count": 37
                      },
                      {
                        "bin_start": 7,
                        "bin_end": 10.5,
                        "count": 23
                      },
                      {
                        "bin_start": 10.5,
                        "bin_end": 14,
                        "count": 14
                      },
                      {
                        "bin_start": 14,
                        "bin_end": 17.5,
                        "count": 8
                      },
                      {
                        "bin_start": 17.5,
                        "bin_end": 21,
                        "count": 0
                      },
                      {
                        "bin_start": 21,
                        "bin_end": 24.5,
                        "count": 3
                      },
                      {
                        "bin_start": 24.5,
                        "bin_end": 28,
                        "count": 4
                      },
                      {
                        "bin_start": 28,
                        "bin_end": 31.5,
                        "count": 0
                      },
                      {
                        "bin_start": 31.5,
                        "bin_end": 35,
                        "count": 1
                      }
                    ]
                  }
                },
                {
                  "name": "average_com",
                  "dtype": "float64",
                  "stats": {
                    "unique_count": 1104,
                    "nan_count": 0,
                    "min": 0,
                    "max": 522.718,
                    "histogram": [
                      {
                        "bin_start": 0,
                        "bin_end": 52.2718,
                        "count": 941
                      },
                      {
                        "bin_start": 52.2718,
                        "bin_end": 104.5436,
                        "count": 236
                      },
                      {
                        "bin_start": 104.5436,
                        "bin_end": 156.8154,
                        "count": 24
                      },
                      {
                        "bin_start": 156.8154,
                        "bin_end": 209.0872,
                        "count": 7
                      },
                      {
                        "bin_start": 209.0872,
                        "bin_end": 261.359,
                        "count": 0
                      },
                      {
                        "bin_start": 261.359,
                        "bin_end": 313.6308,
                        "count": 1
                      },
                      {
                        "bin_start": 313.6308,
                        "bin_end": 365.9026,
                        "count": 2
                      },
                      {
                        "bin_start": 365.9026,
                        "bin_end": 418.1744,
                        "count": 2
                      },
                      {
                        "bin_start": 418.1744,
                        "bin_end": 470.4462,
                        "count": 1
                      },
                      {
                        "bin_start": 470.4462,
                        "bin_end": 522.718,
                        "count": 1
                      }
                    ]
                  }
                },
                {
                  "name": "mood_next_day",
                  "dtype": "float64",
                  "stats": {
                    "unique_count": 71,
                    "nan_count": 0,
                    "min": 3,
                    "max": 9.333333333333334,
                    "histogram": [
                      {
                        "bin_start": 3,
                        "bin_end": 3.6333333333333333,
                        "count": 4
                      },
                      {
                        "bin_start": 3.6333333333333333,
                        "bin_end": 4.266666666666667,
                        "count": 3
                      },
                      {
                        "bin_start": 4.266666666666667,
                        "bin_end": 4.9,
                        "count": 6
                      },
                      {
                        "bin_start": 4.9,
                        "bin_end": 5.533333333333333,
                        "count": 26
                      },
                      {
                        "bin_start": 5.533333333333333,
                        "bin_end": 6.166666666666667,
                        "count": 83
                      },
                      {
                        "bin_start": 6.166666666666667,
                        "bin_end": 6.800000000000001,
                        "count": 349
                      },
                      {
                        "bin_start": 6.800000000000001,
                        "bin_end": 7.433333333333334,
                        "count": 432
                      },
                      {
                        "bin_start": 7.433333333333334,
                        "bin_end": 8.066666666666666,
                        "count": 269
                      },
                      {
                        "bin_start": 8.066666666666666,
                        "bin_end": 8.700000000000001,
                        "count": 38
                      },
                      {
                        "bin_start": 8.700000000000001,
                        "bin_end": 9.333333333333334,
                        "count": 5
                      }
                    ]
                  }
                },
                {
                  "name": "average_soc",
                  "dtype": "float64",
                  "stats": {
                    "unique_count": 926,
                    "nan_count": 0,
                    "min": 0,
                    "max": 3759.177625,
                    "histogram": [
                      {
                        "bin_start": 0,
                        "bin_end": 375.9177625,
                        "count": 1207
                      },
                      {
                        "bin_start": 375.9177625,
                        "bin_end": 751.835525,
                        "count": 4
                      },
                      {
                        "bin_start": 751.835525,
                        "bin_end": 1127.7532875,
                        "count": 3
                      },
                      {
                        "bin_start": 1127.7532875,
                        "bin_end": 1503.67105,
                        "count": 0
                      },
                      {
                        "bin_start": 1503.67105,
                        "bin_end": 1879.5888125,
                        "count": 0
                      },
                      {
                        "bin_start": 1879.5888125,
                        "bin_end": 2255.506575,
                        "count": 0
                      },
                      {
                        "bin_start": 2255.506575,
                        "bin_end": 2631.4243374999996,
                        "count": 0
                      },
                      {
                        "bin_start": 2631.4243374999996,
                        "bin_end": 3007.3421,
                        "count": 0
                      },
                      {
                        "bin_start": 3007.3421,
                        "bin_end": 3383.2598625,
                        "count": 0
                      },
                      {
                        "bin_start": 3383.2598625,
                        "bin_end": 3759.177625,
                        "count": 1
                      }
                    ]
                  }
                },
                {
                  "name": "average_valence",
                  "dtype": "float64",
                  "stats": {
                    "unique_count": 44,
                    "nan_count": 0,
                    "min": -1.25,
                    "max": 2,
                    "histogram": [
                      {
                        "bin_start": -1.25,
                        "bin_end": -0.925,
                        "count": 8
                      },
                      {
                        "bin_start": -0.925,
                        "bin_end": -0.6,
                        "count": 1
                      },
                      {
                        "bin_start": -0.6,
                        "bin_end": -0.2749999999999999,
                        "count": 21
                      },
                      {
                        "bin_start": -0.2749999999999999,
                        "bin_end": 0.050000000000000044,
                        "count": 100
                      },
                      {
                        "bin_start": 0.050000000000000044,
                        "bin_end": 0.375,
                        "count": 85
                      },
                      {
                        "bin_start": 0.375,
                        "bin_end": 0.7000000000000002,
                        "count": 302
                      },
                      {
                        "bin_start": 0.7000000000000002,
                        "bin_end": 1.025,
                        "count": 609
                      },
                      {
                        "bin_start": 1.025,
                        "bin_end": 1.35,
                        "count": 51
                      },
                      {
                        "bin_start": 1.35,
                        "bin_end": 1.6750000000000003,
                        "count": 32
                      },
                      {
                        "bin_start": 1.6750000000000003,
                        "bin_end": 2,
                        "count": 6
                      }
                    ]
                  }
                },
                {
                  "name": "average_arousal",
                  "dtype": "float64",
                  "stats": {
                    "unique_count": 55,
                    "nan_count": 0,
                    "min": -2,
                    "max": 2,
                    "histogram": [
                      {
                        "bin_start": -2,
                        "bin_end": -1.6,
                        "count": 12
                      },
                      {
                        "bin_start": -1.6,
                        "bin_end": -1.2,
                        "count": 36
                      },
                      {
                        "bin_start": -1.2,
                        "bin_end": -0.7999999999999998,
                        "count": 149
                      },
                      {
                        "bin_start": -0.7999999999999998,
                        "bin_end": -0.3999999999999999,
                        "count": 206
                      },
                      {
                        "bin_start": -0.3999999999999999,
                        "bin_end": 0,
                        "count": 182
                      },
                      {
                        "bin_start": 0,
                        "bin_end": 0.40000000000000036,
                        "count": 402
                      },
                      {
                        "bin_start": 0.40000000000000036,
                        "bin_end": 0.8000000000000003,
                        "count": 145
                      },
                      {
                        "bin_start": 0.8000000000000003,
                        "bin_end": 1.2000000000000002,
                        "count": 69
                      },
                      {
                        "bin_start": 1.2000000000000002,
                        "bin_end": 1.6,
                        "count": 10
                      },
                      {
                        "bin_start": 1.6,
                        "bin_end": 2,
                        "count": 4
                      }
                    ]
                  }
                },
                {
                  "name": "average_finance",
                  "dtype": "float64",
                  "stats": {
                    "unique_count": 201,
                    "nan_count": 0,
                    "min": 0,
                    "max": 149.181,
                    "histogram": [
                      {
                        "bin_start": 0,
                        "bin_end": 14.9181,
                        "count": 1102
                      },
                      {
                        "bin_start": 14.9181,
                        "bin_end": 29.8362,
                        "count": 54
                      },
                      {
                        "bin_start": 29.8362,
                        "bin_end": 44.7543,
                        "count": 26
                      },
                      {
                        "bin_start": 44.7543,
                        "bin_end": 59.6724,
                        "count": 12
                      },
                      {
                        "bin_start": 59.6724,
                        "bin_end": 74.5905,
                        "count": 11
                      },
                      {
                        "bin_start": 74.5905,
                        "bin_end": 89.5086,
                        "count": 5
                      },
                      {
                        "bin_start": 89.5086,
                        "bin_end": 104.42670000000001,
                        "count": 2
                      },
                      {
                        "bin_start": 104.42670000000001,
                        "bin_end": 119.3448,
                        "count": 0
                      },
                      {
                        "bin_start": 119.3448,
                        "bin_end": 134.2629,
                        "count": 1
                      },
                      {
                        "bin_start": 134.2629,
                        "bin_end": 149.181,
                        "count": 2
                      }
                    ]
                  }
                },
                {
                  "name": "average_office",
                  "dtype": "float64",
                  "stats": {
                    "unique_count": 257,
                    "nan_count": 0,
                    "min": 0,
                    "max": 1494.864,
                    "histogram": [
                      {
                        "bin_start": 0,
                        "bin_end": 149.4864,
                        "count": 1201
                      },
                      {
                        "bin_start": 149.4864,
                        "bin_end": 298.9728,
                        "count": 10
                      },
                      {
                        "bin_start": 298.9728,
                        "bin_end": 448.4592,
                        "count": 2
                      },
                      {
                        "bin_start": 448.4592,
                        "bin_end": 597.9456,
                        "count": 1
                      },
                      {
                        "bin_start": 597.9456,
                        "bin_end": 747.432,
                        "count": 0
                      },
                      {
                        "bin_start": 747.432,
                        "bin_end": 896.9184,
                        "count": 0
                      },
                      {
                        "bin_start": 896.9184,
                        "bin_end": 1046.4048,
                        "count": 0
                      },
                      {
                        "bin_start": 1046.4048,
                        "bin_end": 1195.8912,
                        "count": 0
                      },
                      {
                        "bin_start": 1195.8912,
                        "bin_end": 1345.3776,
                        "count": 0
                      },
                      {
                        "bin_start": 1345.3776,
                        "bin_end": 1494.864,
                        "count": 1
                      }
                    ]
                  }
                },
                {
                  "name": "average_entertainment",
                  "dtype": "float64",
                  "stats": {
                    "unique_count": 792,
                    "nan_count": 0,
                    "min": 0,
                    "max": 1650.744,
                    "histogram": [
                      {
                        "bin_start": 0,
                        "bin_end": 165.0744,
                        "count": 1087
                      },
                      {
                        "bin_start": 165.0744,
                        "bin_end": 330.1488,
                        "count": 86
                      },
                      {
                        "bin_start": 330.1488,
                        "bin_end": 495.2232,
                        "count": 23
                      },
                      {
                        "bin_start": 495.2232,
                        "bin_end": 660.2976,
                        "count": 8
                      },
                      {
                        "bin_start": 660.2976,
                        "bin_end": 825.372,
                        "count": 2
                      },
                      {
                        "bin_start": 825.372,
                        "bin_end": 990.4464,
                        "count": 4
                      },
                      {
                        "bin_start": 990.4464,
                        "bin_end": 1155.5208,
                        "count": 2
                      },
                      {
                        "bin_start": 1155.5208,
                        "bin_end": 1320.5952,
                        "count": 2
                      },
                      {
                        "bin_start": 1320.5952,
                        "bin_end": 1485.6696,
                        "count": 0
                      },
                      {
                        "bin_start": 1485.6696,
                        "bin_end": 1650.744,
                        "count": 1
                      }
                    ]
                  }
                },
                {
                  "name": "average_game",
                  "dtype": "float64",
                  "stats": {
                    "unique_count": 178,
                    "nan_count": 0,
                    "min": 0,
                    "max": 2562.907,
                    "histogram": [
                      {
                        "bin_start": 0,
                        "bin_end": 256.2907,
                        "count": 1183
                      },
                      {
                        "bin_start": 256.2907,
                        "bin_end": 512.5814,
                        "count": 17
                      },
                      {
                        "bin_start": 512.5814,
                        "bin_end": 768.8721,
                        "count": 10
                      },
                      {
                        "bin_start": 768.8721,
                        "bin_end": 1025.1628,
                        "count": 4
                      },
                      {
                        "bin_start": 1025.1628,
                        "bin_end": 1281.4535,
                        "count": 0
                      },
                      {
                        "bin_start": 1281.4535,
                        "bin_end": 1537.7442,
                        "count": 0
                      },
                      {
                        "bin_start": 1537.7442,
                        "bin_end": 1794.0349,
                        "count": 0
                      },
                      {
                        "bin_start": 1794.0349,
                        "bin_end": 2050.3256,
                        "count": 0
                      },
                      {
                        "bin_start": 2050.3256,
                        "bin_end": 2306.6163,
                        "count": 0
                      },
                      {
                        "bin_start": 2306.6163,
                        "bin_end": 2562.907,
                        "count": 1
                      }
                    ]
                  }
                },
                {
                  "name": "_deepnote_index_column",
                  "dtype": "int64"
                }
              ],
              "rows_top": [
                {
                  "date": "2014-02-26",
                  "average_mood": 6.25,
                  "total_calls": 0,
                  "total_sms": 0,
                  "average_com": 0,
                  "mood_next_day": 6.25,
                  "average_soc": 0,
                  "average_valence": 0.75,
                  "average_arousal": -0.25,
                  "average_finance": 0,
                  "average_office": 0,
                  "average_entertainment": 0,
                  "average_game": 0,
                  "_deepnote_index_column": 0
                },
                {
                  "date": "2014-03-21",
                  "average_mood": 6.25,
                  "total_calls": 6,
                  "total_sms": 0,
                  "average_com": 55.0955263157895,
                  "mood_next_day": 6.4,
                  "average_soc": 75.14166666666668,
                  "average_valence": 0.2,
                  "average_arousal": 0.2,
                  "average_finance": 6.1930000000000005,
                  "average_office": 57.40200000000001,
                  "average_entertainment": 53.024,
                  "average_game": 0,
                  "_deepnote_index_column": 1
                },
                {
                  "date": "2014-03-22",
                  "average_mood": 6.4,
                  "total_calls": 0,
                  "total_sms": 0,
                  "average_com": 51.697062500000015,
                  "mood_next_day": 6.8,
                  "average_soc": 36.63599999999999,
                  "average_valence": 0.6986486486486487,
                  "average_arousal": 0.6,
                  "average_finance": 7.025333333333333,
                  "average_office": 0,
                  "average_entertainment": 46.662,
                  "average_game": 0,
                  "_deepnote_index_column": 2
                },
                {
                  "date": "2014-03-23",
                  "average_mood": 6.8,
                  "total_calls": 0,
                  "total_sms": 0,
                  "average_com": 53.442030612244885,
                  "mood_next_day": 6,
                  "average_soc": 50.04661111111111,
                  "average_valence": 0.8,
                  "average_arousal": 0.2,
                  "average_finance": 10.85075,
                  "average_office": 0,
                  "average_entertainment": 31.448666666666668,
                  "average_game": 0,
                  "_deepnote_index_column": 3
                },
                {
                  "date": "2014-03-24",
                  "average_mood": 6,
                  "total_calls": 0,
                  "total_sms": 0,
                  "average_com": 47.54168717948718,
                  "mood_next_day": 6.75,
                  "average_soc": 74.96804651162789,
                  "average_valence": 0,
                  "average_arousal": 0.8,
                  "average_finance": 5.684333333333334,
                  "average_office": 3.01,
                  "average_entertainment": 122.121375,
                  "average_game": 0,
                  "_deepnote_index_column": 4
                },
                {
                  "date": "2014-03-25",
                  "average_mood": 6.75,
                  "total_calls": 0,
                  "total_sms": 0,
                  "average_com": 69.43750675675675,
                  "mood_next_day": 6.6,
                  "average_soc": 68.55253571428571,
                  "average_valence": 0.5,
                  "average_arousal": 0.5,
                  "average_finance": 10.7635,
                  "average_office": 0,
                  "average_entertainment": 34.103,
                  "average_game": 0,
                  "_deepnote_index_column": 5
                },
                {
                  "date": "2014-03-26",
                  "average_mood": 6.6,
                  "total_calls": 0,
                  "total_sms": 0,
                  "average_com": 47.061534031413615,
                  "mood_next_day": 7,
                  "average_soc": 124.10970270270268,
                  "average_valence": 0.6,
                  "average_arousal": -0.2,
                  "average_finance": 8.721833333333334,
                  "average_office": 0,
                  "average_entertainment": 130.06842857142857,
                  "average_game": 0,
                  "_deepnote_index_column": 6
                },
                {
                  "date": "2014-03-27",
                  "average_mood": 7,
                  "total_calls": 15,
                  "total_sms": 0,
                  "average_com": 43.3532,
                  "mood_next_day": 6.4,
                  "average_soc": 71.95238461538462,
                  "average_valence": 0.8,
                  "average_arousal": 0.2,
                  "average_finance": 14.073,
                  "average_office": 15.20425,
                  "average_entertainment": 71.03766666666667,
                  "average_game": 0,
                  "_deepnote_index_column": 7
                },
                {
                  "date": "2014-03-28",
                  "average_mood": 6.4,
                  "total_calls": 5,
                  "total_sms": 0,
                  "average_com": 24.078694444444444,
                  "mood_next_day": 8,
                  "average_soc": 25.63705,
                  "average_valence": 0.6,
                  "average_arousal": -0.6,
                  "average_finance": 12.738,
                  "average_office": 0,
                  "average_entertainment": 91.40027272727274,
                  "average_game": 116.518,
                  "_deepnote_index_column": 8
                },
                {
                  "date": "2014-03-29",
                  "average_mood": 8,
                  "total_calls": 0,
                  "total_sms": 0,
                  "average_com": 47.73143859649123,
                  "mood_next_day": 7.5,
                  "average_soc": 59.111,
                  "average_valence": 1,
                  "average_arousal": 0.2,
                  "average_finance": 0,
                  "average_office": 0,
                  "average_entertainment": 108.49526666666668,
                  "average_game": 0,
                  "_deepnote_index_column": 9
                },
                {
                  "date": "2014-03-30",
                  "average_mood": 7.5,
                  "total_calls": 0,
                  "total_sms": 0,
                  "average_com": 61.83357142857143,
                  "mood_next_day": 7.4,
                  "average_soc": 55.895,
                  "average_valence": 0.75,
                  "average_arousal": -0.5,
                  "average_finance": 0,
                  "average_office": 0,
                  "average_entertainment": 170.63077777777778,
                  "average_game": 0,
                  "_deepnote_index_column": 10
                },
                {
                  "date": "2014-03-31",
                  "average_mood": 7.4,
                  "total_calls": 10,
                  "total_sms": 0,
                  "average_com": 41.33827131782945,
                  "mood_next_day": 6,
                  "average_soc": 56.277291666666656,
                  "average_valence": 0.6,
                  "average_arousal": 0,
                  "average_finance": 6.8758333333333335,
                  "average_office": 0,
                  "average_entertainment": 51.73294117647058,
                  "average_game": 51.176,
                  "_deepnote_index_column": 11
                },
                {
                  "date": "2014-04-01",
                  "average_mood": 6,
                  "total_calls": 1,
                  "total_sms": 0,
                  "average_com": 33.12785869565218,
                  "mood_next_day": 6.5,
                  "average_soc": 45.81879090909093,
                  "average_valence": 0,
                  "average_arousal": 0.2,
                  "average_finance": 15.21738888888889,
                  "average_office": 30.796000000000003,
                  "average_entertainment": 42.94320833333333,
                  "average_game": 78.247,
                  "_deepnote_index_column": 12
                },
                {
                  "date": "2014-04-02",
                  "average_mood": 6.5,
                  "total_calls": 4,
                  "total_sms": 0,
                  "average_com": 33.75685853658536,
                  "mood_next_day": 6.4,
                  "average_soc": 64.69418867924529,
                  "average_valence": 0.6986486486486487,
                  "average_arousal": -0.27125,
                  "average_finance": 13.040894736842104,
                  "average_office": 90.481,
                  "average_entertainment": 46.32331034482758,
                  "average_game": 0,
                  "_deepnote_index_column": 13
                },
                {
                  "date": "2014-04-03",
                  "average_mood": 6.4,
                  "total_calls": 4,
                  "total_sms": 0,
                  "average_com": 46.42470096463021,
                  "mood_next_day": 6.2,
                  "average_soc": 44.4259295774648,
                  "average_valence": 0,
                  "average_arousal": -1.2,
                  "average_finance": 25.41133333333333,
                  "average_office": 0,
                  "average_entertainment": 49.75503846153846,
                  "average_game": 0,
                  "_deepnote_index_column": 14
                },
                {
                  "date": "2014-04-04",
                  "average_mood": 6.2,
                  "total_calls": 0,
                  "total_sms": 0,
                  "average_com": 44.566081300813,
                  "mood_next_day": 6.8,
                  "average_soc": 71.93782758620691,
                  "average_valence": 0.4,
                  "average_arousal": 0.2,
                  "average_finance": 0,
                  "average_office": 0,
                  "average_entertainment": 96.5766875,
                  "average_game": 0,
                  "_deepnote_index_column": 15
                },
                {
                  "date": "2014-04-05",
                  "average_mood": 6.8,
                  "total_calls": 0,
                  "total_sms": 0,
                  "average_com": 37.70818,
                  "mood_next_day": 6.5,
                  "average_soc": 45.401,
                  "average_valence": 0.6,
                  "average_arousal": -0.4,
                  "average_finance": 0,
                  "average_office": 0,
                  "average_entertainment": 76.369,
                  "average_game": 0,
                  "_deepnote_index_column": 16
                },
                {
                  "date": "2014-04-06",
                  "average_mood": 6.5,
                  "total_calls": 6,
                  "total_sms": 0,
                  "average_com": 47.939185714285735,
                  "mood_next_day": 6.5,
                  "average_soc": 64.292,
                  "average_valence": 0.5,
                  "average_arousal": -0.75,
                  "average_finance": 0,
                  "average_office": 0,
                  "average_entertainment": 93.607,
                  "average_game": 57.203,
                  "_deepnote_index_column": 17
                },
                {
                  "date": "2014-04-07",
                  "average_mood": 6.5,
                  "total_calls": 1,
                  "total_sms": 0,
                  "average_com": 57.01562015503877,
                  "mood_next_day": 6.6,
                  "average_soc": 61.47575,
                  "average_valence": 0.25,
                  "average_arousal": -0.27125,
                  "average_finance": 9.2256,
                  "average_office": 17.107,
                  "average_entertainment": 74.52016666666667,
                  "average_game": 0,
                  "_deepnote_index_column": 18
                },
                {
                  "date": "2014-04-08",
                  "average_mood": 6.6,
                  "total_calls": 1,
                  "total_sms": 0,
                  "average_com": 49.10649222797928,
                  "mood_next_day": 7.4,
                  "average_soc": 59.00268888888889,
                  "average_valence": 0.6986486486486487,
                  "average_arousal": -0.4,
                  "average_finance": 6.377,
                  "average_office": 0,
                  "average_entertainment": 165.07042857142855,
                  "average_game": 0,
                  "_deepnote_index_column": 19
                },
                {
                  "date": "2014-04-09",
                  "average_mood": 7.4,
                  "total_calls": 4,
                  "total_sms": 0,
                  "average_com": 38.130098765432095,
                  "mood_next_day": 7.4,
                  "average_soc": 44.161718750000006,
                  "average_valence": 0.6986486486486487,
                  "average_arousal": -0.8,
                  "average_finance": 0,
                  "average_office": 0,
                  "average_entertainment": 78.3975,
                  "average_game": 0,
                  "_deepnote_index_column": 20
                },
                {
                  "date": "2014-04-10",
                  "average_mood": 7.4,
                  "total_calls": 0,
                  "total_sms": 0,
                  "average_com": 65.08548,
                  "mood_next_day": 7,
                  "average_soc": 39.15723333333335,
                  "average_valence": 0.8,
                  "average_arousal": -0.4,
                  "average_finance": 0,
                  "average_office": 23.195,
                  "average_entertainment": 154.90775000000002,
                  "average_game": 1.059,
                  "_deepnote_index_column": 21
                },
                {
                  "date": "2014-04-11",
                  "average_mood": 7,
                  "total_calls": 0,
                  "total_sms": 0,
                  "average_com": 27.57514049586778,
                  "mood_next_day": 7.25,
                  "average_soc": 45.90823076923077,
                  "average_valence": 0.8,
                  "average_arousal": -1.2,
                  "average_finance": 15.682166666666667,
                  "average_office": 0,
                  "average_entertainment": 123.508625,
                  "average_game": 0,
                  "_deepnote_index_column": 22
                },
                {
                  "date": "2014-04-12",
                  "average_mood": 7.25,
                  "total_calls": 0,
                  "total_sms": 0,
                  "average_com": 143.37136956521735,
                  "mood_next_day": 8,
                  "average_soc": 44.072,
                  "average_valence": 0.75,
                  "average_arousal": -0.75,
                  "average_finance": 0,
                  "average_office": 0,
                  "average_entertainment": 182.2068333333333,
                  "average_game": 0,
                  "_deepnote_index_column": 23
                },
                {
                  "date": "2014-04-13",
                  "average_mood": 8,
                  "total_calls": 0,
                  "total_sms": 0,
                  "average_com": 47.686739130434766,
                  "mood_next_day": 7.2,
                  "average_soc": 17.250999999999998,
                  "average_valence": 1,
                  "average_arousal": -1.25,
                  "average_finance": 9.157,
                  "average_office": 0,
                  "average_entertainment": 62.348,
                  "average_game": 0,
                  "_deepnote_index_column": 24
                },
                {
                  "date": "2014-04-14",
                  "average_mood": 7.2,
                  "total_calls": 8,
                  "total_sms": 8,
                  "average_com": 51.478444444444456,
                  "mood_next_day": 6.4,
                  "average_soc": 162.3325,
                  "average_valence": 0.6,
                  "average_arousal": -1.2,
                  "average_finance": 14.887166666666667,
                  "average_office": 0,
                  "average_entertainment": 216.05365517241376,
                  "average_game": 0,
                  "_deepnote_index_column": 25
                },
                {
                  "date": "2014-04-15",
                  "average_mood": 6.4,
                  "total_calls": 0,
                  "total_sms": 1,
                  "average_com": 40.681248366013065,
                  "mood_next_day": 7.2,
                  "average_soc": 100.6411363636364,
                  "average_valence": 0.8,
                  "average_arousal": 0,
                  "average_finance": 4.347666666666666,
                  "average_office": 0,
                  "average_entertainment": 49.71168421052632,
                  "average_game": 0,
                  "_deepnote_index_column": 26
                },
                {
                  "date": "2014-04-16",
                  "average_mood": 7.2,
                  "total_calls": 0,
                  "total_sms": 0,
                  "average_com": 36.9644,
                  "mood_next_day": 6.6,
                  "average_soc": 65.96041379310344,
                  "average_valence": 0.6986486486486487,
                  "average_arousal": -0.27125,
                  "average_finance": 0,
                  "average_office": 0,
                  "average_entertainment": 23.707444444444448,
                  "average_game": 0,
                  "_deepnote_index_column": 27
                },
                {
                  "date": "2014-04-17",
                  "average_mood": 6.6,
                  "total_calls": 10,
                  "total_sms": 0,
                  "average_com": 108.74622935779814,
                  "mood_next_day": 6.8,
                  "average_soc": 70.2382,
                  "average_valence": 0.6,
                  "average_arousal": -0.4,
                  "average_finance": 0,
                  "average_office": 0,
                  "average_entertainment": 28.448200000000003,
                  "average_game": 0,
                  "_deepnote_index_column": 28
                },
                {
                  "date": "2014-04-18",
                  "average_mood": 6.8,
                  "total_calls": 1,
                  "total_sms": 0,
                  "average_com": 65.14215853658536,
                  "mood_next_day": 7.8,
                  "average_soc": 199.3922,
                  "average_valence": 0.8,
                  "average_arousal": -0.8,
                  "average_finance": 17.023285714285713,
                  "average_office": 0,
                  "average_entertainment": 86.03933333333333,
                  "average_game": 0,
                  "_deepnote_index_column": 29
                },
                {
                  "date": "2014-04-19",
                  "average_mood": 7.8,
                  "total_calls": 1,
                  "total_sms": 0,
                  "average_com": 35.43194805194805,
                  "mood_next_day": 7.25,
                  "average_soc": 36.06109090909092,
                  "average_valence": 1,
                  "average_arousal": -0.2,
                  "average_finance": 15.938166666666667,
                  "average_office": 0,
                  "average_entertainment": 78.21233333333333,
                  "average_game": 29.084,
                  "_deepnote_index_column": 30
                },
                {
                  "date": "2014-04-20",
                  "average_mood": 7.25,
                  "total_calls": 2,
                  "total_sms": 0,
                  "average_com": 57.29567816091953,
                  "mood_next_day": 7.6,
                  "average_soc": 93.23924999999998,
                  "average_valence": 0.75,
                  "average_arousal": -0.25,
                  "average_finance": 5.303,
                  "average_office": 0,
                  "average_entertainment": 60.62433333333333,
                  "average_game": 0,
                  "_deepnote_index_column": 31
                },
                {
                  "date": "2014-04-21",
                  "average_mood": 7.6,
                  "total_calls": 2,
                  "total_sms": 0,
                  "average_com": 43.57276086956523,
                  "mood_next_day": 7.4,
                  "average_soc": 61.28171428571429,
                  "average_valence": 1,
                  "average_arousal": -0.27125,
                  "average_finance": 11.088666666666668,
                  "average_office": 0,
                  "average_entertainment": 18.72,
                  "average_game": 0,
                  "_deepnote_index_column": 32
                },
                {
                  "date": "2014-04-22",
                  "average_mood": 7.4,
                  "total_calls": 2,
                  "total_sms": 0,
                  "average_com": 46.75272839506176,
                  "mood_next_day": 7.6,
                  "average_soc": 67.74038095238095,
                  "average_valence": 1,
                  "average_arousal": 0.2,
                  "average_finance": 6.408833333333334,
                  "average_office": 0,
                  "average_entertainment": 39.32203571428572,
                  "average_game": 0,
                  "_deepnote_index_column": 33
                },
                {
                  "date": "2014-04-23",
                  "average_mood": 7.6,
                  "total_calls": 1,
                  "total_sms": 0,
                  "average_com": 54.11195151515149,
                  "mood_next_day": 7.6,
                  "average_soc": 43.88316666666666,
                  "average_valence": 1,
                  "average_arousal": 0.2,
                  "average_finance": 6.017,
                  "average_office": 0,
                  "average_entertainment": 38.60300000000001,
                  "average_game": 0,
                  "_deepnote_index_column": 34
                },
                {
                  "date": "2014-04-24",
                  "average_mood": 7.6,
                  "total_calls": 1,
                  "total_sms": 0,
                  "average_com": 64.61422000000002,
                  "mood_next_day": 7.2,
                  "average_soc": 76.8153142857143,
                  "average_valence": 1,
                  "average_arousal": -0.4,
                  "average_finance": 41.9874,
                  "average_office": 0,
                  "average_entertainment": 103.83662790697672,
                  "average_game": 0,
                  "_deepnote_index_column": 35
                },
                {
                  "date": "2014-04-25",
                  "average_mood": 7.2,
                  "total_calls": 2,
                  "total_sms": 4,
                  "average_com": 51.261577464788736,
                  "mood_next_day": 7.6,
                  "average_soc": 96.85626086956522,
                  "average_valence": 0.8,
                  "average_arousal": -0.2,
                  "average_finance": 7.023666666666666,
                  "average_office": 0,
                  "average_entertainment": 50.06399999999999,
                  "average_game": 0,
                  "_deepnote_index_column": 36
                },
                {
                  "date": "2014-04-26",
                  "average_mood": 7.6,
                  "total_calls": 0,
                  "total_sms": 0,
                  "average_com": 59.7176046511628,
                  "mood_next_day": 7.5,
                  "average_soc": 789.459,
                  "average_valence": 1,
                  "average_arousal": -0.2,
                  "average_finance": 6.816749999999999,
                  "average_office": 0,
                  "average_entertainment": 125.556,
                  "average_game": 0,
                  "_deepnote_index_column": 37
                }
              ],
              "rows_bottom": [
                {
                  "date": "2014-04-17",
                  "average_mood": 7.2,
                  "total_calls": 2,
                  "total_sms": 0,
                  "average_com": 34.20580000000001,
                  "mood_next_day": 7.4,
                  "average_soc": 75.53092941176469,
                  "average_valence": 1.4,
                  "average_arousal": -0.6,
                  "average_finance": 0,
                  "average_office": 0,
                  "average_entertainment": 83.65336363636364,
                  "average_game": 0,
                  "_deepnote_index_column": 1177
                },
                {
                  "date": "2014-04-18",
                  "average_mood": 7.4,
                  "total_calls": 3,
                  "total_sms": 0,
                  "average_com": 70.52065384615385,
                  "mood_next_day": 7.666666666666667,
                  "average_soc": 118.5243962264151,
                  "average_valence": 0.8,
                  "average_arousal": -0.8,
                  "average_finance": 0,
                  "average_office": 0,
                  "average_entertainment": 225.1373333333333,
                  "average_game": 0,
                  "_deepnote_index_column": 1178
                },
                {
                  "date": "2014-04-19",
                  "average_mood": 7.666666666666667,
                  "total_calls": 0,
                  "total_sms": 0,
                  "average_com": 147.75922222222223,
                  "mood_next_day": 7.4,
                  "average_soc": 136.55393103448273,
                  "average_valence": 1,
                  "average_arousal": 0,
                  "average_finance": 0,
                  "average_office": 0,
                  "average_entertainment": 146.148,
                  "average_game": 0,
                  "_deepnote_index_column": 1179
                },
                {
                  "date": "2014-04-20",
                  "average_mood": 7.4,
                  "total_calls": 0,
                  "total_sms": 0,
                  "average_com": 70.02726086956521,
                  "mood_next_day": 7.2,
                  "average_soc": 79.68253191489363,
                  "average_valence": 1.2,
                  "average_arousal": 0,
                  "average_finance": 0,
                  "average_office": 0,
                  "average_entertainment": 138.77345454545454,
                  "average_game": 0,
                  "_deepnote_index_column": 1180
                },
                {
                  "date": "2014-04-21",
                  "average_mood": 7.2,
                  "total_calls": 0,
                  "total_sms": 0,
                  "average_com": 63.20204545454544,
                  "mood_next_day": 6.2,
                  "average_soc": 152.3876833333333,
                  "average_valence": 0.6,
                  "average_arousal": 0,
                  "average_finance": 0,
                  "average_office": 0,
                  "average_entertainment": 74.02615384615386,
                  "average_game": 0,
                  "_deepnote_index_column": 1181
                },
                {
                  "date": "2014-04-22",
                  "average_mood": 6.2,
                  "total_calls": 9,
                  "total_sms": 0,
                  "average_com": 46.916821428571424,
                  "mood_next_day": 5.2,
                  "average_soc": 91.80608333333336,
                  "average_valence": -0.2,
                  "average_arousal": -0.6,
                  "average_finance": 0,
                  "average_office": 0,
                  "average_entertainment": 131.33233333333334,
                  "average_game": 0,
                  "_deepnote_index_column": 1182
                },
                {
                  "date": "2014-04-23",
                  "average_mood": 5.2,
                  "total_calls": 1,
                  "total_sms": 0,
                  "average_com": 30.690777777777782,
                  "mood_next_day": 7,
                  "average_soc": 140.56908823529417,
                  "average_valence": -0.6,
                  "average_arousal": -0.2,
                  "average_finance": 0,
                  "average_office": 0,
                  "average_entertainment": 134.04333333333335,
                  "average_game": 0,
                  "_deepnote_index_column": 1183
                },
                {
                  "date": "2014-04-24",
                  "average_mood": 7,
                  "total_calls": 5,
                  "total_sms": 5,
                  "average_com": 52.47904166666666,
                  "mood_next_day": 8.4,
                  "average_soc": 80.1635652173913,
                  "average_valence": 1,
                  "average_arousal": -0.25,
                  "average_finance": 0,
                  "average_office": 0,
                  "average_entertainment": 86.14822222222222,
                  "average_game": 0,
                  "_deepnote_index_column": 1184
                },
                {
                  "date": "2014-04-25",
                  "average_mood": 8.4,
                  "total_calls": 31,
                  "total_sms": 2,
                  "average_com": 28.73631914893617,
                  "mood_next_day": 7.6,
                  "average_soc": 45.21737704918032,
                  "average_valence": 0.4811111111111111,
                  "average_arousal": 0.8,
                  "average_finance": 0,
                  "average_office": 0,
                  "average_entertainment": 134.67675,
                  "average_game": 0,
                  "_deepnote_index_column": 1185
                },
                {
                  "date": "2014-04-26",
                  "average_mood": 7.6,
                  "total_calls": 18,
                  "total_sms": 0,
                  "average_com": 30.114727272727272,
                  "mood_next_day": 6.2,
                  "average_soc": 51.19739344262295,
                  "average_valence": 1,
                  "average_arousal": 0.4,
                  "average_finance": 0,
                  "average_office": 0,
                  "average_entertainment": 75.35533333333333,
                  "average_game": 0,
                  "_deepnote_index_column": 1186
                },
                {
                  "date": "2014-04-27",
                  "average_mood": 6.2,
                  "total_calls": 4,
                  "total_sms": 0,
                  "average_com": 64.68579166666665,
                  "mood_next_day": 6.75,
                  "average_soc": 135.49050819672132,
                  "average_valence": 0.4,
                  "average_arousal": -1.2,
                  "average_finance": 0,
                  "average_office": 0,
                  "average_entertainment": 151.0524545454546,
                  "average_game": 0,
                  "_deepnote_index_column": 1187
                },
                {
                  "date": "2014-04-28",
                  "average_mood": 6.75,
                  "total_calls": 2,
                  "total_sms": 5,
                  "average_com": 70.9519090909091,
                  "mood_next_day": 6.2,
                  "average_soc": 70.12939000000001,
                  "average_valence": 0.75,
                  "average_arousal": -1.25,
                  "average_finance": 0,
                  "average_office": 0,
                  "average_entertainment": 156.3201666666667,
                  "average_game": 0,
                  "_deepnote_index_column": 1188
                },
                {
                  "date": "2014-04-29",
                  "average_mood": 6.2,
                  "total_calls": 3,
                  "total_sms": 0,
                  "average_com": 37.49181818181819,
                  "mood_next_day": 6.4,
                  "average_soc": 81.46556578947367,
                  "average_valence": 0.4,
                  "average_arousal": -0.4,
                  "average_finance": 0,
                  "average_office": 0,
                  "average_entertainment": 65.97538461538463,
                  "average_game": 0,
                  "_deepnote_index_column": 1189
                },
                {
                  "date": "2014-04-30",
                  "average_mood": 6.4,
                  "total_calls": 1,
                  "total_sms": 0,
                  "average_com": 35.329947368421045,
                  "mood_next_day": 7.5,
                  "average_soc": 96.54433333333331,
                  "average_valence": 0.4811111111111111,
                  "average_arousal": -1,
                  "average_finance": 0,
                  "average_office": 0,
                  "average_entertainment": 149.64666666666668,
                  "average_game": 0,
                  "_deepnote_index_column": 1190
                },
                {
                  "date": "2014-05-04",
                  "average_mood": 7.5,
                  "total_calls": 11,
                  "total_sms": 0,
                  "average_com": 38.915625,
                  "mood_next_day": 6.125,
                  "average_soc": 74.07040740740742,
                  "average_valence": 1,
                  "average_arousal": 0,
                  "average_finance": 0,
                  "average_office": 0,
                  "average_entertainment": 45.66690909090909,
                  "average_game": 0,
                  "_deepnote_index_column": 1191
                },
                {
                  "date": "2014-05-07",
                  "average_mood": 6.125,
                  "total_calls": 1,
                  "total_sms": 0,
                  "average_com": 7.083,
                  "mood_next_day": 6.6,
                  "average_soc": 133.237,
                  "average_valence": -0.5,
                  "average_arousal": -0.25,
                  "average_finance": 0,
                  "average_office": 0,
                  "average_entertainment": 93.74116666666664,
                  "average_game": 0,
                  "_deepnote_index_column": 1192
                },
                {
                  "date": "2014-05-08",
                  "average_mood": 6.6,
                  "total_calls": 0,
                  "total_sms": 0,
                  "average_com": 63.08873333333332,
                  "mood_next_day": 4.8,
                  "average_soc": 158.47776315789474,
                  "average_valence": 0.4,
                  "average_arousal": -0.8,
                  "average_finance": 0,
                  "average_office": 0,
                  "average_entertainment": 85.939125,
                  "average_game": 0,
                  "_deepnote_index_column": 1193
                },
                {
                  "date": "2014-05-09",
                  "average_mood": 4.8,
                  "total_calls": 0,
                  "total_sms": 0,
                  "average_com": 62.00627272727272,
                  "mood_next_day": 7.6,
                  "average_soc": 157.38062499999998,
                  "average_valence": -0.2,
                  "average_arousal": 0.2,
                  "average_finance": 0,
                  "average_office": 0,
                  "average_entertainment": 74.16936363636363,
                  "average_game": 0,
                  "_deepnote_index_column": 1194
                },
                {
                  "date": "2014-05-10",
                  "average_mood": 7.6,
                  "total_calls": 0,
                  "total_sms": 0,
                  "average_com": 18.080583333333337,
                  "mood_next_day": 6,
                  "average_soc": 46.36496428571429,
                  "average_valence": 1,
                  "average_arousal": -0.4,
                  "average_finance": 0,
                  "average_office": 0,
                  "average_entertainment": 67.08522222222223,
                  "average_game": 0,
                  "_deepnote_index_column": 1195
                },
                {
                  "date": "2014-05-11",
                  "average_mood": 6,
                  "total_calls": 0,
                  "total_sms": 0,
                  "average_com": 36.03921428571429,
                  "mood_next_day": 6,
                  "average_soc": 109.34063157894737,
                  "average_valence": 0.4,
                  "average_arousal": 0,
                  "average_finance": 0,
                  "average_office": 6.036,
                  "average_entertainment": 29.80308333333333,
                  "average_game": 0,
                  "_deepnote_index_column": 1196
                },
                {
                  "date": "2014-05-12",
                  "average_mood": 6,
                  "total_calls": 13,
                  "total_sms": 0,
                  "average_com": 71.05900000000001,
                  "mood_next_day": 5,
                  "average_soc": 96.1325476190476,
                  "average_valence": 0.5,
                  "average_arousal": -0.75,
                  "average_finance": 0,
                  "average_office": 0,
                  "average_entertainment": 59.3545,
                  "average_game": 0,
                  "_deepnote_index_column": 1197
                },
                {
                  "date": "2014-05-13",
                  "average_mood": 5,
                  "total_calls": 0,
                  "total_sms": 0,
                  "average_com": 117.31816216216212,
                  "mood_next_day": 6.833333333333333,
                  "average_soc": 70.49519148936172,
                  "average_valence": 0,
                  "average_arousal": 0.5,
                  "average_finance": 0,
                  "average_office": 0,
                  "average_entertainment": 102.67525,
                  "average_game": 0,
                  "_deepnote_index_column": 1198
                },
                {
                  "date": "2014-05-14",
                  "average_mood": 6.833333333333333,
                  "total_calls": 0,
                  "total_sms": 0,
                  "average_com": 26.813666666666663,
                  "mood_next_day": 6,
                  "average_soc": 220.86894117647057,
                  "average_valence": 0.4811111111111111,
                  "average_arousal": -0.3333333333333333,
                  "average_finance": 0,
                  "average_office": 0,
                  "average_entertainment": 136.70175,
                  "average_game": 0,
                  "_deepnote_index_column": 1199
                },
                {
                  "date": "2014-05-15",
                  "average_mood": 6,
                  "total_calls": 8,
                  "total_sms": 0,
                  "average_com": 46.31244,
                  "mood_next_day": 7,
                  "average_soc": 83.54154117647063,
                  "average_valence": 0.4811111111111111,
                  "average_arousal": 0,
                  "average_finance": 0,
                  "average_office": 0,
                  "average_entertainment": 43.55570588235295,
                  "average_game": 0,
                  "_deepnote_index_column": 1200
                },
                {
                  "date": "2014-05-16",
                  "average_mood": 7,
                  "total_calls": 11,
                  "total_sms": 0,
                  "average_com": 41.621538461538464,
                  "mood_next_day": 6,
                  "average_soc": 67.17041463414633,
                  "average_valence": 0.4811111111111111,
                  "average_arousal": 0.4,
                  "average_finance": 0,
                  "average_office": 0,
                  "average_entertainment": 47.19935714285714,
                  "average_game": 0,
                  "_deepnote_index_column": 1201
                },
                {
                  "date": "2014-05-17",
                  "average_mood": 6,
                  "total_calls": 0,
                  "total_sms": 0,
                  "average_com": 28.5698,
                  "mood_next_day": 6,
                  "average_soc": 86.96725,
                  "average_valence": 0.4811111111111111,
                  "average_arousal": 0.25,
                  "average_finance": 0,
                  "average_office": 0,
                  "average_entertainment": 49.18555555555555,
                  "average_game": 0,
                  "_deepnote_index_column": 1202
                },
                {
                  "date": "2014-05-18",
                  "average_mood": 6,
                  "total_calls": 0,
                  "total_sms": 0,
                  "average_com": 85.93733333333331,
                  "mood_next_day": 6.2,
                  "average_soc": 118.61031506849316,
                  "average_valence": 0.2,
                  "average_arousal": -0.6,
                  "average_finance": 0,
                  "average_office": 0,
                  "average_entertainment": 63.26666666666665,
                  "average_game": 0,
                  "_deepnote_index_column": 1203
                },
                {
                  "date": "2014-05-19",
                  "average_mood": 6.2,
                  "total_calls": 0,
                  "total_sms": 0,
                  "average_com": 33.11727272727273,
                  "mood_next_day": 6.25,
                  "average_soc": 125.02726923076924,
                  "average_valence": 0.2,
                  "average_arousal": -0.2,
                  "average_finance": 0,
                  "average_office": 0,
                  "average_entertainment": 106.978,
                  "average_game": 0,
                  "_deepnote_index_column": 1204
                },
                {
                  "date": "2014-05-20",
                  "average_mood": 6.25,
                  "total_calls": 0,
                  "total_sms": 0,
                  "average_com": 96.38788888888888,
                  "mood_next_day": 6,
                  "average_soc": 155.1499189189189,
                  "average_valence": 0.5,
                  "average_arousal": -0.5,
                  "average_finance": 0,
                  "average_office": 0,
                  "average_entertainment": 131.26640000000003,
                  "average_game": 0,
                  "_deepnote_index_column": 1205
                },
                {
                  "date": "2014-05-21",
                  "average_mood": 6,
                  "total_calls": 0,
                  "total_sms": 0,
                  "average_com": 69.80430769230769,
                  "mood_next_day": 5.75,
                  "average_soc": 121.85502,
                  "average_valence": 0.4811111111111111,
                  "average_arousal": -0.6666666666666666,
                  "average_finance": 0,
                  "average_office": 0,
                  "average_entertainment": 71.1068,
                  "average_game": 0,
                  "_deepnote_index_column": 1206
                },
                {
                  "date": "2014-05-22",
                  "average_mood": 5.75,
                  "total_calls": 8,
                  "total_sms": 0,
                  "average_com": 45.43628571428571,
                  "mood_next_day": 5.833333333333333,
                  "average_soc": 52.22394594594596,
                  "average_valence": 0.25,
                  "average_arousal": 0.5,
                  "average_finance": 0,
                  "average_office": 0,
                  "average_entertainment": 90.15833333333332,
                  "average_game": 0,
                  "_deepnote_index_column": 1207
                },
                {
                  "date": "2014-05-23",
                  "average_mood": 5.833333333333333,
                  "total_calls": 0,
                  "total_sms": 0,
                  "average_com": 37.2525909090909,
                  "mood_next_day": 6.4,
                  "average_soc": 195.19069696969697,
                  "average_valence": 0,
                  "average_arousal": -0.8333333333333334,
                  "average_finance": 0,
                  "average_office": 0,
                  "average_entertainment": 257.548,
                  "average_game": 0,
                  "_deepnote_index_column": 1208
                },
                {
                  "date": "2014-05-24",
                  "average_mood": 6.4,
                  "total_calls": 0,
                  "total_sms": 0,
                  "average_com": 41.9242962962963,
                  "mood_next_day": 6.25,
                  "average_soc": 107.59092452830193,
                  "average_valence": 0.4811111111111111,
                  "average_arousal": -0.2982456140350877,
                  "average_finance": 0,
                  "average_office": 0,
                  "average_entertainment": 80.71535714285713,
                  "average_game": 0,
                  "_deepnote_index_column": 1209
                },
                {
                  "date": "2014-05-25",
                  "average_mood": 6.25,
                  "total_calls": 3,
                  "total_sms": 8,
                  "average_com": 34.82986666666666,
                  "mood_next_day": 5.4,
                  "average_soc": 45.53446031746032,
                  "average_valence": 0.4811111111111111,
                  "average_arousal": -0.75,
                  "average_finance": 0,
                  "average_office": 0,
                  "average_entertainment": 64.73866666666667,
                  "average_game": 0,
                  "_deepnote_index_column": 1210
                },
                {
                  "date": "2014-05-26",
                  "average_mood": 5.4,
                  "total_calls": 10,
                  "total_sms": 3,
                  "average_com": 34.32047222222222,
                  "mood_next_day": 6.2,
                  "average_soc": 111.04620408163264,
                  "average_valence": 0,
                  "average_arousal": -0.4,
                  "average_finance": 0,
                  "average_office": 130.53,
                  "average_entertainment": 68.8769,
                  "average_game": 0,
                  "_deepnote_index_column": 1211
                },
                {
                  "date": "2014-05-27",
                  "average_mood": 6.2,
                  "total_calls": 1,
                  "total_sms": 2,
                  "average_com": 59.38294285714287,
                  "mood_next_day": 8.2,
                  "average_soc": 50.2591,
                  "average_valence": 0.4,
                  "average_arousal": -0.6,
                  "average_finance": 0,
                  "average_office": 0,
                  "average_entertainment": 62.347,
                  "average_game": 0,
                  "_deepnote_index_column": 1212
                },
                {
                  "date": "2014-05-28",
                  "average_mood": 8.2,
                  "total_calls": 10,
                  "total_sms": 1,
                  "average_com": 37.23875,
                  "mood_next_day": 7,
                  "average_soc": 99.2816851851852,
                  "average_valence": 1.2,
                  "average_arousal": 0,
                  "average_finance": 0,
                  "average_office": 0,
                  "average_entertainment": 43.90757142857144,
                  "average_game": 0,
                  "_deepnote_index_column": 1213
                },
                {
                  "date": "2014-05-29",
                  "average_mood": 7,
                  "total_calls": 5,
                  "total_sms": 0,
                  "average_com": 54.388125,
                  "mood_next_day": 6.8,
                  "average_soc": 198.88022222222224,
                  "average_valence": 1,
                  "average_arousal": -1.3333333333333333,
                  "average_finance": 0,
                  "average_office": 0,
                  "average_entertainment": 68.369,
                  "average_game": 0,
                  "_deepnote_index_column": 1214
                }
              ]
            },
            "text/plain": "            date  average_mood  total_calls  total_sms  average_com  \\\n0     2014-02-26          6.25          0.0        0.0     0.000000   \n1     2014-03-21          6.25          6.0        0.0    55.095526   \n2     2014-03-22          6.40          0.0        0.0    51.697063   \n3     2014-03-23          6.80          0.0        0.0    53.442031   \n4     2014-03-24          6.00          0.0        0.0    47.541687   \n...          ...           ...          ...        ...          ...   \n1210  2014-05-25          6.25          3.0        8.0    34.829867   \n1211  2014-05-26          5.40         10.0        3.0    34.320472   \n1212  2014-05-27          6.20          1.0        2.0    59.382943   \n1213  2014-05-28          8.20         10.0        1.0    37.238750   \n1214  2014-05-29          7.00          5.0        0.0    54.388125   \n\n      mood_next_day  average_soc  average_valence  average_arousal  \\\n0              6.25     0.000000         0.750000        -0.250000   \n1              6.40    75.141667         0.200000         0.200000   \n2              6.80    36.636000         0.698649         0.600000   \n3              6.00    50.046611         0.800000         0.200000   \n4              6.75    74.968047         0.000000         0.800000   \n...             ...          ...              ...              ...   \n1210           5.40    45.534460         0.481111        -0.750000   \n1211           6.20   111.046204         0.000000        -0.400000   \n1212           8.20    50.259100         0.400000        -0.600000   \n1213           7.00    99.281685         1.200000         0.000000   \n1214           6.80   198.880222         1.000000        -1.333333   \n\n      average_finance  average_office  average_entertainment  average_game  \n0            0.000000           0.000               0.000000           0.0  \n1            6.193000          57.402              53.024000           0.0  \n2            7.025333           0.000              46.662000           0.0  \n3           10.850750           0.000              31.448667           0.0  \n4            5.684333           3.010             122.121375           0.0  \n...               ...             ...                    ...           ...  \n1210         0.000000           0.000              64.738667           0.0  \n1211         0.000000         130.530              68.876900           0.0  \n1212         0.000000           0.000              62.347000           0.0  \n1213         0.000000           0.000              43.907571           0.0  \n1214         0.000000           0.000              68.369000           0.0  \n\n[1215 rows x 13 columns]",
            "text/html": "<div>\n<style scoped>\n    .dataframe tbody tr th:only-of-type {\n        vertical-align: middle;\n    }\n\n    .dataframe tbody tr th {\n        vertical-align: top;\n    }\n\n    .dataframe thead th {\n        text-align: right;\n    }\n</style>\n<table border=\"1\" class=\"dataframe\">\n  <thead>\n    <tr style=\"text-align: right;\">\n      <th></th>\n      <th>date</th>\n      <th>average_mood</th>\n      <th>total_calls</th>\n      <th>total_sms</th>\n      <th>average_com</th>\n      <th>mood_next_day</th>\n      <th>average_soc</th>\n      <th>average_valence</th>\n      <th>average_arousal</th>\n      <th>average_finance</th>\n      <th>average_office</th>\n      <th>average_entertainment</th>\n      <th>average_game</th>\n    </tr>\n  </thead>\n  <tbody>\n    <tr>\n      <th>0</th>\n      <td>2014-02-26</td>\n      <td>6.25</td>\n      <td>0.0</td>\n      <td>0.0</td>\n      <td>0.000000</td>\n      <td>6.25</td>\n      <td>0.000000</td>\n      <td>0.750000</td>\n      <td>-0.250000</td>\n      <td>0.000000</td>\n      <td>0.000</td>\n      <td>0.000000</td>\n      <td>0.0</td>\n    </tr>\n    <tr>\n      <th>1</th>\n      <td>2014-03-21</td>\n      <td>6.25</td>\n      <td>6.0</td>\n      <td>0.0</td>\n      <td>55.095526</td>\n      <td>6.40</td>\n      <td>75.141667</td>\n      <td>0.200000</td>\n      <td>0.200000</td>\n      <td>6.193000</td>\n      <td>57.402</td>\n      <td>53.024000</td>\n      <td>0.0</td>\n    </tr>\n    <tr>\n      <th>2</th>\n      <td>2014-03-22</td>\n      <td>6.40</td>\n      <td>0.0</td>\n      <td>0.0</td>\n      <td>51.697063</td>\n      <td>6.80</td>\n      <td>36.636000</td>\n      <td>0.698649</td>\n      <td>0.600000</td>\n      <td>7.025333</td>\n      <td>0.000</td>\n      <td>46.662000</td>\n      <td>0.0</td>\n    </tr>\n    <tr>\n      <th>3</th>\n      <td>2014-03-23</td>\n      <td>6.80</td>\n      <td>0.0</td>\n      <td>0.0</td>\n      <td>53.442031</td>\n      <td>6.00</td>\n      <td>50.046611</td>\n      <td>0.800000</td>\n      <td>0.200000</td>\n      <td>10.850750</td>\n      <td>0.000</td>\n      <td>31.448667</td>\n      <td>0.0</td>\n    </tr>\n    <tr>\n      <th>4</th>\n      <td>2014-03-24</td>\n      <td>6.00</td>\n      <td>0.0</td>\n      <td>0.0</td>\n      <td>47.541687</td>\n      <td>6.75</td>\n      <td>74.968047</td>\n      <td>0.000000</td>\n      <td>0.800000</td>\n      <td>5.684333</td>\n      <td>3.010</td>\n      <td>122.121375</td>\n      <td>0.0</td>\n    </tr>\n    <tr>\n      <th>...</th>\n      <td>...</td>\n      <td>...</td>\n      <td>...</td>\n      <td>...</td>\n      <td>...</td>\n      <td>...</td>\n      <td>...</td>\n      <td>...</td>\n      <td>...</td>\n      <td>...</td>\n      <td>...</td>\n      <td>...</td>\n      <td>...</td>\n    </tr>\n    <tr>\n      <th>1210</th>\n      <td>2014-05-25</td>\n      <td>6.25</td>\n      <td>3.0</td>\n      <td>8.0</td>\n      <td>34.829867</td>\n      <td>5.40</td>\n      <td>45.534460</td>\n      <td>0.481111</td>\n      <td>-0.750000</td>\n      <td>0.000000</td>\n      <td>0.000</td>\n      <td>64.738667</td>\n      <td>0.0</td>\n    </tr>\n    <tr>\n      <th>1211</th>\n      <td>2014-05-26</td>\n      <td>5.40</td>\n      <td>10.0</td>\n      <td>3.0</td>\n      <td>34.320472</td>\n      <td>6.20</td>\n      <td>111.046204</td>\n      <td>0.000000</td>\n      <td>-0.400000</td>\n      <td>0.000000</td>\n      <td>130.530</td>\n      <td>68.876900</td>\n      <td>0.0</td>\n    </tr>\n    <tr>\n      <th>1212</th>\n      <td>2014-05-27</td>\n      <td>6.20</td>\n      <td>1.0</td>\n      <td>2.0</td>\n      <td>59.382943</td>\n      <td>8.20</td>\n      <td>50.259100</td>\n      <td>0.400000</td>\n      <td>-0.600000</td>\n      <td>0.000000</td>\n      <td>0.000</td>\n      <td>62.347000</td>\n      <td>0.0</td>\n    </tr>\n    <tr>\n      <th>1213</th>\n      <td>2014-05-28</td>\n      <td>8.20</td>\n      <td>10.0</td>\n      <td>1.0</td>\n      <td>37.238750</td>\n      <td>7.00</td>\n      <td>99.281685</td>\n      <td>1.200000</td>\n      <td>0.000000</td>\n      <td>0.000000</td>\n      <td>0.000</td>\n      <td>43.907571</td>\n      <td>0.0</td>\n    </tr>\n    <tr>\n      <th>1214</th>\n      <td>2014-05-29</td>\n      <td>7.00</td>\n      <td>5.0</td>\n      <td>0.0</td>\n      <td>54.388125</td>\n      <td>6.80</td>\n      <td>198.880222</td>\n      <td>1.000000</td>\n      <td>-1.333333</td>\n      <td>0.000000</td>\n      <td>0.000</td>\n      <td>68.369000</td>\n      <td>0.0</td>\n    </tr>\n  </tbody>\n</table>\n<p>1215 rows × 13 columns</p>\n</div>"
          },
          "metadata": {}
        }
      ],
      "execution_count": 13
    },
    {
      "cell_type": "code",
      "source": "def prep_data(raw_df: pd.DataFrame, target_columns: List, drop_first: bool = True, make_na_col: bool = True) -> pd.DataFrame:\n    \"\"\"Dummify a pandas dataframe programmatically\n    \"\"\"\n    dataframe_dummy = pd.get_dummies(raw_df, columns=target_columns, \n                                        drop_first=drop_first, \n                                        dummy_na=make_na_col)\n    return (dataframe_dummy)",
      "metadata": {
        "tags": [],
        "cell_id": "00005-226cfaeb-329a-4625-adb5-0af5da50c04a",
        "deepnote_to_be_reexecuted": false,
        "source_hash": "281346b3",
        "execution_millis": 1,
        "execution_start": 1618144180552,
        "deepnote_cell_type": "code"
      },
      "outputs": [],
      "execution_count": 14
    },
    {
      "cell_type": "code",
      "source": "target_columns = [\n    \"date\",\n]\ndfp = prep_data(df, target_columns=target_columns)",
      "metadata": {
        "tags": [],
        "cell_id": "00008-67a4d41e-c7d8-4a0d-8b48-0b17b8448656",
        "deepnote_to_be_reexecuted": false,
        "source_hash": "a8a3f0e8",
        "execution_millis": 5,
        "execution_start": 1618144181349,
        "deepnote_cell_type": "code"
      },
      "outputs": [],
      "execution_count": 15
    },
    {
      "cell_type": "markdown",
      "source": "### Splitting the Data",
      "metadata": {
        "tags": [],
        "cell_id": "00009-64708f07-a82a-491c-b5a1-85e1d38b3fef",
        "deepnote_cell_type": "markdown"
      }
    },
    {
      "cell_type": "code",
      "source": "from sklearn.model_selection import train_test_split",
      "metadata": {
        "tags": [],
        "cell_id": "00010-f805b4c9-8cf1-4323-81eb-3fc22a5a9c25",
        "deepnote_to_be_reexecuted": false,
        "source_hash": "746a4dbc",
        "execution_start": 1618144338472,
        "execution_millis": 1,
        "deepnote_cell_type": "code"
      },
      "outputs": [],
      "execution_count": 18
    },
    {
      "cell_type": "code",
      "source": "X_train, X_test, y_train, y_test = train_test_split(\n    dfp.drop(columns=[\"average_mood\"]), \n    dfp.average_mood, \n    test_size=0.35, random_state=58)",
      "metadata": {
        "tags": [],
        "cell_id": "00010-7cecb5e8-abfc-4475-9281-865a7cbc69fd",
        "deepnote_to_be_reexecuted": false,
        "source_hash": "c91755ce",
        "execution_millis": 5,
        "execution_start": 1618144344150,
        "deepnote_cell_type": "code"
      },
      "outputs": [],
      "execution_count": 19
    },
    {
      "cell_type": "code",
      "source": "# Validation data so we can keep the test data untouched\nX_tset, X_val, y_tset, y_val = train_test_split(\n    X_train, \n    y_train, \n    test_size=0.35, random_state=58)",
      "metadata": {
        "tags": [],
        "cell_id": "00011-5ffe0f02-4718-47a7-a6af-eeae456df468",
        "deepnote_to_be_reexecuted": false,
        "source_hash": "25bde501",
        "execution_start": 1618144405428,
        "execution_millis": 1,
        "deepnote_cell_type": "code"
      },
      "outputs": [],
      "execution_count": 20
    },
    {
      "cell_type": "markdown",
      "source": "### Apply the Model",
      "metadata": {
        "tags": [],
        "cell_id": "00013-618f490c-423a-427c-90f7-472c1daec905",
        "deepnote_cell_type": "markdown"
      }
    },
    {
      "cell_type": "code",
      "source": "# CatBoost Specific Optimization\ntrain_dataset = cb.Pool(X_tset, y_tset) \ntest_dataset = cb.Pool(X_val, y_val)\n\nparams = {\n    \"verbose\": 100,\n    \"random_seed\": 46\n}",
      "metadata": {
        "tags": [],
        "cell_id": "00013-058c5c96-c66c-4120-a822-40b6b4fa376c",
        "deepnote_to_be_reexecuted": false,
        "source_hash": "4961930b",
        "execution_millis": 2,
        "execution_start": 1618145293718,
        "deepnote_cell_type": "code"
      },
      "outputs": [],
      "execution_count": 45
    },
    {
      "cell_type": "code",
      "source": "CBR = cb.CatBoostRegressor(**params)",
      "metadata": {
        "tags": [],
        "cell_id": "00015-beffb070-8f8b-471d-a86d-035bb12f6782",
        "deepnote_to_be_reexecuted": false,
        "source_hash": "1833644a",
        "execution_millis": 1,
        "execution_start": 1618145207825,
        "deepnote_cell_type": "code"
      },
      "outputs": [],
      "execution_count": 42
    },
    {
      "cell_type": "code",
      "source": "CBR.fit(train_dataset, \neval_set=test_dataset,\nuse_best_model=True,\n# plot=True # One of CatBoost's most powerfull features but isnt supported in DeepNote\n)",
      "metadata": {
        "tags": [],
        "cell_id": "00016-40d11dfc-c352-4f3f-aaaa-95faf1d8d867",
        "deepnote_to_be_reexecuted": false,
        "source_hash": "2bc8f127",
        "execution_millis": 2114,
        "execution_start": 1618144813679,
        "deepnote_cell_type": "code"
      },
      "outputs": [
        {
          "name": "stdout",
          "text": "Learning rate set to 0.040601\n0:\tlearn: 0.6830160\ttest: 0.7840774\tbest: 0.7840774 (0)\ttotal: 601us\tremaining: 600ms\n100:\tlearn: 0.4171239\ttest: 0.5526877\tbest: 0.5526877 (100)\ttotal: 174ms\tremaining: 1.55s\n200:\tlearn: 0.3575185\ttest: 0.5316921\tbest: 0.5315901 (197)\ttotal: 377ms\tremaining: 1.5s\n300:\tlearn: 0.3135491\ttest: 0.5320198\tbest: 0.5304701 (232)\ttotal: 605ms\tremaining: 1.41s\n400:\tlearn: 0.2761319\ttest: 0.5339120\tbest: 0.5304701 (232)\ttotal: 810ms\tremaining: 1.21s\n500:\tlearn: 0.2483145\ttest: 0.5364827\tbest: 0.5304701 (232)\ttotal: 1.01s\tremaining: 1s\n600:\tlearn: 0.2235363\ttest: 0.5387043\tbest: 0.5304701 (232)\ttotal: 1.21s\tremaining: 802ms\n700:\tlearn: 0.2008271\ttest: 0.5416215\tbest: 0.5304701 (232)\ttotal: 1.41s\tremaining: 602ms\n800:\tlearn: 0.1804462\ttest: 0.5435100\tbest: 0.5304701 (232)\ttotal: 1.63s\tremaining: 405ms\n900:\tlearn: 0.1635631\ttest: 0.5442284\tbest: 0.5304701 (232)\ttotal: 1.83s\tremaining: 201ms\n999:\tlearn: 0.1494318\ttest: 0.5458645\tbest: 0.5304701 (232)\ttotal: 2.02s\tremaining: 0us\n\nbestTest = 0.5304700519\nbestIteration = 232\n\nShrink model to first 233 iterations.\n",
          "output_type": "stream"
        },
        {
          "output_type": "execute_result",
          "execution_count": 29,
          "data": {
            "text/plain": "<catboost.core.CatBoostRegressor at 0x7f2c9cd79ed0>"
          },
          "metadata": {}
        }
      ],
      "execution_count": 29
    },
    {
      "cell_type": "code",
      "source": "feature_df = CBR.get_feature_importance(prettified=True)\nfeature_df = feature_df[feature_df[\"Importances\"] > 1]\nfeature_df",
      "metadata": {
        "tags": [],
        "cell_id": "00017-ae52ff28-e6d8-4ead-9666-3e0169390a94",
        "deepnote_to_be_reexecuted": false,
        "source_hash": "e443e218",
        "execution_millis": 18,
        "execution_start": 1618144994509,
        "deepnote_cell_type": "code"
      },
      "outputs": [
        {
          "output_type": "execute_result",
          "execution_count": 36,
          "data": {
            "application/vnd.deepnote.dataframe.v2+json": {
              "row_count": 10,
              "column_count": 2,
              "columns": [
                {
                  "name": "Feature Id",
                  "dtype": "object",
                  "stats": {
                    "unique_count": 10,
                    "nan_count": 0,
                    "categories": [
                      {
                        "name": "average_valence",
                        "count": 1
                      },
                      {
                        "name": "mood_next_day",
                        "count": 1
                      },
                      {
                        "name": "8 others",
                        "count": 8
                      }
                    ]
                  }
                },
                {
                  "name": "Importances",
                  "dtype": "float64",
                  "stats": {
                    "unique_count": 10,
                    "nan_count": 0,
                    "min": 1.1026046188880265,
                    "max": 47.5070173439158,
                    "histogram": [
                      {
                        "bin_start": 1.1026046188880265,
                        "bin_end": 5.743045891390803,
                        "count": 7
                      },
                      {
                        "bin_start": 5.743045891390803,
                        "bin_end": 10.38348716389358,
                        "count": 1
                      },
                      {
                        "bin_start": 10.38348716389358,
                        "bin_end": 15.023928436396357,
                        "count": 0
                      },
                      {
                        "bin_start": 15.023928436396357,
                        "bin_end": 19.664369708899134,
                        "count": 1
                      },
                      {
                        "bin_start": 19.664369708899134,
                        "bin_end": 24.30481098140191,
                        "count": 0
                      },
                      {
                        "bin_start": 24.30481098140191,
                        "bin_end": 28.945252253904687,
                        "count": 0
                      },
                      {
                        "bin_start": 28.945252253904687,
                        "bin_end": 33.58569352640747,
                        "count": 0
                      },
                      {
                        "bin_start": 33.58569352640747,
                        "bin_end": 38.22613479891024,
                        "count": 0
                      },
                      {
                        "bin_start": 38.22613479891024,
                        "bin_end": 42.86657607141302,
                        "count": 0
                      },
                      {
                        "bin_start": 42.86657607141302,
                        "bin_end": 47.5070173439158,
                        "count": 1
                      }
                    ]
                  }
                },
                {
                  "name": "_deepnote_index_column",
                  "dtype": "int64"
                }
              ],
              "rows_top": [
                {
                  "Feature Id": "average_valence",
                  "Importances": 47.5070173439158,
                  "_deepnote_index_column": 0
                },
                {
                  "Feature Id": "mood_next_day",
                  "Importances": 17.914918151483974,
                  "_deepnote_index_column": 1
                },
                {
                  "Feature Id": "average_entertainment",
                  "Importances": 7.132984206816679,
                  "_deepnote_index_column": 2
                },
                {
                  "Feature Id": "average_soc",
                  "Importances": 5.32012051015605,
                  "_deepnote_index_column": 3
                },
                {
                  "Feature Id": "average_com",
                  "Importances": 5.265219378225566,
                  "_deepnote_index_column": 4
                },
                {
                  "Feature Id": "average_arousal",
                  "Importances": 4.660912459043316,
                  "_deepnote_index_column": 5
                },
                {
                  "Feature Id": "average_game",
                  "Importances": 2.4801495657456467,
                  "_deepnote_index_column": 6
                },
                {
                  "Feature Id": "average_office",
                  "Importances": 2.2250032284693217,
                  "_deepnote_index_column": 7
                },
                {
                  "Feature Id": "total_calls",
                  "Importances": 1.6006273442261176,
                  "_deepnote_index_column": 8
                },
                {
                  "Feature Id": "average_finance",
                  "Importances": 1.1026046188880265,
                  "_deepnote_index_column": 9
                }
              ],
              "rows_bottom": null
            },
            "text/plain": "              Feature Id  Importances\n0        average_valence    47.507017\n1          mood_next_day    17.914918\n2  average_entertainment     7.132984\n3            average_soc     5.320121\n4            average_com     5.265219\n5        average_arousal     4.660912\n6           average_game     2.480150\n7         average_office     2.225003\n8            total_calls     1.600627\n9        average_finance     1.102605",
            "text/html": "<div>\n<style scoped>\n    .dataframe tbody tr th:only-of-type {\n        vertical-align: middle;\n    }\n\n    .dataframe tbody tr th {\n        vertical-align: top;\n    }\n\n    .dataframe thead th {\n        text-align: right;\n    }\n</style>\n<table border=\"1\" class=\"dataframe\">\n  <thead>\n    <tr style=\"text-align: right;\">\n      <th></th>\n      <th>Feature Id</th>\n      <th>Importances</th>\n    </tr>\n  </thead>\n  <tbody>\n    <tr>\n      <th>0</th>\n      <td>average_valence</td>\n      <td>47.507017</td>\n    </tr>\n    <tr>\n      <th>1</th>\n      <td>mood_next_day</td>\n      <td>17.914918</td>\n    </tr>\n    <tr>\n      <th>2</th>\n      <td>average_entertainment</td>\n      <td>7.132984</td>\n    </tr>\n    <tr>\n      <th>3</th>\n      <td>average_soc</td>\n      <td>5.320121</td>\n    </tr>\n    <tr>\n      <th>4</th>\n      <td>average_com</td>\n      <td>5.265219</td>\n    </tr>\n    <tr>\n      <th>5</th>\n      <td>average_arousal</td>\n      <td>4.660912</td>\n    </tr>\n    <tr>\n      <th>6</th>\n      <td>average_game</td>\n      <td>2.480150</td>\n    </tr>\n    <tr>\n      <th>7</th>\n      <td>average_office</td>\n      <td>2.225003</td>\n    </tr>\n    <tr>\n      <th>8</th>\n      <td>total_calls</td>\n      <td>1.600627</td>\n    </tr>\n    <tr>\n      <th>9</th>\n      <td>average_finance</td>\n      <td>1.102605</td>\n    </tr>\n  </tbody>\n</table>\n</div>"
          },
          "metadata": {}
        }
      ],
      "execution_count": 36
    },
    {
      "cell_type": "markdown",
      "source": "This shows we do not actually need the date's to determine any type of mood.",
      "metadata": {
        "tags": [],
        "cell_id": "00018-b54b1513-b628-4b80-8048-5df8d925ef48",
        "deepnote_cell_type": "markdown"
      }
    },
    {
      "cell_type": "code",
      "source": "CBR.score(test_dataset)",
      "metadata": {
        "tags": [],
        "cell_id": "00018-677812c0-c571-4bf7-8f0c-6afdba63994c",
        "deepnote_to_be_reexecuted": false,
        "source_hash": "bd95e7c3",
        "execution_start": 1618145067060,
        "execution_millis": 6,
        "deepnote_cell_type": "code"
      },
      "outputs": [
        {
          "output_type": "execute_result",
          "execution_count": 37,
          "data": {
            "text/plain": "0.5523780111135459"
          },
          "metadata": {}
        }
      ],
      "execution_count": 37
    },
    {
      "cell_type": "markdown",
      "source": "Sadly it's quite low atm. This is most likely due to the limited dataset.",
      "metadata": {
        "tags": [],
        "cell_id": "00020-4513a744-1f21-445f-b551-a455d82b6630",
        "deepnote_cell_type": "markdown"
      }
    },
    {
      "cell_type": "markdown",
      "source": "### Cheating to Check how the Model Improves",
      "metadata": {
        "tags": [],
        "cell_id": "00021-fecd1193-e369-411b-8edf-255af721f9c0",
        "deepnote_cell_type": "markdown"
      }
    },
    {
      "cell_type": "code",
      "source": "# CatBoost Specific Optimization\ntrainset = cb.Pool(X_train, y_train) \ntestset = cb.Pool(X_test, y_test)",
      "metadata": {
        "tags": [],
        "cell_id": "00020-0f92c742-dde7-4b60-aed4-689f6f591cb9",
        "deepnote_to_be_reexecuted": false,
        "source_hash": "1f168f6f",
        "execution_millis": 4,
        "execution_start": 1618145297761,
        "deepnote_cell_type": "code"
      },
      "outputs": [],
      "execution_count": 46
    },
    {
      "cell_type": "code",
      "source": "CBRC = cb.CatBoostRegressor(**params)",
      "metadata": {
        "tags": [],
        "cell_id": "00023-c492a267-2115-4487-847f-508178f9749c",
        "deepnote_to_be_reexecuted": false,
        "source_hash": "a07f8089",
        "execution_millis": 5,
        "execution_start": 1618145298329,
        "deepnote_cell_type": "code"
      },
      "outputs": [],
      "execution_count": 47
    },
    {
      "cell_type": "code",
      "source": "CBRC.fit(trainset, \neval_set=testset,\nuse_best_model=True,\n# plot=True # One of CatBoost's most powerfull features but isnt supported in DeepNote\n)",
      "metadata": {
        "tags": [],
        "cell_id": "00024-00a5e3fd-856e-49d4-80d9-7dab35f8e07e",
        "deepnote_to_be_reexecuted": false,
        "source_hash": "d3e0022e",
        "execution_millis": 2457,
        "execution_start": 1618145299721,
        "deepnote_cell_type": "code"
      },
      "outputs": [
        {
          "name": "stdout",
          "text": "Learning rate set to 0.044059\n0:\tlearn: 0.7172516\ttest: 0.7178727\tbest: 0.7178727 (0)\ttotal: 2.05ms\tremaining: 2.05s\n100:\tlearn: 0.4217718\ttest: 0.5143571\tbest: 0.5143571 (100)\ttotal: 216ms\tremaining: 1.93s\n200:\tlearn: 0.3728832\ttest: 0.5100793\tbest: 0.5096232 (189)\ttotal: 434ms\tremaining: 1.72s\n300:\tlearn: 0.3262427\ttest: 0.5125615\tbest: 0.5096232 (189)\ttotal: 684ms\tremaining: 1.59s\n400:\tlearn: 0.2964895\ttest: 0.5157831\tbest: 0.5096232 (189)\ttotal: 902ms\tremaining: 1.35s\n500:\tlearn: 0.2685912\ttest: 0.5185992\tbest: 0.5096232 (189)\ttotal: 1.19s\tremaining: 1.18s\n600:\tlearn: 0.2432462\ttest: 0.5220345\tbest: 0.5096232 (189)\ttotal: 1.4s\tremaining: 931ms\n700:\tlearn: 0.2230288\ttest: 0.5249131\tbest: 0.5096232 (189)\ttotal: 1.65s\tremaining: 706ms\n800:\tlearn: 0.2053769\ttest: 0.5268063\tbest: 0.5096232 (189)\ttotal: 1.85s\tremaining: 461ms\n900:\tlearn: 0.1902339\ttest: 0.5282712\tbest: 0.5096232 (189)\ttotal: 2.11s\tremaining: 232ms\n999:\tlearn: 0.1769719\ttest: 0.5302190\tbest: 0.5096232 (189)\ttotal: 2.34s\tremaining: 0us\n\nbestTest = 0.5096231957\nbestIteration = 189\n\nShrink model to first 190 iterations.\n",
          "output_type": "stream"
        },
        {
          "output_type": "execute_result",
          "execution_count": 48,
          "data": {
            "text/plain": "<catboost.core.CatBoostRegressor at 0x7f2c9928fc50>"
          },
          "metadata": {}
        }
      ],
      "execution_count": 48
    },
    {
      "cell_type": "markdown",
      "source": "Still very Poor...",
      "metadata": {
        "tags": [],
        "cell_id": "00025-f2b665a5-475f-4da6-a15d-74db273cc544",
        "deepnote_cell_type": "markdown"
      }
    },
    {
      "cell_type": "markdown",
      "source": "# Gradient Boosting using SKlearn",
      "metadata": {
        "tags": [],
        "cell_id": "00026-74017f13-71eb-4e9f-989f-5f1f6163c4d5",
        "deepnote_cell_type": "markdown"
      }
    },
    {
      "cell_type": "code",
      "source": "from sklearn.ensemble import GradientBoostingRegressor",
      "metadata": {
        "tags": [],
        "cell_id": "00026-c4301e34-ef17-4cf9-ae29-d5a1359435c9",
        "deepnote_to_be_reexecuted": false,
        "source_hash": "fced106c",
        "execution_millis": 4,
        "execution_start": 1618145473101,
        "deepnote_cell_type": "code"
      },
      "outputs": [],
      "execution_count": 51
    },
    {
      "cell_type": "code",
      "source": "# hard_params = {'n_estimators': 1000, 'max_leaf_nodes': 4, 'max_depth': None, 'random_state': 2,\n#                 'min_samples_split': 5}\n\n# # intermediate params\n\n# params = dict(hard_params)\n# # params.update(inter_params)",
      "metadata": {
        "tags": [],
        "cell_id": "00028-3294772a-745b-4b20-8ac9-8cb18d3b0976",
        "deepnote_cell_type": "code"
      },
      "outputs": [],
      "execution_count": null
    },
    {
      "cell_type": "code",
      "source": "# X_tset, X_val, y_tset, y_val\nGBC = GradientBoostingRegressor(\n    # **params\n    )\nGBC.fit(X_tset, y_tset)",
      "metadata": {
        "tags": [],
        "cell_id": "00025-9a675c3e-a92c-49cc-8927-a55a5d6fc2a6",
        "deepnote_to_be_reexecuted": false,
        "source_hash": "d9609e59",
        "execution_millis": 94,
        "execution_start": 1618145479185,
        "deepnote_cell_type": "code"
      },
      "outputs": [
        {
          "output_type": "execute_result",
          "execution_count": 52,
          "data": {
            "text/plain": "GradientBoostingRegressor()"
          },
          "metadata": {}
        }
      ],
      "execution_count": 52
    },
    {
      "cell_type": "code",
      "source": "GBC.score(X_val, y_val)",
      "metadata": {
        "tags": [],
        "cell_id": "00030-89ed5a34-5acb-400c-b892-239bd8e6fb8b",
        "deepnote_to_be_reexecuted": false,
        "source_hash": "88a3b6ef",
        "execution_start": 1618145491591,
        "execution_millis": 10,
        "deepnote_cell_type": "code"
      },
      "outputs": [
        {
          "output_type": "execute_result",
          "execution_count": 53,
          "data": {
            "text/plain": "0.5476870746911642"
          },
          "metadata": {}
        }
      ],
      "execution_count": 53
    },
    {
      "cell_type": "markdown",
      "source": "Rippppp",
      "metadata": {
        "tags": [],
        "cell_id": "00031-acac2f3d-2e2c-49f2-9e26-17b2607586e5",
        "deepnote_cell_type": "markdown"
      }
    },
    {
      "cell_type": "code",
      "source": "ynew = GBC.predict(X_val)",
      "metadata": {
        "tags": [],
        "cell_id": "00031-b04ab997-7250-4a3c-8166-c60291b84155",
        "deepnote_to_be_reexecuted": false,
        "source_hash": "d44fa987",
        "execution_start": 1618149662086,
        "execution_millis": 17,
        "deepnote_cell_type": "code"
      },
      "outputs": [],
      "execution_count": 54
    },
    {
      "cell_type": "code",
      "source": "percentage = 0 \nfor x, y in zip(ynew, y_val): \n    difference = x - y\n    if difference < 0.5 and difference > -0.5:\n        percentage += 1",
      "metadata": {
        "tags": [],
        "cell_id": "00033-d2435032-7177-4500-898f-3e0f69bcc27d",
        "deepnote_to_be_reexecuted": false,
        "source_hash": "94aba1c9",
        "execution_millis": 1,
        "execution_start": 1618149767653,
        "deepnote_cell_type": "code"
      },
      "outputs": [],
      "execution_count": 61
    },
    {
      "cell_type": "code",
      "source": "percentage/len(y_val) *100",
      "metadata": {
        "tags": [],
        "cell_id": "00034-5d69d2c9-56b4-4c82-bfce-cba5c037be7f",
        "deepnote_to_be_reexecuted": false,
        "source_hash": "407094a4",
        "execution_millis": 25,
        "execution_start": 1618149781961,
        "deepnote_cell_type": "code"
      },
      "outputs": [
        {
          "output_type": "execute_result",
          "execution_count": 63,
          "data": {
            "text/plain": "71.48014440433214"
          },
          "metadata": {}
        }
      ],
      "execution_count": 63
    },
    {
      "cell_type": "code",
      "source": "",
      "metadata": {
        "tags": [],
        "cell_id": "00035-ab4ec844-13e8-4da4-97ca-e1e200db734b",
        "deepnote_cell_type": "code"
      },
      "outputs": [],
      "execution_count": null
    },
    {
      "cell_type": "markdown",
      "source": "<a style='text-decoration:none;line-height:16px;display:flex;color:#5B5B62;padding:10px;justify-content:end;' href='https://deepnote.com?utm_source=created-in-deepnote-cell&projectId=d79defa5-2359-4699-82dc-d6bf5eddd7a7' target=\"_blank\">\n<img alt='Created in deepnote.com' style='display:inline;max-height:16px;margin:0px;margin-right:7.5px;' src='data:image/svg+xml;base64,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' > </img>\nCreated in <span style='font-weight:600;margin-left:4px;'>Deepnote</span></a>",
      "metadata": {
        "tags": [],
        "created_in_deepnote_cell": true,
        "deepnote_cell_type": "markdown"
      }
    }
  ],
  "nbformat": 4,
  "nbformat_minor": 2,
  "metadata": {
    "orig_nbformat": 2,
    "deepnote": {
      "is_reactive": false
    },
    "deepnote_notebook_id": "f0ce1e94-52fb-4ad0-81f1-0ec0de339dfb",
    "deepnote_execution_queue": []
  }
}