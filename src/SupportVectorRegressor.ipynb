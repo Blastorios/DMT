{
  "cells": [
    {
      "cell_type": "markdown",
      "source": "# SVR Based Predictions",
      "metadata": {
        "tags": [],
        "cell_id": "00000-2f3f7f74-5523-4dc5-bdbf-bb2f3f3a5ab9",
        "deepnote_cell_type": "markdown"
      }
    },
    {
      "cell_type": "code",
      "source": "import numpy as np\nimport pandas as pd\nimport sklearn as sk",
      "metadata": {
        "tags": [],
        "cell_id": "00000-2e8a8f4d-10ed-4be1-9d12-d209f16a1cf5",
        "deepnote_to_be_reexecuted": false,
        "source_hash": "887cc9ad",
        "execution_start": 1618145734952,
        "execution_millis": 1475,
        "deepnote_cell_type": "code"
      },
      "outputs": [],
      "execution_count": 1
    },
    {
      "cell_type": "code",
      "metadata": {
        "tags": [],
        "cell_id": "00000-fc057db7-edda-4197-a667-c52f1697dbef",
        "deepnote_to_be_reexecuted": false,
        "source_hash": "dcc2dc73",
        "execution_millis": 1,
        "execution_start": 1618147500395,
        "deepnote_cell_type": "code"
      },
      "source": "from sklearn.svm import SVR\nfrom sklearn.pipeline import make_pipeline\nfrom sklearn.preprocessing import StandardScaler",
      "execution_count": 19,
      "outputs": []
    },
    {
      "cell_type": "markdown",
      "source": "### Data Splitting",
      "metadata": {
        "tags": [],
        "cell_id": "00003-87e87fbd-79b0-4f3c-8910-03d4e3bf2221",
        "deepnote_cell_type": "markdown"
      }
    },
    {
      "cell_type": "code",
      "source": "df = (pd\n    .read_csv(\"./data/final_dataset.csv\")\n    .drop(columns=[\"Unnamed: 0\"])\n)",
      "metadata": {
        "tags": [],
        "cell_id": "00004-85c8af82-6f1d-41cf-b695-45a6764edc18",
        "deepnote_to_be_reexecuted": false,
        "source_hash": "2083a487",
        "execution_millis": 8,
        "execution_start": 1618147343595,
        "deepnote_cell_type": "code"
      },
      "outputs": [],
      "execution_count": 14
    },
    {
      "cell_type": "code",
      "source": "df",
      "metadata": {
        "tags": [],
        "cell_id": "00005-f3268624-7a75-4428-8a2c-c2efdeb9103d",
        "deepnote_to_be_reexecuted": false,
        "source_hash": "f804c160",
        "execution_millis": 74,
        "execution_start": 1618147344842,
        "deepnote_cell_type": "code"
      },
      "outputs": [
        {
          "output_type": "execute_result",
          "execution_count": 15,
          "data": {
            "application/vnd.deepnote.dataframe.v2+json": {
              "row_count": 1215,
              "column_count": 6,
              "columns": [
                {
                  "name": "average_mood",
                  "dtype": "float64",
                  "stats": {
                    "unique_count": 71,
                    "nan_count": 0,
                    "min": 0,
                    "max": 1,
                    "histogram": [
                      {
                        "bin_start": 0,
                        "bin_end": 0.1,
                        "count": 4
                      },
                      {
                        "bin_start": 0.1,
                        "bin_end": 0.2,
                        "count": 3
                      },
                      {
                        "bin_start": 0.2,
                        "bin_end": 0.30000000000000004,
                        "count": 6
                      },
                      {
                        "bin_start": 0.30000000000000004,
                        "bin_end": 0.4,
                        "count": 26
                      },
                      {
                        "bin_start": 0.4,
                        "bin_end": 0.5,
                        "count": 84
                      },
                      {
                        "bin_start": 0.5,
                        "bin_end": 0.6000000000000001,
                        "count": 348
                      },
                      {
                        "bin_start": 0.6000000000000001,
                        "bin_end": 0.7000000000000001,
                        "count": 432
                      },
                      {
                        "bin_start": 0.7000000000000001,
                        "bin_end": 0.8,
                        "count": 269
                      },
                      {
                        "bin_start": 0.8,
                        "bin_end": 0.9,
                        "count": 38
                      },
                      {
                        "bin_start": 0.9,
                        "bin_end": 1,
                        "count": 5
                      }
                    ]
                  }
                },
                {
                  "name": "mood_next_day",
                  "dtype": "float64",
                  "stats": {
                    "unique_count": 71,
                    "nan_count": 0,
                    "min": 0,
                    "max": 1,
                    "histogram": [
                      {
                        "bin_start": 0,
                        "bin_end": 0.1,
                        "count": 4
                      },
                      {
                        "bin_start": 0.1,
                        "bin_end": 0.2,
                        "count": 3
                      },
                      {
                        "bin_start": 0.2,
                        "bin_end": 0.30000000000000004,
                        "count": 6
                      },
                      {
                        "bin_start": 0.30000000000000004,
                        "bin_end": 0.4,
                        "count": 26
                      },
                      {
                        "bin_start": 0.4,
                        "bin_end": 0.5,
                        "count": 84
                      },
                      {
                        "bin_start": 0.5,
                        "bin_end": 0.6000000000000001,
                        "count": 348
                      },
                      {
                        "bin_start": 0.6000000000000001,
                        "bin_end": 0.7000000000000001,
                        "count": 432
                      },
                      {
                        "bin_start": 0.7000000000000001,
                        "bin_end": 0.8,
                        "count": 269
                      },
                      {
                        "bin_start": 0.8,
                        "bin_end": 0.9,
                        "count": 38
                      },
                      {
                        "bin_start": 0.9,
                        "bin_end": 1,
                        "count": 5
                      }
                    ]
                  }
                },
                {
                  "name": "average_valence",
                  "dtype": "float64",
                  "stats": {
                    "unique_count": 44,
                    "nan_count": 0,
                    "min": 0,
                    "max": 1,
                    "histogram": [
                      {
                        "bin_start": 0,
                        "bin_end": 0.1,
                        "count": 8
                      },
                      {
                        "bin_start": 0.1,
                        "bin_end": 0.2,
                        "count": 4
                      },
                      {
                        "bin_start": 0.2,
                        "bin_end": 0.30000000000000004,
                        "count": 18
                      },
                      {
                        "bin_start": 0.30000000000000004,
                        "bin_end": 0.4,
                        "count": 100
                      },
                      {
                        "bin_start": 0.4,
                        "bin_end": 0.5,
                        "count": 85
                      },
                      {
                        "bin_start": 0.5,
                        "bin_end": 0.6000000000000001,
                        "count": 302
                      },
                      {
                        "bin_start": 0.6000000000000001,
                        "bin_end": 0.7000000000000001,
                        "count": 609
                      },
                      {
                        "bin_start": 0.7000000000000001,
                        "bin_end": 0.8,
                        "count": 51
                      },
                      {
                        "bin_start": 0.8,
                        "bin_end": 0.9,
                        "count": 32
                      },
                      {
                        "bin_start": 0.9,
                        "bin_end": 1,
                        "count": 6
                      }
                    ]
                  }
                },
                {
                  "name": "average_arousal",
                  "dtype": "float64",
                  "stats": {
                    "unique_count": 55,
                    "nan_count": 0,
                    "min": 0,
                    "max": 1,
                    "histogram": [
                      {
                        "bin_start": 0,
                        "bin_end": 0.1,
                        "count": 16
                      },
                      {
                        "bin_start": 0.1,
                        "bin_end": 0.2,
                        "count": 65
                      },
                      {
                        "bin_start": 0.2,
                        "bin_end": 0.30000000000000004,
                        "count": 116
                      },
                      {
                        "bin_start": 0.30000000000000004,
                        "bin_end": 0.4,
                        "count": 206
                      },
                      {
                        "bin_start": 0.4,
                        "bin_end": 0.5,
                        "count": 182
                      },
                      {
                        "bin_start": 0.5,
                        "bin_end": 0.6000000000000001,
                        "count": 402
                      },
                      {
                        "bin_start": 0.6000000000000001,
                        "bin_end": 0.7000000000000001,
                        "count": 145
                      },
                      {
                        "bin_start": 0.7000000000000001,
                        "bin_end": 0.8,
                        "count": 69
                      },
                      {
                        "bin_start": 0.8,
                        "bin_end": 0.9,
                        "count": 10
                      },
                      {
                        "bin_start": 0.9,
                        "bin_end": 1,
                        "count": 4
                      }
                    ]
                  }
                },
                {
                  "name": "average_office",
                  "dtype": "float64",
                  "stats": {
                    "unique_count": 257,
                    "nan_count": 0,
                    "min": 0,
                    "max": 1,
                    "histogram": [
                      {
                        "bin_start": 0,
                        "bin_end": 0.1,
                        "count": 1201
                      },
                      {
                        "bin_start": 0.1,
                        "bin_end": 0.2,
                        "count": 10
                      },
                      {
                        "bin_start": 0.2,
                        "bin_end": 0.30000000000000004,
                        "count": 2
                      },
                      {
                        "bin_start": 0.30000000000000004,
                        "bin_end": 0.4,
                        "count": 1
                      },
                      {
                        "bin_start": 0.4,
                        "bin_end": 0.5,
                        "count": 0
                      },
                      {
                        "bin_start": 0.5,
                        "bin_end": 0.6000000000000001,
                        "count": 0
                      },
                      {
                        "bin_start": 0.6000000000000001,
                        "bin_end": 0.7000000000000001,
                        "count": 0
                      },
                      {
                        "bin_start": 0.7000000000000001,
                        "bin_end": 0.8,
                        "count": 0
                      },
                      {
                        "bin_start": 0.8,
                        "bin_end": 0.9,
                        "count": 0
                      },
                      {
                        "bin_start": 0.9,
                        "bin_end": 1,
                        "count": 1
                      }
                    ]
                  }
                },
                {
                  "name": "average_game",
                  "dtype": "float64",
                  "stats": {
                    "unique_count": 178,
                    "nan_count": 0,
                    "min": 0,
                    "max": 1,
                    "histogram": [
                      {
                        "bin_start": 0,
                        "bin_end": 0.1,
                        "count": 1183
                      },
                      {
                        "bin_start": 0.1,
                        "bin_end": 0.2,
                        "count": 17
                      },
                      {
                        "bin_start": 0.2,
                        "bin_end": 0.30000000000000004,
                        "count": 10
                      },
                      {
                        "bin_start": 0.30000000000000004,
                        "bin_end": 0.4,
                        "count": 4
                      },
                      {
                        "bin_start": 0.4,
                        "bin_end": 0.5,
                        "count": 0
                      },
                      {
                        "bin_start": 0.5,
                        "bin_end": 0.6000000000000001,
                        "count": 0
                      },
                      {
                        "bin_start": 0.6000000000000001,
                        "bin_end": 0.7000000000000001,
                        "count": 0
                      },
                      {
                        "bin_start": 0.7000000000000001,
                        "bin_end": 0.8,
                        "count": 0
                      },
                      {
                        "bin_start": 0.8,
                        "bin_end": 0.9,
                        "count": 0
                      },
                      {
                        "bin_start": 0.9,
                        "bin_end": 1,
                        "count": 1
                      }
                    ]
                  }
                },
                {
                  "name": "_deepnote_index_column",
                  "dtype": "int64"
                }
              ],
              "rows_top": [
                {
                  "average_mood": 0.513157894736842,
                  "mood_next_day": 0.513157894736842,
                  "average_valence": 0.6153846153846153,
                  "average_arousal": 0.4375,
                  "average_office": 0,
                  "average_game": 0,
                  "_deepnote_index_column": 0
                },
                {
                  "average_mood": 0.513157894736842,
                  "mood_next_day": 0.536842105263158,
                  "average_valence": 0.4461538461538461,
                  "average_arousal": 0.5499999999999999,
                  "average_office": 0.0383994798188999,
                  "average_game": 0,
                  "_deepnote_index_column": 1
                },
                {
                  "average_mood": 0.5368421052631579,
                  "mood_next_day": 0.5999999999999999,
                  "average_valence": 0.5995841995841996,
                  "average_arousal": 0.6500000000000001,
                  "average_office": 0,
                  "average_game": 0,
                  "_deepnote_index_column": 2
                },
                {
                  "average_mood": 0.5999999999999999,
                  "mood_next_day": 0.4736842105263158,
                  "average_valence": 0.6307692307692307,
                  "average_arousal": 0.5499999999999999,
                  "average_office": 0,
                  "average_game": 0,
                  "_deepnote_index_column": 3
                },
                {
                  "average_mood": 0.4736842105263157,
                  "mood_next_day": 0.5921052631578948,
                  "average_valence": 0.3846153846153846,
                  "average_arousal": 0.7,
                  "average_office": 0.0020135610998726,
                  "average_game": 0,
                  "_deepnote_index_column": 4
                },
                {
                  "average_mood": 0.5921052631578945,
                  "mood_next_day": 0.5684210526315788,
                  "average_valence": 0.5384615384615384,
                  "average_arousal": 0.625,
                  "average_office": 0,
                  "average_game": 0,
                  "_deepnote_index_column": 5
                },
                {
                  "average_mood": 0.5684210526315788,
                  "mood_next_day": 0.631578947368421,
                  "average_valence": 0.5692307692307692,
                  "average_arousal": 0.45,
                  "average_office": 0,
                  "average_game": 0,
                  "_deepnote_index_column": 6
                },
                {
                  "average_mood": 0.631578947368421,
                  "mood_next_day": 0.536842105263158,
                  "average_valence": 0.6307692307692307,
                  "average_arousal": 0.5499999999999999,
                  "average_office": 0.0101709921437669,
                  "average_game": 0,
                  "_deepnote_index_column": 7
                },
                {
                  "average_mood": 0.5368421052631579,
                  "mood_next_day": 0.7894736842105262,
                  "average_valence": 0.5692307692307692,
                  "average_arousal": 0.35,
                  "average_office": 0,
                  "average_game": 0.0454632181347196,
                  "_deepnote_index_column": 8
                },
                {
                  "average_mood": 0.7894736842105261,
                  "mood_next_day": 0.7105263157894737,
                  "average_valence": 0.6923076923076923,
                  "average_arousal": 0.5499999999999999,
                  "average_office": 0,
                  "average_game": 0,
                  "_deepnote_index_column": 9
                },
                {
                  "average_mood": 0.7105263157894736,
                  "mood_next_day": 0.6947368421052632,
                  "average_valence": 0.6153846153846153,
                  "average_arousal": 0.375,
                  "average_office": 0,
                  "average_game": 0,
                  "_deepnote_index_column": 10
                },
                {
                  "average_mood": 0.694736842105263,
                  "mood_next_day": 0.4736842105263158,
                  "average_valence": 0.5692307692307692,
                  "average_arousal": 0.5,
                  "average_office": 0,
                  "average_game": 0.0199679504562592,
                  "_deepnote_index_column": 11
                },
                {
                  "average_mood": 0.4736842105263157,
                  "mood_next_day": 0.5526315789473683,
                  "average_valence": 0.3846153846153846,
                  "average_arousal": 0.5499999999999999,
                  "average_office": 0.0206012051932483,
                  "average_game": 0.0305305654867695,
                  "_deepnote_index_column": 12
                },
                {
                  "average_mood": 0.5526315789473683,
                  "mood_next_day": 0.536842105263158,
                  "average_valence": 0.5995841995841996,
                  "average_arousal": 0.4321874999999999,
                  "average_office": 0.0605279142450416,
                  "average_game": 0,
                  "_deepnote_index_column": 13
                },
                {
                  "average_mood": 0.5368421052631579,
                  "mood_next_day": 0.5052631578947369,
                  "average_valence": 0.3846153846153846,
                  "average_arousal": 0.1999999999999999,
                  "average_office": 0,
                  "average_game": 0,
                  "_deepnote_index_column": 14
                },
                {
                  "average_mood": 0.5052631578947369,
                  "mood_next_day": 0.5999999999999999,
                  "average_valence": 0.5076923076923077,
                  "average_arousal": 0.5499999999999999,
                  "average_office": 0,
                  "average_game": 0,
                  "_deepnote_index_column": 15
                },
                {
                  "average_mood": 0.5999999999999999,
                  "mood_next_day": 0.5526315789473683,
                  "average_valence": 0.5692307692307692,
                  "average_arousal": 0.3999999999999999,
                  "average_office": 0,
                  "average_game": 0,
                  "_deepnote_index_column": 16
                },
                {
                  "average_mood": 0.5526315789473683,
                  "mood_next_day": 0.5526315789473683,
                  "average_valence": 0.5384615384615384,
                  "average_arousal": 0.3125,
                  "average_office": 0,
                  "average_game": 0.022319576949144,
                  "_deepnote_index_column": 17
                },
                {
                  "average_mood": 0.5526315789473683,
                  "mood_next_day": 0.5684210526315788,
                  "average_valence": 0.4615384615384615,
                  "average_arousal": 0.4321874999999999,
                  "average_office": 0.0114438504104721,
                  "average_game": 0,
                  "_deepnote_index_column": 18
                },
                {
                  "average_mood": 0.5684210526315788,
                  "mood_next_day": 0.6947368421052632,
                  "average_valence": 0.5995841995841996,
                  "average_arousal": 0.3999999999999999,
                  "average_office": 0,
                  "average_game": 0,
                  "_deepnote_index_column": 19
                },
                {
                  "average_mood": 0.694736842105263,
                  "mood_next_day": 0.6947368421052632,
                  "average_valence": 0.5995841995841996,
                  "average_arousal": 0.3,
                  "average_office": 0,
                  "average_game": 0,
                  "_deepnote_index_column": 20
                },
                {
                  "average_mood": 0.694736842105263,
                  "mood_next_day": 0.631578947368421,
                  "average_valence": 0.6307692307692307,
                  "average_arousal": 0.3999999999999999,
                  "average_office": 0.0155164616981879,
                  "average_game": 0.0004132026640061,
                  "_deepnote_index_column": 21
                },
                {
                  "average_mood": 0.631578947368421,
                  "mood_next_day": 0.6710526315789472,
                  "average_valence": 0.6307692307692307,
                  "average_arousal": 0.1999999999999999,
                  "average_office": 0,
                  "average_game": 0,
                  "_deepnote_index_column": 22
                },
                {
                  "average_mood": 0.6710526315789472,
                  "mood_next_day": 0.7894736842105262,
                  "average_valence": 0.6153846153846153,
                  "average_arousal": 0.3125,
                  "average_office": 0,
                  "average_game": 0,
                  "_deepnote_index_column": 23
                },
                {
                  "average_mood": 0.7894736842105261,
                  "mood_next_day": 0.6631578947368421,
                  "average_valence": 0.6923076923076923,
                  "average_arousal": 0.1874999999999999,
                  "average_office": 0,
                  "average_game": 0,
                  "_deepnote_index_column": 24
                },
                {
                  "average_mood": 0.6631578947368418,
                  "mood_next_day": 0.536842105263158,
                  "average_valence": 0.5692307692307692,
                  "average_arousal": 0.1999999999999999,
                  "average_office": 0,
                  "average_game": 0,
                  "_deepnote_index_column": 25
                },
                {
                  "average_mood": 0.5368421052631579,
                  "mood_next_day": 0.6631578947368421,
                  "average_valence": 0.6307692307692307,
                  "average_arousal": 0.5,
                  "average_office": 0,
                  "average_game": 0,
                  "_deepnote_index_column": 26
                },
                {
                  "average_mood": 0.6631578947368418,
                  "mood_next_day": 0.5684210526315788,
                  "average_valence": 0.5995841995841996,
                  "average_arousal": 0.4321874999999999,
                  "average_office": 0,
                  "average_game": 0,
                  "_deepnote_index_column": 27
                },
                {
                  "average_mood": 0.5684210526315788,
                  "mood_next_day": 0.5999999999999999,
                  "average_valence": 0.5692307692307692,
                  "average_arousal": 0.3999999999999999,
                  "average_office": 0,
                  "average_game": 0,
                  "_deepnote_index_column": 28
                },
                {
                  "average_mood": 0.5999999999999999,
                  "mood_next_day": 0.7578947368421051,
                  "average_valence": 0.6307692307692307,
                  "average_arousal": 0.3,
                  "average_office": 0,
                  "average_game": 0,
                  "_deepnote_index_column": 29
                },
                {
                  "average_mood": 0.757894736842105,
                  "mood_next_day": 0.6710526315789472,
                  "average_valence": 0.6923076923076923,
                  "average_arousal": 0.45,
                  "average_office": 0,
                  "average_game": 0.011348051255859,
                  "_deepnote_index_column": 30
                },
                {
                  "average_mood": 0.6710526315789472,
                  "mood_next_day": 0.726315789473684,
                  "average_valence": 0.6153846153846153,
                  "average_arousal": 0.4375,
                  "average_office": 0,
                  "average_game": 0,
                  "_deepnote_index_column": 31
                },
                {
                  "average_mood": 0.726315789473684,
                  "mood_next_day": 0.6947368421052632,
                  "average_valence": 0.6923076923076923,
                  "average_arousal": 0.4321874999999999,
                  "average_office": 0,
                  "average_game": 0,
                  "_deepnote_index_column": 32
                },
                {
                  "average_mood": 0.694736842105263,
                  "mood_next_day": 0.726315789473684,
                  "average_valence": 0.6923076923076923,
                  "average_arousal": 0.5499999999999999,
                  "average_office": 0,
                  "average_game": 0,
                  "_deepnote_index_column": 33
                },
                {
                  "average_mood": 0.726315789473684,
                  "mood_next_day": 0.726315789473684,
                  "average_valence": 0.6923076923076923,
                  "average_arousal": 0.5499999999999999,
                  "average_office": 0,
                  "average_game": 0,
                  "_deepnote_index_column": 34
                },
                {
                  "average_mood": 0.726315789473684,
                  "mood_next_day": 0.6631578947368421,
                  "average_valence": 0.6923076923076923,
                  "average_arousal": 0.3999999999999999,
                  "average_office": 0,
                  "average_game": 0,
                  "_deepnote_index_column": 35
                },
                {
                  "average_mood": 0.6631578947368418,
                  "mood_next_day": 0.726315789473684,
                  "average_valence": 0.6307692307692307,
                  "average_arousal": 0.45,
                  "average_office": 0,
                  "average_game": 0,
                  "_deepnote_index_column": 36
                },
                {
                  "average_mood": 0.726315789473684,
                  "mood_next_day": 0.7105263157894737,
                  "average_valence": 0.6923076923076923,
                  "average_arousal": 0.45,
                  "average_office": 0,
                  "average_game": 0,
                  "_deepnote_index_column": 37
                },
                {
                  "average_mood": 0.7105263157894736,
                  "mood_next_day": 0.726315789473684,
                  "average_valence": 0.6923076923076923,
                  "average_arousal": 0.5,
                  "average_office": 0,
                  "average_game": 0,
                  "_deepnote_index_column": 38
                },
                {
                  "average_mood": 0.726315789473684,
                  "mood_next_day": 0.631578947368421,
                  "average_valence": 0.6307692307692307,
                  "average_arousal": 0.3,
                  "average_office": 0,
                  "average_game": 0,
                  "_deepnote_index_column": 39
                },
                {
                  "average_mood": 0.631578947368421,
                  "mood_next_day": 0.7578947368421051,
                  "average_valence": 0.5995841995841996,
                  "average_arousal": 0.4321874999999999,
                  "average_office": 0,
                  "average_game": 0,
                  "_deepnote_index_column": 40
                },
                {
                  "average_mood": 0.757894736842105,
                  "mood_next_day": 0.7894736842105262,
                  "average_valence": 0.5995841995841996,
                  "average_arousal": 0.3999999999999999,
                  "average_office": 0,
                  "average_game": 0,
                  "_deepnote_index_column": 41
                },
                {
                  "average_mood": 0.7894736842105261,
                  "mood_next_day": 0.726315789473684,
                  "average_valence": 0.6923076923076923,
                  "average_arousal": 0.3999999999999999,
                  "average_office": 0,
                  "average_game": 0,
                  "_deepnote_index_column": 42
                },
                {
                  "average_mood": 0.726315789473684,
                  "mood_next_day": 0.7894736842105262,
                  "average_valence": 0.5995841995841996,
                  "average_arousal": 0.45,
                  "average_office": 0,
                  "average_game": 0,
                  "_deepnote_index_column": 43
                },
                {
                  "average_mood": 0.7894736842105261,
                  "mood_next_day": 0.6766917293233082,
                  "average_valence": 0.6923076923076923,
                  "average_arousal": 0.45,
                  "average_office": 0,
                  "average_game": 0,
                  "_deepnote_index_column": 44
                },
                {
                  "average_mood": 0.6766917293233081,
                  "mood_next_day": 0.5921052631578948,
                  "average_valence": 0.3846153846153846,
                  "average_arousal": 0.5,
                  "average_office": 0,
                  "average_game": 0,
                  "_deepnote_index_column": 45
                },
                {
                  "average_mood": 0.5921052631578945,
                  "mood_next_day": 0.8210526315789473,
                  "average_valence": 0.5384615384615384,
                  "average_arousal": 0.625,
                  "average_office": 0,
                  "average_game": 0,
                  "_deepnote_index_column": 46
                },
                {
                  "average_mood": 0.8210526315789471,
                  "mood_next_day": 0.5999999999999999,
                  "average_valence": 0.6307692307692307,
                  "average_arousal": 0.6500000000000001,
                  "average_office": 0,
                  "average_game": 0,
                  "_deepnote_index_column": 47
                },
                {
                  "average_mood": 0.5999999999999999,
                  "mood_next_day": 0.6710526315789472,
                  "average_valence": 0.5076923076923077,
                  "average_arousal": 0.6,
                  "average_office": 0,
                  "average_game": 0,
                  "_deepnote_index_column": 48
                },
                {
                  "average_mood": 0.6710526315789472,
                  "mood_next_day": 0.7105263157894737,
                  "average_valence": 0.6153846153846153,
                  "average_arousal": 0.375,
                  "average_office": 0,
                  "average_game": 0,
                  "_deepnote_index_column": 49
                },
                {
                  "average_mood": 0.7105263157894736,
                  "mood_next_day": 0.5526315789473683,
                  "average_valence": 0.6153846153846153,
                  "average_arousal": 0.3125,
                  "average_office": 0,
                  "average_game": 0,
                  "_deepnote_index_column": 50
                },
                {
                  "average_mood": 0.5526315789473683,
                  "mood_next_day": 0.513157894736842,
                  "average_valence": 0.2307692307692307,
                  "average_arousal": 0.25,
                  "average_office": 0,
                  "average_game": 0,
                  "_deepnote_index_column": 51
                },
                {
                  "average_mood": 0.513157894736842,
                  "mood_next_day": 0.536842105263158,
                  "average_valence": 0.3846153846153846,
                  "average_arousal": 0.25,
                  "average_office": 0,
                  "average_game": 0,
                  "_deepnote_index_column": 52
                },
                {
                  "average_mood": 0.5368421052631579,
                  "mood_next_day": 0.75,
                  "average_valence": 0.323076923076923,
                  "average_arousal": 0.5499999999999999,
                  "average_office": 0,
                  "average_game": 0,
                  "_deepnote_index_column": 53
                },
                {
                  "average_mood": 0.7499999999999998,
                  "mood_next_day": 0.6631578947368421,
                  "average_valence": 0.6153846153846153,
                  "average_arousal": 0.1874999999999999,
                  "average_office": 0,
                  "average_game": 0,
                  "_deepnote_index_column": 54
                },
                {
                  "average_mood": 0.6631578947368418,
                  "mood_next_day": 0.6710526315789472,
                  "average_valence": 0.5076923076923077,
                  "average_arousal": 0.1999999999999999,
                  "average_office": 0,
                  "average_game": 0,
                  "_deepnote_index_column": 55
                },
                {
                  "average_mood": 0.6710526315789472,
                  "mood_next_day": 0.5999999999999999,
                  "average_valence": 0.5384615384615384,
                  "average_arousal": 0.5,
                  "average_office": 0,
                  "average_game": 0,
                  "_deepnote_index_column": 56
                },
                {
                  "average_mood": 0.5999999999999999,
                  "mood_next_day": 0.6710526315789472,
                  "average_valence": 0.5692307692307692,
                  "average_arousal": 0.35,
                  "average_office": 0,
                  "average_game": 0,
                  "_deepnote_index_column": 57
                },
                {
                  "average_mood": 0.6710526315789472,
                  "mood_next_day": 0.631578947368421,
                  "average_valence": 0.4615384615384615,
                  "average_arousal": 0.3125,
                  "average_office": 0,
                  "average_game": 0,
                  "_deepnote_index_column": 58
                },
                {
                  "average_mood": 0.631578947368421,
                  "mood_next_day": 0.6631578947368421,
                  "average_valence": 0.6153846153846153,
                  "average_arousal": 0.25,
                  "average_office": 0,
                  "average_game": 0,
                  "_deepnote_index_column": 59
                },
                {
                  "average_mood": 0.6631578947368418,
                  "mood_next_day": 0.6947368421052632,
                  "average_valence": 0.5076923076923077,
                  "average_arousal": 0.3,
                  "average_office": 0,
                  "average_game": 0,
                  "_deepnote_index_column": 60
                },
                {
                  "average_mood": 0.694736842105263,
                  "mood_next_day": 0.536842105263158,
                  "average_valence": 0.6307692307692307,
                  "average_arousal": 0.45,
                  "average_office": 0,
                  "average_game": 0,
                  "_deepnote_index_column": 61
                },
                {
                  "average_mood": 0.5368421052631579,
                  "mood_next_day": 0.4342105263157894,
                  "average_valence": 0.323076923076923,
                  "average_arousal": 0.35,
                  "average_office": 0,
                  "average_game": 0,
                  "_deepnote_index_column": 62
                },
                {
                  "average_mood": 0.4342105263157893,
                  "mood_next_day": 0.536842105263158,
                  "average_valence": 0.3846153846153846,
                  "average_arousal": 0.4375,
                  "average_office": 0,
                  "average_game": 0,
                  "_deepnote_index_column": 63
                },
                {
                  "average_mood": 0.5368421052631579,
                  "mood_next_day": 0.6947368421052632,
                  "average_valence": 0.4461538461538461,
                  "average_arousal": 0.1999999999999999,
                  "average_office": 0,
                  "average_game": 0,
                  "_deepnote_index_column": 64
                },
                {
                  "average_mood": 0.694736842105263,
                  "mood_next_day": 0.2368421052631579,
                  "average_valence": 0.5692307692307692,
                  "average_arousal": 0.5,
                  "average_office": 0,
                  "average_game": 0,
                  "_deepnote_index_column": 65
                },
                {
                  "average_mood": 0.2368421052631578,
                  "mood_next_day": 0.5999999999999999,
                  "average_valence": 0,
                  "average_arousal": 0.25,
                  "average_office": 0,
                  "average_game": 0,
                  "_deepnote_index_column": 66
                },
                {
                  "average_mood": 0.5999999999999999,
                  "mood_next_day": 0.513157894736842,
                  "average_valence": 0.5692307692307692,
                  "average_arousal": 0.5,
                  "average_office": 0,
                  "average_game": 0,
                  "_deepnote_index_column": 67
                },
                {
                  "average_mood": 0.513157894736842,
                  "mood_next_day": 0.6710526315789472,
                  "average_valence": 0.5384615384615384,
                  "average_arousal": 0.4375,
                  "average_office": 0,
                  "average_game": 0,
                  "_deepnote_index_column": 68
                },
                {
                  "average_mood": 0.6710526315789472,
                  "mood_next_day": 0.6710526315789472,
                  "average_valence": 0.4615384615384615,
                  "average_arousal": 0.375,
                  "average_office": 0,
                  "average_game": 0,
                  "_deepnote_index_column": 69
                },
                {
                  "average_mood": 0.6710526315789472,
                  "mood_next_day": 0.5526315789473683,
                  "average_valence": 0.6153846153846153,
                  "average_arousal": 0.5625,
                  "average_office": 0,
                  "average_game": 0,
                  "_deepnote_index_column": 70
                },
                {
                  "average_mood": 0.5526315789473683,
                  "mood_next_day": 0.4736842105263158,
                  "average_valence": 0.5384615384615384,
                  "average_arousal": 0.375,
                  "average_office": 0,
                  "average_game": 0,
                  "_deepnote_index_column": 71
                },
                {
                  "average_mood": 0.4736842105263157,
                  "mood_next_day": 0.6631578947368421,
                  "average_valence": 0.0769230769230769,
                  "average_arousal": 0,
                  "average_office": 0,
                  "average_game": 0,
                  "_deepnote_index_column": 72
                },
                {
                  "average_mood": 0.6631578947368418,
                  "mood_next_day": 0.7894736842105262,
                  "average_valence": 0.5076923076923077,
                  "average_arousal": 0.35,
                  "average_office": 0,
                  "average_game": 0,
                  "_deepnote_index_column": 73
                },
                {
                  "average_mood": 0.7894736842105261,
                  "mood_next_day": 0.6710526315789472,
                  "average_valence": 0.6923076923076923,
                  "average_arousal": 0.6875,
                  "average_office": 0,
                  "average_game": 0,
                  "_deepnote_index_column": 74
                },
                {
                  "average_mood": 0.6710526315789472,
                  "mood_next_day": 0.5789473684210525,
                  "average_valence": 0.5384615384615384,
                  "average_arousal": 0.375,
                  "average_office": 0,
                  "average_game": 0,
                  "_deepnote_index_column": 75
                },
                {
                  "average_mood": 0.5789473684210527,
                  "mood_next_day": 0.5526315789473683,
                  "average_valence": 0.4871794871794871,
                  "average_arousal": 0.4166666666666667,
                  "average_office": 0,
                  "average_game": 0,
                  "_deepnote_index_column": 76
                },
                {
                  "average_mood": 0.5526315789473683,
                  "mood_next_day": 0.5526315789473683,
                  "average_valence": 0.3846153846153846,
                  "average_arousal": 0.5625,
                  "average_office": 0,
                  "average_game": 0,
                  "_deepnote_index_column": 77
                },
                {
                  "average_mood": 0.5526315789473683,
                  "mood_next_day": 0.4210526315789474,
                  "average_valence": 0.3846153846153846,
                  "average_arousal": 0.5,
                  "average_office": 0,
                  "average_game": 0,
                  "_deepnote_index_column": 78
                },
                {
                  "average_mood": 0.4210526315789473,
                  "mood_next_day": 0.3157894736842105,
                  "average_valence": 0.282051282051282,
                  "average_arousal": 0.3333333333333333,
                  "average_office": 0,
                  "average_game": 0,
                  "_deepnote_index_column": 79
                },
                {
                  "average_mood": 0.3157894736842104,
                  "mood_next_day": 0.3947368421052631,
                  "average_valence": 0.3846153846153846,
                  "average_arousal": 0.3333333333333333,
                  "average_office": 0,
                  "average_game": 0,
                  "_deepnote_index_column": 80
                },
                {
                  "average_mood": 0.3947368421052631,
                  "mood_next_day": 0.4210526315789474,
                  "average_valence": 0.2307692307692307,
                  "average_arousal": 0.375,
                  "average_office": 0,
                  "average_game": 0,
                  "_deepnote_index_column": 81
                },
                {
                  "average_mood": 0.4210526315789473,
                  "mood_next_day": 0.3947368421052631,
                  "average_valence": 0.282051282051282,
                  "average_arousal": 0.1666666666666666,
                  "average_office": 0,
                  "average_game": 0,
                  "_deepnote_index_column": 82
                }
              ],
              "rows_bottom": [
                {
                  "average_mood": 0.631578947368421,
                  "mood_next_day": 0.631578947368421,
                  "average_valence": 0.6923076923076923,
                  "average_arousal": 0.7,
                  "average_office": 0.0043127669139132,
                  "average_game": 0,
                  "_deepnote_index_column": 1132
                },
                {
                  "average_mood": 0.631578947368421,
                  "mood_next_day": 0.6947368421052632,
                  "average_valence": 0.6923076923076923,
                  "average_arousal": 0.75,
                  "average_office": 0.0080729752004195,
                  "average_game": 0,
                  "_deepnote_index_column": 1133
                },
                {
                  "average_mood": 0.694736842105263,
                  "mood_next_day": 0.6631578947368421,
                  "average_valence": 0.7538461538461538,
                  "average_arousal": 0.75,
                  "average_office": 0,
                  "average_game": 0,
                  "_deepnote_index_column": 1134
                },
                {
                  "average_mood": 0.6631578947368418,
                  "mood_next_day": 0.6118421052631577,
                  "average_valence": 0.6923076923076923,
                  "average_arousal": 0.7,
                  "average_office": 0,
                  "average_game": 0,
                  "_deepnote_index_column": 1135
                },
                {
                  "average_mood": 0.6118421052631576,
                  "mood_next_day": 0.631578947368421,
                  "average_valence": 0.6923076923076923,
                  "average_arousal": 0.625,
                  "average_office": 0,
                  "average_game": 0,
                  "_deepnote_index_column": 1136
                },
                {
                  "average_mood": 0.631578947368421,
                  "mood_next_day": 0.631578947368421,
                  "average_valence": 0.6923076923076923,
                  "average_arousal": 0.75,
                  "average_office": 0,
                  "average_game": 0,
                  "_deepnote_index_column": 1137
                },
                {
                  "average_mood": 0.631578947368421,
                  "mood_next_day": 0.6842105263157894,
                  "average_valence": 0.6923076923076923,
                  "average_arousal": 0.6666666666666666,
                  "average_office": 0,
                  "average_game": 0,
                  "_deepnote_index_column": 1138
                },
                {
                  "average_mood": 0.6842105263157894,
                  "mood_next_day": 0.631578947368421,
                  "average_valence": 0.6923076923076923,
                  "average_arousal": 0.75,
                  "average_office": 0,
                  "average_game": 0,
                  "_deepnote_index_column": 1139
                },
                {
                  "average_mood": 0.631578947368421,
                  "mood_next_day": 0.631578947368421,
                  "average_valence": 0.6923076923076923,
                  "average_arousal": 0.6,
                  "average_office": 0,
                  "average_game": 0,
                  "_deepnote_index_column": 1140
                },
                {
                  "average_mood": 0.631578947368421,
                  "mood_next_day": 0.631578947368421,
                  "average_valence": 0.6923076923076923,
                  "average_arousal": 0.75,
                  "average_office": 0,
                  "average_game": 0,
                  "_deepnote_index_column": 1141
                },
                {
                  "average_mood": 0.631578947368421,
                  "mood_next_day": 0.631578947368421,
                  "average_valence": 0.6923076923076923,
                  "average_arousal": 0.75,
                  "average_office": 0,
                  "average_game": 0,
                  "_deepnote_index_column": 1142
                },
                {
                  "average_mood": 0.631578947368421,
                  "mood_next_day": 0.7105263157894737,
                  "average_valence": 0.6923076923076923,
                  "average_arousal": 0.75,
                  "average_office": 0,
                  "average_game": 0,
                  "_deepnote_index_column": 1143
                },
                {
                  "average_mood": 0.7105263157894736,
                  "mood_next_day": 0.631578947368421,
                  "average_valence": 0.846153846153846,
                  "average_arousal": 0.25,
                  "average_office": 0.0208226300185167,
                  "average_game": 0,
                  "_deepnote_index_column": 1144
                },
                {
                  "average_mood": 0.631578947368421,
                  "mood_next_day": 0.7894736842105262,
                  "average_valence": 0.3846153846153846,
                  "average_arousal": 0.5,
                  "average_office": 0.0362969474146143,
                  "average_game": 0,
                  "_deepnote_index_column": 1145
                },
                {
                  "average_mood": 0.7894736842105261,
                  "mood_next_day": 0.7894736842105262,
                  "average_valence": 0.5384615384615384,
                  "average_arousal": 0.4375,
                  "average_office": 0.0389132389300966,
                  "average_game": 0,
                  "_deepnote_index_column": 1146
                },
                {
                  "average_mood": 0.7894736842105261,
                  "mood_next_day": 0.8526315789473684,
                  "average_valence": 0.5384615384615384,
                  "average_arousal": 0.375,
                  "average_office": 0,
                  "average_game": 0,
                  "_deepnote_index_column": 1147
                },
                {
                  "average_mood": 0.8526315789473683,
                  "mood_next_day": 0.726315789473684,
                  "average_valence": 0.8153846153846153,
                  "average_arousal": 0.85,
                  "average_office": 0,
                  "average_game": 0,
                  "_deepnote_index_column": 1148
                },
                {
                  "average_mood": 0.726315789473684,
                  "mood_next_day": 0.631578947368421,
                  "average_valence": 0.3846153846153846,
                  "average_arousal": 0.15,
                  "average_office": 0,
                  "average_game": 0,
                  "_deepnote_index_column": 1149
                },
                {
                  "average_mood": 0.631578947368421,
                  "mood_next_day": 0.7578947368421051,
                  "average_valence": 0.2307692307692307,
                  "average_arousal": 0.375,
                  "average_office": 0,
                  "average_game": 0,
                  "_deepnote_index_column": 1150
                },
                {
                  "average_mood": 0.757894736842105,
                  "mood_next_day": 0.6842105263157894,
                  "average_valence": 0.4461538461538461,
                  "average_arousal": 0.6,
                  "average_office": 0,
                  "average_game": 0,
                  "_deepnote_index_column": 1151
                },
                {
                  "average_mood": 0.6842105263157894,
                  "mood_next_day": 0.8289473684210527,
                  "average_valence": 0.3846153846153846,
                  "average_arousal": 0.5833333333333333,
                  "average_office": 0,
                  "average_game": 0,
                  "_deepnote_index_column": 1152
                },
                {
                  "average_mood": 0.8289473684210525,
                  "mood_next_day": 0.7368421052631577,
                  "average_valence": 0.6153846153846153,
                  "average_arousal": 0.5625,
                  "average_office": 0,
                  "average_game": 0,
                  "_deepnote_index_column": 1153
                },
                {
                  "average_mood": 0.7368421052631577,
                  "mood_next_day": 0.8842105263157894,
                  "average_valence": 0.4871794871794871,
                  "average_arousal": 0.5833333333333333,
                  "average_office": 0,
                  "average_game": 0,
                  "_deepnote_index_column": 1154
                },
                {
                  "average_mood": 0.8842105263157891,
                  "mood_next_day": 0.7894736842105262,
                  "average_valence": 0.6307692307692307,
                  "average_arousal": 0.5499999999999999,
                  "average_office": 0,
                  "average_game": 0,
                  "_deepnote_index_column": 1155
                },
                {
                  "average_mood": 0.7894736842105261,
                  "mood_next_day": 0.7105263157894737,
                  "average_valence": 0.5692307692307692,
                  "average_arousal": 0.0499999999999999,
                  "average_office": 0,
                  "average_game": 0,
                  "_deepnote_index_column": 1156
                },
                {
                  "average_mood": 0.7105263157894736,
                  "mood_next_day": 0.7894736842105262,
                  "average_valence": 0.5384615384615384,
                  "average_arousal": 0.625,
                  "average_office": 0,
                  "average_game": 0,
                  "_deepnote_index_column": 1157
                },
                {
                  "average_mood": 0.7894736842105261,
                  "mood_next_day": 0.8684210526315789,
                  "average_valence": 0.5384615384615384,
                  "average_arousal": 0.5,
                  "average_office": 0,
                  "average_game": 0,
                  "_deepnote_index_column": 1158
                },
                {
                  "average_mood": 0.8684210526315788,
                  "mood_next_day": 0.8684210526315789,
                  "average_valence": 0.6153846153846153,
                  "average_arousal": 0.6875,
                  "average_office": 0,
                  "average_game": 0,
                  "_deepnote_index_column": 1159
                },
                {
                  "average_mood": 0.8684210526315788,
                  "mood_next_day": 0.631578947368421,
                  "average_valence": 0.5384615384615384,
                  "average_arousal": 0.625,
                  "average_office": 0,
                  "average_game": 0,
                  "_deepnote_index_column": 1160
                },
                {
                  "average_mood": 0.631578947368421,
                  "mood_next_day": 0.7894736842105262,
                  "average_valence": 0.3846153846153846,
                  "average_arousal": 0.45,
                  "average_office": 0,
                  "average_game": 0,
                  "_deepnote_index_column": 1161
                },
                {
                  "average_mood": 0.7894736842105261,
                  "mood_next_day": 0.6842105263157894,
                  "average_valence": 0.5384615384615384,
                  "average_arousal": 0.5,
                  "average_office": 0,
                  "average_game": 0,
                  "_deepnote_index_column": 1162
                },
                {
                  "average_mood": 0.6842105263157894,
                  "mood_next_day": 0.7105263157894737,
                  "average_valence": 0.3846153846153846,
                  "average_arousal": 0.375,
                  "average_office": 0,
                  "average_game": 0,
                  "_deepnote_index_column": 1163
                },
                {
                  "average_mood": 0.7105263157894736,
                  "mood_next_day": 0.7894736842105262,
                  "average_valence": 0.4615384615384615,
                  "average_arousal": 0.5625,
                  "average_office": 0,
                  "average_game": 0,
                  "_deepnote_index_column": 1164
                },
                {
                  "average_mood": 0.7894736842105261,
                  "mood_next_day": 0.631578947368421,
                  "average_valence": 0.5897435897435896,
                  "average_arousal": 0.75,
                  "average_office": 0,
                  "average_game": 0,
                  "_deepnote_index_column": 1165
                },
                {
                  "average_mood": 0.631578947368421,
                  "mood_next_day": 0.631578947368421,
                  "average_valence": 0.5897435897435896,
                  "average_arousal": 0.5,
                  "average_office": 0,
                  "average_game": 0,
                  "_deepnote_index_column": 1166
                },
                {
                  "average_mood": 0.631578947368421,
                  "mood_next_day": 0.6710526315789472,
                  "average_valence": 0.3846153846153846,
                  "average_arousal": 0.25,
                  "average_office": 0,
                  "average_game": 0,
                  "_deepnote_index_column": 1167
                },
                {
                  "average_mood": 0.6710526315789472,
                  "mood_next_day": 0.7105263157894737,
                  "average_valence": 0.3846153846153846,
                  "average_arousal": 0.4375,
                  "average_office": 0,
                  "average_game": 0,
                  "_deepnote_index_column": 1168
                },
                {
                  "average_mood": 0.7105263157894736,
                  "mood_next_day": 0.8947368421052629,
                  "average_valence": 0.5384615384615384,
                  "average_arousal": 0.25,
                  "average_office": 0.001412837555791,
                  "average_game": 0,
                  "_deepnote_index_column": 1169
                },
                {
                  "average_mood": 0.8947368421052628,
                  "mood_next_day": 0.5526315789473683,
                  "average_valence": 0.6923076923076923,
                  "average_arousal": 0.5833333333333333,
                  "average_office": 0,
                  "average_game": 0,
                  "_deepnote_index_column": 1170
                },
                {
                  "average_mood": 0.5526315789473683,
                  "mood_next_day": 0.4736842105263158,
                  "average_valence": 0.3076923076923076,
                  "average_arousal": 0.25,
                  "average_office": 0,
                  "average_game": 0,
                  "_deepnote_index_column": 1171
                },
                {
                  "average_mood": 0.4736842105263157,
                  "mood_next_day": 0.75,
                  "average_valence": 0.3076923076923076,
                  "average_arousal": 0.25,
                  "average_office": 0,
                  "average_game": 0,
                  "_deepnote_index_column": 1172
                },
                {
                  "average_mood": 0.7499999999999998,
                  "mood_next_day": 0.6710526315789472,
                  "average_valence": 0.6153846153846153,
                  "average_arousal": 0.4375,
                  "average_office": 0,
                  "average_game": 0,
                  "_deepnote_index_column": 1173
                },
                {
                  "average_mood": 0.6710526315789472,
                  "mood_next_day": 0.6631578947368421,
                  "average_valence": 0.5384615384615384,
                  "average_arousal": 0.3125,
                  "average_office": 0,
                  "average_game": 0,
                  "_deepnote_index_column": 1174
                },
                {
                  "average_mood": 0.6631578947368418,
                  "mood_next_day": 0.6513157894736842,
                  "average_valence": 0.4461538461538461,
                  "average_arousal": 0.15,
                  "average_office": 0,
                  "average_game": 0,
                  "_deepnote_index_column": 1175
                },
                {
                  "average_mood": 0.6513157894736842,
                  "mood_next_day": 0.6631578947368421,
                  "average_valence": 0.4871794871794871,
                  "average_arousal": 0.5833333333333333,
                  "average_office": 0,
                  "average_game": 0,
                  "_deepnote_index_column": 1176
                },
                {
                  "average_mood": 0.6631578947368418,
                  "mood_next_day": 0.6947368421052632,
                  "average_valence": 0.8153846153846153,
                  "average_arousal": 0.35,
                  "average_office": 0,
                  "average_game": 0,
                  "_deepnote_index_column": 1177
                },
                {
                  "average_mood": 0.694736842105263,
                  "mood_next_day": 0.7368421052631577,
                  "average_valence": 0.6307692307692307,
                  "average_arousal": 0.3,
                  "average_office": 0,
                  "average_game": 0,
                  "_deepnote_index_column": 1178
                },
                {
                  "average_mood": 0.7368421052631577,
                  "mood_next_day": 0.6947368421052632,
                  "average_valence": 0.6923076923076923,
                  "average_arousal": 0.5,
                  "average_office": 0,
                  "average_game": 0,
                  "_deepnote_index_column": 1179
                },
                {
                  "average_mood": 0.694736842105263,
                  "mood_next_day": 0.6631578947368421,
                  "average_valence": 0.7538461538461538,
                  "average_arousal": 0.5,
                  "average_office": 0,
                  "average_game": 0,
                  "_deepnote_index_column": 1180
                },
                {
                  "average_mood": 0.6631578947368418,
                  "mood_next_day": 0.5052631578947369,
                  "average_valence": 0.5692307692307692,
                  "average_arousal": 0.5,
                  "average_office": 0,
                  "average_game": 0,
                  "_deepnote_index_column": 1181
                },
                {
                  "average_mood": 0.5052631578947369,
                  "mood_next_day": 0.3473684210526316,
                  "average_valence": 0.323076923076923,
                  "average_arousal": 0.35,
                  "average_office": 0,
                  "average_game": 0,
                  "_deepnote_index_column": 1182
                },
                {
                  "average_mood": 0.3473684210526315,
                  "mood_next_day": 0.631578947368421,
                  "average_valence": 0.1999999999999999,
                  "average_arousal": 0.45,
                  "average_office": 0,
                  "average_game": 0,
                  "_deepnote_index_column": 1183
                },
                {
                  "average_mood": 0.631578947368421,
                  "mood_next_day": 0.8526315789473684,
                  "average_valence": 0.6923076923076923,
                  "average_arousal": 0.4375,
                  "average_office": 0,
                  "average_game": 0,
                  "_deepnote_index_column": 1184
                },
                {
                  "average_mood": 0.8526315789473683,
                  "mood_next_day": 0.726315789473684,
                  "average_valence": 0.5326495726495726,
                  "average_arousal": 0.7,
                  "average_office": 0,
                  "average_game": 0,
                  "_deepnote_index_column": 1185
                },
                {
                  "average_mood": 0.726315789473684,
                  "mood_next_day": 0.5052631578947369,
                  "average_valence": 0.6923076923076923,
                  "average_arousal": 0.6,
                  "average_office": 0,
                  "average_game": 0,
                  "_deepnote_index_column": 1186
                },
                {
                  "average_mood": 0.5052631578947369,
                  "mood_next_day": 0.5921052631578948,
                  "average_valence": 0.5076923076923077,
                  "average_arousal": 0.1999999999999999,
                  "average_office": 0,
                  "average_game": 0,
                  "_deepnote_index_column": 1187
                },
                {
                  "average_mood": 0.5921052631578945,
                  "mood_next_day": 0.5052631578947369,
                  "average_valence": 0.6153846153846153,
                  "average_arousal": 0.1874999999999999,
                  "average_office": 0,
                  "average_game": 0,
                  "_deepnote_index_column": 1188
                },
                {
                  "average_mood": 0.5052631578947369,
                  "mood_next_day": 0.536842105263158,
                  "average_valence": 0.5076923076923077,
                  "average_arousal": 0.3999999999999999,
                  "average_office": 0,
                  "average_game": 0,
                  "_deepnote_index_column": 1189
                },
                {
                  "average_mood": 0.5368421052631579,
                  "mood_next_day": 0.7105263157894737,
                  "average_valence": 0.5326495726495726,
                  "average_arousal": 0.25,
                  "average_office": 0,
                  "average_game": 0,
                  "_deepnote_index_column": 1190
                },
                {
                  "average_mood": 0.7105263157894736,
                  "mood_next_day": 0.4934210526315788,
                  "average_valence": 0.6923076923076923,
                  "average_arousal": 0.5,
                  "average_office": 0,
                  "average_game": 0,
                  "_deepnote_index_column": 1191
                },
                {
                  "average_mood": 0.4934210526315788,
                  "mood_next_day": 0.5684210526315788,
                  "average_valence": 0.2307692307692307,
                  "average_arousal": 0.4375,
                  "average_office": 0,
                  "average_game": 0,
                  "_deepnote_index_column": 1192
                },
                {
                  "average_mood": 0.5684210526315788,
                  "mood_next_day": 0.2842105263157894,
                  "average_valence": 0.5076923076923077,
                  "average_arousal": 0.3,
                  "average_office": 0,
                  "average_game": 0,
                  "_deepnote_index_column": 1193
                },
                {
                  "average_mood": 0.2842105263157893,
                  "mood_next_day": 0.726315789473684,
                  "average_valence": 0.323076923076923,
                  "average_arousal": 0.5499999999999999,
                  "average_office": 0,
                  "average_game": 0,
                  "_deepnote_index_column": 1194
                },
                {
                  "average_mood": 0.726315789473684,
                  "mood_next_day": 0.4736842105263158,
                  "average_valence": 0.6923076923076923,
                  "average_arousal": 0.3999999999999999,
                  "average_office": 0,
                  "average_game": 0,
                  "_deepnote_index_column": 1195
                },
                {
                  "average_mood": 0.4736842105263157,
                  "mood_next_day": 0.4736842105263158,
                  "average_valence": 0.5076923076923077,
                  "average_arousal": 0.5,
                  "average_office": 0.0040378255145618,
                  "average_game": 0,
                  "_deepnote_index_column": 1196
                },
                {
                  "average_mood": 0.4736842105263157,
                  "mood_next_day": 0.3157894736842105,
                  "average_valence": 0.5384615384615384,
                  "average_arousal": 0.3125,
                  "average_office": 0,
                  "average_game": 0,
                  "_deepnote_index_column": 1197
                },
                {
                  "average_mood": 0.3157894736842104,
                  "mood_next_day": 0.6052631578947367,
                  "average_valence": 0.3846153846153846,
                  "average_arousal": 0.625,
                  "average_office": 0,
                  "average_game": 0,
                  "_deepnote_index_column": 1198
                },
                {
                  "average_mood": 0.6052631578947366,
                  "mood_next_day": 0.4736842105263158,
                  "average_valence": 0.5326495726495726,
                  "average_arousal": 0.4166666666666667,
                  "average_office": 0,
                  "average_game": 0,
                  "_deepnote_index_column": 1199
                },
                {
                  "average_mood": 0.4736842105263157,
                  "mood_next_day": 0.631578947368421,
                  "average_valence": 0.5326495726495726,
                  "average_arousal": 0.5,
                  "average_office": 0,
                  "average_game": 0,
                  "_deepnote_index_column": 1200
                },
                {
                  "average_mood": 0.631578947368421,
                  "mood_next_day": 0.4736842105263158,
                  "average_valence": 0.5326495726495726,
                  "average_arousal": 0.6,
                  "average_office": 0,
                  "average_game": 0,
                  "_deepnote_index_column": 1201
                },
                {
                  "average_mood": 0.4736842105263157,
                  "mood_next_day": 0.4736842105263158,
                  "average_valence": 0.5326495726495726,
                  "average_arousal": 0.5625,
                  "average_office": 0,
                  "average_game": 0,
                  "_deepnote_index_column": 1202
                },
                {
                  "average_mood": 0.4736842105263157,
                  "mood_next_day": 0.5052631578947369,
                  "average_valence": 0.4461538461538461,
                  "average_arousal": 0.35,
                  "average_office": 0,
                  "average_game": 0,
                  "_deepnote_index_column": 1203
                },
                {
                  "average_mood": 0.5052631578947369,
                  "mood_next_day": 0.513157894736842,
                  "average_valence": 0.4461538461538461,
                  "average_arousal": 0.45,
                  "average_office": 0,
                  "average_game": 0,
                  "_deepnote_index_column": 1204
                },
                {
                  "average_mood": 0.513157894736842,
                  "mood_next_day": 0.4736842105263158,
                  "average_valence": 0.5384615384615384,
                  "average_arousal": 0.375,
                  "average_office": 0,
                  "average_game": 0,
                  "_deepnote_index_column": 1205
                },
                {
                  "average_mood": 0.4736842105263157,
                  "mood_next_day": 0.4342105263157894,
                  "average_valence": 0.5326495726495726,
                  "average_arousal": 0.3333333333333333,
                  "average_office": 0,
                  "average_game": 0,
                  "_deepnote_index_column": 1206
                },
                {
                  "average_mood": 0.4342105263157893,
                  "mood_next_day": 0.4473684210526314,
                  "average_valence": 0.4615384615384615,
                  "average_arousal": 0.625,
                  "average_office": 0,
                  "average_game": 0,
                  "_deepnote_index_column": 1207
                },
                {
                  "average_mood": 0.4473684210526314,
                  "mood_next_day": 0.536842105263158,
                  "average_valence": 0.3846153846153846,
                  "average_arousal": 0.2916666666666666,
                  "average_office": 0,
                  "average_game": 0,
                  "_deepnote_index_column": 1208
                },
                {
                  "average_mood": 0.5368421052631579,
                  "mood_next_day": 0.513157894736842,
                  "average_valence": 0.5326495726495726,
                  "average_arousal": 0.425438596491228,
                  "average_office": 0,
                  "average_game": 0,
                  "_deepnote_index_column": 1209
                },
                {
                  "average_mood": 0.513157894736842,
                  "mood_next_day": 0.3789473684210526,
                  "average_valence": 0.5326495726495726,
                  "average_arousal": 0.3125,
                  "average_office": 0,
                  "average_game": 0,
                  "_deepnote_index_column": 1210
                },
                {
                  "average_mood": 0.3789473684210526,
                  "mood_next_day": 0.5052631578947369,
                  "average_valence": 0.3846153846153846,
                  "average_arousal": 0.3999999999999999,
                  "average_office": 0.0873189801881642,
                  "average_game": 0,
                  "_deepnote_index_column": 1211
                },
                {
                  "average_mood": 0.5052631578947369,
                  "mood_next_day": 0.8210526315789473,
                  "average_valence": 0.5076923076923077,
                  "average_arousal": 0.35,
                  "average_office": 0,
                  "average_game": 0,
                  "_deepnote_index_column": 1212
                },
                {
                  "average_mood": 0.8210526315789471,
                  "mood_next_day": 0.631578947368421,
                  "average_valence": 0.7538461538461538,
                  "average_arousal": 0.5,
                  "average_office": 0,
                  "average_game": 0,
                  "_deepnote_index_column": 1213
                },
                {
                  "average_mood": 0.631578947368421,
                  "mood_next_day": 0.5999999999999999,
                  "average_valence": 0.6923076923076923,
                  "average_arousal": 0.1666666666666666,
                  "average_office": 0,
                  "average_game": 0,
                  "_deepnote_index_column": 1214
                }
              ]
            },
            "text/plain": "      average_mood  mood_next_day  average_valence  average_arousal  \\\n0         0.513158       0.513158         0.615385         0.437500   \n1         0.513158       0.536842         0.446154         0.550000   \n2         0.536842       0.600000         0.599584         0.650000   \n3         0.600000       0.473684         0.630769         0.550000   \n4         0.473684       0.592105         0.384615         0.700000   \n...            ...            ...              ...              ...   \n1210      0.513158       0.378947         0.532650         0.312500   \n1211      0.378947       0.505263         0.384615         0.400000   \n1212      0.505263       0.821053         0.507692         0.350000   \n1213      0.821053       0.631579         0.753846         0.500000   \n1214      0.631579       0.600000         0.692308         0.166667   \n\n      average_office  average_game  \n0           0.000000           0.0  \n1           0.038399           0.0  \n2           0.000000           0.0  \n3           0.000000           0.0  \n4           0.002014           0.0  \n...              ...           ...  \n1210        0.000000           0.0  \n1211        0.087319           0.0  \n1212        0.000000           0.0  \n1213        0.000000           0.0  \n1214        0.000000           0.0  \n\n[1215 rows x 6 columns]",
            "text/html": "<div>\n<style scoped>\n    .dataframe tbody tr th:only-of-type {\n        vertical-align: middle;\n    }\n\n    .dataframe tbody tr th {\n        vertical-align: top;\n    }\n\n    .dataframe thead th {\n        text-align: right;\n    }\n</style>\n<table border=\"1\" class=\"dataframe\">\n  <thead>\n    <tr style=\"text-align: right;\">\n      <th></th>\n      <th>average_mood</th>\n      <th>mood_next_day</th>\n      <th>average_valence</th>\n      <th>average_arousal</th>\n      <th>average_office</th>\n      <th>average_game</th>\n    </tr>\n  </thead>\n  <tbody>\n    <tr>\n      <th>0</th>\n      <td>0.513158</td>\n      <td>0.513158</td>\n      <td>0.615385</td>\n      <td>0.437500</td>\n      <td>0.000000</td>\n      <td>0.0</td>\n    </tr>\n    <tr>\n      <th>1</th>\n      <td>0.513158</td>\n      <td>0.536842</td>\n      <td>0.446154</td>\n      <td>0.550000</td>\n      <td>0.038399</td>\n      <td>0.0</td>\n    </tr>\n    <tr>\n      <th>2</th>\n      <td>0.536842</td>\n      <td>0.600000</td>\n      <td>0.599584</td>\n      <td>0.650000</td>\n      <td>0.000000</td>\n      <td>0.0</td>\n    </tr>\n    <tr>\n      <th>3</th>\n      <td>0.600000</td>\n      <td>0.473684</td>\n      <td>0.630769</td>\n      <td>0.550000</td>\n      <td>0.000000</td>\n      <td>0.0</td>\n    </tr>\n    <tr>\n      <th>4</th>\n      <td>0.473684</td>\n      <td>0.592105</td>\n      <td>0.384615</td>\n      <td>0.700000</td>\n      <td>0.002014</td>\n      <td>0.0</td>\n    </tr>\n    <tr>\n      <th>...</th>\n      <td>...</td>\n      <td>...</td>\n      <td>...</td>\n      <td>...</td>\n      <td>...</td>\n      <td>...</td>\n    </tr>\n    <tr>\n      <th>1210</th>\n      <td>0.513158</td>\n      <td>0.378947</td>\n      <td>0.532650</td>\n      <td>0.312500</td>\n      <td>0.000000</td>\n      <td>0.0</td>\n    </tr>\n    <tr>\n      <th>1211</th>\n      <td>0.378947</td>\n      <td>0.505263</td>\n      <td>0.384615</td>\n      <td>0.400000</td>\n      <td>0.087319</td>\n      <td>0.0</td>\n    </tr>\n    <tr>\n      <th>1212</th>\n      <td>0.505263</td>\n      <td>0.821053</td>\n      <td>0.507692</td>\n      <td>0.350000</td>\n      <td>0.000000</td>\n      <td>0.0</td>\n    </tr>\n    <tr>\n      <th>1213</th>\n      <td>0.821053</td>\n      <td>0.631579</td>\n      <td>0.753846</td>\n      <td>0.500000</td>\n      <td>0.000000</td>\n      <td>0.0</td>\n    </tr>\n    <tr>\n      <th>1214</th>\n      <td>0.631579</td>\n      <td>0.600000</td>\n      <td>0.692308</td>\n      <td>0.166667</td>\n      <td>0.000000</td>\n      <td>0.0</td>\n    </tr>\n  </tbody>\n</table>\n<p>1215 rows × 6 columns</p>\n</div>"
          },
          "metadata": {}
        }
      ],
      "execution_count": 15
    },
    {
      "cell_type": "code",
      "source": "from sklearn.model_selection import train_test_split",
      "metadata": {
        "tags": [],
        "cell_id": "00005-93d70cf4-dc09-4b60-832e-2d5219c73c68",
        "deepnote_to_be_reexecuted": false,
        "source_hash": "746a4dbc",
        "execution_millis": 4,
        "execution_start": 1618147348524,
        "deepnote_cell_type": "code"
      },
      "outputs": [],
      "execution_count": 16
    },
    {
      "cell_type": "code",
      "source": "X_train, X_test, y_train, y_test = train_test_split(df.drop(columns=[\"average_mood\"]), df.average_mood, test_size=0.35, random_state=22)",
      "metadata": {
        "tags": [],
        "cell_id": "00004-6c219d86-ab50-45bf-9fc6-ab98132ae4ec",
        "deepnote_to_be_reexecuted": false,
        "source_hash": "b9c6094c",
        "execution_millis": 11,
        "execution_start": 1618147348752,
        "deepnote_cell_type": "code"
      },
      "outputs": [],
      "execution_count": 17
    },
    {
      "cell_type": "markdown",
      "source": "### Model Building",
      "metadata": {
        "tags": [],
        "cell_id": "00006-21e854d5-5c0c-4376-b724-d70fc6401197",
        "deepnote_cell_type": "markdown"
      }
    },
    {
      "cell_type": "code",
      "source": "SVR = SVR(C=1.0, epsilon=0.2)",
      "metadata": {
        "tags": [],
        "cell_id": "00008-a344c5b5-632a-46a8-859b-60317cf47b8c",
        "deepnote_to_be_reexecuted": false,
        "source_hash": "e98f71dd",
        "execution_millis": 4,
        "execution_start": 1618147502697,
        "deepnote_cell_type": "code"
      },
      "outputs": [],
      "execution_count": 20
    },
    {
      "cell_type": "code",
      "source": "# regr = make_pipeline(StandardScaler(), SVR(C=1.0, epsilon=0.2))",
      "metadata": {
        "tags": [],
        "cell_id": "00001-10db8a81-a4db-4dd7-9f9a-e76375f47191",
        "deepnote_cell_type": "code"
      },
      "outputs": [],
      "execution_count": null
    },
    {
      "cell_type": "code",
      "source": "SVR.fit(X_train, y_train)",
      "metadata": {
        "tags": [],
        "cell_id": "00002-233b5ee4-973c-4ced-968e-36d09dcfc6ee",
        "deepnote_to_be_reexecuted": false,
        "source_hash": "bc7aa898",
        "execution_millis": 19,
        "execution_start": 1618147508642,
        "deepnote_cell_type": "code"
      },
      "outputs": [
        {
          "output_type": "execute_result",
          "execution_count": 21,
          "data": {
            "text/plain": "SVR(epsilon=0.2)"
          },
          "metadata": {}
        }
      ],
      "execution_count": 21
    },
    {
      "cell_type": "code",
      "source": "SVR.score(X_test, y_test)",
      "metadata": {
        "tags": [],
        "cell_id": "00011-22e39a98-529b-4410-bf43-578c96c51d6e",
        "deepnote_to_be_reexecuted": false,
        "source_hash": "eedac8e5",
        "execution_start": 1618147524624,
        "execution_millis": 13,
        "deepnote_cell_type": "code"
      },
      "outputs": [
        {
          "output_type": "execute_result",
          "execution_count": 22,
          "data": {
            "text/plain": "0.481855371926045"
          },
          "metadata": {}
        }
      ],
      "execution_count": 22
    },
    {
      "cell_type": "code",
      "source": "ynew = SVR.predict(X_test)",
      "metadata": {
        "tags": [],
        "cell_id": "00013-9873435e-d55d-430a-9f19-d49003edebb1",
        "deepnote_to_be_reexecuted": false,
        "source_hash": "e73559d5",
        "execution_millis": 2,
        "execution_start": 1618149062321,
        "deepnote_cell_type": "code"
      },
      "outputs": [],
      "execution_count": 24
    },
    {
      "cell_type": "code",
      "source": "percentage = 0 \nfor x, y in zip(ynew, y_test): \n    difference = x - y\n    if difference < 0.05 and difference > -0.05:\n        percentage += 1",
      "metadata": {
        "tags": [],
        "cell_id": "00014-54c8d57d-992a-40f4-895d-cda69a8f8982",
        "deepnote_to_be_reexecuted": false,
        "source_hash": "31b8b999",
        "execution_millis": 1,
        "execution_start": 1618149538774,
        "deepnote_cell_type": "code"
      },
      "outputs": [],
      "execution_count": 38
    },
    {
      "cell_type": "code",
      "source": "percentage/len(y_test) * 100",
      "metadata": {
        "tags": [],
        "cell_id": "00015-f7c76318-6cbe-4ac3-a6a7-841752f34f41",
        "deepnote_to_be_reexecuted": false,
        "source_hash": "716ff09a",
        "execution_millis": 8,
        "execution_start": 1618149575438,
        "deepnote_cell_type": "code"
      },
      "outputs": [
        {
          "output_type": "execute_result",
          "execution_count": 42,
          "data": {
            "text/plain": "45.539906103286384"
          },
          "metadata": {}
        }
      ],
      "execution_count": 42
    },
    {
      "cell_type": "code",
      "source": "",
      "metadata": {
        "tags": [],
        "cell_id": "00016-71acd61a-0c5f-4fe3-b4c7-d54ba2f67c75",
        "deepnote_cell_type": "code"
      },
      "outputs": [],
      "execution_count": null
    },
    {
      "cell_type": "markdown",
      "source": "<a style='text-decoration:none;line-height:16px;display:flex;color:#5B5B62;padding:10px;justify-content:end;' href='https://deepnote.com?utm_source=created-in-deepnote-cell&projectId=d79defa5-2359-4699-82dc-d6bf5eddd7a7' target=\"_blank\">\n<img alt='Created in deepnote.com' style='display:inline;max-height:16px;margin:0px;margin-right:7.5px;' src='data:image/svg+xml;base64,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' > </img>\nCreated in <span style='font-weight:600;margin-left:4px;'>Deepnote</span></a>",
      "metadata": {
        "tags": [],
        "created_in_deepnote_cell": true,
        "deepnote_cell_type": "markdown"
      }
    }
  ],
  "nbformat": 4,
  "nbformat_minor": 2,
  "metadata": {
    "orig_nbformat": 2,
    "deepnote": {
      "is_reactive": false
    },
    "deepnote_notebook_id": "bc227f90-cea4-4c91-a6a4-cd7619658b98",
    "deepnote_execution_queue": []
  }
}