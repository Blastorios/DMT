{
  "cells": [
    {
      "cell_type": "markdown",
      "source": "# Basic Analysis",
      "metadata": {
        "tags": [],
        "cell_id": "00000-c5bb7c31-9ba3-41c9-b1ef-f55801138281",
        "deepnote_cell_type": "markdown"
      }
    },
    {
      "cell_type": "markdown",
      "source": "Myrthe already did some great work regarding data processing. This notebook is simply meant for me (Jordi) to understand what we are working with etc etc.",
      "metadata": {
        "tags": [],
        "cell_id": "00001-f8b6fb84-8710-4b2b-b737-ec2c4ac42b66",
        "deepnote_cell_type": "markdown"
      }
    },
    {
      "cell_type": "markdown",
      "source": "The goal of this assignment is to: \n\n**Using this dataset, we would like to build a predictive model that is able to predict the average\nmood of the user on the next day based on the data we obtained from the user on the days**",
      "metadata": {
        "tags": [],
        "cell_id": "00002-9512bd36-f6ab-4381-ba3c-30a776c77275",
        "deepnote_cell_type": "markdown"
      }
    },
    {
      "cell_type": "markdown",
      "source": "Essentially there are two approaches you can consider to create a predictive model using\nthis dataset: \n\n*(1) use an machine learning approach that can deal with temporal data (e.g. ARIMA, recurrent neural networks)*\n\n*(2) you can try to aggregate the history somehow to create attributes that can be used in a more common machine learning approach (e.g. SVM, decision tree).*\n\nFor instance, you use the average mood during the last five days as a predictor. Ample literature is present in the area of temporal data mining that describes how such a transformation can be made. We are going to focus on such a transformation in this part of the assignment. What we are trying to do is illustrated in Figure 2.",
      "metadata": {
        "tags": [],
        "cell_id": "00003-cc023898-488e-4cfc-bfca-25695f0cbbd9",
        "deepnote_cell_type": "markdown"
      }
    },
    {
      "cell_type": "markdown",
      "source": "Let's go!",
      "metadata": {
        "tags": [],
        "cell_id": "00003-a39ef8c2-4da1-4d2b-92c3-30860e29d9de",
        "deepnote_cell_type": "markdown"
      }
    },
    {
      "cell_type": "code",
      "metadata": {
        "tags": [],
        "cell_id": "00005-3204887a-0a11-4473-b45b-1aab6519641c",
        "deepnote_to_be_reexecuted": false,
        "source_hash": "d3dbd83a",
        "execution_millis": 8642,
        "execution_start": 1617816511235,
        "deepnote_cell_type": "code"
      },
      "source": "%%capture\n\n!pip install mlxtend",
      "execution_count": null,
      "outputs": []
    },
    {
      "cell_type": "code",
      "metadata": {
        "tags": [],
        "cell_id": "00000-db8c044d-a2c3-47df-92fa-52deb197be4a",
        "deepnote_to_be_reexecuted": false,
        "source_hash": "b3dadff4",
        "execution_millis": 137,
        "execution_start": 1617718692767,
        "deepnote_cell_type": "code"
      },
      "source": "import numpy as np\nimport pandas as pd\nimport matplotlib.pyplot as plt\nimport seaborn as sns\n\nfrom mlxtend.preprocessing import minmax_scaling",
      "execution_count": null,
      "outputs": []
    },
    {
      "cell_type": "code",
      "metadata": {
        "tags": [],
        "cell_id": "00001-a8e4200f-54cf-4e25-9dda-04f4ea79b92f",
        "deepnote_to_be_reexecuted": false,
        "source_hash": "c286330a",
        "execution_millis": 369,
        "execution_start": 1617721645948,
        "deepnote_cell_type": "code"
      },
      "source": "raw =  pd.read_csv(\"dataset_mood_smartphone.csv\")\ndf = pd.read_csv(\"new_data.csv\")\n\ndf = df.drop([\"Unnamed: 0\"], axis=1) if \"Unnamed: 0\" in df.columns else df\nraw = raw.drop([\"Unnamed: 0\"], axis=1) if \"Unnamed: 0\" in raw.columns else raw",
      "execution_count": null,
      "outputs": []
    },
    {
      "cell_type": "code",
      "metadata": {
        "tags": [],
        "cell_id": "00002-15c1ef76-efd0-4c0e-b002-8053a2bcc411",
        "deepnote_to_be_reexecuted": false,
        "source_hash": "f804c160",
        "execution_millis": 68,
        "execution_start": 1617721646970,
        "deepnote_cell_type": "code"
      },
      "source": "df",
      "execution_count": null,
      "outputs": [
        {
          "output_type": "execute_result",
          "execution_count": 100,
          "data": {
            "application/vnd.deepnote.dataframe.v2+json": {
              "row_count": 1215,
              "column_count": 9,
              "columns": [
                {
                  "name": "unique_id",
                  "dtype": "object",
                  "stats": {
                    "unique_count": 1215,
                    "nan_count": 0,
                    "categories": [
                      {
                        "name": "2014-02-26_AS14.01",
                        "count": 1
                      },
                      {
                        "name": "2014-03-21_AS14.01",
                        "count": 1
                      },
                      {
                        "name": "1213 others",
                        "count": 1213
                      }
                    ]
                  }
                },
                {
                  "name": "id",
                  "dtype": "object",
                  "stats": {
                    "unique_count": 27,
                    "nan_count": 0,
                    "categories": [
                      {
                        "name": "AS14.26",
                        "count": 66
                      },
                      {
                        "name": "AS14.08",
                        "count": 61
                      },
                      {
                        "name": "25 others",
                        "count": 1088
                      }
                    ]
                  }
                },
                {
                  "name": "date",
                  "dtype": "object",
                  "stats": {
                    "unique_count": 95,
                    "nan_count": 0,
                    "categories": [
                      {
                        "name": "2014-04-16",
                        "count": 27
                      },
                      {
                        "name": "2014-04-17",
                        "count": 27
                      },
                      {
                        "name": "93 others",
                        "count": 1161
                      }
                    ]
                  }
                },
                {
                  "name": "average_mood",
                  "dtype": "float64",
                  "stats": {
                    "unique_count": 71,
                    "nan_count": 0,
                    "min": 3,
                    "max": 9.333333333333334,
                    "histogram": [
                      {
                        "bin_start": 3,
                        "bin_end": 3.6333333333333333,
                        "count": 4
                      },
                      {
                        "bin_start": 3.6333333333333333,
                        "bin_end": 4.266666666666667,
                        "count": 3
                      },
                      {
                        "bin_start": 4.266666666666667,
                        "bin_end": 4.9,
                        "count": 6
                      },
                      {
                        "bin_start": 4.9,
                        "bin_end": 5.533333333333333,
                        "count": 26
                      },
                      {
                        "bin_start": 5.533333333333333,
                        "bin_end": 6.166666666666667,
                        "count": 83
                      },
                      {
                        "bin_start": 6.166666666666667,
                        "bin_end": 6.800000000000001,
                        "count": 349
                      },
                      {
                        "bin_start": 6.800000000000001,
                        "bin_end": 7.433333333333334,
                        "count": 432
                      },
                      {
                        "bin_start": 7.433333333333334,
                        "bin_end": 8.066666666666666,
                        "count": 269
                      },
                      {
                        "bin_start": 8.066666666666666,
                        "bin_end": 8.700000000000001,
                        "count": 38
                      },
                      {
                        "bin_start": 8.700000000000001,
                        "bin_end": 9.333333333333334,
                        "count": 5
                      }
                    ]
                  }
                },
                {
                  "name": "total_calls",
                  "dtype": "float64",
                  "stats": {
                    "unique_count": 22,
                    "nan_count": 693,
                    "min": 1,
                    "max": 31,
                    "histogram": [
                      {
                        "bin_start": 1,
                        "bin_end": 4,
                        "count": 216
                      },
                      {
                        "bin_start": 4,
                        "bin_end": 7,
                        "count": 151
                      },
                      {
                        "bin_start": 7,
                        "bin_end": 10,
                        "count": 83
                      },
                      {
                        "bin_start": 10,
                        "bin_end": 13,
                        "count": 43
                      },
                      {
                        "bin_start": 13,
                        "bin_end": 16,
                        "count": 16
                      },
                      {
                        "bin_start": 16,
                        "bin_end": 19,
                        "count": 7
                      },
                      {
                        "bin_start": 19,
                        "bin_end": 22,
                        "count": 3
                      },
                      {
                        "bin_start": 22,
                        "bin_end": 25,
                        "count": 0
                      },
                      {
                        "bin_start": 25,
                        "bin_end": 28,
                        "count": 2
                      },
                      {
                        "bin_start": 28,
                        "bin_end": 31,
                        "count": 1
                      }
                    ]
                  }
                },
                {
                  "name": "total_sms",
                  "dtype": "float64",
                  "stats": {
                    "unique_count": 21,
                    "nan_count": 1048,
                    "min": 1,
                    "max": 35,
                    "histogram": [
                      {
                        "bin_start": 1,
                        "bin_end": 4.4,
                        "count": 93
                      },
                      {
                        "bin_start": 4.4,
                        "bin_end": 7.8,
                        "count": 32
                      },
                      {
                        "bin_start": 7.8,
                        "bin_end": 11.2,
                        "count": 15
                      },
                      {
                        "bin_start": 11.2,
                        "bin_end": 14.6,
                        "count": 16
                      },
                      {
                        "bin_start": 14.6,
                        "bin_end": 18,
                        "count": 3
                      },
                      {
                        "bin_start": 18,
                        "bin_end": 21.4,
                        "count": 0
                      },
                      {
                        "bin_start": 21.4,
                        "bin_end": 24.8,
                        "count": 3
                      },
                      {
                        "bin_start": 24.8,
                        "bin_end": 28.2,
                        "count": 4
                      },
                      {
                        "bin_start": 28.2,
                        "bin_end": 31.599999999999998,
                        "count": 0
                      },
                      {
                        "bin_start": 31.599999999999998,
                        "bin_end": 35,
                        "count": 1
                      }
                    ]
                  }
                },
                {
                  "name": "average_com",
                  "dtype": "float64",
                  "stats": {
                    "unique_count": 1103,
                    "nan_count": 112,
                    "min": 3.01,
                    "max": 522.718,
                    "histogram": [
                      {
                        "bin_start": 3.01,
                        "bin_end": 54.980799999999995,
                        "count": 867
                      },
                      {
                        "bin_start": 54.980799999999995,
                        "bin_end": 106.9516,
                        "count": 200
                      },
                      {
                        "bin_start": 106.9516,
                        "bin_end": 158.92239999999998,
                        "count": 23
                      },
                      {
                        "bin_start": 158.92239999999998,
                        "bin_end": 210.89319999999998,
                        "count": 6
                      },
                      {
                        "bin_start": 210.89319999999998,
                        "bin_end": 262.864,
                        "count": 0
                      },
                      {
                        "bin_start": 262.864,
                        "bin_end": 314.8348,
                        "count": 1
                      },
                      {
                        "bin_start": 314.8348,
                        "bin_end": 366.80559999999997,
                        "count": 2
                      },
                      {
                        "bin_start": 366.80559999999997,
                        "bin_end": 418.77639999999997,
                        "count": 2
                      },
                      {
                        "bin_start": 418.77639999999997,
                        "bin_end": 470.74719999999996,
                        "count": 1
                      },
                      {
                        "bin_start": 470.74719999999996,
                        "bin_end": 522.718,
                        "count": 1
                      }
                    ]
                  }
                },
                {
                  "name": "mood_next_day",
                  "dtype": "float64",
                  "stats": {
                    "unique_count": 71,
                    "nan_count": 0,
                    "min": 3,
                    "max": 9.333333333333334,
                    "histogram": [
                      {
                        "bin_start": 3,
                        "bin_end": 3.6333333333333333,
                        "count": 4
                      },
                      {
                        "bin_start": 3.6333333333333333,
                        "bin_end": 4.266666666666667,
                        "count": 3
                      },
                      {
                        "bin_start": 4.266666666666667,
                        "bin_end": 4.9,
                        "count": 6
                      },
                      {
                        "bin_start": 4.9,
                        "bin_end": 5.533333333333333,
                        "count": 26
                      },
                      {
                        "bin_start": 5.533333333333333,
                        "bin_end": 6.166666666666667,
                        "count": 83
                      },
                      {
                        "bin_start": 6.166666666666667,
                        "bin_end": 6.800000000000001,
                        "count": 349
                      },
                      {
                        "bin_start": 6.800000000000001,
                        "bin_end": 7.433333333333334,
                        "count": 432
                      },
                      {
                        "bin_start": 7.433333333333334,
                        "bin_end": 8.066666666666666,
                        "count": 269
                      },
                      {
                        "bin_start": 8.066666666666666,
                        "bin_end": 8.700000000000001,
                        "count": 38
                      },
                      {
                        "bin_start": 8.700000000000001,
                        "bin_end": 9.333333333333334,
                        "count": 5
                      }
                    ]
                  }
                },
                {
                  "name": "average_soc",
                  "dtype": "float64",
                  "stats": {
                    "unique_count": 925,
                    "nan_count": 290,
                    "min": 0.725,
                    "max": 3759.177625,
                    "histogram": [
                      {
                        "bin_start": 0.725,
                        "bin_end": 376.5702625,
                        "count": 917
                      },
                      {
                        "bin_start": 376.5702625,
                        "bin_end": 752.415525,
                        "count": 4
                      },
                      {
                        "bin_start": 752.415525,
                        "bin_end": 1128.2607874999999,
                        "count": 3
                      },
                      {
                        "bin_start": 1128.2607874999999,
                        "bin_end": 1504.1060499999999,
                        "count": 0
                      },
                      {
                        "bin_start": 1504.1060499999999,
                        "bin_end": 1879.9513124999999,
                        "count": 0
                      },
                      {
                        "bin_start": 1879.9513124999999,
                        "bin_end": 2255.796575,
                        "count": 0
                      },
                      {
                        "bin_start": 2255.796575,
                        "bin_end": 2631.6418375,
                        "count": 0
                      },
                      {
                        "bin_start": 2631.6418375,
                        "bin_end": 3007.4871,
                        "count": 0
                      },
                      {
                        "bin_start": 3007.4871,
                        "bin_end": 3383.3323625,
                        "count": 0
                      },
                      {
                        "bin_start": 3383.3323625,
                        "bin_end": 3759.177625,
                        "count": 1
                      }
                    ]
                  }
                },
                {
                  "name": "_deepnote_index_column",
                  "dtype": "int64"
                }
              ],
              "rows_top": [
                {
                  "unique_id": "2014-02-26_AS14.01",
                  "id": "AS14.01",
                  "date": "2014-02-26",
                  "average_mood": 6.25,
                  "total_calls": "nan",
                  "total_sms": "nan",
                  "average_com": "nan",
                  "mood_next_day": 6.25,
                  "average_soc": "nan",
                  "_deepnote_index_column": 0
                },
                {
                  "unique_id": "2014-03-21_AS14.01",
                  "id": "AS14.01",
                  "date": "2014-03-21",
                  "average_mood": 6.25,
                  "total_calls": "6.0",
                  "total_sms": "nan",
                  "average_com": "55.0955263157895",
                  "mood_next_day": 6.4,
                  "average_soc": "75.14166666666668",
                  "_deepnote_index_column": 1
                },
                {
                  "unique_id": "2014-03-22_AS14.01",
                  "id": "AS14.01",
                  "date": "2014-03-22",
                  "average_mood": 6.4,
                  "total_calls": "nan",
                  "total_sms": "nan",
                  "average_com": "51.697062500000015",
                  "mood_next_day": 6.8,
                  "average_soc": "36.63599999999999",
                  "_deepnote_index_column": 2
                },
                {
                  "unique_id": "2014-03-23_AS14.01",
                  "id": "AS14.01",
                  "date": "2014-03-23",
                  "average_mood": 6.8,
                  "total_calls": "nan",
                  "total_sms": "nan",
                  "average_com": "53.442030612244885",
                  "mood_next_day": 6,
                  "average_soc": "50.04661111111111",
                  "_deepnote_index_column": 3
                },
                {
                  "unique_id": "2014-03-24_AS14.01",
                  "id": "AS14.01",
                  "date": "2014-03-24",
                  "average_mood": 6,
                  "total_calls": "nan",
                  "total_sms": "nan",
                  "average_com": "47.54168717948718",
                  "mood_next_day": 6.75,
                  "average_soc": "74.96804651162789",
                  "_deepnote_index_column": 4
                },
                {
                  "unique_id": "2014-03-25_AS14.01",
                  "id": "AS14.01",
                  "date": "2014-03-25",
                  "average_mood": 6.75,
                  "total_calls": "nan",
                  "total_sms": "nan",
                  "average_com": "69.43750675675675",
                  "mood_next_day": 6.6,
                  "average_soc": "68.55253571428571",
                  "_deepnote_index_column": 5
                },
                {
                  "unique_id": "2014-03-26_AS14.01",
                  "id": "AS14.01",
                  "date": "2014-03-26",
                  "average_mood": 6.6,
                  "total_calls": "nan",
                  "total_sms": "nan",
                  "average_com": "47.061534031413615",
                  "mood_next_day": 7,
                  "average_soc": "124.10970270270268",
                  "_deepnote_index_column": 6
                },
                {
                  "unique_id": "2014-03-27_AS14.01",
                  "id": "AS14.01",
                  "date": "2014-03-27",
                  "average_mood": 7,
                  "total_calls": "15.0",
                  "total_sms": "nan",
                  "average_com": "43.3532",
                  "mood_next_day": 6.4,
                  "average_soc": "71.95238461538462",
                  "_deepnote_index_column": 7
                },
                {
                  "unique_id": "2014-03-28_AS14.01",
                  "id": "AS14.01",
                  "date": "2014-03-28",
                  "average_mood": 6.4,
                  "total_calls": "5.0",
                  "total_sms": "nan",
                  "average_com": "24.078694444444444",
                  "mood_next_day": 8,
                  "average_soc": "25.63705",
                  "_deepnote_index_column": 8
                },
                {
                  "unique_id": "2014-03-29_AS14.01",
                  "id": "AS14.01",
                  "date": "2014-03-29",
                  "average_mood": 8,
                  "total_calls": "nan",
                  "total_sms": "nan",
                  "average_com": "47.73143859649123",
                  "mood_next_day": 7.5,
                  "average_soc": "59.111",
                  "_deepnote_index_column": 9
                },
                {
                  "unique_id": "2014-03-30_AS14.01",
                  "id": "AS14.01",
                  "date": "2014-03-30",
                  "average_mood": 7.5,
                  "total_calls": "nan",
                  "total_sms": "nan",
                  "average_com": "61.83357142857143",
                  "mood_next_day": 7.4,
                  "average_soc": "55.895",
                  "_deepnote_index_column": 10
                },
                {
                  "unique_id": "2014-03-31_AS14.01",
                  "id": "AS14.01",
                  "date": "2014-03-31",
                  "average_mood": 7.4,
                  "total_calls": "10.0",
                  "total_sms": "nan",
                  "average_com": "41.33827131782945",
                  "mood_next_day": 6,
                  "average_soc": "56.277291666666656",
                  "_deepnote_index_column": 11
                },
                {
                  "unique_id": "2014-04-01_AS14.01",
                  "id": "AS14.01",
                  "date": "2014-04-01",
                  "average_mood": 6,
                  "total_calls": "1.0",
                  "total_sms": "nan",
                  "average_com": "33.12785869565218",
                  "mood_next_day": 6.5,
                  "average_soc": "45.81879090909093",
                  "_deepnote_index_column": 12
                },
                {
                  "unique_id": "2014-04-02_AS14.01",
                  "id": "AS14.01",
                  "date": "2014-04-02",
                  "average_mood": 6.5,
                  "total_calls": "4.0",
                  "total_sms": "nan",
                  "average_com": "33.75685853658536",
                  "mood_next_day": 6.4,
                  "average_soc": "64.69418867924529",
                  "_deepnote_index_column": 13
                },
                {
                  "unique_id": "2014-04-03_AS14.01",
                  "id": "AS14.01",
                  "date": "2014-04-03",
                  "average_mood": 6.4,
                  "total_calls": "4.0",
                  "total_sms": "nan",
                  "average_com": "46.42470096463021",
                  "mood_next_day": 6.2,
                  "average_soc": "44.4259295774648",
                  "_deepnote_index_column": 14
                },
                {
                  "unique_id": "2014-04-04_AS14.01",
                  "id": "AS14.01",
                  "date": "2014-04-04",
                  "average_mood": 6.2,
                  "total_calls": "nan",
                  "total_sms": "nan",
                  "average_com": "44.566081300813",
                  "mood_next_day": 6.8,
                  "average_soc": "71.93782758620691",
                  "_deepnote_index_column": 15
                },
                {
                  "unique_id": "2014-04-05_AS14.01",
                  "id": "AS14.01",
                  "date": "2014-04-05",
                  "average_mood": 6.8,
                  "total_calls": "nan",
                  "total_sms": "nan",
                  "average_com": "37.70818",
                  "mood_next_day": 6.5,
                  "average_soc": "45.401",
                  "_deepnote_index_column": 16
                },
                {
                  "unique_id": "2014-04-06_AS14.01",
                  "id": "AS14.01",
                  "date": "2014-04-06",
                  "average_mood": 6.5,
                  "total_calls": "6.0",
                  "total_sms": "nan",
                  "average_com": "47.939185714285735",
                  "mood_next_day": 6.5,
                  "average_soc": "64.292",
                  "_deepnote_index_column": 17
                },
                {
                  "unique_id": "2014-04-07_AS14.01",
                  "id": "AS14.01",
                  "date": "2014-04-07",
                  "average_mood": 6.5,
                  "total_calls": "1.0",
                  "total_sms": "nan",
                  "average_com": "57.01562015503877",
                  "mood_next_day": 6.6,
                  "average_soc": "61.47575",
                  "_deepnote_index_column": 18
                },
                {
                  "unique_id": "2014-04-08_AS14.01",
                  "id": "AS14.01",
                  "date": "2014-04-08",
                  "average_mood": 6.6,
                  "total_calls": "1.0",
                  "total_sms": "nan",
                  "average_com": "49.10649222797928",
                  "mood_next_day": 7.4,
                  "average_soc": "59.00268888888889",
                  "_deepnote_index_column": 19
                },
                {
                  "unique_id": "2014-04-09_AS14.01",
                  "id": "AS14.01",
                  "date": "2014-04-09",
                  "average_mood": 7.4,
                  "total_calls": "4.0",
                  "total_sms": "nan",
                  "average_com": "38.130098765432095",
                  "mood_next_day": 7.4,
                  "average_soc": "44.161718750000006",
                  "_deepnote_index_column": 20
                },
                {
                  "unique_id": "2014-04-10_AS14.01",
                  "id": "AS14.01",
                  "date": "2014-04-10",
                  "average_mood": 7.4,
                  "total_calls": "nan",
                  "total_sms": "nan",
                  "average_com": "65.08548",
                  "mood_next_day": 7,
                  "average_soc": "39.15723333333335",
                  "_deepnote_index_column": 21
                },
                {
                  "unique_id": "2014-04-11_AS14.01",
                  "id": "AS14.01",
                  "date": "2014-04-11",
                  "average_mood": 7,
                  "total_calls": "nan",
                  "total_sms": "nan",
                  "average_com": "27.57514049586778",
                  "mood_next_day": 7.25,
                  "average_soc": "45.90823076923077",
                  "_deepnote_index_column": 22
                },
                {
                  "unique_id": "2014-04-12_AS14.01",
                  "id": "AS14.01",
                  "date": "2014-04-12",
                  "average_mood": 7.25,
                  "total_calls": "nan",
                  "total_sms": "nan",
                  "average_com": "143.37136956521735",
                  "mood_next_day": 8,
                  "average_soc": "44.072",
                  "_deepnote_index_column": 23
                },
                {
                  "unique_id": "2014-04-13_AS14.01",
                  "id": "AS14.01",
                  "date": "2014-04-13",
                  "average_mood": 8,
                  "total_calls": "nan",
                  "total_sms": "nan",
                  "average_com": "47.686739130434766",
                  "mood_next_day": 7.2,
                  "average_soc": "17.250999999999998",
                  "_deepnote_index_column": 24
                },
                {
                  "unique_id": "2014-04-14_AS14.01",
                  "id": "AS14.01",
                  "date": "2014-04-14",
                  "average_mood": 7.2,
                  "total_calls": "8.0",
                  "total_sms": "8.0",
                  "average_com": "51.478444444444456",
                  "mood_next_day": 6.4,
                  "average_soc": "162.3325",
                  "_deepnote_index_column": 25
                },
                {
                  "unique_id": "2014-04-15_AS14.01",
                  "id": "AS14.01",
                  "date": "2014-04-15",
                  "average_mood": 6.4,
                  "total_calls": "nan",
                  "total_sms": "1.0",
                  "average_com": "40.681248366013065",
                  "mood_next_day": 7.2,
                  "average_soc": "100.6411363636364",
                  "_deepnote_index_column": 26
                },
                {
                  "unique_id": "2014-04-16_AS14.01",
                  "id": "AS14.01",
                  "date": "2014-04-16",
                  "average_mood": 7.2,
                  "total_calls": "nan",
                  "total_sms": "nan",
                  "average_com": "36.9644",
                  "mood_next_day": 6.6,
                  "average_soc": "65.96041379310344",
                  "_deepnote_index_column": 27
                },
                {
                  "unique_id": "2014-04-17_AS14.01",
                  "id": "AS14.01",
                  "date": "2014-04-17",
                  "average_mood": 6.6,
                  "total_calls": "10.0",
                  "total_sms": "nan",
                  "average_com": "108.74622935779814",
                  "mood_next_day": 6.8,
                  "average_soc": "70.2382",
                  "_deepnote_index_column": 28
                },
                {
                  "unique_id": "2014-04-18_AS14.01",
                  "id": "AS14.01",
                  "date": "2014-04-18",
                  "average_mood": 6.8,
                  "total_calls": "1.0",
                  "total_sms": "nan",
                  "average_com": "65.14215853658536",
                  "mood_next_day": 7.8,
                  "average_soc": "199.3922",
                  "_deepnote_index_column": 29
                },
                {
                  "unique_id": "2014-04-19_AS14.01",
                  "id": "AS14.01",
                  "date": "2014-04-19",
                  "average_mood": 7.8,
                  "total_calls": "1.0",
                  "total_sms": "nan",
                  "average_com": "35.43194805194805",
                  "mood_next_day": 7.25,
                  "average_soc": "36.06109090909092",
                  "_deepnote_index_column": 30
                },
                {
                  "unique_id": "2014-04-20_AS14.01",
                  "id": "AS14.01",
                  "date": "2014-04-20",
                  "average_mood": 7.25,
                  "total_calls": "2.0",
                  "total_sms": "nan",
                  "average_com": "57.29567816091953",
                  "mood_next_day": 7.6,
                  "average_soc": "93.23924999999998",
                  "_deepnote_index_column": 31
                },
                {
                  "unique_id": "2014-04-21_AS14.01",
                  "id": "AS14.01",
                  "date": "2014-04-21",
                  "average_mood": 7.6,
                  "total_calls": "2.0",
                  "total_sms": "nan",
                  "average_com": "43.57276086956523",
                  "mood_next_day": 7.4,
                  "average_soc": "61.28171428571429",
                  "_deepnote_index_column": 32
                },
                {
                  "unique_id": "2014-04-22_AS14.01",
                  "id": "AS14.01",
                  "date": "2014-04-22",
                  "average_mood": 7.4,
                  "total_calls": "2.0",
                  "total_sms": "nan",
                  "average_com": "46.75272839506176",
                  "mood_next_day": 7.6,
                  "average_soc": "67.74038095238095",
                  "_deepnote_index_column": 33
                },
                {
                  "unique_id": "2014-04-23_AS14.01",
                  "id": "AS14.01",
                  "date": "2014-04-23",
                  "average_mood": 7.6,
                  "total_calls": "1.0",
                  "total_sms": "nan",
                  "average_com": "54.11195151515149",
                  "mood_next_day": 7.6,
                  "average_soc": "43.88316666666666",
                  "_deepnote_index_column": 34
                },
                {
                  "unique_id": "2014-04-24_AS14.01",
                  "id": "AS14.01",
                  "date": "2014-04-24",
                  "average_mood": 7.6,
                  "total_calls": "1.0",
                  "total_sms": "nan",
                  "average_com": "64.61422000000002",
                  "mood_next_day": 7.2,
                  "average_soc": "76.8153142857143",
                  "_deepnote_index_column": 35
                },
                {
                  "unique_id": "2014-04-25_AS14.01",
                  "id": "AS14.01",
                  "date": "2014-04-25",
                  "average_mood": 7.2,
                  "total_calls": "2.0",
                  "total_sms": "4.0",
                  "average_com": "51.261577464788736",
                  "mood_next_day": 7.6,
                  "average_soc": "96.85626086956522",
                  "_deepnote_index_column": 36
                },
                {
                  "unique_id": "2014-04-26_AS14.01",
                  "id": "AS14.01",
                  "date": "2014-04-26",
                  "average_mood": 7.6,
                  "total_calls": "nan",
                  "total_sms": "nan",
                  "average_com": "59.7176046511628",
                  "mood_next_day": 7.5,
                  "average_soc": "789.459",
                  "_deepnote_index_column": 37
                },
                {
                  "unique_id": "2014-04-27_AS14.01",
                  "id": "AS14.01",
                  "date": "2014-04-27",
                  "average_mood": 7.5,
                  "total_calls": "nan",
                  "total_sms": "nan",
                  "average_com": "50.656208333333325",
                  "mood_next_day": 7.6,
                  "average_soc": "13.735",
                  "_deepnote_index_column": 38
                },
                {
                  "unique_id": "2014-04-28_AS14.01",
                  "id": "AS14.01",
                  "date": "2014-04-28",
                  "average_mood": 7.6,
                  "total_calls": "nan",
                  "total_sms": "nan",
                  "average_com": "55.26320000000001",
                  "mood_next_day": 7,
                  "average_soc": "201.99441666666667",
                  "_deepnote_index_column": 39
                },
                {
                  "unique_id": "2014-04-29_AS14.01",
                  "id": "AS14.01",
                  "date": "2014-04-29",
                  "average_mood": 7,
                  "total_calls": "nan",
                  "total_sms": "nan",
                  "average_com": "48.53981012658227",
                  "mood_next_day": 7.8,
                  "average_soc": "102.87125",
                  "_deepnote_index_column": 40
                },
                {
                  "unique_id": "2014-04-30_AS14.01",
                  "id": "AS14.01",
                  "date": "2014-04-30",
                  "average_mood": 7.8,
                  "total_calls": "6.0",
                  "total_sms": "nan",
                  "average_com": "34.14055769230769",
                  "mood_next_day": 8,
                  "average_soc": "9.907333333333332",
                  "_deepnote_index_column": 41
                },
                {
                  "unique_id": "2014-05-01_AS14.01",
                  "id": "AS14.01",
                  "date": "2014-05-01",
                  "average_mood": 8,
                  "total_calls": "nan",
                  "total_sms": "nan",
                  "average_com": "40.753283582089566",
                  "mood_next_day": 7.6,
                  "average_soc": "144.67476470588238",
                  "_deepnote_index_column": 42
                },
                {
                  "unique_id": "2014-05-02_AS14.01",
                  "id": "AS14.01",
                  "date": "2014-05-02",
                  "average_mood": 7.6,
                  "total_calls": "nan",
                  "total_sms": "nan",
                  "average_com": "58.2788088235294",
                  "mood_next_day": 8,
                  "average_soc": "45.36858823529411",
                  "_deepnote_index_column": 43
                },
                {
                  "unique_id": "2014-05-03_AS14.01",
                  "id": "AS14.01",
                  "date": "2014-05-03",
                  "average_mood": 8,
                  "total_calls": "nan",
                  "total_sms": "nan",
                  "average_com": "74.42255737704915",
                  "mood_next_day": 7.285714285714286,
                  "average_soc": "22.84466666666667",
                  "_deepnote_index_column": 44
                },
                {
                  "unique_id": "2014-03-16_AS14.02",
                  "id": "AS14.02",
                  "date": "2014-03-16",
                  "average_mood": 7.285714285714286,
                  "total_calls": "4.0",
                  "total_sms": "nan",
                  "average_com": "47.04222388059701",
                  "mood_next_day": 6.75,
                  "average_soc": "10.681823529411766",
                  "_deepnote_index_column": 45
                },
                {
                  "unique_id": "2014-03-17_AS14.02",
                  "id": "AS14.02",
                  "date": "2014-03-17",
                  "average_mood": 6.75,
                  "total_calls": "4.0",
                  "total_sms": "nan",
                  "average_com": "47.5591157894737",
                  "mood_next_day": 8.2,
                  "average_soc": "10.3028",
                  "_deepnote_index_column": 46
                },
                {
                  "unique_id": "2014-03-18_AS14.02",
                  "id": "AS14.02",
                  "date": "2014-03-18",
                  "average_mood": 8.2,
                  "total_calls": "15.0",
                  "total_sms": "3.0",
                  "average_com": "33.051100840336126",
                  "mood_next_day": 6.8,
                  "average_soc": "11.177052631578944",
                  "_deepnote_index_column": 47
                },
                {
                  "unique_id": "2014-03-19_AS14.02",
                  "id": "AS14.02",
                  "date": "2014-03-19",
                  "average_mood": 6.8,
                  "total_calls": "5.0",
                  "total_sms": "1.0",
                  "average_com": "32.87327848101265",
                  "mood_next_day": 7.25,
                  "average_soc": "9.563",
                  "_deepnote_index_column": 48
                },
                {
                  "unique_id": "2014-03-20_AS14.02",
                  "id": "AS14.02",
                  "date": "2014-03-20",
                  "average_mood": 7.25,
                  "total_calls": "10.0",
                  "total_sms": "1.0",
                  "average_com": "31.68192647058823",
                  "mood_next_day": 7.5,
                  "average_soc": "14.622000000000002",
                  "_deepnote_index_column": 49
                },
                {
                  "unique_id": "2014-03-21_AS14.02",
                  "id": "AS14.02",
                  "date": "2014-03-21",
                  "average_mood": 7.5,
                  "total_calls": "10.0",
                  "total_sms": "1.0",
                  "average_com": "44.66321875000002",
                  "mood_next_day": 6.5,
                  "average_soc": "16.167541666666665",
                  "_deepnote_index_column": 50
                },
                {
                  "unique_id": "2014-03-22_AS14.02",
                  "id": "AS14.02",
                  "date": "2014-03-22",
                  "average_mood": 6.5,
                  "total_calls": "25.0",
                  "total_sms": "1.0",
                  "average_com": "21.791247058823537",
                  "mood_next_day": 6.25,
                  "average_soc": "10.754394736842103",
                  "_deepnote_index_column": 51
                },
                {
                  "unique_id": "2014-03-23_AS14.02",
                  "id": "AS14.02",
                  "date": "2014-03-23",
                  "average_mood": 6.25,
                  "total_calls": "8.0",
                  "total_sms": "nan",
                  "average_com": "36.79798",
                  "mood_next_day": 6.4,
                  "average_soc": "19.110444444444443",
                  "_deepnote_index_column": 52
                },
                {
                  "unique_id": "2014-03-24_AS14.02",
                  "id": "AS14.02",
                  "date": "2014-03-24",
                  "average_mood": 6.4,
                  "total_calls": "5.0",
                  "total_sms": "nan",
                  "average_com": "48.58356451612903",
                  "mood_next_day": 7.75,
                  "average_soc": "17.907769230769233",
                  "_deepnote_index_column": 53
                },
                {
                  "unique_id": "2014-03-25_AS14.02",
                  "id": "AS14.02",
                  "date": "2014-03-25",
                  "average_mood": 7.75,
                  "total_calls": "7.0",
                  "total_sms": "nan",
                  "average_com": "38.20206849315068",
                  "mood_next_day": 7.2,
                  "average_soc": "11.419",
                  "_deepnote_index_column": 54
                }
              ],
              "rows_bottom": [
                {
                  "unique_id": "2014-04-16_AS14.32",
                  "id": "AS14.32",
                  "date": "2014-04-16",
                  "average_mood": 8.5,
                  "total_calls": "7.0",
                  "total_sms": "nan",
                  "average_com": 49.0670487804878,
                  "mood_next_day": 8.5,
                  "average_soc": "363.157",
                  "_deepnote_index_column": 1159
                },
                {
                  "unique_id": "2014-04-17_AS14.32",
                  "id": "AS14.32",
                  "date": "2014-04-17",
                  "average_mood": 8.5,
                  "total_calls": "4.0",
                  "total_sms": "nan",
                  "average_com": 36.93426470588236,
                  "mood_next_day": 7,
                  "average_soc": "nan",
                  "_deepnote_index_column": 1160
                },
                {
                  "unique_id": "2014-04-23_AS14.32",
                  "id": "AS14.32",
                  "date": "2014-04-23",
                  "average_mood": 7,
                  "total_calls": "3.0",
                  "total_sms": "nan",
                  "average_com": 52.9965,
                  "mood_next_day": 8,
                  "average_soc": "53.1365",
                  "_deepnote_index_column": 1161
                },
                {
                  "unique_id": "2014-04-24_AS14.32",
                  "id": "AS14.32",
                  "date": "2014-04-24",
                  "average_mood": 8,
                  "total_calls": "9.0",
                  "total_sms": "nan",
                  "average_com": 53.60830769230771,
                  "mood_next_day": 7.333333333333333,
                  "average_soc": "56.17",
                  "_deepnote_index_column": 1162
                },
                {
                  "unique_id": "2014-04-27_AS14.32",
                  "id": "AS14.32",
                  "date": "2014-04-27",
                  "average_mood": 7.333333333333333,
                  "total_calls": "10.0",
                  "total_sms": "nan",
                  "average_com": 31.331529411764706,
                  "mood_next_day": 7.5,
                  "average_soc": "134.403",
                  "_deepnote_index_column": 1163
                },
                {
                  "unique_id": "2014-04-28_AS14.32",
                  "id": "AS14.32",
                  "date": "2014-04-28",
                  "average_mood": 7.5,
                  "total_calls": "7.0",
                  "total_sms": "nan",
                  "average_com": 74.80174285714286,
                  "mood_next_day": 8,
                  "average_soc": "nan",
                  "_deepnote_index_column": 1164
                },
                {
                  "unique_id": "2014-04-29_AS14.32",
                  "id": "AS14.32",
                  "date": "2014-04-29",
                  "average_mood": 8,
                  "total_calls": "5.0",
                  "total_sms": "nan",
                  "average_com": 50.06085,
                  "mood_next_day": 7,
                  "average_soc": "nan",
                  "_deepnote_index_column": 1165
                },
                {
                  "unique_id": "2014-04-30_AS14.32",
                  "id": "AS14.32",
                  "date": "2014-04-30",
                  "average_mood": 7,
                  "total_calls": "6.0",
                  "total_sms": "nan",
                  "average_com": 77.7734347826087,
                  "mood_next_day": 7,
                  "average_soc": "nan",
                  "_deepnote_index_column": 1166
                },
                {
                  "unique_id": "2014-05-01_AS14.32",
                  "id": "AS14.32",
                  "date": "2014-05-01",
                  "average_mood": 7,
                  "total_calls": "9.0",
                  "total_sms": "nan",
                  "average_com": 55.51560784313725,
                  "mood_next_day": 7.25,
                  "average_soc": "nan",
                  "_deepnote_index_column": 1167
                },
                {
                  "unique_id": "2014-05-02_AS14.32",
                  "id": "AS14.32",
                  "date": "2014-05-02",
                  "average_mood": 7.25,
                  "total_calls": "10.0",
                  "total_sms": "nan",
                  "average_com": 48.43923913043478,
                  "mood_next_day": 7.5,
                  "average_soc": "nan",
                  "_deepnote_index_column": 1168
                },
                {
                  "unique_id": "2014-05-03_AS14.32",
                  "id": "AS14.32",
                  "date": "2014-05-03",
                  "average_mood": 7.5,
                  "total_calls": "2.0",
                  "total_sms": "nan",
                  "average_com": 90.41047368421054,
                  "mood_next_day": 8.666666666666666,
                  "average_soc": "53.183",
                  "_deepnote_index_column": 1169
                },
                {
                  "unique_id": "2014-05-04_AS14.32",
                  "id": "AS14.32",
                  "date": "2014-05-04",
                  "average_mood": 8.666666666666666,
                  "total_calls": "1.0",
                  "total_sms": "nan",
                  "average_com": 96.50785185185184,
                  "mood_next_day": 6.5,
                  "average_soc": "107.5235",
                  "_deepnote_index_column": 1170
                },
                {
                  "unique_id": "2014-05-07_AS14.32",
                  "id": "AS14.32",
                  "date": "2014-05-07",
                  "average_mood": 6.5,
                  "total_calls": "4.0",
                  "total_sms": "nan",
                  "average_com": 50.695775000000005,
                  "mood_next_day": 6,
                  "average_soc": "1.007",
                  "_deepnote_index_column": 1171
                },
                {
                  "unique_id": "2014-05-08_AS14.32",
                  "id": "AS14.32",
                  "date": "2014-05-08",
                  "average_mood": 6,
                  "total_calls": "13.0",
                  "total_sms": "nan",
                  "average_com": 65.3241964285714,
                  "mood_next_day": 7.75,
                  "average_soc": "nan",
                  "_deepnote_index_column": 1172
                },
                {
                  "unique_id": "2014-05-09_AS14.32",
                  "id": "AS14.32",
                  "date": "2014-05-09",
                  "average_mood": 7.75,
                  "total_calls": "9.0",
                  "total_sms": "nan",
                  "average_com": 36.01437499999999,
                  "mood_next_day": 7.25,
                  "average_soc": "nan",
                  "_deepnote_index_column": 1173
                },
                {
                  "unique_id": "2014-05-10_AS14.32",
                  "id": "AS14.32",
                  "date": "2014-05-10",
                  "average_mood": 7.25,
                  "total_calls": "6.0",
                  "total_sms": "nan",
                  "average_com": 58.09113725490198,
                  "mood_next_day": 7.2,
                  "average_soc": "nan",
                  "_deepnote_index_column": 1174
                },
                {
                  "unique_id": "2014-05-11_AS14.32",
                  "id": "AS14.32",
                  "date": "2014-05-11",
                  "average_mood": 7.2,
                  "total_calls": "nan",
                  "total_sms": "nan",
                  "average_com": 71.62205555555555,
                  "mood_next_day": 7.125,
                  "average_soc": "nan",
                  "_deepnote_index_column": 1175
                },
                {
                  "unique_id": "2014-04-16_AS14.33",
                  "id": "AS14.33",
                  "date": "2014-04-16",
                  "average_mood": 7.125,
                  "total_calls": "5.0",
                  "total_sms": "nan",
                  "average_com": 38.19055172413793,
                  "mood_next_day": 7.2,
                  "average_soc": "127.33012121212118",
                  "_deepnote_index_column": 1176
                },
                {
                  "unique_id": "2014-04-17_AS14.33",
                  "id": "AS14.33",
                  "date": "2014-04-17",
                  "average_mood": 7.2,
                  "total_calls": "2.0",
                  "total_sms": "nan",
                  "average_com": 34.20580000000001,
                  "mood_next_day": 7.4,
                  "average_soc": "75.53092941176469",
                  "_deepnote_index_column": 1177
                },
                {
                  "unique_id": "2014-04-18_AS14.33",
                  "id": "AS14.33",
                  "date": "2014-04-18",
                  "average_mood": 7.4,
                  "total_calls": "3.0",
                  "total_sms": "nan",
                  "average_com": 70.52065384615385,
                  "mood_next_day": 7.666666666666667,
                  "average_soc": "118.5243962264151",
                  "_deepnote_index_column": 1178
                },
                {
                  "unique_id": "2014-04-19_AS14.33",
                  "id": "AS14.33",
                  "date": "2014-04-19",
                  "average_mood": 7.666666666666667,
                  "total_calls": "nan",
                  "total_sms": "nan",
                  "average_com": 147.75922222222223,
                  "mood_next_day": 7.4,
                  "average_soc": "136.55393103448273",
                  "_deepnote_index_column": 1179
                },
                {
                  "unique_id": "2014-04-20_AS14.33",
                  "id": "AS14.33",
                  "date": "2014-04-20",
                  "average_mood": 7.4,
                  "total_calls": "nan",
                  "total_sms": "nan",
                  "average_com": 70.02726086956521,
                  "mood_next_day": 7.2,
                  "average_soc": "79.68253191489363",
                  "_deepnote_index_column": 1180
                },
                {
                  "unique_id": "2014-04-21_AS14.33",
                  "id": "AS14.33",
                  "date": "2014-04-21",
                  "average_mood": 7.2,
                  "total_calls": "nan",
                  "total_sms": "nan",
                  "average_com": 63.20204545454544,
                  "mood_next_day": 6.2,
                  "average_soc": "152.3876833333333",
                  "_deepnote_index_column": 1181
                },
                {
                  "unique_id": "2014-04-22_AS14.33",
                  "id": "AS14.33",
                  "date": "2014-04-22",
                  "average_mood": 6.2,
                  "total_calls": "9.0",
                  "total_sms": "nan",
                  "average_com": 46.916821428571424,
                  "mood_next_day": 5.2,
                  "average_soc": "91.80608333333336",
                  "_deepnote_index_column": 1182
                },
                {
                  "unique_id": "2014-04-23_AS14.33",
                  "id": "AS14.33",
                  "date": "2014-04-23",
                  "average_mood": 5.2,
                  "total_calls": "1.0",
                  "total_sms": "nan",
                  "average_com": 30.690777777777782,
                  "mood_next_day": 7,
                  "average_soc": "140.56908823529417",
                  "_deepnote_index_column": 1183
                },
                {
                  "unique_id": "2014-04-24_AS14.33",
                  "id": "AS14.33",
                  "date": "2014-04-24",
                  "average_mood": 7,
                  "total_calls": "5.0",
                  "total_sms": "5.0",
                  "average_com": 52.47904166666666,
                  "mood_next_day": 8.4,
                  "average_soc": "80.1635652173913",
                  "_deepnote_index_column": 1184
                },
                {
                  "unique_id": "2014-04-25_AS14.33",
                  "id": "AS14.33",
                  "date": "2014-04-25",
                  "average_mood": 8.4,
                  "total_calls": "31.0",
                  "total_sms": "2.0",
                  "average_com": 28.73631914893617,
                  "mood_next_day": 7.6,
                  "average_soc": "45.21737704918032",
                  "_deepnote_index_column": 1185
                },
                {
                  "unique_id": "2014-04-26_AS14.33",
                  "id": "AS14.33",
                  "date": "2014-04-26",
                  "average_mood": 7.6,
                  "total_calls": "18.0",
                  "total_sms": "nan",
                  "average_com": 30.114727272727272,
                  "mood_next_day": 6.2,
                  "average_soc": "51.19739344262295",
                  "_deepnote_index_column": 1186
                },
                {
                  "unique_id": "2014-04-27_AS14.33",
                  "id": "AS14.33",
                  "date": "2014-04-27",
                  "average_mood": 6.2,
                  "total_calls": "4.0",
                  "total_sms": "nan",
                  "average_com": 64.68579166666665,
                  "mood_next_day": 6.75,
                  "average_soc": "135.49050819672132",
                  "_deepnote_index_column": 1187
                },
                {
                  "unique_id": "2014-04-28_AS14.33",
                  "id": "AS14.33",
                  "date": "2014-04-28",
                  "average_mood": 6.75,
                  "total_calls": "2.0",
                  "total_sms": "5.0",
                  "average_com": 70.9519090909091,
                  "mood_next_day": 6.2,
                  "average_soc": "70.12939000000001",
                  "_deepnote_index_column": 1188
                },
                {
                  "unique_id": "2014-04-29_AS14.33",
                  "id": "AS14.33",
                  "date": "2014-04-29",
                  "average_mood": 6.2,
                  "total_calls": "3.0",
                  "total_sms": "nan",
                  "average_com": 37.49181818181819,
                  "mood_next_day": 6.4,
                  "average_soc": "81.46556578947367",
                  "_deepnote_index_column": 1189
                },
                {
                  "unique_id": "2014-04-30_AS14.33",
                  "id": "AS14.33",
                  "date": "2014-04-30",
                  "average_mood": 6.4,
                  "total_calls": "1.0",
                  "total_sms": "nan",
                  "average_com": 35.329947368421045,
                  "mood_next_day": 7.5,
                  "average_soc": "96.54433333333331",
                  "_deepnote_index_column": 1190
                },
                {
                  "unique_id": "2014-05-04_AS14.33",
                  "id": "AS14.33",
                  "date": "2014-05-04",
                  "average_mood": 7.5,
                  "total_calls": "11.0",
                  "total_sms": "nan",
                  "average_com": 38.915625,
                  "mood_next_day": 6.125,
                  "average_soc": "74.07040740740742",
                  "_deepnote_index_column": 1191
                },
                {
                  "unique_id": "2014-05-07_AS14.33",
                  "id": "AS14.33",
                  "date": "2014-05-07",
                  "average_mood": 6.125,
                  "total_calls": "1.0",
                  "total_sms": "nan",
                  "average_com": 7.083,
                  "mood_next_day": 6.6,
                  "average_soc": "133.237",
                  "_deepnote_index_column": 1192
                },
                {
                  "unique_id": "2014-05-08_AS14.33",
                  "id": "AS14.33",
                  "date": "2014-05-08",
                  "average_mood": 6.6,
                  "total_calls": "nan",
                  "total_sms": "nan",
                  "average_com": 63.08873333333332,
                  "mood_next_day": 4.8,
                  "average_soc": "158.47776315789474",
                  "_deepnote_index_column": 1193
                },
                {
                  "unique_id": "2014-05-09_AS14.33",
                  "id": "AS14.33",
                  "date": "2014-05-09",
                  "average_mood": 4.8,
                  "total_calls": "nan",
                  "total_sms": "nan",
                  "average_com": 62.00627272727272,
                  "mood_next_day": 7.6,
                  "average_soc": "157.38062499999998",
                  "_deepnote_index_column": 1194
                },
                {
                  "unique_id": "2014-05-10_AS14.33",
                  "id": "AS14.33",
                  "date": "2014-05-10",
                  "average_mood": 7.6,
                  "total_calls": "nan",
                  "total_sms": "nan",
                  "average_com": 18.080583333333337,
                  "mood_next_day": 6,
                  "average_soc": "46.36496428571429",
                  "_deepnote_index_column": 1195
                },
                {
                  "unique_id": "2014-05-11_AS14.33",
                  "id": "AS14.33",
                  "date": "2014-05-11",
                  "average_mood": 6,
                  "total_calls": "nan",
                  "total_sms": "nan",
                  "average_com": 36.03921428571429,
                  "mood_next_day": 6,
                  "average_soc": "109.34063157894737",
                  "_deepnote_index_column": 1196
                },
                {
                  "unique_id": "2014-05-12_AS14.33",
                  "id": "AS14.33",
                  "date": "2014-05-12",
                  "average_mood": 6,
                  "total_calls": "13.0",
                  "total_sms": "nan",
                  "average_com": 71.05900000000001,
                  "mood_next_day": 5,
                  "average_soc": "96.1325476190476",
                  "_deepnote_index_column": 1197
                },
                {
                  "unique_id": "2014-05-13_AS14.33",
                  "id": "AS14.33",
                  "date": "2014-05-13",
                  "average_mood": 5,
                  "total_calls": "nan",
                  "total_sms": "nan",
                  "average_com": 117.31816216216212,
                  "mood_next_day": 6.833333333333333,
                  "average_soc": "70.49519148936172",
                  "_deepnote_index_column": 1198
                },
                {
                  "unique_id": "2014-05-14_AS14.33",
                  "id": "AS14.33",
                  "date": "2014-05-14",
                  "average_mood": 6.833333333333333,
                  "total_calls": "nan",
                  "total_sms": "nan",
                  "average_com": 26.813666666666663,
                  "mood_next_day": 6,
                  "average_soc": "220.86894117647057",
                  "_deepnote_index_column": 1199
                },
                {
                  "unique_id": "2014-05-15_AS14.33",
                  "id": "AS14.33",
                  "date": "2014-05-15",
                  "average_mood": 6,
                  "total_calls": "8.0",
                  "total_sms": "nan",
                  "average_com": 46.31244,
                  "mood_next_day": 7,
                  "average_soc": "83.54154117647063",
                  "_deepnote_index_column": 1200
                },
                {
                  "unique_id": "2014-05-16_AS14.33",
                  "id": "AS14.33",
                  "date": "2014-05-16",
                  "average_mood": 7,
                  "total_calls": "11.0",
                  "total_sms": "nan",
                  "average_com": 41.621538461538464,
                  "mood_next_day": 6,
                  "average_soc": "67.17041463414633",
                  "_deepnote_index_column": 1201
                },
                {
                  "unique_id": "2014-05-17_AS14.33",
                  "id": "AS14.33",
                  "date": "2014-05-17",
                  "average_mood": 6,
                  "total_calls": "nan",
                  "total_sms": "nan",
                  "average_com": 28.5698,
                  "mood_next_day": 6,
                  "average_soc": "86.96725",
                  "_deepnote_index_column": 1202
                },
                {
                  "unique_id": "2014-05-18_AS14.33",
                  "id": "AS14.33",
                  "date": "2014-05-18",
                  "average_mood": 6,
                  "total_calls": "nan",
                  "total_sms": "nan",
                  "average_com": 85.93733333333331,
                  "mood_next_day": 6.2,
                  "average_soc": "118.61031506849316",
                  "_deepnote_index_column": 1203
                },
                {
                  "unique_id": "2014-05-19_AS14.33",
                  "id": "AS14.33",
                  "date": "2014-05-19",
                  "average_mood": 6.2,
                  "total_calls": "nan",
                  "total_sms": "nan",
                  "average_com": 33.11727272727273,
                  "mood_next_day": 6.25,
                  "average_soc": "125.02726923076924",
                  "_deepnote_index_column": 1204
                },
                {
                  "unique_id": "2014-05-20_AS14.33",
                  "id": "AS14.33",
                  "date": "2014-05-20",
                  "average_mood": 6.25,
                  "total_calls": "nan",
                  "total_sms": "nan",
                  "average_com": 96.38788888888888,
                  "mood_next_day": 6,
                  "average_soc": "155.1499189189189",
                  "_deepnote_index_column": 1205
                },
                {
                  "unique_id": "2014-05-21_AS14.33",
                  "id": "AS14.33",
                  "date": "2014-05-21",
                  "average_mood": 6,
                  "total_calls": "nan",
                  "total_sms": "nan",
                  "average_com": 69.80430769230769,
                  "mood_next_day": 5.75,
                  "average_soc": "121.85502",
                  "_deepnote_index_column": 1206
                },
                {
                  "unique_id": "2014-05-22_AS14.33",
                  "id": "AS14.33",
                  "date": "2014-05-22",
                  "average_mood": 5.75,
                  "total_calls": "8.0",
                  "total_sms": "nan",
                  "average_com": 45.43628571428571,
                  "mood_next_day": 5.833333333333333,
                  "average_soc": "52.22394594594596",
                  "_deepnote_index_column": 1207
                },
                {
                  "unique_id": "2014-05-23_AS14.33",
                  "id": "AS14.33",
                  "date": "2014-05-23",
                  "average_mood": 5.833333333333333,
                  "total_calls": "nan",
                  "total_sms": "nan",
                  "average_com": 37.2525909090909,
                  "mood_next_day": 6.4,
                  "average_soc": "195.19069696969697",
                  "_deepnote_index_column": 1208
                },
                {
                  "unique_id": "2014-05-24_AS14.33",
                  "id": "AS14.33",
                  "date": "2014-05-24",
                  "average_mood": 6.4,
                  "total_calls": "nan",
                  "total_sms": "nan",
                  "average_com": 41.9242962962963,
                  "mood_next_day": 6.25,
                  "average_soc": "107.59092452830193",
                  "_deepnote_index_column": 1209
                },
                {
                  "unique_id": "2014-05-25_AS14.33",
                  "id": "AS14.33",
                  "date": "2014-05-25",
                  "average_mood": 6.25,
                  "total_calls": "3.0",
                  "total_sms": "8.0",
                  "average_com": 34.82986666666666,
                  "mood_next_day": 5.4,
                  "average_soc": "45.53446031746032",
                  "_deepnote_index_column": 1210
                },
                {
                  "unique_id": "2014-05-26_AS14.33",
                  "id": "AS14.33",
                  "date": "2014-05-26",
                  "average_mood": 5.4,
                  "total_calls": "10.0",
                  "total_sms": "3.0",
                  "average_com": 34.32047222222222,
                  "mood_next_day": 6.2,
                  "average_soc": "111.04620408163264",
                  "_deepnote_index_column": 1211
                },
                {
                  "unique_id": "2014-05-27_AS14.33",
                  "id": "AS14.33",
                  "date": "2014-05-27",
                  "average_mood": 6.2,
                  "total_calls": "1.0",
                  "total_sms": "2.0",
                  "average_com": 59.38294285714287,
                  "mood_next_day": 8.2,
                  "average_soc": "50.2591",
                  "_deepnote_index_column": 1212
                },
                {
                  "unique_id": "2014-05-28_AS14.33",
                  "id": "AS14.33",
                  "date": "2014-05-28",
                  "average_mood": 8.2,
                  "total_calls": "10.0",
                  "total_sms": "1.0",
                  "average_com": 37.23875,
                  "mood_next_day": 7,
                  "average_soc": "99.2816851851852",
                  "_deepnote_index_column": 1213
                },
                {
                  "unique_id": "2014-05-29_AS14.33",
                  "id": "AS14.33",
                  "date": "2014-05-29",
                  "average_mood": 7,
                  "total_calls": "5.0",
                  "total_sms": "nan",
                  "average_com": 54.388125,
                  "mood_next_day": 6.8,
                  "average_soc": "198.88022222222224",
                  "_deepnote_index_column": 1214
                }
              ]
            },
            "text/plain": "               unique_id       id        date  average_mood  total_calls  \\\n0     2014-02-26_AS14.01  AS14.01  2014-02-26          6.25          NaN   \n1     2014-03-21_AS14.01  AS14.01  2014-03-21          6.25          6.0   \n2     2014-03-22_AS14.01  AS14.01  2014-03-22          6.40          NaN   \n3     2014-03-23_AS14.01  AS14.01  2014-03-23          6.80          NaN   \n4     2014-03-24_AS14.01  AS14.01  2014-03-24          6.00          NaN   \n...                  ...      ...         ...           ...          ...   \n1210  2014-05-25_AS14.33  AS14.33  2014-05-25          6.25          3.0   \n1211  2014-05-26_AS14.33  AS14.33  2014-05-26          5.40         10.0   \n1212  2014-05-27_AS14.33  AS14.33  2014-05-27          6.20          1.0   \n1213  2014-05-28_AS14.33  AS14.33  2014-05-28          8.20         10.0   \n1214  2014-05-29_AS14.33  AS14.33  2014-05-29          7.00          5.0   \n\n      total_sms  average_com  mood_next_day  average_soc  \n0           NaN          NaN           6.25          NaN  \n1           NaN    55.095526           6.40    75.141667  \n2           NaN    51.697063           6.80    36.636000  \n3           NaN    53.442031           6.00    50.046611  \n4           NaN    47.541687           6.75    74.968047  \n...         ...          ...            ...          ...  \n1210        8.0    34.829867           5.40    45.534460  \n1211        3.0    34.320472           6.20   111.046204  \n1212        2.0    59.382943           8.20    50.259100  \n1213        1.0    37.238750           7.00    99.281685  \n1214        NaN    54.388125           6.80   198.880222  \n\n[1215 rows x 9 columns]",
            "text/html": "<div>\n<style scoped>\n    .dataframe tbody tr th:only-of-type {\n        vertical-align: middle;\n    }\n\n    .dataframe tbody tr th {\n        vertical-align: top;\n    }\n\n    .dataframe thead th {\n        text-align: right;\n    }\n</style>\n<table border=\"1\" class=\"dataframe\">\n  <thead>\n    <tr style=\"text-align: right;\">\n      <th></th>\n      <th>unique_id</th>\n      <th>id</th>\n      <th>date</th>\n      <th>average_mood</th>\n      <th>total_calls</th>\n      <th>total_sms</th>\n      <th>average_com</th>\n      <th>mood_next_day</th>\n      <th>average_soc</th>\n    </tr>\n  </thead>\n  <tbody>\n    <tr>\n      <th>0</th>\n      <td>2014-02-26_AS14.01</td>\n      <td>AS14.01</td>\n      <td>2014-02-26</td>\n      <td>6.25</td>\n      <td>NaN</td>\n      <td>NaN</td>\n      <td>NaN</td>\n      <td>6.25</td>\n      <td>NaN</td>\n    </tr>\n    <tr>\n      <th>1</th>\n      <td>2014-03-21_AS14.01</td>\n      <td>AS14.01</td>\n      <td>2014-03-21</td>\n      <td>6.25</td>\n      <td>6.0</td>\n      <td>NaN</td>\n      <td>55.095526</td>\n      <td>6.40</td>\n      <td>75.141667</td>\n    </tr>\n    <tr>\n      <th>2</th>\n      <td>2014-03-22_AS14.01</td>\n      <td>AS14.01</td>\n      <td>2014-03-22</td>\n      <td>6.40</td>\n      <td>NaN</td>\n      <td>NaN</td>\n      <td>51.697063</td>\n      <td>6.80</td>\n      <td>36.636000</td>\n    </tr>\n    <tr>\n      <th>3</th>\n      <td>2014-03-23_AS14.01</td>\n      <td>AS14.01</td>\n      <td>2014-03-23</td>\n      <td>6.80</td>\n      <td>NaN</td>\n      <td>NaN</td>\n      <td>53.442031</td>\n      <td>6.00</td>\n      <td>50.046611</td>\n    </tr>\n    <tr>\n      <th>4</th>\n      <td>2014-03-24_AS14.01</td>\n      <td>AS14.01</td>\n      <td>2014-03-24</td>\n      <td>6.00</td>\n      <td>NaN</td>\n      <td>NaN</td>\n      <td>47.541687</td>\n      <td>6.75</td>\n      <td>74.968047</td>\n    </tr>\n    <tr>\n      <th>...</th>\n      <td>...</td>\n      <td>...</td>\n      <td>...</td>\n      <td>...</td>\n      <td>...</td>\n      <td>...</td>\n      <td>...</td>\n      <td>...</td>\n      <td>...</td>\n    </tr>\n    <tr>\n      <th>1210</th>\n      <td>2014-05-25_AS14.33</td>\n      <td>AS14.33</td>\n      <td>2014-05-25</td>\n      <td>6.25</td>\n      <td>3.0</td>\n      <td>8.0</td>\n      <td>34.829867</td>\n      <td>5.40</td>\n      <td>45.534460</td>\n    </tr>\n    <tr>\n      <th>1211</th>\n      <td>2014-05-26_AS14.33</td>\n      <td>AS14.33</td>\n      <td>2014-05-26</td>\n      <td>5.40</td>\n      <td>10.0</td>\n      <td>3.0</td>\n      <td>34.320472</td>\n      <td>6.20</td>\n      <td>111.046204</td>\n    </tr>\n    <tr>\n      <th>1212</th>\n      <td>2014-05-27_AS14.33</td>\n      <td>AS14.33</td>\n      <td>2014-05-27</td>\n      <td>6.20</td>\n      <td>1.0</td>\n      <td>2.0</td>\n      <td>59.382943</td>\n      <td>8.20</td>\n      <td>50.259100</td>\n    </tr>\n    <tr>\n      <th>1213</th>\n      <td>2014-05-28_AS14.33</td>\n      <td>AS14.33</td>\n      <td>2014-05-28</td>\n      <td>8.20</td>\n      <td>10.0</td>\n      <td>1.0</td>\n      <td>37.238750</td>\n      <td>7.00</td>\n      <td>99.281685</td>\n    </tr>\n    <tr>\n      <th>1214</th>\n      <td>2014-05-29_AS14.33</td>\n      <td>AS14.33</td>\n      <td>2014-05-29</td>\n      <td>7.00</td>\n      <td>5.0</td>\n      <td>NaN</td>\n      <td>54.388125</td>\n      <td>6.80</td>\n      <td>198.880222</td>\n    </tr>\n  </tbody>\n</table>\n<p>1215 rows × 9 columns</p>\n</div>"
          },
          "metadata": {}
        }
      ]
    },
    {
      "cell_type": "code",
      "metadata": {
        "tags": [],
        "cell_id": "00004-f0bf2716-c107-4d27-8305-a4c9e590af40",
        "deepnote_to_be_reexecuted": false,
        "source_hash": "de1e323c",
        "execution_millis": 14,
        "execution_start": 1617721647363,
        "deepnote_cell_type": "code"
      },
      "source": "df.info()",
      "execution_count": null,
      "outputs": [
        {
          "name": "stdout",
          "text": "<class 'pandas.core.frame.DataFrame'>\nRangeIndex: 1215 entries, 0 to 1214\nData columns (total 9 columns):\n #   Column         Non-Null Count  Dtype  \n---  ------         --------------  -----  \n 0   unique_id      1215 non-null   object \n 1   id             1215 non-null   object \n 2   date           1215 non-null   object \n 3   average_mood   1215 non-null   float64\n 4   total_calls    522 non-null    float64\n 5   total_sms      167 non-null    float64\n 6   average_com    1103 non-null   float64\n 7   mood_next_day  1215 non-null   float64\n 8   average_soc    925 non-null    float64\ndtypes: float64(6), object(3)\nmemory usage: 85.6+ KB\n",
          "output_type": "stream"
        }
      ]
    },
    {
      "cell_type": "code",
      "metadata": {
        "tags": [],
        "cell_id": "00005-c7bf3aaa-8d90-44c0-af80-86d87ebffbee",
        "deepnote_to_be_reexecuted": false,
        "source_hash": "c085b6ba",
        "execution_millis": 57,
        "execution_start": 1617721648051,
        "deepnote_cell_type": "code"
      },
      "source": "df.head()",
      "execution_count": null,
      "outputs": [
        {
          "output_type": "execute_result",
          "execution_count": 102,
          "data": {
            "application/vnd.deepnote.dataframe.v2+json": {
              "row_count": 5,
              "column_count": 9,
              "columns": [
                {
                  "name": "unique_id",
                  "dtype": "object",
                  "stats": {
                    "unique_count": 5,
                    "nan_count": 0,
                    "categories": [
                      {
                        "name": "2014-02-26_AS14.01",
                        "count": 1
                      },
                      {
                        "name": "2014-03-21_AS14.01",
                        "count": 1
                      },
                      {
                        "name": "3 others",
                        "count": 3
                      }
                    ]
                  }
                },
                {
                  "name": "id",
                  "dtype": "object",
                  "stats": {
                    "unique_count": 1,
                    "nan_count": 0,
                    "categories": [
                      {
                        "name": "AS14.01",
                        "count": 5
                      }
                    ]
                  }
                },
                {
                  "name": "date",
                  "dtype": "object",
                  "stats": {
                    "unique_count": 5,
                    "nan_count": 0,
                    "categories": [
                      {
                        "name": "2014-02-26",
                        "count": 1
                      },
                      {
                        "name": "2014-03-21",
                        "count": 1
                      },
                      {
                        "name": "3 others",
                        "count": 3
                      }
                    ]
                  }
                },
                {
                  "name": "average_mood",
                  "dtype": "float64",
                  "stats": {
                    "unique_count": 4,
                    "nan_count": 0,
                    "min": 6,
                    "max": 6.8,
                    "histogram": [
                      {
                        "bin_start": 6,
                        "bin_end": 6.08,
                        "count": 1
                      },
                      {
                        "bin_start": 6.08,
                        "bin_end": 6.16,
                        "count": 0
                      },
                      {
                        "bin_start": 6.16,
                        "bin_end": 6.24,
                        "count": 0
                      },
                      {
                        "bin_start": 6.24,
                        "bin_end": 6.32,
                        "count": 2
                      },
                      {
                        "bin_start": 6.32,
                        "bin_end": 6.4,
                        "count": 0
                      },
                      {
                        "bin_start": 6.4,
                        "bin_end": 6.4799999999999995,
                        "count": 1
                      },
                      {
                        "bin_start": 6.4799999999999995,
                        "bin_end": 6.56,
                        "count": 0
                      },
                      {
                        "bin_start": 6.56,
                        "bin_end": 6.64,
                        "count": 0
                      },
                      {
                        "bin_start": 6.64,
                        "bin_end": 6.72,
                        "count": 0
                      },
                      {
                        "bin_start": 6.72,
                        "bin_end": 6.8,
                        "count": 1
                      }
                    ]
                  }
                },
                {
                  "name": "total_calls",
                  "dtype": "float64",
                  "stats": {
                    "unique_count": 1,
                    "nan_count": 4,
                    "min": 6,
                    "max": 6,
                    "histogram": [
                      {
                        "bin_start": 5.5,
                        "bin_end": 5.6,
                        "count": 0
                      },
                      {
                        "bin_start": 5.6,
                        "bin_end": 5.7,
                        "count": 0
                      },
                      {
                        "bin_start": 5.7,
                        "bin_end": 5.8,
                        "count": 0
                      },
                      {
                        "bin_start": 5.8,
                        "bin_end": 5.9,
                        "count": 0
                      },
                      {
                        "bin_start": 5.9,
                        "bin_end": 6,
                        "count": 0
                      },
                      {
                        "bin_start": 6,
                        "bin_end": 6.1,
                        "count": 1
                      },
                      {
                        "bin_start": 6.1,
                        "bin_end": 6.2,
                        "count": 0
                      },
                      {
                        "bin_start": 6.2,
                        "bin_end": 6.3,
                        "count": 0
                      },
                      {
                        "bin_start": 6.3,
                        "bin_end": 6.4,
                        "count": 0
                      },
                      {
                        "bin_start": 6.4,
                        "bin_end": 6.5,
                        "count": 0
                      }
                    ]
                  }
                },
                {
                  "name": "total_sms",
                  "dtype": "float64",
                  "stats": {
                    "unique_count": 0,
                    "nan_count": 5,
                    "min": null,
                    "max": null,
                    "histogram": [
                      {
                        "bin_start": 0,
                        "bin_end": 0.1,
                        "count": 0
                      },
                      {
                        "bin_start": 0.1,
                        "bin_end": 0.2,
                        "count": 0
                      },
                      {
                        "bin_start": 0.2,
                        "bin_end": 0.30000000000000004,
                        "count": 0
                      },
                      {
                        "bin_start": 0.30000000000000004,
                        "bin_end": 0.4,
                        "count": 0
                      },
                      {
                        "bin_start": 0.4,
                        "bin_end": 0.5,
                        "count": 0
                      },
                      {
                        "bin_start": 0.5,
                        "bin_end": 0.6000000000000001,
                        "count": 0
                      },
                      {
                        "bin_start": 0.6000000000000001,
                        "bin_end": 0.7000000000000001,
                        "count": 0
                      },
                      {
                        "bin_start": 0.7000000000000001,
                        "bin_end": 0.8,
                        "count": 0
                      },
                      {
                        "bin_start": 0.8,
                        "bin_end": 0.9,
                        "count": 0
                      },
                      {
                        "bin_start": 0.9,
                        "bin_end": 1,
                        "count": 0
                      }
                    ]
                  }
                },
                {
                  "name": "average_com",
                  "dtype": "float64",
                  "stats": {
                    "unique_count": 4,
                    "nan_count": 1,
                    "min": 47.54168717948718,
                    "max": 55.0955263157895,
                    "histogram": [
                      {
                        "bin_start": 47.54168717948718,
                        "bin_end": 48.29707109311741,
                        "count": 1
                      },
                      {
                        "bin_start": 48.29707109311741,
                        "bin_end": 49.05245500674764,
                        "count": 0
                      },
                      {
                        "bin_start": 49.05245500674764,
                        "bin_end": 49.807838920377876,
                        "count": 0
                      },
                      {
                        "bin_start": 49.807838920377876,
                        "bin_end": 50.56322283400811,
                        "count": 0
                      },
                      {
                        "bin_start": 50.56322283400811,
                        "bin_end": 51.31860674763834,
                        "count": 0
                      },
                      {
                        "bin_start": 51.31860674763834,
                        "bin_end": 52.07399066126857,
                        "count": 1
                      },
                      {
                        "bin_start": 52.07399066126857,
                        "bin_end": 52.8293745748988,
                        "count": 0
                      },
                      {
                        "bin_start": 52.8293745748988,
                        "bin_end": 53.58475848852903,
                        "count": 1
                      },
                      {
                        "bin_start": 53.58475848852903,
                        "bin_end": 54.340142402159266,
                        "count": 0
                      },
                      {
                        "bin_start": 54.340142402159266,
                        "bin_end": 55.0955263157895,
                        "count": 1
                      }
                    ]
                  }
                },
                {
                  "name": "mood_next_day",
                  "dtype": "float64",
                  "stats": {
                    "unique_count": 5,
                    "nan_count": 0,
                    "min": 6,
                    "max": 6.8,
                    "histogram": [
                      {
                        "bin_start": 6,
                        "bin_end": 6.08,
                        "count": 1
                      },
                      {
                        "bin_start": 6.08,
                        "bin_end": 6.16,
                        "count": 0
                      },
                      {
                        "bin_start": 6.16,
                        "bin_end": 6.24,
                        "count": 0
                      },
                      {
                        "bin_start": 6.24,
                        "bin_end": 6.32,
                        "count": 1
                      },
                      {
                        "bin_start": 6.32,
                        "bin_end": 6.4,
                        "count": 0
                      },
                      {
                        "bin_start": 6.4,
                        "bin_end": 6.4799999999999995,
                        "count": 1
                      },
                      {
                        "bin_start": 6.4799999999999995,
                        "bin_end": 6.56,
                        "count": 0
                      },
                      {
                        "bin_start": 6.56,
                        "bin_end": 6.64,
                        "count": 0
                      },
                      {
                        "bin_start": 6.64,
                        "bin_end": 6.72,
                        "count": 0
                      },
                      {
                        "bin_start": 6.72,
                        "bin_end": 6.8,
                        "count": 2
                      }
                    ]
                  }
                },
                {
                  "name": "average_soc",
                  "dtype": "float64",
                  "stats": {
                    "unique_count": 4,
                    "nan_count": 1,
                    "min": 36.63599999999999,
                    "max": 75.14166666666668,
                    "histogram": [
                      {
                        "bin_start": 36.63599999999999,
                        "bin_end": 40.48656666666666,
                        "count": 1
                      },
                      {
                        "bin_start": 40.48656666666666,
                        "bin_end": 44.33713333333333,
                        "count": 0
                      },
                      {
                        "bin_start": 44.33713333333333,
                        "bin_end": 48.18769999999999,
                        "count": 0
                      },
                      {
                        "bin_start": 48.18769999999999,
                        "bin_end": 52.038266666666665,
                        "count": 1
                      },
                      {
                        "bin_start": 52.038266666666665,
                        "bin_end": 55.88883333333334,
                        "count": 0
                      },
                      {
                        "bin_start": 55.88883333333334,
                        "bin_end": 59.7394,
                        "count": 0
                      },
                      {
                        "bin_start": 59.7394,
                        "bin_end": 63.58996666666667,
                        "count": 0
                      },
                      {
                        "bin_start": 63.58996666666667,
                        "bin_end": 67.44053333333335,
                        "count": 0
                      },
                      {
                        "bin_start": 67.44053333333335,
                        "bin_end": 71.2911,
                        "count": 0
                      },
                      {
                        "bin_start": 71.2911,
                        "bin_end": 75.14166666666668,
                        "count": 2
                      }
                    ]
                  }
                },
                {
                  "name": "_deepnote_index_column",
                  "dtype": "int64"
                }
              ],
              "rows_top": [
                {
                  "unique_id": "2014-02-26_AS14.01",
                  "id": "AS14.01",
                  "date": "2014-02-26",
                  "average_mood": 6.25,
                  "total_calls": "nan",
                  "total_sms": "nan",
                  "average_com": "nan",
                  "mood_next_day": 6.25,
                  "average_soc": "nan",
                  "_deepnote_index_column": 0
                },
                {
                  "unique_id": "2014-03-21_AS14.01",
                  "id": "AS14.01",
                  "date": "2014-03-21",
                  "average_mood": 6.25,
                  "total_calls": "6.0",
                  "total_sms": "nan",
                  "average_com": "55.0955263157895",
                  "mood_next_day": 6.4,
                  "average_soc": "75.14166666666668",
                  "_deepnote_index_column": 1
                },
                {
                  "unique_id": "2014-03-22_AS14.01",
                  "id": "AS14.01",
                  "date": "2014-03-22",
                  "average_mood": 6.4,
                  "total_calls": "nan",
                  "total_sms": "nan",
                  "average_com": "51.697062500000015",
                  "mood_next_day": 6.8,
                  "average_soc": "36.63599999999999",
                  "_deepnote_index_column": 2
                },
                {
                  "unique_id": "2014-03-23_AS14.01",
                  "id": "AS14.01",
                  "date": "2014-03-23",
                  "average_mood": 6.8,
                  "total_calls": "nan",
                  "total_sms": "nan",
                  "average_com": "53.442030612244885",
                  "mood_next_day": 6,
                  "average_soc": "50.04661111111111",
                  "_deepnote_index_column": 3
                },
                {
                  "unique_id": "2014-03-24_AS14.01",
                  "id": "AS14.01",
                  "date": "2014-03-24",
                  "average_mood": 6,
                  "total_calls": "nan",
                  "total_sms": "nan",
                  "average_com": "47.54168717948718",
                  "mood_next_day": 6.75,
                  "average_soc": "74.96804651162789",
                  "_deepnote_index_column": 4
                }
              ],
              "rows_bottom": null
            },
            "text/plain": "            unique_id       id        date  average_mood  total_calls  \\\n0  2014-02-26_AS14.01  AS14.01  2014-02-26          6.25          NaN   \n1  2014-03-21_AS14.01  AS14.01  2014-03-21          6.25          6.0   \n2  2014-03-22_AS14.01  AS14.01  2014-03-22          6.40          NaN   \n3  2014-03-23_AS14.01  AS14.01  2014-03-23          6.80          NaN   \n4  2014-03-24_AS14.01  AS14.01  2014-03-24          6.00          NaN   \n\n   total_sms  average_com  mood_next_day  average_soc  \n0        NaN          NaN           6.25          NaN  \n1        NaN    55.095526           6.40    75.141667  \n2        NaN    51.697063           6.80    36.636000  \n3        NaN    53.442031           6.00    50.046611  \n4        NaN    47.541687           6.75    74.968047  ",
            "text/html": "<div>\n<style scoped>\n    .dataframe tbody tr th:only-of-type {\n        vertical-align: middle;\n    }\n\n    .dataframe tbody tr th {\n        vertical-align: top;\n    }\n\n    .dataframe thead th {\n        text-align: right;\n    }\n</style>\n<table border=\"1\" class=\"dataframe\">\n  <thead>\n    <tr style=\"text-align: right;\">\n      <th></th>\n      <th>unique_id</th>\n      <th>id</th>\n      <th>date</th>\n      <th>average_mood</th>\n      <th>total_calls</th>\n      <th>total_sms</th>\n      <th>average_com</th>\n      <th>mood_next_day</th>\n      <th>average_soc</th>\n    </tr>\n  </thead>\n  <tbody>\n    <tr>\n      <th>0</th>\n      <td>2014-02-26_AS14.01</td>\n      <td>AS14.01</td>\n      <td>2014-02-26</td>\n      <td>6.25</td>\n      <td>NaN</td>\n      <td>NaN</td>\n      <td>NaN</td>\n      <td>6.25</td>\n      <td>NaN</td>\n    </tr>\n    <tr>\n      <th>1</th>\n      <td>2014-03-21_AS14.01</td>\n      <td>AS14.01</td>\n      <td>2014-03-21</td>\n      <td>6.25</td>\n      <td>6.0</td>\n      <td>NaN</td>\n      <td>55.095526</td>\n      <td>6.40</td>\n      <td>75.141667</td>\n    </tr>\n    <tr>\n      <th>2</th>\n      <td>2014-03-22_AS14.01</td>\n      <td>AS14.01</td>\n      <td>2014-03-22</td>\n      <td>6.40</td>\n      <td>NaN</td>\n      <td>NaN</td>\n      <td>51.697063</td>\n      <td>6.80</td>\n      <td>36.636000</td>\n    </tr>\n    <tr>\n      <th>3</th>\n      <td>2014-03-23_AS14.01</td>\n      <td>AS14.01</td>\n      <td>2014-03-23</td>\n      <td>6.80</td>\n      <td>NaN</td>\n      <td>NaN</td>\n      <td>53.442031</td>\n      <td>6.00</td>\n      <td>50.046611</td>\n    </tr>\n    <tr>\n      <th>4</th>\n      <td>2014-03-24_AS14.01</td>\n      <td>AS14.01</td>\n      <td>2014-03-24</td>\n      <td>6.00</td>\n      <td>NaN</td>\n      <td>NaN</td>\n      <td>47.541687</td>\n      <td>6.75</td>\n      <td>74.968047</td>\n    </tr>\n  </tbody>\n</table>\n</div>"
          },
          "metadata": {}
        }
      ]
    },
    {
      "cell_type": "code",
      "metadata": {
        "tags": [],
        "cell_id": "00006-c1ea83b1-f4ad-4177-aa88-40ca19ebf2ba",
        "deepnote_to_be_reexecuted": false,
        "source_hash": "8a18caab",
        "execution_millis": 96,
        "execution_start": 1617721648873,
        "deepnote_cell_type": "code"
      },
      "source": "raw",
      "execution_count": null,
      "outputs": [
        {
          "output_type": "execute_result",
          "execution_count": 103,
          "data": {
            "application/vnd.deepnote.dataframe.v2+json": {
              "row_count": 376912,
              "column_count": 4,
              "columns": [
                {
                  "name": "id",
                  "dtype": "object"
                },
                {
                  "name": "time",
                  "dtype": "object"
                },
                {
                  "name": "variable",
                  "dtype": "object"
                },
                {
                  "name": "value",
                  "dtype": "float64"
                },
                {
                  "name": "_deepnote_index_column",
                  "dtype": "int64"
                }
              ],
              "rows_top": [
                {
                  "id": "AS14.01",
                  "time": "2014-02-26 13:00:00.000",
                  "variable": "mood",
                  "value": 6,
                  "_deepnote_index_column": 0
                },
                {
                  "id": "AS14.01",
                  "time": "2014-02-26 15:00:00.000",
                  "variable": "mood",
                  "value": 6,
                  "_deepnote_index_column": 1
                },
                {
                  "id": "AS14.01",
                  "time": "2014-02-26 18:00:00.000",
                  "variable": "mood",
                  "value": 6,
                  "_deepnote_index_column": 2
                },
                {
                  "id": "AS14.01",
                  "time": "2014-02-26 21:00:00.000",
                  "variable": "mood",
                  "value": 7,
                  "_deepnote_index_column": 3
                },
                {
                  "id": "AS14.01",
                  "time": "2014-02-27 09:00:00.000",
                  "variable": "mood",
                  "value": 6,
                  "_deepnote_index_column": 4
                },
                {
                  "id": "AS14.01",
                  "time": "2014-02-27 12:00:00.000",
                  "variable": "mood",
                  "value": 6,
                  "_deepnote_index_column": 5
                },
                {
                  "id": "AS14.01",
                  "time": "2014-02-27 15:00:00.000",
                  "variable": "mood",
                  "value": 7,
                  "_deepnote_index_column": 6
                },
                {
                  "id": "AS14.01",
                  "time": "2014-03-21 09:00:00.000",
                  "variable": "mood",
                  "value": 6,
                  "_deepnote_index_column": 7
                },
                {
                  "id": "AS14.01",
                  "time": "2014-03-21 11:00:00.000",
                  "variable": "mood",
                  "value": 6,
                  "_deepnote_index_column": 8
                },
                {
                  "id": "AS14.01",
                  "time": "2014-03-21 15:00:00.000",
                  "variable": "mood",
                  "value": 7,
                  "_deepnote_index_column": 9
                },
                {
                  "id": "AS14.01",
                  "time": "2014-03-21 19:00:00.000",
                  "variable": "mood",
                  "value": 6,
                  "_deepnote_index_column": 10
                },
                {
                  "id": "AS14.01",
                  "time": "2014-03-21 21:00:00.000",
                  "variable": "mood",
                  "value": 6,
                  "_deepnote_index_column": 11
                },
                {
                  "id": "AS14.01",
                  "time": "2014-03-22 08:00:00.000",
                  "variable": "mood",
                  "value": 7,
                  "_deepnote_index_column": 12
                },
                {
                  "id": "AS14.01",
                  "time": "2014-03-22 12:00:00.000",
                  "variable": "mood",
                  "value": 7,
                  "_deepnote_index_column": 13
                },
                {
                  "id": "AS14.01",
                  "time": "2014-03-22 15:00:00.000",
                  "variable": "mood",
                  "value": 7,
                  "_deepnote_index_column": 14
                },
                {
                  "id": "AS14.01",
                  "time": "2014-03-22 18:00:00.000",
                  "variable": "mood",
                  "value": 6,
                  "_deepnote_index_column": 15
                },
                {
                  "id": "AS14.01",
                  "time": "2014-03-22 21:00:00.000",
                  "variable": "mood",
                  "value": 5,
                  "_deepnote_index_column": 16
                },
                {
                  "id": "AS14.01",
                  "time": "2014-03-23 10:00:00.000",
                  "variable": "mood",
                  "value": 7,
                  "_deepnote_index_column": 17
                },
                {
                  "id": "AS14.01",
                  "time": "2014-03-23 12:00:00.000",
                  "variable": "mood",
                  "value": 7,
                  "_deepnote_index_column": 18
                },
                {
                  "id": "AS14.01",
                  "time": "2014-03-23 15:00:00.000",
                  "variable": "mood",
                  "value": 8,
                  "_deepnote_index_column": 19
                },
                {
                  "id": "AS14.01",
                  "time": "2014-03-23 19:00:00.000",
                  "variable": "mood",
                  "value": 6,
                  "_deepnote_index_column": 20
                },
                {
                  "id": "AS14.01",
                  "time": "2014-03-23 21:00:00.000",
                  "variable": "mood",
                  "value": 6,
                  "_deepnote_index_column": 21
                },
                {
                  "id": "AS14.01",
                  "time": "2014-03-24 09:00:00.000",
                  "variable": "mood",
                  "value": 6,
                  "_deepnote_index_column": 22
                },
                {
                  "id": "AS14.01",
                  "time": "2014-03-24 12:00:00.000",
                  "variable": "mood",
                  "value": 6,
                  "_deepnote_index_column": 23
                },
                {
                  "id": "AS14.01",
                  "time": "2014-03-24 15:00:00.000",
                  "variable": "mood",
                  "value": 6,
                  "_deepnote_index_column": 24
                },
                {
                  "id": "AS14.01",
                  "time": "2014-03-24 18:00:00.000",
                  "variable": "mood",
                  "value": 5,
                  "_deepnote_index_column": 25
                },
                {
                  "id": "AS14.01",
                  "time": "2014-03-24 21:00:00.000",
                  "variable": "mood",
                  "value": 7,
                  "_deepnote_index_column": 26
                },
                {
                  "id": "AS14.01",
                  "time": "2014-03-25 09:00:00.000",
                  "variable": "mood",
                  "value": 6,
                  "_deepnote_index_column": 27
                },
                {
                  "id": "AS14.01",
                  "time": "2014-03-25 15:00:00.000",
                  "variable": "mood",
                  "value": 7,
                  "_deepnote_index_column": 28
                },
                {
                  "id": "AS14.01",
                  "time": "2014-03-25 20:00:00.000",
                  "variable": "mood",
                  "value": 8,
                  "_deepnote_index_column": 29
                },
                {
                  "id": "AS14.01",
                  "time": "2014-03-25 21:00:00.000",
                  "variable": "mood",
                  "value": 6,
                  "_deepnote_index_column": 30
                },
                {
                  "id": "AS14.01",
                  "time": "2014-03-26 09:00:00.000",
                  "variable": "mood",
                  "value": 7,
                  "_deepnote_index_column": 31
                },
                {
                  "id": "AS14.01",
                  "time": "2014-03-26 12:00:00.000",
                  "variable": "mood",
                  "value": 6,
                  "_deepnote_index_column": 32
                },
                {
                  "id": "AS14.01",
                  "time": "2014-03-26 15:00:00.000",
                  "variable": "mood",
                  "value": 7,
                  "_deepnote_index_column": 33
                },
                {
                  "id": "AS14.01",
                  "time": "2014-03-26 18:00:00.000",
                  "variable": "mood",
                  "value": 6,
                  "_deepnote_index_column": 34
                },
                {
                  "id": "AS14.01",
                  "time": "2014-03-26 21:00:00.000",
                  "variable": "mood",
                  "value": 7,
                  "_deepnote_index_column": 35
                },
                {
                  "id": "AS14.01",
                  "time": "2014-03-27 09:00:00.000",
                  "variable": "mood",
                  "value": 7,
                  "_deepnote_index_column": 36
                },
                {
                  "id": "AS14.01",
                  "time": "2014-03-27 14:00:00.000",
                  "variable": "mood",
                  "value": 7,
                  "_deepnote_index_column": 37
                },
                {
                  "id": "AS14.01",
                  "time": "2014-03-27 15:00:00.000",
                  "variable": "mood",
                  "value": 7,
                  "_deepnote_index_column": 38
                },
                {
                  "id": "AS14.01",
                  "time": "2014-03-27 17:00:00.000",
                  "variable": "mood",
                  "value": 7,
                  "_deepnote_index_column": 39
                },
                {
                  "id": "AS14.01",
                  "time": "2014-03-27 23:00:00.000",
                  "variable": "mood",
                  "value": 7,
                  "_deepnote_index_column": 40
                },
                {
                  "id": "AS14.01",
                  "time": "2014-03-28 10:00:00.000",
                  "variable": "mood",
                  "value": 5,
                  "_deepnote_index_column": 41
                },
                {
                  "id": "AS14.01",
                  "time": "2014-03-28 12:00:00.000",
                  "variable": "mood",
                  "value": 6,
                  "_deepnote_index_column": 42
                },
                {
                  "id": "AS14.01",
                  "time": "2014-03-28 15:00:00.000",
                  "variable": "mood",
                  "value": 8,
                  "_deepnote_index_column": 43
                },
                {
                  "id": "AS14.01",
                  "time": "2014-03-28 18:00:00.000",
                  "variable": "mood",
                  "value": 6,
                  "_deepnote_index_column": 44
                },
                {
                  "id": "AS14.01",
                  "time": "2014-03-28 21:00:00.000",
                  "variable": "mood",
                  "value": 7,
                  "_deepnote_index_column": 45
                },
                {
                  "id": "AS14.01",
                  "time": "2014-03-29 10:00:00.000",
                  "variable": "mood",
                  "value": 8,
                  "_deepnote_index_column": 46
                },
                {
                  "id": "AS14.01",
                  "time": "2014-03-29 11:00:00.000",
                  "variable": "mood",
                  "value": 8,
                  "_deepnote_index_column": 47
                },
                {
                  "id": "AS14.01",
                  "time": "2014-03-29 16:00:00.000",
                  "variable": "mood",
                  "value": 9,
                  "_deepnote_index_column": 48
                },
                {
                  "id": "AS14.01",
                  "time": "2014-03-29 18:00:00.000",
                  "variable": "mood",
                  "value": 8,
                  "_deepnote_index_column": 49
                },
                {
                  "id": "AS14.01",
                  "time": "2014-03-29 21:00:00.000",
                  "variable": "mood",
                  "value": 7,
                  "_deepnote_index_column": 50
                },
                {
                  "id": "AS14.01",
                  "time": "2014-03-30 11:00:00.000",
                  "variable": "mood",
                  "value": 8,
                  "_deepnote_index_column": 51
                },
                {
                  "id": "AS14.01",
                  "time": "2014-03-30 12:00:00.000",
                  "variable": "mood",
                  "value": 7,
                  "_deepnote_index_column": 52
                },
                {
                  "id": "AS14.01",
                  "time": "2014-03-30 15:00:00.000",
                  "variable": "mood",
                  "value": 8,
                  "_deepnote_index_column": 53
                },
                {
                  "id": "AS14.01",
                  "time": "2014-03-30 21:00:00.000",
                  "variable": "mood",
                  "value": 7,
                  "_deepnote_index_column": 54
                },
                {
                  "id": "AS14.01",
                  "time": "2014-03-31 09:00:00.000",
                  "variable": "mood",
                  "value": 7,
                  "_deepnote_index_column": 55
                },
                {
                  "id": "AS14.01",
                  "time": "2014-03-31 12:00:00.000",
                  "variable": "mood",
                  "value": 7,
                  "_deepnote_index_column": 56
                },
                {
                  "id": "AS14.01",
                  "time": "2014-03-31 15:00:00.000",
                  "variable": "mood",
                  "value": 7,
                  "_deepnote_index_column": 57
                },
                {
                  "id": "AS14.01",
                  "time": "2014-03-31 18:00:00.000",
                  "variable": "mood",
                  "value": 8,
                  "_deepnote_index_column": 58
                },
                {
                  "id": "AS14.01",
                  "time": "2014-03-31 21:00:00.000",
                  "variable": "mood",
                  "value": 8,
                  "_deepnote_index_column": 59
                },
                {
                  "id": "AS14.01",
                  "time": "2014-04-01 09:00:00.000",
                  "variable": "mood",
                  "value": 7,
                  "_deepnote_index_column": 60
                },
                {
                  "id": "AS14.01",
                  "time": "2014-04-01 12:00:00.000",
                  "variable": "mood",
                  "value": 7,
                  "_deepnote_index_column": 61
                },
                {
                  "id": "AS14.01",
                  "time": "2014-04-01 15:00:00.000",
                  "variable": "mood",
                  "value": 6,
                  "_deepnote_index_column": 62
                },
                {
                  "id": "AS14.01",
                  "time": "2014-04-01 17:00:00.000",
                  "variable": "mood",
                  "value": 5,
                  "_deepnote_index_column": 63
                },
                {
                  "id": "AS14.01",
                  "time": "2014-04-01 21:00:00.000",
                  "variable": "mood",
                  "value": 5,
                  "_deepnote_index_column": 64
                },
                {
                  "id": "AS14.01",
                  "time": "2014-04-02 09:00:00.000",
                  "variable": "mood",
                  "value": 6,
                  "_deepnote_index_column": 65
                },
                {
                  "id": "AS14.01",
                  "time": "2014-04-02 15:00:00.000",
                  "variable": "mood",
                  "value": 7,
                  "_deepnote_index_column": 66
                },
                {
                  "id": "AS14.01",
                  "time": "2014-04-02 18:00:00.000",
                  "variable": "mood",
                  "value": 6,
                  "_deepnote_index_column": 67
                },
                {
                  "id": "AS14.01",
                  "time": "2014-04-02 21:00:00.000",
                  "variable": "mood",
                  "value": 7,
                  "_deepnote_index_column": 68
                },
                {
                  "id": "AS14.01",
                  "time": "2014-04-03 09:00:00.000",
                  "variable": "mood",
                  "value": 7,
                  "_deepnote_index_column": 69
                },
                {
                  "id": "AS14.01",
                  "time": "2014-04-03 12:00:00.000",
                  "variable": "mood",
                  "value": 6,
                  "_deepnote_index_column": 70
                },
                {
                  "id": "AS14.01",
                  "time": "2014-04-03 15:00:00.000",
                  "variable": "mood",
                  "value": 7,
                  "_deepnote_index_column": 71
                },
                {
                  "id": "AS14.01",
                  "time": "2014-04-03 18:00:00.000",
                  "variable": "mood",
                  "value": 6,
                  "_deepnote_index_column": 72
                },
                {
                  "id": "AS14.01",
                  "time": "2014-04-03 21:00:00.000",
                  "variable": "mood",
                  "value": 6,
                  "_deepnote_index_column": 73
                },
                {
                  "id": "AS14.01",
                  "time": "2014-04-04 10:00:00.000",
                  "variable": "mood",
                  "value": 6,
                  "_deepnote_index_column": 74
                },
                {
                  "id": "AS14.01",
                  "time": "2014-04-04 13:00:00.000",
                  "variable": "mood",
                  "value": 6,
                  "_deepnote_index_column": 75
                },
                {
                  "id": "AS14.01",
                  "time": "2014-04-04 15:00:00.000",
                  "variable": "mood",
                  "value": 6,
                  "_deepnote_index_column": 76
                },
                {
                  "id": "AS14.01",
                  "time": "2014-04-04 18:00:00.000",
                  "variable": "mood",
                  "value": 6,
                  "_deepnote_index_column": 77
                },
                {
                  "id": "AS14.01",
                  "time": "2014-04-04 21:00:00.000",
                  "variable": "mood",
                  "value": 7,
                  "_deepnote_index_column": 78
                },
                {
                  "id": "AS14.01",
                  "time": "2014-04-05 10:00:00.000",
                  "variable": "mood",
                  "value": 6,
                  "_deepnote_index_column": 79
                },
                {
                  "id": "AS14.01",
                  "time": "2014-04-05 12:00:00.000",
                  "variable": "mood",
                  "value": 8,
                  "_deepnote_index_column": 80
                },
                {
                  "id": "AS14.01",
                  "time": "2014-04-05 14:00:00.000",
                  "variable": "mood",
                  "value": 7,
                  "_deepnote_index_column": 81
                },
                {
                  "id": "AS14.01",
                  "time": "2014-04-05 18:00:00.000",
                  "variable": "mood",
                  "value": 6,
                  "_deepnote_index_column": 82
                },
                {
                  "id": "AS14.01",
                  "time": "2014-04-05 21:00:00.000",
                  "variable": "mood",
                  "value": 7,
                  "_deepnote_index_column": 83
                },
                {
                  "id": "AS14.01",
                  "time": "2014-04-06 13:00:00.000",
                  "variable": "mood",
                  "value": 6,
                  "_deepnote_index_column": 84
                },
                {
                  "id": "AS14.01",
                  "time": "2014-04-06 16:00:00.000",
                  "variable": "mood",
                  "value": 7,
                  "_deepnote_index_column": 85
                },
                {
                  "id": "AS14.01",
                  "time": "2014-04-06 18:00:00.000",
                  "variable": "mood",
                  "value": 6,
                  "_deepnote_index_column": 86
                },
                {
                  "id": "AS14.01",
                  "time": "2014-04-06 21:00:00.000",
                  "variable": "mood",
                  "value": 7,
                  "_deepnote_index_column": 87
                },
                {
                  "id": "AS14.01",
                  "time": "2014-04-07 10:00:00.000",
                  "variable": "mood",
                  "value": 6,
                  "_deepnote_index_column": 88
                },
                {
                  "id": "AS14.01",
                  "time": "2014-04-07 15:00:00.000",
                  "variable": "mood",
                  "value": 7,
                  "_deepnote_index_column": 89
                },
                {
                  "id": "AS14.01",
                  "time": "2014-04-07 18:00:00.000",
                  "variable": "mood",
                  "value": 6,
                  "_deepnote_index_column": 90
                },
                {
                  "id": "AS14.01",
                  "time": "2014-04-07 21:00:00.000",
                  "variable": "mood",
                  "value": 7,
                  "_deepnote_index_column": 91
                },
                {
                  "id": "AS14.01",
                  "time": "2014-04-08 09:00:00.000",
                  "variable": "mood",
                  "value": 7,
                  "_deepnote_index_column": 92
                },
                {
                  "id": "AS14.01",
                  "time": "2014-04-08 12:00:00.000",
                  "variable": "mood",
                  "value": 7,
                  "_deepnote_index_column": 93
                },
                {
                  "id": "AS14.01",
                  "time": "2014-04-08 14:00:00.000",
                  "variable": "mood",
                  "value": 7,
                  "_deepnote_index_column": 94
                },
                {
                  "id": "AS14.01",
                  "time": "2014-04-08 18:00:00.000",
                  "variable": "mood",
                  "value": 7,
                  "_deepnote_index_column": 95
                },
                {
                  "id": "AS14.01",
                  "time": "2014-04-08 20:00:00.000",
                  "variable": "mood",
                  "value": 5,
                  "_deepnote_index_column": 96
                },
                {
                  "id": "AS14.01",
                  "time": "2014-04-09 09:00:00.000",
                  "variable": "mood",
                  "value": 7,
                  "_deepnote_index_column": 97
                },
                {
                  "id": "AS14.01",
                  "time": "2014-04-09 12:00:00.000",
                  "variable": "mood",
                  "value": 8,
                  "_deepnote_index_column": 98
                },
                {
                  "id": "AS14.01",
                  "time": "2014-04-09 15:00:00.000",
                  "variable": "mood",
                  "value": 8,
                  "_deepnote_index_column": 99
                },
                {
                  "id": "AS14.01",
                  "time": "2014-04-09 18:00:00.000",
                  "variable": "mood",
                  "value": 7,
                  "_deepnote_index_column": 100
                },
                {
                  "id": "AS14.01",
                  "time": "2014-04-09 21:00:00.000",
                  "variable": "mood",
                  "value": 7,
                  "_deepnote_index_column": 101
                },
                {
                  "id": "AS14.01",
                  "time": "2014-04-10 11:00:00.000",
                  "variable": "mood",
                  "value": 6,
                  "_deepnote_index_column": 102
                },
                {
                  "id": "AS14.01",
                  "time": "2014-04-10 12:00:00.000",
                  "variable": "mood",
                  "value": 7,
                  "_deepnote_index_column": 103
                },
                {
                  "id": "AS14.01",
                  "time": "2014-04-10 15:00:00.000",
                  "variable": "mood",
                  "value": 8,
                  "_deepnote_index_column": 104
                },
                {
                  "id": "AS14.01",
                  "time": "2014-04-10 19:00:00.000",
                  "variable": "mood",
                  "value": 8,
                  "_deepnote_index_column": 105
                },
                {
                  "id": "AS14.01",
                  "time": "2014-04-10 23:00:00.000",
                  "variable": "mood",
                  "value": 8,
                  "_deepnote_index_column": 106
                },
                {
                  "id": "AS14.01",
                  "time": "2014-04-11 09:00:00.000",
                  "variable": "mood",
                  "value": 7,
                  "_deepnote_index_column": 107
                },
                {
                  "id": "AS14.01",
                  "time": "2014-04-11 12:00:00.000",
                  "variable": "mood",
                  "value": 7,
                  "_deepnote_index_column": 108
                },
                {
                  "id": "AS14.01",
                  "time": "2014-04-11 15:00:00.000",
                  "variable": "mood",
                  "value": 7,
                  "_deepnote_index_column": 109
                },
                {
                  "id": "AS14.01",
                  "time": "2014-04-11 18:00:00.000",
                  "variable": "mood",
                  "value": 8,
                  "_deepnote_index_column": 110
                },
                {
                  "id": "AS14.01",
                  "time": "2014-04-11 22:00:00.000",
                  "variable": "mood",
                  "value": 6,
                  "_deepnote_index_column": 111
                },
                {
                  "id": "AS14.01",
                  "time": "2014-04-12 09:00:00.000",
                  "variable": "mood",
                  "value": 7,
                  "_deepnote_index_column": 112
                },
                {
                  "id": "AS14.01",
                  "time": "2014-04-12 12:00:00.000",
                  "variable": "mood",
                  "value": 6,
                  "_deepnote_index_column": 113
                },
                {
                  "id": "AS14.01",
                  "time": "2014-04-12 16:00:00.000",
                  "variable": "mood",
                  "value": 8,
                  "_deepnote_index_column": 114
                },
                {
                  "id": "AS14.01",
                  "time": "2014-04-12 21:00:00.000",
                  "variable": "mood",
                  "value": 8,
                  "_deepnote_index_column": 115
                },
                {
                  "id": "AS14.01",
                  "time": "2014-04-13 10:00:00.000",
                  "variable": "mood",
                  "value": 8,
                  "_deepnote_index_column": 116
                },
                {
                  "id": "AS14.01",
                  "time": "2014-04-13 12:00:00.000",
                  "variable": "mood",
                  "value": 8,
                  "_deepnote_index_column": 117
                },
                {
                  "id": "AS14.01",
                  "time": "2014-04-13 16:00:00.000",
                  "variable": "mood",
                  "value": 8,
                  "_deepnote_index_column": 118
                },
                {
                  "id": "AS14.01",
                  "time": "2014-04-13 22:00:00.000",
                  "variable": "mood",
                  "value": 8,
                  "_deepnote_index_column": 119
                },
                {
                  "id": "AS14.01",
                  "time": "2014-04-14 09:00:00.000",
                  "variable": "mood",
                  "value": 6,
                  "_deepnote_index_column": 120
                },
                {
                  "id": "AS14.01",
                  "time": "2014-04-14 12:00:00.000",
                  "variable": "mood",
                  "value": 8,
                  "_deepnote_index_column": 121
                },
                {
                  "id": "AS14.01",
                  "time": "2014-04-14 14:00:00.000",
                  "variable": "mood",
                  "value": 7,
                  "_deepnote_index_column": 122
                },
                {
                  "id": "AS14.01",
                  "time": "2014-04-14 18:00:00.000",
                  "variable": "mood",
                  "value": 7,
                  "_deepnote_index_column": 123
                },
                {
                  "id": "AS14.01",
                  "time": "2014-04-14 21:00:00.000",
                  "variable": "mood",
                  "value": 8,
                  "_deepnote_index_column": 124
                }
              ],
              "rows_bottom": [
                {
                  "id": "AS14.26",
                  "time": "2014-05-28 12:20:29.946",
                  "variable": "appCat.weather",
                  "value": 16.077,
                  "_deepnote_index_column": 376787
                },
                {
                  "id": "AS14.26",
                  "time": "2014-05-28 13:12:36.789",
                  "variable": "appCat.weather",
                  "value": 25.961,
                  "_deepnote_index_column": 376788
                },
                {
                  "id": "AS14.26",
                  "time": "2014-05-28 13:41:34.650",
                  "variable": "appCat.weather",
                  "value": 8.089,
                  "_deepnote_index_column": 376789
                },
                {
                  "id": "AS14.26",
                  "time": "2014-05-28 14:12:17.969",
                  "variable": "appCat.weather",
                  "value": 16.083,
                  "_deepnote_index_column": 376790
                },
                {
                  "id": "AS14.26",
                  "time": "2014-05-28 14:26:00.118",
                  "variable": "appCat.weather",
                  "value": 25.185,
                  "_deepnote_index_column": 376791
                },
                {
                  "id": "AS14.26",
                  "time": "2014-05-28 14:49:25.990",
                  "variable": "appCat.weather",
                  "value": 10.103,
                  "_deepnote_index_column": 376792
                },
                {
                  "id": "AS14.26",
                  "time": "2014-05-28 14:59:29.765",
                  "variable": "appCat.weather",
                  "value": 36.22,
                  "_deepnote_index_column": 376793
                },
                {
                  "id": "AS14.26",
                  "time": "2014-05-28 17:19:19.201",
                  "variable": "appCat.weather",
                  "value": 9.141,
                  "_deepnote_index_column": 376794
                },
                {
                  "id": "AS14.26",
                  "time": "2014-05-28 20:52:09.364",
                  "variable": "appCat.weather",
                  "value": 11.167,
                  "_deepnote_index_column": 376795
                },
                {
                  "id": "AS14.26",
                  "time": "2014-05-28 21:18:21.384",
                  "variable": "appCat.weather",
                  "value": 6.068,
                  "_deepnote_index_column": 376796
                },
                {
                  "id": "AS14.27",
                  "time": "2014-04-06 15:21:00.687",
                  "variable": "appCat.weather",
                  "value": 23.446,
                  "_deepnote_index_column": 376797
                },
                {
                  "id": "AS14.27",
                  "time": "2014-04-06 15:21:24.782",
                  "variable": "appCat.weather",
                  "value": 2.028,
                  "_deepnote_index_column": 376798
                },
                {
                  "id": "AS14.27",
                  "time": "2014-04-14 07:40:22.829",
                  "variable": "appCat.weather",
                  "value": 29.347,
                  "_deepnote_index_column": 376799
                },
                {
                  "id": "AS14.27",
                  "time": "2014-04-21 10:44:43.091",
                  "variable": "appCat.weather",
                  "value": 27.023,
                  "_deepnote_index_column": 376800
                },
                {
                  "id": "AS14.27",
                  "time": "2014-04-21 11:38:44.961",
                  "variable": "appCat.weather",
                  "value": 41.63,
                  "_deepnote_index_column": 376801
                },
                {
                  "id": "AS14.27",
                  "time": "2014-04-21 11:39:27.509",
                  "variable": "appCat.weather",
                  "value": 8.23,
                  "_deepnote_index_column": 376802
                },
                {
                  "id": "AS14.27",
                  "time": "2014-04-21 12:24:14.796",
                  "variable": "appCat.weather",
                  "value": 20.09,
                  "_deepnote_index_column": 376803
                },
                {
                  "id": "AS14.27",
                  "time": "2014-04-25 18:59:28.384",
                  "variable": "appCat.weather",
                  "value": 14.695,
                  "_deepnote_index_column": 376804
                },
                {
                  "id": "AS14.27",
                  "time": "2014-04-25 18:59:44.418",
                  "variable": "appCat.weather",
                  "value": 16.066,
                  "_deepnote_index_column": 376805
                },
                {
                  "id": "AS14.27",
                  "time": "2014-04-26 13:45:03.313",
                  "variable": "appCat.weather",
                  "value": 22.136,
                  "_deepnote_index_column": 376806
                },
                {
                  "id": "AS14.27",
                  "time": "2014-04-26 15:52:06.532",
                  "variable": "appCat.weather",
                  "value": 20.482,
                  "_deepnote_index_column": 376807
                },
                {
                  "id": "AS14.27",
                  "time": "2014-04-26 15:54:00.219",
                  "variable": "appCat.weather",
                  "value": 9.72,
                  "_deepnote_index_column": 376808
                },
                {
                  "id": "AS14.27",
                  "time": "2014-04-26 15:54:14.049",
                  "variable": "appCat.weather",
                  "value": 8.033,
                  "_deepnote_index_column": 376809
                },
                {
                  "id": "AS14.27",
                  "time": "2014-05-09 13:56:20.009",
                  "variable": "appCat.weather",
                  "value": 23.144,
                  "_deepnote_index_column": 376810
                },
                {
                  "id": "AS14.27",
                  "time": "2014-05-10 09:28:21.831",
                  "variable": "appCat.weather",
                  "value": 26.104,
                  "_deepnote_index_column": 376811
                },
                {
                  "id": "AS14.27",
                  "time": "2014-05-10 12:22:18.147",
                  "variable": "appCat.weather",
                  "value": 20.172,
                  "_deepnote_index_column": 376812
                },
                {
                  "id": "AS14.27",
                  "time": "2014-05-10 12:48:49.270",
                  "variable": "appCat.weather",
                  "value": 15.664,
                  "_deepnote_index_column": 376813
                },
                {
                  "id": "AS14.27",
                  "time": "2014-05-10 12:49:28.490",
                  "variable": "appCat.weather",
                  "value": 16.059,
                  "_deepnote_index_column": 376814
                },
                {
                  "id": "AS14.27",
                  "time": "2014-05-11 11:46:10.704",
                  "variable": "appCat.weather",
                  "value": 14.643,
                  "_deepnote_index_column": 376815
                },
                {
                  "id": "AS14.27",
                  "time": "2014-05-11 11:46:28.325",
                  "variable": "appCat.weather",
                  "value": 17.036,
                  "_deepnote_index_column": 376816
                },
                {
                  "id": "AS14.27",
                  "time": "2014-05-11 11:46:46.426",
                  "variable": "appCat.weather",
                  "value": 9.066,
                  "_deepnote_index_column": 376817
                },
                {
                  "id": "AS14.27",
                  "time": "2014-05-11 11:47:11.572",
                  "variable": "appCat.weather",
                  "value": 22.235,
                  "_deepnote_index_column": 376818
                },
                {
                  "id": "AS14.27",
                  "time": "2014-05-11 11:47:34.418",
                  "variable": "appCat.weather",
                  "value": 6.023,
                  "_deepnote_index_column": 376819
                },
                {
                  "id": "AS14.27",
                  "time": "2014-05-11 11:51:18.542",
                  "variable": "appCat.weather",
                  "value": 42.187,
                  "_deepnote_index_column": 376820
                },
                {
                  "id": "AS14.27",
                  "time": "2014-05-11 14:04:23.395",
                  "variable": "appCat.weather",
                  "value": 15.095,
                  "_deepnote_index_column": 376821
                },
                {
                  "id": "AS14.27",
                  "time": "2014-05-11 14:04:39.880",
                  "variable": "appCat.weather",
                  "value": 10.057,
                  "_deepnote_index_column": 376822
                },
                {
                  "id": "AS14.27",
                  "time": "2014-05-11 14:05:09.029",
                  "variable": "appCat.weather",
                  "value": 32.773,
                  "_deepnote_index_column": 376823
                },
                {
                  "id": "AS14.27",
                  "time": "2014-05-11 14:05:43.216",
                  "variable": "appCat.weather",
                  "value": 15.06,
                  "_deepnote_index_column": 376824
                },
                {
                  "id": "AS14.27",
                  "time": "2014-05-11 14:05:59.476",
                  "variable": "appCat.weather",
                  "value": 19.239,
                  "_deepnote_index_column": 376825
                },
                {
                  "id": "AS14.27",
                  "time": "2014-05-11 14:06:20.130",
                  "variable": "appCat.weather",
                  "value": 6.044,
                  "_deepnote_index_column": 376826
                },
                {
                  "id": "AS14.27",
                  "time": "2014-05-11 14:06:55.265",
                  "variable": "appCat.weather",
                  "value": 34.305,
                  "_deepnote_index_column": 376827
                },
                {
                  "id": "AS14.27",
                  "time": "2014-05-11 14:07:31.209",
                  "variable": "appCat.weather",
                  "value": 18.136,
                  "_deepnote_index_column": 376828
                },
                {
                  "id": "AS14.27",
                  "time": "2014-05-11 19:15:43.398",
                  "variable": "appCat.weather",
                  "value": 41.458,
                  "_deepnote_index_column": 376829
                },
                {
                  "id": "AS14.27",
                  "time": "2014-05-12 07:25:00.233",
                  "variable": "appCat.weather",
                  "value": 31.067,
                  "_deepnote_index_column": 376830
                },
                {
                  "id": "AS14.28",
                  "time": "2014-04-02 20:05:41.490",
                  "variable": "appCat.weather",
                  "value": 45.055,
                  "_deepnote_index_column": 376831
                },
                {
                  "id": "AS14.28",
                  "time": "2014-04-03 07:31:19.595",
                  "variable": "appCat.weather",
                  "value": 16.252,
                  "_deepnote_index_column": 376832
                },
                {
                  "id": "AS14.28",
                  "time": "2014-04-03 19:52:00.855",
                  "variable": "appCat.weather",
                  "value": 17.239,
                  "_deepnote_index_column": 376833
                },
                {
                  "id": "AS14.28",
                  "time": "2014-04-03 19:52:26.130",
                  "variable": "appCat.weather",
                  "value": 54.194,
                  "_deepnote_index_column": 376834
                },
                {
                  "id": "AS14.28",
                  "time": "2014-04-04 13:03:32.448",
                  "variable": "appCat.weather",
                  "value": 52.184,
                  "_deepnote_index_column": 376835
                },
                {
                  "id": "AS14.28",
                  "time": "2014-04-04 17:08:31.207",
                  "variable": "appCat.weather",
                  "value": 5.346,
                  "_deepnote_index_column": 376836
                },
                {
                  "id": "AS14.28",
                  "time": "2014-04-05 22:06:19.923",
                  "variable": "appCat.weather",
                  "value": 5.05,
                  "_deepnote_index_column": 376837
                },
                {
                  "id": "AS14.28",
                  "time": "2014-04-07 07:38:17.328",
                  "variable": "appCat.weather",
                  "value": 55.789,
                  "_deepnote_index_column": 376838
                },
                {
                  "id": "AS14.28",
                  "time": "2014-04-07 22:23:29.654",
                  "variable": "appCat.weather",
                  "value": 44.352,
                  "_deepnote_index_column": 376839
                },
                {
                  "id": "AS14.28",
                  "time": "2014-04-08 02:04:06.482",
                  "variable": "appCat.weather",
                  "value": 15.784,
                  "_deepnote_index_column": 376840
                },
                {
                  "id": "AS14.28",
                  "time": "2014-04-08 02:04:24.025",
                  "variable": "appCat.weather",
                  "value": 14.131,
                  "_deepnote_index_column": 376841
                },
                {
                  "id": "AS14.28",
                  "time": "2014-04-08 07:39:16.246",
                  "variable": "appCat.weather",
                  "value": 9.066,
                  "_deepnote_index_column": 376842
                },
                {
                  "id": "AS14.28",
                  "time": "2014-04-08 16:06:56.957",
                  "variable": "appCat.weather",
                  "value": 15.074,
                  "_deepnote_index_column": 376843
                },
                {
                  "id": "AS14.28",
                  "time": "2014-04-11 20:41:48.801",
                  "variable": "appCat.weather",
                  "value": 10.104,
                  "_deepnote_index_column": 376844
                },
                {
                  "id": "AS14.28",
                  "time": "2014-04-12 13:15:13.937",
                  "variable": "appCat.weather",
                  "value": 16,
                  "_deepnote_index_column": 376845
                },
                {
                  "id": "AS14.28",
                  "time": "2014-04-12 13:17:08.048",
                  "variable": "appCat.weather",
                  "value": 22.125,
                  "_deepnote_index_column": 376846
                },
                {
                  "id": "AS14.28",
                  "time": "2014-04-12 13:22:59.420",
                  "variable": "appCat.weather",
                  "value": 4.146,
                  "_deepnote_index_column": 376847
                },
                {
                  "id": "AS14.28",
                  "time": "2014-04-13 08:28:17.220",
                  "variable": "appCat.weather",
                  "value": 38.606,
                  "_deepnote_index_column": 376848
                },
                {
                  "id": "AS14.28",
                  "time": "2014-04-13 21:43:12.119",
                  "variable": "appCat.weather",
                  "value": 68.253,
                  "_deepnote_index_column": 376849
                },
                {
                  "id": "AS14.28",
                  "time": "2014-04-14 15:46:02.842",
                  "variable": "appCat.weather",
                  "value": 18.126,
                  "_deepnote_index_column": 376850
                },
                {
                  "id": "AS14.28",
                  "time": "2014-04-14 16:33:48.773",
                  "variable": "appCat.weather",
                  "value": 48.132,
                  "_deepnote_index_column": 376851
                },
                {
                  "id": "AS14.28",
                  "time": "2014-04-15 22:00:59.773",
                  "variable": "appCat.weather",
                  "value": 43.824,
                  "_deepnote_index_column": 376852
                },
                {
                  "id": "AS14.28",
                  "time": "2014-04-16 07:48:50.634",
                  "variable": "appCat.weather",
                  "value": 41.545,
                  "_deepnote_index_column": 376853
                },
                {
                  "id": "AS14.28",
                  "time": "2014-04-16 20:02:36.438",
                  "variable": "appCat.weather",
                  "value": 37.691,
                  "_deepnote_index_column": 376854
                },
                {
                  "id": "AS14.28",
                  "time": "2014-04-18 08:19:03.315",
                  "variable": "appCat.weather",
                  "value": 56.036,
                  "_deepnote_index_column": 376855
                },
                {
                  "id": "AS14.28",
                  "time": "2014-04-18 08:47:03.174",
                  "variable": "appCat.weather",
                  "value": 15.142,
                  "_deepnote_index_column": 376856
                },
                {
                  "id": "AS14.28",
                  "time": "2014-04-19 22:20:52.509",
                  "variable": "appCat.weather",
                  "value": 13.118,
                  "_deepnote_index_column": 376857
                },
                {
                  "id": "AS14.28",
                  "time": "2014-04-19 22:21:52.040",
                  "variable": "appCat.weather",
                  "value": 9.07,
                  "_deepnote_index_column": 376858
                },
                {
                  "id": "AS14.28",
                  "time": "2014-04-21 07:46:00.628",
                  "variable": "appCat.weather",
                  "value": 39.01,
                  "_deepnote_index_column": 376859
                },
                {
                  "id": "AS14.28",
                  "time": "2014-04-22 21:15:22.844",
                  "variable": "appCat.weather",
                  "value": 5.147,
                  "_deepnote_index_column": 376860
                },
                {
                  "id": "AS14.28",
                  "time": "2014-04-22 21:15:32.122",
                  "variable": "appCat.weather",
                  "value": 21.545,
                  "_deepnote_index_column": 376861
                },
                {
                  "id": "AS14.28",
                  "time": "2014-04-22 21:15:55.875",
                  "variable": "appCat.weather",
                  "value": 18.064,
                  "_deepnote_index_column": 376862
                },
                {
                  "id": "AS14.28",
                  "time": "2014-04-23 20:55:26.522",
                  "variable": "appCat.weather",
                  "value": 28.319,
                  "_deepnote_index_column": 376863
                },
                {
                  "id": "AS14.28",
                  "time": "2014-04-23 20:55:55.822",
                  "variable": "appCat.weather",
                  "value": 25.121,
                  "_deepnote_index_column": 376864
                },
                {
                  "id": "AS14.28",
                  "time": "2014-04-24 14:29:18.234",
                  "variable": "appCat.weather",
                  "value": 42.065,
                  "_deepnote_index_column": 376865
                },
                {
                  "id": "AS14.28",
                  "time": "2014-04-24 16:29:35.092",
                  "variable": "appCat.weather",
                  "value": 33.199,
                  "_deepnote_index_column": 376866
                },
                {
                  "id": "AS14.28",
                  "time": "2014-04-24 17:42:52.918",
                  "variable": "appCat.weather",
                  "value": 40.241,
                  "_deepnote_index_column": 376867
                },
                {
                  "id": "AS14.28",
                  "time": "2014-04-24 17:44:18.414",
                  "variable": "appCat.weather",
                  "value": 15.06,
                  "_deepnote_index_column": 376868
                },
                {
                  "id": "AS14.28",
                  "time": "2014-04-25 07:54:23.536",
                  "variable": "appCat.weather",
                  "value": 9.328,
                  "_deepnote_index_column": 376869
                },
                {
                  "id": "AS14.28",
                  "time": "2014-04-25 07:54:35.864",
                  "variable": "appCat.weather",
                  "value": 30.746,
                  "_deepnote_index_column": 376870
                },
                {
                  "id": "AS14.28",
                  "time": "2014-04-25 09:19:45.470",
                  "variable": "appCat.weather",
                  "value": 20.623,
                  "_deepnote_index_column": 376871
                },
                {
                  "id": "AS14.28",
                  "time": "2014-04-25 09:51:39.927",
                  "variable": "appCat.weather",
                  "value": 2.013,
                  "_deepnote_index_column": 376872
                },
                {
                  "id": "AS14.28",
                  "time": "2014-04-26 08:14:01.069",
                  "variable": "appCat.weather",
                  "value": 15.342,
                  "_deepnote_index_column": 376873
                },
                {
                  "id": "AS14.28",
                  "time": "2014-04-26 08:14:20.828",
                  "variable": "appCat.weather",
                  "value": 47.523,
                  "_deepnote_index_column": 376874
                },
                {
                  "id": "AS14.28",
                  "time": "2014-04-26 08:15:11.578",
                  "variable": "appCat.weather",
                  "value": 13.106,
                  "_deepnote_index_column": 376875
                },
                {
                  "id": "AS14.28",
                  "time": "2014-04-26 08:18:58.698",
                  "variable": "appCat.weather",
                  "value": 15.543,
                  "_deepnote_index_column": 376876
                },
                {
                  "id": "AS14.28",
                  "time": "2014-04-26 08:19:17.956",
                  "variable": "appCat.weather",
                  "value": 13.043,
                  "_deepnote_index_column": 376877
                },
                {
                  "id": "AS14.28",
                  "time": "2014-04-27 08:15:17.038",
                  "variable": "appCat.weather",
                  "value": 24.226,
                  "_deepnote_index_column": 376878
                },
                {
                  "id": "AS14.28",
                  "time": "2014-04-27 08:16:26.069",
                  "variable": "appCat.weather",
                  "value": 18.822,
                  "_deepnote_index_column": 376879
                },
                {
                  "id": "AS14.28",
                  "time": "2014-04-27 08:16:45.940",
                  "variable": "appCat.weather",
                  "value": 15.451,
                  "_deepnote_index_column": 376880
                },
                {
                  "id": "AS14.28",
                  "time": "2014-04-27 10:44:35.002",
                  "variable": "appCat.weather",
                  "value": 22.482,
                  "_deepnote_index_column": 376881
                },
                {
                  "id": "AS14.28",
                  "time": "2014-04-27 10:44:59.062",
                  "variable": "appCat.weather",
                  "value": 1.009,
                  "_deepnote_index_column": 376882
                },
                {
                  "id": "AS14.28",
                  "time": "2014-04-27 10:48:48.413",
                  "variable": "appCat.weather",
                  "value": 9.035,
                  "_deepnote_index_column": 376883
                },
                {
                  "id": "AS14.28",
                  "time": "2014-04-27 12:46:35.697",
                  "variable": "appCat.weather",
                  "value": 24.278,
                  "_deepnote_index_column": 376884
                },
                {
                  "id": "AS14.28",
                  "time": "2014-04-27 13:52:35.108",
                  "variable": "appCat.weather",
                  "value": 15.076,
                  "_deepnote_index_column": 376885
                },
                {
                  "id": "AS14.28",
                  "time": "2014-04-27 13:53:17.608",
                  "variable": "appCat.weather",
                  "value": 39.993,
                  "_deepnote_index_column": 376886
                },
                {
                  "id": "AS14.28",
                  "time": "2014-05-01 20:38:50.595",
                  "variable": "appCat.weather",
                  "value": 40.242,
                  "_deepnote_index_column": 376887
                },
                {
                  "id": "AS14.28",
                  "time": "2014-05-03 21:18:04.157",
                  "variable": "appCat.weather",
                  "value": 43.93,
                  "_deepnote_index_column": 376888
                },
                {
                  "id": "AS14.28",
                  "time": "2014-05-04 08:38:49.355",
                  "variable": "appCat.weather",
                  "value": 12.122,
                  "_deepnote_index_column": 376889
                },
                {
                  "id": "AS14.28",
                  "time": "2014-05-04 08:39:02.530",
                  "variable": "appCat.weather",
                  "value": 17.962,
                  "_deepnote_index_column": 376890
                },
                {
                  "id": "AS14.28",
                  "time": "2014-05-05 06:06:32.828",
                  "variable": "appCat.weather",
                  "value": 11.059,
                  "_deepnote_index_column": 376891
                },
                {
                  "id": "AS14.28",
                  "time": "2014-05-05 20:09:54.138",
                  "variable": "appCat.weather",
                  "value": 42.411,
                  "_deepnote_index_column": 376892
                },
                {
                  "id": "AS14.28",
                  "time": "2014-05-06 20:20:31.098",
                  "variable": "appCat.weather",
                  "value": 31.711,
                  "_deepnote_index_column": 376893
                },
                {
                  "id": "AS14.28",
                  "time": "2014-05-07 13:45:27.233",
                  "variable": "appCat.weather",
                  "value": 1.119,
                  "_deepnote_index_column": 376894
                },
                {
                  "id": "AS14.28",
                  "time": "2014-05-07 16:45:40.653",
                  "variable": "appCat.weather",
                  "value": 8.067,
                  "_deepnote_index_column": 376895
                },
                {
                  "id": "AS14.30",
                  "time": "2014-03-23 08:46:30.237",
                  "variable": "appCat.weather",
                  "value": 344.863,
                  "_deepnote_index_column": 376896
                },
                {
                  "id": "AS14.30",
                  "time": "2014-03-23 12:16:04.568",
                  "variable": "appCat.weather",
                  "value": 22.074,
                  "_deepnote_index_column": 376897
                },
                {
                  "id": "AS14.30",
                  "time": "2014-03-24 08:35:37.507",
                  "variable": "appCat.weather",
                  "value": 15.07,
                  "_deepnote_index_column": 376898
                },
                {
                  "id": "AS14.30",
                  "time": "2014-03-26 08:50:33.236",
                  "variable": "appCat.weather",
                  "value": 6.087,
                  "_deepnote_index_column": 376899
                },
                {
                  "id": "AS14.30",
                  "time": "2014-03-30 13:15:37.865",
                  "variable": "appCat.weather",
                  "value": 1.007,
                  "_deepnote_index_column": 376900
                },
                {
                  "id": "AS14.30",
                  "time": "2014-04-06 10:57:54.450",
                  "variable": "appCat.weather",
                  "value": 51.507,
                  "_deepnote_index_column": 376901
                },
                {
                  "id": "AS14.30",
                  "time": "2014-04-06 11:24:23.055",
                  "variable": "appCat.weather",
                  "value": 41.881,
                  "_deepnote_index_column": 376902
                },
                {
                  "id": "AS14.30",
                  "time": "2014-04-06 11:38:32.033",
                  "variable": "appCat.weather",
                  "value": 4.117,
                  "_deepnote_index_column": 376903
                },
                {
                  "id": "AS14.30",
                  "time": "2014-04-07 18:13:31.111",
                  "variable": "appCat.weather",
                  "value": 11.039,
                  "_deepnote_index_column": 376904
                },
                {
                  "id": "AS14.30",
                  "time": "2014-04-07 18:16:49.107",
                  "variable": "appCat.weather",
                  "value": 60.829,
                  "_deepnote_index_column": 376905
                },
                {
                  "id": "AS14.30",
                  "time": "2014-04-07 18:21:04.197",
                  "variable": "appCat.weather",
                  "value": 3.018,
                  "_deepnote_index_column": 376906
                },
                {
                  "id": "AS14.30",
                  "time": "2014-04-11 07:51:16.948",
                  "variable": "appCat.weather",
                  "value": 8.032,
                  "_deepnote_index_column": 376907
                },
                {
                  "id": "AS14.30",
                  "time": "2014-04-19 11:00:32.747",
                  "variable": "appCat.weather",
                  "value": 3.008,
                  "_deepnote_index_column": 376908
                },
                {
                  "id": "AS14.30",
                  "time": "2014-04-26 10:19:07.434",
                  "variable": "appCat.weather",
                  "value": 7.026,
                  "_deepnote_index_column": 376909
                },
                {
                  "id": "AS14.30",
                  "time": "2014-04-27 00:44:48.450",
                  "variable": "appCat.weather",
                  "value": 23.033,
                  "_deepnote_index_column": 376910
                },
                {
                  "id": "AS14.32",
                  "time": "2014-04-07 18:25:14.036",
                  "variable": "appCat.weather",
                  "value": 22.431,
                  "_deepnote_index_column": 376911
                }
              ]
            },
            "text/plain": "             id                     time        variable   value\n0       AS14.01  2014-02-26 13:00:00.000            mood   6.000\n1       AS14.01  2014-02-26 15:00:00.000            mood   6.000\n2       AS14.01  2014-02-26 18:00:00.000            mood   6.000\n3       AS14.01  2014-02-26 21:00:00.000            mood   7.000\n4       AS14.01  2014-02-27 09:00:00.000            mood   6.000\n...         ...                      ...             ...     ...\n376907  AS14.30  2014-04-11 07:51:16.948  appCat.weather   8.032\n376908  AS14.30  2014-04-19 11:00:32.747  appCat.weather   3.008\n376909  AS14.30  2014-04-26 10:19:07.434  appCat.weather   7.026\n376910  AS14.30  2014-04-27 00:44:48.450  appCat.weather  23.033\n376911  AS14.32  2014-04-07 18:25:14.036  appCat.weather  22.431\n\n[376912 rows x 4 columns]",
            "text/html": "<div>\n<style scoped>\n    .dataframe tbody tr th:only-of-type {\n        vertical-align: middle;\n    }\n\n    .dataframe tbody tr th {\n        vertical-align: top;\n    }\n\n    .dataframe thead th {\n        text-align: right;\n    }\n</style>\n<table border=\"1\" class=\"dataframe\">\n  <thead>\n    <tr style=\"text-align: right;\">\n      <th></th>\n      <th>id</th>\n      <th>time</th>\n      <th>variable</th>\n      <th>value</th>\n    </tr>\n  </thead>\n  <tbody>\n    <tr>\n      <th>0</th>\n      <td>AS14.01</td>\n      <td>2014-02-26 13:00:00.000</td>\n      <td>mood</td>\n      <td>6.000</td>\n    </tr>\n    <tr>\n      <th>1</th>\n      <td>AS14.01</td>\n      <td>2014-02-26 15:00:00.000</td>\n      <td>mood</td>\n      <td>6.000</td>\n    </tr>\n    <tr>\n      <th>2</th>\n      <td>AS14.01</td>\n      <td>2014-02-26 18:00:00.000</td>\n      <td>mood</td>\n      <td>6.000</td>\n    </tr>\n    <tr>\n      <th>3</th>\n      <td>AS14.01</td>\n      <td>2014-02-26 21:00:00.000</td>\n      <td>mood</td>\n      <td>7.000</td>\n    </tr>\n    <tr>\n      <th>4</th>\n      <td>AS14.01</td>\n      <td>2014-02-27 09:00:00.000</td>\n      <td>mood</td>\n      <td>6.000</td>\n    </tr>\n    <tr>\n      <th>...</th>\n      <td>...</td>\n      <td>...</td>\n      <td>...</td>\n      <td>...</td>\n    </tr>\n    <tr>\n      <th>376907</th>\n      <td>AS14.30</td>\n      <td>2014-04-11 07:51:16.948</td>\n      <td>appCat.weather</td>\n      <td>8.032</td>\n    </tr>\n    <tr>\n      <th>376908</th>\n      <td>AS14.30</td>\n      <td>2014-04-19 11:00:32.747</td>\n      <td>appCat.weather</td>\n      <td>3.008</td>\n    </tr>\n    <tr>\n      <th>376909</th>\n      <td>AS14.30</td>\n      <td>2014-04-26 10:19:07.434</td>\n      <td>appCat.weather</td>\n      <td>7.026</td>\n    </tr>\n    <tr>\n      <th>376910</th>\n      <td>AS14.30</td>\n      <td>2014-04-27 00:44:48.450</td>\n      <td>appCat.weather</td>\n      <td>23.033</td>\n    </tr>\n    <tr>\n      <th>376911</th>\n      <td>AS14.32</td>\n      <td>2014-04-07 18:25:14.036</td>\n      <td>appCat.weather</td>\n      <td>22.431</td>\n    </tr>\n  </tbody>\n</table>\n<p>376912 rows × 4 columns</p>\n</div>"
          },
          "metadata": {}
        }
      ]
    },
    {
      "cell_type": "code",
      "metadata": {
        "tags": [],
        "cell_id": "00011-685c9759-e385-41ce-8741-cc0c2ee68b43",
        "deepnote_to_be_reexecuted": false,
        "source_hash": "f6d90ec7",
        "execution_millis": 9,
        "execution_start": 1617721650203,
        "deepnote_cell_type": "code"
      },
      "source": "df.isnull().sum(axis=0)",
      "execution_count": null,
      "outputs": [
        {
          "output_type": "execute_result",
          "execution_count": 104,
          "data": {
            "text/plain": "unique_id           0\nid                  0\ndate                0\naverage_mood        0\ntotal_calls       693\ntotal_sms        1048\naverage_com       112\nmood_next_day       0\naverage_soc       290\ndtype: int64"
          },
          "metadata": {}
        }
      ]
    },
    {
      "cell_type": "code",
      "metadata": {
        "tags": [],
        "cell_id": "00012-e732e05f-f6be-4516-9f91-48fc0bb0482a",
        "deepnote_to_be_reexecuted": false,
        "source_hash": "1e1db444",
        "execution_millis": 4,
        "execution_start": 1617721651280,
        "deepnote_cell_type": "code"
      },
      "source": "df = df.replace({np.nan: 0})",
      "execution_count": null,
      "outputs": []
    },
    {
      "cell_type": "code",
      "metadata": {
        "tags": [],
        "cell_id": "00013-6a49ee81-9d6b-4daf-891d-94771ef3c0e9",
        "deepnote_to_be_reexecuted": false,
        "source_hash": "5179f661",
        "execution_millis": 34,
        "execution_start": 1617721652082,
        "deepnote_cell_type": "code"
      },
      "source": "len(df.id.unique())",
      "execution_count": null,
      "outputs": [
        {
          "output_type": "execute_result",
          "execution_count": 106,
          "data": {
            "text/plain": "27"
          },
          "metadata": {}
        }
      ]
    },
    {
      "cell_type": "code",
      "metadata": {
        "tags": [],
        "cell_id": "00013-a55fd174-b658-4275-a7c2-9af240fb23e0",
        "deepnote_to_be_reexecuted": false,
        "source_hash": "b2ca6316",
        "execution_millis": 897,
        "execution_start": 1617721652471,
        "deepnote_cell_type": "code"
      },
      "source": "import missingno as msno\n%matplotlib inline\nmsno.bar(df)",
      "execution_count": null,
      "outputs": [
        {
          "output_type": "execute_result",
          "execution_count": 107,
          "data": {
            "text/plain": "<AxesSubplot:>"
          },
          "metadata": {}
        },
        {
          "data": {
            "text/plain": "<Figure size 1728x720 with 3 Axes>",
            "image/png": "[encoded data removed]"
          },
          "metadata": {
            "needs_background": "light"
          },
          "output_type": "display_data"
        }
      ]
    },
    {
      "cell_type": "code",
      "metadata": {
        "tags": [],
        "cell_id": "00014-b20936c7-37b1-44be-aba9-b712b7799d04",
        "deepnote_to_be_reexecuted": false,
        "source_hash": "fafbd8a3",
        "execution_millis": 520,
        "execution_start": 1617721654028,
        "deepnote_cell_type": "code"
      },
      "source": "msno.matrix(df)",
      "execution_count": null,
      "outputs": [
        {
          "output_type": "execute_result",
          "execution_count": 108,
          "data": {
            "text/plain": "<AxesSubplot:>"
          },
          "metadata": {}
        },
        {
          "data": {
            "text/plain": "<Figure size 1800x720 with 2 Axes>",
            "image/png": "[encoded data removed]"
          },
          "metadata": {
            "needs_background": "light"
          },
          "output_type": "display_data"
        }
      ]
    },
    {
      "cell_type": "code",
      "metadata": {
        "tags": [],
        "cell_id": "00016-8dde5606-c09a-442c-9866-7ea996891789",
        "deepnote_to_be_reexecuted": false,
        "source_hash": "93a139f4",
        "execution_millis": 3,
        "execution_start": 1617721656637,
        "deepnote_cell_type": "code"
      },
      "source": "corr_ = df.corr()",
      "execution_count": null,
      "outputs": []
    },
    {
      "cell_type": "code",
      "metadata": {
        "tags": [],
        "cell_id": "00017-e646433a-77e2-4dc3-a63c-7ebf1cee3ab3",
        "deepnote_to_be_reexecuted": false,
        "source_hash": "2755942f",
        "execution_millis": 367,
        "execution_start": 1617721657443,
        "deepnote_cell_type": "code"
      },
      "source": "# Lets see if we can plot it, because a plot can tell more than a thousands words (right?)\ntry:\n    plt.figure(figsize=(12,10))\n    sns.heatmap(corr_, # annot=True, # Annotations will take an incredibly long time... better to leave them off\n    cmap=plt.cm.Reds)\n    plt.show()\nexcept Exception as exc:\n    print(f\"While working without supervision...\\nEncountered {exc}\")",
      "execution_count": null,
      "outputs": [
        {
          "data": {
            "text/plain": "<Figure size 864x720 with 2 Axes>",
            "image/png": "[encoded data removed]"
          },
          "metadata": {
            "needs_background": "light"
          },
          "output_type": "display_data"
        }
      ]
    },
    {
      "cell_type": "code",
      "metadata": {
        "tags": [],
        "cell_id": "00018-5f613fde-778e-44f5-b004-78d2bb9b745d",
        "deepnote_to_be_reexecuted": false,
        "source_hash": "dbe0970f",
        "execution_millis": 0,
        "execution_start": 1617721659828,
        "deepnote_cell_type": "code"
      },
      "source": "dfp = df.drop([\"date\", \"id\", \"unique_id\"], axis=1)",
      "execution_count": null,
      "outputs": []
    },
    {
      "cell_type": "code",
      "metadata": {
        "tags": [],
        "cell_id": "00018-126ea0e1-ed2e-4acf-95a4-f252ea30cc54",
        "deepnote_to_be_reexecuted": false,
        "source_hash": "f349dc6",
        "execution_millis": 0,
        "execution_start": 1617721661858,
        "deepnote_cell_type": "code"
      },
      "source": "dfp = dfp/dfp.std(0)",
      "execution_count": null,
      "outputs": []
    },
    {
      "cell_type": "code",
      "metadata": {
        "tags": [],
        "cell_id": "00021-02a83f3d-8afb-4725-a37e-18c2f4df9c39",
        "deepnote_to_be_reexecuted": false,
        "source_hash": "c64130d",
        "execution_millis": 39,
        "execution_start": 1617721662996,
        "deepnote_cell_type": "code"
      },
      "source": "dfp",
      "execution_count": null,
      "outputs": [
        {
          "output_type": "execute_result",
          "execution_count": 113,
          "data": {
            "application/vnd.deepnote.dataframe.v2+json": {
              "row_count": 1215,
              "column_count": 6,
              "columns": [
                {
                  "name": "average_mood",
                  "dtype": "float64",
                  "stats": {
                    "unique_count": 71,
                    "nan_count": 0,
                    "min": 4.112067284343557,
                    "max": 12.793098217957734,
                    "histogram": [
                      {
                        "bin_start": 4.112067284343557,
                        "bin_end": 4.980170377704975,
                        "count": 4
                      },
                      {
                        "bin_start": 4.980170377704975,
                        "bin_end": 5.848273471066393,
                        "count": 3
                      },
                      {
                        "bin_start": 5.848273471066393,
                        "bin_end": 6.716376564427811,
                        "count": 6
                      },
                      {
                        "bin_start": 6.716376564427811,
                        "bin_end": 7.584479657789228,
                        "count": 26
                      },
                      {
                        "bin_start": 7.584479657789228,
                        "bin_end": 8.452582751150647,
                        "count": 84
                      },
                      {
                        "bin_start": 8.452582751150647,
                        "bin_end": 9.320685844512063,
                        "count": 271
                      },
                      {
                        "bin_start": 9.320685844512063,
                        "bin_end": 10.188788937873483,
                        "count": 509
                      },
                      {
                        "bin_start": 10.188788937873483,
                        "bin_end": 11.056892031234899,
                        "count": 269
                      },
                      {
                        "bin_start": 11.056892031234899,
                        "bin_end": 11.924995124596318,
                        "count": 38
                      },
                      {
                        "bin_start": 11.924995124596318,
                        "bin_end": 12.793098217957734,
                        "count": 5
                      }
                    ]
                  }
                },
                {
                  "name": "total_calls",
                  "dtype": "float64",
                  "stats": {
                    "unique_count": 23,
                    "nan_count": 0,
                    "min": 0,
                    "max": 8.153731563794558,
                    "histogram": [
                      {
                        "bin_start": 0,
                        "bin_end": 0.8153731563794558,
                        "count": 909
                      },
                      {
                        "bin_start": 0.8153731563794558,
                        "bin_end": 1.6307463127589117,
                        "count": 151
                      },
                      {
                        "bin_start": 1.6307463127589117,
                        "bin_end": 2.4461194691383676,
                        "count": 83
                      },
                      {
                        "bin_start": 2.4461194691383676,
                        "bin_end": 3.2614926255178234,
                        "count": 43
                      },
                      {
                        "bin_start": 3.2614926255178234,
                        "bin_end": 4.076865781897279,
                        "count": 16
                      },
                      {
                        "bin_start": 4.076865781897279,
                        "bin_end": 4.892238938276735,
                        "count": 7
                      },
                      {
                        "bin_start": 4.892238938276735,
                        "bin_end": 5.707612094656191,
                        "count": 3
                      },
                      {
                        "bin_start": 5.707612094656191,
                        "bin_end": 6.522985251035647,
                        "count": 0
                      },
                      {
                        "bin_start": 6.522985251035647,
                        "bin_end": 7.338358407415103,
                        "count": 2
                      },
                      {
                        "bin_start": 7.338358407415103,
                        "bin_end": 8.153731563794558,
                        "count": 1
                      }
                    ]
                  }
                },
                {
                  "name": "total_sms",
                  "dtype": "float64",
                  "stats": {
                    "unique_count": 22,
                    "nan_count": 0,
                    "min": 0,
                    "max": 11.639978540904075,
                    "histogram": [
                      {
                        "bin_start": 0,
                        "bin_end": 1.1639978540904075,
                        "count": 1125
                      },
                      {
                        "bin_start": 1.1639978540904075,
                        "bin_end": 2.327995708180815,
                        "count": 37
                      },
                      {
                        "bin_start": 2.327995708180815,
                        "bin_end": 3.4919935622712224,
                        "count": 23
                      },
                      {
                        "bin_start": 3.4919935622712224,
                        "bin_end": 4.65599141636163,
                        "count": 14
                      },
                      {
                        "bin_start": 4.65599141636163,
                        "bin_end": 5.819989270452037,
                        "count": 8
                      },
                      {
                        "bin_start": 5.819989270452037,
                        "bin_end": 6.983987124542445,
                        "count": 0
                      },
                      {
                        "bin_start": 6.983987124542445,
                        "bin_end": 8.147984978632852,
                        "count": 3
                      },
                      {
                        "bin_start": 8.147984978632852,
                        "bin_end": 9.31198283272326,
                        "count": 4
                      },
                      {
                        "bin_start": 9.31198283272326,
                        "bin_end": 10.475980686813667,
                        "count": 0
                      },
                      {
                        "bin_start": 10.475980686813667,
                        "bin_end": 11.639978540904075,
                        "count": 1
                      }
                    ]
                  }
                },
                {
                  "name": "average_com",
                  "dtype": "float64",
                  "stats": {
                    "unique_count": 1104,
                    "nan_count": 0,
                    "min": 0,
                    "max": 13.950521093412394,
                    "histogram": [
                      {
                        "bin_start": 0,
                        "bin_end": 1.3950521093412394,
                        "count": 941
                      },
                      {
                        "bin_start": 1.3950521093412394,
                        "bin_end": 2.7901042186824787,
                        "count": 236
                      },
                      {
                        "bin_start": 2.7901042186824787,
                        "bin_end": 4.185156328023718,
                        "count": 24
                      },
                      {
                        "bin_start": 4.185156328023718,
                        "bin_end": 5.580208437364957,
                        "count": 7
                      },
                      {
                        "bin_start": 5.580208437364957,
                        "bin_end": 6.975260546706197,
                        "count": 0
                      },
                      {
                        "bin_start": 6.975260546706197,
                        "bin_end": 8.370312656047435,
                        "count": 1
                      },
                      {
                        "bin_start": 8.370312656047435,
                        "bin_end": 9.765364765388675,
                        "count": 2
                      },
                      {
                        "bin_start": 9.765364765388675,
                        "bin_end": 11.160416874729915,
                        "count": 2
                      },
                      {
                        "bin_start": 11.160416874729915,
                        "bin_end": 12.555468984071155,
                        "count": 1
                      },
                      {
                        "bin_start": 12.555468984071155,
                        "bin_end": 13.950521093412394,
                        "count": 1
                      }
                    ]
                  }
                },
                {
                  "name": "mood_next_day",
                  "dtype": "float64",
                  "stats": {
                    "unique_count": 71,
                    "nan_count": 0,
                    "min": 4.113683217358584,
                    "max": 12.798125565115596,
                    "histogram": [
                      {
                        "bin_start": 4.113683217358584,
                        "bin_end": 4.982127452134286,
                        "count": 4
                      },
                      {
                        "bin_start": 4.982127452134286,
                        "bin_end": 5.850571686909987,
                        "count": 3
                      },
                      {
                        "bin_start": 5.850571686909987,
                        "bin_end": 6.7190159216856875,
                        "count": 6
                      },
                      {
                        "bin_start": 6.7190159216856875,
                        "bin_end": 7.587460156461389,
                        "count": 26
                      },
                      {
                        "bin_start": 7.587460156461389,
                        "bin_end": 8.455904391237091,
                        "count": 84
                      },
                      {
                        "bin_start": 8.455904391237091,
                        "bin_end": 9.32434862601279,
                        "count": 270
                      },
                      {
                        "bin_start": 9.32434862601279,
                        "bin_end": 10.192792860788492,
                        "count": 510
                      },
                      {
                        "bin_start": 10.192792860788492,
                        "bin_end": 11.061237095564193,
                        "count": 269
                      },
                      {
                        "bin_start": 11.061237095564193,
                        "bin_end": 11.929681330339895,
                        "count": 38
                      },
                      {
                        "bin_start": 11.929681330339895,
                        "bin_end": 12.798125565115596,
                        "count": 5
                      }
                    ]
                  }
                },
                {
                  "name": "average_soc",
                  "dtype": "float64",
                  "stats": {
                    "unique_count": 926,
                    "nan_count": 0,
                    "min": 0,
                    "max": 29.20774060572187,
                    "histogram": [
                      {
                        "bin_start": 0,
                        "bin_end": 2.920774060572187,
                        "count": 1207
                      },
                      {
                        "bin_start": 2.920774060572187,
                        "bin_end": 5.841548121144374,
                        "count": 4
                      },
                      {
                        "bin_start": 5.841548121144374,
                        "bin_end": 8.762322181716561,
                        "count": 3
                      },
                      {
                        "bin_start": 8.762322181716561,
                        "bin_end": 11.683096242288748,
                        "count": 0
                      },
                      {
                        "bin_start": 11.683096242288748,
                        "bin_end": 14.603870302860935,
                        "count": 0
                      },
                      {
                        "bin_start": 14.603870302860935,
                        "bin_end": 17.524644363433122,
                        "count": 0
                      },
                      {
                        "bin_start": 17.524644363433122,
                        "bin_end": 20.44541842400531,
                        "count": 0
                      },
                      {
                        "bin_start": 20.44541842400531,
                        "bin_end": 23.366192484577496,
                        "count": 0
                      },
                      {
                        "bin_start": 23.366192484577496,
                        "bin_end": 26.28696654514968,
                        "count": 0
                      },
                      {
                        "bin_start": 26.28696654514968,
                        "bin_end": 29.20774060572187,
                        "count": 1
                      }
                    ]
                  }
                },
                {
                  "name": "_deepnote_index_column",
                  "dtype": "int64"
                }
              ],
              "rows_top": [
                {
                  "average_mood": 8.56680684238241,
                  "total_calls": 0,
                  "total_sms": 0,
                  "average_com": 0,
                  "mood_next_day": 8.57017336949705,
                  "average_soc": 0,
                  "_deepnote_index_column": 0
                },
                {
                  "average_mood": 8.56680684238241,
                  "total_calls": 1.5781415929924951,
                  "total_sms": 0,
                  "average_com": 1.4704129224956461,
                  "mood_next_day": 8.77585753036498,
                  "average_soc": 0.5838293711065643,
                  "_deepnote_index_column": 1
                },
                {
                  "average_mood": 8.77241020659959,
                  "total_calls": 0,
                  "total_sms": 0,
                  "average_com": 1.3797132696285743,
                  "mood_next_day": 9.32434862601279,
                  "average_soc": 0.2846512965269169,
                  "_deepnote_index_column": 2
                },
                {
                  "average_mood": 9.320685844512063,
                  "total_calls": 0,
                  "total_sms": 0,
                  "average_com": 1.4262837234051884,
                  "mood_next_day": 8.227366434717169,
                  "average_soc": 0.3888479293469862,
                  "_deepnote_index_column": 3
                },
                {
                  "average_mood": 8.224134568687115,
                  "total_calls": 0,
                  "total_sms": 0,
                  "average_com": 1.2688128394542555,
                  "mood_next_day": 9.255787239056815,
                  "average_soc": 0.5824803918993638,
                  "_deepnote_index_column": 4
                },
                {
                  "average_mood": 9.252151389773003,
                  "total_calls": 0,
                  "total_sms": 0,
                  "average_com": 1.853177818028269,
                  "mood_next_day": 9.050103078188885,
                  "average_soc": 0.5326336983098375,
                  "_deepnote_index_column": 5
                },
                {
                  "average_mood": 9.046548025555825,
                  "total_calls": 0,
                  "total_sms": 0,
                  "average_com": 1.2559983072968233,
                  "mood_next_day": 9.598594173836696,
                  "average_soc": 0.964297078990461,
                  "_deepnote_index_column": 6
                },
                {
                  "average_mood": 9.5948236634683,
                  "total_calls": 3.945353982481238,
                  "total_sms": 0,
                  "average_com": 1.1570287058546411,
                  "mood_next_day": 8.77585753036498,
                  "average_soc": 0.5590495569650787,
                  "_deepnote_index_column": 7
                },
                {
                  "average_mood": 8.77241020659959,
                  "total_calls": 1.3151179941604125,
                  "total_sms": 0,
                  "average_com": 0.6426224747360031,
                  "mood_next_day": 10.969821912956224,
                  "average_soc": 0.199192584387635,
                  "_deepnote_index_column": 8
                },
                {
                  "average_mood": 10.965512758249485,
                  "total_calls": 0,
                  "total_sms": 0,
                  "average_com": 1.273877006262018,
                  "mood_next_day": 10.284208043396461,
                  "average_soc": 0.4592756520636147,
                  "_deepnote_index_column": 9
                },
                {
                  "average_mood": 10.280168210858893,
                  "total_calls": 0,
                  "total_sms": 0,
                  "average_com": 1.650240746435569,
                  "mood_next_day": 10.147085269484508,
                  "average_soc": 0.43428824706223457,
                  "_deepnote_index_column": 10
                },
                {
                  "average_mood": 10.143099301380774,
                  "total_calls": 2.630235988320825,
                  "total_sms": 0,
                  "average_com": 1.1032534291617744,
                  "mood_next_day": 8.227366434717169,
                  "average_soc": 0.4372585445447135,
                  "_deepnote_index_column": 11
                },
                {
                  "average_mood": 8.224134568687115,
                  "total_calls": 0.26302359883208254,
                  "total_sms": 0,
                  "average_com": 0.8841304326869956,
                  "mood_next_day": 8.912980304276932,
                  "average_soc": 0.3559989692534242,
                  "_deepnote_index_column": 12
                },
                {
                  "average_mood": 8.909479116077707,
                  "total_calls": 1.0520943953283302,
                  "total_sms": 0,
                  "average_com": 0.900917448915041,
                  "mood_next_day": 8.77585753036498,
                  "average_soc": 0.5026554396032363,
                  "_deepnote_index_column": 13
                },
                {
                  "average_mood": 8.77241020659959,
                  "total_calls": 1.0520943953283302,
                  "total_sms": 0,
                  "average_com": 1.2390022345938663,
                  "mood_next_day": 8.501611982541075,
                  "average_soc": 0.3451768329959293,
                  "_deepnote_index_column": 14
                },
                {
                  "average_mood": 8.498272387643352,
                  "total_calls": 0,
                  "total_sms": 0,
                  "average_com": 1.1893985996995005,
                  "mood_next_day": 9.32434862601279,
                  "average_soc": 0.5589364529900538,
                  "_deepnote_index_column": 15
                },
                {
                  "average_mood": 9.320685844512063,
                  "total_calls": 0,
                  "total_sms": 0,
                  "average_com": 1.0063720026557177,
                  "mood_next_day": 8.912980304276932,
                  "average_soc": 0.35275285275735774,
                  "_deepnote_index_column": 16
                },
                {
                  "average_mood": 8.909479116077707,
                  "total_calls": 1.5781415929924951,
                  "total_sms": 0,
                  "average_com": 1.2794214500135013,
                  "mood_next_day": 8.912980304276932,
                  "average_soc": 0.49953054799400987,
                  "_deepnote_index_column": 17
                },
                {
                  "average_mood": 8.909479116077707,
                  "total_calls": 0.26302359883208254,
                  "total_sms": 0,
                  "average_com": 1.521657206422693,
                  "mood_next_day": 9.050103078188885,
                  "average_soc": 0.4776490867579598,
                  "_deepnote_index_column": 18
                },
                {
                  "average_mood": 9.046548025555825,
                  "total_calls": 0.26302359883208254,
                  "total_sms": 0,
                  "average_com": 1.3105750244872318,
                  "mood_next_day": 10.147085269484508,
                  "average_soc": 0.4584341055463626,
                  "_deepnote_index_column": 19
                },
                {
                  "average_mood": 10.143099301380774,
                  "total_calls": 1.0520943953283302,
                  "total_sms": 0,
                  "average_com": 1.0176323507532903,
                  "mood_next_day": 10.147085269484508,
                  "average_soc": 0.34312399003833827,
                  "_deepnote_index_column": 20
                },
                {
                  "average_mood": 10.143099301380774,
                  "total_calls": 0,
                  "total_sms": 0,
                  "average_com": 1.73702907038761,
                  "mood_next_day": 9.598594173836696,
                  "average_soc": 0.3042405621994855,
                  "_deepnote_index_column": 21
                },
                {
                  "average_mood": 9.5948236634683,
                  "total_calls": 0,
                  "total_sms": 0,
                  "average_com": 0.7359371193289954,
                  "mood_next_day": 9.941401108616578,
                  "average_soc": 0.35669389151977404,
                  "_deepnote_index_column": 22
                },
                {
                  "average_mood": 9.937495937163597,
                  "total_calls": 0,
                  "total_sms": 0,
                  "average_com": 3.8263563055241807,
                  "mood_next_day": 10.969821912956224,
                  "average_soc": 0.3424269008771232,
                  "_deepnote_index_column": 23
                },
                {
                  "average_mood": 10.965512758249485,
                  "total_calls": 0,
                  "total_sms": 0,
                  "average_com": 1.2726840478330275,
                  "mood_next_day": 9.872839721660602,
                  "average_soc": 0.13403536184042592,
                  "_deepnote_index_column": 24
                },
                {
                  "average_mood": 9.868961482424536,
                  "total_calls": 2.1041887906566603,
                  "total_sms": 2.660566523635217,
                  "average_com": 1.3738786976501298,
                  "mood_next_day": 8.77585753036498,
                  "average_soc": 1.2612773390505445,
                  "_deepnote_index_column": 25
                },
                {
                  "average_mood": 8.77241020659959,
                  "total_calls": 0,
                  "total_sms": 0.33257081545440215,
                  "average_com": 1.0857185201894977,
                  "mood_next_day": 9.872839721660602,
                  "average_soc": 0.7819529956832447,
                  "_deepnote_index_column": 26
                },
                {
                  "average_mood": 9.868961482424536,
                  "total_calls": 0,
                  "total_sms": 0,
                  "average_com": 0.9865216845513893,
                  "mood_next_day": 9.050103078188885,
                  "average_soc": 0.5124936484785139,
                  "_deepnote_index_column": 27
                },
                {
                  "average_mood": 9.046548025555825,
                  "total_calls": 2.630235988320825,
                  "total_sms": 0,
                  "average_com": 2.9022657847731,
                  "mood_next_day": 9.32434862601279,
                  "average_soc": 0.5457308302139126,
                  "_deepnote_index_column": 28
                },
                {
                  "average_mood": 9.320685844512063,
                  "total_calls": 0.26302359883208254,
                  "total_sms": 0,
                  "average_com": 1.738541731363849,
                  "mood_next_day": 10.695576365132318,
                  "average_soc": 1.5492206640286694,
                  "_deepnote_index_column": 29
                },
                {
                  "average_mood": 10.691374939293247,
                  "total_calls": 0.26302359883208254,
                  "total_sms": 0,
                  "average_com": 0.9456229528720906,
                  "mood_next_day": 9.941401108616578,
                  "average_soc": 0.2801844164605238,
                  "_deepnote_index_column": 30
                },
                {
                  "average_mood": 9.937495937163597,
                  "total_calls": 0.5260471976641651,
                  "total_sms": 0,
                  "average_com": 1.529131514019559,
                  "mood_next_day": 10.421330817308412,
                  "average_soc": 0.7244424445817594,
                  "_deepnote_index_column": 31
                },
                {
                  "average_mood": 10.417237120337012,
                  "total_calls": 0.5260471976641651,
                  "total_sms": 0,
                  "average_com": 1.1628884400557928,
                  "mood_next_day": 10.147085269484508,
                  "average_soc": 0.47614148446393334,
                  "_deepnote_index_column": 32
                },
                {
                  "average_mood": 10.143099301380774,
                  "total_calls": 0.5260471976641651,
                  "total_sms": 0,
                  "average_com": 1.2477567706677208,
                  "mood_next_day": 10.421330817308412,
                  "average_soc": 0.5263234868796405,
                  "_deepnote_index_column": 33
                },
                {
                  "average_mood": 10.417237120337012,
                  "total_calls": 0.26302359883208254,
                  "total_sms": 0,
                  "average_com": 1.4441628584013362,
                  "mood_next_day": 10.421330817308412,
                  "average_soc": 0.34095971960294386,
                  "_deepnote_index_column": 34
                },
                {
                  "average_mood": 10.417237120337012,
                  "total_calls": 0.26302359883208254,
                  "total_sms": 0,
                  "average_com": 1.7244518823617885,
                  "mood_next_day": 9.872839721660602,
                  "average_soc": 0.5968331369295551,
                  "_deepnote_index_column": 35
                },
                {
                  "average_mood": 9.868961482424536,
                  "total_calls": 0.5260471976641651,
                  "total_sms": 1.3302832618176086,
                  "average_com": 1.3680908591327041,
                  "mood_next_day": 10.421330817308412,
                  "average_soc": 0.752545589946256,
                  "_deepnote_index_column": 36
                },
                {
                  "average_mood": 10.417237120337012,
                  "total_calls": 0,
                  "total_sms": 0,
                  "average_com": 1.5937689219313451,
                  "mood_next_day": 10.284208043396461,
                  "average_soc": 6.133871817470339,
                  "_deepnote_index_column": 37
                },
                {
                  "average_mood": 10.280168210858893,
                  "total_calls": 0,
                  "total_sms": 0,
                  "average_com": 1.3519345093653927,
                  "mood_next_day": 10.421330817308412,
                  "average_soc": 0.10671704219339459,
                  "_deepnote_index_column": 38
                },
                {
                  "average_mood": 10.417237120337012,
                  "total_calls": 0,
                  "total_sms": 0,
                  "average_com": 1.4748878693472733,
                  "mood_next_day": 9.598594173836696,
                  "average_soc": 1.5694391471603055,
                  "_deepnote_index_column": 39
                },
                {
                  "average_mood": 9.5948236634683,
                  "total_calls": 0,
                  "total_sms": 0,
                  "average_com": 1.2954511706907328,
                  "mood_next_day": 10.695576365132318,
                  "average_soc": 0.7992803441381321,
                  "_deepnote_index_column": 40
                },
                {
                  "average_mood": 10.691374939293247,
                  "total_calls": 1.5781415929924951,
                  "total_sms": 0,
                  "average_com": 0.9111577757555722,
                  "mood_next_day": 10.969821912956224,
                  "average_soc": 0.0769771612200479,
                  "_deepnote_index_column": 41
                },
                {
                  "average_mood": 10.965512758249485,
                  "total_calls": 0,
                  "total_sms": 0,
                  "average_com": 1.08764102678262,
                  "mood_next_day": 10.421330817308412,
                  "average_soc": 1.124081759696912,
                  "_deepnote_index_column": 42
                },
                {
                  "average_mood": 10.417237120337012,
                  "total_calls": 0,
                  "total_sms": 0,
                  "average_com": 1.5553697247686045,
                  "mood_next_day": 10.969821912956224,
                  "average_soc": 0.3525010225672099,
                  "_deepnote_index_column": 43
                },
                {
                  "average_mood": 10.965512758249485,
                  "total_calls": 0,
                  "total_sms": 0,
                  "average_com": 1.986220976729744,
                  "mood_next_day": 9.990373527870847,
                  "average_soc": 0.17749656036117234,
                  "_deepnote_index_column": 44
                },
                {
                  "average_mood": 9.986449119120067,
                  "total_calls": 1.0520943953283302,
                  "total_sms": 0,
                  "average_com": 1.2554829497497635,
                  "mood_next_day": 9.255787239056815,
                  "average_soc": 0.08299472968988938,
                  "_deepnote_index_column": 45
                },
                {
                  "average_mood": 9.252151389773003,
                  "total_calls": 1.0520943953283302,
                  "total_sms": 0,
                  "average_com": 1.2692779816365523,
                  "mood_next_day": 11.24406746078013,
                  "average_soc": 0.08004982470404848,
                  "_deepnote_index_column": 46
                },
                {
                  "average_mood": 11.239650577205722,
                  "total_calls": 3.945353982481238,
                  "total_sms": 0.9977124463632064,
                  "average_com": 0.8820818862821048,
                  "mood_next_day": 9.32434862601279,
                  "average_soc": 0.08684251891386985,
                  "_deepnote_index_column": 47
                },
                {
                  "average_mood": 9.320685844512063,
                  "total_calls": 1.3151179941604125,
                  "total_sms": 0.33257081545440215,
                  "average_com": 0.8773360872573486,
                  "mood_next_day": 9.941401108616578,
                  "average_soc": 0.07430178918787278,
                  "_deepnote_index_column": 48
                },
                {
                  "average_mood": 9.937495937163597,
                  "total_calls": 2.630235988320825,
                  "total_sms": 0.33257081545440215,
                  "average_com": 0.8455407763036314,
                  "mood_next_day": 10.284208043396461,
                  "average_soc": 0.11360877982903647,
                  "_deepnote_index_column": 49
                },
                {
                  "average_mood": 10.280168210858893,
                  "total_calls": 2.630235988320825,
                  "total_sms": 0.33257081545440215,
                  "average_com": 1.1919910454041516,
                  "mood_next_day": 8.912980304276932,
                  "average_soc": 0.12561719885002778,
                  "_deepnote_index_column": 50
                },
                {
                  "average_mood": 8.909479116077707,
                  "total_calls": 6.575589970802063,
                  "total_sms": 0.33257081545440215,
                  "average_com": 0.5815741025675002,
                  "mood_next_day": 8.57017336949705,
                  "average_soc": 0.08355858732406259,
                  "_deepnote_index_column": 51
                },
                {
                  "average_mood": 8.56680684238241,
                  "total_calls": 2.1041887906566603,
                  "total_sms": 0,
                  "average_com": 0.9820801965590767,
                  "mood_next_day": 8.77585753036498,
                  "average_soc": 0.14848271613485992,
                  "_deepnote_index_column": 52
                },
                {
                  "average_mood": 8.77241020659959,
                  "total_calls": 1.3151179941604125,
                  "total_sms": 0,
                  "average_com": 1.2966189065144496,
                  "mood_next_day": 10.627014978176343,
                  "average_soc": 0.13913827190313607,
                  "_deepnote_index_column": 53
                },
                {
                  "average_mood": 10.622840484554189,
                  "total_calls": 1.8411651918245777,
                  "total_sms": 0,
                  "average_com": 1.0195531095651647,
                  "mood_next_day": 9.872839721660602,
                  "average_soc": 0.08872238112896783,
                  "_deepnote_index_column": 54
                },
                {
                  "average_mood": 9.868961482424536,
                  "total_calls": 1.3151179941604125,
                  "total_sms": 0,
                  "average_com": 0.9660634803366226,
                  "mood_next_day": 9.941401108616578,
                  "average_soc": 0.3280128186976512,
                  "_deepnote_index_column": 55
                },
                {
                  "average_mood": 9.937495937163597,
                  "total_calls": 0.7890707964962476,
                  "total_sms": 0,
                  "average_com": 0.8789710197649486,
                  "mood_next_day": 9.32434862601279,
                  "average_soc": 0.0790238337741877,
                  "_deepnote_index_column": 56
                },
                {
                  "average_mood": 9.320685844512063,
                  "total_calls": 2.1041887906566603,
                  "total_sms": 0,
                  "average_com": 0.5034921337583524,
                  "mood_next_day": 9.941401108616578,
                  "average_soc": 0.5149265234864194,
                  "_deepnote_index_column": 57
                },
                {
                  "average_mood": 9.937495937163597,
                  "total_calls": 1.0520943953283302,
                  "total_sms": 0,
                  "average_com": 1.3939749383970697,
                  "mood_next_day": 9.598594173836696,
                  "average_soc": 0.3130920412263926,
                  "_deepnote_index_column": 58
                },
                {
                  "average_mood": 9.5948236634683,
                  "total_calls": 2.630235988320825,
                  "total_sms": 1.3302832618176086,
                  "average_com": 0.8719705608751206,
                  "mood_next_day": 9.872839721660602,
                  "average_soc": 0.1672565933323107,
                  "_deepnote_index_column": 59
                },
                {
                  "average_mood": 9.868961482424536,
                  "total_calls": 3.6823303836491554,
                  "total_sms": 0.6651416309088043,
                  "average_com": 0.7611790876746719,
                  "mood_next_day": 10.147085269484508,
                  "average_soc": 0.9899739281205052,
                  "_deepnote_index_column": 60
                },
                {
                  "average_mood": 10.143099301380774,
                  "total_calls": 0.5260471976641651,
                  "total_sms": 0,
                  "average_com": 0.5786619705537296,
                  "mood_next_day": 8.77585753036498,
                  "average_soc": 0.0873503407826453,
                  "_deepnote_index_column": 61
                },
                {
                  "average_mood": 8.77241020659959,
                  "total_calls": 0.5260471976641651,
                  "total_sms": 0,
                  "average_com": 0.8535721839717089,
                  "mood_next_day": 7.8845594999372866,
                  "average_soc": 0.0950000124060439,
                  "_deepnote_index_column": 62
                },
                {
                  "average_mood": 7.881462294991818,
                  "total_calls": 0.5260471976641651,
                  "total_sms": 0,
                  "average_com": 0.7381261319224165,
                  "mood_next_day": 8.77585753036498,
                  "average_soc": 0.10568625993898442,
                  "_deepnote_index_column": 63
                },
                {
                  "average_mood": 8.77241020659959,
                  "total_calls": 1.3151179941604125,
                  "total_sms": 0,
                  "average_com": 0.8926122274660011,
                  "mood_next_day": 10.147085269484508,
                  "average_soc": 0.13725202405142453,
                  "_deepnote_index_column": 64
                },
                {
                  "average_mood": 10.143099301380774,
                  "total_calls": 2.367212389488743,
                  "total_sms": 0,
                  "average_com": 0.6773754419070029,
                  "mood_next_day": 6.170524826037877,
                  "average_soc": 0.18266671740196558,
                  "_deepnote_index_column": 65
                },
                {
                  "average_mood": 6.1681009265153355,
                  "total_calls": 1.5781415929924951,
                  "total_sms": 0,
                  "average_com": 0.7598890257661651,
                  "mood_next_day": 9.32434862601279,
                  "average_soc": 0.1690094411458404,
                  "_deepnote_index_column": 66
                },
                {
                  "average_mood": 9.320685844512063,
                  "total_calls": 0.5260471976641651,
                  "total_sms": 0,
                  "average_com": 1.5933325479269849,
                  "mood_next_day": 8.57017336949705,
                  "average_soc": 0.2943965721234142,
                  "_deepnote_index_column": 67
                },
                {
                  "average_mood": 8.56680684238241,
                  "total_calls": 2.630235988320825,
                  "total_sms": 0.9977124463632064,
                  "average_com": 0.6719122818318851,
                  "mood_next_day": 9.941401108616578,
                  "average_soc": 0.1704656823033877,
                  "_deepnote_index_column": 68
                },
                {
                  "average_mood": 9.937495937163597,
                  "total_calls": 3.1562831859849902,
                  "total_sms": 0.33257081545440215,
                  "average_com": 0.7341091181011944,
                  "mood_next_day": 9.941401108616578,
                  "average_soc": 0.17590695626222788,
                  "_deepnote_index_column": 69
                },
                {
                  "average_mood": 9.937495937163597,
                  "total_calls": 0.26302359883208254,
                  "total_sms": 0.33257081545440215,
                  "average_com": 0.7823545879965896,
                  "mood_next_day": 8.912980304276932,
                  "average_soc": 0.1295273272115279,
                  "_deepnote_index_column": 70
                },
                {
                  "average_mood": 8.909479116077707,
                  "total_calls": 1.8411651918245777,
                  "total_sms": 0.33257081545440215,
                  "average_com": 0.6515848747375159,
                  "mood_next_day": 8.227366434717169,
                  "average_soc": 0.10348127943182749,
                  "_deepnote_index_column": 71
                },
                {
                  "average_mood": 8.224134568687115,
                  "total_calls": 1.5781415929924951,
                  "total_sms": 0,
                  "average_com": 0.5701426069148059,
                  "mood_next_day": 9.872839721660602,
                  "average_soc": 0.20355618609955203,
                  "_deepnote_index_column": 72
                },
                {
                  "average_mood": 9.868961482424536,
                  "total_calls": 0.26302359883208254,
                  "total_sms": 0,
                  "average_com": 0.5308011558452057,
                  "mood_next_day": 10.969821912956224,
                  "average_soc": 0.07355589650126441,
                  "_deepnote_index_column": 73
                },
                {
                  "average_mood": 10.965512758249485,
                  "total_calls": 2.1041887906566603,
                  "total_sms": 2.660566523635217,
                  "average_com": 0.7369552129666458,
                  "mood_next_day": 9.941401108616578,
                  "average_soc": 0.14715064157995633,
                  "_deepnote_index_column": 74
                },
                {
                  "average_mood": 9.937495937163597,
                  "total_calls": 3.6823303836491554,
                  "total_sms": 0.33257081545440215,
                  "average_com": 0.9917352687317661,
                  "mood_next_day": 9.141518260796854,
                  "average_soc": 0.09862099865749964,
                  "_deepnote_index_column": 75
                },
                {
                  "average_mood": 9.13792729854124,
                  "total_calls": 4.208377581313321,
                  "total_sms": 0.33257081545440215,
                  "average_com": 0,
                  "mood_next_day": 8.912980304276932,
                  "average_soc": 0,
                  "_deepnote_index_column": 76
                },
                {
                  "average_mood": 8.909479116077707,
                  "total_calls": 2.630235988320825,
                  "total_sms": 0,
                  "average_com": 0.33450384568951747,
                  "mood_next_day": 8.912980304276932,
                  "average_soc": 0,
                  "_deepnote_index_column": 77
                },
                {
                  "average_mood": 8.909479116077707,
                  "total_calls": 0.7890707964962476,
                  "total_sms": 0,
                  "average_com": 0,
                  "mood_next_day": 7.770290521677326,
                  "average_soc": 0,
                  "_deepnote_index_column": 78
                },
                {
                  "average_mood": 7.767238203760053,
                  "total_calls": 0.26302359883208254,
                  "total_sms": 0,
                  "average_com": 0,
                  "mood_next_day": 6.85613869559764,
                  "average_soc": 0,
                  "_deepnote_index_column": 79
                },
                {
                  "average_mood": 6.8534454739059285,
                  "total_calls": 2.367212389488743,
                  "total_sms": 0,
                  "average_com": 0,
                  "mood_next_day": 7.541752565157404,
                  "average_soc": 0,
                  "_deepnote_index_column": 80
                },
                {
                  "average_mood": 7.5387900212965215,
                  "total_calls": 2.1041887906566603,
                  "total_sms": 0,
                  "average_com": 0,
                  "mood_next_day": 7.770290521677326,
                  "average_soc": 0,
                  "_deepnote_index_column": 81
                },
                {
                  "average_mood": 7.767238203760053,
                  "total_calls": 3.945353982481238,
                  "total_sms": 3.9908497854528258,
                  "average_com": 0,
                  "mood_next_day": 7.541752565157404,
                  "average_soc": 0,
                  "_deepnote_index_column": 82
                }
              ],
              "rows_bottom": [
                {
                  "average_mood": 9.5948236634683,
                  "total_calls": 0,
                  "total_sms": 2.327995708180815,
                  "average_com": 1.2473481247248752,
                  "mood_next_day": 9.598594173836696,
                  "average_soc": 0.1214406530384243,
                  "_deepnote_index_column": 1132
                },
                {
                  "average_mood": 9.5948236634683,
                  "total_calls": 0,
                  "total_sms": 0,
                  "average_com": 1.0178194079853358,
                  "mood_next_day": 10.147085269484508,
                  "average_soc": 0.41838419444308583,
                  "_deepnote_index_column": 1133
                },
                {
                  "average_mood": 10.143099301380774,
                  "total_calls": 0,
                  "total_sms": 0,
                  "average_com": 0.6992384508568159,
                  "mood_next_day": 9.872839721660602,
                  "average_soc": 0,
                  "_deepnote_index_column": 1134
                },
                {
                  "average_mood": 9.868961482424536,
                  "total_calls": 0,
                  "total_sms": 0,
                  "average_com": 0.11027657964328762,
                  "mood_next_day": 9.427190706446755,
                  "average_soc": 1.3017523769196957,
                  "_deepnote_index_column": 1135
                },
                {
                  "average_mood": 9.42348752662065,
                  "total_calls": 0,
                  "total_sms": 0,
                  "average_com": 0.14725339501012571,
                  "mood_next_day": 9.598594173836696,
                  "average_soc": 0,
                  "_deepnote_index_column": 1136
                },
                {
                  "average_mood": 9.5948236634683,
                  "total_calls": 0,
                  "total_sms": 0,
                  "average_com": 0,
                  "mood_next_day": 9.598594173836696,
                  "average_soc": 0,
                  "_deepnote_index_column": 1137
                },
                {
                  "average_mood": 9.5948236634683,
                  "total_calls": 0,
                  "total_sms": 0,
                  "average_com": 0,
                  "mood_next_day": 10.055670086876539,
                  "average_soc": 0,
                  "_deepnote_index_column": 1138
                },
                {
                  "average_mood": 10.051720028395362,
                  "total_calls": 0,
                  "total_sms": 0,
                  "average_com": 0,
                  "mood_next_day": 9.598594173836696,
                  "average_soc": 0,
                  "_deepnote_index_column": 1139
                },
                {
                  "average_mood": 9.5948236634683,
                  "total_calls": 0,
                  "total_sms": 0,
                  "average_com": 0,
                  "mood_next_day": 9.598594173836696,
                  "average_soc": 0,
                  "_deepnote_index_column": 1140
                },
                {
                  "average_mood": 9.5948236634683,
                  "total_calls": 0,
                  "total_sms": 0,
                  "average_com": 0,
                  "mood_next_day": 9.598594173836696,
                  "average_soc": 0,
                  "_deepnote_index_column": 1141
                },
                {
                  "average_mood": 9.5948236634683,
                  "total_calls": 0,
                  "total_sms": 0,
                  "average_com": 0,
                  "mood_next_day": 9.598594173836696,
                  "average_soc": 0,
                  "_deepnote_index_column": 1142
                },
                {
                  "average_mood": 9.5948236634683,
                  "total_calls": 0,
                  "total_sms": 0,
                  "average_com": 0,
                  "mood_next_day": 10.284208043396461,
                  "average_soc": 0,
                  "_deepnote_index_column": 1143
                },
                {
                  "average_mood": 10.280168210858893,
                  "total_calls": 1.0520943953283302,
                  "total_sms": 0,
                  "average_com": 1.0032390668504958,
                  "mood_next_day": 9.598594173836696,
                  "average_soc": 0.10255247469316457,
                  "_deepnote_index_column": 1144
                },
                {
                  "average_mood": 9.5948236634683,
                  "total_calls": 1.3151179941604125,
                  "total_sms": 3.3257081545440217,
                  "average_com": 0.9950965807746374,
                  "mood_next_day": 10.969821912956224,
                  "average_soc": 0,
                  "_deepnote_index_column": 1145
                },
                {
                  "average_mood": 10.965512758249485,
                  "total_calls": 0.5260471976641651,
                  "total_sms": 0.33257081545440215,
                  "average_com": 1.1960282986792672,
                  "mood_next_day": 10.969821912956224,
                  "average_soc": 0,
                  "_deepnote_index_column": 1146
                },
                {
                  "average_mood": 10.965512758249485,
                  "total_calls": 0.26302359883208254,
                  "total_sms": 0,
                  "average_com": 1.244074250394271,
                  "mood_next_day": 11.518313008604036,
                  "average_soc": 0.4764700324330346,
                  "_deepnote_index_column": 1147
                },
                {
                  "average_mood": 11.51378839616196,
                  "total_calls": 1.3151179941604125,
                  "total_sms": 0,
                  "average_com": 1.814439386163735,
                  "mood_next_day": 10.421330817308412,
                  "average_soc": 1.544526201932328,
                  "_deepnote_index_column": 1148
                },
                {
                  "average_mood": 10.417237120337012,
                  "total_calls": 0.26302359883208254,
                  "total_sms": 2.660566523635217,
                  "average_com": 1.4589179504642649,
                  "mood_next_day": 9.598594173836696,
                  "average_soc": 0.733869051894547,
                  "_deepnote_index_column": 1149
                },
                {
                  "average_mood": 9.5948236634683,
                  "total_calls": 2.8932595871529077,
                  "total_sms": 0,
                  "average_com": 1.0575610224770464,
                  "mood_next_day": 10.695576365132318,
                  "average_soc": 0,
                  "_deepnote_index_column": 1150
                },
                {
                  "average_mood": 10.691374939293247,
                  "total_calls": 0.26302359883208254,
                  "total_sms": 0,
                  "average_com": 1.8289715767295807,
                  "mood_next_day": 10.055670086876539,
                  "average_soc": 0.3774450085702888,
                  "_deepnote_index_column": 1151
                },
                {
                  "average_mood": 10.051720028395362,
                  "total_calls": 3.945353982481238,
                  "total_sms": 0,
                  "average_com": 1.1080919691432833,
                  "mood_next_day": 11.312628847736107,
                  "average_soc": 0,
                  "_deepnote_index_column": 1152
                },
                {
                  "average_mood": 11.308185031944783,
                  "total_calls": 0.5260471976641651,
                  "total_sms": 0,
                  "average_com": 1.3502997042201033,
                  "mood_next_day": 10.512745999916381,
                  "average_soc": 2.6262026826777096,
                  "_deepnote_index_column": 1153
                },
                {
                  "average_mood": 10.508616393322423,
                  "total_calls": 1.5781415929924951,
                  "total_sms": 3.6582789699984235,
                  "average_com": 1.3430417031435535,
                  "mood_next_day": 11.792558556427942,
                  "average_soc": 0,
                  "_deepnote_index_column": 1154
                },
                {
                  "average_mood": 11.787926215118196,
                  "total_calls": 1.3151179941604125,
                  "total_sms": 0,
                  "average_com": 1.4648071167667154,
                  "mood_next_day": 10.969821912956224,
                  "average_soc": 0.7179527897224924,
                  "_deepnote_index_column": 1155
                },
                {
                  "average_mood": 10.965512758249485,
                  "total_calls": 1.5781415929924951,
                  "total_sms": 0,
                  "average_com": 1.352875498814551,
                  "mood_next_day": 10.284208043396461,
                  "average_soc": 0.925307071741875,
                  "_deepnote_index_column": 1156
                },
                {
                  "average_mood": 10.280168210858893,
                  "total_calls": 0.7890707964962476,
                  "total_sms": 0,
                  "average_com": 1.6029458169189,
                  "mood_next_day": 10.969821912956224,
                  "average_soc": 0,
                  "_deepnote_index_column": 1157
                },
                {
                  "average_mood": 10.965512758249485,
                  "total_calls": 2.1041887906566603,
                  "total_sms": 0,
                  "average_com": 1.1324282422999306,
                  "mood_next_day": 11.655435782515989,
                  "average_soc": 0,
                  "_deepnote_index_column": 1158
                },
                {
                  "average_mood": 11.650857305640079,
                  "total_calls": 1.8411651918245777,
                  "total_sms": 0,
                  "average_com": 1.3095223409251069,
                  "mood_next_day": 11.655435782515989,
                  "average_soc": 2.8216265665691007,
                  "_deepnote_index_column": 1159
                },
                {
                  "average_mood": 11.650857305640079,
                  "total_calls": 1.0520943953283302,
                  "total_sms": 0,
                  "average_com": 0.9857174209594636,
                  "mood_next_day": 9.598594173836696,
                  "average_soc": 0,
                  "_deepnote_index_column": 1160
                },
                {
                  "average_mood": 9.5948236634683,
                  "total_calls": 0.7890707964962476,
                  "total_sms": 0,
                  "average_com": 1.4143932122617358,
                  "mood_next_day": 10.969821912956224,
                  "average_soc": 0.4128554868954723,
                  "_deepnote_index_column": 1161
                },
                {
                  "average_mood": 10.965512758249485,
                  "total_calls": 2.367212389488743,
                  "total_sms": 0,
                  "average_com": 1.4307213970892159,
                  "mood_next_day": 10.055670086876539,
                  "average_soc": 0.4364249188207481,
                  "_deepnote_index_column": 1162
                },
                {
                  "average_mood": 10.051720028395362,
                  "total_calls": 2.630235988320825,
                  "total_sms": 0,
                  "average_com": 0.8361892300393221,
                  "mood_next_day": 10.284208043396461,
                  "average_soc": 1.0442730703981662,
                  "_deepnote_index_column": 1163
                },
                {
                  "average_mood": 10.280168210858893,
                  "total_calls": 1.8411651918245777,
                  "total_sms": 0,
                  "average_com": 1.9963408406685468,
                  "mood_next_day": 10.969821912956224,
                  "average_soc": 0,
                  "_deepnote_index_column": 1164
                },
                {
                  "average_mood": 10.965512758249485,
                  "total_calls": 1.3151179941604125,
                  "total_sms": 0,
                  "average_com": 1.3360453320512282,
                  "mood_next_day": 9.598594173836696,
                  "average_soc": 0,
                  "_deepnote_index_column": 1165
                },
                {
                  "average_mood": 9.5948236634683,
                  "total_calls": 1.5781415929924951,
                  "total_sms": 0,
                  "average_com": 2.0756506231695027,
                  "mood_next_day": 9.598594173836696,
                  "average_soc": 0,
                  "_deepnote_index_column": 1166
                },
                {
                  "average_mood": 9.5948236634683,
                  "total_calls": 2.367212389488743,
                  "total_sms": 0,
                  "average_com": 1.4816242375990436,
                  "mood_next_day": 9.941401108616578,
                  "average_soc": 0,
                  "_deepnote_index_column": 1167
                },
                {
                  "average_mood": 9.937495937163597,
                  "total_calls": 2.630235988320825,
                  "total_sms": 0,
                  "average_com": 1.292767089019275,
                  "mood_next_day": 10.284208043396461,
                  "average_soc": 0,
                  "_deepnote_index_column": 1168
                },
                {
                  "average_mood": 10.280168210858893,
                  "total_calls": 0.5260471976641651,
                  "total_sms": 0,
                  "average_com": 2.412913311186884,
                  "mood_next_day": 11.883973739035909,
                  "average_soc": 0.41321677866554823,
                  "_deepnote_index_column": 1169
                },
                {
                  "average_mood": 11.879305488103608,
                  "total_calls": 0.26302359883208254,
                  "total_sms": 0,
                  "average_com": 2.5756427422418544,
                  "mood_next_day": 8.912980304276932,
                  "average_soc": 0.8354270030055672,
                  "_deepnote_index_column": 1170
                },
                {
                  "average_mood": 8.909479116077707,
                  "total_calls": 1.0520943953283302,
                  "total_sms": 0,
                  "average_com": 1.3529904814534583,
                  "mood_next_day": 8.227366434717169,
                  "average_soc": 0.007824103493902319,
                  "_deepnote_index_column": 1171
                },
                {
                  "average_mood": 8.224134568687115,
                  "total_calls": 3.419306784817073,
                  "total_sms": 0,
                  "average_com": 1.7434000363236009,
                  "mood_next_day": 10.627014978176343,
                  "average_soc": 0,
                  "_deepnote_index_column": 1172
                },
                {
                  "average_mood": 10.622840484554189,
                  "total_calls": 2.367212389488743,
                  "total_sms": 0,
                  "average_com": 0.9611670118564194,
                  "mood_next_day": 9.941401108616578,
                  "average_soc": 0,
                  "_deepnote_index_column": 1173
                },
                {
                  "average_mood": 9.937495937163597,
                  "total_calls": 1.5781415929924951,
                  "total_sms": 0,
                  "average_com": 1.5503610658420501,
                  "mood_next_day": 9.872839721660602,
                  "average_soc": 0,
                  "_deepnote_index_column": 1174
                },
                {
                  "average_mood": 9.868961482424536,
                  "total_calls": 0,
                  "total_sms": 0,
                  "average_com": 1.9114799887919147,
                  "mood_next_day": 9.769997641226638,
                  "average_soc": 0,
                  "_deepnote_index_column": 1175
                },
                {
                  "average_mood": 9.766159800315949,
                  "total_calls": 1.3151179941604125,
                  "total_sms": 0,
                  "average_com": 1.0192457451181007,
                  "mood_next_day": 9.872839721660602,
                  "average_soc": 0.9893188145528929,
                  "_deepnote_index_column": 1176
                },
                {
                  "average_mood": 9.868961482424536,
                  "total_calls": 0.5260471976641651,
                  "total_sms": 0,
                  "average_com": 0.9128989903103506,
                  "mood_next_day": 10.147085269484508,
                  "average_soc": 0.586853831885082,
                  "_deepnote_index_column": 1177
                },
                {
                  "average_mood": 10.143099301380774,
                  "total_calls": 0.7890707964962476,
                  "total_sms": 0,
                  "average_com": 1.8820853098649812,
                  "mood_next_day": 10.512745999916381,
                  "average_soc": 0.9209008367703648,
                  "_deepnote_index_column": 1178
                },
                {
                  "average_mood": 10.508616393322423,
                  "total_calls": 0,
                  "total_sms": 0,
                  "average_com": 3.943461190082073,
                  "mood_next_day": 10.147085269484508,
                  "average_soc": 1.0609851925650375,
                  "_deepnote_index_column": 1179
                },
                {
                  "average_mood": 10.143099301380774,
                  "total_calls": 0,
                  "total_sms": 0,
                  "average_com": 1.8689174275130414,
                  "mood_next_day": 9.872839721660602,
                  "average_soc": 0.6191106021432993,
                  "_deepnote_index_column": 1180
                },
                {
                  "average_mood": 9.868961482424536,
                  "total_calls": 0,
                  "total_sms": 0,
                  "average_com": 1.6867631653404802,
                  "mood_next_day": 8.501611982541075,
                  "average_soc": 1.1840089429950482,
                  "_deepnote_index_column": 1181
                },
                {
                  "average_mood": 8.498272387643352,
                  "total_calls": 2.367212389488743,
                  "total_sms": 0,
                  "average_com": 1.2521361555851307,
                  "mood_next_day": 7.130384243421546,
                  "average_soc": 0.7133071473384519,
                  "_deepnote_index_column": 1182
                },
                {
                  "average_mood": 7.127583292862166,
                  "total_calls": 0.26302359883208254,
                  "total_sms": 0,
                  "average_com": 0.8190885769422928,
                  "mood_next_day": 9.598594173836696,
                  "average_soc": 1.0921818216449142,
                  "_deepnote_index_column": 1183
                },
                {
                  "average_mood": 9.5948236634683,
                  "total_calls": 1.3151179941604125,
                  "total_sms": 1.6628540772720108,
                  "average_com": 1.4005830633972836,
                  "mood_next_day": 11.518313008604036,
                  "average_soc": 0.6228480940427584,
                  "_deepnote_index_column": 1184
                },
                {
                  "average_mood": 11.51378839616196,
                  "total_calls": 8.153731563794558,
                  "total_sms": 0.6651416309088043,
                  "average_com": 0.7669271508428341,
                  "mood_next_day": 10.421330817308412,
                  "average_soc": 0.35132615467288014,
                  "_deepnote_index_column": 1185
                },
                {
                  "average_mood": 10.417237120337012,
                  "total_calls": 4.734424778977486,
                  "total_sms": 0,
                  "average_com": 0.803714695190415,
                  "mood_next_day": 8.501611982541075,
                  "average_soc": 0.39778918064857793,
                  "_deepnote_index_column": 1186
                },
                {
                  "average_mood": 8.498272387643352,
                  "total_calls": 1.0520943953283302,
                  "total_sms": 0,
                  "average_com": 1.7263620175504053,
                  "mood_next_day": 9.255787239056815,
                  "average_soc": 1.0527226996748442,
                  "_deepnote_index_column": 1187
                },
                {
                  "average_mood": 9.252151389773003,
                  "total_calls": 0.5260471976641651,
                  "total_sms": 1.6628540772720108,
                  "average_com": 1.8935948339077784,
                  "mood_next_day": 8.501611982541075,
                  "average_soc": 0.544885407471935,
                  "_deepnote_index_column": 1188
                },
                {
                  "average_mood": 8.498272387643352,
                  "total_calls": 0.7890707964962476,
                  "total_sms": 0,
                  "average_com": 1.0005976461033235,
                  "mood_next_day": 8.77585753036498,
                  "average_soc": 0.6329642680498017,
                  "_deepnote_index_column": 1189
                },
                {
                  "average_mood": 8.77241020659959,
                  "total_calls": 0.26302359883208254,
                  "total_sms": 0,
                  "average_com": 0.9429007150936213,
                  "mood_next_day": 10.284208043396461,
                  "average_soc": 0.7501220017376399,
                  "_deepnote_index_column": 1190
                },
                {
                  "average_mood": 10.280168210858893,
                  "total_calls": 2.8932595871529077,
                  "total_sms": 0,
                  "average_com": 1.0385968101841274,
                  "mood_next_day": 8.398769902107109,
                  "average_soc": 0.5755059914509083,
                  "_deepnote_index_column": 1191
                },
                {
                  "average_mood": 8.395470705534763,
                  "total_calls": 0.26302359883208254,
                  "total_sms": 0,
                  "average_com": 0.1890341272055678,
                  "mood_next_day": 9.050103078188885,
                  "average_soc": 1.035213582142069,
                  "_deepnote_index_column": 1192
                },
                {
                  "average_mood": 9.046548025555825,
                  "total_calls": 0,
                  "total_sms": 0,
                  "average_com": 1.6837390430850596,
                  "mood_next_day": 6.581893147773735,
                  "average_soc": 1.2313271305158973,
                  "_deepnote_index_column": 1193
                },
                {
                  "average_mood": 6.579307654949691,
                  "total_calls": 0,
                  "total_sms": 0,
                  "average_com": 1.6548498724086407,
                  "mood_next_day": 10.421330817308412,
                  "average_soc": 1.2228026791807654,
                  "_deepnote_index_column": 1194
                },
                {
                  "average_mood": 10.417237120337012,
                  "total_calls": 0,
                  "total_sms": 0,
                  "average_com": 0.48254232525542895,
                  "mood_next_day": 8.227366434717169,
                  "average_soc": 0.3602425809955446,
                  "_deepnote_index_column": 1195
                },
                {
                  "average_mood": 8.224134568687115,
                  "total_calls": 0,
                  "total_sms": 0,
                  "average_com": 0.9618299333156052,
                  "mood_next_day": 8.227366434717169,
                  "average_soc": 0.8495455983737125,
                  "_deepnote_index_column": 1196
                },
                {
                  "average_mood": 8.224134568687115,
                  "total_calls": 3.419306784817073,
                  "total_sms": 0,
                  "average_com": 1.8964529217987358,
                  "mood_next_day": 6.85613869559764,
                  "average_soc": 0.7469225438966449,
                  "_deepnote_index_column": 1197
                },
                {
                  "average_mood": 6.8534454739059285,
                  "total_calls": 0,
                  "total_sms": 0,
                  "average_com": 3.131037186176138,
                  "mood_next_day": 9.370056217316774,
                  "average_soc": 0.547727580968449,
                  "_deepnote_index_column": 1198
                },
                {
                  "average_mood": 9.366375481004768,
                  "total_calls": 0,
                  "total_sms": 0,
                  "average_com": 0.7156145807587688,
                  "mood_next_day": 8.227366434717169,
                  "average_soc": 1.7160888325256498,
                  "_deepnote_index_column": 1199
                },
                {
                  "average_mood": 8.224134568687115,
                  "total_calls": 2.1041887906566603,
                  "total_sms": 0,
                  "average_com": 1.236006166053964,
                  "mood_next_day": 9.598594173836696,
                  "average_soc": 0.6490940061616767,
                  "_deepnote_index_column": 1200
                },
                {
                  "average_mood": 9.5948236634683,
                  "total_calls": 2.8932595871529077,
                  "total_sms": 0,
                  "average_com": 1.1108133835987428,
                  "mood_next_day": 8.227366434717169,
                  "average_soc": 0.5218950107506373,
                  "_deepnote_index_column": 1201
                },
                {
                  "average_mood": 8.224134568687115,
                  "total_calls": 0,
                  "total_sms": 0,
                  "average_com": 0.7624830167213937,
                  "mood_next_day": 8.227366434717169,
                  "average_soc": 0.6757107890566798,
                  "_deepnote_index_column": 1202
                },
                {
                  "average_mood": 8.224134568687115,
                  "total_calls": 0,
                  "total_sms": 0,
                  "average_com": 2.293532232251957,
                  "mood_next_day": 8.501611982541075,
                  "average_soc": 0.9215684017281552,
                  "_deepnote_index_column": 1203
                },
                {
                  "average_mood": 8.498272387643352,
                  "total_calls": 0,
                  "total_sms": 0,
                  "average_com": 0.8838479098445228,
                  "mood_next_day": 8.57017336949705,
                  "average_soc": 0.9714263098525596,
                  "_deepnote_index_column": 1204
                },
                {
                  "average_mood": 8.56680684238241,
                  "total_calls": 0,
                  "total_sms": 0,
                  "average_com": 2.5724411194830377,
                  "mood_next_day": 8.227366434717169,
                  "average_soc": 1.2054707275989822,
                  "_deepnote_index_column": 1205
                },
                {
                  "average_mood": 8.224134568687115,
                  "total_calls": 0,
                  "total_sms": 0,
                  "average_com": 1.8629671579562739,
                  "mood_next_day": 7.8845594999372866,
                  "average_soc": 0.9467788358803744,
                  "_deepnote_index_column": 1206
                },
                {
                  "average_mood": 7.881462294991818,
                  "total_calls": 2.1041887906566603,
                  "total_sms": 0,
                  "average_com": 1.2126229865117617,
                  "mood_next_day": 7.998828478197247,
                  "average_soc": 0.40576520153032936,
                  "_deepnote_index_column": 1207
                },
                {
                  "average_mood": 7.995686386223583,
                  "total_calls": 0,
                  "total_sms": 0,
                  "average_com": 0.9942130465404586,
                  "mood_next_day": 8.77585753036498,
                  "average_soc": 1.5165761808717328,
                  "_deepnote_index_column": 1208
                },
                {
                  "average_mood": 8.77241020659959,
                  "total_calls": 0,
                  "total_sms": 0,
                  "average_com": 1.1188935139175475,
                  "mood_next_day": 8.57017336949705,
                  "average_soc": 0.8359508724072173,
                  "_deepnote_index_column": 1209
                },
                {
                  "average_mood": 8.56680684238241,
                  "total_calls": 0.7890707964962476,
                  "total_sms": 2.660566523635217,
                  "average_com": 0.9295543478779658,
                  "mood_next_day": 7.404629791245452,
                  "average_soc": 0.35378980145262945,
                  "_deepnote_index_column": 1210
                },
                {
                  "average_mood": 7.401721111818404,
                  "total_calls": 2.630235988320825,
                  "total_sms": 0.9977124463632064,
                  "average_com": 0.9159594115220545,
                  "mood_next_day": 8.501611982541075,
                  "average_soc": 0.8627974114594756,
                  "_deepnote_index_column": 1211
                },
                {
                  "average_mood": 8.498272387643352,
                  "total_calls": 0.26302359883208254,
                  "total_sms": 0.6651416309088043,
                  "average_com": 1.5848373251303276,
                  "mood_next_day": 11.24406746078013,
                  "average_soc": 0.3904989075574837,
                  "_deepnote_index_column": 1212
                },
                {
                  "average_mood": 11.239650577205722,
                  "total_calls": 2.630235988320825,
                  "total_sms": 0.33257081545440215,
                  "average_com": 0.9938436544509868,
                  "mood_next_day": 9.598594173836696,
                  "average_soc": 0.7713904468102459,
                  "_deepnote_index_column": 1213
                },
                {
                  "average_mood": 9.5948236634683,
                  "total_calls": 1.3151179941604125,
                  "total_sms": 0,
                  "average_com": 1.4515334942428806,
                  "mood_next_day": 9.32434862601279,
                  "average_soc": 1.5452427423604358,
                  "_deepnote_index_column": 1214
                }
              ]
            },
            "text/plain": "      average_mood  total_calls  total_sms  average_com  mood_next_day  \\\n0         8.566807     0.000000   0.000000     0.000000       8.570173   \n1         8.566807     1.578142   0.000000     1.470413       8.775858   \n2         8.772410     0.000000   0.000000     1.379713       9.324349   \n3         9.320686     0.000000   0.000000     1.426284       8.227366   \n4         8.224135     0.000000   0.000000     1.268813       9.255787   \n...            ...          ...        ...          ...            ...   \n1210      8.566807     0.789071   2.660567     0.929554       7.404630   \n1211      7.401721     2.630236   0.997712     0.915959       8.501612   \n1212      8.498272     0.263024   0.665142     1.584837      11.244067   \n1213     11.239651     2.630236   0.332571     0.993844       9.598594   \n1214      9.594824     1.315118   0.000000     1.451533       9.324349   \n\n      average_soc  \n0        0.000000  \n1        0.583829  \n2        0.284651  \n3        0.388848  \n4        0.582480  \n...           ...  \n1210     0.353790  \n1211     0.862797  \n1212     0.390499  \n1213     0.771390  \n1214     1.545243  \n\n[1215 rows x 6 columns]",
            "text/html": "<div>\n<style scoped>\n    .dataframe tbody tr th:only-of-type {\n        vertical-align: middle;\n    }\n\n    .dataframe tbody tr th {\n        vertical-align: top;\n    }\n\n    .dataframe thead th {\n        text-align: right;\n    }\n</style>\n<table border=\"1\" class=\"dataframe\">\n  <thead>\n    <tr style=\"text-align: right;\">\n      <th></th>\n      <th>average_mood</th>\n      <th>total_calls</th>\n      <th>total_sms</th>\n      <th>average_com</th>\n      <th>mood_next_day</th>\n      <th>average_soc</th>\n    </tr>\n  </thead>\n  <tbody>\n    <tr>\n      <th>0</th>\n      <td>8.566807</td>\n      <td>0.000000</td>\n      <td>0.000000</td>\n      <td>0.000000</td>\n      <td>8.570173</td>\n      <td>0.000000</td>\n    </tr>\n    <tr>\n      <th>1</th>\n      <td>8.566807</td>\n      <td>1.578142</td>\n      <td>0.000000</td>\n      <td>1.470413</td>\n      <td>8.775858</td>\n      <td>0.583829</td>\n    </tr>\n    <tr>\n      <th>2</th>\n      <td>8.772410</td>\n      <td>0.000000</td>\n      <td>0.000000</td>\n      <td>1.379713</td>\n      <td>9.324349</td>\n      <td>0.284651</td>\n    </tr>\n    <tr>\n      <th>3</th>\n      <td>9.320686</td>\n      <td>0.000000</td>\n      <td>0.000000</td>\n      <td>1.426284</td>\n      <td>8.227366</td>\n      <td>0.388848</td>\n    </tr>\n    <tr>\n      <th>4</th>\n      <td>8.224135</td>\n      <td>0.000000</td>\n      <td>0.000000</td>\n      <td>1.268813</td>\n      <td>9.255787</td>\n      <td>0.582480</td>\n    </tr>\n    <tr>\n      <th>...</th>\n      <td>...</td>\n      <td>...</td>\n      <td>...</td>\n      <td>...</td>\n      <td>...</td>\n      <td>...</td>\n    </tr>\n    <tr>\n      <th>1210</th>\n      <td>8.566807</td>\n      <td>0.789071</td>\n      <td>2.660567</td>\n      <td>0.929554</td>\n      <td>7.404630</td>\n      <td>0.353790</td>\n    </tr>\n    <tr>\n      <th>1211</th>\n      <td>7.401721</td>\n      <td>2.630236</td>\n      <td>0.997712</td>\n      <td>0.915959</td>\n      <td>8.501612</td>\n      <td>0.862797</td>\n    </tr>\n    <tr>\n      <th>1212</th>\n      <td>8.498272</td>\n      <td>0.263024</td>\n      <td>0.665142</td>\n      <td>1.584837</td>\n      <td>11.244067</td>\n      <td>0.390499</td>\n    </tr>\n    <tr>\n      <th>1213</th>\n      <td>11.239651</td>\n      <td>2.630236</td>\n      <td>0.332571</td>\n      <td>0.993844</td>\n      <td>9.598594</td>\n      <td>0.771390</td>\n    </tr>\n    <tr>\n      <th>1214</th>\n      <td>9.594824</td>\n      <td>1.315118</td>\n      <td>0.000000</td>\n      <td>1.451533</td>\n      <td>9.324349</td>\n      <td>1.545243</td>\n    </tr>\n  </tbody>\n</table>\n<p>1215 rows × 6 columns</p>\n</div>"
          },
          "metadata": {}
        }
      ]
    },
    {
      "cell_type": "code",
      "metadata": {
        "tags": [],
        "cell_id": "00020-f06f7ef2-c4bf-41a5-8972-285e631a0e8f",
        "deepnote_to_be_reexecuted": false,
        "source_hash": "a85d787f",
        "execution_millis": 4,
        "execution_start": 1617721811650,
        "deepnote_cell_type": "code"
      },
      "source": "dfp = minmax_scaling(dfp, columns=dfp.columns)\ndfp = np.log(dfp+1)",
      "execution_count": null,
      "outputs": []
    },
    {
      "cell_type": "code",
      "metadata": {
        "tags": [],
        "cell_id": "00023-4395d940-fbee-43b8-af72-b2b3b68da623",
        "deepnote_to_be_reexecuted": false,
        "source_hash": "ad367fb1",
        "execution_millis": 1,
        "execution_start": 1617721815108,
        "deepnote_cell_type": "code"
      },
      "source": "for col in dfp.columns:\n    df[col] = dfp[col]",
      "execution_count": null,
      "outputs": []
    },
    {
      "cell_type": "code",
      "metadata": {
        "tags": [],
        "cell_id": "00024-7c8a1b26-5b58-4700-93eb-bd0bc0fada7b",
        "deepnote_to_be_reexecuted": false,
        "source_hash": "f804c160",
        "execution_millis": 63,
        "execution_start": 1617721816256,
        "deepnote_cell_type": "code"
      },
      "source": "df",
      "execution_count": null,
      "outputs": [
        {
          "output_type": "execute_result",
          "execution_count": 122,
          "data": {
            "application/vnd.deepnote.dataframe.v2+json": {
              "row_count": 1215,
              "column_count": 9,
              "columns": [
                {
                  "name": "unique_id",
                  "dtype": "object",
                  "stats": {
                    "unique_count": 1215,
                    "nan_count": 0,
                    "categories": [
                      {
                        "name": "2014-02-26_AS14.01",
                        "count": 1
                      },
                      {
                        "name": "2014-03-21_AS14.01",
                        "count": 1
                      },
                      {
                        "name": "1213 others",
                        "count": 1213
                      }
                    ]
                  }
                },
                {
                  "name": "id",
                  "dtype": "object",
                  "stats": {
                    "unique_count": 27,
                    "nan_count": 0,
                    "categories": [
                      {
                        "name": "AS14.26",
                        "count": 66
                      },
                      {
                        "name": "AS14.08",
                        "count": 61
                      },
                      {
                        "name": "25 others",
                        "count": 1088
                      }
                    ]
                  }
                },
                {
                  "name": "date",
                  "dtype": "object",
                  "stats": {
                    "unique_count": 95,
                    "nan_count": 0,
                    "categories": [
                      {
                        "name": "2014-04-16",
                        "count": 27
                      },
                      {
                        "name": "2014-04-17",
                        "count": 27
                      },
                      {
                        "name": "93 others",
                        "count": 1161
                      }
                    ]
                  }
                },
                {
                  "name": "average_mood",
                  "dtype": "float64",
                  "stats": {
                    "unique_count": 71,
                    "nan_count": 0,
                    "min": 0,
                    "max": 0.6931471805599453,
                    "histogram": [
                      {
                        "bin_start": 0,
                        "bin_end": 0.06931471805599453,
                        "count": 2
                      },
                      {
                        "bin_start": 0.06931471805599453,
                        "bin_end": 0.13862943611198905,
                        "count": 5
                      },
                      {
                        "bin_start": 0.13862943611198905,
                        "bin_end": 0.20794415416798356,
                        "count": 2
                      },
                      {
                        "bin_start": 0.20794415416798356,
                        "bin_end": 0.2772588722239781,
                        "count": 9
                      },
                      {
                        "bin_start": 0.2772588722239781,
                        "bin_end": 0.34657359027997264,
                        "count": 27
                      },
                      {
                        "bin_start": 0.34657359027997264,
                        "bin_end": 0.4158883083359671,
                        "count": 143
                      },
                      {
                        "bin_start": 0.4158883083359671,
                        "bin_end": 0.48520302639196167,
                        "count": 290
                      },
                      {
                        "bin_start": 0.48520302639196167,
                        "bin_end": 0.5545177444479562,
                        "count": 549
                      },
                      {
                        "bin_start": 0.5545177444479562,
                        "bin_end": 0.6238324625039507,
                        "count": 174
                      },
                      {
                        "bin_start": 0.6238324625039507,
                        "bin_end": 0.6931471805599453,
                        "count": 14
                      }
                    ]
                  }
                },
                {
                  "name": "total_calls",
                  "dtype": "float64",
                  "stats": {
                    "unique_count": 23,
                    "nan_count": 0,
                    "min": 0,
                    "max": 0.6931471805599453,
                    "histogram": [
                      {
                        "bin_start": 0,
                        "bin_end": 0.06931471805599453,
                        "count": 852
                      },
                      {
                        "bin_start": 0.06931471805599453,
                        "bin_end": 0.13862943611198905,
                        "count": 115
                      },
                      {
                        "bin_start": 0.13862943611198905,
                        "bin_end": 0.20794415416798356,
                        "count": 117
                      },
                      {
                        "bin_start": 0.20794415416798356,
                        "bin_end": 0.2772588722239781,
                        "count": 59
                      },
                      {
                        "bin_start": 0.2772588722239781,
                        "bin_end": 0.34657359027997264,
                        "count": 43
                      },
                      {
                        "bin_start": 0.34657359027997264,
                        "bin_end": 0.4158883083359671,
                        "count": 16
                      },
                      {
                        "bin_start": 0.4158883083359671,
                        "bin_end": 0.48520302639196167,
                        "count": 7
                      },
                      {
                        "bin_start": 0.48520302639196167,
                        "bin_end": 0.5545177444479562,
                        "count": 3
                      },
                      {
                        "bin_start": 0.5545177444479562,
                        "bin_end": 0.6238324625039507,
                        "count": 2
                      },
                      {
                        "bin_start": 0.6238324625039507,
                        "bin_end": 0.6931471805599453,
                        "count": 1
                      }
                    ]
                  }
                },
                {
                  "name": "total_sms",
                  "dtype": "float64",
                  "stats": {
                    "unique_count": 22,
                    "nan_count": 0,
                    "min": 0,
                    "max": 0.6931471805599453,
                    "histogram": [
                      {
                        "bin_start": 0,
                        "bin_end": 0.06931471805599453,
                        "count": 1108
                      },
                      {
                        "bin_start": 0.06931471805599453,
                        "bin_end": 0.13862943611198905,
                        "count": 47
                      },
                      {
                        "bin_start": 0.13862943611198905,
                        "bin_end": 0.20794415416798356,
                        "count": 25
                      },
                      {
                        "bin_start": 0.20794415416798356,
                        "bin_end": 0.2772588722239781,
                        "count": 8
                      },
                      {
                        "bin_start": 0.2772588722239781,
                        "bin_end": 0.34657359027997264,
                        "count": 16
                      },
                      {
                        "bin_start": 0.34657359027997264,
                        "bin_end": 0.4158883083359671,
                        "count": 3
                      },
                      {
                        "bin_start": 0.4158883083359671,
                        "bin_end": 0.48520302639196167,
                        "count": 0
                      },
                      {
                        "bin_start": 0.48520302639196167,
                        "bin_end": 0.5545177444479562,
                        "count": 5
                      },
                      {
                        "bin_start": 0.5545177444479562,
                        "bin_end": 0.6238324625039507,
                        "count": 2
                      },
                      {
                        "bin_start": 0.6238324625039507,
                        "bin_end": 0.6931471805599453,
                        "count": 1
                      }
                    ]
                  }
                },
                {
                  "name": "average_com",
                  "dtype": "float64",
                  "stats": {
                    "unique_count": 1104,
                    "nan_count": 0,
                    "min": 0,
                    "max": 0.6931471805599453,
                    "histogram": [
                      {
                        "bin_start": 0,
                        "bin_end": 0.06931471805599453,
                        "count": 631
                      },
                      {
                        "bin_start": 0.06931471805599453,
                        "bin_end": 0.13862943611198905,
                        "count": 498
                      },
                      {
                        "bin_start": 0.13862943611198905,
                        "bin_end": 0.20794415416798356,
                        "count": 61
                      },
                      {
                        "bin_start": 0.20794415416798356,
                        "bin_end": 0.2772588722239781,
                        "count": 12
                      },
                      {
                        "bin_start": 0.2772588722239781,
                        "bin_end": 0.34657359027997264,
                        "count": 6
                      },
                      {
                        "bin_start": 0.34657359027997264,
                        "bin_end": 0.4158883083359671,
                        "count": 0
                      },
                      {
                        "bin_start": 0.4158883083359671,
                        "bin_end": 0.48520302639196167,
                        "count": 1
                      },
                      {
                        "bin_start": 0.48520302639196167,
                        "bin_end": 0.5545177444479562,
                        "count": 4
                      },
                      {
                        "bin_start": 0.5545177444479562,
                        "bin_end": 0.6238324625039507,
                        "count": 1
                      },
                      {
                        "bin_start": 0.6238324625039507,
                        "bin_end": 0.6931471805599453,
                        "count": 1
                      }
                    ]
                  }
                },
                {
                  "name": "mood_next_day",
                  "dtype": "float64",
                  "stats": {
                    "unique_count": 71,
                    "nan_count": 0,
                    "min": 0,
                    "max": 0.6931471805599453,
                    "histogram": [
                      {
                        "bin_start": 0,
                        "bin_end": 0.06931471805599453,
                        "count": 2
                      },
                      {
                        "bin_start": 0.06931471805599453,
                        "bin_end": 0.13862943611198905,
                        "count": 5
                      },
                      {
                        "bin_start": 0.13862943611198905,
                        "bin_end": 0.20794415416798356,
                        "count": 2
                      },
                      {
                        "bin_start": 0.20794415416798356,
                        "bin_end": 0.2772588722239781,
                        "count": 9
                      },
                      {
                        "bin_start": 0.2772588722239781,
                        "bin_end": 0.34657359027997264,
                        "count": 27
                      },
                      {
                        "bin_start": 0.34657359027997264,
                        "bin_end": 0.4158883083359671,
                        "count": 142
                      },
                      {
                        "bin_start": 0.4158883083359671,
                        "bin_end": 0.48520302639196167,
                        "count": 291
                      },
                      {
                        "bin_start": 0.48520302639196167,
                        "bin_end": 0.5545177444479562,
                        "count": 549
                      },
                      {
                        "bin_start": 0.5545177444479562,
                        "bin_end": 0.6238324625039507,
                        "count": 174
                      },
                      {
                        "bin_start": 0.6238324625039507,
                        "bin_end": 0.6931471805599453,
                        "count": 14
                      }
                    ]
                  }
                },
                {
                  "name": "average_soc",
                  "dtype": "float64",
                  "stats": {
                    "unique_count": 926,
                    "nan_count": 0,
                    "min": 0,
                    "max": 0.6931471805599453,
                    "histogram": [
                      {
                        "bin_start": 0,
                        "bin_end": 0.06931471805599453,
                        "count": 1198
                      },
                      {
                        "bin_start": 0.06931471805599453,
                        "bin_end": 0.13862943611198905,
                        "count": 12
                      },
                      {
                        "bin_start": 0.13862943611198905,
                        "bin_end": 0.20794415416798356,
                        "count": 4
                      },
                      {
                        "bin_start": 0.20794415416798356,
                        "bin_end": 0.2772588722239781,
                        "count": 0
                      },
                      {
                        "bin_start": 0.2772588722239781,
                        "bin_end": 0.34657359027997264,
                        "count": 0
                      },
                      {
                        "bin_start": 0.34657359027997264,
                        "bin_end": 0.4158883083359671,
                        "count": 0
                      },
                      {
                        "bin_start": 0.4158883083359671,
                        "bin_end": 0.48520302639196167,
                        "count": 0
                      },
                      {
                        "bin_start": 0.48520302639196167,
                        "bin_end": 0.5545177444479562,
                        "count": 0
                      },
                      {
                        "bin_start": 0.5545177444479562,
                        "bin_end": 0.6238324625039507,
                        "count": 0
                      },
                      {
                        "bin_start": 0.6238324625039507,
                        "bin_end": 0.6931471805599453,
                        "count": 1
                      }
                    ]
                  }
                },
                {
                  "name": "_deepnote_index_column",
                  "dtype": "int64"
                }
              ],
              "rows_top": [
                {
                  "unique_id": "2014-02-26_AS14.01",
                  "id": "AS14.01",
                  "date": "2014-02-26",
                  "average_mood": 0.41419878807691896,
                  "total_calls": 0,
                  "total_sms": 0,
                  "average_com": 0,
                  "mood_next_day": 0.41419878807691896,
                  "average_soc": 0,
                  "_deepnote_index_column": 0
                },
                {
                  "unique_id": "2014-03-21_AS14.01",
                  "id": "AS14.01",
                  "date": "2014-03-21",
                  "average_mood": 0.41419878807691896,
                  "total_calls": 0.17693070815907824,
                  "total_sms": 0,
                  "average_com": 0.10020907608366211,
                  "mood_next_day": 0.4297297301077957,
                  "average_soc": 0.01979170342642096,
                  "_deepnote_index_column": 1
                },
                {
                  "unique_id": "2014-03-22_AS14.01",
                  "id": "AS14.01",
                  "date": "2014-03-22",
                  "average_mood": 0.4297297301077955,
                  "total_calls": 0,
                  "total_sms": 0,
                  "average_com": 0.09431011870026698,
                  "mood_next_day": 0.47000362924573547,
                  "average_soc": 0.00969856508340451,
                  "_deepnote_index_column": 2
                },
                {
                  "unique_id": "2014-03-23_AS14.01",
                  "id": "AS14.01",
                  "date": "2014-03-23",
                  "average_mood": 0.47000362924573547,
                  "total_calls": 0,
                  "total_sms": 0,
                  "average_com": 0.09734333132681294,
                  "mood_next_day": 0.38776553100876354,
                  "average_soc": 0.013225339113007707,
                  "_deepnote_index_column": 3
                },
                {
                  "unique_id": "2014-03-24_AS14.01",
                  "id": "AS14.01",
                  "date": "2014-03-24",
                  "average_mood": 0.38776553100876343,
                  "total_calls": 0,
                  "total_sms": 0,
                  "average_com": 0.08704972691598892,
                  "mood_next_day": 0.46505720531041,
                  "average_soc": 0.019746421833324476,
                  "_deepnote_index_column": 4
                },
                {
                  "unique_id": "2014-03-25_AS14.01",
                  "id": "AS14.01",
                  "date": "2014-03-25",
                  "average_mood": 0.46505720531040984,
                  "total_calls": 0,
                  "total_sms": 0,
                  "average_com": 0.12472715901667658,
                  "mood_next_day": 0.4500694143449183,
                  "average_soc": 0.01807176345013664,
                  "_deepnote_index_column": 5
                },
                {
                  "unique_id": "2014-03-26_AS14.01",
                  "id": "AS14.01",
                  "date": "2014-03-26",
                  "average_mood": 0.4500694143449183,
                  "total_calls": 0,
                  "total_sms": 0,
                  "average_com": 0.08620738190271036,
                  "mood_next_day": 0.4895482253187058,
                  "average_soc": 0.03248182760542797,
                  "_deepnote_index_column": 6
                },
                {
                  "unique_id": "2014-03-27_AS14.01",
                  "id": "AS14.01",
                  "date": "2014-03-27",
                  "average_mood": 0.4895482253187058,
                  "total_calls": 0.39465419200394874,
                  "total_sms": 0,
                  "average_com": 0.07967774363940179,
                  "mood_next_day": 0.4297297301077957,
                  "average_soc": 0.01895958462686769,
                  "_deepnote_index_column": 7
                },
                {
                  "unique_id": "2014-03-28_AS14.01",
                  "id": "AS14.01",
                  "date": "2014-03-28",
                  "average_mood": 0.4297297301077955,
                  "total_calls": 0.14953173397096384,
                  "total_sms": 0,
                  "average_com": 0.0450349378527606,
                  "mood_next_day": 0.5819215454497209,
                  "average_soc": 0.006796705954309438,
                  "_deepnote_index_column": 8
                },
                {
                  "unique_id": "2014-03-29_AS14.01",
                  "id": "AS14.01",
                  "date": "2014-03-29",
                  "average_mood": 0.5819215454497209,
                  "total_calls": 0,
                  "total_sms": 0,
                  "average_com": 0.087382417195161,
                  "mood_next_day": 0.5368011101692514,
                  "average_soc": 0.015602101583553999,
                  "_deepnote_index_column": 9
                },
                {
                  "unique_id": "2014-03-30_AS14.01",
                  "id": "AS14.01",
                  "date": "2014-03-30",
                  "average_mood": 0.5368011101692512,
                  "total_calls": 0,
                  "total_sms": 0,
                  "average_com": 0.11180288701455063,
                  "mood_next_day": 0.5275274733839221,
                  "average_soc": 0.014759484527986073,
                  "_deepnote_index_column": 10
                },
                {
                  "unique_id": "2014-03-31_AS14.01",
                  "id": "AS14.01",
                  "date": "2014-03-31",
                  "average_mood": 0.5275274733839221,
                  "total_calls": 0.2795848622191615,
                  "total_sms": 0,
                  "average_com": 0.07611189665605253,
                  "mood_next_day": 0.38776553100876354,
                  "average_soc": 0.014859685114354294,
                  "_deepnote_index_column": 11
                },
                {
                  "unique_id": "2014-04-01_AS14.01",
                  "id": "AS14.01",
                  "date": "2014-04-01",
                  "average_mood": 0.38776553100876343,
                  "total_calls": 0.03174869831458027,
                  "total_sms": 0,
                  "average_com": 0.06144890154750459,
                  "mood_next_day": 0.4399512841793335,
                  "average_soc": 0.01211483264629904,
                  "_deepnote_index_column": 12
                },
                {
                  "unique_id": "2014-04-02_AS14.01",
                  "id": "AS14.01",
                  "date": "2014-04-02",
                  "average_mood": 0.4399512841793335,
                  "total_calls": 0.12136085700426734,
                  "total_sms": 0,
                  "average_com": 0.06257987015796775,
                  "mood_next_day": 0.4297297301077957,
                  "average_soc": 0.017063256375415635,
                  "_deepnote_index_column": 13
                },
                {
                  "unique_id": "2014-04-03_AS14.01",
                  "id": "AS14.01",
                  "date": "2014-04-03",
                  "average_mood": 0.4297297301077955,
                  "total_calls": 0.12136085700426734,
                  "total_sms": 0,
                  "average_com": 0.08508907353435212,
                  "mood_next_day": 0.4089677386593665,
                  "average_soc": 0.011748704488007508,
                  "_deepnote_index_column": 14
                },
                {
                  "unique_id": "2014-04-04_AS14.01",
                  "id": "AS14.01",
                  "date": "2014-04-04",
                  "average_mood": 0.4089677386593665,
                  "total_calls": 0,
                  "total_sms": 0,
                  "average_com": 0.08181808177316509,
                  "mood_next_day": 0.47000362924573547,
                  "average_soc": 0.018955784949801747,
                  "_deepnote_index_column": 15
                },
                {
                  "unique_id": "2014-04-05_AS14.01",
                  "id": "AS14.01",
                  "date": "2014-04-05",
                  "average_mood": 0.47000362924573547,
                  "total_calls": 0,
                  "total_sms": 0,
                  "average_com": 0.06965540829739135,
                  "mood_next_day": 0.4399512841793335,
                  "average_soc": 0.012005026012613112,
                  "_deepnote_index_column": 16
                },
                {
                  "unique_id": "2014-04-06_AS14.01",
                  "id": "AS14.01",
                  "date": "2014-04-06",
                  "average_mood": 0.4399512841793335,
                  "total_calls": 0.17693070815907824,
                  "total_sms": 0,
                  "average_com": 0.08774653237189167,
                  "mood_next_day": 0.4399512841793335,
                  "average_soc": 0.0169580724542213,
                  "_deepnote_index_column": 17
                },
                {
                  "unique_id": "2014-04-07_AS14.01",
                  "id": "AS14.01",
                  "date": "2014-04-07",
                  "average_mood": 0.4399512841793335,
                  "total_calls": 0.03174869831458027,
                  "total_sms": 0,
                  "average_com": 0.1035266007411144,
                  "mood_next_day": 0.4500694143449183,
                  "average_soc": 0.016221231844142186,
                  "_deepnote_index_column": 18
                },
                {
                  "unique_id": "2014-04-08_AS14.01",
                  "id": "AS14.01",
                  "date": "2014-04-08",
                  "average_mood": 0.4500694143449183,
                  "total_calls": 0.03174869831458027,
                  "total_sms": 0,
                  "average_com": 0.08978999082278191,
                  "mood_next_day": 0.5275274733839221,
                  "average_soc": 0.01557373477895238,
                  "_deepnote_index_column": 19
                },
                {
                  "unique_id": "2014-04-09_AS14.01",
                  "id": "AS14.01",
                  "date": "2014-04-09",
                  "average_mood": 0.5275274733839221,
                  "total_calls": 0.12136085700426734,
                  "total_sms": 0,
                  "average_com": 0.07040797846391648,
                  "mood_next_day": 0.5275274733839221,
                  "average_soc": 0.01167923878250592,
                  "_deepnote_index_column": 20
                },
                {
                  "unique_id": "2014-04-10_AS14.01",
                  "id": "AS14.01",
                  "date": "2014-04-10",
                  "average_mood": 0.5275274733839221,
                  "total_calls": 0,
                  "total_sms": 0,
                  "average_com": 0.11735055264312298,
                  "mood_next_day": 0.4895482253187058,
                  "average_soc": 0.010362558796853442,
                  "_deepnote_index_column": 21
                },
                {
                  "unique_id": "2014-04-11_AS14.01",
                  "id": "AS14.01",
                  "date": "2014-04-11",
                  "average_mood": 0.4895482253187058,
                  "total_calls": 0,
                  "total_sms": 0,
                  "average_com": 0.05140899725618386,
                  "mood_next_day": 0.5134537461722601,
                  "average_soc": 0.012138338268695955,
                  "_deepnote_index_column": 22
                },
                {
                  "unique_id": "2014-04-12_AS14.01",
                  "id": "AS14.01",
                  "date": "2014-04-12",
                  "average_mood": 0.5134537461722601,
                  "total_calls": 0,
                  "total_sms": 0,
                  "average_com": 0.2423817283690247,
                  "mood_next_day": 0.5819215454497209,
                  "average_soc": 0.011655649036728244,
                  "_deepnote_index_column": 23
                },
                {
                  "unique_id": "2014-04-13_AS14.01",
                  "id": "AS14.01",
                  "date": "2014-04-13",
                  "average_mood": 0.5819215454497209,
                  "total_calls": 0,
                  "total_sms": 0,
                  "average_com": 0.0873040557937618,
                  "mood_next_day": 0.5087181414264259,
                  "average_soc": 0.004578538093352434,
                  "_deepnote_index_column": 24
                },
                {
                  "unique_id": "2014-04-14_AS14.01",
                  "id": "AS14.01",
                  "date": "2014-04-14",
                  "average_mood": 0.5087181414264259,
                  "total_calls": 0.22957444164450017,
                  "total_sms": 0.20585205420414882,
                  "average_com": 0.09392945377244112,
                  "mood_next_day": 0.4297297301077957,
                  "average_soc": 0.042276598862948295,
                  "_deepnote_index_column": 25
                },
                {
                  "unique_id": "2014-04-15_AS14.01",
                  "id": "AS14.01",
                  "date": "2014-04-15",
                  "average_mood": 0.4297297301077955,
                  "total_calls": 0,
                  "total_sms": 0.028170876966696224,
                  "average_com": 0.07494639963249859,
                  "mood_next_day": 0.5087181414264259,
                  "average_soc": 0.026420012635323897,
                  "_deepnote_index_column": 26
                },
                {
                  "unique_id": "2014-04-16_AS14.01",
                  "id": "AS14.01",
                  "date": "2014-04-16",
                  "average_mood": 0.5087181414264259,
                  "total_calls": 0,
                  "total_sms": 0,
                  "average_com": 0.06832735828045802,
                  "mood_next_day": 0.4500694143449183,
                  "average_soc": 0.017394338476196387,
                  "_deepnote_index_column": 27
                },
                {
                  "unique_id": "2014-04-17_AS14.01",
                  "id": "AS14.01",
                  "date": "2014-04-17",
                  "average_mood": 0.4500694143449183,
                  "total_calls": 0.2795848622191615,
                  "total_sms": 0,
                  "average_com": 0.18899917455032295,
                  "mood_next_day": 0.47000362924573547,
                  "average_soc": 0.0185120487251178,
                  "_deepnote_index_column": 28
                },
                {
                  "unique_id": "2014-04-18_AS14.01",
                  "id": "AS14.01",
                  "date": "2014-04-18",
                  "average_mood": 0.47000362924573547,
                  "total_calls": 0.03174869831458027,
                  "total_sms": 0,
                  "average_com": 0.11744697229032722,
                  "mood_next_day": 0.5641169208162141,
                  "average_soc": 0.051682588006589654,
                  "_deepnote_index_column": 29
                },
                {
                  "unique_id": "2014-04-19_AS14.01",
                  "id": "AS14.01",
                  "date": "2014-04-19",
                  "average_mood": 0.5641169208162141,
                  "total_calls": 0.03174869831458027,
                  "total_sms": 0,
                  "average_com": 0.0655855286836384,
                  "mood_next_day": 0.5134537461722601,
                  "average_soc": 0.009547094887655818,
                  "_deepnote_index_column": 30
                },
                {
                  "unique_id": "2014-04-20_AS14.01",
                  "id": "AS14.01",
                  "date": "2014-04-20",
                  "average_mood": 0.5134537461722601,
                  "total_calls": 0.06252035698133393,
                  "total_sms": 0,
                  "average_com": 0.1040095645932072,
                  "mood_next_day": 0.5459895362236575,
                  "average_soc": 0.02450049435674474,
                  "_deepnote_index_column": 31
                },
                {
                  "unique_id": "2014-04-21_AS14.01",
                  "id": "AS14.01",
                  "date": "2014-04-21",
                  "average_mood": 0.5459895362236575,
                  "total_calls": 0.06252035698133393,
                  "total_sms": 0,
                  "average_com": 0.08006553637689026,
                  "mood_next_day": 0.5275274733839221,
                  "average_soc": 0.016170444551353025,
                  "_deepnote_index_column": 32
                },
                {
                  "unique_id": "2014-04-22_AS14.01",
                  "id": "AS14.01",
                  "date": "2014-04-22",
                  "average_mood": 0.5275274733839221,
                  "total_calls": 0.06252035698133393,
                  "total_sms": 0,
                  "average_com": 0.08566526108150084,
                  "mood_next_day": 0.5459895362236575,
                  "average_soc": 0.017859564339931033,
                  "_deepnote_index_column": 33
                },
                {
                  "unique_id": "2014-04-23_AS14.01",
                  "id": "AS14.01",
                  "date": "2014-04-23",
                  "average_mood": 0.5459895362236575,
                  "total_calls": 0.03174869831458027,
                  "total_sms": 0,
                  "average_com": 0.09850538995469063,
                  "mood_next_day": 0.5459895362236575,
                  "average_soc": 0.011605997281007597,
                  "_deepnote_index_column": 34
                },
                {
                  "unique_id": "2014-04-24_AS14.01",
                  "id": "AS14.01",
                  "date": "2014-04-24",
                  "average_mood": 0.5459895362236575,
                  "total_calls": 0.03174869831458027,
                  "total_sms": 0,
                  "average_com": 0.11654850054775565,
                  "mood_next_day": 0.5087181414264259,
                  "average_soc": 0.020228099649994363,
                  "_deepnote_index_column": 35
                },
                {
                  "unique_id": "2014-04-25_AS14.01",
                  "id": "AS14.01",
                  "date": "2014-04-25",
                  "average_mood": 0.5087181414264259,
                  "total_calls": 0.06252035698133393,
                  "total_sms": 0.10821358464023279,
                  "average_com": 0.0935516946517202,
                  "mood_next_day": 0.5459895362236575,
                  "average_soc": 0.025438947814444245,
                  "_deepnote_index_column": 36
                },
                {
                  "unique_id": "2014-04-26_AS14.01",
                  "id": "AS14.01",
                  "date": "2014-04-26",
                  "average_mood": 0.5459895362236575,
                  "total_calls": 0,
                  "total_sms": 0,
                  "average_com": 0.10817650766842313,
                  "mood_next_day": 0.5368011101692514,
                  "average_soc": 0.19062732847933908,
                  "_deepnote_index_column": 37
                },
                {
                  "unique_id": "2014-04-27_AS14.01",
                  "id": "AS14.01",
                  "date": "2014-04-27",
                  "average_mood": 0.5368011101692512,
                  "total_calls": 0,
                  "total_sms": 0,
                  "average_com": 0.09249645049752145,
                  "mood_next_day": 0.5459895362236575,
                  "average_soc": 0.0036470660250528097,
                  "_deepnote_index_column": 38
                },
                {
                  "unique_id": "2014-04-28_AS14.01",
                  "id": "AS14.01",
                  "date": "2014-04-28",
                  "average_mood": 0.5459895362236575,
                  "total_calls": 0,
                  "total_sms": 0,
                  "average_com": 0.10049922048658957,
                  "mood_next_day": 0.4895482253187058,
                  "average_soc": 0.05233973486923284,
                  "_deepnote_index_column": 39
                },
                {
                  "unique_id": "2014-04-29_AS14.01",
                  "id": "AS14.01",
                  "date": "2014-04-29",
                  "average_mood": 0.4895482253187058,
                  "total_calls": 0,
                  "total_sms": 0,
                  "average_com": 0.08879849240372022,
                  "mood_next_day": 0.5641169208162141,
                  "average_soc": 0.0269976225616751,
                  "_deepnote_index_column": 40
                },
                {
                  "unique_id": "2014-04-30_AS14.01",
                  "id": "AS14.01",
                  "date": "2014-04-30",
                  "average_mood": 0.5641169208162141,
                  "total_calls": 0.17693070815907824,
                  "total_sms": 0,
                  "average_com": 0.06326915005439539,
                  "mood_next_day": 0.5819215454497209,
                  "average_soc": 0.002632038652528553,
                  "_deepnote_index_column": 41
                },
                {
                  "unique_id": "2014-05-01_AS14.01",
                  "id": "AS14.01",
                  "date": "2014-05-01",
                  "average_mood": 0.5819215454497209,
                  "total_calls": 0,
                  "total_sms": 0,
                  "average_com": 0.07507424966341578,
                  "mood_next_day": 0.5459895362236575,
                  "average_soc": 0.037763641097681086,
                  "_deepnote_index_column": 42
                },
                {
                  "unique_id": "2014-05-02_AS14.01",
                  "id": "AS14.01",
                  "date": "2014-05-02",
                  "average_mood": 0.5459895362236575,
                  "total_calls": 0,
                  "total_sms": 0,
                  "average_com": 0.1057031425731073,
                  "mood_next_day": 0.5819215454497209,
                  "average_soc": 0.011996506829291797,
                  "_deepnote_index_column": 43
                },
                {
                  "unique_id": "2014-05-03_AS14.01",
                  "id": "AS14.01",
                  "date": "2014-05-03",
                  "average_mood": 0.5819215454497209,
                  "total_calls": 0,
                  "total_sms": 0,
                  "average_com": 0.13311040346836836,
                  "mood_next_day": 0.516822643238365,
                  "average_soc": 0.006058647642126312,
                  "_deepnote_index_column": 44
                },
                {
                  "unique_id": "2014-03-16_AS14.02",
                  "id": "AS14.02",
                  "date": "2014-03-16",
                  "average_mood": 0.5168226432383649,
                  "total_calls": 0.12136085700426734,
                  "total_sms": 0,
                  "average_com": 0.0861734907625649,
                  "mood_next_day": 0.46505720531041,
                  "average_soc": 0.002837502483273244,
                  "_deepnote_index_column": 45
                },
                {
                  "unique_id": "2014-03-17_AS14.02",
                  "id": "AS14.02",
                  "date": "2014-03-17",
                  "average_mood": 0.46505720531040984,
                  "total_calls": 0.12136085700426734,
                  "total_sms": 0,
                  "average_com": 0.08708028903365574,
                  "mood_next_day": 0.5994147028972381,
                  "average_soc": 0.0027369569352308654,
                  "_deepnote_index_column": 46
                },
                {
                  "unique_id": "2014-03-18_AS14.02",
                  "id": "AS14.02",
                  "date": "2014-03-18",
                  "average_mood": 0.5994147028972381,
                  "total_calls": 0.39465419200394874,
                  "total_sms": 0.08223809823697201,
                  "average_com": 0.06131080003172409,
                  "mood_next_day": 0.47000362924573547,
                  "average_soc": 0.0029688592576548943,
                  "_deepnote_index_column": 47
                },
                {
                  "unique_id": "2014-03-19_AS14.02",
                  "id": "AS14.02",
                  "date": "2014-03-19",
                  "average_mood": 0.47000362924573547,
                  "total_calls": 0.14953173397096384,
                  "total_sms": 0.028170876966696224,
                  "average_com": 0.06099079157335249,
                  "mood_next_day": 0.5134537461722601,
                  "average_soc": 0.0025406772035891164,
                  "_deepnote_index_column": 48
                },
                {
                  "unique_id": "2014-03-20_AS14.02",
                  "id": "AS14.02",
                  "date": "2014-03-20",
                  "average_mood": 0.5134537461722601,
                  "total_calls": 0.2795848622191615,
                  "total_sms": 0.028170876966696224,
                  "average_com": 0.058844193541625005,
                  "mood_next_day": 0.5368011101692514,
                  "average_soc": 0.0038821352776492904,
                  "_deepnote_index_column": 49
                },
                {
                  "unique_id": "2014-03-21_AS14.02",
                  "id": "AS14.02",
                  "date": "2014-03-21",
                  "average_mood": 0.5368011101692512,
                  "total_calls": 0.2795848622191615,
                  "total_sms": 0.028170876966696224,
                  "average_com": 0.08198929957531358,
                  "mood_next_day": 0.4399512841793335,
                  "average_soc": 0.004291596675175198,
                  "_deepnote_index_column": 50
                },
                {
                  "unique_id": "2014-03-22_AS14.02",
                  "id": "AS14.02",
                  "date": "2014-03-22",
                  "average_mood": 0.4399512841793335,
                  "total_calls": 0.5913644862500029,
                  "total_sms": 0.028170876966696224,
                  "average_com": 0.04084280318439381,
                  "mood_next_day": 0.41419878807691896,
                  "average_soc": 0.002856752672814612,
                  "_deepnote_index_column": 51
                },
                {
                  "unique_id": "2014-03-23_AS14.02",
                  "id": "AS14.02",
                  "date": "2014-03-23",
                  "average_mood": 0.41419878807691896,
                  "total_calls": 0.22957444164450017,
                  "total_sms": 0,
                  "average_com": 0.06802996685423647,
                  "mood_next_day": 0.4297297301077957,
                  "average_soc": 0.005070798639233652,
                  "_deepnote_index_column": 52
                },
                {
                  "unique_id": "2014-03-24_AS14.02",
                  "id": "AS14.02",
                  "date": "2014-03-24",
                  "average_mood": 0.4297297301077955,
                  "total_calls": 0.14953173397096384,
                  "total_sms": 0,
                  "average_com": 0.08887508254080914,
                  "mood_next_day": 0.5596157879354227,
                  "average_soc": 0.004752435760253506,
                  "_deepnote_index_column": 53
                },
                {
                  "unique_id": "2014-03-25_AS14.02",
                  "id": "AS14.02",
                  "date": "2014-03-25",
                  "average_mood": 0.5596157879354225,
                  "total_calls": 0.20359895524123955,
                  "total_sms": 0,
                  "average_com": 0.07053629326178275,
                  "mood_next_day": 0.5087181414264259,
                  "average_soc": 0.003033028182448231,
                  "_deepnote_index_column": 54
                }
              ],
              "rows_bottom": [
                {
                  "unique_id": "2014-04-16_AS14.32",
                  "id": "AS14.32",
                  "date": "2014-04-16",
                  "average_mood": 0.6250937173149296,
                  "total_calls": 0.20359895524123955,
                  "total_sms": 0,
                  "average_com": 0.08972101020292389,
                  "mood_next_day": 0.6250937173149296,
                  "average_soc": 0.09221944270114726,
                  "_deepnote_index_column": 1159
                },
                {
                  "unique_id": "2014-04-17_AS14.32",
                  "id": "AS14.32",
                  "date": "2014-04-17",
                  "average_mood": 0.6250937173149296,
                  "total_calls": 0.12136085700426734,
                  "total_sms": 0,
                  "average_com": 0.06827351326863956,
                  "mood_next_day": 0.4895482253187058,
                  "average_soc": 0,
                  "_deepnote_index_column": 1160
                },
                {
                  "unique_id": "2014-04-23_AS14.32",
                  "id": "AS14.32",
                  "date": "2014-04-23",
                  "average_mood": 0.4895482253187058,
                  "total_calls": 0.09237332013101507,
                  "total_sms": 0,
                  "average_com": 0.09656975638853221,
                  "mood_next_day": 0.5819215454497209,
                  "average_soc": 0.014036169922163336,
                  "_deepnote_index_column": 1161
                },
                {
                  "unique_id": "2014-04-24_AS14.32",
                  "id": "AS14.32",
                  "date": "2014-04-24",
                  "average_mood": 0.5819215454497209,
                  "total_calls": 0.25489224962879004,
                  "total_sms": 0,
                  "average_com": 0.09763188499671778,
                  "mood_next_day": 0.5212969236332861,
                  "average_soc": 0.014831564437377504,
                  "_deepnote_index_column": 1162
                },
                {
                  "unique_id": "2014-04-27_AS14.32",
                  "id": "AS14.32",
                  "date": "2014-04-27",
                  "average_mood": 0.5212969236332861,
                  "total_calls": 0.2795848622191615,
                  "total_sms": 0,
                  "average_com": 0.0582119643161324,
                  "mood_next_day": 0.5368011101692514,
                  "average_soc": 0.03512898668559053,
                  "_deepnote_index_column": 1163
                },
                {
                  "unique_id": "2014-04-28_AS14.32",
                  "id": "AS14.32",
                  "date": "2014-04-28",
                  "average_mood": 0.5368011101692512,
                  "total_calls": 0.20359895524123955,
                  "total_sms": 0,
                  "average_com": 0.1337452039932587,
                  "mood_next_day": 0.5819215454497209,
                  "average_soc": 0,
                  "_deepnote_index_column": 1164
                },
                {
                  "unique_id": "2014-04-29_AS14.32",
                  "id": "AS14.32",
                  "date": "2014-04-29",
                  "average_mood": 0.5819215454497209,
                  "total_calls": 0.14953173397096384,
                  "total_sms": 0,
                  "average_com": 0.09145756937680044,
                  "mood_next_day": 0.4895482253187058,
                  "average_soc": 0,
                  "_deepnote_index_column": 1165
                },
                {
                  "unique_id": "2014-04-30_AS14.32",
                  "id": "AS14.32",
                  "date": "2014-04-30",
                  "average_mood": 0.4895482253187058,
                  "total_calls": 0.17693070815907824,
                  "total_sms": 0,
                  "average_com": 0.13870625623697466,
                  "mood_next_day": 0.4895482253187058,
                  "average_soc": 0,
                  "_deepnote_index_column": 1166
                },
                {
                  "unique_id": "2014-05-01_AS14.32",
                  "id": "AS14.32",
                  "date": "2014-05-01",
                  "average_mood": 0.4895482253187058,
                  "total_calls": 0.25489224962879004,
                  "total_sms": 0,
                  "average_com": 0.10093583113269917,
                  "mood_next_day": 0.5134537461722601,
                  "average_soc": 0,
                  "_deepnote_index_column": 1167
                },
                {
                  "unique_id": "2014-05-02_AS14.32",
                  "id": "AS14.32",
                  "date": "2014-05-02",
                  "average_mood": 0.5134537461722601,
                  "total_calls": 0.2795848622191615,
                  "total_sms": 0,
                  "average_com": 0.08862242505153899,
                  "mood_next_day": 0.5368011101692514,
                  "average_soc": 0,
                  "_deepnote_index_column": 1168
                },
                {
                  "unique_id": "2014-05-03_AS14.32",
                  "id": "AS14.32",
                  "date": "2014-05-03",
                  "average_mood": 0.5368011101692512,
                  "total_calls": 0.06252035698133393,
                  "total_sms": 0,
                  "average_com": 0.15953237413832463,
                  "mood_next_day": 0.6390799592896693,
                  "average_soc": 0.01404836716375733,
                  "_deepnote_index_column": 1169
                },
                {
                  "unique_id": "2014-05-04_AS14.32",
                  "id": "AS14.32",
                  "date": "2014-05-04",
                  "average_mood": 0.6390799592896693,
                  "total_calls": 0.03174869831458027,
                  "total_sms": 0,
                  "average_com": 0.16942795010548034,
                  "mood_next_day": 0.4399512841793335,
                  "average_soc": 0.02820150431794556,
                  "_deepnote_index_column": 1170
                },
                {
                  "unique_id": "2014-05-07_AS14.32",
                  "id": "AS14.32",
                  "date": "2014-05-07",
                  "average_mood": 0.4399512841793335,
                  "total_calls": 0.12136085700426734,
                  "total_sms": 0,
                  "average_com": 0.0925654548248381,
                  "mood_next_day": 0.38776553100876354,
                  "average_soc": 0.0002678418654507272,
                  "_deepnote_index_column": 1171
                },
                {
                  "unique_id": "2014-05-08_AS14.32",
                  "id": "AS14.32",
                  "date": "2014-05-08",
                  "average_mood": 0.38776553100876343,
                  "total_calls": 0.35020242943311497,
                  "total_sms": 0,
                  "average_com": 0.11775658625218657,
                  "mood_next_day": 0.5596157879354227,
                  "average_soc": 0,
                  "_deepnote_index_column": 1172
                },
                {
                  "unique_id": "2014-05-09_AS14.32",
                  "id": "AS14.32",
                  "date": "2014-05-09",
                  "average_mood": 0.5596157879354225,
                  "total_calls": 0.25489224962879004,
                  "total_sms": 0,
                  "average_com": 0.06662848010085626,
                  "mood_next_day": 0.5134537461722601,
                  "average_soc": 0,
                  "_deepnote_index_column": 1173
                },
                {
                  "unique_id": "2014-05-10_AS14.32",
                  "id": "AS14.32",
                  "date": "2014-05-10",
                  "average_mood": 0.5134537461722601,
                  "total_calls": 0.17693070815907824,
                  "total_sms": 0,
                  "average_com": 0.10538007386977827,
                  "mood_next_day": 0.5087181414264259,
                  "average_soc": 0,
                  "_deepnote_index_column": 1174
                },
                {
                  "unique_id": "2014-05-11_AS14.32",
                  "id": "AS14.32",
                  "date": "2014-05-11",
                  "average_mood": 0.5087181414264259,
                  "total_calls": 0,
                  "total_sms": 0,
                  "average_com": 0.12840951795114838,
                  "mood_next_day": 0.5015724182855074,
                  "average_soc": 0,
                  "_deepnote_index_column": 1175
                },
                {
                  "unique_id": "2014-04-16_AS14.33",
                  "id": "AS14.33",
                  "date": "2014-04-16",
                  "average_mood": 0.5015724182855074,
                  "total_calls": 0.14953173397096384,
                  "total_sms": 0,
                  "average_com": 0.07051576112558004,
                  "mood_next_day": 0.5087181414264259,
                  "average_soc": 0.03331078606911905,
                  "_deepnote_index_column": 1176
                },
                {
                  "unique_id": "2014-04-17_AS14.33",
                  "id": "AS14.33",
                  "date": "2014-04-17",
                  "average_mood": 0.5087181414264259,
                  "total_calls": 0.06252035698133393,
                  "total_sms": 0,
                  "average_com": 0.06338630455467344,
                  "mood_next_day": 0.5275274733839221,
                  "average_soc": 0.019893218964829363,
                  "_deepnote_index_column": 1177
                },
                {
                  "unique_id": "2014-04-18_AS14.33",
                  "id": "AS14.33",
                  "date": "2014-04-18",
                  "average_mood": 0.5275274733839221,
                  "total_calls": 0.09237332013101507,
                  "total_sms": 0,
                  "average_com": 0.1265546480103737,
                  "mood_next_day": 0.5520685823000396,
                  "average_soc": 0.03104249888342697,
                  "_deepnote_index_column": 1178
                },
                {
                  "unique_id": "2014-04-19_AS14.33",
                  "id": "AS14.33",
                  "date": "2014-04-19",
                  "average_mood": 0.5520685823000396,
                  "total_calls": 0,
                  "total_sms": 0,
                  "average_com": 0.24894760910793345,
                  "mood_next_day": 0.5275274733839221,
                  "average_soc": 0.035681264226704285,
                  "_deepnote_index_column": 1179
                },
                {
                  "unique_id": "2014-04-20_AS14.33",
                  "id": "AS14.33",
                  "date": "2014-04-20",
                  "average_mood": 0.5275274733839221,
                  "total_calls": 0,
                  "total_sms": 0,
                  "average_com": 0.1257226080494083,
                  "mood_next_day": 0.5087181414264259,
                  "average_soc": 0.020975271674430366,
                  "_deepnote_index_column": 1180
                },
                {
                  "unique_id": "2014-04-21_AS14.33",
                  "id": "AS14.33",
                  "date": "2014-04-21",
                  "average_mood": 0.5087181414264259,
                  "total_calls": 0,
                  "total_sms": 0,
                  "average_com": 0.11414121735896697,
                  "mood_next_day": 0.4089677386593665,
                  "average_soc": 0.039737411772373374,
                  "_deepnote_index_column": 1181
                },
                {
                  "unique_id": "2014-04-22_AS14.33",
                  "id": "AS14.33",
                  "date": "2014-04-22",
                  "average_mood": 0.4089677386593665,
                  "total_calls": 0.25489224962879004,
                  "total_sms": 0,
                  "average_com": 0.0859533696499653,
                  "mood_next_day": 0.2981533723190763,
                  "average_soc": 0.024128407596437248,
                  "_deepnote_index_column": 1182
                },
                {
                  "unique_id": "2014-04-23_AS14.33",
                  "id": "AS14.33",
                  "date": "2014-04-23",
                  "average_mood": 0.2981533723190763,
                  "total_calls": 0.03174869831458027,
                  "total_sms": 0,
                  "average_com": 0.057054807064568114,
                  "mood_next_day": 0.4895482253187058,
                  "average_soc": 0.036711388977791914,
                  "_deepnote_index_column": 1183
                },
                {
                  "unique_id": "2014-04-24_AS14.33",
                  "id": "AS14.33",
                  "date": "2014-04-24",
                  "average_mood": 0.4895482253187058,
                  "total_calls": 0.14953173397096384,
                  "total_sms": 0.13353139262452257,
                  "average_com": 0.095670541549742,
                  "mood_next_day": 0.6166071034376109,
                  "average_soc": 0.021100570108628442,
                  "_deepnote_index_column": 1184
                },
                {
                  "unique_id": "2014-04-25_AS14.33",
                  "id": "AS14.33",
                  "date": "2014-04-25",
                  "average_mood": 0.6166071034376109,
                  "total_calls": 0.6931471805599453,
                  "total_sms": 0.055569851154810786,
                  "average_com": 0.05351688336537807,
                  "mood_next_day": 0.5459895362236575,
                  "average_soc": 0.011956761171688386,
                  "_deepnote_index_column": 1185
                },
                {
                  "unique_id": "2014-04-26_AS14.33",
                  "id": "AS14.33",
                  "date": "2014-04-26",
                  "average_mood": 0.5459895362236575,
                  "total_calls": 0.4578330936254803,
                  "total_sms": 0,
                  "average_com": 0.056013351732278865,
                  "mood_next_day": 0.4089677386593665,
                  "average_soc": 0.013527397607638866,
                  "_deepnote_index_column": 1186
                },
                {
                  "unique_id": "2014-04-27_AS14.33",
                  "id": "AS14.33",
                  "date": "2014-04-27",
                  "average_mood": 0.4089677386593665,
                  "total_calls": 0.12136085700426734,
                  "total_sms": 0,
                  "average_com": 0.11667035203786819,
                  "mood_next_day": 0.46505720531041,
                  "average_soc": 0.03540825568111278,
                  "_deepnote_index_column": 1187
                },
                {
                  "unique_id": "2014-04-28_AS14.33",
                  "id": "AS14.33",
                  "date": "2014-04-28",
                  "average_mood": 0.46505720531040984,
                  "total_calls": 0.06252035698133393,
                  "total_sms": 0.13353139262452257,
                  "average_com": 0.12728133459297958,
                  "mood_next_day": 0.4089677386593665,
                  "average_soc": 0.018483634065838316,
                  "_deepnote_index_column": 1188
                },
                {
                  "unique_id": "2014-04-29_AS14.33",
                  "id": "AS14.33",
                  "date": "2014-04-29",
                  "average_mood": 0.4089677386593665,
                  "total_calls": 0.09237332013101507,
                  "total_sms": 0,
                  "average_com": 0.06926926717534783,
                  "mood_next_day": 0.4297297301077957,
                  "average_soc": 0.021439633450417505,
                  "_deepnote_index_column": 1189
                },
                {
                  "unique_id": "2014-04-30_AS14.33",
                  "id": "AS14.33",
                  "date": "2014-04-30",
                  "average_mood": 0.4297297301077955,
                  "total_calls": 0.03174869831458027,
                  "total_sms": 0,
                  "average_com": 0.06540276416808162,
                  "mood_next_day": 0.5368011101692514,
                  "average_soc": 0.025358051182677442,
                  "_deepnote_index_column": 1190
                },
                {
                  "unique_id": "2014-05-04_AS14.33",
                  "id": "AS14.33",
                  "date": "2014-05-04",
                  "average_mood": 0.5368011101692512,
                  "total_calls": 0.303682413798222,
                  "total_sms": 0,
                  "average_com": 0.07180760278949841,
                  "mood_next_day": 0.40106949663512614,
                  "average_soc": 0.019512277313560714,
                  "_deepnote_index_column": 1191
                },
                {
                  "unique_id": "2014-05-07_AS14.33",
                  "id": "AS14.33",
                  "date": "2014-05-07",
                  "average_mood": 0.40106949663512614,
                  "total_calls": 0.03174869831458027,
                  "total_sms": 0,
                  "average_com": 0.013459342635656244,
                  "mood_next_day": 0.4500694143449183,
                  "average_soc": 0.034829474556112655,
                  "_deepnote_index_column": 1192
                },
                {
                  "unique_id": "2014-05-08_AS14.33",
                  "id": "AS14.33",
                  "date": "2014-05-08",
                  "average_mood": 0.4500694143449183,
                  "total_calls": 0,
                  "total_sms": 0,
                  "average_com": 0.11394780687519758,
                  "mood_next_day": 0.2501441531327157,
                  "average_soc": 0.04129314286975036,
                  "_deepnote_index_column": 1193
                },
                {
                  "unique_id": "2014-05-09_AS14.33",
                  "id": "AS14.33",
                  "date": "2014-05-09",
                  "average_mood": 0.2501441531327157,
                  "total_calls": 0,
                  "total_sms": 0,
                  "average_com": 0.11209828574500476,
                  "mood_next_day": 0.5459895362236575,
                  "average_soc": 0.04101305396338632,
                  "_deepnote_index_column": 1194
                },
                {
                  "unique_id": "2014-05-10_AS14.33",
                  "id": "AS14.33",
                  "date": "2014-05-10",
                  "average_mood": 0.5459895362236575,
                  "total_calls": 0,
                  "total_sms": 0,
                  "average_com": 0.034004783444135836,
                  "mood_next_day": 0.38776553100876354,
                  "average_soc": 0.012258363446729214,
                  "_deepnote_index_column": 1195
                },
                {
                  "unique_id": "2014-05-11_AS14.33",
                  "id": "AS14.33",
                  "date": "2014-05-11",
                  "average_mood": 0.38776553100876343,
                  "total_calls": 0,
                  "total_sms": 0,
                  "average_com": 0.06667293561248977,
                  "mood_next_day": 0.38776553100876354,
                  "average_soc": 0.02867133756319296,
                  "_deepnote_index_column": 1196
                },
                {
                  "unique_id": "2014-05-12_AS14.33",
                  "id": "AS14.33",
                  "date": "2014-05-12",
                  "average_mood": 0.38776553100876343,
                  "total_calls": 0.35020242943311497,
                  "total_sms": 0,
                  "average_com": 0.1274617062939143,
                  "mood_next_day": 0.27443684570176036,
                  "average_soc": 0.025251246877447227,
                  "_deepnote_index_column": 1197
                },
                {
                  "unique_id": "2014-05-13_AS14.33",
                  "id": "AS14.33",
                  "date": "2014-05-13",
                  "average_mood": 0.2744368457017602,
                  "total_calls": 0,
                  "total_sms": 0,
                  "average_com": 0.20248255643058963,
                  "mood_next_day": 0.4732877044469254,
                  "average_soc": 0.018579156314933502,
                  "_deepnote_index_column": 1198
                },
                {
                  "unique_id": "2014-05-14_AS14.33",
                  "id": "AS14.33",
                  "date": "2014-05-14",
                  "average_mood": 0.4732877044469254,
                  "total_calls": 0,
                  "total_sms": 0,
                  "average_com": 0.05002427862478771,
                  "mood_next_day": 0.38776553100876354,
                  "average_soc": 0.057093302547754424,
                  "_deepnote_index_column": 1199
                },
                {
                  "unique_id": "2014-05-15_AS14.33",
                  "id": "AS14.33",
                  "date": "2014-05-15",
                  "average_mood": 0.38776553100876343,
                  "total_calls": 0.22957444164450017,
                  "total_sms": 0,
                  "average_com": 0.08489180835394364,
                  "mood_next_day": 0.4895482253187058,
                  "average_soc": 0.02198001547096159,
                  "_deepnote_index_column": 1200
                },
                {
                  "unique_id": "2014-05-16_AS14.33",
                  "id": "AS14.33",
                  "date": "2014-05-16",
                  "average_mood": 0.4895482253187058,
                  "total_calls": 0.303682413798222,
                  "total_sms": 0,
                  "average_com": 0.07661396720116515,
                  "mood_next_day": 0.38776553100876354,
                  "average_soc": 0.01771061712814101,
                  "_deepnote_index_column": 1201
                },
                {
                  "unique_id": "2014-05-17_AS14.33",
                  "id": "AS14.33",
                  "date": "2014-05-17",
                  "average_mood": 0.38776553100876343,
                  "total_calls": 0,
                  "total_sms": 0,
                  "average_com": 0.0532148741334636,
                  "mood_next_day": 0.38776553100876354,
                  "average_soc": 0.02287109873940278,
                  "_deepnote_index_column": 1202
                },
                {
                  "unique_id": "2014-05-18_AS14.33",
                  "id": "AS14.33",
                  "date": "2014-05-18",
                  "average_mood": 0.38776553100876343,
                  "total_calls": 0,
                  "total_sms": 0,
                  "average_com": 0.15221003067391772,
                  "mood_next_day": 0.4089677386593665,
                  "average_soc": 0.031064655792277397,
                  "_deepnote_index_column": 1203
                },
                {
                  "unique_id": "2014-05-19_AS14.33",
                  "id": "AS14.33",
                  "date": "2014-05-19",
                  "average_mood": 0.4089677386593665,
                  "total_calls": 0,
                  "total_sms": 0,
                  "average_com": 0.06142985657484017,
                  "mood_next_day": 0.41419878807691896,
                  "average_soc": 0.03271808571966032,
                  "_deepnote_index_column": 1204
                },
                {
                  "unique_id": "2014-05-20_AS14.33",
                  "id": "AS14.33",
                  "date": "2014-05-20",
                  "average_mood": 0.41419878807691896,
                  "total_calls": 0,
                  "total_sms": 0,
                  "average_com": 0.16923420079034684,
                  "mood_next_day": 0.38776553100876354,
                  "average_soc": 0.04044333395976931,
                  "_deepnote_index_column": 1205
                },
                {
                  "unique_id": "2014-05-21_AS14.33",
                  "id": "AS14.33",
                  "date": "2014-05-21",
                  "average_mood": 0.38776553100876343,
                  "total_calls": 0,
                  "total_sms": 0,
                  "average_com": 0.12534640070888747,
                  "mood_next_day": 0.36061454194281256,
                  "average_soc": 0.031901047118790035,
                  "_deepnote_index_column": 1206
                },
                {
                  "unique_id": "2014-05-22_AS14.33",
                  "id": "AS14.33",
                  "date": "2014-05-22",
                  "average_mood": 0.36061454194281256,
                  "total_calls": 0.22957444164450017,
                  "total_sms": 0,
                  "average_com": 0.08335088990988371,
                  "mood_next_day": 0.369747025506085,
                  "average_soc": 0.013796771157884224,
                  "_deepnote_index_column": 1207
                },
                {
                  "unique_id": "2014-05-23_AS14.33",
                  "id": "AS14.33",
                  "date": "2014-05-23",
                  "average_mood": 0.369747025506085,
                  "total_calls": 0,
                  "total_sms": 0,
                  "average_com": 0.06884214441115245,
                  "mood_next_day": 0.4297297301077957,
                  "average_soc": 0.050620655422989616,
                  "_deepnote_index_column": 1208
                },
                {
                  "unique_id": "2014-05-24_AS14.33",
                  "id": "AS14.33",
                  "date": "2014-05-24",
                  "average_mood": 0.4297297301077955,
                  "total_calls": 0,
                  "total_sms": 0,
                  "average_com": 0.07715030504592829,
                  "mood_next_day": 0.41419878807691896,
                  "average_soc": 0.0282189413885338,
                  "_deepnote_index_column": 1209
                },
                {
                  "unique_id": "2014-05-25_AS14.33",
                  "id": "AS14.33",
                  "date": "2014-05-25",
                  "average_mood": 0.41419878807691896,
                  "total_calls": 0.09237332013101507,
                  "total_sms": 0.20585205420414882,
                  "average_com": 0.06450623743508675,
                  "mood_next_day": 0.32132043160061075,
                  "average_soc": 0.012040104266961643,
                  "_deepnote_index_column": 1210
                },
                {
                  "unique_id": "2014-05-26_AS14.33",
                  "id": "AS14.33",
                  "date": "2014-05-26",
                  "average_mood": 0.32132043160061075,
                  "total_calls": 0.2795848622191615,
                  "total_sms": 0.08223809823697201,
                  "average_com": 0.06359218625369813,
                  "mood_next_day": 0.4089677386593665,
                  "average_soc": 0.029112125616709155,
                  "_deepnote_index_column": 1211
                },
                {
                  "unique_id": "2014-05-27_AS14.33",
                  "id": "AS14.33",
                  "date": "2014-05-27",
                  "average_mood": 0.4089677386593665,
                  "total_calls": 0.03174869831458027,
                  "total_sms": 0.055569851154810786,
                  "average_com": 0.10760175232227476,
                  "mood_next_day": 0.5994147028972381,
                  "average_soc": 0.013281120277185653,
                  "_deepnote_index_column": 1212
                },
                {
                  "unique_id": "2014-05-28_AS14.33",
                  "id": "AS14.33",
                  "date": "2014-05-28",
                  "average_mood": 0.5994147028972381,
                  "total_calls": 0.2795848622191615,
                  "total_sms": 0.028170876966696224,
                  "average_com": 0.06881742689853168,
                  "mood_next_day": 0.4895482253187058,
                  "average_soc": 0.026067744634635986,
                  "_deepnote_index_column": 1213
                },
                {
                  "unique_id": "2014-05-29_AS14.33",
                  "id": "AS14.33",
                  "date": "2014-05-29",
                  "average_mood": 0.4895482253187058,
                  "total_calls": 0.14953173397096384,
                  "total_sms": 0,
                  "average_com": 0.09898405336723534,
                  "mood_next_day": 0.47000362924573547,
                  "average_soc": 0.051553245614932706,
                  "_deepnote_index_column": 1214
                }
              ]
            },
            "text/plain": "               unique_id       id        date  average_mood  total_calls  \\\n0     2014-02-26_AS14.01  AS14.01  2014-02-26      0.414199     0.000000   \n1     2014-03-21_AS14.01  AS14.01  2014-03-21      0.414199     0.176931   \n2     2014-03-22_AS14.01  AS14.01  2014-03-22      0.429730     0.000000   \n3     2014-03-23_AS14.01  AS14.01  2014-03-23      0.470004     0.000000   \n4     2014-03-24_AS14.01  AS14.01  2014-03-24      0.387766     0.000000   \n...                  ...      ...         ...           ...          ...   \n1210  2014-05-25_AS14.33  AS14.33  2014-05-25      0.414199     0.092373   \n1211  2014-05-26_AS14.33  AS14.33  2014-05-26      0.321320     0.279585   \n1212  2014-05-27_AS14.33  AS14.33  2014-05-27      0.408968     0.031749   \n1213  2014-05-28_AS14.33  AS14.33  2014-05-28      0.599415     0.279585   \n1214  2014-05-29_AS14.33  AS14.33  2014-05-29      0.489548     0.149532   \n\n      total_sms  average_com  mood_next_day  average_soc  \n0      0.000000     0.000000       0.414199     0.000000  \n1      0.000000     0.100209       0.429730     0.019792  \n2      0.000000     0.094310       0.470004     0.009699  \n3      0.000000     0.097343       0.387766     0.013225  \n4      0.000000     0.087050       0.465057     0.019746  \n...         ...          ...            ...          ...  \n1210   0.205852     0.064506       0.321320     0.012040  \n1211   0.082238     0.063592       0.408968     0.029112  \n1212   0.055570     0.107602       0.599415     0.013281  \n1213   0.028171     0.068817       0.489548     0.026068  \n1214   0.000000     0.098984       0.470004     0.051553  \n\n[1215 rows x 9 columns]",
            "text/html": "<div>\n<style scoped>\n    .dataframe tbody tr th:only-of-type {\n        vertical-align: middle;\n    }\n\n    .dataframe tbody tr th {\n        vertical-align: top;\n    }\n\n    .dataframe thead th {\n        text-align: right;\n    }\n</style>\n<table border=\"1\" class=\"dataframe\">\n  <thead>\n    <tr style=\"text-align: right;\">\n      <th></th>\n      <th>unique_id</th>\n      <th>id</th>\n      <th>date</th>\n      <th>average_mood</th>\n      <th>total_calls</th>\n      <th>total_sms</th>\n      <th>average_com</th>\n      <th>mood_next_day</th>\n      <th>average_soc</th>\n    </tr>\n  </thead>\n  <tbody>\n    <tr>\n      <th>0</th>\n      <td>2014-02-26_AS14.01</td>\n      <td>AS14.01</td>\n      <td>2014-02-26</td>\n      <td>0.414199</td>\n      <td>0.000000</td>\n      <td>0.000000</td>\n      <td>0.000000</td>\n      <td>0.414199</td>\n      <td>0.000000</td>\n    </tr>\n    <tr>\n      <th>1</th>\n      <td>2014-03-21_AS14.01</td>\n      <td>AS14.01</td>\n      <td>2014-03-21</td>\n      <td>0.414199</td>\n      <td>0.176931</td>\n      <td>0.000000</td>\n      <td>0.100209</td>\n      <td>0.429730</td>\n      <td>0.019792</td>\n    </tr>\n    <tr>\n      <th>2</th>\n      <td>2014-03-22_AS14.01</td>\n      <td>AS14.01</td>\n      <td>2014-03-22</td>\n      <td>0.429730</td>\n      <td>0.000000</td>\n      <td>0.000000</td>\n      <td>0.094310</td>\n      <td>0.470004</td>\n      <td>0.009699</td>\n    </tr>\n    <tr>\n      <th>3</th>\n      <td>2014-03-23_AS14.01</td>\n      <td>AS14.01</td>\n      <td>2014-03-23</td>\n      <td>0.470004</td>\n      <td>0.000000</td>\n      <td>0.000000</td>\n      <td>0.097343</td>\n      <td>0.387766</td>\n      <td>0.013225</td>\n    </tr>\n    <tr>\n      <th>4</th>\n      <td>2014-03-24_AS14.01</td>\n      <td>AS14.01</td>\n      <td>2014-03-24</td>\n      <td>0.387766</td>\n      <td>0.000000</td>\n      <td>0.000000</td>\n      <td>0.087050</td>\n      <td>0.465057</td>\n      <td>0.019746</td>\n    </tr>\n    <tr>\n      <th>...</th>\n      <td>...</td>\n      <td>...</td>\n      <td>...</td>\n      <td>...</td>\n      <td>...</td>\n      <td>...</td>\n      <td>...</td>\n      <td>...</td>\n      <td>...</td>\n    </tr>\n    <tr>\n      <th>1210</th>\n      <td>2014-05-25_AS14.33</td>\n      <td>AS14.33</td>\n      <td>2014-05-25</td>\n      <td>0.414199</td>\n      <td>0.092373</td>\n      <td>0.205852</td>\n      <td>0.064506</td>\n      <td>0.321320</td>\n      <td>0.012040</td>\n    </tr>\n    <tr>\n      <th>1211</th>\n      <td>2014-05-26_AS14.33</td>\n      <td>AS14.33</td>\n      <td>2014-05-26</td>\n      <td>0.321320</td>\n      <td>0.279585</td>\n      <td>0.082238</td>\n      <td>0.063592</td>\n      <td>0.408968</td>\n      <td>0.029112</td>\n    </tr>\n    <tr>\n      <th>1212</th>\n      <td>2014-05-27_AS14.33</td>\n      <td>AS14.33</td>\n      <td>2014-05-27</td>\n      <td>0.408968</td>\n      <td>0.031749</td>\n      <td>0.055570</td>\n      <td>0.107602</td>\n      <td>0.599415</td>\n      <td>0.013281</td>\n    </tr>\n    <tr>\n      <th>1213</th>\n      <td>2014-05-28_AS14.33</td>\n      <td>AS14.33</td>\n      <td>2014-05-28</td>\n      <td>0.599415</td>\n      <td>0.279585</td>\n      <td>0.028171</td>\n      <td>0.068817</td>\n      <td>0.489548</td>\n      <td>0.026068</td>\n    </tr>\n    <tr>\n      <th>1214</th>\n      <td>2014-05-29_AS14.33</td>\n      <td>AS14.33</td>\n      <td>2014-05-29</td>\n      <td>0.489548</td>\n      <td>0.149532</td>\n      <td>0.000000</td>\n      <td>0.098984</td>\n      <td>0.470004</td>\n      <td>0.051553</td>\n    </tr>\n  </tbody>\n</table>\n<p>1215 rows × 9 columns</p>\n</div>"
          },
          "metadata": {}
        }
      ]
    },
    {
      "cell_type": "code",
      "metadata": {
        "tags": [],
        "cell_id": "00025-5a259ada-3553-4617-9346-d41ef7652c29",
        "deepnote_to_be_reexecuted": false,
        "source_hash": "d957487a",
        "execution_start": 1617718896352,
        "execution_millis": 2,
        "deepnote_cell_type": "code"
      },
      "source": "corr = df.corr()",
      "execution_count": null,
      "outputs": []
    },
    {
      "cell_type": "code",
      "metadata": {
        "tags": [],
        "cell_id": "00026-d35046c1-465b-4cd7-9025-852d80e74800",
        "deepnote_to_be_reexecuted": false,
        "source_hash": "be3e163f",
        "execution_start": 1617718907588,
        "execution_millis": 323,
        "deepnote_cell_type": "code"
      },
      "source": "# Lets see if we can plot it, because a plot can tell more than a thousands words (right?)\ntry:\n    plt.figure(figsize=(12,10))\n    sns.heatmap(corr, # annot=True, # Annotations will take an incredibly long time... better to leave them off\n    cmap=plt.cm.Reds)\n    plt.show()\nexcept Exception as exc:\n    print(f\"While working without supervision...\\nEncountered {exc}\")",
      "execution_count": null,
      "outputs": [
        {
          "data": {
            "text/plain": "<Figure size 864x720 with 2 Axes>",
            "image/png": "[encoded data removed]"
          },
          "metadata": {
            "needs_background": "light"
          },
          "output_type": "display_data"
        }
      ]
    },
    {
      "cell_type": "code",
      "metadata": {
        "tags": [],
        "cell_id": "00027-2fbae7e9-83c3-4364-8d29-07149cf31730",
        "deepnote_to_be_reexecuted": false,
        "source_hash": "bf55bb92",
        "execution_millis": 101,
        "execution_start": 1617722523129,
        "deepnote_cell_type": "code"
      },
      "source": "df.drop([x for x in df.columns if df[x].dtype != np.float64 or x == \"average_mood\"], axis=1)\n",
      "execution_count": null,
      "outputs": [
        {
          "output_type": "execute_result",
          "execution_count": 128,
          "data": {
            "application/vnd.deepnote.dataframe.v2+json": {
              "row_count": 1215,
              "column_count": 5,
              "columns": [
                {
                  "name": "total_calls",
                  "dtype": "float64",
                  "stats": {
                    "unique_count": 23,
                    "nan_count": 0,
                    "min": 0,
                    "max": 0.6931471805599453,
                    "histogram": [
                      {
                        "bin_start": 0,
                        "bin_end": 0.06931471805599453,
                        "count": 852
                      },
                      {
                        "bin_start": 0.06931471805599453,
                        "bin_end": 0.13862943611198905,
                        "count": 115
                      },
                      {
                        "bin_start": 0.13862943611198905,
                        "bin_end": 0.20794415416798356,
                        "count": 117
                      },
                      {
                        "bin_start": 0.20794415416798356,
                        "bin_end": 0.2772588722239781,
                        "count": 59
                      },
                      {
                        "bin_start": 0.2772588722239781,
                        "bin_end": 0.34657359027997264,
                        "count": 43
                      },
                      {
                        "bin_start": 0.34657359027997264,
                        "bin_end": 0.4158883083359671,
                        "count": 16
                      },
                      {
                        "bin_start": 0.4158883083359671,
                        "bin_end": 0.48520302639196167,
                        "count": 7
                      },
                      {
                        "bin_start": 0.48520302639196167,
                        "bin_end": 0.5545177444479562,
                        "count": 3
                      },
                      {
                        "bin_start": 0.5545177444479562,
                        "bin_end": 0.6238324625039507,
                        "count": 2
                      },
                      {
                        "bin_start": 0.6238324625039507,
                        "bin_end": 0.6931471805599453,
                        "count": 1
                      }
                    ]
                  }
                },
                {
                  "name": "total_sms",
                  "dtype": "float64",
                  "stats": {
                    "unique_count": 22,
                    "nan_count": 0,
                    "min": 0,
                    "max": 0.6931471805599453,
                    "histogram": [
                      {
                        "bin_start": 0,
                        "bin_end": 0.06931471805599453,
                        "count": 1108
                      },
                      {
                        "bin_start": 0.06931471805599453,
                        "bin_end": 0.13862943611198905,
                        "count": 47
                      },
                      {
                        "bin_start": 0.13862943611198905,
                        "bin_end": 0.20794415416798356,
                        "count": 25
                      },
                      {
                        "bin_start": 0.20794415416798356,
                        "bin_end": 0.2772588722239781,
                        "count": 8
                      },
                      {
                        "bin_start": 0.2772588722239781,
                        "bin_end": 0.34657359027997264,
                        "count": 16
                      },
                      {
                        "bin_start": 0.34657359027997264,
                        "bin_end": 0.4158883083359671,
                        "count": 3
                      },
                      {
                        "bin_start": 0.4158883083359671,
                        "bin_end": 0.48520302639196167,
                        "count": 0
                      },
                      {
                        "bin_start": 0.48520302639196167,
                        "bin_end": 0.5545177444479562,
                        "count": 5
                      },
                      {
                        "bin_start": 0.5545177444479562,
                        "bin_end": 0.6238324625039507,
                        "count": 2
                      },
                      {
                        "bin_start": 0.6238324625039507,
                        "bin_end": 0.6931471805599453,
                        "count": 1
                      }
                    ]
                  }
                },
                {
                  "name": "average_com",
                  "dtype": "float64",
                  "stats": {
                    "unique_count": 1104,
                    "nan_count": 0,
                    "min": 0,
                    "max": 0.6931471805599453,
                    "histogram": [
                      {
                        "bin_start": 0,
                        "bin_end": 0.06931471805599453,
                        "count": 631
                      },
                      {
                        "bin_start": 0.06931471805599453,
                        "bin_end": 0.13862943611198905,
                        "count": 498
                      },
                      {
                        "bin_start": 0.13862943611198905,
                        "bin_end": 0.20794415416798356,
                        "count": 61
                      },
                      {
                        "bin_start": 0.20794415416798356,
                        "bin_end": 0.2772588722239781,
                        "count": 12
                      },
                      {
                        "bin_start": 0.2772588722239781,
                        "bin_end": 0.34657359027997264,
                        "count": 6
                      },
                      {
                        "bin_start": 0.34657359027997264,
                        "bin_end": 0.4158883083359671,
                        "count": 0
                      },
                      {
                        "bin_start": 0.4158883083359671,
                        "bin_end": 0.48520302639196167,
                        "count": 1
                      },
                      {
                        "bin_start": 0.48520302639196167,
                        "bin_end": 0.5545177444479562,
                        "count": 4
                      },
                      {
                        "bin_start": 0.5545177444479562,
                        "bin_end": 0.6238324625039507,
                        "count": 1
                      },
                      {
                        "bin_start": 0.6238324625039507,
                        "bin_end": 0.6931471805599453,
                        "count": 1
                      }
                    ]
                  }
                },
                {
                  "name": "mood_next_day",
                  "dtype": "float64",
                  "stats": {
                    "unique_count": 71,
                    "nan_count": 0,
                    "min": 0,
                    "max": 0.6931471805599453,
                    "histogram": [
                      {
                        "bin_start": 0,
                        "bin_end": 0.06931471805599453,
                        "count": 2
                      },
                      {
                        "bin_start": 0.06931471805599453,
                        "bin_end": 0.13862943611198905,
                        "count": 5
                      },
                      {
                        "bin_start": 0.13862943611198905,
                        "bin_end": 0.20794415416798356,
                        "count": 2
                      },
                      {
                        "bin_start": 0.20794415416798356,
                        "bin_end": 0.2772588722239781,
                        "count": 9
                      },
                      {
                        "bin_start": 0.2772588722239781,
                        "bin_end": 0.34657359027997264,
                        "count": 27
                      },
                      {
                        "bin_start": 0.34657359027997264,
                        "bin_end": 0.4158883083359671,
                        "count": 142
                      },
                      {
                        "bin_start": 0.4158883083359671,
                        "bin_end": 0.48520302639196167,
                        "count": 291
                      },
                      {
                        "bin_start": 0.48520302639196167,
                        "bin_end": 0.5545177444479562,
                        "count": 549
                      },
                      {
                        "bin_start": 0.5545177444479562,
                        "bin_end": 0.6238324625039507,
                        "count": 174
                      },
                      {
                        "bin_start": 0.6238324625039507,
                        "bin_end": 0.6931471805599453,
                        "count": 14
                      }
                    ]
                  }
                },
                {
                  "name": "average_soc",
                  "dtype": "float64",
                  "stats": {
                    "unique_count": 926,
                    "nan_count": 0,
                    "min": 0,
                    "max": 0.6931471805599453,
                    "histogram": [
                      {
                        "bin_start": 0,
                        "bin_end": 0.06931471805599453,
                        "count": 1198
                      },
                      {
                        "bin_start": 0.06931471805599453,
                        "bin_end": 0.13862943611198905,
                        "count": 12
                      },
                      {
                        "bin_start": 0.13862943611198905,
                        "bin_end": 0.20794415416798356,
                        "count": 4
                      },
                      {
                        "bin_start": 0.20794415416798356,
                        "bin_end": 0.2772588722239781,
                        "count": 0
                      },
                      {
                        "bin_start": 0.2772588722239781,
                        "bin_end": 0.34657359027997264,
                        "count": 0
                      },
                      {
                        "bin_start": 0.34657359027997264,
                        "bin_end": 0.4158883083359671,
                        "count": 0
                      },
                      {
                        "bin_start": 0.4158883083359671,
                        "bin_end": 0.48520302639196167,
                        "count": 0
                      },
                      {
                        "bin_start": 0.48520302639196167,
                        "bin_end": 0.5545177444479562,
                        "count": 0
                      },
                      {
                        "bin_start": 0.5545177444479562,
                        "bin_end": 0.6238324625039507,
                        "count": 0
                      },
                      {
                        "bin_start": 0.6238324625039507,
                        "bin_end": 0.6931471805599453,
                        "count": 1
                      }
                    ]
                  }
                },
                {
                  "name": "_deepnote_index_column",
                  "dtype": "int64"
                }
              ],
              "rows_top": [
                {
                  "total_calls": 0,
                  "total_sms": 0,
                  "average_com": 0,
                  "mood_next_day": 0.41419878807691896,
                  "average_soc": 0,
                  "_deepnote_index_column": 0
                },
                {
                  "total_calls": 0.17693070815907824,
                  "total_sms": 0,
                  "average_com": 0.10020907608366211,
                  "mood_next_day": 0.4297297301077957,
                  "average_soc": 0.01979170342642096,
                  "_deepnote_index_column": 1
                },
                {
                  "total_calls": 0,
                  "total_sms": 0,
                  "average_com": 0.09431011870026698,
                  "mood_next_day": 0.47000362924573547,
                  "average_soc": 0.00969856508340451,
                  "_deepnote_index_column": 2
                },
                {
                  "total_calls": 0,
                  "total_sms": 0,
                  "average_com": 0.09734333132681294,
                  "mood_next_day": 0.38776553100876354,
                  "average_soc": 0.013225339113007707,
                  "_deepnote_index_column": 3
                },
                {
                  "total_calls": 0,
                  "total_sms": 0,
                  "average_com": 0.08704972691598892,
                  "mood_next_day": 0.46505720531041,
                  "average_soc": 0.019746421833324476,
                  "_deepnote_index_column": 4
                },
                {
                  "total_calls": 0,
                  "total_sms": 0,
                  "average_com": 0.12472715901667658,
                  "mood_next_day": 0.4500694143449183,
                  "average_soc": 0.01807176345013664,
                  "_deepnote_index_column": 5
                },
                {
                  "total_calls": 0,
                  "total_sms": 0,
                  "average_com": 0.08620738190271036,
                  "mood_next_day": 0.4895482253187058,
                  "average_soc": 0.03248182760542797,
                  "_deepnote_index_column": 6
                },
                {
                  "total_calls": 0.39465419200394874,
                  "total_sms": 0,
                  "average_com": 0.07967774363940179,
                  "mood_next_day": 0.4297297301077957,
                  "average_soc": 0.01895958462686769,
                  "_deepnote_index_column": 7
                },
                {
                  "total_calls": 0.14953173397096384,
                  "total_sms": 0,
                  "average_com": 0.0450349378527606,
                  "mood_next_day": 0.5819215454497209,
                  "average_soc": 0.006796705954309438,
                  "_deepnote_index_column": 8
                },
                {
                  "total_calls": 0,
                  "total_sms": 0,
                  "average_com": 0.087382417195161,
                  "mood_next_day": 0.5368011101692514,
                  "average_soc": 0.015602101583553999,
                  "_deepnote_index_column": 9
                },
                {
                  "total_calls": 0,
                  "total_sms": 0,
                  "average_com": 0.11180288701455063,
                  "mood_next_day": 0.5275274733839221,
                  "average_soc": 0.014759484527986073,
                  "_deepnote_index_column": 10
                },
                {
                  "total_calls": 0.2795848622191615,
                  "total_sms": 0,
                  "average_com": 0.07611189665605253,
                  "mood_next_day": 0.38776553100876354,
                  "average_soc": 0.014859685114354294,
                  "_deepnote_index_column": 11
                },
                {
                  "total_calls": 0.03174869831458027,
                  "total_sms": 0,
                  "average_com": 0.06144890154750459,
                  "mood_next_day": 0.4399512841793335,
                  "average_soc": 0.01211483264629904,
                  "_deepnote_index_column": 12
                },
                {
                  "total_calls": 0.12136085700426734,
                  "total_sms": 0,
                  "average_com": 0.06257987015796775,
                  "mood_next_day": 0.4297297301077957,
                  "average_soc": 0.017063256375415635,
                  "_deepnote_index_column": 13
                },
                {
                  "total_calls": 0.12136085700426734,
                  "total_sms": 0,
                  "average_com": 0.08508907353435212,
                  "mood_next_day": 0.4089677386593665,
                  "average_soc": 0.011748704488007508,
                  "_deepnote_index_column": 14
                },
                {
                  "total_calls": 0,
                  "total_sms": 0,
                  "average_com": 0.08181808177316509,
                  "mood_next_day": 0.47000362924573547,
                  "average_soc": 0.018955784949801747,
                  "_deepnote_index_column": 15
                },
                {
                  "total_calls": 0,
                  "total_sms": 0,
                  "average_com": 0.06965540829739135,
                  "mood_next_day": 0.4399512841793335,
                  "average_soc": 0.012005026012613112,
                  "_deepnote_index_column": 16
                },
                {
                  "total_calls": 0.17693070815907824,
                  "total_sms": 0,
                  "average_com": 0.08774653237189167,
                  "mood_next_day": 0.4399512841793335,
                  "average_soc": 0.0169580724542213,
                  "_deepnote_index_column": 17
                },
                {
                  "total_calls": 0.03174869831458027,
                  "total_sms": 0,
                  "average_com": 0.1035266007411144,
                  "mood_next_day": 0.4500694143449183,
                  "average_soc": 0.016221231844142186,
                  "_deepnote_index_column": 18
                },
                {
                  "total_calls": 0.03174869831458027,
                  "total_sms": 0,
                  "average_com": 0.08978999082278191,
                  "mood_next_day": 0.5275274733839221,
                  "average_soc": 0.01557373477895238,
                  "_deepnote_index_column": 19
                },
                {
                  "total_calls": 0.12136085700426734,
                  "total_sms": 0,
                  "average_com": 0.07040797846391648,
                  "mood_next_day": 0.5275274733839221,
                  "average_soc": 0.01167923878250592,
                  "_deepnote_index_column": 20
                },
                {
                  "total_calls": 0,
                  "total_sms": 0,
                  "average_com": 0.11735055264312298,
                  "mood_next_day": 0.4895482253187058,
                  "average_soc": 0.010362558796853442,
                  "_deepnote_index_column": 21
                },
                {
                  "total_calls": 0,
                  "total_sms": 0,
                  "average_com": 0.05140899725618386,
                  "mood_next_day": 0.5134537461722601,
                  "average_soc": 0.012138338268695955,
                  "_deepnote_index_column": 22
                },
                {
                  "total_calls": 0,
                  "total_sms": 0,
                  "average_com": 0.2423817283690247,
                  "mood_next_day": 0.5819215454497209,
                  "average_soc": 0.011655649036728244,
                  "_deepnote_index_column": 23
                },
                {
                  "total_calls": 0,
                  "total_sms": 0,
                  "average_com": 0.0873040557937618,
                  "mood_next_day": 0.5087181414264259,
                  "average_soc": 0.004578538093352434,
                  "_deepnote_index_column": 24
                },
                {
                  "total_calls": 0.22957444164450017,
                  "total_sms": 0.20585205420414882,
                  "average_com": 0.09392945377244112,
                  "mood_next_day": 0.4297297301077957,
                  "average_soc": 0.042276598862948295,
                  "_deepnote_index_column": 25
                },
                {
                  "total_calls": 0,
                  "total_sms": 0.028170876966696224,
                  "average_com": 0.07494639963249859,
                  "mood_next_day": 0.5087181414264259,
                  "average_soc": 0.026420012635323897,
                  "_deepnote_index_column": 26
                },
                {
                  "total_calls": 0,
                  "total_sms": 0,
                  "average_com": 0.06832735828045802,
                  "mood_next_day": 0.4500694143449183,
                  "average_soc": 0.017394338476196387,
                  "_deepnote_index_column": 27
                },
                {
                  "total_calls": 0.2795848622191615,
                  "total_sms": 0,
                  "average_com": 0.18899917455032295,
                  "mood_next_day": 0.47000362924573547,
                  "average_soc": 0.0185120487251178,
                  "_deepnote_index_column": 28
                },
                {
                  "total_calls": 0.03174869831458027,
                  "total_sms": 0,
                  "average_com": 0.11744697229032722,
                  "mood_next_day": 0.5641169208162141,
                  "average_soc": 0.051682588006589654,
                  "_deepnote_index_column": 29
                },
                {
                  "total_calls": 0.03174869831458027,
                  "total_sms": 0,
                  "average_com": 0.0655855286836384,
                  "mood_next_day": 0.5134537461722601,
                  "average_soc": 0.009547094887655818,
                  "_deepnote_index_column": 30
                },
                {
                  "total_calls": 0.06252035698133393,
                  "total_sms": 0,
                  "average_com": 0.1040095645932072,
                  "mood_next_day": 0.5459895362236575,
                  "average_soc": 0.02450049435674474,
                  "_deepnote_index_column": 31
                },
                {
                  "total_calls": 0.06252035698133393,
                  "total_sms": 0,
                  "average_com": 0.08006553637689026,
                  "mood_next_day": 0.5275274733839221,
                  "average_soc": 0.016170444551353025,
                  "_deepnote_index_column": 32
                },
                {
                  "total_calls": 0.06252035698133393,
                  "total_sms": 0,
                  "average_com": 0.08566526108150084,
                  "mood_next_day": 0.5459895362236575,
                  "average_soc": 0.017859564339931033,
                  "_deepnote_index_column": 33
                },
                {
                  "total_calls": 0.03174869831458027,
                  "total_sms": 0,
                  "average_com": 0.09850538995469063,
                  "mood_next_day": 0.5459895362236575,
                  "average_soc": 0.011605997281007597,
                  "_deepnote_index_column": 34
                },
                {
                  "total_calls": 0.03174869831458027,
                  "total_sms": 0,
                  "average_com": 0.11654850054775565,
                  "mood_next_day": 0.5087181414264259,
                  "average_soc": 0.020228099649994363,
                  "_deepnote_index_column": 35
                },
                {
                  "total_calls": 0.06252035698133393,
                  "total_sms": 0.10821358464023279,
                  "average_com": 0.0935516946517202,
                  "mood_next_day": 0.5459895362236575,
                  "average_soc": 0.025438947814444245,
                  "_deepnote_index_column": 36
                },
                {
                  "total_calls": 0,
                  "total_sms": 0,
                  "average_com": 0.10817650766842313,
                  "mood_next_day": 0.5368011101692514,
                  "average_soc": 0.19062732847933908,
                  "_deepnote_index_column": 37
                },
                {
                  "total_calls": 0,
                  "total_sms": 0,
                  "average_com": 0.09249645049752145,
                  "mood_next_day": 0.5459895362236575,
                  "average_soc": 0.0036470660250528097,
                  "_deepnote_index_column": 38
                },
                {
                  "total_calls": 0,
                  "total_sms": 0,
                  "average_com": 0.10049922048658957,
                  "mood_next_day": 0.4895482253187058,
                  "average_soc": 0.05233973486923284,
                  "_deepnote_index_column": 39
                },
                {
                  "total_calls": 0,
                  "total_sms": 0,
                  "average_com": 0.08879849240372022,
                  "mood_next_day": 0.5641169208162141,
                  "average_soc": 0.0269976225616751,
                  "_deepnote_index_column": 40
                },
                {
                  "total_calls": 0.17693070815907824,
                  "total_sms": 0,
                  "average_com": 0.06326915005439539,
                  "mood_next_day": 0.5819215454497209,
                  "average_soc": 0.002632038652528553,
                  "_deepnote_index_column": 41
                },
                {
                  "total_calls": 0,
                  "total_sms": 0,
                  "average_com": 0.07507424966341578,
                  "mood_next_day": 0.5459895362236575,
                  "average_soc": 0.037763641097681086,
                  "_deepnote_index_column": 42
                },
                {
                  "total_calls": 0,
                  "total_sms": 0,
                  "average_com": 0.1057031425731073,
                  "mood_next_day": 0.5819215454497209,
                  "average_soc": 0.011996506829291797,
                  "_deepnote_index_column": 43
                },
                {
                  "total_calls": 0,
                  "total_sms": 0,
                  "average_com": 0.13311040346836836,
                  "mood_next_day": 0.516822643238365,
                  "average_soc": 0.006058647642126312,
                  "_deepnote_index_column": 44
                },
                {
                  "total_calls": 0.12136085700426734,
                  "total_sms": 0,
                  "average_com": 0.0861734907625649,
                  "mood_next_day": 0.46505720531041,
                  "average_soc": 0.002837502483273244,
                  "_deepnote_index_column": 45
                },
                {
                  "total_calls": 0.12136085700426734,
                  "total_sms": 0,
                  "average_com": 0.08708028903365574,
                  "mood_next_day": 0.5994147028972381,
                  "average_soc": 0.0027369569352308654,
                  "_deepnote_index_column": 46
                },
                {
                  "total_calls": 0.39465419200394874,
                  "total_sms": 0.08223809823697201,
                  "average_com": 0.06131080003172409,
                  "mood_next_day": 0.47000362924573547,
                  "average_soc": 0.0029688592576548943,
                  "_deepnote_index_column": 47
                },
                {
                  "total_calls": 0.14953173397096384,
                  "total_sms": 0.028170876966696224,
                  "average_com": 0.06099079157335249,
                  "mood_next_day": 0.5134537461722601,
                  "average_soc": 0.0025406772035891164,
                  "_deepnote_index_column": 48
                },
                {
                  "total_calls": 0.2795848622191615,
                  "total_sms": 0.028170876966696224,
                  "average_com": 0.058844193541625005,
                  "mood_next_day": 0.5368011101692514,
                  "average_soc": 0.0038821352776492904,
                  "_deepnote_index_column": 49
                },
                {
                  "total_calls": 0.2795848622191615,
                  "total_sms": 0.028170876966696224,
                  "average_com": 0.08198929957531358,
                  "mood_next_day": 0.4399512841793335,
                  "average_soc": 0.004291596675175198,
                  "_deepnote_index_column": 50
                },
                {
                  "total_calls": 0.5913644862500029,
                  "total_sms": 0.028170876966696224,
                  "average_com": 0.04084280318439381,
                  "mood_next_day": 0.41419878807691896,
                  "average_soc": 0.002856752672814612,
                  "_deepnote_index_column": 51
                },
                {
                  "total_calls": 0.22957444164450017,
                  "total_sms": 0,
                  "average_com": 0.06802996685423647,
                  "mood_next_day": 0.4297297301077957,
                  "average_soc": 0.005070798639233652,
                  "_deepnote_index_column": 52
                },
                {
                  "total_calls": 0.14953173397096384,
                  "total_sms": 0,
                  "average_com": 0.08887508254080914,
                  "mood_next_day": 0.5596157879354227,
                  "average_soc": 0.004752435760253506,
                  "_deepnote_index_column": 53
                },
                {
                  "total_calls": 0.20359895524123955,
                  "total_sms": 0,
                  "average_com": 0.07053629326178275,
                  "mood_next_day": 0.5087181414264259,
                  "average_soc": 0.003033028182448231,
                  "_deepnote_index_column": 54
                },
                {
                  "total_calls": 0.14953173397096384,
                  "total_sms": 0,
                  "average_com": 0.06695679066559314,
                  "mood_next_day": 0.5134537461722601,
                  "average_soc": 0.011167746597761777,
                  "_deepnote_index_column": 55
                },
                {
                  "total_calls": 0.09237332013101507,
                  "total_sms": 0,
                  "average_com": 0.06110104637010161,
                  "mood_next_day": 0.47000362924573547,
                  "average_soc": 0.002701924968458253,
                  "_deepnote_index_column": 56
                },
                {
                  "total_calls": 0.22957444164450017,
                  "total_sms": 0,
                  "average_com": 0.03545524604599037,
                  "mood_next_day": 0.5134537461722601,
                  "average_soc": 0.01747619433964332,
                  "_deepnote_index_column": 57
                },
                {
                  "total_calls": 0.12136085700426734,
                  "total_sms": 0,
                  "average_com": 0.0952399830943481,
                  "mood_next_day": 0.4895482253187058,
                  "average_soc": 0.010662442150575999,
                  "_deepnote_index_column": 58
                },
                {
                  "total_calls": 0.2795848622191615,
                  "total_sms": 0.10821358464023279,
                  "average_com": 0.06062887161951574,
                  "mood_next_day": 0.5087181414264259,
                  "average_soc": 0.005710113731628495,
                  "_deepnote_index_column": 59
                },
                {
                  "total_calls": 0.3726752852851735,
                  "total_sms": 0.055569851154810786,
                  "average_com": 0.053126245949834776,
                  "mood_next_day": 0.5275274733839221,
                  "average_soc": 0.033332480448441885,
                  "_deepnote_index_column": 60
                },
                {
                  "total_calls": 0.06252035698133393,
                  "total_sms": 0,
                  "average_com": 0.0406423899749356,
                  "mood_next_day": 0.4297297301077957,
                  "average_soc": 0.0029861941166327106,
                  "_deepnote_index_column": 61
                },
                {
                  "total_calls": 0.06252035698133393,
                  "total_sms": 0,
                  "average_com": 0.059386853390889574,
                  "mood_next_day": 0.36061454194281256,
                  "average_soc": 0.0032472847222949114,
                  "_deepnote_index_column": 62
                },
                {
                  "total_calls": 0.06252035698133393,
                  "total_sms": 0,
                  "average_com": 0.05155803587680019,
                  "mood_next_day": 0.4297297301077957,
                  "average_soc": 0.0036119024757258465,
                  "_deepnote_index_column": 63
                },
                {
                  "total_calls": 0.14953173397096384,
                  "total_sms": 0,
                  "average_com": 0.06202049373699363,
                  "mood_next_day": 0.5275274733839221,
                  "average_soc": 0.0046881594710872125,
                  "_deepnote_index_column": 64
                },
                {
                  "total_calls": 0.25489224962879004,
                  "total_sms": 0,
                  "average_com": 0.047413565268731236,
                  "mood_next_day": 0.21256144198367288,
                  "average_soc": 0.006234576195494304,
                  "_deepnote_index_column": 65
                },
                {
                  "total_calls": 0.17693070815907824,
                  "total_sms": 0,
                  "average_com": 0.053038552586159,
                  "mood_next_day": 0.47000362924573547,
                  "average_soc": 0.005769783371978681,
                  "_deepnote_index_column": 66
                },
                {
                  "total_calls": 0.06252035698133393,
                  "total_sms": 0,
                  "average_com": 0.10814843432900421,
                  "mood_next_day": 0.41419878807691896,
                  "average_soc": 0.010028944046915246,
                  "_deepnote_index_column": 67
                },
                {
                  "total_calls": 0.2795848622191615,
                  "total_sms": 0.08223809823697201,
                  "average_com": 0.047040020070755716,
                  "mood_next_day": 0.5134537461722601,
                  "average_soc": 0.0058193533571742105,
                  "_deepnote_index_column": 68
                },
                {
                  "total_calls": 0.3272129112084162,
                  "total_sms": 0.028170876966696224,
                  "average_com": 0.05128452102270175,
                  "mood_next_day": 0.5134537461722601,
                  "average_soc": 0.00600455084901256,
                  "_deepnote_index_column": 69
                },
                {
                  "total_calls": 0.03174869831458027,
                  "total_sms": 0.028170876966696224,
                  "average_com": 0.054564575649094026,
                  "mood_next_day": 0.4399512841793335,
                  "average_soc": 0.004424887510857949,
                  "_deepnote_index_column": 70
                },
                {
                  "total_calls": 0.20359895524123955,
                  "total_sms": 0.028170876966696224,
                  "average_com": 0.04564890076970031,
                  "mood_next_day": 0.38776553100876354,
                  "average_soc": 0.003536678809394938,
                  "_deepnote_index_column": 71
                },
                {
                  "total_calls": 0.17693070815907824,
                  "total_sms": 0,
                  "average_com": 0.04005585580473579,
                  "mood_next_day": 0.5087181414264259,
                  "average_soc": 0.006945081780010409,
                  "_deepnote_index_column": 72
                },
                {
                  "total_calls": 0.03174869831458027,
                  "total_sms": 0,
                  "average_com": 0.03734283640882529,
                  "mood_next_day": 0.5819215454497209,
                  "average_soc": 0.002515204178973552,
                  "_deepnote_index_column": 73
                },
                {
                  "total_calls": 0.22957444164450017,
                  "total_sms": 0.20585205420414882,
                  "average_com": 0.051478316784175304,
                  "mood_next_day": 0.5134537461722601,
                  "average_soc": 0.0050254213860541005,
                  "_deepnote_index_column": 74
                },
                {
                  "total_calls": 0.3726752852851735,
                  "total_sms": 0.028170876966696224,
                  "average_com": 0.06867633462082269,
                  "mood_next_day": 0.4567584024957149,
                  "average_soc": 0.003370848678020402,
                  "_deepnote_index_column": 75
                },
                {
                  "total_calls": 0.4161603972249123,
                  "total_sms": 0.028170876966696224,
                  "average_com": 0,
                  "mood_next_day": 0.4399512841793335,
                  "average_soc": 0,
                  "_deepnote_index_column": 76
                },
                {
                  "total_calls": 0.2795848622191615,
                  "total_sms": 0,
                  "average_com": 0.02369491956944,
                  "mood_next_day": 0.4399512841793335,
                  "average_soc": 0,
                  "_deepnote_index_column": 77
                },
                {
                  "total_calls": 0.09237332013101507,
                  "total_sms": 0,
                  "average_com": 0,
                  "mood_next_day": 0.3513978868378886,
                  "average_soc": 0,
                  "_deepnote_index_column": 78
                },
                {
                  "total_calls": 0.03174869831458027,
                  "total_sms": 0,
                  "average_com": 0,
                  "mood_next_day": 0.27443684570176036,
                  "average_soc": 0,
                  "_deepnote_index_column": 79
                },
                {
                  "total_calls": 0.25489224962879004,
                  "total_sms": 0,
                  "average_com": 0,
                  "mood_next_day": 0.332705753825736,
                  "average_soc": 0,
                  "_deepnote_index_column": 80
                },
                {
                  "total_calls": 0.22957444164450017,
                  "total_sms": 0,
                  "average_com": 0,
                  "mood_next_day": 0.3513978868378886,
                  "average_soc": 0,
                  "_deepnote_index_column": 81
                },
                {
                  "total_calls": 0.39465419200394874,
                  "total_sms": 0.294799540220645,
                  "average_com": 0,
                  "mood_next_day": 0.332705753825736,
                  "average_soc": 0,
                  "_deepnote_index_column": 82
                },
                {
                  "total_calls": 0,
                  "total_sms": 0,
                  "average_com": 0,
                  "mood_next_day": 0.4895482253187058,
                  "average_soc": 0,
                  "_deepnote_index_column": 83
                },
                {
                  "total_calls": 0,
                  "total_sms": 0,
                  "average_com": 0,
                  "mood_next_day": 0.666478933477784,
                  "average_soc": 0,
                  "_deepnote_index_column": 84
                },
                {
                  "total_calls": 0.14953173397096384,
                  "total_sms": 0.055569851154810786,
                  "average_com": 0.08326566771303694,
                  "mood_next_day": 0.5641169208162141,
                  "average_soc": 0,
                  "_deepnote_index_column": 85
                },
                {
                  "total_calls": 0.22957444164450017,
                  "total_sms": 0.028170876966696224,
                  "average_com": 0.024752162850745513,
                  "mood_next_day": 0.5994147028972381,
                  "average_soc": 0,
                  "_deepnote_index_column": 86
                },
                {
                  "total_calls": 0.03174869831458027,
                  "total_sms": 0,
                  "average_com": 0.05818220526111323,
                  "mood_next_day": 0.5641169208162141,
                  "average_soc": 0,
                  "_deepnote_index_column": 87
                },
                {
                  "total_calls": 0.09237332013101507,
                  "total_sms": 0,
                  "average_com": 0.0670099505626284,
                  "mood_next_day": 0.5641169208162141,
                  "average_soc": 0,
                  "_deepnote_index_column": 88
                },
                {
                  "total_calls": 0.17693070815907824,
                  "total_sms": 0,
                  "average_com": 0.031115332724150156,
                  "mood_next_day": 0.6037405928443607,
                  "average_soc": 0,
                  "_deepnote_index_column": 89
                },
                {
                  "total_calls": 0.03174869831458027,
                  "total_sms": 0,
                  "average_com": 0.02775920945904175,
                  "mood_next_day": 0.5596157879354227,
                  "average_soc": 0,
                  "_deepnote_index_column": 90
                },
                {
                  "total_calls": 0.09237332013101507,
                  "total_sms": 0,
                  "average_com": 0.028341988472404364,
                  "mood_next_day": 0.5819215454497209,
                  "average_soc": 0,
                  "_deepnote_index_column": 91
                },
                {
                  "total_calls": 0,
                  "total_sms": 0,
                  "average_com": 0.025035726028881596,
                  "mood_next_day": 0.6335089142402142,
                  "average_soc": 0,
                  "_deepnote_index_column": 92
                },
                {
                  "total_calls": 0,
                  "total_sms": 0,
                  "average_com": 0.01452219575845635,
                  "mood_next_day": 0.6166071034376109,
                  "average_soc": 0,
                  "_deepnote_index_column": 93
                },
                {
                  "total_calls": 0.12136085700426734,
                  "total_sms": 0,
                  "average_com": 0.029569824402279624,
                  "mood_next_day": 0.5275274733839221,
                  "average_soc": 0,
                  "_deepnote_index_column": 94
                },
                {
                  "total_calls": 0.09237332013101507,
                  "total_sms": 0,
                  "average_com": 0.0979873912239215,
                  "mood_next_day": 0.5459895362236575,
                  "average_soc": 0,
                  "_deepnote_index_column": 95
                },
                {
                  "total_calls": 0.06252035698133393,
                  "total_sms": 0,
                  "average_com": 0.022817762772449384,
                  "mood_next_day": 0.5275274733839221,
                  "average_soc": 0,
                  "_deepnote_index_column": 96
                },
                {
                  "total_calls": 0.06252035698133393,
                  "total_sms": 0,
                  "average_com": 0.024611943090630545,
                  "mood_next_day": 0.5641169208162141,
                  "average_soc": 0,
                  "_deepnote_index_column": 97
                },
                {
                  "total_calls": 0,
                  "total_sms": 0,
                  "average_com": 0.021261062382396723,
                  "mood_next_day": 0.5641169208162141,
                  "average_soc": 0,
                  "_deepnote_index_column": 98
                },
                {
                  "total_calls": 0,
                  "total_sms": 0,
                  "average_com": 0.0500049286275881,
                  "mood_next_day": 0.5459895362236575,
                  "average_soc": 0,
                  "_deepnote_index_column": 99
                }
              ],
              "rows_bottom": [
                {
                  "total_calls": 0,
                  "total_sms": 0,
                  "average_com": 0.06108083430959206,
                  "mood_next_day": 0.4895482253187058,
                  "average_soc": 0.011038398545351557,
                  "_deepnote_index_column": 1115
                },
                {
                  "total_calls": 0.17693070815907824,
                  "total_sms": 0,
                  "average_com": 0.055965480564444364,
                  "mood_next_day": 0.46505720531041,
                  "average_soc": 0,
                  "_deepnote_index_column": 1116
                },
                {
                  "total_calls": 0.09237332013101507,
                  "total_sms": 0,
                  "average_com": 0.06117249847642133,
                  "mood_next_day": 0.4895482253187058,
                  "average_soc": 0.0023490829179660714,
                  "_deepnote_index_column": 1117
                },
                {
                  "total_calls": 0.03174869831458027,
                  "total_sms": 0,
                  "average_com": 0.03918544272658107,
                  "mood_next_day": 0.47000362924573547,
                  "average_soc": 0.0029261049418330483,
                  "_deepnote_index_column": 1118
                },
                {
                  "total_calls": 0.12136085700426734,
                  "total_sms": 0,
                  "average_com": 0.10752957274150811,
                  "mood_next_day": 0.5641169208162141,
                  "average_soc": 0.004596931370850412,
                  "_deepnote_index_column": 1119
                },
                {
                  "total_calls": 0,
                  "total_sms": 0,
                  "average_com": 0.03799947098517816,
                  "mood_next_day": 0.5819215454497209,
                  "average_soc": 0.0021332963730189046,
                  "_deepnote_index_column": 1120
                },
                {
                  "total_calls": 0,
                  "total_sms": 0,
                  "average_com": 0.04383331862058542,
                  "mood_next_day": 0.4297297301077957,
                  "average_soc": 0.005534691373698583,
                  "_deepnote_index_column": 1121
                },
                {
                  "total_calls": 0,
                  "total_sms": 0.10821358464023279,
                  "average_com": 0.09797877690727637,
                  "mood_next_day": 0.4895482253187058,
                  "average_soc": 0.007087738429617482,
                  "_deepnote_index_column": 1122
                },
                {
                  "total_calls": 0,
                  "total_sms": 0,
                  "average_com": 0.08953956843203319,
                  "mood_next_day": 0.4895482253187058,
                  "average_soc": 0.006842725845989041,
                  "_deepnote_index_column": 1123
                },
                {
                  "total_calls": 0.17693070815907824,
                  "total_sms": 0,
                  "average_com": 0.06064701582483448,
                  "mood_next_day": 0.4399512841793335,
                  "average_soc": 0.0049216606035332984,
                  "_deepnote_index_column": 1124
                },
                {
                  "total_calls": 0.03174869831458027,
                  "total_sms": 0,
                  "average_com": 0.08755109985587425,
                  "mood_next_day": 0.4895482253187058,
                  "average_soc": 0.0026641856379227844,
                  "_deepnote_index_column": 1125
                },
                {
                  "total_calls": 0.303682413798222,
                  "total_sms": 0,
                  "average_com": 0.060759896680293524,
                  "mood_next_day": 0.4895482253187058,
                  "average_soc": 0.004528688166117596,
                  "_deepnote_index_column": 1126
                },
                {
                  "total_calls": 0.4161603972249123,
                  "total_sms": 0,
                  "average_com": 0.051601417397710646,
                  "mood_next_day": 0.5275274733839221,
                  "average_soc": 0.0027903846221195142,
                  "_deepnote_index_column": 1127
                },
                {
                  "total_calls": 0.06252035698133393,
                  "total_sms": 0,
                  "average_com": 0.05665245969575022,
                  "mood_next_day": 0.47000362924573547,
                  "average_soc": 0.016760130539423646,
                  "_deepnote_index_column": 1128
                },
                {
                  "total_calls": 0.03174869831458027,
                  "total_sms": 0.1823215567939546,
                  "average_com": 0.06019926133970119,
                  "mood_next_day": 0.4895482253187058,
                  "average_soc": 0.006743320145306885,
                  "_deepnote_index_column": 1129
                },
                {
                  "total_calls": 0.06252035698133393,
                  "total_sms": 0,
                  "average_com": 0.045975669783218126,
                  "mood_next_day": 0.4895482253187058,
                  "average_soc": 0.007367118448316995,
                  "_deepnote_index_column": 1130
                },
                {
                  "total_calls": 0,
                  "total_sms": 0,
                  "average_com": 0.050935584345415855,
                  "mood_next_day": 0.4895482253187058,
                  "average_soc": 0.009006510880670617,
                  "_deepnote_index_column": 1131
                },
                {
                  "total_calls": 0,
                  "total_sms": 0.1823215567939546,
                  "average_com": 0.08563837307219078,
                  "mood_next_day": 0.4895482253187058,
                  "average_soc": 0.004149204413082687,
                  "_deepnote_index_column": 1132
                },
                {
                  "total_calls": 0,
                  "total_sms": 0,
                  "average_com": 0.0704204754004239,
                  "mood_next_day": 0.5275274733839221,
                  "average_soc": 0.01422280329124601,
                  "_deepnote_index_column": 1133
                },
                {
                  "total_calls": 0,
                  "total_sms": 0,
                  "average_com": 0.04890706003171474,
                  "mood_next_day": 0.5087181414264259,
                  "average_soc": 0,
                  "_deepnote_index_column": 1134
                },
                {
                  "total_calls": 0,
                  "total_sms": 0,
                  "average_com": 0.007873756340286012,
                  "mood_next_day": 0.4773776896984505,
                  "average_soc": 0.043604117137753,
                  "_deepnote_index_column": 1135
                },
                {
                  "total_calls": 0,
                  "total_sms": 0,
                  "average_com": 0.010500085289713905,
                  "mood_next_day": 0.4895482253187058,
                  "average_soc": 0,
                  "_deepnote_index_column": 1136
                },
                {
                  "total_calls": 0,
                  "total_sms": 0,
                  "average_com": 0,
                  "mood_next_day": 0.4895482253187058,
                  "average_soc": 0,
                  "_deepnote_index_column": 1137
                },
                {
                  "total_calls": 0,
                  "total_sms": 0,
                  "average_com": 0,
                  "mood_next_day": 0.5212969236332861,
                  "average_soc": 0,
                  "_deepnote_index_column": 1138
                },
                {
                  "total_calls": 0,
                  "total_sms": 0,
                  "average_com": 0,
                  "mood_next_day": 0.4895482253187058,
                  "average_soc": 0,
                  "_deepnote_index_column": 1139
                },
                {
                  "total_calls": 0,
                  "total_sms": 0,
                  "average_com": 0,
                  "mood_next_day": 0.4895482253187058,
                  "average_soc": 0,
                  "_deepnote_index_column": 1140
                },
                {
                  "total_calls": 0,
                  "total_sms": 0,
                  "average_com": 0,
                  "mood_next_day": 0.4895482253187058,
                  "average_soc": 0,
                  "_deepnote_index_column": 1141
                },
                {
                  "total_calls": 0,
                  "total_sms": 0,
                  "average_com": 0,
                  "mood_next_day": 0.4895482253187058,
                  "average_soc": 0,
                  "_deepnote_index_column": 1142
                },
                {
                  "total_calls": 0,
                  "total_sms": 0,
                  "average_com": 0,
                  "mood_next_day": 0.5368011101692514,
                  "average_soc": 0,
                  "_deepnote_index_column": 1143
                },
                {
                  "total_calls": 0.12136085700426734,
                  "total_sms": 0,
                  "average_com": 0.06944592201236591,
                  "mood_next_day": 0.4895482253187058,
                  "average_soc": 0.003504990623264414,
                  "_deepnote_index_column": 1144
                },
                {
                  "total_calls": 0.14953173397096384,
                  "total_sms": 0.25131442828090617,
                  "average_com": 0.06890126276746553,
                  "mood_next_day": 0.5819215454497209,
                  "average_soc": 0,
                  "_deepnote_index_column": 1145
                },
                {
                  "total_calls": 0.06252035698133393,
                  "total_sms": 0.028170876966696224,
                  "average_com": 0.08225588117903242,
                  "mood_next_day": 0.5819215454497209,
                  "average_soc": 0,
                  "_deepnote_index_column": 1146
                },
                {
                  "total_calls": 0.03174869831458027,
                  "total_sms": 0,
                  "average_com": 0.08542293319981094,
                  "mood_next_day": 0.6166071034376109,
                  "average_soc": 0.016181512717905345,
                  "_deepnote_index_column": 1147
                },
                {
                  "total_calls": 0.14953173397096384,
                  "total_sms": 0,
                  "average_com": 0.12227292421189505,
                  "mood_next_day": 0.5459895362236575,
                  "average_soc": 0.05152994547628355,
                  "_deepnote_index_column": 1148
                },
                {
                  "total_calls": 0.03174869831458027,
                  "total_sms": 0.20585205420414882,
                  "average_com": 0.09946338464867739,
                  "mood_next_day": 0.4895482253187058,
                  "average_soc": 0.024815376944412507,
                  "_deepnote_index_column": 1149
                },
                {
                  "total_calls": 0.303682413798222,
                  "total_sms": 0,
                  "average_com": 0.07307200178721261,
                  "mood_next_day": 0.5641169208162141,
                  "average_soc": 0,
                  "_deepnote_index_column": 1150
                },
                {
                  "total_calls": 0.03174869831458027,
                  "total_sms": 0,
                  "average_com": 0.12319430278358556,
                  "mood_next_day": 0.5212969236332861,
                  "average_soc": 0.012839986660104576,
                  "_deepnote_index_column": 1151
                },
                {
                  "total_calls": 0.39465419200394874,
                  "total_sms": 0,
                  "average_com": 0.07643326207481717,
                  "mood_next_day": 0.6037405928443607,
                  "average_soc": 0,
                  "_deepnote_index_column": 1152
                },
                {
                  "total_calls": 0.06252035698133393,
                  "total_sms": 0,
                  "average_com": 0.09238961192733333,
                  "mood_next_day": 0.5520685823000396,
                  "average_soc": 0.08609935614579786,
                  "_deepnote_index_column": 1153
                },
                {
                  "total_calls": 0.17693070815907824,
                  "total_sms": 0.27329333499968134,
                  "average_com": 0.09191514567830021,
                  "mood_next_day": 0.6335089142402142,
                  "average_soc": 0,
                  "_deepnote_index_column": 1154
                },
                {
                  "total_calls": 0.14953173397096384,
                  "total_sms": 0,
                  "average_com": 0.09984549078596403,
                  "mood_next_day": 0.5819215454497209,
                  "average_soc": 0.024283658903499917,
                  "_deepnote_index_column": 1155
                },
                {
                  "total_calls": 0.17693070815907824,
                  "total_sms": 0,
                  "average_com": 0.09255794131590867,
                  "mood_next_day": 0.5368011101692514,
                  "average_soc": 0.031188735573559924,
                  "_deepnote_index_column": 1156
                },
                {
                  "total_calls": 0.09237332013101507,
                  "total_sms": 0,
                  "average_com": 0.10876670427172618,
                  "mood_next_day": 0.5819215454497209,
                  "average_soc": 0,
                  "_deepnote_index_column": 1157
                },
                {
                  "total_calls": 0.22957444164450017,
                  "total_sms": 0,
                  "average_com": 0.0780480608117445,
                  "mood_next_day": 0.6250937173149296,
                  "average_soc": 0,
                  "_deepnote_index_column": 1158
                },
                {
                  "total_calls": 0.20359895524123955,
                  "total_sms": 0,
                  "average_com": 0.08972101020292389,
                  "mood_next_day": 0.6250937173149296,
                  "average_soc": 0.09221944270114726,
                  "_deepnote_index_column": 1159
                },
                {
                  "total_calls": 0.12136085700426734,
                  "total_sms": 0,
                  "average_com": 0.06827351326863956,
                  "mood_next_day": 0.4895482253187058,
                  "average_soc": 0,
                  "_deepnote_index_column": 1160
                },
                {
                  "total_calls": 0.09237332013101507,
                  "total_sms": 0,
                  "average_com": 0.09656975638853221,
                  "mood_next_day": 0.5819215454497209,
                  "average_soc": 0.014036169922163336,
                  "_deepnote_index_column": 1161
                },
                {
                  "total_calls": 0.25489224962879004,
                  "total_sms": 0,
                  "average_com": 0.09763188499671778,
                  "mood_next_day": 0.5212969236332861,
                  "average_soc": 0.014831564437377504,
                  "_deepnote_index_column": 1162
                },
                {
                  "total_calls": 0.2795848622191615,
                  "total_sms": 0,
                  "average_com": 0.0582119643161324,
                  "mood_next_day": 0.5368011101692514,
                  "average_soc": 0.03512898668559053,
                  "_deepnote_index_column": 1163
                },
                {
                  "total_calls": 0.20359895524123955,
                  "total_sms": 0,
                  "average_com": 0.1337452039932587,
                  "mood_next_day": 0.5819215454497209,
                  "average_soc": 0,
                  "_deepnote_index_column": 1164
                },
                {
                  "total_calls": 0.14953173397096384,
                  "total_sms": 0,
                  "average_com": 0.09145756937680044,
                  "mood_next_day": 0.4895482253187058,
                  "average_soc": 0,
                  "_deepnote_index_column": 1165
                },
                {
                  "total_calls": 0.17693070815907824,
                  "total_sms": 0,
                  "average_com": 0.13870625623697466,
                  "mood_next_day": 0.4895482253187058,
                  "average_soc": 0,
                  "_deepnote_index_column": 1166
                },
                {
                  "total_calls": 0.25489224962879004,
                  "total_sms": 0,
                  "average_com": 0.10093583113269917,
                  "mood_next_day": 0.5134537461722601,
                  "average_soc": 0,
                  "_deepnote_index_column": 1167
                },
                {
                  "total_calls": 0.2795848622191615,
                  "total_sms": 0,
                  "average_com": 0.08862242505153899,
                  "mood_next_day": 0.5368011101692514,
                  "average_soc": 0,
                  "_deepnote_index_column": 1168
                },
                {
                  "total_calls": 0.06252035698133393,
                  "total_sms": 0,
                  "average_com": 0.15953237413832463,
                  "mood_next_day": 0.6390799592896693,
                  "average_soc": 0.01404836716375733,
                  "_deepnote_index_column": 1169
                },
                {
                  "total_calls": 0.03174869831458027,
                  "total_sms": 0,
                  "average_com": 0.16942795010548034,
                  "mood_next_day": 0.4399512841793335,
                  "average_soc": 0.02820150431794556,
                  "_deepnote_index_column": 1170
                },
                {
                  "total_calls": 0.12136085700426734,
                  "total_sms": 0,
                  "average_com": 0.0925654548248381,
                  "mood_next_day": 0.38776553100876354,
                  "average_soc": 0.0002678418654507272,
                  "_deepnote_index_column": 1171
                },
                {
                  "total_calls": 0.35020242943311497,
                  "total_sms": 0,
                  "average_com": 0.11775658625218657,
                  "mood_next_day": 0.5596157879354227,
                  "average_soc": 0,
                  "_deepnote_index_column": 1172
                },
                {
                  "total_calls": 0.25489224962879004,
                  "total_sms": 0,
                  "average_com": 0.06662848010085626,
                  "mood_next_day": 0.5134537461722601,
                  "average_soc": 0,
                  "_deepnote_index_column": 1173
                },
                {
                  "total_calls": 0.17693070815907824,
                  "total_sms": 0,
                  "average_com": 0.10538007386977827,
                  "mood_next_day": 0.5087181414264259,
                  "average_soc": 0,
                  "_deepnote_index_column": 1174
                },
                {
                  "total_calls": 0,
                  "total_sms": 0,
                  "average_com": 0.12840951795114838,
                  "mood_next_day": 0.5015724182855074,
                  "average_soc": 0,
                  "_deepnote_index_column": 1175
                },
                {
                  "total_calls": 0.14953173397096384,
                  "total_sms": 0,
                  "average_com": 0.07051576112558004,
                  "mood_next_day": 0.5087181414264259,
                  "average_soc": 0.03331078606911905,
                  "_deepnote_index_column": 1176
                },
                {
                  "total_calls": 0.06252035698133393,
                  "total_sms": 0,
                  "average_com": 0.06338630455467344,
                  "mood_next_day": 0.5275274733839221,
                  "average_soc": 0.019893218964829363,
                  "_deepnote_index_column": 1177
                },
                {
                  "total_calls": 0.09237332013101507,
                  "total_sms": 0,
                  "average_com": 0.1265546480103737,
                  "mood_next_day": 0.5520685823000396,
                  "average_soc": 0.03104249888342697,
                  "_deepnote_index_column": 1178
                },
                {
                  "total_calls": 0,
                  "total_sms": 0,
                  "average_com": 0.24894760910793345,
                  "mood_next_day": 0.5275274733839221,
                  "average_soc": 0.035681264226704285,
                  "_deepnote_index_column": 1179
                },
                {
                  "total_calls": 0,
                  "total_sms": 0,
                  "average_com": 0.1257226080494083,
                  "mood_next_day": 0.5087181414264259,
                  "average_soc": 0.020975271674430366,
                  "_deepnote_index_column": 1180
                },
                {
                  "total_calls": 0,
                  "total_sms": 0,
                  "average_com": 0.11414121735896697,
                  "mood_next_day": 0.4089677386593665,
                  "average_soc": 0.039737411772373374,
                  "_deepnote_index_column": 1181
                },
                {
                  "total_calls": 0.25489224962879004,
                  "total_sms": 0,
                  "average_com": 0.0859533696499653,
                  "mood_next_day": 0.2981533723190763,
                  "average_soc": 0.024128407596437248,
                  "_deepnote_index_column": 1182
                },
                {
                  "total_calls": 0.03174869831458027,
                  "total_sms": 0,
                  "average_com": 0.057054807064568114,
                  "mood_next_day": 0.4895482253187058,
                  "average_soc": 0.036711388977791914,
                  "_deepnote_index_column": 1183
                },
                {
                  "total_calls": 0.14953173397096384,
                  "total_sms": 0.13353139262452257,
                  "average_com": 0.095670541549742,
                  "mood_next_day": 0.6166071034376109,
                  "average_soc": 0.021100570108628442,
                  "_deepnote_index_column": 1184
                },
                {
                  "total_calls": 0.6931471805599453,
                  "total_sms": 0.055569851154810786,
                  "average_com": 0.05351688336537807,
                  "mood_next_day": 0.5459895362236575,
                  "average_soc": 0.011956761171688386,
                  "_deepnote_index_column": 1185
                },
                {
                  "total_calls": 0.4578330936254803,
                  "total_sms": 0,
                  "average_com": 0.056013351732278865,
                  "mood_next_day": 0.4089677386593665,
                  "average_soc": 0.013527397607638866,
                  "_deepnote_index_column": 1186
                },
                {
                  "total_calls": 0.12136085700426734,
                  "total_sms": 0,
                  "average_com": 0.11667035203786819,
                  "mood_next_day": 0.46505720531041,
                  "average_soc": 0.03540825568111278,
                  "_deepnote_index_column": 1187
                },
                {
                  "total_calls": 0.06252035698133393,
                  "total_sms": 0.13353139262452257,
                  "average_com": 0.12728133459297958,
                  "mood_next_day": 0.4089677386593665,
                  "average_soc": 0.018483634065838316,
                  "_deepnote_index_column": 1188
                },
                {
                  "total_calls": 0.09237332013101507,
                  "total_sms": 0,
                  "average_com": 0.06926926717534783,
                  "mood_next_day": 0.4297297301077957,
                  "average_soc": 0.021439633450417505,
                  "_deepnote_index_column": 1189
                },
                {
                  "total_calls": 0.03174869831458027,
                  "total_sms": 0,
                  "average_com": 0.06540276416808162,
                  "mood_next_day": 0.5368011101692514,
                  "average_soc": 0.025358051182677442,
                  "_deepnote_index_column": 1190
                },
                {
                  "total_calls": 0.303682413798222,
                  "total_sms": 0,
                  "average_com": 0.07180760278949841,
                  "mood_next_day": 0.40106949663512614,
                  "average_soc": 0.019512277313560714,
                  "_deepnote_index_column": 1191
                },
                {
                  "total_calls": 0.03174869831458027,
                  "total_sms": 0,
                  "average_com": 0.013459342635656244,
                  "mood_next_day": 0.4500694143449183,
                  "average_soc": 0.034829474556112655,
                  "_deepnote_index_column": 1192
                },
                {
                  "total_calls": 0,
                  "total_sms": 0,
                  "average_com": 0.11394780687519758,
                  "mood_next_day": 0.2501441531327157,
                  "average_soc": 0.04129314286975036,
                  "_deepnote_index_column": 1193
                },
                {
                  "total_calls": 0,
                  "total_sms": 0,
                  "average_com": 0.11209828574500476,
                  "mood_next_day": 0.5459895362236575,
                  "average_soc": 0.04101305396338632,
                  "_deepnote_index_column": 1194
                },
                {
                  "total_calls": 0,
                  "total_sms": 0,
                  "average_com": 0.034004783444135836,
                  "mood_next_day": 0.38776553100876354,
                  "average_soc": 0.012258363446729214,
                  "_deepnote_index_column": 1195
                },
                {
                  "total_calls": 0,
                  "total_sms": 0,
                  "average_com": 0.06667293561248977,
                  "mood_next_day": 0.38776553100876354,
                  "average_soc": 0.02867133756319296,
                  "_deepnote_index_column": 1196
                },
                {
                  "total_calls": 0.35020242943311497,
                  "total_sms": 0,
                  "average_com": 0.1274617062939143,
                  "mood_next_day": 0.27443684570176036,
                  "average_soc": 0.025251246877447227,
                  "_deepnote_index_column": 1197
                },
                {
                  "total_calls": 0,
                  "total_sms": 0,
                  "average_com": 0.20248255643058963,
                  "mood_next_day": 0.4732877044469254,
                  "average_soc": 0.018579156314933502,
                  "_deepnote_index_column": 1198
                },
                {
                  "total_calls": 0,
                  "total_sms": 0,
                  "average_com": 0.05002427862478771,
                  "mood_next_day": 0.38776553100876354,
                  "average_soc": 0.057093302547754424,
                  "_deepnote_index_column": 1199
                },
                {
                  "total_calls": 0.22957444164450017,
                  "total_sms": 0,
                  "average_com": 0.08489180835394364,
                  "mood_next_day": 0.4895482253187058,
                  "average_soc": 0.02198001547096159,
                  "_deepnote_index_column": 1200
                },
                {
                  "total_calls": 0.303682413798222,
                  "total_sms": 0,
                  "average_com": 0.07661396720116515,
                  "mood_next_day": 0.38776553100876354,
                  "average_soc": 0.01771061712814101,
                  "_deepnote_index_column": 1201
                },
                {
                  "total_calls": 0,
                  "total_sms": 0,
                  "average_com": 0.0532148741334636,
                  "mood_next_day": 0.38776553100876354,
                  "average_soc": 0.02287109873940278,
                  "_deepnote_index_column": 1202
                },
                {
                  "total_calls": 0,
                  "total_sms": 0,
                  "average_com": 0.15221003067391772,
                  "mood_next_day": 0.4089677386593665,
                  "average_soc": 0.031064655792277397,
                  "_deepnote_index_column": 1203
                },
                {
                  "total_calls": 0,
                  "total_sms": 0,
                  "average_com": 0.06142985657484017,
                  "mood_next_day": 0.41419878807691896,
                  "average_soc": 0.03271808571966032,
                  "_deepnote_index_column": 1204
                },
                {
                  "total_calls": 0,
                  "total_sms": 0,
                  "average_com": 0.16923420079034684,
                  "mood_next_day": 0.38776553100876354,
                  "average_soc": 0.04044333395976931,
                  "_deepnote_index_column": 1205
                },
                {
                  "total_calls": 0,
                  "total_sms": 0,
                  "average_com": 0.12534640070888747,
                  "mood_next_day": 0.36061454194281256,
                  "average_soc": 0.031901047118790035,
                  "_deepnote_index_column": 1206
                },
                {
                  "total_calls": 0.22957444164450017,
                  "total_sms": 0,
                  "average_com": 0.08335088990988371,
                  "mood_next_day": 0.369747025506085,
                  "average_soc": 0.013796771157884224,
                  "_deepnote_index_column": 1207
                },
                {
                  "total_calls": 0,
                  "total_sms": 0,
                  "average_com": 0.06884214441115245,
                  "mood_next_day": 0.4297297301077957,
                  "average_soc": 0.050620655422989616,
                  "_deepnote_index_column": 1208
                },
                {
                  "total_calls": 0,
                  "total_sms": 0,
                  "average_com": 0.07715030504592829,
                  "mood_next_day": 0.41419878807691896,
                  "average_soc": 0.0282189413885338,
                  "_deepnote_index_column": 1209
                },
                {
                  "total_calls": 0.09237332013101507,
                  "total_sms": 0.20585205420414882,
                  "average_com": 0.06450623743508675,
                  "mood_next_day": 0.32132043160061075,
                  "average_soc": 0.012040104266961643,
                  "_deepnote_index_column": 1210
                },
                {
                  "total_calls": 0.2795848622191615,
                  "total_sms": 0.08223809823697201,
                  "average_com": 0.06359218625369813,
                  "mood_next_day": 0.4089677386593665,
                  "average_soc": 0.029112125616709155,
                  "_deepnote_index_column": 1211
                },
                {
                  "total_calls": 0.03174869831458027,
                  "total_sms": 0.055569851154810786,
                  "average_com": 0.10760175232227476,
                  "mood_next_day": 0.5994147028972381,
                  "average_soc": 0.013281120277185653,
                  "_deepnote_index_column": 1212
                },
                {
                  "total_calls": 0.2795848622191615,
                  "total_sms": 0.028170876966696224,
                  "average_com": 0.06881742689853168,
                  "mood_next_day": 0.4895482253187058,
                  "average_soc": 0.026067744634635986,
                  "_deepnote_index_column": 1213
                },
                {
                  "total_calls": 0.14953173397096384,
                  "total_sms": 0,
                  "average_com": 0.09898405336723534,
                  "mood_next_day": 0.47000362924573547,
                  "average_soc": 0.051553245614932706,
                  "_deepnote_index_column": 1214
                }
              ]
            },
            "text/plain": "      total_calls  total_sms  average_com  mood_next_day  average_soc\n0        0.000000   0.000000     0.000000       0.414199     0.000000\n1        0.176931   0.000000     0.100209       0.429730     0.019792\n2        0.000000   0.000000     0.094310       0.470004     0.009699\n3        0.000000   0.000000     0.097343       0.387766     0.013225\n4        0.000000   0.000000     0.087050       0.465057     0.019746\n...           ...        ...          ...            ...          ...\n1210     0.092373   0.205852     0.064506       0.321320     0.012040\n1211     0.279585   0.082238     0.063592       0.408968     0.029112\n1212     0.031749   0.055570     0.107602       0.599415     0.013281\n1213     0.279585   0.028171     0.068817       0.489548     0.026068\n1214     0.149532   0.000000     0.098984       0.470004     0.051553\n\n[1215 rows x 5 columns]",
            "text/html": "<div>\n<style scoped>\n    .dataframe tbody tr th:only-of-type {\n        vertical-align: middle;\n    }\n\n    .dataframe tbody tr th {\n        vertical-align: top;\n    }\n\n    .dataframe thead th {\n        text-align: right;\n    }\n</style>\n<table border=\"1\" class=\"dataframe\">\n  <thead>\n    <tr style=\"text-align: right;\">\n      <th></th>\n      <th>total_calls</th>\n      <th>total_sms</th>\n      <th>average_com</th>\n      <th>mood_next_day</th>\n      <th>average_soc</th>\n    </tr>\n  </thead>\n  <tbody>\n    <tr>\n      <th>0</th>\n      <td>0.000000</td>\n      <td>0.000000</td>\n      <td>0.000000</td>\n      <td>0.414199</td>\n      <td>0.000000</td>\n    </tr>\n    <tr>\n      <th>1</th>\n      <td>0.176931</td>\n      <td>0.000000</td>\n      <td>0.100209</td>\n      <td>0.429730</td>\n      <td>0.019792</td>\n    </tr>\n    <tr>\n      <th>2</th>\n      <td>0.000000</td>\n      <td>0.000000</td>\n      <td>0.094310</td>\n      <td>0.470004</td>\n      <td>0.009699</td>\n    </tr>\n    <tr>\n      <th>3</th>\n      <td>0.000000</td>\n      <td>0.000000</td>\n      <td>0.097343</td>\n      <td>0.387766</td>\n      <td>0.013225</td>\n    </tr>\n    <tr>\n      <th>4</th>\n      <td>0.000000</td>\n      <td>0.000000</td>\n      <td>0.087050</td>\n      <td>0.465057</td>\n      <td>0.019746</td>\n    </tr>\n    <tr>\n      <th>...</th>\n      <td>...</td>\n      <td>...</td>\n      <td>...</td>\n      <td>...</td>\n      <td>...</td>\n    </tr>\n    <tr>\n      <th>1210</th>\n      <td>0.092373</td>\n      <td>0.205852</td>\n      <td>0.064506</td>\n      <td>0.321320</td>\n      <td>0.012040</td>\n    </tr>\n    <tr>\n      <th>1211</th>\n      <td>0.279585</td>\n      <td>0.082238</td>\n      <td>0.063592</td>\n      <td>0.408968</td>\n      <td>0.029112</td>\n    </tr>\n    <tr>\n      <th>1212</th>\n      <td>0.031749</td>\n      <td>0.055570</td>\n      <td>0.107602</td>\n      <td>0.599415</td>\n      <td>0.013281</td>\n    </tr>\n    <tr>\n      <th>1213</th>\n      <td>0.279585</td>\n      <td>0.028171</td>\n      <td>0.068817</td>\n      <td>0.489548</td>\n      <td>0.026068</td>\n    </tr>\n    <tr>\n      <th>1214</th>\n      <td>0.149532</td>\n      <td>0.000000</td>\n      <td>0.098984</td>\n      <td>0.470004</td>\n      <td>0.051553</td>\n    </tr>\n  </tbody>\n</table>\n<p>1215 rows × 5 columns</p>\n</div>"
          },
          "metadata": {}
        }
      ]
    },
    {
      "cell_type": "code",
      "metadata": {
        "tags": [],
        "cell_id": "00028-8d5f3581-abb3-43a3-8b5c-070d20e27028",
        "deepnote_to_be_reexecuted": false,
        "source_hash": "fafbd8a3",
        "execution_start": 1617722339975,
        "execution_millis": 422,
        "deepnote_cell_type": "code"
      },
      "source": "msno.matrix(df)",
      "execution_count": null,
      "outputs": [
        {
          "output_type": "execute_result",
          "execution_count": 127,
          "data": {
            "text/plain": "<AxesSubplot:>"
          },
          "metadata": {}
        },
        {
          "data": {
            "text/plain": "<Figure size 1800x720 with 2 Axes>",
            "image/png": "[encoded data removed]"
          },
          "metadata": {
            "needs_background": "light"
          },
          "output_type": "display_data"
        }
      ]
    },
    {
      "cell_type": "code",
      "metadata": {
        "tags": [],
        "cell_id": "00027-5e611a42-7b47-4c26-b067-60fc7a4f6e79",
        "deepnote_to_be_reexecuted": false,
        "source_hash": "b182f6b",
        "execution_millis": 21,
        "execution_start": 1617721830661,
        "deepnote_cell_type": "code"
      },
      "source": "from sklearn.decomposition import PCA\n\nn_components = 3\n\npca_app = PCA(n_components=n_components)\n\nPCA_DATA = df.drop([x for x in df.columns if df[x].dtype != np.float64 or x == \"average_mood\"], axis=1)\n\npca_app.fit(\n    PCA_DATA\n    )\n\nM = pca_app.transform(PCA_DATA)",
      "execution_count": null,
      "outputs": []
    },
    {
      "cell_type": "code",
      "metadata": {
        "tags": [],
        "cell_id": "00028-a5b6197d-3559-426b-a371-185699f6e033",
        "deepnote_to_be_reexecuted": false,
        "source_hash": "142d99bf",
        "execution_millis": 77,
        "execution_start": 1617721836012,
        "deepnote_cell_type": "code"
      },
      "source": "import plotly.express as px\n\nlabels = {\n    str(i): f\"PC {i+1} ({var:.1f}%)\"\n    for i, var in enumerate(pca_app.explained_variance_ratio_ * 100)\n}\n\nfig = px.scatter_matrix(\n    M,\n    labels=labels,\n    dimensions=range(n_components),\n    color=df[\"average_mood\"]\n)\n\nfig.update_traces(diagonal_visible=False)\nfig.show()",
      "execution_count": null,
      "outputs": [
        {
          "data": {
            "text/html": "<html>\n<head><meta charset=\"utf-8\" /></head>\n<body>\n    <div>            <script src=\"https://cdnjs.cloudflare.com/ajax/libs/mathjax/2.7.5/MathJax.js?config=TeX-AMS-MML_SVG\"></script><script type=\"text/javascript\">if (window.MathJax) {MathJax.Hub.Config({SVG: {font: \"STIX-Web\"}});}</script>                <script type=\"text/javascript\">window.PlotlyConfig = {MathJaxConfig: 'local'};</script>\n        <script src=\"https://cdn.plot.ly/plotly-latest.min.js\"></script>                <div id=\"732d3b42-0cb7-4ef0-bb24-e10d65a65942\" class=\"plotly-graph-div\" style=\"height:525px; width:100%;\"></div>            <script type=\"text/javascript\">                                    window.PLOTLYENV=window.PLOTLYENV || {};                                    if (document.getElementById(\"732d3b42-0cb7-4ef0-bb24-e10d65a65942\")) {                    Plotly.newPlot(                        \"732d3b42-0cb7-4ef0-bb24-e10d65a65942\",                        [{\"diagonal\": {\"visible\": false}, \"dimensions\": [{\"axis\": {\"matches\": true}, \"label\": \"PC 1 (42.5%)\", \"values\": [-0.06557844418997344, 0.11222110341789279, -0.06543900241432228, -0.0627049308440738, -0.06535759157031859, -0.06413687308300035, -0.06607969244833364, 0.3286052238209669, 0.07885140689527934, -0.06769062171441335, -0.06691201869688, 0.21527985013074513, -0.0334937943867971, 0.05612182872974328, 0.05720323195225359, -0.065626189394274, -0.06494512753917883, 0.11162532670740419, -0.03295667804753282, -0.03573039279306186, 0.05308985097109998, -0.06560670082265138, -0.0676758202099836, -0.06609082295186312, -0.06685975891149608, 0.18189952190545491, -0.06460266696895214, -0.0652620854370844, 0.21489662870198575, -0.036121965597317174, -0.03579751632121986, -0.005343195149098144, -0.005278897203564311, -0.005751517116168923, -0.036178404532412375, -0.0345617430165502, 0.003515415682612256, -0.06612319071531632, -0.06796398089873643, -0.06566473800716449, -0.06846772375179257, 0.10646874008415828, -0.06808519963705816, -0.068804574830884, -0.06620096894123315, 0.055358247616271936, 0.051045252503490915, 0.3337221879430742, 0.0837057480527488, 0.21241951680501364, 0.21600362011234134, 0.526460275513085, 0.16390444096950196, 0.08042800845158304, 0.13552998173197478, 0.08152257277950971, 0.025835439749807485, 0.1606405123871129, 0.05480066696673492, 0.2200737663613441, 0.30778753640232626, -0.0029972086353536142, -0.00039542015591406064, -0.0027761727811786907, 0.08092815394220558, 0.1957119287791263, 0.10989325779759239, -0.0011087591259896993, 0.21747701766967137, 0.2604612852961229, -0.03132268761934076, 0.1412956862634283, 0.10839525220224963, -0.03861183361937638, 0.17811186917514563, 0.3078858534151974, 0.35034080877501383, 0.2124583053359247, 0.028426127393819948, -0.029460223032592107, 0.19085637911726824, 0.16504378867225175, 0.35470620597222563, -0.06800696176253715, -0.07370945072090423, 0.08479274186323606, 0.1599006709193094, -0.03764046794509886, 0.022901762130219643, 0.10510921091036224, -0.03809994471997152, 0.02155952993245033, -0.07214932890603348, -0.07181350131380887, 0.052201318237808325, 0.024101575203233985, -0.006523130369832483, -0.007666757852189345, -0.06998782814485587, -0.06883239940179045, -0.06675677999455364, -0.06819087760555761, 0.18549929657300263, -0.06997480997694457, -0.06882046660919744, -0.06901369407683904, -0.06929317561549438, 0.15994077316674268, -0.041359356842378264, -0.06731753600473545, 0.13263688370443913, -0.005650671561159106, 0.0519694596273373, 0.10728930086457833, 0.06170210477186691, 0.023369467610406383, -0.06882874864379201, -0.06686685819505035, -0.06852270335581225, -0.06799357489742057, -0.06640154841377963, -0.06817627642591949, -0.06717070150676585, -0.06738846090056366, -0.06727970283220512, -0.0676093014063088, 0.18475869833397487, 0.20893580221358635, 0.08028243310260463, 0.05146993981579072, 0.1392257225466848, 0.029746352711684215, -0.06254256565415238, -0.06838063936824874, -0.06460239910421625, -0.06662324524499352, -0.037989928843668815, -0.05467342332827315, -0.05727525780385214, -0.02911484315850756, -0.05662495303370978, -0.057894285452651, -0.058169554071201154, 0.3520828865680238, -0.032395468790092856, 0.02747654754799187, 0.05496674498158548, -0.0672831160649294, -0.06572999979755344, -0.06734142974050357, -0.06619711200511812, 0.08146824039323254, -0.035015716192911876, -0.003005949794755578, -0.034272738739554484, -0.03528237950605171, -0.03413938956854962, -0.06604471473142297, -0.06542162002289896, -0.06725684915712574, -0.06351884684074839, -0.0669078686640133, -0.06664042838252947, -0.06505770486028456, -0.06742825833959104, 0.326771375665264, -0.06744844710246854, -0.06706275900619706, -0.066819608746534, -0.0520928168246874, -0.06705200657380582, -0.06672612787303836, 0.10709794085786618, -0.06807646882863387, -0.06625583951121221, -0.06568654591004303, -0.06595198137015212, -0.06581568235892014, -0.06607473355456812, -0.045583787986887475, 0.05479560943795714, -0.06469758794844017, -0.06654143163523517, -0.0692336492248273, 0.08229516902180453, -0.0680723341555868, -0.06896017514656196, -0.06884466511754479, -0.004653506940780361, -0.03753192322998252, 0.02686080577919624, 0.05397481096469416, -0.06628027417351513, -0.06575378838531055, 0.054222026217075, -0.032014150616419275, 0.026888777549995406, 0.053501925230077525, -0.03631836604258207, -0.06898531714937424, -0.0700405603618074, -0.06523158157639988, 0.025212007428157723, -0.004409237312095776, 0.08086454185098904, -0.0338172225185024, -0.032220627399493426, 0.026118904398761324, -0.06966028084693472, -0.06643703361748743, 0.08356450702410924, 0.11002816370779804, 0.05255813726456649, 0.08437564474019764, 0.023908484289751314, -0.06704630839904578, -0.06573575837362426, -0.06704411264877268, 0.26048271879898727, -0.03779937933698912, -0.004805374040263163, -0.06348963328118572, -0.0684764327149002, -0.06589257737994704, -0.06560610403598283, -0.018249026479792967, -0.06619962513428217, -0.0634450458794879, -0.06863698748434968, -0.07001454237290528, 0.1846403425078083, 0.05566163272055639, 0.19063418416609443, -0.007906580765991605, -0.06634665603652197, -0.03755155847283834, 0.03772367657110025, 0.08748605652201735, 0.04786240780154884, 0.2848924954812284, 0.08417531202094831, 0.15291295009450237, 0.19884764218433837, -0.0541574643943559, -0.0653893997382956, 0.02787340585963421, 0.004845117542071362, -0.044250980173945166, -0.06265483882371106, 0.16428523883290094, 0.08465210704725938, -0.06346299706900714, -0.057393677851769055, 0.06668208654892084, -0.02837545203862487, -0.06467968797366515, -0.05130946737508494, -0.06417071054102283, -0.062400591342227286, -0.06282929377706808, 0.11534151491194772, 0.04009655229343646, -0.06095855115926259, -0.061580401182371555, 0.18294222654709824, 0.20099980355393238, -0.059206954854777935, -0.058415538632909325, -0.062458644401890175, -0.06024638652165418, -0.07024435117904775, -0.06472649848686061, -0.06862480948424983, -0.022719367624257466, -0.06800696176253715, -0.06862480948424983, -0.06737703807963609, -0.05146959596658913, -0.06800696176253715, -0.06673455695497219, -0.03926018597844701, -0.04256994810389434, -0.06732159790197899, -0.058924503173403836, -0.05866105885725752, -0.0669015980654222, -0.06481993101696523, -0.05696935064575713, -0.06430256049857071, -0.0628730679212783, -0.06638417051772841, -0.0678872043478712, -0.051768573477088776, -0.05400558264367315, -0.050416224664693525, -0.04302563627296221, -0.06648555937637672, -0.0693940322337205, -0.06778437260375353, -0.06517047163358208, -0.06480106116687864, -0.06837417849075127, -0.06769016234339785, -0.06867361924295272, -0.06730189964736712, -0.06485755646018021, -0.0646608740471591, -0.0678372886977769, -0.0682954438324021, -0.06740356257068907, -0.0654243381634192, -0.06582518079810086, -0.06453986297431559, -0.06403591639162327, -0.06422252430645257, -0.06396794903905018, -0.06993160484870556, -0.06446010904157243, -0.06534162207552065, -0.06299349959451557, -0.06229254800588803, -0.06618300968495786, -0.0647536102956467, -0.0540266440875156, -0.06393678321621689, -0.062099717253896985, -0.06344037380230784, -0.06587399388097433, -0.06438275436022525, -0.05795867019326248, -0.06886378544605824, -0.06559446075456565, -0.06652545743667884, -0.06656327486756294, -0.06559848366698524, -0.06728550348593705, -0.06397585250692496, 0.051513691452454186, 0.022583682033954732, -0.03880498550331006, 0.051272850834450975, 0.08003276023956998, -0.004060715927240395, 0.0235593707592089, 0.08513563111153083, -0.006700017398360906, 0.02431643982623891, -0.06773095852082624, -0.0660312841377269, -0.06401576884669813, -0.0667771168008177, -0.06526124477165823, 0.11273967773570197, -0.06613489011045136, -0.06719263815388339, -0.06330670106675045, -0.03134599940359931, 0.059059665705465995, -0.06218606406940921, -0.0667956454165906, 0.0014344520851311024, -0.07026165539703509, -0.06391271052923465, -0.06444097270572309, 0.05461155266155211, 0.3287705239083599, -0.004679869672737043, -0.06784007142751397, -0.07012814300856825, -0.06557844418997344, -0.06673455695497219, -0.06721761449416537, -0.06800696176253715, -0.06952992550871148, -0.06982606911580604, -0.07026524415070393, -0.06673455695497219, -0.06599611831789998, 0.11238575330323822, 0.18909135782652736, 0.08694114834113478, -0.033433889349961485, -0.0329605107799018, -0.0008209079368600946, 0.03179953172747168, 0.02736832090784009, 0.17960088586320605, -0.06474746238856188, -0.06499365418330944, -0.06454650017174311, -0.060678005598830555, -0.06408564228408774, -0.06563057145174081, -0.06653946458635278, -0.061862590753792926, 0.21346461230944921, -0.034552315868445024, 0.10981343917534796, 0.026355907380075046, -0.06499559163065079, -0.06294282866391597, -0.06445190097557857, -0.06292362394112955, 0.13781873662881552, 0.00012799871103588484, 0.11063405394565347, -0.030956325121498745, 0.024977248158298167, 0.11250622807239265, -0.03380662714054904, -0.000962860215565271, 0.056415335429959856, -0.06320739153107338, -0.061024406317595634, 0.031275259025927385, -0.05887745281555067, -0.06202679474420156, -0.06841228860714571, -0.057104258343461514, -0.06432145236991747, -0.06508680402224962, -0.06679625989302114, -0.06533951669945261, -0.06343515663001897, -0.06466068225839475, -0.069333612405536, -0.06755373832327877, -0.0717207905471976, -0.06853567461723618, -0.07069386412071868, -0.05052998291371502, -0.06809362484359736, -0.06740950682736532, -0.06373441998654086, -0.06653248303701566, 0.15990006668093415, -0.06750340990201266, -0.0671863604703013, -0.04565544388214638, -0.06558293628848318, -0.06365665963808245, -0.06760370970160258, 0.1339311846230867, -0.006813915880647913, 0.05266322727086245, -0.033836998162468976, -0.03501025758380735, -0.0444038425051291, -0.06591909396053278, -0.06381624205036204, 0.11285294845710166, -0.002959942577713943, -0.052361691525486566, -0.06817121752718272, -0.06536250545331677, -0.0674637199935234, -0.06154767372900215, -0.05661071343233815, 0.10678431545226687, -0.06936807249476978, -0.07215104371720998, -0.06939113268334143, -0.0699168057361154, -0.07082178638759164, -0.06921494861511925, -0.07066477414431128, -0.06974428323295233, -0.06709347969701927, -0.06877743835266555, 0.1877292896526861, -0.062059587649528146, -0.06271471975719656, -0.06443917326539662, -0.06168125335328545, 0.21681050088211587, -0.03352180732931656, -0.03132076704986865, -0.037085030917015226, -0.03324896931896957, -0.03463888071787657, -0.06360803364020806, -0.06750334570054643, -0.0677814223075877, -0.06819648440483406, -0.0685529816085326, -0.06546640178394661, -0.05620240829962362, -0.0666348237709614, -0.07014692524989616, -0.06604262952269595, -0.0695088952925452, -0.06877449489217823, -0.0632539047136394, -0.06281741059965995, -0.06491668282644424, -0.06574788985723655, -0.06648590036735344, -0.05367980847985838, -0.06548777357302493, 0.18868347233313312, -0.06716954806679776, -0.0685285062393189, -0.07027789142736333, -0.0699861928169108, -0.06815058869215024, -0.06442145771363202, -0.06664252082193095, -0.06711134454454917, -0.0666093223415994, -0.06655005098695654, 0.0829718520724899, 0.16481752809189865, -0.034465323435186955, 0.15997334598848634, 0.13733787980410364, 0.08088887492356338, 0.08646849009292983, -0.06719901135182497, -0.06653270894624165, -0.054233132270503595, -0.06752861177928665, 0.11099701430102621, 0.13873020272886308, 0.25719659908934733, 0.16455789582686656, 0.20936565735883525, 0.08287471046049247, 0.29948591927926893, -0.0259105028197042, 0.13792171204119058, -0.00637032600145257, -0.006566456200678501, 0.05543491182772471, 0.0872198096324571, 0.057860228760826006, -0.036393277672162334, 0.052219949449004134, -0.034626185337394956, -0.036388190299490863, 0.09484225107660008, 0.4470498720106658, -0.0312005979143533, -0.06800696176253715, -0.06266930304672477, -0.06209727508682973, -0.06634849719226768, -0.06744224358809334, -0.06862480948424983, -0.06187874871105874, 0.10817133248452729, -0.06591610377062788, -0.03733352046465051, 0.1890380732600349, 0.025419574443397756, -0.062167873462245886, -0.05767102341618481, 0.06443853931979904, -0.06673455695497219, -0.06800696176253715, 0.05346772085361787, 0.02676392976653272, -0.036338883469758415, -0.06952992550871148, 0.08080011996929286, -0.05463929831340483, -0.06100337144779913, -0.06812245880119899, -0.06477828863594434, -0.06485610653587404, -0.0635543668004844, 0.13587617468511498, -0.0035267943296935027, 0.0464330388049294, -0.06488742634194085, -0.06375534488430472, -0.05307271613277027, -0.05945456339509539, -0.06640844892008718, -0.0638557539187162, 0.19171282587714086, 0.056867528957614204, -0.019908324007837024, -0.06524418998795624, -0.06508085168585107, -0.06330634340664729, 0.23614920415292778, -0.06649367057033781, -0.06691333342401848, -0.05168369911734763, 0.18518348769399803, -0.034778019804265675, -0.06693263773980465, -0.06676363666674942, 0.13665412465992394, -0.03619841256124066, 0.05473385454444683, -0.023356168442831893, -0.004604866019616133, -0.06671085823047654, -0.05005738329698679, -0.06564834139165507, -0.06877743835266555, -0.06422076639597908, -0.06276166795512614, 0.1947881302991112, 0.027050043585501313, -0.04216280933951623, -0.06770432154096333, 0.18352514396976735, 0.17038380669624995, 0.13570419225890842, 0.02653761791094722, 0.13441623773062103, -0.06862480948424983, 0.23140681648378564, -0.037163754262290724, -0.06952992550871148, -0.06982606911580604, -0.06862480948424983, -0.06903022450457423, -0.06540984710552925, -0.06607900752556177, -0.06877743835266555, -0.06989968179146366, -0.06479320388616663, -0.06541957437780457, -0.0656743650156304, -0.0686209907149483, -0.06727962880283797, -0.0676093506681561, -0.06516608555601204, 0.18839919826309912, -0.07016370803437233, -0.06790818920255955, -0.06797840330933717, 0.2581261017692148, -0.03626350783774053, -0.010242002091673417, -0.03329867990738618, -0.060245837843221774, -0.06695625609575188, -0.06674792044570539, -0.06687280558788826, -0.06652212797414543, -0.06730230337215362, -0.06813888170603688, -0.06797660092694004, -0.06691547732241875, -0.0674424377893302, -0.0598893964635044, -0.06472270397742715, -0.06722020000462427, -0.06685237993833433, -0.06807125041865741, -0.0682702121791033, -0.06521933571466125, -0.06658326143067672, 0.25841288867787976, -0.03610481973123359, -0.05797056265376861, -0.06469321639967889, -0.06424888356174546, -0.06686636965729392, -0.06717105588539812, -0.0689726002944403, -0.06674902502650926, 0.08375860155810594, 0.03545017706303066, 0.1362875804690301, 0.05717205810088705, 0.08788589646832794, 0.262838442342075, 0.11110258535349544, 0.18214157808367176, 0.16286938746868176, 0.21174878632634397, 0.08118699333647741, 0.11237834146544863, -0.036397389724105035, 0.026301794522829738, -0.004291213911540835, 0.2323032092603502, 0.23462625662240394, 0.16285518413863379, 0.236302192942376, 0.17419876245609064, 0.16313934771554475, 0.05421879285493043, 0.10852223938584453, 0.10842627805834397, 0.10903714936035619, 0.32838442741391116, 0.05487248308785438, 0.0571372821190662, -0.03382058379658084, 0.026545957763537912, 0.10733983113010585, 0.05558683859261067, 0.11457302529635086, 0.13935102347041553, 0.05583492203186825, 0.0815340915303292, 0.1080090016870699, 0.11106372407279738, 0.05685283835450418, 0.0546189356768074, 0.10940175998073519, 0.25991478351762237, -0.006488335164125867, 0.185441075738678, -0.06431099999788253, -0.06520413500496341, -0.06769403093060171, -0.06952992550871148, -0.0691925787903471, -0.05051165888107518, -0.06300276866383893, -0.06672623966383312, -0.06749728875123674, -0.06469927783048444, -0.0686756105378688, -0.06936991754392519, -0.059429634879320827, -0.0584971714869142, -0.06640844892008718, -0.06592631360507614, -0.06800696176253715, -0.06718635845807772, 0.18624549340890692, -0.055232592526119284, -0.06463416585662234, -0.06560557594345667, -0.058103710117299416, -0.06817576654026224, 0.08176726044779198, -0.06574481929757048, -0.06737703807963609, -0.06737703807963609, -0.06801645979322538, -0.05489902675432811, -0.06623966023612275, -0.06952137431823577, -0.06861019772396032, -0.06878054086051173, -0.060728067465585914, -0.0547595799964817, -0.06755346566468366, 0.16117092477553516, -0.06711031602078327, -0.06609359102095376, -0.06671269998164209, -0.06788854654717331, -0.06800696176253715, -0.06800696176253715, -0.06862480948424983, -0.06721761449416537, -0.06903022450457423, -0.06793109064601263, -0.0669601776786915, -0.06247065666497959, -0.06464426387382403, -0.06688756155408364, -0.06662962567379158, -0.0659963052832823, -0.06768626452339149, -0.06710685635503265, 0.1597241974374981, -0.06808817479427233, -0.06676680476247318, 0.05381497328358804, -0.03541185057255669, -0.03219260760075674, -0.03551842174365864, 0.08607960846983839, -0.06579188437070257, -0.06715883965022645, -0.06668448259951253, -0.0666045950819446, -0.06814322800934318, -0.0676125431652266, 0.16039742348571923, -0.06811725226296703, -0.06797049188717263, -0.06900454966617878, -0.0694674593685948, -0.067789407213717, -0.06433135232644334, 0.16214591359650718, -0.005082649467934631, -0.03658141500562103, -0.036824370220684785, -0.004524725780861346, 0.02000877131742519, -0.005809422508150348, -0.009240306122625034, 0.11418487483329522, 0.026181652128886845, 0.09079247268858114, 0.09170092736358618, 0.35089275672468867, -0.03686142351172731, -0.06326034343359951, -0.0649934819612028, 0.2591256520010797, 0.026557110965589426, 0.23987215162272352, 0.19167942509369407, -0.06704158050141897, -0.06531319755411959, 0.21611942133394324, 0.11226803821593523, -0.0660910209034028, -0.06558746347142726, -0.06481986247610431, -0.06504425738883932, -0.06530203452021109, -0.06542225905852428, 0.18664141771815349, -0.0036339575838452705, -0.06587182296731393, -0.0661919678546331, 0.1615453386597261, 0.0024747767758039043, 0.16354787523831343, 0.19021140254245422, 0.023458312622943282, -0.03497154745429295, 0.06714456011105782, -0.03198423102158365, -0.061901584635639564, -0.060555637262124096, 0.11030360752143743, -0.06590173757977139, -0.06690224817718926, 0.05402603782581047, -0.025050317344235663, 0.028945756634513497, -0.06620572271254264, -0.06780335024684819, -0.06592848426332742, -0.06573578852050077, 0.5257626398159418, -0.036189606353023075, -0.008051388250816948, -0.034325516673122544, 0.2338559832890437, -0.06955833656482094, -0.067674262507436, 0.11430772058208026, -0.0597454434460798, -0.0650316901710412, 0.2754633050119639, 0.027281614604023067, 0.058758391777483925, 0.16454981805635813, -0.00012083113062802681, 0.11222575674443698, 0.02935251580697229, 0.05468332331729266, 0.11115125582545869, 0.024922866872528558, 0.10685931632752045, 0.1898854693621918, 0.05808726581717321, 0.1394118693338591, -0.0035428231237880515, 0.11076782369730842, -0.03532597029987326, 0.3217340183404595, 0.23655030786924314, 0.08311905408579401, 0.43210493474910555, 0.2384210684370331, 0.028513964455821734, 0.026527326503071352, -0.06641134851024719, -0.06112153700300144, -0.06673455695497219, -0.06607900752556177, -0.06540984710552925, -0.0709841602577877, 0.29954248384203586, -0.06862480948424983, -0.06800696176253715, -0.06673455695497219, -0.05701877253747936, -0.06737703807963609, -0.06721761449416537, 0.10519413398927674, -0.06721761449416537, -0.06721761449416537, -0.06607900752556177, -0.06607900752556177, -0.06673455695497219, -0.06673455695497219, -0.07026524415070393, -0.06800696176253715, -0.06812088418827127, -0.06577227566409136, -0.04160940497714062, -0.0636292325440056, -0.06731204863612983, -0.06947438545566488, -0.06943760955557021, -0.06473673579589645, -0.06725309435732953, -0.06408960075549688, 0.3728647172245389, -0.002876541721590225, -0.037935777672555744, 0.02301684459512248, 0.05211847069367244, -0.06512278517611676, -0.06416539557778445, -0.0656227435217212, -0.06729090438660076, -0.06841581849148376, -0.06785896885358354, -0.06529691615478019, -0.06583562636088457, -0.06633496194623895, -0.06977427273749913, 0.1941540392628251, -0.06464435046183348, -0.06656713448732289, -0.06356232325047598, -0.06431878422803096, -0.066689478351886, 0.16067559889872984, 0.024759103378593526, -0.00530756457365601, -0.06838171270510066, -0.06625644745138894, 0.13729191682246353, -0.03263789234551067, -0.006094770729059007, -0.007473358581066449, -0.03568535289585232, -0.06272766090549058, -0.06015164143040759, -0.06774306945207995, -0.06769353884708523, -0.03303958661364504, 0.0350023671360681, -0.03243787744575707, -0.06822004609934193, -0.06648749641200245, -0.06581095494538794, -0.06738260197376135, -0.06219509328173952, 0.053803539124138225, 0.035870006394997475, -0.06837680585637297, -0.06761909696583203, -0.06848393467047154, -0.0677850906943366, 0.04963423285479857, -0.0683385434012667, -0.0654886198881995, 0.18842435396009122, -0.03269263787734151, 0.10702855803774994, -0.03633283177984255, 0.10785954236844111, 0.04765713498986133, 0.3859908921967177, 0.08064760515926761, 0.053575534948370446, 0.026563107894318483, -0.03617358322550331, -0.03439059078426628, -0.032786653146133334, -0.06746065490898384, -0.06794982566578903, 0.026081960615860246, -0.032343166457860326, 0.08359386837674551, -0.004110388374872366, 0.05241812953815977, -0.002937722892308636, -0.06788069875723023, -0.06721761449416537, -0.06872423123030139, 0.05463708632834861, -0.06947731964519387, -0.0623774262019919, -0.06783633264943546, -0.06680190819002284, -0.06950982017939494, -0.06881639526720625, -0.06667069485343376, -0.06671654235214698, -0.06771398303099962, -0.06879043682698999, -0.06747108626346728, -0.06537233206678494, -0.0656991838718078, -0.06403389649227802, -0.0686470531534195, -0.06274400196954401, -0.06521996591685895, -0.0691255515139587, -0.0702416733444147, -0.06773374783105386, -0.06624556376687674, -0.06927149699084979, -0.06611454390937149, -0.06995788138642989, -0.06791683439148549, -0.06796055370566002, -0.06655457494845697, -0.0651074520199591, -0.06544847103766734, -0.06605544218277308, 0.4470517449071752, -0.06624988703797689, -0.06545367095606666, -0.06950611488053875, -0.0675906777942294, -0.06991994576199352, -0.070130183419296, -0.059980388626767765, -0.06686711873030321, -0.06881568258069234, -0.06826037675451391, -0.07058057072379606, -0.06716619393631647, -0.0695191689776389, -0.07007802882389728, -0.06974350198851399, -0.07014130446826487, -0.03899052104908112, 0.09182134091470466, 0.0033861307806858894, -0.03220777240702211, -0.06806859279341013, -0.06661765450625196, -0.06476228913938147, 0.08076112957933927, -0.06652909833876268, -0.06137256036328578, -0.0608836138840598, -0.06518778649475246, -0.06686881939798422, -0.06862733367700093, -0.05806070432685567, -0.06786014152067353, -0.06429508006786051, 0.17544604663721344, -0.06963038476210798, 0.21083887303172857, -0.03336384666498408, -0.06573188053300436, -0.06740163864782478, -0.023495159689955147, -0.06793996006576539, -0.06673455695497219, -0.00637713328412965, -0.06827879540137889, -0.06646434024003527, -0.06732170057132335, -0.06824784535577026, 0.08408118506081172, 0.32491223921559215, -0.005493322816434742, -0.007735844124888821, -0.0038006588890959533, -0.06691395848096575, -0.06773346482001245, -0.06808986611822362, -0.06896408975883966, 0.2803517988627187, 0.022616209634197755, -0.0691053097407317, -0.06766179408306458, -0.06709919820953325, -0.06725923348892933, -0.03935337275533254, -0.0682751527516242, -0.06724825271826532, -0.06415390016681911, -0.06844476495209195, -0.06774132346578905, 0.30202956981605594, -0.06739913790925232, -0.0669355033922213, -0.0671910878583109, -0.06815014288241729, -0.0666300418212684, -0.06560362904334624, -0.0664124784520542, -0.06937596215744439, -0.06717740672756917, -0.06865923480213036, 0.13505114145733751, -0.03708966011513213, -0.05382098214318139, -0.06692713449799179, 0.15902779213787432, 0.022986771889124683, -0.005651555071898649, -0.06869637543668955, -0.06903022450457423, -0.03394053710801355, 0.025656128626045896, -0.0062264736080699075, 0.08369321591489894, -0.0247391654692112, -0.03494907189722496, -0.035378623990916486, -0.03579053946854826, 0.005035151127370237, 0.21198636921013744, 0.08309204375339095, -0.05748137491413225, -0.06672040400376522, 0.11007279419028544, 0.025204609068202898, -0.03496538647961377, 0.05260152488327256, -0.07021498796997638, -0.06517147744774467, -0.05695300697970331, -0.06618255691636923, 0.11100744500738675, -0.03463594238120073, 0.2356212662653315, 0.34620339749771495, -0.0038862624252166945, -0.019887601399132596, -0.0047902924727155705, -0.06693540418452432, -0.05101288099502554, -0.06773788582199039, -0.06765295599522704, -0.06717068970429207, -0.06779830999493493, -0.06800696176253715, -0.06903022450457423, -0.06800696176253715, -0.06800696176253715, -0.06800696176253715, -0.06800696176253715, -0.06952992550871148, 0.054240901366274914, 0.10032226612578359, -0.004736513966582011, -0.03868420707665902, 0.081839325832159, -0.017018086458193787, 0.23343270633740903, -0.034883818107390246, 0.32280733816845103, -0.005363808084576894, 0.12823957276468856, 0.08005589084355721, 0.10869330535068483, 0.023157684485239877, 0.15777348013695747, 0.13274856608510666, 0.05419448988614366, 0.023007876645271524, 0.18681596671673054, 0.21025439383419353, 0.13440668112257953, 0.08270626811462309, 0.11092762490909293, 0.18703659868379738, 0.2106270314848071, -0.007309115663006759, -0.031242010411556765, 0.057959435223495365, 0.2807879100412306, 0.18635486237051654, 0.10964753810393571, -0.06584282087947001, 0.08189194814107253, -0.0055857872490590686, 0.02467803260631333, -0.0640487852842766, -0.06598819711561724, -0.06287964465621422, 0.1938371389672136, -0.03501741957390839, 0.09001400022855766, 0.6261683603231444, 0.3916785432675208, 0.05617905534236011, 0.010675772280509338, 0.027419352398690745, -0.036449368228846944, 0.2387912864689144, -0.034623729711788266, -0.057754333421263536, -0.0673280502914805, -0.06396993553754247, -0.06321253534616322, 0.2903386237831659, -0.06333674275733236, -0.06335593637289294, 0.16242306536656714, 0.23930370232068524, -0.06351821664187927, -0.062180356104331355, -0.06414198184283337, -0.06109686409132695, -0.06115023244881178, 0.16619968077953598, -0.06437719196881272, -0.063859264053288, 0.04799182047215667, 0.22132713089652528, -0.0330558839864354, 0.21428696838744754, 0.0838257272286755]}, {\"axis\": {\"matches\": true}, \"label\": \"PC 2 (22.1%)\", \"values\": [0.0663743746294433, 0.03793822817450609, 0.010761274573406115, 0.08766695632746314, 0.01569858599809858, 0.028364036913191643, -0.007146491848848362, 0.025924034101137288, -0.10101933861306318, -0.05150556689000287, -0.043708019211170394, 0.07206563217546302, 0.038236909978962993, 0.04253963055267376, 0.061143271153513014, 0.011252676038492745, 0.03979962181526457, 0.028805362539129138, 0.027261934839253488, -0.044769170800834174, -0.04933485494994841, -0.008367392675056316, -0.02836161038431646, -0.09936554454573113, -0.025256627268920775, 0.10606662883465187, -0.015014318386627113, 0.030397432896081693, -0.008994124783730583, -0.07986910810656377, -0.0307442544866497, -0.06433201109819958, -0.046217728607198395, -0.06369863815199366, -0.062387242004829764, -0.028103763748951308, -0.02668605820552477, -0.05149310479175104, -0.060345500863294266, -0.007575911742178392, -0.07708289067972286, -0.10330058986899696, -0.05956768667687894, -0.09442919231473343, -0.03449231300055714, 0.00854849450718514, -0.11728407825634231, 0.017128251701916664, -0.027806472709708773, -0.05720042780715294, 0.03264651923348357, 0.039977391486156984, 0.03595258596008181, -0.08172617047125497, -0.03658255782045876, -0.03768514033255351, 0.0065195786603320476, -0.041208274593496054, -0.014675761550474006, -0.003399321336459739, -0.04419976153136684, 0.046716543456861784, 0.11075369327322535, 0.046325155808066364, -0.050712448164077946, 0.23855461444611184, 0.0018716106957191293, 0.05885158256928042, -0.016287054936951043, -0.037847537891319956, 0.048152820954128844, 0.08726744672640477, -0.03390304854097723, -0.09386183827504181, 0.02904582129133216, 0.011934393946835898, 0.027588977400549768, 0.025031677386128503, 0.11976485812046266, 0.1953744771926503, 0.127747784904434, 0.1117291160157144, 0.22107879868538377, -0.004175566367888069, -0.16983640576054884, -0.06662283666989666, -0.11168270434946367, -0.07795469279469146, -0.08182415178557817, -0.12258038411965327, -0.07264182508144845, -0.09709855299710408, -0.1398703922570644, -0.12366557024293721, -0.04791129839469701, -0.06596987821194894, -0.04422127761542985, -0.07854488491606947, -0.07476214010108466, -0.05882722192615881, 0.012997122312708331, -0.041625595385495616, -0.05633977252753219, -0.0747857936058695, -0.040481656652215675, -0.05844044379440735, -0.06403783521168725, -0.05422393605593227, 0.09377017341382955, -0.06155399951790743, -0.1042029309623202, -0.03180505297153747, -0.05671603021990586, -0.08712134717813919, -0.02067350074986527, -0.04627242049533839, -0.05883385521145461, -0.006092923561701378, -0.041022680902838775, -0.05121009663542923, -0.05410274683820534, -0.060007293452305537, -0.0056950187283150095, -0.02437082299864442, -0.005496967559333405, -0.023969564388760054, -0.07336138102497439, -0.08761801077110798, -0.04961581672694092, -0.05997394507279018, 0.05614368386597133, 0.04900455840158509, 0.08715580443451013, -0.05050681554586598, 0.014003716468394812, -0.02576119008361287, 0.08455515292472073, 0.3472888151757243, 0.2646717571925982, 0.4472132705739365, 0.16411750985855186, 0.1474734688868222, 0.11474686536573324, 0.041261708551910234, 0.046704836569996924, 0.06421601908676229, 0.0042924460480678935, -0.005490765848222779, -0.008092789270472467, -0.024234045438958008, -0.007003365042639414, -0.06074018116913157, 0.010906186594052543, 0.011563800094249004, 0.014477245901626487, -0.008053516867435655, -0.029170647116796216, -0.007190183158145793, -0.008768242205552952, -0.052382823608605626, 0.048022509155046966, -0.005996365017934238, -0.025409780401542306, 0.029884803039866046, -0.05172749919270327, -0.04925770953451949, -0.02396214634587105, -0.02466083189736836, -0.025150462623583822, 0.038670054521629714, -0.024756580648240517, -0.025339506631865075, -0.08655569060931864, -0.041699899695242265, -0.007224085299661179, 0.011462346101451243, -0.0068134168652246, 0.011584566644971817, -0.006984029175373744, 0.09341314056120029, -0.01468555014485227, 0.03915365482792046, -0.00665784230159119, -0.0936357219876992, -0.015079693382746557, -0.06001348106003296, -0.07624300719806132, -0.07666926448175045, -0.009410676880216023, -0.07339009081743642, 0.004911777180416418, -0.032121938084121324, -0.0070815560479346295, -0.007845650438161876, -0.01320606037614808, 0.06676533450719425, 0.024665822156624488, -0.05004120985942287, -0.061835116119936764, -0.07623817002486565, -0.10947409251326926, 0.04043221804523116, -0.03524906376382043, -0.01009952928662134, -0.06870589770096623, 0.008972084436676128, 0.0616164775699099, 0.006206714615623691, -0.11033746574551101, -0.00662997090266, 0.021873176384929305, -0.01772605571987619, -0.08004581111329179, 0.04047228463632356, -0.05596994955736116, -0.024713329276170076, 0.016298172187743307, -0.02949533916981999, -0.00821599160495771, -0.09509095533974418, -0.028113323494407094, 0.06325318116528708, -0.05926038143548529, 0.006388436784360468, 0.007930259632066054, 0.34145609021794837, -0.007184055011915507, 0.0891948848316274, -0.07223819279233554, -0.09220611684769203, -0.07873649545068928, 0.023654819086642995, 0.11464957637780619, -0.1168893934521968, -0.006511694653760903, 0.17782451841118174, 0.2768680346567873, 0.0292322567177883, 0.20570452504249084, 0.04832474003326526, 0.030817479894193686, 0.13136909980004768, 0.04829539318433824, 0.17934253251162116, 0.011710313403127571, 0.043221871358161267, 0.09410079866384644, 0.41884279596063906, 0.059793038060958766, 0.02556968201107372, 0.060937983644564465, 0.08916742055139487, 0.22173512260469092, 0.3327976669611153, 0.17032398830943382, -0.009535348272951313, 0.45279620050268954, 0.02902900070130856, 0.08731617351059744, 0.08775019100952995, 0.11786873196974762, 0.3973091270140095, 0.15099849414224317, 0.08571869316498609, 0.18936244288011372, 0.20837915082825012, 0.19409263628697104, 0.19270451308594638, 0.06640971098787526, 0.11946195184863269, -0.09154209835738827, 0.09112392545278311, -0.022124425706858963, 0.15156438835958044, -0.004175566367888069, -0.022124425706858963, 0.01412410712987291, 0.09557256814327023, -0.004175566367888069, 0.032788582095597596, 0.07300667238416605, 0.14493677585729858, -0.005263550715388856, 0.14688858993340848, 0.040388265970874956, -0.00607471452746099, 0.04985849425107712, 0.06899426681387819, 0.04871183684652329, -0.032411905079485145, 0.012635772968620911, -0.023271257605628246, 0.08207087997672485, 0.10315756184907614, 0.11778148068332392, 0.08101255218338663, 0.01265263487079903, -0.057588004116192075, -0.023561323647606963, 0.030226675699243744, -0.009918489239279885, -0.05039682013783497, -0.042282173058041474, -0.05898508966761425, -0.005328451554706896, 0.039567206299305505, 0.0648184868848767, -0.06013396351934094, -0.05973365201448728, -0.005133622389719362, -0.06485901676805146, 0.03164880928043606, 0.049197879376227015, 0.028066261084097845, 0.0692665019954574, 0.08985033010681456, -0.07465481790141015, 0.049096382895673654, 0.0515255624693078, 0.08810165134003331, 0.1304528429034768, 0.02524290876976174, 0.0564617767951535, 0.07185845469248123, 0.08983596169108735, 0.10815331685295337, 0.11599816866939865, 0.024819924989998216, -0.010634753988400462, -0.041312963176014066, -0.04023133893756831, 0.011042851166040805, 0.017764954282300068, -0.006798689307364368, 0.01607784543625689, -0.02918966809404861, 0.06888340471111877, -0.0784965446143083, -0.08112067975661663, -0.11489950697862891, -0.10018018563683691, -0.08081428558545621, -0.010717930864193512, -0.06494066812728899, 0.05967142488327439, -0.062120710319371, -0.033690592998609555, -0.050979731982560096, 0.011914589197739614, 0.06901986613328204, -0.02522183104554821, 0.04025234057384701, 0.078482805760874, 0.012036944257150992, -0.005655160693675008, 0.08854420876001173, 0.23893838377822418, 0.09265791764270284, 0.14128506002614166, -0.006376481057268669, 0.045969929632969496, -0.09189514457612996, 0.06342689882932541, 0.039812421163239874, 0.024769654860724483, 0.032266083031999834, -0.02873581761045326, -0.028261548200159827, -0.09222037836293945, 0.0663743746294433, 0.032788582095597596, 0.01875546111948797, -0.004175566367888069, -0.04841860732733544, -0.05702176270216018, -0.06978006972434835, 0.032788582095597596, 0.05424068228386066, 0.0025886172883977437, -0.0004469718076542226, 0.09909908111487774, 0.04838068184481698, 0.04757595717220505, 0.08491218138483893, 0.14379117929552487, 0.03395052992083316, 0.11888318845179144, 0.065137203971954, 0.05036569400880705, 0.06490257410373644, 0.16735377295391904, 0.04847836263879765, 0.031121459984967816, 0.012937951429666516, 0.12979217127715767, 0.013496086990727433, 0.010373077347859205, -0.017293095800238585, 0.005768914318586186, 0.029952963071122767, 0.10970488677028846, 0.049117838511330336, 0.08811617410837652, 0.02794673680296141, 0.10459982040052185, 0.02057673860467587, 0.12919183227718803, -0.011066992102535447, 0.0792085390744905, 0.029091930114884392, 0.08509055402231332, 0.057548301090698285, 0.06770976162378872, 0.1396792246933681, 0.122426286568887, 0.2176681691508866, 0.0657632600669348, -0.07688497663395036, 0.02989727359550844, 0.04876166379071975, 0.029959397377158574, -0.006190984550107263, -0.0831257946372546, 0.04710875380046188, 0.04943494714167348, -0.12812725915063458, -0.04261664352837564, -0.15696935398269873, -0.0592512206089583, -0.12557286676107146, 0.02861988283533782, -0.05997893031476004, -0.024097985083892375, 0.06833238043676333, -0.006786007779493339, -0.06320137841340219, -0.041790713221983466, -0.06164695895086735, 0.016764220488999875, 0.010942768404106655, 0.06300175620032891, -0.04257845945439903, -0.12371065986878088, -0.0800181757794766, -0.06704194984040267, 0.008794249074080863, 0.011004627464673152, 0.11719942846271207, 0.011542980835572985, 0.08952167113259471, 0.07847250805033013, 0.046709599308329165, 0.3789621036924499, -0.022900426269960437, 0.030414925616258297, -0.042837975271608035, 0.11242024828688742, 0.003697118979993613, -0.0741435417133545, -0.07126777467776482, -0.1561766880141412, -0.09342066671353788, -0.10687541751266535, -0.133696391421058, -0.07905117535019443, -0.11992251243225527, -0.09271648938621795, -0.029462574990163602, -0.026558388953767012, 0.036903897377299114, 0.10801345926175185, 0.08762063475146857, 0.03884182230635096, 0.11276686319176395, -0.004433828058787963, 0.02818673576549052, 0.0651213674160994, -0.09645380433671714, 0.03829315204293775, 0.015142511636035635, 0.06799839946184294, -0.004950164351403688, -0.03601582110766472, -0.050640148466036095, -0.040967666495244914, -0.04648992145338759, -0.025544705317948235, 0.012968494874670704, -0.09218625176093624, 0.02493339513059197, -0.07102744341964227, -0.049695221800250995, 0.08844827983979475, 0.08767761326807753, 0.0703761641365056, 0.04114084610652805, 0.017425965009312684, 0.01330217295302466, -0.008752833330531876, -0.024262386676129854, -0.005270238753222105, -0.034752002801661026, -0.09194829131008946, -0.09247829634037343, -0.0416987987742175, 0.090569678231646, 0.026729078932186286, 0.013641352310124075, 0.012820823983006555, 0.02107250165343111, 0.007647051328870574, 0.05835067599939048, 0.04997320767825322, -0.03557038727442137, -0.058629739172110326, -0.012933500978126563, -0.023071444735298777, -0.005643580840885194, -0.0068542263976179634, -0.02920207885530243, -0.005044709683194611, -0.0387438520004153, -0.023375338823966956, -0.04128898164349746, -0.024828871406200617, -0.0562612429712434, -0.03494872819249168, 0.13264478017811318, 0.00957305024027192, -0.04091653167086822, -0.025786184878043412, -0.08003856022690367, 0.06416423190899058, 0.022597226827458558, 0.013021502245239958, -0.006035058105295967, -0.029232418249045804, -0.009245796150808151, -0.04206716993404261, 0.0154401244045276, -0.03447079940554411, -0.01523422420713969, -0.004175566367888069, 0.045637398989780184, 0.08648387960634223, -0.007188931990120352, -0.005201637327512038, -0.022124425706858963, -0.01458443380310696, -0.014538233418223283, -0.007974574020348986, 0.10719767494271677, 0.05518125195805046, -0.012213187925546572, -0.01478496271237408, -0.022955564352017437, 0.06889830979463632, 0.032788582095597596, -0.004175566367888069, 0.007016114587686069, -0.01459457961197047, -0.005999089181862218, -0.04841860732733544, -0.05055643362954135, 0.09734345903650031, 0.05018803899820421, -0.023037177360253847, 0.03014843042344454, 0.049610735879159346, 0.1251750775832768, 0.0014057859356148335, 0.0377308285788756, 0.07444674844740623, 0.049942561495327796, 0.08971066302150969, 0.16739288867823757, 0.09646678663132631, 0.042262222673625095, 0.08954181643795771, 0.13762031128784713, 0.08265454116668507, 0.29050022774834494, 0.050385768091083694, 0.06547342001548301, 0.0674951279403854, -0.025006010159632972, 0.017527243215649555, -0.006028569843091344, 0.10440569681636128, -0.03705322774522097, 0.030306139682003238, -0.005808479419687129, -0.006315851734176026, 0.039908097932327184, -0.006188963198030835, 0.02457223364596565, 0.02520221111992115, -0.00972689659773901, 0.012975037852367323, 0.046544131071241675, 0.005525315840059399, -0.026558388953767012, 0.028365341973357914, -0.009467168458189746, 0.1459953714945809, -0.020260747874218082, 0.11962775881719355, -0.023796916499669907, -0.10686753289680578, 0.018673452008173066, -0.017821454333005467, -0.014244629422501511, -0.047122677817211855, -0.022124425706858963, -0.10845142489797438, -0.028417880691174912, -0.04841860732733544, -0.05702176270216018, -0.022124425706858963, -0.03390198337679361, 0.07127222445117742, 0.05183269941566112, -0.026558388953767012, -0.0591602565648251, -0.047494185963846434, -0.046406643720726226, -0.008190107757808793, -0.04978092628767482, -0.024331368691670463, -0.023831208645053486, -0.02828382111540619, -0.004223333242144592, -0.09197909480653099, -0.027655937636471242, -0.04144799177495923, -0.07069812149473992, -0.025108962507504898, 0.0930145882699168, 0.002500556559366311, -0.00105746028847491, -0.005852348740032451, -0.006023266553689735, -0.006107884969523263, 0.017742431167397352, -0.024165923224065713, -0.02295742854473834, -0.02327040323999079, -0.0058668821978107065, -0.005157925736990165, 0.003050478820242195, 0.003996172462735827, -0.0053750539058279746, -0.006234520719529793, -0.023041659588711936, -0.04125885697661672, 0.030156129936335017, -0.030352299275611224, -0.04334187140666682, -0.02536863966329339, -0.047538020320069777, -0.015191524563286407, 0.013844089900812854, -0.006132969341766418, -0.005452963357534868, -0.09402268634398288, -0.0063485159754798895, 0.037441113733811544, 0.008859539301409142, -0.018782258117707628, 0.0823925826188994, 0.13039015411995716, 0.06879143921864286, 0.01953291152589634, 0.20474517062200548, -0.04552067110100952, -0.023021378874454306, -0.032546635159438335, 0.03732907853386943, -0.06217903031224821, 0.025494449213545732, -0.010492386063765286, -0.10989046827751985, -0.04595446222533509, 0.017540948020226637, -0.005694958543618642, 0.017138349955294143, 0.0021138161153557997, 0.005700364350190951, -0.034202808741816366, -0.033793448308406665, -0.016045765132837866, 0.026462463847475252, 0.004505403110811566, 0.0005191251301747154, 0.00894621349432829, 0.0051844377199415335, -0.0690709085574909, 0.043315448734546756, 0.0046024088962970085, 0.07679348701571616, 0.022686209040288646, -0.0378885830428173, -0.08383889081322668, 0.046555269251911, 0.0410883897808761, -0.033467667302124825, -0.016690370121298967, -0.007313808726193075, -0.0805541670391767, -0.056233987535922104, 0.028424483463894576, -0.009268193577267136, -0.0045386936658349366, -0.04841860732733544, -0.05815969629860481, 0.07400019553402765, 0.08818926964059082, 0.013147071961079516, -0.004913934327543035, 0.06483422138680768, -0.04074485449999509, -0.048709335576231375, 0.021246697257730138, 0.09433791839815826, 0.042262222673625095, 0.025004991930983392, -0.004175566367888069, -0.005353072159109733, -0.01991138620544234, 0.05882299061671859, -0.019487105182956883, -0.050639451144223316, 0.03177455146555714, -0.05070042931381947, 0.004914727017261528, 0.011310191005290368, 0.01412410712987291, 0.01412410712987291, -0.023170953340733012, 0.09781537551215166, 0.01720866130330814, -0.0484129527336123, -0.05907786378504503, -0.040534861033252136, 0.07016030230544085, 0.050310221876259845, -0.004819797168310294, -0.018602975780603194, -0.0055448229006723046, 0.011957983393500566, 0.013579266521521182, -0.028016525416047863, -0.004175566367888069, -0.004175566367888069, -0.022124425706858963, 0.01875546111948797, -0.03390198337679361, -0.004125395536062306, -0.005721452799562025, 0.10924560498108685, 0.0700706207512263, -0.006209473010298509, -0.00652057145859644, -0.007763326996302991, -0.028541009363004778, -0.00570574521604903, -0.0629150223058926, -0.050928738132765876, -0.0063495530856047516, -0.012984188600128087, -0.007708609384024641, 0.03579649113791466, -0.0076246373019928215, 0.10599329153374895, 0.031169019823961853, -0.023971284445770992, -0.006449972135443401, -0.00640378072220452, -0.07358280874479935, -0.025971844314912087, -0.05500573050790506, -0.041583843824312614, -0.060031022698215246, -0.07195165995317006, -0.07122961364554112, -0.023534265492354524, 0.06935964597646686, -0.02037148675990542, -0.046838575390175725, -0.0794905479783904, -0.05199560692277923, -0.010023647572353215, 0.04616956079677896, -0.04532605758730926, -0.13625859163341025, -0.054026480014139684, -0.03721288306696741, 0.03443489543165351, 0.00838936335036895, -0.046332446623456605, -0.07910524199362944, -0.059695153327022375, -0.02849663872330845, -0.07261894965324976, 0.0055181462139060515, 0.048382948045535196, -0.04506174921363386, -0.0058377709562693345, 0.010603782645648156, 0.07045747515407787, 0.044398100373296806, -0.045274310059804854, -0.008021191277915281, 0.006690294644895057, -0.056568891841987386, 0.027780826229011797, -0.008825335692139613, -0.05834755200347996, -0.01168659524880121, -0.03165482424928662, -0.00742419810688492, -0.06625711198430334, 0.16769364814622068, 0.1375032089006803, -0.026999684042875432, -0.0646823328354636, -0.02759032054285552, 0.003631128810121611, 4.6207318954048746e-05, 0.07895019018886522, 0.04937340406121317, 0.0010845132639090756, -0.026667305189414334, -0.006105683517722219, -0.013359883857652959, 0.0945007755196606, 0.03493068919787516, -0.007356678665125961, -0.04228693640329479, -0.00786795606921433, 0.007874811431366526, -0.022977484662664947, -0.08037601896831141, 0.09944621006318079, -0.009717344144496418, -0.06792989952444548, -0.09325569450999202, -0.028332187841501284, -0.03473885698827668, 0.0585665240808008, -0.06386063132329341, 0.03661856228180986, 0.027056557542120333, 0.03786669921006084, 0.0251592881320254, -0.009283814456085249, 0.02788240976913404, 0.05652019556530772, -0.061274797471072076, 0.00017062646666285005, -0.04894349053613933, -0.12452444650528634, 0.023017170012075795, 0.08106805814271474, 0.050916676829107034, -0.011481029743688741, -0.053705433538223823, -0.027045778710057672, 0.3059350301284603, 0.13752167564005588, -0.016985649778503194, 0.009330560398396803, 0.030776485937366146, -0.03475065919012495, 0.010139310439614318, -0.030857482174129272, 0.024143825497179545, 0.032788582095597596, 0.05183269941566112, 0.07127222445117742, -0.09066502831381744, -0.128871177579918, -0.022124425706858963, -0.004175566367888069, 0.032788582095597596, 0.08909697198820803, 0.01412410712987291, 0.01875546111948797, -0.10102769536415265, 0.01875546111948797, 0.01875546111948797, 0.05183269941566112, 0.05183269941566112, 0.032788582095597596, 0.032788582095597596, -0.06978006972434835, -0.004175566367888069, -0.04111872695573098, 0.011781526781693835, 0.11440918402754227, 0.08967859224013663, -0.024132152568538283, -0.09292510700359699, -0.0930805129149005, 0.05036227989291814, -0.028611767882711938, 0.06920903662470045, 0.08350381507346762, 0.026553937285785645, -0.09472157426793595, -0.08169840547964001, -0.10065552688187669, 0.030338632721899746, 0.06933786654910705, 0.011442077714455361, -0.023614547989451222, -0.07712655642405927, -0.041676057168122685, 0.024141417044350248, 0.03182212759356881, 0.012454620159215234, -0.09235991681937968, 0.07402023514413408, 0.04964263033201331, -0.0064749516350467076, 0.08935864767549986, 0.04908480123007683, -0.044062846393041984, -0.05506674997279907, -0.029421063935372218, -0.04598864664791632, -0.05916502718013626, -0.006748595946547043, 0.019349292022062377, 0.06772945451792506, -0.06257768610721672, -0.09640484938882762, -0.025921917515594868, 0.10953847920185983, 0.14928509532089268, -0.042439245383955146, 0.0049295636267041995, 0.0020917946790090357, -0.0008574571878947007, 0.0010214989714019903, -0.059651328077620094, -0.06280465911786078, -0.007804373921028267, -0.04269820517798296, 0.10827047368187118, -0.012833197287337492, -0.09602949560910524, -0.059481476457185316, -0.02386660848409215, -0.0771342250769026, -0.0603248396188938, -0.14847940985156963, -0.050342425915698666, -0.027634421823578507, -0.004264015934842335, -0.05907513918766637, -0.10406707058563858, -0.062062843988283635, -0.06993808986053503, -0.20421372664767942, -0.11911339447813113, -0.08634539041472511, -0.031364025222573116, 0.02538034295018182, -0.062214052862649555, -0.028425141183524093, 0.04721108351371151, -0.042777642483768974, -0.07374730468980593, -0.01323183200577813, 0.046347350573883485, 0.021654441873985006, -0.010648658589929017, -0.08447982461258308, 0.0067211139356875395, -0.05125627723735533, 0.01875546111948797, -0.049611614404342294, 0.005144868221825471, -0.09320479843440249, 0.11407794858307936, -0.06034182883451516, -0.02520512289020522, -0.09304280358176076, -0.07658369072831528, -0.006400241291229134, -0.006386502798273646, -0.04230933150330252, -0.07673986154736433, -0.02406683005494746, 0.010732296020573495, 0.011326302158581677, 0.06900311079548432, -0.07691752110667126, 0.10928470231901784, 0.01527249241547586, -0.07601821568574736, -0.09176934033801146, -0.028199174563884627, -0.007171878630584046, -0.09347476923676071, -0.007398016445794762, -0.09232405715405433, -0.027902118900337513, -0.05088892685466467, -0.006634855777042426, 0.07072278434161813, 0.05102781430439952, 0.011918122621487613, -0.07204117932501722, 0.012287088166964442, 0.03065719403912974, -0.07844077096339327, -0.028195791823516194, -0.09214179876744992, -0.10924916158118633, -0.034419401792231054, -0.02484120201893336, -0.0765855143917367, -0.059538953759085876, -0.14210141343665256, -0.02438131500495178, -0.11476026171178902, -0.1095525503360681, -0.0924840517459035, -0.1134970379830853, 0.04625185773033239, -0.022380761254895083, -0.062405845864510534, 0.000729349605653607, -0.05071862422319399, -0.02558839453666087, 0.049807845700338124, 0.049102588432447775, -0.06662229573913514, -0.022189494593597463, 0.09822145271089212, 0.040458429846122766, -0.005583722006287674, -0.058783013421253485, -0.029921119547008324, -0.06593723642845774, -0.07517122118997817, -0.012032998813989788, -0.07522468641525387, -0.05897563431757482, -0.011079284634967176, -0.007938396922741286, -0.06106500858118109, 0.08171289238569891, -0.06012215421222268, 0.032788582095597596, -0.08060859741802164, -0.059116312303614554, -0.08048856047210856, -0.07893043138005008, -0.09511236296338448, 0.0010887623269408954, -0.09652534742746417, -0.08204384060001148, -0.13028638270715986, -0.06709992008910733, -0.06182074446876282, -0.07862903792469328, -0.05981570077848797, -0.0940303126364425, -0.09765663224285873, -0.09876731848001359, -0.09363128645836531, -0.06048812375075539, -0.07965900234256097, -0.0748749933674848, 0.012011798643138697, -0.06548260450918961, -0.07947437871953825, -0.029660778037610237, -0.07253676535827207, -0.06044624730694657, -0.15013361915276494, -0.06112923460294463, -0.04353849715441142, -0.07942669658150595, -0.07315612928840913, -0.08055307499948516, -0.10012217784229784, -0.06269991857037119, -0.11048640634367649, -0.05187808816303843, -0.07692095902579581, -0.09051373547867318, -0.09625803856667496, -0.030798049616112544, -0.07999325363341436, -0.12378129060911308, -0.09931751832549103, -0.0819564926225413, -0.07641204187428, -0.03390198337679361, 0.028873965858102427, 0.006867407406151122, -0.0444533291433513, 0.021247179020381302, 0.06586621681949954, -0.008528721343296566, -0.007757042231259985, -0.026102116590766104, -0.03521744489865591, -0.023337021430935443, 0.0025991094847806406, 0.09776184894671, -0.00633279211488066, 0.006372125389408939, -0.011784213325425752, 0.01086256056110097, -0.08496486498077091, -0.09202772015395488, 0.05027420557818931, 0.02958202921984863, -0.007378608897242027, 0.029731319442394447, -0.009184527409232238, -0.024135988431449335, -0.06596072953722977, 0.008489962636210397, 0.054604802065717356, -0.009465179501924168, -0.005975352125683616, 0.055534486406355395, -0.042216221703398234, -0.023890245698534714, 0.007125609471715831, -0.004554678514618088, -0.004175566367888069, -0.03390198337679361, -0.004175566367888069, -0.004175566367888069, -0.004175566367888069, -0.004175566367888069, -0.04841860732733544, -0.013775662882100215, -0.015368415212130749, -0.08759580531448564, -0.12801441350498743, -0.06996972718802617, 0.0613688823750751, -0.09441920305793293, -0.04015349016820008, -0.13696847829260034, -0.06933567867754108, -0.05853688734338265, -0.10292205123040991, -0.061987129662436184, -0.10000233766318686, -0.14735121908557128, -0.1458491698435311, -0.013748616808740762, -0.09950075064375118, -0.05229116856298651, -0.06674222247597268, -0.10741858403911354, -0.016235633723192408, -0.019546309554366398, -0.04513154230613048, -0.06799340080958305, -0.1535431641713241, 0.034408409260068995, 0.08067496726676925, -0.09454277556386488, -0.043892853939375635, -0.03629190623489767, -0.020070166157466592, -0.033283115113625604, -0.045599280326262114, -0.07255777956600121, -0.0485684799937594, -0.02657225065135362, 0.06732437034414618, 0.15710111866870563, -0.007934967469988749, -0.08927872568473962, -0.08036291521100396, 0.04249395874045659, 0.007589420002530115, 0.10907817216270528, 0.044014963167217085, -0.05252892600049037, 0.058373409684484664, 0.030595015897252137, 0.21604521503774327, -0.060890292696151115, 0.08994961745036245, 0.08884168668103609, 0.17223096868281187, 0.0038194762480530846, 0.08956673866627853, -0.02059074985681568, 0.07064856569134743, 0.08930230486817115, 0.06591205208627968, 0.06429908746632824, 0.08518998308896358, 0.11215889436187036, 0.09159948206783433, 0.049567856053472484, 0.06371187108296035, 0.2165368644520038, 0.08104750670846003, -0.09359458389048596, -0.013220730211701417, 0.002017103498701565]}, {\"axis\": {\"matches\": true}, \"label\": \"PC 3 (19.0%)\", \"values\": [-0.03435131778703646, -0.047337133998265814, -0.02113694968410138, -0.05011507902111893, -0.02250611068331365, -0.030191407837238445, -0.01403936055842724, -0.06028642547732981, 0.011410221963531978, 0.0025914703070504443, -0.002238541064240461, -0.06711095099299365, -0.0316009442560342, -0.041191150621062135, -0.04985910346368897, -0.020425860195465873, -0.030051301922681878, -0.042916402427906675, -0.030867607595958718, -0.0028923103428739392, -0.007465300388879171, -0.015823210240097352, -0.003172045642264095, 0.008255821707507069, -0.007089991549354604, 0.14126745027759402, 0.019730131556476613, -0.026490684872934822, -0.04580584366020059, 0.007666486275977717, -0.006156089836448358, 0.0005037901018871179, -0.0042839957778836426, 0.0017815797880501583, 0.003034555682624954, -0.011271192005616243, 0.10206286130422552, -0.0007903588009482548, 0.00560558750731514, -0.015204367548913902, 0.011912958876549001, 0.008464406678660594, 0.006352542818694203, 0.017201224440487526, -0.007274161484180123, -0.030226298774729547, 0.016667875459864697, 0.031843606830737475, 0.012751029953907984, 0.01249126414626087, -0.02287394839462309, -0.04964486027129554, -0.04851861626602566, 0.0007683471086058067, -0.019349573056456962, -0.014002278789326559, -0.02495016743917917, -0.017270826140212997, -0.022351671259644646, 0.07716153271601472, 0.02871290172211633, -0.03572675929965965, -0.06111000846627941, -0.03644870817267318, -0.00868608522366805, -0.12473671918913132, -0.030012623219474423, -0.04565558433592428, 0.05548855416976495, 0.0016739138731245648, -0.004798323085467626, -0.03373067278252958, -0.015646997542092315, 0.019700995852663435, 0.17373509913266985, -0.02223375853771811, -0.02642823680429779, -0.04527054639187428, -0.06236605274265172, -0.08527805031718795, -0.0795747770660575, -0.07137940940452452, 0.18607877890811625, -0.008019805966093025, 0.05381015858200294, 0.05457000576141609, 0.03993459689219483, 0.012143544115785892, 0.007582824526227614, 0.01822498587779033, 0.012562598282818195, 0.016336676040722857, 0.04064923015850845, 0.03543114334516828, -0.004656518921276725, -0.0007802640912416549, -0.0003489163370844411, 0.012320104196735892, 0.016646753123755593, 0.008429912804800252, -0.01689361129827204, 0.001825004688725511, -0.014530789293237768, 0.016603857694017527, 0.003899527851547083, 0.00906304753777951, 0.01142697411601726, -0.011719616138940856, 0.2603393585302584, 0.0034543724830720154, 0.00795981288568886, -0.0066472691231871835, -0.001636637624132798, 0.001402673474907803, 0.09703289276914417, -0.002859003598487624, 0.008417883398336948, -0.011680403551974125, 0.00291838497482351, 0.0034307807666035437, -0.001815015772161838, 0.006275487611955973, -0.010775319897745363, -0.005394535546453099, -0.010416155787357922, -0.004666856470406816, -0.007599419986958382, -0.004554258763339631, -0.006606163693127607, 0.001027834401164353, -0.05566577568609062, -0.04763128272471569, -0.050784801553046204, 0.004706175040639652, -0.025195653004562137, -0.007915954429020051, 0.3053993510769461, -0.1438164267620231, -0.1138862378306695, 0.12813112167451118, -0.05427618825081451, -0.045460034805148306, -0.036428575121697296, -0.07374033754355622, -0.03752290826249811, -0.04523275208478054, -0.027761922331990412, -0.010404909037008596, -0.015385411605303406, -0.005410986724108147, -0.013696226661963021, -0.008097854786143218, -0.019399047292174183, -0.02711830094442468, -0.023050453258047065, -0.01376597806535908, -0.012849535457246597, -0.01414223361589658, -0.016473303346809656, 0.0011066286094709226, -0.03683520943368133, -0.011531532001523109, -0.007659759185725471, -0.027252187636747693, 0.0018857727963304185, -0.034986169541428906, -0.005010082979378206, -0.006279636384570904, -0.0071106437247354, 0.1646736220879736, -0.006362569653749709, -0.007430630353652946, 0.0021690709947429616, 0.0015312792576079814, -0.01370680407350495, -0.020164649185430355, -0.014107929741123413, -0.019809208343166657, -0.013948819994813615, 0.1888314493700168, -0.02234683557318624, -0.03098924688463997, -0.012736262433035965, 0.018623681563447507, -0.02222208985565481, 0.006046853857868623, 0.013501399550531265, 0.012985917595363968, -0.015484275338299448, 0.010867842020877292, -0.028169694598100852, -0.014889430797415223, -0.013565124091031456, -0.015179924798791926, -0.020184274300503437, -0.0437688443990004, -0.03312785350908277, -0.008796694701363158, 0.003681369277266079, 0.013558784617413262, 0.02559945533391533, -0.02903753789040312, -0.012123358947061253, -0.01644187976820216, -0.003824466388430643, -0.023196351768141606, -0.04201534818125061, -0.025758175290180728, 0.02423894695797643, -0.012944652503044631, -0.03601869950490675, -0.02564560174082172, 0.0022461152705388026, -0.04374041790486501, -0.0020626410552841896, -0.006347933136688783, -0.021314591614109448, -0.00524478628225343, -0.04273322117495639, 0.017177931018457725, -0.010262715264258033, -0.040813872102525996, 0.007390136928220501, -0.01802678141188384, -0.01970482491858865, 0.3935390083102368, -0.013803417450455244, -0.04756219755597996, 0.011412608363759779, 0.02120346068382617, -0.005445383576874569, -0.034406430826727064, 0.2798871591433523, 0.023148018275142505, -0.013066373082786714, 0.2538468025210517, -0.0976658806342861, -0.014595133801417175, 0.11802948091503626, -0.06414101243235479, -0.04050016958813525, 0.08551372962401303, 0.08789233204451986, 0.0050834779044146095, -0.02065267299380462, -0.041251587382106616, 0.032830783886836225, -0.05552650058033322, -0.006049966560423501, -0.04698890289674364, -0.04950703640031588, -0.047540496497164686, -0.10217657455626154, -0.15142271360182963, -0.08276201321609403, -0.018555887547912535, -0.1819535675095314, -0.02970375660397067, -0.05099186417291333, -0.049794261183090355, -0.07831191426857682, -0.17370809033593984, -0.07178304179596427, -0.053761261697034816, 0.4656517436748083, -0.02765240550278507, -0.0891876700644112, -0.09176434949741792, -0.045592223192980424, -0.0670122362983251, 0.022114314158602967, -0.043588647837992336, -0.0013207131649460972, 0.5231568898637081, -0.008019805966093025, -0.0013207131649460972, -0.014849833918121015, 0.1481583703414779, -0.008019805966093025, -0.021816017535627834, 0.3130988213715703, 0.22387707271166962, -0.010180066421070302, -0.07874344149349743, -0.05209874415664626, -0.011593928143556753, -0.03287720834436291, 0.07688479471699931, -0.034710751647730576, -0.020171220983242744, -0.01792461765907915, -0.003630626428584, 0.08780610579216386, 0.09102842104857788, 0.10709761463246732, 0.269804939930696, -0.017694852330830742, 0.010416867758163136, -0.0040338023034632384, -0.026795235617575477, -0.01853223067126113, 0.0047607642804940835, 0.00033294920514965727, 0.007988147745646552, -0.010263117441534231, -0.03038554231875953, -0.037305376225897406, 0.005463466300951924, 0.006703752056669077, -0.009921831053862977, -0.002699743974107228, -0.024492988640240233, -0.033894626793134756, -0.030595334448650303, -0.03999714195616155, -0.046022866190030154, 0.016592064034966665, -0.03413035961340883, -0.030709945658580366, -0.049220095264601, -0.0621557744903661, -0.02193698145020263, -0.034838559610564916, -0.07873558823393893, -0.046099218770783726, -0.05735635159823649, -0.054306841052676025, -0.022868882612879598, -0.019883279857354063, -0.036346790928573826, 0.004149230584130248, -0.02062525941895178, -0.0186925968620847, -0.01277681710537798, -0.021748781948875435, -0.004532247215855403, -0.0407693615582918, 0.005470417479459748, 0.00870915790296838, 0.025843566926129234, 0.011733685560983812, 0.0021914632466727008, -0.017581017882516366, 0.0010337771737448651, -0.05134212161264953, 0.004816262951579693, -0.009215271369036358, 0.0030064563725968447, -0.019137260098093963, -0.040597984304409473, -0.007247017794108124, -0.029085509751858304, -0.05941726371981912, -0.018836945510300865, -0.010703037690945577, -0.04826694211807776, 0.295995879838609, -0.027218597465983495, -0.06535328488760384, -0.012011146034999469, 0.0217252357641262, 0.021931678356072223, -0.03979068060438582, -0.031133567595702627, -0.03144072853662784, -0.06262465030497172, -0.010922126106183896, -0.0027544799803488175, 0.0214402347225077, -0.03435131778703646, -0.021816017535627834, -0.016578404496644043, -0.008019805966093025, 0.008493122883305164, 0.011704097750855793, 0.016465909134690693, -0.021816017535627834, -0.02982263273198468, -0.03922634586722574, -0.041394960075152115, -0.06767807581963438, -0.03423273822339371, -0.035758018820547445, -0.052855863687615134, -0.08065315197595592, -0.037113291371984, 0.11515502954657975, -0.03691946857128612, -0.0321853873874892, -0.037500299500664046, -0.07715297967289035, -0.03532536736767996, -0.025242535689921557, -0.017400441328111027, -0.06349736633843918, -0.0459012785319913, -0.0207334497352945, -0.02491138888869246, -0.026543582721116434, -0.027344023895787422, -0.05456600280126027, -0.034134736245654454, -0.04936215042655931, -0.04344838691232182, -0.06133822786461845, -0.03716607548903187, -0.06326843613570549, -0.01718202363575726, -0.05846006949493182, -0.027888927482338857, -0.05243770834989324, -0.04587972706674446, -0.04316271273610034, -0.06886631975479218, -0.07328756687550492, -0.09617889088666412, -0.04692904352398215, 0.0119164407868315, 0.08689173012488088, -0.03463884012209663, -0.027142764957156836, -0.01189419579220643, 0.0013815672495947281, -0.037585741846212294, -0.03348558679100158, 0.027287334728790743, -0.0001705481798041783, 0.04341449300531368, 0.007523958588663585, 0.03182107554833579, 0.19241567948640664, 0.00611443109179022, -0.005178961352507936, -0.04163492133710232, -0.012835500479441486, -0.009220756468632038, 0.0002354245662741359, 0.0031127607623389034, 0.2666838647884415, -0.020712563647496744, -0.04060938984835723, -3.8683771362803996e-05, 0.008104539155620533, 0.009557504838869224, -0.001640175531949091, -0.02326443276903779, -0.019349492663196872, 0.20836226147578535, -0.01961149971476437, -0.04655579090958143, -0.05966863227108875, -0.03581167614048151, -0.1600958480011592, -0.0027853009043364426, -0.026262621489479967, -0.0005031721958471413, -0.060629983739247814, 0.12503662990741382, 0.00018175697837043012, 0.01359846164706858, 0.04483899788910784, 0.01909828792293411, 0.024452718398595332, 0.0343613057502429, 0.014883064163805698, 0.030360601224431297, 0.02030090138376347, -0.005117607010738372, 0.0003341848264498758, -0.045668910321651705, -0.05753030689930114, -0.050122782927402236, -0.03174244079167142, -0.060125067688585755, 0.019712299933711673, -0.029069070016885825, -0.04629299600964792, 0.014783665658624007, -0.0320953266094147, -0.02184399950723631, -0.04211640697136461, -0.009591697464674481, -0.0009430771729877233, 0.004224829271107577, 0.0030181531350597945, -0.0070986942848623325, -0.0468669101957009, -0.01717518746209929, 0.021502123024970416, -0.022433478272961258, 0.014052793756484194, 0.006063767212727429, -0.048440908398950155, -0.04986519703627678, -0.037804350958379265, -0.027479318817121727, -0.018989434384172874, 0.17653939614468211, -0.01632064067006034, -0.034212524862294424, -0.010513045543917235, 0.0014602526952216897, 0.021933662278564622, 0.020972502664200046, 0.0016922509659232786, -0.04459377045927269, -0.02001693910371117, -0.01572530567757549, -0.01732237917138785, -0.01964118746325473, -0.030664381108744563, -0.057481524163454305, -0.031009610218232352, -0.016402487279954345, -0.02076203005407336, -0.017843215830975992, -0.036228290604459874, -0.01068203772640582, -0.012877533146171927, -0.053405173494407404, -0.009595989975742883, -0.02429066412684072, -0.034588594625641116, -0.022816795999817743, -0.036172036161919253, -0.013642864055336346, -0.019309232386781915, 0.4480721449212327, 0.09075555776922842, -0.027223131370917347, -0.005427955655999527, 0.009009663185706162, -0.04415209188326424, 0.023678791679315876, -0.0032612299147513945, -0.01010552026859153, -0.009293451848882365, -0.015928166404604052, 0.00021436653817145072, 0.06691882222910196, -0.042000704925206654, -0.027068693005726868, -0.008019805966093025, -0.04015902054280004, -0.05216656617123376, -0.013484518891274942, -0.009880576923935553, -0.0013207131649460972, -0.027760102065172227, -0.019643177258424297, -0.014909274030671578, 0.29745390746889433, -0.05503195383990722, -0.018852994770376257, -0.027259855996643673, -0.042077172573579714, -0.07897706745699407, -0.021816017535627834, -0.008019805966093025, -0.022822572602057285, -0.02324452667106724, -0.01020072896663979, 0.008493122883305164, -0.008311964445403176, 0.0947086756837337, 0.02657573174291262, -0.002975980524800412, -0.027692109073305066, -0.03295340788985968, -0.05629763528951627, -0.029844576925378914, -0.031357446733972894, 0.21557573592492663, -0.032678848756458774, -0.046569681966017226, 0.03818215248005463, -0.026342039699206492, -0.02535188553695099, -0.04645778907945859, -0.08510293350537317, -0.05403025886994334, 0.4343510131306673, -0.03163108701417311, -0.035988942314953594, -0.04308251043911425, -0.03368469576479664, -0.01890950368509007, -0.011539787882783698, 0.11491020436434686, -0.01806572757086396, -0.02503144759076877, -0.011360857877773849, -0.012042574781657794, -0.04229922389651567, -0.010622849715020534, -0.0318282626787302, 0.144006193290078, -0.0157865644057937, -0.01700668333001729, 0.18632666399216913, 0.01824328465564205, 0.0003341848264498758, -0.03000917363273448, 0.047918388155261955, -0.06121607986976078, 0.014472643508015694, 0.25704936371738957, -0.004353760992030253, 0.005205985670388008, 0.07559562316943633, -0.024583014554177905, -0.022536996646304215, -0.012650730583445093, -0.0013207131649460972, 0.004310589820267398, -0.0017515294760486304, 0.008493122883305164, 0.011704097750855793, -0.0013207131649460972, 0.003075050950851785, -0.03617935319932797, -0.028923895915733848, 0.0003341848264498758, 0.012502252584548797, -0.009180462402854616, -0.007148051702630693, -0.015566382165988194, 0.005678391477523129, -0.005605294674262789, -0.004580511721337534, -0.012639463326265869, -0.03798141510605562, 0.021667538642013387, -0.0022296922945343493, 0.0014762270455045386, -0.018911932728450653, -0.005724412857816413, 0.2600150387001067, 0.013839686029251855, 0.07168630585581992, -0.01133712686295025, -0.011894190747113339, -0.011676867774152453, -0.018713835716846098, -0.005453137066554147, -0.0028907576453207316, -0.0034367722367560083, -0.011434370488568123, -0.009852911183400873, 0.06938744635877957, 0.015288450575583529, -0.010468841952437935, -0.011799971652548131, -0.0030895133519420683, 0.0022251580102891915, -0.02673353791824963, -0.006775535017543736, -0.026726625695714854, -0.006229437458124482, 0.14300404827821814, 0.0198154922784621, -0.026059633012144447, -0.011706420871968179, -0.01062367853797598, 0.017817960789210916, -0.012094532585753773, -0.0403620674114477, -0.06149420903943688, -0.026443478247618057, -0.05485208926151399, -0.07905207402128189, -0.07082974532196876, -0.03882990841729692, 0.4640313876966937, 0.01268903002774105, -0.030867740183846276, -0.014162271300618028, -0.048056851759765894, 0.0036378949530919665, -0.03134200275159303, -0.016941978135570464, 0.0014751578132426255, -0.022809419072135854, -0.040165109419089524, -0.03885294379601065, 0.12788361497960835, -0.03745552334239747, -0.025266896320120795, -0.016108452420694305, -0.0156457768122013, -0.02245517766369651, -0.05947334192098623, -0.027425341538938813, -0.034807687193451356, -0.023205208506900634, -0.027318878829966947, -0.003106184170165891, -0.03955065157942377, -0.0384305740091127, -0.06137081914199523, -0.03538491421391147, -0.014153995724431491, -0.0019938357546184344, -0.04539702108336767, -0.04367654141244515, -0.017121165273677883, -0.02364544182140193, -0.04094271357919117, 0.008519343316376287, -0.01433894911072661, -0.02977717854265381, -0.01725524209402323, -0.00892286443063043, 0.008493122883305164, 0.009624880960517881, 0.14985110631612403, -0.04914543756729501, -0.01686619050418298, -0.009582213265196624, -0.037212519937296545, 0.003422220793276891, 0.007965889676775055, 0.06318439844789855, 0.041672129675939584, -0.02535188553695099, -0.022640386623542817, -0.008019805966093025, -0.01052832349115765, -0.02622834028660752, 0.10675268431285359, 0.021098884832448397, 0.06826011295481446, 0.09022318400098188, 0.004142453003283731, -0.02549193636170434, -0.02013347143411148, -0.014849833918121015, -0.014849833918121015, -0.0032885888426105025, 0.09556449219835492, -0.019657380059249538, 0.008478155337574646, 0.007793170771827772, 0.003780025017019773, 0.020868661432633176, 0.1394889631931081, -0.009402053282392346, -0.024967002739939913, -0.010812286326178408, -0.018975472435739146, -0.016626080045699303, -0.0024969270681236204, -0.008019805966093025, -0.008019805966093025, -0.0013207131649460972, -0.016578404496644043, 0.003075050950851785, -0.008152606704122541, -0.011247057905910504, -0.055873356910582, -0.038583909274303954, -0.011708278362336786, -0.01245997929645634, -0.014604164937075564, -0.0032612804221597456, -0.01092007205407486, -0.008661948160800566, 0.0038107276509132585, -0.012056730035976798, -0.0191657208262345, -0.01327101109162293, -0.03593591553162582, -0.012988208621342636, -0.06625720566600488, -0.024864049273076165, -0.005642059987500666, -0.012297345127811297, -0.012441311805836025, 0.009506735238406686, -0.004088354585519908, -0.01319442901556539, 0.0016918126785562817, 0.005815684338326554, 0.012386066147321973, 0.013837173562970411, -0.004006049311495039, -0.039703742094336504, -0.0281777597989562, -0.005095363589677779, 0.008896013117494753, 0.0029756819920175293, -0.0161448362760727, 0.29841152704365353, -0.002580940032404965, 0.032394808154977715, 0.04140891972751767, 0.022023491427603164, 0.043027390800196845, 0.0459731679374222, -0.010238120742887637, 0.009741700628426872, -0.012093717041231883, -0.013145372488881882, -0.022270744757888795, -0.02713499470377848, -0.06556216256656294, 0.0689806971854947, -0.011143524902938217, -0.021507170838086485, -0.0699289152165457, -0.04934595166003602, -0.004990244452207977, -0.015649021302808087, -0.022177965878988053, -0.006287348760270013, -0.025865074857845706, -0.01650750823882223, -0.01825211084312498, -0.019107666335066928, -0.009125907108997388, -0.013969659524348567, -0.014683348459481695, -0.08575258039942268, 0.2253090966398646, -0.03922287945130787, 0.0014133395654855648, -0.01006494959781301, 0.13735030321813013, 0.009467352304864014, -0.013663283328365047, 0.025099730428110974, -0.03139061564172368, -0.01004101596718944, -0.011611825479899899, -0.01985632537303187, 0.03236638964257923, -0.0058609221856270426, -0.013897829007328775, 0.0005747509870366224, -0.014816045195009325, -0.019458941260524845, -0.0687840700124581, 0.007496799074890368, 0.27820726155425496, -0.01687228718747404, -0.014683834956462957, 0.019562697695900032, -0.0031570748996030905, 0.037225875555507604, 0.020342167832178005, 0.0341549021987135, 0.13354224729458014, -0.03248720637541087, -0.0498054388578082, -0.04781686179639946, 0.0412837795629303, -0.0447901265346781, -0.04957012376984078, -0.010346930472815274, -0.033793302664158614, -0.007883155446370745, 0.01322860311376748, -0.05016245170973525, -0.05765682837328967, -0.05481004634593002, -0.01917661560146597, -0.01688137148815602, -0.008959086829731282, 0.5725485672461005, 0.17185073658607836, -0.025191753214161026, -0.06644719322823155, -0.05547322119554457, -0.02304179849409892, -0.028460750943278438, -0.007462184161947848, 0.06864896899288703, -0.021816017535627834, -0.028923895915733848, -0.03617935319932797, 0.024260848807274145, 0.005891273840058163, -0.0013207131649460972, -0.008019805966093025, -0.021816017535627834, 0.07196125520217736, -0.014849833918121015, -0.016578404496644043, 0.012637477514942874, -0.016578404496644043, -0.016578404496644043, -0.028923895915733848, -0.028923895915733848, -0.021816017535627834, -0.021816017535627834, 0.016465909134690693, -0.008019805966093025, 0.0019895777699872087, -0.01978030927967137, 0.2568704121179566, -0.04686239206748912, -0.00541101324921679, 0.019587209744224572, 0.019410815497270507, -0.03274310591955833, -0.004242122789623832, -0.04032041006589436, -0.08463838581826923, -0.03099462514646364, 0.017703132911643108, 0.0074123353498504315, 0.009608733965706051, -0.026828574722552186, -0.040076201741136575, -0.020315256405736098, -0.005134111065976754, 0.011773495646537683, 0.001075793007944795, -0.024539742565852174, -0.02436236926579456, -0.01814394601782068, 0.020588008685276757, -0.004412513654110805, -0.0333914540251421, -0.012566682381864496, -0.047206508534758294, -0.03444319592672995, -0.0029409549992603363, -0.01383402210120715, -0.011599867530743985, -0.004079213510098367, 0.007244738312264244, -0.013409113151666043, -0.038932336502054764, -0.041819048488377586, 0.003222569898887967, 0.016141524071520575, -0.0074814042162852715, -0.05513502996756845, -0.07459597305125729, 0.00034945733716908043, -0.011418133940497736, 0.013024607785717061, 0.12029607999074193, 0.011056277528327585, 0.006592016301009109, 0.0008798514779354045, -0.015030573140450332, -0.0005914715313529412, -0.057077074507380296, -0.01904688018859188, 0.20523125160099345, 0.007036881851767531, -0.004581500180018949, 0.011916018138382207, 0.005231612640598751, 0.029710713331238824, 0.004717607123910176, -0.0115372015476451, -0.03806117258009819, 0.0631518690504462, 0.006776037166831032, 0.003570707120762882, -0.004770589676599387, 0.050736228312103386, -0.00918927971852922, 0.001300393855870589, -0.013553576431912559, -0.031978220796374086, 0.0031320796722285518, -0.011841628762338083, -0.03636141759238029, -0.00047219459500010864, 0.008985967690652593, -0.020920345242633656, -0.037858836790074235, -0.036218532876379064, -0.01743042239799712, 0.003671253497124601, -0.02601375350773283, 0.0031578994166265376, -0.016578404496644043, 0.00600718431377793, -0.02651770833146018, 0.019419221119172166, -0.05780237197925841, 0.005331834749595086, -0.007182991659041637, 0.019590476751707536, 0.012978122342934715, -0.012296163743830173, -0.012188454419113627, 0.0003675337851173812, 0.012824644268354923, -0.0050263755758342965, -0.021299188030789853, -0.02022211662891606, -0.040569226688535256, 0.01240383798152062, -0.05525787325212772, -0.023069316025311745, 0.01399914313647918, 0.021966881586960415, -0.002945528632895271, -0.01369648472355211, 0.01880585112775635, -0.014120770919707216, 0.021007417196496122, -0.002364443634235268, 0.0035595595060126, -0.012693512108393479, -0.03717575816464969, -0.030789133249693703, -0.01908281549426557, -0.03263268131545992, -0.018432345992335047, -0.025914466695340917, 0.015893186121842724, -0.0032528115904308322, 0.021038983828912027, 0.025933467969418485, 0.11351626532512447, -0.00681513799865063, 0.012975444442233157, 0.006749275838672842, 0.035866150282648494, -0.005881731477063662, 0.024911852373935447, 0.0256315781597851, 0.02044409213208464, 0.027044608457653586, 0.3455853222873824, 0.1213600142748086, 0.11110048848280706, 0.010376572385407994, 0.0038993468797203687, -0.007820339680144185, -0.03303342954709251, 0.31237717261263676, 0.03955783080941013, 0.08110841724174629, -0.022157996010437053, -0.029115907496193014, -0.01135877309593133, 0.008014010111441589, 0.13880782854038282, 0.007144101264776049, 0.06939332770979695, 0.16281070391785277, 0.015585466840879442, -0.01852062000444192, -0.01980082350946254, -0.015285110521690815, 0.003941037796863936, 0.5433605483093266, 0.0056928557558803185, -0.021816017535627834, 0.008244940432611234, 0.0070525422150733, 0.00545782646973599, 0.008283077192109009, 0.015571461635502668, -0.032880592412003265, -0.01648475356843961, 0.005439086580553152, 0.025536854854808735, -0.0045572307913508735, 0.002415364841254061, 0.00936138545355882, 0.006208045032043595, 0.017794803079904185, -0.011362503817512467, 0.013011433179120768, 0.0183489098943266, 0.004863205292389687, 0.007347787968601373, 0.006789652890427559, 0.35550279810182267, 0.00832494591753005, 0.007785198290724635, -0.015686599899079064, 0.010810821169779234, 0.005061290883140966, 0.002103192252962293, 0.0038955973233915473, -0.0020820905749218484, 0.0076912989359398335, 0.00978764142127441, 0.00577594661418627, 0.006730640931975877, 0.0007829094373429462, 0.023531266998482896, 0.00124943853138049, 0.012428038127058436, -0.004100383715344981, 0.014915698719020756, 0.18831211554813218, 0.006767355746588869, 0.00896405648157101, 0.011867141973617903, 0.005835711267502742, 0.012825567445443156, 0.003075050950851785, -0.027735203675354494, -0.024345599627932406, -0.0011350812866571588, -0.036687223786444324, 0.07267518377525625, -0.014782960248214724, -0.013373052726335086, -0.007366255916993869, 0.13186226659727449, -0.03157825978684793, -0.029800145887955626, 0.03709330518123185, -0.012146625240304392, -0.03186624125252108, -0.018120745172508484, -0.019535078621920103, 0.0029723284064120305, 0.02174812383560119, -0.031857866937329976, 0.08636815212659939, -0.013961594730537891, -0.04100306629620624, -0.0158688773406197, -0.032000729526821176, -0.02549799911313952, -0.022859982990471116, 0.15584934873477457, -0.015222446154738221, -0.011458888458465615, 0.15629932357453818, 0.0004772600549520034, -0.004523012700342888, -0.013291772294062764, -0.008707322619579723, -0.008019805966093025, 0.003075050950851785, -0.008019805966093025, -0.008019805966093025, -0.008019805966093025, -0.008019805966093025, 0.008493122883305164, -0.020580129845779175, 0.244220902595423, 0.04103080848110607, 0.02851626339020973, -0.0067202085480652825, 0.17500680570120644, -0.006695943418829483, -0.007225296853319141, 0.0009544611536465505, 0.002677981539415266, 0.2794321598263225, 0.0076195287623343246, -0.00955069417073671, 0.011070687247457064, 0.01915559116070379, 0.019033249844035986, -0.02046290618225582, 0.011707292430799739, -0.020233828750082075, -0.014091107462715642, 0.002128253382253652, -0.023831605477254617, -0.02872528073420582, -0.02301982968970828, -0.01567681213336431, 0.02952020940797749, -0.03885680082147623, -0.0576254091123323, -0.01425083500906706, -0.020773478872490425, -0.019844081336550808, -0.012225749275392708, -0.016145802069842917, -0.0032348570493512764, -0.0008847129872999187, -0.011459896482113228, -0.009794797476678089, -0.04411168846576679, -0.09755590562024882, -0.01426506576415033, 0.14453919085753159, 0.014332552589595813, -0.07008020592068825, -0.03259910843217321, 0.07565440758360985, -0.039775348524984495, 0.0018323116929871964, -0.06381671229985751, -0.02518504379349128, -0.09961925615455607, 0.0038908034753073716, -0.04595668377301204, -0.048285156808925256, -0.1148360159489875, -0.02717464170641788, -0.04752311900610564, -0.028913773735019705, -0.06875980923801212, -0.04733700875735713, -0.046504221176642754, -0.038751235382546906, -0.05513646821130292, -0.061652361378806926, -0.07058398499620633, -0.03401579631260658, -0.03972863410009596, 0.11467180733672128, 0.017622361010280477, 0.07289605452389386, -0.0049307696309486984, -0.031749518072772036]}], \"hovertemplate\": \"%{xaxis.title.text}=%{x}<br>%{yaxis.title.text}=%{y}<br>color=%{marker.color}<extra></extra>\", \"legendgroup\": \"\", \"marker\": {\"color\": [0.41419878807691896, 0.41419878807691896, 0.4297297301077955, 0.47000362924573547, 0.38776553100876343, 0.46505720531040984, 0.4500694143449183, 0.4895482253187058, 0.4297297301077955, 0.5819215454497209, 0.5368011101692512, 0.5275274733839221, 0.38776553100876343, 0.4399512841793335, 0.4297297301077955, 0.4089677386593665, 0.47000362924573547, 0.4399512841793335, 0.4399512841793335, 0.4500694143449183, 0.5275274733839221, 0.5275274733839221, 0.4895482253187058, 0.5134537461722601, 0.5819215454497209, 0.5087181414264259, 0.4297297301077955, 0.5087181414264259, 0.4500694143449183, 0.47000362924573547, 0.5641169208162141, 0.5134537461722601, 0.5459895362236575, 0.5275274733839221, 0.5459895362236575, 0.5459895362236575, 0.5087181414264259, 0.5459895362236575, 0.5368011101692512, 0.5459895362236575, 0.4895482253187058, 0.5641169208162141, 0.5819215454497209, 0.5459895362236575, 0.5819215454497209, 0.5168226432383649, 0.46505720531040984, 0.5994147028972381, 0.47000362924573547, 0.5134537461722601, 0.5368011101692512, 0.4399512841793335, 0.41419878807691896, 0.4297297301077955, 0.5596157879354225, 0.5087181414264259, 0.5134537461722601, 0.47000362924573547, 0.5134537461722601, 0.4895482253187058, 0.5087181414264259, 0.5275274733839221, 0.4297297301077955, 0.36061454194281256, 0.4297297301077955, 0.5275274733839221, 0.2125614419836727, 0.47000362924573547, 0.41419878807691896, 0.5134537461722601, 0.5134537461722601, 0.4399512841793335, 0.38776553100876343, 0.5087181414264259, 0.5819215454497209, 0.5134537461722601, 0.4567584024957149, 0.4399512841793335, 0.4399512841793335, 0.3513978868378886, 0.2744368457017602, 0.332705753825736, 0.3513978868378886, 0.332705753825736, 0.4895482253187058, 0.6664789334777838, 0.5641169208162141, 0.5994147028972381, 0.5641169208162141, 0.5641169208162141, 0.6037405928443607, 0.5596157879354225, 0.5819215454497209, 0.6335089142402139, 0.6166071034376109, 0.5275274733839221, 0.5459895362236575, 0.5275274733839221, 0.5641169208162141, 0.5641169208162141, 0.5459895362236575, 0.47000362924573547, 0.5275274733839221, 0.5275274733839221, 0.5641169208162141, 0.5275274733839221, 0.5459895362236575, 0.5520685823000396, 0.5275274733839221, 0.4895482253187058, 0.5459895362236575, 0.5819215454497209, 0.5134537461722601, 0.5368011101692512, 0.5641169208162141, 0.5368011101692512, 0.5275274733839221, 0.5459895362236575, 0.4895482253187058, 0.5275274733839221, 0.5368011101692512, 0.5368011101692512, 0.5459895362236575, 0.4895482253187058, 0.5087181414264259, 0.4895482253187058, 0.5087181414264259, 0.5459895362236575, 0.5596157879354225, 0.5275274733839221, 0.5409881365234679, 0.4089677386593665, 0.4228568508200335, 0.38776553100876343, 0.5368011101692512, 0.46505720531040984, 0.5087181414264259, 0.5134537461722601, 0.1119179162039854, 0.19971329950582384, 0.1119179162039854, 0.31365755885504143, 0.332705753825736, 0.366104034227584, 0.4089677386593665, 0.4297297301077955, 0.4089677386593665, 0.47000362924573547, 0.4895482253187058, 0.4895482253187058, 0.5087181414264259, 0.4895482253187058, 0.5368011101692512, 0.47000362924573547, 0.46505720531040984, 0.46505720531040984, 0.4895482253187058, 0.5087181414264259, 0.4895482253187058, 0.4895482253187058, 0.5368011101692512, 0.4297297301077955, 0.4895482253187058, 0.5087181414264259, 0.4500694143449183, 0.5368011101692512, 0.5087181414264259, 0.5087181414264259, 0.5087181414264259, 0.5087181414264259, 0.5087181414264259, 0.5087181414264259, 0.5087181414264259, 0.5641169208162141, 0.5275274733839221, 0.4895482253187058, 0.47000362924573547, 0.4895482253187058, 0.47000362924573547, 0.4895482253187058, 0.46505720531040984, 0.4895482253187058, 0.4399512841793335, 0.4895482253187058, 0.5819215454497209, 0.4895482253187058, 0.5459895362236575, 0.5641169208162141, 0.5641169208162141, 0.4895482253187058, 0.5596157879354225, 0.47000362924573547, 0.5087181414264259, 0.4895482253187058, 0.4895482253187058, 0.4895482253187058, 0.4089677386593665, 0.4500694143449183, 0.5275274733839221, 0.5459895362236575, 0.5641169208162141, 0.5994147028972381, 0.4399512841793335, 0.5134537461722601, 0.4895482253187058, 0.5459895362236575, 0.47000362924573547, 0.41419878807691896, 0.47000362924573547, 0.5994147028972381, 0.4895482253187058, 0.4500694143449183, 0.4895482253187058, 0.5596157879354225, 0.4297297301077955, 0.5368011101692512, 0.5087181414264259, 0.46505720531040984, 0.5134537461722601, 0.47000362924573547, 0.5819215454497209, 0.5087181414264259, 0.41419878807691896, 0.5459895362236575, 0.47562688680009757, 0.4732877044469254, 0.3039956479433046, 0.4895482253187058, 0.38776553100876343, 0.5596157879354225, 0.5819215454497209, 0.5520685823000396, 0.4500694143449183, 0.47000362924573547, 0.6037405928443607, 0.4895482253187058, 0.4089677386593665, 0.19105523676270902, 0.4500694143449183, 0.332705753825736, 0.4089677386593665, 0.4399512841793335, 0.38776553100876343, 0.46505720531040984, 0.32132043160061075, 0.47000362924573547, 0.4297297301077955, 0.4089677386593665, 0.07598590697792205, 0.4297297301077955, 0.4399512841793335, 0.4089677386593665, 0.38776553100876343, 0.24397763821705162, 0.11895194286136529, 0.2981533723190763, 0.4895482253187058, 0.0, 0.4500694143449183, 0.38776553100876343, 0.38776553100876343, 0.3439629083503705, 0.05129329438755048, 0.32132043160061075, 0.38776553100876343, 0.46505720531040984, 0.2744368457017602, 0.2744368457017602, 0.2744368457017602, 0.4089677386593665, 0.3513978868378886, 0.5819215454497209, 0.38776553100876343, 0.5087181414264259, 0.5275274733839221, 0.4895482253187058, 0.5087181414264259, 0.47000362924573547, 0.4500694143449183, 0.4895482253187058, 0.4500694143449183, 0.5275274733839221, 0.4297297301077955, 0.4895482253187058, 0.32132043160061075, 0.4297297301077955, 0.4895482253187058, 0.4297297301077955, 0.4500694143449183, 0.4297297301077955, 0.5087181414264259, 0.47000362924573547, 0.5087181414264259, 0.4399512841793335, 0.4228568508200335, 0.41419878807691896, 0.5055485666651469, 0.47000362924573547, 0.5459895362236575, 0.5087181414264259, 0.4500694143449183, 0.4895482253187058, 0.5368011101692512, 0.5275274733839221, 0.5459895362236575, 0.4895482253187058, 0.4399512841793335, 0.41419878807691896, 0.5459895362236575, 0.5459895362236575, 0.4895482253187058, 0.5459895362236575, 0.4500694143449183, 0.4297297301077955, 0.4500694143449183, 0.4089677386593665, 0.38776553100876343, 0.5641169208162141, 0.4297297301077955, 0.4297297301077955, 0.38776553100876343, 0.3439629083503705, 0.4567584024957149, 0.4228568508200335, 0.38776553100876343, 0.38776553100876343, 0.366104034227584, 0.36061454194281256, 0.4567584024957149, 0.4895482253187058, 0.5087181414264259, 0.5275274733839221, 0.47000362924573547, 0.46505720531040984, 0.4895482253187058, 0.46505720531040984, 0.5134537461722601, 0.4089677386593665, 0.5596157879354225, 0.5641169208162141, 0.6037405928443607, 0.5819215454497209, 0.5596157879354225, 0.4895482253187058, 0.5459895362236575, 0.4089677386593665, 0.5459895362236575, 0.5134537461722601, 0.5368011101692512, 0.47000362924573547, 0.4089677386593665, 0.5087181414264259, 0.4399512841793335, 0.38776553100876343, 0.47000362924573547, 0.4895482253187058, 0.38776553100876343, 0.366104034227584, 0.38776553100876343, 0.332705753825736, 0.4895482253187058, 0.4500694143449183, 0.5819215454497209, 0.41419878807691896, 0.4399512841793335, 0.4500694143449183, 0.4228568508200335, 0.5087181414264259, 0.5134537461722601, 0.5819215454497209, 0.41419878807691896, 0.4500694143449183, 0.46505720531040984, 0.4895482253187058, 0.5368011101692512, 0.5459895362236575, 0.5596157879354225, 0.4500694143449183, 0.42715793271942404, 0.46505720531040984, 0.46505720531040984, 0.366104034227584, 0.4297297301077955, 0.4297297301077955, 0.38776553100876343, 0.32132043160061075, 0.4399512841793335, 0.4089677386593665, 0.41419878807691896, 0.4297297301077955, 0.41419878807691896, 0.3039956479433046, 0.4297297301077955, 0.4500694143449183, 0.47000362924573547, 0.3439629083503705, 0.4500694143449183, 0.47000362924573547, 0.4895482253187058, 0.47000362924573547, 0.4500694143449183, 0.366104034227584, 0.4297297301077955, 0.38776553100876343, 0.4399512841793335, 0.366104034227584, 0.4500694143449183, 0.3439629083503705, 0.4895482253187058, 0.38776553100876343, 0.4500694143449183, 0.38776553100876343, 0.41419878807691896, 0.4089677386593665, 0.332705753825736, 0.3439629083503705, 0.2501441531327157, 0.4089677386593665, 0.5641169208162141, 0.4895482253187058, 0.4297297301077955, 0.4500694143449183, 0.4895482253187058, 0.5641169208162141, 0.4297297301077955, 0.4297297301077955, 0.6166071034376109, 0.5275274733839221, 0.6501297954762545, 0.5459895362236575, 0.6166071034376109, 0.5275274733839221, 0.5459895362236575, 0.5087181414264259, 0.4089677386593665, 0.4895482253187058, 0.5368011101692512, 0.5275274733839221, 0.5459895362236575, 0.5641169208162141, 0.47000362924573547, 0.41419878807691896, 0.5275274733839221, 0.5994147028972381, 0.5641169208162141, 0.5459895362236575, 0.47000362924573547, 0.47000362924573547, 0.4500694143449183, 0.47000362924573547, 0.38776553100876343, 0.38776553100876343, 0.4297297301077955, 0.07598590697792205, 0.5087181414264259, 0.4500694143449183, 0.5275274733839221, 0.36061454194281256, 0.5275274733839221, 0.5520685823000396, 0.5596157879354225, 0.6501297954762545, 0.5819215454497209, 0.5965203448708735, 0.6250937173149296, 0.5671064596645803, 0.6109090823229731, 0.5819215454497209, 0.5134537461722601, 0.5134537461722601, 0.4297297301077955, 0.366104034227584, 0.38776553100876343, 0.4399512841793335, 0.36061454194281256, 0.4895482253187058, 0.4500694143449183, 0.4089677386593665, 0.5819215454497209, 0.4399512841793335, 0.46505720531040984, 0.4089677386593665, 0.4895482253187058, 0.5212969236332861, 0.5368011101692512, 0.5275274733839221, 0.5275274733839221, 0.4895482253187058, 0.47000362924573547, 0.5819215454497209, 0.4567584024957149, 0.5596157879354225, 0.5368011101692512, 0.38776553100876343, 0.38776553100876343, 0.4089677386593665, 0.4399512841793335, 0.46505720531040984, 0.5368011101692512, 0.4895482253187058, 0.4895482253187058, 0.4895482253187058, 0.5212969236332861, 0.5819215454497209, 0.5819215454497209, 0.5275274733839221, 0.38776553100876343, 0.4567584024957149, 0.47000362924573547, 0.47000362924573547, 0.46150900525431265, 0.46505720531040984, 0.4054651081081644, 0.4297297301077955, 0.5087181414264259, 0.5275274733839221, 0.4895482253187058, 0.4895482253187058, 0.4895482253187058, 0.4895482253187058, 0.4895482253187058, 0.4895482253187058, 0.5087181414264259, 0.4895482253187058, 0.5087181414264259, 0.4895482253187058, 0.5275274733839221, 0.5087181414264259, 0.5087181414264259, 0.5087181414264259, 0.5087181414264259, 0.5087181414264259, 0.5641169208162141, 0.4089677386593665, 0.47000362924573547, 0.47000362924573547, 0.4895482253187058, 0.5087181414264259, 0.4895482253187058, 0.5275274733839221, 0.4895482253187058, 0.4895482253187058, 0.4895482253187058, 0.4895482253187058, 0.4297297301077955, 0.38776553100876343, 0.4895482253187058, 0.4895482253187058, 0.5087181414264259, 0.4895482253187058, 0.4895482253187058, 0.4895482253187058, 0.4895482253187058, 0.4089677386593665, 0.4895482253187058, 0.4895482253187058, 0.4895482253187058, 0.38776553100876343, 0.4500694143449183, 0.4895482253187058, 0.47000362924573547, 0.4895482253187058, 0.4895482253187058, 0.5368011101692512, 0.5275274733839221, 0.4297297301077955, 0.4500694143449183, 0.5087181414264259, 0.4500694143449183, 0.4297297301077955, 0.3513978868378886, 0.47000362924573547, 0.4399512841793335, 0.4895482253187058, 0.4297297301077955, 0.38776553100876343, 0.3439629083503705, 0.38776553100876343, 0.4399512841793335, 0.38776553100876343, 0.32132043160061075, 0.38776553100876343, 0.366104034227584, 0.4297297301077955, 0.41419878807691896, 0.4089677386593665, 0.4895482253187058, 0.46505720531040984, 0.4895482253187058, 0.4297297301077955, 0.5087181414264259, 0.4500694143449183, 0.4895482253187058, 0.4895482253187058, 0.4297297301077955, 0.4895482253187058, 0.4500694143449183, 0.5134537461722601, 0.4895482253187058, 0.47000362924573547, 0.5087181414264259, 0.4895482253187058, 0.5134537461722601, 0.4500694143449183, 0.5134537461722601, 0.32132043160061075, 0.5087181414264259, 0.46505720531040984, 0.5087181414264259, 0.5819215454497209, 0.4895482253187058, 0.4895482253187058, 0.4895482253187058, 0.5212969236332861, 0.5087181414264259, 0.5819215454497209, 0.5134537461722601, 0.5368011101692512, 0.5459895362236575, 0.5087181414264259, 0.5212969236332861, 0.4089677386593665, 0.4297297301077955, 0.5134537461722601, 0.548273511331488, 0.5275274733839221, 0.5275274733839221, 0.4895482253187058, 0.5368011101692512, 0.5087181414264259, 0.5087181414264259, 0.5087181414264259, 0.47000362924573547, 0.5819215454497209, 0.5134537461722601, 0.5275274733839221, 0.5368011101692512, 0.5087181414264259, 0.4895482253187058, 0.4895482253187058, 0.5134537461722601, 0.4895482253187058, 0.4895482253187058, 0.4895482253187058, 0.46505720531040984, 0.5087181414264259, 0.5087181414264259, 0.5087181414264259, 0.4895482253187058, 0.4895482253187058, 0.5087181414264259, 0.4895482253187058, 0.4895482253187058, 0.4895482253187058, 0.5087181414264259, 0.5275274733839221, 0.4500694143449183, 0.5134537461722601, 0.5087181414264259, 0.5087181414264259, 0.5819215454497209, 0.5087181414264259, 0.46505720531040984, 0.4895482253187058, 0.4895482253187058, 0.5819215454497209, 0.4895482253187058, 0.43428554664365626, 0.4500694143449183, 0.4895482253187058, 0.38776553100876343, 0.332705753825736, 0.38776553100876343, 0.4500694143449183, 0.4500694143449183, 0.5275274733839221, 0.4895482253187058, 0.5087181414264259, 0.4297297301077955, 0.5459895362236575, 0.4500694143449183, 0.4895482253187058, 0.5819215454497209, 0.5134537461722601, 0.4500694143449183, 0.47000362924573547, 0.5087181414264259, 0.46505720531040984, 0.47000362924573547, 0.5087181414264259, 0.5087181414264259, 0.4895482253187058, 0.4297297301077955, 0.47000362924573547, 0.47000362924573547, 0.47000362924573547, 0.47000362924573547, 0.5459895362236575, 0.4297297301077955, 0.47000362924573547, 0.38776553100876343, 0.4500694143449183, 0.5134537461722601, 0.5596157879354225, 0.4228568508200335, 0.4297297301077955, 0.5087181414264259, 0.4895482253187058, 0.47000362924573547, 0.5641169208162141, 0.5275274733839221, 0.4500694143449183, 0.4895482253187058, 0.4895482253187058, 0.5368011101692512, 0.5459895362236575, 0.47000362924573547, 0.38776553100876343, 0.47000362924573547, 0.4895482253187058, 0.41419878807691896, 0.5275274733839221, 0.5368011101692512, 0.4895482253187058, 0.41419878807691896, 0.4399512841793335, 0.4567584024957149, 0.4895482253187058, 0.4895482253187058, 0.4895482253187058, 0.47000362924573547, 0.5134537461722601, 0.5596157879354225, 0.4895482253187058, 0.5368011101692512, 0.47000362924573547, 0.47000362924573547, 0.47000362924573547, 0.47000362924573547, 0.5087181414264259, 0.4297297301077955, 0.46505720531040984, 0.5368011101692512, 0.5459895362236575, 0.5275274733839221, 0.4297297301077955, 0.4895482253187058, 0.4895482253187058, 0.4895482253187058, 0.4895482253187058, 0.47000362924573547, 0.47000362924573547, 0.5134537461722601, 0.4895482253187058, 0.4895482253187058, 0.5087181414264259, 0.46505720531040984, 0.5212969236332861, 0.4895482253187058, 0.4895482253187058, 0.366104034227584, 0.4089677386593665, 0.4895482253187058, 0.4895482253187058, 0.4895482253187058, 0.5134537461722601, 0.4895482253187058, 0.5368011101692512, 0.5368011101692512, 0.4895482253187058, 0.4895482253187058, 0.4895482253187058, 0.4399512841793335, 0.4895482253187058, 0.36061454194281256, 0.4500694143449183, 0.5087181414264259, 0.4895482253187058, 0.4895482253187058, 0.5596157879354225, 0.5108256237659906, 0.5275274733839221, 0.5275274733839221, 0.5459895362236575, 0.5596157879354225, 0.5596157879354225, 0.5087181414264259, 0.4089677386593665, 0.4895482253187058, 0.5275274733839221, 0.5641169208162141, 0.5368011101692512, 0.4895482253187058, 0.5459895362236575, 0.5275274733839221, 0.6250937173149296, 0.5459895362236575, 0.5275274733839221, 0.46505720531040984, 0.4895482253187058, 0.5134537461722601, 0.5641169208162141, 0.5368011101692512, 0.5087181414264259, 0.5368011101692512, 0.47000362924573547, 0.4089677386593665, 0.5459895362236575, 0.4895482253187058, 0.47000362924573547, 0.38776553100876343, 0.4228568508200335, 0.5275274733839221, 0.4895482253187058, 0.4732877044469254, 0.5368011101692512, 0.4525830310852342, 0.4895482253187058, 0.5275274733839221, 0.4895482253187058, 0.5134537461722601, 0.4895482253187058, 0.5368011101692512, 0.2981533723190763, 0.4297297301077955, 0.4895482253187058, 0.5459895362236575, 0.5087181414264259, 0.5275274733839221, 0.4895482253187058, 0.4089677386593665, 0.4500694143449183, 0.47000362924573547, 0.5087181414264259, 0.4895482253187058, 0.4895482253187058, 0.4089677386593665, 0.4500694143449183, 0.4895482253187058, 0.5275274733839221, 0.4895482253187058, 0.4732877044469254, 0.46505720531040984, 0.5641169208162141, 0.4895482253187058, 0.4895482253187058, 0.5368011101692512, 0.5819215454497209, 0.5134537461722601, 0.5275274733839221, 0.4399512841793335, 0.5596157879354225, 0.4895482253187058, 0.4500694143449183, 0.4297297301077955, 0.4399512841793335, 0.5087181414264259, 0.4399512841793335, 0.41419878807691896, 0.5368011101692512, 0.47000362924573547, 0.5275274733839221, 0.6037405928443607, 0.4399512841793335, 0.38776553100876343, 0.41419878807691896, 0.4895482253187058, 0.5275274733839221, 0.5087181414264259, 0.38776553100876343, 0.4089677386593665, 0.4895482253187058, 0.4399512841793335, 0.4297297301077955, 0.5087181414264259, 0.46505720531040984, 0.5134537461722601, 0.4895482253187058, 0.4500694143449183, 0.4297297301077955, 0.4089677386593665, 0.5819215454497209, 0.5994147028972381, 0.5087181414264259, 0.4895482253187058, 0.4500694143449183, 0.4297297301077955, 0.47000362924573547, 0.46505720531040984, 0.5819215454497209, 0.46505720531040984, 0.46505720531040984, 0.4297297301077955, 0.4297297301077955, 0.4500694143449183, 0.4500694143449183, 0.5596157879354225, 0.4895482253187058, 0.5275274733839221, 0.47000362924573547, 0.47000362924573547, 0.38776553100876343, 0.5087181414264259, 0.5819215454497209, 0.5819215454497209, 0.4297297301077955, 0.5134537461722601, 0.4089677386593665, 0.366104034227584, 0.4500694143449183, 0.5819215454497209, 0.5641169208162141, 0.5819215454497209, 0.4500694143449183, 0.4089677386593665, 0.47000362924573547, 0.5087181414264259, 0.5641169208162141, 0.5275274733839221, 0.4567584024957149, 0.4500694143449183, 0.47000362924573547, 0.5819215454497209, 0.4089677386593665, 0.4297297301077955, 0.4895482253187058, 0.38776553100876343, 0.4297297301077955, 0.5275274733839221, 0.5275274733839221, 0.5087181414264259, 0.5275274733839221, 0.5459895362236575, 0.4895482253187058, 0.4500694143449183, 0.4089677386593665, 0.5459895362236575, 0.5819215454497209, 0.5087181414264259, 0.366104034227584, 0.32132043160061075, 0.5275274733839221, 0.47982367542671095, 0.4895482253187058, 0.5275274733839221, 0.4895482253187058, 0.5459895362236575, 0.5459895362236575, 0.4895482253187058, 0.5275274733839221, 0.366104034227584, 0.4895482253187058, 0.6460004021342433, 0.5459895362236575, 0.5087181414264259, 0.5641169208162141, 0.5459895362236575, 0.6335089142402139, 0.5368011101692512, 0.5087181414264259, 0.47000362924573547, 0.5641169208162141, 0.5819215454497209, 0.5459895362236575, 0.5459895362236575, 0.6931471805599453, 0.5819215454497209, 0.5641169208162141, 0.5087181414264259, 0.4500694143449183, 0.5459895362236575, 0.5087181414264259, 0.4297297301077955, 0.5275274733839221, 0.5596157879354225, 0.4895482253187058, 0.4297297301077955, 0.4500694143449183, 0.4895482253187058, 0.5641169208162141, 0.47000362924573547, 0.5368011101692512, 0.46505720531040984, 0.5368011101692512, 0.47000362924573547, 0.5819215454497209, 0.36061454194281256, 0.5459895362236575, 0.5087181414264259, 0.5819215454497209, 0.5641169208162141, 0.4895482253187058, 0.4895482253187058, 0.5275274733839221, 0.5641169208162141, 0.5087181414264259, 0.47000362924573547, 0.47000362924573547, 0.4089677386593665, 0.5641169208162141, 0.366104034227584, 0.46505720531040984, 0.5641169208162141, 0.5819215454497209, 0.5134537461722601, 0.4895482253187058, 0.5819215454497209, 0.4895482253187058, 0.5819215454497209, 0.5134537461722601, 0.5368011101692512, 0.4895482253187058, 0.4089677386593665, 0.4297297301077955, 0.47000362924573547, 0.5275274733839221, 0.47000362924573547, 0.4500694143449183, 0.5671064596645803, 0.5134537461722601, 0.5819215454497209, 0.5994147028972381, 0.5596157879354225, 0.5087181414264259, 0.5641169208162141, 0.5459895362236575, 0.6335089142402139, 0.5087181414264259, 0.6037405928443607, 0.5994147028972381, 0.5819215454497209, 0.6037405928443607, 0.5641169208162141, 0.5459895362236575, 0.5819215454497209, 0.4895482253187058, 0.5368011101692512, 0.5087181414264259, 0.4297297301077955, 0.5459895362236575, 0.5641169208162141, 0.5368011101692512, 0.38776553100876343, 0.4399512841793335, 0.4895482253187058, 0.5459895362236575, 0.5641169208162141, 0.5520685823000396, 0.5819215454497209, 0.548273511331488, 0.5641169208162141, 0.5275274733839221, 0.4895482253187058, 0.4895482253187058, 0.5459895362236575, 0.5994147028972381, 0.5459895362236575, 0.4500694143449183, 0.5641169208162141, 0.5459895362236575, 0.5641169208162141, 0.5641169208162141, 0.5819215454497209, 0.47000362924573547, 0.5596157879354225, 0.5641169208162141, 0.6166071034376109, 0.5459895362236575, 0.5459895362236575, 0.5641169208162141, 0.5459895362236575, 0.5819215454497209, 0.5641169208162141, 0.5819215454497209, 0.5819215454497209, 0.5459895362236575, 0.5641169208162141, 0.5596157879354225, 0.5994147028972381, 0.5520685823000396, 0.5641169208162141, 0.5087181414264259, 0.5596157879354225, 0.5459895362236575, 0.6166071034376109, 0.5459895362236575, 0.5275274733839221, 0.5641169208162141, 0.5596157879354225, 0.5641169208162141, 0.5819215454497209, 0.5459895362236575, 0.5994147028972381, 0.5368011101692512, 0.5641169208162141, 0.5641169208162141, 0.5819215454497209, 0.5819215454497209, 0.5641169208162141, 0.5994147028972381, 0.5819215454497209, 0.5641169208162141, 0.5641169208162141, 0.5212969236332861, 0.4500694143449183, 0.47000362924573547, 0.5275274733839221, 0.4500694143449183, 0.4500694143449183, 0.4895482253187058, 0.4895482253187058, 0.5087181414264259, 0.5641169208162141, 0.4895482253187058, 0.47000362924573547, 0.4089677386593665, 0.4895482253187058, 0.46505720531040984, 0.4895482253187058, 0.47000362924573547, 0.5641169208162141, 0.5819215454497209, 0.4297297301077955, 0.4895482253187058, 0.4895482253187058, 0.4399512841793335, 0.4895482253187058, 0.4895482253187058, 0.5275274733839221, 0.47000362924573547, 0.4895482253187058, 0.4895482253187058, 0.4895482253187058, 0.4895482253187058, 0.5275274733839221, 0.5087181414264259, 0.47737768969845035, 0.4895482253187058, 0.4895482253187058, 0.5212969236332861, 0.4895482253187058, 0.4895482253187058, 0.4895482253187058, 0.4895482253187058, 0.5368011101692512, 0.4895482253187058, 0.5819215454497209, 0.5819215454497209, 0.6166071034376109, 0.5459895362236575, 0.4895482253187058, 0.5641169208162141, 0.5212969236332861, 0.6037405928443607, 0.5520685823000396, 0.6335089142402139, 0.5819215454497209, 0.5368011101692512, 0.5819215454497209, 0.6250937173149296, 0.6250937173149296, 0.4895482253187058, 0.5819215454497209, 0.5212969236332861, 0.5368011101692512, 0.5819215454497209, 0.4895482253187058, 0.4895482253187058, 0.5134537461722601, 0.5368011101692512, 0.6390799592896693, 0.4399512841793335, 0.38776553100876343, 0.5596157879354225, 0.5134537461722601, 0.5087181414264259, 0.5015724182855074, 0.5087181414264259, 0.5275274733839221, 0.5520685823000396, 0.5275274733839221, 0.5087181414264259, 0.4089677386593665, 0.2981533723190763, 0.4895482253187058, 0.6166071034376109, 0.5459895362236575, 0.4089677386593665, 0.46505720531040984, 0.4089677386593665, 0.4297297301077955, 0.5368011101692512, 0.40106949663512614, 0.4500694143449183, 0.2501441531327157, 0.5459895362236575, 0.38776553100876343, 0.38776553100876343, 0.2744368457017602, 0.4732877044469254, 0.38776553100876343, 0.4895482253187058, 0.38776553100876343, 0.38776553100876343, 0.4089677386593665, 0.41419878807691896, 0.38776553100876343, 0.36061454194281256, 0.369747025506085, 0.4297297301077955, 0.41419878807691896, 0.32132043160061075, 0.4089677386593665, 0.5994147028972381, 0.4895482253187058], \"coloraxis\": \"coloraxis\", \"symbol\": \"circle\"}, \"name\": \"\", \"showlegend\": false, \"type\": \"splom\"}],                        {\"coloraxis\": {\"colorbar\": {\"title\": {\"text\": \"color\"}}, \"colorscale\": [[0.0, \"#0d0887\"], [0.1111111111111111, \"#46039f\"], [0.2222222222222222, \"#7201a8\"], [0.3333333333333333, \"#9c179e\"], [0.4444444444444444, \"#bd3786\"], [0.5555555555555556, \"#d8576b\"], [0.6666666666666666, \"#ed7953\"], [0.7777777777777778, \"#fb9f3a\"], [0.8888888888888888, \"#fdca26\"], [1.0, \"#f0f921\"]]}, \"dragmode\": \"select\", \"legend\": {\"tracegroupgap\": 0}, \"margin\": {\"t\": 60}, \"template\": {\"data\": {\"bar\": [{\"error_x\": {\"color\": \"#2a3f5f\"}, \"error_y\": {\"color\": \"#2a3f5f\"}, \"marker\": {\"line\": {\"color\": \"#E5ECF6\", \"width\": 0.5}}, \"type\": \"bar\"}], \"barpolar\": [{\"marker\": {\"line\": {\"color\": \"#E5ECF6\", \"width\": 0.5}}, \"type\": \"barpolar\"}], \"carpet\": [{\"aaxis\": {\"endlinecolor\": \"#2a3f5f\", \"gridcolor\": \"white\", \"linecolor\": \"white\", \"minorgridcolor\": \"white\", \"startlinecolor\": \"#2a3f5f\"}, \"baxis\": {\"endlinecolor\": \"#2a3f5f\", \"gridcolor\": \"white\", \"linecolor\": \"white\", \"minorgridcolor\": \"white\", \"startlinecolor\": \"#2a3f5f\"}, \"type\": \"carpet\"}], \"choropleth\": [{\"colorbar\": {\"outlinewidth\": 0, \"ticks\": \"\"}, \"type\": \"choropleth\"}], \"contour\": [{\"colorbar\": {\"outlinewidth\": 0, \"ticks\": \"\"}, \"colorscale\": [[0.0, \"#0d0887\"], [0.1111111111111111, \"#46039f\"], [0.2222222222222222, \"#7201a8\"], [0.3333333333333333, \"#9c179e\"], [0.4444444444444444, \"#bd3786\"], [0.5555555555555556, \"#d8576b\"], [0.6666666666666666, \"#ed7953\"], [0.7777777777777778, \"#fb9f3a\"], [0.8888888888888888, \"#fdca26\"], [1.0, \"#f0f921\"]], \"type\": \"contour\"}], \"contourcarpet\": [{\"colorbar\": {\"outlinewidth\": 0, \"ticks\": \"\"}, \"type\": \"contourcarpet\"}], \"heatmap\": [{\"colorbar\": {\"outlinewidth\": 0, \"ticks\": \"\"}, \"colorscale\": [[0.0, \"#0d0887\"], [0.1111111111111111, \"#46039f\"], [0.2222222222222222, \"#7201a8\"], [0.3333333333333333, \"#9c179e\"], [0.4444444444444444, \"#bd3786\"], [0.5555555555555556, \"#d8576b\"], [0.6666666666666666, \"#ed7953\"], [0.7777777777777778, \"#fb9f3a\"], [0.8888888888888888, \"#fdca26\"], [1.0, \"#f0f921\"]], \"type\": \"heatmap\"}], \"heatmapgl\": [{\"colorbar\": {\"outlinewidth\": 0, \"ticks\": \"\"}, \"colorscale\": [[0.0, \"#0d0887\"], [0.1111111111111111, \"#46039f\"], [0.2222222222222222, \"#7201a8\"], [0.3333333333333333, \"#9c179e\"], [0.4444444444444444, \"#bd3786\"], [0.5555555555555556, \"#d8576b\"], [0.6666666666666666, \"#ed7953\"], [0.7777777777777778, \"#fb9f3a\"], [0.8888888888888888, \"#fdca26\"], [1.0, \"#f0f921\"]], \"type\": \"heatmapgl\"}], \"histogram\": [{\"marker\": {\"colorbar\": {\"outlinewidth\": 0, \"ticks\": \"\"}}, \"type\": \"histogram\"}], \"histogram2d\": [{\"colorbar\": {\"outlinewidth\": 0, \"ticks\": \"\"}, \"colorscale\": [[0.0, \"#0d0887\"], [0.1111111111111111, \"#46039f\"], [0.2222222222222222, \"#7201a8\"], [0.3333333333333333, \"#9c179e\"], [0.4444444444444444, \"#bd3786\"], [0.5555555555555556, \"#d8576b\"], [0.6666666666666666, \"#ed7953\"], [0.7777777777777778, \"#fb9f3a\"], [0.8888888888888888, \"#fdca26\"], [1.0, \"#f0f921\"]], \"type\": \"histogram2d\"}], \"histogram2dcontour\": [{\"colorbar\": {\"outlinewidth\": 0, \"ticks\": \"\"}, \"colorscale\": [[0.0, \"#0d0887\"], [0.1111111111111111, \"#46039f\"], [0.2222222222222222, \"#7201a8\"], [0.3333333333333333, \"#9c179e\"], [0.4444444444444444, \"#bd3786\"], [0.5555555555555556, \"#d8576b\"], [0.6666666666666666, \"#ed7953\"], [0.7777777777777778, \"#fb9f3a\"], [0.8888888888888888, \"#fdca26\"], [1.0, \"#f0f921\"]], \"type\": \"histogram2dcontour\"}], \"mesh3d\": [{\"colorbar\": {\"outlinewidth\": 0, \"ticks\": \"\"}, \"type\": \"mesh3d\"}], \"parcoords\": [{\"line\": {\"colorbar\": {\"outlinewidth\": 0, \"ticks\": \"\"}}, \"type\": \"parcoords\"}], \"pie\": [{\"automargin\": true, \"type\": \"pie\"}], \"scatter\": [{\"marker\": {\"colorbar\": {\"outlinewidth\": 0, \"ticks\": \"\"}}, \"type\": \"scatter\"}], \"scatter3d\": [{\"line\": {\"colorbar\": {\"outlinewidth\": 0, \"ticks\": \"\"}}, \"marker\": {\"colorbar\": {\"outlinewidth\": 0, \"ticks\": \"\"}}, \"type\": \"scatter3d\"}], \"scattercarpet\": [{\"marker\": {\"colorbar\": {\"outlinewidth\": 0, \"ticks\": \"\"}}, \"type\": \"scattercarpet\"}], \"scattergeo\": [{\"marker\": {\"colorbar\": {\"outlinewidth\": 0, \"ticks\": \"\"}}, \"type\": \"scattergeo\"}], \"scattergl\": [{\"marker\": {\"colorbar\": {\"outlinewidth\": 0, \"ticks\": \"\"}}, \"type\": \"scattergl\"}], \"scattermapbox\": [{\"marker\": {\"colorbar\": {\"outlinewidth\": 0, \"ticks\": \"\"}}, \"type\": \"scattermapbox\"}], \"scatterpolar\": [{\"marker\": {\"colorbar\": {\"outlinewidth\": 0, \"ticks\": \"\"}}, \"type\": \"scatterpolar\"}], \"scatterpolargl\": [{\"marker\": {\"colorbar\": {\"outlinewidth\": 0, \"ticks\": \"\"}}, \"type\": \"scatterpolargl\"}], \"scatterternary\": [{\"marker\": {\"colorbar\": {\"outlinewidth\": 0, \"ticks\": \"\"}}, \"type\": \"scatterternary\"}], \"surface\": [{\"colorbar\": {\"outlinewidth\": 0, \"ticks\": \"\"}, \"colorscale\": [[0.0, \"#0d0887\"], [0.1111111111111111, \"#46039f\"], [0.2222222222222222, \"#7201a8\"], [0.3333333333333333, \"#9c179e\"], [0.4444444444444444, \"#bd3786\"], [0.5555555555555556, \"#d8576b\"], [0.6666666666666666, \"#ed7953\"], [0.7777777777777778, \"#fb9f3a\"], [0.8888888888888888, \"#fdca26\"], [1.0, \"#f0f921\"]], \"type\": \"surface\"}], \"table\": [{\"cells\": {\"fill\": {\"color\": \"#EBF0F8\"}, \"line\": {\"color\": \"white\"}}, \"header\": {\"fill\": {\"color\": \"#C8D4E3\"}, \"line\": {\"color\": \"white\"}}, \"type\": \"table\"}]}, \"layout\": {\"annotationdefaults\": {\"arrowcolor\": \"#2a3f5f\", \"arrowhead\": 0, \"arrowwidth\": 1}, \"autotypenumbers\": \"strict\", \"coloraxis\": {\"colorbar\": {\"outlinewidth\": 0, \"ticks\": \"\"}}, \"colorscale\": {\"diverging\": [[0, \"#8e0152\"], [0.1, \"#c51b7d\"], [0.2, \"#de77ae\"], [0.3, \"#f1b6da\"], [0.4, \"#fde0ef\"], [0.5, \"#f7f7f7\"], [0.6, \"#e6f5d0\"], [0.7, \"#b8e186\"], [0.8, \"#7fbc41\"], [0.9, \"#4d9221\"], [1, \"#276419\"]], \"sequential\": [[0.0, \"#0d0887\"], [0.1111111111111111, \"#46039f\"], [0.2222222222222222, \"#7201a8\"], [0.3333333333333333, \"#9c179e\"], [0.4444444444444444, \"#bd3786\"], [0.5555555555555556, \"#d8576b\"], [0.6666666666666666, \"#ed7953\"], [0.7777777777777778, \"#fb9f3a\"], [0.8888888888888888, \"#fdca26\"], [1.0, \"#f0f921\"]], \"sequentialminus\": [[0.0, \"#0d0887\"], [0.1111111111111111, \"#46039f\"], [0.2222222222222222, \"#7201a8\"], [0.3333333333333333, \"#9c179e\"], [0.4444444444444444, \"#bd3786\"], [0.5555555555555556, \"#d8576b\"], [0.6666666666666666, \"#ed7953\"], [0.7777777777777778, \"#fb9f3a\"], [0.8888888888888888, \"#fdca26\"], [1.0, \"#f0f921\"]]}, \"colorway\": [\"#636efa\", \"#EF553B\", \"#00cc96\", \"#ab63fa\", \"#FFA15A\", \"#19d3f3\", \"#FF6692\", \"#B6E880\", \"#FF97FF\", \"#FECB52\"], \"font\": {\"color\": \"#2a3f5f\"}, \"geo\": {\"bgcolor\": \"white\", \"lakecolor\": \"white\", \"landcolor\": \"#E5ECF6\", \"showlakes\": true, \"showland\": true, \"subunitcolor\": \"white\"}, \"hoverlabel\": {\"align\": \"left\"}, \"hovermode\": \"closest\", \"mapbox\": {\"style\": \"light\"}, \"paper_bgcolor\": \"white\", \"plot_bgcolor\": \"#E5ECF6\", \"polar\": {\"angularaxis\": {\"gridcolor\": \"white\", \"linecolor\": \"white\", \"ticks\": \"\"}, \"bgcolor\": \"#E5ECF6\", \"radialaxis\": {\"gridcolor\": \"white\", \"linecolor\": \"white\", \"ticks\": \"\"}}, \"scene\": {\"xaxis\": {\"backgroundcolor\": \"#E5ECF6\", \"gridcolor\": \"white\", \"gridwidth\": 2, \"linecolor\": \"white\", \"showbackground\": true, \"ticks\": \"\", \"zerolinecolor\": \"white\"}, \"yaxis\": {\"backgroundcolor\": \"#E5ECF6\", \"gridcolor\": \"white\", \"gridwidth\": 2, \"linecolor\": \"white\", \"showbackground\": true, \"ticks\": \"\", \"zerolinecolor\": \"white\"}, \"zaxis\": {\"backgroundcolor\": \"#E5ECF6\", \"gridcolor\": \"white\", \"gridwidth\": 2, \"linecolor\": \"white\", \"showbackground\": true, \"ticks\": \"\", \"zerolinecolor\": \"white\"}}, \"shapedefaults\": {\"line\": {\"color\": \"#2a3f5f\"}}, \"ternary\": {\"aaxis\": {\"gridcolor\": \"white\", \"linecolor\": \"white\", \"ticks\": \"\"}, \"baxis\": {\"gridcolor\": \"white\", \"linecolor\": \"white\", \"ticks\": \"\"}, \"bgcolor\": \"#E5ECF6\", \"caxis\": {\"gridcolor\": \"white\", \"linecolor\": \"white\", \"ticks\": \"\"}}, \"title\": {\"x\": 0.05}, \"xaxis\": {\"automargin\": true, \"gridcolor\": \"white\", \"linecolor\": \"white\", \"ticks\": \"\", \"title\": {\"standoff\": 15}, \"zerolinecolor\": \"white\", \"zerolinewidth\": 2}, \"yaxis\": {\"automargin\": true, \"gridcolor\": \"white\", \"linecolor\": \"white\", \"ticks\": \"\", \"title\": {\"standoff\": 15}, \"zerolinecolor\": \"white\", \"zerolinewidth\": 2}}}},                        {\"responsive\": true}                    ).then(function(){\n                            \nvar gd = document.getElementById('732d3b42-0cb7-4ef0-bb24-e10d65a65942');\nvar x = new MutationObserver(function (mutations, observer) {{\n        var display = window.getComputedStyle(gd).display;\n        if (!display || display === 'none') {{\n            console.log([gd, 'removed!']);\n            Plotly.purge(gd);\n            observer.disconnect();\n        }}\n}});\n\n// Listen for the removal of the full notebook cells\nvar notebookContainer = gd.closest('#notebook-container');\nif (notebookContainer) {{\n    x.observe(notebookContainer, {childList: true});\n}}\n\n// Listen for the clearing of the current output cell\nvar outputEl = gd.closest('.output');\nif (outputEl) {{\n    x.observe(outputEl, {childList: true});\n}}\n\n                        })                };                            </script>        </div>\n</body>\n</html>"
          },
          "metadata": {},
          "output_type": "display_data"
        }
      ]
    },
    {
      "cell_type": "code",
      "metadata": {
        "tags": [],
        "cell_id": "00029-05e4be2d-8f36-4045-a964-c08c8d59836d",
        "deepnote_to_be_reexecuted": false,
        "source_hash": "7e40d564",
        "execution_millis": 82,
        "execution_start": 1617722333138,
        "deepnote_cell_type": "code"
      },
      "source": "total_var = pca_app.explained_variance_ratio_.sum() * 100\n\nfig = px.scatter_3d(M, x=0, y=1, z=2, color=df[\"average_mood\"],\ntitle=f\"Total Explained Variance: {total_var:.2f}%\",\nlabels={\n    \"0\": \"PC 1\",\n    \"1\": \"PC 2\",\n    \"2\": \"PC 3\",\n})\nfig.show()",
      "execution_count": null,
      "outputs": [
        {
          "data": {
            "text/html": "<html>\n<head><meta charset=\"utf-8\" /></head>\n<body>\n    <div>            <script src=\"https://cdnjs.cloudflare.com/ajax/libs/mathjax/2.7.5/MathJax.js?config=TeX-AMS-MML_SVG\"></script><script type=\"text/javascript\">if (window.MathJax) {MathJax.Hub.Config({SVG: {font: \"STIX-Web\"}});}</script>                <script type=\"text/javascript\">window.PlotlyConfig = {MathJaxConfig: 'local'};</script>\n        <script src=\"https://cdn.plot.ly/plotly-latest.min.js\"></script>                <div id=\"0311e347-afb7-4991-843c-2407c2f29b0b\" class=\"plotly-graph-div\" style=\"height:525px; width:100%;\"></div>            <script type=\"text/javascript\">                                    window.PLOTLYENV=window.PLOTLYENV || {};                                    if (document.getElementById(\"0311e347-afb7-4991-843c-2407c2f29b0b\")) {                    Plotly.newPlot(                        \"0311e347-afb7-4991-843c-2407c2f29b0b\",                        [{\"hovertemplate\": \"PC 1=%{x}<br>PC 2=%{y}<br>PC 3=%{z}<br>color=%{marker.color}<extra></extra>\", \"legendgroup\": \"\", \"marker\": {\"color\": [0.41419878807691896, 0.41419878807691896, 0.4297297301077955, 0.47000362924573547, 0.38776553100876343, 0.46505720531040984, 0.4500694143449183, 0.4895482253187058, 0.4297297301077955, 0.5819215454497209, 0.5368011101692512, 0.5275274733839221, 0.38776553100876343, 0.4399512841793335, 0.4297297301077955, 0.4089677386593665, 0.47000362924573547, 0.4399512841793335, 0.4399512841793335, 0.4500694143449183, 0.5275274733839221, 0.5275274733839221, 0.4895482253187058, 0.5134537461722601, 0.5819215454497209, 0.5087181414264259, 0.4297297301077955, 0.5087181414264259, 0.4500694143449183, 0.47000362924573547, 0.5641169208162141, 0.5134537461722601, 0.5459895362236575, 0.5275274733839221, 0.5459895362236575, 0.5459895362236575, 0.5087181414264259, 0.5459895362236575, 0.5368011101692512, 0.5459895362236575, 0.4895482253187058, 0.5641169208162141, 0.5819215454497209, 0.5459895362236575, 0.5819215454497209, 0.5168226432383649, 0.46505720531040984, 0.5994147028972381, 0.47000362924573547, 0.5134537461722601, 0.5368011101692512, 0.4399512841793335, 0.41419878807691896, 0.4297297301077955, 0.5596157879354225, 0.5087181414264259, 0.5134537461722601, 0.47000362924573547, 0.5134537461722601, 0.4895482253187058, 0.5087181414264259, 0.5275274733839221, 0.4297297301077955, 0.36061454194281256, 0.4297297301077955, 0.5275274733839221, 0.2125614419836727, 0.47000362924573547, 0.41419878807691896, 0.5134537461722601, 0.5134537461722601, 0.4399512841793335, 0.38776553100876343, 0.5087181414264259, 0.5819215454497209, 0.5134537461722601, 0.4567584024957149, 0.4399512841793335, 0.4399512841793335, 0.3513978868378886, 0.2744368457017602, 0.332705753825736, 0.3513978868378886, 0.332705753825736, 0.4895482253187058, 0.6664789334777838, 0.5641169208162141, 0.5994147028972381, 0.5641169208162141, 0.5641169208162141, 0.6037405928443607, 0.5596157879354225, 0.5819215454497209, 0.6335089142402139, 0.6166071034376109, 0.5275274733839221, 0.5459895362236575, 0.5275274733839221, 0.5641169208162141, 0.5641169208162141, 0.5459895362236575, 0.47000362924573547, 0.5275274733839221, 0.5275274733839221, 0.5641169208162141, 0.5275274733839221, 0.5459895362236575, 0.5520685823000396, 0.5275274733839221, 0.4895482253187058, 0.5459895362236575, 0.5819215454497209, 0.5134537461722601, 0.5368011101692512, 0.5641169208162141, 0.5368011101692512, 0.5275274733839221, 0.5459895362236575, 0.4895482253187058, 0.5275274733839221, 0.5368011101692512, 0.5368011101692512, 0.5459895362236575, 0.4895482253187058, 0.5087181414264259, 0.4895482253187058, 0.5087181414264259, 0.5459895362236575, 0.5596157879354225, 0.5275274733839221, 0.5409881365234679, 0.4089677386593665, 0.4228568508200335, 0.38776553100876343, 0.5368011101692512, 0.46505720531040984, 0.5087181414264259, 0.5134537461722601, 0.1119179162039854, 0.19971329950582384, 0.1119179162039854, 0.31365755885504143, 0.332705753825736, 0.366104034227584, 0.4089677386593665, 0.4297297301077955, 0.4089677386593665, 0.47000362924573547, 0.4895482253187058, 0.4895482253187058, 0.5087181414264259, 0.4895482253187058, 0.5368011101692512, 0.47000362924573547, 0.46505720531040984, 0.46505720531040984, 0.4895482253187058, 0.5087181414264259, 0.4895482253187058, 0.4895482253187058, 0.5368011101692512, 0.4297297301077955, 0.4895482253187058, 0.5087181414264259, 0.4500694143449183, 0.5368011101692512, 0.5087181414264259, 0.5087181414264259, 0.5087181414264259, 0.5087181414264259, 0.5087181414264259, 0.5087181414264259, 0.5087181414264259, 0.5641169208162141, 0.5275274733839221, 0.4895482253187058, 0.47000362924573547, 0.4895482253187058, 0.47000362924573547, 0.4895482253187058, 0.46505720531040984, 0.4895482253187058, 0.4399512841793335, 0.4895482253187058, 0.5819215454497209, 0.4895482253187058, 0.5459895362236575, 0.5641169208162141, 0.5641169208162141, 0.4895482253187058, 0.5596157879354225, 0.47000362924573547, 0.5087181414264259, 0.4895482253187058, 0.4895482253187058, 0.4895482253187058, 0.4089677386593665, 0.4500694143449183, 0.5275274733839221, 0.5459895362236575, 0.5641169208162141, 0.5994147028972381, 0.4399512841793335, 0.5134537461722601, 0.4895482253187058, 0.5459895362236575, 0.47000362924573547, 0.41419878807691896, 0.47000362924573547, 0.5994147028972381, 0.4895482253187058, 0.4500694143449183, 0.4895482253187058, 0.5596157879354225, 0.4297297301077955, 0.5368011101692512, 0.5087181414264259, 0.46505720531040984, 0.5134537461722601, 0.47000362924573547, 0.5819215454497209, 0.5087181414264259, 0.41419878807691896, 0.5459895362236575, 0.47562688680009757, 0.4732877044469254, 0.3039956479433046, 0.4895482253187058, 0.38776553100876343, 0.5596157879354225, 0.5819215454497209, 0.5520685823000396, 0.4500694143449183, 0.47000362924573547, 0.6037405928443607, 0.4895482253187058, 0.4089677386593665, 0.19105523676270902, 0.4500694143449183, 0.332705753825736, 0.4089677386593665, 0.4399512841793335, 0.38776553100876343, 0.46505720531040984, 0.32132043160061075, 0.47000362924573547, 0.4297297301077955, 0.4089677386593665, 0.07598590697792205, 0.4297297301077955, 0.4399512841793335, 0.4089677386593665, 0.38776553100876343, 0.24397763821705162, 0.11895194286136529, 0.2981533723190763, 0.4895482253187058, 0.0, 0.4500694143449183, 0.38776553100876343, 0.38776553100876343, 0.3439629083503705, 0.05129329438755048, 0.32132043160061075, 0.38776553100876343, 0.46505720531040984, 0.2744368457017602, 0.2744368457017602, 0.2744368457017602, 0.4089677386593665, 0.3513978868378886, 0.5819215454497209, 0.38776553100876343, 0.5087181414264259, 0.5275274733839221, 0.4895482253187058, 0.5087181414264259, 0.47000362924573547, 0.4500694143449183, 0.4895482253187058, 0.4500694143449183, 0.5275274733839221, 0.4297297301077955, 0.4895482253187058, 0.32132043160061075, 0.4297297301077955, 0.4895482253187058, 0.4297297301077955, 0.4500694143449183, 0.4297297301077955, 0.5087181414264259, 0.47000362924573547, 0.5087181414264259, 0.4399512841793335, 0.4228568508200335, 0.41419878807691896, 0.5055485666651469, 0.47000362924573547, 0.5459895362236575, 0.5087181414264259, 0.4500694143449183, 0.4895482253187058, 0.5368011101692512, 0.5275274733839221, 0.5459895362236575, 0.4895482253187058, 0.4399512841793335, 0.41419878807691896, 0.5459895362236575, 0.5459895362236575, 0.4895482253187058, 0.5459895362236575, 0.4500694143449183, 0.4297297301077955, 0.4500694143449183, 0.4089677386593665, 0.38776553100876343, 0.5641169208162141, 0.4297297301077955, 0.4297297301077955, 0.38776553100876343, 0.3439629083503705, 0.4567584024957149, 0.4228568508200335, 0.38776553100876343, 0.38776553100876343, 0.366104034227584, 0.36061454194281256, 0.4567584024957149, 0.4895482253187058, 0.5087181414264259, 0.5275274733839221, 0.47000362924573547, 0.46505720531040984, 0.4895482253187058, 0.46505720531040984, 0.5134537461722601, 0.4089677386593665, 0.5596157879354225, 0.5641169208162141, 0.6037405928443607, 0.5819215454497209, 0.5596157879354225, 0.4895482253187058, 0.5459895362236575, 0.4089677386593665, 0.5459895362236575, 0.5134537461722601, 0.5368011101692512, 0.47000362924573547, 0.4089677386593665, 0.5087181414264259, 0.4399512841793335, 0.38776553100876343, 0.47000362924573547, 0.4895482253187058, 0.38776553100876343, 0.366104034227584, 0.38776553100876343, 0.332705753825736, 0.4895482253187058, 0.4500694143449183, 0.5819215454497209, 0.41419878807691896, 0.4399512841793335, 0.4500694143449183, 0.4228568508200335, 0.5087181414264259, 0.5134537461722601, 0.5819215454497209, 0.41419878807691896, 0.4500694143449183, 0.46505720531040984, 0.4895482253187058, 0.5368011101692512, 0.5459895362236575, 0.5596157879354225, 0.4500694143449183, 0.42715793271942404, 0.46505720531040984, 0.46505720531040984, 0.366104034227584, 0.4297297301077955, 0.4297297301077955, 0.38776553100876343, 0.32132043160061075, 0.4399512841793335, 0.4089677386593665, 0.41419878807691896, 0.4297297301077955, 0.41419878807691896, 0.3039956479433046, 0.4297297301077955, 0.4500694143449183, 0.47000362924573547, 0.3439629083503705, 0.4500694143449183, 0.47000362924573547, 0.4895482253187058, 0.47000362924573547, 0.4500694143449183, 0.366104034227584, 0.4297297301077955, 0.38776553100876343, 0.4399512841793335, 0.366104034227584, 0.4500694143449183, 0.3439629083503705, 0.4895482253187058, 0.38776553100876343, 0.4500694143449183, 0.38776553100876343, 0.41419878807691896, 0.4089677386593665, 0.332705753825736, 0.3439629083503705, 0.2501441531327157, 0.4089677386593665, 0.5641169208162141, 0.4895482253187058, 0.4297297301077955, 0.4500694143449183, 0.4895482253187058, 0.5641169208162141, 0.4297297301077955, 0.4297297301077955, 0.6166071034376109, 0.5275274733839221, 0.6501297954762545, 0.5459895362236575, 0.6166071034376109, 0.5275274733839221, 0.5459895362236575, 0.5087181414264259, 0.4089677386593665, 0.4895482253187058, 0.5368011101692512, 0.5275274733839221, 0.5459895362236575, 0.5641169208162141, 0.47000362924573547, 0.41419878807691896, 0.5275274733839221, 0.5994147028972381, 0.5641169208162141, 0.5459895362236575, 0.47000362924573547, 0.47000362924573547, 0.4500694143449183, 0.47000362924573547, 0.38776553100876343, 0.38776553100876343, 0.4297297301077955, 0.07598590697792205, 0.5087181414264259, 0.4500694143449183, 0.5275274733839221, 0.36061454194281256, 0.5275274733839221, 0.5520685823000396, 0.5596157879354225, 0.6501297954762545, 0.5819215454497209, 0.5965203448708735, 0.6250937173149296, 0.5671064596645803, 0.6109090823229731, 0.5819215454497209, 0.5134537461722601, 0.5134537461722601, 0.4297297301077955, 0.366104034227584, 0.38776553100876343, 0.4399512841793335, 0.36061454194281256, 0.4895482253187058, 0.4500694143449183, 0.4089677386593665, 0.5819215454497209, 0.4399512841793335, 0.46505720531040984, 0.4089677386593665, 0.4895482253187058, 0.5212969236332861, 0.5368011101692512, 0.5275274733839221, 0.5275274733839221, 0.4895482253187058, 0.47000362924573547, 0.5819215454497209, 0.4567584024957149, 0.5596157879354225, 0.5368011101692512, 0.38776553100876343, 0.38776553100876343, 0.4089677386593665, 0.4399512841793335, 0.46505720531040984, 0.5368011101692512, 0.4895482253187058, 0.4895482253187058, 0.4895482253187058, 0.5212969236332861, 0.5819215454497209, 0.5819215454497209, 0.5275274733839221, 0.38776553100876343, 0.4567584024957149, 0.47000362924573547, 0.47000362924573547, 0.46150900525431265, 0.46505720531040984, 0.4054651081081644, 0.4297297301077955, 0.5087181414264259, 0.5275274733839221, 0.4895482253187058, 0.4895482253187058, 0.4895482253187058, 0.4895482253187058, 0.4895482253187058, 0.4895482253187058, 0.5087181414264259, 0.4895482253187058, 0.5087181414264259, 0.4895482253187058, 0.5275274733839221, 0.5087181414264259, 0.5087181414264259, 0.5087181414264259, 0.5087181414264259, 0.5087181414264259, 0.5641169208162141, 0.4089677386593665, 0.47000362924573547, 0.47000362924573547, 0.4895482253187058, 0.5087181414264259, 0.4895482253187058, 0.5275274733839221, 0.4895482253187058, 0.4895482253187058, 0.4895482253187058, 0.4895482253187058, 0.4297297301077955, 0.38776553100876343, 0.4895482253187058, 0.4895482253187058, 0.5087181414264259, 0.4895482253187058, 0.4895482253187058, 0.4895482253187058, 0.4895482253187058, 0.4089677386593665, 0.4895482253187058, 0.4895482253187058, 0.4895482253187058, 0.38776553100876343, 0.4500694143449183, 0.4895482253187058, 0.47000362924573547, 0.4895482253187058, 0.4895482253187058, 0.5368011101692512, 0.5275274733839221, 0.4297297301077955, 0.4500694143449183, 0.5087181414264259, 0.4500694143449183, 0.4297297301077955, 0.3513978868378886, 0.47000362924573547, 0.4399512841793335, 0.4895482253187058, 0.4297297301077955, 0.38776553100876343, 0.3439629083503705, 0.38776553100876343, 0.4399512841793335, 0.38776553100876343, 0.32132043160061075, 0.38776553100876343, 0.366104034227584, 0.4297297301077955, 0.41419878807691896, 0.4089677386593665, 0.4895482253187058, 0.46505720531040984, 0.4895482253187058, 0.4297297301077955, 0.5087181414264259, 0.4500694143449183, 0.4895482253187058, 0.4895482253187058, 0.4297297301077955, 0.4895482253187058, 0.4500694143449183, 0.5134537461722601, 0.4895482253187058, 0.47000362924573547, 0.5087181414264259, 0.4895482253187058, 0.5134537461722601, 0.4500694143449183, 0.5134537461722601, 0.32132043160061075, 0.5087181414264259, 0.46505720531040984, 0.5087181414264259, 0.5819215454497209, 0.4895482253187058, 0.4895482253187058, 0.4895482253187058, 0.5212969236332861, 0.5087181414264259, 0.5819215454497209, 0.5134537461722601, 0.5368011101692512, 0.5459895362236575, 0.5087181414264259, 0.5212969236332861, 0.4089677386593665, 0.4297297301077955, 0.5134537461722601, 0.548273511331488, 0.5275274733839221, 0.5275274733839221, 0.4895482253187058, 0.5368011101692512, 0.5087181414264259, 0.5087181414264259, 0.5087181414264259, 0.47000362924573547, 0.5819215454497209, 0.5134537461722601, 0.5275274733839221, 0.5368011101692512, 0.5087181414264259, 0.4895482253187058, 0.4895482253187058, 0.5134537461722601, 0.4895482253187058, 0.4895482253187058, 0.4895482253187058, 0.46505720531040984, 0.5087181414264259, 0.5087181414264259, 0.5087181414264259, 0.4895482253187058, 0.4895482253187058, 0.5087181414264259, 0.4895482253187058, 0.4895482253187058, 0.4895482253187058, 0.5087181414264259, 0.5275274733839221, 0.4500694143449183, 0.5134537461722601, 0.5087181414264259, 0.5087181414264259, 0.5819215454497209, 0.5087181414264259, 0.46505720531040984, 0.4895482253187058, 0.4895482253187058, 0.5819215454497209, 0.4895482253187058, 0.43428554664365626, 0.4500694143449183, 0.4895482253187058, 0.38776553100876343, 0.332705753825736, 0.38776553100876343, 0.4500694143449183, 0.4500694143449183, 0.5275274733839221, 0.4895482253187058, 0.5087181414264259, 0.4297297301077955, 0.5459895362236575, 0.4500694143449183, 0.4895482253187058, 0.5819215454497209, 0.5134537461722601, 0.4500694143449183, 0.47000362924573547, 0.5087181414264259, 0.46505720531040984, 0.47000362924573547, 0.5087181414264259, 0.5087181414264259, 0.4895482253187058, 0.4297297301077955, 0.47000362924573547, 0.47000362924573547, 0.47000362924573547, 0.47000362924573547, 0.5459895362236575, 0.4297297301077955, 0.47000362924573547, 0.38776553100876343, 0.4500694143449183, 0.5134537461722601, 0.5596157879354225, 0.4228568508200335, 0.4297297301077955, 0.5087181414264259, 0.4895482253187058, 0.47000362924573547, 0.5641169208162141, 0.5275274733839221, 0.4500694143449183, 0.4895482253187058, 0.4895482253187058, 0.5368011101692512, 0.5459895362236575, 0.47000362924573547, 0.38776553100876343, 0.47000362924573547, 0.4895482253187058, 0.41419878807691896, 0.5275274733839221, 0.5368011101692512, 0.4895482253187058, 0.41419878807691896, 0.4399512841793335, 0.4567584024957149, 0.4895482253187058, 0.4895482253187058, 0.4895482253187058, 0.47000362924573547, 0.5134537461722601, 0.5596157879354225, 0.4895482253187058, 0.5368011101692512, 0.47000362924573547, 0.47000362924573547, 0.47000362924573547, 0.47000362924573547, 0.5087181414264259, 0.4297297301077955, 0.46505720531040984, 0.5368011101692512, 0.5459895362236575, 0.5275274733839221, 0.4297297301077955, 0.4895482253187058, 0.4895482253187058, 0.4895482253187058, 0.4895482253187058, 0.47000362924573547, 0.47000362924573547, 0.5134537461722601, 0.4895482253187058, 0.4895482253187058, 0.5087181414264259, 0.46505720531040984, 0.5212969236332861, 0.4895482253187058, 0.4895482253187058, 0.366104034227584, 0.4089677386593665, 0.4895482253187058, 0.4895482253187058, 0.4895482253187058, 0.5134537461722601, 0.4895482253187058, 0.5368011101692512, 0.5368011101692512, 0.4895482253187058, 0.4895482253187058, 0.4895482253187058, 0.4399512841793335, 0.4895482253187058, 0.36061454194281256, 0.4500694143449183, 0.5087181414264259, 0.4895482253187058, 0.4895482253187058, 0.5596157879354225, 0.5108256237659906, 0.5275274733839221, 0.5275274733839221, 0.5459895362236575, 0.5596157879354225, 0.5596157879354225, 0.5087181414264259, 0.4089677386593665, 0.4895482253187058, 0.5275274733839221, 0.5641169208162141, 0.5368011101692512, 0.4895482253187058, 0.5459895362236575, 0.5275274733839221, 0.6250937173149296, 0.5459895362236575, 0.5275274733839221, 0.46505720531040984, 0.4895482253187058, 0.5134537461722601, 0.5641169208162141, 0.5368011101692512, 0.5087181414264259, 0.5368011101692512, 0.47000362924573547, 0.4089677386593665, 0.5459895362236575, 0.4895482253187058, 0.47000362924573547, 0.38776553100876343, 0.4228568508200335, 0.5275274733839221, 0.4895482253187058, 0.4732877044469254, 0.5368011101692512, 0.4525830310852342, 0.4895482253187058, 0.5275274733839221, 0.4895482253187058, 0.5134537461722601, 0.4895482253187058, 0.5368011101692512, 0.2981533723190763, 0.4297297301077955, 0.4895482253187058, 0.5459895362236575, 0.5087181414264259, 0.5275274733839221, 0.4895482253187058, 0.4089677386593665, 0.4500694143449183, 0.47000362924573547, 0.5087181414264259, 0.4895482253187058, 0.4895482253187058, 0.4089677386593665, 0.4500694143449183, 0.4895482253187058, 0.5275274733839221, 0.4895482253187058, 0.4732877044469254, 0.46505720531040984, 0.5641169208162141, 0.4895482253187058, 0.4895482253187058, 0.5368011101692512, 0.5819215454497209, 0.5134537461722601, 0.5275274733839221, 0.4399512841793335, 0.5596157879354225, 0.4895482253187058, 0.4500694143449183, 0.4297297301077955, 0.4399512841793335, 0.5087181414264259, 0.4399512841793335, 0.41419878807691896, 0.5368011101692512, 0.47000362924573547, 0.5275274733839221, 0.6037405928443607, 0.4399512841793335, 0.38776553100876343, 0.41419878807691896, 0.4895482253187058, 0.5275274733839221, 0.5087181414264259, 0.38776553100876343, 0.4089677386593665, 0.4895482253187058, 0.4399512841793335, 0.4297297301077955, 0.5087181414264259, 0.46505720531040984, 0.5134537461722601, 0.4895482253187058, 0.4500694143449183, 0.4297297301077955, 0.4089677386593665, 0.5819215454497209, 0.5994147028972381, 0.5087181414264259, 0.4895482253187058, 0.4500694143449183, 0.4297297301077955, 0.47000362924573547, 0.46505720531040984, 0.5819215454497209, 0.46505720531040984, 0.46505720531040984, 0.4297297301077955, 0.4297297301077955, 0.4500694143449183, 0.4500694143449183, 0.5596157879354225, 0.4895482253187058, 0.5275274733839221, 0.47000362924573547, 0.47000362924573547, 0.38776553100876343, 0.5087181414264259, 0.5819215454497209, 0.5819215454497209, 0.4297297301077955, 0.5134537461722601, 0.4089677386593665, 0.366104034227584, 0.4500694143449183, 0.5819215454497209, 0.5641169208162141, 0.5819215454497209, 0.4500694143449183, 0.4089677386593665, 0.47000362924573547, 0.5087181414264259, 0.5641169208162141, 0.5275274733839221, 0.4567584024957149, 0.4500694143449183, 0.47000362924573547, 0.5819215454497209, 0.4089677386593665, 0.4297297301077955, 0.4895482253187058, 0.38776553100876343, 0.4297297301077955, 0.5275274733839221, 0.5275274733839221, 0.5087181414264259, 0.5275274733839221, 0.5459895362236575, 0.4895482253187058, 0.4500694143449183, 0.4089677386593665, 0.5459895362236575, 0.5819215454497209, 0.5087181414264259, 0.366104034227584, 0.32132043160061075, 0.5275274733839221, 0.47982367542671095, 0.4895482253187058, 0.5275274733839221, 0.4895482253187058, 0.5459895362236575, 0.5459895362236575, 0.4895482253187058, 0.5275274733839221, 0.366104034227584, 0.4895482253187058, 0.6460004021342433, 0.5459895362236575, 0.5087181414264259, 0.5641169208162141, 0.5459895362236575, 0.6335089142402139, 0.5368011101692512, 0.5087181414264259, 0.47000362924573547, 0.5641169208162141, 0.5819215454497209, 0.5459895362236575, 0.5459895362236575, 0.6931471805599453, 0.5819215454497209, 0.5641169208162141, 0.5087181414264259, 0.4500694143449183, 0.5459895362236575, 0.5087181414264259, 0.4297297301077955, 0.5275274733839221, 0.5596157879354225, 0.4895482253187058, 0.4297297301077955, 0.4500694143449183, 0.4895482253187058, 0.5641169208162141, 0.47000362924573547, 0.5368011101692512, 0.46505720531040984, 0.5368011101692512, 0.47000362924573547, 0.5819215454497209, 0.36061454194281256, 0.5459895362236575, 0.5087181414264259, 0.5819215454497209, 0.5641169208162141, 0.4895482253187058, 0.4895482253187058, 0.5275274733839221, 0.5641169208162141, 0.5087181414264259, 0.47000362924573547, 0.47000362924573547, 0.4089677386593665, 0.5641169208162141, 0.366104034227584, 0.46505720531040984, 0.5641169208162141, 0.5819215454497209, 0.5134537461722601, 0.4895482253187058, 0.5819215454497209, 0.4895482253187058, 0.5819215454497209, 0.5134537461722601, 0.5368011101692512, 0.4895482253187058, 0.4089677386593665, 0.4297297301077955, 0.47000362924573547, 0.5275274733839221, 0.47000362924573547, 0.4500694143449183, 0.5671064596645803, 0.5134537461722601, 0.5819215454497209, 0.5994147028972381, 0.5596157879354225, 0.5087181414264259, 0.5641169208162141, 0.5459895362236575, 0.6335089142402139, 0.5087181414264259, 0.6037405928443607, 0.5994147028972381, 0.5819215454497209, 0.6037405928443607, 0.5641169208162141, 0.5459895362236575, 0.5819215454497209, 0.4895482253187058, 0.5368011101692512, 0.5087181414264259, 0.4297297301077955, 0.5459895362236575, 0.5641169208162141, 0.5368011101692512, 0.38776553100876343, 0.4399512841793335, 0.4895482253187058, 0.5459895362236575, 0.5641169208162141, 0.5520685823000396, 0.5819215454497209, 0.548273511331488, 0.5641169208162141, 0.5275274733839221, 0.4895482253187058, 0.4895482253187058, 0.5459895362236575, 0.5994147028972381, 0.5459895362236575, 0.4500694143449183, 0.5641169208162141, 0.5459895362236575, 0.5641169208162141, 0.5641169208162141, 0.5819215454497209, 0.47000362924573547, 0.5596157879354225, 0.5641169208162141, 0.6166071034376109, 0.5459895362236575, 0.5459895362236575, 0.5641169208162141, 0.5459895362236575, 0.5819215454497209, 0.5641169208162141, 0.5819215454497209, 0.5819215454497209, 0.5459895362236575, 0.5641169208162141, 0.5596157879354225, 0.5994147028972381, 0.5520685823000396, 0.5641169208162141, 0.5087181414264259, 0.5596157879354225, 0.5459895362236575, 0.6166071034376109, 0.5459895362236575, 0.5275274733839221, 0.5641169208162141, 0.5596157879354225, 0.5641169208162141, 0.5819215454497209, 0.5459895362236575, 0.5994147028972381, 0.5368011101692512, 0.5641169208162141, 0.5641169208162141, 0.5819215454497209, 0.5819215454497209, 0.5641169208162141, 0.5994147028972381, 0.5819215454497209, 0.5641169208162141, 0.5641169208162141, 0.5212969236332861, 0.4500694143449183, 0.47000362924573547, 0.5275274733839221, 0.4500694143449183, 0.4500694143449183, 0.4895482253187058, 0.4895482253187058, 0.5087181414264259, 0.5641169208162141, 0.4895482253187058, 0.47000362924573547, 0.4089677386593665, 0.4895482253187058, 0.46505720531040984, 0.4895482253187058, 0.47000362924573547, 0.5641169208162141, 0.5819215454497209, 0.4297297301077955, 0.4895482253187058, 0.4895482253187058, 0.4399512841793335, 0.4895482253187058, 0.4895482253187058, 0.5275274733839221, 0.47000362924573547, 0.4895482253187058, 0.4895482253187058, 0.4895482253187058, 0.4895482253187058, 0.5275274733839221, 0.5087181414264259, 0.47737768969845035, 0.4895482253187058, 0.4895482253187058, 0.5212969236332861, 0.4895482253187058, 0.4895482253187058, 0.4895482253187058, 0.4895482253187058, 0.5368011101692512, 0.4895482253187058, 0.5819215454497209, 0.5819215454497209, 0.6166071034376109, 0.5459895362236575, 0.4895482253187058, 0.5641169208162141, 0.5212969236332861, 0.6037405928443607, 0.5520685823000396, 0.6335089142402139, 0.5819215454497209, 0.5368011101692512, 0.5819215454497209, 0.6250937173149296, 0.6250937173149296, 0.4895482253187058, 0.5819215454497209, 0.5212969236332861, 0.5368011101692512, 0.5819215454497209, 0.4895482253187058, 0.4895482253187058, 0.5134537461722601, 0.5368011101692512, 0.6390799592896693, 0.4399512841793335, 0.38776553100876343, 0.5596157879354225, 0.5134537461722601, 0.5087181414264259, 0.5015724182855074, 0.5087181414264259, 0.5275274733839221, 0.5520685823000396, 0.5275274733839221, 0.5087181414264259, 0.4089677386593665, 0.2981533723190763, 0.4895482253187058, 0.6166071034376109, 0.5459895362236575, 0.4089677386593665, 0.46505720531040984, 0.4089677386593665, 0.4297297301077955, 0.5368011101692512, 0.40106949663512614, 0.4500694143449183, 0.2501441531327157, 0.5459895362236575, 0.38776553100876343, 0.38776553100876343, 0.2744368457017602, 0.4732877044469254, 0.38776553100876343, 0.4895482253187058, 0.38776553100876343, 0.38776553100876343, 0.4089677386593665, 0.41419878807691896, 0.38776553100876343, 0.36061454194281256, 0.369747025506085, 0.4297297301077955, 0.41419878807691896, 0.32132043160061075, 0.4089677386593665, 0.5994147028972381, 0.4895482253187058], \"coloraxis\": \"coloraxis\", \"symbol\": \"circle\"}, \"mode\": \"markers\", \"name\": \"\", \"scene\": \"scene\", \"showlegend\": false, \"type\": \"scatter3d\", \"x\": [-0.06557844418997344, 0.11222110341789279, -0.06543900241432228, -0.0627049308440738, -0.06535759157031859, -0.06413687308300035, -0.06607969244833364, 0.3286052238209669, 0.07885140689527934, -0.06769062171441335, -0.06691201869688, 0.21527985013074513, -0.0334937943867971, 0.05612182872974328, 0.05720323195225359, -0.065626189394274, -0.06494512753917883, 0.11162532670740419, -0.03295667804753282, -0.03573039279306186, 0.05308985097109998, -0.06560670082265138, -0.0676758202099836, -0.06609082295186312, -0.06685975891149608, 0.18189952190545491, -0.06460266696895214, -0.0652620854370844, 0.21489662870198575, -0.036121965597317174, -0.03579751632121986, -0.005343195149098144, -0.005278897203564311, -0.005751517116168923, -0.036178404532412375, -0.0345617430165502, 0.003515415682612256, -0.06612319071531632, -0.06796398089873643, -0.06566473800716449, -0.06846772375179257, 0.10646874008415828, -0.06808519963705816, -0.068804574830884, -0.06620096894123315, 0.055358247616271936, 0.051045252503490915, 0.3337221879430742, 0.0837057480527488, 0.21241951680501364, 0.21600362011234134, 0.526460275513085, 0.16390444096950196, 0.08042800845158304, 0.13552998173197478, 0.08152257277950971, 0.025835439749807485, 0.1606405123871129, 0.05480066696673492, 0.2200737663613441, 0.30778753640232626, -0.0029972086353536142, -0.00039542015591406064, -0.0027761727811786907, 0.08092815394220558, 0.1957119287791263, 0.10989325779759239, -0.0011087591259896993, 0.21747701766967137, 0.2604612852961229, -0.03132268761934076, 0.1412956862634283, 0.10839525220224963, -0.03861183361937638, 0.17811186917514563, 0.3078858534151974, 0.35034080877501383, 0.2124583053359247, 0.028426127393819948, -0.029460223032592107, 0.19085637911726824, 0.16504378867225175, 0.35470620597222563, -0.06800696176253715, -0.07370945072090423, 0.08479274186323606, 0.1599006709193094, -0.03764046794509886, 0.022901762130219643, 0.10510921091036224, -0.03809994471997152, 0.02155952993245033, -0.07214932890603348, -0.07181350131380887, 0.052201318237808325, 0.024101575203233985, -0.006523130369832483, -0.007666757852189345, -0.06998782814485587, -0.06883239940179045, -0.06675677999455364, -0.06819087760555761, 0.18549929657300263, -0.06997480997694457, -0.06882046660919744, -0.06901369407683904, -0.06929317561549438, 0.15994077316674268, -0.041359356842378264, -0.06731753600473545, 0.13263688370443913, -0.005650671561159106, 0.0519694596273373, 0.10728930086457833, 0.06170210477186691, 0.023369467610406383, -0.06882874864379201, -0.06686685819505035, -0.06852270335581225, -0.06799357489742057, -0.06640154841377963, -0.06817627642591949, -0.06717070150676585, -0.06738846090056366, -0.06727970283220512, -0.0676093014063088, 0.18475869833397487, 0.20893580221358635, 0.08028243310260463, 0.05146993981579072, 0.1392257225466848, 0.029746352711684215, -0.06254256565415238, -0.06838063936824874, -0.06460239910421625, -0.06662324524499352, -0.037989928843668815, -0.05467342332827315, -0.05727525780385214, -0.02911484315850756, -0.05662495303370978, -0.057894285452651, -0.058169554071201154, 0.3520828865680238, -0.032395468790092856, 0.02747654754799187, 0.05496674498158548, -0.0672831160649294, -0.06572999979755344, -0.06734142974050357, -0.06619711200511812, 0.08146824039323254, -0.035015716192911876, -0.003005949794755578, -0.034272738739554484, -0.03528237950605171, -0.03413938956854962, -0.06604471473142297, -0.06542162002289896, -0.06725684915712574, -0.06351884684074839, -0.0669078686640133, -0.06664042838252947, -0.06505770486028456, -0.06742825833959104, 0.326771375665264, -0.06744844710246854, -0.06706275900619706, -0.066819608746534, -0.0520928168246874, -0.06705200657380582, -0.06672612787303836, 0.10709794085786618, -0.06807646882863387, -0.06625583951121221, -0.06568654591004303, -0.06595198137015212, -0.06581568235892014, -0.06607473355456812, -0.045583787986887475, 0.05479560943795714, -0.06469758794844017, -0.06654143163523517, -0.0692336492248273, 0.08229516902180453, -0.0680723341555868, -0.06896017514656196, -0.06884466511754479, -0.004653506940780361, -0.03753192322998252, 0.02686080577919624, 0.05397481096469416, -0.06628027417351513, -0.06575378838531055, 0.054222026217075, -0.032014150616419275, 0.026888777549995406, 0.053501925230077525, -0.03631836604258207, -0.06898531714937424, -0.0700405603618074, -0.06523158157639988, 0.025212007428157723, -0.004409237312095776, 0.08086454185098904, -0.0338172225185024, -0.032220627399493426, 0.026118904398761324, -0.06966028084693472, -0.06643703361748743, 0.08356450702410924, 0.11002816370779804, 0.05255813726456649, 0.08437564474019764, 0.023908484289751314, -0.06704630839904578, -0.06573575837362426, -0.06704411264877268, 0.26048271879898727, -0.03779937933698912, -0.004805374040263163, -0.06348963328118572, -0.0684764327149002, -0.06589257737994704, -0.06560610403598283, -0.018249026479792967, -0.06619962513428217, -0.0634450458794879, -0.06863698748434968, -0.07001454237290528, 0.1846403425078083, 0.05566163272055639, 0.19063418416609443, -0.007906580765991605, -0.06634665603652197, -0.03755155847283834, 0.03772367657110025, 0.08748605652201735, 0.04786240780154884, 0.2848924954812284, 0.08417531202094831, 0.15291295009450237, 0.19884764218433837, -0.0541574643943559, -0.0653893997382956, 0.02787340585963421, 0.004845117542071362, -0.044250980173945166, -0.06265483882371106, 0.16428523883290094, 0.08465210704725938, -0.06346299706900714, -0.057393677851769055, 0.06668208654892084, -0.02837545203862487, -0.06467968797366515, -0.05130946737508494, -0.06417071054102283, -0.062400591342227286, -0.06282929377706808, 0.11534151491194772, 0.04009655229343646, -0.06095855115926259, -0.061580401182371555, 0.18294222654709824, 0.20099980355393238, -0.059206954854777935, -0.058415538632909325, -0.062458644401890175, -0.06024638652165418, -0.07024435117904775, -0.06472649848686061, -0.06862480948424983, -0.022719367624257466, -0.06800696176253715, -0.06862480948424983, -0.06737703807963609, -0.05146959596658913, -0.06800696176253715, -0.06673455695497219, -0.03926018597844701, -0.04256994810389434, -0.06732159790197899, -0.058924503173403836, -0.05866105885725752, -0.0669015980654222, -0.06481993101696523, -0.05696935064575713, -0.06430256049857071, -0.0628730679212783, -0.06638417051772841, -0.0678872043478712, -0.051768573477088776, -0.05400558264367315, -0.050416224664693525, -0.04302563627296221, -0.06648555937637672, -0.0693940322337205, -0.06778437260375353, -0.06517047163358208, -0.06480106116687864, -0.06837417849075127, -0.06769016234339785, -0.06867361924295272, -0.06730189964736712, -0.06485755646018021, -0.0646608740471591, -0.0678372886977769, -0.0682954438324021, -0.06740356257068907, -0.0654243381634192, -0.06582518079810086, -0.06453986297431559, -0.06403591639162327, -0.06422252430645257, -0.06396794903905018, -0.06993160484870556, -0.06446010904157243, -0.06534162207552065, -0.06299349959451557, -0.06229254800588803, -0.06618300968495786, -0.0647536102956467, -0.0540266440875156, -0.06393678321621689, -0.062099717253896985, -0.06344037380230784, -0.06587399388097433, -0.06438275436022525, -0.05795867019326248, -0.06886378544605824, -0.06559446075456565, -0.06652545743667884, -0.06656327486756294, -0.06559848366698524, -0.06728550348593705, -0.06397585250692496, 0.051513691452454186, 0.022583682033954732, -0.03880498550331006, 0.051272850834450975, 0.08003276023956998, -0.004060715927240395, 0.0235593707592089, 0.08513563111153083, -0.006700017398360906, 0.02431643982623891, -0.06773095852082624, -0.0660312841377269, -0.06401576884669813, -0.0667771168008177, -0.06526124477165823, 0.11273967773570197, -0.06613489011045136, -0.06719263815388339, -0.06330670106675045, -0.03134599940359931, 0.059059665705465995, -0.06218606406940921, -0.0667956454165906, 0.0014344520851311024, -0.07026165539703509, -0.06391271052923465, -0.06444097270572309, 0.05461155266155211, 0.3287705239083599, -0.004679869672737043, -0.06784007142751397, -0.07012814300856825, -0.06557844418997344, -0.06673455695497219, -0.06721761449416537, -0.06800696176253715, -0.06952992550871148, -0.06982606911580604, -0.07026524415070393, -0.06673455695497219, -0.06599611831789998, 0.11238575330323822, 0.18909135782652736, 0.08694114834113478, -0.033433889349961485, -0.0329605107799018, -0.0008209079368600946, 0.03179953172747168, 0.02736832090784009, 0.17960088586320605, -0.06474746238856188, -0.06499365418330944, -0.06454650017174311, -0.060678005598830555, -0.06408564228408774, -0.06563057145174081, -0.06653946458635278, -0.061862590753792926, 0.21346461230944921, -0.034552315868445024, 0.10981343917534796, 0.026355907380075046, -0.06499559163065079, -0.06294282866391597, -0.06445190097557857, -0.06292362394112955, 0.13781873662881552, 0.00012799871103588484, 0.11063405394565347, -0.030956325121498745, 0.024977248158298167, 0.11250622807239265, -0.03380662714054904, -0.000962860215565271, 0.056415335429959856, -0.06320739153107338, -0.061024406317595634, 0.031275259025927385, -0.05887745281555067, -0.06202679474420156, -0.06841228860714571, -0.057104258343461514, -0.06432145236991747, -0.06508680402224962, -0.06679625989302114, -0.06533951669945261, -0.06343515663001897, -0.06466068225839475, -0.069333612405536, -0.06755373832327877, -0.0717207905471976, -0.06853567461723618, -0.07069386412071868, -0.05052998291371502, -0.06809362484359736, -0.06740950682736532, -0.06373441998654086, -0.06653248303701566, 0.15990006668093415, -0.06750340990201266, -0.0671863604703013, -0.04565544388214638, -0.06558293628848318, -0.06365665963808245, -0.06760370970160258, 0.1339311846230867, -0.006813915880647913, 0.05266322727086245, -0.033836998162468976, -0.03501025758380735, -0.0444038425051291, -0.06591909396053278, -0.06381624205036204, 0.11285294845710166, -0.002959942577713943, -0.052361691525486566, -0.06817121752718272, -0.06536250545331677, -0.0674637199935234, -0.06154767372900215, -0.05661071343233815, 0.10678431545226687, -0.06936807249476978, -0.07215104371720998, -0.06939113268334143, -0.0699168057361154, -0.07082178638759164, -0.06921494861511925, -0.07066477414431128, -0.06974428323295233, -0.06709347969701927, -0.06877743835266555, 0.1877292896526861, -0.062059587649528146, -0.06271471975719656, -0.06443917326539662, -0.06168125335328545, 0.21681050088211587, -0.03352180732931656, -0.03132076704986865, -0.037085030917015226, -0.03324896931896957, -0.03463888071787657, -0.06360803364020806, -0.06750334570054643, -0.0677814223075877, -0.06819648440483406, -0.0685529816085326, -0.06546640178394661, -0.05620240829962362, -0.0666348237709614, -0.07014692524989616, -0.06604262952269595, -0.0695088952925452, -0.06877449489217823, -0.0632539047136394, -0.06281741059965995, -0.06491668282644424, -0.06574788985723655, -0.06648590036735344, -0.05367980847985838, -0.06548777357302493, 0.18868347233313312, -0.06716954806679776, -0.0685285062393189, -0.07027789142736333, -0.0699861928169108, -0.06815058869215024, -0.06442145771363202, -0.06664252082193095, -0.06711134454454917, -0.0666093223415994, -0.06655005098695654, 0.0829718520724899, 0.16481752809189865, -0.034465323435186955, 0.15997334598848634, 0.13733787980410364, 0.08088887492356338, 0.08646849009292983, -0.06719901135182497, -0.06653270894624165, -0.054233132270503595, -0.06752861177928665, 0.11099701430102621, 0.13873020272886308, 0.25719659908934733, 0.16455789582686656, 0.20936565735883525, 0.08287471046049247, 0.29948591927926893, -0.0259105028197042, 0.13792171204119058, -0.00637032600145257, -0.006566456200678501, 0.05543491182772471, 0.0872198096324571, 0.057860228760826006, -0.036393277672162334, 0.052219949449004134, -0.034626185337394956, -0.036388190299490863, 0.09484225107660008, 0.4470498720106658, -0.0312005979143533, -0.06800696176253715, -0.06266930304672477, -0.06209727508682973, -0.06634849719226768, -0.06744224358809334, -0.06862480948424983, -0.06187874871105874, 0.10817133248452729, -0.06591610377062788, -0.03733352046465051, 0.1890380732600349, 0.025419574443397756, -0.062167873462245886, -0.05767102341618481, 0.06443853931979904, -0.06673455695497219, -0.06800696176253715, 0.05346772085361787, 0.02676392976653272, -0.036338883469758415, -0.06952992550871148, 0.08080011996929286, -0.05463929831340483, -0.06100337144779913, -0.06812245880119899, -0.06477828863594434, -0.06485610653587404, -0.0635543668004844, 0.13587617468511498, -0.0035267943296935027, 0.0464330388049294, -0.06488742634194085, -0.06375534488430472, -0.05307271613277027, -0.05945456339509539, -0.06640844892008718, -0.0638557539187162, 0.19171282587714086, 0.056867528957614204, -0.019908324007837024, -0.06524418998795624, -0.06508085168585107, -0.06330634340664729, 0.23614920415292778, -0.06649367057033781, -0.06691333342401848, -0.05168369911734763, 0.18518348769399803, -0.034778019804265675, -0.06693263773980465, -0.06676363666674942, 0.13665412465992394, -0.03619841256124066, 0.05473385454444683, -0.023356168442831893, -0.004604866019616133, -0.06671085823047654, -0.05005738329698679, -0.06564834139165507, -0.06877743835266555, -0.06422076639597908, -0.06276166795512614, 0.1947881302991112, 0.027050043585501313, -0.04216280933951623, -0.06770432154096333, 0.18352514396976735, 0.17038380669624995, 0.13570419225890842, 0.02653761791094722, 0.13441623773062103, -0.06862480948424983, 0.23140681648378564, -0.037163754262290724, -0.06952992550871148, -0.06982606911580604, -0.06862480948424983, -0.06903022450457423, -0.06540984710552925, -0.06607900752556177, -0.06877743835266555, -0.06989968179146366, -0.06479320388616663, -0.06541957437780457, -0.0656743650156304, -0.0686209907149483, -0.06727962880283797, -0.0676093506681561, -0.06516608555601204, 0.18839919826309912, -0.07016370803437233, -0.06790818920255955, -0.06797840330933717, 0.2581261017692148, -0.03626350783774053, -0.010242002091673417, -0.03329867990738618, -0.060245837843221774, -0.06695625609575188, -0.06674792044570539, -0.06687280558788826, -0.06652212797414543, -0.06730230337215362, -0.06813888170603688, -0.06797660092694004, -0.06691547732241875, -0.0674424377893302, -0.0598893964635044, -0.06472270397742715, -0.06722020000462427, -0.06685237993833433, -0.06807125041865741, -0.0682702121791033, -0.06521933571466125, -0.06658326143067672, 0.25841288867787976, -0.03610481973123359, -0.05797056265376861, -0.06469321639967889, -0.06424888356174546, -0.06686636965729392, -0.06717105588539812, -0.0689726002944403, -0.06674902502650926, 0.08375860155810594, 0.03545017706303066, 0.1362875804690301, 0.05717205810088705, 0.08788589646832794, 0.262838442342075, 0.11110258535349544, 0.18214157808367176, 0.16286938746868176, 0.21174878632634397, 0.08118699333647741, 0.11237834146544863, -0.036397389724105035, 0.026301794522829738, -0.004291213911540835, 0.2323032092603502, 0.23462625662240394, 0.16285518413863379, 0.236302192942376, 0.17419876245609064, 0.16313934771554475, 0.05421879285493043, 0.10852223938584453, 0.10842627805834397, 0.10903714936035619, 0.32838442741391116, 0.05487248308785438, 0.0571372821190662, -0.03382058379658084, 0.026545957763537912, 0.10733983113010585, 0.05558683859261067, 0.11457302529635086, 0.13935102347041553, 0.05583492203186825, 0.0815340915303292, 0.1080090016870699, 0.11106372407279738, 0.05685283835450418, 0.0546189356768074, 0.10940175998073519, 0.25991478351762237, -0.006488335164125867, 0.185441075738678, -0.06431099999788253, -0.06520413500496341, -0.06769403093060171, -0.06952992550871148, -0.0691925787903471, -0.05051165888107518, -0.06300276866383893, -0.06672623966383312, -0.06749728875123674, -0.06469927783048444, -0.0686756105378688, -0.06936991754392519, -0.059429634879320827, -0.0584971714869142, -0.06640844892008718, -0.06592631360507614, -0.06800696176253715, -0.06718635845807772, 0.18624549340890692, -0.055232592526119284, -0.06463416585662234, -0.06560557594345667, -0.058103710117299416, -0.06817576654026224, 0.08176726044779198, -0.06574481929757048, -0.06737703807963609, -0.06737703807963609, -0.06801645979322538, -0.05489902675432811, -0.06623966023612275, -0.06952137431823577, -0.06861019772396032, -0.06878054086051173, -0.060728067465585914, -0.0547595799964817, -0.06755346566468366, 0.16117092477553516, -0.06711031602078327, -0.06609359102095376, -0.06671269998164209, -0.06788854654717331, -0.06800696176253715, -0.06800696176253715, -0.06862480948424983, -0.06721761449416537, -0.06903022450457423, -0.06793109064601263, -0.0669601776786915, -0.06247065666497959, -0.06464426387382403, -0.06688756155408364, -0.06662962567379158, -0.0659963052832823, -0.06768626452339149, -0.06710685635503265, 0.1597241974374981, -0.06808817479427233, -0.06676680476247318, 0.05381497328358804, -0.03541185057255669, -0.03219260760075674, -0.03551842174365864, 0.08607960846983839, -0.06579188437070257, -0.06715883965022645, -0.06668448259951253, -0.0666045950819446, -0.06814322800934318, -0.0676125431652266, 0.16039742348571923, -0.06811725226296703, -0.06797049188717263, -0.06900454966617878, -0.0694674593685948, -0.067789407213717, -0.06433135232644334, 0.16214591359650718, -0.005082649467934631, -0.03658141500562103, -0.036824370220684785, -0.004524725780861346, 0.02000877131742519, -0.005809422508150348, -0.009240306122625034, 0.11418487483329522, 0.026181652128886845, 0.09079247268858114, 0.09170092736358618, 0.35089275672468867, -0.03686142351172731, -0.06326034343359951, -0.0649934819612028, 0.2591256520010797, 0.026557110965589426, 0.23987215162272352, 0.19167942509369407, -0.06704158050141897, -0.06531319755411959, 0.21611942133394324, 0.11226803821593523, -0.0660910209034028, -0.06558746347142726, -0.06481986247610431, -0.06504425738883932, -0.06530203452021109, -0.06542225905852428, 0.18664141771815349, -0.0036339575838452705, -0.06587182296731393, -0.0661919678546331, 0.1615453386597261, 0.0024747767758039043, 0.16354787523831343, 0.19021140254245422, 0.023458312622943282, -0.03497154745429295, 0.06714456011105782, -0.03198423102158365, -0.061901584635639564, -0.060555637262124096, 0.11030360752143743, -0.06590173757977139, -0.06690224817718926, 0.05402603782581047, -0.025050317344235663, 0.028945756634513497, -0.06620572271254264, -0.06780335024684819, -0.06592848426332742, -0.06573578852050077, 0.5257626398159418, -0.036189606353023075, -0.008051388250816948, -0.034325516673122544, 0.2338559832890437, -0.06955833656482094, -0.067674262507436, 0.11430772058208026, -0.0597454434460798, -0.0650316901710412, 0.2754633050119639, 0.027281614604023067, 0.058758391777483925, 0.16454981805635813, -0.00012083113062802681, 0.11222575674443698, 0.02935251580697229, 0.05468332331729266, 0.11115125582545869, 0.024922866872528558, 0.10685931632752045, 0.1898854693621918, 0.05808726581717321, 0.1394118693338591, -0.0035428231237880515, 0.11076782369730842, -0.03532597029987326, 0.3217340183404595, 0.23655030786924314, 0.08311905408579401, 0.43210493474910555, 0.2384210684370331, 0.028513964455821734, 0.026527326503071352, -0.06641134851024719, -0.06112153700300144, -0.06673455695497219, -0.06607900752556177, -0.06540984710552925, -0.0709841602577877, 0.29954248384203586, -0.06862480948424983, -0.06800696176253715, -0.06673455695497219, -0.05701877253747936, -0.06737703807963609, -0.06721761449416537, 0.10519413398927674, -0.06721761449416537, -0.06721761449416537, -0.06607900752556177, -0.06607900752556177, -0.06673455695497219, -0.06673455695497219, -0.07026524415070393, -0.06800696176253715, -0.06812088418827127, -0.06577227566409136, -0.04160940497714062, -0.0636292325440056, -0.06731204863612983, -0.06947438545566488, -0.06943760955557021, -0.06473673579589645, -0.06725309435732953, -0.06408960075549688, 0.3728647172245389, -0.002876541721590225, -0.037935777672555744, 0.02301684459512248, 0.05211847069367244, -0.06512278517611676, -0.06416539557778445, -0.0656227435217212, -0.06729090438660076, -0.06841581849148376, -0.06785896885358354, -0.06529691615478019, -0.06583562636088457, -0.06633496194623895, -0.06977427273749913, 0.1941540392628251, -0.06464435046183348, -0.06656713448732289, -0.06356232325047598, -0.06431878422803096, -0.066689478351886, 0.16067559889872984, 0.024759103378593526, -0.00530756457365601, -0.06838171270510066, -0.06625644745138894, 0.13729191682246353, -0.03263789234551067, -0.006094770729059007, -0.007473358581066449, -0.03568535289585232, -0.06272766090549058, -0.06015164143040759, -0.06774306945207995, -0.06769353884708523, -0.03303958661364504, 0.0350023671360681, -0.03243787744575707, -0.06822004609934193, -0.06648749641200245, -0.06581095494538794, -0.06738260197376135, -0.06219509328173952, 0.053803539124138225, 0.035870006394997475, -0.06837680585637297, -0.06761909696583203, -0.06848393467047154, -0.0677850906943366, 0.04963423285479857, -0.0683385434012667, -0.0654886198881995, 0.18842435396009122, -0.03269263787734151, 0.10702855803774994, -0.03633283177984255, 0.10785954236844111, 0.04765713498986133, 0.3859908921967177, 0.08064760515926761, 0.053575534948370446, 0.026563107894318483, -0.03617358322550331, -0.03439059078426628, -0.032786653146133334, -0.06746065490898384, -0.06794982566578903, 0.026081960615860246, -0.032343166457860326, 0.08359386837674551, -0.004110388374872366, 0.05241812953815977, -0.002937722892308636, -0.06788069875723023, -0.06721761449416537, -0.06872423123030139, 0.05463708632834861, -0.06947731964519387, -0.0623774262019919, -0.06783633264943546, -0.06680190819002284, -0.06950982017939494, -0.06881639526720625, -0.06667069485343376, -0.06671654235214698, -0.06771398303099962, -0.06879043682698999, -0.06747108626346728, -0.06537233206678494, -0.0656991838718078, -0.06403389649227802, -0.0686470531534195, -0.06274400196954401, -0.06521996591685895, -0.0691255515139587, -0.0702416733444147, -0.06773374783105386, -0.06624556376687674, -0.06927149699084979, -0.06611454390937149, -0.06995788138642989, -0.06791683439148549, -0.06796055370566002, -0.06655457494845697, -0.0651074520199591, -0.06544847103766734, -0.06605544218277308, 0.4470517449071752, -0.06624988703797689, -0.06545367095606666, -0.06950611488053875, -0.0675906777942294, -0.06991994576199352, -0.070130183419296, -0.059980388626767765, -0.06686711873030321, -0.06881568258069234, -0.06826037675451391, -0.07058057072379606, -0.06716619393631647, -0.0695191689776389, -0.07007802882389728, -0.06974350198851399, -0.07014130446826487, -0.03899052104908112, 0.09182134091470466, 0.0033861307806858894, -0.03220777240702211, -0.06806859279341013, -0.06661765450625196, -0.06476228913938147, 0.08076112957933927, -0.06652909833876268, -0.06137256036328578, -0.0608836138840598, -0.06518778649475246, -0.06686881939798422, -0.06862733367700093, -0.05806070432685567, -0.06786014152067353, -0.06429508006786051, 0.17544604663721344, -0.06963038476210798, 0.21083887303172857, -0.03336384666498408, -0.06573188053300436, -0.06740163864782478, -0.023495159689955147, -0.06793996006576539, -0.06673455695497219, -0.00637713328412965, -0.06827879540137889, -0.06646434024003527, -0.06732170057132335, -0.06824784535577026, 0.08408118506081172, 0.32491223921559215, -0.005493322816434742, -0.007735844124888821, -0.0038006588890959533, -0.06691395848096575, -0.06773346482001245, -0.06808986611822362, -0.06896408975883966, 0.2803517988627187, 0.022616209634197755, -0.0691053097407317, -0.06766179408306458, -0.06709919820953325, -0.06725923348892933, -0.03935337275533254, -0.0682751527516242, -0.06724825271826532, -0.06415390016681911, -0.06844476495209195, -0.06774132346578905, 0.30202956981605594, -0.06739913790925232, -0.0669355033922213, -0.0671910878583109, -0.06815014288241729, -0.0666300418212684, -0.06560362904334624, -0.0664124784520542, -0.06937596215744439, -0.06717740672756917, -0.06865923480213036, 0.13505114145733751, -0.03708966011513213, -0.05382098214318139, -0.06692713449799179, 0.15902779213787432, 0.022986771889124683, -0.005651555071898649, -0.06869637543668955, -0.06903022450457423, -0.03394053710801355, 0.025656128626045896, -0.0062264736080699075, 0.08369321591489894, -0.0247391654692112, -0.03494907189722496, -0.035378623990916486, -0.03579053946854826, 0.005035151127370237, 0.21198636921013744, 0.08309204375339095, -0.05748137491413225, -0.06672040400376522, 0.11007279419028544, 0.025204609068202898, -0.03496538647961377, 0.05260152488327256, -0.07021498796997638, -0.06517147744774467, -0.05695300697970331, -0.06618255691636923, 0.11100744500738675, -0.03463594238120073, 0.2356212662653315, 0.34620339749771495, -0.0038862624252166945, -0.019887601399132596, -0.0047902924727155705, -0.06693540418452432, -0.05101288099502554, -0.06773788582199039, -0.06765295599522704, -0.06717068970429207, -0.06779830999493493, -0.06800696176253715, -0.06903022450457423, -0.06800696176253715, -0.06800696176253715, -0.06800696176253715, -0.06800696176253715, -0.06952992550871148, 0.054240901366274914, 0.10032226612578359, -0.004736513966582011, -0.03868420707665902, 0.081839325832159, -0.017018086458193787, 0.23343270633740903, -0.034883818107390246, 0.32280733816845103, -0.005363808084576894, 0.12823957276468856, 0.08005589084355721, 0.10869330535068483, 0.023157684485239877, 0.15777348013695747, 0.13274856608510666, 0.05419448988614366, 0.023007876645271524, 0.18681596671673054, 0.21025439383419353, 0.13440668112257953, 0.08270626811462309, 0.11092762490909293, 0.18703659868379738, 0.2106270314848071, -0.007309115663006759, -0.031242010411556765, 0.057959435223495365, 0.2807879100412306, 0.18635486237051654, 0.10964753810393571, -0.06584282087947001, 0.08189194814107253, -0.0055857872490590686, 0.02467803260631333, -0.0640487852842766, -0.06598819711561724, -0.06287964465621422, 0.1938371389672136, -0.03501741957390839, 0.09001400022855766, 0.6261683603231444, 0.3916785432675208, 0.05617905534236011, 0.010675772280509338, 0.027419352398690745, -0.036449368228846944, 0.2387912864689144, -0.034623729711788266, -0.057754333421263536, -0.0673280502914805, -0.06396993553754247, -0.06321253534616322, 0.2903386237831659, -0.06333674275733236, -0.06335593637289294, 0.16242306536656714, 0.23930370232068524, -0.06351821664187927, -0.062180356104331355, -0.06414198184283337, -0.06109686409132695, -0.06115023244881178, 0.16619968077953598, -0.06437719196881272, -0.063859264053288, 0.04799182047215667, 0.22132713089652528, -0.0330558839864354, 0.21428696838744754, 0.0838257272286755], \"y\": [0.0663743746294433, 0.03793822817450609, 0.010761274573406115, 0.08766695632746314, 0.01569858599809858, 0.028364036913191643, -0.007146491848848362, 0.025924034101137288, -0.10101933861306318, -0.05150556689000287, -0.043708019211170394, 0.07206563217546302, 0.038236909978962993, 0.04253963055267376, 0.061143271153513014, 0.011252676038492745, 0.03979962181526457, 0.028805362539129138, 0.027261934839253488, -0.044769170800834174, -0.04933485494994841, -0.008367392675056316, -0.02836161038431646, -0.09936554454573113, -0.025256627268920775, 0.10606662883465187, -0.015014318386627113, 0.030397432896081693, -0.008994124783730583, -0.07986910810656377, -0.0307442544866497, -0.06433201109819958, -0.046217728607198395, -0.06369863815199366, -0.062387242004829764, -0.028103763748951308, -0.02668605820552477, -0.05149310479175104, -0.060345500863294266, -0.007575911742178392, -0.07708289067972286, -0.10330058986899696, -0.05956768667687894, -0.09442919231473343, -0.03449231300055714, 0.00854849450718514, -0.11728407825634231, 0.017128251701916664, -0.027806472709708773, -0.05720042780715294, 0.03264651923348357, 0.039977391486156984, 0.03595258596008181, -0.08172617047125497, -0.03658255782045876, -0.03768514033255351, 0.0065195786603320476, -0.041208274593496054, -0.014675761550474006, -0.003399321336459739, -0.04419976153136684, 0.046716543456861784, 0.11075369327322535, 0.046325155808066364, -0.050712448164077946, 0.23855461444611184, 0.0018716106957191293, 0.05885158256928042, -0.016287054936951043, -0.037847537891319956, 0.048152820954128844, 0.08726744672640477, -0.03390304854097723, -0.09386183827504181, 0.02904582129133216, 0.011934393946835898, 0.027588977400549768, 0.025031677386128503, 0.11976485812046266, 0.1953744771926503, 0.127747784904434, 0.1117291160157144, 0.22107879868538377, -0.004175566367888069, -0.16983640576054884, -0.06662283666989666, -0.11168270434946367, -0.07795469279469146, -0.08182415178557817, -0.12258038411965327, -0.07264182508144845, -0.09709855299710408, -0.1398703922570644, -0.12366557024293721, -0.04791129839469701, -0.06596987821194894, -0.04422127761542985, -0.07854488491606947, -0.07476214010108466, -0.05882722192615881, 0.012997122312708331, -0.041625595385495616, -0.05633977252753219, -0.0747857936058695, -0.040481656652215675, -0.05844044379440735, -0.06403783521168725, -0.05422393605593227, 0.09377017341382955, -0.06155399951790743, -0.1042029309623202, -0.03180505297153747, -0.05671603021990586, -0.08712134717813919, -0.02067350074986527, -0.04627242049533839, -0.05883385521145461, -0.006092923561701378, -0.041022680902838775, -0.05121009663542923, -0.05410274683820534, -0.060007293452305537, -0.0056950187283150095, -0.02437082299864442, -0.005496967559333405, -0.023969564388760054, -0.07336138102497439, -0.08761801077110798, -0.04961581672694092, -0.05997394507279018, 0.05614368386597133, 0.04900455840158509, 0.08715580443451013, -0.05050681554586598, 0.014003716468394812, -0.02576119008361287, 0.08455515292472073, 0.3472888151757243, 0.2646717571925982, 0.4472132705739365, 0.16411750985855186, 0.1474734688868222, 0.11474686536573324, 0.041261708551910234, 0.046704836569996924, 0.06421601908676229, 0.0042924460480678935, -0.005490765848222779, -0.008092789270472467, -0.024234045438958008, -0.007003365042639414, -0.06074018116913157, 0.010906186594052543, 0.011563800094249004, 0.014477245901626487, -0.008053516867435655, -0.029170647116796216, -0.007190183158145793, -0.008768242205552952, -0.052382823608605626, 0.048022509155046966, -0.005996365017934238, -0.025409780401542306, 0.029884803039866046, -0.05172749919270327, -0.04925770953451949, -0.02396214634587105, -0.02466083189736836, -0.025150462623583822, 0.038670054521629714, -0.024756580648240517, -0.025339506631865075, -0.08655569060931864, -0.041699899695242265, -0.007224085299661179, 0.011462346101451243, -0.0068134168652246, 0.011584566644971817, -0.006984029175373744, 0.09341314056120029, -0.01468555014485227, 0.03915365482792046, -0.00665784230159119, -0.0936357219876992, -0.015079693382746557, -0.06001348106003296, -0.07624300719806132, -0.07666926448175045, -0.009410676880216023, -0.07339009081743642, 0.004911777180416418, -0.032121938084121324, -0.0070815560479346295, -0.007845650438161876, -0.01320606037614808, 0.06676533450719425, 0.024665822156624488, -0.05004120985942287, -0.061835116119936764, -0.07623817002486565, -0.10947409251326926, 0.04043221804523116, -0.03524906376382043, -0.01009952928662134, -0.06870589770096623, 0.008972084436676128, 0.0616164775699099, 0.006206714615623691, -0.11033746574551101, -0.00662997090266, 0.021873176384929305, -0.01772605571987619, -0.08004581111329179, 0.04047228463632356, -0.05596994955736116, -0.024713329276170076, 0.016298172187743307, -0.02949533916981999, -0.00821599160495771, -0.09509095533974418, -0.028113323494407094, 0.06325318116528708, -0.05926038143548529, 0.006388436784360468, 0.007930259632066054, 0.34145609021794837, -0.007184055011915507, 0.0891948848316274, -0.07223819279233554, -0.09220611684769203, -0.07873649545068928, 0.023654819086642995, 0.11464957637780619, -0.1168893934521968, -0.006511694653760903, 0.17782451841118174, 0.2768680346567873, 0.0292322567177883, 0.20570452504249084, 0.04832474003326526, 0.030817479894193686, 0.13136909980004768, 0.04829539318433824, 0.17934253251162116, 0.011710313403127571, 0.043221871358161267, 0.09410079866384644, 0.41884279596063906, 0.059793038060958766, 0.02556968201107372, 0.060937983644564465, 0.08916742055139487, 0.22173512260469092, 0.3327976669611153, 0.17032398830943382, -0.009535348272951313, 0.45279620050268954, 0.02902900070130856, 0.08731617351059744, 0.08775019100952995, 0.11786873196974762, 0.3973091270140095, 0.15099849414224317, 0.08571869316498609, 0.18936244288011372, 0.20837915082825012, 0.19409263628697104, 0.19270451308594638, 0.06640971098787526, 0.11946195184863269, -0.09154209835738827, 0.09112392545278311, -0.022124425706858963, 0.15156438835958044, -0.004175566367888069, -0.022124425706858963, 0.01412410712987291, 0.09557256814327023, -0.004175566367888069, 0.032788582095597596, 0.07300667238416605, 0.14493677585729858, -0.005263550715388856, 0.14688858993340848, 0.040388265970874956, -0.00607471452746099, 0.04985849425107712, 0.06899426681387819, 0.04871183684652329, -0.032411905079485145, 0.012635772968620911, -0.023271257605628246, 0.08207087997672485, 0.10315756184907614, 0.11778148068332392, 0.08101255218338663, 0.01265263487079903, -0.057588004116192075, -0.023561323647606963, 0.030226675699243744, -0.009918489239279885, -0.05039682013783497, -0.042282173058041474, -0.05898508966761425, -0.005328451554706896, 0.039567206299305505, 0.0648184868848767, -0.06013396351934094, -0.05973365201448728, -0.005133622389719362, -0.06485901676805146, 0.03164880928043606, 0.049197879376227015, 0.028066261084097845, 0.0692665019954574, 0.08985033010681456, -0.07465481790141015, 0.049096382895673654, 0.0515255624693078, 0.08810165134003331, 0.1304528429034768, 0.02524290876976174, 0.0564617767951535, 0.07185845469248123, 0.08983596169108735, 0.10815331685295337, 0.11599816866939865, 0.024819924989998216, -0.010634753988400462, -0.041312963176014066, -0.04023133893756831, 0.011042851166040805, 0.017764954282300068, -0.006798689307364368, 0.01607784543625689, -0.02918966809404861, 0.06888340471111877, -0.0784965446143083, -0.08112067975661663, -0.11489950697862891, -0.10018018563683691, -0.08081428558545621, -0.010717930864193512, -0.06494066812728899, 0.05967142488327439, -0.062120710319371, -0.033690592998609555, -0.050979731982560096, 0.011914589197739614, 0.06901986613328204, -0.02522183104554821, 0.04025234057384701, 0.078482805760874, 0.012036944257150992, -0.005655160693675008, 0.08854420876001173, 0.23893838377822418, 0.09265791764270284, 0.14128506002614166, -0.006376481057268669, 0.045969929632969496, -0.09189514457612996, 0.06342689882932541, 0.039812421163239874, 0.024769654860724483, 0.032266083031999834, -0.02873581761045326, -0.028261548200159827, -0.09222037836293945, 0.0663743746294433, 0.032788582095597596, 0.01875546111948797, -0.004175566367888069, -0.04841860732733544, -0.05702176270216018, -0.06978006972434835, 0.032788582095597596, 0.05424068228386066, 0.0025886172883977437, -0.0004469718076542226, 0.09909908111487774, 0.04838068184481698, 0.04757595717220505, 0.08491218138483893, 0.14379117929552487, 0.03395052992083316, 0.11888318845179144, 0.065137203971954, 0.05036569400880705, 0.06490257410373644, 0.16735377295391904, 0.04847836263879765, 0.031121459984967816, 0.012937951429666516, 0.12979217127715767, 0.013496086990727433, 0.010373077347859205, -0.017293095800238585, 0.005768914318586186, 0.029952963071122767, 0.10970488677028846, 0.049117838511330336, 0.08811617410837652, 0.02794673680296141, 0.10459982040052185, 0.02057673860467587, 0.12919183227718803, -0.011066992102535447, 0.0792085390744905, 0.029091930114884392, 0.08509055402231332, 0.057548301090698285, 0.06770976162378872, 0.1396792246933681, 0.122426286568887, 0.2176681691508866, 0.0657632600669348, -0.07688497663395036, 0.02989727359550844, 0.04876166379071975, 0.029959397377158574, -0.006190984550107263, -0.0831257946372546, 0.04710875380046188, 0.04943494714167348, -0.12812725915063458, -0.04261664352837564, -0.15696935398269873, -0.0592512206089583, -0.12557286676107146, 0.02861988283533782, -0.05997893031476004, -0.024097985083892375, 0.06833238043676333, -0.006786007779493339, -0.06320137841340219, -0.041790713221983466, -0.06164695895086735, 0.016764220488999875, 0.010942768404106655, 0.06300175620032891, -0.04257845945439903, -0.12371065986878088, -0.0800181757794766, -0.06704194984040267, 0.008794249074080863, 0.011004627464673152, 0.11719942846271207, 0.011542980835572985, 0.08952167113259471, 0.07847250805033013, 0.046709599308329165, 0.3789621036924499, -0.022900426269960437, 0.030414925616258297, -0.042837975271608035, 0.11242024828688742, 0.003697118979993613, -0.0741435417133545, -0.07126777467776482, -0.1561766880141412, -0.09342066671353788, -0.10687541751266535, -0.133696391421058, -0.07905117535019443, -0.11992251243225527, -0.09271648938621795, -0.029462574990163602, -0.026558388953767012, 0.036903897377299114, 0.10801345926175185, 0.08762063475146857, 0.03884182230635096, 0.11276686319176395, -0.004433828058787963, 0.02818673576549052, 0.0651213674160994, -0.09645380433671714, 0.03829315204293775, 0.015142511636035635, 0.06799839946184294, -0.004950164351403688, -0.03601582110766472, -0.050640148466036095, -0.040967666495244914, -0.04648992145338759, -0.025544705317948235, 0.012968494874670704, -0.09218625176093624, 0.02493339513059197, -0.07102744341964227, -0.049695221800250995, 0.08844827983979475, 0.08767761326807753, 0.0703761641365056, 0.04114084610652805, 0.017425965009312684, 0.01330217295302466, -0.008752833330531876, -0.024262386676129854, -0.005270238753222105, -0.034752002801661026, -0.09194829131008946, -0.09247829634037343, -0.0416987987742175, 0.090569678231646, 0.026729078932186286, 0.013641352310124075, 0.012820823983006555, 0.02107250165343111, 0.007647051328870574, 0.05835067599939048, 0.04997320767825322, -0.03557038727442137, -0.058629739172110326, -0.012933500978126563, -0.023071444735298777, -0.005643580840885194, -0.0068542263976179634, -0.02920207885530243, -0.005044709683194611, -0.0387438520004153, -0.023375338823966956, -0.04128898164349746, -0.024828871406200617, -0.0562612429712434, -0.03494872819249168, 0.13264478017811318, 0.00957305024027192, -0.04091653167086822, -0.025786184878043412, -0.08003856022690367, 0.06416423190899058, 0.022597226827458558, 0.013021502245239958, -0.006035058105295967, -0.029232418249045804, -0.009245796150808151, -0.04206716993404261, 0.0154401244045276, -0.03447079940554411, -0.01523422420713969, -0.004175566367888069, 0.045637398989780184, 0.08648387960634223, -0.007188931990120352, -0.005201637327512038, -0.022124425706858963, -0.01458443380310696, -0.014538233418223283, -0.007974574020348986, 0.10719767494271677, 0.05518125195805046, -0.012213187925546572, -0.01478496271237408, -0.022955564352017437, 0.06889830979463632, 0.032788582095597596, -0.004175566367888069, 0.007016114587686069, -0.01459457961197047, -0.005999089181862218, -0.04841860732733544, -0.05055643362954135, 0.09734345903650031, 0.05018803899820421, -0.023037177360253847, 0.03014843042344454, 0.049610735879159346, 0.1251750775832768, 0.0014057859356148335, 0.0377308285788756, 0.07444674844740623, 0.049942561495327796, 0.08971066302150969, 0.16739288867823757, 0.09646678663132631, 0.042262222673625095, 0.08954181643795771, 0.13762031128784713, 0.08265454116668507, 0.29050022774834494, 0.050385768091083694, 0.06547342001548301, 0.0674951279403854, -0.025006010159632972, 0.017527243215649555, -0.006028569843091344, 0.10440569681636128, -0.03705322774522097, 0.030306139682003238, -0.005808479419687129, -0.006315851734176026, 0.039908097932327184, -0.006188963198030835, 0.02457223364596565, 0.02520221111992115, -0.00972689659773901, 0.012975037852367323, 0.046544131071241675, 0.005525315840059399, -0.026558388953767012, 0.028365341973357914, -0.009467168458189746, 0.1459953714945809, -0.020260747874218082, 0.11962775881719355, -0.023796916499669907, -0.10686753289680578, 0.018673452008173066, -0.017821454333005467, -0.014244629422501511, -0.047122677817211855, -0.022124425706858963, -0.10845142489797438, -0.028417880691174912, -0.04841860732733544, -0.05702176270216018, -0.022124425706858963, -0.03390198337679361, 0.07127222445117742, 0.05183269941566112, -0.026558388953767012, -0.0591602565648251, -0.047494185963846434, -0.046406643720726226, -0.008190107757808793, -0.04978092628767482, -0.024331368691670463, -0.023831208645053486, -0.02828382111540619, -0.004223333242144592, -0.09197909480653099, -0.027655937636471242, -0.04144799177495923, -0.07069812149473992, -0.025108962507504898, 0.0930145882699168, 0.002500556559366311, -0.00105746028847491, -0.005852348740032451, -0.006023266553689735, -0.006107884969523263, 0.017742431167397352, -0.024165923224065713, -0.02295742854473834, -0.02327040323999079, -0.0058668821978107065, -0.005157925736990165, 0.003050478820242195, 0.003996172462735827, -0.0053750539058279746, -0.006234520719529793, -0.023041659588711936, -0.04125885697661672, 0.030156129936335017, -0.030352299275611224, -0.04334187140666682, -0.02536863966329339, -0.047538020320069777, -0.015191524563286407, 0.013844089900812854, -0.006132969341766418, -0.005452963357534868, -0.09402268634398288, -0.0063485159754798895, 0.037441113733811544, 0.008859539301409142, -0.018782258117707628, 0.0823925826188994, 0.13039015411995716, 0.06879143921864286, 0.01953291152589634, 0.20474517062200548, -0.04552067110100952, -0.023021378874454306, -0.032546635159438335, 0.03732907853386943, -0.06217903031224821, 0.025494449213545732, -0.010492386063765286, -0.10989046827751985, -0.04595446222533509, 0.017540948020226637, -0.005694958543618642, 0.017138349955294143, 0.0021138161153557997, 0.005700364350190951, -0.034202808741816366, -0.033793448308406665, -0.016045765132837866, 0.026462463847475252, 0.004505403110811566, 0.0005191251301747154, 0.00894621349432829, 0.0051844377199415335, -0.0690709085574909, 0.043315448734546756, 0.0046024088962970085, 0.07679348701571616, 0.022686209040288646, -0.0378885830428173, -0.08383889081322668, 0.046555269251911, 0.0410883897808761, -0.033467667302124825, -0.016690370121298967, -0.007313808726193075, -0.0805541670391767, -0.056233987535922104, 0.028424483463894576, -0.009268193577267136, -0.0045386936658349366, -0.04841860732733544, -0.05815969629860481, 0.07400019553402765, 0.08818926964059082, 0.013147071961079516, -0.004913934327543035, 0.06483422138680768, -0.04074485449999509, -0.048709335576231375, 0.021246697257730138, 0.09433791839815826, 0.042262222673625095, 0.025004991930983392, -0.004175566367888069, -0.005353072159109733, -0.01991138620544234, 0.05882299061671859, -0.019487105182956883, -0.050639451144223316, 0.03177455146555714, -0.05070042931381947, 0.004914727017261528, 0.011310191005290368, 0.01412410712987291, 0.01412410712987291, -0.023170953340733012, 0.09781537551215166, 0.01720866130330814, -0.0484129527336123, -0.05907786378504503, -0.040534861033252136, 0.07016030230544085, 0.050310221876259845, -0.004819797168310294, -0.018602975780603194, -0.0055448229006723046, 0.011957983393500566, 0.013579266521521182, -0.028016525416047863, -0.004175566367888069, -0.004175566367888069, -0.022124425706858963, 0.01875546111948797, -0.03390198337679361, -0.004125395536062306, -0.005721452799562025, 0.10924560498108685, 0.0700706207512263, -0.006209473010298509, -0.00652057145859644, -0.007763326996302991, -0.028541009363004778, -0.00570574521604903, -0.0629150223058926, -0.050928738132765876, -0.0063495530856047516, -0.012984188600128087, -0.007708609384024641, 0.03579649113791466, -0.0076246373019928215, 0.10599329153374895, 0.031169019823961853, -0.023971284445770992, -0.006449972135443401, -0.00640378072220452, -0.07358280874479935, -0.025971844314912087, -0.05500573050790506, -0.041583843824312614, -0.060031022698215246, -0.07195165995317006, -0.07122961364554112, -0.023534265492354524, 0.06935964597646686, -0.02037148675990542, -0.046838575390175725, -0.0794905479783904, -0.05199560692277923, -0.010023647572353215, 0.04616956079677896, -0.04532605758730926, -0.13625859163341025, -0.054026480014139684, -0.03721288306696741, 0.03443489543165351, 0.00838936335036895, -0.046332446623456605, -0.07910524199362944, -0.059695153327022375, -0.02849663872330845, -0.07261894965324976, 0.0055181462139060515, 0.048382948045535196, -0.04506174921363386, -0.0058377709562693345, 0.010603782645648156, 0.07045747515407787, 0.044398100373296806, -0.045274310059804854, -0.008021191277915281, 0.006690294644895057, -0.056568891841987386, 0.027780826229011797, -0.008825335692139613, -0.05834755200347996, -0.01168659524880121, -0.03165482424928662, -0.00742419810688492, -0.06625711198430334, 0.16769364814622068, 0.1375032089006803, -0.026999684042875432, -0.0646823328354636, -0.02759032054285552, 0.003631128810121611, 4.6207318954048746e-05, 0.07895019018886522, 0.04937340406121317, 0.0010845132639090756, -0.026667305189414334, -0.006105683517722219, -0.013359883857652959, 0.0945007755196606, 0.03493068919787516, -0.007356678665125961, -0.04228693640329479, -0.00786795606921433, 0.007874811431366526, -0.022977484662664947, -0.08037601896831141, 0.09944621006318079, -0.009717344144496418, -0.06792989952444548, -0.09325569450999202, -0.028332187841501284, -0.03473885698827668, 0.0585665240808008, -0.06386063132329341, 0.03661856228180986, 0.027056557542120333, 0.03786669921006084, 0.0251592881320254, -0.009283814456085249, 0.02788240976913404, 0.05652019556530772, -0.061274797471072076, 0.00017062646666285005, -0.04894349053613933, -0.12452444650528634, 0.023017170012075795, 0.08106805814271474, 0.050916676829107034, -0.011481029743688741, -0.053705433538223823, -0.027045778710057672, 0.3059350301284603, 0.13752167564005588, -0.016985649778503194, 0.009330560398396803, 0.030776485937366146, -0.03475065919012495, 0.010139310439614318, -0.030857482174129272, 0.024143825497179545, 0.032788582095597596, 0.05183269941566112, 0.07127222445117742, -0.09066502831381744, -0.128871177579918, -0.022124425706858963, -0.004175566367888069, 0.032788582095597596, 0.08909697198820803, 0.01412410712987291, 0.01875546111948797, -0.10102769536415265, 0.01875546111948797, 0.01875546111948797, 0.05183269941566112, 0.05183269941566112, 0.032788582095597596, 0.032788582095597596, -0.06978006972434835, -0.004175566367888069, -0.04111872695573098, 0.011781526781693835, 0.11440918402754227, 0.08967859224013663, -0.024132152568538283, -0.09292510700359699, -0.0930805129149005, 0.05036227989291814, -0.028611767882711938, 0.06920903662470045, 0.08350381507346762, 0.026553937285785645, -0.09472157426793595, -0.08169840547964001, -0.10065552688187669, 0.030338632721899746, 0.06933786654910705, 0.011442077714455361, -0.023614547989451222, -0.07712655642405927, -0.041676057168122685, 0.024141417044350248, 0.03182212759356881, 0.012454620159215234, -0.09235991681937968, 0.07402023514413408, 0.04964263033201331, -0.0064749516350467076, 0.08935864767549986, 0.04908480123007683, -0.044062846393041984, -0.05506674997279907, -0.029421063935372218, -0.04598864664791632, -0.05916502718013626, -0.006748595946547043, 0.019349292022062377, 0.06772945451792506, -0.06257768610721672, -0.09640484938882762, -0.025921917515594868, 0.10953847920185983, 0.14928509532089268, -0.042439245383955146, 0.0049295636267041995, 0.0020917946790090357, -0.0008574571878947007, 0.0010214989714019903, -0.059651328077620094, -0.06280465911786078, -0.007804373921028267, -0.04269820517798296, 0.10827047368187118, -0.012833197287337492, -0.09602949560910524, -0.059481476457185316, -0.02386660848409215, -0.0771342250769026, -0.0603248396188938, -0.14847940985156963, -0.050342425915698666, -0.027634421823578507, -0.004264015934842335, -0.05907513918766637, -0.10406707058563858, -0.062062843988283635, -0.06993808986053503, -0.20421372664767942, -0.11911339447813113, -0.08634539041472511, -0.031364025222573116, 0.02538034295018182, -0.062214052862649555, -0.028425141183524093, 0.04721108351371151, -0.042777642483768974, -0.07374730468980593, -0.01323183200577813, 0.046347350573883485, 0.021654441873985006, -0.010648658589929017, -0.08447982461258308, 0.0067211139356875395, -0.05125627723735533, 0.01875546111948797, -0.049611614404342294, 0.005144868221825471, -0.09320479843440249, 0.11407794858307936, -0.06034182883451516, -0.02520512289020522, -0.09304280358176076, -0.07658369072831528, -0.006400241291229134, -0.006386502798273646, -0.04230933150330252, -0.07673986154736433, -0.02406683005494746, 0.010732296020573495, 0.011326302158581677, 0.06900311079548432, -0.07691752110667126, 0.10928470231901784, 0.01527249241547586, -0.07601821568574736, -0.09176934033801146, -0.028199174563884627, -0.007171878630584046, -0.09347476923676071, -0.007398016445794762, -0.09232405715405433, -0.027902118900337513, -0.05088892685466467, -0.006634855777042426, 0.07072278434161813, 0.05102781430439952, 0.011918122621487613, -0.07204117932501722, 0.012287088166964442, 0.03065719403912974, -0.07844077096339327, -0.028195791823516194, -0.09214179876744992, -0.10924916158118633, -0.034419401792231054, -0.02484120201893336, -0.0765855143917367, -0.059538953759085876, -0.14210141343665256, -0.02438131500495178, -0.11476026171178902, -0.1095525503360681, -0.0924840517459035, -0.1134970379830853, 0.04625185773033239, -0.022380761254895083, -0.062405845864510534, 0.000729349605653607, -0.05071862422319399, -0.02558839453666087, 0.049807845700338124, 0.049102588432447775, -0.06662229573913514, -0.022189494593597463, 0.09822145271089212, 0.040458429846122766, -0.005583722006287674, -0.058783013421253485, -0.029921119547008324, -0.06593723642845774, -0.07517122118997817, -0.012032998813989788, -0.07522468641525387, -0.05897563431757482, -0.011079284634967176, -0.007938396922741286, -0.06106500858118109, 0.08171289238569891, -0.06012215421222268, 0.032788582095597596, -0.08060859741802164, -0.059116312303614554, -0.08048856047210856, -0.07893043138005008, -0.09511236296338448, 0.0010887623269408954, -0.09652534742746417, -0.08204384060001148, -0.13028638270715986, -0.06709992008910733, -0.06182074446876282, -0.07862903792469328, -0.05981570077848797, -0.0940303126364425, -0.09765663224285873, -0.09876731848001359, -0.09363128645836531, -0.06048812375075539, -0.07965900234256097, -0.0748749933674848, 0.012011798643138697, -0.06548260450918961, -0.07947437871953825, -0.029660778037610237, -0.07253676535827207, -0.06044624730694657, -0.15013361915276494, -0.06112923460294463, -0.04353849715441142, -0.07942669658150595, -0.07315612928840913, -0.08055307499948516, -0.10012217784229784, -0.06269991857037119, -0.11048640634367649, -0.05187808816303843, -0.07692095902579581, -0.09051373547867318, -0.09625803856667496, -0.030798049616112544, -0.07999325363341436, -0.12378129060911308, -0.09931751832549103, -0.0819564926225413, -0.07641204187428, -0.03390198337679361, 0.028873965858102427, 0.006867407406151122, -0.0444533291433513, 0.021247179020381302, 0.06586621681949954, -0.008528721343296566, -0.007757042231259985, -0.026102116590766104, -0.03521744489865591, -0.023337021430935443, 0.0025991094847806406, 0.09776184894671, -0.00633279211488066, 0.006372125389408939, -0.011784213325425752, 0.01086256056110097, -0.08496486498077091, -0.09202772015395488, 0.05027420557818931, 0.02958202921984863, -0.007378608897242027, 0.029731319442394447, -0.009184527409232238, -0.024135988431449335, -0.06596072953722977, 0.008489962636210397, 0.054604802065717356, -0.009465179501924168, -0.005975352125683616, 0.055534486406355395, -0.042216221703398234, -0.023890245698534714, 0.007125609471715831, -0.004554678514618088, -0.004175566367888069, -0.03390198337679361, -0.004175566367888069, -0.004175566367888069, -0.004175566367888069, -0.004175566367888069, -0.04841860732733544, -0.013775662882100215, -0.015368415212130749, -0.08759580531448564, -0.12801441350498743, -0.06996972718802617, 0.0613688823750751, -0.09441920305793293, -0.04015349016820008, -0.13696847829260034, -0.06933567867754108, -0.05853688734338265, -0.10292205123040991, -0.061987129662436184, -0.10000233766318686, -0.14735121908557128, -0.1458491698435311, -0.013748616808740762, -0.09950075064375118, -0.05229116856298651, -0.06674222247597268, -0.10741858403911354, -0.016235633723192408, -0.019546309554366398, -0.04513154230613048, -0.06799340080958305, -0.1535431641713241, 0.034408409260068995, 0.08067496726676925, -0.09454277556386488, -0.043892853939375635, -0.03629190623489767, -0.020070166157466592, -0.033283115113625604, -0.045599280326262114, -0.07255777956600121, -0.0485684799937594, -0.02657225065135362, 0.06732437034414618, 0.15710111866870563, -0.007934967469988749, -0.08927872568473962, -0.08036291521100396, 0.04249395874045659, 0.007589420002530115, 0.10907817216270528, 0.044014963167217085, -0.05252892600049037, 0.058373409684484664, 0.030595015897252137, 0.21604521503774327, -0.060890292696151115, 0.08994961745036245, 0.08884168668103609, 0.17223096868281187, 0.0038194762480530846, 0.08956673866627853, -0.02059074985681568, 0.07064856569134743, 0.08930230486817115, 0.06591205208627968, 0.06429908746632824, 0.08518998308896358, 0.11215889436187036, 0.09159948206783433, 0.049567856053472484, 0.06371187108296035, 0.2165368644520038, 0.08104750670846003, -0.09359458389048596, -0.013220730211701417, 0.002017103498701565], \"z\": [-0.03435131778703646, -0.047337133998265814, -0.02113694968410138, -0.05011507902111893, -0.02250611068331365, -0.030191407837238445, -0.01403936055842724, -0.06028642547732981, 0.011410221963531978, 0.0025914703070504443, -0.002238541064240461, -0.06711095099299365, -0.0316009442560342, -0.041191150621062135, -0.04985910346368897, -0.020425860195465873, -0.030051301922681878, -0.042916402427906675, -0.030867607595958718, -0.0028923103428739392, -0.007465300388879171, -0.015823210240097352, -0.003172045642264095, 0.008255821707507069, -0.007089991549354604, 0.14126745027759402, 0.019730131556476613, -0.026490684872934822, -0.04580584366020059, 0.007666486275977717, -0.006156089836448358, 0.0005037901018871179, -0.0042839957778836426, 0.0017815797880501583, 0.003034555682624954, -0.011271192005616243, 0.10206286130422552, -0.0007903588009482548, 0.00560558750731514, -0.015204367548913902, 0.011912958876549001, 0.008464406678660594, 0.006352542818694203, 0.017201224440487526, -0.007274161484180123, -0.030226298774729547, 0.016667875459864697, 0.031843606830737475, 0.012751029953907984, 0.01249126414626087, -0.02287394839462309, -0.04964486027129554, -0.04851861626602566, 0.0007683471086058067, -0.019349573056456962, -0.014002278789326559, -0.02495016743917917, -0.017270826140212997, -0.022351671259644646, 0.07716153271601472, 0.02871290172211633, -0.03572675929965965, -0.06111000846627941, -0.03644870817267318, -0.00868608522366805, -0.12473671918913132, -0.030012623219474423, -0.04565558433592428, 0.05548855416976495, 0.0016739138731245648, -0.004798323085467626, -0.03373067278252958, -0.015646997542092315, 0.019700995852663435, 0.17373509913266985, -0.02223375853771811, -0.02642823680429779, -0.04527054639187428, -0.06236605274265172, -0.08527805031718795, -0.0795747770660575, -0.07137940940452452, 0.18607877890811625, -0.008019805966093025, 0.05381015858200294, 0.05457000576141609, 0.03993459689219483, 0.012143544115785892, 0.007582824526227614, 0.01822498587779033, 0.012562598282818195, 0.016336676040722857, 0.04064923015850845, 0.03543114334516828, -0.004656518921276725, -0.0007802640912416549, -0.0003489163370844411, 0.012320104196735892, 0.016646753123755593, 0.008429912804800252, -0.01689361129827204, 0.001825004688725511, -0.014530789293237768, 0.016603857694017527, 0.003899527851547083, 0.00906304753777951, 0.01142697411601726, -0.011719616138940856, 0.2603393585302584, 0.0034543724830720154, 0.00795981288568886, -0.0066472691231871835, -0.001636637624132798, 0.001402673474907803, 0.09703289276914417, -0.002859003598487624, 0.008417883398336948, -0.011680403551974125, 0.00291838497482351, 0.0034307807666035437, -0.001815015772161838, 0.006275487611955973, -0.010775319897745363, -0.005394535546453099, -0.010416155787357922, -0.004666856470406816, -0.007599419986958382, -0.004554258763339631, -0.006606163693127607, 0.001027834401164353, -0.05566577568609062, -0.04763128272471569, -0.050784801553046204, 0.004706175040639652, -0.025195653004562137, -0.007915954429020051, 0.3053993510769461, -0.1438164267620231, -0.1138862378306695, 0.12813112167451118, -0.05427618825081451, -0.045460034805148306, -0.036428575121697296, -0.07374033754355622, -0.03752290826249811, -0.04523275208478054, -0.027761922331990412, -0.010404909037008596, -0.015385411605303406, -0.005410986724108147, -0.013696226661963021, -0.008097854786143218, -0.019399047292174183, -0.02711830094442468, -0.023050453258047065, -0.01376597806535908, -0.012849535457246597, -0.01414223361589658, -0.016473303346809656, 0.0011066286094709226, -0.03683520943368133, -0.011531532001523109, -0.007659759185725471, -0.027252187636747693, 0.0018857727963304185, -0.034986169541428906, -0.005010082979378206, -0.006279636384570904, -0.0071106437247354, 0.1646736220879736, -0.006362569653749709, -0.007430630353652946, 0.0021690709947429616, 0.0015312792576079814, -0.01370680407350495, -0.020164649185430355, -0.014107929741123413, -0.019809208343166657, -0.013948819994813615, 0.1888314493700168, -0.02234683557318624, -0.03098924688463997, -0.012736262433035965, 0.018623681563447507, -0.02222208985565481, 0.006046853857868623, 0.013501399550531265, 0.012985917595363968, -0.015484275338299448, 0.010867842020877292, -0.028169694598100852, -0.014889430797415223, -0.013565124091031456, -0.015179924798791926, -0.020184274300503437, -0.0437688443990004, -0.03312785350908277, -0.008796694701363158, 0.003681369277266079, 0.013558784617413262, 0.02559945533391533, -0.02903753789040312, -0.012123358947061253, -0.01644187976820216, -0.003824466388430643, -0.023196351768141606, -0.04201534818125061, -0.025758175290180728, 0.02423894695797643, -0.012944652503044631, -0.03601869950490675, -0.02564560174082172, 0.0022461152705388026, -0.04374041790486501, -0.0020626410552841896, -0.006347933136688783, -0.021314591614109448, -0.00524478628225343, -0.04273322117495639, 0.017177931018457725, -0.010262715264258033, -0.040813872102525996, 0.007390136928220501, -0.01802678141188384, -0.01970482491858865, 0.3935390083102368, -0.013803417450455244, -0.04756219755597996, 0.011412608363759779, 0.02120346068382617, -0.005445383576874569, -0.034406430826727064, 0.2798871591433523, 0.023148018275142505, -0.013066373082786714, 0.2538468025210517, -0.0976658806342861, -0.014595133801417175, 0.11802948091503626, -0.06414101243235479, -0.04050016958813525, 0.08551372962401303, 0.08789233204451986, 0.0050834779044146095, -0.02065267299380462, -0.041251587382106616, 0.032830783886836225, -0.05552650058033322, -0.006049966560423501, -0.04698890289674364, -0.04950703640031588, -0.047540496497164686, -0.10217657455626154, -0.15142271360182963, -0.08276201321609403, -0.018555887547912535, -0.1819535675095314, -0.02970375660397067, -0.05099186417291333, -0.049794261183090355, -0.07831191426857682, -0.17370809033593984, -0.07178304179596427, -0.053761261697034816, 0.4656517436748083, -0.02765240550278507, -0.0891876700644112, -0.09176434949741792, -0.045592223192980424, -0.0670122362983251, 0.022114314158602967, -0.043588647837992336, -0.0013207131649460972, 0.5231568898637081, -0.008019805966093025, -0.0013207131649460972, -0.014849833918121015, 0.1481583703414779, -0.008019805966093025, -0.021816017535627834, 0.3130988213715703, 0.22387707271166962, -0.010180066421070302, -0.07874344149349743, -0.05209874415664626, -0.011593928143556753, -0.03287720834436291, 0.07688479471699931, -0.034710751647730576, -0.020171220983242744, -0.01792461765907915, -0.003630626428584, 0.08780610579216386, 0.09102842104857788, 0.10709761463246732, 0.269804939930696, -0.017694852330830742, 0.010416867758163136, -0.0040338023034632384, -0.026795235617575477, -0.01853223067126113, 0.0047607642804940835, 0.00033294920514965727, 0.007988147745646552, -0.010263117441534231, -0.03038554231875953, -0.037305376225897406, 0.005463466300951924, 0.006703752056669077, -0.009921831053862977, -0.002699743974107228, -0.024492988640240233, -0.033894626793134756, -0.030595334448650303, -0.03999714195616155, -0.046022866190030154, 0.016592064034966665, -0.03413035961340883, -0.030709945658580366, -0.049220095264601, -0.0621557744903661, -0.02193698145020263, -0.034838559610564916, -0.07873558823393893, -0.046099218770783726, -0.05735635159823649, -0.054306841052676025, -0.022868882612879598, -0.019883279857354063, -0.036346790928573826, 0.004149230584130248, -0.02062525941895178, -0.0186925968620847, -0.01277681710537798, -0.021748781948875435, -0.004532247215855403, -0.0407693615582918, 0.005470417479459748, 0.00870915790296838, 0.025843566926129234, 0.011733685560983812, 0.0021914632466727008, -0.017581017882516366, 0.0010337771737448651, -0.05134212161264953, 0.004816262951579693, -0.009215271369036358, 0.0030064563725968447, -0.019137260098093963, -0.040597984304409473, -0.007247017794108124, -0.029085509751858304, -0.05941726371981912, -0.018836945510300865, -0.010703037690945577, -0.04826694211807776, 0.295995879838609, -0.027218597465983495, -0.06535328488760384, -0.012011146034999469, 0.0217252357641262, 0.021931678356072223, -0.03979068060438582, -0.031133567595702627, -0.03144072853662784, -0.06262465030497172, -0.010922126106183896, -0.0027544799803488175, 0.0214402347225077, -0.03435131778703646, -0.021816017535627834, -0.016578404496644043, -0.008019805966093025, 0.008493122883305164, 0.011704097750855793, 0.016465909134690693, -0.021816017535627834, -0.02982263273198468, -0.03922634586722574, -0.041394960075152115, -0.06767807581963438, -0.03423273822339371, -0.035758018820547445, -0.052855863687615134, -0.08065315197595592, -0.037113291371984, 0.11515502954657975, -0.03691946857128612, -0.0321853873874892, -0.037500299500664046, -0.07715297967289035, -0.03532536736767996, -0.025242535689921557, -0.017400441328111027, -0.06349736633843918, -0.0459012785319913, -0.0207334497352945, -0.02491138888869246, -0.026543582721116434, -0.027344023895787422, -0.05456600280126027, -0.034134736245654454, -0.04936215042655931, -0.04344838691232182, -0.06133822786461845, -0.03716607548903187, -0.06326843613570549, -0.01718202363575726, -0.05846006949493182, -0.027888927482338857, -0.05243770834989324, -0.04587972706674446, -0.04316271273610034, -0.06886631975479218, -0.07328756687550492, -0.09617889088666412, -0.04692904352398215, 0.0119164407868315, 0.08689173012488088, -0.03463884012209663, -0.027142764957156836, -0.01189419579220643, 0.0013815672495947281, -0.037585741846212294, -0.03348558679100158, 0.027287334728790743, -0.0001705481798041783, 0.04341449300531368, 0.007523958588663585, 0.03182107554833579, 0.19241567948640664, 0.00611443109179022, -0.005178961352507936, -0.04163492133710232, -0.012835500479441486, -0.009220756468632038, 0.0002354245662741359, 0.0031127607623389034, 0.2666838647884415, -0.020712563647496744, -0.04060938984835723, -3.8683771362803996e-05, 0.008104539155620533, 0.009557504838869224, -0.001640175531949091, -0.02326443276903779, -0.019349492663196872, 0.20836226147578535, -0.01961149971476437, -0.04655579090958143, -0.05966863227108875, -0.03581167614048151, -0.1600958480011592, -0.0027853009043364426, -0.026262621489479967, -0.0005031721958471413, -0.060629983739247814, 0.12503662990741382, 0.00018175697837043012, 0.01359846164706858, 0.04483899788910784, 0.01909828792293411, 0.024452718398595332, 0.0343613057502429, 0.014883064163805698, 0.030360601224431297, 0.02030090138376347, -0.005117607010738372, 0.0003341848264498758, -0.045668910321651705, -0.05753030689930114, -0.050122782927402236, -0.03174244079167142, -0.060125067688585755, 0.019712299933711673, -0.029069070016885825, -0.04629299600964792, 0.014783665658624007, -0.0320953266094147, -0.02184399950723631, -0.04211640697136461, -0.009591697464674481, -0.0009430771729877233, 0.004224829271107577, 0.0030181531350597945, -0.0070986942848623325, -0.0468669101957009, -0.01717518746209929, 0.021502123024970416, -0.022433478272961258, 0.014052793756484194, 0.006063767212727429, -0.048440908398950155, -0.04986519703627678, -0.037804350958379265, -0.027479318817121727, -0.018989434384172874, 0.17653939614468211, -0.01632064067006034, -0.034212524862294424, -0.010513045543917235, 0.0014602526952216897, 0.021933662278564622, 0.020972502664200046, 0.0016922509659232786, -0.04459377045927269, -0.02001693910371117, -0.01572530567757549, -0.01732237917138785, -0.01964118746325473, -0.030664381108744563, -0.057481524163454305, -0.031009610218232352, -0.016402487279954345, -0.02076203005407336, -0.017843215830975992, -0.036228290604459874, -0.01068203772640582, -0.012877533146171927, -0.053405173494407404, -0.009595989975742883, -0.02429066412684072, -0.034588594625641116, -0.022816795999817743, -0.036172036161919253, -0.013642864055336346, -0.019309232386781915, 0.4480721449212327, 0.09075555776922842, -0.027223131370917347, -0.005427955655999527, 0.009009663185706162, -0.04415209188326424, 0.023678791679315876, -0.0032612299147513945, -0.01010552026859153, -0.009293451848882365, -0.015928166404604052, 0.00021436653817145072, 0.06691882222910196, -0.042000704925206654, -0.027068693005726868, -0.008019805966093025, -0.04015902054280004, -0.05216656617123376, -0.013484518891274942, -0.009880576923935553, -0.0013207131649460972, -0.027760102065172227, -0.019643177258424297, -0.014909274030671578, 0.29745390746889433, -0.05503195383990722, -0.018852994770376257, -0.027259855996643673, -0.042077172573579714, -0.07897706745699407, -0.021816017535627834, -0.008019805966093025, -0.022822572602057285, -0.02324452667106724, -0.01020072896663979, 0.008493122883305164, -0.008311964445403176, 0.0947086756837337, 0.02657573174291262, -0.002975980524800412, -0.027692109073305066, -0.03295340788985968, -0.05629763528951627, -0.029844576925378914, -0.031357446733972894, 0.21557573592492663, -0.032678848756458774, -0.046569681966017226, 0.03818215248005463, -0.026342039699206492, -0.02535188553695099, -0.04645778907945859, -0.08510293350537317, -0.05403025886994334, 0.4343510131306673, -0.03163108701417311, -0.035988942314953594, -0.04308251043911425, -0.03368469576479664, -0.01890950368509007, -0.011539787882783698, 0.11491020436434686, -0.01806572757086396, -0.02503144759076877, -0.011360857877773849, -0.012042574781657794, -0.04229922389651567, -0.010622849715020534, -0.0318282626787302, 0.144006193290078, -0.0157865644057937, -0.01700668333001729, 0.18632666399216913, 0.01824328465564205, 0.0003341848264498758, -0.03000917363273448, 0.047918388155261955, -0.06121607986976078, 0.014472643508015694, 0.25704936371738957, -0.004353760992030253, 0.005205985670388008, 0.07559562316943633, -0.024583014554177905, -0.022536996646304215, -0.012650730583445093, -0.0013207131649460972, 0.004310589820267398, -0.0017515294760486304, 0.008493122883305164, 0.011704097750855793, -0.0013207131649460972, 0.003075050950851785, -0.03617935319932797, -0.028923895915733848, 0.0003341848264498758, 0.012502252584548797, -0.009180462402854616, -0.007148051702630693, -0.015566382165988194, 0.005678391477523129, -0.005605294674262789, -0.004580511721337534, -0.012639463326265869, -0.03798141510605562, 0.021667538642013387, -0.0022296922945343493, 0.0014762270455045386, -0.018911932728450653, -0.005724412857816413, 0.2600150387001067, 0.013839686029251855, 0.07168630585581992, -0.01133712686295025, -0.011894190747113339, -0.011676867774152453, -0.018713835716846098, -0.005453137066554147, -0.0028907576453207316, -0.0034367722367560083, -0.011434370488568123, -0.009852911183400873, 0.06938744635877957, 0.015288450575583529, -0.010468841952437935, -0.011799971652548131, -0.0030895133519420683, 0.0022251580102891915, -0.02673353791824963, -0.006775535017543736, -0.026726625695714854, -0.006229437458124482, 0.14300404827821814, 0.0198154922784621, -0.026059633012144447, -0.011706420871968179, -0.01062367853797598, 0.017817960789210916, -0.012094532585753773, -0.0403620674114477, -0.06149420903943688, -0.026443478247618057, -0.05485208926151399, -0.07905207402128189, -0.07082974532196876, -0.03882990841729692, 0.4640313876966937, 0.01268903002774105, -0.030867740183846276, -0.014162271300618028, -0.048056851759765894, 0.0036378949530919665, -0.03134200275159303, -0.016941978135570464, 0.0014751578132426255, -0.022809419072135854, -0.040165109419089524, -0.03885294379601065, 0.12788361497960835, -0.03745552334239747, -0.025266896320120795, -0.016108452420694305, -0.0156457768122013, -0.02245517766369651, -0.05947334192098623, -0.027425341538938813, -0.034807687193451356, -0.023205208506900634, -0.027318878829966947, -0.003106184170165891, -0.03955065157942377, -0.0384305740091127, -0.06137081914199523, -0.03538491421391147, -0.014153995724431491, -0.0019938357546184344, -0.04539702108336767, -0.04367654141244515, -0.017121165273677883, -0.02364544182140193, -0.04094271357919117, 0.008519343316376287, -0.01433894911072661, -0.02977717854265381, -0.01725524209402323, -0.00892286443063043, 0.008493122883305164, 0.009624880960517881, 0.14985110631612403, -0.04914543756729501, -0.01686619050418298, -0.009582213265196624, -0.037212519937296545, 0.003422220793276891, 0.007965889676775055, 0.06318439844789855, 0.041672129675939584, -0.02535188553695099, -0.022640386623542817, -0.008019805966093025, -0.01052832349115765, -0.02622834028660752, 0.10675268431285359, 0.021098884832448397, 0.06826011295481446, 0.09022318400098188, 0.004142453003283731, -0.02549193636170434, -0.02013347143411148, -0.014849833918121015, -0.014849833918121015, -0.0032885888426105025, 0.09556449219835492, -0.019657380059249538, 0.008478155337574646, 0.007793170771827772, 0.003780025017019773, 0.020868661432633176, 0.1394889631931081, -0.009402053282392346, -0.024967002739939913, -0.010812286326178408, -0.018975472435739146, -0.016626080045699303, -0.0024969270681236204, -0.008019805966093025, -0.008019805966093025, -0.0013207131649460972, -0.016578404496644043, 0.003075050950851785, -0.008152606704122541, -0.011247057905910504, -0.055873356910582, -0.038583909274303954, -0.011708278362336786, -0.01245997929645634, -0.014604164937075564, -0.0032612804221597456, -0.01092007205407486, -0.008661948160800566, 0.0038107276509132585, -0.012056730035976798, -0.0191657208262345, -0.01327101109162293, -0.03593591553162582, -0.012988208621342636, -0.06625720566600488, -0.024864049273076165, -0.005642059987500666, -0.012297345127811297, -0.012441311805836025, 0.009506735238406686, -0.004088354585519908, -0.01319442901556539, 0.0016918126785562817, 0.005815684338326554, 0.012386066147321973, 0.013837173562970411, -0.004006049311495039, -0.039703742094336504, -0.0281777597989562, -0.005095363589677779, 0.008896013117494753, 0.0029756819920175293, -0.0161448362760727, 0.29841152704365353, -0.002580940032404965, 0.032394808154977715, 0.04140891972751767, 0.022023491427603164, 0.043027390800196845, 0.0459731679374222, -0.010238120742887637, 0.009741700628426872, -0.012093717041231883, -0.013145372488881882, -0.022270744757888795, -0.02713499470377848, -0.06556216256656294, 0.0689806971854947, -0.011143524902938217, -0.021507170838086485, -0.0699289152165457, -0.04934595166003602, -0.004990244452207977, -0.015649021302808087, -0.022177965878988053, -0.006287348760270013, -0.025865074857845706, -0.01650750823882223, -0.01825211084312498, -0.019107666335066928, -0.009125907108997388, -0.013969659524348567, -0.014683348459481695, -0.08575258039942268, 0.2253090966398646, -0.03922287945130787, 0.0014133395654855648, -0.01006494959781301, 0.13735030321813013, 0.009467352304864014, -0.013663283328365047, 0.025099730428110974, -0.03139061564172368, -0.01004101596718944, -0.011611825479899899, -0.01985632537303187, 0.03236638964257923, -0.0058609221856270426, -0.013897829007328775, 0.0005747509870366224, -0.014816045195009325, -0.019458941260524845, -0.0687840700124581, 0.007496799074890368, 0.27820726155425496, -0.01687228718747404, -0.014683834956462957, 0.019562697695900032, -0.0031570748996030905, 0.037225875555507604, 0.020342167832178005, 0.0341549021987135, 0.13354224729458014, -0.03248720637541087, -0.0498054388578082, -0.04781686179639946, 0.0412837795629303, -0.0447901265346781, -0.04957012376984078, -0.010346930472815274, -0.033793302664158614, -0.007883155446370745, 0.01322860311376748, -0.05016245170973525, -0.05765682837328967, -0.05481004634593002, -0.01917661560146597, -0.01688137148815602, -0.008959086829731282, 0.5725485672461005, 0.17185073658607836, -0.025191753214161026, -0.06644719322823155, -0.05547322119554457, -0.02304179849409892, -0.028460750943278438, -0.007462184161947848, 0.06864896899288703, -0.021816017535627834, -0.028923895915733848, -0.03617935319932797, 0.024260848807274145, 0.005891273840058163, -0.0013207131649460972, -0.008019805966093025, -0.021816017535627834, 0.07196125520217736, -0.014849833918121015, -0.016578404496644043, 0.012637477514942874, -0.016578404496644043, -0.016578404496644043, -0.028923895915733848, -0.028923895915733848, -0.021816017535627834, -0.021816017535627834, 0.016465909134690693, -0.008019805966093025, 0.0019895777699872087, -0.01978030927967137, 0.2568704121179566, -0.04686239206748912, -0.00541101324921679, 0.019587209744224572, 0.019410815497270507, -0.03274310591955833, -0.004242122789623832, -0.04032041006589436, -0.08463838581826923, -0.03099462514646364, 0.017703132911643108, 0.0074123353498504315, 0.009608733965706051, -0.026828574722552186, -0.040076201741136575, -0.020315256405736098, -0.005134111065976754, 0.011773495646537683, 0.001075793007944795, -0.024539742565852174, -0.02436236926579456, -0.01814394601782068, 0.020588008685276757, -0.004412513654110805, -0.0333914540251421, -0.012566682381864496, -0.047206508534758294, -0.03444319592672995, -0.0029409549992603363, -0.01383402210120715, -0.011599867530743985, -0.004079213510098367, 0.007244738312264244, -0.013409113151666043, -0.038932336502054764, -0.041819048488377586, 0.003222569898887967, 0.016141524071520575, -0.0074814042162852715, -0.05513502996756845, -0.07459597305125729, 0.00034945733716908043, -0.011418133940497736, 0.013024607785717061, 0.12029607999074193, 0.011056277528327585, 0.006592016301009109, 0.0008798514779354045, -0.015030573140450332, -0.0005914715313529412, -0.057077074507380296, -0.01904688018859188, 0.20523125160099345, 0.007036881851767531, -0.004581500180018949, 0.011916018138382207, 0.005231612640598751, 0.029710713331238824, 0.004717607123910176, -0.0115372015476451, -0.03806117258009819, 0.0631518690504462, 0.006776037166831032, 0.003570707120762882, -0.004770589676599387, 0.050736228312103386, -0.00918927971852922, 0.001300393855870589, -0.013553576431912559, -0.031978220796374086, 0.0031320796722285518, -0.011841628762338083, -0.03636141759238029, -0.00047219459500010864, 0.008985967690652593, -0.020920345242633656, -0.037858836790074235, -0.036218532876379064, -0.01743042239799712, 0.003671253497124601, -0.02601375350773283, 0.0031578994166265376, -0.016578404496644043, 0.00600718431377793, -0.02651770833146018, 0.019419221119172166, -0.05780237197925841, 0.005331834749595086, -0.007182991659041637, 0.019590476751707536, 0.012978122342934715, -0.012296163743830173, -0.012188454419113627, 0.0003675337851173812, 0.012824644268354923, -0.0050263755758342965, -0.021299188030789853, -0.02022211662891606, -0.040569226688535256, 0.01240383798152062, -0.05525787325212772, -0.023069316025311745, 0.01399914313647918, 0.021966881586960415, -0.002945528632895271, -0.01369648472355211, 0.01880585112775635, -0.014120770919707216, 0.021007417196496122, -0.002364443634235268, 0.0035595595060126, -0.012693512108393479, -0.03717575816464969, -0.030789133249693703, -0.01908281549426557, -0.03263268131545992, -0.018432345992335047, -0.025914466695340917, 0.015893186121842724, -0.0032528115904308322, 0.021038983828912027, 0.025933467969418485, 0.11351626532512447, -0.00681513799865063, 0.012975444442233157, 0.006749275838672842, 0.035866150282648494, -0.005881731477063662, 0.024911852373935447, 0.0256315781597851, 0.02044409213208464, 0.027044608457653586, 0.3455853222873824, 0.1213600142748086, 0.11110048848280706, 0.010376572385407994, 0.0038993468797203687, -0.007820339680144185, -0.03303342954709251, 0.31237717261263676, 0.03955783080941013, 0.08110841724174629, -0.022157996010437053, -0.029115907496193014, -0.01135877309593133, 0.008014010111441589, 0.13880782854038282, 0.007144101264776049, 0.06939332770979695, 0.16281070391785277, 0.015585466840879442, -0.01852062000444192, -0.01980082350946254, -0.015285110521690815, 0.003941037796863936, 0.5433605483093266, 0.0056928557558803185, -0.021816017535627834, 0.008244940432611234, 0.0070525422150733, 0.00545782646973599, 0.008283077192109009, 0.015571461635502668, -0.032880592412003265, -0.01648475356843961, 0.005439086580553152, 0.025536854854808735, -0.0045572307913508735, 0.002415364841254061, 0.00936138545355882, 0.006208045032043595, 0.017794803079904185, -0.011362503817512467, 0.013011433179120768, 0.0183489098943266, 0.004863205292389687, 0.007347787968601373, 0.006789652890427559, 0.35550279810182267, 0.00832494591753005, 0.007785198290724635, -0.015686599899079064, 0.010810821169779234, 0.005061290883140966, 0.002103192252962293, 0.0038955973233915473, -0.0020820905749218484, 0.0076912989359398335, 0.00978764142127441, 0.00577594661418627, 0.006730640931975877, 0.0007829094373429462, 0.023531266998482896, 0.00124943853138049, 0.012428038127058436, -0.004100383715344981, 0.014915698719020756, 0.18831211554813218, 0.006767355746588869, 0.00896405648157101, 0.011867141973617903, 0.005835711267502742, 0.012825567445443156, 0.003075050950851785, -0.027735203675354494, -0.024345599627932406, -0.0011350812866571588, -0.036687223786444324, 0.07267518377525625, -0.014782960248214724, -0.013373052726335086, -0.007366255916993869, 0.13186226659727449, -0.03157825978684793, -0.029800145887955626, 0.03709330518123185, -0.012146625240304392, -0.03186624125252108, -0.018120745172508484, -0.019535078621920103, 0.0029723284064120305, 0.02174812383560119, -0.031857866937329976, 0.08636815212659939, -0.013961594730537891, -0.04100306629620624, -0.0158688773406197, -0.032000729526821176, -0.02549799911313952, -0.022859982990471116, 0.15584934873477457, -0.015222446154738221, -0.011458888458465615, 0.15629932357453818, 0.0004772600549520034, -0.004523012700342888, -0.013291772294062764, -0.008707322619579723, -0.008019805966093025, 0.003075050950851785, -0.008019805966093025, -0.008019805966093025, -0.008019805966093025, -0.008019805966093025, 0.008493122883305164, -0.020580129845779175, 0.244220902595423, 0.04103080848110607, 0.02851626339020973, -0.0067202085480652825, 0.17500680570120644, -0.006695943418829483, -0.007225296853319141, 0.0009544611536465505, 0.002677981539415266, 0.2794321598263225, 0.0076195287623343246, -0.00955069417073671, 0.011070687247457064, 0.01915559116070379, 0.019033249844035986, -0.02046290618225582, 0.011707292430799739, -0.020233828750082075, -0.014091107462715642, 0.002128253382253652, -0.023831605477254617, -0.02872528073420582, -0.02301982968970828, -0.01567681213336431, 0.02952020940797749, -0.03885680082147623, -0.0576254091123323, -0.01425083500906706, -0.020773478872490425, -0.019844081336550808, -0.012225749275392708, -0.016145802069842917, -0.0032348570493512764, -0.0008847129872999187, -0.011459896482113228, -0.009794797476678089, -0.04411168846576679, -0.09755590562024882, -0.01426506576415033, 0.14453919085753159, 0.014332552589595813, -0.07008020592068825, -0.03259910843217321, 0.07565440758360985, -0.039775348524984495, 0.0018323116929871964, -0.06381671229985751, -0.02518504379349128, -0.09961925615455607, 0.0038908034753073716, -0.04595668377301204, -0.048285156808925256, -0.1148360159489875, -0.02717464170641788, -0.04752311900610564, -0.028913773735019705, -0.06875980923801212, -0.04733700875735713, -0.046504221176642754, -0.038751235382546906, -0.05513646821130292, -0.061652361378806926, -0.07058398499620633, -0.03401579631260658, -0.03972863410009596, 0.11467180733672128, 0.017622361010280477, 0.07289605452389386, -0.0049307696309486984, -0.031749518072772036]}],                        {\"coloraxis\": {\"colorbar\": {\"title\": {\"text\": \"color\"}}, \"colorscale\": [[0.0, \"#0d0887\"], [0.1111111111111111, \"#46039f\"], [0.2222222222222222, \"#7201a8\"], [0.3333333333333333, \"#9c179e\"], [0.4444444444444444, \"#bd3786\"], [0.5555555555555556, \"#d8576b\"], [0.6666666666666666, \"#ed7953\"], [0.7777777777777778, \"#fb9f3a\"], [0.8888888888888888, \"#fdca26\"], [1.0, \"#f0f921\"]]}, \"legend\": {\"tracegroupgap\": 0}, \"scene\": {\"domain\": {\"x\": [0.0, 1.0], \"y\": [0.0, 1.0]}, \"xaxis\": {\"title\": {\"text\": \"PC 1\"}}, \"yaxis\": {\"title\": {\"text\": \"PC 2\"}}, \"zaxis\": {\"title\": {\"text\": \"PC 3\"}}}, \"template\": {\"data\": {\"bar\": [{\"error_x\": {\"color\": \"#2a3f5f\"}, \"error_y\": {\"color\": \"#2a3f5f\"}, \"marker\": {\"line\": {\"color\": \"#E5ECF6\", \"width\": 0.5}}, \"type\": \"bar\"}], \"barpolar\": [{\"marker\": {\"line\": {\"color\": \"#E5ECF6\", \"width\": 0.5}}, \"type\": \"barpolar\"}], \"carpet\": [{\"aaxis\": {\"endlinecolor\": \"#2a3f5f\", \"gridcolor\": \"white\", \"linecolor\": \"white\", \"minorgridcolor\": \"white\", \"startlinecolor\": \"#2a3f5f\"}, \"baxis\": {\"endlinecolor\": \"#2a3f5f\", \"gridcolor\": \"white\", \"linecolor\": \"white\", \"minorgridcolor\": \"white\", \"startlinecolor\": \"#2a3f5f\"}, \"type\": \"carpet\"}], \"choropleth\": [{\"colorbar\": {\"outlinewidth\": 0, \"ticks\": \"\"}, \"type\": \"choropleth\"}], \"contour\": [{\"colorbar\": {\"outlinewidth\": 0, \"ticks\": \"\"}, \"colorscale\": [[0.0, \"#0d0887\"], [0.1111111111111111, \"#46039f\"], [0.2222222222222222, \"#7201a8\"], [0.3333333333333333, \"#9c179e\"], [0.4444444444444444, \"#bd3786\"], [0.5555555555555556, \"#d8576b\"], [0.6666666666666666, \"#ed7953\"], [0.7777777777777778, \"#fb9f3a\"], [0.8888888888888888, \"#fdca26\"], [1.0, \"#f0f921\"]], \"type\": \"contour\"}], \"contourcarpet\": [{\"colorbar\": {\"outlinewidth\": 0, \"ticks\": \"\"}, \"type\": \"contourcarpet\"}], \"heatmap\": [{\"colorbar\": {\"outlinewidth\": 0, \"ticks\": \"\"}, \"colorscale\": [[0.0, \"#0d0887\"], [0.1111111111111111, \"#46039f\"], [0.2222222222222222, \"#7201a8\"], [0.3333333333333333, \"#9c179e\"], [0.4444444444444444, \"#bd3786\"], [0.5555555555555556, \"#d8576b\"], [0.6666666666666666, \"#ed7953\"], [0.7777777777777778, \"#fb9f3a\"], [0.8888888888888888, \"#fdca26\"], [1.0, \"#f0f921\"]], \"type\": \"heatmap\"}], \"heatmapgl\": [{\"colorbar\": {\"outlinewidth\": 0, \"ticks\": \"\"}, \"colorscale\": [[0.0, \"#0d0887\"], [0.1111111111111111, \"#46039f\"], [0.2222222222222222, \"#7201a8\"], [0.3333333333333333, \"#9c179e\"], [0.4444444444444444, \"#bd3786\"], [0.5555555555555556, \"#d8576b\"], [0.6666666666666666, \"#ed7953\"], [0.7777777777777778, \"#fb9f3a\"], [0.8888888888888888, \"#fdca26\"], [1.0, \"#f0f921\"]], \"type\": \"heatmapgl\"}], \"histogram\": [{\"marker\": {\"colorbar\": {\"outlinewidth\": 0, \"ticks\": \"\"}}, \"type\": \"histogram\"}], \"histogram2d\": [{\"colorbar\": {\"outlinewidth\": 0, \"ticks\": \"\"}, \"colorscale\": [[0.0, \"#0d0887\"], [0.1111111111111111, \"#46039f\"], [0.2222222222222222, \"#7201a8\"], [0.3333333333333333, \"#9c179e\"], [0.4444444444444444, \"#bd3786\"], [0.5555555555555556, \"#d8576b\"], [0.6666666666666666, \"#ed7953\"], [0.7777777777777778, \"#fb9f3a\"], [0.8888888888888888, \"#fdca26\"], [1.0, \"#f0f921\"]], \"type\": \"histogram2d\"}], \"histogram2dcontour\": [{\"colorbar\": {\"outlinewidth\": 0, \"ticks\": \"\"}, \"colorscale\": [[0.0, \"#0d0887\"], [0.1111111111111111, \"#46039f\"], [0.2222222222222222, \"#7201a8\"], [0.3333333333333333, \"#9c179e\"], [0.4444444444444444, \"#bd3786\"], [0.5555555555555556, \"#d8576b\"], [0.6666666666666666, \"#ed7953\"], [0.7777777777777778, \"#fb9f3a\"], [0.8888888888888888, \"#fdca26\"], [1.0, \"#f0f921\"]], \"type\": \"histogram2dcontour\"}], \"mesh3d\": [{\"colorbar\": {\"outlinewidth\": 0, \"ticks\": \"\"}, \"type\": \"mesh3d\"}], \"parcoords\": [{\"line\": {\"colorbar\": {\"outlinewidth\": 0, \"ticks\": \"\"}}, \"type\": \"parcoords\"}], \"pie\": [{\"automargin\": true, \"type\": \"pie\"}], \"scatter\": [{\"marker\": {\"colorbar\": {\"outlinewidth\": 0, \"ticks\": \"\"}}, \"type\": \"scatter\"}], \"scatter3d\": [{\"line\": {\"colorbar\": {\"outlinewidth\": 0, \"ticks\": \"\"}}, \"marker\": {\"colorbar\": {\"outlinewidth\": 0, \"ticks\": \"\"}}, \"type\": \"scatter3d\"}], \"scattercarpet\": [{\"marker\": {\"colorbar\": {\"outlinewidth\": 0, \"ticks\": \"\"}}, \"type\": \"scattercarpet\"}], \"scattergeo\": [{\"marker\": {\"colorbar\": {\"outlinewidth\": 0, \"ticks\": \"\"}}, \"type\": \"scattergeo\"}], \"scattergl\": [{\"marker\": {\"colorbar\": {\"outlinewidth\": 0, \"ticks\": \"\"}}, \"type\": \"scattergl\"}], \"scattermapbox\": [{\"marker\": {\"colorbar\": {\"outlinewidth\": 0, \"ticks\": \"\"}}, \"type\": \"scattermapbox\"}], \"scatterpolar\": [{\"marker\": {\"colorbar\": {\"outlinewidth\": 0, \"ticks\": \"\"}}, \"type\": \"scatterpolar\"}], \"scatterpolargl\": [{\"marker\": {\"colorbar\": {\"outlinewidth\": 0, \"ticks\": \"\"}}, \"type\": \"scatterpolargl\"}], \"scatterternary\": [{\"marker\": {\"colorbar\": {\"outlinewidth\": 0, \"ticks\": \"\"}}, \"type\": \"scatterternary\"}], \"surface\": [{\"colorbar\": {\"outlinewidth\": 0, \"ticks\": \"\"}, \"colorscale\": [[0.0, \"#0d0887\"], [0.1111111111111111, \"#46039f\"], [0.2222222222222222, \"#7201a8\"], [0.3333333333333333, \"#9c179e\"], [0.4444444444444444, \"#bd3786\"], [0.5555555555555556, \"#d8576b\"], [0.6666666666666666, \"#ed7953\"], [0.7777777777777778, \"#fb9f3a\"], [0.8888888888888888, \"#fdca26\"], [1.0, \"#f0f921\"]], \"type\": \"surface\"}], \"table\": [{\"cells\": {\"fill\": {\"color\": \"#EBF0F8\"}, \"line\": {\"color\": \"white\"}}, \"header\": {\"fill\": {\"color\": \"#C8D4E3\"}, \"line\": {\"color\": \"white\"}}, \"type\": \"table\"}]}, \"layout\": {\"annotationdefaults\": {\"arrowcolor\": \"#2a3f5f\", \"arrowhead\": 0, \"arrowwidth\": 1}, \"autotypenumbers\": \"strict\", \"coloraxis\": {\"colorbar\": {\"outlinewidth\": 0, \"ticks\": \"\"}}, \"colorscale\": {\"diverging\": [[0, \"#8e0152\"], [0.1, \"#c51b7d\"], [0.2, \"#de77ae\"], [0.3, \"#f1b6da\"], [0.4, \"#fde0ef\"], [0.5, \"#f7f7f7\"], [0.6, \"#e6f5d0\"], [0.7, \"#b8e186\"], [0.8, \"#7fbc41\"], [0.9, \"#4d9221\"], [1, \"#276419\"]], \"sequential\": [[0.0, \"#0d0887\"], [0.1111111111111111, \"#46039f\"], [0.2222222222222222, \"#7201a8\"], [0.3333333333333333, \"#9c179e\"], [0.4444444444444444, \"#bd3786\"], [0.5555555555555556, \"#d8576b\"], [0.6666666666666666, \"#ed7953\"], [0.7777777777777778, \"#fb9f3a\"], [0.8888888888888888, \"#fdca26\"], [1.0, \"#f0f921\"]], \"sequentialminus\": [[0.0, \"#0d0887\"], [0.1111111111111111, \"#46039f\"], [0.2222222222222222, \"#7201a8\"], [0.3333333333333333, \"#9c179e\"], [0.4444444444444444, \"#bd3786\"], [0.5555555555555556, \"#d8576b\"], [0.6666666666666666, \"#ed7953\"], [0.7777777777777778, \"#fb9f3a\"], [0.8888888888888888, \"#fdca26\"], [1.0, \"#f0f921\"]]}, \"colorway\": [\"#636efa\", \"#EF553B\", \"#00cc96\", \"#ab63fa\", \"#FFA15A\", \"#19d3f3\", \"#FF6692\", \"#B6E880\", \"#FF97FF\", \"#FECB52\"], \"font\": {\"color\": \"#2a3f5f\"}, \"geo\": {\"bgcolor\": \"white\", \"lakecolor\": \"white\", \"landcolor\": \"#E5ECF6\", \"showlakes\": true, \"showland\": true, \"subunitcolor\": \"white\"}, \"hoverlabel\": {\"align\": \"left\"}, \"hovermode\": \"closest\", \"mapbox\": {\"style\": \"light\"}, \"paper_bgcolor\": \"white\", \"plot_bgcolor\": \"#E5ECF6\", \"polar\": {\"angularaxis\": {\"gridcolor\": \"white\", \"linecolor\": \"white\", \"ticks\": \"\"}, \"bgcolor\": \"#E5ECF6\", \"radialaxis\": {\"gridcolor\": \"white\", \"linecolor\": \"white\", \"ticks\": \"\"}}, \"scene\": {\"xaxis\": {\"backgroundcolor\": \"#E5ECF6\", \"gridcolor\": \"white\", \"gridwidth\": 2, \"linecolor\": \"white\", \"showbackground\": true, \"ticks\": \"\", \"zerolinecolor\": \"white\"}, \"yaxis\": {\"backgroundcolor\": \"#E5ECF6\", \"gridcolor\": \"white\", \"gridwidth\": 2, \"linecolor\": \"white\", \"showbackground\": true, \"ticks\": \"\", \"zerolinecolor\": \"white\"}, \"zaxis\": {\"backgroundcolor\": \"#E5ECF6\", \"gridcolor\": \"white\", \"gridwidth\": 2, \"linecolor\": \"white\", \"showbackground\": true, \"ticks\": \"\", \"zerolinecolor\": \"white\"}}, \"shapedefaults\": {\"line\": {\"color\": \"#2a3f5f\"}}, \"ternary\": {\"aaxis\": {\"gridcolor\": \"white\", \"linecolor\": \"white\", \"ticks\": \"\"}, \"baxis\": {\"gridcolor\": \"white\", \"linecolor\": \"white\", \"ticks\": \"\"}, \"bgcolor\": \"#E5ECF6\", \"caxis\": {\"gridcolor\": \"white\", \"linecolor\": \"white\", \"ticks\": \"\"}}, \"title\": {\"x\": 0.05}, \"xaxis\": {\"automargin\": true, \"gridcolor\": \"white\", \"linecolor\": \"white\", \"ticks\": \"\", \"title\": {\"standoff\": 15}, \"zerolinecolor\": \"white\", \"zerolinewidth\": 2}, \"yaxis\": {\"automargin\": true, \"gridcolor\": \"white\", \"linecolor\": \"white\", \"ticks\": \"\", \"title\": {\"standoff\": 15}, \"zerolinecolor\": \"white\", \"zerolinewidth\": 2}}}, \"title\": {\"text\": \"Total Explained Variance: 83.58%\"}},                        {\"responsive\": true}                    ).then(function(){\n                            \nvar gd = document.getElementById('0311e347-afb7-4991-843c-2407c2f29b0b');\nvar x = new MutationObserver(function (mutations, observer) {{\n        var display = window.getComputedStyle(gd).display;\n        if (!display || display === 'none') {{\n            console.log([gd, 'removed!']);\n            Plotly.purge(gd);\n            observer.disconnect();\n        }}\n}});\n\n// Listen for the removal of the full notebook cells\nvar notebookContainer = gd.closest('#notebook-container');\nif (notebookContainer) {{\n    x.observe(notebookContainer, {childList: true});\n}}\n\n// Listen for the clearing of the current output cell\nvar outputEl = gd.closest('.output');\nif (outputEl) {{\n    x.observe(outputEl, {childList: true});\n}}\n\n                        })                };                            </script>        </div>\n</body>\n</html>"
          },
          "metadata": {},
          "output_type": "display_data"
        }
      ]
    },
    {
      "cell_type": "code",
      "metadata": {
        "tags": [],
        "cell_id": "00014-7c5e7988-2767-48d9-8b16-f54280613a85",
        "deepnote_to_be_reexecuted": false,
        "source_hash": "9935c4d8",
        "execution_start": 1617631659693,
        "execution_millis": 180,
        "deepnote_cell_type": "code"
      },
      "source": "import plotly.offline as py\npy.init_notebook_mode(connected=True)\nimport plotly.graph_objs as go\nimport plotly.tools as tls\n\n# D3 modules\nfrom IPython.core.display import display, HTML, Javascript\nfrom string import Template",
      "execution_count": null,
      "outputs": [
        {
          "data": {
            "text/html": "        <script type=\"text/javascript\">\n        window.PlotlyConfig = {MathJaxConfig: 'local'};\n        if (window.MathJax) {MathJax.Hub.Config({SVG: {font: \"STIX-Web\"}});}\n        if (typeof require !== 'undefined') {\n        require.undef(\"plotly\");\n        requirejs.config({\n            paths: {\n                'plotly': ['https://cdn.plot.ly/plotly-latest.min']\n            }\n        });\n        require(['plotly'], function(Plotly) {\n            window._Plotly = Plotly;\n        });\n        }\n        </script>\n        "
          },
          "metadata": {},
          "output_type": "display_data"
        }
      ]
    },
    {
      "cell_type": "code",
      "metadata": {
        "tags": [],
        "cell_id": "00014-44a3e210-373e-44ee-837f-f2497bd8d446",
        "deepnote_cell_type": "code"
      },
      "source": "trace = go.Scatter(\n    name='average_mood',\n    x=df['average_mood'],\n    y=oil['dcoilwtico'].dropna(),\n    mode='lines',\n    line=dict(color='rgb(20, 15, 200, 0.8)'),\n    #fillcolor='rgba(68, 68, 68, 0.3)',\n    fillcolor='rgba(0, 0, 216, 0.3)',\n    fill='tonexty' )\n\ndata = [trace]\n\nlayout = go.Layout(\n    yaxis=dict(title='Daily Oil price'),\n    title='Daily oil prices from Jan 2013 till July 2017',\n    showlegend = False)\nfig = go.Figure(data=data, layout=layout)\n# py.iplot(fig, filename='pandas-time-series-error-bars')",
      "execution_count": null,
      "outputs": []
    },
    {
      "cell_type": "markdown",
      "source": "<a style='text-decoration:none;line-height:16px;display:flex;color:#5B5B62;padding:10px;justify-content:end;' href='https://deepnote.com?utm_source=created-in-deepnote-cell&projectId=d79defa5-2359-4699-82dc-d6bf5eddd7a7' target=\"_blank\">\n<img alt='Created in deepnote.com' style='display:inline;max-height:16px;margin:0px;margin-right:7.5px;' src='data:image/svg+xml;base64,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' > </img>\nCreated in <span style='font-weight:600;margin-left:4px;'>Deepnote</span></a>",
      "metadata": {
        "tags": [],
        "created_in_deepnote_cell": true,
        "deepnote_cell_type": "markdown"
      }
    }
  ],
  "nbformat": 4,
  "nbformat_minor": 2,
  "metadata": {
    "orig_nbformat": 2,
    "deepnote_notebook_id": "262a63b2-d8d0-4bcf-a1b8-9bb31d18045a",
    "deepnote": {},
    "deepnote_execution_queue": []
  }
}