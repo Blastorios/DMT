{
  "cells": [
    {
      "cell_type": "markdown",
      "source": "",
      "metadata": {
        "tags": [],
        "cell_id": "00001-1d17f615-4bde-412b-ae50-6f05dde70caa",
        "deepnote_cell_type": "markdown"
      }
    },
    {
      "cell_type": "markdown",
      "source": "## This notebook focusses on a algorithm that can deal with temporal data, like: ARIMA",
      "metadata": {
        "tags": [],
        "cell_id": "00001-e538f1c2-0afc-42b8-88f4-3cf0f0f39a78",
        "deepnote_cell_type": "markdown"
      }
    },
    {
      "cell_type": "code",
      "metadata": {
        "tags": [],
        "cell_id": "00002-7df8565a-72de-496a-96a3-a4064077c9b6",
        "deepnote_to_be_reexecuted": false,
        "source_hash": "dfe7c010",
        "execution_millis": 278,
        "execution_start": 1618146818384,
        "deepnote_cell_type": "code"
      },
      "source": "import numpy as np\nimport pandas as pd\nimport sklearn as sk\nfrom mlxtend.preprocessing import minmax_scaling\nimport matplotlib.pyplot as plt\nfrom pandas.plotting import autocorrelation_plot\nfrom statsmodels.tsa.arima.model import ARIMA",
      "execution_count": 5,
      "outputs": []
    },
    {
      "cell_type": "code",
      "metadata": {
        "tags": [],
        "cell_id": "00003-4b357650-65c3-4316-bea2-8847e145aedf",
        "deepnote_to_be_reexecuted": false,
        "source_hash": "a8d9e65d",
        "execution_millis": 74,
        "execution_start": 1618146818668,
        "deepnote_cell_type": "code"
      },
      "source": "from datetime import datetime\ndef parser(x):\n\treturn datetime.strptime(x, '%Y-%m-%d').date()\n\ndf = pd.read_csv(\"data/new_data_no_missingvalues.csv\", parse_dates=['date'], date_parser=parser)",
      "execution_count": 6,
      "outputs": []
    },
    {
      "cell_type": "code",
      "metadata": {
        "tags": [],
        "cell_id": "00004-561ef663-4de8-42fe-adcd-0b2fd27174f8",
        "deepnote_to_be_reexecuted": false,
        "source_hash": "f804c160",
        "execution_millis": 176,
        "execution_start": 1618146844047,
        "deepnote_cell_type": "code"
      },
      "source": "df",
      "execution_count": 7,
      "outputs": [
        {
          "output_type": "execute_result",
          "execution_count": 7,
          "data": {
            "application/vnd.deepnote.dataframe.v2+json": {
              "row_count": 1215,
              "column_count": 16,
              "columns": [
                {
                  "name": "Unnamed: 0",
                  "dtype": "int64",
                  "stats": {
                    "unique_count": 1215,
                    "nan_count": 0,
                    "min": 0,
                    "max": 1214,
                    "histogram": [
                      {
                        "bin_start": 0,
                        "bin_end": 121.4,
                        "count": 122
                      },
                      {
                        "bin_start": 121.4,
                        "bin_end": 242.8,
                        "count": 121
                      },
                      {
                        "bin_start": 242.8,
                        "bin_end": 364.20000000000005,
                        "count": 122
                      },
                      {
                        "bin_start": 364.20000000000005,
                        "bin_end": 485.6,
                        "count": 121
                      },
                      {
                        "bin_start": 485.6,
                        "bin_end": 607,
                        "count": 121
                      },
                      {
                        "bin_start": 607,
                        "bin_end": 728.4000000000001,
                        "count": 122
                      },
                      {
                        "bin_start": 728.4000000000001,
                        "bin_end": 849.8000000000001,
                        "count": 121
                      },
                      {
                        "bin_start": 849.8000000000001,
                        "bin_end": 971.2,
                        "count": 122
                      },
                      {
                        "bin_start": 971.2,
                        "bin_end": 1092.6000000000001,
                        "count": 121
                      },
                      {
                        "bin_start": 1092.6000000000001,
                        "bin_end": 1214,
                        "count": 122
                      }
                    ]
                  }
                },
                {
                  "name": "unique_id",
                  "dtype": "object",
                  "stats": {
                    "unique_count": 1215,
                    "nan_count": 0,
                    "categories": [
                      {
                        "name": "2014-02-26_AS14.01",
                        "count": 1
                      },
                      {
                        "name": "2014-03-21_AS14.01",
                        "count": 1
                      },
                      {
                        "name": "1213 others",
                        "count": 1213
                      }
                    ]
                  }
                },
                {
                  "name": "id",
                  "dtype": "object",
                  "stats": {
                    "unique_count": 27,
                    "nan_count": 0,
                    "categories": [
                      {
                        "name": "AS14.26",
                        "count": 66
                      },
                      {
                        "name": "AS14.08",
                        "count": 61
                      },
                      {
                        "name": "25 others",
                        "count": 1088
                      }
                    ]
                  }
                },
                {
                  "name": "date",
                  "dtype": "datetime64[ns]",
                  "stats": {
                    "unique_count": 95,
                    "nan_count": 0,
                    "min": "2014-02-26T00:00:00.000000",
                    "max": "2014-06-07T00:00:00.000000",
                    "histogram": [
                      {
                        "bin_start": 1393372800000000000,
                        "bin_end": 1394245440000000000,
                        "count": 10
                      },
                      {
                        "bin_start": 1394245440000000000,
                        "bin_end": 1395118080000000000,
                        "count": 40
                      },
                      {
                        "bin_start": 1395118080000000000,
                        "bin_end": 1395990720000000000,
                        "count": 157
                      },
                      {
                        "bin_start": 1395990720000000000,
                        "bin_end": 1396863360000000000,
                        "count": 222
                      },
                      {
                        "bin_start": 1396863360000000000,
                        "bin_end": 1397736000000000000,
                        "count": 252
                      },
                      {
                        "bin_start": 1397736000000000000,
                        "bin_end": 1398608640000000000,
                        "count": 259
                      },
                      {
                        "bin_start": 1398608640000000000,
                        "bin_end": 1399481280000000000,
                        "count": 175
                      },
                      {
                        "bin_start": 1399481280000000000,
                        "bin_end": 1400353920000000000,
                        "count": 55
                      },
                      {
                        "bin_start": 1400353920000000000,
                        "bin_end": 1401226560000000000,
                        "count": 30
                      },
                      {
                        "bin_start": 1401226560000000000,
                        "bin_end": 1402099200000000000,
                        "count": 15
                      }
                    ]
                  }
                },
                {
                  "name": "average_mood",
                  "dtype": "float64",
                  "stats": {
                    "unique_count": 71,
                    "nan_count": 0,
                    "min": 3,
                    "max": 9.333333333333334,
                    "histogram": [
                      {
                        "bin_start": 3,
                        "bin_end": 3.6333333333333333,
                        "count": 4
                      },
                      {
                        "bin_start": 3.6333333333333333,
                        "bin_end": 4.266666666666667,
                        "count": 3
                      },
                      {
                        "bin_start": 4.266666666666667,
                        "bin_end": 4.9,
                        "count": 6
                      },
                      {
                        "bin_start": 4.9,
                        "bin_end": 5.533333333333333,
                        "count": 26
                      },
                      {
                        "bin_start": 5.533333333333333,
                        "bin_end": 6.166666666666667,
                        "count": 83
                      },
                      {
                        "bin_start": 6.166666666666667,
                        "bin_end": 6.800000000000001,
                        "count": 349
                      },
                      {
                        "bin_start": 6.800000000000001,
                        "bin_end": 7.433333333333334,
                        "count": 432
                      },
                      {
                        "bin_start": 7.433333333333334,
                        "bin_end": 8.066666666666666,
                        "count": 269
                      },
                      {
                        "bin_start": 8.066666666666666,
                        "bin_end": 8.700000000000001,
                        "count": 38
                      },
                      {
                        "bin_start": 8.700000000000001,
                        "bin_end": 9.333333333333334,
                        "count": 5
                      }
                    ]
                  }
                },
                {
                  "name": "total_calls",
                  "dtype": "float64",
                  "stats": {
                    "unique_count": 23,
                    "nan_count": 0,
                    "min": 0,
                    "max": 31,
                    "histogram": [
                      {
                        "bin_start": 0,
                        "bin_end": 3.1,
                        "count": 909
                      },
                      {
                        "bin_start": 3.1,
                        "bin_end": 6.2,
                        "count": 151
                      },
                      {
                        "bin_start": 6.2,
                        "bin_end": 9.3,
                        "count": 83
                      },
                      {
                        "bin_start": 9.3,
                        "bin_end": 12.4,
                        "count": 43
                      },
                      {
                        "bin_start": 12.4,
                        "bin_end": 15.5,
                        "count": 16
                      },
                      {
                        "bin_start": 15.5,
                        "bin_end": 18.6,
                        "count": 7
                      },
                      {
                        "bin_start": 18.6,
                        "bin_end": 21.7,
                        "count": 3
                      },
                      {
                        "bin_start": 21.7,
                        "bin_end": 24.8,
                        "count": 0
                      },
                      {
                        "bin_start": 24.8,
                        "bin_end": 27.900000000000002,
                        "count": 2
                      },
                      {
                        "bin_start": 27.900000000000002,
                        "bin_end": 31,
                        "count": 1
                      }
                    ]
                  }
                },
                {
                  "name": "total_sms",
                  "dtype": "float64",
                  "stats": {
                    "unique_count": 22,
                    "nan_count": 0,
                    "min": 0,
                    "max": 35,
                    "histogram": [
                      {
                        "bin_start": 0,
                        "bin_end": 3.5,
                        "count": 1125
                      },
                      {
                        "bin_start": 3.5,
                        "bin_end": 7,
                        "count": 37
                      },
                      {
                        "bin_start": 7,
                        "bin_end": 10.5,
                        "count": 23
                      },
                      {
                        "bin_start": 10.5,
                        "bin_end": 14,
                        "count": 14
                      },
                      {
                        "bin_start": 14,
                        "bin_end": 17.5,
                        "count": 8
                      },
                      {
                        "bin_start": 17.5,
                        "bin_end": 21,
                        "count": 0
                      },
                      {
                        "bin_start": 21,
                        "bin_end": 24.5,
                        "count": 3
                      },
                      {
                        "bin_start": 24.5,
                        "bin_end": 28,
                        "count": 4
                      },
                      {
                        "bin_start": 28,
                        "bin_end": 31.5,
                        "count": 0
                      },
                      {
                        "bin_start": 31.5,
                        "bin_end": 35,
                        "count": 1
                      }
                    ]
                  }
                },
                {
                  "name": "average_com",
                  "dtype": "float64",
                  "stats": {
                    "unique_count": 1104,
                    "nan_count": 0,
                    "min": 0,
                    "max": 522.718,
                    "histogram": [
                      {
                        "bin_start": 0,
                        "bin_end": 52.2718,
                        "count": 941
                      },
                      {
                        "bin_start": 52.2718,
                        "bin_end": 104.5436,
                        "count": 236
                      },
                      {
                        "bin_start": 104.5436,
                        "bin_end": 156.8154,
                        "count": 24
                      },
                      {
                        "bin_start": 156.8154,
                        "bin_end": 209.0872,
                        "count": 7
                      },
                      {
                        "bin_start": 209.0872,
                        "bin_end": 261.359,
                        "count": 0
                      },
                      {
                        "bin_start": 261.359,
                        "bin_end": 313.6308,
                        "count": 1
                      },
                      {
                        "bin_start": 313.6308,
                        "bin_end": 365.9026,
                        "count": 2
                      },
                      {
                        "bin_start": 365.9026,
                        "bin_end": 418.1744,
                        "count": 2
                      },
                      {
                        "bin_start": 418.1744,
                        "bin_end": 470.4462,
                        "count": 1
                      },
                      {
                        "bin_start": 470.4462,
                        "bin_end": 522.718,
                        "count": 1
                      }
                    ]
                  }
                },
                {
                  "name": "mood_next_day",
                  "dtype": "float64",
                  "stats": {
                    "unique_count": 71,
                    "nan_count": 0,
                    "min": 3,
                    "max": 9.333333333333334,
                    "histogram": [
                      {
                        "bin_start": 3,
                        "bin_end": 3.6333333333333333,
                        "count": 4
                      },
                      {
                        "bin_start": 3.6333333333333333,
                        "bin_end": 4.266666666666667,
                        "count": 3
                      },
                      {
                        "bin_start": 4.266666666666667,
                        "bin_end": 4.9,
                        "count": 6
                      },
                      {
                        "bin_start": 4.9,
                        "bin_end": 5.533333333333333,
                        "count": 26
                      },
                      {
                        "bin_start": 5.533333333333333,
                        "bin_end": 6.166666666666667,
                        "count": 83
                      },
                      {
                        "bin_start": 6.166666666666667,
                        "bin_end": 6.800000000000001,
                        "count": 349
                      },
                      {
                        "bin_start": 6.800000000000001,
                        "bin_end": 7.433333333333334,
                        "count": 432
                      },
                      {
                        "bin_start": 7.433333333333334,
                        "bin_end": 8.066666666666666,
                        "count": 269
                      },
                      {
                        "bin_start": 8.066666666666666,
                        "bin_end": 8.700000000000001,
                        "count": 38
                      },
                      {
                        "bin_start": 8.700000000000001,
                        "bin_end": 9.333333333333334,
                        "count": 5
                      }
                    ]
                  }
                },
                {
                  "name": "average_soc",
                  "dtype": "float64",
                  "stats": {
                    "unique_count": 926,
                    "nan_count": 0,
                    "min": 0,
                    "max": 3759.177625,
                    "histogram": [
                      {
                        "bin_start": 0,
                        "bin_end": 375.9177625,
                        "count": 1207
                      },
                      {
                        "bin_start": 375.9177625,
                        "bin_end": 751.835525,
                        "count": 4
                      },
                      {
                        "bin_start": 751.835525,
                        "bin_end": 1127.7532875,
                        "count": 3
                      },
                      {
                        "bin_start": 1127.7532875,
                        "bin_end": 1503.67105,
                        "count": 0
                      },
                      {
                        "bin_start": 1503.67105,
                        "bin_end": 1879.5888125,
                        "count": 0
                      },
                      {
                        "bin_start": 1879.5888125,
                        "bin_end": 2255.506575,
                        "count": 0
                      },
                      {
                        "bin_start": 2255.506575,
                        "bin_end": 2631.4243374999996,
                        "count": 0
                      },
                      {
                        "bin_start": 2631.4243374999996,
                        "bin_end": 3007.3421,
                        "count": 0
                      },
                      {
                        "bin_start": 3007.3421,
                        "bin_end": 3383.2598625,
                        "count": 0
                      },
                      {
                        "bin_start": 3383.2598625,
                        "bin_end": 3759.177625,
                        "count": 1
                      }
                    ]
                  }
                },
                {
                  "name": "average_valence",
                  "dtype": "float64",
                  "stats": {
                    "unique_count": 44,
                    "nan_count": 0,
                    "min": -1.25,
                    "max": 2,
                    "histogram": [
                      {
                        "bin_start": -1.25,
                        "bin_end": -0.925,
                        "count": 8
                      },
                      {
                        "bin_start": -0.925,
                        "bin_end": -0.6,
                        "count": 1
                      },
                      {
                        "bin_start": -0.6,
                        "bin_end": -0.2749999999999999,
                        "count": 21
                      },
                      {
                        "bin_start": -0.2749999999999999,
                        "bin_end": 0.050000000000000044,
                        "count": 100
                      },
                      {
                        "bin_start": 0.050000000000000044,
                        "bin_end": 0.375,
                        "count": 85
                      },
                      {
                        "bin_start": 0.375,
                        "bin_end": 0.7000000000000002,
                        "count": 302
                      },
                      {
                        "bin_start": 0.7000000000000002,
                        "bin_end": 1.025,
                        "count": 609
                      },
                      {
                        "bin_start": 1.025,
                        "bin_end": 1.35,
                        "count": 51
                      },
                      {
                        "bin_start": 1.35,
                        "bin_end": 1.6750000000000003,
                        "count": 32
                      },
                      {
                        "bin_start": 1.6750000000000003,
                        "bin_end": 2,
                        "count": 6
                      }
                    ]
                  }
                },
                {
                  "name": "average_arousal",
                  "dtype": "float64",
                  "stats": {
                    "unique_count": 55,
                    "nan_count": 0,
                    "min": -2,
                    "max": 2,
                    "histogram": [
                      {
                        "bin_start": -2,
                        "bin_end": -1.6,
                        "count": 12
                      },
                      {
                        "bin_start": -1.6,
                        "bin_end": -1.2,
                        "count": 36
                      },
                      {
                        "bin_start": -1.2,
                        "bin_end": -0.7999999999999998,
                        "count": 149
                      },
                      {
                        "bin_start": -0.7999999999999998,
                        "bin_end": -0.3999999999999999,
                        "count": 206
                      },
                      {
                        "bin_start": -0.3999999999999999,
                        "bin_end": 0,
                        "count": 182
                      },
                      {
                        "bin_start": 0,
                        "bin_end": 0.40000000000000036,
                        "count": 402
                      },
                      {
                        "bin_start": 0.40000000000000036,
                        "bin_end": 0.8000000000000003,
                        "count": 145
                      },
                      {
                        "bin_start": 0.8000000000000003,
                        "bin_end": 1.2000000000000002,
                        "count": 69
                      },
                      {
                        "bin_start": 1.2000000000000002,
                        "bin_end": 1.6,
                        "count": 10
                      },
                      {
                        "bin_start": 1.6,
                        "bin_end": 2,
                        "count": 4
                      }
                    ]
                  }
                },
                {
                  "name": "average_finance",
                  "dtype": "float64",
                  "stats": {
                    "unique_count": 201,
                    "nan_count": 0,
                    "min": 0,
                    "max": 149.181,
                    "histogram": [
                      {
                        "bin_start": 0,
                        "bin_end": 14.9181,
                        "count": 1102
                      },
                      {
                        "bin_start": 14.9181,
                        "bin_end": 29.8362,
                        "count": 54
                      },
                      {
                        "bin_start": 29.8362,
                        "bin_end": 44.7543,
                        "count": 26
                      },
                      {
                        "bin_start": 44.7543,
                        "bin_end": 59.6724,
                        "count": 12
                      },
                      {
                        "bin_start": 59.6724,
                        "bin_end": 74.5905,
                        "count": 11
                      },
                      {
                        "bin_start": 74.5905,
                        "bin_end": 89.5086,
                        "count": 5
                      },
                      {
                        "bin_start": 89.5086,
                        "bin_end": 104.42670000000001,
                        "count": 2
                      },
                      {
                        "bin_start": 104.42670000000001,
                        "bin_end": 119.3448,
                        "count": 0
                      },
                      {
                        "bin_start": 119.3448,
                        "bin_end": 134.2629,
                        "count": 1
                      },
                      {
                        "bin_start": 134.2629,
                        "bin_end": 149.181,
                        "count": 2
                      }
                    ]
                  }
                },
                {
                  "name": "average_office",
                  "dtype": "float64",
                  "stats": {
                    "unique_count": 257,
                    "nan_count": 0,
                    "min": 0,
                    "max": 1494.864,
                    "histogram": [
                      {
                        "bin_start": 0,
                        "bin_end": 149.4864,
                        "count": 1201
                      },
                      {
                        "bin_start": 149.4864,
                        "bin_end": 298.9728,
                        "count": 10
                      },
                      {
                        "bin_start": 298.9728,
                        "bin_end": 448.4592,
                        "count": 2
                      },
                      {
                        "bin_start": 448.4592,
                        "bin_end": 597.9456,
                        "count": 1
                      },
                      {
                        "bin_start": 597.9456,
                        "bin_end": 747.432,
                        "count": 0
                      },
                      {
                        "bin_start": 747.432,
                        "bin_end": 896.9184,
                        "count": 0
                      },
                      {
                        "bin_start": 896.9184,
                        "bin_end": 1046.4048,
                        "count": 0
                      },
                      {
                        "bin_start": 1046.4048,
                        "bin_end": 1195.8912,
                        "count": 0
                      },
                      {
                        "bin_start": 1195.8912,
                        "bin_end": 1345.3776,
                        "count": 0
                      },
                      {
                        "bin_start": 1345.3776,
                        "bin_end": 1494.864,
                        "count": 1
                      }
                    ]
                  }
                },
                {
                  "name": "average_entertainment",
                  "dtype": "float64",
                  "stats": {
                    "unique_count": 792,
                    "nan_count": 0,
                    "min": 0,
                    "max": 1650.744,
                    "histogram": [
                      {
                        "bin_start": 0,
                        "bin_end": 165.0744,
                        "count": 1087
                      },
                      {
                        "bin_start": 165.0744,
                        "bin_end": 330.1488,
                        "count": 86
                      },
                      {
                        "bin_start": 330.1488,
                        "bin_end": 495.2232,
                        "count": 23
                      },
                      {
                        "bin_start": 495.2232,
                        "bin_end": 660.2976,
                        "count": 8
                      },
                      {
                        "bin_start": 660.2976,
                        "bin_end": 825.372,
                        "count": 2
                      },
                      {
                        "bin_start": 825.372,
                        "bin_end": 990.4464,
                        "count": 4
                      },
                      {
                        "bin_start": 990.4464,
                        "bin_end": 1155.5208,
                        "count": 2
                      },
                      {
                        "bin_start": 1155.5208,
                        "bin_end": 1320.5952,
                        "count": 2
                      },
                      {
                        "bin_start": 1320.5952,
                        "bin_end": 1485.6696,
                        "count": 0
                      },
                      {
                        "bin_start": 1485.6696,
                        "bin_end": 1650.744,
                        "count": 1
                      }
                    ]
                  }
                },
                {
                  "name": "average_game",
                  "dtype": "float64",
                  "stats": {
                    "unique_count": 178,
                    "nan_count": 0,
                    "min": 0,
                    "max": 2562.907,
                    "histogram": [
                      {
                        "bin_start": 0,
                        "bin_end": 256.2907,
                        "count": 1183
                      },
                      {
                        "bin_start": 256.2907,
                        "bin_end": 512.5814,
                        "count": 17
                      },
                      {
                        "bin_start": 512.5814,
                        "bin_end": 768.8721,
                        "count": 10
                      },
                      {
                        "bin_start": 768.8721,
                        "bin_end": 1025.1628,
                        "count": 4
                      },
                      {
                        "bin_start": 1025.1628,
                        "bin_end": 1281.4535,
                        "count": 0
                      },
                      {
                        "bin_start": 1281.4535,
                        "bin_end": 1537.7442,
                        "count": 0
                      },
                      {
                        "bin_start": 1537.7442,
                        "bin_end": 1794.0349,
                        "count": 0
                      },
                      {
                        "bin_start": 1794.0349,
                        "bin_end": 2050.3256,
                        "count": 0
                      },
                      {
                        "bin_start": 2050.3256,
                        "bin_end": 2306.6163,
                        "count": 0
                      },
                      {
                        "bin_start": 2306.6163,
                        "bin_end": 2562.907,
                        "count": 1
                      }
                    ]
                  }
                },
                {
                  "name": "_deepnote_index_column",
                  "dtype": "int64"
                }
              ],
              "rows_top": [
                {
                  "Unnamed: 0": 0,
                  "unique_id": "2014-02-26_AS14.01",
                  "id": "AS14.01",
                  "date": "2014-02-26T00:00:00.000000",
                  "average_mood": 6.25,
                  "total_calls": 0,
                  "total_sms": 0,
                  "average_com": 0,
                  "mood_next_day": 6.25,
                  "average_soc": 0,
                  "average_valence": 0.75,
                  "average_arousal": -0.25,
                  "average_finance": 0,
                  "average_office": 0,
                  "average_entertainment": 0,
                  "average_game": 0,
                  "_deepnote_index_column": 0
                },
                {
                  "Unnamed: 0": 1,
                  "unique_id": "2014-03-21_AS14.01",
                  "id": "AS14.01",
                  "date": "2014-03-21T00:00:00.000000",
                  "average_mood": 6.25,
                  "total_calls": 6,
                  "total_sms": 0,
                  "average_com": 55.0955263157895,
                  "mood_next_day": 6.4,
                  "average_soc": 75.14166666666668,
                  "average_valence": 0.2,
                  "average_arousal": 0.2,
                  "average_finance": 6.1930000000000005,
                  "average_office": 57.40200000000001,
                  "average_entertainment": 53.024,
                  "average_game": 0,
                  "_deepnote_index_column": 1
                },
                {
                  "Unnamed: 0": 2,
                  "unique_id": "2014-03-22_AS14.01",
                  "id": "AS14.01",
                  "date": "2014-03-22T00:00:00.000000",
                  "average_mood": 6.4,
                  "total_calls": 0,
                  "total_sms": 0,
                  "average_com": 51.697062500000015,
                  "mood_next_day": 6.8,
                  "average_soc": 36.63599999999999,
                  "average_valence": 0.6986486486486487,
                  "average_arousal": 0.6,
                  "average_finance": 7.025333333333333,
                  "average_office": 0,
                  "average_entertainment": 46.662,
                  "average_game": 0,
                  "_deepnote_index_column": 2
                },
                {
                  "Unnamed: 0": 3,
                  "unique_id": "2014-03-23_AS14.01",
                  "id": "AS14.01",
                  "date": "2014-03-23T00:00:00.000000",
                  "average_mood": 6.8,
                  "total_calls": 0,
                  "total_sms": 0,
                  "average_com": 53.442030612244885,
                  "mood_next_day": 6,
                  "average_soc": 50.04661111111111,
                  "average_valence": 0.8,
                  "average_arousal": 0.2,
                  "average_finance": 10.85075,
                  "average_office": 0,
                  "average_entertainment": 31.448666666666668,
                  "average_game": 0,
                  "_deepnote_index_column": 3
                },
                {
                  "Unnamed: 0": 4,
                  "unique_id": "2014-03-24_AS14.01",
                  "id": "AS14.01",
                  "date": "2014-03-24T00:00:00.000000",
                  "average_mood": 6,
                  "total_calls": 0,
                  "total_sms": 0,
                  "average_com": 47.54168717948718,
                  "mood_next_day": 6.75,
                  "average_soc": 74.96804651162789,
                  "average_valence": 0,
                  "average_arousal": 0.8,
                  "average_finance": 5.684333333333334,
                  "average_office": 3.01,
                  "average_entertainment": 122.121375,
                  "average_game": 0,
                  "_deepnote_index_column": 4
                },
                {
                  "Unnamed: 0": 5,
                  "unique_id": "2014-03-25_AS14.01",
                  "id": "AS14.01",
                  "date": "2014-03-25T00:00:00.000000",
                  "average_mood": 6.75,
                  "total_calls": 0,
                  "total_sms": 0,
                  "average_com": 69.43750675675675,
                  "mood_next_day": 6.6,
                  "average_soc": 68.55253571428571,
                  "average_valence": 0.5,
                  "average_arousal": 0.5,
                  "average_finance": 10.7635,
                  "average_office": 0,
                  "average_entertainment": 34.103,
                  "average_game": 0,
                  "_deepnote_index_column": 5
                },
                {
                  "Unnamed: 0": 6,
                  "unique_id": "2014-03-26_AS14.01",
                  "id": "AS14.01",
                  "date": "2014-03-26T00:00:00.000000",
                  "average_mood": 6.6,
                  "total_calls": 0,
                  "total_sms": 0,
                  "average_com": 47.061534031413615,
                  "mood_next_day": 7,
                  "average_soc": 124.10970270270268,
                  "average_valence": 0.6,
                  "average_arousal": -0.2,
                  "average_finance": 8.721833333333334,
                  "average_office": 0,
                  "average_entertainment": 130.06842857142857,
                  "average_game": 0,
                  "_deepnote_index_column": 6
                },
                {
                  "Unnamed: 0": 7,
                  "unique_id": "2014-03-27_AS14.01",
                  "id": "AS14.01",
                  "date": "2014-03-27T00:00:00.000000",
                  "average_mood": 7,
                  "total_calls": 15,
                  "total_sms": 0,
                  "average_com": 43.3532,
                  "mood_next_day": 6.4,
                  "average_soc": 71.95238461538462,
                  "average_valence": 0.8,
                  "average_arousal": 0.2,
                  "average_finance": 14.073,
                  "average_office": 15.20425,
                  "average_entertainment": 71.03766666666667,
                  "average_game": 0,
                  "_deepnote_index_column": 7
                },
                {
                  "Unnamed: 0": 8,
                  "unique_id": "2014-03-28_AS14.01",
                  "id": "AS14.01",
                  "date": "2014-03-28T00:00:00.000000",
                  "average_mood": 6.4,
                  "total_calls": 5,
                  "total_sms": 0,
                  "average_com": 24.078694444444444,
                  "mood_next_day": 8,
                  "average_soc": 25.63705,
                  "average_valence": 0.6,
                  "average_arousal": -0.6,
                  "average_finance": 12.738,
                  "average_office": 0,
                  "average_entertainment": 91.40027272727274,
                  "average_game": 116.518,
                  "_deepnote_index_column": 8
                },
                {
                  "Unnamed: 0": 9,
                  "unique_id": "2014-03-29_AS14.01",
                  "id": "AS14.01",
                  "date": "2014-03-29T00:00:00.000000",
                  "average_mood": 8,
                  "total_calls": 0,
                  "total_sms": 0,
                  "average_com": 47.73143859649123,
                  "mood_next_day": 7.5,
                  "average_soc": 59.111,
                  "average_valence": 1,
                  "average_arousal": 0.2,
                  "average_finance": 0,
                  "average_office": 0,
                  "average_entertainment": 108.49526666666668,
                  "average_game": 0,
                  "_deepnote_index_column": 9
                },
                {
                  "Unnamed: 0": 10,
                  "unique_id": "2014-03-30_AS14.01",
                  "id": "AS14.01",
                  "date": "2014-03-30T00:00:00.000000",
                  "average_mood": 7.5,
                  "total_calls": 0,
                  "total_sms": 0,
                  "average_com": 61.83357142857143,
                  "mood_next_day": 7.4,
                  "average_soc": 55.895,
                  "average_valence": 0.75,
                  "average_arousal": -0.5,
                  "average_finance": 0,
                  "average_office": 0,
                  "average_entertainment": 170.63077777777778,
                  "average_game": 0,
                  "_deepnote_index_column": 10
                },
                {
                  "Unnamed: 0": 11,
                  "unique_id": "2014-03-31_AS14.01",
                  "id": "AS14.01",
                  "date": "2014-03-31T00:00:00.000000",
                  "average_mood": 7.4,
                  "total_calls": 10,
                  "total_sms": 0,
                  "average_com": 41.33827131782945,
                  "mood_next_day": 6,
                  "average_soc": 56.277291666666656,
                  "average_valence": 0.6,
                  "average_arousal": 0,
                  "average_finance": 6.8758333333333335,
                  "average_office": 0,
                  "average_entertainment": 51.73294117647058,
                  "average_game": 51.176,
                  "_deepnote_index_column": 11
                },
                {
                  "Unnamed: 0": 12,
                  "unique_id": "2014-04-01_AS14.01",
                  "id": "AS14.01",
                  "date": "2014-04-01T00:00:00.000000",
                  "average_mood": 6,
                  "total_calls": 1,
                  "total_sms": 0,
                  "average_com": 33.12785869565218,
                  "mood_next_day": 6.5,
                  "average_soc": 45.81879090909093,
                  "average_valence": 0,
                  "average_arousal": 0.2,
                  "average_finance": 15.21738888888889,
                  "average_office": 30.796000000000003,
                  "average_entertainment": 42.94320833333333,
                  "average_game": 78.247,
                  "_deepnote_index_column": 12
                },
                {
                  "Unnamed: 0": 13,
                  "unique_id": "2014-04-02_AS14.01",
                  "id": "AS14.01",
                  "date": "2014-04-02T00:00:00.000000",
                  "average_mood": 6.5,
                  "total_calls": 4,
                  "total_sms": 0,
                  "average_com": 33.75685853658536,
                  "mood_next_day": 6.4,
                  "average_soc": 64.69418867924529,
                  "average_valence": 0.6986486486486487,
                  "average_arousal": -0.27125,
                  "average_finance": 13.040894736842104,
                  "average_office": 90.481,
                  "average_entertainment": 46.32331034482758,
                  "average_game": 0,
                  "_deepnote_index_column": 13
                },
                {
                  "Unnamed: 0": 14,
                  "unique_id": "2014-04-03_AS14.01",
                  "id": "AS14.01",
                  "date": "2014-04-03T00:00:00.000000",
                  "average_mood": 6.4,
                  "total_calls": 4,
                  "total_sms": 0,
                  "average_com": 46.42470096463021,
                  "mood_next_day": 6.2,
                  "average_soc": 44.4259295774648,
                  "average_valence": 0,
                  "average_arousal": -1.2,
                  "average_finance": 25.41133333333333,
                  "average_office": 0,
                  "average_entertainment": 49.75503846153846,
                  "average_game": 0,
                  "_deepnote_index_column": 14
                },
                {
                  "Unnamed: 0": 15,
                  "unique_id": "2014-04-04_AS14.01",
                  "id": "AS14.01",
                  "date": "2014-04-04T00:00:00.000000",
                  "average_mood": 6.2,
                  "total_calls": 0,
                  "total_sms": 0,
                  "average_com": 44.566081300813,
                  "mood_next_day": 6.8,
                  "average_soc": 71.93782758620691,
                  "average_valence": 0.4,
                  "average_arousal": 0.2,
                  "average_finance": 0,
                  "average_office": 0,
                  "average_entertainment": 96.5766875,
                  "average_game": 0,
                  "_deepnote_index_column": 15
                },
                {
                  "Unnamed: 0": 16,
                  "unique_id": "2014-04-05_AS14.01",
                  "id": "AS14.01",
                  "date": "2014-04-05T00:00:00.000000",
                  "average_mood": 6.8,
                  "total_calls": 0,
                  "total_sms": 0,
                  "average_com": 37.70818,
                  "mood_next_day": 6.5,
                  "average_soc": 45.401,
                  "average_valence": 0.6,
                  "average_arousal": -0.4,
                  "average_finance": 0,
                  "average_office": 0,
                  "average_entertainment": 76.369,
                  "average_game": 0,
                  "_deepnote_index_column": 16
                },
                {
                  "Unnamed: 0": 17,
                  "unique_id": "2014-04-06_AS14.01",
                  "id": "AS14.01",
                  "date": "2014-04-06T00:00:00.000000",
                  "average_mood": 6.5,
                  "total_calls": 6,
                  "total_sms": 0,
                  "average_com": 47.939185714285735,
                  "mood_next_day": 6.5,
                  "average_soc": 64.292,
                  "average_valence": 0.5,
                  "average_arousal": -0.75,
                  "average_finance": 0,
                  "average_office": 0,
                  "average_entertainment": 93.607,
                  "average_game": 57.203,
                  "_deepnote_index_column": 17
                },
                {
                  "Unnamed: 0": 18,
                  "unique_id": "2014-04-07_AS14.01",
                  "id": "AS14.01",
                  "date": "2014-04-07T00:00:00.000000",
                  "average_mood": 6.5,
                  "total_calls": 1,
                  "total_sms": 0,
                  "average_com": 57.01562015503877,
                  "mood_next_day": 6.6,
                  "average_soc": 61.47575,
                  "average_valence": 0.25,
                  "average_arousal": -0.27125,
                  "average_finance": 9.2256,
                  "average_office": 17.107,
                  "average_entertainment": 74.52016666666667,
                  "average_game": 0,
                  "_deepnote_index_column": 18
                },
                {
                  "Unnamed: 0": 19,
                  "unique_id": "2014-04-08_AS14.01",
                  "id": "AS14.01",
                  "date": "2014-04-08T00:00:00.000000",
                  "average_mood": 6.6,
                  "total_calls": 1,
                  "total_sms": 0,
                  "average_com": 49.10649222797928,
                  "mood_next_day": 7.4,
                  "average_soc": 59.00268888888889,
                  "average_valence": 0.6986486486486487,
                  "average_arousal": -0.4,
                  "average_finance": 6.377,
                  "average_office": 0,
                  "average_entertainment": 165.07042857142855,
                  "average_game": 0,
                  "_deepnote_index_column": 19
                },
                {
                  "Unnamed: 0": 20,
                  "unique_id": "2014-04-09_AS14.01",
                  "id": "AS14.01",
                  "date": "2014-04-09T00:00:00.000000",
                  "average_mood": 7.4,
                  "total_calls": 4,
                  "total_sms": 0,
                  "average_com": 38.130098765432095,
                  "mood_next_day": 7.4,
                  "average_soc": 44.161718750000006,
                  "average_valence": 0.6986486486486487,
                  "average_arousal": -0.8,
                  "average_finance": 0,
                  "average_office": 0,
                  "average_entertainment": 78.3975,
                  "average_game": 0,
                  "_deepnote_index_column": 20
                },
                {
                  "Unnamed: 0": 21,
                  "unique_id": "2014-04-10_AS14.01",
                  "id": "AS14.01",
                  "date": "2014-04-10T00:00:00.000000",
                  "average_mood": 7.4,
                  "total_calls": 0,
                  "total_sms": 0,
                  "average_com": 65.08548,
                  "mood_next_day": 7,
                  "average_soc": 39.15723333333335,
                  "average_valence": 0.8,
                  "average_arousal": -0.4,
                  "average_finance": 0,
                  "average_office": 23.195,
                  "average_entertainment": 154.90775000000002,
                  "average_game": 1.059,
                  "_deepnote_index_column": 21
                },
                {
                  "Unnamed: 0": 22,
                  "unique_id": "2014-04-11_AS14.01",
                  "id": "AS14.01",
                  "date": "2014-04-11T00:00:00.000000",
                  "average_mood": 7,
                  "total_calls": 0,
                  "total_sms": 0,
                  "average_com": 27.57514049586778,
                  "mood_next_day": 7.25,
                  "average_soc": 45.90823076923077,
                  "average_valence": 0.8,
                  "average_arousal": -1.2,
                  "average_finance": 15.682166666666667,
                  "average_office": 0,
                  "average_entertainment": 123.508625,
                  "average_game": 0,
                  "_deepnote_index_column": 22
                },
                {
                  "Unnamed: 0": 23,
                  "unique_id": "2014-04-12_AS14.01",
                  "id": "AS14.01",
                  "date": "2014-04-12T00:00:00.000000",
                  "average_mood": 7.25,
                  "total_calls": 0,
                  "total_sms": 0,
                  "average_com": 143.37136956521735,
                  "mood_next_day": 8,
                  "average_soc": 44.072,
                  "average_valence": 0.75,
                  "average_arousal": -0.75,
                  "average_finance": 0,
                  "average_office": 0,
                  "average_entertainment": 182.2068333333333,
                  "average_game": 0,
                  "_deepnote_index_column": 23
                },
                {
                  "Unnamed: 0": 24,
                  "unique_id": "2014-04-13_AS14.01",
                  "id": "AS14.01",
                  "date": "2014-04-13T00:00:00.000000",
                  "average_mood": 8,
                  "total_calls": 0,
                  "total_sms": 0,
                  "average_com": 47.686739130434766,
                  "mood_next_day": 7.2,
                  "average_soc": 17.250999999999998,
                  "average_valence": 1,
                  "average_arousal": -1.25,
                  "average_finance": 9.157,
                  "average_office": 0,
                  "average_entertainment": 62.348,
                  "average_game": 0,
                  "_deepnote_index_column": 24
                },
                {
                  "Unnamed: 0": 25,
                  "unique_id": "2014-04-14_AS14.01",
                  "id": "AS14.01",
                  "date": "2014-04-14T00:00:00.000000",
                  "average_mood": 7.2,
                  "total_calls": 8,
                  "total_sms": 8,
                  "average_com": 51.478444444444456,
                  "mood_next_day": 6.4,
                  "average_soc": 162.3325,
                  "average_valence": 0.6,
                  "average_arousal": -1.2,
                  "average_finance": 14.887166666666667,
                  "average_office": 0,
                  "average_entertainment": 216.05365517241376,
                  "average_game": 0,
                  "_deepnote_index_column": 25
                },
                {
                  "Unnamed: 0": 26,
                  "unique_id": "2014-04-15_AS14.01",
                  "id": "AS14.01",
                  "date": "2014-04-15T00:00:00.000000",
                  "average_mood": 6.4,
                  "total_calls": 0,
                  "total_sms": 1,
                  "average_com": 40.681248366013065,
                  "mood_next_day": 7.2,
                  "average_soc": 100.6411363636364,
                  "average_valence": 0.8,
                  "average_arousal": 0,
                  "average_finance": 4.347666666666666,
                  "average_office": 0,
                  "average_entertainment": 49.71168421052632,
                  "average_game": 0,
                  "_deepnote_index_column": 26
                },
                {
                  "Unnamed: 0": 27,
                  "unique_id": "2014-04-16_AS14.01",
                  "id": "AS14.01",
                  "date": "2014-04-16T00:00:00.000000",
                  "average_mood": 7.2,
                  "total_calls": 0,
                  "total_sms": 0,
                  "average_com": 36.9644,
                  "mood_next_day": 6.6,
                  "average_soc": 65.96041379310344,
                  "average_valence": 0.6986486486486487,
                  "average_arousal": -0.27125,
                  "average_finance": 0,
                  "average_office": 0,
                  "average_entertainment": 23.707444444444448,
                  "average_game": 0,
                  "_deepnote_index_column": 27
                },
                {
                  "Unnamed: 0": 28,
                  "unique_id": "2014-04-17_AS14.01",
                  "id": "AS14.01",
                  "date": "2014-04-17T00:00:00.000000",
                  "average_mood": 6.6,
                  "total_calls": 10,
                  "total_sms": 0,
                  "average_com": 108.74622935779814,
                  "mood_next_day": 6.8,
                  "average_soc": 70.2382,
                  "average_valence": 0.6,
                  "average_arousal": -0.4,
                  "average_finance": 0,
                  "average_office": 0,
                  "average_entertainment": 28.448200000000003,
                  "average_game": 0,
                  "_deepnote_index_column": 28
                },
                {
                  "Unnamed: 0": 29,
                  "unique_id": "2014-04-18_AS14.01",
                  "id": "AS14.01",
                  "date": "2014-04-18T00:00:00.000000",
                  "average_mood": 6.8,
                  "total_calls": 1,
                  "total_sms": 0,
                  "average_com": 65.14215853658536,
                  "mood_next_day": 7.8,
                  "average_soc": 199.3922,
                  "average_valence": 0.8,
                  "average_arousal": -0.8,
                  "average_finance": 17.023285714285713,
                  "average_office": 0,
                  "average_entertainment": 86.03933333333333,
                  "average_game": 0,
                  "_deepnote_index_column": 29
                },
                {
                  "Unnamed: 0": 30,
                  "unique_id": "2014-04-19_AS14.01",
                  "id": "AS14.01",
                  "date": "2014-04-19T00:00:00.000000",
                  "average_mood": 7.8,
                  "total_calls": 1,
                  "total_sms": 0,
                  "average_com": 35.43194805194805,
                  "mood_next_day": 7.25,
                  "average_soc": 36.06109090909092,
                  "average_valence": 1,
                  "average_arousal": -0.2,
                  "average_finance": 15.938166666666667,
                  "average_office": 0,
                  "average_entertainment": 78.21233333333333,
                  "average_game": 29.084,
                  "_deepnote_index_column": 30
                }
              ],
              "rows_bottom": [
                {
                  "Unnamed: 0": 1184,
                  "unique_id": "2014-04-24_AS14.33",
                  "id": "AS14.33",
                  "date": "2014-04-24T00:00:00.000000",
                  "average_mood": 7,
                  "total_calls": 5,
                  "total_sms": 5,
                  "average_com": 52.47904166666666,
                  "mood_next_day": 8.4,
                  "average_soc": 80.1635652173913,
                  "average_valence": 1,
                  "average_arousal": -0.25,
                  "average_finance": 0,
                  "average_office": 0,
                  "average_entertainment": 86.14822222222222,
                  "average_game": 0,
                  "_deepnote_index_column": 1184
                },
                {
                  "Unnamed: 0": 1185,
                  "unique_id": "2014-04-25_AS14.33",
                  "id": "AS14.33",
                  "date": "2014-04-25T00:00:00.000000",
                  "average_mood": 8.4,
                  "total_calls": 31,
                  "total_sms": 2,
                  "average_com": 28.73631914893617,
                  "mood_next_day": 7.6,
                  "average_soc": 45.21737704918032,
                  "average_valence": 0.4811111111111111,
                  "average_arousal": 0.8,
                  "average_finance": 0,
                  "average_office": 0,
                  "average_entertainment": 134.67675,
                  "average_game": 0,
                  "_deepnote_index_column": 1185
                },
                {
                  "Unnamed: 0": 1186,
                  "unique_id": "2014-04-26_AS14.33",
                  "id": "AS14.33",
                  "date": "2014-04-26T00:00:00.000000",
                  "average_mood": 7.6,
                  "total_calls": 18,
                  "total_sms": 0,
                  "average_com": 30.114727272727272,
                  "mood_next_day": 6.2,
                  "average_soc": 51.19739344262295,
                  "average_valence": 1,
                  "average_arousal": 0.4,
                  "average_finance": 0,
                  "average_office": 0,
                  "average_entertainment": 75.35533333333333,
                  "average_game": 0,
                  "_deepnote_index_column": 1186
                },
                {
                  "Unnamed: 0": 1187,
                  "unique_id": "2014-04-27_AS14.33",
                  "id": "AS14.33",
                  "date": "2014-04-27T00:00:00.000000",
                  "average_mood": 6.2,
                  "total_calls": 4,
                  "total_sms": 0,
                  "average_com": 64.68579166666665,
                  "mood_next_day": 6.75,
                  "average_soc": 135.49050819672132,
                  "average_valence": 0.4,
                  "average_arousal": -1.2,
                  "average_finance": 0,
                  "average_office": 0,
                  "average_entertainment": 151.0524545454546,
                  "average_game": 0,
                  "_deepnote_index_column": 1187
                },
                {
                  "Unnamed: 0": 1188,
                  "unique_id": "2014-04-28_AS14.33",
                  "id": "AS14.33",
                  "date": "2014-04-28T00:00:00.000000",
                  "average_mood": 6.75,
                  "total_calls": 2,
                  "total_sms": 5,
                  "average_com": 70.9519090909091,
                  "mood_next_day": 6.2,
                  "average_soc": 70.12939000000001,
                  "average_valence": 0.75,
                  "average_arousal": -1.25,
                  "average_finance": 0,
                  "average_office": 0,
                  "average_entertainment": 156.3201666666667,
                  "average_game": 0,
                  "_deepnote_index_column": 1188
                },
                {
                  "Unnamed: 0": 1189,
                  "unique_id": "2014-04-29_AS14.33",
                  "id": "AS14.33",
                  "date": "2014-04-29T00:00:00.000000",
                  "average_mood": 6.2,
                  "total_calls": 3,
                  "total_sms": 0,
                  "average_com": 37.49181818181819,
                  "mood_next_day": 6.4,
                  "average_soc": 81.46556578947367,
                  "average_valence": 0.4,
                  "average_arousal": -0.4,
                  "average_finance": 0,
                  "average_office": 0,
                  "average_entertainment": 65.97538461538463,
                  "average_game": 0,
                  "_deepnote_index_column": 1189
                },
                {
                  "Unnamed: 0": 1190,
                  "unique_id": "2014-04-30_AS14.33",
                  "id": "AS14.33",
                  "date": "2014-04-30T00:00:00.000000",
                  "average_mood": 6.4,
                  "total_calls": 1,
                  "total_sms": 0,
                  "average_com": 35.329947368421045,
                  "mood_next_day": 7.5,
                  "average_soc": 96.54433333333331,
                  "average_valence": 0.4811111111111111,
                  "average_arousal": -1,
                  "average_finance": 0,
                  "average_office": 0,
                  "average_entertainment": 149.64666666666668,
                  "average_game": 0,
                  "_deepnote_index_column": 1190
                },
                {
                  "Unnamed: 0": 1191,
                  "unique_id": "2014-05-04_AS14.33",
                  "id": "AS14.33",
                  "date": "2014-05-04T00:00:00.000000",
                  "average_mood": 7.5,
                  "total_calls": 11,
                  "total_sms": 0,
                  "average_com": 38.915625,
                  "mood_next_day": 6.125,
                  "average_soc": 74.07040740740742,
                  "average_valence": 1,
                  "average_arousal": 0,
                  "average_finance": 0,
                  "average_office": 0,
                  "average_entertainment": 45.66690909090909,
                  "average_game": 0,
                  "_deepnote_index_column": 1191
                },
                {
                  "Unnamed: 0": 1192,
                  "unique_id": "2014-05-07_AS14.33",
                  "id": "AS14.33",
                  "date": "2014-05-07T00:00:00.000000",
                  "average_mood": 6.125,
                  "total_calls": 1,
                  "total_sms": 0,
                  "average_com": 7.083,
                  "mood_next_day": 6.6,
                  "average_soc": 133.237,
                  "average_valence": -0.5,
                  "average_arousal": -0.25,
                  "average_finance": 0,
                  "average_office": 0,
                  "average_entertainment": 93.74116666666664,
                  "average_game": 0,
                  "_deepnote_index_column": 1192
                },
                {
                  "Unnamed: 0": 1193,
                  "unique_id": "2014-05-08_AS14.33",
                  "id": "AS14.33",
                  "date": "2014-05-08T00:00:00.000000",
                  "average_mood": 6.6,
                  "total_calls": 0,
                  "total_sms": 0,
                  "average_com": 63.08873333333332,
                  "mood_next_day": 4.8,
                  "average_soc": 158.47776315789474,
                  "average_valence": 0.4,
                  "average_arousal": -0.8,
                  "average_finance": 0,
                  "average_office": 0,
                  "average_entertainment": 85.939125,
                  "average_game": 0,
                  "_deepnote_index_column": 1193
                },
                {
                  "Unnamed: 0": 1194,
                  "unique_id": "2014-05-09_AS14.33",
                  "id": "AS14.33",
                  "date": "2014-05-09T00:00:00.000000",
                  "average_mood": 4.8,
                  "total_calls": 0,
                  "total_sms": 0,
                  "average_com": 62.00627272727272,
                  "mood_next_day": 7.6,
                  "average_soc": 157.38062499999998,
                  "average_valence": -0.2,
                  "average_arousal": 0.2,
                  "average_finance": 0,
                  "average_office": 0,
                  "average_entertainment": 74.16936363636363,
                  "average_game": 0,
                  "_deepnote_index_column": 1194
                },
                {
                  "Unnamed: 0": 1195,
                  "unique_id": "2014-05-10_AS14.33",
                  "id": "AS14.33",
                  "date": "2014-05-10T00:00:00.000000",
                  "average_mood": 7.6,
                  "total_calls": 0,
                  "total_sms": 0,
                  "average_com": 18.080583333333337,
                  "mood_next_day": 6,
                  "average_soc": 46.36496428571429,
                  "average_valence": 1,
                  "average_arousal": -0.4,
                  "average_finance": 0,
                  "average_office": 0,
                  "average_entertainment": 67.08522222222223,
                  "average_game": 0,
                  "_deepnote_index_column": 1195
                },
                {
                  "Unnamed: 0": 1196,
                  "unique_id": "2014-05-11_AS14.33",
                  "id": "AS14.33",
                  "date": "2014-05-11T00:00:00.000000",
                  "average_mood": 6,
                  "total_calls": 0,
                  "total_sms": 0,
                  "average_com": 36.03921428571429,
                  "mood_next_day": 6,
                  "average_soc": 109.34063157894737,
                  "average_valence": 0.4,
                  "average_arousal": 0,
                  "average_finance": 0,
                  "average_office": 6.036,
                  "average_entertainment": 29.80308333333333,
                  "average_game": 0,
                  "_deepnote_index_column": 1196
                },
                {
                  "Unnamed: 0": 1197,
                  "unique_id": "2014-05-12_AS14.33",
                  "id": "AS14.33",
                  "date": "2014-05-12T00:00:00.000000",
                  "average_mood": 6,
                  "total_calls": 13,
                  "total_sms": 0,
                  "average_com": 71.05900000000001,
                  "mood_next_day": 5,
                  "average_soc": 96.1325476190476,
                  "average_valence": 0.5,
                  "average_arousal": -0.75,
                  "average_finance": 0,
                  "average_office": 0,
                  "average_entertainment": 59.3545,
                  "average_game": 0,
                  "_deepnote_index_column": 1197
                },
                {
                  "Unnamed: 0": 1198,
                  "unique_id": "2014-05-13_AS14.33",
                  "id": "AS14.33",
                  "date": "2014-05-13T00:00:00.000000",
                  "average_mood": 5,
                  "total_calls": 0,
                  "total_sms": 0,
                  "average_com": 117.31816216216212,
                  "mood_next_day": 6.833333333333333,
                  "average_soc": 70.49519148936172,
                  "average_valence": 0,
                  "average_arousal": 0.5,
                  "average_finance": 0,
                  "average_office": 0,
                  "average_entertainment": 102.67525,
                  "average_game": 0,
                  "_deepnote_index_column": 1198
                },
                {
                  "Unnamed: 0": 1199,
                  "unique_id": "2014-05-14_AS14.33",
                  "id": "AS14.33",
                  "date": "2014-05-14T00:00:00.000000",
                  "average_mood": 6.833333333333333,
                  "total_calls": 0,
                  "total_sms": 0,
                  "average_com": 26.813666666666663,
                  "mood_next_day": 6,
                  "average_soc": 220.86894117647057,
                  "average_valence": 0.4811111111111111,
                  "average_arousal": -0.3333333333333333,
                  "average_finance": 0,
                  "average_office": 0,
                  "average_entertainment": 136.70175,
                  "average_game": 0,
                  "_deepnote_index_column": 1199
                },
                {
                  "Unnamed: 0": 1200,
                  "unique_id": "2014-05-15_AS14.33",
                  "id": "AS14.33",
                  "date": "2014-05-15T00:00:00.000000",
                  "average_mood": 6,
                  "total_calls": 8,
                  "total_sms": 0,
                  "average_com": 46.31244,
                  "mood_next_day": 7,
                  "average_soc": 83.54154117647063,
                  "average_valence": 0.4811111111111111,
                  "average_arousal": 0,
                  "average_finance": 0,
                  "average_office": 0,
                  "average_entertainment": 43.55570588235295,
                  "average_game": 0,
                  "_deepnote_index_column": 1200
                },
                {
                  "Unnamed: 0": 1201,
                  "unique_id": "2014-05-16_AS14.33",
                  "id": "AS14.33",
                  "date": "2014-05-16T00:00:00.000000",
                  "average_mood": 7,
                  "total_calls": 11,
                  "total_sms": 0,
                  "average_com": 41.621538461538464,
                  "mood_next_day": 6,
                  "average_soc": 67.17041463414633,
                  "average_valence": 0.4811111111111111,
                  "average_arousal": 0.4,
                  "average_finance": 0,
                  "average_office": 0,
                  "average_entertainment": 47.19935714285714,
                  "average_game": 0,
                  "_deepnote_index_column": 1201
                },
                {
                  "Unnamed: 0": 1202,
                  "unique_id": "2014-05-17_AS14.33",
                  "id": "AS14.33",
                  "date": "2014-05-17T00:00:00.000000",
                  "average_mood": 6,
                  "total_calls": 0,
                  "total_sms": 0,
                  "average_com": 28.5698,
                  "mood_next_day": 6,
                  "average_soc": 86.96725,
                  "average_valence": 0.4811111111111111,
                  "average_arousal": 0.25,
                  "average_finance": 0,
                  "average_office": 0,
                  "average_entertainment": 49.18555555555555,
                  "average_game": 0,
                  "_deepnote_index_column": 1202
                },
                {
                  "Unnamed: 0": 1203,
                  "unique_id": "2014-05-18_AS14.33",
                  "id": "AS14.33",
                  "date": "2014-05-18T00:00:00.000000",
                  "average_mood": 6,
                  "total_calls": 0,
                  "total_sms": 0,
                  "average_com": 85.93733333333331,
                  "mood_next_day": 6.2,
                  "average_soc": 118.61031506849316,
                  "average_valence": 0.2,
                  "average_arousal": -0.6,
                  "average_finance": 0,
                  "average_office": 0,
                  "average_entertainment": 63.26666666666665,
                  "average_game": 0,
                  "_deepnote_index_column": 1203
                },
                {
                  "Unnamed: 0": 1204,
                  "unique_id": "2014-05-19_AS14.33",
                  "id": "AS14.33",
                  "date": "2014-05-19T00:00:00.000000",
                  "average_mood": 6.2,
                  "total_calls": 0,
                  "total_sms": 0,
                  "average_com": 33.11727272727273,
                  "mood_next_day": 6.25,
                  "average_soc": 125.02726923076924,
                  "average_valence": 0.2,
                  "average_arousal": -0.2,
                  "average_finance": 0,
                  "average_office": 0,
                  "average_entertainment": 106.978,
                  "average_game": 0,
                  "_deepnote_index_column": 1204
                },
                {
                  "Unnamed: 0": 1205,
                  "unique_id": "2014-05-20_AS14.33",
                  "id": "AS14.33",
                  "date": "2014-05-20T00:00:00.000000",
                  "average_mood": 6.25,
                  "total_calls": 0,
                  "total_sms": 0,
                  "average_com": 96.38788888888888,
                  "mood_next_day": 6,
                  "average_soc": 155.1499189189189,
                  "average_valence": 0.5,
                  "average_arousal": -0.5,
                  "average_finance": 0,
                  "average_office": 0,
                  "average_entertainment": 131.26640000000003,
                  "average_game": 0,
                  "_deepnote_index_column": 1205
                },
                {
                  "Unnamed: 0": 1206,
                  "unique_id": "2014-05-21_AS14.33",
                  "id": "AS14.33",
                  "date": "2014-05-21T00:00:00.000000",
                  "average_mood": 6,
                  "total_calls": 0,
                  "total_sms": 0,
                  "average_com": 69.80430769230769,
                  "mood_next_day": 5.75,
                  "average_soc": 121.85502,
                  "average_valence": 0.4811111111111111,
                  "average_arousal": -0.6666666666666666,
                  "average_finance": 0,
                  "average_office": 0,
                  "average_entertainment": 71.1068,
                  "average_game": 0,
                  "_deepnote_index_column": 1206
                },
                {
                  "Unnamed: 0": 1207,
                  "unique_id": "2014-05-22_AS14.33",
                  "id": "AS14.33",
                  "date": "2014-05-22T00:00:00.000000",
                  "average_mood": 5.75,
                  "total_calls": 8,
                  "total_sms": 0,
                  "average_com": 45.43628571428571,
                  "mood_next_day": 5.833333333333333,
                  "average_soc": 52.22394594594596,
                  "average_valence": 0.25,
                  "average_arousal": 0.5,
                  "average_finance": 0,
                  "average_office": 0,
                  "average_entertainment": 90.15833333333332,
                  "average_game": 0,
                  "_deepnote_index_column": 1207
                },
                {
                  "Unnamed: 0": 1208,
                  "unique_id": "2014-05-23_AS14.33",
                  "id": "AS14.33",
                  "date": "2014-05-23T00:00:00.000000",
                  "average_mood": 5.833333333333333,
                  "total_calls": 0,
                  "total_sms": 0,
                  "average_com": 37.2525909090909,
                  "mood_next_day": 6.4,
                  "average_soc": 195.19069696969697,
                  "average_valence": 0,
                  "average_arousal": -0.8333333333333334,
                  "average_finance": 0,
                  "average_office": 0,
                  "average_entertainment": 257.548,
                  "average_game": 0,
                  "_deepnote_index_column": 1208
                },
                {
                  "Unnamed: 0": 1209,
                  "unique_id": "2014-05-24_AS14.33",
                  "id": "AS14.33",
                  "date": "2014-05-24T00:00:00.000000",
                  "average_mood": 6.4,
                  "total_calls": 0,
                  "total_sms": 0,
                  "average_com": 41.9242962962963,
                  "mood_next_day": 6.25,
                  "average_soc": 107.59092452830193,
                  "average_valence": 0.4811111111111111,
                  "average_arousal": -0.2982456140350877,
                  "average_finance": 0,
                  "average_office": 0,
                  "average_entertainment": 80.71535714285713,
                  "average_game": 0,
                  "_deepnote_index_column": 1209
                },
                {
                  "Unnamed: 0": 1210,
                  "unique_id": "2014-05-25_AS14.33",
                  "id": "AS14.33",
                  "date": "2014-05-25T00:00:00.000000",
                  "average_mood": 6.25,
                  "total_calls": 3,
                  "total_sms": 8,
                  "average_com": 34.82986666666666,
                  "mood_next_day": 5.4,
                  "average_soc": 45.53446031746032,
                  "average_valence": 0.4811111111111111,
                  "average_arousal": -0.75,
                  "average_finance": 0,
                  "average_office": 0,
                  "average_entertainment": 64.73866666666667,
                  "average_game": 0,
                  "_deepnote_index_column": 1210
                },
                {
                  "Unnamed: 0": 1211,
                  "unique_id": "2014-05-26_AS14.33",
                  "id": "AS14.33",
                  "date": "2014-05-26T00:00:00.000000",
                  "average_mood": 5.4,
                  "total_calls": 10,
                  "total_sms": 3,
                  "average_com": 34.32047222222222,
                  "mood_next_day": 6.2,
                  "average_soc": 111.04620408163264,
                  "average_valence": 0,
                  "average_arousal": -0.4,
                  "average_finance": 0,
                  "average_office": 130.53,
                  "average_entertainment": 68.8769,
                  "average_game": 0,
                  "_deepnote_index_column": 1211
                },
                {
                  "Unnamed: 0": 1212,
                  "unique_id": "2014-05-27_AS14.33",
                  "id": "AS14.33",
                  "date": "2014-05-27T00:00:00.000000",
                  "average_mood": 6.2,
                  "total_calls": 1,
                  "total_sms": 2,
                  "average_com": 59.38294285714287,
                  "mood_next_day": 8.2,
                  "average_soc": 50.2591,
                  "average_valence": 0.4,
                  "average_arousal": -0.6,
                  "average_finance": 0,
                  "average_office": 0,
                  "average_entertainment": 62.347,
                  "average_game": 0,
                  "_deepnote_index_column": 1212
                },
                {
                  "Unnamed: 0": 1213,
                  "unique_id": "2014-05-28_AS14.33",
                  "id": "AS14.33",
                  "date": "2014-05-28T00:00:00.000000",
                  "average_mood": 8.2,
                  "total_calls": 10,
                  "total_sms": 1,
                  "average_com": 37.23875,
                  "mood_next_day": 7,
                  "average_soc": 99.2816851851852,
                  "average_valence": 1.2,
                  "average_arousal": 0,
                  "average_finance": 0,
                  "average_office": 0,
                  "average_entertainment": 43.90757142857144,
                  "average_game": 0,
                  "_deepnote_index_column": 1213
                },
                {
                  "Unnamed: 0": 1214,
                  "unique_id": "2014-05-29_AS14.33",
                  "id": "AS14.33",
                  "date": "2014-05-29T00:00:00.000000",
                  "average_mood": 7,
                  "total_calls": 5,
                  "total_sms": 0,
                  "average_com": 54.388125,
                  "mood_next_day": 6.8,
                  "average_soc": 198.88022222222224,
                  "average_valence": 1,
                  "average_arousal": -1.3333333333333333,
                  "average_finance": 0,
                  "average_office": 0,
                  "average_entertainment": 68.369,
                  "average_game": 0,
                  "_deepnote_index_column": 1214
                }
              ]
            },
            "text/plain": "      Unnamed: 0           unique_id       id       date  average_mood  \\\n0              0  2014-02-26_AS14.01  AS14.01 2014-02-26          6.25   \n1              1  2014-03-21_AS14.01  AS14.01 2014-03-21          6.25   \n2              2  2014-03-22_AS14.01  AS14.01 2014-03-22          6.40   \n3              3  2014-03-23_AS14.01  AS14.01 2014-03-23          6.80   \n4              4  2014-03-24_AS14.01  AS14.01 2014-03-24          6.00   \n...          ...                 ...      ...        ...           ...   \n1210        1210  2014-05-25_AS14.33  AS14.33 2014-05-25          6.25   \n1211        1211  2014-05-26_AS14.33  AS14.33 2014-05-26          5.40   \n1212        1212  2014-05-27_AS14.33  AS14.33 2014-05-27          6.20   \n1213        1213  2014-05-28_AS14.33  AS14.33 2014-05-28          8.20   \n1214        1214  2014-05-29_AS14.33  AS14.33 2014-05-29          7.00   \n\n      total_calls  total_sms  average_com  mood_next_day  average_soc  \\\n0             0.0        0.0     0.000000           6.25     0.000000   \n1             6.0        0.0    55.095526           6.40    75.141667   \n2             0.0        0.0    51.697063           6.80    36.636000   \n3             0.0        0.0    53.442031           6.00    50.046611   \n4             0.0        0.0    47.541687           6.75    74.968047   \n...           ...        ...          ...            ...          ...   \n1210          3.0        8.0    34.829867           5.40    45.534460   \n1211         10.0        3.0    34.320472           6.20   111.046204   \n1212          1.0        2.0    59.382943           8.20    50.259100   \n1213         10.0        1.0    37.238750           7.00    99.281685   \n1214          5.0        0.0    54.388125           6.80   198.880222   \n\n      average_valence  average_arousal  average_finance  average_office  \\\n0            0.750000        -0.250000         0.000000           0.000   \n1            0.200000         0.200000         6.193000          57.402   \n2            0.698649         0.600000         7.025333           0.000   \n3            0.800000         0.200000        10.850750           0.000   \n4            0.000000         0.800000         5.684333           3.010   \n...               ...              ...              ...             ...   \n1210         0.481111        -0.750000         0.000000           0.000   \n1211         0.000000        -0.400000         0.000000         130.530   \n1212         0.400000        -0.600000         0.000000           0.000   \n1213         1.200000         0.000000         0.000000           0.000   \n1214         1.000000        -1.333333         0.000000           0.000   \n\n      average_entertainment  average_game  \n0                  0.000000           0.0  \n1                 53.024000           0.0  \n2                 46.662000           0.0  \n3                 31.448667           0.0  \n4                122.121375           0.0  \n...                     ...           ...  \n1210              64.738667           0.0  \n1211              68.876900           0.0  \n1212              62.347000           0.0  \n1213              43.907571           0.0  \n1214              68.369000           0.0  \n\n[1215 rows x 16 columns]",
            "text/html": "<div>\n<style scoped>\n    .dataframe tbody tr th:only-of-type {\n        vertical-align: middle;\n    }\n\n    .dataframe tbody tr th {\n        vertical-align: top;\n    }\n\n    .dataframe thead th {\n        text-align: right;\n    }\n</style>\n<table border=\"1\" class=\"dataframe\">\n  <thead>\n    <tr style=\"text-align: right;\">\n      <th></th>\n      <th>Unnamed: 0</th>\n      <th>unique_id</th>\n      <th>id</th>\n      <th>date</th>\n      <th>average_mood</th>\n      <th>total_calls</th>\n      <th>total_sms</th>\n      <th>average_com</th>\n      <th>mood_next_day</th>\n      <th>average_soc</th>\n      <th>average_valence</th>\n      <th>average_arousal</th>\n      <th>average_finance</th>\n      <th>average_office</th>\n      <th>average_entertainment</th>\n      <th>average_game</th>\n    </tr>\n  </thead>\n  <tbody>\n    <tr>\n      <th>0</th>\n      <td>0</td>\n      <td>2014-02-26_AS14.01</td>\n      <td>AS14.01</td>\n      <td>2014-02-26</td>\n      <td>6.25</td>\n      <td>0.0</td>\n      <td>0.0</td>\n      <td>0.000000</td>\n      <td>6.25</td>\n      <td>0.000000</td>\n      <td>0.750000</td>\n      <td>-0.250000</td>\n      <td>0.000000</td>\n      <td>0.000</td>\n      <td>0.000000</td>\n      <td>0.0</td>\n    </tr>\n    <tr>\n      <th>1</th>\n      <td>1</td>\n      <td>2014-03-21_AS14.01</td>\n      <td>AS14.01</td>\n      <td>2014-03-21</td>\n      <td>6.25</td>\n      <td>6.0</td>\n      <td>0.0</td>\n      <td>55.095526</td>\n      <td>6.40</td>\n      <td>75.141667</td>\n      <td>0.200000</td>\n      <td>0.200000</td>\n      <td>6.193000</td>\n      <td>57.402</td>\n      <td>53.024000</td>\n      <td>0.0</td>\n    </tr>\n    <tr>\n      <th>2</th>\n      <td>2</td>\n      <td>2014-03-22_AS14.01</td>\n      <td>AS14.01</td>\n      <td>2014-03-22</td>\n      <td>6.40</td>\n      <td>0.0</td>\n      <td>0.0</td>\n      <td>51.697063</td>\n      <td>6.80</td>\n      <td>36.636000</td>\n      <td>0.698649</td>\n      <td>0.600000</td>\n      <td>7.025333</td>\n      <td>0.000</td>\n      <td>46.662000</td>\n      <td>0.0</td>\n    </tr>\n    <tr>\n      <th>3</th>\n      <td>3</td>\n      <td>2014-03-23_AS14.01</td>\n      <td>AS14.01</td>\n      <td>2014-03-23</td>\n      <td>6.80</td>\n      <td>0.0</td>\n      <td>0.0</td>\n      <td>53.442031</td>\n      <td>6.00</td>\n      <td>50.046611</td>\n      <td>0.800000</td>\n      <td>0.200000</td>\n      <td>10.850750</td>\n      <td>0.000</td>\n      <td>31.448667</td>\n      <td>0.0</td>\n    </tr>\n    <tr>\n      <th>4</th>\n      <td>4</td>\n      <td>2014-03-24_AS14.01</td>\n      <td>AS14.01</td>\n      <td>2014-03-24</td>\n      <td>6.00</td>\n      <td>0.0</td>\n      <td>0.0</td>\n      <td>47.541687</td>\n      <td>6.75</td>\n      <td>74.968047</td>\n      <td>0.000000</td>\n      <td>0.800000</td>\n      <td>5.684333</td>\n      <td>3.010</td>\n      <td>122.121375</td>\n      <td>0.0</td>\n    </tr>\n    <tr>\n      <th>...</th>\n      <td>...</td>\n      <td>...</td>\n      <td>...</td>\n      <td>...</td>\n      <td>...</td>\n      <td>...</td>\n      <td>...</td>\n      <td>...</td>\n      <td>...</td>\n      <td>...</td>\n      <td>...</td>\n      <td>...</td>\n      <td>...</td>\n      <td>...</td>\n      <td>...</td>\n      <td>...</td>\n    </tr>\n    <tr>\n      <th>1210</th>\n      <td>1210</td>\n      <td>2014-05-25_AS14.33</td>\n      <td>AS14.33</td>\n      <td>2014-05-25</td>\n      <td>6.25</td>\n      <td>3.0</td>\n      <td>8.0</td>\n      <td>34.829867</td>\n      <td>5.40</td>\n      <td>45.534460</td>\n      <td>0.481111</td>\n      <td>-0.750000</td>\n      <td>0.000000</td>\n      <td>0.000</td>\n      <td>64.738667</td>\n      <td>0.0</td>\n    </tr>\n    <tr>\n      <th>1211</th>\n      <td>1211</td>\n      <td>2014-05-26_AS14.33</td>\n      <td>AS14.33</td>\n      <td>2014-05-26</td>\n      <td>5.40</td>\n      <td>10.0</td>\n      <td>3.0</td>\n      <td>34.320472</td>\n      <td>6.20</td>\n      <td>111.046204</td>\n      <td>0.000000</td>\n      <td>-0.400000</td>\n      <td>0.000000</td>\n      <td>130.530</td>\n      <td>68.876900</td>\n      <td>0.0</td>\n    </tr>\n    <tr>\n      <th>1212</th>\n      <td>1212</td>\n      <td>2014-05-27_AS14.33</td>\n      <td>AS14.33</td>\n      <td>2014-05-27</td>\n      <td>6.20</td>\n      <td>1.0</td>\n      <td>2.0</td>\n      <td>59.382943</td>\n      <td>8.20</td>\n      <td>50.259100</td>\n      <td>0.400000</td>\n      <td>-0.600000</td>\n      <td>0.000000</td>\n      <td>0.000</td>\n      <td>62.347000</td>\n      <td>0.0</td>\n    </tr>\n    <tr>\n      <th>1213</th>\n      <td>1213</td>\n      <td>2014-05-28_AS14.33</td>\n      <td>AS14.33</td>\n      <td>2014-05-28</td>\n      <td>8.20</td>\n      <td>10.0</td>\n      <td>1.0</td>\n      <td>37.238750</td>\n      <td>7.00</td>\n      <td>99.281685</td>\n      <td>1.200000</td>\n      <td>0.000000</td>\n      <td>0.000000</td>\n      <td>0.000</td>\n      <td>43.907571</td>\n      <td>0.0</td>\n    </tr>\n    <tr>\n      <th>1214</th>\n      <td>1214</td>\n      <td>2014-05-29_AS14.33</td>\n      <td>AS14.33</td>\n      <td>2014-05-29</td>\n      <td>7.00</td>\n      <td>5.0</td>\n      <td>0.0</td>\n      <td>54.388125</td>\n      <td>6.80</td>\n      <td>198.880222</td>\n      <td>1.000000</td>\n      <td>-1.333333</td>\n      <td>0.000000</td>\n      <td>0.000</td>\n      <td>68.369000</td>\n      <td>0.0</td>\n    </tr>\n  </tbody>\n</table>\n<p>1215 rows × 16 columns</p>\n</div>"
          },
          "metadata": {}
        }
      ]
    },
    {
      "cell_type": "code",
      "metadata": {
        "tags": [],
        "cell_id": "00004-3629c9a5-1c57-44c6-9cb4-37e9e7e73e50",
        "deepnote_to_be_reexecuted": false,
        "source_hash": "282ff4e1",
        "execution_millis": 4,
        "execution_start": 1618146847888,
        "deepnote_cell_type": "code"
      },
      "source": "dfp = df.drop([\"date\", \"id\", \"unique_id\", \"Unnamed: 0\", \"total_calls\", \"total_sms\", \"average_com\", \"average_soc\", \"average_finance\", \"average_entertainment\"], axis=1)",
      "execution_count": 8,
      "outputs": []
    },
    {
      "cell_type": "code",
      "metadata": {
        "tags": [],
        "cell_id": "00005-6a4626ce-ed34-4bd8-a5db-bf441b63790a",
        "deepnote_to_be_reexecuted": false,
        "source_hash": "15f1f884",
        "execution_millis": 24,
        "execution_start": 1618146849747,
        "deepnote_cell_type": "code"
      },
      "source": "dfp = dfp/dfp.std(0)\ndfp = minmax_scaling(dfp, columns=dfp.columns)",
      "execution_count": 9,
      "outputs": []
    },
    {
      "cell_type": "code",
      "metadata": {
        "tags": [],
        "cell_id": "00006-249e1e9e-e9a6-4326-9ba7-0d773bb014f5",
        "deepnote_to_be_reexecuted": false,
        "source_hash": "86e3ad89",
        "execution_millis": 2,
        "execution_start": 1617962183723,
        "deepnote_cell_type": "code"
      },
      "source": "dfp.insert(loc=0, column='date', value=df['date'])\ndfp.insert(loc=0, column='id', value=df['id'])",
      "execution_count": null,
      "outputs": []
    },
    {
      "cell_type": "code",
      "metadata": {
        "tags": [],
        "cell_id": "00007-236fd3b4-d130-4fcf-9e3f-58d3594df760",
        "deepnote_to_be_reexecuted": false,
        "source_hash": "ac3fcbc0",
        "execution_millis": 45,
        "execution_start": 1617962184578,
        "deepnote_cell_type": "code"
      },
      "source": "dfp.set_index('date', inplace=True)\ndfp.index.to_pydatetime()",
      "execution_count": null,
      "outputs": [
        {
          "output_type": "execute_result",
          "execution_count": 145,
          "data": {
            "application/vnd.deepnote.dataframe.v2+json": {
              "row_count": 1215,
              "column_count": 7,
              "columns": [
                {
                  "name": "id",
                  "dtype": "object",
                  "stats": {
                    "unique_count": 27,
                    "nan_count": 0,
                    "categories": [
                      {
                        "name": "AS14.26",
                        "count": 66
                      },
                      {
                        "name": "AS14.08",
                        "count": 61
                      },
                      {
                        "name": "25 others",
                        "count": 1088
                      }
                    ]
                  }
                },
                {
                  "name": "average_mood",
                  "dtype": "float64",
                  "stats": {
                    "unique_count": 71,
                    "nan_count": 0,
                    "min": 0,
                    "max": 1,
                    "histogram": [
                      {
                        "bin_start": 0,
                        "bin_end": 0.1,
                        "count": 4
                      },
                      {
                        "bin_start": 0.1,
                        "bin_end": 0.2,
                        "count": 3
                      },
                      {
                        "bin_start": 0.2,
                        "bin_end": 0.30000000000000004,
                        "count": 6
                      },
                      {
                        "bin_start": 0.30000000000000004,
                        "bin_end": 0.4,
                        "count": 26
                      },
                      {
                        "bin_start": 0.4,
                        "bin_end": 0.5,
                        "count": 84
                      },
                      {
                        "bin_start": 0.5,
                        "bin_end": 0.6000000000000001,
                        "count": 348
                      },
                      {
                        "bin_start": 0.6000000000000001,
                        "bin_end": 0.7000000000000001,
                        "count": 432
                      },
                      {
                        "bin_start": 0.7000000000000001,
                        "bin_end": 0.8,
                        "count": 269
                      },
                      {
                        "bin_start": 0.8,
                        "bin_end": 0.9,
                        "count": 38
                      },
                      {
                        "bin_start": 0.9,
                        "bin_end": 1,
                        "count": 5
                      }
                    ]
                  }
                },
                {
                  "name": "mood_next_day",
                  "dtype": "float64",
                  "stats": {
                    "unique_count": 71,
                    "nan_count": 0,
                    "min": 0,
                    "max": 1,
                    "histogram": [
                      {
                        "bin_start": 0,
                        "bin_end": 0.1,
                        "count": 4
                      },
                      {
                        "bin_start": 0.1,
                        "bin_end": 0.2,
                        "count": 3
                      },
                      {
                        "bin_start": 0.2,
                        "bin_end": 0.30000000000000004,
                        "count": 6
                      },
                      {
                        "bin_start": 0.30000000000000004,
                        "bin_end": 0.4,
                        "count": 26
                      },
                      {
                        "bin_start": 0.4,
                        "bin_end": 0.5,
                        "count": 84
                      },
                      {
                        "bin_start": 0.5,
                        "bin_end": 0.6000000000000001,
                        "count": 348
                      },
                      {
                        "bin_start": 0.6000000000000001,
                        "bin_end": 0.7000000000000001,
                        "count": 432
                      },
                      {
                        "bin_start": 0.7000000000000001,
                        "bin_end": 0.8,
                        "count": 269
                      },
                      {
                        "bin_start": 0.8,
                        "bin_end": 0.9,
                        "count": 38
                      },
                      {
                        "bin_start": 0.9,
                        "bin_end": 1,
                        "count": 5
                      }
                    ]
                  }
                },
                {
                  "name": "average_valence",
                  "dtype": "float64",
                  "stats": {
                    "unique_count": 44,
                    "nan_count": 0,
                    "min": 0,
                    "max": 1,
                    "histogram": [
                      {
                        "bin_start": 0,
                        "bin_end": 0.1,
                        "count": 8
                      },
                      {
                        "bin_start": 0.1,
                        "bin_end": 0.2,
                        "count": 4
                      },
                      {
                        "bin_start": 0.2,
                        "bin_end": 0.30000000000000004,
                        "count": 18
                      },
                      {
                        "bin_start": 0.30000000000000004,
                        "bin_end": 0.4,
                        "count": 100
                      },
                      {
                        "bin_start": 0.4,
                        "bin_end": 0.5,
                        "count": 85
                      },
                      {
                        "bin_start": 0.5,
                        "bin_end": 0.6000000000000001,
                        "count": 302
                      },
                      {
                        "bin_start": 0.6000000000000001,
                        "bin_end": 0.7000000000000001,
                        "count": 609
                      },
                      {
                        "bin_start": 0.7000000000000001,
                        "bin_end": 0.8,
                        "count": 51
                      },
                      {
                        "bin_start": 0.8,
                        "bin_end": 0.9,
                        "count": 32
                      },
                      {
                        "bin_start": 0.9,
                        "bin_end": 1,
                        "count": 6
                      }
                    ]
                  }
                },
                {
                  "name": "average_arousal",
                  "dtype": "float64",
                  "stats": {
                    "unique_count": 55,
                    "nan_count": 0,
                    "min": 0,
                    "max": 1,
                    "histogram": [
                      {
                        "bin_start": 0,
                        "bin_end": 0.1,
                        "count": 16
                      },
                      {
                        "bin_start": 0.1,
                        "bin_end": 0.2,
                        "count": 65
                      },
                      {
                        "bin_start": 0.2,
                        "bin_end": 0.30000000000000004,
                        "count": 116
                      },
                      {
                        "bin_start": 0.30000000000000004,
                        "bin_end": 0.4,
                        "count": 206
                      },
                      {
                        "bin_start": 0.4,
                        "bin_end": 0.5,
                        "count": 182
                      },
                      {
                        "bin_start": 0.5,
                        "bin_end": 0.6000000000000001,
                        "count": 402
                      },
                      {
                        "bin_start": 0.6000000000000001,
                        "bin_end": 0.7000000000000001,
                        "count": 145
                      },
                      {
                        "bin_start": 0.7000000000000001,
                        "bin_end": 0.8,
                        "count": 69
                      },
                      {
                        "bin_start": 0.8,
                        "bin_end": 0.9,
                        "count": 10
                      },
                      {
                        "bin_start": 0.9,
                        "bin_end": 1,
                        "count": 4
                      }
                    ]
                  }
                },
                {
                  "name": "average_office",
                  "dtype": "float64",
                  "stats": {
                    "unique_count": 257,
                    "nan_count": 0,
                    "min": 0,
                    "max": 1,
                    "histogram": [
                      {
                        "bin_start": 0,
                        "bin_end": 0.1,
                        "count": 1201
                      },
                      {
                        "bin_start": 0.1,
                        "bin_end": 0.2,
                        "count": 10
                      },
                      {
                        "bin_start": 0.2,
                        "bin_end": 0.30000000000000004,
                        "count": 2
                      },
                      {
                        "bin_start": 0.30000000000000004,
                        "bin_end": 0.4,
                        "count": 1
                      },
                      {
                        "bin_start": 0.4,
                        "bin_end": 0.5,
                        "count": 0
                      },
                      {
                        "bin_start": 0.5,
                        "bin_end": 0.6000000000000001,
                        "count": 0
                      },
                      {
                        "bin_start": 0.6000000000000001,
                        "bin_end": 0.7000000000000001,
                        "count": 0
                      },
                      {
                        "bin_start": 0.7000000000000001,
                        "bin_end": 0.8,
                        "count": 0
                      },
                      {
                        "bin_start": 0.8,
                        "bin_end": 0.9,
                        "count": 0
                      },
                      {
                        "bin_start": 0.9,
                        "bin_end": 1,
                        "count": 1
                      }
                    ]
                  }
                },
                {
                  "name": "average_game",
                  "dtype": "float64",
                  "stats": {
                    "unique_count": 178,
                    "nan_count": 0,
                    "min": 0,
                    "max": 1,
                    "histogram": [
                      {
                        "bin_start": 0,
                        "bin_end": 0.1,
                        "count": 1183
                      },
                      {
                        "bin_start": 0.1,
                        "bin_end": 0.2,
                        "count": 17
                      },
                      {
                        "bin_start": 0.2,
                        "bin_end": 0.30000000000000004,
                        "count": 10
                      },
                      {
                        "bin_start": 0.30000000000000004,
                        "bin_end": 0.4,
                        "count": 4
                      },
                      {
                        "bin_start": 0.4,
                        "bin_end": 0.5,
                        "count": 0
                      },
                      {
                        "bin_start": 0.5,
                        "bin_end": 0.6000000000000001,
                        "count": 0
                      },
                      {
                        "bin_start": 0.6000000000000001,
                        "bin_end": 0.7000000000000001,
                        "count": 0
                      },
                      {
                        "bin_start": 0.7000000000000001,
                        "bin_end": 0.8,
                        "count": 0
                      },
                      {
                        "bin_start": 0.8,
                        "bin_end": 0.9,
                        "count": 0
                      },
                      {
                        "bin_start": 0.9,
                        "bin_end": 1,
                        "count": 1
                      }
                    ]
                  }
                },
                {
                  "name": "_deepnote_index_column",
                  "dtype": "datetime64[ns]"
                }
              ],
              "rows_top": [
                {
                  "id": "AS14.01",
                  "average_mood": 0.513157894736842,
                  "mood_next_day": 0.513157894736842,
                  "average_valence": 0.6153846153846153,
                  "average_arousal": 0.4375,
                  "average_office": 0,
                  "average_game": 0,
                  "_deepnote_index_column": "2014-02-26T00:00:00.000000"
                },
                {
                  "id": "AS14.01",
                  "average_mood": 0.513157894736842,
                  "mood_next_day": 0.536842105263158,
                  "average_valence": 0.4461538461538461,
                  "average_arousal": 0.5499999999999999,
                  "average_office": 0.03839947981889992,
                  "average_game": 0,
                  "_deepnote_index_column": "2014-03-21T00:00:00.000000"
                },
                {
                  "id": "AS14.01",
                  "average_mood": 0.5368421052631579,
                  "mood_next_day": 0.5999999999999999,
                  "average_valence": 0.5995841995841996,
                  "average_arousal": 0.6500000000000001,
                  "average_office": 0,
                  "average_game": 0,
                  "_deepnote_index_column": "2014-03-22T00:00:00.000000"
                },
                {
                  "id": "AS14.01",
                  "average_mood": 0.5999999999999999,
                  "mood_next_day": 0.4736842105263158,
                  "average_valence": 0.6307692307692307,
                  "average_arousal": 0.5499999999999999,
                  "average_office": 0,
                  "average_game": 0,
                  "_deepnote_index_column": "2014-03-23T00:00:00.000000"
                },
                {
                  "id": "AS14.01",
                  "average_mood": 0.4736842105263157,
                  "mood_next_day": 0.5921052631578948,
                  "average_valence": 0.3846153846153846,
                  "average_arousal": 0.7,
                  "average_office": 0.0020135610998726306,
                  "average_game": 0,
                  "_deepnote_index_column": "2014-03-24T00:00:00.000000"
                },
                {
                  "id": "AS14.01",
                  "average_mood": 0.5921052631578945,
                  "mood_next_day": 0.5684210526315788,
                  "average_valence": 0.5384615384615384,
                  "average_arousal": 0.625,
                  "average_office": 0,
                  "average_game": 0,
                  "_deepnote_index_column": "2014-03-25T00:00:00.000000"
                },
                {
                  "id": "AS14.01",
                  "average_mood": 0.5684210526315788,
                  "mood_next_day": 0.631578947368421,
                  "average_valence": 0.5692307692307692,
                  "average_arousal": 0.45,
                  "average_office": 0,
                  "average_game": 0,
                  "_deepnote_index_column": "2014-03-26T00:00:00.000000"
                },
                {
                  "id": "AS14.01",
                  "average_mood": 0.631578947368421,
                  "mood_next_day": 0.536842105263158,
                  "average_valence": 0.6307692307692307,
                  "average_arousal": 0.5499999999999999,
                  "average_office": 0.010170992143766924,
                  "average_game": 0,
                  "_deepnote_index_column": "2014-03-27T00:00:00.000000"
                },
                {
                  "id": "AS14.01",
                  "average_mood": 0.5368421052631579,
                  "mood_next_day": 0.7894736842105262,
                  "average_valence": 0.5692307692307692,
                  "average_arousal": 0.35,
                  "average_office": 0,
                  "average_game": 0.04546321813471967,
                  "_deepnote_index_column": "2014-03-28T00:00:00.000000"
                },
                {
                  "id": "AS14.01",
                  "average_mood": 0.7894736842105261,
                  "mood_next_day": 0.7105263157894737,
                  "average_valence": 0.6923076923076923,
                  "average_arousal": 0.5499999999999999,
                  "average_office": 0,
                  "average_game": 0,
                  "_deepnote_index_column": "2014-03-29T00:00:00.000000"
                },
                {
                  "id": "AS14.01",
                  "average_mood": 0.7105263157894736,
                  "mood_next_day": 0.6947368421052632,
                  "average_valence": 0.6153846153846153,
                  "average_arousal": 0.375,
                  "average_office": 0,
                  "average_game": 0,
                  "_deepnote_index_column": "2014-03-30T00:00:00.000000"
                },
                {
                  "id": "AS14.01",
                  "average_mood": 0.694736842105263,
                  "mood_next_day": 0.4736842105263158,
                  "average_valence": 0.5692307692307692,
                  "average_arousal": 0.5,
                  "average_office": 0,
                  "average_game": 0.019967950456259237,
                  "_deepnote_index_column": "2014-03-31T00:00:00.000000"
                },
                {
                  "id": "AS14.01",
                  "average_mood": 0.4736842105263157,
                  "mood_next_day": 0.5526315789473683,
                  "average_valence": 0.3846153846153846,
                  "average_arousal": 0.5499999999999999,
                  "average_office": 0.02060120519324835,
                  "average_game": 0.030530565486769513,
                  "_deepnote_index_column": "2014-04-01T00:00:00.000000"
                },
                {
                  "id": "AS14.01",
                  "average_mood": 0.5526315789473683,
                  "mood_next_day": 0.536842105263158,
                  "average_valence": 0.5995841995841996,
                  "average_arousal": 0.43218749999999995,
                  "average_office": 0.060527914245041683,
                  "average_game": 0,
                  "_deepnote_index_column": "2014-04-02T00:00:00.000000"
                },
                {
                  "id": "AS14.01",
                  "average_mood": 0.5368421052631579,
                  "mood_next_day": 0.5052631578947369,
                  "average_valence": 0.3846153846153846,
                  "average_arousal": 0.19999999999999998,
                  "average_office": 0,
                  "average_game": 0,
                  "_deepnote_index_column": "2014-04-03T00:00:00.000000"
                },
                {
                  "id": "AS14.01",
                  "average_mood": 0.5052631578947369,
                  "mood_next_day": 0.5999999999999999,
                  "average_valence": 0.5076923076923077,
                  "average_arousal": 0.5499999999999999,
                  "average_office": 0,
                  "average_game": 0,
                  "_deepnote_index_column": "2014-04-04T00:00:00.000000"
                },
                {
                  "id": "AS14.01",
                  "average_mood": 0.5999999999999999,
                  "mood_next_day": 0.5526315789473683,
                  "average_valence": 0.5692307692307692,
                  "average_arousal": 0.39999999999999997,
                  "average_office": 0,
                  "average_game": 0,
                  "_deepnote_index_column": "2014-04-05T00:00:00.000000"
                },
                {
                  "id": "AS14.01",
                  "average_mood": 0.5526315789473683,
                  "mood_next_day": 0.5526315789473683,
                  "average_valence": 0.5384615384615384,
                  "average_arousal": 0.3125,
                  "average_office": 0,
                  "average_game": 0.022319576949144077,
                  "_deepnote_index_column": "2014-04-06T00:00:00.000000"
                },
                {
                  "id": "AS14.01",
                  "average_mood": 0.5526315789473683,
                  "mood_next_day": 0.5684210526315788,
                  "average_valence": 0.4615384615384615,
                  "average_arousal": 0.43218749999999995,
                  "average_office": 0.011443850410472124,
                  "average_game": 0,
                  "_deepnote_index_column": "2014-04-07T00:00:00.000000"
                },
                {
                  "id": "AS14.01",
                  "average_mood": 0.5684210526315788,
                  "mood_next_day": 0.6947368421052632,
                  "average_valence": 0.5995841995841996,
                  "average_arousal": 0.39999999999999997,
                  "average_office": 0,
                  "average_game": 0,
                  "_deepnote_index_column": "2014-04-08T00:00:00.000000"
                },
                {
                  "id": "AS14.01",
                  "average_mood": 0.694736842105263,
                  "mood_next_day": 0.6947368421052632,
                  "average_valence": 0.5995841995841996,
                  "average_arousal": 0.3,
                  "average_office": 0,
                  "average_game": 0,
                  "_deepnote_index_column": "2014-04-09T00:00:00.000000"
                },
                {
                  "id": "AS14.01",
                  "average_mood": 0.694736842105263,
                  "mood_next_day": 0.631578947368421,
                  "average_valence": 0.6307692307692307,
                  "average_arousal": 0.39999999999999997,
                  "average_office": 0.015516461698187928,
                  "average_game": 0.0004132026640061461,
                  "_deepnote_index_column": "2014-04-10T00:00:00.000000"
                },
                {
                  "id": "AS14.01",
                  "average_mood": 0.631578947368421,
                  "mood_next_day": 0.6710526315789472,
                  "average_valence": 0.6307692307692307,
                  "average_arousal": 0.19999999999999998,
                  "average_office": 0,
                  "average_game": 0,
                  "_deepnote_index_column": "2014-04-11T00:00:00.000000"
                },
                {
                  "id": "AS14.01",
                  "average_mood": 0.6710526315789472,
                  "mood_next_day": 0.7894736842105262,
                  "average_valence": 0.6153846153846153,
                  "average_arousal": 0.3125,
                  "average_office": 0,
                  "average_game": 0,
                  "_deepnote_index_column": "2014-04-12T00:00:00.000000"
                },
                {
                  "id": "AS14.01",
                  "average_mood": 0.7894736842105261,
                  "mood_next_day": 0.6631578947368421,
                  "average_valence": 0.6923076923076923,
                  "average_arousal": 0.18749999999999997,
                  "average_office": 0,
                  "average_game": 0,
                  "_deepnote_index_column": "2014-04-13T00:00:00.000000"
                },
                {
                  "id": "AS14.01",
                  "average_mood": 0.6631578947368418,
                  "mood_next_day": 0.536842105263158,
                  "average_valence": 0.5692307692307692,
                  "average_arousal": 0.19999999999999998,
                  "average_office": 0,
                  "average_game": 0,
                  "_deepnote_index_column": "2014-04-14T00:00:00.000000"
                },
                {
                  "id": "AS14.01",
                  "average_mood": 0.5368421052631579,
                  "mood_next_day": 0.6631578947368421,
                  "average_valence": 0.6307692307692307,
                  "average_arousal": 0.5,
                  "average_office": 0,
                  "average_game": 0,
                  "_deepnote_index_column": "2014-04-15T00:00:00.000000"
                },
                {
                  "id": "AS14.01",
                  "average_mood": 0.6631578947368418,
                  "mood_next_day": 0.5684210526315788,
                  "average_valence": 0.5995841995841996,
                  "average_arousal": 0.43218749999999995,
                  "average_office": 0,
                  "average_game": 0,
                  "_deepnote_index_column": "2014-04-16T00:00:00.000000"
                },
                {
                  "id": "AS14.01",
                  "average_mood": 0.5684210526315788,
                  "mood_next_day": 0.5999999999999999,
                  "average_valence": 0.5692307692307692,
                  "average_arousal": 0.39999999999999997,
                  "average_office": 0,
                  "average_game": 0,
                  "_deepnote_index_column": "2014-04-17T00:00:00.000000"
                },
                {
                  "id": "AS14.01",
                  "average_mood": 0.5999999999999999,
                  "mood_next_day": 0.7578947368421051,
                  "average_valence": 0.6307692307692307,
                  "average_arousal": 0.3,
                  "average_office": 0,
                  "average_game": 0,
                  "_deepnote_index_column": "2014-04-18T00:00:00.000000"
                },
                {
                  "id": "AS14.01",
                  "average_mood": 0.757894736842105,
                  "mood_next_day": 0.6710526315789472,
                  "average_valence": 0.6923076923076923,
                  "average_arousal": 0.45,
                  "average_office": 0,
                  "average_game": 0.01134805125585907,
                  "_deepnote_index_column": "2014-04-19T00:00:00.000000"
                },
                {
                  "id": "AS14.01",
                  "average_mood": 0.6710526315789472,
                  "mood_next_day": 0.726315789473684,
                  "average_valence": 0.6153846153846153,
                  "average_arousal": 0.4375,
                  "average_office": 0,
                  "average_game": 0,
                  "_deepnote_index_column": "2014-04-20T00:00:00.000000"
                },
                {
                  "id": "AS14.01",
                  "average_mood": 0.726315789473684,
                  "mood_next_day": 0.6947368421052632,
                  "average_valence": 0.6923076923076923,
                  "average_arousal": 0.43218749999999995,
                  "average_office": 0,
                  "average_game": 0,
                  "_deepnote_index_column": "2014-04-21T00:00:00.000000"
                },
                {
                  "id": "AS14.01",
                  "average_mood": 0.694736842105263,
                  "mood_next_day": 0.726315789473684,
                  "average_valence": 0.6923076923076923,
                  "average_arousal": 0.5499999999999999,
                  "average_office": 0,
                  "average_game": 0,
                  "_deepnote_index_column": "2014-04-22T00:00:00.000000"
                },
                {
                  "id": "AS14.01",
                  "average_mood": 0.726315789473684,
                  "mood_next_day": 0.726315789473684,
                  "average_valence": 0.6923076923076923,
                  "average_arousal": 0.5499999999999999,
                  "average_office": 0,
                  "average_game": 0,
                  "_deepnote_index_column": "2014-04-23T00:00:00.000000"
                },
                {
                  "id": "AS14.01",
                  "average_mood": 0.726315789473684,
                  "mood_next_day": 0.6631578947368421,
                  "average_valence": 0.6923076923076923,
                  "average_arousal": 0.39999999999999997,
                  "average_office": 0,
                  "average_game": 0,
                  "_deepnote_index_column": "2014-04-24T00:00:00.000000"
                },
                {
                  "id": "AS14.01",
                  "average_mood": 0.6631578947368418,
                  "mood_next_day": 0.726315789473684,
                  "average_valence": 0.6307692307692307,
                  "average_arousal": 0.45,
                  "average_office": 0,
                  "average_game": 0,
                  "_deepnote_index_column": "2014-04-25T00:00:00.000000"
                },
                {
                  "id": "AS14.01",
                  "average_mood": 0.726315789473684,
                  "mood_next_day": 0.7105263157894737,
                  "average_valence": 0.6923076923076923,
                  "average_arousal": 0.45,
                  "average_office": 0,
                  "average_game": 0,
                  "_deepnote_index_column": "2014-04-26T00:00:00.000000"
                },
                {
                  "id": "AS14.01",
                  "average_mood": 0.7105263157894736,
                  "mood_next_day": 0.726315789473684,
                  "average_valence": 0.6923076923076923,
                  "average_arousal": 0.5,
                  "average_office": 0,
                  "average_game": 0,
                  "_deepnote_index_column": "2014-04-27T00:00:00.000000"
                },
                {
                  "id": "AS14.01",
                  "average_mood": 0.726315789473684,
                  "mood_next_day": 0.631578947368421,
                  "average_valence": 0.6307692307692307,
                  "average_arousal": 0.3,
                  "average_office": 0,
                  "average_game": 0,
                  "_deepnote_index_column": "2014-04-28T00:00:00.000000"
                },
                {
                  "id": "AS14.01",
                  "average_mood": 0.631578947368421,
                  "mood_next_day": 0.7578947368421051,
                  "average_valence": 0.5995841995841996,
                  "average_arousal": 0.43218749999999995,
                  "average_office": 0,
                  "average_game": 0,
                  "_deepnote_index_column": "2014-04-29T00:00:00.000000"
                },
                {
                  "id": "AS14.01",
                  "average_mood": 0.757894736842105,
                  "mood_next_day": 0.7894736842105262,
                  "average_valence": 0.5995841995841996,
                  "average_arousal": 0.39999999999999997,
                  "average_office": 0,
                  "average_game": 0,
                  "_deepnote_index_column": "2014-04-30T00:00:00.000000"
                },
                {
                  "id": "AS14.01",
                  "average_mood": 0.7894736842105261,
                  "mood_next_day": 0.726315789473684,
                  "average_valence": 0.6923076923076923,
                  "average_arousal": 0.39999999999999997,
                  "average_office": 0,
                  "average_game": 0,
                  "_deepnote_index_column": "2014-05-01T00:00:00.000000"
                },
                {
                  "id": "AS14.01",
                  "average_mood": 0.726315789473684,
                  "mood_next_day": 0.7894736842105262,
                  "average_valence": 0.5995841995841996,
                  "average_arousal": 0.45,
                  "average_office": 0,
                  "average_game": 0,
                  "_deepnote_index_column": "2014-05-02T00:00:00.000000"
                },
                {
                  "id": "AS14.01",
                  "average_mood": 0.7894736842105261,
                  "mood_next_day": 0.6766917293233082,
                  "average_valence": 0.6923076923076923,
                  "average_arousal": 0.45,
                  "average_office": 0,
                  "average_game": 0,
                  "_deepnote_index_column": "2014-05-03T00:00:00.000000"
                },
                {
                  "id": "AS14.02",
                  "average_mood": 0.6766917293233081,
                  "mood_next_day": 0.5921052631578948,
                  "average_valence": 0.3846153846153846,
                  "average_arousal": 0.5,
                  "average_office": 0,
                  "average_game": 0,
                  "_deepnote_index_column": "2014-03-16T00:00:00.000000"
                },
                {
                  "id": "AS14.02",
                  "average_mood": 0.5921052631578945,
                  "mood_next_day": 0.8210526315789473,
                  "average_valence": 0.5384615384615384,
                  "average_arousal": 0.625,
                  "average_office": 0,
                  "average_game": 0,
                  "_deepnote_index_column": "2014-03-17T00:00:00.000000"
                },
                {
                  "id": "AS14.02",
                  "average_mood": 0.8210526315789471,
                  "mood_next_day": 0.5999999999999999,
                  "average_valence": 0.6307692307692307,
                  "average_arousal": 0.6500000000000001,
                  "average_office": 0,
                  "average_game": 0,
                  "_deepnote_index_column": "2014-03-18T00:00:00.000000"
                },
                {
                  "id": "AS14.02",
                  "average_mood": 0.5999999999999999,
                  "mood_next_day": 0.6710526315789472,
                  "average_valence": 0.5076923076923077,
                  "average_arousal": 0.6,
                  "average_office": 0,
                  "average_game": 0,
                  "_deepnote_index_column": "2014-03-19T00:00:00.000000"
                },
                {
                  "id": "AS14.02",
                  "average_mood": 0.6710526315789472,
                  "mood_next_day": 0.7105263157894737,
                  "average_valence": 0.6153846153846153,
                  "average_arousal": 0.375,
                  "average_office": 0,
                  "average_game": 0,
                  "_deepnote_index_column": "2014-03-20T00:00:00.000000"
                },
                {
                  "id": "AS14.02",
                  "average_mood": 0.7105263157894736,
                  "mood_next_day": 0.5526315789473683,
                  "average_valence": 0.6153846153846153,
                  "average_arousal": 0.3125,
                  "average_office": 0,
                  "average_game": 0,
                  "_deepnote_index_column": "2014-03-21T00:00:00.000000"
                },
                {
                  "id": "AS14.02",
                  "average_mood": 0.5526315789473683,
                  "mood_next_day": 0.513157894736842,
                  "average_valence": 0.23076923076923075,
                  "average_arousal": 0.25,
                  "average_office": 0,
                  "average_game": 0,
                  "_deepnote_index_column": "2014-03-22T00:00:00.000000"
                },
                {
                  "id": "AS14.02",
                  "average_mood": 0.513157894736842,
                  "mood_next_day": 0.536842105263158,
                  "average_valence": 0.3846153846153846,
                  "average_arousal": 0.25,
                  "average_office": 0,
                  "average_game": 0,
                  "_deepnote_index_column": "2014-03-23T00:00:00.000000"
                },
                {
                  "id": "AS14.02",
                  "average_mood": 0.5368421052631579,
                  "mood_next_day": 0.75,
                  "average_valence": 0.32307692307692304,
                  "average_arousal": 0.5499999999999999,
                  "average_office": 0,
                  "average_game": 0,
                  "_deepnote_index_column": "2014-03-24T00:00:00.000000"
                },
                {
                  "id": "AS14.02",
                  "average_mood": 0.7499999999999998,
                  "mood_next_day": 0.6631578947368421,
                  "average_valence": 0.6153846153846153,
                  "average_arousal": 0.18749999999999997,
                  "average_office": 0,
                  "average_game": 0,
                  "_deepnote_index_column": "2014-03-25T00:00:00.000000"
                },
                {
                  "id": "AS14.02",
                  "average_mood": 0.6631578947368418,
                  "mood_next_day": 0.6710526315789472,
                  "average_valence": 0.5076923076923077,
                  "average_arousal": 0.19999999999999998,
                  "average_office": 0,
                  "average_game": 0,
                  "_deepnote_index_column": "2014-03-26T00:00:00.000000"
                },
                {
                  "id": "AS14.02",
                  "average_mood": 0.6710526315789472,
                  "mood_next_day": 0.5999999999999999,
                  "average_valence": 0.5384615384615384,
                  "average_arousal": 0.5,
                  "average_office": 0,
                  "average_game": 0,
                  "_deepnote_index_column": "2014-03-27T00:00:00.000000"
                },
                {
                  "id": "AS14.02",
                  "average_mood": 0.5999999999999999,
                  "mood_next_day": 0.6710526315789472,
                  "average_valence": 0.5692307692307692,
                  "average_arousal": 0.35,
                  "average_office": 0,
                  "average_game": 0,
                  "_deepnote_index_column": "2014-03-28T00:00:00.000000"
                },
                {
                  "id": "AS14.02",
                  "average_mood": 0.6710526315789472,
                  "mood_next_day": 0.631578947368421,
                  "average_valence": 0.4615384615384615,
                  "average_arousal": 0.3125,
                  "average_office": 0,
                  "average_game": 0,
                  "_deepnote_index_column": "2014-03-29T00:00:00.000000"
                },
                {
                  "id": "AS14.02",
                  "average_mood": 0.631578947368421,
                  "mood_next_day": 0.6631578947368421,
                  "average_valence": 0.6153846153846153,
                  "average_arousal": 0.25,
                  "average_office": 0,
                  "average_game": 0,
                  "_deepnote_index_column": "2014-03-30T00:00:00.000000"
                },
                {
                  "id": "AS14.02",
                  "average_mood": 0.6631578947368418,
                  "mood_next_day": 0.6947368421052632,
                  "average_valence": 0.5076923076923077,
                  "average_arousal": 0.3,
                  "average_office": 0,
                  "average_game": 0,
                  "_deepnote_index_column": "2014-03-31T00:00:00.000000"
                },
                {
                  "id": "AS14.02",
                  "average_mood": 0.694736842105263,
                  "mood_next_day": 0.536842105263158,
                  "average_valence": 0.6307692307692307,
                  "average_arousal": 0.45,
                  "average_office": 0,
                  "average_game": 0,
                  "_deepnote_index_column": "2014-04-01T00:00:00.000000"
                },
                {
                  "id": "AS14.02",
                  "average_mood": 0.5368421052631579,
                  "mood_next_day": 0.43421052631578944,
                  "average_valence": 0.32307692307692304,
                  "average_arousal": 0.35,
                  "average_office": 0,
                  "average_game": 0,
                  "_deepnote_index_column": "2014-04-02T00:00:00.000000"
                },
                {
                  "id": "AS14.02",
                  "average_mood": 0.4342105263157893,
                  "mood_next_day": 0.536842105263158,
                  "average_valence": 0.3846153846153846,
                  "average_arousal": 0.4375,
                  "average_office": 0,
                  "average_game": 0,
                  "_deepnote_index_column": "2014-04-03T00:00:00.000000"
                },
                {
                  "id": "AS14.02",
                  "average_mood": 0.5368421052631579,
                  "mood_next_day": 0.6947368421052632,
                  "average_valence": 0.4461538461538461,
                  "average_arousal": 0.19999999999999998,
                  "average_office": 0,
                  "average_game": 0,
                  "_deepnote_index_column": "2014-04-04T00:00:00.000000"
                },
                {
                  "id": "AS14.02",
                  "average_mood": 0.694736842105263,
                  "mood_next_day": 0.2368421052631579,
                  "average_valence": 0.5692307692307692,
                  "average_arousal": 0.5,
                  "average_office": 0,
                  "average_game": 0,
                  "_deepnote_index_column": "2014-04-05T00:00:00.000000"
                },
                {
                  "id": "AS14.02",
                  "average_mood": 0.2368421052631578,
                  "mood_next_day": 0.5999999999999999,
                  "average_valence": 0,
                  "average_arousal": 0.25,
                  "average_office": 0,
                  "average_game": 0,
                  "_deepnote_index_column": "2014-04-06T00:00:00.000000"
                },
                {
                  "id": "AS14.02",
                  "average_mood": 0.5999999999999999,
                  "mood_next_day": 0.513157894736842,
                  "average_valence": 0.5692307692307692,
                  "average_arousal": 0.5,
                  "average_office": 0,
                  "average_game": 0,
                  "_deepnote_index_column": "2014-04-07T00:00:00.000000"
                },
                {
                  "id": "AS14.02",
                  "average_mood": 0.513157894736842,
                  "mood_next_day": 0.6710526315789472,
                  "average_valence": 0.5384615384615384,
                  "average_arousal": 0.4375,
                  "average_office": 0,
                  "average_game": 0,
                  "_deepnote_index_column": "2014-04-08T00:00:00.000000"
                },
                {
                  "id": "AS14.02",
                  "average_mood": 0.6710526315789472,
                  "mood_next_day": 0.6710526315789472,
                  "average_valence": 0.4615384615384615,
                  "average_arousal": 0.375,
                  "average_office": 0,
                  "average_game": 0,
                  "_deepnote_index_column": "2014-04-09T00:00:00.000000"
                },
                {
                  "id": "AS14.02",
                  "average_mood": 0.6710526315789472,
                  "mood_next_day": 0.5526315789473683,
                  "average_valence": 0.6153846153846153,
                  "average_arousal": 0.5625,
                  "average_office": 0,
                  "average_game": 0,
                  "_deepnote_index_column": "2014-04-10T00:00:00.000000"
                }
              ],
              "rows_bottom": [
                {
                  "id": "AS14.32",
                  "average_mood": 0.7105263157894736,
                  "mood_next_day": 0.631578947368421,
                  "average_valence": 0.846153846153846,
                  "average_arousal": 0.25,
                  "average_office": 0.020822630018516735,
                  "average_game": 0,
                  "_deepnote_index_column": "2014-04-01T00:00:00.000000"
                },
                {
                  "id": "AS14.32",
                  "average_mood": 0.631578947368421,
                  "mood_next_day": 0.7894736842105262,
                  "average_valence": 0.3846153846153846,
                  "average_arousal": 0.5,
                  "average_office": 0.036296947414614304,
                  "average_game": 0,
                  "_deepnote_index_column": "2014-04-02T00:00:00.000000"
                },
                {
                  "id": "AS14.32",
                  "average_mood": 0.7894736842105261,
                  "mood_next_day": 0.7894736842105262,
                  "average_valence": 0.5384615384615384,
                  "average_arousal": 0.4375,
                  "average_office": 0.03891323893009665,
                  "average_game": 0,
                  "_deepnote_index_column": "2014-04-03T00:00:00.000000"
                },
                {
                  "id": "AS14.32",
                  "average_mood": 0.7894736842105261,
                  "mood_next_day": 0.8526315789473684,
                  "average_valence": 0.5384615384615384,
                  "average_arousal": 0.375,
                  "average_office": 0,
                  "average_game": 0,
                  "_deepnote_index_column": "2014-04-04T00:00:00.000000"
                },
                {
                  "id": "AS14.32",
                  "average_mood": 0.8526315789473683,
                  "mood_next_day": 0.726315789473684,
                  "average_valence": 0.8153846153846153,
                  "average_arousal": 0.85,
                  "average_office": 0,
                  "average_game": 0,
                  "_deepnote_index_column": "2014-04-05T00:00:00.000000"
                },
                {
                  "id": "AS14.32",
                  "average_mood": 0.726315789473684,
                  "mood_next_day": 0.631578947368421,
                  "average_valence": 0.3846153846153846,
                  "average_arousal": 0.15,
                  "average_office": 0,
                  "average_game": 0,
                  "_deepnote_index_column": "2014-04-06T00:00:00.000000"
                },
                {
                  "id": "AS14.32",
                  "average_mood": 0.631578947368421,
                  "mood_next_day": 0.7578947368421051,
                  "average_valence": 0.23076923076923075,
                  "average_arousal": 0.375,
                  "average_office": 0,
                  "average_game": 0,
                  "_deepnote_index_column": "2014-04-07T00:00:00.000000"
                },
                {
                  "id": "AS14.32",
                  "average_mood": 0.757894736842105,
                  "mood_next_day": 0.6842105263157894,
                  "average_valence": 0.4461538461538461,
                  "average_arousal": 0.6,
                  "average_office": 0,
                  "average_game": 0,
                  "_deepnote_index_column": "2014-04-08T00:00:00.000000"
                },
                {
                  "id": "AS14.32",
                  "average_mood": 0.6842105263157894,
                  "mood_next_day": 0.8289473684210527,
                  "average_valence": 0.3846153846153846,
                  "average_arousal": 0.5833333333333333,
                  "average_office": 0,
                  "average_game": 0,
                  "_deepnote_index_column": "2014-04-09T00:00:00.000000"
                },
                {
                  "id": "AS14.32",
                  "average_mood": 0.8289473684210525,
                  "mood_next_day": 0.7368421052631577,
                  "average_valence": 0.6153846153846153,
                  "average_arousal": 0.5625,
                  "average_office": 0,
                  "average_game": 0,
                  "_deepnote_index_column": "2014-04-10T00:00:00.000000"
                },
                {
                  "id": "AS14.32",
                  "average_mood": 0.7368421052631577,
                  "mood_next_day": 0.8842105263157894,
                  "average_valence": 0.4871794871794871,
                  "average_arousal": 0.5833333333333333,
                  "average_office": 0,
                  "average_game": 0,
                  "_deepnote_index_column": "2014-04-11T00:00:00.000000"
                },
                {
                  "id": "AS14.32",
                  "average_mood": 0.8842105263157891,
                  "mood_next_day": 0.7894736842105262,
                  "average_valence": 0.6307692307692307,
                  "average_arousal": 0.5499999999999999,
                  "average_office": 0,
                  "average_game": 0,
                  "_deepnote_index_column": "2014-04-12T00:00:00.000000"
                },
                {
                  "id": "AS14.32",
                  "average_mood": 0.7894736842105261,
                  "mood_next_day": 0.7105263157894737,
                  "average_valence": 0.5692307692307692,
                  "average_arousal": 0.04999999999999998,
                  "average_office": 0,
                  "average_game": 0,
                  "_deepnote_index_column": "2014-04-13T00:00:00.000000"
                },
                {
                  "id": "AS14.32",
                  "average_mood": 0.7105263157894736,
                  "mood_next_day": 0.7894736842105262,
                  "average_valence": 0.5384615384615384,
                  "average_arousal": 0.625,
                  "average_office": 0,
                  "average_game": 0,
                  "_deepnote_index_column": "2014-04-14T00:00:00.000000"
                },
                {
                  "id": "AS14.32",
                  "average_mood": 0.7894736842105261,
                  "mood_next_day": 0.8684210526315789,
                  "average_valence": 0.5384615384615384,
                  "average_arousal": 0.5,
                  "average_office": 0,
                  "average_game": 0,
                  "_deepnote_index_column": "2014-04-15T00:00:00.000000"
                },
                {
                  "id": "AS14.32",
                  "average_mood": 0.8684210526315788,
                  "mood_next_day": 0.8684210526315789,
                  "average_valence": 0.6153846153846153,
                  "average_arousal": 0.6875,
                  "average_office": 0,
                  "average_game": 0,
                  "_deepnote_index_column": "2014-04-16T00:00:00.000000"
                },
                {
                  "id": "AS14.32",
                  "average_mood": 0.8684210526315788,
                  "mood_next_day": 0.631578947368421,
                  "average_valence": 0.5384615384615384,
                  "average_arousal": 0.625,
                  "average_office": 0,
                  "average_game": 0,
                  "_deepnote_index_column": "2014-04-17T00:00:00.000000"
                },
                {
                  "id": "AS14.32",
                  "average_mood": 0.631578947368421,
                  "mood_next_day": 0.7894736842105262,
                  "average_valence": 0.3846153846153846,
                  "average_arousal": 0.45,
                  "average_office": 0,
                  "average_game": 0,
                  "_deepnote_index_column": "2014-04-23T00:00:00.000000"
                },
                {
                  "id": "AS14.32",
                  "average_mood": 0.7894736842105261,
                  "mood_next_day": 0.6842105263157894,
                  "average_valence": 0.5384615384615384,
                  "average_arousal": 0.5,
                  "average_office": 0,
                  "average_game": 0,
                  "_deepnote_index_column": "2014-04-24T00:00:00.000000"
                },
                {
                  "id": "AS14.32",
                  "average_mood": 0.6842105263157894,
                  "mood_next_day": 0.7105263157894737,
                  "average_valence": 0.3846153846153846,
                  "average_arousal": 0.375,
                  "average_office": 0,
                  "average_game": 0,
                  "_deepnote_index_column": "2014-04-27T00:00:00.000000"
                },
                {
                  "id": "AS14.32",
                  "average_mood": 0.7105263157894736,
                  "mood_next_day": 0.7894736842105262,
                  "average_valence": 0.4615384615384615,
                  "average_arousal": 0.5625,
                  "average_office": 0,
                  "average_game": 0,
                  "_deepnote_index_column": "2014-04-28T00:00:00.000000"
                },
                {
                  "id": "AS14.32",
                  "average_mood": 0.7894736842105261,
                  "mood_next_day": 0.631578947368421,
                  "average_valence": 0.5897435897435896,
                  "average_arousal": 0.75,
                  "average_office": 0,
                  "average_game": 0,
                  "_deepnote_index_column": "2014-04-29T00:00:00.000000"
                },
                {
                  "id": "AS14.32",
                  "average_mood": 0.631578947368421,
                  "mood_next_day": 0.631578947368421,
                  "average_valence": 0.5897435897435896,
                  "average_arousal": 0.5,
                  "average_office": 0,
                  "average_game": 0,
                  "_deepnote_index_column": "2014-04-30T00:00:00.000000"
                },
                {
                  "id": "AS14.32",
                  "average_mood": 0.631578947368421,
                  "mood_next_day": 0.6710526315789472,
                  "average_valence": 0.3846153846153846,
                  "average_arousal": 0.25,
                  "average_office": 0,
                  "average_game": 0,
                  "_deepnote_index_column": "2014-05-01T00:00:00.000000"
                },
                {
                  "id": "AS14.32",
                  "average_mood": 0.6710526315789472,
                  "mood_next_day": 0.7105263157894737,
                  "average_valence": 0.3846153846153846,
                  "average_arousal": 0.4375,
                  "average_office": 0,
                  "average_game": 0,
                  "_deepnote_index_column": "2014-05-02T00:00:00.000000"
                },
                {
                  "id": "AS14.32",
                  "average_mood": 0.7105263157894736,
                  "mood_next_day": 0.8947368421052629,
                  "average_valence": 0.5384615384615384,
                  "average_arousal": 0.25,
                  "average_office": 0.0014128375557910286,
                  "average_game": 0,
                  "_deepnote_index_column": "2014-05-03T00:00:00.000000"
                },
                {
                  "id": "AS14.32",
                  "average_mood": 0.8947368421052628,
                  "mood_next_day": 0.5526315789473683,
                  "average_valence": 0.6923076923076923,
                  "average_arousal": 0.5833333333333333,
                  "average_office": 0,
                  "average_game": 0,
                  "_deepnote_index_column": "2014-05-04T00:00:00.000000"
                },
                {
                  "id": "AS14.32",
                  "average_mood": 0.5526315789473683,
                  "mood_next_day": 0.4736842105263158,
                  "average_valence": 0.30769230769230765,
                  "average_arousal": 0.25,
                  "average_office": 0,
                  "average_game": 0,
                  "_deepnote_index_column": "2014-05-07T00:00:00.000000"
                },
                {
                  "id": "AS14.32",
                  "average_mood": 0.4736842105263157,
                  "mood_next_day": 0.75,
                  "average_valence": 0.30769230769230765,
                  "average_arousal": 0.25,
                  "average_office": 0,
                  "average_game": 0,
                  "_deepnote_index_column": "2014-05-08T00:00:00.000000"
                },
                {
                  "id": "AS14.32",
                  "average_mood": 0.7499999999999998,
                  "mood_next_day": 0.6710526315789472,
                  "average_valence": 0.6153846153846153,
                  "average_arousal": 0.4375,
                  "average_office": 0,
                  "average_game": 0,
                  "_deepnote_index_column": "2014-05-09T00:00:00.000000"
                },
                {
                  "id": "AS14.32",
                  "average_mood": 0.6710526315789472,
                  "mood_next_day": 0.6631578947368421,
                  "average_valence": 0.5384615384615384,
                  "average_arousal": 0.3125,
                  "average_office": 0,
                  "average_game": 0,
                  "_deepnote_index_column": "2014-05-10T00:00:00.000000"
                },
                {
                  "id": "AS14.32",
                  "average_mood": 0.6631578947368418,
                  "mood_next_day": 0.6513157894736842,
                  "average_valence": 0.4461538461538461,
                  "average_arousal": 0.15,
                  "average_office": 0,
                  "average_game": 0,
                  "_deepnote_index_column": "2014-05-11T00:00:00.000000"
                },
                {
                  "id": "AS14.33",
                  "average_mood": 0.6513157894736842,
                  "mood_next_day": 0.6631578947368421,
                  "average_valence": 0.4871794871794871,
                  "average_arousal": 0.5833333333333333,
                  "average_office": 0,
                  "average_game": 0,
                  "_deepnote_index_column": "2014-04-16T00:00:00.000000"
                },
                {
                  "id": "AS14.33",
                  "average_mood": 0.6631578947368418,
                  "mood_next_day": 0.6947368421052632,
                  "average_valence": 0.8153846153846153,
                  "average_arousal": 0.35,
                  "average_office": 0,
                  "average_game": 0,
                  "_deepnote_index_column": "2014-04-17T00:00:00.000000"
                },
                {
                  "id": "AS14.33",
                  "average_mood": 0.694736842105263,
                  "mood_next_day": 0.7368421052631577,
                  "average_valence": 0.6307692307692307,
                  "average_arousal": 0.3,
                  "average_office": 0,
                  "average_game": 0,
                  "_deepnote_index_column": "2014-04-18T00:00:00.000000"
                },
                {
                  "id": "AS14.33",
                  "average_mood": 0.7368421052631577,
                  "mood_next_day": 0.6947368421052632,
                  "average_valence": 0.6923076923076923,
                  "average_arousal": 0.5,
                  "average_office": 0,
                  "average_game": 0,
                  "_deepnote_index_column": "2014-04-19T00:00:00.000000"
                },
                {
                  "id": "AS14.33",
                  "average_mood": 0.694736842105263,
                  "mood_next_day": 0.6631578947368421,
                  "average_valence": 0.7538461538461538,
                  "average_arousal": 0.5,
                  "average_office": 0,
                  "average_game": 0,
                  "_deepnote_index_column": "2014-04-20T00:00:00.000000"
                },
                {
                  "id": "AS14.33",
                  "average_mood": 0.6631578947368418,
                  "mood_next_day": 0.5052631578947369,
                  "average_valence": 0.5692307692307692,
                  "average_arousal": 0.5,
                  "average_office": 0,
                  "average_game": 0,
                  "_deepnote_index_column": "2014-04-21T00:00:00.000000"
                },
                {
                  "id": "AS14.33",
                  "average_mood": 0.5052631578947369,
                  "mood_next_day": 0.3473684210526316,
                  "average_valence": 0.32307692307692304,
                  "average_arousal": 0.35,
                  "average_office": 0,
                  "average_game": 0,
                  "_deepnote_index_column": "2014-04-22T00:00:00.000000"
                },
                {
                  "id": "AS14.33",
                  "average_mood": 0.34736842105263155,
                  "mood_next_day": 0.631578947368421,
                  "average_valence": 0.19999999999999998,
                  "average_arousal": 0.45,
                  "average_office": 0,
                  "average_game": 0,
                  "_deepnote_index_column": "2014-04-23T00:00:00.000000"
                },
                {
                  "id": "AS14.33",
                  "average_mood": 0.631578947368421,
                  "mood_next_day": 0.8526315789473684,
                  "average_valence": 0.6923076923076923,
                  "average_arousal": 0.4375,
                  "average_office": 0,
                  "average_game": 0,
                  "_deepnote_index_column": "2014-04-24T00:00:00.000000"
                },
                {
                  "id": "AS14.33",
                  "average_mood": 0.8526315789473683,
                  "mood_next_day": 0.726315789473684,
                  "average_valence": 0.5326495726495726,
                  "average_arousal": 0.7,
                  "average_office": 0,
                  "average_game": 0,
                  "_deepnote_index_column": "2014-04-25T00:00:00.000000"
                },
                {
                  "id": "AS14.33",
                  "average_mood": 0.726315789473684,
                  "mood_next_day": 0.5052631578947369,
                  "average_valence": 0.6923076923076923,
                  "average_arousal": 0.6,
                  "average_office": 0,
                  "average_game": 0,
                  "_deepnote_index_column": "2014-04-26T00:00:00.000000"
                },
                {
                  "id": "AS14.33",
                  "average_mood": 0.5052631578947369,
                  "mood_next_day": 0.5921052631578948,
                  "average_valence": 0.5076923076923077,
                  "average_arousal": 0.19999999999999998,
                  "average_office": 0,
                  "average_game": 0,
                  "_deepnote_index_column": "2014-04-27T00:00:00.000000"
                },
                {
                  "id": "AS14.33",
                  "average_mood": 0.5921052631578945,
                  "mood_next_day": 0.5052631578947369,
                  "average_valence": 0.6153846153846153,
                  "average_arousal": 0.18749999999999997,
                  "average_office": 0,
                  "average_game": 0,
                  "_deepnote_index_column": "2014-04-28T00:00:00.000000"
                },
                {
                  "id": "AS14.33",
                  "average_mood": 0.5052631578947369,
                  "mood_next_day": 0.536842105263158,
                  "average_valence": 0.5076923076923077,
                  "average_arousal": 0.39999999999999997,
                  "average_office": 0,
                  "average_game": 0,
                  "_deepnote_index_column": "2014-04-29T00:00:00.000000"
                },
                {
                  "id": "AS14.33",
                  "average_mood": 0.5368421052631579,
                  "mood_next_day": 0.7105263157894737,
                  "average_valence": 0.5326495726495726,
                  "average_arousal": 0.25,
                  "average_office": 0,
                  "average_game": 0,
                  "_deepnote_index_column": "2014-04-30T00:00:00.000000"
                },
                {
                  "id": "AS14.33",
                  "average_mood": 0.7105263157894736,
                  "mood_next_day": 0.4934210526315788,
                  "average_valence": 0.6923076923076923,
                  "average_arousal": 0.5,
                  "average_office": 0,
                  "average_game": 0,
                  "_deepnote_index_column": "2014-05-04T00:00:00.000000"
                },
                {
                  "id": "AS14.33",
                  "average_mood": 0.49342105263157887,
                  "mood_next_day": 0.5684210526315788,
                  "average_valence": 0.23076923076923075,
                  "average_arousal": 0.4375,
                  "average_office": 0,
                  "average_game": 0,
                  "_deepnote_index_column": "2014-05-07T00:00:00.000000"
                },
                {
                  "id": "AS14.33",
                  "average_mood": 0.5684210526315788,
                  "mood_next_day": 0.2842105263157894,
                  "average_valence": 0.5076923076923077,
                  "average_arousal": 0.3,
                  "average_office": 0,
                  "average_game": 0,
                  "_deepnote_index_column": "2014-05-08T00:00:00.000000"
                },
                {
                  "id": "AS14.33",
                  "average_mood": 0.28421052631578936,
                  "mood_next_day": 0.726315789473684,
                  "average_valence": 0.32307692307692304,
                  "average_arousal": 0.5499999999999999,
                  "average_office": 0,
                  "average_game": 0,
                  "_deepnote_index_column": "2014-05-09T00:00:00.000000"
                },
                {
                  "id": "AS14.33",
                  "average_mood": 0.726315789473684,
                  "mood_next_day": 0.4736842105263158,
                  "average_valence": 0.6923076923076923,
                  "average_arousal": 0.39999999999999997,
                  "average_office": 0,
                  "average_game": 0,
                  "_deepnote_index_column": "2014-05-10T00:00:00.000000"
                },
                {
                  "id": "AS14.33",
                  "average_mood": 0.4736842105263157,
                  "mood_next_day": 0.4736842105263158,
                  "average_valence": 0.5076923076923077,
                  "average_arousal": 0.5,
                  "average_office": 0.004037825514561859,
                  "average_game": 0,
                  "_deepnote_index_column": "2014-05-11T00:00:00.000000"
                },
                {
                  "id": "AS14.33",
                  "average_mood": 0.4736842105263157,
                  "mood_next_day": 0.3157894736842105,
                  "average_valence": 0.5384615384615384,
                  "average_arousal": 0.3125,
                  "average_office": 0,
                  "average_game": 0,
                  "_deepnote_index_column": "2014-05-12T00:00:00.000000"
                },
                {
                  "id": "AS14.33",
                  "average_mood": 0.31578947368421045,
                  "mood_next_day": 0.6052631578947367,
                  "average_valence": 0.3846153846153846,
                  "average_arousal": 0.625,
                  "average_office": 0,
                  "average_game": 0,
                  "_deepnote_index_column": "2014-05-13T00:00:00.000000"
                },
                {
                  "id": "AS14.33",
                  "average_mood": 0.6052631578947366,
                  "mood_next_day": 0.4736842105263158,
                  "average_valence": 0.5326495726495726,
                  "average_arousal": 0.4166666666666667,
                  "average_office": 0,
                  "average_game": 0,
                  "_deepnote_index_column": "2014-05-14T00:00:00.000000"
                },
                {
                  "id": "AS14.33",
                  "average_mood": 0.4736842105263157,
                  "mood_next_day": 0.631578947368421,
                  "average_valence": 0.5326495726495726,
                  "average_arousal": 0.5,
                  "average_office": 0,
                  "average_game": 0,
                  "_deepnote_index_column": "2014-05-15T00:00:00.000000"
                },
                {
                  "id": "AS14.33",
                  "average_mood": 0.631578947368421,
                  "mood_next_day": 0.4736842105263158,
                  "average_valence": 0.5326495726495726,
                  "average_arousal": 0.6,
                  "average_office": 0,
                  "average_game": 0,
                  "_deepnote_index_column": "2014-05-16T00:00:00.000000"
                },
                {
                  "id": "AS14.33",
                  "average_mood": 0.4736842105263157,
                  "mood_next_day": 0.4736842105263158,
                  "average_valence": 0.5326495726495726,
                  "average_arousal": 0.5625,
                  "average_office": 0,
                  "average_game": 0,
                  "_deepnote_index_column": "2014-05-17T00:00:00.000000"
                },
                {
                  "id": "AS14.33",
                  "average_mood": 0.4736842105263157,
                  "mood_next_day": 0.5052631578947369,
                  "average_valence": 0.4461538461538461,
                  "average_arousal": 0.35,
                  "average_office": 0,
                  "average_game": 0,
                  "_deepnote_index_column": "2014-05-18T00:00:00.000000"
                },
                {
                  "id": "AS14.33",
                  "average_mood": 0.5052631578947369,
                  "mood_next_day": 0.513157894736842,
                  "average_valence": 0.4461538461538461,
                  "average_arousal": 0.45,
                  "average_office": 0,
                  "average_game": 0,
                  "_deepnote_index_column": "2014-05-19T00:00:00.000000"
                },
                {
                  "id": "AS14.33",
                  "average_mood": 0.513157894736842,
                  "mood_next_day": 0.4736842105263158,
                  "average_valence": 0.5384615384615384,
                  "average_arousal": 0.375,
                  "average_office": 0,
                  "average_game": 0,
                  "_deepnote_index_column": "2014-05-20T00:00:00.000000"
                },
                {
                  "id": "AS14.33",
                  "average_mood": 0.4736842105263157,
                  "mood_next_day": 0.43421052631578944,
                  "average_valence": 0.5326495726495726,
                  "average_arousal": 0.3333333333333333,
                  "average_office": 0,
                  "average_game": 0,
                  "_deepnote_index_column": "2014-05-21T00:00:00.000000"
                },
                {
                  "id": "AS14.33",
                  "average_mood": 0.4342105263157893,
                  "mood_next_day": 0.44736842105263147,
                  "average_valence": 0.4615384615384615,
                  "average_arousal": 0.625,
                  "average_office": 0,
                  "average_game": 0,
                  "_deepnote_index_column": "2014-05-22T00:00:00.000000"
                },
                {
                  "id": "AS14.33",
                  "average_mood": 0.4473684210526314,
                  "mood_next_day": 0.536842105263158,
                  "average_valence": 0.3846153846153846,
                  "average_arousal": 0.29166666666666663,
                  "average_office": 0,
                  "average_game": 0,
                  "_deepnote_index_column": "2014-05-23T00:00:00.000000"
                },
                {
                  "id": "AS14.33",
                  "average_mood": 0.5368421052631579,
                  "mood_next_day": 0.513157894736842,
                  "average_valence": 0.5326495726495726,
                  "average_arousal": 0.42543859649122806,
                  "average_office": 0,
                  "average_game": 0,
                  "_deepnote_index_column": "2014-05-24T00:00:00.000000"
                },
                {
                  "id": "AS14.33",
                  "average_mood": 0.513157894736842,
                  "mood_next_day": 0.37894736842105264,
                  "average_valence": 0.5326495726495726,
                  "average_arousal": 0.3125,
                  "average_office": 0,
                  "average_game": 0,
                  "_deepnote_index_column": "2014-05-25T00:00:00.000000"
                },
                {
                  "id": "AS14.33",
                  "average_mood": 0.37894736842105264,
                  "mood_next_day": 0.5052631578947369,
                  "average_valence": 0.3846153846153846,
                  "average_arousal": 0.39999999999999997,
                  "average_office": 0.08731898018816427,
                  "average_game": 0,
                  "_deepnote_index_column": "2014-05-26T00:00:00.000000"
                },
                {
                  "id": "AS14.33",
                  "average_mood": 0.5052631578947369,
                  "mood_next_day": 0.8210526315789473,
                  "average_valence": 0.5076923076923077,
                  "average_arousal": 0.35,
                  "average_office": 0,
                  "average_game": 0,
                  "_deepnote_index_column": "2014-05-27T00:00:00.000000"
                },
                {
                  "id": "AS14.33",
                  "average_mood": 0.8210526315789471,
                  "mood_next_day": 0.631578947368421,
                  "average_valence": 0.7538461538461538,
                  "average_arousal": 0.5,
                  "average_office": 0,
                  "average_game": 0,
                  "_deepnote_index_column": "2014-05-28T00:00:00.000000"
                },
                {
                  "id": "AS14.33",
                  "average_mood": 0.631578947368421,
                  "mood_next_day": 0.5999999999999999,
                  "average_valence": 0.6923076923076923,
                  "average_arousal": 0.16666666666666666,
                  "average_office": 0,
                  "average_game": 0,
                  "_deepnote_index_column": "2014-05-29T00:00:00.000000"
                }
              ]
            },
            "text/plain": "                 id  average_mood  mood_next_day  average_valence  \\\ndate                                                                \n2014-02-26  AS14.01      0.513158       0.513158         0.615385   \n2014-03-21  AS14.01      0.513158       0.536842         0.446154   \n2014-03-22  AS14.01      0.536842       0.600000         0.599584   \n2014-03-23  AS14.01      0.600000       0.473684         0.630769   \n2014-03-24  AS14.01      0.473684       0.592105         0.384615   \n...             ...           ...            ...              ...   \n2014-05-25  AS14.33      0.513158       0.378947         0.532650   \n2014-05-26  AS14.33      0.378947       0.505263         0.384615   \n2014-05-27  AS14.33      0.505263       0.821053         0.507692   \n2014-05-28  AS14.33      0.821053       0.631579         0.753846   \n2014-05-29  AS14.33      0.631579       0.600000         0.692308   \n\n            average_arousal  average_office  average_game  \ndate                                                       \n2014-02-26         0.437500        0.000000           0.0  \n2014-03-21         0.550000        0.038399           0.0  \n2014-03-22         0.650000        0.000000           0.0  \n2014-03-23         0.550000        0.000000           0.0  \n2014-03-24         0.700000        0.002014           0.0  \n...                     ...             ...           ...  \n2014-05-25         0.312500        0.000000           0.0  \n2014-05-26         0.400000        0.087319           0.0  \n2014-05-27         0.350000        0.000000           0.0  \n2014-05-28         0.500000        0.000000           0.0  \n2014-05-29         0.166667        0.000000           0.0  \n\n[1215 rows x 7 columns]",
            "text/html": "<div>\n<style scoped>\n    .dataframe tbody tr th:only-of-type {\n        vertical-align: middle;\n    }\n\n    .dataframe tbody tr th {\n        vertical-align: top;\n    }\n\n    .dataframe thead th {\n        text-align: right;\n    }\n</style>\n<table border=\"1\" class=\"dataframe\">\n  <thead>\n    <tr style=\"text-align: right;\">\n      <th></th>\n      <th>id</th>\n      <th>average_mood</th>\n      <th>mood_next_day</th>\n      <th>average_valence</th>\n      <th>average_arousal</th>\n      <th>average_office</th>\n      <th>average_game</th>\n    </tr>\n    <tr>\n      <th>date</th>\n      <th></th>\n      <th></th>\n      <th></th>\n      <th></th>\n      <th></th>\n      <th></th>\n      <th></th>\n    </tr>\n  </thead>\n  <tbody>\n    <tr>\n      <th>2014-02-26</th>\n      <td>AS14.01</td>\n      <td>0.513158</td>\n      <td>0.513158</td>\n      <td>0.615385</td>\n      <td>0.437500</td>\n      <td>0.000000</td>\n      <td>0.0</td>\n    </tr>\n    <tr>\n      <th>2014-03-21</th>\n      <td>AS14.01</td>\n      <td>0.513158</td>\n      <td>0.536842</td>\n      <td>0.446154</td>\n      <td>0.550000</td>\n      <td>0.038399</td>\n      <td>0.0</td>\n    </tr>\n    <tr>\n      <th>2014-03-22</th>\n      <td>AS14.01</td>\n      <td>0.536842</td>\n      <td>0.600000</td>\n      <td>0.599584</td>\n      <td>0.650000</td>\n      <td>0.000000</td>\n      <td>0.0</td>\n    </tr>\n    <tr>\n      <th>2014-03-23</th>\n      <td>AS14.01</td>\n      <td>0.600000</td>\n      <td>0.473684</td>\n      <td>0.630769</td>\n      <td>0.550000</td>\n      <td>0.000000</td>\n      <td>0.0</td>\n    </tr>\n    <tr>\n      <th>2014-03-24</th>\n      <td>AS14.01</td>\n      <td>0.473684</td>\n      <td>0.592105</td>\n      <td>0.384615</td>\n      <td>0.700000</td>\n      <td>0.002014</td>\n      <td>0.0</td>\n    </tr>\n    <tr>\n      <th>...</th>\n      <td>...</td>\n      <td>...</td>\n      <td>...</td>\n      <td>...</td>\n      <td>...</td>\n      <td>...</td>\n      <td>...</td>\n    </tr>\n    <tr>\n      <th>2014-05-25</th>\n      <td>AS14.33</td>\n      <td>0.513158</td>\n      <td>0.378947</td>\n      <td>0.532650</td>\n      <td>0.312500</td>\n      <td>0.000000</td>\n      <td>0.0</td>\n    </tr>\n    <tr>\n      <th>2014-05-26</th>\n      <td>AS14.33</td>\n      <td>0.378947</td>\n      <td>0.505263</td>\n      <td>0.384615</td>\n      <td>0.400000</td>\n      <td>0.087319</td>\n      <td>0.0</td>\n    </tr>\n    <tr>\n      <th>2014-05-27</th>\n      <td>AS14.33</td>\n      <td>0.505263</td>\n      <td>0.821053</td>\n      <td>0.507692</td>\n      <td>0.350000</td>\n      <td>0.000000</td>\n      <td>0.0</td>\n    </tr>\n    <tr>\n      <th>2014-05-28</th>\n      <td>AS14.33</td>\n      <td>0.821053</td>\n      <td>0.631579</td>\n      <td>0.753846</td>\n      <td>0.500000</td>\n      <td>0.000000</td>\n      <td>0.0</td>\n    </tr>\n    <tr>\n      <th>2014-05-29</th>\n      <td>AS14.33</td>\n      <td>0.631579</td>\n      <td>0.600000</td>\n      <td>0.692308</td>\n      <td>0.166667</td>\n      <td>0.000000</td>\n      <td>0.0</td>\n    </tr>\n  </tbody>\n</table>\n<p>1215 rows × 7 columns</p>\n</div>"
          },
          "metadata": {}
        }
      ]
    },
    {
      "cell_type": "code",
      "source": "# dfp.to_csv(\"./data/final_dataset.csv\")",
      "metadata": {
        "tags": [],
        "cell_id": "00009-8e95993c-1528-47f3-aea6-d5f1f7e71998",
        "deepnote_to_be_reexecuted": false,
        "source_hash": "c1401e20",
        "execution_millis": 25,
        "execution_start": 1618146890905,
        "deepnote_cell_type": "code"
      },
      "outputs": [],
      "execution_count": 11
    },
    {
      "cell_type": "code",
      "metadata": {
        "tags": [],
        "cell_id": "00009-e946d6ba-7a9c-4a8a-b642-204be0d924d6",
        "deepnote_to_be_reexecuted": false,
        "source_hash": "e4b2c7a6",
        "execution_millis": 25,
        "execution_start": 1617962646901,
        "deepnote_cell_type": "code"
      },
      "source": "list_ids = dfp.id.unique()\nlist_dfs = [] \nfor x in list_ids:\n    window = dfp.loc[dfp['id'] == x]\n    df_cor = window.drop([\"id\"], axis=1)\n    list_dfs.append(df_cor)",
      "execution_count": null,
      "outputs": []
    },
    {
      "cell_type": "code",
      "metadata": {
        "tags": [],
        "cell_id": "00010-43689276-1fe6-464b-833e-78af60320fdc",
        "deepnote_to_be_reexecuted": false,
        "source_hash": "3a441da0",
        "execution_millis": 7082,
        "execution_start": 1617964125315,
        "deepnote_cell_type": "code"
      },
      "source": "for i in range(len(list_dfs)):\n    plt.figure(figsize=(10,6))\n    autocorrelation_plot(list_dfs[i])\n    plt.title(list_ids[i])\n    plt.show()",
      "execution_count": null,
      "outputs": [
        {
          "data": {
            "text/plain": "<Figure size 720x432 with 1 Axes>",
            "image/png": "[encoded data removed]"
          },
          "metadata": {
            "needs_background": "light"
          },
          "output_type": "display_data"
        },
        {
          "data": {
            "text/plain": "<Figure size 720x432 with 1 Axes>",
            "image/png": "[encoded data removed]"
          },
          "metadata": {
            "needs_background": "light"
          },
          "output_type": "display_data"
        },
        {
          "data": {
            "text/plain": "<Figure size 720x432 with 1 Axes>",
            "image/png": "[encoded data removed]"
          },
          "metadata": {
            "needs_background": "light"
          },
          "output_type": "display_data"
        },
        {
          "data": {
            "text/plain": "<Figure size 720x432 with 1 Axes>",
            "image/png": "[encoded data removed]"
          },
          "metadata": {
            "needs_background": "light"
          },
          "output_type": "display_data"
        },
        {
          "data": {
            "text/plain": "<Figure size 720x432 with 1 Axes>",
            "image/png": "[encoded data removed]"
          },
          "metadata": {
            "needs_background": "light"
          },
          "output_type": "display_data"
        },
        {
          "data": {
            "text/plain": "<Figure size 720x432 with 1 Axes>",
            "image/png": "[encoded data removed]"
          },
          "metadata": {
            "needs_background": "light"
          },
          "output_type": "display_data"
        },
        {
          "data": {
            "text/plain": "<Figure size 720x432 with 1 Axes>",
            "image/png": "[encoded data removed]"
          },
          "metadata": {
            "needs_background": "light"
          },
          "output_type": "display_data"
        },
        {
          "data": {
            "text/plain": "<Figure size 720x432 with 1 Axes>",
            "image/png": "[encoded data removed]"
          },
          "metadata": {
            "needs_background": "light"
          },
          "output_type": "display_data"
        },
        {
          "data": {
            "text/plain": "<Figure size 720x432 with 1 Axes>",
            "image/png": "[encoded data removed]"
          },
          "metadata": {
            "needs_background": "light"
          },
          "output_type": "display_data"
        },
        {
          "data": {
            "text/plain": "<Figure size 720x432 with 1 Axes>",
            "image/png": "[encoded data removed]"
          },
          "metadata": {
            "needs_background": "light"
          },
          "output_type": "display_data"
        },
        {
          "data": {
            "text/plain": "<Figure size 720x432 with 1 Axes>",
            "image/png": "[encoded data removed]"
          },
          "metadata": {
            "needs_background": "light"
          },
          "output_type": "display_data"
        },
        {
          "data": {
            "text/plain": "<Figure size 720x432 with 1 Axes>",
            "image/png": "[encoded data removed]"
          },
          "metadata": {
            "needs_background": "light"
          },
          "output_type": "display_data"
        },
        {
          "data": {
            "text/plain": "<Figure size 720x432 with 1 Axes>",
            "image/png": "[encoded data removed]"
          },
          "metadata": {
            "needs_background": "light"
          },
          "output_type": "display_data"
        },
        {
          "data": {
            "text/plain": "<Figure size 720x432 with 1 Axes>",
            "image/png": "[encoded data removed]"
          },
          "metadata": {
            "needs_background": "light"
          },
          "output_type": "display_data"
        },
        {
          "data": {
            "text/plain": "<Figure size 720x432 with 1 Axes>",
            "image/png": "[encoded data removed]"
          },
          "metadata": {
            "needs_background": "light"
          },
          "output_type": "display_data"
        },
        {
          "data": {
            "text/plain": "<Figure size 720x432 with 1 Axes>",
            "image/png": "[encoded data removed]"
          },
          "metadata": {
            "needs_background": "light"
          },
          "output_type": "display_data"
        },
        {
          "data": {
            "text/plain": "<Figure size 720x432 with 1 Axes>",
            "image/png": "[encoded data removed]"
          },
          "metadata": {
            "needs_background": "light"
          },
          "output_type": "display_data"
        },
        {
          "data": {
            "text/plain": "<Figure size 720x432 with 1 Axes>",
            "image/png": "[encoded data removed]"
          },
          "metadata": {
            "needs_background": "light"
          },
          "output_type": "display_data"
        },
        {
          "data": {
            "text/plain": "<Figure size 720x432 with 1 Axes>",
            "image/png": "[encoded data removed]"
          },
          "metadata": {
            "needs_background": "light"
          },
          "output_type": "display_data"
        },
        {
          "data": {
            "text/plain": "<Figure size 720x432 with 1 Axes>",
            "image/png": "[encoded data removed]"
          },
          "metadata": {
            "needs_background": "light"
          },
          "output_type": "display_data"
        },
        {
          "data": {
            "text/plain": "<Figure size 720x432 with 1 Axes>",
            "image/png": "[encoded data removed]"
          },
          "metadata": {
            "needs_background": "light"
          },
          "output_type": "display_data"
        },
        {
          "data": {
            "text/plain": "<Figure size 720x432 with 1 Axes>",
            "image/png": "[encoded data removed]"
          },
          "metadata": {
            "needs_background": "light"
          },
          "output_type": "display_data"
        },
        {
          "data": {
            "text/plain": "<Figure size 720x432 with 1 Axes>",
            "image/png": "[encoded data removed]"
          },
          "metadata": {
            "needs_background": "light"
          },
          "output_type": "display_data"
        },
        {
          "data": {
            "text/plain": "<Figure size 720x432 with 1 Axes>",
            "image/png": "[encoded data removed]"
          },
          "metadata": {
            "needs_background": "light"
          },
          "output_type": "display_data"
        },
        {
          "data": {
            "text/plain": "<Figure size 720x432 with 1 Axes>",
            "image/png": "[encoded data removed]"
          },
          "metadata": {
            "needs_background": "light"
          },
          "output_type": "display_data"
        },
        {
          "data": {
            "text/plain": "<Figure size 720x432 with 1 Axes>",
            "image/png": "[encoded data removed]"
          },
          "metadata": {
            "needs_background": "light"
          },
          "output_type": "display_data"
        },
        {
          "data": {
            "text/plain": "<Figure size 720x432 with 1 Axes>",
            "image/png": "[encoded data removed]"
          },
          "metadata": {
            "needs_background": "light"
          },
          "output_type": "display_data"
        }
      ]
    },
    {
      "cell_type": "code",
      "metadata": {
        "tags": [],
        "cell_id": "00012-c4f51279-8854-4173-8731-7135661aa9f2",
        "deepnote_cell_type": "code"
      },
      "source": "",
      "execution_count": null,
      "outputs": []
    },
    {
      "cell_type": "markdown",
      "source": "<a style='text-decoration:none;line-height:16px;display:flex;color:#5B5B62;padding:10px;justify-content:end;' href='https://deepnote.com?utm_source=created-in-deepnote-cell&projectId=d79defa5-2359-4699-82dc-d6bf5eddd7a7' target=\"_blank\">\n<img alt='Created in deepnote.com' style='display:inline;max-height:16px;margin:0px;margin-right:7.5px;' src='data:image/svg+xml;base64,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' > </img>\nCreated in <span style='font-weight:600;margin-left:4px;'>Deepnote</span></a>",
      "metadata": {
        "tags": [],
        "created_in_deepnote_cell": true,
        "deepnote_cell_type": "markdown"
      }
    }
  ],
  "nbformat": 4,
  "nbformat_minor": 2,
  "metadata": {
    "orig_nbformat": 2,
    "deepnote": {
      "is_reactive": false
    },
    "deepnote_notebook_id": "3f380b8a-8c23-47a4-8a4c-338678adbc5a",
    "deepnote_execution_queue": []
  }
}