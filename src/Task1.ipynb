{
  "cells": [
    {
      "cell_type": "code",
      "metadata": {
        "tags": [],
        "cell_id": "00000-76d3903b-bb14-46ec-b5e9-8783fbe69da0",
        "deepnote_to_be_reexecuted": false,
        "source_hash": "d3165fff",
        "execution_millis": 1481,
        "execution_start": 1617795621876,
        "deepnote_cell_type": "code"
      },
      "source": "from matplotlib import pyplot\nimport pandas as pd\nimport numpy as np\nfrom datetime import datetime\n\ndef days_between(d1, d2):\n    if d1 == None:\n        return 0\n    else:\n        d1 = datetime.strptime(d1, \"%Y-%m-%d\")\n        d2 = datetime.strptime(d2, \"%Y-%m-%d\")\n        return abs((d2 - d1).days)\n\npandas_df = pd.read_csv('dataset_mood_smartphone.csv', header=0, index_col=0)\n#The amount of days measured differs per patient. \nlist_ids = pandas_df.id.unique()",
      "execution_count": null,
      "outputs": []
    },
    {
      "cell_type": "markdown",
      "source": "### Make a dictionary with the ID's and the dates ",
      "metadata": {
        "tags": [],
        "cell_id": "00001-ca5a30e9-1f20-4169-96b1-c820de386ad1",
        "deepnote_cell_type": "markdown"
      }
    },
    {
      "cell_type": "code",
      "metadata": {
        "tags": [],
        "cell_id": "00002-b1383cc7-3c45-4685-8156-478775e5df5d",
        "deepnote_to_be_reexecuted": false,
        "source_hash": "53883dc1",
        "execution_millis": 65050,
        "execution_start": 1617451159132,
        "deepnote_cell_type": "code"
      },
      "source": "time_dict = {}\nfor i in list_ids:\n    time_dict[i] = []\n\nfor index, row in pandas_df.iterrows():\n    for x in list_ids:\n        time_list = []\n        if row['id'] == x:\n            time = row['time'].split()\n            time_dict[x].append(time[0])\n",
      "execution_count": null,
      "outputs": []
    },
    {
      "cell_type": "markdown",
      "source": "### See how many unique dates each ID has (to determine the aggregation)",
      "metadata": {
        "tags": [],
        "cell_id": "00003-b07b3415-08de-4ab4-8a69-0c171b2d40fe",
        "deepnote_cell_type": "markdown"
      }
    },
    {
      "cell_type": "code",
      "metadata": {
        "tags": [],
        "cell_id": "00003-d50a4018-e999-4c9a-a8b4-a577934c3879",
        "deepnote_to_be_reexecuted": false,
        "source_hash": "749bf72e",
        "execution_millis": 5,
        "execution_start": 1617451224183,
        "deepnote_cell_type": "code"
      },
      "source": "for key, value in time_dict.items():\n    print(len(set(value)))\n    l = list(set(value))\n    l.sort()\n# I think we should keep the aggragation small since mood is something that can change very fast even throughout the day.",
      "execution_count": null,
      "outputs": [
        {
          "name": "stdout",
          "text": "72\n68\n77\n70\n74\n50\n67\n71\n67\n72\n72\n79\n74\n75\n73\n66\n63\n62\n75\n100\n80\n58\n73\n70\n78\n86\n101\n",
          "output_type": "stream"
        }
      ]
    },
    {
      "cell_type": "markdown",
      "source": "### Check for missing values",
      "metadata": {
        "tags": [],
        "cell_id": "00005-0fa9a89e-eaec-4a77-ad28-0513f3118c92",
        "deepnote_cell_type": "markdown"
      }
    },
    {
      "cell_type": "code",
      "metadata": {
        "tags": [],
        "cell_id": "00005-9565fa05-d616-4a7f-bc5d-fa3d6055c0d9",
        "deepnote_to_be_reexecuted": false,
        "source_hash": "ce82c6bd",
        "execution_millis": 27163,
        "execution_start": 1617451224186,
        "deepnote_cell_type": "code"
      },
      "source": "#Mood doesn't seem to have missing values? \nfor index, row in pandas_df.iterrows():\n    if row['variable'] == 'mood' and row['value'] not in range(1,11):\n        print(row)\n",
      "execution_count": null,
      "outputs": []
    },
    {
      "cell_type": "code",
      "metadata": {
        "tags": [],
        "cell_id": "00007-a93f4280-0bd3-4f58-a801-4e4b58d4f751",
        "deepnote_to_be_reexecuted": false,
        "source_hash": "ae5439cb",
        "execution_millis": 26822,
        "execution_start": 1617451251351,
        "deepnote_cell_type": "code"
      },
      "source": "#Valence seems to have 156 missing values \nmv_list = []\nfor index, row in pandas_df.iterrows():\n    if row['variable'] == 'circumplex.valence' and row['value'] not in range(-2,3):\n        mv_list.append(row['time'])\n\nprint(len(mv_list))",
      "execution_count": null,
      "outputs": [
        {
          "name": "stdout",
          "text": "156\n",
          "output_type": "stream"
        }
      ]
    },
    {
      "cell_type": "code",
      "metadata": {
        "tags": [],
        "cell_id": "00008-a6d03e5c-a1d0-463a-985a-60ec54d798f2",
        "deepnote_to_be_reexecuted": false,
        "source_hash": "d27e290c",
        "execution_millis": 27949,
        "execution_start": 1617451278169,
        "deepnote_cell_type": "code"
      },
      "source": "#Communication apps seems to have 0 missing values \ncom_list = []\nfor index, row in pandas_df.iterrows():\n    if row['variable'] == 'appCat.communication' and type(row['value']) != float:\n        com_list.append(row['time'])\n\nprint(len(com_list))",
      "execution_count": null,
      "outputs": [
        {
          "name": "stdout",
          "text": "0\n",
          "output_type": "stream"
        }
      ]
    },
    {
      "cell_type": "code",
      "metadata": {
        "tags": [],
        "cell_id": "00009-ddddd2cc-b332-4c52-b9eb-ae3ade248742",
        "deepnote_to_be_reexecuted": false,
        "source_hash": "86c85556",
        "execution_millis": 7,
        "execution_start": 1617451306120,
        "deepnote_cell_type": "code"
      },
      "source": "pandas_df.isna().sum()",
      "execution_count": null,
      "outputs": [
        {
          "output_type": "execute_result",
          "execution_count": 7,
          "data": {
            "text/plain": "id            0\ntime          0\nvariable      0\nvalue       202\ndtype: int64"
          },
          "metadata": {}
        }
      ]
    },
    {
      "cell_type": "markdown",
      "source": "### Calculating the average mood per day per patient ",
      "metadata": {
        "tags": [],
        "cell_id": "00005-b3c0df0d-98f5-4d01-81cb-32bc92866f24",
        "deepnote_cell_type": "markdown"
      }
    },
    {
      "cell_type": "code",
      "metadata": {
        "tags": [],
        "cell_id": "00004-35bea0bb-9300-467d-a658-cf7efbb673a2",
        "deepnote_to_be_reexecuted": false,
        "source_hash": "a770d63e",
        "execution_millis": 37082,
        "execution_start": 1617795628554,
        "deepnote_cell_type": "code"
      },
      "source": "last_value = None\ntotal_mood = 0\namount_mood = 0\naverage_list = []\ndate_list = [] \nid_list = []\nunique_id_list = []\nfor index, row in pandas_df.iterrows():\n    if row['variable'] == 'mood':\n        new_value = row['time'].split()[0]\n        days = days_between(last_value, new_value)\n        \n        if last_value != new_value and amount_mood > 0 and days == 1:\n            #Make sure the data frame has unique IDs to work with (since it didn't before) \n            unique = last_value + '_' + row['id']\n            id_list.append(row['id'])\n            date_list.append(last_value)\n            unique_id_list.append(unique)\n\n            average = total_mood / amount_mood\n            average_list.append(average)\n\n            total_mood = 0\n            amount_mood = 0\n        \n        total_mood += row['value'] \n        amount_mood += 1\n        last_value = new_value\n",
      "execution_count": null,
      "outputs": []
    },
    {
      "cell_type": "code",
      "metadata": {
        "tags": [],
        "cell_id": "00009-7357f299-b620-487a-a20b-37221210a31e",
        "deepnote_to_be_reexecuted": false,
        "source_hash": "19b2d4a4",
        "execution_millis": 21,
        "execution_start": 1617795668545,
        "deepnote_cell_type": "code"
      },
      "source": "#Make a new dateframe with the average moods per day, the ids and the dates\nnew_df = pd.DataFrame({'unique_id':unique_id_list})\nnew_df['id'] = id_list\nnew_df['date'] = date_list\nnew_df['average_mood'] = average_list",
      "execution_count": null,
      "outputs": []
    },
    {
      "cell_type": "markdown",
      "source": "### Other features",
      "metadata": {
        "tags": [],
        "cell_id": "00015-e542e9d1-a03b-4e9b-af46-fb61c8076ba5",
        "deepnote_cell_type": "markdown"
      }
    },
    {
      "cell_type": "code",
      "metadata": {
        "tags": [],
        "cell_id": "00017-e7742499-22d1-4a27-bfaa-c16b54c481e6",
        "deepnote_to_be_reexecuted": false,
        "source_hash": "cb25d1fb",
        "execution_millis": 36411,
        "execution_start": 1617795671049,
        "deepnote_cell_type": "code"
      },
      "source": "#Total amount of calls per day\nlast_value = None\namount_call = 0\ncall_dict = {}\nfor index, row in pandas_df.iterrows():\n    if row['variable'] == 'call':\n        new_value = row['time'].split()[0]\n        days = days_between(last_value, new_value)\n            \n        if last_value != new_value and days == 1: \n            unique = last_value + '_' + row['id']\n            call_dict[unique] = amount_call\n            amount_call = 0\n            \n        amount_call += 1\n        last_value = new_value",
      "execution_count": null,
      "outputs": []
    },
    {
      "cell_type": "code",
      "metadata": {
        "tags": [],
        "cell_id": "00016-bb2cd42e-39fd-4c1a-8e42-b52e36a22515",
        "deepnote_to_be_reexecuted": false,
        "source_hash": "d8220564",
        "execution_millis": 2,
        "execution_start": 1617795709398,
        "deepnote_cell_type": "code"
      },
      "source": "new_df['total_calls'] = new_df['unique_id'].map(call_dict)",
      "execution_count": null,
      "outputs": []
    },
    {
      "cell_type": "code",
      "metadata": {
        "tags": [],
        "cell_id": "00019-0575a488-371f-4e5c-84fb-c2261bf4f3cd",
        "deepnote_to_be_reexecuted": false,
        "source_hash": "b28c58d0",
        "execution_millis": 30006,
        "execution_start": 1617795710976,
        "deepnote_cell_type": "code"
      },
      "source": "#Total amount of SMS sent per day\nlast_value = None\namount_sms = 0\nsms_dict = {}\nfor index, row in pandas_df.iterrows():\n    if row['variable'] == 'sms':\n        new_value = row['time'].split()[0]\n        days = days_between(last_value, new_value)\n\n        if last_value != new_value and days == 1: \n            unique = last_value + '_' + row['id']\n            sms_dict[unique] = amount_sms\n            amount_sms = 0\n            \n        amount_sms += 1\n        last_value = new_value",
      "execution_count": null,
      "outputs": []
    },
    {
      "cell_type": "code",
      "metadata": {
        "tags": [],
        "cell_id": "00018-2fce0655-a19d-47fb-b23c-36e03366f8af",
        "deepnote_to_be_reexecuted": false,
        "source_hash": "45dae43",
        "execution_millis": 2,
        "execution_start": 1617795743524,
        "deepnote_cell_type": "code"
      },
      "source": "new_df['total_sms'] = new_df['unique_id'].map(sms_dict)",
      "execution_count": null,
      "outputs": []
    },
    {
      "cell_type": "code",
      "metadata": {
        "tags": [],
        "cell_id": "00019-90c074be-0f91-4ed1-bff9-28afbe50ce41",
        "deepnote_to_be_reexecuted": false,
        "source_hash": "e27f11b6",
        "execution_millis": 28111,
        "execution_start": 1617795745097,
        "deepnote_cell_type": "code"
      },
      "source": "#Average amount of time per day spent on communication apps \nlast_value = None\namount_com = 0\ntotal_com = 0\ncom_dict = {}\nfor index, row in pandas_df.iterrows():\n    if row['variable'] == 'appCat.communication':\n        new_value = row['time'].split()[0]\n            \n        if last_value != new_value and amount_com > 0: \n            unique_com = last_value + '_' + row['id']\n            average_com = total_com / amount_com\n            com_dict[unique_com] = average_com\n            amount_com = 0\n            total_com = 0\n            \n        amount_com += 1\n        total_com += row['value']\n        last_value = new_value",
      "execution_count": null,
      "outputs": []
    },
    {
      "cell_type": "code",
      "metadata": {
        "tags": [],
        "cell_id": "00019-a21e9af2-ef33-4725-abf2-156f8a9cdd46",
        "deepnote_to_be_reexecuted": false,
        "source_hash": "925aa177",
        "execution_millis": 2,
        "execution_start": 1617795780707,
        "deepnote_cell_type": "code"
      },
      "source": "new_df['average_com'] = new_df['unique_id'].map(com_dict)",
      "execution_count": null,
      "outputs": []
    },
    {
      "cell_type": "code",
      "metadata": {
        "tags": [],
        "cell_id": "00025-06cf2758-d470-4d29-9484-4e6663928bf9",
        "deepnote_to_be_reexecuted": false,
        "source_hash": "e720cc6c",
        "execution_millis": 3,
        "execution_start": 1617795782233,
        "deepnote_cell_type": "code"
      },
      "source": "nextday = [] \nfor x in range(len(average_list)):\n    if x == 1215: \n        nextday.append(0)\n    else: \n        nextday.append(average_list[x+1])",
      "execution_count": null,
      "outputs": []
    },
    {
      "cell_type": "code",
      "metadata": {
        "tags": [],
        "cell_id": "00027-01bff694-8dad-490a-8dda-63ec3e778d96",
        "deepnote_to_be_reexecuted": false,
        "source_hash": "cff4e655",
        "execution_millis": 3,
        "execution_start": 1617795791274,
        "deepnote_cell_type": "code"
      },
      "source": "new_df['mood_next_day'] = nextday",
      "execution_count": null,
      "outputs": []
    },
    {
      "cell_type": "code",
      "metadata": {
        "tags": [],
        "cell_id": "00027-fd6f75ca-92e3-4104-a04d-4fe9d8f49c3b",
        "deepnote_to_be_reexecuted": false,
        "source_hash": "1f724281",
        "execution_millis": 63,
        "execution_start": 1617795802043,
        "deepnote_cell_type": "code"
      },
      "source": "new_df",
      "execution_count": null,
      "outputs": [
        {
          "output_type": "execute_result",
          "execution_count": 13,
          "data": {
            "application/vnd.deepnote.dataframe.v2+json": {
              "row_count": 1216,
              "column_count": 8,
              "columns": [
                {
                  "name": "unique_id",
                  "dtype": "object",
                  "stats": {
                    "unique_count": 1216,
                    "nan_count": 0,
                    "categories": [
                      {
                        "name": "2014-02-26_AS14.01",
                        "count": 1
                      },
                      {
                        "name": "2014-03-21_AS14.01",
                        "count": 1
                      },
                      {
                        "name": "1214 others",
                        "count": 1214
                      }
                    ]
                  }
                },
                {
                  "name": "id",
                  "dtype": "object",
                  "stats": {
                    "unique_count": 27,
                    "nan_count": 0,
                    "categories": [
                      {
                        "name": "AS14.26",
                        "count": 66
                      },
                      {
                        "name": "AS14.08",
                        "count": 61
                      },
                      {
                        "name": "25 others",
                        "count": 1089
                      }
                    ]
                  }
                },
                {
                  "name": "date",
                  "dtype": "object",
                  "stats": {
                    "unique_count": 95,
                    "nan_count": 0,
                    "categories": [
                      {
                        "name": "2014-04-16",
                        "count": 27
                      },
                      {
                        "name": "2014-04-17",
                        "count": 27
                      },
                      {
                        "name": "93 others",
                        "count": 1162
                      }
                    ]
                  }
                },
                {
                  "name": "average_mood",
                  "dtype": "float64",
                  "stats": {
                    "unique_count": 71,
                    "nan_count": 0,
                    "min": 3,
                    "max": 9.333333333333334,
                    "histogram": [
                      {
                        "bin_start": 3,
                        "bin_end": 3.6333333333333333,
                        "count": 4
                      },
                      {
                        "bin_start": 3.6333333333333333,
                        "bin_end": 4.266666666666667,
                        "count": 3
                      },
                      {
                        "bin_start": 4.266666666666667,
                        "bin_end": 4.9,
                        "count": 6
                      },
                      {
                        "bin_start": 4.9,
                        "bin_end": 5.533333333333333,
                        "count": 26
                      },
                      {
                        "bin_start": 5.533333333333333,
                        "bin_end": 6.166666666666667,
                        "count": 83
                      },
                      {
                        "bin_start": 6.166666666666667,
                        "bin_end": 6.800000000000001,
                        "count": 350
                      },
                      {
                        "bin_start": 6.800000000000001,
                        "bin_end": 7.433333333333334,
                        "count": 432
                      },
                      {
                        "bin_start": 7.433333333333334,
                        "bin_end": 8.066666666666666,
                        "count": 269
                      },
                      {
                        "bin_start": 8.066666666666666,
                        "bin_end": 8.700000000000001,
                        "count": 38
                      },
                      {
                        "bin_start": 8.700000000000001,
                        "bin_end": 9.333333333333334,
                        "count": 5
                      }
                    ]
                  }
                },
                {
                  "name": "total_calls",
                  "dtype": "float64",
                  "stats": {
                    "unique_count": 22,
                    "nan_count": 694,
                    "min": 1,
                    "max": 31,
                    "histogram": [
                      {
                        "bin_start": 1,
                        "bin_end": 4,
                        "count": 216
                      },
                      {
                        "bin_start": 4,
                        "bin_end": 7,
                        "count": 151
                      },
                      {
                        "bin_start": 7,
                        "bin_end": 10,
                        "count": 83
                      },
                      {
                        "bin_start": 10,
                        "bin_end": 13,
                        "count": 43
                      },
                      {
                        "bin_start": 13,
                        "bin_end": 16,
                        "count": 16
                      },
                      {
                        "bin_start": 16,
                        "bin_end": 19,
                        "count": 7
                      },
                      {
                        "bin_start": 19,
                        "bin_end": 22,
                        "count": 3
                      },
                      {
                        "bin_start": 22,
                        "bin_end": 25,
                        "count": 0
                      },
                      {
                        "bin_start": 25,
                        "bin_end": 28,
                        "count": 2
                      },
                      {
                        "bin_start": 28,
                        "bin_end": 31,
                        "count": 1
                      }
                    ]
                  }
                },
                {
                  "name": "total_sms",
                  "dtype": "float64",
                  "stats": {
                    "unique_count": 21,
                    "nan_count": 1049,
                    "min": 1,
                    "max": 35,
                    "histogram": [
                      {
                        "bin_start": 1,
                        "bin_end": 4.4,
                        "count": 93
                      },
                      {
                        "bin_start": 4.4,
                        "bin_end": 7.8,
                        "count": 32
                      },
                      {
                        "bin_start": 7.8,
                        "bin_end": 11.2,
                        "count": 15
                      },
                      {
                        "bin_start": 11.2,
                        "bin_end": 14.6,
                        "count": 16
                      },
                      {
                        "bin_start": 14.6,
                        "bin_end": 18,
                        "count": 3
                      },
                      {
                        "bin_start": 18,
                        "bin_end": 21.4,
                        "count": 0
                      },
                      {
                        "bin_start": 21.4,
                        "bin_end": 24.8,
                        "count": 3
                      },
                      {
                        "bin_start": 24.8,
                        "bin_end": 28.2,
                        "count": 4
                      },
                      {
                        "bin_start": 28.2,
                        "bin_end": 31.599999999999998,
                        "count": 0
                      },
                      {
                        "bin_start": 31.599999999999998,
                        "bin_end": 35,
                        "count": 1
                      }
                    ]
                  }
                },
                {
                  "name": "average_com",
                  "dtype": "float64",
                  "stats": {
                    "unique_count": 1103,
                    "nan_count": 113,
                    "min": 3.01,
                    "max": 522.718,
                    "histogram": [
                      {
                        "bin_start": 3.01,
                        "bin_end": 54.980799999999995,
                        "count": 867
                      },
                      {
                        "bin_start": 54.980799999999995,
                        "bin_end": 106.9516,
                        "count": 200
                      },
                      {
                        "bin_start": 106.9516,
                        "bin_end": 158.92239999999998,
                        "count": 23
                      },
                      {
                        "bin_start": 158.92239999999998,
                        "bin_end": 210.89319999999998,
                        "count": 6
                      },
                      {
                        "bin_start": 210.89319999999998,
                        "bin_end": 262.864,
                        "count": 0
                      },
                      {
                        "bin_start": 262.864,
                        "bin_end": 314.8348,
                        "count": 1
                      },
                      {
                        "bin_start": 314.8348,
                        "bin_end": 366.80559999999997,
                        "count": 2
                      },
                      {
                        "bin_start": 366.80559999999997,
                        "bin_end": 418.77639999999997,
                        "count": 2
                      },
                      {
                        "bin_start": 418.77639999999997,
                        "bin_end": 470.74719999999996,
                        "count": 1
                      },
                      {
                        "bin_start": 470.74719999999996,
                        "bin_end": 522.718,
                        "count": 1
                      }
                    ]
                  }
                },
                {
                  "name": "mood_next_day",
                  "dtype": "float64",
                  "stats": {
                    "unique_count": 72,
                    "nan_count": 0,
                    "min": 0,
                    "max": 9.333333333333334,
                    "histogram": [
                      {
                        "bin_start": 0,
                        "bin_end": 0.9333333333333333,
                        "count": 1
                      },
                      {
                        "bin_start": 0.9333333333333333,
                        "bin_end": 1.8666666666666667,
                        "count": 0
                      },
                      {
                        "bin_start": 1.8666666666666667,
                        "bin_end": 2.8,
                        "count": 0
                      },
                      {
                        "bin_start": 2.8,
                        "bin_end": 3.7333333333333334,
                        "count": 4
                      },
                      {
                        "bin_start": 3.7333333333333334,
                        "bin_end": 4.666666666666667,
                        "count": 6
                      },
                      {
                        "bin_start": 4.666666666666667,
                        "bin_end": 5.6,
                        "count": 29
                      },
                      {
                        "bin_start": 5.6,
                        "bin_end": 6.533333333333333,
                        "count": 249
                      },
                      {
                        "bin_start": 6.533333333333333,
                        "bin_end": 7.466666666666667,
                        "count": 615
                      },
                      {
                        "bin_start": 7.466666666666667,
                        "bin_end": 8.4,
                        "count": 291
                      },
                      {
                        "bin_start": 8.4,
                        "bin_end": 9.333333333333334,
                        "count": 21
                      }
                    ]
                  }
                },
                {
                  "name": "_deepnote_index_column",
                  "dtype": "int64"
                }
              ],
              "rows_top": [
                {
                  "unique_id": "2014-02-26_AS14.01",
                  "id": "AS14.01",
                  "date": "2014-02-26",
                  "average_mood": 6.25,
                  "total_calls": "nan",
                  "total_sms": "nan",
                  "average_com": "nan",
                  "mood_next_day": 6.25,
                  "_deepnote_index_column": 0
                },
                {
                  "unique_id": "2014-03-21_AS14.01",
                  "id": "AS14.01",
                  "date": "2014-03-21",
                  "average_mood": 6.25,
                  "total_calls": "6.0",
                  "total_sms": "nan",
                  "average_com": "55.0955263157895",
                  "mood_next_day": 6.4,
                  "_deepnote_index_column": 1
                },
                {
                  "unique_id": "2014-03-22_AS14.01",
                  "id": "AS14.01",
                  "date": "2014-03-22",
                  "average_mood": 6.4,
                  "total_calls": "nan",
                  "total_sms": "nan",
                  "average_com": "51.697062500000015",
                  "mood_next_day": 6.8,
                  "_deepnote_index_column": 2
                },
                {
                  "unique_id": "2014-03-23_AS14.01",
                  "id": "AS14.01",
                  "date": "2014-03-23",
                  "average_mood": 6.8,
                  "total_calls": "nan",
                  "total_sms": "nan",
                  "average_com": "53.442030612244885",
                  "mood_next_day": 6,
                  "_deepnote_index_column": 3
                },
                {
                  "unique_id": "2014-03-24_AS14.01",
                  "id": "AS14.01",
                  "date": "2014-03-24",
                  "average_mood": 6,
                  "total_calls": "nan",
                  "total_sms": "nan",
                  "average_com": "47.54168717948718",
                  "mood_next_day": 6.75,
                  "_deepnote_index_column": 4
                },
                {
                  "unique_id": "2014-03-25_AS14.01",
                  "id": "AS14.01",
                  "date": "2014-03-25",
                  "average_mood": 6.75,
                  "total_calls": "nan",
                  "total_sms": "nan",
                  "average_com": "69.43750675675675",
                  "mood_next_day": 6.6,
                  "_deepnote_index_column": 5
                },
                {
                  "unique_id": "2014-03-26_AS14.01",
                  "id": "AS14.01",
                  "date": "2014-03-26",
                  "average_mood": 6.6,
                  "total_calls": "nan",
                  "total_sms": "nan",
                  "average_com": "47.061534031413615",
                  "mood_next_day": 7,
                  "_deepnote_index_column": 6
                },
                {
                  "unique_id": "2014-03-27_AS14.01",
                  "id": "AS14.01",
                  "date": "2014-03-27",
                  "average_mood": 7,
                  "total_calls": "15.0",
                  "total_sms": "nan",
                  "average_com": "43.3532",
                  "mood_next_day": 6.4,
                  "_deepnote_index_column": 7
                },
                {
                  "unique_id": "2014-03-28_AS14.01",
                  "id": "AS14.01",
                  "date": "2014-03-28",
                  "average_mood": 6.4,
                  "total_calls": "5.0",
                  "total_sms": "nan",
                  "average_com": "24.078694444444444",
                  "mood_next_day": 8,
                  "_deepnote_index_column": 8
                },
                {
                  "unique_id": "2014-03-29_AS14.01",
                  "id": "AS14.01",
                  "date": "2014-03-29",
                  "average_mood": 8,
                  "total_calls": "nan",
                  "total_sms": "nan",
                  "average_com": "47.73143859649123",
                  "mood_next_day": 7.5,
                  "_deepnote_index_column": 9
                },
                {
                  "unique_id": "2014-03-30_AS14.01",
                  "id": "AS14.01",
                  "date": "2014-03-30",
                  "average_mood": 7.5,
                  "total_calls": "nan",
                  "total_sms": "nan",
                  "average_com": "61.83357142857143",
                  "mood_next_day": 7.4,
                  "_deepnote_index_column": 10
                },
                {
                  "unique_id": "2014-03-31_AS14.01",
                  "id": "AS14.01",
                  "date": "2014-03-31",
                  "average_mood": 7.4,
                  "total_calls": "10.0",
                  "total_sms": "nan",
                  "average_com": "41.33827131782945",
                  "mood_next_day": 6,
                  "_deepnote_index_column": 11
                },
                {
                  "unique_id": "2014-04-01_AS14.01",
                  "id": "AS14.01",
                  "date": "2014-04-01",
                  "average_mood": 6,
                  "total_calls": "1.0",
                  "total_sms": "nan",
                  "average_com": "33.12785869565218",
                  "mood_next_day": 6.5,
                  "_deepnote_index_column": 12
                },
                {
                  "unique_id": "2014-04-02_AS14.01",
                  "id": "AS14.01",
                  "date": "2014-04-02",
                  "average_mood": 6.5,
                  "total_calls": "4.0",
                  "total_sms": "nan",
                  "average_com": "33.75685853658536",
                  "mood_next_day": 6.4,
                  "_deepnote_index_column": 13
                },
                {
                  "unique_id": "2014-04-03_AS14.01",
                  "id": "AS14.01",
                  "date": "2014-04-03",
                  "average_mood": 6.4,
                  "total_calls": "4.0",
                  "total_sms": "nan",
                  "average_com": "46.42470096463021",
                  "mood_next_day": 6.2,
                  "_deepnote_index_column": 14
                },
                {
                  "unique_id": "2014-04-04_AS14.01",
                  "id": "AS14.01",
                  "date": "2014-04-04",
                  "average_mood": 6.2,
                  "total_calls": "nan",
                  "total_sms": "nan",
                  "average_com": "44.566081300813",
                  "mood_next_day": 6.8,
                  "_deepnote_index_column": 15
                },
                {
                  "unique_id": "2014-04-05_AS14.01",
                  "id": "AS14.01",
                  "date": "2014-04-05",
                  "average_mood": 6.8,
                  "total_calls": "nan",
                  "total_sms": "nan",
                  "average_com": "37.70818",
                  "mood_next_day": 6.5,
                  "_deepnote_index_column": 16
                },
                {
                  "unique_id": "2014-04-06_AS14.01",
                  "id": "AS14.01",
                  "date": "2014-04-06",
                  "average_mood": 6.5,
                  "total_calls": "6.0",
                  "total_sms": "nan",
                  "average_com": "47.939185714285735",
                  "mood_next_day": 6.5,
                  "_deepnote_index_column": 17
                },
                {
                  "unique_id": "2014-04-07_AS14.01",
                  "id": "AS14.01",
                  "date": "2014-04-07",
                  "average_mood": 6.5,
                  "total_calls": "1.0",
                  "total_sms": "nan",
                  "average_com": "57.01562015503877",
                  "mood_next_day": 6.6,
                  "_deepnote_index_column": 18
                },
                {
                  "unique_id": "2014-04-08_AS14.01",
                  "id": "AS14.01",
                  "date": "2014-04-08",
                  "average_mood": 6.6,
                  "total_calls": "1.0",
                  "total_sms": "nan",
                  "average_com": "49.10649222797928",
                  "mood_next_day": 7.4,
                  "_deepnote_index_column": 19
                },
                {
                  "unique_id": "2014-04-09_AS14.01",
                  "id": "AS14.01",
                  "date": "2014-04-09",
                  "average_mood": 7.4,
                  "total_calls": "4.0",
                  "total_sms": "nan",
                  "average_com": "38.130098765432095",
                  "mood_next_day": 7.4,
                  "_deepnote_index_column": 20
                },
                {
                  "unique_id": "2014-04-10_AS14.01",
                  "id": "AS14.01",
                  "date": "2014-04-10",
                  "average_mood": 7.4,
                  "total_calls": "nan",
                  "total_sms": "nan",
                  "average_com": "65.08548",
                  "mood_next_day": 7,
                  "_deepnote_index_column": 21
                },
                {
                  "unique_id": "2014-04-11_AS14.01",
                  "id": "AS14.01",
                  "date": "2014-04-11",
                  "average_mood": 7,
                  "total_calls": "nan",
                  "total_sms": "nan",
                  "average_com": "27.57514049586778",
                  "mood_next_day": 7.25,
                  "_deepnote_index_column": 22
                },
                {
                  "unique_id": "2014-04-12_AS14.01",
                  "id": "AS14.01",
                  "date": "2014-04-12",
                  "average_mood": 7.25,
                  "total_calls": "nan",
                  "total_sms": "nan",
                  "average_com": "143.37136956521735",
                  "mood_next_day": 8,
                  "_deepnote_index_column": 23
                },
                {
                  "unique_id": "2014-04-13_AS14.01",
                  "id": "AS14.01",
                  "date": "2014-04-13",
                  "average_mood": 8,
                  "total_calls": "nan",
                  "total_sms": "nan",
                  "average_com": "47.686739130434766",
                  "mood_next_day": 7.2,
                  "_deepnote_index_column": 24
                },
                {
                  "unique_id": "2014-04-14_AS14.01",
                  "id": "AS14.01",
                  "date": "2014-04-14",
                  "average_mood": 7.2,
                  "total_calls": "8.0",
                  "total_sms": "8.0",
                  "average_com": "51.478444444444456",
                  "mood_next_day": 6.4,
                  "_deepnote_index_column": 25
                },
                {
                  "unique_id": "2014-04-15_AS14.01",
                  "id": "AS14.01",
                  "date": "2014-04-15",
                  "average_mood": 6.4,
                  "total_calls": "nan",
                  "total_sms": "1.0",
                  "average_com": "40.681248366013065",
                  "mood_next_day": 7.2,
                  "_deepnote_index_column": 26
                },
                {
                  "unique_id": "2014-04-16_AS14.01",
                  "id": "AS14.01",
                  "date": "2014-04-16",
                  "average_mood": 7.2,
                  "total_calls": "nan",
                  "total_sms": "nan",
                  "average_com": "36.9644",
                  "mood_next_day": 6.6,
                  "_deepnote_index_column": 27
                },
                {
                  "unique_id": "2014-04-17_AS14.01",
                  "id": "AS14.01",
                  "date": "2014-04-17",
                  "average_mood": 6.6,
                  "total_calls": "10.0",
                  "total_sms": "nan",
                  "average_com": "108.74622935779814",
                  "mood_next_day": 6.8,
                  "_deepnote_index_column": 28
                },
                {
                  "unique_id": "2014-04-18_AS14.01",
                  "id": "AS14.01",
                  "date": "2014-04-18",
                  "average_mood": 6.8,
                  "total_calls": "1.0",
                  "total_sms": "nan",
                  "average_com": "65.14215853658536",
                  "mood_next_day": 7.8,
                  "_deepnote_index_column": 29
                },
                {
                  "unique_id": "2014-04-19_AS14.01",
                  "id": "AS14.01",
                  "date": "2014-04-19",
                  "average_mood": 7.8,
                  "total_calls": "1.0",
                  "total_sms": "nan",
                  "average_com": "35.43194805194805",
                  "mood_next_day": 7.25,
                  "_deepnote_index_column": 30
                },
                {
                  "unique_id": "2014-04-20_AS14.01",
                  "id": "AS14.01",
                  "date": "2014-04-20",
                  "average_mood": 7.25,
                  "total_calls": "2.0",
                  "total_sms": "nan",
                  "average_com": "57.29567816091953",
                  "mood_next_day": 7.6,
                  "_deepnote_index_column": 31
                },
                {
                  "unique_id": "2014-04-21_AS14.01",
                  "id": "AS14.01",
                  "date": "2014-04-21",
                  "average_mood": 7.6,
                  "total_calls": "2.0",
                  "total_sms": "nan",
                  "average_com": "43.57276086956523",
                  "mood_next_day": 7.4,
                  "_deepnote_index_column": 32
                },
                {
                  "unique_id": "2014-04-22_AS14.01",
                  "id": "AS14.01",
                  "date": "2014-04-22",
                  "average_mood": 7.4,
                  "total_calls": "2.0",
                  "total_sms": "nan",
                  "average_com": "46.75272839506176",
                  "mood_next_day": 7.6,
                  "_deepnote_index_column": 33
                },
                {
                  "unique_id": "2014-04-23_AS14.01",
                  "id": "AS14.01",
                  "date": "2014-04-23",
                  "average_mood": 7.6,
                  "total_calls": "1.0",
                  "total_sms": "nan",
                  "average_com": "54.11195151515149",
                  "mood_next_day": 7.6,
                  "_deepnote_index_column": 34
                },
                {
                  "unique_id": "2014-04-24_AS14.01",
                  "id": "AS14.01",
                  "date": "2014-04-24",
                  "average_mood": 7.6,
                  "total_calls": "1.0",
                  "total_sms": "nan",
                  "average_com": "64.61422000000002",
                  "mood_next_day": 7.2,
                  "_deepnote_index_column": 35
                },
                {
                  "unique_id": "2014-04-25_AS14.01",
                  "id": "AS14.01",
                  "date": "2014-04-25",
                  "average_mood": 7.2,
                  "total_calls": "2.0",
                  "total_sms": "4.0",
                  "average_com": "51.261577464788736",
                  "mood_next_day": 7.6,
                  "_deepnote_index_column": 36
                },
                {
                  "unique_id": "2014-04-26_AS14.01",
                  "id": "AS14.01",
                  "date": "2014-04-26",
                  "average_mood": 7.6,
                  "total_calls": "nan",
                  "total_sms": "nan",
                  "average_com": "59.7176046511628",
                  "mood_next_day": 7.5,
                  "_deepnote_index_column": 37
                },
                {
                  "unique_id": "2014-04-27_AS14.01",
                  "id": "AS14.01",
                  "date": "2014-04-27",
                  "average_mood": 7.5,
                  "total_calls": "nan",
                  "total_sms": "nan",
                  "average_com": "50.656208333333325",
                  "mood_next_day": 7.6,
                  "_deepnote_index_column": 38
                },
                {
                  "unique_id": "2014-04-28_AS14.01",
                  "id": "AS14.01",
                  "date": "2014-04-28",
                  "average_mood": 7.6,
                  "total_calls": "nan",
                  "total_sms": "nan",
                  "average_com": "55.26320000000001",
                  "mood_next_day": 7,
                  "_deepnote_index_column": 39
                },
                {
                  "unique_id": "2014-04-29_AS14.01",
                  "id": "AS14.01",
                  "date": "2014-04-29",
                  "average_mood": 7,
                  "total_calls": "nan",
                  "total_sms": "nan",
                  "average_com": "48.53981012658227",
                  "mood_next_day": 7.8,
                  "_deepnote_index_column": 40
                },
                {
                  "unique_id": "2014-04-30_AS14.01",
                  "id": "AS14.01",
                  "date": "2014-04-30",
                  "average_mood": 7.8,
                  "total_calls": "6.0",
                  "total_sms": "nan",
                  "average_com": "34.14055769230769",
                  "mood_next_day": 8,
                  "_deepnote_index_column": 41
                },
                {
                  "unique_id": "2014-05-01_AS14.01",
                  "id": "AS14.01",
                  "date": "2014-05-01",
                  "average_mood": 8,
                  "total_calls": "nan",
                  "total_sms": "nan",
                  "average_com": "40.753283582089566",
                  "mood_next_day": 7.6,
                  "_deepnote_index_column": 42
                },
                {
                  "unique_id": "2014-05-02_AS14.01",
                  "id": "AS14.01",
                  "date": "2014-05-02",
                  "average_mood": 7.6,
                  "total_calls": "nan",
                  "total_sms": "nan",
                  "average_com": "58.2788088235294",
                  "mood_next_day": 8,
                  "_deepnote_index_column": 43
                },
                {
                  "unique_id": "2014-05-03_AS14.01",
                  "id": "AS14.01",
                  "date": "2014-05-03",
                  "average_mood": 8,
                  "total_calls": "nan",
                  "total_sms": "nan",
                  "average_com": "74.42255737704915",
                  "mood_next_day": 7.285714285714286,
                  "_deepnote_index_column": 44
                },
                {
                  "unique_id": "2014-03-16_AS14.02",
                  "id": "AS14.02",
                  "date": "2014-03-16",
                  "average_mood": 7.285714285714286,
                  "total_calls": "4.0",
                  "total_sms": "nan",
                  "average_com": "47.042223880597014",
                  "mood_next_day": 6.75,
                  "_deepnote_index_column": 45
                },
                {
                  "unique_id": "2014-03-17_AS14.02",
                  "id": "AS14.02",
                  "date": "2014-03-17",
                  "average_mood": 6.75,
                  "total_calls": "4.0",
                  "total_sms": "nan",
                  "average_com": "47.5591157894737",
                  "mood_next_day": 8.2,
                  "_deepnote_index_column": 46
                },
                {
                  "unique_id": "2014-03-18_AS14.02",
                  "id": "AS14.02",
                  "date": "2014-03-18",
                  "average_mood": 8.2,
                  "total_calls": "15.0",
                  "total_sms": "3.0",
                  "average_com": "33.051100840336126",
                  "mood_next_day": 6.8,
                  "_deepnote_index_column": 47
                },
                {
                  "unique_id": "2014-03-19_AS14.02",
                  "id": "AS14.02",
                  "date": "2014-03-19",
                  "average_mood": 6.8,
                  "total_calls": "5.0",
                  "total_sms": "1.0",
                  "average_com": "32.87327848101265",
                  "mood_next_day": 7.25,
                  "_deepnote_index_column": 48
                },
                {
                  "unique_id": "2014-03-20_AS14.02",
                  "id": "AS14.02",
                  "date": "2014-03-20",
                  "average_mood": 7.25,
                  "total_calls": "10.0",
                  "total_sms": "1.0",
                  "average_com": "31.68192647058823",
                  "mood_next_day": 7.5,
                  "_deepnote_index_column": 49
                },
                {
                  "unique_id": "2014-03-21_AS14.02",
                  "id": "AS14.02",
                  "date": "2014-03-21",
                  "average_mood": 7.5,
                  "total_calls": "10.0",
                  "total_sms": "1.0",
                  "average_com": "44.66321875000002",
                  "mood_next_day": 6.5,
                  "_deepnote_index_column": 50
                },
                {
                  "unique_id": "2014-03-22_AS14.02",
                  "id": "AS14.02",
                  "date": "2014-03-22",
                  "average_mood": 6.5,
                  "total_calls": "25.0",
                  "total_sms": "1.0",
                  "average_com": "21.791247058823537",
                  "mood_next_day": 6.25,
                  "_deepnote_index_column": 51
                },
                {
                  "unique_id": "2014-03-23_AS14.02",
                  "id": "AS14.02",
                  "date": "2014-03-23",
                  "average_mood": 6.25,
                  "total_calls": "8.0",
                  "total_sms": "nan",
                  "average_com": "36.797979999999995",
                  "mood_next_day": 6.4,
                  "_deepnote_index_column": 52
                },
                {
                  "unique_id": "2014-03-24_AS14.02",
                  "id": "AS14.02",
                  "date": "2014-03-24",
                  "average_mood": 6.4,
                  "total_calls": "5.0",
                  "total_sms": "nan",
                  "average_com": "48.58356451612903",
                  "mood_next_day": 7.75,
                  "_deepnote_index_column": 53
                },
                {
                  "unique_id": "2014-03-25_AS14.02",
                  "id": "AS14.02",
                  "date": "2014-03-25",
                  "average_mood": 7.75,
                  "total_calls": "7.0",
                  "total_sms": "nan",
                  "average_com": "38.20206849315068",
                  "mood_next_day": 7.2,
                  "_deepnote_index_column": 54
                },
                {
                  "unique_id": "2014-03-26_AS14.02",
                  "id": "AS14.02",
                  "date": "2014-03-26",
                  "average_mood": 7.2,
                  "total_calls": "5.0",
                  "total_sms": "nan",
                  "average_com": "36.19784285714286",
                  "mood_next_day": 7.25,
                  "_deepnote_index_column": 55
                },
                {
                  "unique_id": "2014-03-27_AS14.02",
                  "id": "AS14.02",
                  "date": "2014-03-27",
                  "average_mood": 7.25,
                  "total_calls": "3.0",
                  "total_sms": "nan",
                  "average_com": "32.93453846153848",
                  "mood_next_day": 6.8,
                  "_deepnote_index_column": 56
                },
                {
                  "unique_id": "2014-03-28_AS14.02",
                  "id": "AS14.02",
                  "date": "2014-03-28",
                  "average_mood": 6.8,
                  "total_calls": "8.0",
                  "total_sms": "nan",
                  "average_com": "18.86556060606061",
                  "mood_next_day": 7.25,
                  "_deepnote_index_column": 57
                },
                {
                  "unique_id": "2014-03-29_AS14.02",
                  "id": "AS14.02",
                  "date": "2014-03-29",
                  "average_mood": 7.25,
                  "total_calls": "4.0",
                  "total_sms": "nan",
                  "average_com": "52.231439024390234",
                  "mood_next_day": 7,
                  "_deepnote_index_column": 58
                },
                {
                  "unique_id": "2014-03-30_AS14.02",
                  "id": "AS14.02",
                  "date": "2014-03-30",
                  "average_mood": 7,
                  "total_calls": "10.0",
                  "total_sms": "4.0",
                  "average_com": "32.672235294117655",
                  "mood_next_day": 7.2,
                  "_deepnote_index_column": 59
                },
                {
                  "unique_id": "2014-03-31_AS14.02",
                  "id": "AS14.02",
                  "date": "2014-03-31",
                  "average_mood": 7.2,
                  "total_calls": "14.0",
                  "total_sms": "2.0",
                  "average_com": "28.520942528735635",
                  "mood_next_day": 7.4,
                  "_deepnote_index_column": 60
                },
                {
                  "unique_id": "2014-04-01_AS14.02",
                  "id": "AS14.02",
                  "date": "2014-04-01",
                  "average_mood": 7.4,
                  "total_calls": "2.0",
                  "total_sms": "nan",
                  "average_com": "21.682131147540986",
                  "mood_next_day": 6.4,
                  "_deepnote_index_column": 61
                }
              ],
              "rows_bottom": [
                {
                  "unique_id": "2014-04-10_AS14.32",
                  "id": "AS14.32",
                  "date": "2014-04-10",
                  "average_mood": 8.25,
                  "total_calls": "2.0",
                  "total_sms": "nan",
                  "average_com": "50.594953125",
                  "mood_next_day": 7.666666666666667,
                  "_deepnote_index_column": 1153
                },
                {
                  "unique_id": "2014-04-11_AS14.32",
                  "id": "AS14.32",
                  "date": "2014-04-11",
                  "average_mood": 7.666666666666667,
                  "total_calls": "6.0",
                  "total_sms": "11.0",
                  "average_com": "50.323",
                  "mood_next_day": 8.6,
                  "_deepnote_index_column": 1154
                },
                {
                  "unique_id": "2014-04-12_AS14.32",
                  "id": "AS14.32",
                  "date": "2014-04-12",
                  "average_mood": 8.6,
                  "total_calls": "5.0",
                  "total_sms": "nan",
                  "average_com": "54.88547999999999",
                  "mood_next_day": 8,
                  "_deepnote_index_column": 1155
                },
                {
                  "unique_id": "2014-04-13_AS14.32",
                  "id": "AS14.32",
                  "date": "2014-04-13",
                  "average_mood": 8,
                  "total_calls": "6.0",
                  "total_sms": "nan",
                  "average_com": "50.691466666666656",
                  "mood_next_day": 7.5,
                  "_deepnote_index_column": 1156
                },
                {
                  "unique_id": "2014-04-14_AS14.32",
                  "id": "AS14.32",
                  "date": "2014-04-14",
                  "average_mood": 7.5,
                  "total_calls": "3.0",
                  "total_sms": "nan",
                  "average_com": "60.06145762711865",
                  "mood_next_day": 8,
                  "_deepnote_index_column": 1157
                },
                {
                  "unique_id": "2014-04-15_AS14.32",
                  "id": "AS14.32",
                  "date": "2014-04-15",
                  "average_mood": 8,
                  "total_calls": "8.0",
                  "total_sms": "nan",
                  "average_com": "42.431434782608704",
                  "mood_next_day": 8.5,
                  "_deepnote_index_column": 1158
                },
                {
                  "unique_id": "2014-04-16_AS14.32",
                  "id": "AS14.32",
                  "date": "2014-04-16",
                  "average_mood": 8.5,
                  "total_calls": "7.0",
                  "total_sms": "nan",
                  "average_com": "49.0670487804878",
                  "mood_next_day": 8.5,
                  "_deepnote_index_column": 1159
                },
                {
                  "unique_id": "2014-04-17_AS14.32",
                  "id": "AS14.32",
                  "date": "2014-04-17",
                  "average_mood": 8.5,
                  "total_calls": "4.0",
                  "total_sms": "nan",
                  "average_com": "36.934264705882356",
                  "mood_next_day": 7,
                  "_deepnote_index_column": 1160
                },
                {
                  "unique_id": "2014-04-23_AS14.32",
                  "id": "AS14.32",
                  "date": "2014-04-23",
                  "average_mood": 7,
                  "total_calls": "3.0",
                  "total_sms": "nan",
                  "average_com": "52.9965",
                  "mood_next_day": 8,
                  "_deepnote_index_column": 1161
                },
                {
                  "unique_id": "2014-04-24_AS14.32",
                  "id": "AS14.32",
                  "date": "2014-04-24",
                  "average_mood": 8,
                  "total_calls": "9.0",
                  "total_sms": "nan",
                  "average_com": "53.60830769230771",
                  "mood_next_day": 7.333333333333333,
                  "_deepnote_index_column": 1162
                },
                {
                  "unique_id": "2014-04-27_AS14.32",
                  "id": "AS14.32",
                  "date": "2014-04-27",
                  "average_mood": 7.333333333333333,
                  "total_calls": "10.0",
                  "total_sms": "nan",
                  "average_com": "31.331529411764706",
                  "mood_next_day": 7.5,
                  "_deepnote_index_column": 1163
                },
                {
                  "unique_id": "2014-04-28_AS14.32",
                  "id": "AS14.32",
                  "date": "2014-04-28",
                  "average_mood": 7.5,
                  "total_calls": "7.0",
                  "total_sms": "nan",
                  "average_com": "74.80174285714286",
                  "mood_next_day": 8,
                  "_deepnote_index_column": 1164
                },
                {
                  "unique_id": "2014-04-29_AS14.32",
                  "id": "AS14.32",
                  "date": "2014-04-29",
                  "average_mood": 8,
                  "total_calls": "5.0",
                  "total_sms": "nan",
                  "average_com": "50.060849999999995",
                  "mood_next_day": 7,
                  "_deepnote_index_column": 1165
                },
                {
                  "unique_id": "2014-04-30_AS14.32",
                  "id": "AS14.32",
                  "date": "2014-04-30",
                  "average_mood": 7,
                  "total_calls": "6.0",
                  "total_sms": "nan",
                  "average_com": "77.7734347826087",
                  "mood_next_day": 7,
                  "_deepnote_index_column": 1166
                },
                {
                  "unique_id": "2014-05-01_AS14.32",
                  "id": "AS14.32",
                  "date": "2014-05-01",
                  "average_mood": 7,
                  "total_calls": "9.0",
                  "total_sms": "nan",
                  "average_com": "55.51560784313725",
                  "mood_next_day": 7.25,
                  "_deepnote_index_column": 1167
                },
                {
                  "unique_id": "2014-05-02_AS14.32",
                  "id": "AS14.32",
                  "date": "2014-05-02",
                  "average_mood": 7.25,
                  "total_calls": "10.0",
                  "total_sms": "nan",
                  "average_com": "48.43923913043478",
                  "mood_next_day": 7.5,
                  "_deepnote_index_column": 1168
                },
                {
                  "unique_id": "2014-05-03_AS14.32",
                  "id": "AS14.32",
                  "date": "2014-05-03",
                  "average_mood": 7.5,
                  "total_calls": "2.0",
                  "total_sms": "nan",
                  "average_com": "90.41047368421054",
                  "mood_next_day": 8.666666666666666,
                  "_deepnote_index_column": 1169
                },
                {
                  "unique_id": "2014-05-04_AS14.32",
                  "id": "AS14.32",
                  "date": "2014-05-04",
                  "average_mood": 8.666666666666666,
                  "total_calls": "1.0",
                  "total_sms": "nan",
                  "average_com": "96.50785185185185",
                  "mood_next_day": 6.5,
                  "_deepnote_index_column": 1170
                },
                {
                  "unique_id": "2014-05-07_AS14.32",
                  "id": "AS14.32",
                  "date": "2014-05-07",
                  "average_mood": 6.5,
                  "total_calls": "4.0",
                  "total_sms": "nan",
                  "average_com": "50.695775000000005",
                  "mood_next_day": 6,
                  "_deepnote_index_column": 1171
                },
                {
                  "unique_id": "2014-05-08_AS14.32",
                  "id": "AS14.32",
                  "date": "2014-05-08",
                  "average_mood": 6,
                  "total_calls": "13.0",
                  "total_sms": "nan",
                  "average_com": "65.3241964285714",
                  "mood_next_day": 7.75,
                  "_deepnote_index_column": 1172
                },
                {
                  "unique_id": "2014-05-09_AS14.32",
                  "id": "AS14.32",
                  "date": "2014-05-09",
                  "average_mood": 7.75,
                  "total_calls": "9.0",
                  "total_sms": "nan",
                  "average_com": "36.01437499999999",
                  "mood_next_day": 7.25,
                  "_deepnote_index_column": 1173
                },
                {
                  "unique_id": "2014-05-10_AS14.32",
                  "id": "AS14.32",
                  "date": "2014-05-10",
                  "average_mood": 7.25,
                  "total_calls": "6.0",
                  "total_sms": "nan",
                  "average_com": "58.09113725490198",
                  "mood_next_day": 7.2,
                  "_deepnote_index_column": 1174
                },
                {
                  "unique_id": "2014-05-11_AS14.32",
                  "id": "AS14.32",
                  "date": "2014-05-11",
                  "average_mood": 7.2,
                  "total_calls": "nan",
                  "total_sms": "nan",
                  "average_com": "71.62205555555555",
                  "mood_next_day": 7.125,
                  "_deepnote_index_column": 1175
                },
                {
                  "unique_id": "2014-04-16_AS14.33",
                  "id": "AS14.33",
                  "date": "2014-04-16",
                  "average_mood": 7.125,
                  "total_calls": "5.0",
                  "total_sms": "nan",
                  "average_com": "38.19055172413793",
                  "mood_next_day": 7.2,
                  "_deepnote_index_column": 1176
                },
                {
                  "unique_id": "2014-04-17_AS14.33",
                  "id": "AS14.33",
                  "date": "2014-04-17",
                  "average_mood": 7.2,
                  "total_calls": "2.0",
                  "total_sms": "nan",
                  "average_com": "34.20580000000001",
                  "mood_next_day": 7.4,
                  "_deepnote_index_column": 1177
                },
                {
                  "unique_id": "2014-04-18_AS14.33",
                  "id": "AS14.33",
                  "date": "2014-04-18",
                  "average_mood": 7.4,
                  "total_calls": "3.0",
                  "total_sms": "nan",
                  "average_com": "70.52065384615385",
                  "mood_next_day": 7.666666666666667,
                  "_deepnote_index_column": 1178
                },
                {
                  "unique_id": "2014-04-19_AS14.33",
                  "id": "AS14.33",
                  "date": "2014-04-19",
                  "average_mood": 7.666666666666667,
                  "total_calls": "nan",
                  "total_sms": "nan",
                  "average_com": "147.75922222222223",
                  "mood_next_day": 7.4,
                  "_deepnote_index_column": 1179
                },
                {
                  "unique_id": "2014-04-20_AS14.33",
                  "id": "AS14.33",
                  "date": "2014-04-20",
                  "average_mood": 7.4,
                  "total_calls": "nan",
                  "total_sms": "nan",
                  "average_com": "70.02726086956521",
                  "mood_next_day": 7.2,
                  "_deepnote_index_column": 1180
                },
                {
                  "unique_id": "2014-04-21_AS14.33",
                  "id": "AS14.33",
                  "date": "2014-04-21",
                  "average_mood": 7.2,
                  "total_calls": "nan",
                  "total_sms": "nan",
                  "average_com": "63.20204545454544",
                  "mood_next_day": 6.2,
                  "_deepnote_index_column": 1181
                },
                {
                  "unique_id": "2014-04-22_AS14.33",
                  "id": "AS14.33",
                  "date": "2014-04-22",
                  "average_mood": 6.2,
                  "total_calls": "9.0",
                  "total_sms": "nan",
                  "average_com": "46.916821428571424",
                  "mood_next_day": 5.2,
                  "_deepnote_index_column": 1182
                },
                {
                  "unique_id": "2014-04-23_AS14.33",
                  "id": "AS14.33",
                  "date": "2014-04-23",
                  "average_mood": 5.2,
                  "total_calls": "1.0",
                  "total_sms": "nan",
                  "average_com": "30.690777777777782",
                  "mood_next_day": 7,
                  "_deepnote_index_column": 1183
                },
                {
                  "unique_id": "2014-04-24_AS14.33",
                  "id": "AS14.33",
                  "date": "2014-04-24",
                  "average_mood": 7,
                  "total_calls": "5.0",
                  "total_sms": "5.0",
                  "average_com": "52.47904166666666",
                  "mood_next_day": 8.4,
                  "_deepnote_index_column": 1184
                },
                {
                  "unique_id": "2014-04-25_AS14.33",
                  "id": "AS14.33",
                  "date": "2014-04-25",
                  "average_mood": 8.4,
                  "total_calls": "31.0",
                  "total_sms": "2.0",
                  "average_com": "28.73631914893617",
                  "mood_next_day": 7.6,
                  "_deepnote_index_column": 1185
                },
                {
                  "unique_id": "2014-04-26_AS14.33",
                  "id": "AS14.33",
                  "date": "2014-04-26",
                  "average_mood": 7.6,
                  "total_calls": "18.0",
                  "total_sms": "nan",
                  "average_com": "30.114727272727272",
                  "mood_next_day": 6.2,
                  "_deepnote_index_column": 1186
                },
                {
                  "unique_id": "2014-04-27_AS14.33",
                  "id": "AS14.33",
                  "date": "2014-04-27",
                  "average_mood": 6.2,
                  "total_calls": "4.0",
                  "total_sms": "nan",
                  "average_com": "64.68579166666665",
                  "mood_next_day": 6.75,
                  "_deepnote_index_column": 1187
                },
                {
                  "unique_id": "2014-04-28_AS14.33",
                  "id": "AS14.33",
                  "date": "2014-04-28",
                  "average_mood": 6.75,
                  "total_calls": "2.0",
                  "total_sms": "5.0",
                  "average_com": "70.9519090909091",
                  "mood_next_day": 6.2,
                  "_deepnote_index_column": 1188
                },
                {
                  "unique_id": "2014-04-29_AS14.33",
                  "id": "AS14.33",
                  "date": "2014-04-29",
                  "average_mood": 6.2,
                  "total_calls": "3.0",
                  "total_sms": "nan",
                  "average_com": "37.49181818181819",
                  "mood_next_day": 6.4,
                  "_deepnote_index_column": 1189
                },
                {
                  "unique_id": "2014-04-30_AS14.33",
                  "id": "AS14.33",
                  "date": "2014-04-30",
                  "average_mood": 6.4,
                  "total_calls": "1.0",
                  "total_sms": "nan",
                  "average_com": "35.329947368421045",
                  "mood_next_day": 7.5,
                  "_deepnote_index_column": 1190
                },
                {
                  "unique_id": "2014-05-04_AS14.33",
                  "id": "AS14.33",
                  "date": "2014-05-04",
                  "average_mood": 7.5,
                  "total_calls": "11.0",
                  "total_sms": "nan",
                  "average_com": "38.915625",
                  "mood_next_day": 6.125,
                  "_deepnote_index_column": 1191
                },
                {
                  "unique_id": "2014-05-07_AS14.33",
                  "id": "AS14.33",
                  "date": "2014-05-07",
                  "average_mood": 6.125,
                  "total_calls": "1.0",
                  "total_sms": "nan",
                  "average_com": "7.083",
                  "mood_next_day": 6.6,
                  "_deepnote_index_column": 1192
                },
                {
                  "unique_id": "2014-05-08_AS14.33",
                  "id": "AS14.33",
                  "date": "2014-05-08",
                  "average_mood": 6.6,
                  "total_calls": "nan",
                  "total_sms": "nan",
                  "average_com": "63.088733333333316",
                  "mood_next_day": 4.8,
                  "_deepnote_index_column": 1193
                },
                {
                  "unique_id": "2014-05-09_AS14.33",
                  "id": "AS14.33",
                  "date": "2014-05-09",
                  "average_mood": 4.8,
                  "total_calls": "nan",
                  "total_sms": "nan",
                  "average_com": "62.00627272727272",
                  "mood_next_day": 7.6,
                  "_deepnote_index_column": 1194
                },
                {
                  "unique_id": "2014-05-10_AS14.33",
                  "id": "AS14.33",
                  "date": "2014-05-10",
                  "average_mood": 7.6,
                  "total_calls": "nan",
                  "total_sms": "nan",
                  "average_com": "18.080583333333337",
                  "mood_next_day": 6,
                  "_deepnote_index_column": 1195
                },
                {
                  "unique_id": "2014-05-11_AS14.33",
                  "id": "AS14.33",
                  "date": "2014-05-11",
                  "average_mood": 6,
                  "total_calls": "nan",
                  "total_sms": "nan",
                  "average_com": "36.03921428571429",
                  "mood_next_day": 6,
                  "_deepnote_index_column": 1196
                },
                {
                  "unique_id": "2014-05-12_AS14.33",
                  "id": "AS14.33",
                  "date": "2014-05-12",
                  "average_mood": 6,
                  "total_calls": "13.0",
                  "total_sms": "nan",
                  "average_com": "71.05900000000001",
                  "mood_next_day": 5,
                  "_deepnote_index_column": 1197
                },
                {
                  "unique_id": "2014-05-13_AS14.33",
                  "id": "AS14.33",
                  "date": "2014-05-13",
                  "average_mood": 5,
                  "total_calls": "nan",
                  "total_sms": "nan",
                  "average_com": "117.31816216216211",
                  "mood_next_day": 6.833333333333333,
                  "_deepnote_index_column": 1198
                },
                {
                  "unique_id": "2014-05-14_AS14.33",
                  "id": "AS14.33",
                  "date": "2014-05-14",
                  "average_mood": 6.833333333333333,
                  "total_calls": "nan",
                  "total_sms": "nan",
                  "average_com": "26.813666666666666",
                  "mood_next_day": 6,
                  "_deepnote_index_column": 1199
                },
                {
                  "unique_id": "2014-05-15_AS14.33",
                  "id": "AS14.33",
                  "date": "2014-05-15",
                  "average_mood": 6,
                  "total_calls": "8.0",
                  "total_sms": "nan",
                  "average_com": "46.31244",
                  "mood_next_day": 7,
                  "_deepnote_index_column": 1200
                },
                {
                  "unique_id": "2014-05-16_AS14.33",
                  "id": "AS14.33",
                  "date": "2014-05-16",
                  "average_mood": 7,
                  "total_calls": "11.0",
                  "total_sms": "nan",
                  "average_com": "41.621538461538464",
                  "mood_next_day": 6,
                  "_deepnote_index_column": 1201
                },
                {
                  "unique_id": "2014-05-17_AS14.33",
                  "id": "AS14.33",
                  "date": "2014-05-17",
                  "average_mood": 6,
                  "total_calls": "nan",
                  "total_sms": "nan",
                  "average_com": "28.5698",
                  "mood_next_day": 6,
                  "_deepnote_index_column": 1202
                },
                {
                  "unique_id": "2014-05-18_AS14.33",
                  "id": "AS14.33",
                  "date": "2014-05-18",
                  "average_mood": 6,
                  "total_calls": "nan",
                  "total_sms": "nan",
                  "average_com": "85.93733333333331",
                  "mood_next_day": 6.2,
                  "_deepnote_index_column": 1203
                },
                {
                  "unique_id": "2014-05-19_AS14.33",
                  "id": "AS14.33",
                  "date": "2014-05-19",
                  "average_mood": 6.2,
                  "total_calls": "nan",
                  "total_sms": "nan",
                  "average_com": "33.11727272727273",
                  "mood_next_day": 6.25,
                  "_deepnote_index_column": 1204
                },
                {
                  "unique_id": "2014-05-20_AS14.33",
                  "id": "AS14.33",
                  "date": "2014-05-20",
                  "average_mood": 6.25,
                  "total_calls": "nan",
                  "total_sms": "nan",
                  "average_com": "96.38788888888888",
                  "mood_next_day": 6,
                  "_deepnote_index_column": 1205
                },
                {
                  "unique_id": "2014-05-21_AS14.33",
                  "id": "AS14.33",
                  "date": "2014-05-21",
                  "average_mood": 6,
                  "total_calls": "nan",
                  "total_sms": "nan",
                  "average_com": "69.80430769230769",
                  "mood_next_day": 5.75,
                  "_deepnote_index_column": 1206
                },
                {
                  "unique_id": "2014-05-22_AS14.33",
                  "id": "AS14.33",
                  "date": "2014-05-22",
                  "average_mood": 5.75,
                  "total_calls": "8.0",
                  "total_sms": "nan",
                  "average_com": "45.43628571428571",
                  "mood_next_day": 5.833333333333333,
                  "_deepnote_index_column": 1207
                },
                {
                  "unique_id": "2014-05-23_AS14.33",
                  "id": "AS14.33",
                  "date": "2014-05-23",
                  "average_mood": 5.833333333333333,
                  "total_calls": "nan",
                  "total_sms": "nan",
                  "average_com": "37.2525909090909",
                  "mood_next_day": 6.4,
                  "_deepnote_index_column": 1208
                },
                {
                  "unique_id": "2014-05-24_AS14.33",
                  "id": "AS14.33",
                  "date": "2014-05-24",
                  "average_mood": 6.4,
                  "total_calls": "nan",
                  "total_sms": "nan",
                  "average_com": "41.9242962962963",
                  "mood_next_day": 6.25,
                  "_deepnote_index_column": 1209
                },
                {
                  "unique_id": "2014-05-25_AS14.33",
                  "id": "AS14.33",
                  "date": "2014-05-25",
                  "average_mood": 6.25,
                  "total_calls": "3.0",
                  "total_sms": "8.0",
                  "average_com": "34.82986666666666",
                  "mood_next_day": 5.4,
                  "_deepnote_index_column": 1210
                },
                {
                  "unique_id": "2014-05-26_AS14.33",
                  "id": "AS14.33",
                  "date": "2014-05-26",
                  "average_mood": 5.4,
                  "total_calls": "10.0",
                  "total_sms": "3.0",
                  "average_com": "34.32047222222222",
                  "mood_next_day": 6.2,
                  "_deepnote_index_column": 1211
                },
                {
                  "unique_id": "2014-05-27_AS14.33",
                  "id": "AS14.33",
                  "date": "2014-05-27",
                  "average_mood": 6.2,
                  "total_calls": "1.0",
                  "total_sms": "2.0",
                  "average_com": "59.382942857142865",
                  "mood_next_day": 8.2,
                  "_deepnote_index_column": 1212
                },
                {
                  "unique_id": "2014-05-28_AS14.33",
                  "id": "AS14.33",
                  "date": "2014-05-28",
                  "average_mood": 8.2,
                  "total_calls": "10.0",
                  "total_sms": "1.0",
                  "average_com": "37.23875",
                  "mood_next_day": 7,
                  "_deepnote_index_column": 1213
                },
                {
                  "unique_id": "2014-05-29_AS14.33",
                  "id": "AS14.33",
                  "date": "2014-05-29",
                  "average_mood": 7,
                  "total_calls": "5.0",
                  "total_sms": "nan",
                  "average_com": "54.388124999999995",
                  "mood_next_day": 6.8,
                  "_deepnote_index_column": 1214
                },
                {
                  "unique_id": "2014-05-30_AS14.33",
                  "id": "AS14.33",
                  "date": "2014-05-30",
                  "average_mood": 6.8,
                  "total_calls": "nan",
                  "total_sms": "nan",
                  "average_com": "nan",
                  "mood_next_day": 0,
                  "_deepnote_index_column": 1215
                }
              ]
            },
            "text/plain": "               unique_id       id        date  average_mood  total_calls  \\\n0     2014-02-26_AS14.01  AS14.01  2014-02-26          6.25          NaN   \n1     2014-03-21_AS14.01  AS14.01  2014-03-21          6.25          6.0   \n2     2014-03-22_AS14.01  AS14.01  2014-03-22          6.40          NaN   \n3     2014-03-23_AS14.01  AS14.01  2014-03-23          6.80          NaN   \n4     2014-03-24_AS14.01  AS14.01  2014-03-24          6.00          NaN   \n...                  ...      ...         ...           ...          ...   \n1211  2014-05-26_AS14.33  AS14.33  2014-05-26          5.40         10.0   \n1212  2014-05-27_AS14.33  AS14.33  2014-05-27          6.20          1.0   \n1213  2014-05-28_AS14.33  AS14.33  2014-05-28          8.20         10.0   \n1214  2014-05-29_AS14.33  AS14.33  2014-05-29          7.00          5.0   \n1215  2014-05-30_AS14.33  AS14.33  2014-05-30          6.80          NaN   \n\n      total_sms  average_com  mood_next_day  \n0           NaN          NaN           6.25  \n1           NaN    55.095526           6.40  \n2           NaN    51.697063           6.80  \n3           NaN    53.442031           6.00  \n4           NaN    47.541687           6.75  \n...         ...          ...            ...  \n1211        3.0    34.320472           6.20  \n1212        2.0    59.382943           8.20  \n1213        1.0    37.238750           7.00  \n1214        NaN    54.388125           6.80  \n1215        NaN          NaN           0.00  \n\n[1216 rows x 8 columns]",
            "text/html": "<div>\n<style scoped>\n    .dataframe tbody tr th:only-of-type {\n        vertical-align: middle;\n    }\n\n    .dataframe tbody tr th {\n        vertical-align: top;\n    }\n\n    .dataframe thead th {\n        text-align: right;\n    }\n</style>\n<table border=\"1\" class=\"dataframe\">\n  <thead>\n    <tr style=\"text-align: right;\">\n      <th></th>\n      <th>unique_id</th>\n      <th>id</th>\n      <th>date</th>\n      <th>average_mood</th>\n      <th>total_calls</th>\n      <th>total_sms</th>\n      <th>average_com</th>\n      <th>mood_next_day</th>\n    </tr>\n  </thead>\n  <tbody>\n    <tr>\n      <th>0</th>\n      <td>2014-02-26_AS14.01</td>\n      <td>AS14.01</td>\n      <td>2014-02-26</td>\n      <td>6.25</td>\n      <td>NaN</td>\n      <td>NaN</td>\n      <td>NaN</td>\n      <td>6.25</td>\n    </tr>\n    <tr>\n      <th>1</th>\n      <td>2014-03-21_AS14.01</td>\n      <td>AS14.01</td>\n      <td>2014-03-21</td>\n      <td>6.25</td>\n      <td>6.0</td>\n      <td>NaN</td>\n      <td>55.095526</td>\n      <td>6.40</td>\n    </tr>\n    <tr>\n      <th>2</th>\n      <td>2014-03-22_AS14.01</td>\n      <td>AS14.01</td>\n      <td>2014-03-22</td>\n      <td>6.40</td>\n      <td>NaN</td>\n      <td>NaN</td>\n      <td>51.697063</td>\n      <td>6.80</td>\n    </tr>\n    <tr>\n      <th>3</th>\n      <td>2014-03-23_AS14.01</td>\n      <td>AS14.01</td>\n      <td>2014-03-23</td>\n      <td>6.80</td>\n      <td>NaN</td>\n      <td>NaN</td>\n      <td>53.442031</td>\n      <td>6.00</td>\n    </tr>\n    <tr>\n      <th>4</th>\n      <td>2014-03-24_AS14.01</td>\n      <td>AS14.01</td>\n      <td>2014-03-24</td>\n      <td>6.00</td>\n      <td>NaN</td>\n      <td>NaN</td>\n      <td>47.541687</td>\n      <td>6.75</td>\n    </tr>\n    <tr>\n      <th>...</th>\n      <td>...</td>\n      <td>...</td>\n      <td>...</td>\n      <td>...</td>\n      <td>...</td>\n      <td>...</td>\n      <td>...</td>\n      <td>...</td>\n    </tr>\n    <tr>\n      <th>1211</th>\n      <td>2014-05-26_AS14.33</td>\n      <td>AS14.33</td>\n      <td>2014-05-26</td>\n      <td>5.40</td>\n      <td>10.0</td>\n      <td>3.0</td>\n      <td>34.320472</td>\n      <td>6.20</td>\n    </tr>\n    <tr>\n      <th>1212</th>\n      <td>2014-05-27_AS14.33</td>\n      <td>AS14.33</td>\n      <td>2014-05-27</td>\n      <td>6.20</td>\n      <td>1.0</td>\n      <td>2.0</td>\n      <td>59.382943</td>\n      <td>8.20</td>\n    </tr>\n    <tr>\n      <th>1213</th>\n      <td>2014-05-28_AS14.33</td>\n      <td>AS14.33</td>\n      <td>2014-05-28</td>\n      <td>8.20</td>\n      <td>10.0</td>\n      <td>1.0</td>\n      <td>37.238750</td>\n      <td>7.00</td>\n    </tr>\n    <tr>\n      <th>1214</th>\n      <td>2014-05-29_AS14.33</td>\n      <td>AS14.33</td>\n      <td>2014-05-29</td>\n      <td>7.00</td>\n      <td>5.0</td>\n      <td>NaN</td>\n      <td>54.388125</td>\n      <td>6.80</td>\n    </tr>\n    <tr>\n      <th>1215</th>\n      <td>2014-05-30_AS14.33</td>\n      <td>AS14.33</td>\n      <td>2014-05-30</td>\n      <td>6.80</td>\n      <td>NaN</td>\n      <td>NaN</td>\n      <td>NaN</td>\n      <td>0.00</td>\n    </tr>\n  </tbody>\n</table>\n<p>1216 rows × 8 columns</p>\n</div>"
          },
          "metadata": {}
        }
      ]
    },
    {
      "cell_type": "code",
      "metadata": {
        "tags": [],
        "cell_id": "00028-af5ceef7-f278-4ae5-899d-b1e86381ec4e",
        "deepnote_to_be_reexecuted": false,
        "source_hash": "e4d8e9ec",
        "execution_millis": 3,
        "execution_start": 1617795809281,
        "deepnote_cell_type": "code"
      },
      "source": "new_df.drop(new_df.tail(1).index,\n        inplace = True)",
      "execution_count": null,
      "outputs": []
    },
    {
      "cell_type": "code",
      "metadata": {
        "tags": [],
        "cell_id": "00026-09cf5934-4a4b-47ed-bbbd-cc50321853e2",
        "deepnote_to_be_reexecuted": false,
        "source_hash": "1a23bbb4",
        "execution_millis": 27367,
        "execution_start": 1617795813165,
        "deepnote_cell_type": "code"
      },
      "source": "#Average amount of time per day spent on social media apps \nlast_value = None\namount_soc = 0\ntotal_soc = 0\nsoc_dict = {}\nfor index, row in pandas_df.iterrows():\n    if row['variable'] == 'appCat.social':\n        new_value = row['time'].split()[0]\n            \n        if last_value != new_value and amount_soc > 0: \n            unique_soc = last_value + '_' + row['id']\n            average_soc = total_soc / amount_soc\n            soc_dict[unique_soc] = average_soc\n            amount_soc = 0\n            total_soc = 0\n            \n        amount_soc += 1\n        total_soc += row['value']\n        last_value = new_value",
      "execution_count": null,
      "outputs": []
    },
    {
      "cell_type": "code",
      "metadata": {
        "tags": [],
        "cell_id": "00026-a41cd0b5-1cc0-48f7-a2ab-4d4b6f274c73",
        "deepnote_to_be_reexecuted": false,
        "source_hash": "1ea0451",
        "execution_millis": 2,
        "execution_start": 1617795842597,
        "deepnote_cell_type": "code"
      },
      "source": "new_df['average_soc'] = new_df['unique_id'].map(soc_dict)",
      "execution_count": null,
      "outputs": []
    },
    {
      "cell_type": "code",
      "metadata": {
        "tags": [],
        "cell_id": "00027-754bfe64-88fe-4bed-b5ef-7c184aa01829",
        "deepnote_to_be_reexecuted": false,
        "source_hash": "b14067bf",
        "execution_millis": 27252,
        "execution_start": 1617795844530,
        "deepnote_cell_type": "code"
      },
      "source": "#Average valence of a person \nlast_value = None\namount_val = 0\ntotal_val = 0\nval_dict = {}\nfor index, row in pandas_df.iterrows():\n    if row['variable'] == 'circumplex.valence':\n        new_value = row['time'].split()[0]\n            \n        if last_value != new_value and amount_val > 0: \n            unique_val = last_value + '_' + row['id']\n            average_val = total_val / amount_val\n            val_dict[unique_val] = average_val\n            amount_val = 0\n            total_val = 0\n            \n        amount_val += 1\n        total_val += row['value']\n        last_value = new_value",
      "execution_count": null,
      "outputs": []
    },
    {
      "cell_type": "code",
      "metadata": {
        "tags": [],
        "cell_id": "00027-557d01a0-2db4-4c15-b7f1-8a88e1e56bc4",
        "deepnote_to_be_reexecuted": false,
        "source_hash": "eb1458aa",
        "execution_millis": 1,
        "execution_start": 1617795875236,
        "deepnote_cell_type": "code"
      },
      "source": "new_df['average_valence'] = new_df['unique_id'].map(val_dict)",
      "execution_count": null,
      "outputs": []
    },
    {
      "cell_type": "code",
      "metadata": {
        "tags": [],
        "cell_id": "00030-a5a236b0-0c2f-4aeb-a773-3c9fa45d8758",
        "deepnote_to_be_reexecuted": false,
        "source_hash": "cbc301d2",
        "execution_millis": 27240,
        "execution_start": 1617795878482,
        "deepnote_cell_type": "code"
      },
      "source": "#Average arousel of a person\nlast_value = None\namount_ar = 0\ntotal_ar = 0\nar_dict = {}\nfor index, row in pandas_df.iterrows():\n    if row['variable'] == 'circumplex.arousal':\n        new_value = row['time'].split()[0]\n            \n        if last_value != new_value and amount_ar > 0: \n            unique_ar = last_value + '_' + row['id']\n            average_ar = total_ar / amount_ar\n            ar_dict[unique_ar] = average_ar\n            amount_ar = 0\n            total_ar = 0\n            \n        amount_ar += 1\n        total_ar += row['value']\n        last_value = new_value",
      "execution_count": null,
      "outputs": []
    },
    {
      "cell_type": "code",
      "metadata": {
        "tags": [],
        "cell_id": "00029-8424290f-b9ad-4a7c-91c8-0b655bf50ed7",
        "deepnote_to_be_reexecuted": false,
        "source_hash": "d2da0bba",
        "execution_millis": 1,
        "execution_start": 1617795920574,
        "deepnote_cell_type": "code"
      },
      "source": "new_df['average_arousal'] = new_df['unique_id'].map(ar_dict)",
      "execution_count": null,
      "outputs": []
    },
    {
      "cell_type": "code",
      "metadata": {
        "tags": [],
        "cell_id": "00030-95c78ac5-f755-4908-9f6e-35253132878f",
        "deepnote_to_be_reexecuted": false,
        "source_hash": "4b855d97",
        "execution_millis": 28095,
        "execution_start": 1617795962992,
        "deepnote_cell_type": "code"
      },
      "source": "#Average finance app usage of a person\nlast_value = None\namount_fi = 0\ntotal_fi = 0\nfi_dict = {}\nfor index, row in pandas_df.iterrows():\n    if row['variable'] == 'appCat.finance':\n        new_value = row['time'].split()[0]\n            \n        if last_value != new_value and amount_fi > 0: \n            unique_fi = last_value + '_' + row['id']\n            average_fi = total_fi / amount_fi\n            fi_dict[unique_fi] = average_fi\n            amount_fi = 0\n            total_fi = 0\n            \n        amount_fi += 1\n        total_fi += row['value']\n        last_value = new_value",
      "execution_count": null,
      "outputs": []
    },
    {
      "cell_type": "code",
      "metadata": {
        "tags": [],
        "cell_id": "00031-74743516-db92-48a2-b9ce-c18d4dddaf95",
        "deepnote_to_be_reexecuted": false,
        "source_hash": "2636ef18",
        "execution_start": 1617796009492,
        "execution_millis": 1,
        "deepnote_cell_type": "code"
      },
      "source": "new_df['average_finance'] = new_df['unique_id'].map(fi_dict)",
      "execution_count": null,
      "outputs": []
    },
    {
      "cell_type": "code",
      "metadata": {
        "tags": [],
        "cell_id": "00032-69265ed9-2bb0-49dc-b9c1-4432a5fc26a3",
        "deepnote_to_be_reexecuted": false,
        "source_hash": "37883207",
        "execution_millis": 27171,
        "execution_start": 1617796106107,
        "deepnote_cell_type": "code"
      },
      "source": "#Average office app usage of a person\nlast_value = None\namount_of = 0\ntotal_of = 0\nof_dict = {}\nfor index, row in pandas_df.iterrows():\n    if row['variable'] == 'appCat.office':\n        new_value = row['time'].split()[0]\n            \n        if last_value != new_value and amount_of > 0: \n            unique_of = last_value + '_' + row['id']\n            average_of = total_of / amount_of\n            of_dict[unique_of] = average_of\n            amount_of = 0\n            total_of = 0\n            \n        amount_of += 1\n        total_of += row['value']\n        last_value = new_value",
      "execution_count": null,
      "outputs": []
    },
    {
      "cell_type": "code",
      "metadata": {
        "tags": [],
        "cell_id": "00033-324ee568-9d82-4ade-aa14-99566f71c5d7",
        "deepnote_to_be_reexecuted": false,
        "source_hash": "aab1c803",
        "execution_start": 1617796155464,
        "execution_millis": 4,
        "deepnote_cell_type": "code"
      },
      "source": "new_df['average_office'] = new_df['unique_id'].map(of_dict)",
      "execution_count": null,
      "outputs": []
    },
    {
      "cell_type": "code",
      "metadata": {
        "tags": [],
        "cell_id": "00034-abd4da07-e551-464a-9e13-9aabeaf84d91",
        "deepnote_to_be_reexecuted": false,
        "source_hash": "98f12afd",
        "execution_millis": 28153,
        "execution_start": 1617796275742,
        "deepnote_cell_type": "code"
      },
      "source": "last_value = None\namount_ent = 0\ntotal_ent = 0\nent_dict = {}\nfor index, row in pandas_df.iterrows():\n    if row['variable'] == 'appCat.entertainment':\n        new_value = row['time'].split()[0]\n            \n        if last_value != new_value and amount_ent > 0: \n            unique_ent = last_value + '_' + row['id']\n            average_ent = total_ent / amount_ent\n            ent_dict[unique_ent] = average_ent\n            amount_ent = 0\n            total_ent = 0\n            \n        amount_ent += 1\n        total_ent += row['value']\n        last_value = new_value",
      "execution_count": null,
      "outputs": []
    },
    {
      "cell_type": "code",
      "metadata": {
        "tags": [],
        "cell_id": "00035-df83e2cb-83f7-4c84-b7de-5fc71482b41e",
        "deepnote_to_be_reexecuted": false,
        "source_hash": "1d9a9333",
        "execution_start": 1617796324598,
        "execution_millis": 2,
        "deepnote_cell_type": "code"
      },
      "source": "new_df['average_entertainment'] = new_df['unique_id'].map(ent_dict)",
      "execution_count": null,
      "outputs": []
    },
    {
      "cell_type": "code",
      "metadata": {
        "tags": [],
        "cell_id": "00036-95120871-5007-49b0-bc88-0aeac23006f6",
        "deepnote_to_be_reexecuted": false,
        "source_hash": "9dd3de48",
        "execution_millis": 27166,
        "execution_start": 1617796415204,
        "deepnote_cell_type": "code"
      },
      "source": "last_value = None\namount_gam = 0\ntotal_gam = 0\ngam_dict = {}\nfor index, row in pandas_df.iterrows():\n    if row['variable'] == 'appCat.game':\n        new_value = row['time'].split()[0]\n            \n        if last_value != new_value and amount_gam > 0: \n            unique_gam = last_value + '_' + row['id']\n            average_gam = total_gam / amount_gam\n            gam_dict[unique_gam] = average_gam\n            amount_gam = 0\n            total_gam = 0\n            \n        amount_gam += 1\n        total_gam += row['value']\n        last_value = new_value",
      "execution_count": null,
      "outputs": []
    },
    {
      "cell_type": "code",
      "metadata": {
        "tags": [],
        "cell_id": "00037-1c11b4b6-92e2-49b7-a43e-b0f36e151b94",
        "deepnote_to_be_reexecuted": false,
        "source_hash": "c2760a11",
        "execution_start": 1617796471149,
        "execution_millis": 1,
        "deepnote_cell_type": "code"
      },
      "source": "new_df['average_game'] = new_df['unique_id'].map(gam_dict)",
      "execution_count": null,
      "outputs": []
    },
    {
      "cell_type": "code",
      "metadata": {
        "tags": [],
        "cell_id": "00038-713ba849-10ec-4cde-8394-20d98bdd9aaa",
        "deepnote_to_be_reexecuted": false,
        "source_hash": "9aedd9fd",
        "execution_millis": 1,
        "execution_start": 1617796634042,
        "deepnote_cell_type": "code"
      },
      "source": "new_df.to_csv('new_data.csv')",
      "execution_count": null,
      "outputs": []
    },
    {
      "cell_type": "code",
      "metadata": {
        "tags": [],
        "cell_id": "00039-1b60f179-45b8-4cb8-b92c-947ba0574a2f",
        "deepnote_cell_type": "code"
      },
      "source": "",
      "execution_count": null,
      "outputs": []
    },
    {
      "cell_type": "markdown",
      "source": "<a style='text-decoration:none;line-height:16px;display:flex;color:#5B5B62;padding:10px;justify-content:end;' href='https://deepnote.com?utm_source=created-in-deepnote-cell&projectId=d79defa5-2359-4699-82dc-d6bf5eddd7a7' target=\"_blank\">\n<img alt='Created in deepnote.com' style='display:inline;max-height:16px;margin:0px;margin-right:7.5px;' src='data:image/svg+xml;base64,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' > </img>\nCreated in <span style='font-weight:600;margin-left:4px;'>Deepnote</span></a>",
      "metadata": {
        "tags": [],
        "created_in_deepnote_cell": true,
        "deepnote_cell_type": "markdown"
      }
    }
  ],
  "nbformat": 4,
  "nbformat_minor": 2,
  "metadata": {
    "orig_nbformat": 2,
    "deepnote_notebook_id": "d5f64809-5e97-432a-a6b7-b8e4573d9e51",
    "deepnote": {},
    "deepnote_execution_queue": []
  }
}