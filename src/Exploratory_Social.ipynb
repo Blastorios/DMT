{
  "cells": [
    {
      "cell_type": "code",
      "metadata": {
        "tags": [],
        "cell_id": "00000-a7e81f7b-ccef-4cdb-9d06-135c86325816",
        "deepnote_to_be_reexecuted": false,
        "source_hash": "b3dadff4",
        "execution_millis": 2420,
        "execution_start": 1617971154546,
        "deepnote_cell_type": "code"
      },
      "source": "import numpy as np\nimport pandas as pd\nimport matplotlib.pyplot as plt\nimport seaborn as sns\n\nfrom mlxtend.preprocessing import minmax_scaling",
      "execution_count": null,
      "outputs": []
    },
    {
      "cell_type": "code",
      "metadata": {
        "tags": [],
        "cell_id": "00001-dc7fa3aa-481a-4392-b89b-db83d175bf2d",
        "deepnote_to_be_reexecuted": false,
        "source_hash": "54e4a1",
        "execution_millis": 609,
        "execution_start": 1617971182098,
        "deepnote_cell_type": "code"
      },
      "source": "raw =  pd.read_csv(\"data/dataset_mood_smartphone.csv\")\ndf = pd.read_csv(\"data/new_data.csv\")\n\ndf = df.drop([\"Unnamed: 0\"], axis=1) if \"Unnamed: 0\" in df.columns else df\nraw = raw.drop([\"Unnamed: 0\"], axis=1) if \"Unnamed: 0\" in raw.columns else raw",
      "execution_count": null,
      "outputs": []
    },
    {
      "cell_type": "code",
      "metadata": {
        "tags": [],
        "cell_id": "00002-90d579c8-b8b7-486b-9b05-453527200f4c",
        "deepnote_to_be_reexecuted": false,
        "source_hash": "f804c160",
        "execution_millis": 102,
        "execution_start": 1617971184407,
        "deepnote_cell_type": "code"
      },
      "source": "df",
      "execution_count": null,
      "outputs": [
        {
          "output_type": "execute_result",
          "execution_count": 7,
          "data": {
            "application/vnd.deepnote.dataframe.v2+json": {
              "row_count": 1215,
              "column_count": 15,
              "columns": [
                {
                  "name": "unique_id",
                  "dtype": "object",
                  "stats": {
                    "unique_count": 1215,
                    "nan_count": 0,
                    "categories": [
                      {
                        "name": "2014-02-26_AS14.01",
                        "count": 1
                      },
                      {
                        "name": "2014-03-21_AS14.01",
                        "count": 1
                      },
                      {
                        "name": "1213 others",
                        "count": 1213
                      }
                    ]
                  }
                },
                {
                  "name": "id",
                  "dtype": "object",
                  "stats": {
                    "unique_count": 27,
                    "nan_count": 0,
                    "categories": [
                      {
                        "name": "AS14.26",
                        "count": 66
                      },
                      {
                        "name": "AS14.08",
                        "count": 61
                      },
                      {
                        "name": "25 others",
                        "count": 1088
                      }
                    ]
                  }
                },
                {
                  "name": "date",
                  "dtype": "object",
                  "stats": {
                    "unique_count": 95,
                    "nan_count": 0,
                    "categories": [
                      {
                        "name": "2014-04-16",
                        "count": 27
                      },
                      {
                        "name": "2014-04-17",
                        "count": 27
                      },
                      {
                        "name": "93 others",
                        "count": 1161
                      }
                    ]
                  }
                },
                {
                  "name": "average_mood",
                  "dtype": "float64",
                  "stats": {
                    "unique_count": 71,
                    "nan_count": 0,
                    "min": 3,
                    "max": 9.333333333333334,
                    "histogram": [
                      {
                        "bin_start": 3,
                        "bin_end": 3.6333333333333333,
                        "count": 4
                      },
                      {
                        "bin_start": 3.6333333333333333,
                        "bin_end": 4.266666666666667,
                        "count": 3
                      },
                      {
                        "bin_start": 4.266666666666667,
                        "bin_end": 4.9,
                        "count": 6
                      },
                      {
                        "bin_start": 4.9,
                        "bin_end": 5.533333333333333,
                        "count": 26
                      },
                      {
                        "bin_start": 5.533333333333333,
                        "bin_end": 6.166666666666667,
                        "count": 83
                      },
                      {
                        "bin_start": 6.166666666666667,
                        "bin_end": 6.800000000000001,
                        "count": 349
                      },
                      {
                        "bin_start": 6.800000000000001,
                        "bin_end": 7.433333333333334,
                        "count": 432
                      },
                      {
                        "bin_start": 7.433333333333334,
                        "bin_end": 8.066666666666666,
                        "count": 269
                      },
                      {
                        "bin_start": 8.066666666666666,
                        "bin_end": 8.700000000000001,
                        "count": 38
                      },
                      {
                        "bin_start": 8.700000000000001,
                        "bin_end": 9.333333333333334,
                        "count": 5
                      }
                    ]
                  }
                },
                {
                  "name": "total_calls",
                  "dtype": "float64",
                  "stats": {
                    "unique_count": 22,
                    "nan_count": 693,
                    "min": 1,
                    "max": 31,
                    "histogram": [
                      {
                        "bin_start": 1,
                        "bin_end": 4,
                        "count": 216
                      },
                      {
                        "bin_start": 4,
                        "bin_end": 7,
                        "count": 151
                      },
                      {
                        "bin_start": 7,
                        "bin_end": 10,
                        "count": 83
                      },
                      {
                        "bin_start": 10,
                        "bin_end": 13,
                        "count": 43
                      },
                      {
                        "bin_start": 13,
                        "bin_end": 16,
                        "count": 16
                      },
                      {
                        "bin_start": 16,
                        "bin_end": 19,
                        "count": 7
                      },
                      {
                        "bin_start": 19,
                        "bin_end": 22,
                        "count": 3
                      },
                      {
                        "bin_start": 22,
                        "bin_end": 25,
                        "count": 0
                      },
                      {
                        "bin_start": 25,
                        "bin_end": 28,
                        "count": 2
                      },
                      {
                        "bin_start": 28,
                        "bin_end": 31,
                        "count": 1
                      }
                    ]
                  }
                },
                {
                  "name": "total_sms",
                  "dtype": "float64",
                  "stats": {
                    "unique_count": 21,
                    "nan_count": 1048,
                    "min": 1,
                    "max": 35,
                    "histogram": [
                      {
                        "bin_start": 1,
                        "bin_end": 4.4,
                        "count": 93
                      },
                      {
                        "bin_start": 4.4,
                        "bin_end": 7.8,
                        "count": 32
                      },
                      {
                        "bin_start": 7.8,
                        "bin_end": 11.2,
                        "count": 15
                      },
                      {
                        "bin_start": 11.2,
                        "bin_end": 14.6,
                        "count": 16
                      },
                      {
                        "bin_start": 14.6,
                        "bin_end": 18,
                        "count": 3
                      },
                      {
                        "bin_start": 18,
                        "bin_end": 21.4,
                        "count": 0
                      },
                      {
                        "bin_start": 21.4,
                        "bin_end": 24.8,
                        "count": 3
                      },
                      {
                        "bin_start": 24.8,
                        "bin_end": 28.2,
                        "count": 4
                      },
                      {
                        "bin_start": 28.2,
                        "bin_end": 31.599999999999998,
                        "count": 0
                      },
                      {
                        "bin_start": 31.599999999999998,
                        "bin_end": 35,
                        "count": 1
                      }
                    ]
                  }
                },
                {
                  "name": "average_com",
                  "dtype": "float64",
                  "stats": {
                    "unique_count": 1103,
                    "nan_count": 112,
                    "min": 3.01,
                    "max": 522.718,
                    "histogram": [
                      {
                        "bin_start": 3.01,
                        "bin_end": 54.980799999999995,
                        "count": 867
                      },
                      {
                        "bin_start": 54.980799999999995,
                        "bin_end": 106.9516,
                        "count": 200
                      },
                      {
                        "bin_start": 106.9516,
                        "bin_end": 158.92239999999998,
                        "count": 23
                      },
                      {
                        "bin_start": 158.92239999999998,
                        "bin_end": 210.89319999999998,
                        "count": 6
                      },
                      {
                        "bin_start": 210.89319999999998,
                        "bin_end": 262.864,
                        "count": 0
                      },
                      {
                        "bin_start": 262.864,
                        "bin_end": 314.8348,
                        "count": 1
                      },
                      {
                        "bin_start": 314.8348,
                        "bin_end": 366.80559999999997,
                        "count": 2
                      },
                      {
                        "bin_start": 366.80559999999997,
                        "bin_end": 418.77639999999997,
                        "count": 2
                      },
                      {
                        "bin_start": 418.77639999999997,
                        "bin_end": 470.74719999999996,
                        "count": 1
                      },
                      {
                        "bin_start": 470.74719999999996,
                        "bin_end": 522.718,
                        "count": 1
                      }
                    ]
                  }
                },
                {
                  "name": "mood_next_day",
                  "dtype": "float64",
                  "stats": {
                    "unique_count": 71,
                    "nan_count": 0,
                    "min": 3,
                    "max": 9.333333333333334,
                    "histogram": [
                      {
                        "bin_start": 3,
                        "bin_end": 3.6333333333333333,
                        "count": 4
                      },
                      {
                        "bin_start": 3.6333333333333333,
                        "bin_end": 4.266666666666667,
                        "count": 3
                      },
                      {
                        "bin_start": 4.266666666666667,
                        "bin_end": 4.9,
                        "count": 6
                      },
                      {
                        "bin_start": 4.9,
                        "bin_end": 5.533333333333333,
                        "count": 26
                      },
                      {
                        "bin_start": 5.533333333333333,
                        "bin_end": 6.166666666666667,
                        "count": 83
                      },
                      {
                        "bin_start": 6.166666666666667,
                        "bin_end": 6.800000000000001,
                        "count": 349
                      },
                      {
                        "bin_start": 6.800000000000001,
                        "bin_end": 7.433333333333334,
                        "count": 432
                      },
                      {
                        "bin_start": 7.433333333333334,
                        "bin_end": 8.066666666666666,
                        "count": 269
                      },
                      {
                        "bin_start": 8.066666666666666,
                        "bin_end": 8.700000000000001,
                        "count": 38
                      },
                      {
                        "bin_start": 8.700000000000001,
                        "bin_end": 9.333333333333334,
                        "count": 5
                      }
                    ]
                  }
                },
                {
                  "name": "average_soc",
                  "dtype": "float64",
                  "stats": {
                    "unique_count": 925,
                    "nan_count": 290,
                    "min": 0.725,
                    "max": 3759.177625,
                    "histogram": [
                      {
                        "bin_start": 0.725,
                        "bin_end": 376.5702625,
                        "count": 917
                      },
                      {
                        "bin_start": 376.5702625,
                        "bin_end": 752.415525,
                        "count": 4
                      },
                      {
                        "bin_start": 752.415525,
                        "bin_end": 1128.2607874999999,
                        "count": 3
                      },
                      {
                        "bin_start": 1128.2607874999999,
                        "bin_end": 1504.1060499999999,
                        "count": 0
                      },
                      {
                        "bin_start": 1504.1060499999999,
                        "bin_end": 1879.9513124999999,
                        "count": 0
                      },
                      {
                        "bin_start": 1879.9513124999999,
                        "bin_end": 2255.796575,
                        "count": 0
                      },
                      {
                        "bin_start": 2255.796575,
                        "bin_end": 2631.6418375,
                        "count": 0
                      },
                      {
                        "bin_start": 2631.6418375,
                        "bin_end": 3007.4871,
                        "count": 0
                      },
                      {
                        "bin_start": 3007.4871,
                        "bin_end": 3383.3323625,
                        "count": 0
                      },
                      {
                        "bin_start": 3383.3323625,
                        "bin_end": 3759.177625,
                        "count": 1
                      }
                    ]
                  }
                },
                {
                  "name": "average_valence",
                  "dtype": "float64",
                  "stats": {
                    "unique_count": 30,
                    "nan_count": 114,
                    "min": -1.25,
                    "max": 2,
                    "histogram": [
                      {
                        "bin_start": -1.25,
                        "bin_end": -0.925,
                        "count": 8
                      },
                      {
                        "bin_start": -0.925,
                        "bin_end": -0.6,
                        "count": 1
                      },
                      {
                        "bin_start": -0.6,
                        "bin_end": -0.2749999999999999,
                        "count": 21
                      },
                      {
                        "bin_start": -0.2749999999999999,
                        "bin_end": 0.050000000000000044,
                        "count": 100
                      },
                      {
                        "bin_start": 0.050000000000000044,
                        "bin_end": 0.375,
                        "count": 85
                      },
                      {
                        "bin_start": 0.375,
                        "bin_end": 0.7000000000000002,
                        "count": 253
                      },
                      {
                        "bin_start": 0.7000000000000002,
                        "bin_end": 1.025,
                        "count": 544
                      },
                      {
                        "bin_start": 1.025,
                        "bin_end": 1.35,
                        "count": 51
                      },
                      {
                        "bin_start": 1.35,
                        "bin_end": 1.6750000000000003,
                        "count": 32
                      },
                      {
                        "bin_start": 1.6750000000000003,
                        "bin_end": 2,
                        "count": 6
                      }
                    ]
                  }
                },
                {
                  "name": "average_arousal",
                  "dtype": "float64",
                  "stats": {
                    "unique_count": 40,
                    "nan_count": 44,
                    "min": -2,
                    "max": 2,
                    "histogram": [
                      {
                        "bin_start": -2,
                        "bin_end": -1.6,
                        "count": 12
                      },
                      {
                        "bin_start": -1.6,
                        "bin_end": -1.2,
                        "count": 36
                      },
                      {
                        "bin_start": -1.2,
                        "bin_end": -0.7999999999999998,
                        "count": 149
                      },
                      {
                        "bin_start": -0.7999999999999998,
                        "bin_end": -0.3999999999999999,
                        "count": 205
                      },
                      {
                        "bin_start": -0.3999999999999999,
                        "bin_end": 0,
                        "count": 149
                      },
                      {
                        "bin_start": 0,
                        "bin_end": 0.40000000000000036,
                        "count": 393
                      },
                      {
                        "bin_start": 0.40000000000000036,
                        "bin_end": 0.8000000000000003,
                        "count": 144
                      },
                      {
                        "bin_start": 0.8000000000000003,
                        "bin_end": 1.2000000000000002,
                        "count": 69
                      },
                      {
                        "bin_start": 1.2000000000000002,
                        "bin_end": 1.6,
                        "count": 10
                      },
                      {
                        "bin_start": 1.6,
                        "bin_end": 2,
                        "count": 4
                      }
                    ]
                  }
                },
                {
                  "name": "average_finance",
                  "dtype": "float64",
                  "stats": {
                    "unique_count": 200,
                    "nan_count": 1015,
                    "min": 1.004,
                    "max": 149.181,
                    "histogram": [
                      {
                        "bin_start": 1.004,
                        "bin_end": 15.821700000000002,
                        "count": 90
                      },
                      {
                        "bin_start": 15.821700000000002,
                        "bin_end": 30.639400000000006,
                        "count": 52
                      },
                      {
                        "bin_start": 30.639400000000006,
                        "bin_end": 45.457100000000004,
                        "count": 25
                      },
                      {
                        "bin_start": 45.457100000000004,
                        "bin_end": 60.274800000000006,
                        "count": 12
                      },
                      {
                        "bin_start": 60.274800000000006,
                        "bin_end": 75.09250000000002,
                        "count": 11
                      },
                      {
                        "bin_start": 75.09250000000002,
                        "bin_end": 89.91020000000002,
                        "count": 5
                      },
                      {
                        "bin_start": 89.91020000000002,
                        "bin_end": 104.72790000000002,
                        "count": 2
                      },
                      {
                        "bin_start": 104.72790000000002,
                        "bin_end": 119.54560000000002,
                        "count": 0
                      },
                      {
                        "bin_start": 119.54560000000002,
                        "bin_end": 134.3633,
                        "count": 1
                      },
                      {
                        "bin_start": 134.3633,
                        "bin_end": 149.181,
                        "count": 2
                      }
                    ]
                  }
                },
                {
                  "name": "average_office",
                  "dtype": "float64",
                  "stats": {
                    "unique_count": 256,
                    "nan_count": 958,
                    "min": 0.044,
                    "max": 1494.864,
                    "histogram": [
                      {
                        "bin_start": 0.044,
                        "bin_end": 149.526,
                        "count": 243
                      },
                      {
                        "bin_start": 149.526,
                        "bin_end": 299.008,
                        "count": 10
                      },
                      {
                        "bin_start": 299.008,
                        "bin_end": 448.49,
                        "count": 2
                      },
                      {
                        "bin_start": 448.49,
                        "bin_end": 597.972,
                        "count": 1
                      },
                      {
                        "bin_start": 597.972,
                        "bin_end": 747.454,
                        "count": 0
                      },
                      {
                        "bin_start": 747.454,
                        "bin_end": 896.936,
                        "count": 0
                      },
                      {
                        "bin_start": 896.936,
                        "bin_end": 1046.4180000000001,
                        "count": 0
                      },
                      {
                        "bin_start": 1046.4180000000001,
                        "bin_end": 1195.9,
                        "count": 0
                      },
                      {
                        "bin_start": 1195.9,
                        "bin_end": 1345.382,
                        "count": 0
                      },
                      {
                        "bin_start": 1345.382,
                        "bin_end": 1494.864,
                        "count": 1
                      }
                    ]
                  }
                },
                {
                  "name": "average_entertainment",
                  "dtype": "float64",
                  "stats": {
                    "unique_count": 791,
                    "nan_count": 423,
                    "min": 1.014,
                    "max": 1650.744,
                    "histogram": [
                      {
                        "bin_start": 1.014,
                        "bin_end": 165.98700000000002,
                        "count": 666
                      },
                      {
                        "bin_start": 165.98700000000002,
                        "bin_end": 330.96000000000004,
                        "count": 84
                      },
                      {
                        "bin_start": 330.96000000000004,
                        "bin_end": 495.93300000000005,
                        "count": 23
                      },
                      {
                        "bin_start": 495.93300000000005,
                        "bin_end": 660.9060000000001,
                        "count": 8
                      },
                      {
                        "bin_start": 660.9060000000001,
                        "bin_end": 825.879,
                        "count": 2
                      },
                      {
                        "bin_start": 825.879,
                        "bin_end": 990.8520000000001,
                        "count": 4
                      },
                      {
                        "bin_start": 990.8520000000001,
                        "bin_end": 1155.825,
                        "count": 2
                      },
                      {
                        "bin_start": 1155.825,
                        "bin_end": 1320.798,
                        "count": 2
                      },
                      {
                        "bin_start": 1320.798,
                        "bin_end": 1485.771,
                        "count": 0
                      },
                      {
                        "bin_start": 1485.771,
                        "bin_end": 1650.744,
                        "count": 1
                      }
                    ]
                  }
                },
                {
                  "name": "average_game",
                  "dtype": "float64",
                  "stats": {
                    "unique_count": 177,
                    "nan_count": 1036,
                    "min": 1.01,
                    "max": 2562.907,
                    "histogram": [
                      {
                        "bin_start": 1.01,
                        "bin_end": 257.1997,
                        "count": 148
                      },
                      {
                        "bin_start": 257.1997,
                        "bin_end": 513.3894,
                        "count": 16
                      },
                      {
                        "bin_start": 513.3894,
                        "bin_end": 769.5791,
                        "count": 10
                      },
                      {
                        "bin_start": 769.5791,
                        "bin_end": 1025.7688,
                        "count": 4
                      },
                      {
                        "bin_start": 1025.7688,
                        "bin_end": 1281.9585,
                        "count": 0
                      },
                      {
                        "bin_start": 1281.9585,
                        "bin_end": 1538.1482,
                        "count": 0
                      },
                      {
                        "bin_start": 1538.1482,
                        "bin_end": 1794.3379000000002,
                        "count": 0
                      },
                      {
                        "bin_start": 1794.3379000000002,
                        "bin_end": 2050.5276000000003,
                        "count": 0
                      },
                      {
                        "bin_start": 2050.5276000000003,
                        "bin_end": 2306.7173000000003,
                        "count": 0
                      },
                      {
                        "bin_start": 2306.7173000000003,
                        "bin_end": 2562.907,
                        "count": 1
                      }
                    ]
                  }
                },
                {
                  "name": "_deepnote_index_column",
                  "dtype": "int64"
                }
              ],
              "rows_top": [
                {
                  "unique_id": "2014-02-26_AS14.01",
                  "id": "AS14.01",
                  "date": "2014-02-26",
                  "average_mood": 6.25,
                  "total_calls": "nan",
                  "total_sms": "nan",
                  "average_com": "nan",
                  "mood_next_day": 6.25,
                  "average_soc": "nan",
                  "average_valence": "0.75",
                  "average_arousal": "-0.25",
                  "average_finance": "nan",
                  "average_office": "nan",
                  "average_entertainment": "nan",
                  "average_game": "nan",
                  "_deepnote_index_column": 0
                },
                {
                  "unique_id": "2014-03-21_AS14.01",
                  "id": "AS14.01",
                  "date": "2014-03-21",
                  "average_mood": 6.25,
                  "total_calls": "6.0",
                  "total_sms": "nan",
                  "average_com": "55.0955263157895",
                  "mood_next_day": 6.4,
                  "average_soc": "75.14166666666668",
                  "average_valence": "0.2",
                  "average_arousal": "0.2",
                  "average_finance": "6.1930000000000005",
                  "average_office": "57.40200000000001",
                  "average_entertainment": "53.024",
                  "average_game": "nan",
                  "_deepnote_index_column": 1
                },
                {
                  "unique_id": "2014-03-22_AS14.01",
                  "id": "AS14.01",
                  "date": "2014-03-22",
                  "average_mood": 6.4,
                  "total_calls": "nan",
                  "total_sms": "nan",
                  "average_com": "51.697062500000015",
                  "mood_next_day": 6.8,
                  "average_soc": "36.63599999999999",
                  "average_valence": "nan",
                  "average_arousal": "0.6",
                  "average_finance": "7.025333333333333",
                  "average_office": "nan",
                  "average_entertainment": "46.662",
                  "average_game": "nan",
                  "_deepnote_index_column": 2
                },
                {
                  "unique_id": "2014-03-23_AS14.01",
                  "id": "AS14.01",
                  "date": "2014-03-23",
                  "average_mood": 6.8,
                  "total_calls": "nan",
                  "total_sms": "nan",
                  "average_com": "53.442030612244885",
                  "mood_next_day": 6,
                  "average_soc": "50.04661111111111",
                  "average_valence": "0.8",
                  "average_arousal": "0.2",
                  "average_finance": "10.85075",
                  "average_office": "nan",
                  "average_entertainment": "31.448666666666668",
                  "average_game": "nan",
                  "_deepnote_index_column": 3
                },
                {
                  "unique_id": "2014-03-24_AS14.01",
                  "id": "AS14.01",
                  "date": "2014-03-24",
                  "average_mood": 6,
                  "total_calls": "nan",
                  "total_sms": "nan",
                  "average_com": "47.54168717948718",
                  "mood_next_day": 6.75,
                  "average_soc": "74.96804651162789",
                  "average_valence": "0.0",
                  "average_arousal": "0.8",
                  "average_finance": "5.684333333333334",
                  "average_office": "3.01",
                  "average_entertainment": "122.121375",
                  "average_game": "nan",
                  "_deepnote_index_column": 4
                },
                {
                  "unique_id": "2014-03-25_AS14.01",
                  "id": "AS14.01",
                  "date": "2014-03-25",
                  "average_mood": 6.75,
                  "total_calls": "nan",
                  "total_sms": "nan",
                  "average_com": "69.43750675675675",
                  "mood_next_day": 6.6,
                  "average_soc": "68.55253571428571",
                  "average_valence": "0.5",
                  "average_arousal": "0.5",
                  "average_finance": "10.7635",
                  "average_office": "nan",
                  "average_entertainment": "34.103",
                  "average_game": "nan",
                  "_deepnote_index_column": 5
                },
                {
                  "unique_id": "2014-03-26_AS14.01",
                  "id": "AS14.01",
                  "date": "2014-03-26",
                  "average_mood": 6.6,
                  "total_calls": "nan",
                  "total_sms": "nan",
                  "average_com": "47.061534031413615",
                  "mood_next_day": 7,
                  "average_soc": "124.10970270270268",
                  "average_valence": "0.6",
                  "average_arousal": "-0.2",
                  "average_finance": "8.721833333333334",
                  "average_office": "nan",
                  "average_entertainment": "130.06842857142857",
                  "average_game": "nan",
                  "_deepnote_index_column": 6
                },
                {
                  "unique_id": "2014-03-27_AS14.01",
                  "id": "AS14.01",
                  "date": "2014-03-27",
                  "average_mood": 7,
                  "total_calls": "15.0",
                  "total_sms": "nan",
                  "average_com": "43.3532",
                  "mood_next_day": 6.4,
                  "average_soc": "71.95238461538462",
                  "average_valence": "0.8",
                  "average_arousal": "0.2",
                  "average_finance": "14.073",
                  "average_office": "15.20425",
                  "average_entertainment": "71.03766666666667",
                  "average_game": "nan",
                  "_deepnote_index_column": 7
                },
                {
                  "unique_id": "2014-03-28_AS14.01",
                  "id": "AS14.01",
                  "date": "2014-03-28",
                  "average_mood": 6.4,
                  "total_calls": "5.0",
                  "total_sms": "nan",
                  "average_com": "24.078694444444444",
                  "mood_next_day": 8,
                  "average_soc": "25.63705",
                  "average_valence": "0.6",
                  "average_arousal": "-0.6",
                  "average_finance": "12.738",
                  "average_office": "nan",
                  "average_entertainment": "91.40027272727274",
                  "average_game": "116.518",
                  "_deepnote_index_column": 8
                },
                {
                  "unique_id": "2014-03-29_AS14.01",
                  "id": "AS14.01",
                  "date": "2014-03-29",
                  "average_mood": 8,
                  "total_calls": "nan",
                  "total_sms": "nan",
                  "average_com": "47.73143859649123",
                  "mood_next_day": 7.5,
                  "average_soc": "59.111",
                  "average_valence": "1.0",
                  "average_arousal": "0.2",
                  "average_finance": "nan",
                  "average_office": "nan",
                  "average_entertainment": "108.49526666666668",
                  "average_game": "nan",
                  "_deepnote_index_column": 9
                },
                {
                  "unique_id": "2014-03-30_AS14.01",
                  "id": "AS14.01",
                  "date": "2014-03-30",
                  "average_mood": 7.5,
                  "total_calls": "nan",
                  "total_sms": "nan",
                  "average_com": "61.83357142857143",
                  "mood_next_day": 7.4,
                  "average_soc": "55.895",
                  "average_valence": "0.75",
                  "average_arousal": "-0.5",
                  "average_finance": "nan",
                  "average_office": "nan",
                  "average_entertainment": "170.63077777777778",
                  "average_game": "nan",
                  "_deepnote_index_column": 10
                },
                {
                  "unique_id": "2014-03-31_AS14.01",
                  "id": "AS14.01",
                  "date": "2014-03-31",
                  "average_mood": 7.4,
                  "total_calls": "10.0",
                  "total_sms": "nan",
                  "average_com": "41.33827131782945",
                  "mood_next_day": 6,
                  "average_soc": "56.277291666666656",
                  "average_valence": "0.6",
                  "average_arousal": "0.0",
                  "average_finance": "6.8758333333333335",
                  "average_office": "nan",
                  "average_entertainment": "51.73294117647058",
                  "average_game": "51.176",
                  "_deepnote_index_column": 11
                },
                {
                  "unique_id": "2014-04-01_AS14.01",
                  "id": "AS14.01",
                  "date": "2014-04-01",
                  "average_mood": 6,
                  "total_calls": "1.0",
                  "total_sms": "nan",
                  "average_com": "33.12785869565218",
                  "mood_next_day": 6.5,
                  "average_soc": "45.81879090909093",
                  "average_valence": "0.0",
                  "average_arousal": "0.2",
                  "average_finance": "15.21738888888889",
                  "average_office": "30.796000000000003",
                  "average_entertainment": "42.94320833333333",
                  "average_game": "78.247",
                  "_deepnote_index_column": 12
                },
                {
                  "unique_id": "2014-04-02_AS14.01",
                  "id": "AS14.01",
                  "date": "2014-04-02",
                  "average_mood": 6.5,
                  "total_calls": "4.0",
                  "total_sms": "nan",
                  "average_com": "33.75685853658536",
                  "mood_next_day": 6.4,
                  "average_soc": "64.69418867924529",
                  "average_valence": "nan",
                  "average_arousal": "nan",
                  "average_finance": "13.040894736842104",
                  "average_office": "90.481",
                  "average_entertainment": "46.32331034482758",
                  "average_game": "nan",
                  "_deepnote_index_column": 13
                },
                {
                  "unique_id": "2014-04-03_AS14.01",
                  "id": "AS14.01",
                  "date": "2014-04-03",
                  "average_mood": 6.4,
                  "total_calls": "4.0",
                  "total_sms": "nan",
                  "average_com": "46.42470096463021",
                  "mood_next_day": 6.2,
                  "average_soc": "44.4259295774648",
                  "average_valence": "0.0",
                  "average_arousal": "-1.2",
                  "average_finance": "25.41133333333333",
                  "average_office": "nan",
                  "average_entertainment": "49.75503846153846",
                  "average_game": "nan",
                  "_deepnote_index_column": 14
                },
                {
                  "unique_id": "2014-04-04_AS14.01",
                  "id": "AS14.01",
                  "date": "2014-04-04",
                  "average_mood": 6.2,
                  "total_calls": "nan",
                  "total_sms": "nan",
                  "average_com": "44.566081300813",
                  "mood_next_day": 6.8,
                  "average_soc": "71.93782758620691",
                  "average_valence": "0.4",
                  "average_arousal": "0.2",
                  "average_finance": "nan",
                  "average_office": "nan",
                  "average_entertainment": "96.5766875",
                  "average_game": "nan",
                  "_deepnote_index_column": 15
                },
                {
                  "unique_id": "2014-04-05_AS14.01",
                  "id": "AS14.01",
                  "date": "2014-04-05",
                  "average_mood": 6.8,
                  "total_calls": "nan",
                  "total_sms": "nan",
                  "average_com": "37.70818",
                  "mood_next_day": 6.5,
                  "average_soc": "45.401",
                  "average_valence": "0.6",
                  "average_arousal": "-0.4",
                  "average_finance": "nan",
                  "average_office": "nan",
                  "average_entertainment": "76.369",
                  "average_game": "nan",
                  "_deepnote_index_column": 16
                },
                {
                  "unique_id": "2014-04-06_AS14.01",
                  "id": "AS14.01",
                  "date": "2014-04-06",
                  "average_mood": 6.5,
                  "total_calls": "6.0",
                  "total_sms": "nan",
                  "average_com": "47.939185714285735",
                  "mood_next_day": 6.5,
                  "average_soc": "64.292",
                  "average_valence": "0.5",
                  "average_arousal": "-0.75",
                  "average_finance": "nan",
                  "average_office": "nan",
                  "average_entertainment": "93.607",
                  "average_game": "57.203",
                  "_deepnote_index_column": 17
                },
                {
                  "unique_id": "2014-04-07_AS14.01",
                  "id": "AS14.01",
                  "date": "2014-04-07",
                  "average_mood": 6.5,
                  "total_calls": "1.0",
                  "total_sms": "nan",
                  "average_com": "57.01562015503877",
                  "mood_next_day": 6.6,
                  "average_soc": "61.47575",
                  "average_valence": "0.25",
                  "average_arousal": "nan",
                  "average_finance": "9.2256",
                  "average_office": "17.107",
                  "average_entertainment": "74.52016666666667",
                  "average_game": "nan",
                  "_deepnote_index_column": 18
                },
                {
                  "unique_id": "2014-04-08_AS14.01",
                  "id": "AS14.01",
                  "date": "2014-04-08",
                  "average_mood": 6.6,
                  "total_calls": "1.0",
                  "total_sms": "nan",
                  "average_com": "49.10649222797928",
                  "mood_next_day": 7.4,
                  "average_soc": "59.00268888888889",
                  "average_valence": "nan",
                  "average_arousal": "-0.4",
                  "average_finance": "6.377",
                  "average_office": "nan",
                  "average_entertainment": "165.07042857142855",
                  "average_game": "nan",
                  "_deepnote_index_column": 19
                },
                {
                  "unique_id": "2014-04-09_AS14.01",
                  "id": "AS14.01",
                  "date": "2014-04-09",
                  "average_mood": 7.4,
                  "total_calls": "4.0",
                  "total_sms": "nan",
                  "average_com": "38.130098765432095",
                  "mood_next_day": 7.4,
                  "average_soc": "44.161718750000006",
                  "average_valence": "nan",
                  "average_arousal": "-0.8",
                  "average_finance": "nan",
                  "average_office": "nan",
                  "average_entertainment": "78.3975",
                  "average_game": "nan",
                  "_deepnote_index_column": 20
                },
                {
                  "unique_id": "2014-04-10_AS14.01",
                  "id": "AS14.01",
                  "date": "2014-04-10",
                  "average_mood": 7.4,
                  "total_calls": "nan",
                  "total_sms": "nan",
                  "average_com": "65.08548",
                  "mood_next_day": 7,
                  "average_soc": "39.15723333333335",
                  "average_valence": "0.8",
                  "average_arousal": "-0.4",
                  "average_finance": "nan",
                  "average_office": "23.195",
                  "average_entertainment": "154.90775000000002",
                  "average_game": "1.059",
                  "_deepnote_index_column": 21
                },
                {
                  "unique_id": "2014-04-11_AS14.01",
                  "id": "AS14.01",
                  "date": "2014-04-11",
                  "average_mood": 7,
                  "total_calls": "nan",
                  "total_sms": "nan",
                  "average_com": "27.57514049586778",
                  "mood_next_day": 7.25,
                  "average_soc": "45.90823076923077",
                  "average_valence": "0.8",
                  "average_arousal": "-1.2",
                  "average_finance": "15.682166666666667",
                  "average_office": "nan",
                  "average_entertainment": "123.508625",
                  "average_game": "nan",
                  "_deepnote_index_column": 22
                },
                {
                  "unique_id": "2014-04-12_AS14.01",
                  "id": "AS14.01",
                  "date": "2014-04-12",
                  "average_mood": 7.25,
                  "total_calls": "nan",
                  "total_sms": "nan",
                  "average_com": "143.37136956521735",
                  "mood_next_day": 8,
                  "average_soc": "44.072",
                  "average_valence": "0.75",
                  "average_arousal": "-0.75",
                  "average_finance": "nan",
                  "average_office": "nan",
                  "average_entertainment": "182.2068333333333",
                  "average_game": "nan",
                  "_deepnote_index_column": 23
                },
                {
                  "unique_id": "2014-04-13_AS14.01",
                  "id": "AS14.01",
                  "date": "2014-04-13",
                  "average_mood": 8,
                  "total_calls": "nan",
                  "total_sms": "nan",
                  "average_com": "47.686739130434766",
                  "mood_next_day": 7.2,
                  "average_soc": "17.250999999999998",
                  "average_valence": "1.0",
                  "average_arousal": "-1.25",
                  "average_finance": "9.157",
                  "average_office": "nan",
                  "average_entertainment": "62.348",
                  "average_game": "nan",
                  "_deepnote_index_column": 24
                },
                {
                  "unique_id": "2014-04-14_AS14.01",
                  "id": "AS14.01",
                  "date": "2014-04-14",
                  "average_mood": 7.2,
                  "total_calls": "8.0",
                  "total_sms": "8.0",
                  "average_com": "51.478444444444456",
                  "mood_next_day": 6.4,
                  "average_soc": "162.3325",
                  "average_valence": "0.6",
                  "average_arousal": "-1.2",
                  "average_finance": "14.887166666666667",
                  "average_office": "nan",
                  "average_entertainment": "216.05365517241376",
                  "average_game": "nan",
                  "_deepnote_index_column": 25
                },
                {
                  "unique_id": "2014-04-15_AS14.01",
                  "id": "AS14.01",
                  "date": "2014-04-15",
                  "average_mood": 6.4,
                  "total_calls": "nan",
                  "total_sms": "1.0",
                  "average_com": "40.681248366013065",
                  "mood_next_day": 7.2,
                  "average_soc": "100.6411363636364",
                  "average_valence": "0.8",
                  "average_arousal": "0.0",
                  "average_finance": "4.347666666666666",
                  "average_office": "nan",
                  "average_entertainment": "49.71168421052632",
                  "average_game": "nan",
                  "_deepnote_index_column": 26
                },
                {
                  "unique_id": "2014-04-16_AS14.01",
                  "id": "AS14.01",
                  "date": "2014-04-16",
                  "average_mood": 7.2,
                  "total_calls": "nan",
                  "total_sms": "nan",
                  "average_com": "36.9644",
                  "mood_next_day": 6.6,
                  "average_soc": "65.96041379310344",
                  "average_valence": "nan",
                  "average_arousal": "nan",
                  "average_finance": "nan",
                  "average_office": "nan",
                  "average_entertainment": "23.707444444444448",
                  "average_game": "nan",
                  "_deepnote_index_column": 27
                },
                {
                  "unique_id": "2014-04-17_AS14.01",
                  "id": "AS14.01",
                  "date": "2014-04-17",
                  "average_mood": 6.6,
                  "total_calls": "10.0",
                  "total_sms": "nan",
                  "average_com": "108.74622935779814",
                  "mood_next_day": 6.8,
                  "average_soc": "70.2382",
                  "average_valence": "0.6",
                  "average_arousal": "-0.4",
                  "average_finance": "nan",
                  "average_office": "nan",
                  "average_entertainment": "28.448200000000003",
                  "average_game": "nan",
                  "_deepnote_index_column": 28
                },
                {
                  "unique_id": "2014-04-18_AS14.01",
                  "id": "AS14.01",
                  "date": "2014-04-18",
                  "average_mood": 6.8,
                  "total_calls": "1.0",
                  "total_sms": "nan",
                  "average_com": "65.14215853658536",
                  "mood_next_day": 7.8,
                  "average_soc": "199.3922",
                  "average_valence": "0.8",
                  "average_arousal": "-0.8",
                  "average_finance": "17.023285714285713",
                  "average_office": "nan",
                  "average_entertainment": "86.03933333333333",
                  "average_game": "nan",
                  "_deepnote_index_column": 29
                },
                {
                  "unique_id": "2014-04-19_AS14.01",
                  "id": "AS14.01",
                  "date": "2014-04-19",
                  "average_mood": 7.8,
                  "total_calls": "1.0",
                  "total_sms": "nan",
                  "average_com": "35.43194805194805",
                  "mood_next_day": 7.25,
                  "average_soc": "36.06109090909092",
                  "average_valence": "1.0",
                  "average_arousal": "-0.2",
                  "average_finance": "15.938166666666667",
                  "average_office": "nan",
                  "average_entertainment": "78.21233333333333",
                  "average_game": "29.084",
                  "_deepnote_index_column": 30
                },
                {
                  "unique_id": "2014-04-20_AS14.01",
                  "id": "AS14.01",
                  "date": "2014-04-20",
                  "average_mood": 7.25,
                  "total_calls": "2.0",
                  "total_sms": "nan",
                  "average_com": "57.29567816091953",
                  "mood_next_day": 7.6,
                  "average_soc": "93.23924999999998",
                  "average_valence": "0.75",
                  "average_arousal": "-0.25",
                  "average_finance": "5.303",
                  "average_office": "nan",
                  "average_entertainment": "60.62433333333333",
                  "average_game": "nan",
                  "_deepnote_index_column": 31
                },
                {
                  "unique_id": "2014-04-21_AS14.01",
                  "id": "AS14.01",
                  "date": "2014-04-21",
                  "average_mood": 7.6,
                  "total_calls": "2.0",
                  "total_sms": "nan",
                  "average_com": "43.57276086956523",
                  "mood_next_day": 7.4,
                  "average_soc": "61.28171428571429",
                  "average_valence": "1.0",
                  "average_arousal": "nan",
                  "average_finance": "11.088666666666668",
                  "average_office": "nan",
                  "average_entertainment": "18.72",
                  "average_game": "nan",
                  "_deepnote_index_column": 32
                }
              ],
              "rows_bottom": [
                {
                  "unique_id": "2014-04-22_AS14.33",
                  "id": "AS14.33",
                  "date": "2014-04-22",
                  "average_mood": 6.2,
                  "total_calls": "9.0",
                  "total_sms": "nan",
                  "average_com": 46.916821428571424,
                  "mood_next_day": 5.2,
                  "average_soc": 91.80608333333336,
                  "average_valence": "-0.2",
                  "average_arousal": "-0.6",
                  "average_finance": "nan",
                  "average_office": "nan",
                  "average_entertainment": 131.33233333333334,
                  "average_game": "nan",
                  "_deepnote_index_column": 1182
                },
                {
                  "unique_id": "2014-04-23_AS14.33",
                  "id": "AS14.33",
                  "date": "2014-04-23",
                  "average_mood": 5.2,
                  "total_calls": "1.0",
                  "total_sms": "nan",
                  "average_com": 30.690777777777782,
                  "mood_next_day": 7,
                  "average_soc": 140.56908823529417,
                  "average_valence": "-0.6",
                  "average_arousal": "-0.2",
                  "average_finance": "nan",
                  "average_office": "nan",
                  "average_entertainment": 134.04333333333335,
                  "average_game": "nan",
                  "_deepnote_index_column": 1183
                },
                {
                  "unique_id": "2014-04-24_AS14.33",
                  "id": "AS14.33",
                  "date": "2014-04-24",
                  "average_mood": 7,
                  "total_calls": "5.0",
                  "total_sms": "5.0",
                  "average_com": 52.47904166666666,
                  "mood_next_day": 8.4,
                  "average_soc": 80.1635652173913,
                  "average_valence": "1.0",
                  "average_arousal": "-0.25",
                  "average_finance": "nan",
                  "average_office": "nan",
                  "average_entertainment": 86.14822222222222,
                  "average_game": "nan",
                  "_deepnote_index_column": 1184
                },
                {
                  "unique_id": "2014-04-25_AS14.33",
                  "id": "AS14.33",
                  "date": "2014-04-25",
                  "average_mood": 8.4,
                  "total_calls": "31.0",
                  "total_sms": "2.0",
                  "average_com": 28.73631914893617,
                  "mood_next_day": 7.6,
                  "average_soc": 45.21737704918032,
                  "average_valence": "nan",
                  "average_arousal": "0.8",
                  "average_finance": "nan",
                  "average_office": "nan",
                  "average_entertainment": 134.67675,
                  "average_game": "nan",
                  "_deepnote_index_column": 1185
                },
                {
                  "unique_id": "2014-04-26_AS14.33",
                  "id": "AS14.33",
                  "date": "2014-04-26",
                  "average_mood": 7.6,
                  "total_calls": "18.0",
                  "total_sms": "nan",
                  "average_com": 30.114727272727272,
                  "mood_next_day": 6.2,
                  "average_soc": 51.19739344262295,
                  "average_valence": "1.0",
                  "average_arousal": "0.4",
                  "average_finance": "nan",
                  "average_office": "nan",
                  "average_entertainment": 75.35533333333333,
                  "average_game": "nan",
                  "_deepnote_index_column": 1186
                },
                {
                  "unique_id": "2014-04-27_AS14.33",
                  "id": "AS14.33",
                  "date": "2014-04-27",
                  "average_mood": 6.2,
                  "total_calls": "4.0",
                  "total_sms": "nan",
                  "average_com": 64.68579166666665,
                  "mood_next_day": 6.75,
                  "average_soc": 135.49050819672132,
                  "average_valence": "0.4",
                  "average_arousal": "-1.2",
                  "average_finance": "nan",
                  "average_office": "nan",
                  "average_entertainment": 151.0524545454546,
                  "average_game": "nan",
                  "_deepnote_index_column": 1187
                },
                {
                  "unique_id": "2014-04-28_AS14.33",
                  "id": "AS14.33",
                  "date": "2014-04-28",
                  "average_mood": 6.75,
                  "total_calls": "2.0",
                  "total_sms": "5.0",
                  "average_com": 70.9519090909091,
                  "mood_next_day": 6.2,
                  "average_soc": 70.12939000000001,
                  "average_valence": "0.75",
                  "average_arousal": "-1.25",
                  "average_finance": "nan",
                  "average_office": "nan",
                  "average_entertainment": 156.3201666666667,
                  "average_game": "nan",
                  "_deepnote_index_column": 1188
                },
                {
                  "unique_id": "2014-04-29_AS14.33",
                  "id": "AS14.33",
                  "date": "2014-04-29",
                  "average_mood": 6.2,
                  "total_calls": "3.0",
                  "total_sms": "nan",
                  "average_com": 37.49181818181819,
                  "mood_next_day": 6.4,
                  "average_soc": 81.46556578947367,
                  "average_valence": "0.4",
                  "average_arousal": "-0.4",
                  "average_finance": "nan",
                  "average_office": "nan",
                  "average_entertainment": 65.97538461538463,
                  "average_game": "nan",
                  "_deepnote_index_column": 1189
                },
                {
                  "unique_id": "2014-04-30_AS14.33",
                  "id": "AS14.33",
                  "date": "2014-04-30",
                  "average_mood": 6.4,
                  "total_calls": "1.0",
                  "total_sms": "nan",
                  "average_com": 35.329947368421045,
                  "mood_next_day": 7.5,
                  "average_soc": 96.54433333333331,
                  "average_valence": "nan",
                  "average_arousal": "-1.0",
                  "average_finance": "nan",
                  "average_office": "nan",
                  "average_entertainment": 149.64666666666668,
                  "average_game": "nan",
                  "_deepnote_index_column": 1190
                },
                {
                  "unique_id": "2014-05-04_AS14.33",
                  "id": "AS14.33",
                  "date": "2014-05-04",
                  "average_mood": 7.5,
                  "total_calls": "11.0",
                  "total_sms": "nan",
                  "average_com": 38.915625,
                  "mood_next_day": 6.125,
                  "average_soc": 74.07040740740742,
                  "average_valence": "1.0",
                  "average_arousal": "0.0",
                  "average_finance": "nan",
                  "average_office": "nan",
                  "average_entertainment": 45.66690909090909,
                  "average_game": "nan",
                  "_deepnote_index_column": 1191
                },
                {
                  "unique_id": "2014-05-07_AS14.33",
                  "id": "AS14.33",
                  "date": "2014-05-07",
                  "average_mood": 6.125,
                  "total_calls": "1.0",
                  "total_sms": "nan",
                  "average_com": 7.083,
                  "mood_next_day": 6.6,
                  "average_soc": 133.237,
                  "average_valence": "-0.5",
                  "average_arousal": "-0.25",
                  "average_finance": "nan",
                  "average_office": "nan",
                  "average_entertainment": 93.74116666666664,
                  "average_game": "nan",
                  "_deepnote_index_column": 1192
                },
                {
                  "unique_id": "2014-05-08_AS14.33",
                  "id": "AS14.33",
                  "date": "2014-05-08",
                  "average_mood": 6.6,
                  "total_calls": "nan",
                  "total_sms": "nan",
                  "average_com": 63.08873333333332,
                  "mood_next_day": 4.8,
                  "average_soc": 158.47776315789474,
                  "average_valence": "0.4",
                  "average_arousal": "-0.8",
                  "average_finance": "nan",
                  "average_office": "nan",
                  "average_entertainment": 85.939125,
                  "average_game": "nan",
                  "_deepnote_index_column": 1193
                },
                {
                  "unique_id": "2014-05-09_AS14.33",
                  "id": "AS14.33",
                  "date": "2014-05-09",
                  "average_mood": 4.8,
                  "total_calls": "nan",
                  "total_sms": "nan",
                  "average_com": 62.00627272727272,
                  "mood_next_day": 7.6,
                  "average_soc": 157.38062499999998,
                  "average_valence": "-0.2",
                  "average_arousal": "0.2",
                  "average_finance": "nan",
                  "average_office": "nan",
                  "average_entertainment": 74.16936363636363,
                  "average_game": "nan",
                  "_deepnote_index_column": 1194
                },
                {
                  "unique_id": "2014-05-10_AS14.33",
                  "id": "AS14.33",
                  "date": "2014-05-10",
                  "average_mood": 7.6,
                  "total_calls": "nan",
                  "total_sms": "nan",
                  "average_com": 18.080583333333337,
                  "mood_next_day": 6,
                  "average_soc": 46.36496428571429,
                  "average_valence": "1.0",
                  "average_arousal": "-0.4",
                  "average_finance": "nan",
                  "average_office": "nan",
                  "average_entertainment": 67.08522222222223,
                  "average_game": "nan",
                  "_deepnote_index_column": 1195
                },
                {
                  "unique_id": "2014-05-11_AS14.33",
                  "id": "AS14.33",
                  "date": "2014-05-11",
                  "average_mood": 6,
                  "total_calls": "nan",
                  "total_sms": "nan",
                  "average_com": 36.03921428571429,
                  "mood_next_day": 6,
                  "average_soc": 109.34063157894737,
                  "average_valence": "0.4",
                  "average_arousal": "0.0",
                  "average_finance": "nan",
                  "average_office": "6.036",
                  "average_entertainment": 29.80308333333333,
                  "average_game": "nan",
                  "_deepnote_index_column": 1196
                },
                {
                  "unique_id": "2014-05-12_AS14.33",
                  "id": "AS14.33",
                  "date": "2014-05-12",
                  "average_mood": 6,
                  "total_calls": "13.0",
                  "total_sms": "nan",
                  "average_com": 71.05900000000001,
                  "mood_next_day": 5,
                  "average_soc": 96.1325476190476,
                  "average_valence": "0.5",
                  "average_arousal": "-0.75",
                  "average_finance": "nan",
                  "average_office": "nan",
                  "average_entertainment": 59.3545,
                  "average_game": "nan",
                  "_deepnote_index_column": 1197
                },
                {
                  "unique_id": "2014-05-13_AS14.33",
                  "id": "AS14.33",
                  "date": "2014-05-13",
                  "average_mood": 5,
                  "total_calls": "nan",
                  "total_sms": "nan",
                  "average_com": 117.31816216216212,
                  "mood_next_day": 6.833333333333333,
                  "average_soc": 70.49519148936172,
                  "average_valence": "0.0",
                  "average_arousal": "0.5",
                  "average_finance": "nan",
                  "average_office": "nan",
                  "average_entertainment": 102.67525,
                  "average_game": "nan",
                  "_deepnote_index_column": 1198
                },
                {
                  "unique_id": "2014-05-14_AS14.33",
                  "id": "AS14.33",
                  "date": "2014-05-14",
                  "average_mood": 6.833333333333333,
                  "total_calls": "nan",
                  "total_sms": "nan",
                  "average_com": 26.813666666666663,
                  "mood_next_day": 6,
                  "average_soc": 220.86894117647057,
                  "average_valence": "nan",
                  "average_arousal": "-0.3333333333333333",
                  "average_finance": "nan",
                  "average_office": "nan",
                  "average_entertainment": 136.70175,
                  "average_game": "nan",
                  "_deepnote_index_column": 1199
                },
                {
                  "unique_id": "2014-05-15_AS14.33",
                  "id": "AS14.33",
                  "date": "2014-05-15",
                  "average_mood": 6,
                  "total_calls": "8.0",
                  "total_sms": "nan",
                  "average_com": 46.31244,
                  "mood_next_day": 7,
                  "average_soc": 83.54154117647063,
                  "average_valence": "nan",
                  "average_arousal": "0.0",
                  "average_finance": "nan",
                  "average_office": "nan",
                  "average_entertainment": 43.55570588235295,
                  "average_game": "nan",
                  "_deepnote_index_column": 1200
                },
                {
                  "unique_id": "2014-05-16_AS14.33",
                  "id": "AS14.33",
                  "date": "2014-05-16",
                  "average_mood": 7,
                  "total_calls": "11.0",
                  "total_sms": "nan",
                  "average_com": 41.621538461538464,
                  "mood_next_day": 6,
                  "average_soc": 67.17041463414633,
                  "average_valence": "nan",
                  "average_arousal": "0.4",
                  "average_finance": "nan",
                  "average_office": "nan",
                  "average_entertainment": 47.19935714285714,
                  "average_game": "nan",
                  "_deepnote_index_column": 1201
                },
                {
                  "unique_id": "2014-05-17_AS14.33",
                  "id": "AS14.33",
                  "date": "2014-05-17",
                  "average_mood": 6,
                  "total_calls": "nan",
                  "total_sms": "nan",
                  "average_com": 28.5698,
                  "mood_next_day": 6,
                  "average_soc": 86.96725,
                  "average_valence": "nan",
                  "average_arousal": "0.25",
                  "average_finance": "nan",
                  "average_office": "nan",
                  "average_entertainment": 49.18555555555555,
                  "average_game": "nan",
                  "_deepnote_index_column": 1202
                },
                {
                  "unique_id": "2014-05-18_AS14.33",
                  "id": "AS14.33",
                  "date": "2014-05-18",
                  "average_mood": 6,
                  "total_calls": "nan",
                  "total_sms": "nan",
                  "average_com": 85.93733333333331,
                  "mood_next_day": 6.2,
                  "average_soc": 118.61031506849316,
                  "average_valence": "0.2",
                  "average_arousal": "-0.6",
                  "average_finance": "nan",
                  "average_office": "nan",
                  "average_entertainment": 63.26666666666665,
                  "average_game": "nan",
                  "_deepnote_index_column": 1203
                },
                {
                  "unique_id": "2014-05-19_AS14.33",
                  "id": "AS14.33",
                  "date": "2014-05-19",
                  "average_mood": 6.2,
                  "total_calls": "nan",
                  "total_sms": "nan",
                  "average_com": 33.11727272727273,
                  "mood_next_day": 6.25,
                  "average_soc": 125.02726923076924,
                  "average_valence": "0.2",
                  "average_arousal": "-0.2",
                  "average_finance": "nan",
                  "average_office": "nan",
                  "average_entertainment": 106.978,
                  "average_game": "nan",
                  "_deepnote_index_column": 1204
                },
                {
                  "unique_id": "2014-05-20_AS14.33",
                  "id": "AS14.33",
                  "date": "2014-05-20",
                  "average_mood": 6.25,
                  "total_calls": "nan",
                  "total_sms": "nan",
                  "average_com": 96.38788888888888,
                  "mood_next_day": 6,
                  "average_soc": 155.1499189189189,
                  "average_valence": "0.5",
                  "average_arousal": "-0.5",
                  "average_finance": "nan",
                  "average_office": "nan",
                  "average_entertainment": 131.26640000000003,
                  "average_game": "nan",
                  "_deepnote_index_column": 1205
                },
                {
                  "unique_id": "2014-05-21_AS14.33",
                  "id": "AS14.33",
                  "date": "2014-05-21",
                  "average_mood": 6,
                  "total_calls": "nan",
                  "total_sms": "nan",
                  "average_com": 69.80430769230769,
                  "mood_next_day": 5.75,
                  "average_soc": 121.85502,
                  "average_valence": "nan",
                  "average_arousal": "-0.6666666666666666",
                  "average_finance": "nan",
                  "average_office": "nan",
                  "average_entertainment": 71.1068,
                  "average_game": "nan",
                  "_deepnote_index_column": 1206
                },
                {
                  "unique_id": "2014-05-22_AS14.33",
                  "id": "AS14.33",
                  "date": "2014-05-22",
                  "average_mood": 5.75,
                  "total_calls": "8.0",
                  "total_sms": "nan",
                  "average_com": 45.43628571428571,
                  "mood_next_day": 5.833333333333333,
                  "average_soc": 52.22394594594596,
                  "average_valence": "0.25",
                  "average_arousal": "0.5",
                  "average_finance": "nan",
                  "average_office": "nan",
                  "average_entertainment": 90.15833333333332,
                  "average_game": "nan",
                  "_deepnote_index_column": 1207
                },
                {
                  "unique_id": "2014-05-23_AS14.33",
                  "id": "AS14.33",
                  "date": "2014-05-23",
                  "average_mood": 5.833333333333333,
                  "total_calls": "nan",
                  "total_sms": "nan",
                  "average_com": 37.2525909090909,
                  "mood_next_day": 6.4,
                  "average_soc": 195.19069696969697,
                  "average_valence": "0.0",
                  "average_arousal": "-0.8333333333333334",
                  "average_finance": "nan",
                  "average_office": "nan",
                  "average_entertainment": 257.548,
                  "average_game": "nan",
                  "_deepnote_index_column": 1208
                },
                {
                  "unique_id": "2014-05-24_AS14.33",
                  "id": "AS14.33",
                  "date": "2014-05-24",
                  "average_mood": 6.4,
                  "total_calls": "nan",
                  "total_sms": "nan",
                  "average_com": 41.9242962962963,
                  "mood_next_day": 6.25,
                  "average_soc": 107.59092452830193,
                  "average_valence": "nan",
                  "average_arousal": "nan",
                  "average_finance": "nan",
                  "average_office": "nan",
                  "average_entertainment": 80.71535714285713,
                  "average_game": "nan",
                  "_deepnote_index_column": 1209
                },
                {
                  "unique_id": "2014-05-25_AS14.33",
                  "id": "AS14.33",
                  "date": "2014-05-25",
                  "average_mood": 6.25,
                  "total_calls": "3.0",
                  "total_sms": "8.0",
                  "average_com": 34.82986666666666,
                  "mood_next_day": 5.4,
                  "average_soc": 45.53446031746032,
                  "average_valence": "nan",
                  "average_arousal": "-0.75",
                  "average_finance": "nan",
                  "average_office": "nan",
                  "average_entertainment": 64.73866666666667,
                  "average_game": "nan",
                  "_deepnote_index_column": 1210
                },
                {
                  "unique_id": "2014-05-26_AS14.33",
                  "id": "AS14.33",
                  "date": "2014-05-26",
                  "average_mood": 5.4,
                  "total_calls": "10.0",
                  "total_sms": "3.0",
                  "average_com": 34.32047222222222,
                  "mood_next_day": 6.2,
                  "average_soc": 111.04620408163264,
                  "average_valence": "0.0",
                  "average_arousal": "-0.4",
                  "average_finance": "nan",
                  "average_office": "130.53",
                  "average_entertainment": 68.8769,
                  "average_game": "nan",
                  "_deepnote_index_column": 1211
                },
                {
                  "unique_id": "2014-05-27_AS14.33",
                  "id": "AS14.33",
                  "date": "2014-05-27",
                  "average_mood": 6.2,
                  "total_calls": "1.0",
                  "total_sms": "2.0",
                  "average_com": 59.38294285714287,
                  "mood_next_day": 8.2,
                  "average_soc": 50.2591,
                  "average_valence": "0.4",
                  "average_arousal": "-0.6",
                  "average_finance": "nan",
                  "average_office": "nan",
                  "average_entertainment": 62.347,
                  "average_game": "nan",
                  "_deepnote_index_column": 1212
                },
                {
                  "unique_id": "2014-05-28_AS14.33",
                  "id": "AS14.33",
                  "date": "2014-05-28",
                  "average_mood": 8.2,
                  "total_calls": "10.0",
                  "total_sms": "1.0",
                  "average_com": 37.23875,
                  "mood_next_day": 7,
                  "average_soc": 99.2816851851852,
                  "average_valence": "1.2",
                  "average_arousal": "0.0",
                  "average_finance": "nan",
                  "average_office": "nan",
                  "average_entertainment": 43.90757142857144,
                  "average_game": "nan",
                  "_deepnote_index_column": 1213
                },
                {
                  "unique_id": "2014-05-29_AS14.33",
                  "id": "AS14.33",
                  "date": "2014-05-29",
                  "average_mood": 7,
                  "total_calls": "5.0",
                  "total_sms": "nan",
                  "average_com": 54.388125,
                  "mood_next_day": 6.8,
                  "average_soc": 198.88022222222224,
                  "average_valence": "1.0",
                  "average_arousal": "-1.3333333333333333",
                  "average_finance": "nan",
                  "average_office": "nan",
                  "average_entertainment": 68.369,
                  "average_game": "nan",
                  "_deepnote_index_column": 1214
                }
              ]
            },
            "text/plain": "               unique_id       id        date  average_mood  total_calls  \\\n0     2014-02-26_AS14.01  AS14.01  2014-02-26          6.25          NaN   \n1     2014-03-21_AS14.01  AS14.01  2014-03-21          6.25          6.0   \n2     2014-03-22_AS14.01  AS14.01  2014-03-22          6.40          NaN   \n3     2014-03-23_AS14.01  AS14.01  2014-03-23          6.80          NaN   \n4     2014-03-24_AS14.01  AS14.01  2014-03-24          6.00          NaN   \n...                  ...      ...         ...           ...          ...   \n1210  2014-05-25_AS14.33  AS14.33  2014-05-25          6.25          3.0   \n1211  2014-05-26_AS14.33  AS14.33  2014-05-26          5.40         10.0   \n1212  2014-05-27_AS14.33  AS14.33  2014-05-27          6.20          1.0   \n1213  2014-05-28_AS14.33  AS14.33  2014-05-28          8.20         10.0   \n1214  2014-05-29_AS14.33  AS14.33  2014-05-29          7.00          5.0   \n\n      total_sms  average_com  mood_next_day  average_soc  average_valence  \\\n0           NaN          NaN           6.25          NaN             0.75   \n1           NaN    55.095526           6.40    75.141667             0.20   \n2           NaN    51.697063           6.80    36.636000              NaN   \n3           NaN    53.442031           6.00    50.046611             0.80   \n4           NaN    47.541687           6.75    74.968047             0.00   \n...         ...          ...            ...          ...              ...   \n1210        8.0    34.829867           5.40    45.534460              NaN   \n1211        3.0    34.320472           6.20   111.046204             0.00   \n1212        2.0    59.382943           8.20    50.259100             0.40   \n1213        1.0    37.238750           7.00    99.281685             1.20   \n1214        NaN    54.388125           6.80   198.880222             1.00   \n\n      average_arousal  average_finance  average_office  average_entertainment  \\\n0           -0.250000              NaN             NaN                    NaN   \n1            0.200000         6.193000          57.402              53.024000   \n2            0.600000         7.025333             NaN              46.662000   \n3            0.200000        10.850750             NaN              31.448667   \n4            0.800000         5.684333           3.010             122.121375   \n...               ...              ...             ...                    ...   \n1210        -0.750000              NaN             NaN              64.738667   \n1211        -0.400000              NaN         130.530              68.876900   \n1212        -0.600000              NaN             NaN              62.347000   \n1213         0.000000              NaN             NaN              43.907571   \n1214        -1.333333              NaN             NaN              68.369000   \n\n      average_game  \n0              NaN  \n1              NaN  \n2              NaN  \n3              NaN  \n4              NaN  \n...            ...  \n1210           NaN  \n1211           NaN  \n1212           NaN  \n1213           NaN  \n1214           NaN  \n\n[1215 rows x 15 columns]",
            "text/html": "<div>\n<style scoped>\n    .dataframe tbody tr th:only-of-type {\n        vertical-align: middle;\n    }\n\n    .dataframe tbody tr th {\n        vertical-align: top;\n    }\n\n    .dataframe thead th {\n        text-align: right;\n    }\n</style>\n<table border=\"1\" class=\"dataframe\">\n  <thead>\n    <tr style=\"text-align: right;\">\n      <th></th>\n      <th>unique_id</th>\n      <th>id</th>\n      <th>date</th>\n      <th>average_mood</th>\n      <th>total_calls</th>\n      <th>total_sms</th>\n      <th>average_com</th>\n      <th>mood_next_day</th>\n      <th>average_soc</th>\n      <th>average_valence</th>\n      <th>average_arousal</th>\n      <th>average_finance</th>\n      <th>average_office</th>\n      <th>average_entertainment</th>\n      <th>average_game</th>\n    </tr>\n  </thead>\n  <tbody>\n    <tr>\n      <th>0</th>\n      <td>2014-02-26_AS14.01</td>\n      <td>AS14.01</td>\n      <td>2014-02-26</td>\n      <td>6.25</td>\n      <td>NaN</td>\n      <td>NaN</td>\n      <td>NaN</td>\n      <td>6.25</td>\n      <td>NaN</td>\n      <td>0.75</td>\n      <td>-0.250000</td>\n      <td>NaN</td>\n      <td>NaN</td>\n      <td>NaN</td>\n      <td>NaN</td>\n    </tr>\n    <tr>\n      <th>1</th>\n      <td>2014-03-21_AS14.01</td>\n      <td>AS14.01</td>\n      <td>2014-03-21</td>\n      <td>6.25</td>\n      <td>6.0</td>\n      <td>NaN</td>\n      <td>55.095526</td>\n      <td>6.40</td>\n      <td>75.141667</td>\n      <td>0.20</td>\n      <td>0.200000</td>\n      <td>6.193000</td>\n      <td>57.402</td>\n      <td>53.024000</td>\n      <td>NaN</td>\n    </tr>\n    <tr>\n      <th>2</th>\n      <td>2014-03-22_AS14.01</td>\n      <td>AS14.01</td>\n      <td>2014-03-22</td>\n      <td>6.40</td>\n      <td>NaN</td>\n      <td>NaN</td>\n      <td>51.697063</td>\n      <td>6.80</td>\n      <td>36.636000</td>\n      <td>NaN</td>\n      <td>0.600000</td>\n      <td>7.025333</td>\n      <td>NaN</td>\n      <td>46.662000</td>\n      <td>NaN</td>\n    </tr>\n    <tr>\n      <th>3</th>\n      <td>2014-03-23_AS14.01</td>\n      <td>AS14.01</td>\n      <td>2014-03-23</td>\n      <td>6.80</td>\n      <td>NaN</td>\n      <td>NaN</td>\n      <td>53.442031</td>\n      <td>6.00</td>\n      <td>50.046611</td>\n      <td>0.80</td>\n      <td>0.200000</td>\n      <td>10.850750</td>\n      <td>NaN</td>\n      <td>31.448667</td>\n      <td>NaN</td>\n    </tr>\n    <tr>\n      <th>4</th>\n      <td>2014-03-24_AS14.01</td>\n      <td>AS14.01</td>\n      <td>2014-03-24</td>\n      <td>6.00</td>\n      <td>NaN</td>\n      <td>NaN</td>\n      <td>47.541687</td>\n      <td>6.75</td>\n      <td>74.968047</td>\n      <td>0.00</td>\n      <td>0.800000</td>\n      <td>5.684333</td>\n      <td>3.010</td>\n      <td>122.121375</td>\n      <td>NaN</td>\n    </tr>\n    <tr>\n      <th>...</th>\n      <td>...</td>\n      <td>...</td>\n      <td>...</td>\n      <td>...</td>\n      <td>...</td>\n      <td>...</td>\n      <td>...</td>\n      <td>...</td>\n      <td>...</td>\n      <td>...</td>\n      <td>...</td>\n      <td>...</td>\n      <td>...</td>\n      <td>...</td>\n      <td>...</td>\n    </tr>\n    <tr>\n      <th>1210</th>\n      <td>2014-05-25_AS14.33</td>\n      <td>AS14.33</td>\n      <td>2014-05-25</td>\n      <td>6.25</td>\n      <td>3.0</td>\n      <td>8.0</td>\n      <td>34.829867</td>\n      <td>5.40</td>\n      <td>45.534460</td>\n      <td>NaN</td>\n      <td>-0.750000</td>\n      <td>NaN</td>\n      <td>NaN</td>\n      <td>64.738667</td>\n      <td>NaN</td>\n    </tr>\n    <tr>\n      <th>1211</th>\n      <td>2014-05-26_AS14.33</td>\n      <td>AS14.33</td>\n      <td>2014-05-26</td>\n      <td>5.40</td>\n      <td>10.0</td>\n      <td>3.0</td>\n      <td>34.320472</td>\n      <td>6.20</td>\n      <td>111.046204</td>\n      <td>0.00</td>\n      <td>-0.400000</td>\n      <td>NaN</td>\n      <td>130.530</td>\n      <td>68.876900</td>\n      <td>NaN</td>\n    </tr>\n    <tr>\n      <th>1212</th>\n      <td>2014-05-27_AS14.33</td>\n      <td>AS14.33</td>\n      <td>2014-05-27</td>\n      <td>6.20</td>\n      <td>1.0</td>\n      <td>2.0</td>\n      <td>59.382943</td>\n      <td>8.20</td>\n      <td>50.259100</td>\n      <td>0.40</td>\n      <td>-0.600000</td>\n      <td>NaN</td>\n      <td>NaN</td>\n      <td>62.347000</td>\n      <td>NaN</td>\n    </tr>\n    <tr>\n      <th>1213</th>\n      <td>2014-05-28_AS14.33</td>\n      <td>AS14.33</td>\n      <td>2014-05-28</td>\n      <td>8.20</td>\n      <td>10.0</td>\n      <td>1.0</td>\n      <td>37.238750</td>\n      <td>7.00</td>\n      <td>99.281685</td>\n      <td>1.20</td>\n      <td>0.000000</td>\n      <td>NaN</td>\n      <td>NaN</td>\n      <td>43.907571</td>\n      <td>NaN</td>\n    </tr>\n    <tr>\n      <th>1214</th>\n      <td>2014-05-29_AS14.33</td>\n      <td>AS14.33</td>\n      <td>2014-05-29</td>\n      <td>7.00</td>\n      <td>5.0</td>\n      <td>NaN</td>\n      <td>54.388125</td>\n      <td>6.80</td>\n      <td>198.880222</td>\n      <td>1.00</td>\n      <td>-1.333333</td>\n      <td>NaN</td>\n      <td>NaN</td>\n      <td>68.369000</td>\n      <td>NaN</td>\n    </tr>\n  </tbody>\n</table>\n<p>1215 rows × 15 columns</p>\n</div>"
          },
          "metadata": {}
        }
      ]
    },
    {
      "cell_type": "code",
      "metadata": {
        "tags": [],
        "cell_id": "00002-5831b97a-3ea3-4e1e-a038-33bc4d88389f",
        "deepnote_to_be_reexecuted": false,
        "source_hash": "f6d90ec7",
        "execution_millis": 57,
        "execution_start": 1617971188564,
        "deepnote_cell_type": "code"
      },
      "source": "df.isnull().sum(axis=0)",
      "execution_count": null,
      "outputs": [
        {
          "output_type": "execute_result",
          "execution_count": 8,
          "data": {
            "text/plain": "unique_id                   0\nid                          0\ndate                        0\naverage_mood                0\ntotal_calls               693\ntotal_sms                1048\naverage_com               112\nmood_next_day               0\naverage_soc               290\naverage_valence           114\naverage_arousal            44\naverage_finance          1015\naverage_office            958\naverage_entertainment     423\naverage_game             1036\ndtype: int64"
          },
          "metadata": {}
        }
      ]
    },
    {
      "cell_type": "code",
      "metadata": {
        "tags": [],
        "cell_id": "00002-999e83da-0a16-4149-930c-95a824beb566",
        "deepnote_to_be_reexecuted": false,
        "source_hash": "bdcfc84d",
        "execution_millis": 10,
        "execution_start": 1617971191401,
        "deepnote_cell_type": "code"
      },
      "source": "df['total_calls'] = df['total_calls'].replace(np.nan, 0)\ndf['total_sms'] = df['total_sms'].replace(np.nan, 0)\ndf['average_com'] = df['average_com'].replace(np.nan, 0)\ndf['average_soc'] = df['average_soc'].replace(np.nan, 0)\ndf['average_finance'] = df['average_finance'].replace(np.nan, 0)\ndf['average_entertainment'] = df['average_entertainment'].replace(np.nan, 0)\ndf['average_office'] = df['average_office'].replace(np.nan, 0)\ndf['average_game'] = df['average_game'].replace(np.nan, 0)",
      "execution_count": null,
      "outputs": []
    },
    {
      "cell_type": "code",
      "metadata": {
        "tags": [],
        "cell_id": "00005-811378d9-2141-422d-974c-465f23edf607",
        "deepnote_to_be_reexecuted": false,
        "source_hash": "f804c160",
        "execution_millis": 141,
        "execution_start": 1617971194262,
        "deepnote_cell_type": "code"
      },
      "source": "df",
      "execution_count": null,
      "outputs": [
        {
          "output_type": "execute_result",
          "execution_count": 10,
          "data": {
            "application/vnd.deepnote.dataframe.v2+json": {
              "row_count": 1215,
              "column_count": 15,
              "columns": [
                {
                  "name": "unique_id",
                  "dtype": "object",
                  "stats": {
                    "unique_count": 1215,
                    "nan_count": 0,
                    "categories": [
                      {
                        "name": "2014-02-26_AS14.01",
                        "count": 1
                      },
                      {
                        "name": "2014-03-21_AS14.01",
                        "count": 1
                      },
                      {
                        "name": "1213 others",
                        "count": 1213
                      }
                    ]
                  }
                },
                {
                  "name": "id",
                  "dtype": "object",
                  "stats": {
                    "unique_count": 27,
                    "nan_count": 0,
                    "categories": [
                      {
                        "name": "AS14.26",
                        "count": 66
                      },
                      {
                        "name": "AS14.08",
                        "count": 61
                      },
                      {
                        "name": "25 others",
                        "count": 1088
                      }
                    ]
                  }
                },
                {
                  "name": "date",
                  "dtype": "object",
                  "stats": {
                    "unique_count": 95,
                    "nan_count": 0,
                    "categories": [
                      {
                        "name": "2014-04-16",
                        "count": 27
                      },
                      {
                        "name": "2014-04-17",
                        "count": 27
                      },
                      {
                        "name": "93 others",
                        "count": 1161
                      }
                    ]
                  }
                },
                {
                  "name": "average_mood",
                  "dtype": "float64",
                  "stats": {
                    "unique_count": 71,
                    "nan_count": 0,
                    "min": 3,
                    "max": 9.333333333333334,
                    "histogram": [
                      {
                        "bin_start": 3,
                        "bin_end": 3.6333333333333333,
                        "count": 4
                      },
                      {
                        "bin_start": 3.6333333333333333,
                        "bin_end": 4.266666666666667,
                        "count": 3
                      },
                      {
                        "bin_start": 4.266666666666667,
                        "bin_end": 4.9,
                        "count": 6
                      },
                      {
                        "bin_start": 4.9,
                        "bin_end": 5.533333333333333,
                        "count": 26
                      },
                      {
                        "bin_start": 5.533333333333333,
                        "bin_end": 6.166666666666667,
                        "count": 83
                      },
                      {
                        "bin_start": 6.166666666666667,
                        "bin_end": 6.800000000000001,
                        "count": 349
                      },
                      {
                        "bin_start": 6.800000000000001,
                        "bin_end": 7.433333333333334,
                        "count": 432
                      },
                      {
                        "bin_start": 7.433333333333334,
                        "bin_end": 8.066666666666666,
                        "count": 269
                      },
                      {
                        "bin_start": 8.066666666666666,
                        "bin_end": 8.700000000000001,
                        "count": 38
                      },
                      {
                        "bin_start": 8.700000000000001,
                        "bin_end": 9.333333333333334,
                        "count": 5
                      }
                    ]
                  }
                },
                {
                  "name": "total_calls",
                  "dtype": "float64",
                  "stats": {
                    "unique_count": 23,
                    "nan_count": 0,
                    "min": 0,
                    "max": 31,
                    "histogram": [
                      {
                        "bin_start": 0,
                        "bin_end": 3.1,
                        "count": 909
                      },
                      {
                        "bin_start": 3.1,
                        "bin_end": 6.2,
                        "count": 151
                      },
                      {
                        "bin_start": 6.2,
                        "bin_end": 9.3,
                        "count": 83
                      },
                      {
                        "bin_start": 9.3,
                        "bin_end": 12.4,
                        "count": 43
                      },
                      {
                        "bin_start": 12.4,
                        "bin_end": 15.5,
                        "count": 16
                      },
                      {
                        "bin_start": 15.5,
                        "bin_end": 18.6,
                        "count": 7
                      },
                      {
                        "bin_start": 18.6,
                        "bin_end": 21.7,
                        "count": 3
                      },
                      {
                        "bin_start": 21.7,
                        "bin_end": 24.8,
                        "count": 0
                      },
                      {
                        "bin_start": 24.8,
                        "bin_end": 27.900000000000002,
                        "count": 2
                      },
                      {
                        "bin_start": 27.900000000000002,
                        "bin_end": 31,
                        "count": 1
                      }
                    ]
                  }
                },
                {
                  "name": "total_sms",
                  "dtype": "float64",
                  "stats": {
                    "unique_count": 22,
                    "nan_count": 0,
                    "min": 0,
                    "max": 35,
                    "histogram": [
                      {
                        "bin_start": 0,
                        "bin_end": 3.5,
                        "count": 1125
                      },
                      {
                        "bin_start": 3.5,
                        "bin_end": 7,
                        "count": 37
                      },
                      {
                        "bin_start": 7,
                        "bin_end": 10.5,
                        "count": 23
                      },
                      {
                        "bin_start": 10.5,
                        "bin_end": 14,
                        "count": 14
                      },
                      {
                        "bin_start": 14,
                        "bin_end": 17.5,
                        "count": 8
                      },
                      {
                        "bin_start": 17.5,
                        "bin_end": 21,
                        "count": 0
                      },
                      {
                        "bin_start": 21,
                        "bin_end": 24.5,
                        "count": 3
                      },
                      {
                        "bin_start": 24.5,
                        "bin_end": 28,
                        "count": 4
                      },
                      {
                        "bin_start": 28,
                        "bin_end": 31.5,
                        "count": 0
                      },
                      {
                        "bin_start": 31.5,
                        "bin_end": 35,
                        "count": 1
                      }
                    ]
                  }
                },
                {
                  "name": "average_com",
                  "dtype": "float64",
                  "stats": {
                    "unique_count": 1104,
                    "nan_count": 0,
                    "min": 0,
                    "max": 522.718,
                    "histogram": [
                      {
                        "bin_start": 0,
                        "bin_end": 52.2718,
                        "count": 941
                      },
                      {
                        "bin_start": 52.2718,
                        "bin_end": 104.5436,
                        "count": 236
                      },
                      {
                        "bin_start": 104.5436,
                        "bin_end": 156.8154,
                        "count": 24
                      },
                      {
                        "bin_start": 156.8154,
                        "bin_end": 209.0872,
                        "count": 7
                      },
                      {
                        "bin_start": 209.0872,
                        "bin_end": 261.359,
                        "count": 0
                      },
                      {
                        "bin_start": 261.359,
                        "bin_end": 313.6308,
                        "count": 1
                      },
                      {
                        "bin_start": 313.6308,
                        "bin_end": 365.9026,
                        "count": 2
                      },
                      {
                        "bin_start": 365.9026,
                        "bin_end": 418.1744,
                        "count": 2
                      },
                      {
                        "bin_start": 418.1744,
                        "bin_end": 470.4462,
                        "count": 1
                      },
                      {
                        "bin_start": 470.4462,
                        "bin_end": 522.718,
                        "count": 1
                      }
                    ]
                  }
                },
                {
                  "name": "mood_next_day",
                  "dtype": "float64",
                  "stats": {
                    "unique_count": 71,
                    "nan_count": 0,
                    "min": 3,
                    "max": 9.333333333333334,
                    "histogram": [
                      {
                        "bin_start": 3,
                        "bin_end": 3.6333333333333333,
                        "count": 4
                      },
                      {
                        "bin_start": 3.6333333333333333,
                        "bin_end": 4.266666666666667,
                        "count": 3
                      },
                      {
                        "bin_start": 4.266666666666667,
                        "bin_end": 4.9,
                        "count": 6
                      },
                      {
                        "bin_start": 4.9,
                        "bin_end": 5.533333333333333,
                        "count": 26
                      },
                      {
                        "bin_start": 5.533333333333333,
                        "bin_end": 6.166666666666667,
                        "count": 83
                      },
                      {
                        "bin_start": 6.166666666666667,
                        "bin_end": 6.800000000000001,
                        "count": 349
                      },
                      {
                        "bin_start": 6.800000000000001,
                        "bin_end": 7.433333333333334,
                        "count": 432
                      },
                      {
                        "bin_start": 7.433333333333334,
                        "bin_end": 8.066666666666666,
                        "count": 269
                      },
                      {
                        "bin_start": 8.066666666666666,
                        "bin_end": 8.700000000000001,
                        "count": 38
                      },
                      {
                        "bin_start": 8.700000000000001,
                        "bin_end": 9.333333333333334,
                        "count": 5
                      }
                    ]
                  }
                },
                {
                  "name": "average_soc",
                  "dtype": "float64",
                  "stats": {
                    "unique_count": 926,
                    "nan_count": 0,
                    "min": 0,
                    "max": 3759.177625,
                    "histogram": [
                      {
                        "bin_start": 0,
                        "bin_end": 375.9177625,
                        "count": 1207
                      },
                      {
                        "bin_start": 375.9177625,
                        "bin_end": 751.835525,
                        "count": 4
                      },
                      {
                        "bin_start": 751.835525,
                        "bin_end": 1127.7532875,
                        "count": 3
                      },
                      {
                        "bin_start": 1127.7532875,
                        "bin_end": 1503.67105,
                        "count": 0
                      },
                      {
                        "bin_start": 1503.67105,
                        "bin_end": 1879.5888125,
                        "count": 0
                      },
                      {
                        "bin_start": 1879.5888125,
                        "bin_end": 2255.506575,
                        "count": 0
                      },
                      {
                        "bin_start": 2255.506575,
                        "bin_end": 2631.4243374999996,
                        "count": 0
                      },
                      {
                        "bin_start": 2631.4243374999996,
                        "bin_end": 3007.3421,
                        "count": 0
                      },
                      {
                        "bin_start": 3007.3421,
                        "bin_end": 3383.2598625,
                        "count": 0
                      },
                      {
                        "bin_start": 3383.2598625,
                        "bin_end": 3759.177625,
                        "count": 1
                      }
                    ]
                  }
                },
                {
                  "name": "average_valence",
                  "dtype": "float64",
                  "stats": {
                    "unique_count": 30,
                    "nan_count": 114,
                    "min": -1.25,
                    "max": 2,
                    "histogram": [
                      {
                        "bin_start": -1.25,
                        "bin_end": -0.925,
                        "count": 8
                      },
                      {
                        "bin_start": -0.925,
                        "bin_end": -0.6,
                        "count": 1
                      },
                      {
                        "bin_start": -0.6,
                        "bin_end": -0.2749999999999999,
                        "count": 21
                      },
                      {
                        "bin_start": -0.2749999999999999,
                        "bin_end": 0.050000000000000044,
                        "count": 100
                      },
                      {
                        "bin_start": 0.050000000000000044,
                        "bin_end": 0.375,
                        "count": 85
                      },
                      {
                        "bin_start": 0.375,
                        "bin_end": 0.7000000000000002,
                        "count": 253
                      },
                      {
                        "bin_start": 0.7000000000000002,
                        "bin_end": 1.025,
                        "count": 544
                      },
                      {
                        "bin_start": 1.025,
                        "bin_end": 1.35,
                        "count": 51
                      },
                      {
                        "bin_start": 1.35,
                        "bin_end": 1.6750000000000003,
                        "count": 32
                      },
                      {
                        "bin_start": 1.6750000000000003,
                        "bin_end": 2,
                        "count": 6
                      }
                    ]
                  }
                },
                {
                  "name": "average_arousal",
                  "dtype": "float64",
                  "stats": {
                    "unique_count": 40,
                    "nan_count": 44,
                    "min": -2,
                    "max": 2,
                    "histogram": [
                      {
                        "bin_start": -2,
                        "bin_end": -1.6,
                        "count": 12
                      },
                      {
                        "bin_start": -1.6,
                        "bin_end": -1.2,
                        "count": 36
                      },
                      {
                        "bin_start": -1.2,
                        "bin_end": -0.7999999999999998,
                        "count": 149
                      },
                      {
                        "bin_start": -0.7999999999999998,
                        "bin_end": -0.3999999999999999,
                        "count": 205
                      },
                      {
                        "bin_start": -0.3999999999999999,
                        "bin_end": 0,
                        "count": 149
                      },
                      {
                        "bin_start": 0,
                        "bin_end": 0.40000000000000036,
                        "count": 393
                      },
                      {
                        "bin_start": 0.40000000000000036,
                        "bin_end": 0.8000000000000003,
                        "count": 144
                      },
                      {
                        "bin_start": 0.8000000000000003,
                        "bin_end": 1.2000000000000002,
                        "count": 69
                      },
                      {
                        "bin_start": 1.2000000000000002,
                        "bin_end": 1.6,
                        "count": 10
                      },
                      {
                        "bin_start": 1.6,
                        "bin_end": 2,
                        "count": 4
                      }
                    ]
                  }
                },
                {
                  "name": "average_finance",
                  "dtype": "float64",
                  "stats": {
                    "unique_count": 201,
                    "nan_count": 0,
                    "min": 0,
                    "max": 149.181,
                    "histogram": [
                      {
                        "bin_start": 0,
                        "bin_end": 14.9181,
                        "count": 1102
                      },
                      {
                        "bin_start": 14.9181,
                        "bin_end": 29.8362,
                        "count": 54
                      },
                      {
                        "bin_start": 29.8362,
                        "bin_end": 44.7543,
                        "count": 26
                      },
                      {
                        "bin_start": 44.7543,
                        "bin_end": 59.6724,
                        "count": 12
                      },
                      {
                        "bin_start": 59.6724,
                        "bin_end": 74.5905,
                        "count": 11
                      },
                      {
                        "bin_start": 74.5905,
                        "bin_end": 89.5086,
                        "count": 5
                      },
                      {
                        "bin_start": 89.5086,
                        "bin_end": 104.42670000000001,
                        "count": 2
                      },
                      {
                        "bin_start": 104.42670000000001,
                        "bin_end": 119.3448,
                        "count": 0
                      },
                      {
                        "bin_start": 119.3448,
                        "bin_end": 134.2629,
                        "count": 1
                      },
                      {
                        "bin_start": 134.2629,
                        "bin_end": 149.181,
                        "count": 2
                      }
                    ]
                  }
                },
                {
                  "name": "average_office",
                  "dtype": "float64",
                  "stats": {
                    "unique_count": 257,
                    "nan_count": 0,
                    "min": 0,
                    "max": 1494.864,
                    "histogram": [
                      {
                        "bin_start": 0,
                        "bin_end": 149.4864,
                        "count": 1201
                      },
                      {
                        "bin_start": 149.4864,
                        "bin_end": 298.9728,
                        "count": 10
                      },
                      {
                        "bin_start": 298.9728,
                        "bin_end": 448.4592,
                        "count": 2
                      },
                      {
                        "bin_start": 448.4592,
                        "bin_end": 597.9456,
                        "count": 1
                      },
                      {
                        "bin_start": 597.9456,
                        "bin_end": 747.432,
                        "count": 0
                      },
                      {
                        "bin_start": 747.432,
                        "bin_end": 896.9184,
                        "count": 0
                      },
                      {
                        "bin_start": 896.9184,
                        "bin_end": 1046.4048,
                        "count": 0
                      },
                      {
                        "bin_start": 1046.4048,
                        "bin_end": 1195.8912,
                        "count": 0
                      },
                      {
                        "bin_start": 1195.8912,
                        "bin_end": 1345.3776,
                        "count": 0
                      },
                      {
                        "bin_start": 1345.3776,
                        "bin_end": 1494.864,
                        "count": 1
                      }
                    ]
                  }
                },
                {
                  "name": "average_entertainment",
                  "dtype": "float64",
                  "stats": {
                    "unique_count": 792,
                    "nan_count": 0,
                    "min": 0,
                    "max": 1650.744,
                    "histogram": [
                      {
                        "bin_start": 0,
                        "bin_end": 165.0744,
                        "count": 1087
                      },
                      {
                        "bin_start": 165.0744,
                        "bin_end": 330.1488,
                        "count": 86
                      },
                      {
                        "bin_start": 330.1488,
                        "bin_end": 495.2232,
                        "count": 23
                      },
                      {
                        "bin_start": 495.2232,
                        "bin_end": 660.2976,
                        "count": 8
                      },
                      {
                        "bin_start": 660.2976,
                        "bin_end": 825.372,
                        "count": 2
                      },
                      {
                        "bin_start": 825.372,
                        "bin_end": 990.4464,
                        "count": 4
                      },
                      {
                        "bin_start": 990.4464,
                        "bin_end": 1155.5208,
                        "count": 2
                      },
                      {
                        "bin_start": 1155.5208,
                        "bin_end": 1320.5952,
                        "count": 2
                      },
                      {
                        "bin_start": 1320.5952,
                        "bin_end": 1485.6696,
                        "count": 0
                      },
                      {
                        "bin_start": 1485.6696,
                        "bin_end": 1650.744,
                        "count": 1
                      }
                    ]
                  }
                },
                {
                  "name": "average_game",
                  "dtype": "float64",
                  "stats": {
                    "unique_count": 178,
                    "nan_count": 0,
                    "min": 0,
                    "max": 2562.907,
                    "histogram": [
                      {
                        "bin_start": 0,
                        "bin_end": 256.2907,
                        "count": 1183
                      },
                      {
                        "bin_start": 256.2907,
                        "bin_end": 512.5814,
                        "count": 17
                      },
                      {
                        "bin_start": 512.5814,
                        "bin_end": 768.8721,
                        "count": 10
                      },
                      {
                        "bin_start": 768.8721,
                        "bin_end": 1025.1628,
                        "count": 4
                      },
                      {
                        "bin_start": 1025.1628,
                        "bin_end": 1281.4535,
                        "count": 0
                      },
                      {
                        "bin_start": 1281.4535,
                        "bin_end": 1537.7442,
                        "count": 0
                      },
                      {
                        "bin_start": 1537.7442,
                        "bin_end": 1794.0349,
                        "count": 0
                      },
                      {
                        "bin_start": 1794.0349,
                        "bin_end": 2050.3256,
                        "count": 0
                      },
                      {
                        "bin_start": 2050.3256,
                        "bin_end": 2306.6163,
                        "count": 0
                      },
                      {
                        "bin_start": 2306.6163,
                        "bin_end": 2562.907,
                        "count": 1
                      }
                    ]
                  }
                },
                {
                  "name": "_deepnote_index_column",
                  "dtype": "int64"
                }
              ],
              "rows_top": [
                {
                  "unique_id": "2014-02-26_AS14.01",
                  "id": "AS14.01",
                  "date": "2014-02-26",
                  "average_mood": 6.25,
                  "total_calls": 0,
                  "total_sms": 0,
                  "average_com": 0,
                  "mood_next_day": 6.25,
                  "average_soc": 0,
                  "average_valence": "0.75",
                  "average_arousal": "-0.25",
                  "average_finance": 0,
                  "average_office": 0,
                  "average_entertainment": 0,
                  "average_game": 0,
                  "_deepnote_index_column": 0
                },
                {
                  "unique_id": "2014-03-21_AS14.01",
                  "id": "AS14.01",
                  "date": "2014-03-21",
                  "average_mood": 6.25,
                  "total_calls": 6,
                  "total_sms": 0,
                  "average_com": 55.0955263157895,
                  "mood_next_day": 6.4,
                  "average_soc": 75.14166666666668,
                  "average_valence": "0.2",
                  "average_arousal": "0.2",
                  "average_finance": 6.1930000000000005,
                  "average_office": 57.40200000000001,
                  "average_entertainment": 53.024,
                  "average_game": 0,
                  "_deepnote_index_column": 1
                },
                {
                  "unique_id": "2014-03-22_AS14.01",
                  "id": "AS14.01",
                  "date": "2014-03-22",
                  "average_mood": 6.4,
                  "total_calls": 0,
                  "total_sms": 0,
                  "average_com": 51.697062500000015,
                  "mood_next_day": 6.8,
                  "average_soc": 36.63599999999999,
                  "average_valence": "nan",
                  "average_arousal": "0.6",
                  "average_finance": 7.025333333333333,
                  "average_office": 0,
                  "average_entertainment": 46.662,
                  "average_game": 0,
                  "_deepnote_index_column": 2
                },
                {
                  "unique_id": "2014-03-23_AS14.01",
                  "id": "AS14.01",
                  "date": "2014-03-23",
                  "average_mood": 6.8,
                  "total_calls": 0,
                  "total_sms": 0,
                  "average_com": 53.442030612244885,
                  "mood_next_day": 6,
                  "average_soc": 50.04661111111111,
                  "average_valence": "0.8",
                  "average_arousal": "0.2",
                  "average_finance": 10.85075,
                  "average_office": 0,
                  "average_entertainment": 31.448666666666668,
                  "average_game": 0,
                  "_deepnote_index_column": 3
                },
                {
                  "unique_id": "2014-03-24_AS14.01",
                  "id": "AS14.01",
                  "date": "2014-03-24",
                  "average_mood": 6,
                  "total_calls": 0,
                  "total_sms": 0,
                  "average_com": 47.54168717948718,
                  "mood_next_day": 6.75,
                  "average_soc": 74.96804651162789,
                  "average_valence": "0.0",
                  "average_arousal": "0.8",
                  "average_finance": 5.684333333333334,
                  "average_office": 3.01,
                  "average_entertainment": 122.121375,
                  "average_game": 0,
                  "_deepnote_index_column": 4
                },
                {
                  "unique_id": "2014-03-25_AS14.01",
                  "id": "AS14.01",
                  "date": "2014-03-25",
                  "average_mood": 6.75,
                  "total_calls": 0,
                  "total_sms": 0,
                  "average_com": 69.43750675675675,
                  "mood_next_day": 6.6,
                  "average_soc": 68.55253571428571,
                  "average_valence": "0.5",
                  "average_arousal": "0.5",
                  "average_finance": 10.7635,
                  "average_office": 0,
                  "average_entertainment": 34.103,
                  "average_game": 0,
                  "_deepnote_index_column": 5
                },
                {
                  "unique_id": "2014-03-26_AS14.01",
                  "id": "AS14.01",
                  "date": "2014-03-26",
                  "average_mood": 6.6,
                  "total_calls": 0,
                  "total_sms": 0,
                  "average_com": 47.061534031413615,
                  "mood_next_day": 7,
                  "average_soc": 124.10970270270268,
                  "average_valence": "0.6",
                  "average_arousal": "-0.2",
                  "average_finance": 8.721833333333334,
                  "average_office": 0,
                  "average_entertainment": 130.06842857142857,
                  "average_game": 0,
                  "_deepnote_index_column": 6
                },
                {
                  "unique_id": "2014-03-27_AS14.01",
                  "id": "AS14.01",
                  "date": "2014-03-27",
                  "average_mood": 7,
                  "total_calls": 15,
                  "total_sms": 0,
                  "average_com": 43.3532,
                  "mood_next_day": 6.4,
                  "average_soc": 71.95238461538462,
                  "average_valence": "0.8",
                  "average_arousal": "0.2",
                  "average_finance": 14.073,
                  "average_office": 15.20425,
                  "average_entertainment": 71.03766666666667,
                  "average_game": 0,
                  "_deepnote_index_column": 7
                },
                {
                  "unique_id": "2014-03-28_AS14.01",
                  "id": "AS14.01",
                  "date": "2014-03-28",
                  "average_mood": 6.4,
                  "total_calls": 5,
                  "total_sms": 0,
                  "average_com": 24.078694444444444,
                  "mood_next_day": 8,
                  "average_soc": 25.63705,
                  "average_valence": "0.6",
                  "average_arousal": "-0.6",
                  "average_finance": 12.738,
                  "average_office": 0,
                  "average_entertainment": 91.40027272727274,
                  "average_game": 116.518,
                  "_deepnote_index_column": 8
                },
                {
                  "unique_id": "2014-03-29_AS14.01",
                  "id": "AS14.01",
                  "date": "2014-03-29",
                  "average_mood": 8,
                  "total_calls": 0,
                  "total_sms": 0,
                  "average_com": 47.73143859649123,
                  "mood_next_day": 7.5,
                  "average_soc": 59.111,
                  "average_valence": "1.0",
                  "average_arousal": "0.2",
                  "average_finance": 0,
                  "average_office": 0,
                  "average_entertainment": 108.49526666666668,
                  "average_game": 0,
                  "_deepnote_index_column": 9
                },
                {
                  "unique_id": "2014-03-30_AS14.01",
                  "id": "AS14.01",
                  "date": "2014-03-30",
                  "average_mood": 7.5,
                  "total_calls": 0,
                  "total_sms": 0,
                  "average_com": 61.83357142857143,
                  "mood_next_day": 7.4,
                  "average_soc": 55.895,
                  "average_valence": "0.75",
                  "average_arousal": "-0.5",
                  "average_finance": 0,
                  "average_office": 0,
                  "average_entertainment": 170.63077777777778,
                  "average_game": 0,
                  "_deepnote_index_column": 10
                },
                {
                  "unique_id": "2014-03-31_AS14.01",
                  "id": "AS14.01",
                  "date": "2014-03-31",
                  "average_mood": 7.4,
                  "total_calls": 10,
                  "total_sms": 0,
                  "average_com": 41.33827131782945,
                  "mood_next_day": 6,
                  "average_soc": 56.277291666666656,
                  "average_valence": "0.6",
                  "average_arousal": "0.0",
                  "average_finance": 6.8758333333333335,
                  "average_office": 0,
                  "average_entertainment": 51.73294117647058,
                  "average_game": 51.176,
                  "_deepnote_index_column": 11
                },
                {
                  "unique_id": "2014-04-01_AS14.01",
                  "id": "AS14.01",
                  "date": "2014-04-01",
                  "average_mood": 6,
                  "total_calls": 1,
                  "total_sms": 0,
                  "average_com": 33.12785869565218,
                  "mood_next_day": 6.5,
                  "average_soc": 45.81879090909093,
                  "average_valence": "0.0",
                  "average_arousal": "0.2",
                  "average_finance": 15.21738888888889,
                  "average_office": 30.796000000000003,
                  "average_entertainment": 42.94320833333333,
                  "average_game": 78.247,
                  "_deepnote_index_column": 12
                },
                {
                  "unique_id": "2014-04-02_AS14.01",
                  "id": "AS14.01",
                  "date": "2014-04-02",
                  "average_mood": 6.5,
                  "total_calls": 4,
                  "total_sms": 0,
                  "average_com": 33.75685853658536,
                  "mood_next_day": 6.4,
                  "average_soc": 64.69418867924529,
                  "average_valence": "nan",
                  "average_arousal": "nan",
                  "average_finance": 13.040894736842104,
                  "average_office": 90.481,
                  "average_entertainment": 46.32331034482758,
                  "average_game": 0,
                  "_deepnote_index_column": 13
                },
                {
                  "unique_id": "2014-04-03_AS14.01",
                  "id": "AS14.01",
                  "date": "2014-04-03",
                  "average_mood": 6.4,
                  "total_calls": 4,
                  "total_sms": 0,
                  "average_com": 46.42470096463021,
                  "mood_next_day": 6.2,
                  "average_soc": 44.4259295774648,
                  "average_valence": "0.0",
                  "average_arousal": "-1.2",
                  "average_finance": 25.41133333333333,
                  "average_office": 0,
                  "average_entertainment": 49.75503846153846,
                  "average_game": 0,
                  "_deepnote_index_column": 14
                },
                {
                  "unique_id": "2014-04-04_AS14.01",
                  "id": "AS14.01",
                  "date": "2014-04-04",
                  "average_mood": 6.2,
                  "total_calls": 0,
                  "total_sms": 0,
                  "average_com": 44.566081300813,
                  "mood_next_day": 6.8,
                  "average_soc": 71.93782758620691,
                  "average_valence": "0.4",
                  "average_arousal": "0.2",
                  "average_finance": 0,
                  "average_office": 0,
                  "average_entertainment": 96.5766875,
                  "average_game": 0,
                  "_deepnote_index_column": 15
                },
                {
                  "unique_id": "2014-04-05_AS14.01",
                  "id": "AS14.01",
                  "date": "2014-04-05",
                  "average_mood": 6.8,
                  "total_calls": 0,
                  "total_sms": 0,
                  "average_com": 37.70818,
                  "mood_next_day": 6.5,
                  "average_soc": 45.401,
                  "average_valence": "0.6",
                  "average_arousal": "-0.4",
                  "average_finance": 0,
                  "average_office": 0,
                  "average_entertainment": 76.369,
                  "average_game": 0,
                  "_deepnote_index_column": 16
                },
                {
                  "unique_id": "2014-04-06_AS14.01",
                  "id": "AS14.01",
                  "date": "2014-04-06",
                  "average_mood": 6.5,
                  "total_calls": 6,
                  "total_sms": 0,
                  "average_com": 47.939185714285735,
                  "mood_next_day": 6.5,
                  "average_soc": 64.292,
                  "average_valence": "0.5",
                  "average_arousal": "-0.75",
                  "average_finance": 0,
                  "average_office": 0,
                  "average_entertainment": 93.607,
                  "average_game": 57.203,
                  "_deepnote_index_column": 17
                },
                {
                  "unique_id": "2014-04-07_AS14.01",
                  "id": "AS14.01",
                  "date": "2014-04-07",
                  "average_mood": 6.5,
                  "total_calls": 1,
                  "total_sms": 0,
                  "average_com": 57.01562015503877,
                  "mood_next_day": 6.6,
                  "average_soc": 61.47575,
                  "average_valence": "0.25",
                  "average_arousal": "nan",
                  "average_finance": 9.2256,
                  "average_office": 17.107,
                  "average_entertainment": 74.52016666666667,
                  "average_game": 0,
                  "_deepnote_index_column": 18
                },
                {
                  "unique_id": "2014-04-08_AS14.01",
                  "id": "AS14.01",
                  "date": "2014-04-08",
                  "average_mood": 6.6,
                  "total_calls": 1,
                  "total_sms": 0,
                  "average_com": 49.10649222797928,
                  "mood_next_day": 7.4,
                  "average_soc": 59.00268888888889,
                  "average_valence": "nan",
                  "average_arousal": "-0.4",
                  "average_finance": 6.377,
                  "average_office": 0,
                  "average_entertainment": 165.07042857142855,
                  "average_game": 0,
                  "_deepnote_index_column": 19
                },
                {
                  "unique_id": "2014-04-09_AS14.01",
                  "id": "AS14.01",
                  "date": "2014-04-09",
                  "average_mood": 7.4,
                  "total_calls": 4,
                  "total_sms": 0,
                  "average_com": 38.130098765432095,
                  "mood_next_day": 7.4,
                  "average_soc": 44.161718750000006,
                  "average_valence": "nan",
                  "average_arousal": "-0.8",
                  "average_finance": 0,
                  "average_office": 0,
                  "average_entertainment": 78.3975,
                  "average_game": 0,
                  "_deepnote_index_column": 20
                },
                {
                  "unique_id": "2014-04-10_AS14.01",
                  "id": "AS14.01",
                  "date": "2014-04-10",
                  "average_mood": 7.4,
                  "total_calls": 0,
                  "total_sms": 0,
                  "average_com": 65.08548,
                  "mood_next_day": 7,
                  "average_soc": 39.15723333333335,
                  "average_valence": "0.8",
                  "average_arousal": "-0.4",
                  "average_finance": 0,
                  "average_office": 23.195,
                  "average_entertainment": 154.90775000000002,
                  "average_game": 1.059,
                  "_deepnote_index_column": 21
                },
                {
                  "unique_id": "2014-04-11_AS14.01",
                  "id": "AS14.01",
                  "date": "2014-04-11",
                  "average_mood": 7,
                  "total_calls": 0,
                  "total_sms": 0,
                  "average_com": 27.57514049586778,
                  "mood_next_day": 7.25,
                  "average_soc": 45.90823076923077,
                  "average_valence": "0.8",
                  "average_arousal": "-1.2",
                  "average_finance": 15.682166666666667,
                  "average_office": 0,
                  "average_entertainment": 123.508625,
                  "average_game": 0,
                  "_deepnote_index_column": 22
                },
                {
                  "unique_id": "2014-04-12_AS14.01",
                  "id": "AS14.01",
                  "date": "2014-04-12",
                  "average_mood": 7.25,
                  "total_calls": 0,
                  "total_sms": 0,
                  "average_com": 143.37136956521735,
                  "mood_next_day": 8,
                  "average_soc": 44.072,
                  "average_valence": "0.75",
                  "average_arousal": "-0.75",
                  "average_finance": 0,
                  "average_office": 0,
                  "average_entertainment": 182.2068333333333,
                  "average_game": 0,
                  "_deepnote_index_column": 23
                },
                {
                  "unique_id": "2014-04-13_AS14.01",
                  "id": "AS14.01",
                  "date": "2014-04-13",
                  "average_mood": 8,
                  "total_calls": 0,
                  "total_sms": 0,
                  "average_com": 47.686739130434766,
                  "mood_next_day": 7.2,
                  "average_soc": 17.250999999999998,
                  "average_valence": "1.0",
                  "average_arousal": "-1.25",
                  "average_finance": 9.157,
                  "average_office": 0,
                  "average_entertainment": 62.348,
                  "average_game": 0,
                  "_deepnote_index_column": 24
                },
                {
                  "unique_id": "2014-04-14_AS14.01",
                  "id": "AS14.01",
                  "date": "2014-04-14",
                  "average_mood": 7.2,
                  "total_calls": 8,
                  "total_sms": 8,
                  "average_com": 51.478444444444456,
                  "mood_next_day": 6.4,
                  "average_soc": 162.3325,
                  "average_valence": "0.6",
                  "average_arousal": "-1.2",
                  "average_finance": 14.887166666666667,
                  "average_office": 0,
                  "average_entertainment": 216.05365517241376,
                  "average_game": 0,
                  "_deepnote_index_column": 25
                },
                {
                  "unique_id": "2014-04-15_AS14.01",
                  "id": "AS14.01",
                  "date": "2014-04-15",
                  "average_mood": 6.4,
                  "total_calls": 0,
                  "total_sms": 1,
                  "average_com": 40.681248366013065,
                  "mood_next_day": 7.2,
                  "average_soc": 100.6411363636364,
                  "average_valence": "0.8",
                  "average_arousal": "0.0",
                  "average_finance": 4.347666666666666,
                  "average_office": 0,
                  "average_entertainment": 49.71168421052632,
                  "average_game": 0,
                  "_deepnote_index_column": 26
                },
                {
                  "unique_id": "2014-04-16_AS14.01",
                  "id": "AS14.01",
                  "date": "2014-04-16",
                  "average_mood": 7.2,
                  "total_calls": 0,
                  "total_sms": 0,
                  "average_com": 36.9644,
                  "mood_next_day": 6.6,
                  "average_soc": 65.96041379310344,
                  "average_valence": "nan",
                  "average_arousal": "nan",
                  "average_finance": 0,
                  "average_office": 0,
                  "average_entertainment": 23.707444444444448,
                  "average_game": 0,
                  "_deepnote_index_column": 27
                },
                {
                  "unique_id": "2014-04-17_AS14.01",
                  "id": "AS14.01",
                  "date": "2014-04-17",
                  "average_mood": 6.6,
                  "total_calls": 10,
                  "total_sms": 0,
                  "average_com": 108.74622935779814,
                  "mood_next_day": 6.8,
                  "average_soc": 70.2382,
                  "average_valence": "0.6",
                  "average_arousal": "-0.4",
                  "average_finance": 0,
                  "average_office": 0,
                  "average_entertainment": 28.448200000000003,
                  "average_game": 0,
                  "_deepnote_index_column": 28
                },
                {
                  "unique_id": "2014-04-18_AS14.01",
                  "id": "AS14.01",
                  "date": "2014-04-18",
                  "average_mood": 6.8,
                  "total_calls": 1,
                  "total_sms": 0,
                  "average_com": 65.14215853658536,
                  "mood_next_day": 7.8,
                  "average_soc": 199.3922,
                  "average_valence": "0.8",
                  "average_arousal": "-0.8",
                  "average_finance": 17.023285714285713,
                  "average_office": 0,
                  "average_entertainment": 86.03933333333333,
                  "average_game": 0,
                  "_deepnote_index_column": 29
                },
                {
                  "unique_id": "2014-04-19_AS14.01",
                  "id": "AS14.01",
                  "date": "2014-04-19",
                  "average_mood": 7.8,
                  "total_calls": 1,
                  "total_sms": 0,
                  "average_com": 35.43194805194805,
                  "mood_next_day": 7.25,
                  "average_soc": 36.06109090909092,
                  "average_valence": "1.0",
                  "average_arousal": "-0.2",
                  "average_finance": 15.938166666666667,
                  "average_office": 0,
                  "average_entertainment": 78.21233333333333,
                  "average_game": 29.084,
                  "_deepnote_index_column": 30
                },
                {
                  "unique_id": "2014-04-20_AS14.01",
                  "id": "AS14.01",
                  "date": "2014-04-20",
                  "average_mood": 7.25,
                  "total_calls": 2,
                  "total_sms": 0,
                  "average_com": 57.29567816091953,
                  "mood_next_day": 7.6,
                  "average_soc": 93.23924999999998,
                  "average_valence": "0.75",
                  "average_arousal": "-0.25",
                  "average_finance": 5.303,
                  "average_office": 0,
                  "average_entertainment": 60.62433333333333,
                  "average_game": 0,
                  "_deepnote_index_column": 31
                },
                {
                  "unique_id": "2014-04-21_AS14.01",
                  "id": "AS14.01",
                  "date": "2014-04-21",
                  "average_mood": 7.6,
                  "total_calls": 2,
                  "total_sms": 0,
                  "average_com": 43.57276086956523,
                  "mood_next_day": 7.4,
                  "average_soc": 61.28171428571429,
                  "average_valence": "1.0",
                  "average_arousal": "nan",
                  "average_finance": 11.088666666666668,
                  "average_office": 0,
                  "average_entertainment": 18.72,
                  "average_game": 0,
                  "_deepnote_index_column": 32
                }
              ],
              "rows_bottom": [
                {
                  "unique_id": "2014-04-22_AS14.33",
                  "id": "AS14.33",
                  "date": "2014-04-22",
                  "average_mood": 6.2,
                  "total_calls": 9,
                  "total_sms": 0,
                  "average_com": 46.916821428571424,
                  "mood_next_day": 5.2,
                  "average_soc": 91.80608333333336,
                  "average_valence": "-0.2",
                  "average_arousal": "-0.6",
                  "average_finance": 0,
                  "average_office": 0,
                  "average_entertainment": 131.33233333333334,
                  "average_game": 0,
                  "_deepnote_index_column": 1182
                },
                {
                  "unique_id": "2014-04-23_AS14.33",
                  "id": "AS14.33",
                  "date": "2014-04-23",
                  "average_mood": 5.2,
                  "total_calls": 1,
                  "total_sms": 0,
                  "average_com": 30.690777777777782,
                  "mood_next_day": 7,
                  "average_soc": 140.56908823529417,
                  "average_valence": "-0.6",
                  "average_arousal": "-0.2",
                  "average_finance": 0,
                  "average_office": 0,
                  "average_entertainment": 134.04333333333335,
                  "average_game": 0,
                  "_deepnote_index_column": 1183
                },
                {
                  "unique_id": "2014-04-24_AS14.33",
                  "id": "AS14.33",
                  "date": "2014-04-24",
                  "average_mood": 7,
                  "total_calls": 5,
                  "total_sms": 5,
                  "average_com": 52.47904166666666,
                  "mood_next_day": 8.4,
                  "average_soc": 80.1635652173913,
                  "average_valence": "1.0",
                  "average_arousal": "-0.25",
                  "average_finance": 0,
                  "average_office": 0,
                  "average_entertainment": 86.14822222222222,
                  "average_game": 0,
                  "_deepnote_index_column": 1184
                },
                {
                  "unique_id": "2014-04-25_AS14.33",
                  "id": "AS14.33",
                  "date": "2014-04-25",
                  "average_mood": 8.4,
                  "total_calls": 31,
                  "total_sms": 2,
                  "average_com": 28.73631914893617,
                  "mood_next_day": 7.6,
                  "average_soc": 45.21737704918032,
                  "average_valence": "nan",
                  "average_arousal": "0.8",
                  "average_finance": 0,
                  "average_office": 0,
                  "average_entertainment": 134.67675,
                  "average_game": 0,
                  "_deepnote_index_column": 1185
                },
                {
                  "unique_id": "2014-04-26_AS14.33",
                  "id": "AS14.33",
                  "date": "2014-04-26",
                  "average_mood": 7.6,
                  "total_calls": 18,
                  "total_sms": 0,
                  "average_com": 30.114727272727272,
                  "mood_next_day": 6.2,
                  "average_soc": 51.19739344262295,
                  "average_valence": "1.0",
                  "average_arousal": "0.4",
                  "average_finance": 0,
                  "average_office": 0,
                  "average_entertainment": 75.35533333333333,
                  "average_game": 0,
                  "_deepnote_index_column": 1186
                },
                {
                  "unique_id": "2014-04-27_AS14.33",
                  "id": "AS14.33",
                  "date": "2014-04-27",
                  "average_mood": 6.2,
                  "total_calls": 4,
                  "total_sms": 0,
                  "average_com": 64.68579166666665,
                  "mood_next_day": 6.75,
                  "average_soc": 135.49050819672132,
                  "average_valence": "0.4",
                  "average_arousal": "-1.2",
                  "average_finance": 0,
                  "average_office": 0,
                  "average_entertainment": 151.0524545454546,
                  "average_game": 0,
                  "_deepnote_index_column": 1187
                },
                {
                  "unique_id": "2014-04-28_AS14.33",
                  "id": "AS14.33",
                  "date": "2014-04-28",
                  "average_mood": 6.75,
                  "total_calls": 2,
                  "total_sms": 5,
                  "average_com": 70.9519090909091,
                  "mood_next_day": 6.2,
                  "average_soc": 70.12939000000001,
                  "average_valence": "0.75",
                  "average_arousal": "-1.25",
                  "average_finance": 0,
                  "average_office": 0,
                  "average_entertainment": 156.3201666666667,
                  "average_game": 0,
                  "_deepnote_index_column": 1188
                },
                {
                  "unique_id": "2014-04-29_AS14.33",
                  "id": "AS14.33",
                  "date": "2014-04-29",
                  "average_mood": 6.2,
                  "total_calls": 3,
                  "total_sms": 0,
                  "average_com": 37.49181818181819,
                  "mood_next_day": 6.4,
                  "average_soc": 81.46556578947367,
                  "average_valence": "0.4",
                  "average_arousal": "-0.4",
                  "average_finance": 0,
                  "average_office": 0,
                  "average_entertainment": 65.97538461538463,
                  "average_game": 0,
                  "_deepnote_index_column": 1189
                },
                {
                  "unique_id": "2014-04-30_AS14.33",
                  "id": "AS14.33",
                  "date": "2014-04-30",
                  "average_mood": 6.4,
                  "total_calls": 1,
                  "total_sms": 0,
                  "average_com": 35.329947368421045,
                  "mood_next_day": 7.5,
                  "average_soc": 96.54433333333331,
                  "average_valence": "nan",
                  "average_arousal": "-1.0",
                  "average_finance": 0,
                  "average_office": 0,
                  "average_entertainment": 149.64666666666668,
                  "average_game": 0,
                  "_deepnote_index_column": 1190
                },
                {
                  "unique_id": "2014-05-04_AS14.33",
                  "id": "AS14.33",
                  "date": "2014-05-04",
                  "average_mood": 7.5,
                  "total_calls": 11,
                  "total_sms": 0,
                  "average_com": 38.915625,
                  "mood_next_day": 6.125,
                  "average_soc": 74.07040740740742,
                  "average_valence": "1.0",
                  "average_arousal": "0.0",
                  "average_finance": 0,
                  "average_office": 0,
                  "average_entertainment": 45.66690909090909,
                  "average_game": 0,
                  "_deepnote_index_column": 1191
                },
                {
                  "unique_id": "2014-05-07_AS14.33",
                  "id": "AS14.33",
                  "date": "2014-05-07",
                  "average_mood": 6.125,
                  "total_calls": 1,
                  "total_sms": 0,
                  "average_com": 7.083,
                  "mood_next_day": 6.6,
                  "average_soc": 133.237,
                  "average_valence": "-0.5",
                  "average_arousal": "-0.25",
                  "average_finance": 0,
                  "average_office": 0,
                  "average_entertainment": 93.74116666666664,
                  "average_game": 0,
                  "_deepnote_index_column": 1192
                },
                {
                  "unique_id": "2014-05-08_AS14.33",
                  "id": "AS14.33",
                  "date": "2014-05-08",
                  "average_mood": 6.6,
                  "total_calls": 0,
                  "total_sms": 0,
                  "average_com": 63.08873333333332,
                  "mood_next_day": 4.8,
                  "average_soc": 158.47776315789474,
                  "average_valence": "0.4",
                  "average_arousal": "-0.8",
                  "average_finance": 0,
                  "average_office": 0,
                  "average_entertainment": 85.939125,
                  "average_game": 0,
                  "_deepnote_index_column": 1193
                },
                {
                  "unique_id": "2014-05-09_AS14.33",
                  "id": "AS14.33",
                  "date": "2014-05-09",
                  "average_mood": 4.8,
                  "total_calls": 0,
                  "total_sms": 0,
                  "average_com": 62.00627272727272,
                  "mood_next_day": 7.6,
                  "average_soc": 157.38062499999998,
                  "average_valence": "-0.2",
                  "average_arousal": "0.2",
                  "average_finance": 0,
                  "average_office": 0,
                  "average_entertainment": 74.16936363636363,
                  "average_game": 0,
                  "_deepnote_index_column": 1194
                },
                {
                  "unique_id": "2014-05-10_AS14.33",
                  "id": "AS14.33",
                  "date": "2014-05-10",
                  "average_mood": 7.6,
                  "total_calls": 0,
                  "total_sms": 0,
                  "average_com": 18.080583333333337,
                  "mood_next_day": 6,
                  "average_soc": 46.36496428571429,
                  "average_valence": "1.0",
                  "average_arousal": "-0.4",
                  "average_finance": 0,
                  "average_office": 0,
                  "average_entertainment": 67.08522222222223,
                  "average_game": 0,
                  "_deepnote_index_column": 1195
                },
                {
                  "unique_id": "2014-05-11_AS14.33",
                  "id": "AS14.33",
                  "date": "2014-05-11",
                  "average_mood": 6,
                  "total_calls": 0,
                  "total_sms": 0,
                  "average_com": 36.03921428571429,
                  "mood_next_day": 6,
                  "average_soc": 109.34063157894737,
                  "average_valence": "0.4",
                  "average_arousal": "0.0",
                  "average_finance": 0,
                  "average_office": 6.036,
                  "average_entertainment": 29.80308333333333,
                  "average_game": 0,
                  "_deepnote_index_column": 1196
                },
                {
                  "unique_id": "2014-05-12_AS14.33",
                  "id": "AS14.33",
                  "date": "2014-05-12",
                  "average_mood": 6,
                  "total_calls": 13,
                  "total_sms": 0,
                  "average_com": 71.05900000000001,
                  "mood_next_day": 5,
                  "average_soc": 96.1325476190476,
                  "average_valence": "0.5",
                  "average_arousal": "-0.75",
                  "average_finance": 0,
                  "average_office": 0,
                  "average_entertainment": 59.3545,
                  "average_game": 0,
                  "_deepnote_index_column": 1197
                },
                {
                  "unique_id": "2014-05-13_AS14.33",
                  "id": "AS14.33",
                  "date": "2014-05-13",
                  "average_mood": 5,
                  "total_calls": 0,
                  "total_sms": 0,
                  "average_com": 117.31816216216212,
                  "mood_next_day": 6.833333333333333,
                  "average_soc": 70.49519148936172,
                  "average_valence": "0.0",
                  "average_arousal": "0.5",
                  "average_finance": 0,
                  "average_office": 0,
                  "average_entertainment": 102.67525,
                  "average_game": 0,
                  "_deepnote_index_column": 1198
                },
                {
                  "unique_id": "2014-05-14_AS14.33",
                  "id": "AS14.33",
                  "date": "2014-05-14",
                  "average_mood": 6.833333333333333,
                  "total_calls": 0,
                  "total_sms": 0,
                  "average_com": 26.813666666666663,
                  "mood_next_day": 6,
                  "average_soc": 220.86894117647057,
                  "average_valence": "nan",
                  "average_arousal": "-0.3333333333333333",
                  "average_finance": 0,
                  "average_office": 0,
                  "average_entertainment": 136.70175,
                  "average_game": 0,
                  "_deepnote_index_column": 1199
                },
                {
                  "unique_id": "2014-05-15_AS14.33",
                  "id": "AS14.33",
                  "date": "2014-05-15",
                  "average_mood": 6,
                  "total_calls": 8,
                  "total_sms": 0,
                  "average_com": 46.31244,
                  "mood_next_day": 7,
                  "average_soc": 83.54154117647063,
                  "average_valence": "nan",
                  "average_arousal": "0.0",
                  "average_finance": 0,
                  "average_office": 0,
                  "average_entertainment": 43.55570588235295,
                  "average_game": 0,
                  "_deepnote_index_column": 1200
                },
                {
                  "unique_id": "2014-05-16_AS14.33",
                  "id": "AS14.33",
                  "date": "2014-05-16",
                  "average_mood": 7,
                  "total_calls": 11,
                  "total_sms": 0,
                  "average_com": 41.621538461538464,
                  "mood_next_day": 6,
                  "average_soc": 67.17041463414633,
                  "average_valence": "nan",
                  "average_arousal": "0.4",
                  "average_finance": 0,
                  "average_office": 0,
                  "average_entertainment": 47.19935714285714,
                  "average_game": 0,
                  "_deepnote_index_column": 1201
                },
                {
                  "unique_id": "2014-05-17_AS14.33",
                  "id": "AS14.33",
                  "date": "2014-05-17",
                  "average_mood": 6,
                  "total_calls": 0,
                  "total_sms": 0,
                  "average_com": 28.5698,
                  "mood_next_day": 6,
                  "average_soc": 86.96725,
                  "average_valence": "nan",
                  "average_arousal": "0.25",
                  "average_finance": 0,
                  "average_office": 0,
                  "average_entertainment": 49.18555555555555,
                  "average_game": 0,
                  "_deepnote_index_column": 1202
                },
                {
                  "unique_id": "2014-05-18_AS14.33",
                  "id": "AS14.33",
                  "date": "2014-05-18",
                  "average_mood": 6,
                  "total_calls": 0,
                  "total_sms": 0,
                  "average_com": 85.93733333333331,
                  "mood_next_day": 6.2,
                  "average_soc": 118.61031506849316,
                  "average_valence": "0.2",
                  "average_arousal": "-0.6",
                  "average_finance": 0,
                  "average_office": 0,
                  "average_entertainment": 63.26666666666665,
                  "average_game": 0,
                  "_deepnote_index_column": 1203
                },
                {
                  "unique_id": "2014-05-19_AS14.33",
                  "id": "AS14.33",
                  "date": "2014-05-19",
                  "average_mood": 6.2,
                  "total_calls": 0,
                  "total_sms": 0,
                  "average_com": 33.11727272727273,
                  "mood_next_day": 6.25,
                  "average_soc": 125.02726923076924,
                  "average_valence": "0.2",
                  "average_arousal": "-0.2",
                  "average_finance": 0,
                  "average_office": 0,
                  "average_entertainment": 106.978,
                  "average_game": 0,
                  "_deepnote_index_column": 1204
                },
                {
                  "unique_id": "2014-05-20_AS14.33",
                  "id": "AS14.33",
                  "date": "2014-05-20",
                  "average_mood": 6.25,
                  "total_calls": 0,
                  "total_sms": 0,
                  "average_com": 96.38788888888888,
                  "mood_next_day": 6,
                  "average_soc": 155.1499189189189,
                  "average_valence": "0.5",
                  "average_arousal": "-0.5",
                  "average_finance": 0,
                  "average_office": 0,
                  "average_entertainment": 131.26640000000003,
                  "average_game": 0,
                  "_deepnote_index_column": 1205
                },
                {
                  "unique_id": "2014-05-21_AS14.33",
                  "id": "AS14.33",
                  "date": "2014-05-21",
                  "average_mood": 6,
                  "total_calls": 0,
                  "total_sms": 0,
                  "average_com": 69.80430769230769,
                  "mood_next_day": 5.75,
                  "average_soc": 121.85502,
                  "average_valence": "nan",
                  "average_arousal": "-0.6666666666666666",
                  "average_finance": 0,
                  "average_office": 0,
                  "average_entertainment": 71.1068,
                  "average_game": 0,
                  "_deepnote_index_column": 1206
                },
                {
                  "unique_id": "2014-05-22_AS14.33",
                  "id": "AS14.33",
                  "date": "2014-05-22",
                  "average_mood": 5.75,
                  "total_calls": 8,
                  "total_sms": 0,
                  "average_com": 45.43628571428571,
                  "mood_next_day": 5.833333333333333,
                  "average_soc": 52.22394594594596,
                  "average_valence": "0.25",
                  "average_arousal": "0.5",
                  "average_finance": 0,
                  "average_office": 0,
                  "average_entertainment": 90.15833333333332,
                  "average_game": 0,
                  "_deepnote_index_column": 1207
                },
                {
                  "unique_id": "2014-05-23_AS14.33",
                  "id": "AS14.33",
                  "date": "2014-05-23",
                  "average_mood": 5.833333333333333,
                  "total_calls": 0,
                  "total_sms": 0,
                  "average_com": 37.2525909090909,
                  "mood_next_day": 6.4,
                  "average_soc": 195.19069696969697,
                  "average_valence": "0.0",
                  "average_arousal": "-0.8333333333333334",
                  "average_finance": 0,
                  "average_office": 0,
                  "average_entertainment": 257.548,
                  "average_game": 0,
                  "_deepnote_index_column": 1208
                },
                {
                  "unique_id": "2014-05-24_AS14.33",
                  "id": "AS14.33",
                  "date": "2014-05-24",
                  "average_mood": 6.4,
                  "total_calls": 0,
                  "total_sms": 0,
                  "average_com": 41.9242962962963,
                  "mood_next_day": 6.25,
                  "average_soc": 107.59092452830193,
                  "average_valence": "nan",
                  "average_arousal": "nan",
                  "average_finance": 0,
                  "average_office": 0,
                  "average_entertainment": 80.71535714285713,
                  "average_game": 0,
                  "_deepnote_index_column": 1209
                },
                {
                  "unique_id": "2014-05-25_AS14.33",
                  "id": "AS14.33",
                  "date": "2014-05-25",
                  "average_mood": 6.25,
                  "total_calls": 3,
                  "total_sms": 8,
                  "average_com": 34.82986666666666,
                  "mood_next_day": 5.4,
                  "average_soc": 45.53446031746032,
                  "average_valence": "nan",
                  "average_arousal": "-0.75",
                  "average_finance": 0,
                  "average_office": 0,
                  "average_entertainment": 64.73866666666667,
                  "average_game": 0,
                  "_deepnote_index_column": 1210
                },
                {
                  "unique_id": "2014-05-26_AS14.33",
                  "id": "AS14.33",
                  "date": "2014-05-26",
                  "average_mood": 5.4,
                  "total_calls": 10,
                  "total_sms": 3,
                  "average_com": 34.32047222222222,
                  "mood_next_day": 6.2,
                  "average_soc": 111.04620408163264,
                  "average_valence": "0.0",
                  "average_arousal": "-0.4",
                  "average_finance": 0,
                  "average_office": 130.53,
                  "average_entertainment": 68.8769,
                  "average_game": 0,
                  "_deepnote_index_column": 1211
                },
                {
                  "unique_id": "2014-05-27_AS14.33",
                  "id": "AS14.33",
                  "date": "2014-05-27",
                  "average_mood": 6.2,
                  "total_calls": 1,
                  "total_sms": 2,
                  "average_com": 59.38294285714287,
                  "mood_next_day": 8.2,
                  "average_soc": 50.2591,
                  "average_valence": "0.4",
                  "average_arousal": "-0.6",
                  "average_finance": 0,
                  "average_office": 0,
                  "average_entertainment": 62.347,
                  "average_game": 0,
                  "_deepnote_index_column": 1212
                },
                {
                  "unique_id": "2014-05-28_AS14.33",
                  "id": "AS14.33",
                  "date": "2014-05-28",
                  "average_mood": 8.2,
                  "total_calls": 10,
                  "total_sms": 1,
                  "average_com": 37.23875,
                  "mood_next_day": 7,
                  "average_soc": 99.2816851851852,
                  "average_valence": "1.2",
                  "average_arousal": "0.0",
                  "average_finance": 0,
                  "average_office": 0,
                  "average_entertainment": 43.90757142857144,
                  "average_game": 0,
                  "_deepnote_index_column": 1213
                },
                {
                  "unique_id": "2014-05-29_AS14.33",
                  "id": "AS14.33",
                  "date": "2014-05-29",
                  "average_mood": 7,
                  "total_calls": 5,
                  "total_sms": 0,
                  "average_com": 54.388125,
                  "mood_next_day": 6.8,
                  "average_soc": 198.88022222222224,
                  "average_valence": "1.0",
                  "average_arousal": "-1.3333333333333333",
                  "average_finance": 0,
                  "average_office": 0,
                  "average_entertainment": 68.369,
                  "average_game": 0,
                  "_deepnote_index_column": 1214
                }
              ]
            },
            "text/plain": "               unique_id       id        date  average_mood  total_calls  \\\n0     2014-02-26_AS14.01  AS14.01  2014-02-26          6.25          0.0   \n1     2014-03-21_AS14.01  AS14.01  2014-03-21          6.25          6.0   \n2     2014-03-22_AS14.01  AS14.01  2014-03-22          6.40          0.0   \n3     2014-03-23_AS14.01  AS14.01  2014-03-23          6.80          0.0   \n4     2014-03-24_AS14.01  AS14.01  2014-03-24          6.00          0.0   \n...                  ...      ...         ...           ...          ...   \n1210  2014-05-25_AS14.33  AS14.33  2014-05-25          6.25          3.0   \n1211  2014-05-26_AS14.33  AS14.33  2014-05-26          5.40         10.0   \n1212  2014-05-27_AS14.33  AS14.33  2014-05-27          6.20          1.0   \n1213  2014-05-28_AS14.33  AS14.33  2014-05-28          8.20         10.0   \n1214  2014-05-29_AS14.33  AS14.33  2014-05-29          7.00          5.0   \n\n      total_sms  average_com  mood_next_day  average_soc  average_valence  \\\n0           0.0     0.000000           6.25     0.000000             0.75   \n1           0.0    55.095526           6.40    75.141667             0.20   \n2           0.0    51.697063           6.80    36.636000              NaN   \n3           0.0    53.442031           6.00    50.046611             0.80   \n4           0.0    47.541687           6.75    74.968047             0.00   \n...         ...          ...            ...          ...              ...   \n1210        8.0    34.829867           5.40    45.534460              NaN   \n1211        3.0    34.320472           6.20   111.046204             0.00   \n1212        2.0    59.382943           8.20    50.259100             0.40   \n1213        1.0    37.238750           7.00    99.281685             1.20   \n1214        0.0    54.388125           6.80   198.880222             1.00   \n\n      average_arousal  average_finance  average_office  average_entertainment  \\\n0           -0.250000         0.000000           0.000               0.000000   \n1            0.200000         6.193000          57.402              53.024000   \n2            0.600000         7.025333           0.000              46.662000   \n3            0.200000        10.850750           0.000              31.448667   \n4            0.800000         5.684333           3.010             122.121375   \n...               ...              ...             ...                    ...   \n1210        -0.750000         0.000000           0.000              64.738667   \n1211        -0.400000         0.000000         130.530              68.876900   \n1212        -0.600000         0.000000           0.000              62.347000   \n1213         0.000000         0.000000           0.000              43.907571   \n1214        -1.333333         0.000000           0.000              68.369000   \n\n      average_game  \n0              0.0  \n1              0.0  \n2              0.0  \n3              0.0  \n4              0.0  \n...            ...  \n1210           0.0  \n1211           0.0  \n1212           0.0  \n1213           0.0  \n1214           0.0  \n\n[1215 rows x 15 columns]",
            "text/html": "<div>\n<style scoped>\n    .dataframe tbody tr th:only-of-type {\n        vertical-align: middle;\n    }\n\n    .dataframe tbody tr th {\n        vertical-align: top;\n    }\n\n    .dataframe thead th {\n        text-align: right;\n    }\n</style>\n<table border=\"1\" class=\"dataframe\">\n  <thead>\n    <tr style=\"text-align: right;\">\n      <th></th>\n      <th>unique_id</th>\n      <th>id</th>\n      <th>date</th>\n      <th>average_mood</th>\n      <th>total_calls</th>\n      <th>total_sms</th>\n      <th>average_com</th>\n      <th>mood_next_day</th>\n      <th>average_soc</th>\n      <th>average_valence</th>\n      <th>average_arousal</th>\n      <th>average_finance</th>\n      <th>average_office</th>\n      <th>average_entertainment</th>\n      <th>average_game</th>\n    </tr>\n  </thead>\n  <tbody>\n    <tr>\n      <th>0</th>\n      <td>2014-02-26_AS14.01</td>\n      <td>AS14.01</td>\n      <td>2014-02-26</td>\n      <td>6.25</td>\n      <td>0.0</td>\n      <td>0.0</td>\n      <td>0.000000</td>\n      <td>6.25</td>\n      <td>0.000000</td>\n      <td>0.75</td>\n      <td>-0.250000</td>\n      <td>0.000000</td>\n      <td>0.000</td>\n      <td>0.000000</td>\n      <td>0.0</td>\n    </tr>\n    <tr>\n      <th>1</th>\n      <td>2014-03-21_AS14.01</td>\n      <td>AS14.01</td>\n      <td>2014-03-21</td>\n      <td>6.25</td>\n      <td>6.0</td>\n      <td>0.0</td>\n      <td>55.095526</td>\n      <td>6.40</td>\n      <td>75.141667</td>\n      <td>0.20</td>\n      <td>0.200000</td>\n      <td>6.193000</td>\n      <td>57.402</td>\n      <td>53.024000</td>\n      <td>0.0</td>\n    </tr>\n    <tr>\n      <th>2</th>\n      <td>2014-03-22_AS14.01</td>\n      <td>AS14.01</td>\n      <td>2014-03-22</td>\n      <td>6.40</td>\n      <td>0.0</td>\n      <td>0.0</td>\n      <td>51.697063</td>\n      <td>6.80</td>\n      <td>36.636000</td>\n      <td>NaN</td>\n      <td>0.600000</td>\n      <td>7.025333</td>\n      <td>0.000</td>\n      <td>46.662000</td>\n      <td>0.0</td>\n    </tr>\n    <tr>\n      <th>3</th>\n      <td>2014-03-23_AS14.01</td>\n      <td>AS14.01</td>\n      <td>2014-03-23</td>\n      <td>6.80</td>\n      <td>0.0</td>\n      <td>0.0</td>\n      <td>53.442031</td>\n      <td>6.00</td>\n      <td>50.046611</td>\n      <td>0.80</td>\n      <td>0.200000</td>\n      <td>10.850750</td>\n      <td>0.000</td>\n      <td>31.448667</td>\n      <td>0.0</td>\n    </tr>\n    <tr>\n      <th>4</th>\n      <td>2014-03-24_AS14.01</td>\n      <td>AS14.01</td>\n      <td>2014-03-24</td>\n      <td>6.00</td>\n      <td>0.0</td>\n      <td>0.0</td>\n      <td>47.541687</td>\n      <td>6.75</td>\n      <td>74.968047</td>\n      <td>0.00</td>\n      <td>0.800000</td>\n      <td>5.684333</td>\n      <td>3.010</td>\n      <td>122.121375</td>\n      <td>0.0</td>\n    </tr>\n    <tr>\n      <th>...</th>\n      <td>...</td>\n      <td>...</td>\n      <td>...</td>\n      <td>...</td>\n      <td>...</td>\n      <td>...</td>\n      <td>...</td>\n      <td>...</td>\n      <td>...</td>\n      <td>...</td>\n      <td>...</td>\n      <td>...</td>\n      <td>...</td>\n      <td>...</td>\n      <td>...</td>\n    </tr>\n    <tr>\n      <th>1210</th>\n      <td>2014-05-25_AS14.33</td>\n      <td>AS14.33</td>\n      <td>2014-05-25</td>\n      <td>6.25</td>\n      <td>3.0</td>\n      <td>8.0</td>\n      <td>34.829867</td>\n      <td>5.40</td>\n      <td>45.534460</td>\n      <td>NaN</td>\n      <td>-0.750000</td>\n      <td>0.000000</td>\n      <td>0.000</td>\n      <td>64.738667</td>\n      <td>0.0</td>\n    </tr>\n    <tr>\n      <th>1211</th>\n      <td>2014-05-26_AS14.33</td>\n      <td>AS14.33</td>\n      <td>2014-05-26</td>\n      <td>5.40</td>\n      <td>10.0</td>\n      <td>3.0</td>\n      <td>34.320472</td>\n      <td>6.20</td>\n      <td>111.046204</td>\n      <td>0.00</td>\n      <td>-0.400000</td>\n      <td>0.000000</td>\n      <td>130.530</td>\n      <td>68.876900</td>\n      <td>0.0</td>\n    </tr>\n    <tr>\n      <th>1212</th>\n      <td>2014-05-27_AS14.33</td>\n      <td>AS14.33</td>\n      <td>2014-05-27</td>\n      <td>6.20</td>\n      <td>1.0</td>\n      <td>2.0</td>\n      <td>59.382943</td>\n      <td>8.20</td>\n      <td>50.259100</td>\n      <td>0.40</td>\n      <td>-0.600000</td>\n      <td>0.000000</td>\n      <td>0.000</td>\n      <td>62.347000</td>\n      <td>0.0</td>\n    </tr>\n    <tr>\n      <th>1213</th>\n      <td>2014-05-28_AS14.33</td>\n      <td>AS14.33</td>\n      <td>2014-05-28</td>\n      <td>8.20</td>\n      <td>10.0</td>\n      <td>1.0</td>\n      <td>37.238750</td>\n      <td>7.00</td>\n      <td>99.281685</td>\n      <td>1.20</td>\n      <td>0.000000</td>\n      <td>0.000000</td>\n      <td>0.000</td>\n      <td>43.907571</td>\n      <td>0.0</td>\n    </tr>\n    <tr>\n      <th>1214</th>\n      <td>2014-05-29_AS14.33</td>\n      <td>AS14.33</td>\n      <td>2014-05-29</td>\n      <td>7.00</td>\n      <td>5.0</td>\n      <td>0.0</td>\n      <td>54.388125</td>\n      <td>6.80</td>\n      <td>198.880222</td>\n      <td>1.00</td>\n      <td>-1.333333</td>\n      <td>0.000000</td>\n      <td>0.000</td>\n      <td>68.369000</td>\n      <td>0.0</td>\n    </tr>\n  </tbody>\n</table>\n<p>1215 rows × 15 columns</p>\n</div>"
          },
          "metadata": {}
        }
      ]
    },
    {
      "cell_type": "code",
      "metadata": {
        "tags": [],
        "cell_id": "00005-563dfccf-1161-42b1-bf43-e7454778459f",
        "deepnote_to_be_reexecuted": false,
        "source_hash": "ec845bb7",
        "execution_millis": 787,
        "execution_start": 1617971195920,
        "deepnote_cell_type": "code"
      },
      "source": "import missingno as msno\n%matplotlib inline\nmsno.matrix(df)",
      "execution_count": null,
      "outputs": [
        {
          "output_type": "execute_result",
          "execution_count": 11,
          "data": {
            "text/plain": "<AxesSubplot:>"
          },
          "metadata": {}
        },
        {
          "data": {
            "text/plain": "<Figure size 1800x720 with 2 Axes>",
            "image/png": "[encoded data removed]"
          },
          "metadata": {
            "needs_background": "light"
          },
          "output_type": "display_data"
        }
      ]
    },
    {
      "cell_type": "code",
      "metadata": {
        "tags": [],
        "cell_id": "00005-9fb5afed-db77-4563-8560-c1c05ea11dac",
        "deepnote_to_be_reexecuted": false,
        "source_hash": "d18973b5",
        "execution_millis": 4,
        "execution_start": 1617971201694,
        "deepnote_cell_type": "code"
      },
      "source": "df['average_valence'] = df['average_valence'].fillna(df.groupby('id')['average_valence'].transform('mean'))\ndf['average_arousal'] = df['average_arousal'].fillna(df.groupby('id')['average_arousal'].transform('mean'))",
      "execution_count": null,
      "outputs": []
    },
    {
      "cell_type": "code",
      "metadata": {
        "tags": [],
        "cell_id": "00008-66a7e670-4e2b-4396-ac0a-b8f2cb4dc213",
        "deepnote_to_be_reexecuted": false,
        "source_hash": "f6d90ec7",
        "execution_millis": 15,
        "execution_start": 1617971203611,
        "deepnote_cell_type": "code"
      },
      "source": "df.isnull().sum(axis=0)",
      "execution_count": null,
      "outputs": [
        {
          "output_type": "execute_result",
          "execution_count": 13,
          "data": {
            "text/plain": "unique_id                0\nid                       0\ndate                     0\naverage_mood             0\ntotal_calls              0\ntotal_sms                0\naverage_com              0\nmood_next_day            0\naverage_soc              0\naverage_valence          0\naverage_arousal          0\naverage_finance          0\naverage_office           0\naverage_entertainment    0\naverage_game             0\ndtype: int64"
          },
          "metadata": {}
        }
      ]
    },
    {
      "cell_type": "code",
      "metadata": {
        "tags": [],
        "cell_id": "00009-7df5370a-cf9a-48e6-811c-0616008130b6",
        "deepnote_to_be_reexecuted": false,
        "source_hash": "33a63abb",
        "execution_millis": 51,
        "execution_start": 1617971205752,
        "deepnote_cell_type": "code"
      },
      "source": "df.to_csv('new_data_no_missingvalues.csv')",
      "execution_count": null,
      "outputs": []
    },
    {
      "cell_type": "code",
      "metadata": {
        "tags": [],
        "cell_id": "00003-ac483d2f-8c67-491d-962f-7a82f8a6861b",
        "deepnote_to_be_reexecuted": false,
        "source_hash": "93a139f4",
        "execution_millis": 4,
        "execution_start": 1617971220922,
        "deepnote_cell_type": "code"
      },
      "source": "corr_ = df.corr()",
      "execution_count": null,
      "outputs": []
    },
    {
      "cell_type": "code",
      "metadata": {
        "tags": [],
        "cell_id": "00004-f71c40ca-4cc4-49c1-a10a-70c6ee2abd14",
        "deepnote_to_be_reexecuted": false,
        "source_hash": "d25ca5b9",
        "execution_millis": 720,
        "execution_start": 1617971222912,
        "deepnote_cell_type": "code"
      },
      "source": "try:\n    plt.figure(figsize=(12,10))\n    sns.heatmap(corr_, # annot=True, # Annotations will take an incredibly long time... better to leave them off\n    cmap=plt.cm.Reds)\n    plt.show()\nexcept Exception as exc:\n    print(f\"While working without supervision...\\nEncountered {exc}\")",
      "execution_count": null,
      "outputs": [
        {
          "data": {
            "text/plain": "<Figure size 864x720 with 2 Axes>",
            "image/png": "[encoded data removed]"
          },
          "metadata": {
            "needs_background": "light"
          },
          "output_type": "display_data"
        }
      ]
    },
    {
      "cell_type": "code",
      "metadata": {
        "tags": [],
        "cell_id": "00005-78f8c0e0-7b34-40f6-9609-b5196fe18309",
        "deepnote_to_be_reexecuted": false,
        "source_hash": "dbe0970f",
        "execution_millis": 9,
        "execution_start": 1617971231779,
        "deepnote_cell_type": "code"
      },
      "source": "dfp = df.drop([\"date\", \"id\", \"unique_id\"], axis=1)",
      "execution_count": null,
      "outputs": []
    },
    {
      "cell_type": "code",
      "metadata": {
        "tags": [],
        "cell_id": "00006-1bb08170-ad23-422b-8e65-a64ea2d0b494",
        "deepnote_to_be_reexecuted": false,
        "source_hash": "f349dc6",
        "execution_millis": 47,
        "execution_start": 1617971232762,
        "deepnote_cell_type": "code"
      },
      "source": "dfp = dfp/dfp.std(0)",
      "execution_count": null,
      "outputs": []
    },
    {
      "cell_type": "code",
      "metadata": {
        "tags": [],
        "cell_id": "00008-1c9f7d1c-787f-42ed-9e40-e862ee9bb6b4",
        "deepnote_to_be_reexecuted": false,
        "source_hash": "a85d787f",
        "execution_millis": 26,
        "execution_start": 1617971233582,
        "deepnote_cell_type": "code"
      },
      "source": "dfp = minmax_scaling(dfp, columns=dfp.columns)\ndfp = np.log(dfp+1)",
      "execution_count": null,
      "outputs": []
    },
    {
      "cell_type": "code",
      "metadata": {
        "tags": [],
        "cell_id": "00009-78c81c9c-86df-42ea-9454-c00507c059d8",
        "deepnote_to_be_reexecuted": false,
        "source_hash": "ad367fb1",
        "execution_millis": 1,
        "execution_start": 1617971234391,
        "deepnote_cell_type": "code"
      },
      "source": "for col in dfp.columns:\n    df[col] = dfp[col]",
      "execution_count": null,
      "outputs": []
    },
    {
      "cell_type": "code",
      "metadata": {
        "tags": [],
        "cell_id": "00010-f5d7c80e-0bff-45a8-b53e-ff6679928582",
        "deepnote_to_be_reexecuted": false,
        "source_hash": "c7fb815b",
        "execution_millis": 2,
        "execution_start": 1617971236207,
        "deepnote_cell_type": "code"
      },
      "source": "corr = dfp.corr()",
      "execution_count": null,
      "outputs": []
    },
    {
      "cell_type": "code",
      "metadata": {
        "tags": [],
        "cell_id": "00011-a935dc88-d95b-4e63-93e5-67c85f862d9a",
        "deepnote_to_be_reexecuted": false,
        "source_hash": "e6362423",
        "execution_millis": 1025,
        "execution_start": 1617971290993,
        "deepnote_cell_type": "code"
      },
      "source": "# Lets see if we can plot it, because a plot can tell more than a thousands words (right?)\ntry:\n    plt.figure(figsize=(12,10))\n    sns.heatmap(corr, # annot=True, # Annotations will take an incredibly long time... better to leave them off\n    cmap=plt.cm.Reds)\n    plt.savefig('correlations.png')\n    plt.show()\nexcept Exception as exc:\n    print(f\"While working without supervision...\\nEncountered {exc}\")",
      "execution_count": null,
      "outputs": [
        {
          "data": {
            "text/plain": "<Figure size 864x720 with 2 Axes>",
            "image/png": "[encoded data removed]"
          },
          "metadata": {
            "needs_background": "light"
          },
          "output_type": "display_data"
        }
      ]
    },
    {
      "cell_type": "markdown",
      "source": "##### So features that correlate with the mood the next day: the average current mood of the person, the average valence of that day, the average arousal of that day. (Maybe slightly average office app usage and average game app usage)",
      "metadata": {
        "tags": [],
        "cell_id": "00017-e456cda5-63a6-4ad9-b603-917427d3c529",
        "deepnote_cell_type": "markdown"
      }
    },
    {
      "cell_type": "code",
      "metadata": {
        "tags": [],
        "cell_id": "00012-ff4a32c3-8262-4805-9406-5f56f9855e7c",
        "deepnote_to_be_reexecuted": false,
        "source_hash": "3789badc",
        "execution_millis": 113,
        "execution_start": 1617796857177,
        "deepnote_cell_type": "code"
      },
      "source": "df.drop([x for x in df.columns if df[x].dtype != np.float64 or x == \"mood_next_day\"], axis=1)",
      "execution_count": null,
      "outputs": [
        {
          "output_type": "execute_result",
          "execution_count": 18,
          "data": {
            "application/vnd.deepnote.dataframe.v2+json": {
              "row_count": 1215,
              "column_count": 11,
              "columns": [
                {
                  "name": "average_mood",
                  "dtype": "float64",
                  "stats": {
                    "unique_count": 71,
                    "nan_count": 0,
                    "min": 0,
                    "max": 0.6931471805599453,
                    "histogram": [
                      {
                        "bin_start": 0,
                        "bin_end": 0.06931471805599453,
                        "count": 2
                      },
                      {
                        "bin_start": 0.06931471805599453,
                        "bin_end": 0.13862943611198905,
                        "count": 5
                      },
                      {
                        "bin_start": 0.13862943611198905,
                        "bin_end": 0.20794415416798356,
                        "count": 2
                      },
                      {
                        "bin_start": 0.20794415416798356,
                        "bin_end": 0.2772588722239781,
                        "count": 9
                      },
                      {
                        "bin_start": 0.2772588722239781,
                        "bin_end": 0.34657359027997264,
                        "count": 27
                      },
                      {
                        "bin_start": 0.34657359027997264,
                        "bin_end": 0.4158883083359671,
                        "count": 143
                      },
                      {
                        "bin_start": 0.4158883083359671,
                        "bin_end": 0.48520302639196167,
                        "count": 290
                      },
                      {
                        "bin_start": 0.48520302639196167,
                        "bin_end": 0.5545177444479562,
                        "count": 549
                      },
                      {
                        "bin_start": 0.5545177444479562,
                        "bin_end": 0.6238324625039507,
                        "count": 174
                      },
                      {
                        "bin_start": 0.6238324625039507,
                        "bin_end": 0.6931471805599453,
                        "count": 14
                      }
                    ]
                  }
                },
                {
                  "name": "total_calls",
                  "dtype": "float64",
                  "stats": {
                    "unique_count": 23,
                    "nan_count": 0,
                    "min": 0,
                    "max": 0.6931471805599453,
                    "histogram": [
                      {
                        "bin_start": 0,
                        "bin_end": 0.06931471805599453,
                        "count": 852
                      },
                      {
                        "bin_start": 0.06931471805599453,
                        "bin_end": 0.13862943611198905,
                        "count": 115
                      },
                      {
                        "bin_start": 0.13862943611198905,
                        "bin_end": 0.20794415416798356,
                        "count": 117
                      },
                      {
                        "bin_start": 0.20794415416798356,
                        "bin_end": 0.2772588722239781,
                        "count": 59
                      },
                      {
                        "bin_start": 0.2772588722239781,
                        "bin_end": 0.34657359027997264,
                        "count": 43
                      },
                      {
                        "bin_start": 0.34657359027997264,
                        "bin_end": 0.4158883083359671,
                        "count": 16
                      },
                      {
                        "bin_start": 0.4158883083359671,
                        "bin_end": 0.48520302639196167,
                        "count": 7
                      },
                      {
                        "bin_start": 0.48520302639196167,
                        "bin_end": 0.5545177444479562,
                        "count": 3
                      },
                      {
                        "bin_start": 0.5545177444479562,
                        "bin_end": 0.6238324625039507,
                        "count": 2
                      },
                      {
                        "bin_start": 0.6238324625039507,
                        "bin_end": 0.6931471805599453,
                        "count": 1
                      }
                    ]
                  }
                },
                {
                  "name": "total_sms",
                  "dtype": "float64",
                  "stats": {
                    "unique_count": 22,
                    "nan_count": 0,
                    "min": 0,
                    "max": 0.6931471805599453,
                    "histogram": [
                      {
                        "bin_start": 0,
                        "bin_end": 0.06931471805599453,
                        "count": 1108
                      },
                      {
                        "bin_start": 0.06931471805599453,
                        "bin_end": 0.13862943611198905,
                        "count": 47
                      },
                      {
                        "bin_start": 0.13862943611198905,
                        "bin_end": 0.20794415416798356,
                        "count": 25
                      },
                      {
                        "bin_start": 0.20794415416798356,
                        "bin_end": 0.2772588722239781,
                        "count": 8
                      },
                      {
                        "bin_start": 0.2772588722239781,
                        "bin_end": 0.34657359027997264,
                        "count": 16
                      },
                      {
                        "bin_start": 0.34657359027997264,
                        "bin_end": 0.4158883083359671,
                        "count": 3
                      },
                      {
                        "bin_start": 0.4158883083359671,
                        "bin_end": 0.48520302639196167,
                        "count": 0
                      },
                      {
                        "bin_start": 0.48520302639196167,
                        "bin_end": 0.5545177444479562,
                        "count": 5
                      },
                      {
                        "bin_start": 0.5545177444479562,
                        "bin_end": 0.6238324625039507,
                        "count": 2
                      },
                      {
                        "bin_start": 0.6238324625039507,
                        "bin_end": 0.6931471805599453,
                        "count": 1
                      }
                    ]
                  }
                },
                {
                  "name": "average_com",
                  "dtype": "float64",
                  "stats": {
                    "unique_count": 1104,
                    "nan_count": 0,
                    "min": 0,
                    "max": 0.6931471805599453,
                    "histogram": [
                      {
                        "bin_start": 0,
                        "bin_end": 0.06931471805599453,
                        "count": 631
                      },
                      {
                        "bin_start": 0.06931471805599453,
                        "bin_end": 0.13862943611198905,
                        "count": 498
                      },
                      {
                        "bin_start": 0.13862943611198905,
                        "bin_end": 0.20794415416798356,
                        "count": 61
                      },
                      {
                        "bin_start": 0.20794415416798356,
                        "bin_end": 0.2772588722239781,
                        "count": 12
                      },
                      {
                        "bin_start": 0.2772588722239781,
                        "bin_end": 0.34657359027997264,
                        "count": 6
                      },
                      {
                        "bin_start": 0.34657359027997264,
                        "bin_end": 0.4158883083359671,
                        "count": 0
                      },
                      {
                        "bin_start": 0.4158883083359671,
                        "bin_end": 0.48520302639196167,
                        "count": 1
                      },
                      {
                        "bin_start": 0.48520302639196167,
                        "bin_end": 0.5545177444479562,
                        "count": 4
                      },
                      {
                        "bin_start": 0.5545177444479562,
                        "bin_end": 0.6238324625039507,
                        "count": 1
                      },
                      {
                        "bin_start": 0.6238324625039507,
                        "bin_end": 0.6931471805599453,
                        "count": 1
                      }
                    ]
                  }
                },
                {
                  "name": "average_soc",
                  "dtype": "float64",
                  "stats": {
                    "unique_count": 926,
                    "nan_count": 0,
                    "min": 0,
                    "max": 0.6931471805599453,
                    "histogram": [
                      {
                        "bin_start": 0,
                        "bin_end": 0.06931471805599453,
                        "count": 1198
                      },
                      {
                        "bin_start": 0.06931471805599453,
                        "bin_end": 0.13862943611198905,
                        "count": 12
                      },
                      {
                        "bin_start": 0.13862943611198905,
                        "bin_end": 0.20794415416798356,
                        "count": 4
                      },
                      {
                        "bin_start": 0.20794415416798356,
                        "bin_end": 0.2772588722239781,
                        "count": 0
                      },
                      {
                        "bin_start": 0.2772588722239781,
                        "bin_end": 0.34657359027997264,
                        "count": 0
                      },
                      {
                        "bin_start": 0.34657359027997264,
                        "bin_end": 0.4158883083359671,
                        "count": 0
                      },
                      {
                        "bin_start": 0.4158883083359671,
                        "bin_end": 0.48520302639196167,
                        "count": 0
                      },
                      {
                        "bin_start": 0.48520302639196167,
                        "bin_end": 0.5545177444479562,
                        "count": 0
                      },
                      {
                        "bin_start": 0.5545177444479562,
                        "bin_end": 0.6238324625039507,
                        "count": 0
                      },
                      {
                        "bin_start": 0.6238324625039507,
                        "bin_end": 0.6931471805599453,
                        "count": 1
                      }
                    ]
                  }
                },
                {
                  "name": "average_valence",
                  "dtype": "float64",
                  "stats": {
                    "unique_count": 44,
                    "nan_count": 0,
                    "min": 0,
                    "max": 0.6931471805599453,
                    "histogram": [
                      {
                        "bin_start": 0,
                        "bin_end": 0.06931471805599453,
                        "count": 1
                      },
                      {
                        "bin_start": 0.06931471805599453,
                        "bin_end": 0.13862943611198905,
                        "count": 7
                      },
                      {
                        "bin_start": 0.13862943611198905,
                        "bin_end": 0.20794415416798356,
                        "count": 11
                      },
                      {
                        "bin_start": 0.20794415416798356,
                        "bin_end": 0.2772588722239781,
                        "count": 16
                      },
                      {
                        "bin_start": 0.2772588722239781,
                        "bin_end": 0.34657359027997264,
                        "count": 95
                      },
                      {
                        "bin_start": 0.34657359027997264,
                        "bin_end": 0.4158883083359671,
                        "count": 169
                      },
                      {
                        "bin_start": 0.4158883083359671,
                        "bin_end": 0.48520302639196167,
                        "count": 331
                      },
                      {
                        "bin_start": 0.48520302639196167,
                        "bin_end": 0.5545177444479562,
                        "count": 496
                      },
                      {
                        "bin_start": 0.5545177444479562,
                        "bin_end": 0.6238324625039507,
                        "count": 78
                      },
                      {
                        "bin_start": 0.6238324625039507,
                        "bin_end": 0.6931471805599453,
                        "count": 11
                      }
                    ]
                  }
                },
                {
                  "name": "average_arousal",
                  "dtype": "float64",
                  "stats": {
                    "unique_count": 55,
                    "nan_count": 0,
                    "min": 0,
                    "max": 0.6931471805599453,
                    "histogram": [
                      {
                        "bin_start": 0,
                        "bin_end": 0.06931471805599453,
                        "count": 10
                      },
                      {
                        "bin_start": 0.06931471805599453,
                        "bin_end": 0.13862943611198905,
                        "count": 10
                      },
                      {
                        "bin_start": 0.13862943611198905,
                        "bin_end": 0.20794415416798356,
                        "count": 62
                      },
                      {
                        "bin_start": 0.20794415416798356,
                        "bin_end": 0.2772588722239781,
                        "count": 137
                      },
                      {
                        "bin_start": 0.2772588722239781,
                        "bin_end": 0.34657359027997264,
                        "count": 187
                      },
                      {
                        "bin_start": 0.34657359027997264,
                        "bin_end": 0.4158883083359671,
                        "count": 343
                      },
                      {
                        "bin_start": 0.4158883083359671,
                        "bin_end": 0.48520302639196167,
                        "count": 238
                      },
                      {
                        "bin_start": 0.48520302639196167,
                        "bin_end": 0.5545177444479562,
                        "count": 145
                      },
                      {
                        "bin_start": 0.5545177444479562,
                        "bin_end": 0.6238324625039507,
                        "count": 79
                      },
                      {
                        "bin_start": 0.6238324625039507,
                        "bin_end": 0.6931471805599453,
                        "count": 4
                      }
                    ]
                  }
                },
                {
                  "name": "average_finance",
                  "dtype": "float64",
                  "stats": {
                    "unique_count": 201,
                    "nan_count": 0,
                    "min": 0,
                    "max": 0.6931471805599453,
                    "histogram": [
                      {
                        "bin_start": 0,
                        "bin_end": 0.06931471805599453,
                        "count": 1075
                      },
                      {
                        "bin_start": 0.06931471805599453,
                        "bin_end": 0.13862943611198905,
                        "count": 59
                      },
                      {
                        "bin_start": 0.13862943611198905,
                        "bin_end": 0.20794415416798356,
                        "count": 34
                      },
                      {
                        "bin_start": 0.20794415416798356,
                        "bin_end": 0.2772588722239781,
                        "count": 16
                      },
                      {
                        "bin_start": 0.2772588722239781,
                        "bin_end": 0.34657359027997264,
                        "count": 11
                      },
                      {
                        "bin_start": 0.34657359027997264,
                        "bin_end": 0.4158883083359671,
                        "count": 11
                      },
                      {
                        "bin_start": 0.4158883083359671,
                        "bin_end": 0.48520302639196167,
                        "count": 4
                      },
                      {
                        "bin_start": 0.48520302639196167,
                        "bin_end": 0.5545177444479562,
                        "count": 2
                      },
                      {
                        "bin_start": 0.5545177444479562,
                        "bin_end": 0.6238324625039507,
                        "count": 1
                      },
                      {
                        "bin_start": 0.6238324625039507,
                        "bin_end": 0.6931471805599453,
                        "count": 2
                      }
                    ]
                  }
                },
                {
                  "name": "average_office",
                  "dtype": "float64",
                  "stats": {
                    "unique_count": 257,
                    "nan_count": 0,
                    "min": 0,
                    "max": 0.6931471805599453,
                    "histogram": [
                      {
                        "bin_start": 0,
                        "bin_end": 0.06931471805599453,
                        "count": 1190
                      },
                      {
                        "bin_start": 0.06931471805599453,
                        "bin_end": 0.13862943611198905,
                        "count": 16
                      },
                      {
                        "bin_start": 0.13862943611198905,
                        "bin_end": 0.20794415416798356,
                        "count": 7
                      },
                      {
                        "bin_start": 0.20794415416798356,
                        "bin_end": 0.2772588722239781,
                        "count": 1
                      },
                      {
                        "bin_start": 0.2772588722239781,
                        "bin_end": 0.34657359027997264,
                        "count": 0
                      },
                      {
                        "bin_start": 0.34657359027997264,
                        "bin_end": 0.4158883083359671,
                        "count": 0
                      },
                      {
                        "bin_start": 0.4158883083359671,
                        "bin_end": 0.48520302639196167,
                        "count": 0
                      },
                      {
                        "bin_start": 0.48520302639196167,
                        "bin_end": 0.5545177444479562,
                        "count": 0
                      },
                      {
                        "bin_start": 0.5545177444479562,
                        "bin_end": 0.6238324625039507,
                        "count": 0
                      },
                      {
                        "bin_start": 0.6238324625039507,
                        "bin_end": 0.6931471805599453,
                        "count": 1
                      }
                    ]
                  }
                },
                {
                  "name": "average_entertainment",
                  "dtype": "float64",
                  "stats": {
                    "unique_count": 792,
                    "nan_count": 0,
                    "min": 0,
                    "max": 0.6931471805599453,
                    "histogram": [
                      {
                        "bin_start": 0,
                        "bin_end": 0.06931471805599453,
                        "count": 1021
                      },
                      {
                        "bin_start": 0.06931471805599453,
                        "bin_end": 0.13862943611198905,
                        "count": 124
                      },
                      {
                        "bin_start": 0.13862943611198905,
                        "bin_end": 0.20794415416798356,
                        "count": 39
                      },
                      {
                        "bin_start": 0.20794415416798356,
                        "bin_end": 0.2772588722239781,
                        "count": 14
                      },
                      {
                        "bin_start": 0.2772588722239781,
                        "bin_end": 0.34657359027997264,
                        "count": 6
                      },
                      {
                        "bin_start": 0.34657359027997264,
                        "bin_end": 0.4158883083359671,
                        "count": 4
                      },
                      {
                        "bin_start": 0.4158883083359671,
                        "bin_end": 0.48520302639196167,
                        "count": 3
                      },
                      {
                        "bin_start": 0.48520302639196167,
                        "bin_end": 0.5545177444479562,
                        "count": 2
                      },
                      {
                        "bin_start": 0.5545177444479562,
                        "bin_end": 0.6238324625039507,
                        "count": 1
                      },
                      {
                        "bin_start": 0.6238324625039507,
                        "bin_end": 0.6931471805599453,
                        "count": 1
                      }
                    ]
                  }
                },
                {
                  "name": "average_game",
                  "dtype": "float64",
                  "stats": {
                    "unique_count": 178,
                    "nan_count": 0,
                    "min": 0,
                    "max": 0.6931471805599453,
                    "histogram": [
                      {
                        "bin_start": 0,
                        "bin_end": 0.06931471805599453,
                        "count": 1171
                      },
                      {
                        "bin_start": 0.06931471805599453,
                        "bin_end": 0.13862943611198905,
                        "count": 22
                      },
                      {
                        "bin_start": 0.13862943611198905,
                        "bin_end": 0.20794415416798356,
                        "count": 13
                      },
                      {
                        "bin_start": 0.20794415416798356,
                        "bin_end": 0.2772588722239781,
                        "count": 5
                      },
                      {
                        "bin_start": 0.2772588722239781,
                        "bin_end": 0.34657359027997264,
                        "count": 3
                      },
                      {
                        "bin_start": 0.34657359027997264,
                        "bin_end": 0.4158883083359671,
                        "count": 0
                      },
                      {
                        "bin_start": 0.4158883083359671,
                        "bin_end": 0.48520302639196167,
                        "count": 0
                      },
                      {
                        "bin_start": 0.48520302639196167,
                        "bin_end": 0.5545177444479562,
                        "count": 0
                      },
                      {
                        "bin_start": 0.5545177444479562,
                        "bin_end": 0.6238324625039507,
                        "count": 0
                      },
                      {
                        "bin_start": 0.6238324625039507,
                        "bin_end": 0.6931471805599453,
                        "count": 1
                      }
                    ]
                  }
                },
                {
                  "name": "_deepnote_index_column",
                  "dtype": "int64"
                }
              ],
              "rows_top": [
                {
                  "average_mood": 0.41419878807691896,
                  "total_calls": 0,
                  "total_sms": 0,
                  "average_com": 0,
                  "average_soc": 0,
                  "average_valence": 0.4795730802618863,
                  "average_arousal": 0.3629054936893685,
                  "average_finance": 0,
                  "average_office": 0,
                  "average_entertainment": 0,
                  "average_game": 0,
                  "_deepnote_index_column": 0
                },
                {
                  "average_mood": 0.41419878807691896,
                  "total_calls": 0.17693070815907824,
                  "total_sms": 0,
                  "average_com": 0.10020907608366211,
                  "average_soc": 0.01979170342642096,
                  "average_valence": 0.36890751237436675,
                  "average_arousal": 0.43825493093115514,
                  "average_finance": 0.040674779952343636,
                  "average_office": 0.03768056602274409,
                  "average_entertainment": 0.03161617352865432,
                  "average_game": 0,
                  "_deepnote_index_column": 1
                },
                {
                  "average_mood": 0.4297297301077955,
                  "total_calls": 0,
                  "total_sms": 0,
                  "average_com": 0.09431011870026698,
                  "average_soc": 0.00969856508340451,
                  "average_valence": 0.46974372021243355,
                  "average_arousal": 0.5007752879124894,
                  "average_finance": 0.046017449075772245,
                  "average_office": 0,
                  "average_entertainment": 0.02787510799070559,
                  "average_game": 0,
                  "_deepnote_index_column": 2
                },
                {
                  "average_mood": 0.47000362924573547,
                  "total_calls": 0,
                  "total_sms": 0,
                  "average_com": 0.09734333132681294,
                  "average_soc": 0.013225339113007707,
                  "average_valence": 0.48905182421643,
                  "average_arousal": 0.43825493093115514,
                  "average_finance": 0.07021189923172445,
                  "average_office": 0,
                  "average_entertainment": 0.018872005791588983,
                  "average_game": 0,
                  "_deepnote_index_column": 3
                },
                {
                  "average_mood": 0.38776553100876343,
                  "total_calls": 0,
                  "total_sms": 0,
                  "average_com": 0.08704972691598892,
                  "average_soc": 0.019746421833324476,
                  "average_valence": 0.32542240043462795,
                  "average_arousal": 0.5306282510621704,
                  "average_finance": 0.03739558825854288,
                  "average_office": 0.002011536602897863,
                  "average_entertainment": 0.07137099820869403,
                  "average_game": 0,
                  "_deepnote_index_column": 4
                },
                {
                  "average_mood": 0.46505720531040984,
                  "total_calls": 0,
                  "total_sms": 0,
                  "average_com": 0.12472715901667658,
                  "average_soc": 0.01807176345013664,
                  "average_valence": 0.43078291609245417,
                  "average_arousal": 0.4855078157817008,
                  "average_finance": 0.06966654624279223,
                  "average_office": 0,
                  "average_entertainment": 0.020448663120260856,
                  "average_game": 0,
                  "_deepnote_index_column": 5
                },
                {
                  "average_mood": 0.4500694143449183,
                  "total_calls": 0,
                  "total_sms": 0,
                  "average_com": 0.08620738190271036,
                  "average_soc": 0.03248182760542797,
                  "average_valence": 0.45058554338863394,
                  "average_arousal": 0.371563556432483,
                  "average_finance": 0.056819531130937705,
                  "average_office": 0,
                  "average_entertainment": 0.07584358534712242,
                  "average_game": 0,
                  "_deepnote_index_column": 6
                },
                {
                  "average_mood": 0.4895482253187058,
                  "total_calls": 0.39465419200394874,
                  "total_sms": 0,
                  "average_com": 0.07967774363940179,
                  "average_soc": 0.01895958462686769,
                  "average_valence": 0.48905182421643,
                  "average_arousal": 0.43825493093115514,
                  "average_finance": 0.0901469363374684,
                  "average_office": 0.010119615675928385,
                  "average_entertainment": 0.04213351203887413,
                  "average_game": 0,
                  "_deepnote_index_column": 7
                },
                {
                  "average_mood": 0.4297297301077955,
                  "total_calls": 0.14953173397096384,
                  "total_sms": 0,
                  "average_com": 0.0450349378527606,
                  "average_soc": 0.006796705954309438,
                  "average_valence": 0.45058554338863394,
                  "average_arousal": 0.30010459245033816,
                  "average_finance": 0.08193587637471578,
                  "average_office": 0,
                  "average_entertainment": 0.053890599791377045,
                  "average_game": 0.04446005814354862,
                  "_deepnote_index_column": 8
                },
                {
                  "average_mood": 0.5819215454497209,
                  "total_calls": 0,
                  "total_sms": 0,
                  "average_com": 0.087382417195161,
                  "average_soc": 0.015602101583553999,
                  "average_valence": 0.5260930958967791,
                  "average_arousal": 0.43825493093115514,
                  "average_finance": 0,
                  "average_office": 0,
                  "average_entertainment": 0.06365538538672377,
                  "average_game": 0,
                  "_deepnote_index_column": 9
                },
                {
                  "average_mood": 0.5368011101692512,
                  "total_calls": 0,
                  "total_sms": 0,
                  "average_com": 0.11180288701455063,
                  "average_soc": 0.014759484527986073,
                  "average_valence": 0.4795730802618863,
                  "average_arousal": 0.3184537311185346,
                  "average_finance": 0,
                  "average_office": 0,
                  "average_entertainment": 0.098365492969485,
                  "average_game": 0,
                  "_deepnote_index_column": 10
                },
                {
                  "average_mood": 0.5275274733839221,
                  "total_calls": 0.2795848622191615,
                  "total_sms": 0,
                  "average_com": 0.07611189665605253,
                  "average_soc": 0.014859685114354294,
                  "average_valence": 0.45058554338863394,
                  "average_arousal": 0.4054651081081644,
                  "average_finance": 0.045059923325819984,
                  "average_office": 0,
                  "average_entertainment": 0.030858119479312437,
                  "average_game": 0.01977120568121155,
                  "_deepnote_index_column": 11
                },
                {
                  "average_mood": 0.38776553100876343,
                  "total_calls": 0.03174869831458027,
                  "total_sms": 0,
                  "average_com": 0.06144890154750459,
                  "average_soc": 0.01211483264629904,
                  "average_valence": 0.32542240043462795,
                  "average_arousal": 0.43825493093115514,
                  "average_finance": 0.0971323488121425,
                  "average_office": 0.020391870514417033,
                  "average_entertainment": 0.025681837013500127,
                  "average_game": 0.030073781739914436,
                  "_deepnote_index_column": 12
                },
                {
                  "average_mood": 0.4399512841793335,
                  "total_calls": 0.12136085700426734,
                  "total_sms": 0,
                  "average_com": 0.06257987015796775,
                  "average_soc": 0.017063256375415635,
                  "average_valence": 0.46974372021243355,
                  "average_arousal": 0.3592029957213061,
                  "average_finance": 0.08380478480264532,
                  "average_office": 0.05876681645369093,
                  "average_entertainment": 0.027675554407376828,
                  "average_game": 0,
                  "_deepnote_index_column": 13
                },
                {
                  "average_mood": 0.4297297301077955,
                  "total_calls": 0.12136085700426734,
                  "total_sms": 0,
                  "average_com": 0.08508907353435212,
                  "average_soc": 0.011748704488007508,
                  "average_valence": 0.32542240043462795,
                  "average_arousal": 0.1823215567939546,
                  "average_finance": 0.15729339873617784,
                  "average_office": 0,
                  "average_entertainment": 0.029695664645957416,
                  "average_game": 0,
                  "_deepnote_index_column": 14
                },
                {
                  "average_mood": 0.4089677386593665,
                  "total_calls": 0,
                  "total_sms": 0,
                  "average_com": 0.08181808177316509,
                  "average_soc": 0.018955784949801747,
                  "average_valence": 0.4105802087749348,
                  "average_arousal": 0.43825493093115514,
                  "average_finance": 0,
                  "average_office": 0,
                  "average_entertainment": 0.05685748361385391,
                  "average_game": 0,
                  "_deepnote_index_column": 15
                },
                {
                  "average_mood": 0.47000362924573547,
                  "total_calls": 0,
                  "total_sms": 0,
                  "average_com": 0.06965540829739135,
                  "average_soc": 0.012005026012613112,
                  "average_valence": 0.45058554338863394,
                  "average_arousal": 0.3364722366212129,
                  "average_finance": 0,
                  "average_office": 0,
                  "average_entertainment": 0.0452251330334613,
                  "average_game": 0,
                  "_deepnote_index_column": 16
                },
                {
                  "average_mood": 0.4399512841793335,
                  "total_calls": 0.17693070815907824,
                  "total_sms": 0,
                  "average_com": 0.08774653237189167,
                  "average_soc": 0.0169580724542213,
                  "average_valence": 0.43078291609245417,
                  "average_arousal": 0.27193371548364176,
                  "average_finance": 0,
                  "average_office": 0,
                  "average_entertainment": 0.0551564713298623,
                  "average_game": 0.022074140503709167,
                  "_deepnote_index_column": 17
                },
                {
                  "average_mood": 0.4399512841793335,
                  "total_calls": 0.03174869831458027,
                  "total_sms": 0,
                  "average_com": 0.1035266007411144,
                  "average_soc": 0.016221231844142186,
                  "average_valence": 0.3794896217049037,
                  "average_arousal": 0.3592029957213061,
                  "average_finance": 0.06000481136297483,
                  "average_office": 0.011378864874252933,
                  "average_entertainment": 0.04415408348075055,
                  "average_game": 0,
                  "_deepnote_index_column": 18
                },
                {
                  "average_mood": 0.4500694143449183,
                  "total_calls": 0.03174869831458027,
                  "total_sms": 0,
                  "average_com": 0.08978999082278191,
                  "average_soc": 0.01557373477895238,
                  "average_valence": 0.46974372021243355,
                  "average_arousal": 0.3364722366212129,
                  "average_finance": 0.04185831861339078,
                  "average_office": 0,
                  "average_entertainment": 0.09530799267321383,
                  "average_game": 0,
                  "_deepnote_index_column": 19
                },
                {
                  "average_mood": 0.5275274733839221,
                  "total_calls": 0.12136085700426734,
                  "total_sms": 0,
                  "average_com": 0.07040797846391648,
                  "average_soc": 0.01167923878250592,
                  "average_valence": 0.46974372021243355,
                  "average_arousal": 0.26236426446749106,
                  "average_finance": 0,
                  "average_office": 0,
                  "average_entertainment": 0.046398947191482645,
                  "average_game": 0,
                  "_deepnote_index_column": 20
                },
                {
                  "average_mood": 0.5275274733839221,
                  "total_calls": 0,
                  "total_sms": 0,
                  "average_com": 0.11735055264312298,
                  "average_soc": 0.010362558796853442,
                  "average_valence": 0.48905182421643,
                  "average_arousal": 0.3364722366212129,
                  "average_finance": 0,
                  "average_office": 0.015397312343338044,
                  "average_entertainment": 0.08969551156899581,
                  "average_game": 0.00041311731929443487,
                  "_deepnote_index_column": 21
                },
                {
                  "average_mood": 0.4895482253187058,
                  "total_calls": 0,
                  "total_sms": 0,
                  "average_com": 0.05140899725618386,
                  "average_soc": 0.012138338268695955,
                  "average_valence": 0.48905182421643,
                  "average_arousal": 0.1823215567939546,
                  "average_finance": 0.0999555031016932,
                  "average_office": 0,
                  "average_entertainment": 0.07215318254579707,
                  "average_game": 0,
                  "_deepnote_index_column": 22
                },
                {
                  "average_mood": 0.5134537461722601,
                  "total_calls": 0,
                  "total_sms": 0,
                  "average_com": 0.2423817283690247,
                  "average_soc": 0.011655649036728244,
                  "average_valence": 0.4795730802618863,
                  "average_arousal": 0.27193371548364176,
                  "average_finance": 0,
                  "average_office": 0,
                  "average_entertainment": 0.10470105006464203,
                  "average_game": 0,
                  "_deepnote_index_column": 23
                },
                {
                  "average_mood": 0.5819215454497209,
                  "total_calls": 0,
                  "total_sms": 0,
                  "average_com": 0.0873040557937618,
                  "average_soc": 0.004578538093352434,
                  "average_valence": 0.5260930958967791,
                  "average_arousal": 0.17185025692665923,
                  "average_finance": 0.05957165480041569,
                  "average_office": 0,
                  "average_entertainment": 0.03707382947224985,
                  "average_game": 0,
                  "_deepnote_index_column": 24
                },
                {
                  "average_mood": 0.5087181414264259,
                  "total_calls": 0.22957444164450017,
                  "total_sms": 0.20585205420414882,
                  "average_com": 0.09392945377244112,
                  "average_soc": 0.042276598862948295,
                  "average_valence": 0.45058554338863394,
                  "average_arousal": 0.1823215567939546,
                  "average_finance": 0.09512165805601543,
                  "average_office": 0,
                  "average_entertainment": 0.12299838365037502,
                  "average_game": 0,
                  "_deepnote_index_column": 25
                },
                {
                  "average_mood": 0.4297297301077955,
                  "total_calls": 0,
                  "total_sms": 0.028170876966696224,
                  "average_com": 0.07494639963249859,
                  "average_soc": 0.026420012635323897,
                  "average_valence": 0.48905182421643,
                  "average_arousal": 0.4054651081081644,
                  "average_finance": 0.028726969303769622,
                  "average_office": 0,
                  "average_entertainment": 0.029670169304472624,
                  "average_game": 0,
                  "_deepnote_index_column": 26
                },
                {
                  "average_mood": 0.5087181414264259,
                  "total_calls": 0,
                  "total_sms": 0,
                  "average_com": 0.06832735828045802,
                  "average_soc": 0.017394338476196387,
                  "average_valence": 0.46974372021243355,
                  "average_arousal": 0.3592029957213061,
                  "average_finance": 0,
                  "average_office": 0,
                  "average_entertainment": 0.014259520410045029,
                  "average_game": 0,
                  "_deepnote_index_column": 27
                },
                {
                  "average_mood": 0.4500694143449183,
                  "total_calls": 0.2795848622191615,
                  "total_sms": 0,
                  "average_com": 0.18899917455032295,
                  "average_soc": 0.0185120487251178,
                  "average_valence": 0.45058554338863394,
                  "average_arousal": 0.3364722366212129,
                  "average_finance": 0,
                  "average_office": 0,
                  "average_entertainment": 0.01708674906997406,
                  "average_game": 0,
                  "_deepnote_index_column": 28
                },
                {
                  "average_mood": 0.47000362924573547,
                  "total_calls": 0.03174869831458027,
                  "total_sms": 0,
                  "average_com": 0.11744697229032722,
                  "average_soc": 0.051682588006589654,
                  "average_valence": 0.48905182421643,
                  "average_arousal": 0.26236426446749106,
                  "average_finance": 0.10805733476077646,
                  "average_office": 0,
                  "average_entertainment": 0.0508086479692271,
                  "average_game": 0,
                  "_deepnote_index_column": 29
                },
                {
                  "average_mood": 0.5641169208162141,
                  "total_calls": 0.03174869831458027,
                  "total_sms": 0,
                  "average_com": 0.0655855286836384,
                  "average_soc": 0.009547094887655818,
                  "average_valence": 0.5260930958967791,
                  "average_arousal": 0.371563556432483,
                  "average_finance": 0.10150710162985137,
                  "average_office": 0,
                  "average_entertainment": 0.04629185556147783,
                  "average_game": 0.01128414514099138,
                  "_deepnote_index_column": 30
                },
                {
                  "average_mood": 0.5134537461722601,
                  "total_calls": 0.06252035698133393,
                  "total_sms": 0,
                  "average_com": 0.1040095645932072,
                  "average_soc": 0.02450049435674474,
                  "average_valence": 0.4795730802618863,
                  "average_arousal": 0.3629054936893685,
                  "average_finance": 0.03493019728857042,
                  "average_office": 0,
                  "average_entertainment": 0.03606715008662359,
                  "average_game": 0,
                  "_deepnote_index_column": 31
                },
                {
                  "average_mood": 0.5459895362236575,
                  "total_calls": 0.06252035698133393,
                  "total_sms": 0,
                  "average_com": 0.08006553637689026,
                  "average_soc": 0.016170444551353025,
                  "average_valence": 0.5260930958967791,
                  "average_arousal": 0.3592029957213061,
                  "average_finance": 0.07169747936370424,
                  "average_office": 0,
                  "average_entertainment": 0.011276521452318474,
                  "average_game": 0,
                  "_deepnote_index_column": 32
                },
                {
                  "average_mood": 0.5275274733839221,
                  "total_calls": 0.06252035698133393,
                  "total_sms": 0,
                  "average_com": 0.08566526108150084,
                  "average_soc": 0.017859564339931033,
                  "average_valence": 0.5260930958967791,
                  "average_arousal": 0.43825493093115514,
                  "average_finance": 0.042062937318932646,
                  "average_office": 0,
                  "average_entertainment": 0.02354150718430616,
                  "average_game": 0,
                  "_deepnote_index_column": 33
                },
                {
                  "average_mood": 0.5459895362236575,
                  "total_calls": 0.03174869831458027,
                  "total_sms": 0,
                  "average_com": 0.09850538995469063,
                  "average_soc": 0.011605997281007597,
                  "average_valence": 0.5260930958967791,
                  "average_arousal": 0.43825493093115514,
                  "average_finance": 0.03954138725216134,
                  "average_office": 0,
                  "average_entertainment": 0.02311596835993789,
                  "average_game": 0,
                  "_deepnote_index_column": 34
                },
                {
                  "average_mood": 0.5459895362236575,
                  "total_calls": 0.03174869831458027,
                  "total_sms": 0,
                  "average_com": 0.11654850054775565,
                  "average_soc": 0.020228099649994363,
                  "average_valence": 0.5260930958967791,
                  "average_arousal": 0.3364722366212129,
                  "average_finance": 0.2479943811758713,
                  "average_office": 0,
                  "average_entertainment": 0.06100377453070144,
                  "average_game": 0,
                  "_deepnote_index_column": 35
                },
                {
                  "average_mood": 0.5087181414264259,
                  "total_calls": 0.06252035698133393,
                  "total_sms": 0.10821358464023279,
                  "average_com": 0.0935516946517202,
                  "average_soc": 0.025438947814444245,
                  "average_valence": 0.48905182421643,
                  "average_arousal": 0.371563556432483,
                  "average_finance": 0.046006779370373424,
                  "average_office": 0,
                  "average_entertainment": 0.02987733688890261,
                  "average_game": 0,
                  "_deepnote_index_column": 36
                },
                {
                  "average_mood": 0.5459895362236575,
                  "total_calls": 0,
                  "total_sms": 0,
                  "average_com": 0.10817650766842313,
                  "average_soc": 0.19062732847933908,
                  "average_valence": 0.5260930958967791,
                  "average_arousal": 0.371563556432483,
                  "average_finance": 0.044681250252614414,
                  "average_office": 0,
                  "average_entertainment": 0.07330645384925984,
                  "average_game": 0,
                  "_deepnote_index_column": 37
                },
                {
                  "average_mood": 0.5368011101692512,
                  "total_calls": 0,
                  "total_sms": 0,
                  "average_com": 0.09249645049752145,
                  "average_soc": 0.0036470660250528097,
                  "average_valence": 0.5260930958967791,
                  "average_arousal": 0.4054651081081644,
                  "average_finance": 0,
                  "average_office": 0,
                  "average_entertainment": 0.07989217298915341,
                  "average_game": 0,
                  "_deepnote_index_column": 38
                },
                {
                  "average_mood": 0.5459895362236575,
                  "total_calls": 0,
                  "total_sms": 0,
                  "average_com": 0.10049922048658957,
                  "average_soc": 0.05233973486923284,
                  "average_valence": 0.48905182421643,
                  "average_arousal": 0.26236426446749106,
                  "average_finance": 0.2975263621833062,
                  "average_office": 0,
                  "average_entertainment": 0.06485259964717384,
                  "average_game": 0,
                  "_deepnote_index_column": 39
                },
                {
                  "average_mood": 0.4895482253187058,
                  "total_calls": 0,
                  "total_sms": 0,
                  "average_com": 0.08879849240372022,
                  "average_soc": 0.0269976225616751,
                  "average_valence": 0.46974372021243355,
                  "average_arousal": 0.3592029957213061,
                  "average_finance": 0,
                  "average_office": 0,
                  "average_entertainment": 0.038682222165809514,
                  "average_game": 0,
                  "_deepnote_index_column": 40
                },
                {
                  "average_mood": 0.5641169208162141,
                  "total_calls": 0.17693070815907824,
                  "total_sms": 0,
                  "average_com": 0.06326915005439539,
                  "average_soc": 0.002632038652528553,
                  "average_valence": 0.46974372021243355,
                  "average_arousal": 0.3364722366212129,
                  "average_finance": 0.3499374121630325,
                  "average_office": 0,
                  "average_entertainment": 0.020184192666188875,
                  "average_game": 0,
                  "_deepnote_index_column": 41
                },
                {
                  "average_mood": 0.5819215454497209,
                  "total_calls": 0,
                  "total_sms": 0,
                  "average_com": 0.07507424966341578,
                  "average_soc": 0.037763641097681086,
                  "average_valence": 0.5260930958967791,
                  "average_arousal": 0.3364722366212129,
                  "average_finance": 0.179645984131206,
                  "average_office": 0,
                  "average_entertainment": 0.03503464574482411,
                  "average_game": 0,
                  "_deepnote_index_column": 42
                },
                {
                  "average_mood": 0.5459895362236575,
                  "total_calls": 0,
                  "total_sms": 0,
                  "average_com": 0.1057031425731073,
                  "average_soc": 0.011996506829291797,
                  "average_valence": 0.46974372021243355,
                  "average_arousal": 0.371563556432483,
                  "average_finance": 0.2080837763726799,
                  "average_office": 0,
                  "average_entertainment": 0.03500915216063915,
                  "average_game": 0,
                  "_deepnote_index_column": 43
                },
                {
                  "average_mood": 0.5819215454497209,
                  "total_calls": 0,
                  "total_sms": 0,
                  "average_com": 0.13311040346836836,
                  "average_soc": 0.006058647642126312,
                  "average_valence": 0.5260930958967791,
                  "average_arousal": 0.371563556432483,
                  "average_finance": 0,
                  "average_office": 0,
                  "average_entertainment": 0.0732992375974623,
                  "average_game": 0,
                  "_deepnote_index_column": 44
                }
              ],
              "rows_bottom": [
                {
                  "average_mood": 0.6390799592896693,
                  "total_calls": 0.03174869831458027,
                  "total_sms": 0,
                  "average_com": 0.16942795010548034,
                  "average_soc": 0.02820150431794556,
                  "average_valence": 0.5260930958967791,
                  "average_arousal": 0.45953232937844013,
                  "average_finance": 0,
                  "average_office": 0,
                  "average_entertainment": 0.0031128352139844716,
                  "average_game": 0,
                  "_deepnote_index_column": 1170
                },
                {
                  "average_mood": 0.4399512841793335,
                  "total_calls": 0.12136085700426734,
                  "total_sms": 0,
                  "average_com": 0.0925654548248381,
                  "average_soc": 0.0002678418654507272,
                  "average_valence": 0.26826398659467937,
                  "average_arousal": 0.22314355131420976,
                  "average_finance": 0,
                  "average_office": 0,
                  "average_entertainment": 0.004623921211891265,
                  "average_game": 0,
                  "_deepnote_index_column": 1171
                },
                {
                  "average_mood": 0.38776553100876343,
                  "total_calls": 0.35020242943311497,
                  "total_sms": 0,
                  "average_com": 0.11775658625218657,
                  "average_soc": 0,
                  "average_valence": 0.26826398659467937,
                  "average_arousal": 0.22314355131420976,
                  "average_finance": 0,
                  "average_office": 0,
                  "average_entertainment": 0.0037328186772743175,
                  "average_game": 0,
                  "_deepnote_index_column": 1172
                },
                {
                  "average_mood": 0.5596157879354225,
                  "total_calls": 0.25489224962879004,
                  "total_sms": 0,
                  "average_com": 0.06662848010085626,
                  "average_soc": 0,
                  "average_valence": 0.4795730802618863,
                  "average_arousal": 0.3629054936893685,
                  "average_finance": 0,
                  "average_office": 0,
                  "average_entertainment": 0.004670935237614315,
                  "average_game": 0,
                  "_deepnote_index_column": 1173
                },
                {
                  "average_mood": 0.5134537461722601,
                  "total_calls": 0.17693070815907824,
                  "total_sms": 0,
                  "average_com": 0.10538007386977827,
                  "average_soc": 0,
                  "average_valence": 0.43078291609245417,
                  "average_arousal": 0.27193371548364176,
                  "average_finance": 0,
                  "average_office": 0,
                  "average_entertainment": 0.015437936469655899,
                  "average_game": 0,
                  "_deepnote_index_column": 1174
                },
                {
                  "average_mood": 0.5087181414264259,
                  "total_calls": 0,
                  "total_sms": 0,
                  "average_com": 0.12840951795114838,
                  "average_soc": 0,
                  "average_valence": 0.36890751237436675,
                  "average_arousal": 0.13976194237515863,
                  "average_finance": 0,
                  "average_office": 0,
                  "average_entertainment": 0.007884095377310607,
                  "average_game": 0,
                  "_deepnote_index_column": 1175
                },
                {
                  "average_mood": 0.5015724182855074,
                  "total_calls": 0.14953173397096384,
                  "total_sms": 0,
                  "average_com": 0.07051576112558004,
                  "average_soc": 0.03331078606911905,
                  "average_valence": 0.39688136441677296,
                  "average_arousal": 0.45953232937844013,
                  "average_finance": 0,
                  "average_office": 0,
                  "average_entertainment": 0.02952459917160997,
                  "average_game": 0,
                  "_deepnote_index_column": 1176
                },
                {
                  "average_mood": 0.5087181414264259,
                  "total_calls": 0.06252035698133393,
                  "total_sms": 0,
                  "average_com": 0.06338630455467344,
                  "average_soc": 0.019893218964829363,
                  "average_valence": 0.5962973545700275,
                  "average_arousal": 0.30010459245033816,
                  "average_finance": 0,
                  "average_office": 0,
                  "average_entertainment": 0.049433916843981796,
                  "average_game": 0,
                  "_deepnote_index_column": 1177
                },
                {
                  "average_mood": 0.5275274733839221,
                  "total_calls": 0.09237332013101507,
                  "total_sms": 0,
                  "average_com": 0.1265546480103737,
                  "average_soc": 0.03104249888342697,
                  "average_valence": 0.48905182421643,
                  "average_arousal": 0.26236426446749106,
                  "average_finance": 0,
                  "average_office": 0,
                  "average_entertainment": 0.12785249805609056,
                  "average_game": 0,
                  "_deepnote_index_column": 1178
                },
                {
                  "average_mood": 0.5520685823000396,
                  "total_calls": 0,
                  "total_sms": 0,
                  "average_com": 0.24894760910793345,
                  "average_soc": 0.035681264226704285,
                  "average_valence": 0.5260930958967791,
                  "average_arousal": 0.4054651081081644,
                  "average_finance": 0,
                  "average_office": 0,
                  "average_entertainment": 0.08483241045394635,
                  "average_game": 0,
                  "_deepnote_index_column": 1179
                },
                {
                  "average_mood": 0.5275274733839221,
                  "total_calls": 0,
                  "total_sms": 0,
                  "average_com": 0.1257226080494083,
                  "average_soc": 0.020975271674430366,
                  "average_valence": 0.5618111784988583,
                  "average_arousal": 0.4054651081081644,
                  "average_finance": 0,
                  "average_office": 0,
                  "average_entertainment": 0.08071990966918734,
                  "average_game": 0,
                  "_deepnote_index_column": 1180
                },
                {
                  "average_mood": 0.5087181414264259,
                  "total_calls": 0,
                  "total_sms": 0,
                  "average_com": 0.11414121735896697,
                  "average_soc": 0.039737411772373374,
                  "average_valence": 0.45058554338863394,
                  "average_arousal": 0.4054651081081644,
                  "average_finance": 0,
                  "average_office": 0,
                  "average_entertainment": 0.043867702083932474,
                  "average_game": 0,
                  "_deepnote_index_column": 1181
                },
                {
                  "average_mood": 0.4089677386593665,
                  "total_calls": 0.25489224962879004,
                  "total_sms": 0,
                  "average_com": 0.0859533696499653,
                  "average_soc": 0.024128407596437248,
                  "average_valence": 0.2799600263578706,
                  "average_arousal": 0.30010459245033816,
                  "average_finance": 0,
                  "average_office": 0,
                  "average_entertainment": 0.07655306852180699,
                  "average_game": 0,
                  "_deepnote_index_column": 1182
                },
                {
                  "average_mood": 0.2981533723190763,
                  "total_calls": 0.03174869831458027,
                  "total_sms": 0,
                  "average_com": 0.057054807064568114,
                  "average_soc": 0.036711388977791914,
                  "average_valence": 0.1823215567939546,
                  "average_arousal": 0.371563556432483,
                  "average_finance": 0,
                  "average_office": 0,
                  "average_entertainment": 0.07807317176957841,
                  "average_game": 0,
                  "_deepnote_index_column": 1183
                },
                {
                  "average_mood": 0.4895482253187058,
                  "total_calls": 0.14953173397096384,
                  "total_sms": 0.13353139262452257,
                  "average_com": 0.095670541549742,
                  "average_soc": 0.021100570108628442,
                  "average_valence": 0.5260930958967791,
                  "average_arousal": 0.3629054936893685,
                  "average_finance": 0,
                  "average_office": 0,
                  "average_entertainment": 0.05087134172814774,
                  "average_game": 0,
                  "_deepnote_index_column": 1184
                },
                {
                  "average_mood": 0.6166071034376109,
                  "total_calls": 0.6931471805599453,
                  "total_sms": 0.055569851154810786,
                  "average_com": 0.05351688336537807,
                  "average_soc": 0.011956761171688386,
                  "average_valence": 0.42699798448948256,
                  "average_arousal": 0.5306282510621704,
                  "average_finance": 0,
                  "average_office": 0,
                  "average_entertainment": 0.07842800636662584,
                  "average_game": 0,
                  "_deepnote_index_column": 1185
                },
                {
                  "average_mood": 0.5459895362236575,
                  "total_calls": 0.4578330936254803,
                  "total_sms": 0,
                  "average_com": 0.056013351732278865,
                  "average_soc": 0.013527397607638866,
                  "average_valence": 0.5260930958967791,
                  "average_arousal": 0.47000362924573563,
                  "average_finance": 0,
                  "average_office": 0,
                  "average_entertainment": 0.04463804680884836,
                  "average_game": 0,
                  "_deepnote_index_column": 1186
                },
                {
                  "average_mood": 0.4089677386593665,
                  "total_calls": 0.12136085700426734,
                  "total_sms": 0,
                  "average_com": 0.11667035203786819,
                  "average_soc": 0.03540825568111278,
                  "average_valence": 0.4105802087749348,
                  "average_arousal": 0.1823215567939546,
                  "average_finance": 0,
                  "average_office": 0,
                  "average_entertainment": 0.08755810212958277,
                  "average_game": 0,
                  "_deepnote_index_column": 1187
                },
                {
                  "average_mood": 0.46505720531040984,
                  "total_calls": 0.06252035698133393,
                  "total_sms": 0.13353139262452257,
                  "average_com": 0.12728133459297958,
                  "average_soc": 0.018483634065838316,
                  "average_valence": 0.4795730802618863,
                  "average_arousal": 0.17185025692665923,
                  "average_finance": 0,
                  "average_office": 0,
                  "average_entertainment": 0.0904774256586768,
                  "average_game": 0,
                  "_deepnote_index_column": 1188
                },
                {
                  "average_mood": 0.4089677386593665,
                  "total_calls": 0.09237332013101507,
                  "total_sms": 0,
                  "average_com": 0.06926926717534783,
                  "average_soc": 0.021439633450417505,
                  "average_valence": 0.4105802087749348,
                  "average_arousal": 0.3364722366212129,
                  "average_finance": 0,
                  "average_office": 0,
                  "average_entertainment": 0.03918903964625523,
                  "average_game": 0,
                  "_deepnote_index_column": 1189
                },
                {
                  "average_mood": 0.4297297301077955,
                  "total_calls": 0.03174869831458027,
                  "total_sms": 0,
                  "average_com": 0.06540276416808162,
                  "average_soc": 0.025358051182677442,
                  "average_valence": 0.42699798448948256,
                  "average_arousal": 0.22314355131420976,
                  "average_finance": 0,
                  "average_office": 0,
                  "average_entertainment": 0.08677758301558237,
                  "average_game": 0,
                  "_deepnote_index_column": 1190
                },
                {
                  "average_mood": 0.5368011101692512,
                  "total_calls": 0.303682413798222,
                  "total_sms": 0,
                  "average_com": 0.07180760278949841,
                  "average_soc": 0.019512277313560714,
                  "average_valence": 0.5260930958967791,
                  "average_arousal": 0.4054651081081644,
                  "average_finance": 0,
                  "average_office": 0,
                  "average_entertainment": 0.02728869395349483,
                  "average_game": 0,
                  "_deepnote_index_column": 1191
                },
                {
                  "average_mood": 0.40106949663512614,
                  "total_calls": 0.03174869831458027,
                  "total_sms": 0,
                  "average_com": 0.013459342635656244,
                  "average_soc": 0.034829474556112655,
                  "average_valence": 0.20763936477824455,
                  "average_arousal": 0.3629054936893685,
                  "average_finance": 0,
                  "average_office": 0,
                  "average_entertainment": 0.05523338332017851,
                  "average_game": 0,
                  "_deepnote_index_column": 1192
                },
                {
                  "average_mood": 0.4500694143449183,
                  "total_calls": 0,
                  "total_sms": 0,
                  "average_com": 0.11394780687519758,
                  "average_soc": 0.04129314286975036,
                  "average_valence": 0.4105802087749348,
                  "average_arousal": 0.26236426446749106,
                  "average_finance": 0,
                  "average_office": 0,
                  "average_entertainment": 0.05075094864518689,
                  "average_game": 0,
                  "_deepnote_index_column": 1193
                },
                {
                  "average_mood": 0.2501441531327157,
                  "total_calls": 0,
                  "total_sms": 0,
                  "average_com": 0.11209828574500476,
                  "average_soc": 0.04101305396338632,
                  "average_valence": 0.2799600263578706,
                  "average_arousal": 0.43825493093115514,
                  "average_finance": 0,
                  "average_office": 0,
                  "average_entertainment": 0.0439507298686939,
                  "average_game": 0,
                  "_deepnote_index_column": 1194
                },
                {
                  "average_mood": 0.5459895362236575,
                  "total_calls": 0,
                  "total_sms": 0,
                  "average_com": 0.034004783444135836,
                  "average_soc": 0.012258363446729214,
                  "average_valence": 0.5260930958967791,
                  "average_arousal": 0.3364722366212129,
                  "average_finance": 0,
                  "average_office": 0,
                  "average_entertainment": 0.03983531825373084,
                  "average_game": 0,
                  "_deepnote_index_column": 1195
                },
                {
                  "average_mood": 0.38776553100876343,
                  "total_calls": 0,
                  "total_sms": 0,
                  "average_com": 0.06667293561248977,
                  "average_soc": 0.02867133756319296,
                  "average_valence": 0.4105802087749348,
                  "average_arousal": 0.4054651081081644,
                  "average_finance": 0,
                  "average_office": 0.0040296953751601085,
                  "average_entertainment": 0.017893289871220915,
                  "average_game": 0,
                  "_deepnote_index_column": 1196
                },
                {
                  "average_mood": 0.38776553100876343,
                  "total_calls": 0.35020242943311497,
                  "total_sms": 0,
                  "average_com": 0.1274617062939143,
                  "average_soc": 0.025251246877447227,
                  "average_valence": 0.43078291609245417,
                  "average_arousal": 0.27193371548364176,
                  "average_finance": 0,
                  "average_office": 0,
                  "average_entertainment": 0.03532487582035545,
                  "average_game": 0,
                  "_deepnote_index_column": 1197
                },
                {
                  "average_mood": 0.2744368457017602,
                  "total_calls": 0,
                  "total_sms": 0,
                  "average_com": 0.20248255643058963,
                  "average_soc": 0.018579156314933502,
                  "average_valence": 0.32542240043462795,
                  "average_arousal": 0.4855078157817008,
                  "average_finance": 0,
                  "average_office": 0,
                  "average_entertainment": 0.060341643407652135,
                  "average_game": 0,
                  "_deepnote_index_column": 1198
                },
                {
                  "average_mood": 0.4732877044469254,
                  "total_calls": 0,
                  "total_sms": 0,
                  "average_com": 0.05002427862478771,
                  "average_soc": 0.057093302547754424,
                  "average_valence": 0.42699798448948256,
                  "average_arousal": 0.3483066942682158,
                  "average_finance": 0,
                  "average_office": 0,
                  "average_entertainment": 0.0795615501006728,
                  "average_game": 0,
                  "_deepnote_index_column": 1199
                },
                {
                  "average_mood": 0.38776553100876343,
                  "total_calls": 0.22957444164450017,
                  "total_sms": 0,
                  "average_com": 0.08489180835394364,
                  "average_soc": 0.02198001547096159,
                  "average_valence": 0.42699798448948256,
                  "average_arousal": 0.4054651081081644,
                  "average_finance": 0,
                  "average_office": 0,
                  "average_entertainment": 0.026043407215039352,
                  "average_game": 0,
                  "_deepnote_index_column": 1200
                },
                {
                  "average_mood": 0.4895482253187058,
                  "total_calls": 0.303682413798222,
                  "total_sms": 0,
                  "average_com": 0.07661396720116515,
                  "average_soc": 0.01771061712814101,
                  "average_valence": 0.42699798448948256,
                  "average_arousal": 0.47000362924573563,
                  "average_finance": 0,
                  "average_office": 0,
                  "average_entertainment": 0.02819163338519141,
                  "average_game": 0,
                  "_deepnote_index_column": 1201
                },
                {
                  "average_mood": 0.38776553100876343,
                  "total_calls": 0,
                  "total_sms": 0,
                  "average_com": 0.0532148741334636,
                  "average_soc": 0.02287109873940278,
                  "average_valence": 0.42699798448948256,
                  "average_arousal": 0.44628710262841953,
                  "average_finance": 0,
                  "average_office": 0,
                  "average_entertainment": 0.029360716920656404,
                  "average_game": 0,
                  "_deepnote_index_column": 1202
                },
                {
                  "average_mood": 0.38776553100876343,
                  "total_calls": 0,
                  "total_sms": 0,
                  "average_com": 0.15221003067391772,
                  "average_soc": 0.031064655792277397,
                  "average_valence": 0.36890751237436675,
                  "average_arousal": 0.30010459245033816,
                  "average_finance": 0,
                  "average_office": 0,
                  "average_entertainment": 0.0376099480412125,
                  "average_game": 0,
                  "_deepnote_index_column": 1203
                },
                {
                  "average_mood": 0.4089677386593665,
                  "total_calls": 0,
                  "total_sms": 0,
                  "average_com": 0.06142985657484017,
                  "average_soc": 0.03271808571966032,
                  "average_valence": 0.36890751237436675,
                  "average_arousal": 0.371563556432483,
                  "average_finance": 0,
                  "average_office": 0,
                  "average_entertainment": 0.06279255714054577,
                  "average_game": 0,
                  "_deepnote_index_column": 1204
                },
                {
                  "average_mood": 0.41419878807691896,
                  "total_calls": 0,
                  "total_sms": 0,
                  "average_com": 0.16923420079034684,
                  "average_soc": 0.04044333395976931,
                  "average_valence": 0.43078291609245417,
                  "average_arousal": 0.3184537311185346,
                  "average_finance": 0,
                  "average_office": 0,
                  "average_entertainment": 0.07651606979631351,
                  "average_game": 0,
                  "_deepnote_index_column": 1205
                },
                {
                  "average_mood": 0.38776553100876343,
                  "total_calls": 0,
                  "total_sms": 0,
                  "average_com": 0.12534640070888747,
                  "average_soc": 0.031901047118790035,
                  "average_valence": 0.42699798448948256,
                  "average_arousal": 0.28768207245178085,
                  "average_finance": 0,
                  "average_office": 0,
                  "average_entertainment": 0.04217366343947333,
                  "average_game": 0,
                  "_deepnote_index_column": 1206
                },
                {
                  "average_mood": 0.36061454194281256,
                  "total_calls": 0.22957444164450017,
                  "total_sms": 0,
                  "average_com": 0.08335088990988371,
                  "average_soc": 0.013796771157884224,
                  "average_valence": 0.3794896217049037,
                  "average_arousal": 0.4855078157817008,
                  "average_finance": 0,
                  "average_office": 0,
                  "average_entertainment": 0.05317746581010217,
                  "average_game": 0,
                  "_deepnote_index_column": 1207
                },
                {
                  "average_mood": 0.369747025506085,
                  "total_calls": 0,
                  "total_sms": 0,
                  "average_com": 0.06884214441115245,
                  "average_soc": 0.050620655422989616,
                  "average_valence": 0.32542240043462795,
                  "average_arousal": 0.2559333741372005,
                  "average_finance": 0,
                  "average_office": 0,
                  "average_entertainment": 0.14498250577453606,
                  "average_game": 0,
                  "_deepnote_index_column": 1208
                },
                {
                  "average_mood": 0.4297297301077955,
                  "total_calls": 0,
                  "total_sms": 0,
                  "average_com": 0.07715030504592829,
                  "average_soc": 0.0282189413885338,
                  "average_valence": 0.42699798448948256,
                  "average_arousal": 0.3544795533752968,
                  "average_finance": 0,
                  "average_office": 0,
                  "average_entertainment": 0.047738516581392755,
                  "average_game": 0,
                  "_deepnote_index_column": 1209
                },
                {
                  "average_mood": 0.41419878807691896,
                  "total_calls": 0.09237332013101507,
                  "total_sms": 0.20585205420414882,
                  "average_com": 0.06450623743508675,
                  "average_soc": 0.012040104266961643,
                  "average_valence": 0.42699798448948256,
                  "average_arousal": 0.27193371548364176,
                  "average_finance": 0,
                  "average_office": 0,
                  "average_entertainment": 0.038468383936735184,
                  "average_game": 0,
                  "_deepnote_index_column": 1210
                },
                {
                  "average_mood": 0.32132043160061075,
                  "total_calls": 0.2795848622191615,
                  "total_sms": 0.08223809823697201,
                  "average_com": 0.06359218625369813,
                  "average_soc": 0.029112125616709155,
                  "average_valence": 0.32542240043462795,
                  "average_arousal": 0.3364722366212129,
                  "average_finance": 0,
                  "average_office": 0.08371501512614192,
                  "average_entertainment": 0.040877764180986834,
                  "average_game": 0,
                  "_deepnote_index_column": 1211
                },
                {
                  "average_mood": 0.4089677386593665,
                  "total_calls": 0.03174869831458027,
                  "total_sms": 0.055569851154810786,
                  "average_com": 0.10760175232227476,
                  "average_soc": 0.013281120277185653,
                  "average_valence": 0.4105802087749348,
                  "average_arousal": 0.30010459245033816,
                  "average_finance": 0,
                  "average_office": 0,
                  "average_entertainment": 0.03707324573226878,
                  "average_game": 0,
                  "_deepnote_index_column": 1212
                },
                {
                  "average_mood": 0.5994147028972381,
                  "total_calls": 0.2795848622191615,
                  "total_sms": 0.028170876966696224,
                  "average_com": 0.06881742689853168,
                  "average_soc": 0.026067744634635986,
                  "average_valence": 0.5618111784988583,
                  "average_arousal": 0.4054651081081644,
                  "average_finance": 0,
                  "average_office": 0,
                  "average_entertainment": 0.026251061748073533,
                  "average_game": 0,
                  "_deepnote_index_column": 1213
                },
                {
                  "average_mood": 0.4895482253187058,
                  "total_calls": 0.14953173397096384,
                  "total_sms": 0,
                  "average_com": 0.09898405336723534,
                  "average_soc": 0.051553245614932706,
                  "average_valence": 0.5260930958967791,
                  "average_arousal": 0.15415067982725836,
                  "average_finance": 0,
                  "average_office": 0,
                  "average_entertainment": 0.04058236475872075,
                  "average_game": 0,
                  "_deepnote_index_column": 1214
                }
              ]
            },
            "text/plain": "      average_mood  total_calls  total_sms  average_com  average_soc  \\\n0         0.414199     0.000000   0.000000     0.000000     0.000000   \n1         0.414199     0.176931   0.000000     0.100209     0.019792   \n2         0.429730     0.000000   0.000000     0.094310     0.009699   \n3         0.470004     0.000000   0.000000     0.097343     0.013225   \n4         0.387766     0.000000   0.000000     0.087050     0.019746   \n...            ...          ...        ...          ...          ...   \n1210      0.414199     0.092373   0.205852     0.064506     0.012040   \n1211      0.321320     0.279585   0.082238     0.063592     0.029112   \n1212      0.408968     0.031749   0.055570     0.107602     0.013281   \n1213      0.599415     0.279585   0.028171     0.068817     0.026068   \n1214      0.489548     0.149532   0.000000     0.098984     0.051553   \n\n      average_valence  average_arousal  average_finance  average_office  \\\n0            0.479573         0.362905         0.000000        0.000000   \n1            0.368908         0.438255         0.040675        0.037681   \n2            0.469744         0.500775         0.046017        0.000000   \n3            0.489052         0.438255         0.070212        0.000000   \n4            0.325422         0.530628         0.037396        0.002012   \n...               ...              ...              ...             ...   \n1210         0.426998         0.271934         0.000000        0.000000   \n1211         0.325422         0.336472         0.000000        0.083715   \n1212         0.410580         0.300105         0.000000        0.000000   \n1213         0.561811         0.405465         0.000000        0.000000   \n1214         0.526093         0.154151         0.000000        0.000000   \n\n      average_entertainment  average_game  \n0                  0.000000           0.0  \n1                  0.031616           0.0  \n2                  0.027875           0.0  \n3                  0.018872           0.0  \n4                  0.071371           0.0  \n...                     ...           ...  \n1210               0.038468           0.0  \n1211               0.040878           0.0  \n1212               0.037073           0.0  \n1213               0.026251           0.0  \n1214               0.040582           0.0  \n\n[1215 rows x 11 columns]",
            "text/html": "<div>\n<style scoped>\n    .dataframe tbody tr th:only-of-type {\n        vertical-align: middle;\n    }\n\n    .dataframe tbody tr th {\n        vertical-align: top;\n    }\n\n    .dataframe thead th {\n        text-align: right;\n    }\n</style>\n<table border=\"1\" class=\"dataframe\">\n  <thead>\n    <tr style=\"text-align: right;\">\n      <th></th>\n      <th>average_mood</th>\n      <th>total_calls</th>\n      <th>total_sms</th>\n      <th>average_com</th>\n      <th>average_soc</th>\n      <th>average_valence</th>\n      <th>average_arousal</th>\n      <th>average_finance</th>\n      <th>average_office</th>\n      <th>average_entertainment</th>\n      <th>average_game</th>\n    </tr>\n  </thead>\n  <tbody>\n    <tr>\n      <th>0</th>\n      <td>0.414199</td>\n      <td>0.000000</td>\n      <td>0.000000</td>\n      <td>0.000000</td>\n      <td>0.000000</td>\n      <td>0.479573</td>\n      <td>0.362905</td>\n      <td>0.000000</td>\n      <td>0.000000</td>\n      <td>0.000000</td>\n      <td>0.0</td>\n    </tr>\n    <tr>\n      <th>1</th>\n      <td>0.414199</td>\n      <td>0.176931</td>\n      <td>0.000000</td>\n      <td>0.100209</td>\n      <td>0.019792</td>\n      <td>0.368908</td>\n      <td>0.438255</td>\n      <td>0.040675</td>\n      <td>0.037681</td>\n      <td>0.031616</td>\n      <td>0.0</td>\n    </tr>\n    <tr>\n      <th>2</th>\n      <td>0.429730</td>\n      <td>0.000000</td>\n      <td>0.000000</td>\n      <td>0.094310</td>\n      <td>0.009699</td>\n      <td>0.469744</td>\n      <td>0.500775</td>\n      <td>0.046017</td>\n      <td>0.000000</td>\n      <td>0.027875</td>\n      <td>0.0</td>\n    </tr>\n    <tr>\n      <th>3</th>\n      <td>0.470004</td>\n      <td>0.000000</td>\n      <td>0.000000</td>\n      <td>0.097343</td>\n      <td>0.013225</td>\n      <td>0.489052</td>\n      <td>0.438255</td>\n      <td>0.070212</td>\n      <td>0.000000</td>\n      <td>0.018872</td>\n      <td>0.0</td>\n    </tr>\n    <tr>\n      <th>4</th>\n      <td>0.387766</td>\n      <td>0.000000</td>\n      <td>0.000000</td>\n      <td>0.087050</td>\n      <td>0.019746</td>\n      <td>0.325422</td>\n      <td>0.530628</td>\n      <td>0.037396</td>\n      <td>0.002012</td>\n      <td>0.071371</td>\n      <td>0.0</td>\n    </tr>\n    <tr>\n      <th>...</th>\n      <td>...</td>\n      <td>...</td>\n      <td>...</td>\n      <td>...</td>\n      <td>...</td>\n      <td>...</td>\n      <td>...</td>\n      <td>...</td>\n      <td>...</td>\n      <td>...</td>\n      <td>...</td>\n    </tr>\n    <tr>\n      <th>1210</th>\n      <td>0.414199</td>\n      <td>0.092373</td>\n      <td>0.205852</td>\n      <td>0.064506</td>\n      <td>0.012040</td>\n      <td>0.426998</td>\n      <td>0.271934</td>\n      <td>0.000000</td>\n      <td>0.000000</td>\n      <td>0.038468</td>\n      <td>0.0</td>\n    </tr>\n    <tr>\n      <th>1211</th>\n      <td>0.321320</td>\n      <td>0.279585</td>\n      <td>0.082238</td>\n      <td>0.063592</td>\n      <td>0.029112</td>\n      <td>0.325422</td>\n      <td>0.336472</td>\n      <td>0.000000</td>\n      <td>0.083715</td>\n      <td>0.040878</td>\n      <td>0.0</td>\n    </tr>\n    <tr>\n      <th>1212</th>\n      <td>0.408968</td>\n      <td>0.031749</td>\n      <td>0.055570</td>\n      <td>0.107602</td>\n      <td>0.013281</td>\n      <td>0.410580</td>\n      <td>0.300105</td>\n      <td>0.000000</td>\n      <td>0.000000</td>\n      <td>0.037073</td>\n      <td>0.0</td>\n    </tr>\n    <tr>\n      <th>1213</th>\n      <td>0.599415</td>\n      <td>0.279585</td>\n      <td>0.028171</td>\n      <td>0.068817</td>\n      <td>0.026068</td>\n      <td>0.561811</td>\n      <td>0.405465</td>\n      <td>0.000000</td>\n      <td>0.000000</td>\n      <td>0.026251</td>\n      <td>0.0</td>\n    </tr>\n    <tr>\n      <th>1214</th>\n      <td>0.489548</td>\n      <td>0.149532</td>\n      <td>0.000000</td>\n      <td>0.098984</td>\n      <td>0.051553</td>\n      <td>0.526093</td>\n      <td>0.154151</td>\n      <td>0.000000</td>\n      <td>0.000000</td>\n      <td>0.040582</td>\n      <td>0.0</td>\n    </tr>\n  </tbody>\n</table>\n<p>1215 rows × 11 columns</p>\n</div>"
          },
          "metadata": {}
        }
      ]
    },
    {
      "cell_type": "code",
      "metadata": {
        "tags": [],
        "cell_id": "00013-2dd30242-ee3e-48f8-92b4-74421b39f76f",
        "deepnote_to_be_reexecuted": false,
        "source_hash": "b182f6b",
        "execution_millis": 265,
        "execution_start": 1617796858572,
        "deepnote_cell_type": "code"
      },
      "source": "from sklearn.decomposition import PCA\n\nn_components = 3\n\npca_app = PCA(n_components=n_components)\n\nPCA_DATA = df.drop([x for x in df.columns if df[x].dtype != np.float64 or x == \"average_mood\"], axis=1)\n\npca_app.fit(\n    PCA_DATA\n    )\n\nM = pca_app.transform(PCA_DATA)",
      "execution_count": null,
      "outputs": []
    },
    {
      "cell_type": "code",
      "metadata": {
        "tags": [],
        "cell_id": "00014-d6e3776b-461a-4717-9f50-cd00254d693d",
        "deepnote_to_be_reexecuted": false,
        "source_hash": "142d99bf",
        "execution_millis": 2327,
        "execution_start": 1617796859712,
        "deepnote_cell_type": "code"
      },
      "source": "import plotly.express as px\n\nlabels = {\n    str(i): f\"PC {i+1} ({var:.1f}%)\"\n    for i, var in enumerate(pca_app.explained_variance_ratio_ * 100)\n}\n\nfig = px.scatter_matrix(\n    M,\n    labels=labels,\n    dimensions=range(n_components),\n    color=df[\"average_mood\"]\n)\n\nfig.update_traces(diagonal_visible=False)\nfig.show()",
      "execution_count": null,
      "outputs": [
        {
          "data": {
            "text/html": "<html>\n<head><meta charset=\"utf-8\" /></head>\n<body>\n    <div>            <script src=\"https://cdnjs.cloudflare.com/ajax/libs/mathjax/2.7.5/MathJax.js?config=TeX-AMS-MML_SVG\"></script><script type=\"text/javascript\">if (window.MathJax) {MathJax.Hub.Config({SVG: {font: \"STIX-Web\"}});}</script>                <script type=\"text/javascript\">window.PlotlyConfig = {MathJaxConfig: 'local'};</script>\n        <script src=\"https://cdn.plot.ly/plotly-latest.min.js\"></script>                <div id=\"26a47334-83c9-4849-b8a1-4d0b165c8b60\" class=\"plotly-graph-div\" style=\"height:525px; width:100%;\"></div>            <script type=\"text/javascript\">                                    window.PLOTLYENV=window.PLOTLYENV || {};                                    if (document.getElementById(\"26a47334-83c9-4849-b8a1-4d0b165c8b60\")) {                    Plotly.newPlot(                        \"26a47334-83c9-4849-b8a1-4d0b165c8b60\",                        [{\"diagonal\": {\"visible\": false}, \"dimensions\": [{\"axis\": {\"matches\": true}, \"label\": \"PC 1 (23.3%)\", \"values\": [0.011213584939839885, -0.006460469538395218, -0.11313893600020287, -0.04893716888566335, -0.09286973270493946, -0.08292556598514356, 0.014895458110599682, -0.02799458185551064, 0.07152501903036795, -0.07810988246590307, 0.05409900609419149, 0.011657970513919223, -0.008217450143550664, 0.029870093639808935, 0.24251726946831614, -0.03464917554149897, 0.05054362406294144, 0.13082414569817302, 0.052950891419351075, 0.04025347962623597, 0.10869228079395094, 0.03949305310154117, 0.17245524168117524, 0.09889974061814467, 0.17072254816407462, 0.22370261254679213, -0.03640878419897252, 0.018824136785834562, 0.06999778955165405, 0.09545832687126962, -0.014405537920813234, 0.006779874606195604, -0.005524600941186945, -0.0800099866489854, -0.08131523817240219, 0.02349234721321594, -0.00415375501666717, -0.009998754075711313, -0.0471324781895587, 0.10400310674262105, 0.005695199083549784, 0.02957052783675069, 0.010737876716848747, -0.009242344473667116, -0.008923721682663385, 0.02943087014697458, -0.07376855291777579, -0.09492765917841638, -0.0674540668296915, 0.05797235205789604, 0.12632764614486472, 0.26701599453489966, 0.2063493923498278, -0.0024427308919016963, 0.1990250685488951, 0.20152069573640277, -0.009304324883816256, 0.08341646635117238, 0.1452384063814477, 0.15464423081042378, 0.13981241747998574, 0.0060403285657695234, 0.15022289985335702, 0.06521477115943666, 0.21938625041101456, 0.03309568638711033, 0.2933569937948236, -0.0025861896758361215, 0.035384911921909075, 0.09511655005128504, -0.06252531876579176, 0.08985093909937497, 0.469765747570554, 0.07095578386099433, -0.14505478733416322, 0.09057959167940244, 0.07340921326363475, -0.004330500785117787, 0.03310518068665914, 0.17334169878020558, 0.15638735837288353, 0.15819655596688897, 0.3166114538599456, -0.025417437024634816, 0.09485244534205545, -0.23978397495331447, -0.16623244031182338, -0.03814983660317238, 0.024361229000592944, -0.0067742981724787195, -0.1342865611925906, -0.06818739926909964, -0.016480653522301745, -0.07029367608572333, -0.016148201009228206, -0.08658296705992635, -0.07947440405960651, -0.0659655184768493, -0.06149157966120249, -0.1102006098199143, -0.21589385908627623, -0.07187306801792794, -0.06839125548527439, -0.14186299745297085, -0.14625141839458558, -0.11656217661659399, -0.08827815485749177, -0.07157537687769731, -0.07097725443836549, -0.04230391662959298, -0.06861039242281744, -0.16475841086323367, -0.07644861906641555, -0.04352037065403236, -0.12438883640859047, -0.08825028770105328, -0.08512744901719788, -0.09659021912983089, -0.13553248939271054, -0.023588515129277673, 0.1211859486360292, -0.014326555707818692, 0.20355563399168955, 0.19706606513045052, 0.04640090184053217, 0.15663424245393287, 0.09316256647980681, 0.1460467127366949, 0.01770326658043408, 0.17143646842478638, 0.09915816248133805, 0.010843722070814158, 0.13951420218422267, 0.04235575249456409, -0.07788118136807423, -0.17845387947072552, -0.17553991087290866, 0.008361861532714943, 0.5082098470703226, 0.39760524237151, 0.49932225695929866, 0.19053142393824793, 0.10335055743503366, 0.14292692002690152, -0.007803827189082153, 0.032544977945580464, 0.10720823514656792, 0.01501823575783831, 0.033818852788444646, -0.019793568487238473, 0.13386697318474655, 0.0899257046987645, -0.04578431518197154, 0.026339809367938415, 0.010557395710131494, -0.024853740890936, -0.06799964933083276, -0.16181496329396333, -0.052325345125002774, 0.1949362399519883, 0.04343389464500486, 0.1923750112679582, -0.06844869818972525, 0.06749111255959712, -0.09095187034012625, -0.0593222436051082, 0.09185878007681447, 0.15722658605721657, 0.04808047961787618, -0.09291845590682839, 0.12050797833397596, 0.02876031476273232, 0.159547884363037, 0.0783173363272522, 0.050853371733005547, 0.05416670047305523, -0.094946617328043, 0.05308892727427474, -0.01522389217183282, -0.006406849346099007, -0.07653842457384198, -0.0777997229194826, 0.18181615959069614, -0.006852154715702333, -0.13897866227144845, -0.04978564606815739, -0.01692847395460003, -0.05915508748415379, -0.0319600809517486, 0.00813844197836173, -0.020763589010175148, 0.08995467164952813, -0.012775837896981241, 0.06628731735978688, 0.03477498459353448, 0.17158358952931058, 0.1222691186006075, 0.04780487280633616, -0.10492697354445003, -0.017243344728969334, -0.032307110469616165, -0.10030455447613576, 0.2674768026698226, 0.00868309014591966, 0.04045773971626397, -0.0069746016698465805, -0.041272934471615, 0.15949219932156744, -0.0713920302266932, -0.12506543219562413, -0.04009580441080854, 0.051988605344864755, -0.037994057871552106, 0.024548800299260643, 0.15472152129122094, -0.050845836984021384, 0.05362641886452273, 0.01695142035596556, -0.02076613349159614, 0.060865467819566456, -0.04607103856305034, 0.027936055589219588, 0.125640800821041, 0.1096359327674427, 0.08057774427164795, 0.14726840716643244, 0.16739102390063015, -0.07580520875017764, 0.083697624086929, -0.08358352477280667, -0.11138451909086489, 0.03961928599811378, -0.010190775092247407, -0.04198597004152956, -0.10327314782022783, -0.045011923203696916, 0.04613644005963308, 0.2268954761017295, 0.18857978717374665, 0.273472322567135, 0.11631812501753488, 0.17583372185536617, -0.004307467726720136, 0.12315505447885193, 0.13291656652904515, 0.059788753765712924, 0.17773032175677655, 0.06349413837601045, 0.01927027063539316, 0.12185032841316232, 0.025819762005774377, 0.06028174349968565, 0.15682720842735248, 0.29466140992896206, 0.32278145548344805, 0.2666847841855628, 0.008770934896218783, 0.4739103348921166, 0.06936635985113719, 0.10928944270321797, 0.16447935746709286, 0.15876525865517246, 0.07239739735824502, 0.1171480802065101, 0.1200814103432369, -0.015357823843047538, 0.4413878748294019, 0.4155305359119958, 0.36342288553619323, 0.10994570600102933, 0.11349393323408706, 0.13153587119316723, -0.018273796561085087, 0.06811142400342947, -0.15306572361828477, -0.05665760349072192, 0.10836785511103757, 0.1467926385228569, -0.07949531809767181, -0.1364269456083724, -0.02642775374060608, -0.017933732896922308, 0.07156888106863891, 0.1891590147128916, 0.028130591690497194, 0.007230835986568786, -0.008182654628220907, -0.0012795534416759659, 0.048335461932598044, 0.03891008781995791, -0.004703541809402651, 0.07914545355563934, 0.06874839094827355, 0.03440290889646138, -0.005147488321459984, 0.01841125676133018, -0.020325846897523935, -0.03841309069178194, -0.0638639164584674, 0.128278424298361, 0.03408267973720494, -0.07434790380156603, -0.10531016636184579, -0.09449855599492414, -0.007967621813983528, -0.0329283607694548, 0.031949632235425796, -0.0650530276860728, -0.23338208345193373, -0.13928766565771872, -0.03578457633665297, -0.05042019006537151, -0.04240967885478375, 0.11981621677005187, 0.07221138283612773, 0.14755531640062142, 0.02321099503303038, -0.242814299764073, 0.17943443469054687, 0.18543840153368774, 0.10586619223529696, -0.01170611796117771, -0.08819937894741972, 0.010442184949242346, 0.08914023414839257, 0.1739539697254426, 0.12995371086210847, 0.040631305098458866, 0.04334669995216669, -0.03329757637456221, 0.005977360725944343, -0.10453365186949906, -0.012714709716684201, -0.04748797186157368, -0.023893702709560233, -0.10573597813426083, -0.08259301420700332, -0.039584643664162956, -0.11681508410771027, 0.011976472326055525, -0.014029107714239685, 0.015703168318575534, 0.1262911543749472, 0.026673821611234837, -0.005514374385898026, -0.025161518315027078, -0.025303488284570328, 0.08424562137654573, -0.03152970326848899, 0.038135341165678335, -0.00901256359370149, 0.0020655819661056247, -0.016085243234927323, -0.09558962749101221, -0.028646755056118942, -0.021122929724561, 0.13261059269033787, 0.07775139367700597, 0.02964525377035489, 0.1093343777302843, -0.025353922518871416, 0.16494396874071776, -0.0737244814479052, 0.0047804846084036744, 0.007487096596626426, 0.05644853895014608, 0.04449488853988536, -0.08393100764754076, -0.10466852585371136, -0.0422247305419179, 0.16557244223511558, -0.01082346474702926, 0.05561354339388317, 0.03387294299537237, -0.008910538389656298, -0.05151732737113672, -0.071884246885881, -0.040413406562956666, 0.05706344906401063, -0.00038875408545963145, -0.1591156149733935, 0.016721581642272578, -0.06170458080081516, -0.06487387752400343, 0.07825777667065731, -0.033400746544715885, -0.10282987039999761, -0.001037652296389668, -0.05696678978217579, -0.06492890439977315, 0.024644535863258786, 0.06341017237239044, -0.04933712528856989, -0.04493808310031239, -0.013177610107097419, -0.05009590070264157, 0.03617816387353349, -0.06373661787459278, -0.032147093348033576, 0.07574338655516366, 0.07976043027208492, -0.06118940736681, -0.08741729320885773, 0.029750959328078797, -0.05218196006131264, -0.01941875824236252, 0.0957486092146275, -0.02568990244252288, -0.0585566573194858, -0.0216124066851963, 0.07343160123342608, 0.059511011627292436, 0.030280153492617392, 0.03582811281981807, 0.018240969828346255, 0.1009148173790583, 0.18003939459806428, 0.3217039553658954, -0.09398934331538476, -0.031272048653067916, 0.176986631990177, -0.03846201464504355, 0.055631410006368655, 0.0069261568366146605, -0.10632595895293431, -0.12258290038861594, -0.2752902135847664, -0.289459998802287, -0.23825516684933887, -0.27597658096903205, 0.12809399745096856, 0.15733058423201923, 0.1136186536819177, 0.3003464367533354, 0.0631010309415571, 0.1916654953074828, 0.22068471291984892, 0.15842888584794335, 0.07914366395758796, 0.05986319567195598, -0.05103257566074995, -0.07476970857100629, 0.023464300255367238, -0.18335115115665654, -0.02369948105789451, -0.13066522426897986, -0.14532125340473995, -0.12510205289781168, -0.06511427052423412, 0.06310823777974037, 0.15838899941597256, 0.015692851735828767, 0.22979869033345862, 0.24893409840398492, 0.0611291902358958, 0.2577538429078556, 0.22144884029120127, 0.1785671898472743, 0.08389017906715804, -0.2047696238666609, -0.04821064661838628, 0.23906034423373487, -0.009560628826765859, 0.2338611789710245, 0.1431990796643556, 0.13256541614061945, 0.056442934936516254, 0.20691046761603651, 0.06665743034399073, -0.059443593665648914, 0.10229924297618834, 0.1273616803385342, 0.10411770109178446, 0.18877589125287564, 0.06867927815861816, -0.005284177878630437, 0.16420833059026338, 0.03186826905949498, -0.012753547419526333, 0.1252555025765501, 0.0183891175176678, -0.017648823693464624, 0.1155488093118344, 0.024751067044149363, 0.11259425407729362, 0.2649168021225786, 0.15776261630516045, -0.01658090186575543, -0.022309839566602273, -0.09584935502137676, -0.008557336568827392, -0.20178249579055785, -0.03297680819418642, 0.1766736733710359, -0.07064266353967914, -0.009807451807647142, 0.1819347189877097, -0.0945363016522421, 0.1535965829361722, -0.06462842729216248, 0.03584345208442772, 0.15129873392787271, -0.11566756419372394, -0.20167383872965208, 0.11401835528881825, -0.18060873111042244, -0.019203546451289244, -0.10019480050674223, -0.07918851579491865, -0.036487518910192425, 0.03244082564378315, -0.10162471298776284, 0.10553901504213772, 0.01818590648514448, -0.10314975567651588, -0.084943857253651, -0.11278728732352629, -0.07041482980349185, 0.015713003269780517, -0.03550795988777137, -0.18469752900469125, -0.1492466905795428, -0.2102779048875018, -0.17844724831113723, -0.19418422261426557, 0.17874204241183328, 0.09562005034492377, -0.058988899778589655, -0.13466598386488304, -0.1462443551649866, -0.14153281895837483, -0.14412322416442788, -0.17687366211854588, 0.05476953418574395, -0.06089909004323733, -0.05971779735993039, -0.04860544543051208, -0.09043860565653838, -0.10233915265704888, -0.14439217756773376, -0.2872160983996475, -0.1770714346457155, -0.022171232197606385, -0.06305330283656128, 0.030636433090602436, 0.08136612054681792, -0.009169119821885369, -0.041646855001423295, -0.0008690716653080169, -0.04199124845657435, -0.1898305461996693, -0.2674997565794569, -0.15073957564202192, 0.04868679588234238, -0.0656620552948407, -0.12633612699493993, -0.04070641941192876, -0.15566721211722573, -0.007160483708307755, -0.05820734277173735, -0.021563209316242452, 0.0025435797586013747, -0.038515430918849444, 0.009561243413882288, 0.03481518589380684, -0.08834503754591119, 0.09020332201925885, 0.07963372177625791, -0.07558637090324948, -0.009076206990624332, -0.09411011662120253, -0.182988841474323, -0.09704167638588852, -0.02444778317533294, -0.023899414958988566, -0.08897369287888642, -0.04283476900268478, 0.02881481210267629, 0.10301772675333717, 0.09921899107769055, -0.059962342753468574, 0.025406629042382455, 0.045006951433323866, 0.0036476307432538545, 0.05963197393319935, 0.04576693426867619, -0.04288685418118938, -0.07079355403220937, -0.004457293437268193, -0.06254304895883693, -0.06758500560913645, -0.07831089227823725, -0.19284286197201572, -0.19470178660361567, -0.07375314836290314, -0.14140811429467448, -0.1274496436831233, -0.20915596166499995, 0.06056409512423908, -0.06333714958978298, -0.260872162177409, -0.24381698503102714, -0.1657513331455725, -0.15090970057164918, -0.10479644928665309, 0.06474002647207068, -0.13361683123086582, -0.1153596834955245, -0.00433116350043781, -0.17916583360868327, 0.0488167758455741, -0.0845633463295969, -0.06534251821514486, -0.05665760349072192, -0.11731798500831658, -0.17083424496977787, -0.12163877747653055, -0.1719938383341395, -0.10573339848324595, -0.17509352636947412, -0.12093436346408332, -0.010281857014444947, -0.041211219168591974, -0.15852329867868253, -0.14812477603481475, -0.07833943320767169, -0.1442073300483431, -0.13214123868428024, -0.11720310880183415, -0.06138133776915268, -0.07295437618460421, -0.10595135257533249, -0.11506227342578022, -0.1978562680658889, -0.11810836912411932, -0.1136394896298937, -0.06928313030906842, -0.06650650879252983, 0.0719804757734111, -0.06899893779805943, -0.08298156283692587, -0.17526596923585153, -0.1005894626857053, -0.08061320800780447, -0.1867585737679259, -0.06581902982212405, -0.10144799657497847, -0.00754900520033734, -0.16934242448059816, -0.10272432096310442, -0.16195283568417196, -0.10320523679821297, -0.11534868562426662, -0.19820793485265045, -0.10618048226313692, -0.09503266871013792, -0.12927266865775813, -0.1616900397731229, -0.17909923218854082, -0.11242928175706556, -0.1893578645478703, -0.1673972389929364, -0.14070360592701728, -0.1551627622489782, -0.19585302312150316, -0.1919405280133578, -0.17508372241409506, -0.08497035088486693, 0.2469465798429756, 0.11777875569718126, 0.08583809549888981, 0.250716064774049, 0.10228998470848824, 0.013546700480782428, 0.059209380325878073, -0.06965753818362079, 0.03173477563639072, 0.039434555811925016, -0.0071251910099515885, -0.00628101273863059, -0.021980342022289004, 0.02133891437522536, 0.05393148467348022, 0.18851278980736774, 0.16608365056552166, 0.028292416411894315, 0.04669531936201578, 0.054777734290743056, 0.05658603182678322, -0.061380469825931726, 0.05914664180427095, -0.06227093313800787, 0.13199753960841448, 0.068355413373498, 0.09142677031162845, 0.13198185399825882, 0.028103297048376098, -0.07478185500410207, 0.011755769073123493, -0.11926126853495835, 0.13616325318426722, 0.06663510865301162, 0.12374054170418132, -0.19852594333020243, 0.24777159043878258, -0.01769821482075627, -0.07529463410393296, -0.0729506786057885, -0.011179884407762403, -0.1102506007952602, -0.09920850192739147, 0.03141846324107726, 0.11994790564601167, -0.05539703981363406, -0.17529518479382455, -0.14514018372646656, 0.039895172873078616, 0.17626479679956447, -0.06991216742318689, -0.06227222285167635, -0.07246481795884917, -0.2028621961473334, -0.19020609481432962, -0.1459877514808619, 0.015276272766292254, 0.0008212122944982589, -0.065678121063954, -0.13142553155633607, -0.08311870639429064, -0.12202099127622827, -0.13346088009107995, -0.12330008667649585, -0.08536574171781378, -0.10102764339457977, -0.10063837522154791, -0.022117987286987276, -0.027159251935458862, -0.004052236415882331, -0.030512058104194894, -0.08053138152573162, 0.054643396829291126, -0.03211152744272351, -0.05763681991234138, 0.028718786717763792, -0.06001870145845839, 0.00791185557940688, 0.04023496625561921, 0.030466029227109667, -0.08012911926161533, -0.09917497042723422, 0.011145139176515316, -0.005700185820274713, -0.0779125642913925, -0.0625377043318572, -0.05286744997556149, -0.033821186326981036, -0.030265385225992623, -0.034909815948010806, -0.04783093197335773, 0.03738343111207187, 0.07481818335109791, 0.05761649668242689, -0.011405462956934977, -0.15397532902862912, -0.1446286945165896, -0.11150055856920206, -0.04870976120634713, -0.03468117384002033, -0.09536947852458878, -0.10464748974318629, -0.11385261972407527, -0.1678734632299957, -0.15660902780618127, 0.007221759492469146, 0.045881328609424996, -0.05477462888229861, 0.008247656959163307, -0.03166374602239125, -0.11668770539932127, -0.001639182733085537, -0.03919629680365677, -0.05643433505130459, -0.21799192411464322, -0.11912376632830714, -0.06112876585815665, -0.12432973295900686, 0.03417809576472494, -0.02435148206861939, -0.04495028064676374, -0.05472356134234188, -0.03309388542078445, 0.038008351281760784, -0.010285350049816927, -0.015792123412999348, -0.04209095506972452, -0.18148762495926096, 0.06200323067957627, 0.04626391106037849, 0.2824834235058862, -0.06806939186137294, -0.0561901220446673, -0.11649099670957962, -0.118342692063108, -0.07769004842403729, 0.01505984453314792, 0.009389113689862144, -0.058343370313021156, -0.15344626527133495, 0.14007691798497543, -0.04778783152928436, -0.14073142261396734, -0.029326006470175685, 0.08798644107501188, 0.1258786386216853, 0.12356475331744901, 0.039997841837809356, -0.17490578074558297, -0.012510610056285095, -0.021949287642757404, -0.025852937967437983, 0.13559404219364332, 0.11986744307949704, 0.04233636228701126, 0.23881779976483686, -0.017433547784200462, -0.051618248015398334, 0.030064323240872787, 0.012997833650061083, -0.023173099446837767, -0.03700284111841981, -0.03754633160945792, -0.11141692345491057, 0.007965285389041558, -0.03882553100667765, -0.07948334984588908, -0.14821104888333453, -0.016045460320803933, -0.034183538285618424, 0.020747768158407294, -0.08751830556262799, -0.18856420789892167, 0.19211685984127724, -0.033356373532421935, -0.10095332202418893, -0.11882628304975384, -0.01683389397530455, -0.12411971397794125, 0.12940494702273617, -0.11222866636801988, 0.01295107721669216, -0.06304912815395425, 0.04660896803923255, 0.018343426549457153, 0.07628090080760548, -0.0646717103937264, 0.05305686053236409, -0.030232425222102646, 0.03360258888422431, 0.05824055058691008, 0.15316291303340174, 0.013955568838402805, 0.024230831320906653, -0.05860409478294344, 0.1172792065552101, 0.2466182829442296, 0.13320914135119807, -0.1091416866263322, -0.040295255715783115, 0.042947268798059754, 0.3200417127296022, -0.060631587754219556, 0.20038278131034545, 0.16693038112227787, 0.07625074434081476, 0.023713134000098505, 0.08315375104962726, -0.12718717299582452, 0.051528432203283965, 0.03365666121702503, -0.07053931997659833, 0.010417345068134914, -0.07630441097582105, -0.025098431271841266, -0.019415994212519747, -0.10211253540440515, -0.030170087704538412, 0.008865508140979793, 0.0039988592413257385, -0.12219119097190141, -0.19349054388086634, 0.00962081491868796, -0.02298622336081598, 0.015015233555006486, 0.011909413762443194, 0.03055084142446173, -0.13425096655256027, -0.19723026244262262, 0.041532664490636445, -0.06533435200463523, -0.039410823117390935, -0.018194841833385732, 0.021064209701932717, -0.14026587036150595, -0.20590467935454607, -0.12728179389551428, 0.050911140236921525, -0.11130202079423741, 0.016412943461754256, 0.05361474966025322, -0.05403989328113155, -0.1938100506960679, -0.15492799794920886, -0.181664873406805, -0.09146748285635124, 0.034883857644035204, -0.017723207707737994, -0.07113658523282423, -0.042087664123358765, 0.027895064099791193, -0.010332457495740991, 0.026973481406193878, -0.06251040276457237, -0.10868110410606437, -0.03944080734725059, -0.0074453893763207985, -0.06907654708999685, 0.023824367560016643, -0.030410097386162155, -0.11537127161568418, -0.03781081659435738, -0.09400208976099333, 0.014380301806796102, 0.030957352219783473, -0.0444443869686167, 0.03651886754654217, -0.02397210678760726, -0.021922615121115586, 0.04357705879741978, -0.043141629896239674, 0.0568314607579924, -0.05572350366053466, -0.04124196065614424, 0.03901373752932896, -0.14461914051897407, 0.008417708101137539, 0.15979805057382598, -0.18297015173001516, 0.06320066046445677, -0.10199916653334562, 0.037521121101024506, -0.0001764609926205353, -0.07289243888452993, -0.15756485163704045, 0.09116169990586567, 0.06175233862143689, 0.19230106114274734, -0.08205761298368242, -0.07752944678076912, 0.022421720267540312, 0.059975015309448355, -0.010450239673090278, 0.1311866450662311, -0.04252637038356982, -0.11153591011663795, -0.2190728537692074, -0.16570996648403583, -0.09660838940982211, -0.06323385923787372, 0.20521700713716903, -0.17309794630090353, -0.0942916757940587, 0.15568891793711861, -0.16339589917864375, -0.002232414142531641, -0.11785615708481535, -0.0769693603971786, -0.1293161903490082, -0.07285882885532777, -0.21098456222739306, -0.03882038583792743, -0.1373269808646378, -0.17967124683994934, 0.005525687774902006, 0.0335950522501388, 0.010874463983684246, -0.004159551816074495, 0.053505495341687304, 0.09639172940937714, 0.06300904663260457, -0.0627905953813375, -0.017299098757319758, 0.12440126629358605, 0.14941195111078814, 0.06453457946131919, 0.02246202225937186, 0.08070486083933273, 0.029291959659705966, 0.029010143536611327, -0.04321014778494721, 0.04693775291727795, 0.012781051073292783, 0.046539439605694004, 0.02711573134759569, 0.02183969694135482, 0.106826490052109, 0.01289101936523301, -0.017267986683968017, -0.008934385105806984, -0.05325079541111537, -0.06318766390407717, 0.03481694580777806, 0.0022069397258183735, 0.035851380440621604, 0.09069048250907615, 0.05448182991000651, 0.028055248006735665, 0.048660063826327836, -0.04156481432102836, -0.11667588207964802, 0.14902360165132503, 0.16796698924651346, -0.16429852270206963, -0.039514485355913405, 0.08827051068463732, 0.08038697861131859, -0.09428541641579899, -0.1309193267818145, -0.07103460691937497, -0.19294184389430533, -0.04109658349335334, 0.07037382697479094, 0.0268386294252409, -0.034880597019710885, -0.15560931177040713, 0.0662084038868972, 0.08661111913677066, 0.04520791490266943, -0.0057108790582472745, 0.05167511958163013, -0.10245402993325495, -0.03123117165442902, -0.018824307081159373, 0.017673519576806702, 0.1375072262724661, 0.05375692305693276, -0.10631523385585183, 0.058093648751284255, -0.20333268228904924, 0.1293435362091908, -0.017999993767519835, -0.09441624969400733, 0.058819161245543934, 0.02191109385235753, 0.11367764774429913, -0.011970850371305757, -0.13347055131069566, -0.04391193349581511, -0.0948500384251618, 0.009842784191251135, 0.09007188522485463, 0.05951102302962874, -0.013617810929607451, 0.010624663987685636, -0.029373531574442772, 0.08249926366729832, -0.05394206063095419, 0.21748680468939907, 0.16378814664270142, 0.08247555712530402, 0.16085184770693012, 0.07147589554630555, -0.05192781248889076, 0.16057744720327782, 0.0834522061144986, 0.1709907927052571, -0.039815678921841284, 0.06070235754545122, 0.046505007301843065, 0.12793414916173965, 0.08275274389873956, 0.1355153923132149, 0.23977533982502436, -0.006431419316460284, 0.21637348260640563, 0.005466402104600595, 0.10132181415911713, 0.18247928986224463, 0.16727343554868945, 0.17847541979954204, 0.2501648822169413, 0.08290000788831646, 0.20414415514565734, 0.15487429504722286, 0.13093668210417145, 0.18592684660248776, 0.15600347119056324, 0.12108490866906557, 0.1282955894300701, 0.1715837393078361, 0.12559058416865027, 0.1333904688590747, 0.16004295985401462, 0.18876643108669588, -0.022480411833063627, -0.12955586876825706, -0.07791763027578275, -0.12601718351660804, 0.007266261654802236, -0.03062875643742341, -0.11557739338140882, -0.05851436287496513, -0.0892433376893852, -0.13008509544017077, -0.11418314472745737, 0.06220978370652239, 0.14494342348006703, -0.02179073607217996, -0.015483398778595501, -0.13484126207727873, -0.06540186334274617, -0.1914495049835083, -0.2345103045189349, -0.042065184075325494, -0.04669649890456907, -0.14736319524923566, -0.07011458728509878, -0.17157563534317455, -0.07930633960953047, -0.1943519573734016, -0.15115746020223284, -0.09536654104458353, -0.09828382053865349, -0.1614074146358747, -0.19839472896573032, -0.20732845369426783, -0.14917772388282904, -0.12750423958665638, -0.19723026244262262, -0.15665913341881918, -0.19723026244262262, -0.11380972830163912, -0.19723026244262262, -0.19723026244262262, -0.20444566182216087, 0.10348098708566207, 0.011029618691801786, 0.012139813994791937, 0.04502401309462991, -0.25785197963098305, 0.2661346054033556, 0.13648263113026177, -0.05978296941235138, -0.02855924777970357, -0.07447658844726136, -0.06549215631925479, -0.06941778430654101, 0.3131557622034517, -0.09977384879797799, -0.02466717464200339, -0.14642414705633677, -0.08593631645628408, 0.037214373287578255, -0.005710068767368463, 0.1036152127497157, -0.03462878903634571, -0.16177932509707468, -0.01284672572106717, 0.19657825942028534, 0.06369488942310778, 0.1375484402728655, -0.08152203543143742, 0.2231943147641766, 0.21380612798030976, 0.018159887364511563, 0.11677891860448508, 0.2483545928572001, -0.04981600062532691, 0.03207271658129497, 0.1104537253558193, -0.032085763889353296, -0.049251725953691775, -0.005371014590627275, 0.17844161150259888, 0.09529714555375957, -0.009197562626869972, -0.09022779785808341, -0.06207414513126347, 0.2185316472285294, 0.21485544323270278, 0.06964149190670464, 0.1548456811903572, -0.011651312002769962, 0.09628989740478561, 0.1647422174835229, -0.006239102731359625, 0.03299776960076547, 0.003320589871318303, 0.16829605780949153, -0.044987289327937184, 0.057804794548492265, 0.0001973938219218721, -0.03986511553009375, -0.0393441615236384, 0.11878711474311703, 0.04783924682945766, 0.09216609982979565, 0.11910024775516524, -0.03926157934704253, 0.1758148612478099, 0.045868263656708784, 0.14342399140873266, 0.11057306741557053, 0.07656789495437516, -0.037190520444133436, 0.20558402788864427]}, {\"axis\": {\"matches\": true}, \"label\": \"PC 2 (18.9%)\", \"values\": [-0.06304001225982492, 0.13222860145334456, -0.049697358684620885, -0.05460482569538939, -0.026522121998053448, -0.04380668392576306, -0.0666227338670514, 0.3253750535679751, 0.06473703031217945, -0.07238367608490824, -0.08150923670602143, 0.21787247151884861, -0.003191286404423384, 0.053435658897379563, 0.05567119749673086, -0.05026827978978478, -0.06622397824178566, 0.09984607638443029, -0.022073766511448666, -0.04657406630354146, 0.03454336489052995, -0.07802677514576103, -0.09663055065484426, -0.09084769133344091, -0.10120615649090112, 0.1513985648284416, -0.06439620202971548, -0.06500159203460121, 0.20580850555955407, -0.0575373081247854, -0.04704448609291392, -0.012250514400574354, -0.016995655313238222, -0.00938388094252162, -0.03932204618341208, -0.051047576768070126, -0.003318886272204827, -0.0803919116448522, -0.07800076205256147, -0.08409724794138368, -0.07341672555769715, 0.09731439764178598, -0.0827419421892357, -0.07200587741454213, -0.07992814769232563, 0.07736749640025431, 0.04927412072632009, 0.33851490758495717, 0.10171056980576847, 0.1979230922408487, 0.19302394491693103, 0.5377448916384507, 0.16506195193565285, 0.1114864689212731, 0.10265414829602777, 0.06388151069141533, 0.03454285699991811, 0.14987700276297009, 0.04521302386272542, 0.1931471721428296, 0.29454101276305816, -0.0041220431823214485, 0.021119928086282658, 0.018792276644901483, 0.06457429954457072, 0.20574294842085314, 0.16049528908566757, 0.004344095762424752, 0.21614525941370477, 0.26026428099255816, -0.022062309805281764, 0.1400871062520843, 0.12117667808977976, -0.04032559153342261, 0.18343549107317175, 0.30134713723943163, 0.35345608587579286, 0.24109984136690774, 0.05933844351651295, 0.0024270708355317353, 0.20425629001987883, 0.20022185799964948, 0.3599494506482718, -0.05496485174735787, -0.042167590484524314, 0.0680380791920518, 0.1627048590002916, -0.0528249515390834, -0.008670394087718837, 0.0839537216716844, -0.033433064883513386, 0.033524123138299056, -0.10357631384255149, -0.09759263527564446, 0.040929283608555626, 0.036179785198772414, 0.014490500492023857, 0.0015435358263868036, -0.07524983910093333, -0.07958010881234878, -0.047848234166110615, -0.06422411323480622, 0.17909096225481747, -0.07560231498203523, -0.06053701886831825, -0.06687177831753276, -0.07102633699083408, 0.14570591355202903, -0.04309330850562667, -0.06733179528853506, 0.13135159619586037, 0.0038912812438917825, 0.058982816305919054, 0.09527151029270813, 0.07176680315253178, 0.022465207623705425, -0.0713546133222462, -0.05737894920970545, -0.05389479894006906, -0.07662276289530144, -0.09576454998091444, -0.07960438403417476, -0.10595812966566008, -0.10413059203102587, -0.08197846683129348, -0.09897759281526859, 0.15597573812457818, 0.1591630826359909, 0.06485175501048893, 0.020881472374399128, 0.08565194654633206, 0.041724196354562065, -0.04746437042342624, -0.06352843077222424, -0.06355619400454438, -0.045276798141709325, -0.01934839887200733, -0.0468823259894048, -0.032930407466508695, 0.013581304064175247, -0.03819246405332891, -0.0615121323522057, -0.048471001968955006, 0.35086249375409545, -0.026321213529521773, 0.016593865972680828, 0.03777214679374753, -0.07906285106278775, -0.06958449153419863, -0.07521201664036468, -0.08624359861336389, 0.05557540290192599, -0.03756528606415728, -0.01619320414988478, -0.035385393812063216, -0.0037403782063206484, -0.028027652839351134, -0.05508473880171452, -0.05417215022348743, -0.10494665815407213, -0.06558344463475214, -0.07909875007799677, -0.061392504185238804, -0.07436571468721757, -0.05303254491185612, 0.31797587066090616, -0.0824615292635324, -0.09814288181101549, -0.08360487118593718, -0.03947812009041101, -0.09392170525635617, -0.0702753947184424, 0.07071794452284035, -0.08951716247574192, -0.08248423137192205, -0.08159078566841563, -0.05620437140259014, -0.08123904944782684, -0.07360283458333639, -0.05350126071347805, 0.05343216299081104, -0.06172095286306175, -0.06162859091514977, -0.06831321304482163, 0.0720617345247132, -0.046015789849118964, -0.07289514394286983, -0.07423650278802718, -0.011320823695584136, -0.029898428677396723, 0.020224640661625545, 0.05184569672384275, -0.052238040414598, -0.05702414926995786, 0.045712056351988294, -0.03854518201965527, 0.04040936218503044, 0.06597991714563178, -0.030484314070820383, -0.07268242820002303, -0.08172077978374755, -0.06304031227344496, 0.006203706840306209, -0.007015435842318823, 0.07524206143129968, -0.020190245916448017, -0.019185853699512298, 0.013448824253333333, -0.060916076655152356, -0.052695430839891665, 0.09344671966300296, 0.10523040485270312, 0.04954730468175495, 0.08135260859131817, 0.012587380267150188, -0.07090064538350732, -0.0809861608325928, -0.061832259884907696, 0.24790195027867357, -0.0460083030924906, -0.010393732193406858, -0.05896526752841491, -0.05905917516414541, -0.07476754564020648, -0.0570590921234257, -0.0567482618706683, -0.054516848749139375, -0.06156408794863528, -0.06237468289710813, -0.09228662286784403, 0.18067282297759588, 0.025422883945200595, 0.1836294936441583, -0.0032298597617390896, -0.0827190787198096, -0.045231217322688026, 0.0680508997184575, 0.07479264885583738, 0.016570602316257458, 0.25532183804334246, 0.07355901073177123, 0.15706749782106377, 0.19776517841426494, -0.08081258782102166, -0.07580884865432257, 0.024436501891300234, -0.018233126858535866, -0.02556694338510352, 0.015202588430950684, 0.148901605399155, 0.0677092503063748, -0.06642037259229257, -0.06267783269378166, 0.07328012930727665, -0.03506713296104041, -0.07798540123684587, -0.032960987581678904, -0.04780016355048995, -0.08027049405548713, -0.09407778216701375, 0.1241491142990643, 0.05169845895509311, -0.019883920322976676, -0.03817053707531195, 0.17390165164580826, 0.2062808175266437, -0.0861534381807453, -0.10378755051160204, -0.067075153888999, -0.06851925687087083, -0.06430853319770319, -0.08554814141557956, -0.05094668032552348, -0.02747745071808944, -0.06337602821526253, -0.0706750271264841, -0.09596941353169444, -0.06280999595079695, -0.04402911796233006, -0.05553771409526286, -0.03260834478154626, -0.05300709154621534, -0.0723164644185691, -0.09449391165716974, -0.04146231138388384, -0.06389783101001777, -0.0702141120877066, -0.0566663886481363, -0.06273365453520145, -0.07333594549349429, -0.0667376784184651, -0.08804103811384242, -0.07002369651277696, -0.04989221058506865, -0.037328532094367387, -0.03686699963498685, -0.07235269861046786, -0.06135320272262537, -0.0763645541643115, -0.08969028871817387, -0.07294999438487948, -0.08132322010101177, -0.07357230146281739, -0.07726444253234913, -0.06835850073183582, -0.07106627494891583, -0.05733896255106955, -0.053298098223957986, -0.06979276648704023, -0.05851028957628334, -0.06720564952173225, -0.07527622877897518, -0.0535768596612079, -0.0743407191409297, -0.07238217008993718, -0.08125092556702558, -0.07084260726036272, -0.04692462377969678, -0.08884953879915165, -0.08900196072013798, -0.05667283249262567, -0.049872502526817054, -0.05992451969820918, -0.057708655738224604, -0.05153592078508136, -0.09679397338026083, -0.07165529291755605, -0.05169465941580278, -0.08197837548535745, -0.07755339361837785, -0.08016903293006963, -0.06044139931244802, -0.07405331227584568, -0.07019239959033943, -0.059542754611923425, -0.04158840256596842, -0.04028104565314185, 0.089526965763936, 0.03328842064840634, -0.04898744868075303, 0.03722029552436701, 0.06277945434444197, -0.030865930652305387, 0.03708860789587824, 0.09401467462874329, 0.022040955854970044, 0.030787050637416057, -0.08342385820566788, -0.061576657314696755, -0.06688263619512332, -0.05949721909452643, -0.060012475462368556, 0.13605189517337923, -0.023807146287836898, -0.05777936787823073, -0.058314580673841175, -0.03587273907052054, 0.08999314741764813, -0.027371234539316208, -0.0414278938811402, 0.005942891474460654, -0.09097435735774875, -0.06033462985734353, -0.04423233821565316, 0.06321657370088264, 0.33078182476702833, 0.003471378697734698, -0.0673526247113057, -0.07017636424495928, -0.06496540156563078, -0.0669279703800791, -0.05869609845655729, -0.06570481812570766, -0.07585361938215716, -0.07100108898789086, -0.06922173361895151, -0.05506344033056435, -0.044122553048123736, 0.09229914205606317, 0.18118673829259674, 0.10103322743545651, -0.029800022182791402, -0.010427818620002789, 0.015045123587091532, 0.029193545438555457, 0.06039807965808199, 0.19546249420877387, -0.04961127766140546, -0.058472391493238116, -0.06374148304894833, -0.03700171666327311, -0.021889026766490925, -0.05312135928845767, -0.0694040765731091, -0.05639751087607199, 0.24574888678929827, -0.04324770296287989, 0.10456604071027328, 0.017875475071101675, -0.07929557597782037, -0.07017871193212112, -0.042422471741347355, -0.059383305442526714, 0.13078260645754425, -0.0019813003973352013, 0.10956649023885097, -0.03237740469835316, 0.047172995987832735, 0.11268270544121874, -0.03244253305058087, -0.01763330569650442, 0.0527827607526964, -0.060925808704149625, -0.05676801344073648, 0.04018168646852239, -0.04068575902299519, -0.04623958114602219, -0.1245971660454832, -0.06922293950506296, -0.04620660086827029, -0.06671972015032922, -0.06381713987777055, -0.10802986117619172, -0.08798548567776783, -0.028459443492731627, -0.05820424798849719, -0.06460890793104682, -0.05259241194181934, -0.07687380751132324, -0.07704208415427723, -0.08300608374282202, -0.10347443197897824, -0.10241436672933923, -0.11026487626013991, -0.07815241407722921, 0.13286822039658977, -0.11037856248219029, -0.10222149368932522, -0.09254224485587498, -0.08478009636642764, -0.057601808029009716, -0.06159583369259873, 0.10973928841723483, -0.01471621454286642, 0.033330331146268655, -0.02588777825399018, -0.03128022950909589, -0.03742235398797635, -0.058667563774873595, -0.07616882709539637, 0.1154205764597831, -0.0032904794030643933, -0.07455175829944569, -0.023831705670250836, -0.08356915550378569, -0.09803398342922418, -0.0940216837690638, -0.08213748810897971, 0.0814554203693406, -0.054963155361835075, -0.09113089785935849, -0.1342566865248297, -0.09981953583541721, -0.11730024371343559, -0.10940934992642513, -0.10353412928389369, -0.12282514401881543, -0.09758576179054308, -0.0873342211882054, 0.19820790806871724, -0.05567201594758053, -0.04582343729463105, -0.0542398872975369, -0.062470957749450294, 0.23413076659079668, -0.04214384074377042, -0.05846070774553327, -0.04252731099934485, -0.04710891839960989, -0.05932062809065731, -0.06270966284597132, -0.05184981222686474, -0.09357521113483519, -0.08290790307708433, -0.09398533060049205, -0.09797803622231724, -0.09158754104541583, -0.07241831356025812, -0.07355894020536952, -0.06094110576826382, -0.08067303944652227, -0.05359486023114837, -0.06335691489552935, -0.06580036196205634, -0.03252449343204499, -0.04900616160896235, -0.05957239771025665, -0.05242769372493943, -0.07734529339809985, 0.1834751932805054, -0.06629437198392683, -0.0738704317806905, -0.06851409373255166, -0.07058187030837926, -0.09398212414621783, -0.04461372503928446, -0.05382426287728594, -0.061784799309045096, -0.06390437550051269, -0.062163311892196274, 0.0868291218138839, 0.18781115452081384, -0.029614808753625776, 0.18332020443049737, 0.12834241197015447, 0.07449997683016717, 0.0876035845693391, -0.059877305777267714, -0.07789829461848514, -0.06541837932664932, -0.04518424140415115, 0.1167170589481642, 0.15976744101189672, 0.266427739635322, 0.17605043413969793, 0.17849850913108894, 0.05754410652963266, 0.29314480598651654, -0.019288483150121473, 0.14264394344195688, 0.0019468435452213064, -0.0014922021934029815, 0.07217685354840248, 0.10823195968080487, 0.07755500717153649, -0.023110689975395296, 0.04739874280040597, -0.023047873954031586, -0.02707453957693228, 0.08933904740815343, 0.46872611209438886, -0.019934670766904097, -0.07364116869582162, -0.06188751283933315, -0.03272013769649073, -0.050882752673158275, -0.06798112150036045, -0.06295986608261625, -0.07360434129751739, 0.10262146769906558, -0.05074787662821334, -0.0038393008232425322, 0.20981177516319904, 0.046880588415152774, -0.05075092782466008, -0.033045400508615326, 0.069677488024588, 0.0032324808793440865, -0.06592600765195376, 0.06144142472964959, 0.04837645210817554, -0.03119792288281549, -0.060842765311770616, 0.049809368900612175, -0.056876636941492816, -0.051307233927628246, -0.08116920948265917, -0.06823307559952874, -0.047828130227732225, -0.050309919648543644, 0.16173531033423083, 0.012919573155253774, 0.05607552660673288, -0.061366237307188244, -0.057563032671441305, -0.030605497330076854, -0.05195299440525003, -0.06270163083565095, -0.07250307555713993, 0.1930830408247564, 0.060122738021421845, -0.017898134195965847, -0.06274811540402775, -0.06263329555329185, -0.06879668835860213, 0.20952085668949377, -0.07070431451882968, -0.059521548039712116, -0.058407552694597444, 0.18838458361436577, -0.024897347185303804, -0.06662763815711868, -0.05073227676252513, 0.16165390425182874, -0.027517858372178704, 0.07262900236441558, -0.008998939902551512, 0.020828951746963423, -0.07356121869513428, -0.0478382753607044, -0.03199503472317091, -0.04836516112874117, -0.044254286455110654, -0.049259011828926794, 0.21255369574168032, 0.05172461902424441, -0.03222373415615025, -0.05447877844244049, 0.17522454626116157, 0.18229730646868353, 0.11546032221881722, 0.03379698364383922, 0.13772641836885172, -0.0706750271264841, 0.2326059650233047, -0.03623906714923559, -0.05553142142582913, -0.0585981236693094, -0.05716834228635333, -0.05620872524973971, -0.04228650678564806, -0.04826680287943519, -0.042972735746609446, -0.05163330776659525, -0.06380909935381965, -0.06815466142611341, -0.05259433173789258, -0.05297621020812857, -0.06837924000280785, -0.06762430403433814, -0.0566353027705673, 0.1853385724892566, -0.061435022967129736, -0.05211099773118241, -0.06878856755883211, 0.25249903359749637, -0.03215280703751848, -0.014621835367878394, -0.05045826263360595, -0.06728814483360078, -0.08207522668887211, -0.061044021054316236, -0.06934680595124447, -0.0663780279808807, -0.05896987793503272, -0.09188076935292054, -0.07049231954546065, -0.07995295848417285, -0.05480464836858978, -0.05986945573511209, -0.05492720979883778, -0.06625122516679507, -0.06411531123868122, -0.05190145724942288, -0.07180075326754674, -0.06361791977631223, -0.06468232928637684, 0.25884563631749696, -0.04217461359154712, -0.06107640228570668, -0.047070882091592645, -0.05301792791514951, -0.06078283689430767, -0.05602516268432571, -0.055840361917496195, -0.051235480404128834, 0.09817879515875791, 0.045187463878412146, 0.11392287223699464, 0.04301561642790322, 0.09453004513273436, 0.24895993325788038, 0.10986188686227966, 0.17802501996566264, 0.1287319689701331, 0.19995146837891398, 0.07207643997598322, 0.09786006980419183, -0.018023778737588078, 0.01862990591117367, 0.002850259781991258, 0.23391555573012024, 0.20561963015154486, 0.12781268673838875, 0.21653811110849555, 0.15729018512368115, 0.15259531226711945, 0.046270372732540324, 0.08866241009057632, 0.11116746057850573, 0.08982356599811502, 0.3316639872428446, 0.027576914469431325, 0.03698153620199799, -0.05480061304547591, -0.0006290478512078425, 0.09650274260720393, 0.05072765845195733, 0.10185565246168472, 0.14087443403168282, 0.028802010781989396, 0.06737021977132113, 0.07102872685713466, 0.11212340462976043, 0.02191779405467304, 0.058969789121447645, 0.12202679147908421, 0.26360722952262944, -0.018206947487807306, 0.17858169341319458, -0.05925437081576039, -0.07223216066431444, -0.09365602813607916, -0.04502166273327278, -0.039614293653719435, -0.034308329020042015, -0.05742329371803221, -0.04045657406831028, -0.04859787688190274, -0.05543350574432711, -0.03143072018802782, -0.05861788254493899, -0.043963987729545365, -0.0373283842289767, -0.04483788775690069, -0.04650299530815282, -0.04321138456462379, -0.04581452545790126, 0.18993725444991932, -0.042787736945522896, -0.06517719971531666, -0.05768173842285218, -0.05680817541663932, -0.04883183753380023, 0.09398722244839061, -0.0589166418186695, -0.06249214038459064, -0.044336942242667765, -0.06005714939449459, -0.03555757521935518, -0.0626182840405182, -0.06024030200274414, -0.07497962347232903, -0.06866835538311135, -0.05217243978760252, -0.02588409836808818, -0.05716948965505575, 0.16675160300421513, -0.03817782313462474, -0.05602766561682159, -0.03756762186951413, -0.04802266681814402, -0.05744823476958819, -0.05349367010218588, -0.04904935624640712, -0.0400492484715757, -0.056882693681278525, -0.059935290869986196, -0.07076113127882527, -0.0718494923683874, -0.03639767932395272, -0.07861942044588131, -0.08840472751807771, -0.0721714128241132, -0.07006385188752824, -0.07999563141530568, 0.14202709289456256, -0.09571667049385672, -0.09849101344103856, 0.0507007706250088, -0.03468295854851149, -0.0233536083400318, -0.025531125146096897, 0.09207793647443939, -0.05408853479974658, -0.058130177475248096, -0.08661018291725699, -0.07201630690892817, -0.06742935418679885, -0.08371147058831734, 0.14807679953099592, -0.07312146161007445, -0.06722650543312163, -0.06746376095519463, -0.074666560716649, -0.06345756344999659, -0.07749528464767878, 0.17197746635839317, -0.014496931661827282, -0.04394136871547639, -0.05191438333893554, -0.020629572217775616, 0.004848973323667813, -0.0205854250858253, -0.02887307469671204, 0.12216693040899794, 0.014374687941451997, 0.08262933740737737, 0.07016273743070016, 0.3497515539731787, -0.043067443242264455, -0.0550497565708031, -0.06086637800893199, 0.25917310010806505, 0.023214995272782528, 0.23668433554992752, 0.19199766315636116, -0.04761510557633684, -0.08335345966968087, 0.2274942652276817, 0.1598925704647713, -0.06282253905082219, -0.08680243338169379, -0.09155466926939412, -0.09532338574429892, -0.07895100183021267, -0.04395993830313101, 0.18063817590636663, -0.003000098806782193, -0.06555882225720246, -0.0848975668561075, 0.1441413136198842, 0.0036001465243721523, 0.17832194489787923, 0.20015434576693242, 0.01697762749939376, -0.041369051517034926, 0.06647564301454931, -0.03068547669957528, -0.06231432184829879, -0.04105122305112621, 0.12107407169344815, -0.06378699759704902, -0.06383817144908918, 0.053547775019820505, -0.011737866462855462, 0.030942976030785094, -0.06271018149097247, -0.07452927834560091, -0.07094926282572392, -0.04976836746648447, 0.494785564333001, -0.03724614215109612, -0.004792387624377179, -0.028860481101977576, 0.2289345690756441, -0.05857318516569594, -0.0863131464193568, 0.11432787329608933, -0.04230792515106514, -0.0525141721142754, 0.273033141656189, 0.03136338846356507, 0.05998580671730513, 0.19256691101918658, 0.02024020556786582, 0.1188221357631541, 0.05561727465070002, 0.07115002159492415, 0.11777724073030651, 0.04840352932893884, 0.09234770600704208, 0.18620830261755364, 0.07484688307145357, 0.136392268100458, -0.01051671440379105, 0.11072245390583117, -0.03272965006082138, 0.3236917402360432, 0.2390542233015259, 0.13338138040878228, 0.41342654217799923, 0.24341374606364144, 0.039311186081979824, 0.015630028186616345, -0.055846957095985965, -0.053026041019355805, -0.04167076400946092, -0.04602825662926319, -0.02241602022052943, -0.055221699540533985, 0.29041645428744806, -0.07479916480063334, -0.051880255544574226, -0.03790093861816472, -0.01158528763747072, -0.03769753451088214, -0.06063307273315917, 0.13375359048652202, -0.0492851098133414, -0.0373987361427689, -0.03029869883706741, -0.03526471122332832, -0.036493369449443515, -0.04725691485537838, -0.034523991450317794, -0.050764537559039855, -0.04873172170179886, -0.04601221182272396, -0.02235248080768825, -0.03526836173189989, -0.03301335942263076, -0.057744007253402625, -0.0562579604252714, -0.054939423219817034, -0.05127325014082899, -0.0548384992771023, 0.39097837805811947, 0.03610371145464263, -0.024187178974827785, 0.03255346174159475, 0.0626242304153955, -0.05057189526050549, -0.035346705736952935, -0.04907450031815856, -0.052851951465703505, -0.06810619576815648, -0.06701110760261338, -0.05682489775741879, -0.04938895988489878, -0.059607410027666646, -0.06490557190528005, 0.1996085243778068, -0.027672854812699602, -0.05589119922520352, -0.04549621738091936, -0.0367187113935607, -0.04610336059032412, 0.16767519567983613, 0.03455330847794479, -9.677723134243838e-05, -0.08561517886658258, -0.07409286633656181, 0.13793836238793436, -0.023651815156214062, 0.022688532391575523, -0.021761469875424003, -0.0576498679998743, -0.06843305620440332, -0.02356779859298284, -0.01535273334783386, -0.06327405339462301, -0.03373390452746624, 0.0713217329093321, -0.029179106817210972, -0.0714137601046759, -0.04888160571012757, -0.07715315927385506, -0.05874315235758222, -0.04879801218147614, 0.10862645310951889, 0.0451917550829696, -0.07659564473251883, -0.08266021068875766, -0.07585693757154409, -0.1057748115956536, 0.04924652841604236, -0.08343344568408931, -0.06157627867221097, 0.18226046772989102, -0.014735577864523732, 0.0801215208005468, -0.036744943562780706, 0.1221178678584204, 0.06941506151394869, 0.36575787620492395, 0.08481398809393537, 0.05647446338417832, 0.012670528969143925, -0.011474977798154285, -0.026668003178496467, -0.04615923799056392, -0.018945892648862636, -0.06647335999616327, 0.037534199908020094, 0.00031556406197270534, 0.13803156269111994, 0.03337307824841791, 0.08726014911742651, -0.007792285870334727, -0.03946546483379387, -0.04218232594751814, -0.04392170197038938, 0.05336688598063158, -0.06654447285211366, -0.052202195820677304, -0.07675954968821594, -0.08452121894713333, -0.07955859059892899, -0.06219297022091953, -0.0744030114327211, -0.09389121850216109, -0.08286417550414822, -0.0780201954142659, -0.06847770847388072, -0.07438091903163017, -0.06543122063925978, -0.05152760611241295, -0.027651380928939536, -0.06207432600103108, -0.06349379263923136, -0.07594674003188202, -0.07800441767051698, -0.06860339877342873, -0.10391250664319454, -0.07251537346298413, -0.0846601573215496, -0.0693292545804086, -0.0718364995647401, -0.05413923641373296, -0.08149063766794029, -0.06311559063242378, -0.04595910549081284, -0.06631750983728768, 0.4330703749126471, -0.06591135241044775, -0.06894956359167863, -0.06257021638527657, -0.07946764027087072, -0.0748622173407306, -0.09871906115159891, -0.0439326528298853, -0.06492999234924864, -0.06458585241154605, -0.092689848390974, -0.05261812378034403, -0.0744235547508688, -0.06119930499888284, -0.051506690238194416, -0.06349355293839361, -0.09550486389065233, -0.055829604160876393, 0.07746167405270238, 0.014685336117251238, -0.03560222802205338, -0.06224602918968489, -0.07412463792531973, -0.04821095011864788, 0.09635056636079223, -0.06230716972970524, -0.09393853153563621, -0.05395169198154691, -0.03582165813046266, -0.057029883484746864, -0.0715501592680889, -0.05060792272328428, -0.0592941392783682, -0.05291072237656857, 0.14297082922031856, -0.0735407277389728, 0.20753594021094543, -0.043167428779567585, -0.05703064779529757, -0.07263113219221096, -0.030997825549418212, -0.05561933046919236, -0.045506565702571555, -0.014308872970251603, -0.09441134719527808, -0.09604679247593094, -0.09595625730375691, -0.08712496379302043, 0.06672015483346228, 0.3193506171886044, -0.03539177623236211, -0.021308888079716332, -0.05492862334684356, -0.10513579716848144, -0.0942780754020717, -0.11719319851928364, -0.08319558126540447, 0.2626721932549232, -0.01738273831110995, -0.1035041111463086, -0.11410682217287514, -0.0843946746147996, -0.09951197280657122, -0.07491577922200544, -0.10686726250087326, -0.08610700893362315, -0.11427027038616205, -0.12003583787344112, -0.08490378504240492, 0.2473866065751525, -0.1026611171675574, -0.10432640492214158, -0.12264373269392033, -0.11441086736127573, -0.11268371375341313, -0.11881168376385184, -0.10191526926911489, -0.12084831293586695, -0.11104749316929487, -0.11015630607839783, 0.08498656162530736, -0.09227664492438419, -0.09142591283562143, -0.10839949170936526, 0.11294160265880815, -0.016310250895001457, -0.046315464084221096, -0.10778324148649313, -0.10375777210850282, -0.026850674111447932, 0.0331651863664731, 0.01420851290303289, 0.1044235682786747, -0.003321844189917674, -0.0103444792812762, -0.014680255372940376, -0.024109350656121027, 0.016713522052692758, 0.20926390514598633, 0.09512972177546591, -0.07123265077607965, -0.057047797917367325, 0.11210759194231583, 0.035219868865582996, -0.025637932410481817, 0.05164715424147295, -0.06578040471321422, -0.06395365611192119, -0.03876224397735971, -0.06989629388198164, 0.12122973402949341, -0.026172263985008302, 0.2440458413759841, 0.34030212894223133, 0.004555467226066685, -0.0022379788141203335, -0.002780674152419749, -0.05654368769825511, -0.039516141370623085, -0.05269056102599807, -0.05736830916333982, -0.0638843268062964, -0.059778140150073475, -0.050764537559039855, -0.05861772298708796, -0.050764537559039855, -0.06166589343942819, -0.050764537559039855, -0.050764537559039855, -0.053618940066102086, 0.012669084655468676, 0.12048863893912898, -0.004072713730297421, -0.042496935910617935, 0.08696805153752497, -0.023685569878193098, 0.25906388482695664, -0.009305581923204912, 0.34373361007541114, -0.00039731380894009926, 0.14241920329103377, 0.07984221051603348, 0.06759356334960058, 0.03879562741606362, 0.15978654279294918, 0.1409189646546464, 0.07218355479787729, 0.040960593331640836, 0.19089735212405995, 0.2194899206655837, 0.14755576230407458, 0.1039669209824087, 0.11170625258290436, 0.18514060556438958, 0.22474556963670086, -0.02553706718742486, -0.02913863764011848, 0.07161187749680349, 0.28393431260826163, 0.17866508894650263, 0.0988026265131331, -0.07904980535185833, 0.09934275312749, -0.0376039747309595, -0.0032200563354908753, -0.07707593690706867, -0.08119621066476765, -0.05577889753562751, 0.20999791323478625, 0.004875097611728637, 0.07091167510143022, 0.6314055232436575, 0.3858357827825866, 0.03506693379987673, -0.01987092580449577, 0.03078774473971637, -0.05398230651264305, 0.22961508980202355, 0.003786362157661793, -0.057919611437907324, -0.03401720483646713, -0.0742610298729846, -0.04679629436808936, 0.2803463540543289, -0.03192073743250614, -0.06008464746139901, 0.1673889810788825, 0.2533374324133112, -0.04506699571567864, -0.05574685949821544, -0.048986706236837145, -0.0641329444070141, -0.06349956951665095, 0.18985863468182052, -0.06254179103573732, -0.05898490001139672, 0.04389992397894749, 0.2333896669420441, -0.038189866206610495, 0.19777176970841104, 0.04415886725855021]}, {\"axis\": {\"matches\": true}, \"label\": \"PC 3 (13.2%)\", \"values\": [0.037957198383107536, 0.0903670202841867, 0.04772932695350889, 0.052354394001718096, 0.17150290695996345, 0.07828256812379514, 0.011926308460768436, -0.04735558820660808, -0.08616695592052069, -0.043700464857917946, -0.04241228690790034, 0.020395814756293245, 0.1444921490867977, -0.0025206331984001466, 0.0570714585627862, 0.07924306748166024, 0.03323337900245288, -0.00838387217583971, 0.07466907035605135, -0.03787240538907889, -0.07234171969170117, -0.025879042052486867, -0.08947355608701732, -0.09458114026962217, -0.11744443695288405, -0.05415990162678442, -0.011178817176332366, 0.020723623070580975, -0.046191001219127545, -0.1025452092576586, -0.06721306001103236, -0.052681636692795214, -0.08183852797202743, -0.06434230673859748, -0.05904521422207186, -0.09397190218347198, -0.05114386773765689, -0.07103692943509018, -0.058920544246320074, -0.07620267834795817, -0.03846242124186729, -0.12139744051883336, -0.09631702407968595, -0.06534986194361005, -0.0579240709757796, 0.11301627602572785, -0.012456514889917102, -0.032601027288892484, 0.04150890392233847, -0.0954851696582045, -0.06354859618375786, 0.08603396127634044, 0.054938439929301815, 0.10497034619322926, -0.11458455612191246, -0.049517402281195534, 0.03735720460773936, -0.05719460268703321, 0.01645723335776131, -0.10637694648452423, -0.07144720778668828, 0.00991786306700256, 0.18175590329391747, 0.13215712636743915, -0.024636312967026185, 0.12076705583680108, 0.29654387788755665, 0.05210109758730674, -0.02841813240421387, -0.015582652395214107, 0.04170129274096486, 0.03294722993050562, 0.15237231263495546, -0.022017075044267267, -0.03540444845366733, -0.03671689020754719, 0.003980229869023857, 0.11250021544213157, 0.18311905424198835, 0.2565920708711364, 0.1242155751765437, 0.2199137658318689, 0.13210256649230584, 0.05074470917464671, 0.1066051361262632, -0.1741286934551021, -0.08486328671225941, -0.131260866295737, -0.18020480886874232, -0.23457640390533582, -0.05928637703357758, -0.00373766102947082, -0.19123909463285432, -0.206072269212475, -0.0790014986004147, -0.014731700219279038, 0.019933345123559394, -0.01978380463772469, -0.06771222499320455, -0.12617672047301834, 0.04016380203573169, -0.00746721684854047, -0.0971309737510152, -0.10636387276236574, -0.02404402245227524, -0.03452793361383532, -0.057862338174718, -0.07377866019208143, -0.003876623951891443, -0.0497822400070977, -0.07425961186810923, -0.02354308195714162, -0.06941840156358349, -0.10178865389313498, -0.011250474923866426, -0.0497937845545402, -0.05939996279599852, 0.021062772250437584, -0.028784166593010103, -0.07897820576886698, -0.12338182029127676, -0.07088125137821207, -0.10841166500176229, -0.1282346790390338, -0.07854510067403227, -0.10531197286230357, -0.14884027467994834, -0.25241237047718995, -0.116820489041765, -0.1141885284363718, -0.21420450346273567, 0.0708469616553011, 0.13781251904178063, 0.01656962595747686, -0.008232990256141343, 0.04305573054314676, 0.05073296871974735, 0.16261018044948966, 0.3401010127105662, 0.44214628764765446, 0.2764964027185303, 0.09008552178166966, 0.11296121715966023, 0.012018518165180668, 0.05140131261921584, -0.025187693725926517, -0.05833375358058685, -0.04691754394227967, -0.008965730150841272, -0.047585951121535984, -0.05702388256573183, -0.12802018539028706, -0.022017027117282532, -0.051750504091148425, 0.0007758074137898689, 0.1336269145324771, -0.001604592095015628, 0.00883726880779219, 0.035366901006756685, -0.13729612444720338, 0.020876564222914066, -0.006771362848017075, -0.0011764541996086193, -0.013306620463095093, 0.023923877313710543, -0.10643454025938669, -0.05221520538926001, -0.10700035451144295, -0.07166400281778683, 0.03680826388059232, -0.09462920257308507, -0.017013711934342188, -0.16881159169112328, -0.09034352733642731, -0.06197820012165652, -0.05155577996644057, 0.019069617570871097, -0.05115391323542508, -0.039841374898850854, -0.016731072131426248, -0.04150442995112591, 0.008060077657236656, 0.0698290478597934, -0.02865995468814177, -0.10002630510531503, 0.06760355343156928, -0.04779160945602164, -0.06616311468223475, -0.017894560186138293, 0.009655998734346896, -0.012010587893805342, -0.007465156460543514, 0.05954251662454948, 0.06570899072144969, -0.04399460150401867, 0.037917519016952464, 0.09473912902043886, 0.06372125390085502, -0.023900415711921273, -0.04740709962082125, -0.09577795645679837, 0.014095943613206605, -0.03634102145100822, -0.017963431018525152, -0.05171415835727394, 0.06199476326812091, 0.07005555667725386, -0.01985674339290589, -0.017042992781445842, 0.029527327086799702, 0.030945811401689415, -0.028110726975095784, -0.06122543228693292, -0.005285891617895545, -0.037676395142783564, -0.03853613407617431, -0.0484381311332185, 0.018585475104477653, -0.08635176463567606, -0.056262604632678806, -0.05036309120768396, 0.051374458687867455, 0.05472503067414146, -0.008690573284290983, 0.06435323911411704, -0.015647879844193375, 0.1268027367317215, 0.04016561130718573, 0.06824501489511184, -0.13999888782878117, -0.08262959290517537, -0.10450703744364408, 0.024074833734300485, 0.00044223148218093875, -0.08319555583387335, 0.04032260844122995, 0.26829593892215775, 0.055399646454997314, 0.015189460218725906, -0.017584508721578393, 0.06405736095252991, 0.10482038112744721, -0.008416581225585883, 0.01880626995957098, 0.06729464414712269, 0.018447679343668123, 0.0069509155957105965, 0.3588822319727729, 0.3776092091604766, 0.012908425010492627, -0.02939910697931521, 0.10059310161727618, 0.12270296735756449, 0.21532103556834475, 0.21503742263016537, 0.13059982010036128, 0.2681052064848086, 0.2107657010713335, 0.025486522308452823, 0.09466899899621548, 0.12435816435366061, 0.22821420355655614, 0.34835527002598643, 0.1840251196076203, 0.0295209976884918, 0.08309375502312581, 0.10647179529570541, 0.022127625805306046, 0.11935438964502273, 0.05891237880350771, 0.046074921100012725, -0.027684658337470528, 0.06718914816167856, 0.016609303364066172, -0.02064849736078982, -0.03222632900030954, -0.09651877685714796, 0.009820655999915866, 0.08621012231022647, 0.026684526345850636, 0.029202699694609004, -0.016690855359178632, -4.351211660330847e-05, -0.05872938586168464, 0.10148047965195063, 0.0205587966070703, -0.007618974578780864, 0.019152844974920532, 0.03730415419209594, -0.04790246642015452, 0.001729606734921983, -0.07909026415529355, -0.03623258886393921, 0.0730009901368003, 0.09082144515203118, 0.04383868150307113, -0.024896331201610854, 0.005698629195471221, -0.06298619579032028, -0.06495308660603248, -0.02822884869822176, -0.0960920509624187, -0.06912036786553381, -0.07309125888192218, -0.007994166542086173, -0.004204661460018361, 0.07177263479479433, 0.027677436606682204, -0.05566628542070353, 0.004535388164181494, -0.03992760380622006, -0.033455733113780646, 0.06853807236508394, 0.00044950825507521317, 0.008365997582477077, -0.0022365276313309197, -0.024913479570021272, 0.038406784343601875, -0.034581743597200475, 0.021893780366999224, 0.10302118790928157, 0.0798504879776996, 0.023367150147183244, 0.013777957134314399, 0.11156521016492509, 0.0311906025111466, 0.054353382355137904, 0.08943259827719657, -0.06403923913164909, -0.02862100342932513, -0.06421562414213014, 0.00022171146492341805, -0.023354585084578137, -0.02850268127956323, 0.031490011309513885, 0.10786158406835987, 0.10350832994407569, 0.11071916123907033, -0.055639645460279, -0.0837253761644142, -0.12860693366059364, -0.11382958478979721, -0.11105048294769337, 0.016273770450335373, -0.019259798460178074, 0.09790698186581234, -0.013656637541729928, -0.06991427177025979, 0.017894273670041122, -0.009515045357074368, -0.0025711256330383314, 0.026560539603284652, 0.09972984900152483, 0.17318901915719834, 0.01765856503784902, 0.051322202533652515, 0.07759184048207149, 0.18286444538075267, 0.13944710737774757, 0.1439855354559051, -0.0026051207564019153, -0.0957946352315484, 0.02128169115244305, 0.10878719722383189, 0.019477331285116653, 0.005171125296293108, -0.00793086182043833, -0.028294349433515376, -0.09039448954297102, 0.015301815365755884, 0.05378311548866847, 0.04227394284242049, 0.02373219496826956, -0.03741336187907429, -0.02831250704820492, -0.02944291118783304, 0.04565785282500486, 0.10778243607970955, -0.08522579736078878, -0.034897159482647905, 0.04952098271894417, 0.041896096250163446, 0.10033956031301201, 0.07355367057276976, 0.042041452143065955, 0.13853608194070421, 0.06960930783540457, 0.09254539588555392, 0.0517171662458604, 0.014748794877452398, 0.14176924954045467, 0.23485209486922703, 0.06129898793058246, -0.016166181089725985, 0.07333197112412987, 0.11836262859914551, -0.021329571543399407, -0.0589318696863369, -0.03802664936697879, -0.024862798828086032, 0.028350080185040212, 0.10978832963986532, 0.039637168549189146, -0.02145632488300485, 0.024489804681610217, -0.014326243546578524, 0.05540889604408483, 0.0706986759552112, -0.034440658481732785, 0.021646298942638916, -0.03507149023083945, 0.019684916374213636, 0.05067654059093661, 0.08266144269340606, 0.0813843743267125, 0.19197788424921616, 0.15023028975015512, -0.19238289379003212, -0.06749758383190924, 0.09938575151630276, 0.055377991358790915, 0.0013070859726360881, -0.06617957945509327, -0.042328703002751975, 0.16141994534169402, -0.010475856371744793, -0.06339519907758401, -0.03617496337842557, -0.11311123989549157, -0.14030897116901608, -0.09219058124384631, -0.12691549281929312, -0.1212067821468327, -0.09899529722421309, -0.03260028199176613, -0.10563135159687626, -0.13631788157331412, -0.13045196504576254, -0.15102672297627875, -0.052777113482937954, 0.046116613490850764, 0.00012527670332088256, -0.15025599554283275, -0.09369609219432241, -0.11951692851769416, 0.0024263089031814344, -0.019935118057072067, 0.035218662092677114, 0.020099643399925614, -0.007513290754535643, 0.06531284269109047, 0.013650386513218864, 0.10640537143426662, 0.25749792958554535, -0.04138224713946679, -0.08656932187639824, -0.048940468301410384, -0.07583063083277645, -0.1353948074368712, -0.01364193797621022, -0.15449904650731264, -0.2650023600901485, -0.17616753274356875, -0.19745753344354824, -0.17311215753428535, -0.15741597745937555, -0.2590246486763429, -0.09467146147545123, -0.07651211525831025, 0.022181114997228416, 0.03631946826498099, 0.11557794975974607, 0.040839333177099015, 0.06491869904586127, 0.019847875735996393, -0.029762237884249317, -0.04247875306620782, -0.0875253044299554, -0.06534300110776796, -0.07666796535842475, 0.03334862543904334, 0.06446231063033314, -0.09962917936098843, -0.07828082087981529, -0.10068674755191316, -0.09438978662905158, -0.12617983679446787, -0.025934995587121874, -0.05436465404346814, 0.007023772689063855, -0.07832388141757385, -0.001665476459065349, 0.022677239041465392, 0.06409232817264748, 0.15345475997591695, 0.08792870271256853, 0.084906226823846, -0.02535902564963388, -0.01567860539243447, -0.0715585347448267, 0.011446421989586187, 0.0026565095423954255, -0.05518423385259713, -0.08842573840753333, -0.10230339906962115, 0.07495051816574114, 0.06608471585224668, 0.0027145836251336727, -0.01644170859316153, 0.01778932309629853, 0.015332343166230255, 0.07816298956220548, 0.06431022452301634, 0.07704282610483877, -0.10557630133530084, -0.06934004667191222, -0.04497669545709885, 0.012728629440948798, -0.04980627466971437, -0.06780316954535424, 0.051152417428243765, -0.04220504430822587, 0.01454071707945703, -0.048963169482553616, -0.02737217290647185, -0.13772928857284683, -0.11531986334083462, -0.056674225704984, -0.010870853731017151, -0.0490256454599256, -0.020274027539857884, -0.04862914507262348, 0.041659144330383514, 0.100840271410121, 0.06567028278805835, 0.03938922772303935, -0.05608190749417162, 0.022872708948113683, -0.001972396823899828, -0.019239197863573733, -0.03546226629151189, -0.0025467286870071828, -0.03305149721145583, 0.003914833661762233, 0.17242110036420372, 0.10242191344721986, -0.0068207596667013365, 0.006652063816688048, -0.057445342464795296, -0.057365716991648025, 0.016595383702235317, 0.10631949097047848, 0.05171988255572033, 0.09737730448756017, 0.030295669777378045, 0.07234558463390571, 0.028435018127947038, 0.2880199273221788, 0.005826895605541759, 0.012385116134554579, 0.0791906775236336, 0.018773748478454016, 0.011747915203563728, -0.1694435294969018, 0.025528796072077472, 0.03950156227021701, -0.05775138385102957, 0.016260629307429324, 0.06679957509186801, 0.10490356135042044, 0.07721599295250411, 0.03548309813168693, 0.028760166305766968, 0.027100427155904765, 0.05171409597028955, 0.13974606506805068, 0.042901315634311175, 0.11312853764710844, 0.01966985683227249, 0.044682639546244546, 0.05319288007377317, 0.08801219060752605, 0.04103538950147167, 0.03535399691777657, 0.015193045755317701, -0.08554028250138994, -0.013350791035788043, 0.017319522194833528, -0.012140676831634513, -0.038096868603604804, 0.026844828783801802, -0.041929460282736114, 0.020167012834949743, 0.0583971444770205, 0.014903075935540078, 0.04208447680055806, 0.028365146027170534, 0.051713092507269354, -0.04440242110878899, 0.01849763240741989, 0.0845512066963321, 0.02552763135355088, 0.06720314054243184, 0.030511670785436776, 0.05695901080640218, 0.12446511338047875, 0.03506047689111808, 0.02129420177036198, -0.09990891592831852, -0.03543696279104201, -0.12995162047553774, 0.001291117357965654, -0.03720527315436304, -0.03222632900030954, -0.09138112173171578, -0.053598005503094674, 0.014152126695694066, -0.014611162891318651, 0.016194671771773618, 8.333664155533413e-05, 0.09855754736025034, 0.09636782048874658, 0.09645238260790519, 0.020032851849314012, -0.021437661213478686, -0.009300306376900387, 0.035052182545900396, 0.030701862944183894, -0.01819771845572635, 0.0017874493998610976, 0.03148334781187602, -0.042353763056186204, 0.0013337308536612313, 0.01015837882474115, -0.021962756051226703, -0.09002181353882503, 0.005705458712500907, -0.008115771829557417, -0.03510009688718172, -0.026788441033104196, -0.049257194146454526, 0.01942530074322675, -0.01319802664235304, -0.0015062507309908958, 0.007251740163234971, -0.017351167916766733, -0.015700381801907845, -0.03772123439859921, 0.011038065559171773, -0.015135690917776957, 0.013347796024300546, -0.0060082362457695776, 0.012561107330828002, 0.01325641661136325, -0.03074636500865884, 0.010791909633567241, -0.014316999105599368, -0.05505503196025925, -0.0014950329828704756, -0.049814303266490015, 0.02346382998651188, 0.038010309457068944, 0.02110504603081942, 0.02520226293694404, -0.016702527405545623, 0.020045076382613807, 0.019872630585547103, 0.018766583002591247, -0.061804108081483594, -0.014759356663688415, 0.08664555188872218, -0.0020451276935083513, 0.012344402473041817, 0.0422199439622097, -0.15044502567420528, -0.10048618250600266, -0.05809621868410297, -0.05773928476816914, 0.056437991094407156, -0.03555110491564201, 0.017348345617882174, -0.05365433550805349, -0.15870483657264609, -0.12395716513454826, -0.0753795326417412, -0.09325952909180103, -0.05526171069881971, -0.030629372490470087, -0.10335701937798555, -0.03149876437454514, -0.09327438915709449, -0.027012228366082854, -0.09847817469738329, -0.08364064778289398, -0.07068018789151224, -0.09499905186799369, -0.08235993775336793, -0.036906343252983496, -0.06530489304243857, -0.014838464554723266, -0.0896029209190809, -0.07371097003286434, -0.10827441515468236, -0.046179379479551384, -0.08965454652825304, -0.007451211219527101, 0.01582497473233698, -0.03400639763585751, -0.06740183099437341, -0.10281839134856065, 0.007504470987119219, -0.0266443997576943, -0.08036000235270757, 0.0790498473866439, 0.06741952075392497, 0.05848390961712791, 0.09550148229813339, 0.18711116325051297, 0.08392411807035438, 0.05800434414821344, 0.13518731142308033, -0.004383756345617264, 0.023290254654917904, 0.08649312683195215, 0.1478363200025424, 0.1029058790768778, 0.09351777726969068, 0.07276465885028517, -0.027619348735614956, 0.04753832010631796, -0.01546072348010432, 0.0006360906295485485, -0.0068238985085874735, 0.04641487319749123, 0.01734932393618629, 0.03685162286240857, 0.039679672431761515, 0.10817944234636286, 0.023406686965581056, 0.09337416918444459, 0.050956806047912084, 0.024566127807044466, -0.05771952919561756, -0.006668113294665511, 0.04716447707505119, 0.1411284488527397, 0.057564677948184796, 0.008401647262271642, 0.11158792234129042, 0.042319110751480114, 0.13989654222641965, 0.0828603910178504, 0.025806313845209594, 0.027422929810435245, 0.06677067249285018, 0.1207881159724225, 0.034780182720997414, 0.02547509074125417, -0.02643672731029279, 0.012704054900295208, 0.1934612173254812, 0.008381900722750118, -0.07643243839914181, -0.030606892869258894, -0.038020289797312076, -0.08111304805774418, -0.12218078637711187, -0.1331502122350105, -0.1592372449422271, -0.026858964043454857, -0.009155817363689317, 0.03237354446375041, 0.0035628014089149292, 0.0664371806040509, 0.09281187287087202, 0.030646091227081645, -0.07796064152039066, -0.004803992608775123, -0.047899668289218676, -0.05221008444618715, -0.09613591762888048, -0.049357027649720796, -0.06648749305115954, -0.045420266845755085, -0.06177139885835319, -0.011248270443132308, -0.008117793699024415, 0.023255776785162212, -0.06385037522481223, -0.07616975548328885, -0.09545601491864072, -0.06684175119403007, -0.06000403110761808, -0.07463128669927199, -0.1446572656822617, -0.04770927321180632, -0.06061985610089515, -0.030694916075594155, -0.038721924230976854, -0.07778286202020171, -0.07372715707399033, -0.013455430428967258, -0.021791702131231855, -0.07351170325512937, -0.017264425357916877, -0.021434683143445984, -0.05591874837881574, 0.046426579712512774, -0.041214499618898226, 0.04178630067977335, 0.18115223746350534, -0.0067248715750520905, -0.0757071738127658, -0.08578253395236113, -0.12413990248571904, -0.03712477150395414, 0.04881853105865118, -0.06840622523896431, -0.012466820914594326, -0.01434515154267663, -0.05194614231450757, -0.0881767937369212, 0.07557465498883315, 0.14574243123372424, 0.00875365878896628, -0.07419740766074717, -0.033676290578052256, -0.017595227825337987, -0.0035511778026692795, 0.015065135844630522, 0.09369641742511407, 0.00441973893244906, 0.004965254970864759, 0.0015824629427731464, -0.038499699609998335, 0.04790453095151909, 0.007514048756870684, 0.004446940487837259, -0.04015714211198876, -0.048179501465773246, 0.02615292778142959, -0.15071291208269805, -0.04476475946355341, 0.0023025105373585468, -0.012323052210453489, -0.07819089183183063, -0.01591516397827461, -0.06085249277542788, -0.05868873254663208, 0.11670270982092555, 0.01945537143221414, -0.02390301099653151, 0.008034375441086225, 0.03398513442477645, 0.0989873420560406, 0.09397621238512686, 0.0256559798358543, 0.1403142252503253, 0.057934354743530696, 0.056386735713351996, 0.08569482468317077, -0.11625072304172351, -0.045499008639455225, 0.125001479863936, 0.05218291141690323, 0.13667943683568023, -0.06242893881545373, -0.06522863555331675, 0.08111957227986001, 0.16057322193377077, 0.20342297980287488, -0.07300062064872985, 0.05249227004231787, 0.053549767543595195, 0.0033623146040115143, 0.08595823535155848, 0.006964112214876663, 0.1385234986657685, 0.11796620826949201, 0.2017480951695722, 0.0414380231457803, -0.1409665895760048, -0.04269090446474125, 0.06628866764443907, 0.11556011573731383, 0.2231621865594552, 0.14163687770006017, 0.03735906970003809, 0.045338657999108294, 0.03731067599217618, 0.1441241392244233, 0.1744889651051628, 0.16188821908762105, 0.1516606052231088, 0.10773859440497978, 0.1017536182844107, 0.02499560301106642, 0.09828818333048296, 0.09003703266043618, 0.10027928206318462, 0.1560141220329558, 0.15240366875129235, -0.016504639554445807, -0.02711355113285931, 0.03278794185797463, 0.1034451126640271, 0.03780590585343803, 0.07907832787287308, 0.2047560196920819, 0.018346577636005106, -0.03623177586262398, -0.03327884802616798, 0.03879304735209978, 0.13168623937565968, 0.09129702375234945, 0.05259933538588325, -0.029203101756504722, -0.018027934180180352, 0.06622005183833399, 0.08332463882212185, 0.061253144775983905, -0.005564945778309167, -0.0031454398342405324, 0.17659210221716282, 0.060503902936579174, 0.10225185540376044, 0.15527892431040363, 0.07931594858757442, -0.0335914143861175, 0.03604176688577702, -0.011934931630892922, -0.07787113517894535, -0.021778621099723852, -0.008467651268924034, 0.08565964431011606, 0.0964334963339796, -0.09692219133834837, -0.07079443624488041, 0.04393824288816939, 0.24191695976011243, 0.20777718345297191, 0.010802520394136412, 0.005357177865047039, 0.11208078149748928, 0.014079273173459214, 0.007272225053146832, 0.011657350333550441, -0.03548290544296997, -0.0006596109812134686, 0.11050559604283212, 0.2340703273552084, -0.029319313345337484, -0.09895108423380632, -0.052074860091863406, -0.043415484548203535, -0.14123031766501692, -0.0860010208851716, -0.10520735564281605, 0.015297550599253891, -0.0344144944041813, 0.05222029378622984, -0.13901510321891375, -0.03635259738068221, -0.004290418573850486, -0.040300305601265796, -0.21842709275339772, -0.049503103299717834, -0.023081105176642847, -0.00627549580741191, 0.0790031762221229, -0.0005925925598679653, -0.003830050761443456, 0.16212212897482037, -0.019345867101590673, 0.00884222299114794, 0.14308431053222623, 0.20795597024339108, 0.14236915541283054, 0.062021127420119726, -0.03384746774921844, 0.0747597247342014, 0.07310316556686815, 0.07482003215533682, -0.006168378647689465, -0.00771837913491865, 0.08473880742982247, -0.03776851981027575, -0.055867247884457176, -0.049785388302556716, -0.005255136683686961, -0.038941805759044226, -0.10287245863230461, -0.0352266514568565, -0.047455269640279185, -0.002803767415580683, 0.0010641220635570238, 0.015023371867621538, 0.08291991334688492, 0.18053551538504375, 0.06564953269461314, 0.0197723343239024, -0.03829899255534531, -0.0392639603297093, 0.0008873955434901855, -0.07303556760864822, -0.04160258553007038, -0.0688464156439079, -0.03211570262145687, -0.04208230915154819, 0.028975992919242497, -0.05518445057226296, 0.034752267912971604, 0.11591086427567243, 0.028561607848762986, -0.1128450737674218, 0.018067164609687998, 0.02572976586289261, -0.0331568984014349, -0.09314840706964196, -0.016492610281461064, -0.11953764573672766, 0.011102130081652945, -0.01019560882761104, 0.022057307412406937, -0.10136659058729362, 0.006250752487681112, -0.07184835835743929, -0.03694303085410921, -0.000348743004645706, -0.015405011246837935, -0.13014737347003053, -0.07200622739262943, -0.07985374073450428, -0.019999937237452543, 0.06362550645940981, 0.030651237086363792, -0.031194490029838425, 0.09146650189793812, 0.08241826118844471, 0.021901946556674545, -0.039800176225633074, 0.06006007168191552, 0.15228049027029106, 0.08659700471617239, 0.011379269026178931, -0.0457523354676356, 0.037594014732358204, -0.02899757399310019, -0.1492190200951132, -0.05103843996139975, -0.08355747336610458, -0.004488471393883964, 0.04690307125408434, -0.015606422093795903, -0.033225453839731446, -0.0002713791905640694, 0.09626161872593086, -0.06968464304546965, -0.1058042772385718, -0.11968041810193458, -0.10507501803759522, -0.10167756843768626, -0.0685384815027171, -0.07861641694704648, -0.12924159047140676, -0.11284145422811143, -0.16502627081782426, -0.13226359177860464, -0.11500489747735382, -0.16697665693883057, -0.05613021190708878, -0.12778511747651347, -0.19711939397549852, -0.13259853514457573, -0.13295557053913176, -0.07646788098042084, -0.11220241022899097, -0.09822855181461725, -0.12479195209178742, -0.06788250834210478, -0.1408089848916014, -0.1725950462704417, -0.07432355194832513, -0.2729150382910093, -0.14091652161506815, -0.10671169240853452, -0.15702377741512358, -0.14350768262497832, -0.15087659901308917, -0.19058297248728917, -0.14114814591838176, -0.17940171771101374, -0.1568736854428863, -0.1266864142707226, -0.18095670095778096, -0.1429705836000707, -0.14163819515761156, -0.1436178818441736, -0.20014226278567965, -0.15468948558397097, -0.14124602788036178, -0.13560686697666924, -0.12056748261558081, 0.02529763406757514, -0.01752331324428491, 0.052201070700250596, 0.05598514936399787, 0.09667804242143789, 0.07519208945972139, 0.019187475101018616, 0.008386576859751449, 0.005188739791723134, -0.11237717265277729, -0.00990716061244598, -0.014041978147226498, 0.07861574828448896, -0.041860126507823725, 0.008597684605210699, -0.013481955654439751, -0.05414528439525932, -0.06097499715845881, -0.02011485816469318, 0.034280406700756084, -0.029961405638673538, -0.017625597230123535, -0.006734030174938081, -0.039638395631485975, -0.1556066376255961, -0.00992389752798411, 0.014213339085466277, -0.029977452962968606, 0.021371171304681785, 0.00760580005591066, -0.009241732949578925, -0.016029802080635817, 0.020244029884285333, 0.001282015932784979, 0.02499560301106642, -0.006029247517344333, 0.02499560301106642, -0.002665467081236727, 0.02499560301106642, 0.02499560301106642, 0.0012349460312701176, -0.17586845436156837, 0.06410852462514144, -0.02730631959933206, -0.05314674533523049, -0.07964755137971483, 0.047607018375934104, 0.0925033414757103, 0.08611373419710051, 0.007285878526755713, -0.025635548025252232, -0.004920803502421393, -0.06789639989331105, -0.14067480598022247, 0.0021308292492888494, -0.06881760204441767, -0.06623898195567744, 0.046072411700242205, 0.048935819012706695, -0.02320022456506132, 0.02142466050612076, 0.0053579361175115645, 0.03637036547855104, -0.020388796097006282, 0.0053090774719382955, 0.032838499475743174, -0.10586878772031215, -0.0008479196607147333, 0.13941033810932946, 0.0060103268689949375, -0.06740745058962977, -0.043411677596703835, -1.7056105124316713e-05, 0.04853141364880538, -0.145986306170999, -0.09895732614675457, -0.06227627488080253, -0.07038079874396978, 0.06646829305311869, 0.17292285932808749, 0.21997675160666508, -0.12920923563100228, -0.07392661630070425, -0.05697175022091156, -0.02418018034683389, -0.03366725980727201, 0.051034744005863976, -0.038537850769658544, -0.04378245180245514, 0.22132213332456951, 0.1329016339084742, 0.1391268117149552, 0.004261713004273169, 0.11180043447806444, 0.03834348818938371, 0.1480417487911714, 0.08244321095193739, 0.0014930826652625225, 0.05868897992304423, 0.11290381031280725, 0.09382440437385817, 0.12031822376931141, 0.06087973491621709, 0.07171898642808382, 0.12295783848121794, 0.10904701540111839, 0.06921565685701496, 0.08553757049063528, 0.09298166152467603, -0.033342040182392514, -0.10913606460975962, -0.12809548816188313]}], \"hovertemplate\": \"%{xaxis.title.text}=%{x}<br>%{yaxis.title.text}=%{y}<br>color=%{marker.color}<extra></extra>\", \"legendgroup\": \"\", \"marker\": {\"color\": [0.41419878807691896, 0.41419878807691896, 0.4297297301077955, 0.47000362924573547, 0.38776553100876343, 0.46505720531040984, 0.4500694143449183, 0.4895482253187058, 0.4297297301077955, 0.5819215454497209, 0.5368011101692512, 0.5275274733839221, 0.38776553100876343, 0.4399512841793335, 0.4297297301077955, 0.4089677386593665, 0.47000362924573547, 0.4399512841793335, 0.4399512841793335, 0.4500694143449183, 0.5275274733839221, 0.5275274733839221, 0.4895482253187058, 0.5134537461722601, 0.5819215454497209, 0.5087181414264259, 0.4297297301077955, 0.5087181414264259, 0.4500694143449183, 0.47000362924573547, 0.5641169208162141, 0.5134537461722601, 0.5459895362236575, 0.5275274733839221, 0.5459895362236575, 0.5459895362236575, 0.5087181414264259, 0.5459895362236575, 0.5368011101692512, 0.5459895362236575, 0.4895482253187058, 0.5641169208162141, 0.5819215454497209, 0.5459895362236575, 0.5819215454497209, 0.5168226432383649, 0.46505720531040984, 0.5994147028972381, 0.47000362924573547, 0.5134537461722601, 0.5368011101692512, 0.4399512841793335, 0.41419878807691896, 0.4297297301077955, 0.5596157879354225, 0.5087181414264259, 0.5134537461722601, 0.47000362924573547, 0.5134537461722601, 0.4895482253187058, 0.5087181414264259, 0.5275274733839221, 0.4297297301077955, 0.36061454194281256, 0.4297297301077955, 0.5275274733839221, 0.2125614419836727, 0.47000362924573547, 0.41419878807691896, 0.5134537461722601, 0.5134537461722601, 0.4399512841793335, 0.38776553100876343, 0.5087181414264259, 0.5819215454497209, 0.5134537461722601, 0.4567584024957149, 0.4399512841793335, 0.4399512841793335, 0.3513978868378886, 0.2744368457017602, 0.332705753825736, 0.3513978868378886, 0.332705753825736, 0.4895482253187058, 0.6664789334777838, 0.5641169208162141, 0.5994147028972381, 0.5641169208162141, 0.5641169208162141, 0.6037405928443607, 0.5596157879354225, 0.5819215454497209, 0.6335089142402139, 0.6166071034376109, 0.5275274733839221, 0.5459895362236575, 0.5275274733839221, 0.5641169208162141, 0.5641169208162141, 0.5459895362236575, 0.47000362924573547, 0.5275274733839221, 0.5275274733839221, 0.5641169208162141, 0.5275274733839221, 0.5459895362236575, 0.5520685823000396, 0.5275274733839221, 0.4895482253187058, 0.5459895362236575, 0.5819215454497209, 0.5134537461722601, 0.5368011101692512, 0.5641169208162141, 0.5368011101692512, 0.5275274733839221, 0.5459895362236575, 0.4895482253187058, 0.5275274733839221, 0.5368011101692512, 0.5368011101692512, 0.5459895362236575, 0.4895482253187058, 0.5087181414264259, 0.4895482253187058, 0.5087181414264259, 0.5459895362236575, 0.5596157879354225, 0.5275274733839221, 0.5409881365234679, 0.4089677386593665, 0.4228568508200335, 0.38776553100876343, 0.5368011101692512, 0.46505720531040984, 0.5087181414264259, 0.5134537461722601, 0.1119179162039854, 0.19971329950582384, 0.1119179162039854, 0.31365755885504143, 0.332705753825736, 0.366104034227584, 0.4089677386593665, 0.4297297301077955, 0.4089677386593665, 0.47000362924573547, 0.4895482253187058, 0.4895482253187058, 0.5087181414264259, 0.4895482253187058, 0.5368011101692512, 0.47000362924573547, 0.46505720531040984, 0.46505720531040984, 0.4895482253187058, 0.5087181414264259, 0.4895482253187058, 0.4895482253187058, 0.5368011101692512, 0.4297297301077955, 0.4895482253187058, 0.5087181414264259, 0.4500694143449183, 0.5368011101692512, 0.5087181414264259, 0.5087181414264259, 0.5087181414264259, 0.5087181414264259, 0.5087181414264259, 0.5087181414264259, 0.5087181414264259, 0.5641169208162141, 0.5275274733839221, 0.4895482253187058, 0.47000362924573547, 0.4895482253187058, 0.47000362924573547, 0.4895482253187058, 0.46505720531040984, 0.4895482253187058, 0.4399512841793335, 0.4895482253187058, 0.5819215454497209, 0.4895482253187058, 0.5459895362236575, 0.5641169208162141, 0.5641169208162141, 0.4895482253187058, 0.5596157879354225, 0.47000362924573547, 0.5087181414264259, 0.4895482253187058, 0.4895482253187058, 0.4895482253187058, 0.4089677386593665, 0.4500694143449183, 0.5275274733839221, 0.5459895362236575, 0.5641169208162141, 0.5994147028972381, 0.4399512841793335, 0.5134537461722601, 0.4895482253187058, 0.5459895362236575, 0.47000362924573547, 0.41419878807691896, 0.47000362924573547, 0.5994147028972381, 0.4895482253187058, 0.4500694143449183, 0.4895482253187058, 0.5596157879354225, 0.4297297301077955, 0.5368011101692512, 0.5087181414264259, 0.46505720531040984, 0.5134537461722601, 0.47000362924573547, 0.5819215454497209, 0.5087181414264259, 0.41419878807691896, 0.5459895362236575, 0.47562688680009757, 0.4732877044469254, 0.3039956479433046, 0.4895482253187058, 0.38776553100876343, 0.5596157879354225, 0.5819215454497209, 0.5520685823000396, 0.4500694143449183, 0.47000362924573547, 0.6037405928443607, 0.4895482253187058, 0.4089677386593665, 0.19105523676270902, 0.4500694143449183, 0.332705753825736, 0.4089677386593665, 0.4399512841793335, 0.38776553100876343, 0.46505720531040984, 0.32132043160061075, 0.47000362924573547, 0.4297297301077955, 0.4089677386593665, 0.07598590697792205, 0.4297297301077955, 0.4399512841793335, 0.4089677386593665, 0.38776553100876343, 0.24397763821705162, 0.11895194286136529, 0.2981533723190763, 0.4895482253187058, 0.0, 0.4500694143449183, 0.38776553100876343, 0.38776553100876343, 0.3439629083503705, 0.05129329438755048, 0.32132043160061075, 0.38776553100876343, 0.46505720531040984, 0.2744368457017602, 0.2744368457017602, 0.2744368457017602, 0.4089677386593665, 0.3513978868378886, 0.5819215454497209, 0.38776553100876343, 0.5087181414264259, 0.5275274733839221, 0.4895482253187058, 0.5087181414264259, 0.47000362924573547, 0.4500694143449183, 0.4895482253187058, 0.4500694143449183, 0.5275274733839221, 0.4297297301077955, 0.4895482253187058, 0.32132043160061075, 0.4297297301077955, 0.4895482253187058, 0.4297297301077955, 0.4500694143449183, 0.4297297301077955, 0.5087181414264259, 0.47000362924573547, 0.5087181414264259, 0.4399512841793335, 0.4228568508200335, 0.41419878807691896, 0.5055485666651469, 0.47000362924573547, 0.5459895362236575, 0.5087181414264259, 0.4500694143449183, 0.4895482253187058, 0.5368011101692512, 0.5275274733839221, 0.5459895362236575, 0.4895482253187058, 0.4399512841793335, 0.41419878807691896, 0.5459895362236575, 0.5459895362236575, 0.4895482253187058, 0.5459895362236575, 0.4500694143449183, 0.4297297301077955, 0.4500694143449183, 0.4089677386593665, 0.38776553100876343, 0.5641169208162141, 0.4297297301077955, 0.4297297301077955, 0.38776553100876343, 0.3439629083503705, 0.4567584024957149, 0.4228568508200335, 0.38776553100876343, 0.38776553100876343, 0.366104034227584, 0.36061454194281256, 0.4567584024957149, 0.4895482253187058, 0.5087181414264259, 0.5275274733839221, 0.47000362924573547, 0.46505720531040984, 0.4895482253187058, 0.46505720531040984, 0.5134537461722601, 0.4089677386593665, 0.5596157879354225, 0.5641169208162141, 0.6037405928443607, 0.5819215454497209, 0.5596157879354225, 0.4895482253187058, 0.5459895362236575, 0.4089677386593665, 0.5459895362236575, 0.5134537461722601, 0.5368011101692512, 0.47000362924573547, 0.4089677386593665, 0.5087181414264259, 0.4399512841793335, 0.38776553100876343, 0.47000362924573547, 0.4895482253187058, 0.38776553100876343, 0.366104034227584, 0.38776553100876343, 0.332705753825736, 0.4895482253187058, 0.4500694143449183, 0.5819215454497209, 0.41419878807691896, 0.4399512841793335, 0.4500694143449183, 0.4228568508200335, 0.5087181414264259, 0.5134537461722601, 0.5819215454497209, 0.41419878807691896, 0.4500694143449183, 0.46505720531040984, 0.4895482253187058, 0.5368011101692512, 0.5459895362236575, 0.5596157879354225, 0.4500694143449183, 0.42715793271942404, 0.46505720531040984, 0.46505720531040984, 0.366104034227584, 0.4297297301077955, 0.4297297301077955, 0.38776553100876343, 0.32132043160061075, 0.4399512841793335, 0.4089677386593665, 0.41419878807691896, 0.4297297301077955, 0.41419878807691896, 0.3039956479433046, 0.4297297301077955, 0.4500694143449183, 0.47000362924573547, 0.3439629083503705, 0.4500694143449183, 0.47000362924573547, 0.4895482253187058, 0.47000362924573547, 0.4500694143449183, 0.366104034227584, 0.4297297301077955, 0.38776553100876343, 0.4399512841793335, 0.366104034227584, 0.4500694143449183, 0.3439629083503705, 0.4895482253187058, 0.38776553100876343, 0.4500694143449183, 0.38776553100876343, 0.41419878807691896, 0.4089677386593665, 0.332705753825736, 0.3439629083503705, 0.2501441531327157, 0.4089677386593665, 0.5641169208162141, 0.4895482253187058, 0.4297297301077955, 0.4500694143449183, 0.4895482253187058, 0.5641169208162141, 0.4297297301077955, 0.4297297301077955, 0.6166071034376109, 0.5275274733839221, 0.6501297954762545, 0.5459895362236575, 0.6166071034376109, 0.5275274733839221, 0.5459895362236575, 0.5087181414264259, 0.4089677386593665, 0.4895482253187058, 0.5368011101692512, 0.5275274733839221, 0.5459895362236575, 0.5641169208162141, 0.47000362924573547, 0.41419878807691896, 0.5275274733839221, 0.5994147028972381, 0.5641169208162141, 0.5459895362236575, 0.47000362924573547, 0.47000362924573547, 0.4500694143449183, 0.47000362924573547, 0.38776553100876343, 0.38776553100876343, 0.4297297301077955, 0.07598590697792205, 0.5087181414264259, 0.4500694143449183, 0.5275274733839221, 0.36061454194281256, 0.5275274733839221, 0.5520685823000396, 0.5596157879354225, 0.6501297954762545, 0.5819215454497209, 0.5965203448708735, 0.6250937173149296, 0.5671064596645803, 0.6109090823229731, 0.5819215454497209, 0.5134537461722601, 0.5134537461722601, 0.4297297301077955, 0.366104034227584, 0.38776553100876343, 0.4399512841793335, 0.36061454194281256, 0.4895482253187058, 0.4500694143449183, 0.4089677386593665, 0.5819215454497209, 0.4399512841793335, 0.46505720531040984, 0.4089677386593665, 0.4895482253187058, 0.5212969236332861, 0.5368011101692512, 0.5275274733839221, 0.5275274733839221, 0.4895482253187058, 0.47000362924573547, 0.5819215454497209, 0.4567584024957149, 0.5596157879354225, 0.5368011101692512, 0.38776553100876343, 0.38776553100876343, 0.4089677386593665, 0.4399512841793335, 0.46505720531040984, 0.5368011101692512, 0.4895482253187058, 0.4895482253187058, 0.4895482253187058, 0.5212969236332861, 0.5819215454497209, 0.5819215454497209, 0.5275274733839221, 0.38776553100876343, 0.4567584024957149, 0.47000362924573547, 0.47000362924573547, 0.46150900525431265, 0.46505720531040984, 0.4054651081081644, 0.4297297301077955, 0.5087181414264259, 0.5275274733839221, 0.4895482253187058, 0.4895482253187058, 0.4895482253187058, 0.4895482253187058, 0.4895482253187058, 0.4895482253187058, 0.5087181414264259, 0.4895482253187058, 0.5087181414264259, 0.4895482253187058, 0.5275274733839221, 0.5087181414264259, 0.5087181414264259, 0.5087181414264259, 0.5087181414264259, 0.5087181414264259, 0.5641169208162141, 0.4089677386593665, 0.47000362924573547, 0.47000362924573547, 0.4895482253187058, 0.5087181414264259, 0.4895482253187058, 0.5275274733839221, 0.4895482253187058, 0.4895482253187058, 0.4895482253187058, 0.4895482253187058, 0.4297297301077955, 0.38776553100876343, 0.4895482253187058, 0.4895482253187058, 0.5087181414264259, 0.4895482253187058, 0.4895482253187058, 0.4895482253187058, 0.4895482253187058, 0.4089677386593665, 0.4895482253187058, 0.4895482253187058, 0.4895482253187058, 0.38776553100876343, 0.4500694143449183, 0.4895482253187058, 0.47000362924573547, 0.4895482253187058, 0.4895482253187058, 0.5368011101692512, 0.5275274733839221, 0.4297297301077955, 0.4500694143449183, 0.5087181414264259, 0.4500694143449183, 0.4297297301077955, 0.3513978868378886, 0.47000362924573547, 0.4399512841793335, 0.4895482253187058, 0.4297297301077955, 0.38776553100876343, 0.3439629083503705, 0.38776553100876343, 0.4399512841793335, 0.38776553100876343, 0.32132043160061075, 0.38776553100876343, 0.366104034227584, 0.4297297301077955, 0.41419878807691896, 0.4089677386593665, 0.4895482253187058, 0.46505720531040984, 0.4895482253187058, 0.4297297301077955, 0.5087181414264259, 0.4500694143449183, 0.4895482253187058, 0.4895482253187058, 0.4297297301077955, 0.4895482253187058, 0.4500694143449183, 0.5134537461722601, 0.4895482253187058, 0.47000362924573547, 0.5087181414264259, 0.4895482253187058, 0.5134537461722601, 0.4500694143449183, 0.5134537461722601, 0.32132043160061075, 0.5087181414264259, 0.46505720531040984, 0.5087181414264259, 0.5819215454497209, 0.4895482253187058, 0.4895482253187058, 0.4895482253187058, 0.5212969236332861, 0.5087181414264259, 0.5819215454497209, 0.5134537461722601, 0.5368011101692512, 0.5459895362236575, 0.5087181414264259, 0.5212969236332861, 0.4089677386593665, 0.4297297301077955, 0.5134537461722601, 0.548273511331488, 0.5275274733839221, 0.5275274733839221, 0.4895482253187058, 0.5368011101692512, 0.5087181414264259, 0.5087181414264259, 0.5087181414264259, 0.47000362924573547, 0.5819215454497209, 0.5134537461722601, 0.5275274733839221, 0.5368011101692512, 0.5087181414264259, 0.4895482253187058, 0.4895482253187058, 0.5134537461722601, 0.4895482253187058, 0.4895482253187058, 0.4895482253187058, 0.46505720531040984, 0.5087181414264259, 0.5087181414264259, 0.5087181414264259, 0.4895482253187058, 0.4895482253187058, 0.5087181414264259, 0.4895482253187058, 0.4895482253187058, 0.4895482253187058, 0.5087181414264259, 0.5275274733839221, 0.4500694143449183, 0.5134537461722601, 0.5087181414264259, 0.5087181414264259, 0.5819215454497209, 0.5087181414264259, 0.46505720531040984, 0.4895482253187058, 0.4895482253187058, 0.5819215454497209, 0.4895482253187058, 0.43428554664365626, 0.4500694143449183, 0.4895482253187058, 0.38776553100876343, 0.332705753825736, 0.38776553100876343, 0.4500694143449183, 0.4500694143449183, 0.5275274733839221, 0.4895482253187058, 0.5087181414264259, 0.4297297301077955, 0.5459895362236575, 0.4500694143449183, 0.4895482253187058, 0.5819215454497209, 0.5134537461722601, 0.4500694143449183, 0.47000362924573547, 0.5087181414264259, 0.46505720531040984, 0.47000362924573547, 0.5087181414264259, 0.5087181414264259, 0.4895482253187058, 0.4297297301077955, 0.47000362924573547, 0.47000362924573547, 0.47000362924573547, 0.47000362924573547, 0.5459895362236575, 0.4297297301077955, 0.47000362924573547, 0.38776553100876343, 0.4500694143449183, 0.5134537461722601, 0.5596157879354225, 0.4228568508200335, 0.4297297301077955, 0.5087181414264259, 0.4895482253187058, 0.47000362924573547, 0.5641169208162141, 0.5275274733839221, 0.4500694143449183, 0.4895482253187058, 0.4895482253187058, 0.5368011101692512, 0.5459895362236575, 0.47000362924573547, 0.38776553100876343, 0.47000362924573547, 0.4895482253187058, 0.41419878807691896, 0.5275274733839221, 0.5368011101692512, 0.4895482253187058, 0.41419878807691896, 0.4399512841793335, 0.4567584024957149, 0.4895482253187058, 0.4895482253187058, 0.4895482253187058, 0.47000362924573547, 0.5134537461722601, 0.5596157879354225, 0.4895482253187058, 0.5368011101692512, 0.47000362924573547, 0.47000362924573547, 0.47000362924573547, 0.47000362924573547, 0.5087181414264259, 0.4297297301077955, 0.46505720531040984, 0.5368011101692512, 0.5459895362236575, 0.5275274733839221, 0.4297297301077955, 0.4895482253187058, 0.4895482253187058, 0.4895482253187058, 0.4895482253187058, 0.47000362924573547, 0.47000362924573547, 0.5134537461722601, 0.4895482253187058, 0.4895482253187058, 0.5087181414264259, 0.46505720531040984, 0.5212969236332861, 0.4895482253187058, 0.4895482253187058, 0.366104034227584, 0.4089677386593665, 0.4895482253187058, 0.4895482253187058, 0.4895482253187058, 0.5134537461722601, 0.4895482253187058, 0.5368011101692512, 0.5368011101692512, 0.4895482253187058, 0.4895482253187058, 0.4895482253187058, 0.4399512841793335, 0.4895482253187058, 0.36061454194281256, 0.4500694143449183, 0.5087181414264259, 0.4895482253187058, 0.4895482253187058, 0.5596157879354225, 0.5108256237659906, 0.5275274733839221, 0.5275274733839221, 0.5459895362236575, 0.5596157879354225, 0.5596157879354225, 0.5087181414264259, 0.4089677386593665, 0.4895482253187058, 0.5275274733839221, 0.5641169208162141, 0.5368011101692512, 0.4895482253187058, 0.5459895362236575, 0.5275274733839221, 0.6250937173149296, 0.5459895362236575, 0.5275274733839221, 0.46505720531040984, 0.4895482253187058, 0.5134537461722601, 0.5641169208162141, 0.5368011101692512, 0.5087181414264259, 0.5368011101692512, 0.47000362924573547, 0.4089677386593665, 0.5459895362236575, 0.4895482253187058, 0.47000362924573547, 0.38776553100876343, 0.4228568508200335, 0.5275274733839221, 0.4895482253187058, 0.4732877044469254, 0.5368011101692512, 0.4525830310852342, 0.4895482253187058, 0.5275274733839221, 0.4895482253187058, 0.5134537461722601, 0.4895482253187058, 0.5368011101692512, 0.2981533723190763, 0.4297297301077955, 0.4895482253187058, 0.5459895362236575, 0.5087181414264259, 0.5275274733839221, 0.4895482253187058, 0.4089677386593665, 0.4500694143449183, 0.47000362924573547, 0.5087181414264259, 0.4895482253187058, 0.4895482253187058, 0.4089677386593665, 0.4500694143449183, 0.4895482253187058, 0.5275274733839221, 0.4895482253187058, 0.4732877044469254, 0.46505720531040984, 0.5641169208162141, 0.4895482253187058, 0.4895482253187058, 0.5368011101692512, 0.5819215454497209, 0.5134537461722601, 0.5275274733839221, 0.4399512841793335, 0.5596157879354225, 0.4895482253187058, 0.4500694143449183, 0.4297297301077955, 0.4399512841793335, 0.5087181414264259, 0.4399512841793335, 0.41419878807691896, 0.5368011101692512, 0.47000362924573547, 0.5275274733839221, 0.6037405928443607, 0.4399512841793335, 0.38776553100876343, 0.41419878807691896, 0.4895482253187058, 0.5275274733839221, 0.5087181414264259, 0.38776553100876343, 0.4089677386593665, 0.4895482253187058, 0.4399512841793335, 0.4297297301077955, 0.5087181414264259, 0.46505720531040984, 0.5134537461722601, 0.4895482253187058, 0.4500694143449183, 0.4297297301077955, 0.4089677386593665, 0.5819215454497209, 0.5994147028972381, 0.5087181414264259, 0.4895482253187058, 0.4500694143449183, 0.4297297301077955, 0.47000362924573547, 0.46505720531040984, 0.5819215454497209, 0.46505720531040984, 0.46505720531040984, 0.4297297301077955, 0.4297297301077955, 0.4500694143449183, 0.4500694143449183, 0.5596157879354225, 0.4895482253187058, 0.5275274733839221, 0.47000362924573547, 0.47000362924573547, 0.38776553100876343, 0.5087181414264259, 0.5819215454497209, 0.5819215454497209, 0.4297297301077955, 0.5134537461722601, 0.4089677386593665, 0.366104034227584, 0.4500694143449183, 0.5819215454497209, 0.5641169208162141, 0.5819215454497209, 0.4500694143449183, 0.4089677386593665, 0.47000362924573547, 0.5087181414264259, 0.5641169208162141, 0.5275274733839221, 0.4567584024957149, 0.4500694143449183, 0.47000362924573547, 0.5819215454497209, 0.4089677386593665, 0.4297297301077955, 0.4895482253187058, 0.38776553100876343, 0.4297297301077955, 0.5275274733839221, 0.5275274733839221, 0.5087181414264259, 0.5275274733839221, 0.5459895362236575, 0.4895482253187058, 0.4500694143449183, 0.4089677386593665, 0.5459895362236575, 0.5819215454497209, 0.5087181414264259, 0.366104034227584, 0.32132043160061075, 0.5275274733839221, 0.47982367542671095, 0.4895482253187058, 0.5275274733839221, 0.4895482253187058, 0.5459895362236575, 0.5459895362236575, 0.4895482253187058, 0.5275274733839221, 0.366104034227584, 0.4895482253187058, 0.6460004021342433, 0.5459895362236575, 0.5087181414264259, 0.5641169208162141, 0.5459895362236575, 0.6335089142402139, 0.5368011101692512, 0.5087181414264259, 0.47000362924573547, 0.5641169208162141, 0.5819215454497209, 0.5459895362236575, 0.5459895362236575, 0.6931471805599453, 0.5819215454497209, 0.5641169208162141, 0.5087181414264259, 0.4500694143449183, 0.5459895362236575, 0.5087181414264259, 0.4297297301077955, 0.5275274733839221, 0.5596157879354225, 0.4895482253187058, 0.4297297301077955, 0.4500694143449183, 0.4895482253187058, 0.5641169208162141, 0.47000362924573547, 0.5368011101692512, 0.46505720531040984, 0.5368011101692512, 0.47000362924573547, 0.5819215454497209, 0.36061454194281256, 0.5459895362236575, 0.5087181414264259, 0.5819215454497209, 0.5641169208162141, 0.4895482253187058, 0.4895482253187058, 0.5275274733839221, 0.5641169208162141, 0.5087181414264259, 0.47000362924573547, 0.47000362924573547, 0.4089677386593665, 0.5641169208162141, 0.366104034227584, 0.46505720531040984, 0.5641169208162141, 0.5819215454497209, 0.5134537461722601, 0.4895482253187058, 0.5819215454497209, 0.4895482253187058, 0.5819215454497209, 0.5134537461722601, 0.5368011101692512, 0.4895482253187058, 0.4089677386593665, 0.4297297301077955, 0.47000362924573547, 0.5275274733839221, 0.47000362924573547, 0.4500694143449183, 0.5671064596645803, 0.5134537461722601, 0.5819215454497209, 0.5994147028972381, 0.5596157879354225, 0.5087181414264259, 0.5641169208162141, 0.5459895362236575, 0.6335089142402139, 0.5087181414264259, 0.6037405928443607, 0.5994147028972381, 0.5819215454497209, 0.6037405928443607, 0.5641169208162141, 0.5459895362236575, 0.5819215454497209, 0.4895482253187058, 0.5368011101692512, 0.5087181414264259, 0.4297297301077955, 0.5459895362236575, 0.5641169208162141, 0.5368011101692512, 0.38776553100876343, 0.4399512841793335, 0.4895482253187058, 0.5459895362236575, 0.5641169208162141, 0.5520685823000396, 0.5819215454497209, 0.548273511331488, 0.5641169208162141, 0.5275274733839221, 0.4895482253187058, 0.4895482253187058, 0.5459895362236575, 0.5994147028972381, 0.5459895362236575, 0.4500694143449183, 0.5641169208162141, 0.5459895362236575, 0.5641169208162141, 0.5641169208162141, 0.5819215454497209, 0.47000362924573547, 0.5596157879354225, 0.5641169208162141, 0.6166071034376109, 0.5459895362236575, 0.5459895362236575, 0.5641169208162141, 0.5459895362236575, 0.5819215454497209, 0.5641169208162141, 0.5819215454497209, 0.5819215454497209, 0.5459895362236575, 0.5641169208162141, 0.5596157879354225, 0.5994147028972381, 0.5520685823000396, 0.5641169208162141, 0.5087181414264259, 0.5596157879354225, 0.5459895362236575, 0.6166071034376109, 0.5459895362236575, 0.5275274733839221, 0.5641169208162141, 0.5596157879354225, 0.5641169208162141, 0.5819215454497209, 0.5459895362236575, 0.5994147028972381, 0.5368011101692512, 0.5641169208162141, 0.5641169208162141, 0.5819215454497209, 0.5819215454497209, 0.5641169208162141, 0.5994147028972381, 0.5819215454497209, 0.5641169208162141, 0.5641169208162141, 0.5212969236332861, 0.4500694143449183, 0.47000362924573547, 0.5275274733839221, 0.4500694143449183, 0.4500694143449183, 0.4895482253187058, 0.4895482253187058, 0.5087181414264259, 0.5641169208162141, 0.4895482253187058, 0.47000362924573547, 0.4089677386593665, 0.4895482253187058, 0.46505720531040984, 0.4895482253187058, 0.47000362924573547, 0.5641169208162141, 0.5819215454497209, 0.4297297301077955, 0.4895482253187058, 0.4895482253187058, 0.4399512841793335, 0.4895482253187058, 0.4895482253187058, 0.5275274733839221, 0.47000362924573547, 0.4895482253187058, 0.4895482253187058, 0.4895482253187058, 0.4895482253187058, 0.5275274733839221, 0.5087181414264259, 0.47737768969845035, 0.4895482253187058, 0.4895482253187058, 0.5212969236332861, 0.4895482253187058, 0.4895482253187058, 0.4895482253187058, 0.4895482253187058, 0.5368011101692512, 0.4895482253187058, 0.5819215454497209, 0.5819215454497209, 0.6166071034376109, 0.5459895362236575, 0.4895482253187058, 0.5641169208162141, 0.5212969236332861, 0.6037405928443607, 0.5520685823000396, 0.6335089142402139, 0.5819215454497209, 0.5368011101692512, 0.5819215454497209, 0.6250937173149296, 0.6250937173149296, 0.4895482253187058, 0.5819215454497209, 0.5212969236332861, 0.5368011101692512, 0.5819215454497209, 0.4895482253187058, 0.4895482253187058, 0.5134537461722601, 0.5368011101692512, 0.6390799592896693, 0.4399512841793335, 0.38776553100876343, 0.5596157879354225, 0.5134537461722601, 0.5087181414264259, 0.5015724182855074, 0.5087181414264259, 0.5275274733839221, 0.5520685823000396, 0.5275274733839221, 0.5087181414264259, 0.4089677386593665, 0.2981533723190763, 0.4895482253187058, 0.6166071034376109, 0.5459895362236575, 0.4089677386593665, 0.46505720531040984, 0.4089677386593665, 0.4297297301077955, 0.5368011101692512, 0.40106949663512614, 0.4500694143449183, 0.2501441531327157, 0.5459895362236575, 0.38776553100876343, 0.38776553100876343, 0.2744368457017602, 0.4732877044469254, 0.38776553100876343, 0.4895482253187058, 0.38776553100876343, 0.38776553100876343, 0.4089677386593665, 0.41419878807691896, 0.38776553100876343, 0.36061454194281256, 0.369747025506085, 0.4297297301077955, 0.41419878807691896, 0.32132043160061075, 0.4089677386593665, 0.5994147028972381, 0.4895482253187058], \"coloraxis\": \"coloraxis\", \"symbol\": \"circle\"}, \"name\": \"\", \"showlegend\": false, \"type\": \"splom\"}],                        {\"coloraxis\": {\"colorbar\": {\"title\": {\"text\": \"color\"}}, \"colorscale\": [[0.0, \"#0d0887\"], [0.1111111111111111, \"#46039f\"], [0.2222222222222222, \"#7201a8\"], [0.3333333333333333, \"#9c179e\"], [0.4444444444444444, \"#bd3786\"], [0.5555555555555556, \"#d8576b\"], [0.6666666666666666, \"#ed7953\"], [0.7777777777777778, \"#fb9f3a\"], [0.8888888888888888, \"#fdca26\"], [1.0, \"#f0f921\"]]}, \"dragmode\": \"select\", \"legend\": {\"tracegroupgap\": 0}, \"margin\": {\"t\": 60}, \"template\": {\"data\": {\"bar\": [{\"error_x\": {\"color\": \"#2a3f5f\"}, \"error_y\": {\"color\": \"#2a3f5f\"}, \"marker\": {\"line\": {\"color\": \"#E5ECF6\", \"width\": 0.5}}, \"type\": \"bar\"}], \"barpolar\": [{\"marker\": {\"line\": {\"color\": \"#E5ECF6\", \"width\": 0.5}}, \"type\": \"barpolar\"}], \"carpet\": [{\"aaxis\": {\"endlinecolor\": \"#2a3f5f\", \"gridcolor\": \"white\", \"linecolor\": \"white\", \"minorgridcolor\": \"white\", \"startlinecolor\": \"#2a3f5f\"}, \"baxis\": {\"endlinecolor\": \"#2a3f5f\", \"gridcolor\": \"white\", \"linecolor\": \"white\", \"minorgridcolor\": \"white\", \"startlinecolor\": \"#2a3f5f\"}, \"type\": \"carpet\"}], \"choropleth\": [{\"colorbar\": {\"outlinewidth\": 0, \"ticks\": \"\"}, \"type\": \"choropleth\"}], \"contour\": [{\"colorbar\": {\"outlinewidth\": 0, \"ticks\": \"\"}, \"colorscale\": [[0.0, \"#0d0887\"], [0.1111111111111111, \"#46039f\"], [0.2222222222222222, \"#7201a8\"], [0.3333333333333333, \"#9c179e\"], [0.4444444444444444, \"#bd3786\"], [0.5555555555555556, \"#d8576b\"], [0.6666666666666666, \"#ed7953\"], [0.7777777777777778, \"#fb9f3a\"], [0.8888888888888888, \"#fdca26\"], [1.0, \"#f0f921\"]], \"type\": \"contour\"}], \"contourcarpet\": [{\"colorbar\": {\"outlinewidth\": 0, \"ticks\": \"\"}, \"type\": \"contourcarpet\"}], \"heatmap\": [{\"colorbar\": {\"outlinewidth\": 0, \"ticks\": \"\"}, \"colorscale\": [[0.0, \"#0d0887\"], [0.1111111111111111, \"#46039f\"], [0.2222222222222222, \"#7201a8\"], [0.3333333333333333, \"#9c179e\"], [0.4444444444444444, \"#bd3786\"], [0.5555555555555556, \"#d8576b\"], [0.6666666666666666, \"#ed7953\"], [0.7777777777777778, \"#fb9f3a\"], [0.8888888888888888, \"#fdca26\"], [1.0, \"#f0f921\"]], \"type\": \"heatmap\"}], \"heatmapgl\": [{\"colorbar\": {\"outlinewidth\": 0, \"ticks\": \"\"}, \"colorscale\": [[0.0, \"#0d0887\"], [0.1111111111111111, \"#46039f\"], [0.2222222222222222, \"#7201a8\"], [0.3333333333333333, \"#9c179e\"], [0.4444444444444444, \"#bd3786\"], [0.5555555555555556, \"#d8576b\"], [0.6666666666666666, \"#ed7953\"], [0.7777777777777778, \"#fb9f3a\"], [0.8888888888888888, \"#fdca26\"], [1.0, \"#f0f921\"]], \"type\": \"heatmapgl\"}], \"histogram\": [{\"marker\": {\"colorbar\": {\"outlinewidth\": 0, \"ticks\": \"\"}}, \"type\": \"histogram\"}], \"histogram2d\": [{\"colorbar\": {\"outlinewidth\": 0, \"ticks\": \"\"}, \"colorscale\": [[0.0, \"#0d0887\"], [0.1111111111111111, \"#46039f\"], [0.2222222222222222, \"#7201a8\"], [0.3333333333333333, \"#9c179e\"], [0.4444444444444444, \"#bd3786\"], [0.5555555555555556, \"#d8576b\"], [0.6666666666666666, \"#ed7953\"], [0.7777777777777778, \"#fb9f3a\"], [0.8888888888888888, \"#fdca26\"], [1.0, \"#f0f921\"]], \"type\": \"histogram2d\"}], \"histogram2dcontour\": [{\"colorbar\": {\"outlinewidth\": 0, \"ticks\": \"\"}, \"colorscale\": [[0.0, \"#0d0887\"], [0.1111111111111111, \"#46039f\"], [0.2222222222222222, \"#7201a8\"], [0.3333333333333333, \"#9c179e\"], [0.4444444444444444, \"#bd3786\"], [0.5555555555555556, \"#d8576b\"], [0.6666666666666666, \"#ed7953\"], [0.7777777777777778, \"#fb9f3a\"], [0.8888888888888888, \"#fdca26\"], [1.0, \"#f0f921\"]], \"type\": \"histogram2dcontour\"}], \"mesh3d\": [{\"colorbar\": {\"outlinewidth\": 0, \"ticks\": \"\"}, \"type\": \"mesh3d\"}], \"parcoords\": [{\"line\": {\"colorbar\": {\"outlinewidth\": 0, \"ticks\": \"\"}}, \"type\": \"parcoords\"}], \"pie\": [{\"automargin\": true, \"type\": \"pie\"}], \"scatter\": [{\"marker\": {\"colorbar\": {\"outlinewidth\": 0, \"ticks\": \"\"}}, \"type\": \"scatter\"}], \"scatter3d\": [{\"line\": {\"colorbar\": {\"outlinewidth\": 0, \"ticks\": \"\"}}, \"marker\": {\"colorbar\": {\"outlinewidth\": 0, \"ticks\": \"\"}}, \"type\": \"scatter3d\"}], \"scattercarpet\": [{\"marker\": {\"colorbar\": {\"outlinewidth\": 0, \"ticks\": \"\"}}, \"type\": \"scattercarpet\"}], \"scattergeo\": [{\"marker\": {\"colorbar\": {\"outlinewidth\": 0, \"ticks\": \"\"}}, \"type\": \"scattergeo\"}], \"scattergl\": [{\"marker\": {\"colorbar\": {\"outlinewidth\": 0, \"ticks\": \"\"}}, \"type\": \"scattergl\"}], \"scattermapbox\": [{\"marker\": {\"colorbar\": {\"outlinewidth\": 0, \"ticks\": \"\"}}, \"type\": \"scattermapbox\"}], \"scatterpolar\": [{\"marker\": {\"colorbar\": {\"outlinewidth\": 0, \"ticks\": \"\"}}, \"type\": \"scatterpolar\"}], \"scatterpolargl\": [{\"marker\": {\"colorbar\": {\"outlinewidth\": 0, \"ticks\": \"\"}}, \"type\": \"scatterpolargl\"}], \"scatterternary\": [{\"marker\": {\"colorbar\": {\"outlinewidth\": 0, \"ticks\": \"\"}}, \"type\": \"scatterternary\"}], \"surface\": [{\"colorbar\": {\"outlinewidth\": 0, \"ticks\": \"\"}, \"colorscale\": [[0.0, \"#0d0887\"], [0.1111111111111111, \"#46039f\"], [0.2222222222222222, \"#7201a8\"], [0.3333333333333333, \"#9c179e\"], [0.4444444444444444, \"#bd3786\"], [0.5555555555555556, \"#d8576b\"], [0.6666666666666666, \"#ed7953\"], [0.7777777777777778, \"#fb9f3a\"], [0.8888888888888888, \"#fdca26\"], [1.0, \"#f0f921\"]], \"type\": \"surface\"}], \"table\": [{\"cells\": {\"fill\": {\"color\": \"#EBF0F8\"}, \"line\": {\"color\": \"white\"}}, \"header\": {\"fill\": {\"color\": \"#C8D4E3\"}, \"line\": {\"color\": \"white\"}}, \"type\": \"table\"}]}, \"layout\": {\"annotationdefaults\": {\"arrowcolor\": \"#2a3f5f\", \"arrowhead\": 0, \"arrowwidth\": 1}, \"autotypenumbers\": \"strict\", \"coloraxis\": {\"colorbar\": {\"outlinewidth\": 0, \"ticks\": \"\"}}, \"colorscale\": {\"diverging\": [[0, \"#8e0152\"], [0.1, \"#c51b7d\"], [0.2, \"#de77ae\"], [0.3, \"#f1b6da\"], [0.4, \"#fde0ef\"], [0.5, \"#f7f7f7\"], [0.6, \"#e6f5d0\"], [0.7, \"#b8e186\"], [0.8, \"#7fbc41\"], [0.9, \"#4d9221\"], [1, \"#276419\"]], \"sequential\": [[0.0, \"#0d0887\"], [0.1111111111111111, \"#46039f\"], [0.2222222222222222, \"#7201a8\"], [0.3333333333333333, \"#9c179e\"], [0.4444444444444444, \"#bd3786\"], [0.5555555555555556, \"#d8576b\"], [0.6666666666666666, \"#ed7953\"], [0.7777777777777778, \"#fb9f3a\"], [0.8888888888888888, \"#fdca26\"], [1.0, \"#f0f921\"]], \"sequentialminus\": [[0.0, \"#0d0887\"], [0.1111111111111111, \"#46039f\"], [0.2222222222222222, \"#7201a8\"], [0.3333333333333333, \"#9c179e\"], [0.4444444444444444, \"#bd3786\"], [0.5555555555555556, \"#d8576b\"], [0.6666666666666666, \"#ed7953\"], [0.7777777777777778, \"#fb9f3a\"], [0.8888888888888888, \"#fdca26\"], [1.0, \"#f0f921\"]]}, \"colorway\": [\"#636efa\", \"#EF553B\", \"#00cc96\", \"#ab63fa\", \"#FFA15A\", \"#19d3f3\", \"#FF6692\", \"#B6E880\", \"#FF97FF\", \"#FECB52\"], \"font\": {\"color\": \"#2a3f5f\"}, \"geo\": {\"bgcolor\": \"white\", \"lakecolor\": \"white\", \"landcolor\": \"#E5ECF6\", \"showlakes\": true, \"showland\": true, \"subunitcolor\": \"white\"}, \"hoverlabel\": {\"align\": \"left\"}, \"hovermode\": \"closest\", \"mapbox\": {\"style\": \"light\"}, \"paper_bgcolor\": \"white\", \"plot_bgcolor\": \"#E5ECF6\", \"polar\": {\"angularaxis\": {\"gridcolor\": \"white\", \"linecolor\": \"white\", \"ticks\": \"\"}, \"bgcolor\": \"#E5ECF6\", \"radialaxis\": {\"gridcolor\": \"white\", \"linecolor\": \"white\", \"ticks\": \"\"}}, \"scene\": {\"xaxis\": {\"backgroundcolor\": \"#E5ECF6\", \"gridcolor\": \"white\", \"gridwidth\": 2, \"linecolor\": \"white\", \"showbackground\": true, \"ticks\": \"\", \"zerolinecolor\": \"white\"}, \"yaxis\": {\"backgroundcolor\": \"#E5ECF6\", \"gridcolor\": \"white\", \"gridwidth\": 2, \"linecolor\": \"white\", \"showbackground\": true, \"ticks\": \"\", \"zerolinecolor\": \"white\"}, \"zaxis\": {\"backgroundcolor\": \"#E5ECF6\", \"gridcolor\": \"white\", \"gridwidth\": 2, \"linecolor\": \"white\", \"showbackground\": true, \"ticks\": \"\", \"zerolinecolor\": \"white\"}}, \"shapedefaults\": {\"line\": {\"color\": \"#2a3f5f\"}}, \"ternary\": {\"aaxis\": {\"gridcolor\": \"white\", \"linecolor\": \"white\", \"ticks\": \"\"}, \"baxis\": {\"gridcolor\": \"white\", \"linecolor\": \"white\", \"ticks\": \"\"}, \"bgcolor\": \"#E5ECF6\", \"caxis\": {\"gridcolor\": \"white\", \"linecolor\": \"white\", \"ticks\": \"\"}}, \"title\": {\"x\": 0.05}, \"xaxis\": {\"automargin\": true, \"gridcolor\": \"white\", \"linecolor\": \"white\", \"ticks\": \"\", \"title\": {\"standoff\": 15}, \"zerolinecolor\": \"white\", \"zerolinewidth\": 2}, \"yaxis\": {\"automargin\": true, \"gridcolor\": \"white\", \"linecolor\": \"white\", \"ticks\": \"\", \"title\": {\"standoff\": 15}, \"zerolinecolor\": \"white\", \"zerolinewidth\": 2}}}},                        {\"responsive\": true}                    ).then(function(){\n                            \nvar gd = document.getElementById('26a47334-83c9-4849-b8a1-4d0b165c8b60');\nvar x = new MutationObserver(function (mutations, observer) {{\n        var display = window.getComputedStyle(gd).display;\n        if (!display || display === 'none') {{\n            console.log([gd, 'removed!']);\n            Plotly.purge(gd);\n            observer.disconnect();\n        }}\n}});\n\n// Listen for the removal of the full notebook cells\nvar notebookContainer = gd.closest('#notebook-container');\nif (notebookContainer) {{\n    x.observe(notebookContainer, {childList: true});\n}}\n\n// Listen for the clearing of the current output cell\nvar outputEl = gd.closest('.output');\nif (outputEl) {{\n    x.observe(outputEl, {childList: true});\n}}\n\n                        })                };                            </script>        </div>\n</body>\n</html>"
          },
          "metadata": {},
          "output_type": "display_data"
        }
      ]
    },
    {
      "cell_type": "code",
      "metadata": {
        "tags": [],
        "cell_id": "00015-2da460be-6efc-43c2-b5c4-220ec30f4ac0",
        "deepnote_to_be_reexecuted": false,
        "source_hash": "7e40d564",
        "execution_millis": 150,
        "execution_start": 1617796865179,
        "deepnote_cell_type": "code"
      },
      "source": "total_var = pca_app.explained_variance_ratio_.sum() * 100\n\nfig = px.scatter_3d(M, x=0, y=1, z=2, color=df[\"average_mood\"],\ntitle=f\"Total Explained Variance: {total_var:.2f}%\",\nlabels={\n    \"0\": \"PC 1\",\n    \"1\": \"PC 2\",\n    \"2\": \"PC 3\",\n})\nfig.show()",
      "execution_count": null,
      "outputs": [
        {
          "data": {
            "text/html": "<html>\n<head><meta charset=\"utf-8\" /></head>\n<body>\n    <div>            <script src=\"https://cdnjs.cloudflare.com/ajax/libs/mathjax/2.7.5/MathJax.js?config=TeX-AMS-MML_SVG\"></script><script type=\"text/javascript\">if (window.MathJax) {MathJax.Hub.Config({SVG: {font: \"STIX-Web\"}});}</script>                <script type=\"text/javascript\">window.PlotlyConfig = {MathJaxConfig: 'local'};</script>\n        <script src=\"https://cdn.plot.ly/plotly-latest.min.js\"></script>                <div id=\"5fd309f0-8495-4a39-9dcc-ba153ae58f11\" class=\"plotly-graph-div\" style=\"height:525px; width:100%;\"></div>            <script type=\"text/javascript\">                                    window.PLOTLYENV=window.PLOTLYENV || {};                                    if (document.getElementById(\"5fd309f0-8495-4a39-9dcc-ba153ae58f11\")) {                    Plotly.newPlot(                        \"5fd309f0-8495-4a39-9dcc-ba153ae58f11\",                        [{\"hovertemplate\": \"PC 1=%{x}<br>PC 2=%{y}<br>PC 3=%{z}<br>color=%{marker.color}<extra></extra>\", \"legendgroup\": \"\", \"marker\": {\"color\": [0.41419878807691896, 0.41419878807691896, 0.4297297301077955, 0.47000362924573547, 0.38776553100876343, 0.46505720531040984, 0.4500694143449183, 0.4895482253187058, 0.4297297301077955, 0.5819215454497209, 0.5368011101692512, 0.5275274733839221, 0.38776553100876343, 0.4399512841793335, 0.4297297301077955, 0.4089677386593665, 0.47000362924573547, 0.4399512841793335, 0.4399512841793335, 0.4500694143449183, 0.5275274733839221, 0.5275274733839221, 0.4895482253187058, 0.5134537461722601, 0.5819215454497209, 0.5087181414264259, 0.4297297301077955, 0.5087181414264259, 0.4500694143449183, 0.47000362924573547, 0.5641169208162141, 0.5134537461722601, 0.5459895362236575, 0.5275274733839221, 0.5459895362236575, 0.5459895362236575, 0.5087181414264259, 0.5459895362236575, 0.5368011101692512, 0.5459895362236575, 0.4895482253187058, 0.5641169208162141, 0.5819215454497209, 0.5459895362236575, 0.5819215454497209, 0.5168226432383649, 0.46505720531040984, 0.5994147028972381, 0.47000362924573547, 0.5134537461722601, 0.5368011101692512, 0.4399512841793335, 0.41419878807691896, 0.4297297301077955, 0.5596157879354225, 0.5087181414264259, 0.5134537461722601, 0.47000362924573547, 0.5134537461722601, 0.4895482253187058, 0.5087181414264259, 0.5275274733839221, 0.4297297301077955, 0.36061454194281256, 0.4297297301077955, 0.5275274733839221, 0.2125614419836727, 0.47000362924573547, 0.41419878807691896, 0.5134537461722601, 0.5134537461722601, 0.4399512841793335, 0.38776553100876343, 0.5087181414264259, 0.5819215454497209, 0.5134537461722601, 0.4567584024957149, 0.4399512841793335, 0.4399512841793335, 0.3513978868378886, 0.2744368457017602, 0.332705753825736, 0.3513978868378886, 0.332705753825736, 0.4895482253187058, 0.6664789334777838, 0.5641169208162141, 0.5994147028972381, 0.5641169208162141, 0.5641169208162141, 0.6037405928443607, 0.5596157879354225, 0.5819215454497209, 0.6335089142402139, 0.6166071034376109, 0.5275274733839221, 0.5459895362236575, 0.5275274733839221, 0.5641169208162141, 0.5641169208162141, 0.5459895362236575, 0.47000362924573547, 0.5275274733839221, 0.5275274733839221, 0.5641169208162141, 0.5275274733839221, 0.5459895362236575, 0.5520685823000396, 0.5275274733839221, 0.4895482253187058, 0.5459895362236575, 0.5819215454497209, 0.5134537461722601, 0.5368011101692512, 0.5641169208162141, 0.5368011101692512, 0.5275274733839221, 0.5459895362236575, 0.4895482253187058, 0.5275274733839221, 0.5368011101692512, 0.5368011101692512, 0.5459895362236575, 0.4895482253187058, 0.5087181414264259, 0.4895482253187058, 0.5087181414264259, 0.5459895362236575, 0.5596157879354225, 0.5275274733839221, 0.5409881365234679, 0.4089677386593665, 0.4228568508200335, 0.38776553100876343, 0.5368011101692512, 0.46505720531040984, 0.5087181414264259, 0.5134537461722601, 0.1119179162039854, 0.19971329950582384, 0.1119179162039854, 0.31365755885504143, 0.332705753825736, 0.366104034227584, 0.4089677386593665, 0.4297297301077955, 0.4089677386593665, 0.47000362924573547, 0.4895482253187058, 0.4895482253187058, 0.5087181414264259, 0.4895482253187058, 0.5368011101692512, 0.47000362924573547, 0.46505720531040984, 0.46505720531040984, 0.4895482253187058, 0.5087181414264259, 0.4895482253187058, 0.4895482253187058, 0.5368011101692512, 0.4297297301077955, 0.4895482253187058, 0.5087181414264259, 0.4500694143449183, 0.5368011101692512, 0.5087181414264259, 0.5087181414264259, 0.5087181414264259, 0.5087181414264259, 0.5087181414264259, 0.5087181414264259, 0.5087181414264259, 0.5641169208162141, 0.5275274733839221, 0.4895482253187058, 0.47000362924573547, 0.4895482253187058, 0.47000362924573547, 0.4895482253187058, 0.46505720531040984, 0.4895482253187058, 0.4399512841793335, 0.4895482253187058, 0.5819215454497209, 0.4895482253187058, 0.5459895362236575, 0.5641169208162141, 0.5641169208162141, 0.4895482253187058, 0.5596157879354225, 0.47000362924573547, 0.5087181414264259, 0.4895482253187058, 0.4895482253187058, 0.4895482253187058, 0.4089677386593665, 0.4500694143449183, 0.5275274733839221, 0.5459895362236575, 0.5641169208162141, 0.5994147028972381, 0.4399512841793335, 0.5134537461722601, 0.4895482253187058, 0.5459895362236575, 0.47000362924573547, 0.41419878807691896, 0.47000362924573547, 0.5994147028972381, 0.4895482253187058, 0.4500694143449183, 0.4895482253187058, 0.5596157879354225, 0.4297297301077955, 0.5368011101692512, 0.5087181414264259, 0.46505720531040984, 0.5134537461722601, 0.47000362924573547, 0.5819215454497209, 0.5087181414264259, 0.41419878807691896, 0.5459895362236575, 0.47562688680009757, 0.4732877044469254, 0.3039956479433046, 0.4895482253187058, 0.38776553100876343, 0.5596157879354225, 0.5819215454497209, 0.5520685823000396, 0.4500694143449183, 0.47000362924573547, 0.6037405928443607, 0.4895482253187058, 0.4089677386593665, 0.19105523676270902, 0.4500694143449183, 0.332705753825736, 0.4089677386593665, 0.4399512841793335, 0.38776553100876343, 0.46505720531040984, 0.32132043160061075, 0.47000362924573547, 0.4297297301077955, 0.4089677386593665, 0.07598590697792205, 0.4297297301077955, 0.4399512841793335, 0.4089677386593665, 0.38776553100876343, 0.24397763821705162, 0.11895194286136529, 0.2981533723190763, 0.4895482253187058, 0.0, 0.4500694143449183, 0.38776553100876343, 0.38776553100876343, 0.3439629083503705, 0.05129329438755048, 0.32132043160061075, 0.38776553100876343, 0.46505720531040984, 0.2744368457017602, 0.2744368457017602, 0.2744368457017602, 0.4089677386593665, 0.3513978868378886, 0.5819215454497209, 0.38776553100876343, 0.5087181414264259, 0.5275274733839221, 0.4895482253187058, 0.5087181414264259, 0.47000362924573547, 0.4500694143449183, 0.4895482253187058, 0.4500694143449183, 0.5275274733839221, 0.4297297301077955, 0.4895482253187058, 0.32132043160061075, 0.4297297301077955, 0.4895482253187058, 0.4297297301077955, 0.4500694143449183, 0.4297297301077955, 0.5087181414264259, 0.47000362924573547, 0.5087181414264259, 0.4399512841793335, 0.4228568508200335, 0.41419878807691896, 0.5055485666651469, 0.47000362924573547, 0.5459895362236575, 0.5087181414264259, 0.4500694143449183, 0.4895482253187058, 0.5368011101692512, 0.5275274733839221, 0.5459895362236575, 0.4895482253187058, 0.4399512841793335, 0.41419878807691896, 0.5459895362236575, 0.5459895362236575, 0.4895482253187058, 0.5459895362236575, 0.4500694143449183, 0.4297297301077955, 0.4500694143449183, 0.4089677386593665, 0.38776553100876343, 0.5641169208162141, 0.4297297301077955, 0.4297297301077955, 0.38776553100876343, 0.3439629083503705, 0.4567584024957149, 0.4228568508200335, 0.38776553100876343, 0.38776553100876343, 0.366104034227584, 0.36061454194281256, 0.4567584024957149, 0.4895482253187058, 0.5087181414264259, 0.5275274733839221, 0.47000362924573547, 0.46505720531040984, 0.4895482253187058, 0.46505720531040984, 0.5134537461722601, 0.4089677386593665, 0.5596157879354225, 0.5641169208162141, 0.6037405928443607, 0.5819215454497209, 0.5596157879354225, 0.4895482253187058, 0.5459895362236575, 0.4089677386593665, 0.5459895362236575, 0.5134537461722601, 0.5368011101692512, 0.47000362924573547, 0.4089677386593665, 0.5087181414264259, 0.4399512841793335, 0.38776553100876343, 0.47000362924573547, 0.4895482253187058, 0.38776553100876343, 0.366104034227584, 0.38776553100876343, 0.332705753825736, 0.4895482253187058, 0.4500694143449183, 0.5819215454497209, 0.41419878807691896, 0.4399512841793335, 0.4500694143449183, 0.4228568508200335, 0.5087181414264259, 0.5134537461722601, 0.5819215454497209, 0.41419878807691896, 0.4500694143449183, 0.46505720531040984, 0.4895482253187058, 0.5368011101692512, 0.5459895362236575, 0.5596157879354225, 0.4500694143449183, 0.42715793271942404, 0.46505720531040984, 0.46505720531040984, 0.366104034227584, 0.4297297301077955, 0.4297297301077955, 0.38776553100876343, 0.32132043160061075, 0.4399512841793335, 0.4089677386593665, 0.41419878807691896, 0.4297297301077955, 0.41419878807691896, 0.3039956479433046, 0.4297297301077955, 0.4500694143449183, 0.47000362924573547, 0.3439629083503705, 0.4500694143449183, 0.47000362924573547, 0.4895482253187058, 0.47000362924573547, 0.4500694143449183, 0.366104034227584, 0.4297297301077955, 0.38776553100876343, 0.4399512841793335, 0.366104034227584, 0.4500694143449183, 0.3439629083503705, 0.4895482253187058, 0.38776553100876343, 0.4500694143449183, 0.38776553100876343, 0.41419878807691896, 0.4089677386593665, 0.332705753825736, 0.3439629083503705, 0.2501441531327157, 0.4089677386593665, 0.5641169208162141, 0.4895482253187058, 0.4297297301077955, 0.4500694143449183, 0.4895482253187058, 0.5641169208162141, 0.4297297301077955, 0.4297297301077955, 0.6166071034376109, 0.5275274733839221, 0.6501297954762545, 0.5459895362236575, 0.6166071034376109, 0.5275274733839221, 0.5459895362236575, 0.5087181414264259, 0.4089677386593665, 0.4895482253187058, 0.5368011101692512, 0.5275274733839221, 0.5459895362236575, 0.5641169208162141, 0.47000362924573547, 0.41419878807691896, 0.5275274733839221, 0.5994147028972381, 0.5641169208162141, 0.5459895362236575, 0.47000362924573547, 0.47000362924573547, 0.4500694143449183, 0.47000362924573547, 0.38776553100876343, 0.38776553100876343, 0.4297297301077955, 0.07598590697792205, 0.5087181414264259, 0.4500694143449183, 0.5275274733839221, 0.36061454194281256, 0.5275274733839221, 0.5520685823000396, 0.5596157879354225, 0.6501297954762545, 0.5819215454497209, 0.5965203448708735, 0.6250937173149296, 0.5671064596645803, 0.6109090823229731, 0.5819215454497209, 0.5134537461722601, 0.5134537461722601, 0.4297297301077955, 0.366104034227584, 0.38776553100876343, 0.4399512841793335, 0.36061454194281256, 0.4895482253187058, 0.4500694143449183, 0.4089677386593665, 0.5819215454497209, 0.4399512841793335, 0.46505720531040984, 0.4089677386593665, 0.4895482253187058, 0.5212969236332861, 0.5368011101692512, 0.5275274733839221, 0.5275274733839221, 0.4895482253187058, 0.47000362924573547, 0.5819215454497209, 0.4567584024957149, 0.5596157879354225, 0.5368011101692512, 0.38776553100876343, 0.38776553100876343, 0.4089677386593665, 0.4399512841793335, 0.46505720531040984, 0.5368011101692512, 0.4895482253187058, 0.4895482253187058, 0.4895482253187058, 0.5212969236332861, 0.5819215454497209, 0.5819215454497209, 0.5275274733839221, 0.38776553100876343, 0.4567584024957149, 0.47000362924573547, 0.47000362924573547, 0.46150900525431265, 0.46505720531040984, 0.4054651081081644, 0.4297297301077955, 0.5087181414264259, 0.5275274733839221, 0.4895482253187058, 0.4895482253187058, 0.4895482253187058, 0.4895482253187058, 0.4895482253187058, 0.4895482253187058, 0.5087181414264259, 0.4895482253187058, 0.5087181414264259, 0.4895482253187058, 0.5275274733839221, 0.5087181414264259, 0.5087181414264259, 0.5087181414264259, 0.5087181414264259, 0.5087181414264259, 0.5641169208162141, 0.4089677386593665, 0.47000362924573547, 0.47000362924573547, 0.4895482253187058, 0.5087181414264259, 0.4895482253187058, 0.5275274733839221, 0.4895482253187058, 0.4895482253187058, 0.4895482253187058, 0.4895482253187058, 0.4297297301077955, 0.38776553100876343, 0.4895482253187058, 0.4895482253187058, 0.5087181414264259, 0.4895482253187058, 0.4895482253187058, 0.4895482253187058, 0.4895482253187058, 0.4089677386593665, 0.4895482253187058, 0.4895482253187058, 0.4895482253187058, 0.38776553100876343, 0.4500694143449183, 0.4895482253187058, 0.47000362924573547, 0.4895482253187058, 0.4895482253187058, 0.5368011101692512, 0.5275274733839221, 0.4297297301077955, 0.4500694143449183, 0.5087181414264259, 0.4500694143449183, 0.4297297301077955, 0.3513978868378886, 0.47000362924573547, 0.4399512841793335, 0.4895482253187058, 0.4297297301077955, 0.38776553100876343, 0.3439629083503705, 0.38776553100876343, 0.4399512841793335, 0.38776553100876343, 0.32132043160061075, 0.38776553100876343, 0.366104034227584, 0.4297297301077955, 0.41419878807691896, 0.4089677386593665, 0.4895482253187058, 0.46505720531040984, 0.4895482253187058, 0.4297297301077955, 0.5087181414264259, 0.4500694143449183, 0.4895482253187058, 0.4895482253187058, 0.4297297301077955, 0.4895482253187058, 0.4500694143449183, 0.5134537461722601, 0.4895482253187058, 0.47000362924573547, 0.5087181414264259, 0.4895482253187058, 0.5134537461722601, 0.4500694143449183, 0.5134537461722601, 0.32132043160061075, 0.5087181414264259, 0.46505720531040984, 0.5087181414264259, 0.5819215454497209, 0.4895482253187058, 0.4895482253187058, 0.4895482253187058, 0.5212969236332861, 0.5087181414264259, 0.5819215454497209, 0.5134537461722601, 0.5368011101692512, 0.5459895362236575, 0.5087181414264259, 0.5212969236332861, 0.4089677386593665, 0.4297297301077955, 0.5134537461722601, 0.548273511331488, 0.5275274733839221, 0.5275274733839221, 0.4895482253187058, 0.5368011101692512, 0.5087181414264259, 0.5087181414264259, 0.5087181414264259, 0.47000362924573547, 0.5819215454497209, 0.5134537461722601, 0.5275274733839221, 0.5368011101692512, 0.5087181414264259, 0.4895482253187058, 0.4895482253187058, 0.5134537461722601, 0.4895482253187058, 0.4895482253187058, 0.4895482253187058, 0.46505720531040984, 0.5087181414264259, 0.5087181414264259, 0.5087181414264259, 0.4895482253187058, 0.4895482253187058, 0.5087181414264259, 0.4895482253187058, 0.4895482253187058, 0.4895482253187058, 0.5087181414264259, 0.5275274733839221, 0.4500694143449183, 0.5134537461722601, 0.5087181414264259, 0.5087181414264259, 0.5819215454497209, 0.5087181414264259, 0.46505720531040984, 0.4895482253187058, 0.4895482253187058, 0.5819215454497209, 0.4895482253187058, 0.43428554664365626, 0.4500694143449183, 0.4895482253187058, 0.38776553100876343, 0.332705753825736, 0.38776553100876343, 0.4500694143449183, 0.4500694143449183, 0.5275274733839221, 0.4895482253187058, 0.5087181414264259, 0.4297297301077955, 0.5459895362236575, 0.4500694143449183, 0.4895482253187058, 0.5819215454497209, 0.5134537461722601, 0.4500694143449183, 0.47000362924573547, 0.5087181414264259, 0.46505720531040984, 0.47000362924573547, 0.5087181414264259, 0.5087181414264259, 0.4895482253187058, 0.4297297301077955, 0.47000362924573547, 0.47000362924573547, 0.47000362924573547, 0.47000362924573547, 0.5459895362236575, 0.4297297301077955, 0.47000362924573547, 0.38776553100876343, 0.4500694143449183, 0.5134537461722601, 0.5596157879354225, 0.4228568508200335, 0.4297297301077955, 0.5087181414264259, 0.4895482253187058, 0.47000362924573547, 0.5641169208162141, 0.5275274733839221, 0.4500694143449183, 0.4895482253187058, 0.4895482253187058, 0.5368011101692512, 0.5459895362236575, 0.47000362924573547, 0.38776553100876343, 0.47000362924573547, 0.4895482253187058, 0.41419878807691896, 0.5275274733839221, 0.5368011101692512, 0.4895482253187058, 0.41419878807691896, 0.4399512841793335, 0.4567584024957149, 0.4895482253187058, 0.4895482253187058, 0.4895482253187058, 0.47000362924573547, 0.5134537461722601, 0.5596157879354225, 0.4895482253187058, 0.5368011101692512, 0.47000362924573547, 0.47000362924573547, 0.47000362924573547, 0.47000362924573547, 0.5087181414264259, 0.4297297301077955, 0.46505720531040984, 0.5368011101692512, 0.5459895362236575, 0.5275274733839221, 0.4297297301077955, 0.4895482253187058, 0.4895482253187058, 0.4895482253187058, 0.4895482253187058, 0.47000362924573547, 0.47000362924573547, 0.5134537461722601, 0.4895482253187058, 0.4895482253187058, 0.5087181414264259, 0.46505720531040984, 0.5212969236332861, 0.4895482253187058, 0.4895482253187058, 0.366104034227584, 0.4089677386593665, 0.4895482253187058, 0.4895482253187058, 0.4895482253187058, 0.5134537461722601, 0.4895482253187058, 0.5368011101692512, 0.5368011101692512, 0.4895482253187058, 0.4895482253187058, 0.4895482253187058, 0.4399512841793335, 0.4895482253187058, 0.36061454194281256, 0.4500694143449183, 0.5087181414264259, 0.4895482253187058, 0.4895482253187058, 0.5596157879354225, 0.5108256237659906, 0.5275274733839221, 0.5275274733839221, 0.5459895362236575, 0.5596157879354225, 0.5596157879354225, 0.5087181414264259, 0.4089677386593665, 0.4895482253187058, 0.5275274733839221, 0.5641169208162141, 0.5368011101692512, 0.4895482253187058, 0.5459895362236575, 0.5275274733839221, 0.6250937173149296, 0.5459895362236575, 0.5275274733839221, 0.46505720531040984, 0.4895482253187058, 0.5134537461722601, 0.5641169208162141, 0.5368011101692512, 0.5087181414264259, 0.5368011101692512, 0.47000362924573547, 0.4089677386593665, 0.5459895362236575, 0.4895482253187058, 0.47000362924573547, 0.38776553100876343, 0.4228568508200335, 0.5275274733839221, 0.4895482253187058, 0.4732877044469254, 0.5368011101692512, 0.4525830310852342, 0.4895482253187058, 0.5275274733839221, 0.4895482253187058, 0.5134537461722601, 0.4895482253187058, 0.5368011101692512, 0.2981533723190763, 0.4297297301077955, 0.4895482253187058, 0.5459895362236575, 0.5087181414264259, 0.5275274733839221, 0.4895482253187058, 0.4089677386593665, 0.4500694143449183, 0.47000362924573547, 0.5087181414264259, 0.4895482253187058, 0.4895482253187058, 0.4089677386593665, 0.4500694143449183, 0.4895482253187058, 0.5275274733839221, 0.4895482253187058, 0.4732877044469254, 0.46505720531040984, 0.5641169208162141, 0.4895482253187058, 0.4895482253187058, 0.5368011101692512, 0.5819215454497209, 0.5134537461722601, 0.5275274733839221, 0.4399512841793335, 0.5596157879354225, 0.4895482253187058, 0.4500694143449183, 0.4297297301077955, 0.4399512841793335, 0.5087181414264259, 0.4399512841793335, 0.41419878807691896, 0.5368011101692512, 0.47000362924573547, 0.5275274733839221, 0.6037405928443607, 0.4399512841793335, 0.38776553100876343, 0.41419878807691896, 0.4895482253187058, 0.5275274733839221, 0.5087181414264259, 0.38776553100876343, 0.4089677386593665, 0.4895482253187058, 0.4399512841793335, 0.4297297301077955, 0.5087181414264259, 0.46505720531040984, 0.5134537461722601, 0.4895482253187058, 0.4500694143449183, 0.4297297301077955, 0.4089677386593665, 0.5819215454497209, 0.5994147028972381, 0.5087181414264259, 0.4895482253187058, 0.4500694143449183, 0.4297297301077955, 0.47000362924573547, 0.46505720531040984, 0.5819215454497209, 0.46505720531040984, 0.46505720531040984, 0.4297297301077955, 0.4297297301077955, 0.4500694143449183, 0.4500694143449183, 0.5596157879354225, 0.4895482253187058, 0.5275274733839221, 0.47000362924573547, 0.47000362924573547, 0.38776553100876343, 0.5087181414264259, 0.5819215454497209, 0.5819215454497209, 0.4297297301077955, 0.5134537461722601, 0.4089677386593665, 0.366104034227584, 0.4500694143449183, 0.5819215454497209, 0.5641169208162141, 0.5819215454497209, 0.4500694143449183, 0.4089677386593665, 0.47000362924573547, 0.5087181414264259, 0.5641169208162141, 0.5275274733839221, 0.4567584024957149, 0.4500694143449183, 0.47000362924573547, 0.5819215454497209, 0.4089677386593665, 0.4297297301077955, 0.4895482253187058, 0.38776553100876343, 0.4297297301077955, 0.5275274733839221, 0.5275274733839221, 0.5087181414264259, 0.5275274733839221, 0.5459895362236575, 0.4895482253187058, 0.4500694143449183, 0.4089677386593665, 0.5459895362236575, 0.5819215454497209, 0.5087181414264259, 0.366104034227584, 0.32132043160061075, 0.5275274733839221, 0.47982367542671095, 0.4895482253187058, 0.5275274733839221, 0.4895482253187058, 0.5459895362236575, 0.5459895362236575, 0.4895482253187058, 0.5275274733839221, 0.366104034227584, 0.4895482253187058, 0.6460004021342433, 0.5459895362236575, 0.5087181414264259, 0.5641169208162141, 0.5459895362236575, 0.6335089142402139, 0.5368011101692512, 0.5087181414264259, 0.47000362924573547, 0.5641169208162141, 0.5819215454497209, 0.5459895362236575, 0.5459895362236575, 0.6931471805599453, 0.5819215454497209, 0.5641169208162141, 0.5087181414264259, 0.4500694143449183, 0.5459895362236575, 0.5087181414264259, 0.4297297301077955, 0.5275274733839221, 0.5596157879354225, 0.4895482253187058, 0.4297297301077955, 0.4500694143449183, 0.4895482253187058, 0.5641169208162141, 0.47000362924573547, 0.5368011101692512, 0.46505720531040984, 0.5368011101692512, 0.47000362924573547, 0.5819215454497209, 0.36061454194281256, 0.5459895362236575, 0.5087181414264259, 0.5819215454497209, 0.5641169208162141, 0.4895482253187058, 0.4895482253187058, 0.5275274733839221, 0.5641169208162141, 0.5087181414264259, 0.47000362924573547, 0.47000362924573547, 0.4089677386593665, 0.5641169208162141, 0.366104034227584, 0.46505720531040984, 0.5641169208162141, 0.5819215454497209, 0.5134537461722601, 0.4895482253187058, 0.5819215454497209, 0.4895482253187058, 0.5819215454497209, 0.5134537461722601, 0.5368011101692512, 0.4895482253187058, 0.4089677386593665, 0.4297297301077955, 0.47000362924573547, 0.5275274733839221, 0.47000362924573547, 0.4500694143449183, 0.5671064596645803, 0.5134537461722601, 0.5819215454497209, 0.5994147028972381, 0.5596157879354225, 0.5087181414264259, 0.5641169208162141, 0.5459895362236575, 0.6335089142402139, 0.5087181414264259, 0.6037405928443607, 0.5994147028972381, 0.5819215454497209, 0.6037405928443607, 0.5641169208162141, 0.5459895362236575, 0.5819215454497209, 0.4895482253187058, 0.5368011101692512, 0.5087181414264259, 0.4297297301077955, 0.5459895362236575, 0.5641169208162141, 0.5368011101692512, 0.38776553100876343, 0.4399512841793335, 0.4895482253187058, 0.5459895362236575, 0.5641169208162141, 0.5520685823000396, 0.5819215454497209, 0.548273511331488, 0.5641169208162141, 0.5275274733839221, 0.4895482253187058, 0.4895482253187058, 0.5459895362236575, 0.5994147028972381, 0.5459895362236575, 0.4500694143449183, 0.5641169208162141, 0.5459895362236575, 0.5641169208162141, 0.5641169208162141, 0.5819215454497209, 0.47000362924573547, 0.5596157879354225, 0.5641169208162141, 0.6166071034376109, 0.5459895362236575, 0.5459895362236575, 0.5641169208162141, 0.5459895362236575, 0.5819215454497209, 0.5641169208162141, 0.5819215454497209, 0.5819215454497209, 0.5459895362236575, 0.5641169208162141, 0.5596157879354225, 0.5994147028972381, 0.5520685823000396, 0.5641169208162141, 0.5087181414264259, 0.5596157879354225, 0.5459895362236575, 0.6166071034376109, 0.5459895362236575, 0.5275274733839221, 0.5641169208162141, 0.5596157879354225, 0.5641169208162141, 0.5819215454497209, 0.5459895362236575, 0.5994147028972381, 0.5368011101692512, 0.5641169208162141, 0.5641169208162141, 0.5819215454497209, 0.5819215454497209, 0.5641169208162141, 0.5994147028972381, 0.5819215454497209, 0.5641169208162141, 0.5641169208162141, 0.5212969236332861, 0.4500694143449183, 0.47000362924573547, 0.5275274733839221, 0.4500694143449183, 0.4500694143449183, 0.4895482253187058, 0.4895482253187058, 0.5087181414264259, 0.5641169208162141, 0.4895482253187058, 0.47000362924573547, 0.4089677386593665, 0.4895482253187058, 0.46505720531040984, 0.4895482253187058, 0.47000362924573547, 0.5641169208162141, 0.5819215454497209, 0.4297297301077955, 0.4895482253187058, 0.4895482253187058, 0.4399512841793335, 0.4895482253187058, 0.4895482253187058, 0.5275274733839221, 0.47000362924573547, 0.4895482253187058, 0.4895482253187058, 0.4895482253187058, 0.4895482253187058, 0.5275274733839221, 0.5087181414264259, 0.47737768969845035, 0.4895482253187058, 0.4895482253187058, 0.5212969236332861, 0.4895482253187058, 0.4895482253187058, 0.4895482253187058, 0.4895482253187058, 0.5368011101692512, 0.4895482253187058, 0.5819215454497209, 0.5819215454497209, 0.6166071034376109, 0.5459895362236575, 0.4895482253187058, 0.5641169208162141, 0.5212969236332861, 0.6037405928443607, 0.5520685823000396, 0.6335089142402139, 0.5819215454497209, 0.5368011101692512, 0.5819215454497209, 0.6250937173149296, 0.6250937173149296, 0.4895482253187058, 0.5819215454497209, 0.5212969236332861, 0.5368011101692512, 0.5819215454497209, 0.4895482253187058, 0.4895482253187058, 0.5134537461722601, 0.5368011101692512, 0.6390799592896693, 0.4399512841793335, 0.38776553100876343, 0.5596157879354225, 0.5134537461722601, 0.5087181414264259, 0.5015724182855074, 0.5087181414264259, 0.5275274733839221, 0.5520685823000396, 0.5275274733839221, 0.5087181414264259, 0.4089677386593665, 0.2981533723190763, 0.4895482253187058, 0.6166071034376109, 0.5459895362236575, 0.4089677386593665, 0.46505720531040984, 0.4089677386593665, 0.4297297301077955, 0.5368011101692512, 0.40106949663512614, 0.4500694143449183, 0.2501441531327157, 0.5459895362236575, 0.38776553100876343, 0.38776553100876343, 0.2744368457017602, 0.4732877044469254, 0.38776553100876343, 0.4895482253187058, 0.38776553100876343, 0.38776553100876343, 0.4089677386593665, 0.41419878807691896, 0.38776553100876343, 0.36061454194281256, 0.369747025506085, 0.4297297301077955, 0.41419878807691896, 0.32132043160061075, 0.4089677386593665, 0.5994147028972381, 0.4895482253187058], \"coloraxis\": \"coloraxis\", \"symbol\": \"circle\"}, \"mode\": \"markers\", \"name\": \"\", \"scene\": \"scene\", \"showlegend\": false, \"type\": \"scatter3d\", \"x\": [0.011213584939839885, -0.006460469538395218, -0.11313893600020287, -0.04893716888566335, -0.09286973270493946, -0.08292556598514356, 0.014895458110599682, -0.02799458185551064, 0.07152501903036795, -0.07810988246590307, 0.05409900609419149, 0.011657970513919223, -0.008217450143550664, 0.029870093639808935, 0.24251726946831614, -0.03464917554149897, 0.05054362406294144, 0.13082414569817302, 0.052950891419351075, 0.04025347962623597, 0.10869228079395094, 0.03949305310154117, 0.17245524168117524, 0.09889974061814467, 0.17072254816407462, 0.22370261254679213, -0.03640878419897252, 0.018824136785834562, 0.06999778955165405, 0.09545832687126962, -0.014405537920813234, 0.006779874606195604, -0.005524600941186945, -0.0800099866489854, -0.08131523817240219, 0.02349234721321594, -0.00415375501666717, -0.009998754075711313, -0.0471324781895587, 0.10400310674262105, 0.005695199083549784, 0.02957052783675069, 0.010737876716848747, -0.009242344473667116, -0.008923721682663385, 0.02943087014697458, -0.07376855291777579, -0.09492765917841638, -0.0674540668296915, 0.05797235205789604, 0.12632764614486472, 0.26701599453489966, 0.2063493923498278, -0.0024427308919016963, 0.1990250685488951, 0.20152069573640277, -0.009304324883816256, 0.08341646635117238, 0.1452384063814477, 0.15464423081042378, 0.13981241747998574, 0.0060403285657695234, 0.15022289985335702, 0.06521477115943666, 0.21938625041101456, 0.03309568638711033, 0.2933569937948236, -0.0025861896758361215, 0.035384911921909075, 0.09511655005128504, -0.06252531876579176, 0.08985093909937497, 0.469765747570554, 0.07095578386099433, -0.14505478733416322, 0.09057959167940244, 0.07340921326363475, -0.004330500785117787, 0.03310518068665914, 0.17334169878020558, 0.15638735837288353, 0.15819655596688897, 0.3166114538599456, -0.025417437024634816, 0.09485244534205545, -0.23978397495331447, -0.16623244031182338, -0.03814983660317238, 0.024361229000592944, -0.0067742981724787195, -0.1342865611925906, -0.06818739926909964, -0.016480653522301745, -0.07029367608572333, -0.016148201009228206, -0.08658296705992635, -0.07947440405960651, -0.0659655184768493, -0.06149157966120249, -0.1102006098199143, -0.21589385908627623, -0.07187306801792794, -0.06839125548527439, -0.14186299745297085, -0.14625141839458558, -0.11656217661659399, -0.08827815485749177, -0.07157537687769731, -0.07097725443836549, -0.04230391662959298, -0.06861039242281744, -0.16475841086323367, -0.07644861906641555, -0.04352037065403236, -0.12438883640859047, -0.08825028770105328, -0.08512744901719788, -0.09659021912983089, -0.13553248939271054, -0.023588515129277673, 0.1211859486360292, -0.014326555707818692, 0.20355563399168955, 0.19706606513045052, 0.04640090184053217, 0.15663424245393287, 0.09316256647980681, 0.1460467127366949, 0.01770326658043408, 0.17143646842478638, 0.09915816248133805, 0.010843722070814158, 0.13951420218422267, 0.04235575249456409, -0.07788118136807423, -0.17845387947072552, -0.17553991087290866, 0.008361861532714943, 0.5082098470703226, 0.39760524237151, 0.49932225695929866, 0.19053142393824793, 0.10335055743503366, 0.14292692002690152, -0.007803827189082153, 0.032544977945580464, 0.10720823514656792, 0.01501823575783831, 0.033818852788444646, -0.019793568487238473, 0.13386697318474655, 0.0899257046987645, -0.04578431518197154, 0.026339809367938415, 0.010557395710131494, -0.024853740890936, -0.06799964933083276, -0.16181496329396333, -0.052325345125002774, 0.1949362399519883, 0.04343389464500486, 0.1923750112679582, -0.06844869818972525, 0.06749111255959712, -0.09095187034012625, -0.0593222436051082, 0.09185878007681447, 0.15722658605721657, 0.04808047961787618, -0.09291845590682839, 0.12050797833397596, 0.02876031476273232, 0.159547884363037, 0.0783173363272522, 0.050853371733005547, 0.05416670047305523, -0.094946617328043, 0.05308892727427474, -0.01522389217183282, -0.006406849346099007, -0.07653842457384198, -0.0777997229194826, 0.18181615959069614, -0.006852154715702333, -0.13897866227144845, -0.04978564606815739, -0.01692847395460003, -0.05915508748415379, -0.0319600809517486, 0.00813844197836173, -0.020763589010175148, 0.08995467164952813, -0.012775837896981241, 0.06628731735978688, 0.03477498459353448, 0.17158358952931058, 0.1222691186006075, 0.04780487280633616, -0.10492697354445003, -0.017243344728969334, -0.032307110469616165, -0.10030455447613576, 0.2674768026698226, 0.00868309014591966, 0.04045773971626397, -0.0069746016698465805, -0.041272934471615, 0.15949219932156744, -0.0713920302266932, -0.12506543219562413, -0.04009580441080854, 0.051988605344864755, -0.037994057871552106, 0.024548800299260643, 0.15472152129122094, -0.050845836984021384, 0.05362641886452273, 0.01695142035596556, -0.02076613349159614, 0.060865467819566456, -0.04607103856305034, 0.027936055589219588, 0.125640800821041, 0.1096359327674427, 0.08057774427164795, 0.14726840716643244, 0.16739102390063015, -0.07580520875017764, 0.083697624086929, -0.08358352477280667, -0.11138451909086489, 0.03961928599811378, -0.010190775092247407, -0.04198597004152956, -0.10327314782022783, -0.045011923203696916, 0.04613644005963308, 0.2268954761017295, 0.18857978717374665, 0.273472322567135, 0.11631812501753488, 0.17583372185536617, -0.004307467726720136, 0.12315505447885193, 0.13291656652904515, 0.059788753765712924, 0.17773032175677655, 0.06349413837601045, 0.01927027063539316, 0.12185032841316232, 0.025819762005774377, 0.06028174349968565, 0.15682720842735248, 0.29466140992896206, 0.32278145548344805, 0.2666847841855628, 0.008770934896218783, 0.4739103348921166, 0.06936635985113719, 0.10928944270321797, 0.16447935746709286, 0.15876525865517246, 0.07239739735824502, 0.1171480802065101, 0.1200814103432369, -0.015357823843047538, 0.4413878748294019, 0.4155305359119958, 0.36342288553619323, 0.10994570600102933, 0.11349393323408706, 0.13153587119316723, -0.018273796561085087, 0.06811142400342947, -0.15306572361828477, -0.05665760349072192, 0.10836785511103757, 0.1467926385228569, -0.07949531809767181, -0.1364269456083724, -0.02642775374060608, -0.017933732896922308, 0.07156888106863891, 0.1891590147128916, 0.028130591690497194, 0.007230835986568786, -0.008182654628220907, -0.0012795534416759659, 0.048335461932598044, 0.03891008781995791, -0.004703541809402651, 0.07914545355563934, 0.06874839094827355, 0.03440290889646138, -0.005147488321459984, 0.01841125676133018, -0.020325846897523935, -0.03841309069178194, -0.0638639164584674, 0.128278424298361, 0.03408267973720494, -0.07434790380156603, -0.10531016636184579, -0.09449855599492414, -0.007967621813983528, -0.0329283607694548, 0.031949632235425796, -0.0650530276860728, -0.23338208345193373, -0.13928766565771872, -0.03578457633665297, -0.05042019006537151, -0.04240967885478375, 0.11981621677005187, 0.07221138283612773, 0.14755531640062142, 0.02321099503303038, -0.242814299764073, 0.17943443469054687, 0.18543840153368774, 0.10586619223529696, -0.01170611796117771, -0.08819937894741972, 0.010442184949242346, 0.08914023414839257, 0.1739539697254426, 0.12995371086210847, 0.040631305098458866, 0.04334669995216669, -0.03329757637456221, 0.005977360725944343, -0.10453365186949906, -0.012714709716684201, -0.04748797186157368, -0.023893702709560233, -0.10573597813426083, -0.08259301420700332, -0.039584643664162956, -0.11681508410771027, 0.011976472326055525, -0.014029107714239685, 0.015703168318575534, 0.1262911543749472, 0.026673821611234837, -0.005514374385898026, -0.025161518315027078, -0.025303488284570328, 0.08424562137654573, -0.03152970326848899, 0.038135341165678335, -0.00901256359370149, 0.0020655819661056247, -0.016085243234927323, -0.09558962749101221, -0.028646755056118942, -0.021122929724561, 0.13261059269033787, 0.07775139367700597, 0.02964525377035489, 0.1093343777302843, -0.025353922518871416, 0.16494396874071776, -0.0737244814479052, 0.0047804846084036744, 0.007487096596626426, 0.05644853895014608, 0.04449488853988536, -0.08393100764754076, -0.10466852585371136, -0.0422247305419179, 0.16557244223511558, -0.01082346474702926, 0.05561354339388317, 0.03387294299537237, -0.008910538389656298, -0.05151732737113672, -0.071884246885881, -0.040413406562956666, 0.05706344906401063, -0.00038875408545963145, -0.1591156149733935, 0.016721581642272578, -0.06170458080081516, -0.06487387752400343, 0.07825777667065731, -0.033400746544715885, -0.10282987039999761, -0.001037652296389668, -0.05696678978217579, -0.06492890439977315, 0.024644535863258786, 0.06341017237239044, -0.04933712528856989, -0.04493808310031239, -0.013177610107097419, -0.05009590070264157, 0.03617816387353349, -0.06373661787459278, -0.032147093348033576, 0.07574338655516366, 0.07976043027208492, -0.06118940736681, -0.08741729320885773, 0.029750959328078797, -0.05218196006131264, -0.01941875824236252, 0.0957486092146275, -0.02568990244252288, -0.0585566573194858, -0.0216124066851963, 0.07343160123342608, 0.059511011627292436, 0.030280153492617392, 0.03582811281981807, 0.018240969828346255, 0.1009148173790583, 0.18003939459806428, 0.3217039553658954, -0.09398934331538476, -0.031272048653067916, 0.176986631990177, -0.03846201464504355, 0.055631410006368655, 0.0069261568366146605, -0.10632595895293431, -0.12258290038861594, -0.2752902135847664, -0.289459998802287, -0.23825516684933887, -0.27597658096903205, 0.12809399745096856, 0.15733058423201923, 0.1136186536819177, 0.3003464367533354, 0.0631010309415571, 0.1916654953074828, 0.22068471291984892, 0.15842888584794335, 0.07914366395758796, 0.05986319567195598, -0.05103257566074995, -0.07476970857100629, 0.023464300255367238, -0.18335115115665654, -0.02369948105789451, -0.13066522426897986, -0.14532125340473995, -0.12510205289781168, -0.06511427052423412, 0.06310823777974037, 0.15838899941597256, 0.015692851735828767, 0.22979869033345862, 0.24893409840398492, 0.0611291902358958, 0.2577538429078556, 0.22144884029120127, 0.1785671898472743, 0.08389017906715804, -0.2047696238666609, -0.04821064661838628, 0.23906034423373487, -0.009560628826765859, 0.2338611789710245, 0.1431990796643556, 0.13256541614061945, 0.056442934936516254, 0.20691046761603651, 0.06665743034399073, -0.059443593665648914, 0.10229924297618834, 0.1273616803385342, 0.10411770109178446, 0.18877589125287564, 0.06867927815861816, -0.005284177878630437, 0.16420833059026338, 0.03186826905949498, -0.012753547419526333, 0.1252555025765501, 0.0183891175176678, -0.017648823693464624, 0.1155488093118344, 0.024751067044149363, 0.11259425407729362, 0.2649168021225786, 0.15776261630516045, -0.01658090186575543, -0.022309839566602273, -0.09584935502137676, -0.008557336568827392, -0.20178249579055785, -0.03297680819418642, 0.1766736733710359, -0.07064266353967914, -0.009807451807647142, 0.1819347189877097, -0.0945363016522421, 0.1535965829361722, -0.06462842729216248, 0.03584345208442772, 0.15129873392787271, -0.11566756419372394, -0.20167383872965208, 0.11401835528881825, -0.18060873111042244, -0.019203546451289244, -0.10019480050674223, -0.07918851579491865, -0.036487518910192425, 0.03244082564378315, -0.10162471298776284, 0.10553901504213772, 0.01818590648514448, -0.10314975567651588, -0.084943857253651, -0.11278728732352629, -0.07041482980349185, 0.015713003269780517, -0.03550795988777137, -0.18469752900469125, -0.1492466905795428, -0.2102779048875018, -0.17844724831113723, -0.19418422261426557, 0.17874204241183328, 0.09562005034492377, -0.058988899778589655, -0.13466598386488304, -0.1462443551649866, -0.14153281895837483, -0.14412322416442788, -0.17687366211854588, 0.05476953418574395, -0.06089909004323733, -0.05971779735993039, -0.04860544543051208, -0.09043860565653838, -0.10233915265704888, -0.14439217756773376, -0.2872160983996475, -0.1770714346457155, -0.022171232197606385, -0.06305330283656128, 0.030636433090602436, 0.08136612054681792, -0.009169119821885369, -0.041646855001423295, -0.0008690716653080169, -0.04199124845657435, -0.1898305461996693, -0.2674997565794569, -0.15073957564202192, 0.04868679588234238, -0.0656620552948407, -0.12633612699493993, -0.04070641941192876, -0.15566721211722573, -0.007160483708307755, -0.05820734277173735, -0.021563209316242452, 0.0025435797586013747, -0.038515430918849444, 0.009561243413882288, 0.03481518589380684, -0.08834503754591119, 0.09020332201925885, 0.07963372177625791, -0.07558637090324948, -0.009076206990624332, -0.09411011662120253, -0.182988841474323, -0.09704167638588852, -0.02444778317533294, -0.023899414958988566, -0.08897369287888642, -0.04283476900268478, 0.02881481210267629, 0.10301772675333717, 0.09921899107769055, -0.059962342753468574, 0.025406629042382455, 0.045006951433323866, 0.0036476307432538545, 0.05963197393319935, 0.04576693426867619, -0.04288685418118938, -0.07079355403220937, -0.004457293437268193, -0.06254304895883693, -0.06758500560913645, -0.07831089227823725, -0.19284286197201572, -0.19470178660361567, -0.07375314836290314, -0.14140811429467448, -0.1274496436831233, -0.20915596166499995, 0.06056409512423908, -0.06333714958978298, -0.260872162177409, -0.24381698503102714, -0.1657513331455725, -0.15090970057164918, -0.10479644928665309, 0.06474002647207068, -0.13361683123086582, -0.1153596834955245, -0.00433116350043781, -0.17916583360868327, 0.0488167758455741, -0.0845633463295969, -0.06534251821514486, -0.05665760349072192, -0.11731798500831658, -0.17083424496977787, -0.12163877747653055, -0.1719938383341395, -0.10573339848324595, -0.17509352636947412, -0.12093436346408332, -0.010281857014444947, -0.041211219168591974, -0.15852329867868253, -0.14812477603481475, -0.07833943320767169, -0.1442073300483431, -0.13214123868428024, -0.11720310880183415, -0.06138133776915268, -0.07295437618460421, -0.10595135257533249, -0.11506227342578022, -0.1978562680658889, -0.11810836912411932, -0.1136394896298937, -0.06928313030906842, -0.06650650879252983, 0.0719804757734111, -0.06899893779805943, -0.08298156283692587, -0.17526596923585153, -0.1005894626857053, -0.08061320800780447, -0.1867585737679259, -0.06581902982212405, -0.10144799657497847, -0.00754900520033734, -0.16934242448059816, -0.10272432096310442, -0.16195283568417196, -0.10320523679821297, -0.11534868562426662, -0.19820793485265045, -0.10618048226313692, -0.09503266871013792, -0.12927266865775813, -0.1616900397731229, -0.17909923218854082, -0.11242928175706556, -0.1893578645478703, -0.1673972389929364, -0.14070360592701728, -0.1551627622489782, -0.19585302312150316, -0.1919405280133578, -0.17508372241409506, -0.08497035088486693, 0.2469465798429756, 0.11777875569718126, 0.08583809549888981, 0.250716064774049, 0.10228998470848824, 0.013546700480782428, 0.059209380325878073, -0.06965753818362079, 0.03173477563639072, 0.039434555811925016, -0.0071251910099515885, -0.00628101273863059, -0.021980342022289004, 0.02133891437522536, 0.05393148467348022, 0.18851278980736774, 0.16608365056552166, 0.028292416411894315, 0.04669531936201578, 0.054777734290743056, 0.05658603182678322, -0.061380469825931726, 0.05914664180427095, -0.06227093313800787, 0.13199753960841448, 0.068355413373498, 0.09142677031162845, 0.13198185399825882, 0.028103297048376098, -0.07478185500410207, 0.011755769073123493, -0.11926126853495835, 0.13616325318426722, 0.06663510865301162, 0.12374054170418132, -0.19852594333020243, 0.24777159043878258, -0.01769821482075627, -0.07529463410393296, -0.0729506786057885, -0.011179884407762403, -0.1102506007952602, -0.09920850192739147, 0.03141846324107726, 0.11994790564601167, -0.05539703981363406, -0.17529518479382455, -0.14514018372646656, 0.039895172873078616, 0.17626479679956447, -0.06991216742318689, -0.06227222285167635, -0.07246481795884917, -0.2028621961473334, -0.19020609481432962, -0.1459877514808619, 0.015276272766292254, 0.0008212122944982589, -0.065678121063954, -0.13142553155633607, -0.08311870639429064, -0.12202099127622827, -0.13346088009107995, -0.12330008667649585, -0.08536574171781378, -0.10102764339457977, -0.10063837522154791, -0.022117987286987276, -0.027159251935458862, -0.004052236415882331, -0.030512058104194894, -0.08053138152573162, 0.054643396829291126, -0.03211152744272351, -0.05763681991234138, 0.028718786717763792, -0.06001870145845839, 0.00791185557940688, 0.04023496625561921, 0.030466029227109667, -0.08012911926161533, -0.09917497042723422, 0.011145139176515316, -0.005700185820274713, -0.0779125642913925, -0.0625377043318572, -0.05286744997556149, -0.033821186326981036, -0.030265385225992623, -0.034909815948010806, -0.04783093197335773, 0.03738343111207187, 0.07481818335109791, 0.05761649668242689, -0.011405462956934977, -0.15397532902862912, -0.1446286945165896, -0.11150055856920206, -0.04870976120634713, -0.03468117384002033, -0.09536947852458878, -0.10464748974318629, -0.11385261972407527, -0.1678734632299957, -0.15660902780618127, 0.007221759492469146, 0.045881328609424996, -0.05477462888229861, 0.008247656959163307, -0.03166374602239125, -0.11668770539932127, -0.001639182733085537, -0.03919629680365677, -0.05643433505130459, -0.21799192411464322, -0.11912376632830714, -0.06112876585815665, -0.12432973295900686, 0.03417809576472494, -0.02435148206861939, -0.04495028064676374, -0.05472356134234188, -0.03309388542078445, 0.038008351281760784, -0.010285350049816927, -0.015792123412999348, -0.04209095506972452, -0.18148762495926096, 0.06200323067957627, 0.04626391106037849, 0.2824834235058862, -0.06806939186137294, -0.0561901220446673, -0.11649099670957962, -0.118342692063108, -0.07769004842403729, 0.01505984453314792, 0.009389113689862144, -0.058343370313021156, -0.15344626527133495, 0.14007691798497543, -0.04778783152928436, -0.14073142261396734, -0.029326006470175685, 0.08798644107501188, 0.1258786386216853, 0.12356475331744901, 0.039997841837809356, -0.17490578074558297, -0.012510610056285095, -0.021949287642757404, -0.025852937967437983, 0.13559404219364332, 0.11986744307949704, 0.04233636228701126, 0.23881779976483686, -0.017433547784200462, -0.051618248015398334, 0.030064323240872787, 0.012997833650061083, -0.023173099446837767, -0.03700284111841981, -0.03754633160945792, -0.11141692345491057, 0.007965285389041558, -0.03882553100667765, -0.07948334984588908, -0.14821104888333453, -0.016045460320803933, -0.034183538285618424, 0.020747768158407294, -0.08751830556262799, -0.18856420789892167, 0.19211685984127724, -0.033356373532421935, -0.10095332202418893, -0.11882628304975384, -0.01683389397530455, -0.12411971397794125, 0.12940494702273617, -0.11222866636801988, 0.01295107721669216, -0.06304912815395425, 0.04660896803923255, 0.018343426549457153, 0.07628090080760548, -0.0646717103937264, 0.05305686053236409, -0.030232425222102646, 0.03360258888422431, 0.05824055058691008, 0.15316291303340174, 0.013955568838402805, 0.024230831320906653, -0.05860409478294344, 0.1172792065552101, 0.2466182829442296, 0.13320914135119807, -0.1091416866263322, -0.040295255715783115, 0.042947268798059754, 0.3200417127296022, -0.060631587754219556, 0.20038278131034545, 0.16693038112227787, 0.07625074434081476, 0.023713134000098505, 0.08315375104962726, -0.12718717299582452, 0.051528432203283965, 0.03365666121702503, -0.07053931997659833, 0.010417345068134914, -0.07630441097582105, -0.025098431271841266, -0.019415994212519747, -0.10211253540440515, -0.030170087704538412, 0.008865508140979793, 0.0039988592413257385, -0.12219119097190141, -0.19349054388086634, 0.00962081491868796, -0.02298622336081598, 0.015015233555006486, 0.011909413762443194, 0.03055084142446173, -0.13425096655256027, -0.19723026244262262, 0.041532664490636445, -0.06533435200463523, -0.039410823117390935, -0.018194841833385732, 0.021064209701932717, -0.14026587036150595, -0.20590467935454607, -0.12728179389551428, 0.050911140236921525, -0.11130202079423741, 0.016412943461754256, 0.05361474966025322, -0.05403989328113155, -0.1938100506960679, -0.15492799794920886, -0.181664873406805, -0.09146748285635124, 0.034883857644035204, -0.017723207707737994, -0.07113658523282423, -0.042087664123358765, 0.027895064099791193, -0.010332457495740991, 0.026973481406193878, -0.06251040276457237, -0.10868110410606437, -0.03944080734725059, -0.0074453893763207985, -0.06907654708999685, 0.023824367560016643, -0.030410097386162155, -0.11537127161568418, -0.03781081659435738, -0.09400208976099333, 0.014380301806796102, 0.030957352219783473, -0.0444443869686167, 0.03651886754654217, -0.02397210678760726, -0.021922615121115586, 0.04357705879741978, -0.043141629896239674, 0.0568314607579924, -0.05572350366053466, -0.04124196065614424, 0.03901373752932896, -0.14461914051897407, 0.008417708101137539, 0.15979805057382598, -0.18297015173001516, 0.06320066046445677, -0.10199916653334562, 0.037521121101024506, -0.0001764609926205353, -0.07289243888452993, -0.15756485163704045, 0.09116169990586567, 0.06175233862143689, 0.19230106114274734, -0.08205761298368242, -0.07752944678076912, 0.022421720267540312, 0.059975015309448355, -0.010450239673090278, 0.1311866450662311, -0.04252637038356982, -0.11153591011663795, -0.2190728537692074, -0.16570996648403583, -0.09660838940982211, -0.06323385923787372, 0.20521700713716903, -0.17309794630090353, -0.0942916757940587, 0.15568891793711861, -0.16339589917864375, -0.002232414142531641, -0.11785615708481535, -0.0769693603971786, -0.1293161903490082, -0.07285882885532777, -0.21098456222739306, -0.03882038583792743, -0.1373269808646378, -0.17967124683994934, 0.005525687774902006, 0.0335950522501388, 0.010874463983684246, -0.004159551816074495, 0.053505495341687304, 0.09639172940937714, 0.06300904663260457, -0.0627905953813375, -0.017299098757319758, 0.12440126629358605, 0.14941195111078814, 0.06453457946131919, 0.02246202225937186, 0.08070486083933273, 0.029291959659705966, 0.029010143536611327, -0.04321014778494721, 0.04693775291727795, 0.012781051073292783, 0.046539439605694004, 0.02711573134759569, 0.02183969694135482, 0.106826490052109, 0.01289101936523301, -0.017267986683968017, -0.008934385105806984, -0.05325079541111537, -0.06318766390407717, 0.03481694580777806, 0.0022069397258183735, 0.035851380440621604, 0.09069048250907615, 0.05448182991000651, 0.028055248006735665, 0.048660063826327836, -0.04156481432102836, -0.11667588207964802, 0.14902360165132503, 0.16796698924651346, -0.16429852270206963, -0.039514485355913405, 0.08827051068463732, 0.08038697861131859, -0.09428541641579899, -0.1309193267818145, -0.07103460691937497, -0.19294184389430533, -0.04109658349335334, 0.07037382697479094, 0.0268386294252409, -0.034880597019710885, -0.15560931177040713, 0.0662084038868972, 0.08661111913677066, 0.04520791490266943, -0.0057108790582472745, 0.05167511958163013, -0.10245402993325495, -0.03123117165442902, -0.018824307081159373, 0.017673519576806702, 0.1375072262724661, 0.05375692305693276, -0.10631523385585183, 0.058093648751284255, -0.20333268228904924, 0.1293435362091908, -0.017999993767519835, -0.09441624969400733, 0.058819161245543934, 0.02191109385235753, 0.11367764774429913, -0.011970850371305757, -0.13347055131069566, -0.04391193349581511, -0.0948500384251618, 0.009842784191251135, 0.09007188522485463, 0.05951102302962874, -0.013617810929607451, 0.010624663987685636, -0.029373531574442772, 0.08249926366729832, -0.05394206063095419, 0.21748680468939907, 0.16378814664270142, 0.08247555712530402, 0.16085184770693012, 0.07147589554630555, -0.05192781248889076, 0.16057744720327782, 0.0834522061144986, 0.1709907927052571, -0.039815678921841284, 0.06070235754545122, 0.046505007301843065, 0.12793414916173965, 0.08275274389873956, 0.1355153923132149, 0.23977533982502436, -0.006431419316460284, 0.21637348260640563, 0.005466402104600595, 0.10132181415911713, 0.18247928986224463, 0.16727343554868945, 0.17847541979954204, 0.2501648822169413, 0.08290000788831646, 0.20414415514565734, 0.15487429504722286, 0.13093668210417145, 0.18592684660248776, 0.15600347119056324, 0.12108490866906557, 0.1282955894300701, 0.1715837393078361, 0.12559058416865027, 0.1333904688590747, 0.16004295985401462, 0.18876643108669588, -0.022480411833063627, -0.12955586876825706, -0.07791763027578275, -0.12601718351660804, 0.007266261654802236, -0.03062875643742341, -0.11557739338140882, -0.05851436287496513, -0.0892433376893852, -0.13008509544017077, -0.11418314472745737, 0.06220978370652239, 0.14494342348006703, -0.02179073607217996, -0.015483398778595501, -0.13484126207727873, -0.06540186334274617, -0.1914495049835083, -0.2345103045189349, -0.042065184075325494, -0.04669649890456907, -0.14736319524923566, -0.07011458728509878, -0.17157563534317455, -0.07930633960953047, -0.1943519573734016, -0.15115746020223284, -0.09536654104458353, -0.09828382053865349, -0.1614074146358747, -0.19839472896573032, -0.20732845369426783, -0.14917772388282904, -0.12750423958665638, -0.19723026244262262, -0.15665913341881918, -0.19723026244262262, -0.11380972830163912, -0.19723026244262262, -0.19723026244262262, -0.20444566182216087, 0.10348098708566207, 0.011029618691801786, 0.012139813994791937, 0.04502401309462991, -0.25785197963098305, 0.2661346054033556, 0.13648263113026177, -0.05978296941235138, -0.02855924777970357, -0.07447658844726136, -0.06549215631925479, -0.06941778430654101, 0.3131557622034517, -0.09977384879797799, -0.02466717464200339, -0.14642414705633677, -0.08593631645628408, 0.037214373287578255, -0.005710068767368463, 0.1036152127497157, -0.03462878903634571, -0.16177932509707468, -0.01284672572106717, 0.19657825942028534, 0.06369488942310778, 0.1375484402728655, -0.08152203543143742, 0.2231943147641766, 0.21380612798030976, 0.018159887364511563, 0.11677891860448508, 0.2483545928572001, -0.04981600062532691, 0.03207271658129497, 0.1104537253558193, -0.032085763889353296, -0.049251725953691775, -0.005371014590627275, 0.17844161150259888, 0.09529714555375957, -0.009197562626869972, -0.09022779785808341, -0.06207414513126347, 0.2185316472285294, 0.21485544323270278, 0.06964149190670464, 0.1548456811903572, -0.011651312002769962, 0.09628989740478561, 0.1647422174835229, -0.006239102731359625, 0.03299776960076547, 0.003320589871318303, 0.16829605780949153, -0.044987289327937184, 0.057804794548492265, 0.0001973938219218721, -0.03986511553009375, -0.0393441615236384, 0.11878711474311703, 0.04783924682945766, 0.09216609982979565, 0.11910024775516524, -0.03926157934704253, 0.1758148612478099, 0.045868263656708784, 0.14342399140873266, 0.11057306741557053, 0.07656789495437516, -0.037190520444133436, 0.20558402788864427], \"y\": [-0.06304001225982492, 0.13222860145334456, -0.049697358684620885, -0.05460482569538939, -0.026522121998053448, -0.04380668392576306, -0.0666227338670514, 0.3253750535679751, 0.06473703031217945, -0.07238367608490824, -0.08150923670602143, 0.21787247151884861, -0.003191286404423384, 0.053435658897379563, 0.05567119749673086, -0.05026827978978478, -0.06622397824178566, 0.09984607638443029, -0.022073766511448666, -0.04657406630354146, 0.03454336489052995, -0.07802677514576103, -0.09663055065484426, -0.09084769133344091, -0.10120615649090112, 0.1513985648284416, -0.06439620202971548, -0.06500159203460121, 0.20580850555955407, -0.0575373081247854, -0.04704448609291392, -0.012250514400574354, -0.016995655313238222, -0.00938388094252162, -0.03932204618341208, -0.051047576768070126, -0.003318886272204827, -0.0803919116448522, -0.07800076205256147, -0.08409724794138368, -0.07341672555769715, 0.09731439764178598, -0.0827419421892357, -0.07200587741454213, -0.07992814769232563, 0.07736749640025431, 0.04927412072632009, 0.33851490758495717, 0.10171056980576847, 0.1979230922408487, 0.19302394491693103, 0.5377448916384507, 0.16506195193565285, 0.1114864689212731, 0.10265414829602777, 0.06388151069141533, 0.03454285699991811, 0.14987700276297009, 0.04521302386272542, 0.1931471721428296, 0.29454101276305816, -0.0041220431823214485, 0.021119928086282658, 0.018792276644901483, 0.06457429954457072, 0.20574294842085314, 0.16049528908566757, 0.004344095762424752, 0.21614525941370477, 0.26026428099255816, -0.022062309805281764, 0.1400871062520843, 0.12117667808977976, -0.04032559153342261, 0.18343549107317175, 0.30134713723943163, 0.35345608587579286, 0.24109984136690774, 0.05933844351651295, 0.0024270708355317353, 0.20425629001987883, 0.20022185799964948, 0.3599494506482718, -0.05496485174735787, -0.042167590484524314, 0.0680380791920518, 0.1627048590002916, -0.0528249515390834, -0.008670394087718837, 0.0839537216716844, -0.033433064883513386, 0.033524123138299056, -0.10357631384255149, -0.09759263527564446, 0.040929283608555626, 0.036179785198772414, 0.014490500492023857, 0.0015435358263868036, -0.07524983910093333, -0.07958010881234878, -0.047848234166110615, -0.06422411323480622, 0.17909096225481747, -0.07560231498203523, -0.06053701886831825, -0.06687177831753276, -0.07102633699083408, 0.14570591355202903, -0.04309330850562667, -0.06733179528853506, 0.13135159619586037, 0.0038912812438917825, 0.058982816305919054, 0.09527151029270813, 0.07176680315253178, 0.022465207623705425, -0.0713546133222462, -0.05737894920970545, -0.05389479894006906, -0.07662276289530144, -0.09576454998091444, -0.07960438403417476, -0.10595812966566008, -0.10413059203102587, -0.08197846683129348, -0.09897759281526859, 0.15597573812457818, 0.1591630826359909, 0.06485175501048893, 0.020881472374399128, 0.08565194654633206, 0.041724196354562065, -0.04746437042342624, -0.06352843077222424, -0.06355619400454438, -0.045276798141709325, -0.01934839887200733, -0.0468823259894048, -0.032930407466508695, 0.013581304064175247, -0.03819246405332891, -0.0615121323522057, -0.048471001968955006, 0.35086249375409545, -0.026321213529521773, 0.016593865972680828, 0.03777214679374753, -0.07906285106278775, -0.06958449153419863, -0.07521201664036468, -0.08624359861336389, 0.05557540290192599, -0.03756528606415728, -0.01619320414988478, -0.035385393812063216, -0.0037403782063206484, -0.028027652839351134, -0.05508473880171452, -0.05417215022348743, -0.10494665815407213, -0.06558344463475214, -0.07909875007799677, -0.061392504185238804, -0.07436571468721757, -0.05303254491185612, 0.31797587066090616, -0.0824615292635324, -0.09814288181101549, -0.08360487118593718, -0.03947812009041101, -0.09392170525635617, -0.0702753947184424, 0.07071794452284035, -0.08951716247574192, -0.08248423137192205, -0.08159078566841563, -0.05620437140259014, -0.08123904944782684, -0.07360283458333639, -0.05350126071347805, 0.05343216299081104, -0.06172095286306175, -0.06162859091514977, -0.06831321304482163, 0.0720617345247132, -0.046015789849118964, -0.07289514394286983, -0.07423650278802718, -0.011320823695584136, -0.029898428677396723, 0.020224640661625545, 0.05184569672384275, -0.052238040414598, -0.05702414926995786, 0.045712056351988294, -0.03854518201965527, 0.04040936218503044, 0.06597991714563178, -0.030484314070820383, -0.07268242820002303, -0.08172077978374755, -0.06304031227344496, 0.006203706840306209, -0.007015435842318823, 0.07524206143129968, -0.020190245916448017, -0.019185853699512298, 0.013448824253333333, -0.060916076655152356, -0.052695430839891665, 0.09344671966300296, 0.10523040485270312, 0.04954730468175495, 0.08135260859131817, 0.012587380267150188, -0.07090064538350732, -0.0809861608325928, -0.061832259884907696, 0.24790195027867357, -0.0460083030924906, -0.010393732193406858, -0.05896526752841491, -0.05905917516414541, -0.07476754564020648, -0.0570590921234257, -0.0567482618706683, -0.054516848749139375, -0.06156408794863528, -0.06237468289710813, -0.09228662286784403, 0.18067282297759588, 0.025422883945200595, 0.1836294936441583, -0.0032298597617390896, -0.0827190787198096, -0.045231217322688026, 0.0680508997184575, 0.07479264885583738, 0.016570602316257458, 0.25532183804334246, 0.07355901073177123, 0.15706749782106377, 0.19776517841426494, -0.08081258782102166, -0.07580884865432257, 0.024436501891300234, -0.018233126858535866, -0.02556694338510352, 0.015202588430950684, 0.148901605399155, 0.0677092503063748, -0.06642037259229257, -0.06267783269378166, 0.07328012930727665, -0.03506713296104041, -0.07798540123684587, -0.032960987581678904, -0.04780016355048995, -0.08027049405548713, -0.09407778216701375, 0.1241491142990643, 0.05169845895509311, -0.019883920322976676, -0.03817053707531195, 0.17390165164580826, 0.2062808175266437, -0.0861534381807453, -0.10378755051160204, -0.067075153888999, -0.06851925687087083, -0.06430853319770319, -0.08554814141557956, -0.05094668032552348, -0.02747745071808944, -0.06337602821526253, -0.0706750271264841, -0.09596941353169444, -0.06280999595079695, -0.04402911796233006, -0.05553771409526286, -0.03260834478154626, -0.05300709154621534, -0.0723164644185691, -0.09449391165716974, -0.04146231138388384, -0.06389783101001777, -0.0702141120877066, -0.0566663886481363, -0.06273365453520145, -0.07333594549349429, -0.0667376784184651, -0.08804103811384242, -0.07002369651277696, -0.04989221058506865, -0.037328532094367387, -0.03686699963498685, -0.07235269861046786, -0.06135320272262537, -0.0763645541643115, -0.08969028871817387, -0.07294999438487948, -0.08132322010101177, -0.07357230146281739, -0.07726444253234913, -0.06835850073183582, -0.07106627494891583, -0.05733896255106955, -0.053298098223957986, -0.06979276648704023, -0.05851028957628334, -0.06720564952173225, -0.07527622877897518, -0.0535768596612079, -0.0743407191409297, -0.07238217008993718, -0.08125092556702558, -0.07084260726036272, -0.04692462377969678, -0.08884953879915165, -0.08900196072013798, -0.05667283249262567, -0.049872502526817054, -0.05992451969820918, -0.057708655738224604, -0.05153592078508136, -0.09679397338026083, -0.07165529291755605, -0.05169465941580278, -0.08197837548535745, -0.07755339361837785, -0.08016903293006963, -0.06044139931244802, -0.07405331227584568, -0.07019239959033943, -0.059542754611923425, -0.04158840256596842, -0.04028104565314185, 0.089526965763936, 0.03328842064840634, -0.04898744868075303, 0.03722029552436701, 0.06277945434444197, -0.030865930652305387, 0.03708860789587824, 0.09401467462874329, 0.022040955854970044, 0.030787050637416057, -0.08342385820566788, -0.061576657314696755, -0.06688263619512332, -0.05949721909452643, -0.060012475462368556, 0.13605189517337923, -0.023807146287836898, -0.05777936787823073, -0.058314580673841175, -0.03587273907052054, 0.08999314741764813, -0.027371234539316208, -0.0414278938811402, 0.005942891474460654, -0.09097435735774875, -0.06033462985734353, -0.04423233821565316, 0.06321657370088264, 0.33078182476702833, 0.003471378697734698, -0.0673526247113057, -0.07017636424495928, -0.06496540156563078, -0.0669279703800791, -0.05869609845655729, -0.06570481812570766, -0.07585361938215716, -0.07100108898789086, -0.06922173361895151, -0.05506344033056435, -0.044122553048123736, 0.09229914205606317, 0.18118673829259674, 0.10103322743545651, -0.029800022182791402, -0.010427818620002789, 0.015045123587091532, 0.029193545438555457, 0.06039807965808199, 0.19546249420877387, -0.04961127766140546, -0.058472391493238116, -0.06374148304894833, -0.03700171666327311, -0.021889026766490925, -0.05312135928845767, -0.0694040765731091, -0.05639751087607199, 0.24574888678929827, -0.04324770296287989, 0.10456604071027328, 0.017875475071101675, -0.07929557597782037, -0.07017871193212112, -0.042422471741347355, -0.059383305442526714, 0.13078260645754425, -0.0019813003973352013, 0.10956649023885097, -0.03237740469835316, 0.047172995987832735, 0.11268270544121874, -0.03244253305058087, -0.01763330569650442, 0.0527827607526964, -0.060925808704149625, -0.05676801344073648, 0.04018168646852239, -0.04068575902299519, -0.04623958114602219, -0.1245971660454832, -0.06922293950506296, -0.04620660086827029, -0.06671972015032922, -0.06381713987777055, -0.10802986117619172, -0.08798548567776783, -0.028459443492731627, -0.05820424798849719, -0.06460890793104682, -0.05259241194181934, -0.07687380751132324, -0.07704208415427723, -0.08300608374282202, -0.10347443197897824, -0.10241436672933923, -0.11026487626013991, -0.07815241407722921, 0.13286822039658977, -0.11037856248219029, -0.10222149368932522, -0.09254224485587498, -0.08478009636642764, -0.057601808029009716, -0.06159583369259873, 0.10973928841723483, -0.01471621454286642, 0.033330331146268655, -0.02588777825399018, -0.03128022950909589, -0.03742235398797635, -0.058667563774873595, -0.07616882709539637, 0.1154205764597831, -0.0032904794030643933, -0.07455175829944569, -0.023831705670250836, -0.08356915550378569, -0.09803398342922418, -0.0940216837690638, -0.08213748810897971, 0.0814554203693406, -0.054963155361835075, -0.09113089785935849, -0.1342566865248297, -0.09981953583541721, -0.11730024371343559, -0.10940934992642513, -0.10353412928389369, -0.12282514401881543, -0.09758576179054308, -0.0873342211882054, 0.19820790806871724, -0.05567201594758053, -0.04582343729463105, -0.0542398872975369, -0.062470957749450294, 0.23413076659079668, -0.04214384074377042, -0.05846070774553327, -0.04252731099934485, -0.04710891839960989, -0.05932062809065731, -0.06270966284597132, -0.05184981222686474, -0.09357521113483519, -0.08290790307708433, -0.09398533060049205, -0.09797803622231724, -0.09158754104541583, -0.07241831356025812, -0.07355894020536952, -0.06094110576826382, -0.08067303944652227, -0.05359486023114837, -0.06335691489552935, -0.06580036196205634, -0.03252449343204499, -0.04900616160896235, -0.05957239771025665, -0.05242769372493943, -0.07734529339809985, 0.1834751932805054, -0.06629437198392683, -0.0738704317806905, -0.06851409373255166, -0.07058187030837926, -0.09398212414621783, -0.04461372503928446, -0.05382426287728594, -0.061784799309045096, -0.06390437550051269, -0.062163311892196274, 0.0868291218138839, 0.18781115452081384, -0.029614808753625776, 0.18332020443049737, 0.12834241197015447, 0.07449997683016717, 0.0876035845693391, -0.059877305777267714, -0.07789829461848514, -0.06541837932664932, -0.04518424140415115, 0.1167170589481642, 0.15976744101189672, 0.266427739635322, 0.17605043413969793, 0.17849850913108894, 0.05754410652963266, 0.29314480598651654, -0.019288483150121473, 0.14264394344195688, 0.0019468435452213064, -0.0014922021934029815, 0.07217685354840248, 0.10823195968080487, 0.07755500717153649, -0.023110689975395296, 0.04739874280040597, -0.023047873954031586, -0.02707453957693228, 0.08933904740815343, 0.46872611209438886, -0.019934670766904097, -0.07364116869582162, -0.06188751283933315, -0.03272013769649073, -0.050882752673158275, -0.06798112150036045, -0.06295986608261625, -0.07360434129751739, 0.10262146769906558, -0.05074787662821334, -0.0038393008232425322, 0.20981177516319904, 0.046880588415152774, -0.05075092782466008, -0.033045400508615326, 0.069677488024588, 0.0032324808793440865, -0.06592600765195376, 0.06144142472964959, 0.04837645210817554, -0.03119792288281549, -0.060842765311770616, 0.049809368900612175, -0.056876636941492816, -0.051307233927628246, -0.08116920948265917, -0.06823307559952874, -0.047828130227732225, -0.050309919648543644, 0.16173531033423083, 0.012919573155253774, 0.05607552660673288, -0.061366237307188244, -0.057563032671441305, -0.030605497330076854, -0.05195299440525003, -0.06270163083565095, -0.07250307555713993, 0.1930830408247564, 0.060122738021421845, -0.017898134195965847, -0.06274811540402775, -0.06263329555329185, -0.06879668835860213, 0.20952085668949377, -0.07070431451882968, -0.059521548039712116, -0.058407552694597444, 0.18838458361436577, -0.024897347185303804, -0.06662763815711868, -0.05073227676252513, 0.16165390425182874, -0.027517858372178704, 0.07262900236441558, -0.008998939902551512, 0.020828951746963423, -0.07356121869513428, -0.0478382753607044, -0.03199503472317091, -0.04836516112874117, -0.044254286455110654, -0.049259011828926794, 0.21255369574168032, 0.05172461902424441, -0.03222373415615025, -0.05447877844244049, 0.17522454626116157, 0.18229730646868353, 0.11546032221881722, 0.03379698364383922, 0.13772641836885172, -0.0706750271264841, 0.2326059650233047, -0.03623906714923559, -0.05553142142582913, -0.0585981236693094, -0.05716834228635333, -0.05620872524973971, -0.04228650678564806, -0.04826680287943519, -0.042972735746609446, -0.05163330776659525, -0.06380909935381965, -0.06815466142611341, -0.05259433173789258, -0.05297621020812857, -0.06837924000280785, -0.06762430403433814, -0.0566353027705673, 0.1853385724892566, -0.061435022967129736, -0.05211099773118241, -0.06878856755883211, 0.25249903359749637, -0.03215280703751848, -0.014621835367878394, -0.05045826263360595, -0.06728814483360078, -0.08207522668887211, -0.061044021054316236, -0.06934680595124447, -0.0663780279808807, -0.05896987793503272, -0.09188076935292054, -0.07049231954546065, -0.07995295848417285, -0.05480464836858978, -0.05986945573511209, -0.05492720979883778, -0.06625122516679507, -0.06411531123868122, -0.05190145724942288, -0.07180075326754674, -0.06361791977631223, -0.06468232928637684, 0.25884563631749696, -0.04217461359154712, -0.06107640228570668, -0.047070882091592645, -0.05301792791514951, -0.06078283689430767, -0.05602516268432571, -0.055840361917496195, -0.051235480404128834, 0.09817879515875791, 0.045187463878412146, 0.11392287223699464, 0.04301561642790322, 0.09453004513273436, 0.24895993325788038, 0.10986188686227966, 0.17802501996566264, 0.1287319689701331, 0.19995146837891398, 0.07207643997598322, 0.09786006980419183, -0.018023778737588078, 0.01862990591117367, 0.002850259781991258, 0.23391555573012024, 0.20561963015154486, 0.12781268673838875, 0.21653811110849555, 0.15729018512368115, 0.15259531226711945, 0.046270372732540324, 0.08866241009057632, 0.11116746057850573, 0.08982356599811502, 0.3316639872428446, 0.027576914469431325, 0.03698153620199799, -0.05480061304547591, -0.0006290478512078425, 0.09650274260720393, 0.05072765845195733, 0.10185565246168472, 0.14087443403168282, 0.028802010781989396, 0.06737021977132113, 0.07102872685713466, 0.11212340462976043, 0.02191779405467304, 0.058969789121447645, 0.12202679147908421, 0.26360722952262944, -0.018206947487807306, 0.17858169341319458, -0.05925437081576039, -0.07223216066431444, -0.09365602813607916, -0.04502166273327278, -0.039614293653719435, -0.034308329020042015, -0.05742329371803221, -0.04045657406831028, -0.04859787688190274, -0.05543350574432711, -0.03143072018802782, -0.05861788254493899, -0.043963987729545365, -0.0373283842289767, -0.04483788775690069, -0.04650299530815282, -0.04321138456462379, -0.04581452545790126, 0.18993725444991932, -0.042787736945522896, -0.06517719971531666, -0.05768173842285218, -0.05680817541663932, -0.04883183753380023, 0.09398722244839061, -0.0589166418186695, -0.06249214038459064, -0.044336942242667765, -0.06005714939449459, -0.03555757521935518, -0.0626182840405182, -0.06024030200274414, -0.07497962347232903, -0.06866835538311135, -0.05217243978760252, -0.02588409836808818, -0.05716948965505575, 0.16675160300421513, -0.03817782313462474, -0.05602766561682159, -0.03756762186951413, -0.04802266681814402, -0.05744823476958819, -0.05349367010218588, -0.04904935624640712, -0.0400492484715757, -0.056882693681278525, -0.059935290869986196, -0.07076113127882527, -0.0718494923683874, -0.03639767932395272, -0.07861942044588131, -0.08840472751807771, -0.0721714128241132, -0.07006385188752824, -0.07999563141530568, 0.14202709289456256, -0.09571667049385672, -0.09849101344103856, 0.0507007706250088, -0.03468295854851149, -0.0233536083400318, -0.025531125146096897, 0.09207793647443939, -0.05408853479974658, -0.058130177475248096, -0.08661018291725699, -0.07201630690892817, -0.06742935418679885, -0.08371147058831734, 0.14807679953099592, -0.07312146161007445, -0.06722650543312163, -0.06746376095519463, -0.074666560716649, -0.06345756344999659, -0.07749528464767878, 0.17197746635839317, -0.014496931661827282, -0.04394136871547639, -0.05191438333893554, -0.020629572217775616, 0.004848973323667813, -0.0205854250858253, -0.02887307469671204, 0.12216693040899794, 0.014374687941451997, 0.08262933740737737, 0.07016273743070016, 0.3497515539731787, -0.043067443242264455, -0.0550497565708031, -0.06086637800893199, 0.25917310010806505, 0.023214995272782528, 0.23668433554992752, 0.19199766315636116, -0.04761510557633684, -0.08335345966968087, 0.2274942652276817, 0.1598925704647713, -0.06282253905082219, -0.08680243338169379, -0.09155466926939412, -0.09532338574429892, -0.07895100183021267, -0.04395993830313101, 0.18063817590636663, -0.003000098806782193, -0.06555882225720246, -0.0848975668561075, 0.1441413136198842, 0.0036001465243721523, 0.17832194489787923, 0.20015434576693242, 0.01697762749939376, -0.041369051517034926, 0.06647564301454931, -0.03068547669957528, -0.06231432184829879, -0.04105122305112621, 0.12107407169344815, -0.06378699759704902, -0.06383817144908918, 0.053547775019820505, -0.011737866462855462, 0.030942976030785094, -0.06271018149097247, -0.07452927834560091, -0.07094926282572392, -0.04976836746648447, 0.494785564333001, -0.03724614215109612, -0.004792387624377179, -0.028860481101977576, 0.2289345690756441, -0.05857318516569594, -0.0863131464193568, 0.11432787329608933, -0.04230792515106514, -0.0525141721142754, 0.273033141656189, 0.03136338846356507, 0.05998580671730513, 0.19256691101918658, 0.02024020556786582, 0.1188221357631541, 0.05561727465070002, 0.07115002159492415, 0.11777724073030651, 0.04840352932893884, 0.09234770600704208, 0.18620830261755364, 0.07484688307145357, 0.136392268100458, -0.01051671440379105, 0.11072245390583117, -0.03272965006082138, 0.3236917402360432, 0.2390542233015259, 0.13338138040878228, 0.41342654217799923, 0.24341374606364144, 0.039311186081979824, 0.015630028186616345, -0.055846957095985965, -0.053026041019355805, -0.04167076400946092, -0.04602825662926319, -0.02241602022052943, -0.055221699540533985, 0.29041645428744806, -0.07479916480063334, -0.051880255544574226, -0.03790093861816472, -0.01158528763747072, -0.03769753451088214, -0.06063307273315917, 0.13375359048652202, -0.0492851098133414, -0.0373987361427689, -0.03029869883706741, -0.03526471122332832, -0.036493369449443515, -0.04725691485537838, -0.034523991450317794, -0.050764537559039855, -0.04873172170179886, -0.04601221182272396, -0.02235248080768825, -0.03526836173189989, -0.03301335942263076, -0.057744007253402625, -0.0562579604252714, -0.054939423219817034, -0.05127325014082899, -0.0548384992771023, 0.39097837805811947, 0.03610371145464263, -0.024187178974827785, 0.03255346174159475, 0.0626242304153955, -0.05057189526050549, -0.035346705736952935, -0.04907450031815856, -0.052851951465703505, -0.06810619576815648, -0.06701110760261338, -0.05682489775741879, -0.04938895988489878, -0.059607410027666646, -0.06490557190528005, 0.1996085243778068, -0.027672854812699602, -0.05589119922520352, -0.04549621738091936, -0.0367187113935607, -0.04610336059032412, 0.16767519567983613, 0.03455330847794479, -9.677723134243838e-05, -0.08561517886658258, -0.07409286633656181, 0.13793836238793436, -0.023651815156214062, 0.022688532391575523, -0.021761469875424003, -0.0576498679998743, -0.06843305620440332, -0.02356779859298284, -0.01535273334783386, -0.06327405339462301, -0.03373390452746624, 0.0713217329093321, -0.029179106817210972, -0.0714137601046759, -0.04888160571012757, -0.07715315927385506, -0.05874315235758222, -0.04879801218147614, 0.10862645310951889, 0.0451917550829696, -0.07659564473251883, -0.08266021068875766, -0.07585693757154409, -0.1057748115956536, 0.04924652841604236, -0.08343344568408931, -0.06157627867221097, 0.18226046772989102, -0.014735577864523732, 0.0801215208005468, -0.036744943562780706, 0.1221178678584204, 0.06941506151394869, 0.36575787620492395, 0.08481398809393537, 0.05647446338417832, 0.012670528969143925, -0.011474977798154285, -0.026668003178496467, -0.04615923799056392, -0.018945892648862636, -0.06647335999616327, 0.037534199908020094, 0.00031556406197270534, 0.13803156269111994, 0.03337307824841791, 0.08726014911742651, -0.007792285870334727, -0.03946546483379387, -0.04218232594751814, -0.04392170197038938, 0.05336688598063158, -0.06654447285211366, -0.052202195820677304, -0.07675954968821594, -0.08452121894713333, -0.07955859059892899, -0.06219297022091953, -0.0744030114327211, -0.09389121850216109, -0.08286417550414822, -0.0780201954142659, -0.06847770847388072, -0.07438091903163017, -0.06543122063925978, -0.05152760611241295, -0.027651380928939536, -0.06207432600103108, -0.06349379263923136, -0.07594674003188202, -0.07800441767051698, -0.06860339877342873, -0.10391250664319454, -0.07251537346298413, -0.0846601573215496, -0.0693292545804086, -0.0718364995647401, -0.05413923641373296, -0.08149063766794029, -0.06311559063242378, -0.04595910549081284, -0.06631750983728768, 0.4330703749126471, -0.06591135241044775, -0.06894956359167863, -0.06257021638527657, -0.07946764027087072, -0.0748622173407306, -0.09871906115159891, -0.0439326528298853, -0.06492999234924864, -0.06458585241154605, -0.092689848390974, -0.05261812378034403, -0.0744235547508688, -0.06119930499888284, -0.051506690238194416, -0.06349355293839361, -0.09550486389065233, -0.055829604160876393, 0.07746167405270238, 0.014685336117251238, -0.03560222802205338, -0.06224602918968489, -0.07412463792531973, -0.04821095011864788, 0.09635056636079223, -0.06230716972970524, -0.09393853153563621, -0.05395169198154691, -0.03582165813046266, -0.057029883484746864, -0.0715501592680889, -0.05060792272328428, -0.0592941392783682, -0.05291072237656857, 0.14297082922031856, -0.0735407277389728, 0.20753594021094543, -0.043167428779567585, -0.05703064779529757, -0.07263113219221096, -0.030997825549418212, -0.05561933046919236, -0.045506565702571555, -0.014308872970251603, -0.09441134719527808, -0.09604679247593094, -0.09595625730375691, -0.08712496379302043, 0.06672015483346228, 0.3193506171886044, -0.03539177623236211, -0.021308888079716332, -0.05492862334684356, -0.10513579716848144, -0.0942780754020717, -0.11719319851928364, -0.08319558126540447, 0.2626721932549232, -0.01738273831110995, -0.1035041111463086, -0.11410682217287514, -0.0843946746147996, -0.09951197280657122, -0.07491577922200544, -0.10686726250087326, -0.08610700893362315, -0.11427027038616205, -0.12003583787344112, -0.08490378504240492, 0.2473866065751525, -0.1026611171675574, -0.10432640492214158, -0.12264373269392033, -0.11441086736127573, -0.11268371375341313, -0.11881168376385184, -0.10191526926911489, -0.12084831293586695, -0.11104749316929487, -0.11015630607839783, 0.08498656162530736, -0.09227664492438419, -0.09142591283562143, -0.10839949170936526, 0.11294160265880815, -0.016310250895001457, -0.046315464084221096, -0.10778324148649313, -0.10375777210850282, -0.026850674111447932, 0.0331651863664731, 0.01420851290303289, 0.1044235682786747, -0.003321844189917674, -0.0103444792812762, -0.014680255372940376, -0.024109350656121027, 0.016713522052692758, 0.20926390514598633, 0.09512972177546591, -0.07123265077607965, -0.057047797917367325, 0.11210759194231583, 0.035219868865582996, -0.025637932410481817, 0.05164715424147295, -0.06578040471321422, -0.06395365611192119, -0.03876224397735971, -0.06989629388198164, 0.12122973402949341, -0.026172263985008302, 0.2440458413759841, 0.34030212894223133, 0.004555467226066685, -0.0022379788141203335, -0.002780674152419749, -0.05654368769825511, -0.039516141370623085, -0.05269056102599807, -0.05736830916333982, -0.0638843268062964, -0.059778140150073475, -0.050764537559039855, -0.05861772298708796, -0.050764537559039855, -0.06166589343942819, -0.050764537559039855, -0.050764537559039855, -0.053618940066102086, 0.012669084655468676, 0.12048863893912898, -0.004072713730297421, -0.042496935910617935, 0.08696805153752497, -0.023685569878193098, 0.25906388482695664, -0.009305581923204912, 0.34373361007541114, -0.00039731380894009926, 0.14241920329103377, 0.07984221051603348, 0.06759356334960058, 0.03879562741606362, 0.15978654279294918, 0.1409189646546464, 0.07218355479787729, 0.040960593331640836, 0.19089735212405995, 0.2194899206655837, 0.14755576230407458, 0.1039669209824087, 0.11170625258290436, 0.18514060556438958, 0.22474556963670086, -0.02553706718742486, -0.02913863764011848, 0.07161187749680349, 0.28393431260826163, 0.17866508894650263, 0.0988026265131331, -0.07904980535185833, 0.09934275312749, -0.0376039747309595, -0.0032200563354908753, -0.07707593690706867, -0.08119621066476765, -0.05577889753562751, 0.20999791323478625, 0.004875097611728637, 0.07091167510143022, 0.6314055232436575, 0.3858357827825866, 0.03506693379987673, -0.01987092580449577, 0.03078774473971637, -0.05398230651264305, 0.22961508980202355, 0.003786362157661793, -0.057919611437907324, -0.03401720483646713, -0.0742610298729846, -0.04679629436808936, 0.2803463540543289, -0.03192073743250614, -0.06008464746139901, 0.1673889810788825, 0.2533374324133112, -0.04506699571567864, -0.05574685949821544, -0.048986706236837145, -0.0641329444070141, -0.06349956951665095, 0.18985863468182052, -0.06254179103573732, -0.05898490001139672, 0.04389992397894749, 0.2333896669420441, -0.038189866206610495, 0.19777176970841104, 0.04415886725855021], \"z\": [0.037957198383107536, 0.0903670202841867, 0.04772932695350889, 0.052354394001718096, 0.17150290695996345, 0.07828256812379514, 0.011926308460768436, -0.04735558820660808, -0.08616695592052069, -0.043700464857917946, -0.04241228690790034, 0.020395814756293245, 0.1444921490867977, -0.0025206331984001466, 0.0570714585627862, 0.07924306748166024, 0.03323337900245288, -0.00838387217583971, 0.07466907035605135, -0.03787240538907889, -0.07234171969170117, -0.025879042052486867, -0.08947355608701732, -0.09458114026962217, -0.11744443695288405, -0.05415990162678442, -0.011178817176332366, 0.020723623070580975, -0.046191001219127545, -0.1025452092576586, -0.06721306001103236, -0.052681636692795214, -0.08183852797202743, -0.06434230673859748, -0.05904521422207186, -0.09397190218347198, -0.05114386773765689, -0.07103692943509018, -0.058920544246320074, -0.07620267834795817, -0.03846242124186729, -0.12139744051883336, -0.09631702407968595, -0.06534986194361005, -0.0579240709757796, 0.11301627602572785, -0.012456514889917102, -0.032601027288892484, 0.04150890392233847, -0.0954851696582045, -0.06354859618375786, 0.08603396127634044, 0.054938439929301815, 0.10497034619322926, -0.11458455612191246, -0.049517402281195534, 0.03735720460773936, -0.05719460268703321, 0.01645723335776131, -0.10637694648452423, -0.07144720778668828, 0.00991786306700256, 0.18175590329391747, 0.13215712636743915, -0.024636312967026185, 0.12076705583680108, 0.29654387788755665, 0.05210109758730674, -0.02841813240421387, -0.015582652395214107, 0.04170129274096486, 0.03294722993050562, 0.15237231263495546, -0.022017075044267267, -0.03540444845366733, -0.03671689020754719, 0.003980229869023857, 0.11250021544213157, 0.18311905424198835, 0.2565920708711364, 0.1242155751765437, 0.2199137658318689, 0.13210256649230584, 0.05074470917464671, 0.1066051361262632, -0.1741286934551021, -0.08486328671225941, -0.131260866295737, -0.18020480886874232, -0.23457640390533582, -0.05928637703357758, -0.00373766102947082, -0.19123909463285432, -0.206072269212475, -0.0790014986004147, -0.014731700219279038, 0.019933345123559394, -0.01978380463772469, -0.06771222499320455, -0.12617672047301834, 0.04016380203573169, -0.00746721684854047, -0.0971309737510152, -0.10636387276236574, -0.02404402245227524, -0.03452793361383532, -0.057862338174718, -0.07377866019208143, -0.003876623951891443, -0.0497822400070977, -0.07425961186810923, -0.02354308195714162, -0.06941840156358349, -0.10178865389313498, -0.011250474923866426, -0.0497937845545402, -0.05939996279599852, 0.021062772250437584, -0.028784166593010103, -0.07897820576886698, -0.12338182029127676, -0.07088125137821207, -0.10841166500176229, -0.1282346790390338, -0.07854510067403227, -0.10531197286230357, -0.14884027467994834, -0.25241237047718995, -0.116820489041765, -0.1141885284363718, -0.21420450346273567, 0.0708469616553011, 0.13781251904178063, 0.01656962595747686, -0.008232990256141343, 0.04305573054314676, 0.05073296871974735, 0.16261018044948966, 0.3401010127105662, 0.44214628764765446, 0.2764964027185303, 0.09008552178166966, 0.11296121715966023, 0.012018518165180668, 0.05140131261921584, -0.025187693725926517, -0.05833375358058685, -0.04691754394227967, -0.008965730150841272, -0.047585951121535984, -0.05702388256573183, -0.12802018539028706, -0.022017027117282532, -0.051750504091148425, 0.0007758074137898689, 0.1336269145324771, -0.001604592095015628, 0.00883726880779219, 0.035366901006756685, -0.13729612444720338, 0.020876564222914066, -0.006771362848017075, -0.0011764541996086193, -0.013306620463095093, 0.023923877313710543, -0.10643454025938669, -0.05221520538926001, -0.10700035451144295, -0.07166400281778683, 0.03680826388059232, -0.09462920257308507, -0.017013711934342188, -0.16881159169112328, -0.09034352733642731, -0.06197820012165652, -0.05155577996644057, 0.019069617570871097, -0.05115391323542508, -0.039841374898850854, -0.016731072131426248, -0.04150442995112591, 0.008060077657236656, 0.0698290478597934, -0.02865995468814177, -0.10002630510531503, 0.06760355343156928, -0.04779160945602164, -0.06616311468223475, -0.017894560186138293, 0.009655998734346896, -0.012010587893805342, -0.007465156460543514, 0.05954251662454948, 0.06570899072144969, -0.04399460150401867, 0.037917519016952464, 0.09473912902043886, 0.06372125390085502, -0.023900415711921273, -0.04740709962082125, -0.09577795645679837, 0.014095943613206605, -0.03634102145100822, -0.017963431018525152, -0.05171415835727394, 0.06199476326812091, 0.07005555667725386, -0.01985674339290589, -0.017042992781445842, 0.029527327086799702, 0.030945811401689415, -0.028110726975095784, -0.06122543228693292, -0.005285891617895545, -0.037676395142783564, -0.03853613407617431, -0.0484381311332185, 0.018585475104477653, -0.08635176463567606, -0.056262604632678806, -0.05036309120768396, 0.051374458687867455, 0.05472503067414146, -0.008690573284290983, 0.06435323911411704, -0.015647879844193375, 0.1268027367317215, 0.04016561130718573, 0.06824501489511184, -0.13999888782878117, -0.08262959290517537, -0.10450703744364408, 0.024074833734300485, 0.00044223148218093875, -0.08319555583387335, 0.04032260844122995, 0.26829593892215775, 0.055399646454997314, 0.015189460218725906, -0.017584508721578393, 0.06405736095252991, 0.10482038112744721, -0.008416581225585883, 0.01880626995957098, 0.06729464414712269, 0.018447679343668123, 0.0069509155957105965, 0.3588822319727729, 0.3776092091604766, 0.012908425010492627, -0.02939910697931521, 0.10059310161727618, 0.12270296735756449, 0.21532103556834475, 0.21503742263016537, 0.13059982010036128, 0.2681052064848086, 0.2107657010713335, 0.025486522308452823, 0.09466899899621548, 0.12435816435366061, 0.22821420355655614, 0.34835527002598643, 0.1840251196076203, 0.0295209976884918, 0.08309375502312581, 0.10647179529570541, 0.022127625805306046, 0.11935438964502273, 0.05891237880350771, 0.046074921100012725, -0.027684658337470528, 0.06718914816167856, 0.016609303364066172, -0.02064849736078982, -0.03222632900030954, -0.09651877685714796, 0.009820655999915866, 0.08621012231022647, 0.026684526345850636, 0.029202699694609004, -0.016690855359178632, -4.351211660330847e-05, -0.05872938586168464, 0.10148047965195063, 0.0205587966070703, -0.007618974578780864, 0.019152844974920532, 0.03730415419209594, -0.04790246642015452, 0.001729606734921983, -0.07909026415529355, -0.03623258886393921, 0.0730009901368003, 0.09082144515203118, 0.04383868150307113, -0.024896331201610854, 0.005698629195471221, -0.06298619579032028, -0.06495308660603248, -0.02822884869822176, -0.0960920509624187, -0.06912036786553381, -0.07309125888192218, -0.007994166542086173, -0.004204661460018361, 0.07177263479479433, 0.027677436606682204, -0.05566628542070353, 0.004535388164181494, -0.03992760380622006, -0.033455733113780646, 0.06853807236508394, 0.00044950825507521317, 0.008365997582477077, -0.0022365276313309197, -0.024913479570021272, 0.038406784343601875, -0.034581743597200475, 0.021893780366999224, 0.10302118790928157, 0.0798504879776996, 0.023367150147183244, 0.013777957134314399, 0.11156521016492509, 0.0311906025111466, 0.054353382355137904, 0.08943259827719657, -0.06403923913164909, -0.02862100342932513, -0.06421562414213014, 0.00022171146492341805, -0.023354585084578137, -0.02850268127956323, 0.031490011309513885, 0.10786158406835987, 0.10350832994407569, 0.11071916123907033, -0.055639645460279, -0.0837253761644142, -0.12860693366059364, -0.11382958478979721, -0.11105048294769337, 0.016273770450335373, -0.019259798460178074, 0.09790698186581234, -0.013656637541729928, -0.06991427177025979, 0.017894273670041122, -0.009515045357074368, -0.0025711256330383314, 0.026560539603284652, 0.09972984900152483, 0.17318901915719834, 0.01765856503784902, 0.051322202533652515, 0.07759184048207149, 0.18286444538075267, 0.13944710737774757, 0.1439855354559051, -0.0026051207564019153, -0.0957946352315484, 0.02128169115244305, 0.10878719722383189, 0.019477331285116653, 0.005171125296293108, -0.00793086182043833, -0.028294349433515376, -0.09039448954297102, 0.015301815365755884, 0.05378311548866847, 0.04227394284242049, 0.02373219496826956, -0.03741336187907429, -0.02831250704820492, -0.02944291118783304, 0.04565785282500486, 0.10778243607970955, -0.08522579736078878, -0.034897159482647905, 0.04952098271894417, 0.041896096250163446, 0.10033956031301201, 0.07355367057276976, 0.042041452143065955, 0.13853608194070421, 0.06960930783540457, 0.09254539588555392, 0.0517171662458604, 0.014748794877452398, 0.14176924954045467, 0.23485209486922703, 0.06129898793058246, -0.016166181089725985, 0.07333197112412987, 0.11836262859914551, -0.021329571543399407, -0.0589318696863369, -0.03802664936697879, -0.024862798828086032, 0.028350080185040212, 0.10978832963986532, 0.039637168549189146, -0.02145632488300485, 0.024489804681610217, -0.014326243546578524, 0.05540889604408483, 0.0706986759552112, -0.034440658481732785, 0.021646298942638916, -0.03507149023083945, 0.019684916374213636, 0.05067654059093661, 0.08266144269340606, 0.0813843743267125, 0.19197788424921616, 0.15023028975015512, -0.19238289379003212, -0.06749758383190924, 0.09938575151630276, 0.055377991358790915, 0.0013070859726360881, -0.06617957945509327, -0.042328703002751975, 0.16141994534169402, -0.010475856371744793, -0.06339519907758401, -0.03617496337842557, -0.11311123989549157, -0.14030897116901608, -0.09219058124384631, -0.12691549281929312, -0.1212067821468327, -0.09899529722421309, -0.03260028199176613, -0.10563135159687626, -0.13631788157331412, -0.13045196504576254, -0.15102672297627875, -0.052777113482937954, 0.046116613490850764, 0.00012527670332088256, -0.15025599554283275, -0.09369609219432241, -0.11951692851769416, 0.0024263089031814344, -0.019935118057072067, 0.035218662092677114, 0.020099643399925614, -0.007513290754535643, 0.06531284269109047, 0.013650386513218864, 0.10640537143426662, 0.25749792958554535, -0.04138224713946679, -0.08656932187639824, -0.048940468301410384, -0.07583063083277645, -0.1353948074368712, -0.01364193797621022, -0.15449904650731264, -0.2650023600901485, -0.17616753274356875, -0.19745753344354824, -0.17311215753428535, -0.15741597745937555, -0.2590246486763429, -0.09467146147545123, -0.07651211525831025, 0.022181114997228416, 0.03631946826498099, 0.11557794975974607, 0.040839333177099015, 0.06491869904586127, 0.019847875735996393, -0.029762237884249317, -0.04247875306620782, -0.0875253044299554, -0.06534300110776796, -0.07666796535842475, 0.03334862543904334, 0.06446231063033314, -0.09962917936098843, -0.07828082087981529, -0.10068674755191316, -0.09438978662905158, -0.12617983679446787, -0.025934995587121874, -0.05436465404346814, 0.007023772689063855, -0.07832388141757385, -0.001665476459065349, 0.022677239041465392, 0.06409232817264748, 0.15345475997591695, 0.08792870271256853, 0.084906226823846, -0.02535902564963388, -0.01567860539243447, -0.0715585347448267, 0.011446421989586187, 0.0026565095423954255, -0.05518423385259713, -0.08842573840753333, -0.10230339906962115, 0.07495051816574114, 0.06608471585224668, 0.0027145836251336727, -0.01644170859316153, 0.01778932309629853, 0.015332343166230255, 0.07816298956220548, 0.06431022452301634, 0.07704282610483877, -0.10557630133530084, -0.06934004667191222, -0.04497669545709885, 0.012728629440948798, -0.04980627466971437, -0.06780316954535424, 0.051152417428243765, -0.04220504430822587, 0.01454071707945703, -0.048963169482553616, -0.02737217290647185, -0.13772928857284683, -0.11531986334083462, -0.056674225704984, -0.010870853731017151, -0.0490256454599256, -0.020274027539857884, -0.04862914507262348, 0.041659144330383514, 0.100840271410121, 0.06567028278805835, 0.03938922772303935, -0.05608190749417162, 0.022872708948113683, -0.001972396823899828, -0.019239197863573733, -0.03546226629151189, -0.0025467286870071828, -0.03305149721145583, 0.003914833661762233, 0.17242110036420372, 0.10242191344721986, -0.0068207596667013365, 0.006652063816688048, -0.057445342464795296, -0.057365716991648025, 0.016595383702235317, 0.10631949097047848, 0.05171988255572033, 0.09737730448756017, 0.030295669777378045, 0.07234558463390571, 0.028435018127947038, 0.2880199273221788, 0.005826895605541759, 0.012385116134554579, 0.0791906775236336, 0.018773748478454016, 0.011747915203563728, -0.1694435294969018, 0.025528796072077472, 0.03950156227021701, -0.05775138385102957, 0.016260629307429324, 0.06679957509186801, 0.10490356135042044, 0.07721599295250411, 0.03548309813168693, 0.028760166305766968, 0.027100427155904765, 0.05171409597028955, 0.13974606506805068, 0.042901315634311175, 0.11312853764710844, 0.01966985683227249, 0.044682639546244546, 0.05319288007377317, 0.08801219060752605, 0.04103538950147167, 0.03535399691777657, 0.015193045755317701, -0.08554028250138994, -0.013350791035788043, 0.017319522194833528, -0.012140676831634513, -0.038096868603604804, 0.026844828783801802, -0.041929460282736114, 0.020167012834949743, 0.0583971444770205, 0.014903075935540078, 0.04208447680055806, 0.028365146027170534, 0.051713092507269354, -0.04440242110878899, 0.01849763240741989, 0.0845512066963321, 0.02552763135355088, 0.06720314054243184, 0.030511670785436776, 0.05695901080640218, 0.12446511338047875, 0.03506047689111808, 0.02129420177036198, -0.09990891592831852, -0.03543696279104201, -0.12995162047553774, 0.001291117357965654, -0.03720527315436304, -0.03222632900030954, -0.09138112173171578, -0.053598005503094674, 0.014152126695694066, -0.014611162891318651, 0.016194671771773618, 8.333664155533413e-05, 0.09855754736025034, 0.09636782048874658, 0.09645238260790519, 0.020032851849314012, -0.021437661213478686, -0.009300306376900387, 0.035052182545900396, 0.030701862944183894, -0.01819771845572635, 0.0017874493998610976, 0.03148334781187602, -0.042353763056186204, 0.0013337308536612313, 0.01015837882474115, -0.021962756051226703, -0.09002181353882503, 0.005705458712500907, -0.008115771829557417, -0.03510009688718172, -0.026788441033104196, -0.049257194146454526, 0.01942530074322675, -0.01319802664235304, -0.0015062507309908958, 0.007251740163234971, -0.017351167916766733, -0.015700381801907845, -0.03772123439859921, 0.011038065559171773, -0.015135690917776957, 0.013347796024300546, -0.0060082362457695776, 0.012561107330828002, 0.01325641661136325, -0.03074636500865884, 0.010791909633567241, -0.014316999105599368, -0.05505503196025925, -0.0014950329828704756, -0.049814303266490015, 0.02346382998651188, 0.038010309457068944, 0.02110504603081942, 0.02520226293694404, -0.016702527405545623, 0.020045076382613807, 0.019872630585547103, 0.018766583002591247, -0.061804108081483594, -0.014759356663688415, 0.08664555188872218, -0.0020451276935083513, 0.012344402473041817, 0.0422199439622097, -0.15044502567420528, -0.10048618250600266, -0.05809621868410297, -0.05773928476816914, 0.056437991094407156, -0.03555110491564201, 0.017348345617882174, -0.05365433550805349, -0.15870483657264609, -0.12395716513454826, -0.0753795326417412, -0.09325952909180103, -0.05526171069881971, -0.030629372490470087, -0.10335701937798555, -0.03149876437454514, -0.09327438915709449, -0.027012228366082854, -0.09847817469738329, -0.08364064778289398, -0.07068018789151224, -0.09499905186799369, -0.08235993775336793, -0.036906343252983496, -0.06530489304243857, -0.014838464554723266, -0.0896029209190809, -0.07371097003286434, -0.10827441515468236, -0.046179379479551384, -0.08965454652825304, -0.007451211219527101, 0.01582497473233698, -0.03400639763585751, -0.06740183099437341, -0.10281839134856065, 0.007504470987119219, -0.0266443997576943, -0.08036000235270757, 0.0790498473866439, 0.06741952075392497, 0.05848390961712791, 0.09550148229813339, 0.18711116325051297, 0.08392411807035438, 0.05800434414821344, 0.13518731142308033, -0.004383756345617264, 0.023290254654917904, 0.08649312683195215, 0.1478363200025424, 0.1029058790768778, 0.09351777726969068, 0.07276465885028517, -0.027619348735614956, 0.04753832010631796, -0.01546072348010432, 0.0006360906295485485, -0.0068238985085874735, 0.04641487319749123, 0.01734932393618629, 0.03685162286240857, 0.039679672431761515, 0.10817944234636286, 0.023406686965581056, 0.09337416918444459, 0.050956806047912084, 0.024566127807044466, -0.05771952919561756, -0.006668113294665511, 0.04716447707505119, 0.1411284488527397, 0.057564677948184796, 0.008401647262271642, 0.11158792234129042, 0.042319110751480114, 0.13989654222641965, 0.0828603910178504, 0.025806313845209594, 0.027422929810435245, 0.06677067249285018, 0.1207881159724225, 0.034780182720997414, 0.02547509074125417, -0.02643672731029279, 0.012704054900295208, 0.1934612173254812, 0.008381900722750118, -0.07643243839914181, -0.030606892869258894, -0.038020289797312076, -0.08111304805774418, -0.12218078637711187, -0.1331502122350105, -0.1592372449422271, -0.026858964043454857, -0.009155817363689317, 0.03237354446375041, 0.0035628014089149292, 0.0664371806040509, 0.09281187287087202, 0.030646091227081645, -0.07796064152039066, -0.004803992608775123, -0.047899668289218676, -0.05221008444618715, -0.09613591762888048, -0.049357027649720796, -0.06648749305115954, -0.045420266845755085, -0.06177139885835319, -0.011248270443132308, -0.008117793699024415, 0.023255776785162212, -0.06385037522481223, -0.07616975548328885, -0.09545601491864072, -0.06684175119403007, -0.06000403110761808, -0.07463128669927199, -0.1446572656822617, -0.04770927321180632, -0.06061985610089515, -0.030694916075594155, -0.038721924230976854, -0.07778286202020171, -0.07372715707399033, -0.013455430428967258, -0.021791702131231855, -0.07351170325512937, -0.017264425357916877, -0.021434683143445984, -0.05591874837881574, 0.046426579712512774, -0.041214499618898226, 0.04178630067977335, 0.18115223746350534, -0.0067248715750520905, -0.0757071738127658, -0.08578253395236113, -0.12413990248571904, -0.03712477150395414, 0.04881853105865118, -0.06840622523896431, -0.012466820914594326, -0.01434515154267663, -0.05194614231450757, -0.0881767937369212, 0.07557465498883315, 0.14574243123372424, 0.00875365878896628, -0.07419740766074717, -0.033676290578052256, -0.017595227825337987, -0.0035511778026692795, 0.015065135844630522, 0.09369641742511407, 0.00441973893244906, 0.004965254970864759, 0.0015824629427731464, -0.038499699609998335, 0.04790453095151909, 0.007514048756870684, 0.004446940487837259, -0.04015714211198876, -0.048179501465773246, 0.02615292778142959, -0.15071291208269805, -0.04476475946355341, 0.0023025105373585468, -0.012323052210453489, -0.07819089183183063, -0.01591516397827461, -0.06085249277542788, -0.05868873254663208, 0.11670270982092555, 0.01945537143221414, -0.02390301099653151, 0.008034375441086225, 0.03398513442477645, 0.0989873420560406, 0.09397621238512686, 0.0256559798358543, 0.1403142252503253, 0.057934354743530696, 0.056386735713351996, 0.08569482468317077, -0.11625072304172351, -0.045499008639455225, 0.125001479863936, 0.05218291141690323, 0.13667943683568023, -0.06242893881545373, -0.06522863555331675, 0.08111957227986001, 0.16057322193377077, 0.20342297980287488, -0.07300062064872985, 0.05249227004231787, 0.053549767543595195, 0.0033623146040115143, 0.08595823535155848, 0.006964112214876663, 0.1385234986657685, 0.11796620826949201, 0.2017480951695722, 0.0414380231457803, -0.1409665895760048, -0.04269090446474125, 0.06628866764443907, 0.11556011573731383, 0.2231621865594552, 0.14163687770006017, 0.03735906970003809, 0.045338657999108294, 0.03731067599217618, 0.1441241392244233, 0.1744889651051628, 0.16188821908762105, 0.1516606052231088, 0.10773859440497978, 0.1017536182844107, 0.02499560301106642, 0.09828818333048296, 0.09003703266043618, 0.10027928206318462, 0.1560141220329558, 0.15240366875129235, -0.016504639554445807, -0.02711355113285931, 0.03278794185797463, 0.1034451126640271, 0.03780590585343803, 0.07907832787287308, 0.2047560196920819, 0.018346577636005106, -0.03623177586262398, -0.03327884802616798, 0.03879304735209978, 0.13168623937565968, 0.09129702375234945, 0.05259933538588325, -0.029203101756504722, -0.018027934180180352, 0.06622005183833399, 0.08332463882212185, 0.061253144775983905, -0.005564945778309167, -0.0031454398342405324, 0.17659210221716282, 0.060503902936579174, 0.10225185540376044, 0.15527892431040363, 0.07931594858757442, -0.0335914143861175, 0.03604176688577702, -0.011934931630892922, -0.07787113517894535, -0.021778621099723852, -0.008467651268924034, 0.08565964431011606, 0.0964334963339796, -0.09692219133834837, -0.07079443624488041, 0.04393824288816939, 0.24191695976011243, 0.20777718345297191, 0.010802520394136412, 0.005357177865047039, 0.11208078149748928, 0.014079273173459214, 0.007272225053146832, 0.011657350333550441, -0.03548290544296997, -0.0006596109812134686, 0.11050559604283212, 0.2340703273552084, -0.029319313345337484, -0.09895108423380632, -0.052074860091863406, -0.043415484548203535, -0.14123031766501692, -0.0860010208851716, -0.10520735564281605, 0.015297550599253891, -0.0344144944041813, 0.05222029378622984, -0.13901510321891375, -0.03635259738068221, -0.004290418573850486, -0.040300305601265796, -0.21842709275339772, -0.049503103299717834, -0.023081105176642847, -0.00627549580741191, 0.0790031762221229, -0.0005925925598679653, -0.003830050761443456, 0.16212212897482037, -0.019345867101590673, 0.00884222299114794, 0.14308431053222623, 0.20795597024339108, 0.14236915541283054, 0.062021127420119726, -0.03384746774921844, 0.0747597247342014, 0.07310316556686815, 0.07482003215533682, -0.006168378647689465, -0.00771837913491865, 0.08473880742982247, -0.03776851981027575, -0.055867247884457176, -0.049785388302556716, -0.005255136683686961, -0.038941805759044226, -0.10287245863230461, -0.0352266514568565, -0.047455269640279185, -0.002803767415580683, 0.0010641220635570238, 0.015023371867621538, 0.08291991334688492, 0.18053551538504375, 0.06564953269461314, 0.0197723343239024, -0.03829899255534531, -0.0392639603297093, 0.0008873955434901855, -0.07303556760864822, -0.04160258553007038, -0.0688464156439079, -0.03211570262145687, -0.04208230915154819, 0.028975992919242497, -0.05518445057226296, 0.034752267912971604, 0.11591086427567243, 0.028561607848762986, -0.1128450737674218, 0.018067164609687998, 0.02572976586289261, -0.0331568984014349, -0.09314840706964196, -0.016492610281461064, -0.11953764573672766, 0.011102130081652945, -0.01019560882761104, 0.022057307412406937, -0.10136659058729362, 0.006250752487681112, -0.07184835835743929, -0.03694303085410921, -0.000348743004645706, -0.015405011246837935, -0.13014737347003053, -0.07200622739262943, -0.07985374073450428, -0.019999937237452543, 0.06362550645940981, 0.030651237086363792, -0.031194490029838425, 0.09146650189793812, 0.08241826118844471, 0.021901946556674545, -0.039800176225633074, 0.06006007168191552, 0.15228049027029106, 0.08659700471617239, 0.011379269026178931, -0.0457523354676356, 0.037594014732358204, -0.02899757399310019, -0.1492190200951132, -0.05103843996139975, -0.08355747336610458, -0.004488471393883964, 0.04690307125408434, -0.015606422093795903, -0.033225453839731446, -0.0002713791905640694, 0.09626161872593086, -0.06968464304546965, -0.1058042772385718, -0.11968041810193458, -0.10507501803759522, -0.10167756843768626, -0.0685384815027171, -0.07861641694704648, -0.12924159047140676, -0.11284145422811143, -0.16502627081782426, -0.13226359177860464, -0.11500489747735382, -0.16697665693883057, -0.05613021190708878, -0.12778511747651347, -0.19711939397549852, -0.13259853514457573, -0.13295557053913176, -0.07646788098042084, -0.11220241022899097, -0.09822855181461725, -0.12479195209178742, -0.06788250834210478, -0.1408089848916014, -0.1725950462704417, -0.07432355194832513, -0.2729150382910093, -0.14091652161506815, -0.10671169240853452, -0.15702377741512358, -0.14350768262497832, -0.15087659901308917, -0.19058297248728917, -0.14114814591838176, -0.17940171771101374, -0.1568736854428863, -0.1266864142707226, -0.18095670095778096, -0.1429705836000707, -0.14163819515761156, -0.1436178818441736, -0.20014226278567965, -0.15468948558397097, -0.14124602788036178, -0.13560686697666924, -0.12056748261558081, 0.02529763406757514, -0.01752331324428491, 0.052201070700250596, 0.05598514936399787, 0.09667804242143789, 0.07519208945972139, 0.019187475101018616, 0.008386576859751449, 0.005188739791723134, -0.11237717265277729, -0.00990716061244598, -0.014041978147226498, 0.07861574828448896, -0.041860126507823725, 0.008597684605210699, -0.013481955654439751, -0.05414528439525932, -0.06097499715845881, -0.02011485816469318, 0.034280406700756084, -0.029961405638673538, -0.017625597230123535, -0.006734030174938081, -0.039638395631485975, -0.1556066376255961, -0.00992389752798411, 0.014213339085466277, -0.029977452962968606, 0.021371171304681785, 0.00760580005591066, -0.009241732949578925, -0.016029802080635817, 0.020244029884285333, 0.001282015932784979, 0.02499560301106642, -0.006029247517344333, 0.02499560301106642, -0.002665467081236727, 0.02499560301106642, 0.02499560301106642, 0.0012349460312701176, -0.17586845436156837, 0.06410852462514144, -0.02730631959933206, -0.05314674533523049, -0.07964755137971483, 0.047607018375934104, 0.0925033414757103, 0.08611373419710051, 0.007285878526755713, -0.025635548025252232, -0.004920803502421393, -0.06789639989331105, -0.14067480598022247, 0.0021308292492888494, -0.06881760204441767, -0.06623898195567744, 0.046072411700242205, 0.048935819012706695, -0.02320022456506132, 0.02142466050612076, 0.0053579361175115645, 0.03637036547855104, -0.020388796097006282, 0.0053090774719382955, 0.032838499475743174, -0.10586878772031215, -0.0008479196607147333, 0.13941033810932946, 0.0060103268689949375, -0.06740745058962977, -0.043411677596703835, -1.7056105124316713e-05, 0.04853141364880538, -0.145986306170999, -0.09895732614675457, -0.06227627488080253, -0.07038079874396978, 0.06646829305311869, 0.17292285932808749, 0.21997675160666508, -0.12920923563100228, -0.07392661630070425, -0.05697175022091156, -0.02418018034683389, -0.03366725980727201, 0.051034744005863976, -0.038537850769658544, -0.04378245180245514, 0.22132213332456951, 0.1329016339084742, 0.1391268117149552, 0.004261713004273169, 0.11180043447806444, 0.03834348818938371, 0.1480417487911714, 0.08244321095193739, 0.0014930826652625225, 0.05868897992304423, 0.11290381031280725, 0.09382440437385817, 0.12031822376931141, 0.06087973491621709, 0.07171898642808382, 0.12295783848121794, 0.10904701540111839, 0.06921565685701496, 0.08553757049063528, 0.09298166152467603, -0.033342040182392514, -0.10913606460975962, -0.12809548816188313]}],                        {\"coloraxis\": {\"colorbar\": {\"title\": {\"text\": \"color\"}}, \"colorscale\": [[0.0, \"#0d0887\"], [0.1111111111111111, \"#46039f\"], [0.2222222222222222, \"#7201a8\"], [0.3333333333333333, \"#9c179e\"], [0.4444444444444444, \"#bd3786\"], [0.5555555555555556, \"#d8576b\"], [0.6666666666666666, \"#ed7953\"], [0.7777777777777778, \"#fb9f3a\"], [0.8888888888888888, \"#fdca26\"], [1.0, \"#f0f921\"]]}, \"legend\": {\"tracegroupgap\": 0}, \"scene\": {\"domain\": {\"x\": [0.0, 1.0], \"y\": [0.0, 1.0]}, \"xaxis\": {\"title\": {\"text\": \"PC 1\"}}, \"yaxis\": {\"title\": {\"text\": \"PC 2\"}}, \"zaxis\": {\"title\": {\"text\": \"PC 3\"}}}, \"template\": {\"data\": {\"bar\": [{\"error_x\": {\"color\": \"#2a3f5f\"}, \"error_y\": {\"color\": \"#2a3f5f\"}, \"marker\": {\"line\": {\"color\": \"#E5ECF6\", \"width\": 0.5}}, \"type\": \"bar\"}], \"barpolar\": [{\"marker\": {\"line\": {\"color\": \"#E5ECF6\", \"width\": 0.5}}, \"type\": \"barpolar\"}], \"carpet\": [{\"aaxis\": {\"endlinecolor\": \"#2a3f5f\", \"gridcolor\": \"white\", \"linecolor\": \"white\", \"minorgridcolor\": \"white\", \"startlinecolor\": \"#2a3f5f\"}, \"baxis\": {\"endlinecolor\": \"#2a3f5f\", \"gridcolor\": \"white\", \"linecolor\": \"white\", \"minorgridcolor\": \"white\", \"startlinecolor\": \"#2a3f5f\"}, \"type\": \"carpet\"}], \"choropleth\": [{\"colorbar\": {\"outlinewidth\": 0, \"ticks\": \"\"}, \"type\": \"choropleth\"}], \"contour\": [{\"colorbar\": {\"outlinewidth\": 0, \"ticks\": \"\"}, \"colorscale\": [[0.0, \"#0d0887\"], [0.1111111111111111, \"#46039f\"], [0.2222222222222222, \"#7201a8\"], [0.3333333333333333, \"#9c179e\"], [0.4444444444444444, \"#bd3786\"], [0.5555555555555556, \"#d8576b\"], [0.6666666666666666, \"#ed7953\"], [0.7777777777777778, \"#fb9f3a\"], [0.8888888888888888, \"#fdca26\"], [1.0, \"#f0f921\"]], \"type\": \"contour\"}], \"contourcarpet\": [{\"colorbar\": {\"outlinewidth\": 0, \"ticks\": \"\"}, \"type\": \"contourcarpet\"}], \"heatmap\": [{\"colorbar\": {\"outlinewidth\": 0, \"ticks\": \"\"}, \"colorscale\": [[0.0, \"#0d0887\"], [0.1111111111111111, \"#46039f\"], [0.2222222222222222, \"#7201a8\"], [0.3333333333333333, \"#9c179e\"], [0.4444444444444444, \"#bd3786\"], [0.5555555555555556, \"#d8576b\"], [0.6666666666666666, \"#ed7953\"], [0.7777777777777778, \"#fb9f3a\"], [0.8888888888888888, \"#fdca26\"], [1.0, \"#f0f921\"]], \"type\": \"heatmap\"}], \"heatmapgl\": [{\"colorbar\": {\"outlinewidth\": 0, \"ticks\": \"\"}, \"colorscale\": [[0.0, \"#0d0887\"], [0.1111111111111111, \"#46039f\"], [0.2222222222222222, \"#7201a8\"], [0.3333333333333333, \"#9c179e\"], [0.4444444444444444, \"#bd3786\"], [0.5555555555555556, \"#d8576b\"], [0.6666666666666666, \"#ed7953\"], [0.7777777777777778, \"#fb9f3a\"], [0.8888888888888888, \"#fdca26\"], [1.0, \"#f0f921\"]], \"type\": \"heatmapgl\"}], \"histogram\": [{\"marker\": {\"colorbar\": {\"outlinewidth\": 0, \"ticks\": \"\"}}, \"type\": \"histogram\"}], \"histogram2d\": [{\"colorbar\": {\"outlinewidth\": 0, \"ticks\": \"\"}, \"colorscale\": [[0.0, \"#0d0887\"], [0.1111111111111111, \"#46039f\"], [0.2222222222222222, \"#7201a8\"], [0.3333333333333333, \"#9c179e\"], [0.4444444444444444, \"#bd3786\"], [0.5555555555555556, \"#d8576b\"], [0.6666666666666666, \"#ed7953\"], [0.7777777777777778, \"#fb9f3a\"], [0.8888888888888888, \"#fdca26\"], [1.0, \"#f0f921\"]], \"type\": \"histogram2d\"}], \"histogram2dcontour\": [{\"colorbar\": {\"outlinewidth\": 0, \"ticks\": \"\"}, \"colorscale\": [[0.0, \"#0d0887\"], [0.1111111111111111, \"#46039f\"], [0.2222222222222222, \"#7201a8\"], [0.3333333333333333, \"#9c179e\"], [0.4444444444444444, \"#bd3786\"], [0.5555555555555556, \"#d8576b\"], [0.6666666666666666, \"#ed7953\"], [0.7777777777777778, \"#fb9f3a\"], [0.8888888888888888, \"#fdca26\"], [1.0, \"#f0f921\"]], \"type\": \"histogram2dcontour\"}], \"mesh3d\": [{\"colorbar\": {\"outlinewidth\": 0, \"ticks\": \"\"}, \"type\": \"mesh3d\"}], \"parcoords\": [{\"line\": {\"colorbar\": {\"outlinewidth\": 0, \"ticks\": \"\"}}, \"type\": \"parcoords\"}], \"pie\": [{\"automargin\": true, \"type\": \"pie\"}], \"scatter\": [{\"marker\": {\"colorbar\": {\"outlinewidth\": 0, \"ticks\": \"\"}}, \"type\": \"scatter\"}], \"scatter3d\": [{\"line\": {\"colorbar\": {\"outlinewidth\": 0, \"ticks\": \"\"}}, \"marker\": {\"colorbar\": {\"outlinewidth\": 0, \"ticks\": \"\"}}, \"type\": \"scatter3d\"}], \"scattercarpet\": [{\"marker\": {\"colorbar\": {\"outlinewidth\": 0, \"ticks\": \"\"}}, \"type\": \"scattercarpet\"}], \"scattergeo\": [{\"marker\": {\"colorbar\": {\"outlinewidth\": 0, \"ticks\": \"\"}}, \"type\": \"scattergeo\"}], \"scattergl\": [{\"marker\": {\"colorbar\": {\"outlinewidth\": 0, \"ticks\": \"\"}}, \"type\": \"scattergl\"}], \"scattermapbox\": [{\"marker\": {\"colorbar\": {\"outlinewidth\": 0, \"ticks\": \"\"}}, \"type\": \"scattermapbox\"}], \"scatterpolar\": [{\"marker\": {\"colorbar\": {\"outlinewidth\": 0, \"ticks\": \"\"}}, \"type\": \"scatterpolar\"}], \"scatterpolargl\": [{\"marker\": {\"colorbar\": {\"outlinewidth\": 0, \"ticks\": \"\"}}, \"type\": \"scatterpolargl\"}], \"scatterternary\": [{\"marker\": {\"colorbar\": {\"outlinewidth\": 0, \"ticks\": \"\"}}, \"type\": \"scatterternary\"}], \"surface\": [{\"colorbar\": {\"outlinewidth\": 0, \"ticks\": \"\"}, \"colorscale\": [[0.0, \"#0d0887\"], [0.1111111111111111, \"#46039f\"], [0.2222222222222222, \"#7201a8\"], [0.3333333333333333, \"#9c179e\"], [0.4444444444444444, \"#bd3786\"], [0.5555555555555556, \"#d8576b\"], [0.6666666666666666, \"#ed7953\"], [0.7777777777777778, \"#fb9f3a\"], [0.8888888888888888, \"#fdca26\"], [1.0, \"#f0f921\"]], \"type\": \"surface\"}], \"table\": [{\"cells\": {\"fill\": {\"color\": \"#EBF0F8\"}, \"line\": {\"color\": \"white\"}}, \"header\": {\"fill\": {\"color\": \"#C8D4E3\"}, \"line\": {\"color\": \"white\"}}, \"type\": \"table\"}]}, \"layout\": {\"annotationdefaults\": {\"arrowcolor\": \"#2a3f5f\", \"arrowhead\": 0, \"arrowwidth\": 1}, \"autotypenumbers\": \"strict\", \"coloraxis\": {\"colorbar\": {\"outlinewidth\": 0, \"ticks\": \"\"}}, \"colorscale\": {\"diverging\": [[0, \"#8e0152\"], [0.1, \"#c51b7d\"], [0.2, \"#de77ae\"], [0.3, \"#f1b6da\"], [0.4, \"#fde0ef\"], [0.5, \"#f7f7f7\"], [0.6, \"#e6f5d0\"], [0.7, \"#b8e186\"], [0.8, \"#7fbc41\"], [0.9, \"#4d9221\"], [1, \"#276419\"]], \"sequential\": [[0.0, \"#0d0887\"], [0.1111111111111111, \"#46039f\"], [0.2222222222222222, \"#7201a8\"], [0.3333333333333333, \"#9c179e\"], [0.4444444444444444, \"#bd3786\"], [0.5555555555555556, \"#d8576b\"], [0.6666666666666666, \"#ed7953\"], [0.7777777777777778, \"#fb9f3a\"], [0.8888888888888888, \"#fdca26\"], [1.0, \"#f0f921\"]], \"sequentialminus\": [[0.0, \"#0d0887\"], [0.1111111111111111, \"#46039f\"], [0.2222222222222222, \"#7201a8\"], [0.3333333333333333, \"#9c179e\"], [0.4444444444444444, \"#bd3786\"], [0.5555555555555556, \"#d8576b\"], [0.6666666666666666, \"#ed7953\"], [0.7777777777777778, \"#fb9f3a\"], [0.8888888888888888, \"#fdca26\"], [1.0, \"#f0f921\"]]}, \"colorway\": [\"#636efa\", \"#EF553B\", \"#00cc96\", \"#ab63fa\", \"#FFA15A\", \"#19d3f3\", \"#FF6692\", \"#B6E880\", \"#FF97FF\", \"#FECB52\"], \"font\": {\"color\": \"#2a3f5f\"}, \"geo\": {\"bgcolor\": \"white\", \"lakecolor\": \"white\", \"landcolor\": \"#E5ECF6\", \"showlakes\": true, \"showland\": true, \"subunitcolor\": \"white\"}, \"hoverlabel\": {\"align\": \"left\"}, \"hovermode\": \"closest\", \"mapbox\": {\"style\": \"light\"}, \"paper_bgcolor\": \"white\", \"plot_bgcolor\": \"#E5ECF6\", \"polar\": {\"angularaxis\": {\"gridcolor\": \"white\", \"linecolor\": \"white\", \"ticks\": \"\"}, \"bgcolor\": \"#E5ECF6\", \"radialaxis\": {\"gridcolor\": \"white\", \"linecolor\": \"white\", \"ticks\": \"\"}}, \"scene\": {\"xaxis\": {\"backgroundcolor\": \"#E5ECF6\", \"gridcolor\": \"white\", \"gridwidth\": 2, \"linecolor\": \"white\", \"showbackground\": true, \"ticks\": \"\", \"zerolinecolor\": \"white\"}, \"yaxis\": {\"backgroundcolor\": \"#E5ECF6\", \"gridcolor\": \"white\", \"gridwidth\": 2, \"linecolor\": \"white\", \"showbackground\": true, \"ticks\": \"\", \"zerolinecolor\": \"white\"}, \"zaxis\": {\"backgroundcolor\": \"#E5ECF6\", \"gridcolor\": \"white\", \"gridwidth\": 2, \"linecolor\": \"white\", \"showbackground\": true, \"ticks\": \"\", \"zerolinecolor\": \"white\"}}, \"shapedefaults\": {\"line\": {\"color\": \"#2a3f5f\"}}, \"ternary\": {\"aaxis\": {\"gridcolor\": \"white\", \"linecolor\": \"white\", \"ticks\": \"\"}, \"baxis\": {\"gridcolor\": \"white\", \"linecolor\": \"white\", \"ticks\": \"\"}, \"bgcolor\": \"#E5ECF6\", \"caxis\": {\"gridcolor\": \"white\", \"linecolor\": \"white\", \"ticks\": \"\"}}, \"title\": {\"x\": 0.05}, \"xaxis\": {\"automargin\": true, \"gridcolor\": \"white\", \"linecolor\": \"white\", \"ticks\": \"\", \"title\": {\"standoff\": 15}, \"zerolinecolor\": \"white\", \"zerolinewidth\": 2}, \"yaxis\": {\"automargin\": true, \"gridcolor\": \"white\", \"linecolor\": \"white\", \"ticks\": \"\", \"title\": {\"standoff\": 15}, \"zerolinecolor\": \"white\", \"zerolinewidth\": 2}}}, \"title\": {\"text\": \"Total Explained Variance: 55.45%\"}},                        {\"responsive\": true}                    ).then(function(){\n                            \nvar gd = document.getElementById('5fd309f0-8495-4a39-9dcc-ba153ae58f11');\nvar x = new MutationObserver(function (mutations, observer) {{\n        var display = window.getComputedStyle(gd).display;\n        if (!display || display === 'none') {{\n            console.log([gd, 'removed!']);\n            Plotly.purge(gd);\n            observer.disconnect();\n        }}\n}});\n\n// Listen for the removal of the full notebook cells\nvar notebookContainer = gd.closest('#notebook-container');\nif (notebookContainer) {{\n    x.observe(notebookContainer, {childList: true});\n}}\n\n// Listen for the clearing of the current output cell\nvar outputEl = gd.closest('.output');\nif (outputEl) {{\n    x.observe(outputEl, {childList: true});\n}}\n\n                        })                };                            </script>        </div>\n</body>\n</html>"
          },
          "metadata": {},
          "output_type": "display_data"
        }
      ]
    },
    {
      "cell_type": "code",
      "metadata": {
        "tags": [],
        "cell_id": "00016-241606b4-e79c-4c79-9c40-2ff782f66f10",
        "deepnote_cell_type": "code"
      },
      "source": "",
      "execution_count": null,
      "outputs": []
    },
    {
      "cell_type": "markdown",
      "source": "<a style='text-decoration:none;line-height:16px;display:flex;color:#5B5B62;padding:10px;justify-content:end;' href='https://deepnote.com?utm_source=created-in-deepnote-cell&projectId=d79defa5-2359-4699-82dc-d6bf5eddd7a7' target=\"_blank\">\n<img alt='Created in deepnote.com' style='display:inline;max-height:16px;margin:0px;margin-right:7.5px;' src='data:image/svg+xml;base64,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' > </img>\nCreated in <span style='font-weight:600;margin-left:4px;'>Deepnote</span></a>",
      "metadata": {
        "tags": [],
        "created_in_deepnote_cell": true,
        "deepnote_cell_type": "markdown"
      }
    }
  ],
  "nbformat": 4,
  "nbformat_minor": 2,
  "metadata": {
    "orig_nbformat": 2,
    "deepnote_notebook_id": "d9f562ce-f958-43bf-9c21-8fea2c38d12d",
    "deepnote": {},
    "deepnote_execution_queue": []
  }
}