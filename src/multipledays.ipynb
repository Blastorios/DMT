{
  "cells": [
    {
      "cell_type": "code",
      "metadata": {
        "tags": [],
        "cell_id": "00000-546ffa0c-2897-4e5b-858c-486884b71971",
        "deepnote_to_be_reexecuted": false,
        "source_hash": "f484dad2",
        "execution_millis": 1,
        "execution_start": 1617870718974,
        "deepnote_cell_type": "code"
      },
      "source": "import numpy as np\nimport pandas as pd\nimport matplotlib.pyplot as plt\nimport seaborn as sns\nimport statistics\n\nfrom mlxtend.preprocessing import minmax_scaling",
      "execution_count": null,
      "outputs": []
    },
    {
      "cell_type": "code",
      "metadata": {
        "tags": [],
        "cell_id": "00001-56e15367-beb4-416c-9060-36e325825d8e",
        "deepnote_to_be_reexecuted": false,
        "source_hash": "5ea52be5",
        "execution_start": 1617870489905,
        "execution_millis": 1,
        "deepnote_cell_type": "code"
      },
      "source": "df = pd.read_csv(\"new_data_no_missingvalues.csv\")",
      "execution_count": null,
      "outputs": []
    },
    {
      "cell_type": "code",
      "metadata": {
        "tags": [],
        "cell_id": "00002-bcf696e5-a78d-4bdf-b568-317e643cd603",
        "deepnote_to_be_reexecuted": false,
        "source_hash": "ba4c727e",
        "execution_millis": 6,
        "execution_start": 1617871382629,
        "deepnote_cell_type": "code"
      },
      "source": "df.groupby('id')['average_mood'].rolling(3).mean()",
      "execution_count": null,
      "outputs": [
        {
          "output_type": "execute_result",
          "execution_count": 5,
          "data": {
            "text/plain": "id           \nAS14.01  0            NaN\n         1            NaN\n         2       6.300000\n         3       6.483333\n         4       6.400000\n                   ...   \nAS14.33  1210    6.161111\n         1211    6.016667\n         1212    5.950000\n         1213    6.600000\n         1214    7.133333\nName: average_mood, Length: 1215, dtype: float64"
          },
          "metadata": {}
        }
      ]
    },
    {
      "cell_type": "code",
      "metadata": {
        "tags": [],
        "cell_id": "00003-edaba448-7b7b-4a88-9ea8-260c71e60ad2",
        "deepnote_to_be_reexecuted": false,
        "source_hash": "7d980f61",
        "execution_millis": 3,
        "execution_start": 1617872640261,
        "deepnote_cell_type": "code"
      },
      "source": "hoi = df.loc[df['id'] == 'AS14.01'].rolling(3).mean()",
      "execution_count": null,
      "outputs": []
    },
    {
      "cell_type": "code",
      "metadata": {
        "tags": [],
        "cell_id": "00004-d8cd12c0-5001-480b-9ac1-d504e8cd95d0",
        "deepnote_to_be_reexecuted": false,
        "source_hash": "e256421e",
        "execution_millis": 0,
        "execution_start": 1617872091365,
        "deepnote_cell_type": "code"
      },
      "source": "list_ids = df.id.unique()",
      "execution_count": null,
      "outputs": []
    },
    {
      "cell_type": "code",
      "metadata": {
        "tags": [],
        "cell_id": "00006-ddf9feb1-f462-44c3-bddc-9b9115ff11de",
        "deepnote_to_be_reexecuted": false,
        "source_hash": "1814fbc1",
        "execution_millis": 4,
        "execution_start": 1617874333170,
        "deepnote_cell_type": "code"
      },
      "source": "def window_id(dataframe, window_size):\n    list_window = []\n    window1 = 1\n    window2 = window_size\n\n    for x,y in dataframe.iterrows():\n        set1 = (window1, window2)\n        list_window.append(set1)\n        window1 += 1\n        window2 += 1\n    \n    return list_window",
      "execution_count": null,
      "outputs": []
    },
    {
      "cell_type": "code",
      "metadata": {
        "tags": [],
        "cell_id": "00008-4b81bdd3-c319-48ce-9550-48cdb1463f0e",
        "deepnote_to_be_reexecuted": false,
        "source_hash": "60bd5c82",
        "execution_millis": 415,
        "execution_start": 1617876522993,
        "deepnote_cell_type": "code"
      },
      "source": "df_new = pd.DataFrame()  \nfor x in list_ids:\n    window = df.loc[df['id'] == x].rolling(3).mean()\n    wid = window_id(window, 3)\n    window['window_size'] = wid\n    lid = [x] * len(wid)\n    window['id'] = lid\n    h_list = []\n    for i,j in window.iterrows():\n        if j['window_size'][1]+1 < len(wid):\n            h = window.iloc[j['window_size'][1] + 1]['average_mood']\n            h_list.append(h)\n        else:\n            h_list.append(0)\n    window['day_after'] = h_list\n    \n    df_new = df_new.append(window)",
      "execution_count": null,
      "outputs": []
    },
    {
      "cell_type": "code",
      "metadata": {
        "tags": [],
        "cell_id": "00008-592fc806-b294-4650-a0c1-94763da33f97",
        "deepnote_to_be_reexecuted": false,
        "source_hash": "ea3e9e2a",
        "execution_millis": 2,
        "execution_start": 1617876683963,
        "deepnote_cell_type": "code"
      },
      "source": "df_new = df_new.iloc[2:]",
      "execution_count": null,
      "outputs": []
    },
    {
      "cell_type": "code",
      "metadata": {
        "tags": [],
        "cell_id": "00008-c165e3c1-7447-4762-89e4-645de6629c23",
        "deepnote_to_be_reexecuted": false,
        "source_hash": "15d9b57a",
        "execution_millis": 2,
        "execution_start": 1617876685501,
        "deepnote_cell_type": "code"
      },
      "source": "df_new = df_new.loc[df_new['day_after'] != 0]",
      "execution_count": null,
      "outputs": []
    },
    {
      "cell_type": "code",
      "metadata": {
        "tags": [],
        "cell_id": "00010-20ddb66d-548e-4dbb-a5e6-5d783ea58dac",
        "deepnote_to_be_reexecuted": false,
        "source_hash": "3a62084b",
        "execution_millis": 20,
        "execution_start": 1617876785026,
        "deepnote_cell_type": "code"
      },
      "source": "df_window = pd.read_csv(\"data_window_of_3_days.csv\")",
      "execution_count": null,
      "outputs": []
    },
    {
      "cell_type": "code",
      "metadata": {
        "tags": [],
        "cell_id": "00010-5e11569d-bbf8-4c72-a2f7-54d3bd31c4f5",
        "deepnote_to_be_reexecuted": false,
        "source_hash": "2228e9e0",
        "execution_millis": 204,
        "execution_start": 1617876796119,
        "deepnote_cell_type": "code"
      },
      "source": "df_window",
      "execution_count": null,
      "outputs": [
        {
          "output_type": "execute_result",
          "execution_count": 109,
          "data": {
            "application/vnd.deepnote.dataframe.v2+json": {
              "row_count": 1105,
              "column_count": 17,
              "columns": [
                {
                  "name": "Unnamed: 0",
                  "dtype": "int64",
                  "stats": {
                    "unique_count": 1105,
                    "nan_count": 0,
                    "min": 2,
                    "max": 1210,
                    "histogram": [
                      {
                        "bin_start": 2,
                        "bin_end": 122.8,
                        "count": 113
                      },
                      {
                        "bin_start": 122.8,
                        "bin_end": 243.6,
                        "count": 109
                      },
                      {
                        "bin_start": 243.6,
                        "bin_end": 364.4,
                        "count": 113
                      },
                      {
                        "bin_start": 364.4,
                        "bin_end": 485.2,
                        "count": 109
                      },
                      {
                        "bin_start": 485.2,
                        "bin_end": 606,
                        "count": 112
                      },
                      {
                        "bin_start": 606,
                        "bin_end": 726.8,
                        "count": 109
                      },
                      {
                        "bin_start": 726.8,
                        "bin_end": 847.6,
                        "count": 109
                      },
                      {
                        "bin_start": 847.6,
                        "bin_end": 968.4,
                        "count": 113
                      },
                      {
                        "bin_start": 968.4,
                        "bin_end": 1089.2,
                        "count": 109
                      },
                      {
                        "bin_start": 1089.2,
                        "bin_end": 1210,
                        "count": 109
                      }
                    ]
                  }
                },
                {
                  "name": "Unnamed: 0.1",
                  "dtype": "float64",
                  "stats": {
                    "unique_count": 1053,
                    "nan_count": 52,
                    "min": 1,
                    "max": 1209,
                    "histogram": [
                      {
                        "bin_start": 1,
                        "bin_end": 121.8,
                        "count": 109
                      },
                      {
                        "bin_start": 121.8,
                        "bin_end": 242.6,
                        "count": 103
                      },
                      {
                        "bin_start": 242.6,
                        "bin_end": 363.4,
                        "count": 109
                      },
                      {
                        "bin_start": 363.4,
                        "bin_end": 484.2,
                        "count": 103
                      },
                      {
                        "bin_start": 484.2,
                        "bin_end": 605,
                        "count": 108
                      },
                      {
                        "bin_start": 605,
                        "bin_end": 725.8,
                        "count": 103
                      },
                      {
                        "bin_start": 725.8,
                        "bin_end": 846.6,
                        "count": 105
                      },
                      {
                        "bin_start": 846.6,
                        "bin_end": 967.4,
                        "count": 107
                      },
                      {
                        "bin_start": 967.4,
                        "bin_end": 1088.2,
                        "count": 103
                      },
                      {
                        "bin_start": 1088.2,
                        "bin_end": 1209,
                        "count": 103
                      }
                    ]
                  }
                },
                {
                  "name": "average_mood",
                  "dtype": "float64",
                  "stats": {
                    "unique_count": 314,
                    "nan_count": 52,
                    "min": 3.966666666666667,
                    "max": 8.377777777777776,
                    "histogram": [
                      {
                        "bin_start": 3.966666666666667,
                        "bin_end": 4.407777777777778,
                        "count": 1
                      },
                      {
                        "bin_start": 4.407777777777778,
                        "bin_end": 4.848888888888888,
                        "count": 3
                      },
                      {
                        "bin_start": 4.848888888888888,
                        "bin_end": 5.289999999999999,
                        "count": 7
                      },
                      {
                        "bin_start": 5.289999999999999,
                        "bin_end": 5.731111111111111,
                        "count": 14
                      },
                      {
                        "bin_start": 5.731111111111111,
                        "bin_end": 6.172222222222222,
                        "count": 61
                      },
                      {
                        "bin_start": 6.172222222222222,
                        "bin_end": 6.613333333333332,
                        "count": 158
                      },
                      {
                        "bin_start": 6.613333333333332,
                        "bin_end": 7.054444444444444,
                        "count": 296
                      },
                      {
                        "bin_start": 7.054444444444444,
                        "bin_end": 7.495555555555555,
                        "count": 337
                      },
                      {
                        "bin_start": 7.495555555555555,
                        "bin_end": 7.936666666666666,
                        "count": 143
                      },
                      {
                        "bin_start": 7.936666666666666,
                        "bin_end": 8.377777777777776,
                        "count": 33
                      }
                    ]
                  }
                },
                {
                  "name": "total_calls",
                  "dtype": "float64",
                  "stats": {
                    "unique_count": 39,
                    "nan_count": 52,
                    "min": 0,
                    "max": 18,
                    "histogram": [
                      {
                        "bin_start": 0,
                        "bin_end": 1.8,
                        "count": 563
                      },
                      {
                        "bin_start": 1.8,
                        "bin_end": 3.6,
                        "count": 221
                      },
                      {
                        "bin_start": 3.6,
                        "bin_end": 5.4,
                        "count": 140
                      },
                      {
                        "bin_start": 5.4,
                        "bin_end": 7.2,
                        "count": 65
                      },
                      {
                        "bin_start": 7.2,
                        "bin_end": 9,
                        "count": 34
                      },
                      {
                        "bin_start": 9,
                        "bin_end": 10.8,
                        "count": 21
                      },
                      {
                        "bin_start": 10.8,
                        "bin_end": 12.6,
                        "count": 2
                      },
                      {
                        "bin_start": 12.6,
                        "bin_end": 14.4,
                        "count": 4
                      },
                      {
                        "bin_start": 14.4,
                        "bin_end": 16.2,
                        "count": 1
                      },
                      {
                        "bin_start": 16.2,
                        "bin_end": 18,
                        "count": 2
                      }
                    ]
                  }
                },
                {
                  "name": "total_sms",
                  "dtype": "float64",
                  "stats": {
                    "unique_count": 28,
                    "nan_count": 52,
                    "min": 0,
                    "max": 15,
                    "histogram": [
                      {
                        "bin_start": 0,
                        "bin_end": 1.5,
                        "count": 848
                      },
                      {
                        "bin_start": 1.5,
                        "bin_end": 3,
                        "count": 106
                      },
                      {
                        "bin_start": 3,
                        "bin_end": 4.5,
                        "count": 48
                      },
                      {
                        "bin_start": 4.5,
                        "bin_end": 6,
                        "count": 26
                      },
                      {
                        "bin_start": 6,
                        "bin_end": 7.5,
                        "count": 3
                      },
                      {
                        "bin_start": 7.5,
                        "bin_end": 9,
                        "count": 15
                      },
                      {
                        "bin_start": 9,
                        "bin_end": 10.5,
                        "count": 4
                      },
                      {
                        "bin_start": 10.5,
                        "bin_end": 12,
                        "count": 1
                      },
                      {
                        "bin_start": 12,
                        "bin_end": 13.5,
                        "count": 0
                      },
                      {
                        "bin_start": 13.5,
                        "bin_end": 15,
                        "count": 2
                      }
                    ]
                  }
                },
                {
                  "name": "average_com",
                  "dtype": "float64",
                  "stats": {
                    "unique_count": 1011,
                    "nan_count": 52,
                    "min": 0,
                    "max": 268.99595751633984,
                    "histogram": [
                      {
                        "bin_start": 0,
                        "bin_end": 26.899595751633985,
                        "count": 222
                      },
                      {
                        "bin_start": 26.899595751633985,
                        "bin_end": 53.79919150326797,
                        "count": 616
                      },
                      {
                        "bin_start": 53.79919150326797,
                        "bin_end": 80.69878725490196,
                        "count": 169
                      },
                      {
                        "bin_start": 80.69878725490196,
                        "bin_end": 107.59838300653594,
                        "count": 27
                      },
                      {
                        "bin_start": 107.59838300653594,
                        "bin_end": 134.49797875816992,
                        "count": 6
                      },
                      {
                        "bin_start": 134.49797875816992,
                        "bin_end": 161.39757450980392,
                        "count": 5
                      },
                      {
                        "bin_start": 161.39757450980392,
                        "bin_end": 188.29717026143788,
                        "count": 2
                      },
                      {
                        "bin_start": 188.29717026143788,
                        "bin_end": 215.19676601307188,
                        "count": 5
                      },
                      {
                        "bin_start": 215.19676601307188,
                        "bin_end": 242.09636176470588,
                        "count": 0
                      },
                      {
                        "bin_start": 242.09636176470588,
                        "bin_end": 268.99595751633984,
                        "count": 1
                      }
                    ]
                  }
                },
                {
                  "name": "mood_next_day",
                  "dtype": "float64",
                  "stats": {
                    "unique_count": 313,
                    "nan_count": 52,
                    "min": 3.9666666666666672,
                    "max": 8.377777777777776,
                    "histogram": [
                      {
                        "bin_start": 3.9666666666666672,
                        "bin_end": 4.4077777777777785,
                        "count": 1
                      },
                      {
                        "bin_start": 4.4077777777777785,
                        "bin_end": 4.848888888888889,
                        "count": 3
                      },
                      {
                        "bin_start": 4.848888888888889,
                        "bin_end": 5.29,
                        "count": 8
                      },
                      {
                        "bin_start": 5.29,
                        "bin_end": 5.731111111111111,
                        "count": 15
                      },
                      {
                        "bin_start": 5.731111111111111,
                        "bin_end": 6.1722222222222225,
                        "count": 63
                      },
                      {
                        "bin_start": 6.1722222222222225,
                        "bin_end": 6.613333333333333,
                        "count": 157
                      },
                      {
                        "bin_start": 6.613333333333333,
                        "bin_end": 7.054444444444444,
                        "count": 290
                      },
                      {
                        "bin_start": 7.054444444444444,
                        "bin_end": 7.495555555555555,
                        "count": 340
                      },
                      {
                        "bin_start": 7.495555555555555,
                        "bin_end": 7.936666666666666,
                        "count": 142
                      },
                      {
                        "bin_start": 7.936666666666666,
                        "bin_end": 8.377777777777776,
                        "count": 34
                      }
                    ]
                  }
                },
                {
                  "name": "average_soc",
                  "dtype": "float64",
                  "stats": {
                    "unique_count": 893,
                    "nan_count": 52,
                    "min": 0,
                    "max": 1267.7156057692307,
                    "histogram": [
                      {
                        "bin_start": 0,
                        "bin_end": 126.77156057692306,
                        "count": 975
                      },
                      {
                        "bin_start": 126.77156057692306,
                        "bin_end": 253.54312115384613,
                        "count": 64
                      },
                      {
                        "bin_start": 253.54312115384613,
                        "bin_end": 380.31468173076917,
                        "count": 9
                      },
                      {
                        "bin_start": 380.31468173076917,
                        "bin_end": 507.08624230769226,
                        "count": 1
                      },
                      {
                        "bin_start": 507.08624230769226,
                        "bin_end": 633.8578028846154,
                        "count": 1
                      },
                      {
                        "bin_start": 633.8578028846154,
                        "bin_end": 760.6293634615383,
                        "count": 0
                      },
                      {
                        "bin_start": 760.6293634615383,
                        "bin_end": 887.4009240384614,
                        "count": 0
                      },
                      {
                        "bin_start": 887.4009240384614,
                        "bin_end": 1014.1724846153845,
                        "count": 0
                      },
                      {
                        "bin_start": 1014.1724846153845,
                        "bin_end": 1140.9440451923076,
                        "count": 0
                      },
                      {
                        "bin_start": 1140.9440451923076,
                        "bin_end": 1267.7156057692307,
                        "count": 3
                      }
                    ]
                  }
                },
                {
                  "name": "average_valence",
                  "dtype": "float64",
                  "stats": {
                    "unique_count": 319,
                    "nan_count": 52,
                    "min": -1,
                    "max": 1.5666666666666669,
                    "histogram": [
                      {
                        "bin_start": -1,
                        "bin_end": -0.7433333333333333,
                        "count": 1
                      },
                      {
                        "bin_start": -0.7433333333333333,
                        "bin_end": -0.4866666666666666,
                        "count": 1
                      },
                      {
                        "bin_start": -0.4866666666666666,
                        "bin_end": -0.22999999999999987,
                        "count": 3
                      },
                      {
                        "bin_start": -0.22999999999999987,
                        "bin_end": 0.02666666666666684,
                        "count": 28
                      },
                      {
                        "bin_start": 0.02666666666666684,
                        "bin_end": 0.28333333333333366,
                        "count": 81
                      },
                      {
                        "bin_start": 0.28333333333333366,
                        "bin_end": 0.5400000000000003,
                        "count": 209
                      },
                      {
                        "bin_start": 0.5400000000000003,
                        "bin_end": 0.7966666666666669,
                        "count": 284
                      },
                      {
                        "bin_start": 0.7966666666666669,
                        "bin_end": 1.0533333333333337,
                        "count": 370
                      },
                      {
                        "bin_start": 1.0533333333333337,
                        "bin_end": 1.3100000000000005,
                        "count": 64
                      },
                      {
                        "bin_start": 1.3100000000000005,
                        "bin_end": 1.5666666666666669,
                        "count": 12
                      }
                    ]
                  }
                },
                {
                  "name": "average_arousal",
                  "dtype": "float64",
                  "stats": {
                    "unique_count": 349,
                    "nan_count": 52,
                    "min": -1.8,
                    "max": 1.3333333333333333,
                    "histogram": [
                      {
                        "bin_start": -1.8,
                        "bin_end": -1.4866666666666668,
                        "count": 1
                      },
                      {
                        "bin_start": -1.4866666666666668,
                        "bin_end": -1.1733333333333333,
                        "count": 14
                      },
                      {
                        "bin_start": -1.1733333333333333,
                        "bin_end": -0.86,
                        "count": 57
                      },
                      {
                        "bin_start": -0.86,
                        "bin_end": -0.5466666666666666,
                        "count": 91
                      },
                      {
                        "bin_start": -0.5466666666666666,
                        "bin_end": -0.23333333333333317,
                        "count": 236
                      },
                      {
                        "bin_start": -0.23333333333333317,
                        "bin_end": 0.08000000000000007,
                        "count": 275
                      },
                      {
                        "bin_start": 0.08000000000000007,
                        "bin_end": 0.3933333333333333,
                        "count": 200
                      },
                      {
                        "bin_start": 0.3933333333333333,
                        "bin_end": 0.7066666666666668,
                        "count": 126
                      },
                      {
                        "bin_start": 0.7066666666666668,
                        "bin_end": 1.0200000000000002,
                        "count": 41
                      },
                      {
                        "bin_start": 1.0200000000000002,
                        "bin_end": 1.3333333333333333,
                        "count": 12
                      }
                    ]
                  }
                },
                {
                  "name": "average_finance",
                  "dtype": "float64",
                  "stats": {
                    "unique_count": 241,
                    "nan_count": 52,
                    "min": 0,
                    "max": 76.67488888888889,
                    "histogram": [
                      {
                        "bin_start": 0,
                        "bin_end": 7.667488888888888,
                        "count": 855
                      },
                      {
                        "bin_start": 7.667488888888888,
                        "bin_end": 15.334977777777777,
                        "count": 91
                      },
                      {
                        "bin_start": 15.334977777777777,
                        "bin_end": 23.002466666666663,
                        "count": 42
                      },
                      {
                        "bin_start": 23.002466666666663,
                        "bin_end": 30.669955555555553,
                        "count": 26
                      },
                      {
                        "bin_start": 30.669955555555553,
                        "bin_end": 38.33744444444444,
                        "count": 17
                      },
                      {
                        "bin_start": 38.33744444444444,
                        "bin_end": 46.00493333333333,
                        "count": 8
                      },
                      {
                        "bin_start": 46.00493333333333,
                        "bin_end": 53.67242222222222,
                        "count": 6
                      },
                      {
                        "bin_start": 53.67242222222222,
                        "bin_end": 61.33991111111111,
                        "count": 3
                      },
                      {
                        "bin_start": 61.33991111111111,
                        "bin_end": 69.00739999999999,
                        "count": 4
                      },
                      {
                        "bin_start": 69.00739999999999,
                        "bin_end": 76.67488888888889,
                        "count": 1
                      }
                    ]
                  }
                },
                {
                  "name": "average_office",
                  "dtype": "float64",
                  "stats": {
                    "unique_count": 295,
                    "nan_count": 52,
                    "min": 0,
                    "max": 510.4858611111112,
                    "histogram": [
                      {
                        "bin_start": 0,
                        "bin_end": 51.04858611111112,
                        "count": 1002
                      },
                      {
                        "bin_start": 51.04858611111112,
                        "bin_end": 102.09717222222224,
                        "count": 32
                      },
                      {
                        "bin_start": 102.09717222222224,
                        "bin_end": 153.14575833333336,
                        "count": 11
                      },
                      {
                        "bin_start": 153.14575833333336,
                        "bin_end": 204.19434444444448,
                        "count": 5
                      },
                      {
                        "bin_start": 204.19434444444448,
                        "bin_end": 255.2429305555556,
                        "count": 0
                      },
                      {
                        "bin_start": 255.2429305555556,
                        "bin_end": 306.2915166666667,
                        "count": 0
                      },
                      {
                        "bin_start": 306.2915166666667,
                        "bin_end": 357.3401027777778,
                        "count": 0
                      },
                      {
                        "bin_start": 357.3401027777778,
                        "bin_end": 408.38868888888896,
                        "count": 0
                      },
                      {
                        "bin_start": 408.38868888888896,
                        "bin_end": 459.4372750000001,
                        "count": 0
                      },
                      {
                        "bin_start": 459.4372750000001,
                        "bin_end": 510.4858611111112,
                        "count": 3
                      }
                    ]
                  }
                },
                {
                  "name": "average_entertainment",
                  "dtype": "float64",
                  "stats": {
                    "unique_count": 779,
                    "nan_count": 52,
                    "min": 0,
                    "max": 720.9020555555554,
                    "histogram": [
                      {
                        "bin_start": 0,
                        "bin_end": 72.09020555555554,
                        "count": 736
                      },
                      {
                        "bin_start": 72.09020555555554,
                        "bin_end": 144.18041111111108,
                        "count": 166
                      },
                      {
                        "bin_start": 144.18041111111108,
                        "bin_end": 216.27061666666663,
                        "count": 76
                      },
                      {
                        "bin_start": 216.27061666666663,
                        "bin_end": 288.36082222222217,
                        "count": 33
                      },
                      {
                        "bin_start": 288.36082222222217,
                        "bin_end": 360.4510277777777,
                        "count": 14
                      },
                      {
                        "bin_start": 360.4510277777777,
                        "bin_end": 432.54123333333325,
                        "count": 12
                      },
                      {
                        "bin_start": 432.54123333333325,
                        "bin_end": 504.6314388888888,
                        "count": 8
                      },
                      {
                        "bin_start": 504.6314388888888,
                        "bin_end": 576.7216444444443,
                        "count": 3
                      },
                      {
                        "bin_start": 576.7216444444443,
                        "bin_end": 648.8118499999998,
                        "count": 2
                      },
                      {
                        "bin_start": 648.8118499999998,
                        "bin_end": 720.9020555555554,
                        "count": 3
                      }
                    ]
                  }
                },
                {
                  "name": "average_game",
                  "dtype": "float64",
                  "stats": {
                    "unique_count": 193,
                    "nan_count": 52,
                    "min": 0,
                    "max": 854.3023333333334,
                    "histogram": [
                      {
                        "bin_start": 0,
                        "bin_end": 85.43023333333335,
                        "count": 979
                      },
                      {
                        "bin_start": 85.43023333333335,
                        "bin_end": 170.8604666666667,
                        "count": 26
                      },
                      {
                        "bin_start": 170.8604666666667,
                        "bin_end": 256.2907,
                        "count": 16
                      },
                      {
                        "bin_start": 256.2907,
                        "bin_end": 341.7209333333334,
                        "count": 17
                      },
                      {
                        "bin_start": 341.7209333333334,
                        "bin_end": 427.15116666666677,
                        "count": 10
                      },
                      {
                        "bin_start": 427.15116666666677,
                        "bin_end": 512.5814,
                        "count": 1
                      },
                      {
                        "bin_start": 512.5814,
                        "bin_end": 598.0116333333334,
                        "count": 1
                      },
                      {
                        "bin_start": 598.0116333333334,
                        "bin_end": 683.4418666666668,
                        "count": 0
                      },
                      {
                        "bin_start": 683.4418666666668,
                        "bin_end": 768.8721000000002,
                        "count": 0
                      },
                      {
                        "bin_start": 768.8721000000002,
                        "bin_end": 854.3023333333334,
                        "count": 3
                      }
                    ]
                  }
                },
                {
                  "name": "window_size",
                  "dtype": "object",
                  "stats": {
                    "unique_count": 62,
                    "nan_count": 0,
                    "categories": [
                      {
                        "name": "(3, 5)",
                        "count": 27
                      },
                      {
                        "name": "(4, 6)",
                        "count": 27
                      },
                      {
                        "name": "60 others",
                        "count": 1051
                      }
                    ]
                  }
                },
                {
                  "name": "id",
                  "dtype": "object",
                  "stats": {
                    "unique_count": 27,
                    "nan_count": 0,
                    "categories": [
                      {
                        "name": "AS14.26",
                        "count": 62
                      },
                      {
                        "name": "AS14.08",
                        "count": 57
                      },
                      {
                        "name": "25 others",
                        "count": 986
                      }
                    ]
                  }
                },
                {
                  "name": "day_after",
                  "dtype": "float64",
                  "stats": {
                    "unique_count": 328,
                    "nan_count": 0,
                    "min": 3.966666666666667,
                    "max": 8.377777777777776,
                    "histogram": [
                      {
                        "bin_start": 3.966666666666667,
                        "bin_end": 4.407777777777778,
                        "count": 1
                      },
                      {
                        "bin_start": 4.407777777777778,
                        "bin_end": 4.848888888888888,
                        "count": 3
                      },
                      {
                        "bin_start": 4.848888888888888,
                        "bin_end": 5.289999999999999,
                        "count": 8
                      },
                      {
                        "bin_start": 5.289999999999999,
                        "bin_end": 5.731111111111111,
                        "count": 20
                      },
                      {
                        "bin_start": 5.731111111111111,
                        "bin_end": 6.172222222222222,
                        "count": 66
                      },
                      {
                        "bin_start": 6.172222222222222,
                        "bin_end": 6.613333333333332,
                        "count": 152
                      },
                      {
                        "bin_start": 6.613333333333332,
                        "bin_end": 7.054444444444444,
                        "count": 312
                      },
                      {
                        "bin_start": 7.054444444444444,
                        "bin_end": 7.495555555555555,
                        "count": 357
                      },
                      {
                        "bin_start": 7.495555555555555,
                        "bin_end": 7.936666666666666,
                        "count": 148
                      },
                      {
                        "bin_start": 7.936666666666666,
                        "bin_end": 8.377777777777776,
                        "count": 38
                      }
                    ]
                  }
                },
                {
                  "name": "_deepnote_index_column",
                  "dtype": "int64"
                }
              ],
              "rows_top": [
                {
                  "Unnamed: 0": 2,
                  "Unnamed: 0.1": 1,
                  "average_mood": 6.3,
                  "total_calls": 2,
                  "total_sms": 0,
                  "average_com": 35.59752960526317,
                  "mood_next_day": 6.483333333333333,
                  "average_soc": 37.25922222222223,
                  "average_valence": 0.5495495495495496,
                  "average_arousal": 0.1833333333333333,
                  "average_finance": 4.406111111111112,
                  "average_office": 19.134000000000004,
                  "average_entertainment": 33.22866666666667,
                  "average_game": 0,
                  "window_size": "(3, 5)",
                  "id": "AS14.01",
                  "day_after": 6.449999999999999,
                  "_deepnote_index_column": 0
                },
                {
                  "Unnamed: 0": 3,
                  "Unnamed: 0.1": 2,
                  "average_mood": 6.483333333333333,
                  "total_calls": 2,
                  "total_sms": 0,
                  "average_com": 53.4115398093448,
                  "mood_next_day": 6.4,
                  "average_soc": 53.94142592592593,
                  "average_valence": 0.5662162162162162,
                  "average_arousal": 0.3333333333333333,
                  "average_finance": 8.023027777777777,
                  "average_office": 19.134000000000004,
                  "average_entertainment": 43.71155555555556,
                  "average_game": 0,
                  "window_size": "(4, 6)",
                  "id": "AS14.01",
                  "day_after": 6.783333333333332,
                  "_deepnote_index_column": 1
                },
                {
                  "Unnamed: 0": 4,
                  "Unnamed: 0.1": 3,
                  "average_mood": 6.4,
                  "total_calls": 0,
                  "total_sms": 0,
                  "average_com": 50.89359343057736,
                  "mood_next_day": 6.516666666666667,
                  "average_soc": 53.883552540913,
                  "average_valence": 0.4995495495495496,
                  "average_arousal": 0.5333333333333333,
                  "average_finance": 7.853472222222222,
                  "average_office": 1.0033333333333332,
                  "average_entertainment": 66.74401388888889,
                  "average_game": 0,
                  "window_size": "(5, 7)",
                  "id": "AS14.01",
                  "day_after": 6.666666666666667,
                  "_deepnote_index_column": 2
                },
                {
                  "Unnamed: 0": 5,
                  "Unnamed: 0.1": 4,
                  "average_mood": 6.516666666666667,
                  "total_calls": 0,
                  "total_sms": 0,
                  "average_com": 56.80707484949627,
                  "mood_next_day": 6.449999999999999,
                  "average_soc": 64.52239777900824,
                  "average_valence": 0.4333333333333333,
                  "average_arousal": 0.5,
                  "average_finance": 9.099527777777778,
                  "average_office": 1.0033333333333332,
                  "average_entertainment": 62.55768055555556,
                  "average_game": 0,
                  "window_size": "(6, 8)",
                  "id": "AS14.01",
                  "day_after": 7.133333333333334,
                  "_deepnote_index_column": 3
                },
                {
                  "Unnamed: 0": 6,
                  "Unnamed: 0.1": 5,
                  "average_mood": 6.449999999999999,
                  "total_calls": 0,
                  "total_sms": 0,
                  "average_com": 54.68024265588585,
                  "mood_next_day": 6.783333333333332,
                  "average_soc": 89.21009497620543,
                  "average_valence": 0.3666666666666667,
                  "average_arousal": 0.3666666666666667,
                  "average_finance": 8.38988888888889,
                  "average_office": 1.0033333333333332,
                  "average_entertainment": 95.43093452380953,
                  "average_game": 0,
                  "window_size": "(7, 9)",
                  "id": "AS14.01",
                  "day_after": 7.300000000000001,
                  "_deepnote_index_column": 4
                },
                {
                  "Unnamed: 0": 7,
                  "Unnamed: 0.1": 6,
                  "average_mood": 6.783333333333332,
                  "total_calls": 5,
                  "total_sms": 0,
                  "average_com": 53.28408026272346,
                  "mood_next_day": 6.666666666666667,
                  "average_soc": 88.20487434412433,
                  "average_valence": 0.6333333333333333,
                  "average_arousal": 0.1666666666666666,
                  "average_finance": 11.186111111111112,
                  "average_office": 5.068083333333333,
                  "average_entertainment": 78.40303174603174,
                  "average_game": 0,
                  "window_size": "(8, 10)",
                  "id": "AS14.01",
                  "day_after": 7.633333333333333,
                  "_deepnote_index_column": 5
                },
                {
                  "Unnamed: 0": 8,
                  "Unnamed: 0.1": 7,
                  "average_mood": 6.666666666666667,
                  "total_calls": 6.666666666666667,
                  "total_sms": 0,
                  "average_com": 38.16447615861935,
                  "mood_next_day": 7.133333333333334,
                  "average_soc": 73.89971243936243,
                  "average_valence": 0.6666666666666666,
                  "average_arousal": -0.1999999999999999,
                  "average_finance": 11.844277777777778,
                  "average_office": 5.068083333333333,
                  "average_entertainment": 97.50212265512266,
                  "average_game": 38.839333333333336,
                  "window_size": "(9, 11)",
                  "id": "AS14.01",
                  "day_after": 6.966666666666666,
                  "_deepnote_index_column": 6
                },
                {
                  "Unnamed: 0": 9,
                  "Unnamed: 0.1": 8,
                  "average_mood": 7.133333333333334,
                  "total_calls": 6.666666666666667,
                  "total_sms": 0,
                  "average_com": 38.38777768031189,
                  "mood_next_day": 7.300000000000001,
                  "average_soc": 52.2334782051282,
                  "average_valence": 0.7999999999999999,
                  "average_arousal": -0.0666666666666666,
                  "average_finance": 8.937,
                  "average_office": 5.068083333333333,
                  "average_entertainment": 90.3110686868687,
                  "average_game": 38.839333333333336,
                  "window_size": "(10, 12)",
                  "id": "AS14.01",
                  "day_after": 6.633333333333333,
                  "_deepnote_index_column": 7
                },
                {
                  "Unnamed: 0": 10,
                  "Unnamed: 0.1": 9,
                  "average_mood": 7.300000000000001,
                  "total_calls": 1.6666666666666667,
                  "total_sms": 0,
                  "average_com": 44.5479014898357,
                  "mood_next_day": 7.633333333333333,
                  "average_soc": 46.88101666666666,
                  "average_valence": 0.7833333333333333,
                  "average_arousal": -0.3,
                  "average_finance": 4.246,
                  "average_office": 0,
                  "average_entertainment": 123.5087723905724,
                  "average_game": 38.839333333333336,
                  "window_size": "(11, 13)",
                  "id": "AS14.01",
                  "day_after": 6.300000000000001,
                  "_deepnote_index_column": 8
                },
                {
                  "Unnamed: 0": 11,
                  "Unnamed: 0.1": 10,
                  "average_mood": 7.633333333333333,
                  "total_calls": 3.333333333333333,
                  "total_sms": 0,
                  "average_com": 50.30109378096404,
                  "mood_next_day": 6.966666666666666,
                  "average_soc": 57.094430555555554,
                  "average_valence": 0.7833333333333333,
                  "average_arousal": -0.0999999999999999,
                  "average_finance": 2.2919444444444443,
                  "average_office": 0,
                  "average_entertainment": 110.28632854030502,
                  "average_game": 17.058666666666667,
                  "window_size": "(12, 14)",
                  "id": "AS14.01",
                  "day_after": 6.366666666666667,
                  "_deepnote_index_column": 9
                },
                {
                  "Unnamed: 0": 12,
                  "Unnamed: 0.1": 11,
                  "average_mood": 6.966666666666666,
                  "total_calls": 3.6666666666666665,
                  "total_sms": 0,
                  "average_com": 45.43323381401768,
                  "mood_next_day": 6.633333333333333,
                  "average_soc": 52.6636941919192,
                  "average_valence": 0.45,
                  "average_arousal": -0.0999999999999999,
                  "average_finance": 7.364407407407408,
                  "average_office": 10.265333333333334,
                  "average_entertainment": 88.43564242919389,
                  "average_game": 43.141,
                  "window_size": "(13, 15)",
                  "id": "AS14.01",
                  "day_after": 6.466666666666668,
                  "_deepnote_index_column": 10
                },
                {
                  "Unnamed: 0": 13,
                  "Unnamed: 0.1": 12,
                  "average_mood": 6.633333333333333,
                  "total_calls": 5,
                  "total_sms": 0,
                  "average_com": 36.074329516689,
                  "mood_next_day": 6.300000000000001,
                  "average_soc": 55.59675708500095,
                  "average_valence": 0.4328828828828828,
                  "average_arousal": -0.0237499999999999,
                  "average_finance": 11.71137231968811,
                  "average_office": 40.425666666666665,
                  "average_entertainment": 46.99981995154383,
                  "average_game": 43.141,
                  "window_size": "(14, 16)",
                  "id": "AS14.01",
                  "day_after": 6.5,
                  "_deepnote_index_column": 11
                },
                {
                  "Unnamed: 0": 14,
                  "Unnamed: 0.1": 13,
                  "average_mood": 6.300000000000001,
                  "total_calls": 3,
                  "total_sms": 0,
                  "average_com": 37.76980606562258,
                  "mood_next_day": 6.366666666666667,
                  "average_soc": 51.646303055267005,
                  "average_valence": 0.2328828828828829,
                  "average_arousal": -0.42375,
                  "average_finance": 17.88987231968811,
                  "average_office": 40.425666666666665,
                  "average_entertainment": 46.34051904656646,
                  "average_game": 26.08233333333333,
                  "window_size": "(15, 17)",
                  "id": "AS14.01",
                  "day_after": 6.6000000000000005,
                  "_deepnote_index_column": 12
                },
                {
                  "Unnamed: 0": 15,
                  "Unnamed: 0.1": 14,
                  "average_mood": 6.366666666666667,
                  "total_calls": 2.6666666666666665,
                  "total_sms": 0,
                  "average_com": 41.58254693400952,
                  "mood_next_day": 6.466666666666668,
                  "average_soc": 60.35264861430566,
                  "average_valence": 0.3662162162162163,
                  "average_arousal": -0.42375,
                  "average_finance": 12.817409356725143,
                  "average_office": 30.16033333333333,
                  "average_entertainment": 64.21834543545536,
                  "average_game": 0,
                  "window_size": "(16, 18)",
                  "id": "AS14.01",
                  "day_after": 6.533333333333332,
                  "_deepnote_index_column": 13
                },
                {
                  "Unnamed: 0": 16,
                  "Unnamed: 0.1": 15,
                  "average_mood": 6.466666666666668,
                  "total_calls": 1.3333333333333333,
                  "total_sms": 0,
                  "average_com": 42.89965408848107,
                  "mood_next_day": 6.5,
                  "average_soc": 53.9215857212239,
                  "average_valence": 0.3333333333333333,
                  "average_arousal": -0.4666666666666666,
                  "average_finance": 8.470444444444443,
                  "average_office": 0,
                  "average_entertainment": 74.23357532051283,
                  "average_game": 0,
                  "window_size": "(17, 19)",
                  "id": "AS14.01",
                  "day_after": 6.833333333333333,
                  "_deepnote_index_column": 14
                },
                {
                  "Unnamed: 0": 17,
                  "Unnamed: 0.1": 16,
                  "average_mood": 6.5,
                  "total_calls": 2,
                  "total_sms": 0,
                  "average_com": 43.40448233836625,
                  "mood_next_day": 6.6000000000000005,
                  "average_soc": 60.543609195402304,
                  "average_valence": 0.5,
                  "average_arousal": -0.3166666666666666,
                  "average_finance": 0,
                  "average_office": 0,
                  "average_entertainment": 88.85089583333333,
                  "average_game": 19.067666666666668,
                  "window_size": "(18, 20)",
                  "id": "AS14.01",
                  "day_after": 7.133333333333333,
                  "_deepnote_index_column": 15
                },
                {
                  "Unnamed: 0": 18,
                  "Unnamed: 0.1": 17,
                  "average_mood": 6.6000000000000005,
                  "total_calls": 2.333333333333333,
                  "total_sms": 0,
                  "average_com": 47.55432862310817,
                  "mood_next_day": 6.533333333333332,
                  "average_soc": 57.05625,
                  "average_valence": 0.45,
                  "average_arousal": -0.4737499999999999,
                  "average_finance": 3.075199999999999,
                  "average_office": 5.702333333333333,
                  "average_entertainment": 81.49872222222223,
                  "average_game": 19.067666666666668,
                  "window_size": "(19, 21)",
                  "id": "AS14.01",
                  "day_after": 7.266666666666667,
                  "_deepnote_index_column": 16
                },
                {
                  "Unnamed: 0": 19,
                  "Unnamed: 0.1": 18,
                  "average_mood": 6.533333333333332,
                  "total_calls": 2.6666666666666665,
                  "total_sms": 0,
                  "average_com": 51.3537660324346,
                  "mood_next_day": 6.833333333333333,
                  "average_soc": 61.59014629629629,
                  "average_valence": 0.4828828828828829,
                  "average_arousal": -0.47375,
                  "average_finance": 5.200866666666665,
                  "average_office": 5.702333333333333,
                  "average_entertainment": 111.06586507936508,
                  "average_game": 19.067666666666668,
                  "window_size": "(20, 22)",
                  "id": "AS14.01",
                  "day_after": 7.216666666666666,
                  "_deepnote_index_column": 17
                },
                {
                  "Unnamed: 0": 20,
                  "Unnamed: 0.1": 19,
                  "average_mood": 6.833333333333333,
                  "total_calls": 2,
                  "total_sms": 0,
                  "average_com": 48.08407038281671,
                  "mood_next_day": 7.133333333333333,
                  "average_soc": 54.88005254629629,
                  "average_valence": 0.5490990990990992,
                  "average_arousal": -0.4904166666666666,
                  "average_finance": 5.200866666666665,
                  "average_office": 5.702333333333333,
                  "average_entertainment": 105.99603174603176,
                  "average_game": 0,
                  "window_size": "(21, 23)",
                  "id": "AS14.01",
                  "day_after": 7.416666666666667,
                  "_deepnote_index_column": 18
                },
                {
                  "Unnamed: 0": 21,
                  "Unnamed: 0.1": 20,
                  "average_mood": 7.133333333333333,
                  "total_calls": 1.6666666666666667,
                  "total_sms": 0,
                  "average_com": 50.77402366447046,
                  "mood_next_day": 7.266666666666667,
                  "average_soc": 47.440546990740735,
                  "average_valence": 0.7324324324324326,
                  "average_arousal": -0.5333333333333333,
                  "average_finance": 2.1256666666666653,
                  "average_office": 7.731666666666666,
                  "average_entertainment": 132.79189285714287,
                  "average_game": 0.353,
                  "window_size": "(22, 24)",
                  "id": "AS14.01",
                  "day_after": 7.483333333333333,
                  "_deepnote_index_column": 19
                },
                {
                  "Unnamed: 0": 22,
                  "Unnamed: 0.1": 21,
                  "average_mood": 7.266666666666667,
                  "total_calls": 1.3333333333333333,
                  "total_sms": 0,
                  "average_com": 43.59690642043329,
                  "mood_next_day": 7.216666666666666,
                  "average_soc": 43.07572761752137,
                  "average_valence": 0.7662162162162162,
                  "average_arousal": -0.8000000000000002,
                  "average_finance": 5.227388888888888,
                  "average_office": 7.731666666666666,
                  "average_entertainment": 118.93795833333336,
                  "average_game": 0.353,
                  "window_size": "(23, 25)",
                  "id": "AS14.01",
                  "day_after": 7.2,
                  "_deepnote_index_column": 20
                },
                {
                  "Unnamed: 0": 23,
                  "Unnamed: 0.1": 22,
                  "average_mood": 7.216666666666666,
                  "total_calls": 0,
                  "total_sms": 0,
                  "average_com": 78.67733002036171,
                  "mood_next_day": 7.416666666666667,
                  "average_soc": 43.04582136752137,
                  "average_valence": 0.7833333333333333,
                  "average_arousal": -0.7833333333333332,
                  "average_finance": 5.227388888888888,
                  "average_office": 7.731666666666666,
                  "average_entertainment": 153.54106944444445,
                  "average_game": 0.353,
                  "window_size": "(24, 26)",
                  "id": "AS14.01",
                  "day_after": 6.933333333333334,
                  "_deepnote_index_column": 21
                },
                {
                  "Unnamed: 0": 24,
                  "Unnamed: 0.1": 23,
                  "average_mood": 7.416666666666667,
                  "total_calls": 0,
                  "total_sms": 0,
                  "average_com": 72.87774973050664,
                  "mood_next_day": 7.483333333333333,
                  "average_soc": 35.74374358974359,
                  "average_valence": 0.85,
                  "average_arousal": -1.0666666666666669,
                  "average_finance": 8.27972222222222,
                  "average_office": 0,
                  "average_entertainment": 122.68781944444444,
                  "average_game": 0,
                  "window_size": "(25, 27)",
                  "id": "AS14.01",
                  "day_after": 6.733333333333334,
                  "_deepnote_index_column": 22
                },
                {
                  "Unnamed: 0": 25,
                  "Unnamed: 0.1": 24,
                  "average_mood": 7.483333333333333,
                  "total_calls": 2.6666666666666665,
                  "total_sms": 2.6666666666666665,
                  "average_com": 80.84551771336552,
                  "mood_next_day": 7.2,
                  "average_soc": 74.55183333333333,
                  "average_valence": 0.7833333333333333,
                  "average_arousal": -1.0666666666666669,
                  "average_finance": 8.01472222222222,
                  "average_office": 0,
                  "average_entertainment": 153.53616283524903,
                  "average_game": 0,
                  "window_size": "(26, 28)",
                  "id": "AS14.01",
                  "day_after": 6.866666666666666,
                  "_deepnote_index_column": 23
                },
                {
                  "Unnamed: 0": 26,
                  "Unnamed: 0.1": 25,
                  "average_mood": 7.2,
                  "total_calls": 2.6666666666666665,
                  "total_sms": 3,
                  "average_com": 46.61547731363076,
                  "mood_next_day": 6.933333333333334,
                  "average_soc": 93.40821212121212,
                  "average_valence": 0.7999999999999999,
                  "average_arousal": -0.8166666666666668,
                  "average_finance": 9.463944444444444,
                  "average_office": 0,
                  "average_entertainment": 109.3711131276467,
                  "average_game": 0,
                  "window_size": "(27, 29)",
                  "id": "AS14.01",
                  "day_after": 7.066666666666666,
                  "_deepnote_index_column": 24
                },
                {
                  "Unnamed: 0": 27,
                  "Unnamed: 0.1": 26,
                  "average_mood": 6.933333333333334,
                  "total_calls": 2.6666666666666665,
                  "total_sms": 3,
                  "average_com": 43.041364270152506,
                  "mood_next_day": 6.733333333333334,
                  "average_soc": 109.64468338557997,
                  "average_valence": 0.6995495495495496,
                  "average_arousal": -0.4904166666666666,
                  "average_finance": 6.41161111111111,
                  "average_office": 0,
                  "average_entertainment": 96.49092794246152,
                  "average_game": 0,
                  "window_size": "(28, 30)",
                  "id": "AS14.01",
                  "day_after": 7.283333333333334,
                  "_deepnote_index_column": 25
                },
                {
                  "Unnamed: 0": 28,
                  "Unnamed: 0.1": 27,
                  "average_mood": 6.733333333333334,
                  "total_calls": 3.333333333333333,
                  "total_sms": 0.3333333333333333,
                  "average_com": 62.130625907937066,
                  "mood_next_day": 6.866666666666666,
                  "average_soc": 78.94658338557994,
                  "average_valence": 0.6995495495495495,
                  "average_arousal": -0.22375,
                  "average_finance": 1.4492222222222209,
                  "average_office": 0,
                  "average_entertainment": 33.95577621832359,
                  "average_game": 0,
                  "window_size": "(29, 31)",
                  "id": "AS14.01",
                  "day_after": 7.55,
                  "_deepnote_index_column": 26
                },
                {
                  "Unnamed: 0": 29,
                  "Unnamed: 0.1": 28,
                  "average_mood": 6.866666666666666,
                  "total_calls": 3.6666666666666665,
                  "total_sms": 0,
                  "average_com": 70.28426263146117,
                  "mood_next_day": 7.066666666666666,
                  "average_soc": 111.86360459770113,
                  "average_valence": 0.6995495495495496,
                  "average_arousal": -0.4904166666666666,
                  "average_finance": 5.67442857142857,
                  "average_office": 0,
                  "average_entertainment": 46.0649925925926,
                  "average_game": 0,
                  "window_size": "(30, 32)",
                  "id": "AS14.01",
                  "day_after": 7.416666666666667,
                  "_deepnote_index_column": 27
                },
                {
                  "Unnamed: 0": 30,
                  "Unnamed: 0.1": 29,
                  "average_mood": 7.066666666666666,
                  "total_calls": 4,
                  "total_sms": 0,
                  "average_com": 69.77344531544385,
                  "mood_next_day": 7.283333333333334,
                  "average_soc": 101.89716363636364,
                  "average_valence": 0.7999999999999999,
                  "average_arousal": -0.4666666666666667,
                  "average_finance": 10.987150793650793,
                  "average_office": 0,
                  "average_entertainment": 64.23328888888888,
                  "average_game": 9.694666666666668,
                  "window_size": "(31, 33)",
                  "id": "AS14.01",
                  "day_after": 7.533333333333334,
                  "_deepnote_index_column": 28
                }
              ],
              "rows_bottom": [
                {
                  "Unnamed: 0": 1182,
                  "Unnamed: 0.1": 1181,
                  "average_mood": 6.933333333333334,
                  "total_calls": 3,
                  "total_sms": 0,
                  "average_com": 60.048709250894014,
                  "mood_next_day": 6.2,
                  "average_soc": 107.95876619385342,
                  "average_valence": 0.5333333333333333,
                  "average_arousal": -0.1999999999999999,
                  "average_finance": 0,
                  "average_office": 0,
                  "average_entertainment": 114.71064724164724,
                  "average_game": 0,
                  "window_size": "(7, 9)",
                  "id": "AS14.33",
                  "day_after": 7.666666666666667,
                  "_deepnote_index_column": 1076
                },
                {
                  "Unnamed: 0": 1183,
                  "Unnamed: 0.1": 1182,
                  "average_mood": 6.2,
                  "total_calls": 3.333333333333333,
                  "total_sms": 0,
                  "average_com": 46.9365482202982,
                  "mood_next_day": 6.133333333333334,
                  "average_soc": 128.25428496732027,
                  "average_valence": -0.0666666666666666,
                  "average_arousal": -0.2666666666666666,
                  "average_finance": 0,
                  "average_office": 0,
                  "average_entertainment": 113.1339401709402,
                  "average_game": 0,
                  "window_size": "(8, 10)",
                  "id": "AS14.33",
                  "day_after": 7.399999999999999,
                  "_deepnote_index_column": 1077
                },
                {
                  "Unnamed: 0": 1184,
                  "Unnamed: 0.1": 1183,
                  "average_mood": 6.133333333333334,
                  "total_calls": 5,
                  "total_sms": 1.6666666666666667,
                  "average_com": 43.36221362433861,
                  "mood_next_day": 6.866666666666667,
                  "average_soc": 104.17957892867294,
                  "average_valence": 0.0666666666666667,
                  "average_arousal": -0.35,
                  "average_finance": 0,
                  "average_office": 0,
                  "average_entertainment": 117.17462962962964,
                  "average_game": 0,
                  "window_size": "(9, 11)",
                  "id": "AS14.33",
                  "day_after": 6.849999999999999,
                  "_deepnote_index_column": 1078
                },
                {
                  "Unnamed: 0": 1185,
                  "Unnamed: 0.1": 1184,
                  "average_mood": 6.866666666666667,
                  "total_calls": 12.333333333333334,
                  "total_sms": 2.333333333333333,
                  "average_com": 37.30204619779352,
                  "mood_next_day": 7.666666666666667,
                  "average_soc": 88.6500101672886,
                  "average_valence": 0.2937037037037037,
                  "average_arousal": 0.1166666666666666,
                  "average_finance": 0,
                  "average_office": 0,
                  "average_entertainment": 118.28943518518518,
                  "average_game": 0,
                  "window_size": "(10, 12)",
                  "id": "AS14.33",
                  "day_after": 6.383333333333333,
                  "_deepnote_index_column": 1079
                },
                {
                  "Unnamed: 0": 1186,
                  "Unnamed: 0.1": 1185,
                  "average_mood": 7.666666666666667,
                  "total_calls": 18,
                  "total_sms": 2.333333333333333,
                  "average_com": 37.11002936277669,
                  "mood_next_day": 7.399999999999999,
                  "average_soc": 58.85944523639819,
                  "average_valence": 0.8270370370370371,
                  "average_arousal": 0.3166666666666667,
                  "average_finance": 0,
                  "average_office": 0,
                  "average_entertainment": 98.7267685185185,
                  "average_game": 0,
                  "window_size": "(11, 13)",
                  "id": "AS14.33",
                  "day_after": 6.45,
                  "_deepnote_index_column": 1080
                },
                {
                  "Unnamed: 0": 1187,
                  "Unnamed: 0.1": 1186,
                  "average_mood": 7.399999999999999,
                  "total_calls": 17.666666666666668,
                  "total_sms": 0.6666666666666666,
                  "average_com": 41.17894602944335,
                  "mood_next_day": 6.849999999999999,
                  "average_soc": 77.30175956284153,
                  "average_valence": 0.6270370370370371,
                  "average_arousal": 0,
                  "average_finance": 0,
                  "average_office": 0,
                  "average_entertainment": 120.36151262626264,
                  "average_game": 0,
                  "window_size": "(12, 14)",
                  "id": "AS14.33",
                  "day_after": 6.7,
                  "_deepnote_index_column": 1081
                },
                {
                  "Unnamed: 0": 1188,
                  "Unnamed: 0.1": 1187,
                  "average_mood": 6.849999999999999,
                  "total_calls": 8,
                  "total_sms": 1.6666666666666667,
                  "average_com": 55.250809343434334,
                  "mood_next_day": 6.383333333333333,
                  "average_soc": 85.60576387978142,
                  "average_valence": 0.7166666666666668,
                  "average_arousal": -0.6833333333333332,
                  "average_finance": 0,
                  "average_office": 0,
                  "average_entertainment": 127.57598484848488,
                  "average_game": 0,
                  "window_size": "(13, 15)",
                  "id": "AS14.33",
                  "day_after": 6.675,
                  "_deepnote_index_column": 1082
                },
                {
                  "Unnamed: 0": 1189,
                  "Unnamed: 0.1": 1188,
                  "average_mood": 6.383333333333333,
                  "total_calls": 3,
                  "total_sms": 1.6666666666666667,
                  "average_com": 57.70983964646464,
                  "mood_next_day": 6.45,
                  "average_soc": 95.695154662065,
                  "average_valence": 0.5166666666666667,
                  "average_arousal": -0.95,
                  "average_finance": 0,
                  "average_office": 0,
                  "average_entertainment": 124.44933527583532,
                  "average_game": 0,
                  "window_size": "(14, 16)",
                  "id": "AS14.33",
                  "day_after": 6.741666666666666,
                  "_deepnote_index_column": 1083
                },
                {
                  "Unnamed: 0": 1190,
                  "Unnamed: 0.1": 1189,
                  "average_mood": 6.45,
                  "total_calls": 2,
                  "total_sms": 1.6666666666666667,
                  "average_com": 47.9245582137161,
                  "mood_next_day": 6.7,
                  "average_soc": 82.713096374269,
                  "average_valence": 0.5437037037037038,
                  "average_arousal": -0.8833333333333334,
                  "average_finance": 0,
                  "average_office": 0,
                  "average_entertainment": 123.98073931623932,
                  "average_game": 0,
                  "window_size": "(15, 17)",
                  "id": "AS14.33",
                  "day_after": 5.841666666666666,
                  "_deepnote_index_column": 1084
                },
                {
                  "Unnamed: 0": 1191,
                  "Unnamed: 0.1": 1190,
                  "average_mood": 6.7,
                  "total_calls": 5,
                  "total_sms": 0,
                  "average_com": 37.245796850079735,
                  "mood_next_day": 6.675,
                  "average_soc": 84.02676884340481,
                  "average_valence": 0.6270370370370371,
                  "average_arousal": -0.4666666666666668,
                  "average_finance": 0,
                  "average_office": 0,
                  "average_entertainment": 87.09632012432012,
                  "average_game": 0,
                  "window_size": "(16, 18)",
                  "id": "AS14.33",
                  "day_after": 6.333333333333332,
                  "_deepnote_index_column": 1085
                },
                {
                  "Unnamed: 0": 1192,
                  "Unnamed: 0.1": 1191,
                  "average_mood": 6.675,
                  "total_calls": 4.333333333333333,
                  "total_sms": 0,
                  "average_com": 27.10952412280701,
                  "mood_next_day": 6.741666666666666,
                  "average_soc": 101.28391358024692,
                  "average_valence": 0.3270370370370371,
                  "average_arousal": -0.4166666666666668,
                  "average_finance": 0,
                  "average_office": 0,
                  "average_entertainment": 96.35158080808078,
                  "average_game": 0,
                  "window_size": "(17, 19)",
                  "id": "AS14.33",
                  "day_after": 6.133333333333333,
                  "_deepnote_index_column": 1086
                },
                {
                  "Unnamed: 0": 1193,
                  "Unnamed: 0.1": 1192,
                  "average_mood": 6.741666666666666,
                  "total_calls": 4,
                  "total_sms": 0,
                  "average_com": 36.36245277777777,
                  "mood_next_day": 5.841666666666666,
                  "average_soc": 121.92839018843404,
                  "average_valence": 0.3000000000000001,
                  "average_arousal": -0.3500000000000001,
                  "average_finance": 0,
                  "average_office": 0,
                  "average_entertainment": 75.11573358585856,
                  "average_game": 0,
                  "window_size": "(18, 20)",
                  "id": "AS14.33",
                  "day_after": 6.533333333333332,
                  "_deepnote_index_column": 1087
                },
                {
                  "Unnamed: 0": 1194,
                  "Unnamed: 0.1": 1193,
                  "average_mood": 5.841666666666666,
                  "total_calls": 0.3333333333333333,
                  "total_sms": 0,
                  "average_com": 44.05933535353534,
                  "mood_next_day": 6.333333333333332,
                  "average_soc": 149.69846271929825,
                  "average_valence": -0.0999999999999999,
                  "average_arousal": -0.2833333333333334,
                  "average_finance": 0,
                  "average_office": 0,
                  "average_entertainment": 84.61655176767675,
                  "average_game": 0,
                  "window_size": "(19, 21)",
                  "id": "AS14.33",
                  "day_after": 5.666666666666667,
                  "_deepnote_index_column": 1088
                },
                {
                  "Unnamed: 0": 1195,
                  "Unnamed: 0.1": 1194,
                  "average_mood": 6.333333333333332,
                  "total_calls": 0,
                  "total_sms": 0,
                  "average_com": 47.72519646464645,
                  "mood_next_day": 6.133333333333333,
                  "average_soc": 120.741117481203,
                  "average_valence": 0.4000000000000001,
                  "average_arousal": -0.3333333333333335,
                  "average_finance": 0,
                  "average_office": 0,
                  "average_entertainment": 75.73123695286195,
                  "average_game": 0,
                  "window_size": "(20, 22)",
                  "id": "AS14.33",
                  "day_after": 5.944444444444444,
                  "_deepnote_index_column": 1089
                },
                {
                  "Unnamed: 0": 1196,
                  "Unnamed: 0.1": 1195,
                  "average_mood": 6.133333333333333,
                  "total_calls": 0,
                  "total_sms": 0,
                  "average_com": 38.708690115440106,
                  "mood_next_day": 6.533333333333332,
                  "average_soc": 104.36207362155388,
                  "average_valence": 0.4000000000000001,
                  "average_arousal": -0.0666666666666667,
                  "average_finance": 0,
                  "average_office": 2.012,
                  "average_entertainment": 57.01922306397305,
                  "average_game": 0,
                  "window_size": "(21, 23)",
                  "id": "AS14.33",
                  "day_after": 5.944444444444444,
                  "_deepnote_index_column": 1090
                },
                {
                  "Unnamed: 0": 1197,
                  "Unnamed: 0.1": 1196,
                  "average_mood": 6.533333333333332,
                  "total_calls": 4.333333333333333,
                  "total_sms": 0,
                  "average_com": 41.72626587301587,
                  "mood_next_day": 5.666666666666667,
                  "average_soc": 83.94604782790309,
                  "average_valence": 0.6333333333333334,
                  "average_arousal": -0.3833333333333334,
                  "average_finance": 0,
                  "average_office": 2.012,
                  "average_entertainment": 52.08093518518518,
                  "average_game": 0,
                  "window_size": "(22, 24)",
                  "id": "AS14.33",
                  "day_after": 6.611111111111111,
                  "_deepnote_index_column": 1091
                },
                {
                  "Unnamed: 0": 1198,
                  "Unnamed: 0.1": 1197,
                  "average_mood": 5.666666666666667,
                  "total_calls": 4.333333333333333,
                  "total_sms": 0,
                  "average_com": 74.8054588159588,
                  "mood_next_day": 5.944444444444444,
                  "average_soc": 91.98945689578557,
                  "average_valence": 0.3,
                  "average_arousal": -0.0833333333333334,
                  "average_finance": 0,
                  "average_office": 2.012,
                  "average_entertainment": 63.94427777777778,
                  "average_game": 0,
                  "window_size": "(23, 25)",
                  "id": "AS14.33",
                  "day_after": 6.333333333333333,
                  "_deepnote_index_column": 1092
                },
                {
                  "Unnamed: 0": 1199,
                  "Unnamed: 0.1": 1198,
                  "average_mood": 5.944444444444444,
                  "total_calls": 4.333333333333333,
                  "total_sms": 0,
                  "average_com": 71.73027627627626,
                  "mood_next_day": 5.944444444444444,
                  "average_soc": 129.16556009495994,
                  "average_valence": 0.327037037037037,
                  "average_arousal": -0.1944444444444445,
                  "average_finance": 0,
                  "average_office": 0,
                  "average_entertainment": 99.57716666666666,
                  "average_game": 0,
                  "window_size": "(24, 26)",
                  "id": "AS14.33",
                  "day_after": 6.333333333333333,
                  "_deepnote_index_column": 1093
                },
                {
                  "Unnamed: 0": 1200,
                  "Unnamed: 0.1": 1199,
                  "average_mood": 5.944444444444444,
                  "total_calls": 2.6666666666666665,
                  "total_sms": 0,
                  "average_com": 63.48142294294291,
                  "mood_next_day": 6.611111111111111,
                  "average_soc": 124.9685579474343,
                  "average_valence": 0.3207407407407407,
                  "average_arousal": 0.0555555555555554,
                  "average_finance": 0,
                  "average_office": 0,
                  "average_entertainment": 94.3109019607843,
                  "average_game": 0,
                  "window_size": "(25, 27)",
                  "id": "AS14.33",
                  "day_after": 6.066666666666666,
                  "_deepnote_index_column": 1094
                },
                {
                  "Unnamed: 0": 1201,
                  "Unnamed: 0.1": 1200,
                  "average_mood": 6.611111111111111,
                  "total_calls": 6.333333333333333,
                  "total_sms": 0,
                  "average_com": 38.249215042735024,
                  "mood_next_day": 6.333333333333333,
                  "average_soc": 123.86029899569586,
                  "average_valence": 0.4811111111111111,
                  "average_arousal": 0.0222222222222221,
                  "average_finance": 0,
                  "average_office": 0,
                  "average_entertainment": 75.81893767507002,
                  "average_game": 0,
                  "window_size": "(26, 28)",
                  "id": "AS14.33",
                  "day_after": 6.15,
                  "_deepnote_index_column": 1095
                },
                {
                  "Unnamed: 0": 1202,
                  "Unnamed: 0.1": 1201,
                  "average_mood": 6.333333333333333,
                  "total_calls": 6.333333333333333,
                  "total_sms": 0,
                  "average_com": 38.8345928205128,
                  "mood_next_day": 6.333333333333333,
                  "average_soc": 79.22640193687232,
                  "average_valence": 0.4811111111111111,
                  "average_arousal": 0.2166666666666665,
                  "average_finance": 0,
                  "average_office": 0,
                  "average_entertainment": 46.6468728602552,
                  "average_game": 0,
                  "window_size": "(27, 29)",
                  "id": "AS14.33",
                  "day_after": 6.15,
                  "_deepnote_index_column": 1096
                },
                {
                  "Unnamed: 0": 1203,
                  "Unnamed: 0.1": 1202,
                  "average_mood": 6.333333333333333,
                  "total_calls": 3.6666666666666665,
                  "total_sms": 0,
                  "average_com": 52.042890598290576,
                  "mood_next_day": 6.066666666666666,
                  "average_soc": 90.91599323421316,
                  "average_valence": 0.3874074074074074,
                  "average_arousal": 0.0166666666666665,
                  "average_finance": 0,
                  "average_office": 0,
                  "average_entertainment": 53.21719312169311,
                  "average_game": 0,
                  "window_size": "(28, 30)",
                  "id": "AS14.33",
                  "day_after": 6,
                  "_deepnote_index_column": 1097
                },
                {
                  "Unnamed: 0": 1204,
                  "Unnamed: 0.1": 1203,
                  "average_mood": 6.066666666666666,
                  "total_calls": 0,
                  "total_sms": 0,
                  "average_com": 49.20813535353534,
                  "mood_next_day": 6.15,
                  "average_soc": 110.20161143308746,
                  "average_valence": 0.2937037037037037,
                  "average_arousal": -0.1833333333333334,
                  "average_finance": 0,
                  "average_office": 0,
                  "average_entertainment": 73.1434074074074,
                  "average_game": 0,
                  "window_size": "(29, 31)",
                  "id": "AS14.33",
                  "day_after": 5.861111111111111,
                  "_deepnote_index_column": 1098
                },
                {
                  "Unnamed: 0": 1205,
                  "Unnamed: 0.1": 1204,
                  "average_mood": 6.15,
                  "total_calls": 0,
                  "total_sms": 0,
                  "average_com": 71.81416498316496,
                  "mood_next_day": 6.15,
                  "average_soc": 132.92916773939376,
                  "average_valence": 0.3,
                  "average_arousal": -0.4333333333333334,
                  "average_finance": 0,
                  "average_office": 0,
                  "average_entertainment": 100.50368888888887,
                  "average_game": 0,
                  "window_size": "(30, 32)",
                  "id": "AS14.33",
                  "day_after": 5.9944444444444445,
                  "_deepnote_index_column": 1099
                },
                {
                  "Unnamed: 0": 1206,
                  "Unnamed: 0.1": 1205,
                  "average_mood": 6.15,
                  "total_calls": 0,
                  "total_sms": 0,
                  "average_com": 66.43648976948975,
                  "mood_next_day": 6,
                  "average_soc": 134.01073604989605,
                  "average_valence": 0.3937037037037037,
                  "average_arousal": -0.4555555555555556,
                  "average_finance": 0,
                  "average_office": 0,
                  "average_entertainment": 103.11706666666667,
                  "average_game": 0,
                  "window_size": "(31, 33)",
                  "id": "AS14.33",
                  "day_after": 6.161111111111111,
                  "_deepnote_index_column": 1100
                },
                {
                  "Unnamed: 0": 1207,
                  "Unnamed: 0.1": 1206,
                  "average_mood": 6,
                  "total_calls": 2.6666666666666665,
                  "total_sms": 0,
                  "average_com": 70.54282743182742,
                  "mood_next_day": 5.861111111111111,
                  "average_soc": 109.7429616216216,
                  "average_valence": 0.4103703703703704,
                  "average_arousal": -0.2222222222222223,
                  "average_finance": 0,
                  "average_office": 0,
                  "average_entertainment": 97.5105111111111,
                  "average_game": 0,
                  "window_size": "(32, 34)",
                  "id": "AS14.33",
                  "day_after": 6.016666666666666,
                  "_deepnote_index_column": 1101
                },
                {
                  "Unnamed: 0": 1208,
                  "Unnamed: 0.1": 1207,
                  "average_mood": 5.861111111111111,
                  "total_calls": 2.6666666666666665,
                  "total_sms": 0,
                  "average_com": 50.83106143856142,
                  "mood_next_day": 5.9944444444444445,
                  "average_soc": 123.08988763854764,
                  "average_valence": 0.2437037037037037,
                  "average_arousal": -0.3333333333333335,
                  "average_finance": 0,
                  "average_office": 0,
                  "average_entertainment": 139.60437777777776,
                  "average_game": 0,
                  "window_size": "(33, 35)",
                  "id": "AS14.33",
                  "day_after": 5.949999999999999,
                  "_deepnote_index_column": 1102
                },
                {
                  "Unnamed: 0": 1209,
                  "Unnamed: 0.1": 1208,
                  "average_mood": 5.9944444444444445,
                  "total_calls": 2.6666666666666665,
                  "total_sms": 0,
                  "average_com": 41.53772430655763,
                  "mood_next_day": 6.161111111111111,
                  "average_soc": 118.3351891479816,
                  "average_valence": 0.2437037037037037,
                  "average_arousal": -0.2105263157894738,
                  "average_finance": 0,
                  "average_office": 0,
                  "average_entertainment": 142.80723015873014,
                  "average_game": 0,
                  "window_size": "(34, 36)",
                  "id": "AS14.33",
                  "day_after": 6.599999999999999,
                  "_deepnote_index_column": 1103
                },
                {
                  "Unnamed: 0": 1210,
                  "Unnamed: 0.1": 1209,
                  "average_mood": 6.161111111111111,
                  "total_calls": 1,
                  "total_sms": 2.6666666666666665,
                  "average_com": 38.00225129068461,
                  "mood_next_day": 6.016666666666666,
                  "average_soc": 116.10536060515308,
                  "average_valence": 0.3207407407407407,
                  "average_arousal": -0.6271929824561405,
                  "average_finance": 0,
                  "average_office": 0,
                  "average_entertainment": 134.3340079365079,
                  "average_game": 0,
                  "window_size": "(35, 37)",
                  "id": "AS14.33",
                  "day_after": 7.133333333333333,
                  "_deepnote_index_column": 1104
                }
              ]
            },
            "text/plain": "      Unnamed: 0  Unnamed: 0.1  average_mood  total_calls  total_sms  \\\n0              2           1.0      6.300000     2.000000   0.000000   \n1              3           2.0      6.483333     2.000000   0.000000   \n2              4           3.0      6.400000     0.000000   0.000000   \n3              5           4.0      6.516667     0.000000   0.000000   \n4              6           5.0      6.450000     0.000000   0.000000   \n...          ...           ...           ...          ...        ...   \n1100        1206        1205.0      6.150000     0.000000   0.000000   \n1101        1207        1206.0      6.000000     2.666667   0.000000   \n1102        1208        1207.0      5.861111     2.666667   0.000000   \n1103        1209        1208.0      5.994444     2.666667   0.000000   \n1104        1210        1209.0      6.161111     1.000000   2.666667   \n\n      average_com  mood_next_day  average_soc  average_valence  \\\n0       35.597530       6.483333    37.259222         0.549550   \n1       53.411540       6.400000    53.941426         0.566216   \n2       50.893593       6.516667    53.883553         0.499550   \n3       56.807075       6.450000    64.522398         0.433333   \n4       54.680243       6.783333    89.210095         0.366667   \n...           ...            ...          ...              ...   \n1100    66.436490       6.000000   134.010736         0.393704   \n1101    70.542827       5.861111   109.742962         0.410370   \n1102    50.831061       5.994444   123.089888         0.243704   \n1103    41.537724       6.161111   118.335189         0.243704   \n1104    38.002251       6.016667   116.105361         0.320741   \n\n      average_arousal  average_finance  average_office  average_entertainment  \\\n0            0.183333         4.406111       19.134000              33.228667   \n1            0.333333         8.023028       19.134000              43.711556   \n2            0.533333         7.853472        1.003333              66.744014   \n3            0.500000         9.099528        1.003333              62.557681   \n4            0.366667         8.389889        1.003333              95.430935   \n...               ...              ...             ...                    ...   \n1100        -0.455556         0.000000        0.000000             103.117067   \n1101        -0.222222         0.000000        0.000000              97.510511   \n1102        -0.333333         0.000000        0.000000             139.604378   \n1103        -0.210526         0.000000        0.000000             142.807230   \n1104        -0.627193         0.000000        0.000000             134.334008   \n\n      average_game window_size       id  day_after  \n0              0.0      (3, 5)  AS14.01   6.450000  \n1              0.0      (4, 6)  AS14.01   6.783333  \n2              0.0      (5, 7)  AS14.01   6.666667  \n3              0.0      (6, 8)  AS14.01   7.133333  \n4              0.0      (7, 9)  AS14.01   7.300000  \n...            ...         ...      ...        ...  \n1100           0.0    (31, 33)  AS14.33   6.161111  \n1101           0.0    (32, 34)  AS14.33   6.016667  \n1102           0.0    (33, 35)  AS14.33   5.950000  \n1103           0.0    (34, 36)  AS14.33   6.600000  \n1104           0.0    (35, 37)  AS14.33   7.133333  \n\n[1105 rows x 17 columns]",
            "text/html": "<div>\n<style scoped>\n    .dataframe tbody tr th:only-of-type {\n        vertical-align: middle;\n    }\n\n    .dataframe tbody tr th {\n        vertical-align: top;\n    }\n\n    .dataframe thead th {\n        text-align: right;\n    }\n</style>\n<table border=\"1\" class=\"dataframe\">\n  <thead>\n    <tr style=\"text-align: right;\">\n      <th></th>\n      <th>Unnamed: 0</th>\n      <th>Unnamed: 0.1</th>\n      <th>average_mood</th>\n      <th>total_calls</th>\n      <th>total_sms</th>\n      <th>average_com</th>\n      <th>mood_next_day</th>\n      <th>average_soc</th>\n      <th>average_valence</th>\n      <th>average_arousal</th>\n      <th>average_finance</th>\n      <th>average_office</th>\n      <th>average_entertainment</th>\n      <th>average_game</th>\n      <th>window_size</th>\n      <th>id</th>\n      <th>day_after</th>\n    </tr>\n  </thead>\n  <tbody>\n    <tr>\n      <th>0</th>\n      <td>2</td>\n      <td>1.0</td>\n      <td>6.300000</td>\n      <td>2.000000</td>\n      <td>0.000000</td>\n      <td>35.597530</td>\n      <td>6.483333</td>\n      <td>37.259222</td>\n      <td>0.549550</td>\n      <td>0.183333</td>\n      <td>4.406111</td>\n      <td>19.134000</td>\n      <td>33.228667</td>\n      <td>0.0</td>\n      <td>(3, 5)</td>\n      <td>AS14.01</td>\n      <td>6.450000</td>\n    </tr>\n    <tr>\n      <th>1</th>\n      <td>3</td>\n      <td>2.0</td>\n      <td>6.483333</td>\n      <td>2.000000</td>\n      <td>0.000000</td>\n      <td>53.411540</td>\n      <td>6.400000</td>\n      <td>53.941426</td>\n      <td>0.566216</td>\n      <td>0.333333</td>\n      <td>8.023028</td>\n      <td>19.134000</td>\n      <td>43.711556</td>\n      <td>0.0</td>\n      <td>(4, 6)</td>\n      <td>AS14.01</td>\n      <td>6.783333</td>\n    </tr>\n    <tr>\n      <th>2</th>\n      <td>4</td>\n      <td>3.0</td>\n      <td>6.400000</td>\n      <td>0.000000</td>\n      <td>0.000000</td>\n      <td>50.893593</td>\n      <td>6.516667</td>\n      <td>53.883553</td>\n      <td>0.499550</td>\n      <td>0.533333</td>\n      <td>7.853472</td>\n      <td>1.003333</td>\n      <td>66.744014</td>\n      <td>0.0</td>\n      <td>(5, 7)</td>\n      <td>AS14.01</td>\n      <td>6.666667</td>\n    </tr>\n    <tr>\n      <th>3</th>\n      <td>5</td>\n      <td>4.0</td>\n      <td>6.516667</td>\n      <td>0.000000</td>\n      <td>0.000000</td>\n      <td>56.807075</td>\n      <td>6.450000</td>\n      <td>64.522398</td>\n      <td>0.433333</td>\n      <td>0.500000</td>\n      <td>9.099528</td>\n      <td>1.003333</td>\n      <td>62.557681</td>\n      <td>0.0</td>\n      <td>(6, 8)</td>\n      <td>AS14.01</td>\n      <td>7.133333</td>\n    </tr>\n    <tr>\n      <th>4</th>\n      <td>6</td>\n      <td>5.0</td>\n      <td>6.450000</td>\n      <td>0.000000</td>\n      <td>0.000000</td>\n      <td>54.680243</td>\n      <td>6.783333</td>\n      <td>89.210095</td>\n      <td>0.366667</td>\n      <td>0.366667</td>\n      <td>8.389889</td>\n      <td>1.003333</td>\n      <td>95.430935</td>\n      <td>0.0</td>\n      <td>(7, 9)</td>\n      <td>AS14.01</td>\n      <td>7.300000</td>\n    </tr>\n    <tr>\n      <th>...</th>\n      <td>...</td>\n      <td>...</td>\n      <td>...</td>\n      <td>...</td>\n      <td>...</td>\n      <td>...</td>\n      <td>...</td>\n      <td>...</td>\n      <td>...</td>\n      <td>...</td>\n      <td>...</td>\n      <td>...</td>\n      <td>...</td>\n      <td>...</td>\n      <td>...</td>\n      <td>...</td>\n      <td>...</td>\n    </tr>\n    <tr>\n      <th>1100</th>\n      <td>1206</td>\n      <td>1205.0</td>\n      <td>6.150000</td>\n      <td>0.000000</td>\n      <td>0.000000</td>\n      <td>66.436490</td>\n      <td>6.000000</td>\n      <td>134.010736</td>\n      <td>0.393704</td>\n      <td>-0.455556</td>\n      <td>0.000000</td>\n      <td>0.000000</td>\n      <td>103.117067</td>\n      <td>0.0</td>\n      <td>(31, 33)</td>\n      <td>AS14.33</td>\n      <td>6.161111</td>\n    </tr>\n    <tr>\n      <th>1101</th>\n      <td>1207</td>\n      <td>1206.0</td>\n      <td>6.000000</td>\n      <td>2.666667</td>\n      <td>0.000000</td>\n      <td>70.542827</td>\n      <td>5.861111</td>\n      <td>109.742962</td>\n      <td>0.410370</td>\n      <td>-0.222222</td>\n      <td>0.000000</td>\n      <td>0.000000</td>\n      <td>97.510511</td>\n      <td>0.0</td>\n      <td>(32, 34)</td>\n      <td>AS14.33</td>\n      <td>6.016667</td>\n    </tr>\n    <tr>\n      <th>1102</th>\n      <td>1208</td>\n      <td>1207.0</td>\n      <td>5.861111</td>\n      <td>2.666667</td>\n      <td>0.000000</td>\n      <td>50.831061</td>\n      <td>5.994444</td>\n      <td>123.089888</td>\n      <td>0.243704</td>\n      <td>-0.333333</td>\n      <td>0.000000</td>\n      <td>0.000000</td>\n      <td>139.604378</td>\n      <td>0.0</td>\n      <td>(33, 35)</td>\n      <td>AS14.33</td>\n      <td>5.950000</td>\n    </tr>\n    <tr>\n      <th>1103</th>\n      <td>1209</td>\n      <td>1208.0</td>\n      <td>5.994444</td>\n      <td>2.666667</td>\n      <td>0.000000</td>\n      <td>41.537724</td>\n      <td>6.161111</td>\n      <td>118.335189</td>\n      <td>0.243704</td>\n      <td>-0.210526</td>\n      <td>0.000000</td>\n      <td>0.000000</td>\n      <td>142.807230</td>\n      <td>0.0</td>\n      <td>(34, 36)</td>\n      <td>AS14.33</td>\n      <td>6.600000</td>\n    </tr>\n    <tr>\n      <th>1104</th>\n      <td>1210</td>\n      <td>1209.0</td>\n      <td>6.161111</td>\n      <td>1.000000</td>\n      <td>2.666667</td>\n      <td>38.002251</td>\n      <td>6.016667</td>\n      <td>116.105361</td>\n      <td>0.320741</td>\n      <td>-0.627193</td>\n      <td>0.000000</td>\n      <td>0.000000</td>\n      <td>134.334008</td>\n      <td>0.0</td>\n      <td>(35, 37)</td>\n      <td>AS14.33</td>\n      <td>7.133333</td>\n    </tr>\n  </tbody>\n</table>\n<p>1105 rows × 17 columns</p>\n</div>"
          },
          "metadata": {}
        }
      ]
    },
    {
      "cell_type": "code",
      "metadata": {
        "tags": [],
        "cell_id": "00011-4196044f-7f11-44b5-a1e9-6fb8d2c9217d",
        "deepnote_to_be_reexecuted": false,
        "source_hash": "41cce8b0",
        "execution_millis": 0,
        "execution_start": 1617876863256,
        "deepnote_cell_type": "code"
      },
      "source": "df_window['average_valence'] = df_window['average_valence'].fillna(df_window.groupby('id')['average_valence'].transform('mean'))\ndf_window['average_arousal'] = df_window['average_arousal'].fillna(df_window.groupby('id')['average_arousal'].transform('mean'))",
      "execution_count": null,
      "outputs": []
    },
    {
      "cell_type": "code",
      "metadata": {
        "tags": [],
        "cell_id": "00012-0efff68a-60fb-4936-b914-e22f7f145e26",
        "deepnote_to_be_reexecuted": false,
        "source_hash": "2228e9e0",
        "execution_start": 1617876866168,
        "execution_millis": 68,
        "deepnote_cell_type": "code"
      },
      "source": "df_window",
      "execution_count": null,
      "outputs": [
        {
          "output_type": "execute_result",
          "execution_count": 112,
          "data": {
            "application/vnd.deepnote.dataframe.v2+json": {
              "row_count": 1105,
              "column_count": 17,
              "columns": [
                {
                  "name": "Unnamed: 0",
                  "dtype": "int64",
                  "stats": {
                    "unique_count": 1105,
                    "nan_count": 0,
                    "min": 2,
                    "max": 1210,
                    "histogram": [
                      {
                        "bin_start": 2,
                        "bin_end": 122.8,
                        "count": 113
                      },
                      {
                        "bin_start": 122.8,
                        "bin_end": 243.6,
                        "count": 109
                      },
                      {
                        "bin_start": 243.6,
                        "bin_end": 364.4,
                        "count": 113
                      },
                      {
                        "bin_start": 364.4,
                        "bin_end": 485.2,
                        "count": 109
                      },
                      {
                        "bin_start": 485.2,
                        "bin_end": 606,
                        "count": 112
                      },
                      {
                        "bin_start": 606,
                        "bin_end": 726.8,
                        "count": 109
                      },
                      {
                        "bin_start": 726.8,
                        "bin_end": 847.6,
                        "count": 109
                      },
                      {
                        "bin_start": 847.6,
                        "bin_end": 968.4,
                        "count": 113
                      },
                      {
                        "bin_start": 968.4,
                        "bin_end": 1089.2,
                        "count": 109
                      },
                      {
                        "bin_start": 1089.2,
                        "bin_end": 1210,
                        "count": 109
                      }
                    ]
                  }
                },
                {
                  "name": "Unnamed: 0.1",
                  "dtype": "float64",
                  "stats": {
                    "unique_count": 1053,
                    "nan_count": 52,
                    "min": 1,
                    "max": 1209,
                    "histogram": [
                      {
                        "bin_start": 1,
                        "bin_end": 121.8,
                        "count": 109
                      },
                      {
                        "bin_start": 121.8,
                        "bin_end": 242.6,
                        "count": 103
                      },
                      {
                        "bin_start": 242.6,
                        "bin_end": 363.4,
                        "count": 109
                      },
                      {
                        "bin_start": 363.4,
                        "bin_end": 484.2,
                        "count": 103
                      },
                      {
                        "bin_start": 484.2,
                        "bin_end": 605,
                        "count": 108
                      },
                      {
                        "bin_start": 605,
                        "bin_end": 725.8,
                        "count": 103
                      },
                      {
                        "bin_start": 725.8,
                        "bin_end": 846.6,
                        "count": 105
                      },
                      {
                        "bin_start": 846.6,
                        "bin_end": 967.4,
                        "count": 107
                      },
                      {
                        "bin_start": 967.4,
                        "bin_end": 1088.2,
                        "count": 103
                      },
                      {
                        "bin_start": 1088.2,
                        "bin_end": 1209,
                        "count": 103
                      }
                    ]
                  }
                },
                {
                  "name": "average_mood",
                  "dtype": "float64",
                  "stats": {
                    "unique_count": 314,
                    "nan_count": 52,
                    "min": 3.966666666666667,
                    "max": 8.377777777777776,
                    "histogram": [
                      {
                        "bin_start": 3.966666666666667,
                        "bin_end": 4.407777777777778,
                        "count": 1
                      },
                      {
                        "bin_start": 4.407777777777778,
                        "bin_end": 4.848888888888888,
                        "count": 3
                      },
                      {
                        "bin_start": 4.848888888888888,
                        "bin_end": 5.289999999999999,
                        "count": 7
                      },
                      {
                        "bin_start": 5.289999999999999,
                        "bin_end": 5.731111111111111,
                        "count": 14
                      },
                      {
                        "bin_start": 5.731111111111111,
                        "bin_end": 6.172222222222222,
                        "count": 61
                      },
                      {
                        "bin_start": 6.172222222222222,
                        "bin_end": 6.613333333333332,
                        "count": 158
                      },
                      {
                        "bin_start": 6.613333333333332,
                        "bin_end": 7.054444444444444,
                        "count": 296
                      },
                      {
                        "bin_start": 7.054444444444444,
                        "bin_end": 7.495555555555555,
                        "count": 337
                      },
                      {
                        "bin_start": 7.495555555555555,
                        "bin_end": 7.936666666666666,
                        "count": 143
                      },
                      {
                        "bin_start": 7.936666666666666,
                        "bin_end": 8.377777777777776,
                        "count": 33
                      }
                    ]
                  }
                },
                {
                  "name": "total_calls",
                  "dtype": "float64",
                  "stats": {
                    "unique_count": 39,
                    "nan_count": 52,
                    "min": 0,
                    "max": 18,
                    "histogram": [
                      {
                        "bin_start": 0,
                        "bin_end": 1.8,
                        "count": 563
                      },
                      {
                        "bin_start": 1.8,
                        "bin_end": 3.6,
                        "count": 221
                      },
                      {
                        "bin_start": 3.6,
                        "bin_end": 5.4,
                        "count": 140
                      },
                      {
                        "bin_start": 5.4,
                        "bin_end": 7.2,
                        "count": 65
                      },
                      {
                        "bin_start": 7.2,
                        "bin_end": 9,
                        "count": 34
                      },
                      {
                        "bin_start": 9,
                        "bin_end": 10.8,
                        "count": 21
                      },
                      {
                        "bin_start": 10.8,
                        "bin_end": 12.6,
                        "count": 2
                      },
                      {
                        "bin_start": 12.6,
                        "bin_end": 14.4,
                        "count": 4
                      },
                      {
                        "bin_start": 14.4,
                        "bin_end": 16.2,
                        "count": 1
                      },
                      {
                        "bin_start": 16.2,
                        "bin_end": 18,
                        "count": 2
                      }
                    ]
                  }
                },
                {
                  "name": "total_sms",
                  "dtype": "float64",
                  "stats": {
                    "unique_count": 28,
                    "nan_count": 52,
                    "min": 0,
                    "max": 15,
                    "histogram": [
                      {
                        "bin_start": 0,
                        "bin_end": 1.5,
                        "count": 848
                      },
                      {
                        "bin_start": 1.5,
                        "bin_end": 3,
                        "count": 106
                      },
                      {
                        "bin_start": 3,
                        "bin_end": 4.5,
                        "count": 48
                      },
                      {
                        "bin_start": 4.5,
                        "bin_end": 6,
                        "count": 26
                      },
                      {
                        "bin_start": 6,
                        "bin_end": 7.5,
                        "count": 3
                      },
                      {
                        "bin_start": 7.5,
                        "bin_end": 9,
                        "count": 15
                      },
                      {
                        "bin_start": 9,
                        "bin_end": 10.5,
                        "count": 4
                      },
                      {
                        "bin_start": 10.5,
                        "bin_end": 12,
                        "count": 1
                      },
                      {
                        "bin_start": 12,
                        "bin_end": 13.5,
                        "count": 0
                      },
                      {
                        "bin_start": 13.5,
                        "bin_end": 15,
                        "count": 2
                      }
                    ]
                  }
                },
                {
                  "name": "average_com",
                  "dtype": "float64",
                  "stats": {
                    "unique_count": 1011,
                    "nan_count": 52,
                    "min": 0,
                    "max": 268.99595751633984,
                    "histogram": [
                      {
                        "bin_start": 0,
                        "bin_end": 26.899595751633985,
                        "count": 222
                      },
                      {
                        "bin_start": 26.899595751633985,
                        "bin_end": 53.79919150326797,
                        "count": 616
                      },
                      {
                        "bin_start": 53.79919150326797,
                        "bin_end": 80.69878725490196,
                        "count": 169
                      },
                      {
                        "bin_start": 80.69878725490196,
                        "bin_end": 107.59838300653594,
                        "count": 27
                      },
                      {
                        "bin_start": 107.59838300653594,
                        "bin_end": 134.49797875816992,
                        "count": 6
                      },
                      {
                        "bin_start": 134.49797875816992,
                        "bin_end": 161.39757450980392,
                        "count": 5
                      },
                      {
                        "bin_start": 161.39757450980392,
                        "bin_end": 188.29717026143788,
                        "count": 2
                      },
                      {
                        "bin_start": 188.29717026143788,
                        "bin_end": 215.19676601307188,
                        "count": 5
                      },
                      {
                        "bin_start": 215.19676601307188,
                        "bin_end": 242.09636176470588,
                        "count": 0
                      },
                      {
                        "bin_start": 242.09636176470588,
                        "bin_end": 268.99595751633984,
                        "count": 1
                      }
                    ]
                  }
                },
                {
                  "name": "mood_next_day",
                  "dtype": "float64",
                  "stats": {
                    "unique_count": 313,
                    "nan_count": 52,
                    "min": 3.9666666666666672,
                    "max": 8.377777777777776,
                    "histogram": [
                      {
                        "bin_start": 3.9666666666666672,
                        "bin_end": 4.4077777777777785,
                        "count": 1
                      },
                      {
                        "bin_start": 4.4077777777777785,
                        "bin_end": 4.848888888888889,
                        "count": 3
                      },
                      {
                        "bin_start": 4.848888888888889,
                        "bin_end": 5.29,
                        "count": 8
                      },
                      {
                        "bin_start": 5.29,
                        "bin_end": 5.731111111111111,
                        "count": 15
                      },
                      {
                        "bin_start": 5.731111111111111,
                        "bin_end": 6.1722222222222225,
                        "count": 63
                      },
                      {
                        "bin_start": 6.1722222222222225,
                        "bin_end": 6.613333333333333,
                        "count": 157
                      },
                      {
                        "bin_start": 6.613333333333333,
                        "bin_end": 7.054444444444444,
                        "count": 290
                      },
                      {
                        "bin_start": 7.054444444444444,
                        "bin_end": 7.495555555555555,
                        "count": 340
                      },
                      {
                        "bin_start": 7.495555555555555,
                        "bin_end": 7.936666666666666,
                        "count": 142
                      },
                      {
                        "bin_start": 7.936666666666666,
                        "bin_end": 8.377777777777776,
                        "count": 34
                      }
                    ]
                  }
                },
                {
                  "name": "average_soc",
                  "dtype": "float64",
                  "stats": {
                    "unique_count": 893,
                    "nan_count": 52,
                    "min": 0,
                    "max": 1267.7156057692307,
                    "histogram": [
                      {
                        "bin_start": 0,
                        "bin_end": 126.77156057692306,
                        "count": 975
                      },
                      {
                        "bin_start": 126.77156057692306,
                        "bin_end": 253.54312115384613,
                        "count": 64
                      },
                      {
                        "bin_start": 253.54312115384613,
                        "bin_end": 380.31468173076917,
                        "count": 9
                      },
                      {
                        "bin_start": 380.31468173076917,
                        "bin_end": 507.08624230769226,
                        "count": 1
                      },
                      {
                        "bin_start": 507.08624230769226,
                        "bin_end": 633.8578028846154,
                        "count": 1
                      },
                      {
                        "bin_start": 633.8578028846154,
                        "bin_end": 760.6293634615383,
                        "count": 0
                      },
                      {
                        "bin_start": 760.6293634615383,
                        "bin_end": 887.4009240384614,
                        "count": 0
                      },
                      {
                        "bin_start": 887.4009240384614,
                        "bin_end": 1014.1724846153845,
                        "count": 0
                      },
                      {
                        "bin_start": 1014.1724846153845,
                        "bin_end": 1140.9440451923076,
                        "count": 0
                      },
                      {
                        "bin_start": 1140.9440451923076,
                        "bin_end": 1267.7156057692307,
                        "count": 3
                      }
                    ]
                  }
                },
                {
                  "name": "average_valence",
                  "dtype": "float64",
                  "stats": {
                    "unique_count": 345,
                    "nan_count": 0,
                    "min": -1,
                    "max": 1.5666666666666669,
                    "histogram": [
                      {
                        "bin_start": -1,
                        "bin_end": -0.7433333333333333,
                        "count": 1
                      },
                      {
                        "bin_start": -0.7433333333333333,
                        "bin_end": -0.4866666666666666,
                        "count": 1
                      },
                      {
                        "bin_start": -0.4866666666666666,
                        "bin_end": -0.22999999999999987,
                        "count": 3
                      },
                      {
                        "bin_start": -0.22999999999999987,
                        "bin_end": 0.02666666666666684,
                        "count": 28
                      },
                      {
                        "bin_start": 0.02666666666666684,
                        "bin_end": 0.28333333333333366,
                        "count": 81
                      },
                      {
                        "bin_start": 0.28333333333333366,
                        "bin_end": 0.5400000000000003,
                        "count": 225
                      },
                      {
                        "bin_start": 0.5400000000000003,
                        "bin_end": 0.7966666666666669,
                        "count": 304
                      },
                      {
                        "bin_start": 0.7966666666666669,
                        "bin_end": 1.0533333333333337,
                        "count": 386
                      },
                      {
                        "bin_start": 1.0533333333333337,
                        "bin_end": 1.3100000000000005,
                        "count": 64
                      },
                      {
                        "bin_start": 1.3100000000000005,
                        "bin_end": 1.5666666666666669,
                        "count": 12
                      }
                    ]
                  }
                },
                {
                  "name": "average_arousal",
                  "dtype": "float64",
                  "stats": {
                    "unique_count": 375,
                    "nan_count": 0,
                    "min": -1.8,
                    "max": 1.3333333333333333,
                    "histogram": [
                      {
                        "bin_start": -1.8,
                        "bin_end": -1.4866666666666668,
                        "count": 1
                      },
                      {
                        "bin_start": -1.4866666666666668,
                        "bin_end": -1.1733333333333333,
                        "count": 14
                      },
                      {
                        "bin_start": -1.1733333333333333,
                        "bin_end": -0.86,
                        "count": 57
                      },
                      {
                        "bin_start": -0.86,
                        "bin_end": -0.5466666666666666,
                        "count": 93
                      },
                      {
                        "bin_start": -0.5466666666666666,
                        "bin_end": -0.23333333333333317,
                        "count": 252
                      },
                      {
                        "bin_start": -0.23333333333333317,
                        "bin_end": 0.08000000000000007,
                        "count": 295
                      },
                      {
                        "bin_start": 0.08000000000000007,
                        "bin_end": 0.3933333333333333,
                        "count": 208
                      },
                      {
                        "bin_start": 0.3933333333333333,
                        "bin_end": 0.7066666666666668,
                        "count": 132
                      },
                      {
                        "bin_start": 0.7066666666666668,
                        "bin_end": 1.0200000000000002,
                        "count": 41
                      },
                      {
                        "bin_start": 1.0200000000000002,
                        "bin_end": 1.3333333333333333,
                        "count": 12
                      }
                    ]
                  }
                },
                {
                  "name": "average_finance",
                  "dtype": "float64",
                  "stats": {
                    "unique_count": 241,
                    "nan_count": 52,
                    "min": 0,
                    "max": 76.67488888888889,
                    "histogram": [
                      {
                        "bin_start": 0,
                        "bin_end": 7.667488888888888,
                        "count": 855
                      },
                      {
                        "bin_start": 7.667488888888888,
                        "bin_end": 15.334977777777777,
                        "count": 91
                      },
                      {
                        "bin_start": 15.334977777777777,
                        "bin_end": 23.002466666666663,
                        "count": 42
                      },
                      {
                        "bin_start": 23.002466666666663,
                        "bin_end": 30.669955555555553,
                        "count": 26
                      },
                      {
                        "bin_start": 30.669955555555553,
                        "bin_end": 38.33744444444444,
                        "count": 17
                      },
                      {
                        "bin_start": 38.33744444444444,
                        "bin_end": 46.00493333333333,
                        "count": 8
                      },
                      {
                        "bin_start": 46.00493333333333,
                        "bin_end": 53.67242222222222,
                        "count": 6
                      },
                      {
                        "bin_start": 53.67242222222222,
                        "bin_end": 61.33991111111111,
                        "count": 3
                      },
                      {
                        "bin_start": 61.33991111111111,
                        "bin_end": 69.00739999999999,
                        "count": 4
                      },
                      {
                        "bin_start": 69.00739999999999,
                        "bin_end": 76.67488888888889,
                        "count": 1
                      }
                    ]
                  }
                },
                {
                  "name": "average_office",
                  "dtype": "float64",
                  "stats": {
                    "unique_count": 295,
                    "nan_count": 52,
                    "min": 0,
                    "max": 510.4858611111112,
                    "histogram": [
                      {
                        "bin_start": 0,
                        "bin_end": 51.04858611111112,
                        "count": 1002
                      },
                      {
                        "bin_start": 51.04858611111112,
                        "bin_end": 102.09717222222224,
                        "count": 32
                      },
                      {
                        "bin_start": 102.09717222222224,
                        "bin_end": 153.14575833333336,
                        "count": 11
                      },
                      {
                        "bin_start": 153.14575833333336,
                        "bin_end": 204.19434444444448,
                        "count": 5
                      },
                      {
                        "bin_start": 204.19434444444448,
                        "bin_end": 255.2429305555556,
                        "count": 0
                      },
                      {
                        "bin_start": 255.2429305555556,
                        "bin_end": 306.2915166666667,
                        "count": 0
                      },
                      {
                        "bin_start": 306.2915166666667,
                        "bin_end": 357.3401027777778,
                        "count": 0
                      },
                      {
                        "bin_start": 357.3401027777778,
                        "bin_end": 408.38868888888896,
                        "count": 0
                      },
                      {
                        "bin_start": 408.38868888888896,
                        "bin_end": 459.4372750000001,
                        "count": 0
                      },
                      {
                        "bin_start": 459.4372750000001,
                        "bin_end": 510.4858611111112,
                        "count": 3
                      }
                    ]
                  }
                },
                {
                  "name": "average_entertainment",
                  "dtype": "float64",
                  "stats": {
                    "unique_count": 779,
                    "nan_count": 52,
                    "min": 0,
                    "max": 720.9020555555554,
                    "histogram": [
                      {
                        "bin_start": 0,
                        "bin_end": 72.09020555555554,
                        "count": 736
                      },
                      {
                        "bin_start": 72.09020555555554,
                        "bin_end": 144.18041111111108,
                        "count": 166
                      },
                      {
                        "bin_start": 144.18041111111108,
                        "bin_end": 216.27061666666663,
                        "count": 76
                      },
                      {
                        "bin_start": 216.27061666666663,
                        "bin_end": 288.36082222222217,
                        "count": 33
                      },
                      {
                        "bin_start": 288.36082222222217,
                        "bin_end": 360.4510277777777,
                        "count": 14
                      },
                      {
                        "bin_start": 360.4510277777777,
                        "bin_end": 432.54123333333325,
                        "count": 12
                      },
                      {
                        "bin_start": 432.54123333333325,
                        "bin_end": 504.6314388888888,
                        "count": 8
                      },
                      {
                        "bin_start": 504.6314388888888,
                        "bin_end": 576.7216444444443,
                        "count": 3
                      },
                      {
                        "bin_start": 576.7216444444443,
                        "bin_end": 648.8118499999998,
                        "count": 2
                      },
                      {
                        "bin_start": 648.8118499999998,
                        "bin_end": 720.9020555555554,
                        "count": 3
                      }
                    ]
                  }
                },
                {
                  "name": "average_game",
                  "dtype": "float64",
                  "stats": {
                    "unique_count": 193,
                    "nan_count": 52,
                    "min": 0,
                    "max": 854.3023333333334,
                    "histogram": [
                      {
                        "bin_start": 0,
                        "bin_end": 85.43023333333335,
                        "count": 979
                      },
                      {
                        "bin_start": 85.43023333333335,
                        "bin_end": 170.8604666666667,
                        "count": 26
                      },
                      {
                        "bin_start": 170.8604666666667,
                        "bin_end": 256.2907,
                        "count": 16
                      },
                      {
                        "bin_start": 256.2907,
                        "bin_end": 341.7209333333334,
                        "count": 17
                      },
                      {
                        "bin_start": 341.7209333333334,
                        "bin_end": 427.15116666666677,
                        "count": 10
                      },
                      {
                        "bin_start": 427.15116666666677,
                        "bin_end": 512.5814,
                        "count": 1
                      },
                      {
                        "bin_start": 512.5814,
                        "bin_end": 598.0116333333334,
                        "count": 1
                      },
                      {
                        "bin_start": 598.0116333333334,
                        "bin_end": 683.4418666666668,
                        "count": 0
                      },
                      {
                        "bin_start": 683.4418666666668,
                        "bin_end": 768.8721000000002,
                        "count": 0
                      },
                      {
                        "bin_start": 768.8721000000002,
                        "bin_end": 854.3023333333334,
                        "count": 3
                      }
                    ]
                  }
                },
                {
                  "name": "window_size",
                  "dtype": "object",
                  "stats": {
                    "unique_count": 62,
                    "nan_count": 0,
                    "categories": [
                      {
                        "name": "(3, 5)",
                        "count": 27
                      },
                      {
                        "name": "(4, 6)",
                        "count": 27
                      },
                      {
                        "name": "60 others",
                        "count": 1051
                      }
                    ]
                  }
                },
                {
                  "name": "id",
                  "dtype": "object",
                  "stats": {
                    "unique_count": 27,
                    "nan_count": 0,
                    "categories": [
                      {
                        "name": "AS14.26",
                        "count": 62
                      },
                      {
                        "name": "AS14.08",
                        "count": 57
                      },
                      {
                        "name": "25 others",
                        "count": 986
                      }
                    ]
                  }
                },
                {
                  "name": "day_after",
                  "dtype": "float64",
                  "stats": {
                    "unique_count": 328,
                    "nan_count": 0,
                    "min": 3.966666666666667,
                    "max": 8.377777777777776,
                    "histogram": [
                      {
                        "bin_start": 3.966666666666667,
                        "bin_end": 4.407777777777778,
                        "count": 1
                      },
                      {
                        "bin_start": 4.407777777777778,
                        "bin_end": 4.848888888888888,
                        "count": 3
                      },
                      {
                        "bin_start": 4.848888888888888,
                        "bin_end": 5.289999999999999,
                        "count": 8
                      },
                      {
                        "bin_start": 5.289999999999999,
                        "bin_end": 5.731111111111111,
                        "count": 20
                      },
                      {
                        "bin_start": 5.731111111111111,
                        "bin_end": 6.172222222222222,
                        "count": 66
                      },
                      {
                        "bin_start": 6.172222222222222,
                        "bin_end": 6.613333333333332,
                        "count": 152
                      },
                      {
                        "bin_start": 6.613333333333332,
                        "bin_end": 7.054444444444444,
                        "count": 312
                      },
                      {
                        "bin_start": 7.054444444444444,
                        "bin_end": 7.495555555555555,
                        "count": 357
                      },
                      {
                        "bin_start": 7.495555555555555,
                        "bin_end": 7.936666666666666,
                        "count": 148
                      },
                      {
                        "bin_start": 7.936666666666666,
                        "bin_end": 8.377777777777776,
                        "count": 38
                      }
                    ]
                  }
                },
                {
                  "name": "_deepnote_index_column",
                  "dtype": "int64"
                }
              ],
              "rows_top": [
                {
                  "Unnamed: 0": 2,
                  "Unnamed: 0.1": 1,
                  "average_mood": 6.3,
                  "total_calls": 2,
                  "total_sms": 0,
                  "average_com": 35.59752960526317,
                  "mood_next_day": 6.483333333333333,
                  "average_soc": 37.25922222222223,
                  "average_valence": 0.5495495495495496,
                  "average_arousal": 0.1833333333333333,
                  "average_finance": 4.406111111111112,
                  "average_office": 19.134000000000004,
                  "average_entertainment": 33.22866666666667,
                  "average_game": 0,
                  "window_size": "(3, 5)",
                  "id": "AS14.01",
                  "day_after": 6.449999999999999,
                  "_deepnote_index_column": 0
                },
                {
                  "Unnamed: 0": 3,
                  "Unnamed: 0.1": 2,
                  "average_mood": 6.483333333333333,
                  "total_calls": 2,
                  "total_sms": 0,
                  "average_com": 53.4115398093448,
                  "mood_next_day": 6.4,
                  "average_soc": 53.94142592592593,
                  "average_valence": 0.5662162162162162,
                  "average_arousal": 0.3333333333333333,
                  "average_finance": 8.023027777777777,
                  "average_office": 19.134000000000004,
                  "average_entertainment": 43.71155555555556,
                  "average_game": 0,
                  "window_size": "(4, 6)",
                  "id": "AS14.01",
                  "day_after": 6.783333333333332,
                  "_deepnote_index_column": 1
                },
                {
                  "Unnamed: 0": 4,
                  "Unnamed: 0.1": 3,
                  "average_mood": 6.4,
                  "total_calls": 0,
                  "total_sms": 0,
                  "average_com": 50.89359343057736,
                  "mood_next_day": 6.516666666666667,
                  "average_soc": 53.883552540913,
                  "average_valence": 0.4995495495495496,
                  "average_arousal": 0.5333333333333333,
                  "average_finance": 7.853472222222222,
                  "average_office": 1.0033333333333332,
                  "average_entertainment": 66.74401388888889,
                  "average_game": 0,
                  "window_size": "(5, 7)",
                  "id": "AS14.01",
                  "day_after": 6.666666666666667,
                  "_deepnote_index_column": 2
                },
                {
                  "Unnamed: 0": 5,
                  "Unnamed: 0.1": 4,
                  "average_mood": 6.516666666666667,
                  "total_calls": 0,
                  "total_sms": 0,
                  "average_com": 56.80707484949627,
                  "mood_next_day": 6.449999999999999,
                  "average_soc": 64.52239777900824,
                  "average_valence": 0.4333333333333333,
                  "average_arousal": 0.5,
                  "average_finance": 9.099527777777778,
                  "average_office": 1.0033333333333332,
                  "average_entertainment": 62.55768055555556,
                  "average_game": 0,
                  "window_size": "(6, 8)",
                  "id": "AS14.01",
                  "day_after": 7.133333333333334,
                  "_deepnote_index_column": 3
                },
                {
                  "Unnamed: 0": 6,
                  "Unnamed: 0.1": 5,
                  "average_mood": 6.449999999999999,
                  "total_calls": 0,
                  "total_sms": 0,
                  "average_com": 54.68024265588585,
                  "mood_next_day": 6.783333333333332,
                  "average_soc": 89.21009497620543,
                  "average_valence": 0.3666666666666667,
                  "average_arousal": 0.3666666666666667,
                  "average_finance": 8.38988888888889,
                  "average_office": 1.0033333333333332,
                  "average_entertainment": 95.43093452380953,
                  "average_game": 0,
                  "window_size": "(7, 9)",
                  "id": "AS14.01",
                  "day_after": 7.300000000000001,
                  "_deepnote_index_column": 4
                },
                {
                  "Unnamed: 0": 7,
                  "Unnamed: 0.1": 6,
                  "average_mood": 6.783333333333332,
                  "total_calls": 5,
                  "total_sms": 0,
                  "average_com": 53.28408026272346,
                  "mood_next_day": 6.666666666666667,
                  "average_soc": 88.20487434412433,
                  "average_valence": 0.6333333333333333,
                  "average_arousal": 0.1666666666666666,
                  "average_finance": 11.186111111111112,
                  "average_office": 5.068083333333333,
                  "average_entertainment": 78.40303174603174,
                  "average_game": 0,
                  "window_size": "(8, 10)",
                  "id": "AS14.01",
                  "day_after": 7.633333333333333,
                  "_deepnote_index_column": 5
                },
                {
                  "Unnamed: 0": 8,
                  "Unnamed: 0.1": 7,
                  "average_mood": 6.666666666666667,
                  "total_calls": 6.666666666666667,
                  "total_sms": 0,
                  "average_com": 38.16447615861935,
                  "mood_next_day": 7.133333333333334,
                  "average_soc": 73.89971243936243,
                  "average_valence": 0.6666666666666666,
                  "average_arousal": -0.1999999999999999,
                  "average_finance": 11.844277777777778,
                  "average_office": 5.068083333333333,
                  "average_entertainment": 97.50212265512266,
                  "average_game": 38.839333333333336,
                  "window_size": "(9, 11)",
                  "id": "AS14.01",
                  "day_after": 6.966666666666666,
                  "_deepnote_index_column": 6
                },
                {
                  "Unnamed: 0": 9,
                  "Unnamed: 0.1": 8,
                  "average_mood": 7.133333333333334,
                  "total_calls": 6.666666666666667,
                  "total_sms": 0,
                  "average_com": 38.38777768031189,
                  "mood_next_day": 7.300000000000001,
                  "average_soc": 52.2334782051282,
                  "average_valence": 0.7999999999999999,
                  "average_arousal": -0.0666666666666666,
                  "average_finance": 8.937,
                  "average_office": 5.068083333333333,
                  "average_entertainment": 90.3110686868687,
                  "average_game": 38.839333333333336,
                  "window_size": "(10, 12)",
                  "id": "AS14.01",
                  "day_after": 6.633333333333333,
                  "_deepnote_index_column": 7
                },
                {
                  "Unnamed: 0": 10,
                  "Unnamed: 0.1": 9,
                  "average_mood": 7.300000000000001,
                  "total_calls": 1.6666666666666667,
                  "total_sms": 0,
                  "average_com": 44.5479014898357,
                  "mood_next_day": 7.633333333333333,
                  "average_soc": 46.88101666666666,
                  "average_valence": 0.7833333333333333,
                  "average_arousal": -0.3,
                  "average_finance": 4.246,
                  "average_office": 0,
                  "average_entertainment": 123.5087723905724,
                  "average_game": 38.839333333333336,
                  "window_size": "(11, 13)",
                  "id": "AS14.01",
                  "day_after": 6.300000000000001,
                  "_deepnote_index_column": 8
                },
                {
                  "Unnamed: 0": 11,
                  "Unnamed: 0.1": 10,
                  "average_mood": 7.633333333333333,
                  "total_calls": 3.333333333333333,
                  "total_sms": 0,
                  "average_com": 50.30109378096404,
                  "mood_next_day": 6.966666666666666,
                  "average_soc": 57.094430555555554,
                  "average_valence": 0.7833333333333333,
                  "average_arousal": -0.0999999999999999,
                  "average_finance": 2.2919444444444443,
                  "average_office": 0,
                  "average_entertainment": 110.28632854030502,
                  "average_game": 17.058666666666667,
                  "window_size": "(12, 14)",
                  "id": "AS14.01",
                  "day_after": 6.366666666666667,
                  "_deepnote_index_column": 9
                },
                {
                  "Unnamed: 0": 12,
                  "Unnamed: 0.1": 11,
                  "average_mood": 6.966666666666666,
                  "total_calls": 3.6666666666666665,
                  "total_sms": 0,
                  "average_com": 45.43323381401768,
                  "mood_next_day": 6.633333333333333,
                  "average_soc": 52.6636941919192,
                  "average_valence": 0.45,
                  "average_arousal": -0.0999999999999999,
                  "average_finance": 7.364407407407408,
                  "average_office": 10.265333333333334,
                  "average_entertainment": 88.43564242919389,
                  "average_game": 43.141,
                  "window_size": "(13, 15)",
                  "id": "AS14.01",
                  "day_after": 6.466666666666668,
                  "_deepnote_index_column": 10
                },
                {
                  "Unnamed: 0": 13,
                  "Unnamed: 0.1": 12,
                  "average_mood": 6.633333333333333,
                  "total_calls": 5,
                  "total_sms": 0,
                  "average_com": 36.074329516689,
                  "mood_next_day": 6.300000000000001,
                  "average_soc": 55.59675708500095,
                  "average_valence": 0.4328828828828828,
                  "average_arousal": -0.0237499999999999,
                  "average_finance": 11.71137231968811,
                  "average_office": 40.425666666666665,
                  "average_entertainment": 46.99981995154383,
                  "average_game": 43.141,
                  "window_size": "(14, 16)",
                  "id": "AS14.01",
                  "day_after": 6.5,
                  "_deepnote_index_column": 11
                },
                {
                  "Unnamed: 0": 14,
                  "Unnamed: 0.1": 13,
                  "average_mood": 6.300000000000001,
                  "total_calls": 3,
                  "total_sms": 0,
                  "average_com": 37.76980606562258,
                  "mood_next_day": 6.366666666666667,
                  "average_soc": 51.646303055267005,
                  "average_valence": 0.2328828828828829,
                  "average_arousal": -0.42375,
                  "average_finance": 17.88987231968811,
                  "average_office": 40.425666666666665,
                  "average_entertainment": 46.34051904656646,
                  "average_game": 26.08233333333333,
                  "window_size": "(15, 17)",
                  "id": "AS14.01",
                  "day_after": 6.6000000000000005,
                  "_deepnote_index_column": 12
                },
                {
                  "Unnamed: 0": 15,
                  "Unnamed: 0.1": 14,
                  "average_mood": 6.366666666666667,
                  "total_calls": 2.6666666666666665,
                  "total_sms": 0,
                  "average_com": 41.58254693400952,
                  "mood_next_day": 6.466666666666668,
                  "average_soc": 60.35264861430566,
                  "average_valence": 0.3662162162162163,
                  "average_arousal": -0.42375,
                  "average_finance": 12.817409356725143,
                  "average_office": 30.16033333333333,
                  "average_entertainment": 64.21834543545536,
                  "average_game": 0,
                  "window_size": "(16, 18)",
                  "id": "AS14.01",
                  "day_after": 6.533333333333332,
                  "_deepnote_index_column": 13
                },
                {
                  "Unnamed: 0": 16,
                  "Unnamed: 0.1": 15,
                  "average_mood": 6.466666666666668,
                  "total_calls": 1.3333333333333333,
                  "total_sms": 0,
                  "average_com": 42.89965408848107,
                  "mood_next_day": 6.5,
                  "average_soc": 53.9215857212239,
                  "average_valence": 0.3333333333333333,
                  "average_arousal": -0.4666666666666666,
                  "average_finance": 8.470444444444443,
                  "average_office": 0,
                  "average_entertainment": 74.23357532051283,
                  "average_game": 0,
                  "window_size": "(17, 19)",
                  "id": "AS14.01",
                  "day_after": 6.833333333333333,
                  "_deepnote_index_column": 14
                },
                {
                  "Unnamed: 0": 17,
                  "Unnamed: 0.1": 16,
                  "average_mood": 6.5,
                  "total_calls": 2,
                  "total_sms": 0,
                  "average_com": 43.40448233836625,
                  "mood_next_day": 6.6000000000000005,
                  "average_soc": 60.543609195402304,
                  "average_valence": 0.5,
                  "average_arousal": -0.3166666666666666,
                  "average_finance": 0,
                  "average_office": 0,
                  "average_entertainment": 88.85089583333333,
                  "average_game": 19.067666666666668,
                  "window_size": "(18, 20)",
                  "id": "AS14.01",
                  "day_after": 7.133333333333333,
                  "_deepnote_index_column": 15
                },
                {
                  "Unnamed: 0": 18,
                  "Unnamed: 0.1": 17,
                  "average_mood": 6.6000000000000005,
                  "total_calls": 2.333333333333333,
                  "total_sms": 0,
                  "average_com": 47.55432862310817,
                  "mood_next_day": 6.533333333333332,
                  "average_soc": 57.05625,
                  "average_valence": 0.45,
                  "average_arousal": -0.4737499999999999,
                  "average_finance": 3.075199999999999,
                  "average_office": 5.702333333333333,
                  "average_entertainment": 81.49872222222223,
                  "average_game": 19.067666666666668,
                  "window_size": "(19, 21)",
                  "id": "AS14.01",
                  "day_after": 7.266666666666667,
                  "_deepnote_index_column": 16
                },
                {
                  "Unnamed: 0": 19,
                  "Unnamed: 0.1": 18,
                  "average_mood": 6.533333333333332,
                  "total_calls": 2.6666666666666665,
                  "total_sms": 0,
                  "average_com": 51.3537660324346,
                  "mood_next_day": 6.833333333333333,
                  "average_soc": 61.59014629629629,
                  "average_valence": 0.4828828828828829,
                  "average_arousal": -0.47375,
                  "average_finance": 5.200866666666665,
                  "average_office": 5.702333333333333,
                  "average_entertainment": 111.06586507936508,
                  "average_game": 19.067666666666668,
                  "window_size": "(20, 22)",
                  "id": "AS14.01",
                  "day_after": 7.216666666666666,
                  "_deepnote_index_column": 17
                },
                {
                  "Unnamed: 0": 20,
                  "Unnamed: 0.1": 19,
                  "average_mood": 6.833333333333333,
                  "total_calls": 2,
                  "total_sms": 0,
                  "average_com": 48.08407038281671,
                  "mood_next_day": 7.133333333333333,
                  "average_soc": 54.88005254629629,
                  "average_valence": 0.5490990990990992,
                  "average_arousal": -0.4904166666666666,
                  "average_finance": 5.200866666666665,
                  "average_office": 5.702333333333333,
                  "average_entertainment": 105.99603174603176,
                  "average_game": 0,
                  "window_size": "(21, 23)",
                  "id": "AS14.01",
                  "day_after": 7.416666666666667,
                  "_deepnote_index_column": 18
                },
                {
                  "Unnamed: 0": 21,
                  "Unnamed: 0.1": 20,
                  "average_mood": 7.133333333333333,
                  "total_calls": 1.6666666666666667,
                  "total_sms": 0,
                  "average_com": 50.77402366447046,
                  "mood_next_day": 7.266666666666667,
                  "average_soc": 47.440546990740735,
                  "average_valence": 0.7324324324324326,
                  "average_arousal": -0.5333333333333333,
                  "average_finance": 2.1256666666666653,
                  "average_office": 7.731666666666666,
                  "average_entertainment": 132.79189285714287,
                  "average_game": 0.353,
                  "window_size": "(22, 24)",
                  "id": "AS14.01",
                  "day_after": 7.483333333333333,
                  "_deepnote_index_column": 19
                },
                {
                  "Unnamed: 0": 22,
                  "Unnamed: 0.1": 21,
                  "average_mood": 7.266666666666667,
                  "total_calls": 1.3333333333333333,
                  "total_sms": 0,
                  "average_com": 43.59690642043329,
                  "mood_next_day": 7.216666666666666,
                  "average_soc": 43.07572761752137,
                  "average_valence": 0.7662162162162162,
                  "average_arousal": -0.8000000000000002,
                  "average_finance": 5.227388888888888,
                  "average_office": 7.731666666666666,
                  "average_entertainment": 118.93795833333336,
                  "average_game": 0.353,
                  "window_size": "(23, 25)",
                  "id": "AS14.01",
                  "day_after": 7.2,
                  "_deepnote_index_column": 20
                },
                {
                  "Unnamed: 0": 23,
                  "Unnamed: 0.1": 22,
                  "average_mood": 7.216666666666666,
                  "total_calls": 0,
                  "total_sms": 0,
                  "average_com": 78.67733002036171,
                  "mood_next_day": 7.416666666666667,
                  "average_soc": 43.04582136752137,
                  "average_valence": 0.7833333333333333,
                  "average_arousal": -0.7833333333333332,
                  "average_finance": 5.227388888888888,
                  "average_office": 7.731666666666666,
                  "average_entertainment": 153.54106944444445,
                  "average_game": 0.353,
                  "window_size": "(24, 26)",
                  "id": "AS14.01",
                  "day_after": 6.933333333333334,
                  "_deepnote_index_column": 21
                },
                {
                  "Unnamed: 0": 24,
                  "Unnamed: 0.1": 23,
                  "average_mood": 7.416666666666667,
                  "total_calls": 0,
                  "total_sms": 0,
                  "average_com": 72.87774973050664,
                  "mood_next_day": 7.483333333333333,
                  "average_soc": 35.74374358974359,
                  "average_valence": 0.85,
                  "average_arousal": -1.0666666666666669,
                  "average_finance": 8.27972222222222,
                  "average_office": 0,
                  "average_entertainment": 122.68781944444444,
                  "average_game": 0,
                  "window_size": "(25, 27)",
                  "id": "AS14.01",
                  "day_after": 6.733333333333334,
                  "_deepnote_index_column": 22
                },
                {
                  "Unnamed: 0": 25,
                  "Unnamed: 0.1": 24,
                  "average_mood": 7.483333333333333,
                  "total_calls": 2.6666666666666665,
                  "total_sms": 2.6666666666666665,
                  "average_com": 80.84551771336552,
                  "mood_next_day": 7.2,
                  "average_soc": 74.55183333333333,
                  "average_valence": 0.7833333333333333,
                  "average_arousal": -1.0666666666666669,
                  "average_finance": 8.01472222222222,
                  "average_office": 0,
                  "average_entertainment": 153.53616283524903,
                  "average_game": 0,
                  "window_size": "(26, 28)",
                  "id": "AS14.01",
                  "day_after": 6.866666666666666,
                  "_deepnote_index_column": 23
                },
                {
                  "Unnamed: 0": 26,
                  "Unnamed: 0.1": 25,
                  "average_mood": 7.2,
                  "total_calls": 2.6666666666666665,
                  "total_sms": 3,
                  "average_com": 46.61547731363076,
                  "mood_next_day": 6.933333333333334,
                  "average_soc": 93.40821212121212,
                  "average_valence": 0.7999999999999999,
                  "average_arousal": -0.8166666666666668,
                  "average_finance": 9.463944444444444,
                  "average_office": 0,
                  "average_entertainment": 109.3711131276467,
                  "average_game": 0,
                  "window_size": "(27, 29)",
                  "id": "AS14.01",
                  "day_after": 7.066666666666666,
                  "_deepnote_index_column": 24
                },
                {
                  "Unnamed: 0": 27,
                  "Unnamed: 0.1": 26,
                  "average_mood": 6.933333333333334,
                  "total_calls": 2.6666666666666665,
                  "total_sms": 3,
                  "average_com": 43.041364270152506,
                  "mood_next_day": 6.733333333333334,
                  "average_soc": 109.64468338557997,
                  "average_valence": 0.6995495495495496,
                  "average_arousal": -0.4904166666666666,
                  "average_finance": 6.41161111111111,
                  "average_office": 0,
                  "average_entertainment": 96.49092794246152,
                  "average_game": 0,
                  "window_size": "(28, 30)",
                  "id": "AS14.01",
                  "day_after": 7.283333333333334,
                  "_deepnote_index_column": 25
                },
                {
                  "Unnamed: 0": 28,
                  "Unnamed: 0.1": 27,
                  "average_mood": 6.733333333333334,
                  "total_calls": 3.333333333333333,
                  "total_sms": 0.3333333333333333,
                  "average_com": 62.130625907937066,
                  "mood_next_day": 6.866666666666666,
                  "average_soc": 78.94658338557994,
                  "average_valence": 0.6995495495495495,
                  "average_arousal": -0.22375,
                  "average_finance": 1.4492222222222209,
                  "average_office": 0,
                  "average_entertainment": 33.95577621832359,
                  "average_game": 0,
                  "window_size": "(29, 31)",
                  "id": "AS14.01",
                  "day_after": 7.55,
                  "_deepnote_index_column": 26
                },
                {
                  "Unnamed: 0": 29,
                  "Unnamed: 0.1": 28,
                  "average_mood": 6.866666666666666,
                  "total_calls": 3.6666666666666665,
                  "total_sms": 0,
                  "average_com": 70.28426263146117,
                  "mood_next_day": 7.066666666666666,
                  "average_soc": 111.86360459770113,
                  "average_valence": 0.6995495495495496,
                  "average_arousal": -0.4904166666666666,
                  "average_finance": 5.67442857142857,
                  "average_office": 0,
                  "average_entertainment": 46.0649925925926,
                  "average_game": 0,
                  "window_size": "(30, 32)",
                  "id": "AS14.01",
                  "day_after": 7.416666666666667,
                  "_deepnote_index_column": 27
                },
                {
                  "Unnamed: 0": 30,
                  "Unnamed: 0.1": 29,
                  "average_mood": 7.066666666666666,
                  "total_calls": 4,
                  "total_sms": 0,
                  "average_com": 69.77344531544385,
                  "mood_next_day": 7.283333333333334,
                  "average_soc": 101.89716363636364,
                  "average_valence": 0.7999999999999999,
                  "average_arousal": -0.4666666666666667,
                  "average_finance": 10.987150793650793,
                  "average_office": 0,
                  "average_entertainment": 64.23328888888888,
                  "average_game": 9.694666666666668,
                  "window_size": "(31, 33)",
                  "id": "AS14.01",
                  "day_after": 7.533333333333334,
                  "_deepnote_index_column": 28
                }
              ],
              "rows_bottom": [
                {
                  "Unnamed: 0": 1182,
                  "Unnamed: 0.1": 1181,
                  "average_mood": 6.933333333333334,
                  "total_calls": 3,
                  "total_sms": 0,
                  "average_com": 60.048709250894014,
                  "mood_next_day": 6.2,
                  "average_soc": 107.95876619385342,
                  "average_valence": 0.5333333333333333,
                  "average_arousal": -0.1999999999999999,
                  "average_finance": 0,
                  "average_office": 0,
                  "average_entertainment": 114.71064724164724,
                  "average_game": 0,
                  "window_size": "(7, 9)",
                  "id": "AS14.33",
                  "day_after": 7.666666666666667,
                  "_deepnote_index_column": 1076
                },
                {
                  "Unnamed: 0": 1183,
                  "Unnamed: 0.1": 1182,
                  "average_mood": 6.2,
                  "total_calls": 3.333333333333333,
                  "total_sms": 0,
                  "average_com": 46.9365482202982,
                  "mood_next_day": 6.133333333333334,
                  "average_soc": 128.25428496732027,
                  "average_valence": -0.0666666666666666,
                  "average_arousal": -0.2666666666666666,
                  "average_finance": 0,
                  "average_office": 0,
                  "average_entertainment": 113.1339401709402,
                  "average_game": 0,
                  "window_size": "(8, 10)",
                  "id": "AS14.33",
                  "day_after": 7.399999999999999,
                  "_deepnote_index_column": 1077
                },
                {
                  "Unnamed: 0": 1184,
                  "Unnamed: 0.1": 1183,
                  "average_mood": 6.133333333333334,
                  "total_calls": 5,
                  "total_sms": 1.6666666666666667,
                  "average_com": 43.36221362433861,
                  "mood_next_day": 6.866666666666667,
                  "average_soc": 104.17957892867294,
                  "average_valence": 0.0666666666666667,
                  "average_arousal": -0.35,
                  "average_finance": 0,
                  "average_office": 0,
                  "average_entertainment": 117.17462962962964,
                  "average_game": 0,
                  "window_size": "(9, 11)",
                  "id": "AS14.33",
                  "day_after": 6.849999999999999,
                  "_deepnote_index_column": 1078
                },
                {
                  "Unnamed: 0": 1185,
                  "Unnamed: 0.1": 1184,
                  "average_mood": 6.866666666666667,
                  "total_calls": 12.333333333333334,
                  "total_sms": 2.333333333333333,
                  "average_com": 37.30204619779352,
                  "mood_next_day": 7.666666666666667,
                  "average_soc": 88.6500101672886,
                  "average_valence": 0.2937037037037037,
                  "average_arousal": 0.1166666666666666,
                  "average_finance": 0,
                  "average_office": 0,
                  "average_entertainment": 118.28943518518518,
                  "average_game": 0,
                  "window_size": "(10, 12)",
                  "id": "AS14.33",
                  "day_after": 6.383333333333333,
                  "_deepnote_index_column": 1079
                },
                {
                  "Unnamed: 0": 1186,
                  "Unnamed: 0.1": 1185,
                  "average_mood": 7.666666666666667,
                  "total_calls": 18,
                  "total_sms": 2.333333333333333,
                  "average_com": 37.11002936277669,
                  "mood_next_day": 7.399999999999999,
                  "average_soc": 58.85944523639819,
                  "average_valence": 0.8270370370370371,
                  "average_arousal": 0.3166666666666667,
                  "average_finance": 0,
                  "average_office": 0,
                  "average_entertainment": 98.7267685185185,
                  "average_game": 0,
                  "window_size": "(11, 13)",
                  "id": "AS14.33",
                  "day_after": 6.45,
                  "_deepnote_index_column": 1080
                },
                {
                  "Unnamed: 0": 1187,
                  "Unnamed: 0.1": 1186,
                  "average_mood": 7.399999999999999,
                  "total_calls": 17.666666666666668,
                  "total_sms": 0.6666666666666666,
                  "average_com": 41.17894602944335,
                  "mood_next_day": 6.849999999999999,
                  "average_soc": 77.30175956284153,
                  "average_valence": 0.6270370370370371,
                  "average_arousal": 0,
                  "average_finance": 0,
                  "average_office": 0,
                  "average_entertainment": 120.36151262626264,
                  "average_game": 0,
                  "window_size": "(12, 14)",
                  "id": "AS14.33",
                  "day_after": 6.7,
                  "_deepnote_index_column": 1081
                },
                {
                  "Unnamed: 0": 1188,
                  "Unnamed: 0.1": 1187,
                  "average_mood": 6.849999999999999,
                  "total_calls": 8,
                  "total_sms": 1.6666666666666667,
                  "average_com": 55.250809343434334,
                  "mood_next_day": 6.383333333333333,
                  "average_soc": 85.60576387978142,
                  "average_valence": 0.7166666666666668,
                  "average_arousal": -0.6833333333333332,
                  "average_finance": 0,
                  "average_office": 0,
                  "average_entertainment": 127.57598484848488,
                  "average_game": 0,
                  "window_size": "(13, 15)",
                  "id": "AS14.33",
                  "day_after": 6.675,
                  "_deepnote_index_column": 1082
                },
                {
                  "Unnamed: 0": 1189,
                  "Unnamed: 0.1": 1188,
                  "average_mood": 6.383333333333333,
                  "total_calls": 3,
                  "total_sms": 1.6666666666666667,
                  "average_com": 57.70983964646464,
                  "mood_next_day": 6.45,
                  "average_soc": 95.695154662065,
                  "average_valence": 0.5166666666666667,
                  "average_arousal": -0.95,
                  "average_finance": 0,
                  "average_office": 0,
                  "average_entertainment": 124.44933527583532,
                  "average_game": 0,
                  "window_size": "(14, 16)",
                  "id": "AS14.33",
                  "day_after": 6.741666666666666,
                  "_deepnote_index_column": 1083
                },
                {
                  "Unnamed: 0": 1190,
                  "Unnamed: 0.1": 1189,
                  "average_mood": 6.45,
                  "total_calls": 2,
                  "total_sms": 1.6666666666666667,
                  "average_com": 47.9245582137161,
                  "mood_next_day": 6.7,
                  "average_soc": 82.713096374269,
                  "average_valence": 0.5437037037037038,
                  "average_arousal": -0.8833333333333334,
                  "average_finance": 0,
                  "average_office": 0,
                  "average_entertainment": 123.98073931623932,
                  "average_game": 0,
                  "window_size": "(15, 17)",
                  "id": "AS14.33",
                  "day_after": 5.841666666666666,
                  "_deepnote_index_column": 1084
                },
                {
                  "Unnamed: 0": 1191,
                  "Unnamed: 0.1": 1190,
                  "average_mood": 6.7,
                  "total_calls": 5,
                  "total_sms": 0,
                  "average_com": 37.245796850079735,
                  "mood_next_day": 6.675,
                  "average_soc": 84.02676884340481,
                  "average_valence": 0.6270370370370371,
                  "average_arousal": -0.4666666666666668,
                  "average_finance": 0,
                  "average_office": 0,
                  "average_entertainment": 87.09632012432012,
                  "average_game": 0,
                  "window_size": "(16, 18)",
                  "id": "AS14.33",
                  "day_after": 6.333333333333332,
                  "_deepnote_index_column": 1085
                },
                {
                  "Unnamed: 0": 1192,
                  "Unnamed: 0.1": 1191,
                  "average_mood": 6.675,
                  "total_calls": 4.333333333333333,
                  "total_sms": 0,
                  "average_com": 27.10952412280701,
                  "mood_next_day": 6.741666666666666,
                  "average_soc": 101.28391358024692,
                  "average_valence": 0.3270370370370371,
                  "average_arousal": -0.4166666666666668,
                  "average_finance": 0,
                  "average_office": 0,
                  "average_entertainment": 96.35158080808078,
                  "average_game": 0,
                  "window_size": "(17, 19)",
                  "id": "AS14.33",
                  "day_after": 6.133333333333333,
                  "_deepnote_index_column": 1086
                },
                {
                  "Unnamed: 0": 1193,
                  "Unnamed: 0.1": 1192,
                  "average_mood": 6.741666666666666,
                  "total_calls": 4,
                  "total_sms": 0,
                  "average_com": 36.36245277777777,
                  "mood_next_day": 5.841666666666666,
                  "average_soc": 121.92839018843404,
                  "average_valence": 0.3000000000000001,
                  "average_arousal": -0.3500000000000001,
                  "average_finance": 0,
                  "average_office": 0,
                  "average_entertainment": 75.11573358585856,
                  "average_game": 0,
                  "window_size": "(18, 20)",
                  "id": "AS14.33",
                  "day_after": 6.533333333333332,
                  "_deepnote_index_column": 1087
                },
                {
                  "Unnamed: 0": 1194,
                  "Unnamed: 0.1": 1193,
                  "average_mood": 5.841666666666666,
                  "total_calls": 0.3333333333333333,
                  "total_sms": 0,
                  "average_com": 44.05933535353534,
                  "mood_next_day": 6.333333333333332,
                  "average_soc": 149.69846271929825,
                  "average_valence": -0.0999999999999999,
                  "average_arousal": -0.2833333333333334,
                  "average_finance": 0,
                  "average_office": 0,
                  "average_entertainment": 84.61655176767675,
                  "average_game": 0,
                  "window_size": "(19, 21)",
                  "id": "AS14.33",
                  "day_after": 5.666666666666667,
                  "_deepnote_index_column": 1088
                },
                {
                  "Unnamed: 0": 1195,
                  "Unnamed: 0.1": 1194,
                  "average_mood": 6.333333333333332,
                  "total_calls": 0,
                  "total_sms": 0,
                  "average_com": 47.72519646464645,
                  "mood_next_day": 6.133333333333333,
                  "average_soc": 120.741117481203,
                  "average_valence": 0.4000000000000001,
                  "average_arousal": -0.3333333333333335,
                  "average_finance": 0,
                  "average_office": 0,
                  "average_entertainment": 75.73123695286195,
                  "average_game": 0,
                  "window_size": "(20, 22)",
                  "id": "AS14.33",
                  "day_after": 5.944444444444444,
                  "_deepnote_index_column": 1089
                },
                {
                  "Unnamed: 0": 1196,
                  "Unnamed: 0.1": 1195,
                  "average_mood": 6.133333333333333,
                  "total_calls": 0,
                  "total_sms": 0,
                  "average_com": 38.708690115440106,
                  "mood_next_day": 6.533333333333332,
                  "average_soc": 104.36207362155388,
                  "average_valence": 0.4000000000000001,
                  "average_arousal": -0.0666666666666667,
                  "average_finance": 0,
                  "average_office": 2.012,
                  "average_entertainment": 57.01922306397305,
                  "average_game": 0,
                  "window_size": "(21, 23)",
                  "id": "AS14.33",
                  "day_after": 5.944444444444444,
                  "_deepnote_index_column": 1090
                },
                {
                  "Unnamed: 0": 1197,
                  "Unnamed: 0.1": 1196,
                  "average_mood": 6.533333333333332,
                  "total_calls": 4.333333333333333,
                  "total_sms": 0,
                  "average_com": 41.72626587301587,
                  "mood_next_day": 5.666666666666667,
                  "average_soc": 83.94604782790309,
                  "average_valence": 0.6333333333333334,
                  "average_arousal": -0.3833333333333334,
                  "average_finance": 0,
                  "average_office": 2.012,
                  "average_entertainment": 52.08093518518518,
                  "average_game": 0,
                  "window_size": "(22, 24)",
                  "id": "AS14.33",
                  "day_after": 6.611111111111111,
                  "_deepnote_index_column": 1091
                },
                {
                  "Unnamed: 0": 1198,
                  "Unnamed: 0.1": 1197,
                  "average_mood": 5.666666666666667,
                  "total_calls": 4.333333333333333,
                  "total_sms": 0,
                  "average_com": 74.8054588159588,
                  "mood_next_day": 5.944444444444444,
                  "average_soc": 91.98945689578557,
                  "average_valence": 0.3,
                  "average_arousal": -0.0833333333333334,
                  "average_finance": 0,
                  "average_office": 2.012,
                  "average_entertainment": 63.94427777777778,
                  "average_game": 0,
                  "window_size": "(23, 25)",
                  "id": "AS14.33",
                  "day_after": 6.333333333333333,
                  "_deepnote_index_column": 1092
                },
                {
                  "Unnamed: 0": 1199,
                  "Unnamed: 0.1": 1198,
                  "average_mood": 5.944444444444444,
                  "total_calls": 4.333333333333333,
                  "total_sms": 0,
                  "average_com": 71.73027627627626,
                  "mood_next_day": 5.944444444444444,
                  "average_soc": 129.16556009495994,
                  "average_valence": 0.327037037037037,
                  "average_arousal": -0.1944444444444445,
                  "average_finance": 0,
                  "average_office": 0,
                  "average_entertainment": 99.57716666666666,
                  "average_game": 0,
                  "window_size": "(24, 26)",
                  "id": "AS14.33",
                  "day_after": 6.333333333333333,
                  "_deepnote_index_column": 1093
                },
                {
                  "Unnamed: 0": 1200,
                  "Unnamed: 0.1": 1199,
                  "average_mood": 5.944444444444444,
                  "total_calls": 2.6666666666666665,
                  "total_sms": 0,
                  "average_com": 63.48142294294291,
                  "mood_next_day": 6.611111111111111,
                  "average_soc": 124.9685579474343,
                  "average_valence": 0.3207407407407407,
                  "average_arousal": 0.0555555555555554,
                  "average_finance": 0,
                  "average_office": 0,
                  "average_entertainment": 94.3109019607843,
                  "average_game": 0,
                  "window_size": "(25, 27)",
                  "id": "AS14.33",
                  "day_after": 6.066666666666666,
                  "_deepnote_index_column": 1094
                },
                {
                  "Unnamed: 0": 1201,
                  "Unnamed: 0.1": 1200,
                  "average_mood": 6.611111111111111,
                  "total_calls": 6.333333333333333,
                  "total_sms": 0,
                  "average_com": 38.249215042735024,
                  "mood_next_day": 6.333333333333333,
                  "average_soc": 123.86029899569586,
                  "average_valence": 0.4811111111111111,
                  "average_arousal": 0.0222222222222221,
                  "average_finance": 0,
                  "average_office": 0,
                  "average_entertainment": 75.81893767507002,
                  "average_game": 0,
                  "window_size": "(26, 28)",
                  "id": "AS14.33",
                  "day_after": 6.15,
                  "_deepnote_index_column": 1095
                },
                {
                  "Unnamed: 0": 1202,
                  "Unnamed: 0.1": 1201,
                  "average_mood": 6.333333333333333,
                  "total_calls": 6.333333333333333,
                  "total_sms": 0,
                  "average_com": 38.8345928205128,
                  "mood_next_day": 6.333333333333333,
                  "average_soc": 79.22640193687232,
                  "average_valence": 0.4811111111111111,
                  "average_arousal": 0.2166666666666665,
                  "average_finance": 0,
                  "average_office": 0,
                  "average_entertainment": 46.6468728602552,
                  "average_game": 0,
                  "window_size": "(27, 29)",
                  "id": "AS14.33",
                  "day_after": 6.15,
                  "_deepnote_index_column": 1096
                },
                {
                  "Unnamed: 0": 1203,
                  "Unnamed: 0.1": 1202,
                  "average_mood": 6.333333333333333,
                  "total_calls": 3.6666666666666665,
                  "total_sms": 0,
                  "average_com": 52.042890598290576,
                  "mood_next_day": 6.066666666666666,
                  "average_soc": 90.91599323421316,
                  "average_valence": 0.3874074074074074,
                  "average_arousal": 0.0166666666666665,
                  "average_finance": 0,
                  "average_office": 0,
                  "average_entertainment": 53.21719312169311,
                  "average_game": 0,
                  "window_size": "(28, 30)",
                  "id": "AS14.33",
                  "day_after": 6,
                  "_deepnote_index_column": 1097
                },
                {
                  "Unnamed: 0": 1204,
                  "Unnamed: 0.1": 1203,
                  "average_mood": 6.066666666666666,
                  "total_calls": 0,
                  "total_sms": 0,
                  "average_com": 49.20813535353534,
                  "mood_next_day": 6.15,
                  "average_soc": 110.20161143308746,
                  "average_valence": 0.2937037037037037,
                  "average_arousal": -0.1833333333333334,
                  "average_finance": 0,
                  "average_office": 0,
                  "average_entertainment": 73.1434074074074,
                  "average_game": 0,
                  "window_size": "(29, 31)",
                  "id": "AS14.33",
                  "day_after": 5.861111111111111,
                  "_deepnote_index_column": 1098
                },
                {
                  "Unnamed: 0": 1205,
                  "Unnamed: 0.1": 1204,
                  "average_mood": 6.15,
                  "total_calls": 0,
                  "total_sms": 0,
                  "average_com": 71.81416498316496,
                  "mood_next_day": 6.15,
                  "average_soc": 132.92916773939376,
                  "average_valence": 0.3,
                  "average_arousal": -0.4333333333333334,
                  "average_finance": 0,
                  "average_office": 0,
                  "average_entertainment": 100.50368888888887,
                  "average_game": 0,
                  "window_size": "(30, 32)",
                  "id": "AS14.33",
                  "day_after": 5.9944444444444445,
                  "_deepnote_index_column": 1099
                },
                {
                  "Unnamed: 0": 1206,
                  "Unnamed: 0.1": 1205,
                  "average_mood": 6.15,
                  "total_calls": 0,
                  "total_sms": 0,
                  "average_com": 66.43648976948975,
                  "mood_next_day": 6,
                  "average_soc": 134.01073604989605,
                  "average_valence": 0.3937037037037037,
                  "average_arousal": -0.4555555555555556,
                  "average_finance": 0,
                  "average_office": 0,
                  "average_entertainment": 103.11706666666667,
                  "average_game": 0,
                  "window_size": "(31, 33)",
                  "id": "AS14.33",
                  "day_after": 6.161111111111111,
                  "_deepnote_index_column": 1100
                },
                {
                  "Unnamed: 0": 1207,
                  "Unnamed: 0.1": 1206,
                  "average_mood": 6,
                  "total_calls": 2.6666666666666665,
                  "total_sms": 0,
                  "average_com": 70.54282743182742,
                  "mood_next_day": 5.861111111111111,
                  "average_soc": 109.7429616216216,
                  "average_valence": 0.4103703703703704,
                  "average_arousal": -0.2222222222222223,
                  "average_finance": 0,
                  "average_office": 0,
                  "average_entertainment": 97.5105111111111,
                  "average_game": 0,
                  "window_size": "(32, 34)",
                  "id": "AS14.33",
                  "day_after": 6.016666666666666,
                  "_deepnote_index_column": 1101
                },
                {
                  "Unnamed: 0": 1208,
                  "Unnamed: 0.1": 1207,
                  "average_mood": 5.861111111111111,
                  "total_calls": 2.6666666666666665,
                  "total_sms": 0,
                  "average_com": 50.83106143856142,
                  "mood_next_day": 5.9944444444444445,
                  "average_soc": 123.08988763854764,
                  "average_valence": 0.2437037037037037,
                  "average_arousal": -0.3333333333333335,
                  "average_finance": 0,
                  "average_office": 0,
                  "average_entertainment": 139.60437777777776,
                  "average_game": 0,
                  "window_size": "(33, 35)",
                  "id": "AS14.33",
                  "day_after": 5.949999999999999,
                  "_deepnote_index_column": 1102
                },
                {
                  "Unnamed: 0": 1209,
                  "Unnamed: 0.1": 1208,
                  "average_mood": 5.9944444444444445,
                  "total_calls": 2.6666666666666665,
                  "total_sms": 0,
                  "average_com": 41.53772430655763,
                  "mood_next_day": 6.161111111111111,
                  "average_soc": 118.3351891479816,
                  "average_valence": 0.2437037037037037,
                  "average_arousal": -0.2105263157894738,
                  "average_finance": 0,
                  "average_office": 0,
                  "average_entertainment": 142.80723015873014,
                  "average_game": 0,
                  "window_size": "(34, 36)",
                  "id": "AS14.33",
                  "day_after": 6.599999999999999,
                  "_deepnote_index_column": 1103
                },
                {
                  "Unnamed: 0": 1210,
                  "Unnamed: 0.1": 1209,
                  "average_mood": 6.161111111111111,
                  "total_calls": 1,
                  "total_sms": 2.6666666666666665,
                  "average_com": 38.00225129068461,
                  "mood_next_day": 6.016666666666666,
                  "average_soc": 116.10536060515308,
                  "average_valence": 0.3207407407407407,
                  "average_arousal": -0.6271929824561405,
                  "average_finance": 0,
                  "average_office": 0,
                  "average_entertainment": 134.3340079365079,
                  "average_game": 0,
                  "window_size": "(35, 37)",
                  "id": "AS14.33",
                  "day_after": 7.133333333333333,
                  "_deepnote_index_column": 1104
                }
              ]
            },
            "text/plain": "      Unnamed: 0  Unnamed: 0.1  average_mood  total_calls  total_sms  \\\n0              2           1.0      6.300000     2.000000   0.000000   \n1              3           2.0      6.483333     2.000000   0.000000   \n2              4           3.0      6.400000     0.000000   0.000000   \n3              5           4.0      6.516667     0.000000   0.000000   \n4              6           5.0      6.450000     0.000000   0.000000   \n...          ...           ...           ...          ...        ...   \n1100        1206        1205.0      6.150000     0.000000   0.000000   \n1101        1207        1206.0      6.000000     2.666667   0.000000   \n1102        1208        1207.0      5.861111     2.666667   0.000000   \n1103        1209        1208.0      5.994444     2.666667   0.000000   \n1104        1210        1209.0      6.161111     1.000000   2.666667   \n\n      average_com  mood_next_day  average_soc  average_valence  \\\n0       35.597530       6.483333    37.259222         0.549550   \n1       53.411540       6.400000    53.941426         0.566216   \n2       50.893593       6.516667    53.883553         0.499550   \n3       56.807075       6.450000    64.522398         0.433333   \n4       54.680243       6.783333    89.210095         0.366667   \n...           ...            ...          ...              ...   \n1100    66.436490       6.000000   134.010736         0.393704   \n1101    70.542827       5.861111   109.742962         0.410370   \n1102    50.831061       5.994444   123.089888         0.243704   \n1103    41.537724       6.161111   118.335189         0.243704   \n1104    38.002251       6.016667   116.105361         0.320741   \n\n      average_arousal  average_finance  average_office  average_entertainment  \\\n0            0.183333         4.406111       19.134000              33.228667   \n1            0.333333         8.023028       19.134000              43.711556   \n2            0.533333         7.853472        1.003333              66.744014   \n3            0.500000         9.099528        1.003333              62.557681   \n4            0.366667         8.389889        1.003333              95.430935   \n...               ...              ...             ...                    ...   \n1100        -0.455556         0.000000        0.000000             103.117067   \n1101        -0.222222         0.000000        0.000000              97.510511   \n1102        -0.333333         0.000000        0.000000             139.604378   \n1103        -0.210526         0.000000        0.000000             142.807230   \n1104        -0.627193         0.000000        0.000000             134.334008   \n\n      average_game window_size       id  day_after  \n0              0.0      (3, 5)  AS14.01   6.450000  \n1              0.0      (4, 6)  AS14.01   6.783333  \n2              0.0      (5, 7)  AS14.01   6.666667  \n3              0.0      (6, 8)  AS14.01   7.133333  \n4              0.0      (7, 9)  AS14.01   7.300000  \n...            ...         ...      ...        ...  \n1100           0.0    (31, 33)  AS14.33   6.161111  \n1101           0.0    (32, 34)  AS14.33   6.016667  \n1102           0.0    (33, 35)  AS14.33   5.950000  \n1103           0.0    (34, 36)  AS14.33   6.600000  \n1104           0.0    (35, 37)  AS14.33   7.133333  \n\n[1105 rows x 17 columns]",
            "text/html": "<div>\n<style scoped>\n    .dataframe tbody tr th:only-of-type {\n        vertical-align: middle;\n    }\n\n    .dataframe tbody tr th {\n        vertical-align: top;\n    }\n\n    .dataframe thead th {\n        text-align: right;\n    }\n</style>\n<table border=\"1\" class=\"dataframe\">\n  <thead>\n    <tr style=\"text-align: right;\">\n      <th></th>\n      <th>Unnamed: 0</th>\n      <th>Unnamed: 0.1</th>\n      <th>average_mood</th>\n      <th>total_calls</th>\n      <th>total_sms</th>\n      <th>average_com</th>\n      <th>mood_next_day</th>\n      <th>average_soc</th>\n      <th>average_valence</th>\n      <th>average_arousal</th>\n      <th>average_finance</th>\n      <th>average_office</th>\n      <th>average_entertainment</th>\n      <th>average_game</th>\n      <th>window_size</th>\n      <th>id</th>\n      <th>day_after</th>\n    </tr>\n  </thead>\n  <tbody>\n    <tr>\n      <th>0</th>\n      <td>2</td>\n      <td>1.0</td>\n      <td>6.300000</td>\n      <td>2.000000</td>\n      <td>0.000000</td>\n      <td>35.597530</td>\n      <td>6.483333</td>\n      <td>37.259222</td>\n      <td>0.549550</td>\n      <td>0.183333</td>\n      <td>4.406111</td>\n      <td>19.134000</td>\n      <td>33.228667</td>\n      <td>0.0</td>\n      <td>(3, 5)</td>\n      <td>AS14.01</td>\n      <td>6.450000</td>\n    </tr>\n    <tr>\n      <th>1</th>\n      <td>3</td>\n      <td>2.0</td>\n      <td>6.483333</td>\n      <td>2.000000</td>\n      <td>0.000000</td>\n      <td>53.411540</td>\n      <td>6.400000</td>\n      <td>53.941426</td>\n      <td>0.566216</td>\n      <td>0.333333</td>\n      <td>8.023028</td>\n      <td>19.134000</td>\n      <td>43.711556</td>\n      <td>0.0</td>\n      <td>(4, 6)</td>\n      <td>AS14.01</td>\n      <td>6.783333</td>\n    </tr>\n    <tr>\n      <th>2</th>\n      <td>4</td>\n      <td>3.0</td>\n      <td>6.400000</td>\n      <td>0.000000</td>\n      <td>0.000000</td>\n      <td>50.893593</td>\n      <td>6.516667</td>\n      <td>53.883553</td>\n      <td>0.499550</td>\n      <td>0.533333</td>\n      <td>7.853472</td>\n      <td>1.003333</td>\n      <td>66.744014</td>\n      <td>0.0</td>\n      <td>(5, 7)</td>\n      <td>AS14.01</td>\n      <td>6.666667</td>\n    </tr>\n    <tr>\n      <th>3</th>\n      <td>5</td>\n      <td>4.0</td>\n      <td>6.516667</td>\n      <td>0.000000</td>\n      <td>0.000000</td>\n      <td>56.807075</td>\n      <td>6.450000</td>\n      <td>64.522398</td>\n      <td>0.433333</td>\n      <td>0.500000</td>\n      <td>9.099528</td>\n      <td>1.003333</td>\n      <td>62.557681</td>\n      <td>0.0</td>\n      <td>(6, 8)</td>\n      <td>AS14.01</td>\n      <td>7.133333</td>\n    </tr>\n    <tr>\n      <th>4</th>\n      <td>6</td>\n      <td>5.0</td>\n      <td>6.450000</td>\n      <td>0.000000</td>\n      <td>0.000000</td>\n      <td>54.680243</td>\n      <td>6.783333</td>\n      <td>89.210095</td>\n      <td>0.366667</td>\n      <td>0.366667</td>\n      <td>8.389889</td>\n      <td>1.003333</td>\n      <td>95.430935</td>\n      <td>0.0</td>\n      <td>(7, 9)</td>\n      <td>AS14.01</td>\n      <td>7.300000</td>\n    </tr>\n    <tr>\n      <th>...</th>\n      <td>...</td>\n      <td>...</td>\n      <td>...</td>\n      <td>...</td>\n      <td>...</td>\n      <td>...</td>\n      <td>...</td>\n      <td>...</td>\n      <td>...</td>\n      <td>...</td>\n      <td>...</td>\n      <td>...</td>\n      <td>...</td>\n      <td>...</td>\n      <td>...</td>\n      <td>...</td>\n      <td>...</td>\n    </tr>\n    <tr>\n      <th>1100</th>\n      <td>1206</td>\n      <td>1205.0</td>\n      <td>6.150000</td>\n      <td>0.000000</td>\n      <td>0.000000</td>\n      <td>66.436490</td>\n      <td>6.000000</td>\n      <td>134.010736</td>\n      <td>0.393704</td>\n      <td>-0.455556</td>\n      <td>0.000000</td>\n      <td>0.000000</td>\n      <td>103.117067</td>\n      <td>0.0</td>\n      <td>(31, 33)</td>\n      <td>AS14.33</td>\n      <td>6.161111</td>\n    </tr>\n    <tr>\n      <th>1101</th>\n      <td>1207</td>\n      <td>1206.0</td>\n      <td>6.000000</td>\n      <td>2.666667</td>\n      <td>0.000000</td>\n      <td>70.542827</td>\n      <td>5.861111</td>\n      <td>109.742962</td>\n      <td>0.410370</td>\n      <td>-0.222222</td>\n      <td>0.000000</td>\n      <td>0.000000</td>\n      <td>97.510511</td>\n      <td>0.0</td>\n      <td>(32, 34)</td>\n      <td>AS14.33</td>\n      <td>6.016667</td>\n    </tr>\n    <tr>\n      <th>1102</th>\n      <td>1208</td>\n      <td>1207.0</td>\n      <td>5.861111</td>\n      <td>2.666667</td>\n      <td>0.000000</td>\n      <td>50.831061</td>\n      <td>5.994444</td>\n      <td>123.089888</td>\n      <td>0.243704</td>\n      <td>-0.333333</td>\n      <td>0.000000</td>\n      <td>0.000000</td>\n      <td>139.604378</td>\n      <td>0.0</td>\n      <td>(33, 35)</td>\n      <td>AS14.33</td>\n      <td>5.950000</td>\n    </tr>\n    <tr>\n      <th>1103</th>\n      <td>1209</td>\n      <td>1208.0</td>\n      <td>5.994444</td>\n      <td>2.666667</td>\n      <td>0.000000</td>\n      <td>41.537724</td>\n      <td>6.161111</td>\n      <td>118.335189</td>\n      <td>0.243704</td>\n      <td>-0.210526</td>\n      <td>0.000000</td>\n      <td>0.000000</td>\n      <td>142.807230</td>\n      <td>0.0</td>\n      <td>(34, 36)</td>\n      <td>AS14.33</td>\n      <td>6.600000</td>\n    </tr>\n    <tr>\n      <th>1104</th>\n      <td>1210</td>\n      <td>1209.0</td>\n      <td>6.161111</td>\n      <td>1.000000</td>\n      <td>2.666667</td>\n      <td>38.002251</td>\n      <td>6.016667</td>\n      <td>116.105361</td>\n      <td>0.320741</td>\n      <td>-0.627193</td>\n      <td>0.000000</td>\n      <td>0.000000</td>\n      <td>134.334008</td>\n      <td>0.0</td>\n      <td>(35, 37)</td>\n      <td>AS14.33</td>\n      <td>7.133333</td>\n    </tr>\n  </tbody>\n</table>\n<p>1105 rows × 17 columns</p>\n</div>"
          },
          "metadata": {}
        }
      ]
    },
    {
      "cell_type": "code",
      "metadata": {
        "tags": [],
        "cell_id": "00013-207aa56c-411a-45af-b70f-1de2a069e8ea",
        "deepnote_to_be_reexecuted": false,
        "source_hash": "4867f801",
        "execution_millis": 0,
        "execution_start": 1617876931534,
        "deepnote_cell_type": "code"
      },
      "source": "df_window['total_calls'] = df_window['total_calls'].replace(np.nan, 0)\ndf_window['total_sms'] = df_window['total_sms'].replace(np.nan, 0)\ndf_window['average_com'] = df_window['average_com'].replace(np.nan, 0)\ndf_window['average_soc'] = df_window['average_soc'].replace(np.nan, 0)\ndf_window['average_finance'] = df_window['average_finance'].replace(np.nan, 0)\ndf_window['average_entertainment'] = df_window['average_entertainment'].replace(np.nan, 0)\ndf_window['average_office'] = df_window['average_office'].replace(np.nan, 0)\ndf_window['average_game'] = df_window['average_game'].replace(np.nan, 0)",
      "execution_count": null,
      "outputs": []
    },
    {
      "cell_type": "code",
      "metadata": {
        "tags": [],
        "cell_id": "00014-e32a36ea-7bf0-470c-9953-eb9d54c30f19",
        "deepnote_to_be_reexecuted": false,
        "source_hash": "2228e9e0",
        "execution_start": 1617876933822,
        "execution_millis": 307,
        "deepnote_cell_type": "code"
      },
      "source": "df_window",
      "execution_count": null,
      "outputs": [
        {
          "output_type": "execute_result",
          "execution_count": 115,
          "data": {
            "application/vnd.deepnote.dataframe.v2+json": {
              "row_count": 1105,
              "column_count": 17,
              "columns": [
                {
                  "name": "Unnamed: 0",
                  "dtype": "int64",
                  "stats": {
                    "unique_count": 1105,
                    "nan_count": 0,
                    "min": 2,
                    "max": 1210,
                    "histogram": [
                      {
                        "bin_start": 2,
                        "bin_end": 122.8,
                        "count": 113
                      },
                      {
                        "bin_start": 122.8,
                        "bin_end": 243.6,
                        "count": 109
                      },
                      {
                        "bin_start": 243.6,
                        "bin_end": 364.4,
                        "count": 113
                      },
                      {
                        "bin_start": 364.4,
                        "bin_end": 485.2,
                        "count": 109
                      },
                      {
                        "bin_start": 485.2,
                        "bin_end": 606,
                        "count": 112
                      },
                      {
                        "bin_start": 606,
                        "bin_end": 726.8,
                        "count": 109
                      },
                      {
                        "bin_start": 726.8,
                        "bin_end": 847.6,
                        "count": 109
                      },
                      {
                        "bin_start": 847.6,
                        "bin_end": 968.4,
                        "count": 113
                      },
                      {
                        "bin_start": 968.4,
                        "bin_end": 1089.2,
                        "count": 109
                      },
                      {
                        "bin_start": 1089.2,
                        "bin_end": 1210,
                        "count": 109
                      }
                    ]
                  }
                },
                {
                  "name": "Unnamed: 0.1",
                  "dtype": "float64",
                  "stats": {
                    "unique_count": 1053,
                    "nan_count": 52,
                    "min": 1,
                    "max": 1209,
                    "histogram": [
                      {
                        "bin_start": 1,
                        "bin_end": 121.8,
                        "count": 109
                      },
                      {
                        "bin_start": 121.8,
                        "bin_end": 242.6,
                        "count": 103
                      },
                      {
                        "bin_start": 242.6,
                        "bin_end": 363.4,
                        "count": 109
                      },
                      {
                        "bin_start": 363.4,
                        "bin_end": 484.2,
                        "count": 103
                      },
                      {
                        "bin_start": 484.2,
                        "bin_end": 605,
                        "count": 108
                      },
                      {
                        "bin_start": 605,
                        "bin_end": 725.8,
                        "count": 103
                      },
                      {
                        "bin_start": 725.8,
                        "bin_end": 846.6,
                        "count": 105
                      },
                      {
                        "bin_start": 846.6,
                        "bin_end": 967.4,
                        "count": 107
                      },
                      {
                        "bin_start": 967.4,
                        "bin_end": 1088.2,
                        "count": 103
                      },
                      {
                        "bin_start": 1088.2,
                        "bin_end": 1209,
                        "count": 103
                      }
                    ]
                  }
                },
                {
                  "name": "average_mood",
                  "dtype": "float64",
                  "stats": {
                    "unique_count": 314,
                    "nan_count": 52,
                    "min": 3.966666666666667,
                    "max": 8.377777777777776,
                    "histogram": [
                      {
                        "bin_start": 3.966666666666667,
                        "bin_end": 4.407777777777778,
                        "count": 1
                      },
                      {
                        "bin_start": 4.407777777777778,
                        "bin_end": 4.848888888888888,
                        "count": 3
                      },
                      {
                        "bin_start": 4.848888888888888,
                        "bin_end": 5.289999999999999,
                        "count": 7
                      },
                      {
                        "bin_start": 5.289999999999999,
                        "bin_end": 5.731111111111111,
                        "count": 14
                      },
                      {
                        "bin_start": 5.731111111111111,
                        "bin_end": 6.172222222222222,
                        "count": 61
                      },
                      {
                        "bin_start": 6.172222222222222,
                        "bin_end": 6.613333333333332,
                        "count": 158
                      },
                      {
                        "bin_start": 6.613333333333332,
                        "bin_end": 7.054444444444444,
                        "count": 296
                      },
                      {
                        "bin_start": 7.054444444444444,
                        "bin_end": 7.495555555555555,
                        "count": 337
                      },
                      {
                        "bin_start": 7.495555555555555,
                        "bin_end": 7.936666666666666,
                        "count": 143
                      },
                      {
                        "bin_start": 7.936666666666666,
                        "bin_end": 8.377777777777776,
                        "count": 33
                      }
                    ]
                  }
                },
                {
                  "name": "total_calls",
                  "dtype": "float64",
                  "stats": {
                    "unique_count": 39,
                    "nan_count": 0,
                    "min": 0,
                    "max": 18,
                    "histogram": [
                      {
                        "bin_start": 0,
                        "bin_end": 1.8,
                        "count": 615
                      },
                      {
                        "bin_start": 1.8,
                        "bin_end": 3.6,
                        "count": 221
                      },
                      {
                        "bin_start": 3.6,
                        "bin_end": 5.4,
                        "count": 140
                      },
                      {
                        "bin_start": 5.4,
                        "bin_end": 7.2,
                        "count": 65
                      },
                      {
                        "bin_start": 7.2,
                        "bin_end": 9,
                        "count": 34
                      },
                      {
                        "bin_start": 9,
                        "bin_end": 10.8,
                        "count": 21
                      },
                      {
                        "bin_start": 10.8,
                        "bin_end": 12.6,
                        "count": 2
                      },
                      {
                        "bin_start": 12.6,
                        "bin_end": 14.4,
                        "count": 4
                      },
                      {
                        "bin_start": 14.4,
                        "bin_end": 16.2,
                        "count": 1
                      },
                      {
                        "bin_start": 16.2,
                        "bin_end": 18,
                        "count": 2
                      }
                    ]
                  }
                },
                {
                  "name": "total_sms",
                  "dtype": "float64",
                  "stats": {
                    "unique_count": 28,
                    "nan_count": 0,
                    "min": 0,
                    "max": 15,
                    "histogram": [
                      {
                        "bin_start": 0,
                        "bin_end": 1.5,
                        "count": 900
                      },
                      {
                        "bin_start": 1.5,
                        "bin_end": 3,
                        "count": 106
                      },
                      {
                        "bin_start": 3,
                        "bin_end": 4.5,
                        "count": 48
                      },
                      {
                        "bin_start": 4.5,
                        "bin_end": 6,
                        "count": 26
                      },
                      {
                        "bin_start": 6,
                        "bin_end": 7.5,
                        "count": 3
                      },
                      {
                        "bin_start": 7.5,
                        "bin_end": 9,
                        "count": 15
                      },
                      {
                        "bin_start": 9,
                        "bin_end": 10.5,
                        "count": 4
                      },
                      {
                        "bin_start": 10.5,
                        "bin_end": 12,
                        "count": 1
                      },
                      {
                        "bin_start": 12,
                        "bin_end": 13.5,
                        "count": 0
                      },
                      {
                        "bin_start": 13.5,
                        "bin_end": 15,
                        "count": 2
                      }
                    ]
                  }
                },
                {
                  "name": "average_com",
                  "dtype": "float64",
                  "stats": {
                    "unique_count": 1011,
                    "nan_count": 0,
                    "min": 0,
                    "max": 268.99595751633984,
                    "histogram": [
                      {
                        "bin_start": 0,
                        "bin_end": 26.899595751633985,
                        "count": 274
                      },
                      {
                        "bin_start": 26.899595751633985,
                        "bin_end": 53.79919150326797,
                        "count": 616
                      },
                      {
                        "bin_start": 53.79919150326797,
                        "bin_end": 80.69878725490196,
                        "count": 169
                      },
                      {
                        "bin_start": 80.69878725490196,
                        "bin_end": 107.59838300653594,
                        "count": 27
                      },
                      {
                        "bin_start": 107.59838300653594,
                        "bin_end": 134.49797875816992,
                        "count": 6
                      },
                      {
                        "bin_start": 134.49797875816992,
                        "bin_end": 161.39757450980392,
                        "count": 5
                      },
                      {
                        "bin_start": 161.39757450980392,
                        "bin_end": 188.29717026143788,
                        "count": 2
                      },
                      {
                        "bin_start": 188.29717026143788,
                        "bin_end": 215.19676601307188,
                        "count": 5
                      },
                      {
                        "bin_start": 215.19676601307188,
                        "bin_end": 242.09636176470588,
                        "count": 0
                      },
                      {
                        "bin_start": 242.09636176470588,
                        "bin_end": 268.99595751633984,
                        "count": 1
                      }
                    ]
                  }
                },
                {
                  "name": "mood_next_day",
                  "dtype": "float64",
                  "stats": {
                    "unique_count": 313,
                    "nan_count": 52,
                    "min": 3.9666666666666672,
                    "max": 8.377777777777776,
                    "histogram": [
                      {
                        "bin_start": 3.9666666666666672,
                        "bin_end": 4.4077777777777785,
                        "count": 1
                      },
                      {
                        "bin_start": 4.4077777777777785,
                        "bin_end": 4.848888888888889,
                        "count": 3
                      },
                      {
                        "bin_start": 4.848888888888889,
                        "bin_end": 5.29,
                        "count": 8
                      },
                      {
                        "bin_start": 5.29,
                        "bin_end": 5.731111111111111,
                        "count": 15
                      },
                      {
                        "bin_start": 5.731111111111111,
                        "bin_end": 6.1722222222222225,
                        "count": 63
                      },
                      {
                        "bin_start": 6.1722222222222225,
                        "bin_end": 6.613333333333333,
                        "count": 157
                      },
                      {
                        "bin_start": 6.613333333333333,
                        "bin_end": 7.054444444444444,
                        "count": 290
                      },
                      {
                        "bin_start": 7.054444444444444,
                        "bin_end": 7.495555555555555,
                        "count": 340
                      },
                      {
                        "bin_start": 7.495555555555555,
                        "bin_end": 7.936666666666666,
                        "count": 142
                      },
                      {
                        "bin_start": 7.936666666666666,
                        "bin_end": 8.377777777777776,
                        "count": 34
                      }
                    ]
                  }
                },
                {
                  "name": "average_soc",
                  "dtype": "float64",
                  "stats": {
                    "unique_count": 893,
                    "nan_count": 0,
                    "min": 0,
                    "max": 1267.7156057692307,
                    "histogram": [
                      {
                        "bin_start": 0,
                        "bin_end": 126.77156057692306,
                        "count": 1027
                      },
                      {
                        "bin_start": 126.77156057692306,
                        "bin_end": 253.54312115384613,
                        "count": 64
                      },
                      {
                        "bin_start": 253.54312115384613,
                        "bin_end": 380.31468173076917,
                        "count": 9
                      },
                      {
                        "bin_start": 380.31468173076917,
                        "bin_end": 507.08624230769226,
                        "count": 1
                      },
                      {
                        "bin_start": 507.08624230769226,
                        "bin_end": 633.8578028846154,
                        "count": 1
                      },
                      {
                        "bin_start": 633.8578028846154,
                        "bin_end": 760.6293634615383,
                        "count": 0
                      },
                      {
                        "bin_start": 760.6293634615383,
                        "bin_end": 887.4009240384614,
                        "count": 0
                      },
                      {
                        "bin_start": 887.4009240384614,
                        "bin_end": 1014.1724846153845,
                        "count": 0
                      },
                      {
                        "bin_start": 1014.1724846153845,
                        "bin_end": 1140.9440451923076,
                        "count": 0
                      },
                      {
                        "bin_start": 1140.9440451923076,
                        "bin_end": 1267.7156057692307,
                        "count": 3
                      }
                    ]
                  }
                },
                {
                  "name": "average_valence",
                  "dtype": "float64",
                  "stats": {
                    "unique_count": 345,
                    "nan_count": 0,
                    "min": -1,
                    "max": 1.5666666666666669,
                    "histogram": [
                      {
                        "bin_start": -1,
                        "bin_end": -0.7433333333333333,
                        "count": 1
                      },
                      {
                        "bin_start": -0.7433333333333333,
                        "bin_end": -0.4866666666666666,
                        "count": 1
                      },
                      {
                        "bin_start": -0.4866666666666666,
                        "bin_end": -0.22999999999999987,
                        "count": 3
                      },
                      {
                        "bin_start": -0.22999999999999987,
                        "bin_end": 0.02666666666666684,
                        "count": 28
                      },
                      {
                        "bin_start": 0.02666666666666684,
                        "bin_end": 0.28333333333333366,
                        "count": 81
                      },
                      {
                        "bin_start": 0.28333333333333366,
                        "bin_end": 0.5400000000000003,
                        "count": 225
                      },
                      {
                        "bin_start": 0.5400000000000003,
                        "bin_end": 0.7966666666666669,
                        "count": 304
                      },
                      {
                        "bin_start": 0.7966666666666669,
                        "bin_end": 1.0533333333333337,
                        "count": 386
                      },
                      {
                        "bin_start": 1.0533333333333337,
                        "bin_end": 1.3100000000000005,
                        "count": 64
                      },
                      {
                        "bin_start": 1.3100000000000005,
                        "bin_end": 1.5666666666666669,
                        "count": 12
                      }
                    ]
                  }
                },
                {
                  "name": "average_arousal",
                  "dtype": "float64",
                  "stats": {
                    "unique_count": 375,
                    "nan_count": 0,
                    "min": -1.8,
                    "max": 1.3333333333333333,
                    "histogram": [
                      {
                        "bin_start": -1.8,
                        "bin_end": -1.4866666666666668,
                        "count": 1
                      },
                      {
                        "bin_start": -1.4866666666666668,
                        "bin_end": -1.1733333333333333,
                        "count": 14
                      },
                      {
                        "bin_start": -1.1733333333333333,
                        "bin_end": -0.86,
                        "count": 57
                      },
                      {
                        "bin_start": -0.86,
                        "bin_end": -0.5466666666666666,
                        "count": 93
                      },
                      {
                        "bin_start": -0.5466666666666666,
                        "bin_end": -0.23333333333333317,
                        "count": 252
                      },
                      {
                        "bin_start": -0.23333333333333317,
                        "bin_end": 0.08000000000000007,
                        "count": 295
                      },
                      {
                        "bin_start": 0.08000000000000007,
                        "bin_end": 0.3933333333333333,
                        "count": 208
                      },
                      {
                        "bin_start": 0.3933333333333333,
                        "bin_end": 0.7066666666666668,
                        "count": 132
                      },
                      {
                        "bin_start": 0.7066666666666668,
                        "bin_end": 1.0200000000000002,
                        "count": 41
                      },
                      {
                        "bin_start": 1.0200000000000002,
                        "bin_end": 1.3333333333333333,
                        "count": 12
                      }
                    ]
                  }
                },
                {
                  "name": "average_finance",
                  "dtype": "float64",
                  "stats": {
                    "unique_count": 241,
                    "nan_count": 0,
                    "min": 0,
                    "max": 76.67488888888889,
                    "histogram": [
                      {
                        "bin_start": 0,
                        "bin_end": 7.667488888888888,
                        "count": 907
                      },
                      {
                        "bin_start": 7.667488888888888,
                        "bin_end": 15.334977777777777,
                        "count": 91
                      },
                      {
                        "bin_start": 15.334977777777777,
                        "bin_end": 23.002466666666663,
                        "count": 42
                      },
                      {
                        "bin_start": 23.002466666666663,
                        "bin_end": 30.669955555555553,
                        "count": 26
                      },
                      {
                        "bin_start": 30.669955555555553,
                        "bin_end": 38.33744444444444,
                        "count": 17
                      },
                      {
                        "bin_start": 38.33744444444444,
                        "bin_end": 46.00493333333333,
                        "count": 8
                      },
                      {
                        "bin_start": 46.00493333333333,
                        "bin_end": 53.67242222222222,
                        "count": 6
                      },
                      {
                        "bin_start": 53.67242222222222,
                        "bin_end": 61.33991111111111,
                        "count": 3
                      },
                      {
                        "bin_start": 61.33991111111111,
                        "bin_end": 69.00739999999999,
                        "count": 4
                      },
                      {
                        "bin_start": 69.00739999999999,
                        "bin_end": 76.67488888888889,
                        "count": 1
                      }
                    ]
                  }
                },
                {
                  "name": "average_office",
                  "dtype": "float64",
                  "stats": {
                    "unique_count": 295,
                    "nan_count": 0,
                    "min": 0,
                    "max": 510.4858611111112,
                    "histogram": [
                      {
                        "bin_start": 0,
                        "bin_end": 51.04858611111112,
                        "count": 1054
                      },
                      {
                        "bin_start": 51.04858611111112,
                        "bin_end": 102.09717222222224,
                        "count": 32
                      },
                      {
                        "bin_start": 102.09717222222224,
                        "bin_end": 153.14575833333336,
                        "count": 11
                      },
                      {
                        "bin_start": 153.14575833333336,
                        "bin_end": 204.19434444444448,
                        "count": 5
                      },
                      {
                        "bin_start": 204.19434444444448,
                        "bin_end": 255.2429305555556,
                        "count": 0
                      },
                      {
                        "bin_start": 255.2429305555556,
                        "bin_end": 306.2915166666667,
                        "count": 0
                      },
                      {
                        "bin_start": 306.2915166666667,
                        "bin_end": 357.3401027777778,
                        "count": 0
                      },
                      {
                        "bin_start": 357.3401027777778,
                        "bin_end": 408.38868888888896,
                        "count": 0
                      },
                      {
                        "bin_start": 408.38868888888896,
                        "bin_end": 459.4372750000001,
                        "count": 0
                      },
                      {
                        "bin_start": 459.4372750000001,
                        "bin_end": 510.4858611111112,
                        "count": 3
                      }
                    ]
                  }
                },
                {
                  "name": "average_entertainment",
                  "dtype": "float64",
                  "stats": {
                    "unique_count": 779,
                    "nan_count": 0,
                    "min": 0,
                    "max": 720.9020555555554,
                    "histogram": [
                      {
                        "bin_start": 0,
                        "bin_end": 72.09020555555554,
                        "count": 788
                      },
                      {
                        "bin_start": 72.09020555555554,
                        "bin_end": 144.18041111111108,
                        "count": 166
                      },
                      {
                        "bin_start": 144.18041111111108,
                        "bin_end": 216.27061666666663,
                        "count": 76
                      },
                      {
                        "bin_start": 216.27061666666663,
                        "bin_end": 288.36082222222217,
                        "count": 33
                      },
                      {
                        "bin_start": 288.36082222222217,
                        "bin_end": 360.4510277777777,
                        "count": 14
                      },
                      {
                        "bin_start": 360.4510277777777,
                        "bin_end": 432.54123333333325,
                        "count": 12
                      },
                      {
                        "bin_start": 432.54123333333325,
                        "bin_end": 504.6314388888888,
                        "count": 8
                      },
                      {
                        "bin_start": 504.6314388888888,
                        "bin_end": 576.7216444444443,
                        "count": 3
                      },
                      {
                        "bin_start": 576.7216444444443,
                        "bin_end": 648.8118499999998,
                        "count": 2
                      },
                      {
                        "bin_start": 648.8118499999998,
                        "bin_end": 720.9020555555554,
                        "count": 3
                      }
                    ]
                  }
                },
                {
                  "name": "average_game",
                  "dtype": "float64",
                  "stats": {
                    "unique_count": 193,
                    "nan_count": 0,
                    "min": 0,
                    "max": 854.3023333333334,
                    "histogram": [
                      {
                        "bin_start": 0,
                        "bin_end": 85.43023333333335,
                        "count": 1031
                      },
                      {
                        "bin_start": 85.43023333333335,
                        "bin_end": 170.8604666666667,
                        "count": 26
                      },
                      {
                        "bin_start": 170.8604666666667,
                        "bin_end": 256.2907,
                        "count": 16
                      },
                      {
                        "bin_start": 256.2907,
                        "bin_end": 341.7209333333334,
                        "count": 17
                      },
                      {
                        "bin_start": 341.7209333333334,
                        "bin_end": 427.15116666666677,
                        "count": 10
                      },
                      {
                        "bin_start": 427.15116666666677,
                        "bin_end": 512.5814,
                        "count": 1
                      },
                      {
                        "bin_start": 512.5814,
                        "bin_end": 598.0116333333334,
                        "count": 1
                      },
                      {
                        "bin_start": 598.0116333333334,
                        "bin_end": 683.4418666666668,
                        "count": 0
                      },
                      {
                        "bin_start": 683.4418666666668,
                        "bin_end": 768.8721000000002,
                        "count": 0
                      },
                      {
                        "bin_start": 768.8721000000002,
                        "bin_end": 854.3023333333334,
                        "count": 3
                      }
                    ]
                  }
                },
                {
                  "name": "window_size",
                  "dtype": "object",
                  "stats": {
                    "unique_count": 62,
                    "nan_count": 0,
                    "categories": [
                      {
                        "name": "(3, 5)",
                        "count": 27
                      },
                      {
                        "name": "(4, 6)",
                        "count": 27
                      },
                      {
                        "name": "60 others",
                        "count": 1051
                      }
                    ]
                  }
                },
                {
                  "name": "id",
                  "dtype": "object",
                  "stats": {
                    "unique_count": 27,
                    "nan_count": 0,
                    "categories": [
                      {
                        "name": "AS14.26",
                        "count": 62
                      },
                      {
                        "name": "AS14.08",
                        "count": 57
                      },
                      {
                        "name": "25 others",
                        "count": 986
                      }
                    ]
                  }
                },
                {
                  "name": "day_after",
                  "dtype": "float64",
                  "stats": {
                    "unique_count": 328,
                    "nan_count": 0,
                    "min": 3.966666666666667,
                    "max": 8.377777777777776,
                    "histogram": [
                      {
                        "bin_start": 3.966666666666667,
                        "bin_end": 4.407777777777778,
                        "count": 1
                      },
                      {
                        "bin_start": 4.407777777777778,
                        "bin_end": 4.848888888888888,
                        "count": 3
                      },
                      {
                        "bin_start": 4.848888888888888,
                        "bin_end": 5.289999999999999,
                        "count": 8
                      },
                      {
                        "bin_start": 5.289999999999999,
                        "bin_end": 5.731111111111111,
                        "count": 20
                      },
                      {
                        "bin_start": 5.731111111111111,
                        "bin_end": 6.172222222222222,
                        "count": 66
                      },
                      {
                        "bin_start": 6.172222222222222,
                        "bin_end": 6.613333333333332,
                        "count": 152
                      },
                      {
                        "bin_start": 6.613333333333332,
                        "bin_end": 7.054444444444444,
                        "count": 312
                      },
                      {
                        "bin_start": 7.054444444444444,
                        "bin_end": 7.495555555555555,
                        "count": 357
                      },
                      {
                        "bin_start": 7.495555555555555,
                        "bin_end": 7.936666666666666,
                        "count": 148
                      },
                      {
                        "bin_start": 7.936666666666666,
                        "bin_end": 8.377777777777776,
                        "count": 38
                      }
                    ]
                  }
                },
                {
                  "name": "_deepnote_index_column",
                  "dtype": "int64"
                }
              ],
              "rows_top": [
                {
                  "Unnamed: 0": 2,
                  "Unnamed: 0.1": 1,
                  "average_mood": 6.3,
                  "total_calls": 2,
                  "total_sms": 0,
                  "average_com": 35.59752960526317,
                  "mood_next_day": 6.483333333333333,
                  "average_soc": 37.25922222222223,
                  "average_valence": 0.5495495495495496,
                  "average_arousal": 0.1833333333333333,
                  "average_finance": 4.406111111111112,
                  "average_office": 19.134000000000004,
                  "average_entertainment": 33.22866666666667,
                  "average_game": 0,
                  "window_size": "(3, 5)",
                  "id": "AS14.01",
                  "day_after": 6.449999999999999,
                  "_deepnote_index_column": 0
                },
                {
                  "Unnamed: 0": 3,
                  "Unnamed: 0.1": 2,
                  "average_mood": 6.483333333333333,
                  "total_calls": 2,
                  "total_sms": 0,
                  "average_com": 53.4115398093448,
                  "mood_next_day": 6.4,
                  "average_soc": 53.94142592592593,
                  "average_valence": 0.5662162162162162,
                  "average_arousal": 0.3333333333333333,
                  "average_finance": 8.023027777777777,
                  "average_office": 19.134000000000004,
                  "average_entertainment": 43.71155555555556,
                  "average_game": 0,
                  "window_size": "(4, 6)",
                  "id": "AS14.01",
                  "day_after": 6.783333333333332,
                  "_deepnote_index_column": 1
                },
                {
                  "Unnamed: 0": 4,
                  "Unnamed: 0.1": 3,
                  "average_mood": 6.4,
                  "total_calls": 0,
                  "total_sms": 0,
                  "average_com": 50.89359343057736,
                  "mood_next_day": 6.516666666666667,
                  "average_soc": 53.883552540913,
                  "average_valence": 0.4995495495495496,
                  "average_arousal": 0.5333333333333333,
                  "average_finance": 7.853472222222222,
                  "average_office": 1.0033333333333332,
                  "average_entertainment": 66.74401388888889,
                  "average_game": 0,
                  "window_size": "(5, 7)",
                  "id": "AS14.01",
                  "day_after": 6.666666666666667,
                  "_deepnote_index_column": 2
                },
                {
                  "Unnamed: 0": 5,
                  "Unnamed: 0.1": 4,
                  "average_mood": 6.516666666666667,
                  "total_calls": 0,
                  "total_sms": 0,
                  "average_com": 56.80707484949627,
                  "mood_next_day": 6.449999999999999,
                  "average_soc": 64.52239777900824,
                  "average_valence": 0.4333333333333333,
                  "average_arousal": 0.5,
                  "average_finance": 9.099527777777778,
                  "average_office": 1.0033333333333332,
                  "average_entertainment": 62.55768055555556,
                  "average_game": 0,
                  "window_size": "(6, 8)",
                  "id": "AS14.01",
                  "day_after": 7.133333333333334,
                  "_deepnote_index_column": 3
                },
                {
                  "Unnamed: 0": 6,
                  "Unnamed: 0.1": 5,
                  "average_mood": 6.449999999999999,
                  "total_calls": 0,
                  "total_sms": 0,
                  "average_com": 54.68024265588585,
                  "mood_next_day": 6.783333333333332,
                  "average_soc": 89.21009497620543,
                  "average_valence": 0.3666666666666667,
                  "average_arousal": 0.3666666666666667,
                  "average_finance": 8.38988888888889,
                  "average_office": 1.0033333333333332,
                  "average_entertainment": 95.43093452380953,
                  "average_game": 0,
                  "window_size": "(7, 9)",
                  "id": "AS14.01",
                  "day_after": 7.300000000000001,
                  "_deepnote_index_column": 4
                },
                {
                  "Unnamed: 0": 7,
                  "Unnamed: 0.1": 6,
                  "average_mood": 6.783333333333332,
                  "total_calls": 5,
                  "total_sms": 0,
                  "average_com": 53.28408026272346,
                  "mood_next_day": 6.666666666666667,
                  "average_soc": 88.20487434412433,
                  "average_valence": 0.6333333333333333,
                  "average_arousal": 0.1666666666666666,
                  "average_finance": 11.186111111111112,
                  "average_office": 5.068083333333333,
                  "average_entertainment": 78.40303174603174,
                  "average_game": 0,
                  "window_size": "(8, 10)",
                  "id": "AS14.01",
                  "day_after": 7.633333333333333,
                  "_deepnote_index_column": 5
                },
                {
                  "Unnamed: 0": 8,
                  "Unnamed: 0.1": 7,
                  "average_mood": 6.666666666666667,
                  "total_calls": 6.666666666666667,
                  "total_sms": 0,
                  "average_com": 38.16447615861935,
                  "mood_next_day": 7.133333333333334,
                  "average_soc": 73.89971243936243,
                  "average_valence": 0.6666666666666666,
                  "average_arousal": -0.1999999999999999,
                  "average_finance": 11.844277777777778,
                  "average_office": 5.068083333333333,
                  "average_entertainment": 97.50212265512266,
                  "average_game": 38.839333333333336,
                  "window_size": "(9, 11)",
                  "id": "AS14.01",
                  "day_after": 6.966666666666666,
                  "_deepnote_index_column": 6
                },
                {
                  "Unnamed: 0": 9,
                  "Unnamed: 0.1": 8,
                  "average_mood": 7.133333333333334,
                  "total_calls": 6.666666666666667,
                  "total_sms": 0,
                  "average_com": 38.38777768031189,
                  "mood_next_day": 7.300000000000001,
                  "average_soc": 52.2334782051282,
                  "average_valence": 0.7999999999999999,
                  "average_arousal": -0.0666666666666666,
                  "average_finance": 8.937,
                  "average_office": 5.068083333333333,
                  "average_entertainment": 90.3110686868687,
                  "average_game": 38.839333333333336,
                  "window_size": "(10, 12)",
                  "id": "AS14.01",
                  "day_after": 6.633333333333333,
                  "_deepnote_index_column": 7
                },
                {
                  "Unnamed: 0": 10,
                  "Unnamed: 0.1": 9,
                  "average_mood": 7.300000000000001,
                  "total_calls": 1.6666666666666667,
                  "total_sms": 0,
                  "average_com": 44.5479014898357,
                  "mood_next_day": 7.633333333333333,
                  "average_soc": 46.88101666666666,
                  "average_valence": 0.7833333333333333,
                  "average_arousal": -0.3,
                  "average_finance": 4.246,
                  "average_office": 0,
                  "average_entertainment": 123.5087723905724,
                  "average_game": 38.839333333333336,
                  "window_size": "(11, 13)",
                  "id": "AS14.01",
                  "day_after": 6.300000000000001,
                  "_deepnote_index_column": 8
                },
                {
                  "Unnamed: 0": 11,
                  "Unnamed: 0.1": 10,
                  "average_mood": 7.633333333333333,
                  "total_calls": 3.333333333333333,
                  "total_sms": 0,
                  "average_com": 50.30109378096404,
                  "mood_next_day": 6.966666666666666,
                  "average_soc": 57.094430555555554,
                  "average_valence": 0.7833333333333333,
                  "average_arousal": -0.0999999999999999,
                  "average_finance": 2.2919444444444443,
                  "average_office": 0,
                  "average_entertainment": 110.28632854030502,
                  "average_game": 17.058666666666667,
                  "window_size": "(12, 14)",
                  "id": "AS14.01",
                  "day_after": 6.366666666666667,
                  "_deepnote_index_column": 9
                },
                {
                  "Unnamed: 0": 12,
                  "Unnamed: 0.1": 11,
                  "average_mood": 6.966666666666666,
                  "total_calls": 3.6666666666666665,
                  "total_sms": 0,
                  "average_com": 45.43323381401768,
                  "mood_next_day": 6.633333333333333,
                  "average_soc": 52.6636941919192,
                  "average_valence": 0.45,
                  "average_arousal": -0.0999999999999999,
                  "average_finance": 7.364407407407408,
                  "average_office": 10.265333333333334,
                  "average_entertainment": 88.43564242919389,
                  "average_game": 43.141,
                  "window_size": "(13, 15)",
                  "id": "AS14.01",
                  "day_after": 6.466666666666668,
                  "_deepnote_index_column": 10
                },
                {
                  "Unnamed: 0": 13,
                  "Unnamed: 0.1": 12,
                  "average_mood": 6.633333333333333,
                  "total_calls": 5,
                  "total_sms": 0,
                  "average_com": 36.074329516689,
                  "mood_next_day": 6.300000000000001,
                  "average_soc": 55.59675708500095,
                  "average_valence": 0.4328828828828828,
                  "average_arousal": -0.0237499999999999,
                  "average_finance": 11.71137231968811,
                  "average_office": 40.425666666666665,
                  "average_entertainment": 46.99981995154383,
                  "average_game": 43.141,
                  "window_size": "(14, 16)",
                  "id": "AS14.01",
                  "day_after": 6.5,
                  "_deepnote_index_column": 11
                },
                {
                  "Unnamed: 0": 14,
                  "Unnamed: 0.1": 13,
                  "average_mood": 6.300000000000001,
                  "total_calls": 3,
                  "total_sms": 0,
                  "average_com": 37.76980606562258,
                  "mood_next_day": 6.366666666666667,
                  "average_soc": 51.646303055267005,
                  "average_valence": 0.2328828828828829,
                  "average_arousal": -0.42375,
                  "average_finance": 17.88987231968811,
                  "average_office": 40.425666666666665,
                  "average_entertainment": 46.34051904656646,
                  "average_game": 26.08233333333333,
                  "window_size": "(15, 17)",
                  "id": "AS14.01",
                  "day_after": 6.6000000000000005,
                  "_deepnote_index_column": 12
                },
                {
                  "Unnamed: 0": 15,
                  "Unnamed: 0.1": 14,
                  "average_mood": 6.366666666666667,
                  "total_calls": 2.6666666666666665,
                  "total_sms": 0,
                  "average_com": 41.58254693400952,
                  "mood_next_day": 6.466666666666668,
                  "average_soc": 60.35264861430566,
                  "average_valence": 0.3662162162162163,
                  "average_arousal": -0.42375,
                  "average_finance": 12.817409356725143,
                  "average_office": 30.16033333333333,
                  "average_entertainment": 64.21834543545536,
                  "average_game": 0,
                  "window_size": "(16, 18)",
                  "id": "AS14.01",
                  "day_after": 6.533333333333332,
                  "_deepnote_index_column": 13
                },
                {
                  "Unnamed: 0": 16,
                  "Unnamed: 0.1": 15,
                  "average_mood": 6.466666666666668,
                  "total_calls": 1.3333333333333333,
                  "total_sms": 0,
                  "average_com": 42.89965408848107,
                  "mood_next_day": 6.5,
                  "average_soc": 53.9215857212239,
                  "average_valence": 0.3333333333333333,
                  "average_arousal": -0.4666666666666666,
                  "average_finance": 8.470444444444443,
                  "average_office": 0,
                  "average_entertainment": 74.23357532051283,
                  "average_game": 0,
                  "window_size": "(17, 19)",
                  "id": "AS14.01",
                  "day_after": 6.833333333333333,
                  "_deepnote_index_column": 14
                },
                {
                  "Unnamed: 0": 17,
                  "Unnamed: 0.1": 16,
                  "average_mood": 6.5,
                  "total_calls": 2,
                  "total_sms": 0,
                  "average_com": 43.40448233836625,
                  "mood_next_day": 6.6000000000000005,
                  "average_soc": 60.543609195402304,
                  "average_valence": 0.5,
                  "average_arousal": -0.3166666666666666,
                  "average_finance": 0,
                  "average_office": 0,
                  "average_entertainment": 88.85089583333333,
                  "average_game": 19.067666666666668,
                  "window_size": "(18, 20)",
                  "id": "AS14.01",
                  "day_after": 7.133333333333333,
                  "_deepnote_index_column": 15
                },
                {
                  "Unnamed: 0": 18,
                  "Unnamed: 0.1": 17,
                  "average_mood": 6.6000000000000005,
                  "total_calls": 2.333333333333333,
                  "total_sms": 0,
                  "average_com": 47.55432862310817,
                  "mood_next_day": 6.533333333333332,
                  "average_soc": 57.05625,
                  "average_valence": 0.45,
                  "average_arousal": -0.4737499999999999,
                  "average_finance": 3.075199999999999,
                  "average_office": 5.702333333333333,
                  "average_entertainment": 81.49872222222223,
                  "average_game": 19.067666666666668,
                  "window_size": "(19, 21)",
                  "id": "AS14.01",
                  "day_after": 7.266666666666667,
                  "_deepnote_index_column": 16
                },
                {
                  "Unnamed: 0": 19,
                  "Unnamed: 0.1": 18,
                  "average_mood": 6.533333333333332,
                  "total_calls": 2.6666666666666665,
                  "total_sms": 0,
                  "average_com": 51.3537660324346,
                  "mood_next_day": 6.833333333333333,
                  "average_soc": 61.59014629629629,
                  "average_valence": 0.4828828828828829,
                  "average_arousal": -0.47375,
                  "average_finance": 5.200866666666665,
                  "average_office": 5.702333333333333,
                  "average_entertainment": 111.06586507936508,
                  "average_game": 19.067666666666668,
                  "window_size": "(20, 22)",
                  "id": "AS14.01",
                  "day_after": 7.216666666666666,
                  "_deepnote_index_column": 17
                },
                {
                  "Unnamed: 0": 20,
                  "Unnamed: 0.1": 19,
                  "average_mood": 6.833333333333333,
                  "total_calls": 2,
                  "total_sms": 0,
                  "average_com": 48.08407038281671,
                  "mood_next_day": 7.133333333333333,
                  "average_soc": 54.88005254629629,
                  "average_valence": 0.5490990990990992,
                  "average_arousal": -0.4904166666666666,
                  "average_finance": 5.200866666666665,
                  "average_office": 5.702333333333333,
                  "average_entertainment": 105.99603174603176,
                  "average_game": 0,
                  "window_size": "(21, 23)",
                  "id": "AS14.01",
                  "day_after": 7.416666666666667,
                  "_deepnote_index_column": 18
                },
                {
                  "Unnamed: 0": 21,
                  "Unnamed: 0.1": 20,
                  "average_mood": 7.133333333333333,
                  "total_calls": 1.6666666666666667,
                  "total_sms": 0,
                  "average_com": 50.77402366447046,
                  "mood_next_day": 7.266666666666667,
                  "average_soc": 47.440546990740735,
                  "average_valence": 0.7324324324324326,
                  "average_arousal": -0.5333333333333333,
                  "average_finance": 2.1256666666666653,
                  "average_office": 7.731666666666666,
                  "average_entertainment": 132.79189285714287,
                  "average_game": 0.353,
                  "window_size": "(22, 24)",
                  "id": "AS14.01",
                  "day_after": 7.483333333333333,
                  "_deepnote_index_column": 19
                },
                {
                  "Unnamed: 0": 22,
                  "Unnamed: 0.1": 21,
                  "average_mood": 7.266666666666667,
                  "total_calls": 1.3333333333333333,
                  "total_sms": 0,
                  "average_com": 43.59690642043329,
                  "mood_next_day": 7.216666666666666,
                  "average_soc": 43.07572761752137,
                  "average_valence": 0.7662162162162162,
                  "average_arousal": -0.8000000000000002,
                  "average_finance": 5.227388888888888,
                  "average_office": 7.731666666666666,
                  "average_entertainment": 118.93795833333336,
                  "average_game": 0.353,
                  "window_size": "(23, 25)",
                  "id": "AS14.01",
                  "day_after": 7.2,
                  "_deepnote_index_column": 20
                },
                {
                  "Unnamed: 0": 23,
                  "Unnamed: 0.1": 22,
                  "average_mood": 7.216666666666666,
                  "total_calls": 0,
                  "total_sms": 0,
                  "average_com": 78.67733002036171,
                  "mood_next_day": 7.416666666666667,
                  "average_soc": 43.04582136752137,
                  "average_valence": 0.7833333333333333,
                  "average_arousal": -0.7833333333333332,
                  "average_finance": 5.227388888888888,
                  "average_office": 7.731666666666666,
                  "average_entertainment": 153.54106944444445,
                  "average_game": 0.353,
                  "window_size": "(24, 26)",
                  "id": "AS14.01",
                  "day_after": 6.933333333333334,
                  "_deepnote_index_column": 21
                },
                {
                  "Unnamed: 0": 24,
                  "Unnamed: 0.1": 23,
                  "average_mood": 7.416666666666667,
                  "total_calls": 0,
                  "total_sms": 0,
                  "average_com": 72.87774973050664,
                  "mood_next_day": 7.483333333333333,
                  "average_soc": 35.74374358974359,
                  "average_valence": 0.85,
                  "average_arousal": -1.0666666666666669,
                  "average_finance": 8.27972222222222,
                  "average_office": 0,
                  "average_entertainment": 122.68781944444444,
                  "average_game": 0,
                  "window_size": "(25, 27)",
                  "id": "AS14.01",
                  "day_after": 6.733333333333334,
                  "_deepnote_index_column": 22
                },
                {
                  "Unnamed: 0": 25,
                  "Unnamed: 0.1": 24,
                  "average_mood": 7.483333333333333,
                  "total_calls": 2.6666666666666665,
                  "total_sms": 2.6666666666666665,
                  "average_com": 80.84551771336552,
                  "mood_next_day": 7.2,
                  "average_soc": 74.55183333333333,
                  "average_valence": 0.7833333333333333,
                  "average_arousal": -1.0666666666666669,
                  "average_finance": 8.01472222222222,
                  "average_office": 0,
                  "average_entertainment": 153.53616283524903,
                  "average_game": 0,
                  "window_size": "(26, 28)",
                  "id": "AS14.01",
                  "day_after": 6.866666666666666,
                  "_deepnote_index_column": 23
                },
                {
                  "Unnamed: 0": 26,
                  "Unnamed: 0.1": 25,
                  "average_mood": 7.2,
                  "total_calls": 2.6666666666666665,
                  "total_sms": 3,
                  "average_com": 46.61547731363076,
                  "mood_next_day": 6.933333333333334,
                  "average_soc": 93.40821212121212,
                  "average_valence": 0.7999999999999999,
                  "average_arousal": -0.8166666666666668,
                  "average_finance": 9.463944444444444,
                  "average_office": 0,
                  "average_entertainment": 109.3711131276467,
                  "average_game": 0,
                  "window_size": "(27, 29)",
                  "id": "AS14.01",
                  "day_after": 7.066666666666666,
                  "_deepnote_index_column": 24
                },
                {
                  "Unnamed: 0": 27,
                  "Unnamed: 0.1": 26,
                  "average_mood": 6.933333333333334,
                  "total_calls": 2.6666666666666665,
                  "total_sms": 3,
                  "average_com": 43.041364270152506,
                  "mood_next_day": 6.733333333333334,
                  "average_soc": 109.64468338557997,
                  "average_valence": 0.6995495495495496,
                  "average_arousal": -0.4904166666666666,
                  "average_finance": 6.41161111111111,
                  "average_office": 0,
                  "average_entertainment": 96.49092794246152,
                  "average_game": 0,
                  "window_size": "(28, 30)",
                  "id": "AS14.01",
                  "day_after": 7.283333333333334,
                  "_deepnote_index_column": 25
                },
                {
                  "Unnamed: 0": 28,
                  "Unnamed: 0.1": 27,
                  "average_mood": 6.733333333333334,
                  "total_calls": 3.333333333333333,
                  "total_sms": 0.3333333333333333,
                  "average_com": 62.130625907937066,
                  "mood_next_day": 6.866666666666666,
                  "average_soc": 78.94658338557994,
                  "average_valence": 0.6995495495495495,
                  "average_arousal": -0.22375,
                  "average_finance": 1.4492222222222209,
                  "average_office": 0,
                  "average_entertainment": 33.95577621832359,
                  "average_game": 0,
                  "window_size": "(29, 31)",
                  "id": "AS14.01",
                  "day_after": 7.55,
                  "_deepnote_index_column": 26
                },
                {
                  "Unnamed: 0": 29,
                  "Unnamed: 0.1": 28,
                  "average_mood": 6.866666666666666,
                  "total_calls": 3.6666666666666665,
                  "total_sms": 0,
                  "average_com": 70.28426263146117,
                  "mood_next_day": 7.066666666666666,
                  "average_soc": 111.86360459770113,
                  "average_valence": 0.6995495495495496,
                  "average_arousal": -0.4904166666666666,
                  "average_finance": 5.67442857142857,
                  "average_office": 0,
                  "average_entertainment": 46.0649925925926,
                  "average_game": 0,
                  "window_size": "(30, 32)",
                  "id": "AS14.01",
                  "day_after": 7.416666666666667,
                  "_deepnote_index_column": 27
                },
                {
                  "Unnamed: 0": 30,
                  "Unnamed: 0.1": 29,
                  "average_mood": 7.066666666666666,
                  "total_calls": 4,
                  "total_sms": 0,
                  "average_com": 69.77344531544385,
                  "mood_next_day": 7.283333333333334,
                  "average_soc": 101.89716363636364,
                  "average_valence": 0.7999999999999999,
                  "average_arousal": -0.4666666666666667,
                  "average_finance": 10.987150793650793,
                  "average_office": 0,
                  "average_entertainment": 64.23328888888888,
                  "average_game": 9.694666666666668,
                  "window_size": "(31, 33)",
                  "id": "AS14.01",
                  "day_after": 7.533333333333334,
                  "_deepnote_index_column": 28
                }
              ],
              "rows_bottom": [
                {
                  "Unnamed: 0": 1182,
                  "Unnamed: 0.1": 1181,
                  "average_mood": 6.933333333333334,
                  "total_calls": 3,
                  "total_sms": 0,
                  "average_com": 60.048709250894014,
                  "mood_next_day": 6.2,
                  "average_soc": 107.95876619385342,
                  "average_valence": 0.5333333333333333,
                  "average_arousal": -0.1999999999999999,
                  "average_finance": 0,
                  "average_office": 0,
                  "average_entertainment": 114.71064724164724,
                  "average_game": 0,
                  "window_size": "(7, 9)",
                  "id": "AS14.33",
                  "day_after": 7.666666666666667,
                  "_deepnote_index_column": 1076
                },
                {
                  "Unnamed: 0": 1183,
                  "Unnamed: 0.1": 1182,
                  "average_mood": 6.2,
                  "total_calls": 3.333333333333333,
                  "total_sms": 0,
                  "average_com": 46.9365482202982,
                  "mood_next_day": 6.133333333333334,
                  "average_soc": 128.25428496732027,
                  "average_valence": -0.0666666666666666,
                  "average_arousal": -0.2666666666666666,
                  "average_finance": 0,
                  "average_office": 0,
                  "average_entertainment": 113.1339401709402,
                  "average_game": 0,
                  "window_size": "(8, 10)",
                  "id": "AS14.33",
                  "day_after": 7.399999999999999,
                  "_deepnote_index_column": 1077
                },
                {
                  "Unnamed: 0": 1184,
                  "Unnamed: 0.1": 1183,
                  "average_mood": 6.133333333333334,
                  "total_calls": 5,
                  "total_sms": 1.6666666666666667,
                  "average_com": 43.36221362433861,
                  "mood_next_day": 6.866666666666667,
                  "average_soc": 104.17957892867294,
                  "average_valence": 0.0666666666666667,
                  "average_arousal": -0.35,
                  "average_finance": 0,
                  "average_office": 0,
                  "average_entertainment": 117.17462962962964,
                  "average_game": 0,
                  "window_size": "(9, 11)",
                  "id": "AS14.33",
                  "day_after": 6.849999999999999,
                  "_deepnote_index_column": 1078
                },
                {
                  "Unnamed: 0": 1185,
                  "Unnamed: 0.1": 1184,
                  "average_mood": 6.866666666666667,
                  "total_calls": 12.333333333333334,
                  "total_sms": 2.333333333333333,
                  "average_com": 37.30204619779352,
                  "mood_next_day": 7.666666666666667,
                  "average_soc": 88.6500101672886,
                  "average_valence": 0.2937037037037037,
                  "average_arousal": 0.1166666666666666,
                  "average_finance": 0,
                  "average_office": 0,
                  "average_entertainment": 118.28943518518518,
                  "average_game": 0,
                  "window_size": "(10, 12)",
                  "id": "AS14.33",
                  "day_after": 6.383333333333333,
                  "_deepnote_index_column": 1079
                },
                {
                  "Unnamed: 0": 1186,
                  "Unnamed: 0.1": 1185,
                  "average_mood": 7.666666666666667,
                  "total_calls": 18,
                  "total_sms": 2.333333333333333,
                  "average_com": 37.11002936277669,
                  "mood_next_day": 7.399999999999999,
                  "average_soc": 58.85944523639819,
                  "average_valence": 0.8270370370370371,
                  "average_arousal": 0.3166666666666667,
                  "average_finance": 0,
                  "average_office": 0,
                  "average_entertainment": 98.7267685185185,
                  "average_game": 0,
                  "window_size": "(11, 13)",
                  "id": "AS14.33",
                  "day_after": 6.45,
                  "_deepnote_index_column": 1080
                },
                {
                  "Unnamed: 0": 1187,
                  "Unnamed: 0.1": 1186,
                  "average_mood": 7.399999999999999,
                  "total_calls": 17.666666666666668,
                  "total_sms": 0.6666666666666666,
                  "average_com": 41.17894602944335,
                  "mood_next_day": 6.849999999999999,
                  "average_soc": 77.30175956284153,
                  "average_valence": 0.6270370370370371,
                  "average_arousal": 0,
                  "average_finance": 0,
                  "average_office": 0,
                  "average_entertainment": 120.36151262626264,
                  "average_game": 0,
                  "window_size": "(12, 14)",
                  "id": "AS14.33",
                  "day_after": 6.7,
                  "_deepnote_index_column": 1081
                },
                {
                  "Unnamed: 0": 1188,
                  "Unnamed: 0.1": 1187,
                  "average_mood": 6.849999999999999,
                  "total_calls": 8,
                  "total_sms": 1.6666666666666667,
                  "average_com": 55.250809343434334,
                  "mood_next_day": 6.383333333333333,
                  "average_soc": 85.60576387978142,
                  "average_valence": 0.7166666666666668,
                  "average_arousal": -0.6833333333333332,
                  "average_finance": 0,
                  "average_office": 0,
                  "average_entertainment": 127.57598484848488,
                  "average_game": 0,
                  "window_size": "(13, 15)",
                  "id": "AS14.33",
                  "day_after": 6.675,
                  "_deepnote_index_column": 1082
                },
                {
                  "Unnamed: 0": 1189,
                  "Unnamed: 0.1": 1188,
                  "average_mood": 6.383333333333333,
                  "total_calls": 3,
                  "total_sms": 1.6666666666666667,
                  "average_com": 57.70983964646464,
                  "mood_next_day": 6.45,
                  "average_soc": 95.695154662065,
                  "average_valence": 0.5166666666666667,
                  "average_arousal": -0.95,
                  "average_finance": 0,
                  "average_office": 0,
                  "average_entertainment": 124.44933527583532,
                  "average_game": 0,
                  "window_size": "(14, 16)",
                  "id": "AS14.33",
                  "day_after": 6.741666666666666,
                  "_deepnote_index_column": 1083
                },
                {
                  "Unnamed: 0": 1190,
                  "Unnamed: 0.1": 1189,
                  "average_mood": 6.45,
                  "total_calls": 2,
                  "total_sms": 1.6666666666666667,
                  "average_com": 47.9245582137161,
                  "mood_next_day": 6.7,
                  "average_soc": 82.713096374269,
                  "average_valence": 0.5437037037037038,
                  "average_arousal": -0.8833333333333334,
                  "average_finance": 0,
                  "average_office": 0,
                  "average_entertainment": 123.98073931623932,
                  "average_game": 0,
                  "window_size": "(15, 17)",
                  "id": "AS14.33",
                  "day_after": 5.841666666666666,
                  "_deepnote_index_column": 1084
                },
                {
                  "Unnamed: 0": 1191,
                  "Unnamed: 0.1": 1190,
                  "average_mood": 6.7,
                  "total_calls": 5,
                  "total_sms": 0,
                  "average_com": 37.245796850079735,
                  "mood_next_day": 6.675,
                  "average_soc": 84.02676884340481,
                  "average_valence": 0.6270370370370371,
                  "average_arousal": -0.4666666666666668,
                  "average_finance": 0,
                  "average_office": 0,
                  "average_entertainment": 87.09632012432012,
                  "average_game": 0,
                  "window_size": "(16, 18)",
                  "id": "AS14.33",
                  "day_after": 6.333333333333332,
                  "_deepnote_index_column": 1085
                },
                {
                  "Unnamed: 0": 1192,
                  "Unnamed: 0.1": 1191,
                  "average_mood": 6.675,
                  "total_calls": 4.333333333333333,
                  "total_sms": 0,
                  "average_com": 27.10952412280701,
                  "mood_next_day": 6.741666666666666,
                  "average_soc": 101.28391358024692,
                  "average_valence": 0.3270370370370371,
                  "average_arousal": -0.4166666666666668,
                  "average_finance": 0,
                  "average_office": 0,
                  "average_entertainment": 96.35158080808078,
                  "average_game": 0,
                  "window_size": "(17, 19)",
                  "id": "AS14.33",
                  "day_after": 6.133333333333333,
                  "_deepnote_index_column": 1086
                },
                {
                  "Unnamed: 0": 1193,
                  "Unnamed: 0.1": 1192,
                  "average_mood": 6.741666666666666,
                  "total_calls": 4,
                  "total_sms": 0,
                  "average_com": 36.36245277777777,
                  "mood_next_day": 5.841666666666666,
                  "average_soc": 121.92839018843404,
                  "average_valence": 0.3000000000000001,
                  "average_arousal": -0.3500000000000001,
                  "average_finance": 0,
                  "average_office": 0,
                  "average_entertainment": 75.11573358585856,
                  "average_game": 0,
                  "window_size": "(18, 20)",
                  "id": "AS14.33",
                  "day_after": 6.533333333333332,
                  "_deepnote_index_column": 1087
                },
                {
                  "Unnamed: 0": 1194,
                  "Unnamed: 0.1": 1193,
                  "average_mood": 5.841666666666666,
                  "total_calls": 0.3333333333333333,
                  "total_sms": 0,
                  "average_com": 44.05933535353534,
                  "mood_next_day": 6.333333333333332,
                  "average_soc": 149.69846271929825,
                  "average_valence": -0.0999999999999999,
                  "average_arousal": -0.2833333333333334,
                  "average_finance": 0,
                  "average_office": 0,
                  "average_entertainment": 84.61655176767675,
                  "average_game": 0,
                  "window_size": "(19, 21)",
                  "id": "AS14.33",
                  "day_after": 5.666666666666667,
                  "_deepnote_index_column": 1088
                },
                {
                  "Unnamed: 0": 1195,
                  "Unnamed: 0.1": 1194,
                  "average_mood": 6.333333333333332,
                  "total_calls": 0,
                  "total_sms": 0,
                  "average_com": 47.72519646464645,
                  "mood_next_day": 6.133333333333333,
                  "average_soc": 120.741117481203,
                  "average_valence": 0.4000000000000001,
                  "average_arousal": -0.3333333333333335,
                  "average_finance": 0,
                  "average_office": 0,
                  "average_entertainment": 75.73123695286195,
                  "average_game": 0,
                  "window_size": "(20, 22)",
                  "id": "AS14.33",
                  "day_after": 5.944444444444444,
                  "_deepnote_index_column": 1089
                },
                {
                  "Unnamed: 0": 1196,
                  "Unnamed: 0.1": 1195,
                  "average_mood": 6.133333333333333,
                  "total_calls": 0,
                  "total_sms": 0,
                  "average_com": 38.708690115440106,
                  "mood_next_day": 6.533333333333332,
                  "average_soc": 104.36207362155388,
                  "average_valence": 0.4000000000000001,
                  "average_arousal": -0.0666666666666667,
                  "average_finance": 0,
                  "average_office": 2.012,
                  "average_entertainment": 57.01922306397305,
                  "average_game": 0,
                  "window_size": "(21, 23)",
                  "id": "AS14.33",
                  "day_after": 5.944444444444444,
                  "_deepnote_index_column": 1090
                },
                {
                  "Unnamed: 0": 1197,
                  "Unnamed: 0.1": 1196,
                  "average_mood": 6.533333333333332,
                  "total_calls": 4.333333333333333,
                  "total_sms": 0,
                  "average_com": 41.72626587301587,
                  "mood_next_day": 5.666666666666667,
                  "average_soc": 83.94604782790309,
                  "average_valence": 0.6333333333333334,
                  "average_arousal": -0.3833333333333334,
                  "average_finance": 0,
                  "average_office": 2.012,
                  "average_entertainment": 52.08093518518518,
                  "average_game": 0,
                  "window_size": "(22, 24)",
                  "id": "AS14.33",
                  "day_after": 6.611111111111111,
                  "_deepnote_index_column": 1091
                },
                {
                  "Unnamed: 0": 1198,
                  "Unnamed: 0.1": 1197,
                  "average_mood": 5.666666666666667,
                  "total_calls": 4.333333333333333,
                  "total_sms": 0,
                  "average_com": 74.8054588159588,
                  "mood_next_day": 5.944444444444444,
                  "average_soc": 91.98945689578557,
                  "average_valence": 0.3,
                  "average_arousal": -0.0833333333333334,
                  "average_finance": 0,
                  "average_office": 2.012,
                  "average_entertainment": 63.94427777777778,
                  "average_game": 0,
                  "window_size": "(23, 25)",
                  "id": "AS14.33",
                  "day_after": 6.333333333333333,
                  "_deepnote_index_column": 1092
                },
                {
                  "Unnamed: 0": 1199,
                  "Unnamed: 0.1": 1198,
                  "average_mood": 5.944444444444444,
                  "total_calls": 4.333333333333333,
                  "total_sms": 0,
                  "average_com": 71.73027627627626,
                  "mood_next_day": 5.944444444444444,
                  "average_soc": 129.16556009495994,
                  "average_valence": 0.327037037037037,
                  "average_arousal": -0.1944444444444445,
                  "average_finance": 0,
                  "average_office": 0,
                  "average_entertainment": 99.57716666666666,
                  "average_game": 0,
                  "window_size": "(24, 26)",
                  "id": "AS14.33",
                  "day_after": 6.333333333333333,
                  "_deepnote_index_column": 1093
                },
                {
                  "Unnamed: 0": 1200,
                  "Unnamed: 0.1": 1199,
                  "average_mood": 5.944444444444444,
                  "total_calls": 2.6666666666666665,
                  "total_sms": 0,
                  "average_com": 63.48142294294291,
                  "mood_next_day": 6.611111111111111,
                  "average_soc": 124.9685579474343,
                  "average_valence": 0.3207407407407407,
                  "average_arousal": 0.0555555555555554,
                  "average_finance": 0,
                  "average_office": 0,
                  "average_entertainment": 94.3109019607843,
                  "average_game": 0,
                  "window_size": "(25, 27)",
                  "id": "AS14.33",
                  "day_after": 6.066666666666666,
                  "_deepnote_index_column": 1094
                },
                {
                  "Unnamed: 0": 1201,
                  "Unnamed: 0.1": 1200,
                  "average_mood": 6.611111111111111,
                  "total_calls": 6.333333333333333,
                  "total_sms": 0,
                  "average_com": 38.249215042735024,
                  "mood_next_day": 6.333333333333333,
                  "average_soc": 123.86029899569586,
                  "average_valence": 0.4811111111111111,
                  "average_arousal": 0.0222222222222221,
                  "average_finance": 0,
                  "average_office": 0,
                  "average_entertainment": 75.81893767507002,
                  "average_game": 0,
                  "window_size": "(26, 28)",
                  "id": "AS14.33",
                  "day_after": 6.15,
                  "_deepnote_index_column": 1095
                },
                {
                  "Unnamed: 0": 1202,
                  "Unnamed: 0.1": 1201,
                  "average_mood": 6.333333333333333,
                  "total_calls": 6.333333333333333,
                  "total_sms": 0,
                  "average_com": 38.8345928205128,
                  "mood_next_day": 6.333333333333333,
                  "average_soc": 79.22640193687232,
                  "average_valence": 0.4811111111111111,
                  "average_arousal": 0.2166666666666665,
                  "average_finance": 0,
                  "average_office": 0,
                  "average_entertainment": 46.6468728602552,
                  "average_game": 0,
                  "window_size": "(27, 29)",
                  "id": "AS14.33",
                  "day_after": 6.15,
                  "_deepnote_index_column": 1096
                },
                {
                  "Unnamed: 0": 1203,
                  "Unnamed: 0.1": 1202,
                  "average_mood": 6.333333333333333,
                  "total_calls": 3.6666666666666665,
                  "total_sms": 0,
                  "average_com": 52.042890598290576,
                  "mood_next_day": 6.066666666666666,
                  "average_soc": 90.91599323421316,
                  "average_valence": 0.3874074074074074,
                  "average_arousal": 0.0166666666666665,
                  "average_finance": 0,
                  "average_office": 0,
                  "average_entertainment": 53.21719312169311,
                  "average_game": 0,
                  "window_size": "(28, 30)",
                  "id": "AS14.33",
                  "day_after": 6,
                  "_deepnote_index_column": 1097
                },
                {
                  "Unnamed: 0": 1204,
                  "Unnamed: 0.1": 1203,
                  "average_mood": 6.066666666666666,
                  "total_calls": 0,
                  "total_sms": 0,
                  "average_com": 49.20813535353534,
                  "mood_next_day": 6.15,
                  "average_soc": 110.20161143308746,
                  "average_valence": 0.2937037037037037,
                  "average_arousal": -0.1833333333333334,
                  "average_finance": 0,
                  "average_office": 0,
                  "average_entertainment": 73.1434074074074,
                  "average_game": 0,
                  "window_size": "(29, 31)",
                  "id": "AS14.33",
                  "day_after": 5.861111111111111,
                  "_deepnote_index_column": 1098
                },
                {
                  "Unnamed: 0": 1205,
                  "Unnamed: 0.1": 1204,
                  "average_mood": 6.15,
                  "total_calls": 0,
                  "total_sms": 0,
                  "average_com": 71.81416498316496,
                  "mood_next_day": 6.15,
                  "average_soc": 132.92916773939376,
                  "average_valence": 0.3,
                  "average_arousal": -0.4333333333333334,
                  "average_finance": 0,
                  "average_office": 0,
                  "average_entertainment": 100.50368888888887,
                  "average_game": 0,
                  "window_size": "(30, 32)",
                  "id": "AS14.33",
                  "day_after": 5.9944444444444445,
                  "_deepnote_index_column": 1099
                },
                {
                  "Unnamed: 0": 1206,
                  "Unnamed: 0.1": 1205,
                  "average_mood": 6.15,
                  "total_calls": 0,
                  "total_sms": 0,
                  "average_com": 66.43648976948975,
                  "mood_next_day": 6,
                  "average_soc": 134.01073604989605,
                  "average_valence": 0.3937037037037037,
                  "average_arousal": -0.4555555555555556,
                  "average_finance": 0,
                  "average_office": 0,
                  "average_entertainment": 103.11706666666667,
                  "average_game": 0,
                  "window_size": "(31, 33)",
                  "id": "AS14.33",
                  "day_after": 6.161111111111111,
                  "_deepnote_index_column": 1100
                },
                {
                  "Unnamed: 0": 1207,
                  "Unnamed: 0.1": 1206,
                  "average_mood": 6,
                  "total_calls": 2.6666666666666665,
                  "total_sms": 0,
                  "average_com": 70.54282743182742,
                  "mood_next_day": 5.861111111111111,
                  "average_soc": 109.7429616216216,
                  "average_valence": 0.4103703703703704,
                  "average_arousal": -0.2222222222222223,
                  "average_finance": 0,
                  "average_office": 0,
                  "average_entertainment": 97.5105111111111,
                  "average_game": 0,
                  "window_size": "(32, 34)",
                  "id": "AS14.33",
                  "day_after": 6.016666666666666,
                  "_deepnote_index_column": 1101
                },
                {
                  "Unnamed: 0": 1208,
                  "Unnamed: 0.1": 1207,
                  "average_mood": 5.861111111111111,
                  "total_calls": 2.6666666666666665,
                  "total_sms": 0,
                  "average_com": 50.83106143856142,
                  "mood_next_day": 5.9944444444444445,
                  "average_soc": 123.08988763854764,
                  "average_valence": 0.2437037037037037,
                  "average_arousal": -0.3333333333333335,
                  "average_finance": 0,
                  "average_office": 0,
                  "average_entertainment": 139.60437777777776,
                  "average_game": 0,
                  "window_size": "(33, 35)",
                  "id": "AS14.33",
                  "day_after": 5.949999999999999,
                  "_deepnote_index_column": 1102
                },
                {
                  "Unnamed: 0": 1209,
                  "Unnamed: 0.1": 1208,
                  "average_mood": 5.9944444444444445,
                  "total_calls": 2.6666666666666665,
                  "total_sms": 0,
                  "average_com": 41.53772430655763,
                  "mood_next_day": 6.161111111111111,
                  "average_soc": 118.3351891479816,
                  "average_valence": 0.2437037037037037,
                  "average_arousal": -0.2105263157894738,
                  "average_finance": 0,
                  "average_office": 0,
                  "average_entertainment": 142.80723015873014,
                  "average_game": 0,
                  "window_size": "(34, 36)",
                  "id": "AS14.33",
                  "day_after": 6.599999999999999,
                  "_deepnote_index_column": 1103
                },
                {
                  "Unnamed: 0": 1210,
                  "Unnamed: 0.1": 1209,
                  "average_mood": 6.161111111111111,
                  "total_calls": 1,
                  "total_sms": 2.6666666666666665,
                  "average_com": 38.00225129068461,
                  "mood_next_day": 6.016666666666666,
                  "average_soc": 116.10536060515308,
                  "average_valence": 0.3207407407407407,
                  "average_arousal": -0.6271929824561405,
                  "average_finance": 0,
                  "average_office": 0,
                  "average_entertainment": 134.3340079365079,
                  "average_game": 0,
                  "window_size": "(35, 37)",
                  "id": "AS14.33",
                  "day_after": 7.133333333333333,
                  "_deepnote_index_column": 1104
                }
              ]
            },
            "text/plain": "      Unnamed: 0  Unnamed: 0.1  average_mood  total_calls  total_sms  \\\n0              2           1.0      6.300000     2.000000   0.000000   \n1              3           2.0      6.483333     2.000000   0.000000   \n2              4           3.0      6.400000     0.000000   0.000000   \n3              5           4.0      6.516667     0.000000   0.000000   \n4              6           5.0      6.450000     0.000000   0.000000   \n...          ...           ...           ...          ...        ...   \n1100        1206        1205.0      6.150000     0.000000   0.000000   \n1101        1207        1206.0      6.000000     2.666667   0.000000   \n1102        1208        1207.0      5.861111     2.666667   0.000000   \n1103        1209        1208.0      5.994444     2.666667   0.000000   \n1104        1210        1209.0      6.161111     1.000000   2.666667   \n\n      average_com  mood_next_day  average_soc  average_valence  \\\n0       35.597530       6.483333    37.259222         0.549550   \n1       53.411540       6.400000    53.941426         0.566216   \n2       50.893593       6.516667    53.883553         0.499550   \n3       56.807075       6.450000    64.522398         0.433333   \n4       54.680243       6.783333    89.210095         0.366667   \n...           ...            ...          ...              ...   \n1100    66.436490       6.000000   134.010736         0.393704   \n1101    70.542827       5.861111   109.742962         0.410370   \n1102    50.831061       5.994444   123.089888         0.243704   \n1103    41.537724       6.161111   118.335189         0.243704   \n1104    38.002251       6.016667   116.105361         0.320741   \n\n      average_arousal  average_finance  average_office  average_entertainment  \\\n0            0.183333         4.406111       19.134000              33.228667   \n1            0.333333         8.023028       19.134000              43.711556   \n2            0.533333         7.853472        1.003333              66.744014   \n3            0.500000         9.099528        1.003333              62.557681   \n4            0.366667         8.389889        1.003333              95.430935   \n...               ...              ...             ...                    ...   \n1100        -0.455556         0.000000        0.000000             103.117067   \n1101        -0.222222         0.000000        0.000000              97.510511   \n1102        -0.333333         0.000000        0.000000             139.604378   \n1103        -0.210526         0.000000        0.000000             142.807230   \n1104        -0.627193         0.000000        0.000000             134.334008   \n\n      average_game window_size       id  day_after  \n0              0.0      (3, 5)  AS14.01   6.450000  \n1              0.0      (4, 6)  AS14.01   6.783333  \n2              0.0      (5, 7)  AS14.01   6.666667  \n3              0.0      (6, 8)  AS14.01   7.133333  \n4              0.0      (7, 9)  AS14.01   7.300000  \n...            ...         ...      ...        ...  \n1100           0.0    (31, 33)  AS14.33   6.161111  \n1101           0.0    (32, 34)  AS14.33   6.016667  \n1102           0.0    (33, 35)  AS14.33   5.950000  \n1103           0.0    (34, 36)  AS14.33   6.600000  \n1104           0.0    (35, 37)  AS14.33   7.133333  \n\n[1105 rows x 17 columns]",
            "text/html": "<div>\n<style scoped>\n    .dataframe tbody tr th:only-of-type {\n        vertical-align: middle;\n    }\n\n    .dataframe tbody tr th {\n        vertical-align: top;\n    }\n\n    .dataframe thead th {\n        text-align: right;\n    }\n</style>\n<table border=\"1\" class=\"dataframe\">\n  <thead>\n    <tr style=\"text-align: right;\">\n      <th></th>\n      <th>Unnamed: 0</th>\n      <th>Unnamed: 0.1</th>\n      <th>average_mood</th>\n      <th>total_calls</th>\n      <th>total_sms</th>\n      <th>average_com</th>\n      <th>mood_next_day</th>\n      <th>average_soc</th>\n      <th>average_valence</th>\n      <th>average_arousal</th>\n      <th>average_finance</th>\n      <th>average_office</th>\n      <th>average_entertainment</th>\n      <th>average_game</th>\n      <th>window_size</th>\n      <th>id</th>\n      <th>day_after</th>\n    </tr>\n  </thead>\n  <tbody>\n    <tr>\n      <th>0</th>\n      <td>2</td>\n      <td>1.0</td>\n      <td>6.300000</td>\n      <td>2.000000</td>\n      <td>0.000000</td>\n      <td>35.597530</td>\n      <td>6.483333</td>\n      <td>37.259222</td>\n      <td>0.549550</td>\n      <td>0.183333</td>\n      <td>4.406111</td>\n      <td>19.134000</td>\n      <td>33.228667</td>\n      <td>0.0</td>\n      <td>(3, 5)</td>\n      <td>AS14.01</td>\n      <td>6.450000</td>\n    </tr>\n    <tr>\n      <th>1</th>\n      <td>3</td>\n      <td>2.0</td>\n      <td>6.483333</td>\n      <td>2.000000</td>\n      <td>0.000000</td>\n      <td>53.411540</td>\n      <td>6.400000</td>\n      <td>53.941426</td>\n      <td>0.566216</td>\n      <td>0.333333</td>\n      <td>8.023028</td>\n      <td>19.134000</td>\n      <td>43.711556</td>\n      <td>0.0</td>\n      <td>(4, 6)</td>\n      <td>AS14.01</td>\n      <td>6.783333</td>\n    </tr>\n    <tr>\n      <th>2</th>\n      <td>4</td>\n      <td>3.0</td>\n      <td>6.400000</td>\n      <td>0.000000</td>\n      <td>0.000000</td>\n      <td>50.893593</td>\n      <td>6.516667</td>\n      <td>53.883553</td>\n      <td>0.499550</td>\n      <td>0.533333</td>\n      <td>7.853472</td>\n      <td>1.003333</td>\n      <td>66.744014</td>\n      <td>0.0</td>\n      <td>(5, 7)</td>\n      <td>AS14.01</td>\n      <td>6.666667</td>\n    </tr>\n    <tr>\n      <th>3</th>\n      <td>5</td>\n      <td>4.0</td>\n      <td>6.516667</td>\n      <td>0.000000</td>\n      <td>0.000000</td>\n      <td>56.807075</td>\n      <td>6.450000</td>\n      <td>64.522398</td>\n      <td>0.433333</td>\n      <td>0.500000</td>\n      <td>9.099528</td>\n      <td>1.003333</td>\n      <td>62.557681</td>\n      <td>0.0</td>\n      <td>(6, 8)</td>\n      <td>AS14.01</td>\n      <td>7.133333</td>\n    </tr>\n    <tr>\n      <th>4</th>\n      <td>6</td>\n      <td>5.0</td>\n      <td>6.450000</td>\n      <td>0.000000</td>\n      <td>0.000000</td>\n      <td>54.680243</td>\n      <td>6.783333</td>\n      <td>89.210095</td>\n      <td>0.366667</td>\n      <td>0.366667</td>\n      <td>8.389889</td>\n      <td>1.003333</td>\n      <td>95.430935</td>\n      <td>0.0</td>\n      <td>(7, 9)</td>\n      <td>AS14.01</td>\n      <td>7.300000</td>\n    </tr>\n    <tr>\n      <th>...</th>\n      <td>...</td>\n      <td>...</td>\n      <td>...</td>\n      <td>...</td>\n      <td>...</td>\n      <td>...</td>\n      <td>...</td>\n      <td>...</td>\n      <td>...</td>\n      <td>...</td>\n      <td>...</td>\n      <td>...</td>\n      <td>...</td>\n      <td>...</td>\n      <td>...</td>\n      <td>...</td>\n      <td>...</td>\n    </tr>\n    <tr>\n      <th>1100</th>\n      <td>1206</td>\n      <td>1205.0</td>\n      <td>6.150000</td>\n      <td>0.000000</td>\n      <td>0.000000</td>\n      <td>66.436490</td>\n      <td>6.000000</td>\n      <td>134.010736</td>\n      <td>0.393704</td>\n      <td>-0.455556</td>\n      <td>0.000000</td>\n      <td>0.000000</td>\n      <td>103.117067</td>\n      <td>0.0</td>\n      <td>(31, 33)</td>\n      <td>AS14.33</td>\n      <td>6.161111</td>\n    </tr>\n    <tr>\n      <th>1101</th>\n      <td>1207</td>\n      <td>1206.0</td>\n      <td>6.000000</td>\n      <td>2.666667</td>\n      <td>0.000000</td>\n      <td>70.542827</td>\n      <td>5.861111</td>\n      <td>109.742962</td>\n      <td>0.410370</td>\n      <td>-0.222222</td>\n      <td>0.000000</td>\n      <td>0.000000</td>\n      <td>97.510511</td>\n      <td>0.0</td>\n      <td>(32, 34)</td>\n      <td>AS14.33</td>\n      <td>6.016667</td>\n    </tr>\n    <tr>\n      <th>1102</th>\n      <td>1208</td>\n      <td>1207.0</td>\n      <td>5.861111</td>\n      <td>2.666667</td>\n      <td>0.000000</td>\n      <td>50.831061</td>\n      <td>5.994444</td>\n      <td>123.089888</td>\n      <td>0.243704</td>\n      <td>-0.333333</td>\n      <td>0.000000</td>\n      <td>0.000000</td>\n      <td>139.604378</td>\n      <td>0.0</td>\n      <td>(33, 35)</td>\n      <td>AS14.33</td>\n      <td>5.950000</td>\n    </tr>\n    <tr>\n      <th>1103</th>\n      <td>1209</td>\n      <td>1208.0</td>\n      <td>5.994444</td>\n      <td>2.666667</td>\n      <td>0.000000</td>\n      <td>41.537724</td>\n      <td>6.161111</td>\n      <td>118.335189</td>\n      <td>0.243704</td>\n      <td>-0.210526</td>\n      <td>0.000000</td>\n      <td>0.000000</td>\n      <td>142.807230</td>\n      <td>0.0</td>\n      <td>(34, 36)</td>\n      <td>AS14.33</td>\n      <td>6.600000</td>\n    </tr>\n    <tr>\n      <th>1104</th>\n      <td>1210</td>\n      <td>1209.0</td>\n      <td>6.161111</td>\n      <td>1.000000</td>\n      <td>2.666667</td>\n      <td>38.002251</td>\n      <td>6.016667</td>\n      <td>116.105361</td>\n      <td>0.320741</td>\n      <td>-0.627193</td>\n      <td>0.000000</td>\n      <td>0.000000</td>\n      <td>134.334008</td>\n      <td>0.0</td>\n      <td>(35, 37)</td>\n      <td>AS14.33</td>\n      <td>7.133333</td>\n    </tr>\n  </tbody>\n</table>\n<p>1105 rows × 17 columns</p>\n</div>"
          },
          "metadata": {}
        }
      ]
    },
    {
      "cell_type": "code",
      "metadata": {
        "tags": [],
        "cell_id": "00015-e3825856-b55b-4be9-99f6-b9f736f5d77e",
        "deepnote_to_be_reexecuted": false,
        "source_hash": "8e980280",
        "execution_millis": 3,
        "execution_start": 1617877046372,
        "deepnote_cell_type": "code"
      },
      "source": "dfp = df.drop([\"average_mood\", \"Unnamed: 0.1\", \"Unnamed: 0\", 'mood_next_day', 'id', 'window_size'], axis=1)",
      "execution_count": null,
      "outputs": []
    },
    {
      "cell_type": "code",
      "metadata": {
        "tags": [],
        "cell_id": "00016-e8d90b1e-fe7f-4119-9dc4-15f0f9cd9e8a",
        "deepnote_to_be_reexecuted": false,
        "source_hash": "c64130d",
        "execution_start": 1617877033593,
        "execution_millis": 151,
        "deepnote_cell_type": "code"
      },
      "source": "dfp",
      "execution_count": null,
      "outputs": [
        {
          "output_type": "execute_result",
          "execution_count": 117,
          "data": {
            "application/vnd.deepnote.dataframe.v2+json": {
              "row_count": 1105,
              "column_count": 13,
              "columns": [
                {
                  "name": "total_calls",
                  "dtype": "float64",
                  "stats": {
                    "unique_count": 39,
                    "nan_count": 0,
                    "min": 0,
                    "max": 18,
                    "histogram": [
                      {
                        "bin_start": 0,
                        "bin_end": 1.8,
                        "count": 615
                      },
                      {
                        "bin_start": 1.8,
                        "bin_end": 3.6,
                        "count": 221
                      },
                      {
                        "bin_start": 3.6,
                        "bin_end": 5.4,
                        "count": 140
                      },
                      {
                        "bin_start": 5.4,
                        "bin_end": 7.2,
                        "count": 65
                      },
                      {
                        "bin_start": 7.2,
                        "bin_end": 9,
                        "count": 34
                      },
                      {
                        "bin_start": 9,
                        "bin_end": 10.8,
                        "count": 21
                      },
                      {
                        "bin_start": 10.8,
                        "bin_end": 12.6,
                        "count": 2
                      },
                      {
                        "bin_start": 12.6,
                        "bin_end": 14.4,
                        "count": 4
                      },
                      {
                        "bin_start": 14.4,
                        "bin_end": 16.2,
                        "count": 1
                      },
                      {
                        "bin_start": 16.2,
                        "bin_end": 18,
                        "count": 2
                      }
                    ]
                  }
                },
                {
                  "name": "total_sms",
                  "dtype": "float64",
                  "stats": {
                    "unique_count": 28,
                    "nan_count": 0,
                    "min": 0,
                    "max": 15,
                    "histogram": [
                      {
                        "bin_start": 0,
                        "bin_end": 1.5,
                        "count": 900
                      },
                      {
                        "bin_start": 1.5,
                        "bin_end": 3,
                        "count": 106
                      },
                      {
                        "bin_start": 3,
                        "bin_end": 4.5,
                        "count": 48
                      },
                      {
                        "bin_start": 4.5,
                        "bin_end": 6,
                        "count": 26
                      },
                      {
                        "bin_start": 6,
                        "bin_end": 7.5,
                        "count": 3
                      },
                      {
                        "bin_start": 7.5,
                        "bin_end": 9,
                        "count": 15
                      },
                      {
                        "bin_start": 9,
                        "bin_end": 10.5,
                        "count": 4
                      },
                      {
                        "bin_start": 10.5,
                        "bin_end": 12,
                        "count": 1
                      },
                      {
                        "bin_start": 12,
                        "bin_end": 13.5,
                        "count": 0
                      },
                      {
                        "bin_start": 13.5,
                        "bin_end": 15,
                        "count": 2
                      }
                    ]
                  }
                },
                {
                  "name": "average_com",
                  "dtype": "float64",
                  "stats": {
                    "unique_count": 1011,
                    "nan_count": 0,
                    "min": 0,
                    "max": 268.99595751633984,
                    "histogram": [
                      {
                        "bin_start": 0,
                        "bin_end": 26.899595751633985,
                        "count": 274
                      },
                      {
                        "bin_start": 26.899595751633985,
                        "bin_end": 53.79919150326797,
                        "count": 616
                      },
                      {
                        "bin_start": 53.79919150326797,
                        "bin_end": 80.69878725490196,
                        "count": 169
                      },
                      {
                        "bin_start": 80.69878725490196,
                        "bin_end": 107.59838300653594,
                        "count": 27
                      },
                      {
                        "bin_start": 107.59838300653594,
                        "bin_end": 134.49797875816992,
                        "count": 6
                      },
                      {
                        "bin_start": 134.49797875816992,
                        "bin_end": 161.39757450980392,
                        "count": 5
                      },
                      {
                        "bin_start": 161.39757450980392,
                        "bin_end": 188.29717026143788,
                        "count": 2
                      },
                      {
                        "bin_start": 188.29717026143788,
                        "bin_end": 215.19676601307188,
                        "count": 5
                      },
                      {
                        "bin_start": 215.19676601307188,
                        "bin_end": 242.09636176470588,
                        "count": 0
                      },
                      {
                        "bin_start": 242.09636176470588,
                        "bin_end": 268.99595751633984,
                        "count": 1
                      }
                    ]
                  }
                },
                {
                  "name": "average_soc",
                  "dtype": "float64",
                  "stats": {
                    "unique_count": 893,
                    "nan_count": 0,
                    "min": 0,
                    "max": 1267.7156057692307,
                    "histogram": [
                      {
                        "bin_start": 0,
                        "bin_end": 126.77156057692306,
                        "count": 1027
                      },
                      {
                        "bin_start": 126.77156057692306,
                        "bin_end": 253.54312115384613,
                        "count": 64
                      },
                      {
                        "bin_start": 253.54312115384613,
                        "bin_end": 380.31468173076917,
                        "count": 9
                      },
                      {
                        "bin_start": 380.31468173076917,
                        "bin_end": 507.08624230769226,
                        "count": 1
                      },
                      {
                        "bin_start": 507.08624230769226,
                        "bin_end": 633.8578028846154,
                        "count": 1
                      },
                      {
                        "bin_start": 633.8578028846154,
                        "bin_end": 760.6293634615383,
                        "count": 0
                      },
                      {
                        "bin_start": 760.6293634615383,
                        "bin_end": 887.4009240384614,
                        "count": 0
                      },
                      {
                        "bin_start": 887.4009240384614,
                        "bin_end": 1014.1724846153845,
                        "count": 0
                      },
                      {
                        "bin_start": 1014.1724846153845,
                        "bin_end": 1140.9440451923076,
                        "count": 0
                      },
                      {
                        "bin_start": 1140.9440451923076,
                        "bin_end": 1267.7156057692307,
                        "count": 3
                      }
                    ]
                  }
                },
                {
                  "name": "average_valence",
                  "dtype": "float64",
                  "stats": {
                    "unique_count": 345,
                    "nan_count": 0,
                    "min": -1,
                    "max": 1.5666666666666669,
                    "histogram": [
                      {
                        "bin_start": -1,
                        "bin_end": -0.7433333333333333,
                        "count": 1
                      },
                      {
                        "bin_start": -0.7433333333333333,
                        "bin_end": -0.4866666666666666,
                        "count": 1
                      },
                      {
                        "bin_start": -0.4866666666666666,
                        "bin_end": -0.22999999999999987,
                        "count": 3
                      },
                      {
                        "bin_start": -0.22999999999999987,
                        "bin_end": 0.02666666666666684,
                        "count": 28
                      },
                      {
                        "bin_start": 0.02666666666666684,
                        "bin_end": 0.28333333333333366,
                        "count": 81
                      },
                      {
                        "bin_start": 0.28333333333333366,
                        "bin_end": 0.5400000000000003,
                        "count": 225
                      },
                      {
                        "bin_start": 0.5400000000000003,
                        "bin_end": 0.7966666666666669,
                        "count": 304
                      },
                      {
                        "bin_start": 0.7966666666666669,
                        "bin_end": 1.0533333333333337,
                        "count": 386
                      },
                      {
                        "bin_start": 1.0533333333333337,
                        "bin_end": 1.3100000000000005,
                        "count": 64
                      },
                      {
                        "bin_start": 1.3100000000000005,
                        "bin_end": 1.5666666666666669,
                        "count": 12
                      }
                    ]
                  }
                },
                {
                  "name": "average_arousal",
                  "dtype": "float64",
                  "stats": {
                    "unique_count": 375,
                    "nan_count": 0,
                    "min": -1.8,
                    "max": 1.3333333333333333,
                    "histogram": [
                      {
                        "bin_start": -1.8,
                        "bin_end": -1.4866666666666668,
                        "count": 1
                      },
                      {
                        "bin_start": -1.4866666666666668,
                        "bin_end": -1.1733333333333333,
                        "count": 14
                      },
                      {
                        "bin_start": -1.1733333333333333,
                        "bin_end": -0.86,
                        "count": 57
                      },
                      {
                        "bin_start": -0.86,
                        "bin_end": -0.5466666666666666,
                        "count": 93
                      },
                      {
                        "bin_start": -0.5466666666666666,
                        "bin_end": -0.23333333333333317,
                        "count": 252
                      },
                      {
                        "bin_start": -0.23333333333333317,
                        "bin_end": 0.08000000000000007,
                        "count": 295
                      },
                      {
                        "bin_start": 0.08000000000000007,
                        "bin_end": 0.3933333333333333,
                        "count": 208
                      },
                      {
                        "bin_start": 0.3933333333333333,
                        "bin_end": 0.7066666666666668,
                        "count": 132
                      },
                      {
                        "bin_start": 0.7066666666666668,
                        "bin_end": 1.0200000000000002,
                        "count": 41
                      },
                      {
                        "bin_start": 1.0200000000000002,
                        "bin_end": 1.3333333333333333,
                        "count": 12
                      }
                    ]
                  }
                },
                {
                  "name": "average_finance",
                  "dtype": "float64",
                  "stats": {
                    "unique_count": 241,
                    "nan_count": 0,
                    "min": 0,
                    "max": 76.67488888888889,
                    "histogram": [
                      {
                        "bin_start": 0,
                        "bin_end": 7.667488888888888,
                        "count": 907
                      },
                      {
                        "bin_start": 7.667488888888888,
                        "bin_end": 15.334977777777777,
                        "count": 91
                      },
                      {
                        "bin_start": 15.334977777777777,
                        "bin_end": 23.002466666666663,
                        "count": 42
                      },
                      {
                        "bin_start": 23.002466666666663,
                        "bin_end": 30.669955555555553,
                        "count": 26
                      },
                      {
                        "bin_start": 30.669955555555553,
                        "bin_end": 38.33744444444444,
                        "count": 17
                      },
                      {
                        "bin_start": 38.33744444444444,
                        "bin_end": 46.00493333333333,
                        "count": 8
                      },
                      {
                        "bin_start": 46.00493333333333,
                        "bin_end": 53.67242222222222,
                        "count": 6
                      },
                      {
                        "bin_start": 53.67242222222222,
                        "bin_end": 61.33991111111111,
                        "count": 3
                      },
                      {
                        "bin_start": 61.33991111111111,
                        "bin_end": 69.00739999999999,
                        "count": 4
                      },
                      {
                        "bin_start": 69.00739999999999,
                        "bin_end": 76.67488888888889,
                        "count": 1
                      }
                    ]
                  }
                },
                {
                  "name": "average_office",
                  "dtype": "float64",
                  "stats": {
                    "unique_count": 295,
                    "nan_count": 0,
                    "min": 0,
                    "max": 510.4858611111112,
                    "histogram": [
                      {
                        "bin_start": 0,
                        "bin_end": 51.04858611111112,
                        "count": 1054
                      },
                      {
                        "bin_start": 51.04858611111112,
                        "bin_end": 102.09717222222224,
                        "count": 32
                      },
                      {
                        "bin_start": 102.09717222222224,
                        "bin_end": 153.14575833333336,
                        "count": 11
                      },
                      {
                        "bin_start": 153.14575833333336,
                        "bin_end": 204.19434444444448,
                        "count": 5
                      },
                      {
                        "bin_start": 204.19434444444448,
                        "bin_end": 255.2429305555556,
                        "count": 0
                      },
                      {
                        "bin_start": 255.2429305555556,
                        "bin_end": 306.2915166666667,
                        "count": 0
                      },
                      {
                        "bin_start": 306.2915166666667,
                        "bin_end": 357.3401027777778,
                        "count": 0
                      },
                      {
                        "bin_start": 357.3401027777778,
                        "bin_end": 408.38868888888896,
                        "count": 0
                      },
                      {
                        "bin_start": 408.38868888888896,
                        "bin_end": 459.4372750000001,
                        "count": 0
                      },
                      {
                        "bin_start": 459.4372750000001,
                        "bin_end": 510.4858611111112,
                        "count": 3
                      }
                    ]
                  }
                },
                {
                  "name": "average_entertainment",
                  "dtype": "float64",
                  "stats": {
                    "unique_count": 779,
                    "nan_count": 0,
                    "min": 0,
                    "max": 720.9020555555554,
                    "histogram": [
                      {
                        "bin_start": 0,
                        "bin_end": 72.09020555555554,
                        "count": 788
                      },
                      {
                        "bin_start": 72.09020555555554,
                        "bin_end": 144.18041111111108,
                        "count": 166
                      },
                      {
                        "bin_start": 144.18041111111108,
                        "bin_end": 216.27061666666663,
                        "count": 76
                      },
                      {
                        "bin_start": 216.27061666666663,
                        "bin_end": 288.36082222222217,
                        "count": 33
                      },
                      {
                        "bin_start": 288.36082222222217,
                        "bin_end": 360.4510277777777,
                        "count": 14
                      },
                      {
                        "bin_start": 360.4510277777777,
                        "bin_end": 432.54123333333325,
                        "count": 12
                      },
                      {
                        "bin_start": 432.54123333333325,
                        "bin_end": 504.6314388888888,
                        "count": 8
                      },
                      {
                        "bin_start": 504.6314388888888,
                        "bin_end": 576.7216444444443,
                        "count": 3
                      },
                      {
                        "bin_start": 576.7216444444443,
                        "bin_end": 648.8118499999998,
                        "count": 2
                      },
                      {
                        "bin_start": 648.8118499999998,
                        "bin_end": 720.9020555555554,
                        "count": 3
                      }
                    ]
                  }
                },
                {
                  "name": "average_game",
                  "dtype": "float64",
                  "stats": {
                    "unique_count": 193,
                    "nan_count": 0,
                    "min": 0,
                    "max": 854.3023333333334,
                    "histogram": [
                      {
                        "bin_start": 0,
                        "bin_end": 85.43023333333335,
                        "count": 1031
                      },
                      {
                        "bin_start": 85.43023333333335,
                        "bin_end": 170.8604666666667,
                        "count": 26
                      },
                      {
                        "bin_start": 170.8604666666667,
                        "bin_end": 256.2907,
                        "count": 16
                      },
                      {
                        "bin_start": 256.2907,
                        "bin_end": 341.7209333333334,
                        "count": 17
                      },
                      {
                        "bin_start": 341.7209333333334,
                        "bin_end": 427.15116666666677,
                        "count": 10
                      },
                      {
                        "bin_start": 427.15116666666677,
                        "bin_end": 512.5814,
                        "count": 1
                      },
                      {
                        "bin_start": 512.5814,
                        "bin_end": 598.0116333333334,
                        "count": 1
                      },
                      {
                        "bin_start": 598.0116333333334,
                        "bin_end": 683.4418666666668,
                        "count": 0
                      },
                      {
                        "bin_start": 683.4418666666668,
                        "bin_end": 768.8721000000002,
                        "count": 0
                      },
                      {
                        "bin_start": 768.8721000000002,
                        "bin_end": 854.3023333333334,
                        "count": 3
                      }
                    ]
                  }
                },
                {
                  "name": "window_size",
                  "dtype": "object",
                  "stats": {
                    "unique_count": 62,
                    "nan_count": 0,
                    "categories": [
                      {
                        "name": "(3, 5)",
                        "count": 27
                      },
                      {
                        "name": "(4, 6)",
                        "count": 27
                      },
                      {
                        "name": "60 others",
                        "count": 1051
                      }
                    ]
                  }
                },
                {
                  "name": "id",
                  "dtype": "object",
                  "stats": {
                    "unique_count": 27,
                    "nan_count": 0,
                    "categories": [
                      {
                        "name": "AS14.26",
                        "count": 62
                      },
                      {
                        "name": "AS14.08",
                        "count": 57
                      },
                      {
                        "name": "25 others",
                        "count": 986
                      }
                    ]
                  }
                },
                {
                  "name": "day_after",
                  "dtype": "float64",
                  "stats": {
                    "unique_count": 328,
                    "nan_count": 0,
                    "min": 3.966666666666667,
                    "max": 8.377777777777776,
                    "histogram": [
                      {
                        "bin_start": 3.966666666666667,
                        "bin_end": 4.407777777777778,
                        "count": 1
                      },
                      {
                        "bin_start": 4.407777777777778,
                        "bin_end": 4.848888888888888,
                        "count": 3
                      },
                      {
                        "bin_start": 4.848888888888888,
                        "bin_end": 5.289999999999999,
                        "count": 8
                      },
                      {
                        "bin_start": 5.289999999999999,
                        "bin_end": 5.731111111111111,
                        "count": 20
                      },
                      {
                        "bin_start": 5.731111111111111,
                        "bin_end": 6.172222222222222,
                        "count": 66
                      },
                      {
                        "bin_start": 6.172222222222222,
                        "bin_end": 6.613333333333332,
                        "count": 152
                      },
                      {
                        "bin_start": 6.613333333333332,
                        "bin_end": 7.054444444444444,
                        "count": 312
                      },
                      {
                        "bin_start": 7.054444444444444,
                        "bin_end": 7.495555555555555,
                        "count": 357
                      },
                      {
                        "bin_start": 7.495555555555555,
                        "bin_end": 7.936666666666666,
                        "count": 148
                      },
                      {
                        "bin_start": 7.936666666666666,
                        "bin_end": 8.377777777777776,
                        "count": 38
                      }
                    ]
                  }
                },
                {
                  "name": "_deepnote_index_column",
                  "dtype": "int64"
                }
              ],
              "rows_top": [
                {
                  "total_calls": 2,
                  "total_sms": 0,
                  "average_com": 35.59752960526317,
                  "average_soc": 37.25922222222223,
                  "average_valence": 0.5495495495495496,
                  "average_arousal": 0.1833333333333333,
                  "average_finance": 4.406111111111112,
                  "average_office": 19.134000000000004,
                  "average_entertainment": 33.22866666666667,
                  "average_game": 0,
                  "window_size": "(3, 5)",
                  "id": "AS14.01",
                  "day_after": 6.449999999999999,
                  "_deepnote_index_column": 0
                },
                {
                  "total_calls": 2,
                  "total_sms": 0,
                  "average_com": 53.4115398093448,
                  "average_soc": 53.94142592592593,
                  "average_valence": 0.5662162162162162,
                  "average_arousal": 0.3333333333333333,
                  "average_finance": 8.023027777777777,
                  "average_office": 19.134000000000004,
                  "average_entertainment": 43.71155555555556,
                  "average_game": 0,
                  "window_size": "(4, 6)",
                  "id": "AS14.01",
                  "day_after": 6.783333333333332,
                  "_deepnote_index_column": 1
                },
                {
                  "total_calls": 0,
                  "total_sms": 0,
                  "average_com": 50.89359343057736,
                  "average_soc": 53.883552540913,
                  "average_valence": 0.4995495495495496,
                  "average_arousal": 0.5333333333333333,
                  "average_finance": 7.853472222222222,
                  "average_office": 1.0033333333333332,
                  "average_entertainment": 66.74401388888889,
                  "average_game": 0,
                  "window_size": "(5, 7)",
                  "id": "AS14.01",
                  "day_after": 6.666666666666667,
                  "_deepnote_index_column": 2
                },
                {
                  "total_calls": 0,
                  "total_sms": 0,
                  "average_com": 56.80707484949627,
                  "average_soc": 64.52239777900824,
                  "average_valence": 0.4333333333333333,
                  "average_arousal": 0.5,
                  "average_finance": 9.099527777777778,
                  "average_office": 1.0033333333333332,
                  "average_entertainment": 62.55768055555556,
                  "average_game": 0,
                  "window_size": "(6, 8)",
                  "id": "AS14.01",
                  "day_after": 7.133333333333334,
                  "_deepnote_index_column": 3
                },
                {
                  "total_calls": 0,
                  "total_sms": 0,
                  "average_com": 54.68024265588585,
                  "average_soc": 89.21009497620543,
                  "average_valence": 0.3666666666666667,
                  "average_arousal": 0.3666666666666667,
                  "average_finance": 8.38988888888889,
                  "average_office": 1.0033333333333332,
                  "average_entertainment": 95.43093452380953,
                  "average_game": 0,
                  "window_size": "(7, 9)",
                  "id": "AS14.01",
                  "day_after": 7.300000000000001,
                  "_deepnote_index_column": 4
                },
                {
                  "total_calls": 5,
                  "total_sms": 0,
                  "average_com": 53.28408026272346,
                  "average_soc": 88.20487434412433,
                  "average_valence": 0.6333333333333333,
                  "average_arousal": 0.1666666666666666,
                  "average_finance": 11.186111111111112,
                  "average_office": 5.068083333333333,
                  "average_entertainment": 78.40303174603174,
                  "average_game": 0,
                  "window_size": "(8, 10)",
                  "id": "AS14.01",
                  "day_after": 7.633333333333333,
                  "_deepnote_index_column": 5
                },
                {
                  "total_calls": 6.666666666666667,
                  "total_sms": 0,
                  "average_com": 38.16447615861935,
                  "average_soc": 73.89971243936243,
                  "average_valence": 0.6666666666666666,
                  "average_arousal": -0.1999999999999999,
                  "average_finance": 11.844277777777778,
                  "average_office": 5.068083333333333,
                  "average_entertainment": 97.50212265512266,
                  "average_game": 38.839333333333336,
                  "window_size": "(9, 11)",
                  "id": "AS14.01",
                  "day_after": 6.966666666666666,
                  "_deepnote_index_column": 6
                },
                {
                  "total_calls": 6.666666666666667,
                  "total_sms": 0,
                  "average_com": 38.38777768031189,
                  "average_soc": 52.2334782051282,
                  "average_valence": 0.7999999999999999,
                  "average_arousal": -0.0666666666666666,
                  "average_finance": 8.937,
                  "average_office": 5.068083333333333,
                  "average_entertainment": 90.3110686868687,
                  "average_game": 38.839333333333336,
                  "window_size": "(10, 12)",
                  "id": "AS14.01",
                  "day_after": 6.633333333333333,
                  "_deepnote_index_column": 7
                },
                {
                  "total_calls": 1.6666666666666667,
                  "total_sms": 0,
                  "average_com": 44.5479014898357,
                  "average_soc": 46.88101666666666,
                  "average_valence": 0.7833333333333333,
                  "average_arousal": -0.3,
                  "average_finance": 4.246,
                  "average_office": 0,
                  "average_entertainment": 123.5087723905724,
                  "average_game": 38.839333333333336,
                  "window_size": "(11, 13)",
                  "id": "AS14.01",
                  "day_after": 6.300000000000001,
                  "_deepnote_index_column": 8
                },
                {
                  "total_calls": 3.333333333333333,
                  "total_sms": 0,
                  "average_com": 50.30109378096404,
                  "average_soc": 57.094430555555554,
                  "average_valence": 0.7833333333333333,
                  "average_arousal": -0.0999999999999999,
                  "average_finance": 2.2919444444444443,
                  "average_office": 0,
                  "average_entertainment": 110.28632854030502,
                  "average_game": 17.058666666666667,
                  "window_size": "(12, 14)",
                  "id": "AS14.01",
                  "day_after": 6.366666666666667,
                  "_deepnote_index_column": 9
                },
                {
                  "total_calls": 3.6666666666666665,
                  "total_sms": 0,
                  "average_com": 45.43323381401768,
                  "average_soc": 52.6636941919192,
                  "average_valence": 0.45,
                  "average_arousal": -0.0999999999999999,
                  "average_finance": 7.364407407407408,
                  "average_office": 10.265333333333334,
                  "average_entertainment": 88.43564242919389,
                  "average_game": 43.141,
                  "window_size": "(13, 15)",
                  "id": "AS14.01",
                  "day_after": 6.466666666666668,
                  "_deepnote_index_column": 10
                },
                {
                  "total_calls": 5,
                  "total_sms": 0,
                  "average_com": 36.074329516689,
                  "average_soc": 55.59675708500095,
                  "average_valence": 0.4328828828828828,
                  "average_arousal": -0.0237499999999999,
                  "average_finance": 11.71137231968811,
                  "average_office": 40.425666666666665,
                  "average_entertainment": 46.99981995154383,
                  "average_game": 43.141,
                  "window_size": "(14, 16)",
                  "id": "AS14.01",
                  "day_after": 6.5,
                  "_deepnote_index_column": 11
                },
                {
                  "total_calls": 3,
                  "total_sms": 0,
                  "average_com": 37.76980606562258,
                  "average_soc": 51.646303055267005,
                  "average_valence": 0.2328828828828829,
                  "average_arousal": -0.42375,
                  "average_finance": 17.88987231968811,
                  "average_office": 40.425666666666665,
                  "average_entertainment": 46.34051904656646,
                  "average_game": 26.08233333333333,
                  "window_size": "(15, 17)",
                  "id": "AS14.01",
                  "day_after": 6.6000000000000005,
                  "_deepnote_index_column": 12
                },
                {
                  "total_calls": 2.6666666666666665,
                  "total_sms": 0,
                  "average_com": 41.58254693400952,
                  "average_soc": 60.35264861430566,
                  "average_valence": 0.3662162162162163,
                  "average_arousal": -0.42375,
                  "average_finance": 12.817409356725143,
                  "average_office": 30.16033333333333,
                  "average_entertainment": 64.21834543545536,
                  "average_game": 0,
                  "window_size": "(16, 18)",
                  "id": "AS14.01",
                  "day_after": 6.533333333333332,
                  "_deepnote_index_column": 13
                },
                {
                  "total_calls": 1.3333333333333333,
                  "total_sms": 0,
                  "average_com": 42.89965408848107,
                  "average_soc": 53.9215857212239,
                  "average_valence": 0.3333333333333333,
                  "average_arousal": -0.4666666666666666,
                  "average_finance": 8.470444444444443,
                  "average_office": 0,
                  "average_entertainment": 74.23357532051283,
                  "average_game": 0,
                  "window_size": "(17, 19)",
                  "id": "AS14.01",
                  "day_after": 6.833333333333333,
                  "_deepnote_index_column": 14
                },
                {
                  "total_calls": 2,
                  "total_sms": 0,
                  "average_com": 43.40448233836625,
                  "average_soc": 60.543609195402304,
                  "average_valence": 0.5,
                  "average_arousal": -0.3166666666666666,
                  "average_finance": 0,
                  "average_office": 0,
                  "average_entertainment": 88.85089583333333,
                  "average_game": 19.067666666666668,
                  "window_size": "(18, 20)",
                  "id": "AS14.01",
                  "day_after": 7.133333333333333,
                  "_deepnote_index_column": 15
                },
                {
                  "total_calls": 2.333333333333333,
                  "total_sms": 0,
                  "average_com": 47.55432862310817,
                  "average_soc": 57.05625,
                  "average_valence": 0.45,
                  "average_arousal": -0.4737499999999999,
                  "average_finance": 3.075199999999999,
                  "average_office": 5.702333333333333,
                  "average_entertainment": 81.49872222222223,
                  "average_game": 19.067666666666668,
                  "window_size": "(19, 21)",
                  "id": "AS14.01",
                  "day_after": 7.266666666666667,
                  "_deepnote_index_column": 16
                },
                {
                  "total_calls": 2.6666666666666665,
                  "total_sms": 0,
                  "average_com": 51.3537660324346,
                  "average_soc": 61.59014629629629,
                  "average_valence": 0.4828828828828829,
                  "average_arousal": -0.47375,
                  "average_finance": 5.200866666666665,
                  "average_office": 5.702333333333333,
                  "average_entertainment": 111.06586507936508,
                  "average_game": 19.067666666666668,
                  "window_size": "(20, 22)",
                  "id": "AS14.01",
                  "day_after": 7.216666666666666,
                  "_deepnote_index_column": 17
                },
                {
                  "total_calls": 2,
                  "total_sms": 0,
                  "average_com": 48.08407038281671,
                  "average_soc": 54.88005254629629,
                  "average_valence": 0.5490990990990992,
                  "average_arousal": -0.4904166666666666,
                  "average_finance": 5.200866666666665,
                  "average_office": 5.702333333333333,
                  "average_entertainment": 105.99603174603176,
                  "average_game": 0,
                  "window_size": "(21, 23)",
                  "id": "AS14.01",
                  "day_after": 7.416666666666667,
                  "_deepnote_index_column": 18
                },
                {
                  "total_calls": 1.6666666666666667,
                  "total_sms": 0,
                  "average_com": 50.77402366447046,
                  "average_soc": 47.440546990740735,
                  "average_valence": 0.7324324324324326,
                  "average_arousal": -0.5333333333333333,
                  "average_finance": 2.1256666666666653,
                  "average_office": 7.731666666666666,
                  "average_entertainment": 132.79189285714287,
                  "average_game": 0.353,
                  "window_size": "(22, 24)",
                  "id": "AS14.01",
                  "day_after": 7.483333333333333,
                  "_deepnote_index_column": 19
                },
                {
                  "total_calls": 1.3333333333333333,
                  "total_sms": 0,
                  "average_com": 43.59690642043329,
                  "average_soc": 43.07572761752137,
                  "average_valence": 0.7662162162162162,
                  "average_arousal": -0.8000000000000002,
                  "average_finance": 5.227388888888888,
                  "average_office": 7.731666666666666,
                  "average_entertainment": 118.93795833333336,
                  "average_game": 0.353,
                  "window_size": "(23, 25)",
                  "id": "AS14.01",
                  "day_after": 7.2,
                  "_deepnote_index_column": 20
                },
                {
                  "total_calls": 0,
                  "total_sms": 0,
                  "average_com": 78.67733002036171,
                  "average_soc": 43.04582136752137,
                  "average_valence": 0.7833333333333333,
                  "average_arousal": -0.7833333333333332,
                  "average_finance": 5.227388888888888,
                  "average_office": 7.731666666666666,
                  "average_entertainment": 153.54106944444445,
                  "average_game": 0.353,
                  "window_size": "(24, 26)",
                  "id": "AS14.01",
                  "day_after": 6.933333333333334,
                  "_deepnote_index_column": 21
                },
                {
                  "total_calls": 0,
                  "total_sms": 0,
                  "average_com": 72.87774973050664,
                  "average_soc": 35.74374358974359,
                  "average_valence": 0.85,
                  "average_arousal": -1.0666666666666669,
                  "average_finance": 8.27972222222222,
                  "average_office": 0,
                  "average_entertainment": 122.68781944444444,
                  "average_game": 0,
                  "window_size": "(25, 27)",
                  "id": "AS14.01",
                  "day_after": 6.733333333333334,
                  "_deepnote_index_column": 22
                },
                {
                  "total_calls": 2.6666666666666665,
                  "total_sms": 2.6666666666666665,
                  "average_com": 80.84551771336552,
                  "average_soc": 74.55183333333333,
                  "average_valence": 0.7833333333333333,
                  "average_arousal": -1.0666666666666669,
                  "average_finance": 8.01472222222222,
                  "average_office": 0,
                  "average_entertainment": 153.53616283524903,
                  "average_game": 0,
                  "window_size": "(26, 28)",
                  "id": "AS14.01",
                  "day_after": 6.866666666666666,
                  "_deepnote_index_column": 23
                },
                {
                  "total_calls": 2.6666666666666665,
                  "total_sms": 3,
                  "average_com": 46.61547731363076,
                  "average_soc": 93.40821212121212,
                  "average_valence": 0.7999999999999999,
                  "average_arousal": -0.8166666666666668,
                  "average_finance": 9.463944444444444,
                  "average_office": 0,
                  "average_entertainment": 109.3711131276467,
                  "average_game": 0,
                  "window_size": "(27, 29)",
                  "id": "AS14.01",
                  "day_after": 7.066666666666666,
                  "_deepnote_index_column": 24
                },
                {
                  "total_calls": 2.6666666666666665,
                  "total_sms": 3,
                  "average_com": 43.041364270152506,
                  "average_soc": 109.64468338557997,
                  "average_valence": 0.6995495495495496,
                  "average_arousal": -0.4904166666666666,
                  "average_finance": 6.41161111111111,
                  "average_office": 0,
                  "average_entertainment": 96.49092794246152,
                  "average_game": 0,
                  "window_size": "(28, 30)",
                  "id": "AS14.01",
                  "day_after": 7.283333333333334,
                  "_deepnote_index_column": 25
                },
                {
                  "total_calls": 3.333333333333333,
                  "total_sms": 0.3333333333333333,
                  "average_com": 62.130625907937066,
                  "average_soc": 78.94658338557994,
                  "average_valence": 0.6995495495495495,
                  "average_arousal": -0.22375,
                  "average_finance": 1.4492222222222209,
                  "average_office": 0,
                  "average_entertainment": 33.95577621832359,
                  "average_game": 0,
                  "window_size": "(29, 31)",
                  "id": "AS14.01",
                  "day_after": 7.55,
                  "_deepnote_index_column": 26
                },
                {
                  "total_calls": 3.6666666666666665,
                  "total_sms": 0,
                  "average_com": 70.28426263146117,
                  "average_soc": 111.86360459770113,
                  "average_valence": 0.6995495495495496,
                  "average_arousal": -0.4904166666666666,
                  "average_finance": 5.67442857142857,
                  "average_office": 0,
                  "average_entertainment": 46.0649925925926,
                  "average_game": 0,
                  "window_size": "(30, 32)",
                  "id": "AS14.01",
                  "day_after": 7.416666666666667,
                  "_deepnote_index_column": 27
                },
                {
                  "total_calls": 4,
                  "total_sms": 0,
                  "average_com": 69.77344531544385,
                  "average_soc": 101.89716363636364,
                  "average_valence": 0.7999999999999999,
                  "average_arousal": -0.4666666666666667,
                  "average_finance": 10.987150793650793,
                  "average_office": 0,
                  "average_entertainment": 64.23328888888888,
                  "average_game": 9.694666666666668,
                  "window_size": "(31, 33)",
                  "id": "AS14.01",
                  "day_after": 7.533333333333334,
                  "_deepnote_index_column": 28
                },
                {
                  "total_calls": 1.3333333333333333,
                  "total_sms": 0,
                  "average_com": 52.623261583150985,
                  "average_soc": 109.5641803030303,
                  "average_valence": 0.85,
                  "average_arousal": -0.4166666666666667,
                  "average_finance": 12.75481746031746,
                  "average_office": 0,
                  "average_entertainment": 74.95866666666666,
                  "average_game": 9.694666666666668,
                  "window_size": "(32, 34)",
                  "id": "AS14.01",
                  "day_after": 7.533333333333334,
                  "_deepnote_index_column": 29
                },
                {
                  "total_calls": 1.6666666666666667,
                  "total_sms": 0,
                  "average_com": 45.43346236081093,
                  "average_soc": 63.52735173160172,
                  "average_valence": 0.9166666666666666,
                  "average_arousal": -0.2404166666666666,
                  "average_finance": 10.77661111111111,
                  "average_office": 0,
                  "average_entertainment": 52.51888888888888,
                  "average_game": 9.694666666666668,
                  "window_size": "(33, 35)",
                  "id": "AS14.01",
                  "day_after": 7.466666666666666,
                  "_deepnote_index_column": 30
                },
                {
                  "total_calls": 2,
                  "total_sms": 0,
                  "average_com": 49.20705580851551,
                  "average_soc": 74.08711507936506,
                  "average_valence": 0.9166666666666666,
                  "average_arousal": -0.1070833333333333,
                  "average_finance": 7.600166666666666,
                  "average_office": 0,
                  "average_entertainment": 39.555456349206345,
                  "average_game": 0,
                  "window_size": "(34, 36)",
                  "id": "AS14.01",
                  "day_after": 7.466666666666666,
                  "_deepnote_index_column": 31
                },
                {
                  "total_calls": 1.6666666666666667,
                  "total_sms": 0,
                  "average_com": 48.1458135932595,
                  "average_soc": 57.6350873015873,
                  "average_valence": 1,
                  "average_arousal": 0.0429166666666666,
                  "average_finance": 7.838166666666666,
                  "average_office": 0,
                  "average_entertainment": 32.21501190476191,
                  "average_game": 0,
                  "window_size": "(35, 37)",
                  "id": "AS14.01",
                  "day_after": 7.433333333333334,
                  "_deepnote_index_column": 32
                },
                {
                  "total_calls": 1.3333333333333333,
                  "total_sms": 0,
                  "average_com": 55.159633303404426,
                  "average_soc": 62.81295396825397,
                  "average_valence": 1,
                  "average_arousal": 0,
                  "average_finance": 18.137744444444444,
                  "average_office": 0,
                  "average_entertainment": 60.58722120708748,
                  "average_game": 0,
                  "window_size": "(36, 38)",
                  "id": "AS14.01",
                  "day_after": 7.566666666666666,
                  "_deepnote_index_column": 33
                },
                {
                  "total_calls": 1.3333333333333333,
                  "total_sms": 1.3333333333333333,
                  "average_com": 56.66258299331341,
                  "average_soc": 72.51824727398206,
                  "average_valence": 0.9333333333333332,
                  "average_arousal": -0.1333333333333333,
                  "average_finance": 18.342688888888887,
                  "average_office": 0,
                  "average_entertainment": 64.16787596899225,
                  "average_game": 0,
                  "window_size": "(37, 39)",
                  "id": "AS14.01",
                  "day_after": 7.366666666666666,
                  "_deepnote_index_column": 34
                },
                {
                  "total_calls": 1,
                  "total_sms": 1.3333333333333333,
                  "average_com": 58.53113403865052,
                  "average_soc": 321.0435250517598,
                  "average_valence": 0.9333333333333332,
                  "average_arousal": -0.2666666666666666,
                  "average_finance": 18.60927222222222,
                  "average_office": 0,
                  "average_entertainment": 93.15220930232556,
                  "average_game": 0,
                  "window_size": "(38, 40)",
                  "id": "AS14.01",
                  "day_after": 7.466666666666666,
                  "_deepnote_index_column": 35
                },
                {
                  "total_calls": 0.6666666666666666,
                  "total_sms": 1.3333333333333333,
                  "average_com": 53.87846348309496,
                  "average_soc": 300.0167536231884,
                  "average_valence": 0.9333333333333332,
                  "average_arousal": -0.1333333333333333,
                  "average_finance": 4.61347222222222,
                  "average_office": 0,
                  "average_entertainment": 104.3042727272727,
                  "average_game": 0,
                  "window_size": "(39, 41)",
                  "id": "AS14.01",
                  "day_after": 7.6,
                  "_deepnote_index_column": 36
                },
                {
                  "total_calls": 0,
                  "total_sms": 0,
                  "average_com": 55.21233766149872,
                  "average_soc": 335.06280555555554,
                  "average_valence": 0.9333333333333332,
                  "average_arousal": -0.3333333333333333,
                  "average_finance": 19.503842592592587,
                  "average_office": 0,
                  "average_entertainment": 124.48384415584415,
                  "average_game": 0,
                  "window_size": "(40, 42)",
                  "id": "AS14.01",
                  "day_after": 7.8,
                  "_deepnote_index_column": 37
                }
              ],
              "rows_bottom": [
                {
                  "total_calls": 7,
                  "total_sms": 0,
                  "average_com": 64.78844021926086,
                  "average_soc": 17.727666666666668,
                  "average_valence": 0.1666666666666666,
                  "average_arousal": -0.75,
                  "average_finance": 0,
                  "average_office": 0.7040000000000001,
                  "average_entertainment": 8.479073145797452,
                  "average_game": 0,
                  "window_size": "(26, 28)",
                  "id": "AS14.32",
                  "day_after": 6.75,
                  "_deepnote_index_column": 1067
                },
                {
                  "total_calls": 4.333333333333333,
                  "total_sms": 0,
                  "average_com": 78.45252155549906,
                  "average_soc": 53.56883333333334,
                  "average_valence": 0.5,
                  "average_arousal": -0.3055555555555556,
                  "average_finance": 0,
                  "average_office": 0.7040000000000001,
                  "average_entertainment": 7.064757928406149,
                  "average_game": 0,
                  "window_size": "(27, 29)",
                  "id": "AS14.32",
                  "day_after": 7,
                  "_deepnote_index_column": 1068
                },
                {
                  "total_calls": 2.333333333333333,
                  "total_sms": 0,
                  "average_com": 79.20470017868747,
                  "average_soc": 53.90449999999999,
                  "average_valence": 0.4166666666666667,
                  "average_arousal": -0.5555555555555556,
                  "average_finance": 0,
                  "average_office": 0.7040000000000001,
                  "average_entertainment": 6.410167923474371,
                  "average_game": 0,
                  "window_size": "(28, 30)",
                  "id": "AS14.32",
                  "day_after": 7.399999999999999,
                  "_deepnote_index_column": 1069
                },
                {
                  "total_calls": 0,
                  "total_sms": 0,
                  "average_com": 0,
                  "average_soc": 0,
                  "average_valence": 0.45434343434343455,
                  "average_arousal": -0.2642743221690591,
                  "average_finance": 0,
                  "average_office": 0,
                  "average_entertainment": 0,
                  "average_game": 0,
                  "window_size": "(1, 3)",
                  "id": "AS14.33",
                  "day_after": 7.48888888888889,
                  "_deepnote_index_column": 1070
                },
                {
                  "total_calls": 0,
                  "total_sms": 0,
                  "average_com": 0,
                  "average_soc": 0,
                  "average_valence": 0.45434343434343455,
                  "average_arousal": -0.2642743221690591,
                  "average_finance": 0,
                  "average_office": 0,
                  "average_entertainment": 0,
                  "average_game": 0,
                  "window_size": "(2, 4)",
                  "id": "AS14.33",
                  "day_after": 7.422222222222222,
                  "_deepnote_index_column": 1071
                },
                {
                  "total_calls": 3.333333333333333,
                  "total_sms": 0,
                  "average_com": 47.63900185676393,
                  "average_soc": 107.12848228343366,
                  "average_valence": 0.8444444444444444,
                  "average_arousal": -0.3555555555555555,
                  "average_finance": 0,
                  "average_office": 0,
                  "average_entertainment": 119.41828787878784,
                  "average_game": 0,
                  "window_size": "(3, 5)",
                  "id": "AS14.33",
                  "day_after": 6.933333333333334,
                  "_deepnote_index_column": 1072
                },
                {
                  "total_calls": 1.6666666666666667,
                  "total_sms": 0,
                  "average_com": 84.16189202279203,
                  "average_soc": 110.20308555755418,
                  "average_valence": 1.0666666666666669,
                  "average_arousal": -0.4666666666666666,
                  "average_finance": 0,
                  "average_office": 0,
                  "average_entertainment": 151.6462323232323,
                  "average_game": 0,
                  "window_size": "(4, 6)",
                  "id": "AS14.33",
                  "day_after": 6.2,
                  "_deepnote_index_column": 1073
                },
                {
                  "total_calls": 1,
                  "total_sms": 0,
                  "average_com": 96.10237897931376,
                  "average_soc": 111.58695305859716,
                  "average_valence": 1,
                  "average_arousal": -0.2666666666666666,
                  "average_finance": 0,
                  "average_office": 0,
                  "average_entertainment": 170.01959595959593,
                  "average_game": 0,
                  "window_size": "(5, 7)",
                  "id": "AS14.33",
                  "day_after": 6.133333333333334,
                  "_deepnote_index_column": 1074
                },
                {
                  "total_calls": 0,
                  "total_sms": 0,
                  "average_com": 93.66284284877764,
                  "average_soc": 122.87471542756988,
                  "average_valence": 0.9333333333333336,
                  "average_arousal": 0,
                  "average_finance": 0,
                  "average_office": 0,
                  "average_entertainment": 119.6492027972028,
                  "average_game": 0,
                  "window_size": "(6, 8)",
                  "id": "AS14.33",
                  "day_after": 6.866666666666667,
                  "_deepnote_index_column": 1075
                },
                {
                  "total_calls": 3,
                  "total_sms": 0,
                  "average_com": 60.048709250894014,
                  "average_soc": 107.95876619385342,
                  "average_valence": 0.5333333333333333,
                  "average_arousal": -0.1999999999999999,
                  "average_finance": 0,
                  "average_office": 0,
                  "average_entertainment": 114.71064724164724,
                  "average_game": 0,
                  "window_size": "(7, 9)",
                  "id": "AS14.33",
                  "day_after": 7.666666666666667,
                  "_deepnote_index_column": 1076
                },
                {
                  "total_calls": 3.333333333333333,
                  "total_sms": 0,
                  "average_com": 46.9365482202982,
                  "average_soc": 128.25428496732027,
                  "average_valence": -0.0666666666666666,
                  "average_arousal": -0.2666666666666666,
                  "average_finance": 0,
                  "average_office": 0,
                  "average_entertainment": 113.1339401709402,
                  "average_game": 0,
                  "window_size": "(8, 10)",
                  "id": "AS14.33",
                  "day_after": 7.399999999999999,
                  "_deepnote_index_column": 1077
                },
                {
                  "total_calls": 5,
                  "total_sms": 1.6666666666666667,
                  "average_com": 43.36221362433861,
                  "average_soc": 104.17957892867294,
                  "average_valence": 0.0666666666666667,
                  "average_arousal": -0.35,
                  "average_finance": 0,
                  "average_office": 0,
                  "average_entertainment": 117.17462962962964,
                  "average_game": 0,
                  "window_size": "(9, 11)",
                  "id": "AS14.33",
                  "day_after": 6.849999999999999,
                  "_deepnote_index_column": 1078
                },
                {
                  "total_calls": 12.333333333333334,
                  "total_sms": 2.333333333333333,
                  "average_com": 37.30204619779352,
                  "average_soc": 88.6500101672886,
                  "average_valence": 0.2937037037037037,
                  "average_arousal": 0.1166666666666666,
                  "average_finance": 0,
                  "average_office": 0,
                  "average_entertainment": 118.28943518518518,
                  "average_game": 0,
                  "window_size": "(10, 12)",
                  "id": "AS14.33",
                  "day_after": 6.383333333333333,
                  "_deepnote_index_column": 1079
                },
                {
                  "total_calls": 18,
                  "total_sms": 2.333333333333333,
                  "average_com": 37.11002936277669,
                  "average_soc": 58.85944523639819,
                  "average_valence": 0.8270370370370371,
                  "average_arousal": 0.3166666666666667,
                  "average_finance": 0,
                  "average_office": 0,
                  "average_entertainment": 98.7267685185185,
                  "average_game": 0,
                  "window_size": "(11, 13)",
                  "id": "AS14.33",
                  "day_after": 6.45,
                  "_deepnote_index_column": 1080
                },
                {
                  "total_calls": 17.666666666666668,
                  "total_sms": 0.6666666666666666,
                  "average_com": 41.17894602944335,
                  "average_soc": 77.30175956284153,
                  "average_valence": 0.6270370370370371,
                  "average_arousal": 0,
                  "average_finance": 0,
                  "average_office": 0,
                  "average_entertainment": 120.36151262626264,
                  "average_game": 0,
                  "window_size": "(12, 14)",
                  "id": "AS14.33",
                  "day_after": 6.7,
                  "_deepnote_index_column": 1081
                },
                {
                  "total_calls": 8,
                  "total_sms": 1.6666666666666667,
                  "average_com": 55.250809343434334,
                  "average_soc": 85.60576387978142,
                  "average_valence": 0.7166666666666668,
                  "average_arousal": -0.6833333333333332,
                  "average_finance": 0,
                  "average_office": 0,
                  "average_entertainment": 127.57598484848488,
                  "average_game": 0,
                  "window_size": "(13, 15)",
                  "id": "AS14.33",
                  "day_after": 6.675,
                  "_deepnote_index_column": 1082
                },
                {
                  "total_calls": 3,
                  "total_sms": 1.6666666666666667,
                  "average_com": 57.70983964646464,
                  "average_soc": 95.695154662065,
                  "average_valence": 0.5166666666666667,
                  "average_arousal": -0.95,
                  "average_finance": 0,
                  "average_office": 0,
                  "average_entertainment": 124.44933527583532,
                  "average_game": 0,
                  "window_size": "(14, 16)",
                  "id": "AS14.33",
                  "day_after": 6.741666666666666,
                  "_deepnote_index_column": 1083
                },
                {
                  "total_calls": 2,
                  "total_sms": 1.6666666666666667,
                  "average_com": 47.9245582137161,
                  "average_soc": 82.713096374269,
                  "average_valence": 0.5437037037037038,
                  "average_arousal": -0.8833333333333334,
                  "average_finance": 0,
                  "average_office": 0,
                  "average_entertainment": 123.98073931623932,
                  "average_game": 0,
                  "window_size": "(15, 17)",
                  "id": "AS14.33",
                  "day_after": 5.841666666666666,
                  "_deepnote_index_column": 1084
                },
                {
                  "total_calls": 5,
                  "total_sms": 0,
                  "average_com": 37.245796850079735,
                  "average_soc": 84.02676884340481,
                  "average_valence": 0.6270370370370371,
                  "average_arousal": -0.4666666666666668,
                  "average_finance": 0,
                  "average_office": 0,
                  "average_entertainment": 87.09632012432012,
                  "average_game": 0,
                  "window_size": "(16, 18)",
                  "id": "AS14.33",
                  "day_after": 6.333333333333332,
                  "_deepnote_index_column": 1085
                },
                {
                  "total_calls": 4.333333333333333,
                  "total_sms": 0,
                  "average_com": 27.10952412280701,
                  "average_soc": 101.28391358024692,
                  "average_valence": 0.3270370370370371,
                  "average_arousal": -0.4166666666666668,
                  "average_finance": 0,
                  "average_office": 0,
                  "average_entertainment": 96.35158080808078,
                  "average_game": 0,
                  "window_size": "(17, 19)",
                  "id": "AS14.33",
                  "day_after": 6.133333333333333,
                  "_deepnote_index_column": 1086
                },
                {
                  "total_calls": 4,
                  "total_sms": 0,
                  "average_com": 36.36245277777777,
                  "average_soc": 121.92839018843404,
                  "average_valence": 0.3000000000000001,
                  "average_arousal": -0.3500000000000001,
                  "average_finance": 0,
                  "average_office": 0,
                  "average_entertainment": 75.11573358585856,
                  "average_game": 0,
                  "window_size": "(18, 20)",
                  "id": "AS14.33",
                  "day_after": 6.533333333333332,
                  "_deepnote_index_column": 1087
                },
                {
                  "total_calls": 0.3333333333333333,
                  "total_sms": 0,
                  "average_com": 44.05933535353534,
                  "average_soc": 149.69846271929825,
                  "average_valence": -0.0999999999999999,
                  "average_arousal": -0.2833333333333334,
                  "average_finance": 0,
                  "average_office": 0,
                  "average_entertainment": 84.61655176767675,
                  "average_game": 0,
                  "window_size": "(19, 21)",
                  "id": "AS14.33",
                  "day_after": 5.666666666666667,
                  "_deepnote_index_column": 1088
                },
                {
                  "total_calls": 0,
                  "total_sms": 0,
                  "average_com": 47.72519646464645,
                  "average_soc": 120.741117481203,
                  "average_valence": 0.4000000000000001,
                  "average_arousal": -0.3333333333333335,
                  "average_finance": 0,
                  "average_office": 0,
                  "average_entertainment": 75.73123695286195,
                  "average_game": 0,
                  "window_size": "(20, 22)",
                  "id": "AS14.33",
                  "day_after": 5.944444444444444,
                  "_deepnote_index_column": 1089
                },
                {
                  "total_calls": 0,
                  "total_sms": 0,
                  "average_com": 38.708690115440106,
                  "average_soc": 104.36207362155388,
                  "average_valence": 0.4000000000000001,
                  "average_arousal": -0.0666666666666667,
                  "average_finance": 0,
                  "average_office": 2.012,
                  "average_entertainment": 57.01922306397305,
                  "average_game": 0,
                  "window_size": "(21, 23)",
                  "id": "AS14.33",
                  "day_after": 5.944444444444444,
                  "_deepnote_index_column": 1090
                },
                {
                  "total_calls": 4.333333333333333,
                  "total_sms": 0,
                  "average_com": 41.72626587301587,
                  "average_soc": 83.94604782790309,
                  "average_valence": 0.6333333333333334,
                  "average_arousal": -0.3833333333333334,
                  "average_finance": 0,
                  "average_office": 2.012,
                  "average_entertainment": 52.08093518518518,
                  "average_game": 0,
                  "window_size": "(22, 24)",
                  "id": "AS14.33",
                  "day_after": 6.611111111111111,
                  "_deepnote_index_column": 1091
                },
                {
                  "total_calls": 4.333333333333333,
                  "total_sms": 0,
                  "average_com": 74.8054588159588,
                  "average_soc": 91.98945689578557,
                  "average_valence": 0.3,
                  "average_arousal": -0.0833333333333334,
                  "average_finance": 0,
                  "average_office": 2.012,
                  "average_entertainment": 63.94427777777778,
                  "average_game": 0,
                  "window_size": "(23, 25)",
                  "id": "AS14.33",
                  "day_after": 6.333333333333333,
                  "_deepnote_index_column": 1092
                },
                {
                  "total_calls": 4.333333333333333,
                  "total_sms": 0,
                  "average_com": 71.73027627627626,
                  "average_soc": 129.16556009495994,
                  "average_valence": 0.327037037037037,
                  "average_arousal": -0.1944444444444445,
                  "average_finance": 0,
                  "average_office": 0,
                  "average_entertainment": 99.57716666666666,
                  "average_game": 0,
                  "window_size": "(24, 26)",
                  "id": "AS14.33",
                  "day_after": 6.333333333333333,
                  "_deepnote_index_column": 1093
                },
                {
                  "total_calls": 2.6666666666666665,
                  "total_sms": 0,
                  "average_com": 63.48142294294291,
                  "average_soc": 124.9685579474343,
                  "average_valence": 0.3207407407407407,
                  "average_arousal": 0.0555555555555554,
                  "average_finance": 0,
                  "average_office": 0,
                  "average_entertainment": 94.3109019607843,
                  "average_game": 0,
                  "window_size": "(25, 27)",
                  "id": "AS14.33",
                  "day_after": 6.066666666666666,
                  "_deepnote_index_column": 1094
                },
                {
                  "total_calls": 6.333333333333333,
                  "total_sms": 0,
                  "average_com": 38.249215042735024,
                  "average_soc": 123.86029899569586,
                  "average_valence": 0.4811111111111111,
                  "average_arousal": 0.0222222222222221,
                  "average_finance": 0,
                  "average_office": 0,
                  "average_entertainment": 75.81893767507002,
                  "average_game": 0,
                  "window_size": "(26, 28)",
                  "id": "AS14.33",
                  "day_after": 6.15,
                  "_deepnote_index_column": 1095
                },
                {
                  "total_calls": 6.333333333333333,
                  "total_sms": 0,
                  "average_com": 38.8345928205128,
                  "average_soc": 79.22640193687232,
                  "average_valence": 0.4811111111111111,
                  "average_arousal": 0.2166666666666665,
                  "average_finance": 0,
                  "average_office": 0,
                  "average_entertainment": 46.6468728602552,
                  "average_game": 0,
                  "window_size": "(27, 29)",
                  "id": "AS14.33",
                  "day_after": 6.15,
                  "_deepnote_index_column": 1096
                },
                {
                  "total_calls": 3.6666666666666665,
                  "total_sms": 0,
                  "average_com": 52.042890598290576,
                  "average_soc": 90.91599323421316,
                  "average_valence": 0.3874074074074074,
                  "average_arousal": 0.0166666666666665,
                  "average_finance": 0,
                  "average_office": 0,
                  "average_entertainment": 53.21719312169311,
                  "average_game": 0,
                  "window_size": "(28, 30)",
                  "id": "AS14.33",
                  "day_after": 6,
                  "_deepnote_index_column": 1097
                },
                {
                  "total_calls": 0,
                  "total_sms": 0,
                  "average_com": 49.20813535353534,
                  "average_soc": 110.20161143308746,
                  "average_valence": 0.2937037037037037,
                  "average_arousal": -0.1833333333333334,
                  "average_finance": 0,
                  "average_office": 0,
                  "average_entertainment": 73.1434074074074,
                  "average_game": 0,
                  "window_size": "(29, 31)",
                  "id": "AS14.33",
                  "day_after": 5.861111111111111,
                  "_deepnote_index_column": 1098
                },
                {
                  "total_calls": 0,
                  "total_sms": 0,
                  "average_com": 71.81416498316496,
                  "average_soc": 132.92916773939376,
                  "average_valence": 0.3,
                  "average_arousal": -0.4333333333333334,
                  "average_finance": 0,
                  "average_office": 0,
                  "average_entertainment": 100.50368888888887,
                  "average_game": 0,
                  "window_size": "(30, 32)",
                  "id": "AS14.33",
                  "day_after": 5.9944444444444445,
                  "_deepnote_index_column": 1099
                },
                {
                  "total_calls": 0,
                  "total_sms": 0,
                  "average_com": 66.43648976948975,
                  "average_soc": 134.01073604989605,
                  "average_valence": 0.3937037037037037,
                  "average_arousal": -0.4555555555555556,
                  "average_finance": 0,
                  "average_office": 0,
                  "average_entertainment": 103.11706666666667,
                  "average_game": 0,
                  "window_size": "(31, 33)",
                  "id": "AS14.33",
                  "day_after": 6.161111111111111,
                  "_deepnote_index_column": 1100
                },
                {
                  "total_calls": 2.6666666666666665,
                  "total_sms": 0,
                  "average_com": 70.54282743182742,
                  "average_soc": 109.7429616216216,
                  "average_valence": 0.4103703703703704,
                  "average_arousal": -0.2222222222222223,
                  "average_finance": 0,
                  "average_office": 0,
                  "average_entertainment": 97.5105111111111,
                  "average_game": 0,
                  "window_size": "(32, 34)",
                  "id": "AS14.33",
                  "day_after": 6.016666666666666,
                  "_deepnote_index_column": 1101
                },
                {
                  "total_calls": 2.6666666666666665,
                  "total_sms": 0,
                  "average_com": 50.83106143856142,
                  "average_soc": 123.08988763854764,
                  "average_valence": 0.2437037037037037,
                  "average_arousal": -0.3333333333333335,
                  "average_finance": 0,
                  "average_office": 0,
                  "average_entertainment": 139.60437777777776,
                  "average_game": 0,
                  "window_size": "(33, 35)",
                  "id": "AS14.33",
                  "day_after": 5.949999999999999,
                  "_deepnote_index_column": 1102
                },
                {
                  "total_calls": 2.6666666666666665,
                  "total_sms": 0,
                  "average_com": 41.53772430655763,
                  "average_soc": 118.3351891479816,
                  "average_valence": 0.2437037037037037,
                  "average_arousal": -0.2105263157894738,
                  "average_finance": 0,
                  "average_office": 0,
                  "average_entertainment": 142.80723015873014,
                  "average_game": 0,
                  "window_size": "(34, 36)",
                  "id": "AS14.33",
                  "day_after": 6.599999999999999,
                  "_deepnote_index_column": 1103
                },
                {
                  "total_calls": 1,
                  "total_sms": 2.6666666666666665,
                  "average_com": 38.00225129068461,
                  "average_soc": 116.10536060515308,
                  "average_valence": 0.3207407407407407,
                  "average_arousal": -0.6271929824561405,
                  "average_finance": 0,
                  "average_office": 0,
                  "average_entertainment": 134.3340079365079,
                  "average_game": 0,
                  "window_size": "(35, 37)",
                  "id": "AS14.33",
                  "day_after": 7.133333333333333,
                  "_deepnote_index_column": 1104
                }
              ]
            },
            "text/plain": "      total_calls  total_sms  average_com  average_soc  average_valence  \\\n0        2.000000   0.000000    35.597530    37.259222         0.549550   \n1        2.000000   0.000000    53.411540    53.941426         0.566216   \n2        0.000000   0.000000    50.893593    53.883553         0.499550   \n3        0.000000   0.000000    56.807075    64.522398         0.433333   \n4        0.000000   0.000000    54.680243    89.210095         0.366667   \n...           ...        ...          ...          ...              ...   \n1100     0.000000   0.000000    66.436490   134.010736         0.393704   \n1101     2.666667   0.000000    70.542827   109.742962         0.410370   \n1102     2.666667   0.000000    50.831061   123.089888         0.243704   \n1103     2.666667   0.000000    41.537724   118.335189         0.243704   \n1104     1.000000   2.666667    38.002251   116.105361         0.320741   \n\n      average_arousal  average_finance  average_office  average_entertainment  \\\n0            0.183333         4.406111       19.134000              33.228667   \n1            0.333333         8.023028       19.134000              43.711556   \n2            0.533333         7.853472        1.003333              66.744014   \n3            0.500000         9.099528        1.003333              62.557681   \n4            0.366667         8.389889        1.003333              95.430935   \n...               ...              ...             ...                    ...   \n1100        -0.455556         0.000000        0.000000             103.117067   \n1101        -0.222222         0.000000        0.000000              97.510511   \n1102        -0.333333         0.000000        0.000000             139.604378   \n1103        -0.210526         0.000000        0.000000             142.807230   \n1104        -0.627193         0.000000        0.000000             134.334008   \n\n      average_game window_size       id  day_after  \n0              0.0      (3, 5)  AS14.01   6.450000  \n1              0.0      (4, 6)  AS14.01   6.783333  \n2              0.0      (5, 7)  AS14.01   6.666667  \n3              0.0      (6, 8)  AS14.01   7.133333  \n4              0.0      (7, 9)  AS14.01   7.300000  \n...            ...         ...      ...        ...  \n1100           0.0    (31, 33)  AS14.33   6.161111  \n1101           0.0    (32, 34)  AS14.33   6.016667  \n1102           0.0    (33, 35)  AS14.33   5.950000  \n1103           0.0    (34, 36)  AS14.33   6.600000  \n1104           0.0    (35, 37)  AS14.33   7.133333  \n\n[1105 rows x 13 columns]",
            "text/html": "<div>\n<style scoped>\n    .dataframe tbody tr th:only-of-type {\n        vertical-align: middle;\n    }\n\n    .dataframe tbody tr th {\n        vertical-align: top;\n    }\n\n    .dataframe thead th {\n        text-align: right;\n    }\n</style>\n<table border=\"1\" class=\"dataframe\">\n  <thead>\n    <tr style=\"text-align: right;\">\n      <th></th>\n      <th>total_calls</th>\n      <th>total_sms</th>\n      <th>average_com</th>\n      <th>average_soc</th>\n      <th>average_valence</th>\n      <th>average_arousal</th>\n      <th>average_finance</th>\n      <th>average_office</th>\n      <th>average_entertainment</th>\n      <th>average_game</th>\n      <th>window_size</th>\n      <th>id</th>\n      <th>day_after</th>\n    </tr>\n  </thead>\n  <tbody>\n    <tr>\n      <th>0</th>\n      <td>2.000000</td>\n      <td>0.000000</td>\n      <td>35.597530</td>\n      <td>37.259222</td>\n      <td>0.549550</td>\n      <td>0.183333</td>\n      <td>4.406111</td>\n      <td>19.134000</td>\n      <td>33.228667</td>\n      <td>0.0</td>\n      <td>(3, 5)</td>\n      <td>AS14.01</td>\n      <td>6.450000</td>\n    </tr>\n    <tr>\n      <th>1</th>\n      <td>2.000000</td>\n      <td>0.000000</td>\n      <td>53.411540</td>\n      <td>53.941426</td>\n      <td>0.566216</td>\n      <td>0.333333</td>\n      <td>8.023028</td>\n      <td>19.134000</td>\n      <td>43.711556</td>\n      <td>0.0</td>\n      <td>(4, 6)</td>\n      <td>AS14.01</td>\n      <td>6.783333</td>\n    </tr>\n    <tr>\n      <th>2</th>\n      <td>0.000000</td>\n      <td>0.000000</td>\n      <td>50.893593</td>\n      <td>53.883553</td>\n      <td>0.499550</td>\n      <td>0.533333</td>\n      <td>7.853472</td>\n      <td>1.003333</td>\n      <td>66.744014</td>\n      <td>0.0</td>\n      <td>(5, 7)</td>\n      <td>AS14.01</td>\n      <td>6.666667</td>\n    </tr>\n    <tr>\n      <th>3</th>\n      <td>0.000000</td>\n      <td>0.000000</td>\n      <td>56.807075</td>\n      <td>64.522398</td>\n      <td>0.433333</td>\n      <td>0.500000</td>\n      <td>9.099528</td>\n      <td>1.003333</td>\n      <td>62.557681</td>\n      <td>0.0</td>\n      <td>(6, 8)</td>\n      <td>AS14.01</td>\n      <td>7.133333</td>\n    </tr>\n    <tr>\n      <th>4</th>\n      <td>0.000000</td>\n      <td>0.000000</td>\n      <td>54.680243</td>\n      <td>89.210095</td>\n      <td>0.366667</td>\n      <td>0.366667</td>\n      <td>8.389889</td>\n      <td>1.003333</td>\n      <td>95.430935</td>\n      <td>0.0</td>\n      <td>(7, 9)</td>\n      <td>AS14.01</td>\n      <td>7.300000</td>\n    </tr>\n    <tr>\n      <th>...</th>\n      <td>...</td>\n      <td>...</td>\n      <td>...</td>\n      <td>...</td>\n      <td>...</td>\n      <td>...</td>\n      <td>...</td>\n      <td>...</td>\n      <td>...</td>\n      <td>...</td>\n      <td>...</td>\n      <td>...</td>\n      <td>...</td>\n    </tr>\n    <tr>\n      <th>1100</th>\n      <td>0.000000</td>\n      <td>0.000000</td>\n      <td>66.436490</td>\n      <td>134.010736</td>\n      <td>0.393704</td>\n      <td>-0.455556</td>\n      <td>0.000000</td>\n      <td>0.000000</td>\n      <td>103.117067</td>\n      <td>0.0</td>\n      <td>(31, 33)</td>\n      <td>AS14.33</td>\n      <td>6.161111</td>\n    </tr>\n    <tr>\n      <th>1101</th>\n      <td>2.666667</td>\n      <td>0.000000</td>\n      <td>70.542827</td>\n      <td>109.742962</td>\n      <td>0.410370</td>\n      <td>-0.222222</td>\n      <td>0.000000</td>\n      <td>0.000000</td>\n      <td>97.510511</td>\n      <td>0.0</td>\n      <td>(32, 34)</td>\n      <td>AS14.33</td>\n      <td>6.016667</td>\n    </tr>\n    <tr>\n      <th>1102</th>\n      <td>2.666667</td>\n      <td>0.000000</td>\n      <td>50.831061</td>\n      <td>123.089888</td>\n      <td>0.243704</td>\n      <td>-0.333333</td>\n      <td>0.000000</td>\n      <td>0.000000</td>\n      <td>139.604378</td>\n      <td>0.0</td>\n      <td>(33, 35)</td>\n      <td>AS14.33</td>\n      <td>5.950000</td>\n    </tr>\n    <tr>\n      <th>1103</th>\n      <td>2.666667</td>\n      <td>0.000000</td>\n      <td>41.537724</td>\n      <td>118.335189</td>\n      <td>0.243704</td>\n      <td>-0.210526</td>\n      <td>0.000000</td>\n      <td>0.000000</td>\n      <td>142.807230</td>\n      <td>0.0</td>\n      <td>(34, 36)</td>\n      <td>AS14.33</td>\n      <td>6.600000</td>\n    </tr>\n    <tr>\n      <th>1104</th>\n      <td>1.000000</td>\n      <td>2.666667</td>\n      <td>38.002251</td>\n      <td>116.105361</td>\n      <td>0.320741</td>\n      <td>-0.627193</td>\n      <td>0.000000</td>\n      <td>0.000000</td>\n      <td>134.334008</td>\n      <td>0.0</td>\n      <td>(35, 37)</td>\n      <td>AS14.33</td>\n      <td>7.133333</td>\n    </tr>\n  </tbody>\n</table>\n<p>1105 rows × 13 columns</p>\n</div>"
          },
          "metadata": {}
        }
      ]
    },
    {
      "cell_type": "code",
      "metadata": {
        "tags": [],
        "cell_id": "00017-039c1df9-b227-4eb5-b938-2facd8c9c21f",
        "deepnote_to_be_reexecuted": false,
        "source_hash": "c7112169",
        "execution_millis": 2,
        "execution_start": 1617877090201,
        "deepnote_cell_type": "code"
      },
      "source": "corr_ = dfp.corr()",
      "execution_count": null,
      "outputs": []
    },
    {
      "cell_type": "code",
      "metadata": {
        "tags": [],
        "cell_id": "00018-b3293e86-f0ee-4eb8-ba13-6a343fee887e",
        "deepnote_to_be_reexecuted": false,
        "source_hash": "d25ca5b9",
        "execution_millis": 484,
        "execution_start": 1617877091383,
        "deepnote_cell_type": "code"
      },
      "source": "try:\n    plt.figure(figsize=(12,10))\n    sns.heatmap(corr_, # annot=True, # Annotations will take an incredibly long time... better to leave them off\n    cmap=plt.cm.Reds)\n    plt.show()\nexcept Exception as exc:\n    print(f\"While working without supervision...\\nEncountered {exc}\")",
      "execution_count": null,
      "outputs": [
        {
          "data": {
            "text/plain": "<Figure size 864x720 with 2 Axes>",
            "image/png": "[encoded data removed]"
          },
          "metadata": {
            "needs_background": "light"
          },
          "output_type": "display_data"
        }
      ]
    },
    {
      "cell_type": "code",
      "metadata": {
        "tags": [],
        "cell_id": "00019-8a412ccf-209e-408d-926d-806d9e9da991",
        "deepnote_cell_type": "code"
      },
      "source": "",
      "execution_count": null,
      "outputs": []
    },
    {
      "cell_type": "markdown",
      "source": "<a style='text-decoration:none;line-height:16px;display:flex;color:#5B5B62;padding:10px;justify-content:end;' href='https://deepnote.com?utm_source=created-in-deepnote-cell&projectId=d79defa5-2359-4699-82dc-d6bf5eddd7a7' target=\"_blank\">\n<img alt='Created in deepnote.com' style='display:inline;max-height:16px;margin:0px;margin-right:7.5px;' src='data:image/svg+xml;base64,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' > </img>\nCreated in <span style='font-weight:600;margin-left:4px;'>Deepnote</span></a>",
      "metadata": {
        "tags": [],
        "created_in_deepnote_cell": true,
        "deepnote_cell_type": "markdown"
      }
    }
  ],
  "nbformat": 4,
  "nbformat_minor": 2,
  "metadata": {
    "orig_nbformat": 2,
    "deepnote": {
      "is_reactive": false
    },
    "deepnote_notebook_id": "b2ab4283-1872-4706-af81-7a88901ba267",
    "deepnote_execution_queue": []
  }
}